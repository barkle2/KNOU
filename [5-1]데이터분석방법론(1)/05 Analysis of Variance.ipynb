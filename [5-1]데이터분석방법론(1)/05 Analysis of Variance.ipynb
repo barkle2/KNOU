{
 "cells": [
  {
   "cell_type": "markdown",
   "metadata": {
    "vscode": {
     "languageId": "r"
    }
   },
   "source": [
    "# 05 Analysis of Variance\n",
    "\n",
    "## 01 One-way analysis of variance\n",
    "\n",
    "### 1. Data Structure\n",
    "\n",
    "|그룹|1|…|i|…|k|\n",
    "|:-:|:-:|:-:|:-:|:-:|:-:|\n",
    "|1|<img src=\"https://latex.codecogs.com/svg.image?&space;x_{11}\">||<img src=\"https://latex.codecogs.com/svg.image?&space;x_{i1}\">||<img src=\"https://latex.codecogs.com/svg.image?&space;x_{k1}\">|\n",
    "|…||||||\n",
    "|j|<img src=\"https://latex.codecogs.com/svg.image?&space;x_{1j}\">||<img src=\"https://latex.codecogs.com/svg.image?&space;x_{ij}\">||<img src=\"https://latex.codecogs.com/svg.image?&space;x_{kj}\">|\n",
    "|…||||||\n",
    "|n|<img src=\"https://latex.codecogs.com/svg.image?&space;x_{1n}\">||<img src=\"https://latex.codecogs.com/svg.image?&space;x_{in}\">||<img src=\"https://latex.codecogs.com/svg.image?&space;x_{kn}\">|\n",
    "|평균|<img src=\"https://latex.codecogs.com/svg.image?&space;\\bar x_{1}\">||<img src=\"https://latex.codecogs.com/svg.image?&space;\\bar x_{i}\">||<img src=\"https://latex.codecogs.com/svg.image?&space;\\bar x_{k}\">|\n",
    "\n",
    "- Let <img src=\"https://latex.codecogs.com/svg.image?&space;x_{ij}\"> denote observation no.j in group i\n",
    "  - so that <img src=\"https://latex.codecogs.com/svg.image?&space;\\bar x_{35}\"> is the fifth observation in group 3\n",
    "  - <img src=\"https://latex.codecogs.com/svg.image?&space;\\bar x_{i}\"> is the mean for group i and <img src=\"https://latex.codecogs.com/svg.image?&space;\\bar x\"> is the grand mean(average of all observations).\n",
    "\n",
    "- Decompose <img src=\"https://latex.codecogs.com/svg.image?x_{ij}-\\bar{x}=(x_{ij}-\\bar{x_i})&plus;(\\bar{x_i}-\\bar{x})\">\n",
    "- Model <img src=\"https://latex.codecogs.com/svg.image?X_{ij}=\\mu&plus;\\alpha_i&plus;\\epsilon_{ij},\\;\\;\\;\\epsilon_{ij}\\sim&space;N(0,\\sigma^2)\">"
   ]
  },
  {
   "cell_type": "markdown",
   "metadata": {},
   "source": [
    "### 2. Decomposition of Variation\n",
    "\n",
    "Now consider the sums of squares of the underbraced terms, known as *variation within groups*\n",
    "\n",
    "<center>\n",
    "<img src=\"https://latex.codecogs.com/svg.image?SSD_W=\\sum_{i}\\sum_{j}(x_{ij}-\\bar{x_i})^2\">\n",
    "</center>\n",
    "\n",
    "and *variation between groups*\n",
    "\n",
    "<center>\n",
    "<img src=\"https://latex.codecogs.com/svg.image?SSD_B=\\sum_{i}\\sum_{j}(x_{i}-\\bar{x})^2=\\sum_{i}n_i(x_{i}-\\bar{x})^2\">\n",
    "</center>\n",
    "\n",
    "It is possible to prove that\n",
    "\n",
    "<center>\n",
    "<img src=\"https://latex.codecogs.com/svg.image?SSD_B&plus;SSD_W=SSD_{total}=\\sum_{i}\\sum_{j}(x_{ij}-\\bar{x})^2\">\n",
    "</center>\n"
   ]
  },
  {
   "cell_type": "markdown",
   "metadata": {},
   "source": [
    "### 3. ANOVA table and test\n",
    "\n",
    "- 분산분석표(Analysis of Variance Table)\n",
    "\n",
    "|요인|제곱합|자유도|평균제곱|F값|\n",
    "|:-:|:-:|:-:|:-:|:-:|\n",
    "|그룹간|<img src=\"https://latex.codecogs.com/svg.image?SSD_B\">|k-1|<img src=\"https://latex.codecogs.com/svg.image?MS_B\">|<img src=\"https://latex.codecogs.com/svg.image?MS_B/MS_W\">|\n",
    "|그룹내|<img src=\"https://latex.codecogs.com/svg.image?SSD_W\">|N-K|<img src=\"https://latex.codecogs.com/svg.image?MS_W\">||\n",
    "|합|<img src=\"https://latex.codecogs.com/svg.image?SSD_{total}\">|N-1|||\n",
    "\n",
    "- 검정 <img src=\"https://latex.codecogs.com/svg.image?&space;H_0:\\alpha_1=\\alpha_2=\\cdots=\\alpha_k\\;\\;vs\\;\\;H_1:\\;not\\;H_0\">\n",
    "- 검정통계량 <img src=\"https://latex.codecogs.com/svg.image?F_0=MS_B/MS_W\\sim&space;F_{k-1,N-k}\">"
   ]
  },
  {
   "cell_type": "code",
   "execution_count": 5,
   "metadata": {
    "vscode": {
     "languageId": "r"
    }
   },
   "outputs": [
    {
     "data": {
      "text/html": [
       "<table class=\"dataframe\">\n",
       "<caption>A data.frame: 2 × 2</caption>\n",
       "<thead>\n",
       "\t<tr><th></th><th scope=col>folate</th><th scope=col>ventilation</th></tr>\n",
       "\t<tr><th></th><th scope=col>&lt;dbl&gt;</th><th scope=col>&lt;fct&gt;</th></tr>\n",
       "</thead>\n",
       "<tbody>\n",
       "\t<tr><th scope=row>1</th><td>243</td><td>N2O+O2,24h</td></tr>\n",
       "\t<tr><th scope=row>2</th><td>251</td><td>N2O+O2,24h</td></tr>\n",
       "</tbody>\n",
       "</table>\n"
      ],
      "text/latex": [
       "A data.frame: 2 × 2\n",
       "\\begin{tabular}{r|ll}\n",
       "  & folate & ventilation\\\\\n",
       "  & <dbl> & <fct>\\\\\n",
       "\\hline\n",
       "\t1 & 243 & N2O+O2,24h\\\\\n",
       "\t2 & 251 & N2O+O2,24h\\\\\n",
       "\\end{tabular}\n"
      ],
      "text/markdown": [
       "\n",
       "A data.frame: 2 × 2\n",
       "\n",
       "| <!--/--> | folate &lt;dbl&gt; | ventilation &lt;fct&gt; |\n",
       "|---|---|---|\n",
       "| 1 | 243 | N2O+O2,24h |\n",
       "| 2 | 251 | N2O+O2,24h |\n",
       "\n"
      ],
      "text/plain": [
       "  folate ventilation\n",
       "1 243    N2O+O2,24h \n",
       "2 251    N2O+O2,24h "
      ]
     },
     "metadata": {},
     "output_type": "display_data"
    },
    {
     "name": "stderr",
     "output_type": "stream",
     "text": [
      "The following objects are masked from red.cell.folate (pos = 3):\n",
      "\n",
      "    folate, ventilation\n",
      "\n",
      "\n"
     ]
    },
    {
     "data": {
      "text/plain": [
       "     folate          ventilation\n",
       " Min.   :206.0   N2O+O2,24h:8   \n",
       " 1st Qu.:249.5   N2O+O2,op :9   \n",
       " Median :274.0   O2,24h    :5   \n",
       " Mean   :283.2                  \n",
       " 3rd Qu.:305.5                  \n",
       " Max.   :392.0                  "
      ]
     },
     "metadata": {},
     "output_type": "display_data"
    },
    {
     "data": {
      "text/html": [
       "<table class=\"dataframe\">\n",
       "<caption>A anova: 2 × 5</caption>\n",
       "<thead>\n",
       "\t<tr><th></th><th scope=col>Df</th><th scope=col>Sum Sq</th><th scope=col>Mean Sq</th><th scope=col>F value</th><th scope=col>Pr(&gt;F)</th></tr>\n",
       "\t<tr><th></th><th scope=col>&lt;int&gt;</th><th scope=col>&lt;dbl&gt;</th><th scope=col>&lt;dbl&gt;</th><th scope=col>&lt;dbl&gt;</th><th scope=col>&lt;dbl&gt;</th></tr>\n",
       "</thead>\n",
       "<tbody>\n",
       "\t<tr><th scope=row>ventilation</th><td> 2</td><td>15515.77</td><td>7757.883</td><td>3.711336</td><td>0.04358933</td></tr>\n",
       "\t<tr><th scope=row>Residuals</th><td>19</td><td>39716.10</td><td>2090.321</td><td>      NA</td><td>        NA</td></tr>\n",
       "</tbody>\n",
       "</table>\n"
      ],
      "text/latex": [
       "A anova: 2 × 5\n",
       "\\begin{tabular}{r|lllll}\n",
       "  & Df & Sum Sq & Mean Sq & F value & Pr(>F)\\\\\n",
       "  & <int> & <dbl> & <dbl> & <dbl> & <dbl>\\\\\n",
       "\\hline\n",
       "\tventilation &  2 & 15515.77 & 7757.883 & 3.711336 & 0.04358933\\\\\n",
       "\tResiduals & 19 & 39716.10 & 2090.321 &       NA &         NA\\\\\n",
       "\\end{tabular}\n"
      ],
      "text/markdown": [
       "\n",
       "A anova: 2 × 5\n",
       "\n",
       "| <!--/--> | Df &lt;int&gt; | Sum Sq &lt;dbl&gt; | Mean Sq &lt;dbl&gt; | F value &lt;dbl&gt; | Pr(&gt;F) &lt;dbl&gt; |\n",
       "|---|---|---|---|---|---|\n",
       "| ventilation |  2 | 15515.77 | 7757.883 | 3.711336 | 0.04358933 |\n",
       "| Residuals | 19 | 39716.10 | 2090.321 |       NA |         NA |\n",
       "\n"
      ],
      "text/plain": [
       "            Df Sum Sq   Mean Sq  F value  Pr(>F)    \n",
       "ventilation  2 15515.77 7757.883 3.711336 0.04358933\n",
       "Residuals   19 39716.10 2090.321       NA         NA"
      ]
     },
     "metadata": {},
     "output_type": "display_data"
    }
   ],
   "source": [
    "library(ISwR)\n",
    "head(red.cell.folate,2)\n",
    "attach(red.cell.folate)\n",
    "summary(red.cell.folate)\n",
    "anova(lm(folate~ventilation))"
   ]
  },
  {
   "cell_type": "code",
   "execution_count": 8,
   "metadata": {
    "vscode": {
     "languageId": "r"
    }
   },
   "outputs": [
    {
     "data": {
      "text/html": [
       "<table class=\"dataframe\">\n",
       "<caption>A data.frame: 3 × 6</caption>\n",
       "<thead>\n",
       "\t<tr><th></th><th scope=col>age</th><th scope=col>menarche</th><th scope=col>sex</th><th scope=col>igf1</th><th scope=col>tanner</th><th scope=col>testvol</th></tr>\n",
       "\t<tr><th></th><th scope=col>&lt;dbl&gt;</th><th scope=col>&lt;int&gt;</th><th scope=col>&lt;dbl&gt;</th><th scope=col>&lt;dbl&gt;</th><th scope=col>&lt;int&gt;</th><th scope=col>&lt;int&gt;</th></tr>\n",
       "</thead>\n",
       "<tbody>\n",
       "\t<tr><th scope=row>6</th><td> 0.17</td><td>NA</td><td>1</td><td>101</td><td>1</td><td>NA</td></tr>\n",
       "\t<tr><th scope=row>350</th><td>13.20</td><td>NA</td><td>1</td><td> NA</td><td>2</td><td> 8</td></tr>\n",
       "\t<tr><th scope=row>450</th><td>16.09</td><td>NA</td><td>1</td><td>412</td><td>5</td><td>18</td></tr>\n",
       "</tbody>\n",
       "</table>\n"
      ],
      "text/latex": [
       "A data.frame: 3 × 6\n",
       "\\begin{tabular}{r|llllll}\n",
       "  & age & menarche & sex & igf1 & tanner & testvol\\\\\n",
       "  & <dbl> & <int> & <dbl> & <dbl> & <int> & <int>\\\\\n",
       "\\hline\n",
       "\t6 &  0.17 & NA & 1 & 101 & 1 & NA\\\\\n",
       "\t350 & 13.20 & NA & 1 &  NA & 2 &  8\\\\\n",
       "\t450 & 16.09 & NA & 1 & 412 & 5 & 18\\\\\n",
       "\\end{tabular}\n"
      ],
      "text/markdown": [
       "\n",
       "A data.frame: 3 × 6\n",
       "\n",
       "| <!--/--> | age &lt;dbl&gt; | menarche &lt;int&gt; | sex &lt;dbl&gt; | igf1 &lt;dbl&gt; | tanner &lt;int&gt; | testvol &lt;int&gt; |\n",
       "|---|---|---|---|---|---|---|\n",
       "| 6 |  0.17 | NA | 1 | 101 | 1 | NA |\n",
       "| 350 | 13.20 | NA | 1 |  NA | 2 |  8 |\n",
       "| 450 | 16.09 | NA | 1 | 412 | 5 | 18 |\n",
       "\n"
      ],
      "text/plain": [
       "    age   menarche sex igf1 tanner testvol\n",
       "6    0.17 NA       1   101  1      NA     \n",
       "350 13.20 NA       1    NA  2       8     \n",
       "450 16.09 NA       1   412  5      18     "
      ]
     },
     "metadata": {},
     "output_type": "display_data"
    },
    {
     "data": {
      "text/html": [
       "<table class=\"dataframe\">\n",
       "<caption>A anova: 2 × 5</caption>\n",
       "<thead>\n",
       "\t<tr><th></th><th scope=col>Df</th><th scope=col>Sum Sq</th><th scope=col>Mean Sq</th><th scope=col>F value</th><th scope=col>Pr(&gt;F)</th></tr>\n",
       "\t<tr><th></th><th scope=col>&lt;int&gt;</th><th scope=col>&lt;dbl&gt;</th><th scope=col>&lt;dbl&gt;</th><th scope=col>&lt;dbl&gt;</th><th scope=col>&lt;dbl&gt;</th></tr>\n",
       "</thead>\n",
       "<tbody>\n",
       "\t<tr><th scope=row>tanner</th><td>  1</td><td>10985605</td><td>10985604.60</td><td>686.0723</td><td>2.420587e-109</td></tr>\n",
       "\t<tr><th scope=row>Residuals</th><td>790</td><td>12649728</td><td>   16012.31</td><td>      NA</td><td>           NA</td></tr>\n",
       "</tbody>\n",
       "</table>\n"
      ],
      "text/latex": [
       "A anova: 2 × 5\n",
       "\\begin{tabular}{r|lllll}\n",
       "  & Df & Sum Sq & Mean Sq & F value & Pr(>F)\\\\\n",
       "  & <int> & <dbl> & <dbl> & <dbl> & <dbl>\\\\\n",
       "\\hline\n",
       "\ttanner &   1 & 10985605 & 10985604.60 & 686.0723 & 2.420587e-109\\\\\n",
       "\tResiduals & 790 & 12649728 &    16012.31 &       NA &            NA\\\\\n",
       "\\end{tabular}\n"
      ],
      "text/markdown": [
       "\n",
       "A anova: 2 × 5\n",
       "\n",
       "| <!--/--> | Df &lt;int&gt; | Sum Sq &lt;dbl&gt; | Mean Sq &lt;dbl&gt; | F value &lt;dbl&gt; | Pr(&gt;F) &lt;dbl&gt; |\n",
       "|---|---|---|---|---|---|\n",
       "| tanner |   1 | 10985605 | 10985604.60 | 686.0723 | 2.420587e-109 |\n",
       "| Residuals | 790 | 12649728 |    16012.31 |       NA |            NA |\n",
       "\n"
      ],
      "text/plain": [
       "          Df  Sum Sq   Mean Sq     F value  Pr(>F)       \n",
       "tanner      1 10985605 10985604.60 686.0723 2.420587e-109\n",
       "Residuals 790 12649728    16012.31       NA            NA"
      ]
     },
     "metadata": {},
     "output_type": "display_data"
    }
   ],
   "source": [
    "# (Recall) the data set \"juul\"\n",
    "juul[c(6,350,450),]\n",
    "anova(lm(igf1~tanner, data=juul))"
   ]
  },
  {
   "cell_type": "markdown",
   "metadata": {},
   "source": [
    "- Wrong!!! Since tanner is not a factor variable.\n",
    "- This does not describe a group of data but a linear regression on the group number.  \n",
    "Notive \"1 DF\" for the effect of tanner in the table."
   ]
  },
  {
   "cell_type": "code",
   "execution_count": 11,
   "metadata": {
    "vscode": {
     "languageId": "r"
    }
   },
   "outputs": [
    {
     "data": {
      "text/html": [
       "<style>\n",
       ".dl-inline {width: auto; margin:0; padding: 0}\n",
       ".dl-inline>dt, .dl-inline>dd {float: none; width: auto; display: inline-block}\n",
       ".dl-inline>dt::after {content: \":\\0020\"; padding-right: .5ex}\n",
       ".dl-inline>dt:not(:first-of-type) {padding-left: .5ex}\n",
       "</style><dl class=dl-inline><dt>I</dt><dd>515</dd><dt>II</dt><dd>103</dd><dt>III</dt><dd>72</dd><dt>IV</dt><dd>81</dd><dt>V</dt><dd>328</dd><dt>NA's</dt><dd>240</dd></dl>\n"
      ],
      "text/latex": [
       "\\begin{description*}\n",
       "\\item[I] 515\n",
       "\\item[II] 103\n",
       "\\item[III] 72\n",
       "\\item[IV] 81\n",
       "\\item[V] 328\n",
       "\\item[NA's] 240\n",
       "\\end{description*}\n"
      ],
      "text/markdown": [
       "I\n",
       ":   515II\n",
       ":   103III\n",
       ":   72IV\n",
       ":   81V\n",
       ":   328NA's\n",
       ":   240\n",
       "\n"
      ],
      "text/plain": [
       "   I   II  III   IV    V NA's \n",
       " 515  103   72   81  328  240 "
      ]
     },
     "metadata": {},
     "output_type": "display_data"
    },
    {
     "data": {
      "text/html": [
       "<table class=\"dataframe\">\n",
       "<caption>A anova: 2 × 5</caption>\n",
       "<thead>\n",
       "\t<tr><th></th><th scope=col>Df</th><th scope=col>Sum Sq</th><th scope=col>Mean Sq</th><th scope=col>F value</th><th scope=col>Pr(&gt;F)</th></tr>\n",
       "\t<tr><th></th><th scope=col>&lt;int&gt;</th><th scope=col>&lt;dbl&gt;</th><th scope=col>&lt;dbl&gt;</th><th scope=col>&lt;dbl&gt;</th><th scope=col>&lt;dbl&gt;</th></tr>\n",
       "</thead>\n",
       "<tbody>\n",
       "\t<tr><th scope=row>tanner</th><td>  4</td><td>12696217</td><td>3174054.15</td><td>228.3531</td><td>4.678213e-130</td></tr>\n",
       "\t<tr><th scope=row>Residuals</th><td>787</td><td>10939116</td><td>  13899.77</td><td>      NA</td><td>           NA</td></tr>\n",
       "</tbody>\n",
       "</table>\n"
      ],
      "text/latex": [
       "A anova: 2 × 5\n",
       "\\begin{tabular}{r|lllll}\n",
       "  & Df & Sum Sq & Mean Sq & F value & Pr(>F)\\\\\n",
       "  & <int> & <dbl> & <dbl> & <dbl> & <dbl>\\\\\n",
       "\\hline\n",
       "\ttanner &   4 & 12696217 & 3174054.15 & 228.3531 & 4.678213e-130\\\\\n",
       "\tResiduals & 787 & 10939116 &   13899.77 &       NA &            NA\\\\\n",
       "\\end{tabular}\n"
      ],
      "text/markdown": [
       "\n",
       "A anova: 2 × 5\n",
       "\n",
       "| <!--/--> | Df &lt;int&gt; | Sum Sq &lt;dbl&gt; | Mean Sq &lt;dbl&gt; | F value &lt;dbl&gt; | Pr(&gt;F) &lt;dbl&gt; |\n",
       "|---|---|---|---|---|---|\n",
       "| tanner |   4 | 12696217 | 3174054.15 | 228.3531 | 4.678213e-130 |\n",
       "| Residuals | 787 | 10939116 |   13899.77 |       NA |            NA |\n",
       "\n"
      ],
      "text/plain": [
       "          Df  Sum Sq   Mean Sq    F value  Pr(>F)       \n",
       "tanner      4 12696217 3174054.15 228.3531 4.678213e-130\n",
       "Residuals 787 10939116   13899.77       NA            NA"
      ]
     },
     "metadata": {},
     "output_type": "display_data"
    }
   ],
   "source": [
    "# (Recall) the data set \"juul\": fix\n",
    "juul$tanner <- factor(juul$tanner, labels=c(\"I\", \"II\", \"III\", \"IV\", \"V\"))\n",
    "summary(juul$tanner)\n",
    "anova(lm(igf1~tanner, data=juul))"
   ]
  }
 ],
 "metadata": {
  "kernelspec": {
   "display_name": "R",
   "language": "R",
   "name": "ir"
  },
  "language_info": {
   "codemirror_mode": "r",
   "file_extension": ".r",
   "mimetype": "text/x-r-source",
   "name": "R",
   "pygments_lexer": "r",
   "version": "4.3.2"
  }
 },
 "nbformat": 4,
 "nbformat_minor": 2
}
