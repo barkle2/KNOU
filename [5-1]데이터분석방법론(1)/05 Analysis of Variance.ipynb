{
 "cells": [
  {
   "cell_type": "markdown",
   "metadata": {
    "vscode": {
     "languageId": "r"
    }
   },
   "source": [
    "# 05 Analysis of Variance\n",
    "\n",
    "## 01 One-way analysis of variance\n",
    "\n",
    "### 1. Data Structure\n",
    "\n",
    "|그룹|1|…|i|…|k|\n",
    "|:-:|:-:|:-:|:-:|:-:|:-:|\n",
    "|1|<img src=\"https://latex.codecogs.com/svg.image?&space;x_{11}\">||<img src=\"https://latex.codecogs.com/svg.image?&space;x_{i1}\">||<img src=\"https://latex.codecogs.com/svg.image?&space;x_{k1}\">|\n",
    "|…||||||\n",
    "|j|<img src=\"https://latex.codecogs.com/svg.image?&space;x_{1j}\">||<img src=\"https://latex.codecogs.com/svg.image?&space;x_{ij}\">||<img src=\"https://latex.codecogs.com/svg.image?&space;x_{kj}\">|\n",
    "|…||||||\n",
    "|n|<img src=\"https://latex.codecogs.com/svg.image?&space;x_{1n}\">||<img src=\"https://latex.codecogs.com/svg.image?&space;x_{in}\">||<img src=\"https://latex.codecogs.com/svg.image?&space;x_{kn}\">|\n",
    "|평균|<img src=\"https://latex.codecogs.com/svg.image?&space;\\bar x_{1}\">||<img src=\"https://latex.codecogs.com/svg.image?&space;\\bar x_{i}\">||<img src=\"https://latex.codecogs.com/svg.image?&space;\\bar x_{k}\">|\n",
    "\n",
    "- Let <img src=\"https://latex.codecogs.com/svg.image?&space;x_{ij}\"> denote observation no.j in group i\n",
    "  - so that <img src=\"https://latex.codecogs.com/svg.image?&space;\\bar x_{35}\"> is the fifth observation in group 3\n",
    "  - <img src=\"https://latex.codecogs.com/svg.image?&space;\\bar x_{i}\"> is the mean for group i and <img src=\"https://latex.codecogs.com/svg.image?&space;\\bar x\"> is the grand mean(average of all observations).\n",
    "\n",
    "- Decompose <img src=\"https://latex.codecogs.com/svg.image?x_{ij}-\\bar{x}=(x_{ij}-\\bar{x_i})&plus;(\\bar{x_i}-\\bar{x})\">\n",
    "- Model <img src=\"https://latex.codecogs.com/svg.image?X_{ij}=\\mu&plus;\\alpha_i&plus;\\epsilon_{ij},\\;\\;\\;\\epsilon_{ij}\\sim&space;N(0,\\sigma^2)\">"
   ]
  },
  {
   "cell_type": "markdown",
   "metadata": {},
   "source": [
    "### 2. Decomposition of Variation\n",
    "\n",
    "Now consider the sums of squares of the underbraced terms, known as *variation within groups*\n",
    "\n",
    "<center>\n",
    "<img src=\"https://latex.codecogs.com/svg.image?SSD_W=\\sum_{i}\\sum_{j}(x_{ij}-\\bar{x_i})^2\">\n",
    "</center>\n",
    "\n",
    "and *variation between groups*\n",
    "\n",
    "<center>\n",
    "<img src=\"https://latex.codecogs.com/svg.image?SSD_B=\\sum_{i}\\sum_{j}(x_{i}-\\bar{x})^2=\\sum_{i}n_i(x_{i}-\\bar{x})^2\">\n",
    "</center>\n",
    "\n",
    "It is possible to prove that\n",
    "\n",
    "<center>\n",
    "<img src=\"https://latex.codecogs.com/svg.image?SSD_B&plus;SSD_W=SSD_{total}=\\sum_{i}\\sum_{j}(x_{ij}-\\bar{x})^2\">\n",
    "</center>\n"
   ]
  },
  {
   "cell_type": "markdown",
   "metadata": {},
   "source": [
    "### 3. ANOVA table and test\n",
    "\n",
    "- 분산분석표(Analysis of Variance Table)\n",
    "\n",
    "|요인|제곱합|자유도|평균제곱|F값|\n",
    "|:-:|:-:|:-:|:-:|:-:|\n",
    "|그룹간|<img src=\"https://latex.codecogs.com/svg.image?SSD_B\">|k-1|<img src=\"https://latex.codecogs.com/svg.image?MS_B\">|<img src=\"https://latex.codecogs.com/svg.image?MS_B/MS_W\">|\n",
    "|그룹내|<img src=\"https://latex.codecogs.com/svg.image?SSD_W\">|N-K|<img src=\"https://latex.codecogs.com/svg.image?MS_W\">||\n",
    "|합|<img src=\"https://latex.codecogs.com/svg.image?SSD_{total}\">|N-1|||\n",
    "\n",
    "- 검정 <img src=\"\">"
   ]
  }
 ],
 "metadata": {
  "kernelspec": {
   "display_name": "R",
   "language": "R",
   "name": "ir"
  },
  "language_info": {
   "name": "R"
  }
 },
 "nbformat": 4,
 "nbformat_minor": 2
}
