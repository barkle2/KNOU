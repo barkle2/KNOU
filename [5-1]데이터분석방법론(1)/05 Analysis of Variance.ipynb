{
 "cells": [
  {
   "cell_type": "markdown",
   "metadata": {
    "vscode": {
     "languageId": "r"
    }
   },
   "source": [
    "# 05 Analysis of Variance\n",
    "\n",
    "## 01 One-way analysis of variance\n",
    "\n",
    "### 1. Data Structure\n",
    "\n",
    "|그룹|1|…|i|…|k|\n",
    "|:-:|:-:|:-:|:-:|:-:|:-:|\n",
    "|1|<img src=\"https://latex.codecogs.com/svg.image?&space;x_{11}\">||<img src=\"https://latex.codecogs.com/svg.image?&space;x_{i1}\">||<img src=\"https://latex.codecogs.com/svg.image?&space;x_{k1}\">|\n",
    "|…||||||\n",
    "|j|<img src=\"https://latex.codecogs.com/svg.image?&space;x_{1j}\">||<img src=\"https://latex.codecogs.com/svg.image?&space;x_{ij}\">||<img src=\"https://latex.codecogs.com/svg.image?&space;x_{kj}\">|\n",
    "|…||||||\n",
    "|n|<img src=\"https://latex.codecogs.com/svg.image?&space;x_{1n}\">||<img src=\"https://latex.codecogs.com/svg.image?&space;x_{in}\">||<img src=\"https://latex.codecogs.com/svg.image?&space;x_{kn}\">|\n",
    "|평균|<img src=\"https://latex.codecogs.com/svg.image?&space;\\bar x_{1}\">||<img src=\"https://latex.codecogs.com/svg.image?&space;\\bar x_{i}\">||<img src=\"https://latex.codecogs.com/svg.image?&space;\\bar x_{k}\">|\n",
    "\n",
    "- Let <img src=\"https://latex.codecogs.com/svg.image?&space;x_{ij}\"> denote observation no.j in group i\n",
    "  - so that <img src=\"https://latex.codecogs.com/svg.image?&space;\\bar x_{35}\"> is the fifth observation in group 3\n",
    "  - <img src=\"https://latex.codecogs.com/svg.image?&space;\\bar x_{i}\"> is the mean for group i and <img src=\"https://latex.codecogs.com/svg.image?&space;\\bar x\"> is the grand mean(average of all observations).\n",
    "\n",
    "- Decompose <img src=\"https://latex.codecogs.com/svg.image?x_{ij}-\\bar{x}=(x_{ij}-\\bar{x_i})&plus;(\\bar{x_i}-\\bar{x})\">\n",
    "- Model <img src=\"https://latex.codecogs.com/svg.image?X_{ij}=\\mu&plus;\\alpha_i&plus;\\epsilon_{ij},\\;\\;\\;\\epsilon_{ij}\\sim&space;N(0,\\sigma^2)\">"
   ]
  },
  {
   "cell_type": "markdown",
   "metadata": {},
   "source": [
    "### 2. Decomposition of Variation\n",
    "\n",
    "Now consider the sums of squares of the underbraced terms, known as *variation within groups*\n",
    "\n",
    "<center>\n",
    "<img src=\"https://latex.codecogs.com/svg.image?SSD_W=\\sum_{i}\\sum_{j}(x_{ij}-\\bar{x_i})^2\">\n",
    "</center>\n",
    "\n",
    "and *variation between groups*\n",
    "\n",
    "<center>\n",
    "<img src=\"https://latex.codecogs.com/svg.image?SSD_B=\\sum_{i}\\sum_{j}(x_{i}-\\bar{x})^2=\\sum_{i}n_i(x_{i}-\\bar{x})^2\">\n",
    "</center>\n",
    "\n",
    "It is possible to prove that\n",
    "\n",
    "<center>\n",
    "<img src=\"https://latex.codecogs.com/svg.image?SSD_B&plus;SSD_W=SSD_{total}=\\sum_{i}\\sum_{j}(x_{ij}-\\bar{x})^2\">\n",
    "</center>\n"
   ]
  },
  {
   "cell_type": "markdown",
   "metadata": {},
   "source": [
    "### 3. ANOVA table and test\n",
    "\n",
    "- 분산분석표(Analysis of Variance Table)\n",
    "\n",
    "|요인|제곱합|자유도|평균제곱|F값|\n",
    "|:-:|:-:|:-:|:-:|:-:|\n",
    "|그룹간|<img src=\"https://latex.codecogs.com/svg.image?SSD_B\">|k-1|<img src=\"https://latex.codecogs.com/svg.image?MS_B\">|<img src=\"https://latex.codecogs.com/svg.image?MS_B/MS_W\">|\n",
    "|그룹내|<img src=\"https://latex.codecogs.com/svg.image?SSD_W\">|N-K|<img src=\"https://latex.codecogs.com/svg.image?MS_W\">||\n",
    "|합|<img src=\"https://latex.codecogs.com/svg.image?SSD_{total}\">|N-1|||\n",
    "\n",
    "- 검정 <img src=\"https://latex.codecogs.com/svg.image?&space;H_0:\\alpha_1=\\alpha_2=\\cdots=\\alpha_k\\;\\;vs\\;\\;H_1:\\;not\\;H_0\">\n",
    "- 검정통계량 <img src=\"https://latex.codecogs.com/svg.image?F_0=MS_B/MS_W\\sim&space;F_{k-1,N-k}\">"
   ]
  },
  {
   "cell_type": "code",
   "execution_count": 11,
   "metadata": {
    "vscode": {
     "languageId": "r"
    }
   },
   "outputs": [
    {
     "data": {
      "text/html": [
       "<table class=\"dataframe\">\n",
       "<caption>A data.frame: 2 × 2</caption>\n",
       "<thead>\n",
       "\t<tr><th></th><th scope=col>folate</th><th scope=col>ventilation</th></tr>\n",
       "\t<tr><th></th><th scope=col>&lt;dbl&gt;</th><th scope=col>&lt;fct&gt;</th></tr>\n",
       "</thead>\n",
       "<tbody>\n",
       "\t<tr><th scope=row>1</th><td>243</td><td>N2O+O2,24h</td></tr>\n",
       "\t<tr><th scope=row>2</th><td>251</td><td>N2O+O2,24h</td></tr>\n",
       "</tbody>\n",
       "</table>\n"
      ],
      "text/latex": [
       "A data.frame: 2 × 2\n",
       "\\begin{tabular}{r|ll}\n",
       "  & folate & ventilation\\\\\n",
       "  & <dbl> & <fct>\\\\\n",
       "\\hline\n",
       "\t1 & 243 & N2O+O2,24h\\\\\n",
       "\t2 & 251 & N2O+O2,24h\\\\\n",
       "\\end{tabular}\n"
      ],
      "text/markdown": [
       "\n",
       "A data.frame: 2 × 2\n",
       "\n",
       "| <!--/--> | folate &lt;dbl&gt; | ventilation &lt;fct&gt; |\n",
       "|---|---|---|\n",
       "| 1 | 243 | N2O+O2,24h |\n",
       "| 2 | 251 | N2O+O2,24h |\n",
       "\n"
      ],
      "text/plain": [
       "  folate ventilation\n",
       "1 243    N2O+O2,24h \n",
       "2 251    N2O+O2,24h "
      ]
     },
     "metadata": {},
     "output_type": "display_data"
    },
    {
     "name": "stderr",
     "output_type": "stream",
     "text": [
      "The following objects are masked from red.cell.folate (pos = 3):\n",
      "\n",
      "    folate, ventilation\n",
      "\n",
      "\n"
     ]
    },
    {
     "data": {
      "text/plain": [
       "     folate          ventilation\n",
       " Min.   :206.0   N2O+O2,24h:8   \n",
       " 1st Qu.:249.5   N2O+O2,op :9   \n",
       " Median :274.0   O2,24h    :5   \n",
       " Mean   :283.2                  \n",
       " 3rd Qu.:305.5                  \n",
       " Max.   :392.0                  "
      ]
     },
     "metadata": {},
     "output_type": "display_data"
    },
    {
     "data": {
      "text/html": [
       "<table class=\"dataframe\">\n",
       "<caption>A anova: 2 × 5</caption>\n",
       "<thead>\n",
       "\t<tr><th></th><th scope=col>Df</th><th scope=col>Sum Sq</th><th scope=col>Mean Sq</th><th scope=col>F value</th><th scope=col>Pr(&gt;F)</th></tr>\n",
       "\t<tr><th></th><th scope=col>&lt;int&gt;</th><th scope=col>&lt;dbl&gt;</th><th scope=col>&lt;dbl&gt;</th><th scope=col>&lt;dbl&gt;</th><th scope=col>&lt;dbl&gt;</th></tr>\n",
       "</thead>\n",
       "<tbody>\n",
       "\t<tr><th scope=row>ventilation</th><td> 2</td><td>15515.77</td><td>7757.883</td><td>3.711336</td><td>0.04358933</td></tr>\n",
       "\t<tr><th scope=row>Residuals</th><td>19</td><td>39716.10</td><td>2090.321</td><td>      NA</td><td>        NA</td></tr>\n",
       "</tbody>\n",
       "</table>\n"
      ],
      "text/latex": [
       "A anova: 2 × 5\n",
       "\\begin{tabular}{r|lllll}\n",
       "  & Df & Sum Sq & Mean Sq & F value & Pr(>F)\\\\\n",
       "  & <int> & <dbl> & <dbl> & <dbl> & <dbl>\\\\\n",
       "\\hline\n",
       "\tventilation &  2 & 15515.77 & 7757.883 & 3.711336 & 0.04358933\\\\\n",
       "\tResiduals & 19 & 39716.10 & 2090.321 &       NA &         NA\\\\\n",
       "\\end{tabular}\n"
      ],
      "text/markdown": [
       "\n",
       "A anova: 2 × 5\n",
       "\n",
       "| <!--/--> | Df &lt;int&gt; | Sum Sq &lt;dbl&gt; | Mean Sq &lt;dbl&gt; | F value &lt;dbl&gt; | Pr(&gt;F) &lt;dbl&gt; |\n",
       "|---|---|---|---|---|---|\n",
       "| ventilation |  2 | 15515.77 | 7757.883 | 3.711336 | 0.04358933 |\n",
       "| Residuals | 19 | 39716.10 | 2090.321 |       NA |         NA |\n",
       "\n"
      ],
      "text/plain": [
       "            Df Sum Sq   Mean Sq  F value  Pr(>F)    \n",
       "ventilation  2 15515.77 7757.883 3.711336 0.04358933\n",
       "Residuals   19 39716.10 2090.321       NA         NA"
      ]
     },
     "metadata": {},
     "output_type": "display_data"
    }
   ],
   "source": [
    "library(ISwR)\n",
    "head(red.cell.folate,2)\n",
    "attach(red.cell.folate)\n",
    "summary(red.cell.folate)\n",
    "anova(lm(folate~ventilation))"
   ]
  },
  {
   "cell_type": "code",
   "execution_count": 12,
   "metadata": {
    "vscode": {
     "languageId": "r"
    }
   },
   "outputs": [
    {
     "data": {
      "text/html": [
       "<table class=\"dataframe\">\n",
       "<caption>A data.frame: 3 × 6</caption>\n",
       "<thead>\n",
       "\t<tr><th></th><th scope=col>age</th><th scope=col>menarche</th><th scope=col>sex</th><th scope=col>igf1</th><th scope=col>tanner</th><th scope=col>testvol</th></tr>\n",
       "\t<tr><th></th><th scope=col>&lt;dbl&gt;</th><th scope=col>&lt;int&gt;</th><th scope=col>&lt;dbl&gt;</th><th scope=col>&lt;dbl&gt;</th><th scope=col>&lt;fct&gt;</th><th scope=col>&lt;int&gt;</th></tr>\n",
       "</thead>\n",
       "<tbody>\n",
       "\t<tr><th scope=row>6</th><td> 0.17</td><td>NA</td><td>1</td><td>101</td><td>I </td><td>NA</td></tr>\n",
       "\t<tr><th scope=row>350</th><td>13.20</td><td>NA</td><td>1</td><td> NA</td><td>II</td><td> 8</td></tr>\n",
       "\t<tr><th scope=row>450</th><td>16.09</td><td>NA</td><td>1</td><td>412</td><td>V </td><td>18</td></tr>\n",
       "</tbody>\n",
       "</table>\n"
      ],
      "text/latex": [
       "A data.frame: 3 × 6\n",
       "\\begin{tabular}{r|llllll}\n",
       "  & age & menarche & sex & igf1 & tanner & testvol\\\\\n",
       "  & <dbl> & <int> & <dbl> & <dbl> & <fct> & <int>\\\\\n",
       "\\hline\n",
       "\t6 &  0.17 & NA & 1 & 101 & I  & NA\\\\\n",
       "\t350 & 13.20 & NA & 1 &  NA & II &  8\\\\\n",
       "\t450 & 16.09 & NA & 1 & 412 & V  & 18\\\\\n",
       "\\end{tabular}\n"
      ],
      "text/markdown": [
       "\n",
       "A data.frame: 3 × 6\n",
       "\n",
       "| <!--/--> | age &lt;dbl&gt; | menarche &lt;int&gt; | sex &lt;dbl&gt; | igf1 &lt;dbl&gt; | tanner &lt;fct&gt; | testvol &lt;int&gt; |\n",
       "|---|---|---|---|---|---|---|\n",
       "| 6 |  0.17 | NA | 1 | 101 | I  | NA |\n",
       "| 350 | 13.20 | NA | 1 |  NA | II |  8 |\n",
       "| 450 | 16.09 | NA | 1 | 412 | V  | 18 |\n",
       "\n"
      ],
      "text/plain": [
       "    age   menarche sex igf1 tanner testvol\n",
       "6    0.17 NA       1   101  I      NA     \n",
       "350 13.20 NA       1    NA  II      8     \n",
       "450 16.09 NA       1   412  V      18     "
      ]
     },
     "metadata": {},
     "output_type": "display_data"
    },
    {
     "data": {
      "text/html": [
       "<table class=\"dataframe\">\n",
       "<caption>A anova: 2 × 5</caption>\n",
       "<thead>\n",
       "\t<tr><th></th><th scope=col>Df</th><th scope=col>Sum Sq</th><th scope=col>Mean Sq</th><th scope=col>F value</th><th scope=col>Pr(&gt;F)</th></tr>\n",
       "\t<tr><th></th><th scope=col>&lt;int&gt;</th><th scope=col>&lt;dbl&gt;</th><th scope=col>&lt;dbl&gt;</th><th scope=col>&lt;dbl&gt;</th><th scope=col>&lt;dbl&gt;</th></tr>\n",
       "</thead>\n",
       "<tbody>\n",
       "\t<tr><th scope=row>tanner</th><td>  4</td><td>12696217</td><td>3174054.15</td><td>228.3531</td><td>4.678213e-130</td></tr>\n",
       "\t<tr><th scope=row>Residuals</th><td>787</td><td>10939116</td><td>  13899.77</td><td>      NA</td><td>           NA</td></tr>\n",
       "</tbody>\n",
       "</table>\n"
      ],
      "text/latex": [
       "A anova: 2 × 5\n",
       "\\begin{tabular}{r|lllll}\n",
       "  & Df & Sum Sq & Mean Sq & F value & Pr(>F)\\\\\n",
       "  & <int> & <dbl> & <dbl> & <dbl> & <dbl>\\\\\n",
       "\\hline\n",
       "\ttanner &   4 & 12696217 & 3174054.15 & 228.3531 & 4.678213e-130\\\\\n",
       "\tResiduals & 787 & 10939116 &   13899.77 &       NA &            NA\\\\\n",
       "\\end{tabular}\n"
      ],
      "text/markdown": [
       "\n",
       "A anova: 2 × 5\n",
       "\n",
       "| <!--/--> | Df &lt;int&gt; | Sum Sq &lt;dbl&gt; | Mean Sq &lt;dbl&gt; | F value &lt;dbl&gt; | Pr(&gt;F) &lt;dbl&gt; |\n",
       "|---|---|---|---|---|---|\n",
       "| tanner |   4 | 12696217 | 3174054.15 | 228.3531 | 4.678213e-130 |\n",
       "| Residuals | 787 | 10939116 |   13899.77 |       NA |            NA |\n",
       "\n"
      ],
      "text/plain": [
       "          Df  Sum Sq   Mean Sq    F value  Pr(>F)       \n",
       "tanner      4 12696217 3174054.15 228.3531 4.678213e-130\n",
       "Residuals 787 10939116   13899.77       NA            NA"
      ]
     },
     "metadata": {},
     "output_type": "display_data"
    }
   ],
   "source": [
    "# (Recall) the data set \"juul\"\n",
    "juul[c(6,350,450),]\n",
    "anova(lm(igf1~tanner, data=juul))"
   ]
  },
  {
   "cell_type": "markdown",
   "metadata": {},
   "source": [
    "- Wrong!!! Since tanner is not a factor variable.\n",
    "- This does not describe a group of data but a linear regression on the group number.  \n",
    "Notive \"1 DF\" for the effect of tanner in the table."
   ]
  },
  {
   "cell_type": "code",
   "execution_count": 13,
   "metadata": {
    "vscode": {
     "languageId": "r"
    }
   },
   "outputs": [
    {
     "data": {
      "text/html": [
       "<style>\n",
       ".dl-inline {width: auto; margin:0; padding: 0}\n",
       ".dl-inline>dt, .dl-inline>dd {float: none; width: auto; display: inline-block}\n",
       ".dl-inline>dt::after {content: \":\\0020\"; padding-right: .5ex}\n",
       ".dl-inline>dt:not(:first-of-type) {padding-left: .5ex}\n",
       "</style><dl class=dl-inline><dt>I</dt><dd>515</dd><dt>II</dt><dd>103</dd><dt>III</dt><dd>72</dd><dt>IV</dt><dd>81</dd><dt>V</dt><dd>328</dd><dt>NA's</dt><dd>240</dd></dl>\n"
      ],
      "text/latex": [
       "\\begin{description*}\n",
       "\\item[I] 515\n",
       "\\item[II] 103\n",
       "\\item[III] 72\n",
       "\\item[IV] 81\n",
       "\\item[V] 328\n",
       "\\item[NA's] 240\n",
       "\\end{description*}\n"
      ],
      "text/markdown": [
       "I\n",
       ":   515II\n",
       ":   103III\n",
       ":   72IV\n",
       ":   81V\n",
       ":   328NA's\n",
       ":   240\n",
       "\n"
      ],
      "text/plain": [
       "   I   II  III   IV    V NA's \n",
       " 515  103   72   81  328  240 "
      ]
     },
     "metadata": {},
     "output_type": "display_data"
    },
    {
     "data": {
      "text/html": [
       "<table class=\"dataframe\">\n",
       "<caption>A anova: 2 × 5</caption>\n",
       "<thead>\n",
       "\t<tr><th></th><th scope=col>Df</th><th scope=col>Sum Sq</th><th scope=col>Mean Sq</th><th scope=col>F value</th><th scope=col>Pr(&gt;F)</th></tr>\n",
       "\t<tr><th></th><th scope=col>&lt;int&gt;</th><th scope=col>&lt;dbl&gt;</th><th scope=col>&lt;dbl&gt;</th><th scope=col>&lt;dbl&gt;</th><th scope=col>&lt;dbl&gt;</th></tr>\n",
       "</thead>\n",
       "<tbody>\n",
       "\t<tr><th scope=row>tanner</th><td>  4</td><td>12696217</td><td>3174054.15</td><td>228.3531</td><td>4.678213e-130</td></tr>\n",
       "\t<tr><th scope=row>Residuals</th><td>787</td><td>10939116</td><td>  13899.77</td><td>      NA</td><td>           NA</td></tr>\n",
       "</tbody>\n",
       "</table>\n"
      ],
      "text/latex": [
       "A anova: 2 × 5\n",
       "\\begin{tabular}{r|lllll}\n",
       "  & Df & Sum Sq & Mean Sq & F value & Pr(>F)\\\\\n",
       "  & <int> & <dbl> & <dbl> & <dbl> & <dbl>\\\\\n",
       "\\hline\n",
       "\ttanner &   4 & 12696217 & 3174054.15 & 228.3531 & 4.678213e-130\\\\\n",
       "\tResiduals & 787 & 10939116 &   13899.77 &       NA &            NA\\\\\n",
       "\\end{tabular}\n"
      ],
      "text/markdown": [
       "\n",
       "A anova: 2 × 5\n",
       "\n",
       "| <!--/--> | Df &lt;int&gt; | Sum Sq &lt;dbl&gt; | Mean Sq &lt;dbl&gt; | F value &lt;dbl&gt; | Pr(&gt;F) &lt;dbl&gt; |\n",
       "|---|---|---|---|---|---|\n",
       "| tanner |   4 | 12696217 | 3174054.15 | 228.3531 | 4.678213e-130 |\n",
       "| Residuals | 787 | 10939116 |   13899.77 |       NA |            NA |\n",
       "\n"
      ],
      "text/plain": [
       "          Df  Sum Sq   Mean Sq    F value  Pr(>F)       \n",
       "tanner      4 12696217 3174054.15 228.3531 4.678213e-130\n",
       "Residuals 787 10939116   13899.77       NA            NA"
      ]
     },
     "metadata": {},
     "output_type": "display_data"
    }
   ],
   "source": [
    "# (Recall) the data set \"juul\": fix\n",
    "juul$tanner <- factor(juul$tanner, labels=c(\"I\", \"II\", \"III\", \"IV\", \"V\"))\n",
    "summary(juul$tanner)\n",
    "anova(lm(igf1~tanner, data=juul))"
   ]
  },
  {
   "cell_type": "markdown",
   "metadata": {},
   "source": [
    "## 02 Pairwise comparisons and multiple testing\n",
    "\n",
    "### 1. Detecting a fidderence between groups\n",
    "\n",
    "#### Difference shown by the F test(ANOVA)\n",
    "\n",
    "- If the F test shows that there is a difference between groups, the question quickly arises of where the difference lies. It becomes necessary to compare the individual groups.\n",
    "- F 테스트가 그룹간에 차이가 있다는 것을 보여주면, 어떤 차이가 있는지에 대한 질문이 빠르게 제기됩니다. 개별 그룹을 비교하는 것이 필요해집니다.\n",
    "\n",
    "- Part of this information can be found in the regression coefficients.\n",
    "- 이 정보 중 일부는 회귀 계수에서 찾을 수 있습니다."
   ]
  },
  {
   "cell_type": "code",
   "execution_count": 14,
   "metadata": {
    "vscode": {
     "languageId": "r"
    }
   },
   "outputs": [
    {
     "data": {
      "text/plain": [
       "\n",
       "Call:\n",
       "lm(formula = folate ~ ventilation)\n",
       "\n",
       "Residuals:\n",
       "    Min      1Q  Median      3Q     Max \n",
       "-73.625 -35.361  -4.444  35.625  75.375 \n",
       "\n",
       "Coefficients:\n",
       "                     Estimate Std. Error t value Pr(>|t|)    \n",
       "(Intercept)            316.62      16.16  19.588 4.65e-14 ***\n",
       "ventilationN2O+O2,op   -60.18      22.22  -2.709   0.0139 *  \n",
       "ventilationO2,24h      -38.62      26.06  -1.482   0.1548    \n",
       "---\n",
       "Signif. codes:  0 '***' 0.001 '**' 0.01 '*' 0.05 '.' 0.1 ' ' 1\n",
       "\n",
       "Residual standard error: 45.72 on 19 degrees of freedom\n",
       "Multiple R-squared:  0.2809,\tAdjusted R-squared:  0.2052 \n",
       "F-statistic: 3.711 on 2 and 19 DF,  p-value: 0.04359\n"
      ]
     },
     "metadata": {},
     "output_type": "display_data"
    }
   ],
   "source": [
    "summary(lm(folate~ventilation)) # 가변수 회귀모형"
   ]
  },
  {
   "cell_type": "markdown",
   "metadata": {},
   "source": [
    "- The interpretation of the estimates is that the intercept is the mean in the first group (N20+O2,24h), whereas the two others describe the difference between the relevant group and the first one.\n",
    "- 추정치의 해석은 절편이 첫 번째 그룹(N20+O2,24h)의 평균이며, 다른 두 그룹은 해당 그룹과 첫 번째 그룹 간의 차이를 설명한다.\n",
    "\n",
    "- Contrasts used by default are the so-called treatment contrasts, in which the first group is treated as a baseline and the other groups are given relative to that. Concretely, the analysis is performed as a multiple regression analysis by introducing two dummy variables, which are 1 for observations in the relevant group and 0 elsewhere.\n",
    "- 기본적으로 사용되는 대조는 \"처리 대조(treatment contrasts)\"라고 불리며, 첫 번째 그룹이 기준선으로 취급되고 다른 그룹들은 그에 상대적으로 주어집니다. 구체적으로는, 분석은 해당 그룹의 관측값에 대해 1이 되는 두 개의 더미 변수(dummy variables)를 도입하여 다중 회귀 분석으로 수행됩니다. 다른 경우에는 0으로 처리됩니다.\n",
    "\n",
    "- Among the t tests in the table, you can immediately find a test for the hypothesis that the first two groups have the same true mean (p=0.0139, reject) and also whether the first and the third might be identical (p=0.1548, not reject). However, a comparison of the last two groups cannot be found. This can be overcome by modifying the factor definition, but that gets tedious when there are more than a few groups.\n",
    "- 표의 t 검정 중에서 첫 번째 두 그룹이 같은 실제 평균을 가지는지에 대한 가설검정(p=0.0139, 기각)과 첫 번째와 세 번째 그룹이 동일한지 여부도 확인할 수 있습니다 (p=0.1548, 기각하지 않음). 그러나 마지막 두 그룹을 비교하는 검정을 찾을 수 없습니다. 이는 요인 정의를 수정함으로써 극복할 수 있지만, 그룹이 몇 개 이상인 경우 번거로울 수 있습니다."
   ]
  },
  {
   "cell_type": "markdown",
   "metadata": {},
   "source": [
    "### 2. Pairwise test(pooled SD) and Bonferroni correction\n",
    "\n",
    "- Multiple testing(다중 비교): If we want to compare all groups, we ought to correct for multiple testing. Performing many tests will increase the probability of finding one of them to be significant; that is, the p-values tend to be exaggerated. A common adjustment method is the Bonferroni correction.\n",
    "- 다중 비교(Multiple testing): 모든 그룹을 비교하려면 다중 비교에 대해 보정해야 합니다. 많은 검정을 수행하면 그 중 하나가 유의미하다는 결과를 얻을 확률이 증가하며, 즉, p-값이 과장될 수 있습니다. 일반적인 보정 방법 중 하나는 본페로니 보정(Bonferroni correction)입니다.\n",
    "\n",
    "- Multiplying the p-values by the number of tests, we obtain a conservative test where the probability of a significant result is less than or equal to the formal significance level.\n",
    "- p-값을 검정 횟수로 곱하면, 형식적인 유의 수준 이하의 유의한 결과가 발생할 확률보다 작거나 같은 보수적인 검정 결과를 얻을 수 있습니다."
   ]
  },
  {
   "cell_type": "code",
   "execution_count": 15,
   "metadata": {
    "vscode": {
     "languageId": "r"
    }
   },
   "outputs": [
    {
     "data": {
      "text/plain": [
       "\n",
       "\tPairwise comparisons using t tests with pooled SD \n",
       "\n",
       "data:  folate and ventilation \n",
       "\n",
       "          N2O+O2,24h N2O+O2,op\n",
       "N2O+O2,op 0.042      -        \n",
       "O2,24h    0.464      1.000    \n",
       "\n",
       "P value adjustment method: bonferroni "
      ]
     },
     "metadata": {},
     "output_type": "display_data"
    }
   ],
   "source": [
    "pairwise.t.test(folate, ventilation, p.adj=\"bonferroni\")"
   ]
  },
  {
   "cell_type": "markdown",
   "metadata": {},
   "source": [
    "### 3. Not assuming equal variances\n",
    "\n",
    "#### Relaxing the variance assumption\n",
    "\n",
    "- The traditional one-way ANOVA requires an assumption of equal variances for all groups. There is, however, an alternative procedure that does not require that assumption. It is (due to Welch) similar to the unequal-variances t test. This has been implemented in the oneway.test function.\n",
    "- 전통적인 일원분산분석은 모든 그룹의 등분산성을 가정합니다. 그러나 이 가정을 요구하지 않는 대안적인 절차가 있습니다. 웰치(Welch)에 의한 이 절차는 등분산성 t 검정과 유사합니다. 이 방법은 oneway.test 함수에 구현되어 있습니다."
   ]
  },
  {
   "cell_type": "code",
   "execution_count": 16,
   "metadata": {
    "vscode": {
     "languageId": "r"
    }
   },
   "outputs": [
    {
     "data": {
      "text/plain": [
       "\n",
       "\tOne-way analysis of means (not assuming equal variances)\n",
       "\n",
       "data:  folate and ventilation\n",
       "F = 2.9704, num df = 2.000, denom df = 11.065, p-value = 0.09277\n"
      ]
     },
     "metadata": {},
     "output_type": "display_data"
    }
   ],
   "source": [
    "oneway.test(folate~ventilation)"
   ]
  },
  {
   "cell_type": "markdown",
   "metadata": {},
   "source": [
    "- In this case, the p-value increased to an insignificant value, presumably related to the fact that the group that seems to differ from the two others also has the largest variance.\n",
    "- 이 경우, p-값이 유의하지 않은 값으로 증가했습니다. 이는 아마도 두 그룹과 다른 것으로 보이는 그룹이 가장 큰 분산을 가지고 있기 때문일 것으로 추정됩니다."
   ]
  },
  {
   "cell_type": "markdown",
   "metadata": {},
   "source": [
    "#### 4. Pairwise test not using pooled SD\n",
    "\n",
    "- It is also possible to perform the pairwise t tests so that they do not use a common polled standard deviation. This is controlled by the argument pool.sd.\n",
    "- pairwise t 검정을 수행할 때 공통된 풀링된 표준 편차를 사용하지 않도록 설정할 수도 있습니다. 이는 pool.sd 인수로 제어됩니다."
   ]
  },
  {
   "cell_type": "code",
   "execution_count": 17,
   "metadata": {
    "vscode": {
     "languageId": "r"
    }
   },
   "outputs": [
    {
     "data": {
      "text/plain": [
       "\n",
       "\tPairwise comparisons using t tests with non-pooled SD \n",
       "\n",
       "data:  folate and ventilation \n",
       "\n",
       "          N2O+O2,24h N2O+O2,op\n",
       "N2O+O2,op 0.087      -        \n",
       "O2,24h    0.321      0.321    \n",
       "\n",
       "P value adjustment method: holm "
      ]
     },
     "metadata": {},
     "output_type": "display_data"
    }
   ],
   "source": [
    "pairwise.t.test(folate, ventilation, pool.sd=F)"
   ]
  },
  {
   "cell_type": "markdown",
   "metadata": {},
   "source": [
    "- Again, it is seen that the significance disappears as we remove the constraint on the variances.\n",
    "- 다시 한 번, 분산에 대한 제약 조건을 제거하면 유의성이 사라지는 것을 확인할 수 있습니다."
   ]
  },
  {
   "cell_type": "markdown",
   "metadata": {},
   "source": [
    "### 5. Test for same variance - Bartlett's test\n",
    "\n",
    "#### Test for same variance in all groups\n",
    "\n",
    "- Testing whether the distribution of a variable has the same variance in all groups can be done using Bartlett's test, although like the F test for comparing tow variances, it is rather non-robust against departures from the assumption of normal distributions.\n",
    "- 변수의 분포가 모든 그룹에서 동일한 분산을 가지는지를 검정하는 것은 바틀렛(Bartlett)의 검정을 사용하여 수행할 수 있습니다. 그러나 두 분산을 비교하는 F 검정과 마찬가지로, 정규 분포 가정에서 벗어나면 다소 강건하지 않습니다."
   ]
  },
  {
   "cell_type": "code",
   "execution_count": 18,
   "metadata": {
    "vscode": {
     "languageId": "r"
    }
   },
   "outputs": [
    {
     "data": {
      "text/plain": [
       "\n",
       "\tBartlett test of homogeneity of variances\n",
       "\n",
       "data:  folate by ventilation\n",
       "Bartlett's K-squared = 2.0951, df = 2, p-value = 0.3508\n"
      ]
     },
     "metadata": {},
     "output_type": "display_data"
    }
   ],
   "source": [
    "bartlett.test(folate~ventilation)"
   ]
  },
  {
   "cell_type": "markdown",
   "metadata": {},
   "source": [
    "- nothing in the data contradicts the assumption of equal variances in the three groups.\n",
    "- 데이터에는 세 그룹 간의 분산이 동일하다는 가정을 반박하는 요소가 없습니다."
   ]
  },
  {
   "cell_type": "markdown",
   "metadata": {},
   "source": [
    "### 6. Graphical presentation\n",
    "\n",
    "#### Stripchart\n",
    "\n",
    "- Plot where the raw data are plotted as a stripchart and overlaid with an indication of means and SEMs.\n",
    "- 원시 데이터가 스트립차트(stripchart)로 플로팅되고, 각각의 평균과 SEM(표준 오차 평균)이 표시된 플롯입니다."
   ]
  },
  {
   "cell_type": "code",
   "execution_count": 46,
   "metadata": {
    "vscode": {
     "languageId": "r"
    }
   },
   "outputs": [
    {
     "data": {
      "image/png": "[encoded data removed]",
      "text/plain": [
       "plot without title"
      ]
     },
     "metadata": {
      "image/png": {
       "height": 420,
       "width": 420
      }
     },
     "output_type": "display_data"
    }
   ],
   "source": [
    "n <- tapply(folate, ventilation, length)\n",
    "xbar <- tapply(folate, ventilation, mean)\n",
    "s <- tapply(folate, ventilation, sd)\n",
    "sem <- s/sqrt(n)\n",
    "stripchart(folate~ventilation, method='jitter', jitter=0.05, pch=16, vert=T)\n",
    "arrows(1:3, xbar+sem, 1:3, xbar-sem, angle=90, code=3, length=.1)\n",
    "lines(1:3, xbar, pch=4, type='b', cex=2)\n"
   ]
  },
  {
   "cell_type": "markdown",
   "metadata": {
    "vscode": {
     "languageId": "r"
    }
   },
   "source": [
    "- In many fields it appears to have become the tradition to use 1 SEM \"because they are the smallest\"; that is, it makes differences look more dramatic.\n",
    "- 많은 분야에서는 \"그것들이 가장 작기 때문에\" 1 SEM을 사용하는 것이 관행이 되었습니다. 즉, 차이를 더 강조하여 보이게 합니다."
   ]
  },
  {
   "cell_type": "markdown",
   "metadata": {},
   "source": [
    "## 03 Two-way analysis of variance\n",
    "\n",
    "### 1. Decomposition of Variation\n",
    "\n",
    "- Let <img src=\"https://latex.codecogs.com/svg.image?&space;x_{ij}\"> denote the observation in row i and column j of the m×n table. This is similar to the notation used for one-way analysis of variance, but notice that there is now a connection between observations with the same j, so that it makes sense to look at both row averages <img src=\"https://latex.codecogs.com/svg.image?\\bar{x_{i\\cdot}}\">, and column averages <img src=\"https://latex.codecogs.com/svg.image?\\bar{x_{\\cdot&space;j}}\">. Here we restrict ourselves to the case of a single observation per cell.\n",
    "- <img src=\"https://latex.codecogs.com/svg.image?x_{ij}\">가 m×n 표의 i번째 행과 j번째 열의 관찰값을 나타낸다고 가정해봅시다. 이 표기법은 일원분산분석에서 사용되는 표기법과 유사하지만, 이제 동일한 j를 가진 관측치들 사이에 연결이 있으므로 행 평균 <img src=\"https://latex.codecogs.com/svg.image?\\bar{x_{i\\cdot}}\">와 열 평균 <img src=\"https://latex.codecogs.com/svg.image?\\bar{x_{\\cdot&space;j}}\">을 모두 살펴보는 것이 의미가 있다는 점에 유의하세요. 여기서는 셀당 하나의 관측치만 있는 경우에 대해서만 제한됩니다.\n",
    "\n",
    "- Decompose <img src=\"https://latex.codecogs.com/svg.image?x_{ij}-\\bar{x}=(\\bar{x_{i\\cdot}}-\\bar{x})&plus;(\\bar{x_{\\cdot&space;j}}-\\bar{x})&plus;(x_{ij}-\\bar{x_{i\\cdot}}-\\bar{x_{\\cdot&space;j}}&plus;\\bar{x})\">\n",
    "\n",
    "Consequently, it now makes sense to look at both variation between rows\n",
    "\n",
    "<center>\n",
    "<img src=\"https://latex.codecogs.com/svg.image?SSD_R=n\\sum_{i}(\\bar{x_{i\\cdot}}-\\bar{x})^2\">\n",
    "</center>\n",
    "\n",
    "and variation between columns\n",
    "\n",
    "<center>\n",
    "<img src=\"https://latex.codecogs.com/svg.image?SSD_C=m\\sum_{j}(\\bar{x_{\\cdot&space;j}}-\\bar{x})^2\">\n",
    "</center>\n",
    "\n",
    "Subtracting these two from the total variation leaves the residual variation, which works out as\n",
    "\n",
    "<center>\n",
    "<img src=\"https://latex.codecogs.com/svg.image?SSD_{res}=\\sum_{i}\\sum_{j}(x_{ij}-\\bar{x_{i\\cdot}}-\\bar{x_{\\cdot&space;j}}&plus;\\bar{x})^2\">\n",
    "</center>\n",
    "\n",
    "- Model <img src=\"https://latex.codecogs.com/svg.image?X_{ij}=\\mu&plus;\\alpha_i&plus;\\beta_j&plus;\\epsilon_{ij},\\;\\;\\epsilon_{ij}\\sim&space;N(0,\\sigma^2)\">\n",
    "- ex) heart rate after administration of enalaprilate (altman, 1991, p.327)\n",
    "- 예시) 엔알라프릴레이트 투여 후 심박수 (Altman, 1991, p.327)"
   ]
  },
  {
   "cell_type": "code",
   "execution_count": 1,
   "metadata": {
    "vscode": {
     "languageId": "r"
    }
   },
   "outputs": [
    {
     "name": "stderr",
     "output_type": "stream",
     "text": [
      "Warning message:\n",
      "\"패키지 'ISwR'는 R 버전 4.3.3에서 작성되었습니다\"\n"
     ]
    },
    {
     "data": {
      "text/html": [
       "<table class=\"dataframe\">\n",
       "<caption>A data.frame: 4 × 3</caption>\n",
       "<thead>\n",
       "\t<tr><th></th><th scope=col>hr</th><th scope=col>subj</th><th scope=col>time</th></tr>\n",
       "\t<tr><th></th><th scope=col>&lt;dbl&gt;</th><th scope=col>&lt;fct&gt;</th><th scope=col>&lt;fct&gt;</th></tr>\n",
       "</thead>\n",
       "<tbody>\n",
       "\t<tr><th scope=row>1</th><td> 96</td><td>1</td><td>0  </td></tr>\n",
       "\t<tr><th scope=row>10</th><td> 92</td><td>1</td><td>30 </td></tr>\n",
       "\t<tr><th scope=row>20</th><td>108</td><td>2</td><td>60 </td></tr>\n",
       "\t<tr><th scope=row>28</th><td> 92</td><td>1</td><td>120</td></tr>\n",
       "</tbody>\n",
       "</table>\n"
      ],
      "text/latex": [
       "A data.frame: 4 × 3\n",
       "\\begin{tabular}{r|lll}\n",
       "  & hr & subj & time\\\\\n",
       "  & <dbl> & <fct> & <fct>\\\\\n",
       "\\hline\n",
       "\t1 &  96 & 1 & 0  \\\\\n",
       "\t10 &  92 & 1 & 30 \\\\\n",
       "\t20 & 108 & 2 & 60 \\\\\n",
       "\t28 &  92 & 1 & 120\\\\\n",
       "\\end{tabular}\n"
      ],
      "text/markdown": [
       "\n",
       "A data.frame: 4 × 3\n",
       "\n",
       "| <!--/--> | hr &lt;dbl&gt; | subj &lt;fct&gt; | time &lt;fct&gt; |\n",
       "|---|---|---|---|\n",
       "| 1 |  96 | 1 | 0   |\n",
       "| 10 |  92 | 1 | 30  |\n",
       "| 20 | 108 | 2 | 60  |\n",
       "| 28 |  92 | 1 | 120 |\n",
       "\n"
      ],
      "text/plain": [
       "   hr  subj time\n",
       "1   96 1    0   \n",
       "10  92 1    30  \n",
       "20 108 2    60  \n",
       "28  92 1    120 "
      ]
     },
     "metadata": {},
     "output_type": "display_data"
    }
   ],
   "source": [
    "library(ISwR)\n",
    "heart.rate[c(1, 10, 20, 28),]"
   ]
  },
  {
   "cell_type": "code",
   "execution_count": 49,
   "metadata": {
    "vscode": {
     "languageId": "r"
    }
   },
   "outputs": [
    {
     "data": {
      "text/html": [
       "<table class=\"dataframe\">\n",
       "<caption>A anova: 3 × 5</caption>\n",
       "<thead>\n",
       "\t<tr><th></th><th scope=col>Df</th><th scope=col>Sum Sq</th><th scope=col>Mean Sq</th><th scope=col>F value</th><th scope=col>Pr(&gt;F)</th></tr>\n",
       "\t<tr><th></th><th scope=col>&lt;int&gt;</th><th scope=col>&lt;dbl&gt;</th><th scope=col>&lt;dbl&gt;</th><th scope=col>&lt;dbl&gt;</th><th scope=col>&lt;dbl&gt;</th></tr>\n",
       "</thead>\n",
       "<tbody>\n",
       "\t<tr><th scope=row>subj</th><td> 8</td><td>8966.5556</td><td>1120.81944</td><td>90.639086</td><td>4.862680e-16</td></tr>\n",
       "\t<tr><th scope=row>time</th><td> 3</td><td> 150.9722</td><td>  50.32407</td><td> 4.069637</td><td>1.802047e-02</td></tr>\n",
       "\t<tr><th scope=row>Residuals</th><td>24</td><td> 296.7778</td><td>  12.36574</td><td>       NA</td><td>          NA</td></tr>\n",
       "</tbody>\n",
       "</table>\n"
      ],
      "text/latex": [
       "A anova: 3 × 5\n",
       "\\begin{tabular}{r|lllll}\n",
       "  & Df & Sum Sq & Mean Sq & F value & Pr(>F)\\\\\n",
       "  & <int> & <dbl> & <dbl> & <dbl> & <dbl>\\\\\n",
       "\\hline\n",
       "\tsubj &  8 & 8966.5556 & 1120.81944 & 90.639086 & 4.862680e-16\\\\\n",
       "\ttime &  3 &  150.9722 &   50.32407 &  4.069637 & 1.802047e-02\\\\\n",
       "\tResiduals & 24 &  296.7778 &   12.36574 &        NA &           NA\\\\\n",
       "\\end{tabular}\n"
      ],
      "text/markdown": [
       "\n",
       "A anova: 3 × 5\n",
       "\n",
       "| <!--/--> | Df &lt;int&gt; | Sum Sq &lt;dbl&gt; | Mean Sq &lt;dbl&gt; | F value &lt;dbl&gt; | Pr(&gt;F) &lt;dbl&gt; |\n",
       "|---|---|---|---|---|---|\n",
       "| subj |  8 | 8966.5556 | 1120.81944 | 90.639086 | 4.862680e-16 |\n",
       "| time |  3 |  150.9722 |   50.32407 |  4.069637 | 1.802047e-02 |\n",
       "| Residuals | 24 |  296.7778 |   12.36574 |        NA |           NA |\n",
       "\n"
      ],
      "text/plain": [
       "          Df Sum Sq    Mean Sq    F value   Pr(>F)      \n",
       "subj       8 8966.5556 1120.81944 90.639086 4.862680e-16\n",
       "time       3  150.9722   50.32407  4.069637 1.802047e-02\n",
       "Residuals 24  296.7778   12.36574        NA           NA"
      ]
     },
     "metadata": {},
     "output_type": "display_data"
    }
   ],
   "source": [
    "anova(lm(hr~subj+time, data=heart.rate))"
   ]
  }
 ],
 "metadata": {
  "kernelspec": {
   "display_name": "R",
   "language": "R",
   "name": "ir"
  },
  "language_info": {
   "codemirror_mode": "r",
   "file_extension": ".r",
   "mimetype": "text/x-r-source",
   "name": "R",
   "pygments_lexer": "r",
   "version": "4.3.2"
  }
 },
 "nbformat": 4,
 "nbformat_minor": 2
}
