{
 "cells": [
  {
   "cell_type": "markdown",
   "metadata": {
    "vscode": {
     "languageId": "r"
    }
   },
   "source": [
    "### 1번\n",
    "\n",
    "다음은 사내 헬스 클럽의 정규 회원 30명에 대한 건강 기록에 관한 것이다.\n",
    " x1 = 몸무게(단위: 파운드)\n",
    " x2 = 휴식시 1분당 맥박수\n",
    " x3 = 팔, 다리의 힘(strength)(들어올릴 수 있는 파운드 수)\n",
    " x4 = 1/4-mile trial run 시 걸린 시간(단위: 초)\n",
    " y = 1-mile run 시 걸린 시간(단위: 초)\n",
    "\n",
    "<img src=\"https://latex.codecogs.com/svg.image?&space;y_i=\\beta_0&plus;\\beta_1&space;x_{1i}&plus;\\beta_2&space;x_{2i}&plus;\\beta_3&space;x_{3i}&plus;\\beta_4&space;x_{4i}&plus;u_i,\\;\\;\\;u_i\\sim&space;N(0,\\sigma^2),\\;\\;\\;i=1,\\cdots,30\">\n",
    "을 적합하고 여러 가지 진단 통계량에 의해서 outlier, influential points, high leverage points가 있는지 알아보아라.(이들 통계량들의 값에 대한 표와 plot을 제시할 것!)"
   ]
  },
  {
   "cell_type": "code",
   "execution_count": 25,
   "metadata": {
    "vscode": {
     "languageId": "r"
    }
   },
   "outputs": [],
   "source": [
    "x1 = c(217, 141, 152, 153, 180, 193, 162, 180, 205, 168,\n",
    "       232, 146, 173, 155, 212, 138, 147, 197, 165, 125,\n",
    "       161, 132, 257, 236, 149, 161, 198, 245, 141, 177)\n",
    "x2 = c(67, 52, 58, 56, 66, 71, 65, 80, 77, 74,\n",
    "       65, 68, 51, 64, 66, 70, 54, 76, 59, 58,\n",
    "       52, 62, 64, 72, 57, 57, 59, 70, 63, 53)\n",
    "x3 = c(260, 190, 203, 183, 170, 178, 160, 170, 188, 170,\n",
    "       220, 158, 243, 198, 220, 180, 150, 228, 188, 160,\n",
    "       190, 163, 313, 225, 173, 173, 220, 218, 193, 183)\n",
    "x4 = c(91, 66, 68, 70, 77, 82, 74, 84, 83, 79,\n",
    "       72, 68, 56, 59, 77, 62, 75, 88, 70, 66,\n",
    "       69, 59, 96, 84, 68, 65, 62, 69, 60, 75)\n",
    "y = c(481, 292, 338, 357, 396, 429, 345, 469, 425, 358,\n",
    "      393, 346, 279, 311, 401, 267, 404, 442, 368, 295,\n",
    "      391, 264, 487, 481, 374, 309, 367, 469, 252, 338)"
   ]
  },
  {
   "cell_type": "markdown",
   "metadata": {},
   "source": [
    "주어진 데이터를\n",
    "<img src=\"https://latex.codecogs.com/svg.image?&space;y_i=\\beta_0&plus;\\beta_1&space;x_{1i}&plus;\\beta_2&space;x_{2i}&plus;\\beta_3&space;x_{3i}&plus;\\beta_4&space;x_{4i}&plus;u_i,\\;\\;\\;u_i\\sim&space;N(0,\\sigma^2),\\;\\;\\;i=1,\\cdots,30\"> 로 적합하는 R 코드는 다음과 같다."
   ]
  },
  {
   "cell_type": "code",
   "execution_count": 26,
   "metadata": {
    "vscode": {
     "languageId": "r"
    }
   },
   "outputs": [
    {
     "data": {
      "text/plain": [
       "\n",
       "Call:\n",
       "lm(formula = y ~ x1 + x2 + x3 + x4, data = df)\n",
       "\n",
       "Residuals:\n",
       "    Min      1Q  Median      3Q     Max \n",
       "-55.223 -18.821  -5.321  18.928  44.487 \n",
       "\n",
       "Coefficients:\n",
       "            Estimate Std. Error t value Pr(>|t|)    \n",
       "(Intercept)  -3.6186    56.1027  -0.064 0.949086    \n",
       "x1            1.2676     0.2869   4.419 0.000168 ***\n",
       "x2           -0.5252     0.8628  -0.609 0.548194    \n",
       "x3           -0.5050     0.2459  -2.054 0.050614 .  \n",
       "x4            3.9030     0.7477   5.220 2.11e-05 ***\n",
       "---\n",
       "Signif. codes:  0 '***' 0.001 '**' 0.01 '*' 0.05 '.' 0.1 ' ' 1\n",
       "\n",
       "Residual standard error: 28.67 on 25 degrees of freedom\n",
       "Multiple R-squared:  0.8531,\tAdjusted R-squared:  0.8296 \n",
       "F-statistic:  36.3 on 4 and 25 DF,  p-value: 4.51e-10\n"
      ]
     },
     "metadata": {},
     "output_type": "display_data"
    }
   ],
   "source": [
    "df = data.frame(x1, x2, x3, x4, y)\n",
    "result = lm(y~x1+x2+x3+x4, data=df)\n",
    "summary(result)"
   ]
  },
  {
   "cell_type": "markdown",
   "metadata": {
    "vscode": {
     "languageId": "r"
    }
   },
   "source": [
    "적합된 식은 다음과 같다.\n",
    "\n",
    "<img src=\"https://latex.codecogs.com/svg.image?&space;y_i=1.268\\cdot&space;x_1&plus;(-0.525)\\cdot&space;x_2&plus;(-0.505)\\cdot&space;x_3&plus;3.903\\cdot&space;x_4-3.619\">"
   ]
  },
  {
   "cell_type": "markdown",
   "metadata": {},
   "source": [
    "outlier 인지 여부는 Studentized Residual로 판단할 수 있는데, Studentized Residual을 구하기 위해서는 우선 Hat Value를 구해야 한다.\n",
    "\n",
    "참고로 Hat Value가 Hat value의 평균보다 크면 Leverage가 크다고 할 수 있다.\n",
    "\n",
    "Hat Value의 평균은  <img src=\"https://latex.codecogs.com/svg.image?\\bar{h}=\\frac{k&plus;1}{n}=\\frac{4&plus;1}{30}=0.167\"> 이다.\n",
    "\n",
    "따라서 Hat Value가 0.167보다 큰 데이터는 Leverage가 크다고 할 수 있다."
   ]
  },
  {
   "cell_type": "code",
   "execution_count": 27,
   "metadata": {
    "vscode": {
     "languageId": "r"
    }
   },
   "outputs": [
    {
     "data": {
      "text/html": [
       "<style>\n",
       ".list-inline {list-style: none; margin:0; padding: 0}\n",
       ".list-inline>li {display: inline-block}\n",
       ".list-inline>li:not(:last-child)::after {content: \"\\00b7\"; padding: 0 .5ex}\n",
       "</style>\n",
       "<ol class=list-inline><li>1</li><li>8</li><li>11</li><li>13</li><li>16</li><li>17</li><li>18</li><li>23</li><li>27</li><li>28</li><li>30</li></ol>\n"
      ],
      "text/latex": [
       "\\begin{enumerate*}\n",
       "\\item 1\n",
       "\\item 8\n",
       "\\item 11\n",
       "\\item 13\n",
       "\\item 16\n",
       "\\item 17\n",
       "\\item 18\n",
       "\\item 23\n",
       "\\item 27\n",
       "\\item 28\n",
       "\\item 30\n",
       "\\end{enumerate*}\n"
      ],
      "text/markdown": [
       "1. 1\n",
       "2. 8\n",
       "3. 11\n",
       "4. 13\n",
       "5. 16\n",
       "6. 17\n",
       "7. 18\n",
       "8. 23\n",
       "9. 27\n",
       "10. 28\n",
       "11. 30\n",
       "\n",
       "\n"
      ],
      "text/plain": [
       " [1]  1  8 11 13 16 17 18 23 27 28 30"
      ]
     },
     "metadata": {},
     "output_type": "display_data"
    }
   ],
   "source": [
    "# Hat_value의 평균 구하기(Hat_value의 평균은 (k+1)/n 임을 확인)\n",
    "mean_hat = mean(hatvalues(result))\n",
    "\n",
    "# df에 HatValue 컬럼 추가\n",
    "df$HatValue = hatvalues(result)\n",
    "\n",
    "# df에 IsLeverageHigh 컬럼 추가\n",
    "leverage = ifelse(hatvalues(result) > mean_hat, \"Y\", \"N\")\n",
    "df$IsLeverageHigh = leverage\n",
    "\n",
    "# IsLeverageHigh 값의 인덱스 확인\n",
    "which(df$IsLeverageHigh == \"Y\")"
   ]
  },
  {
   "cell_type": "markdown",
   "metadata": {},
   "source": [
    "1, 8, 11, 13, 16, 17, 18, 23, 27, 28, 30 번째 데이터는 각각의 Hat Value가 Hat Value의 평균인 0.167보다 크기 때문에 Leverage가 큰 데이터라고 할 수 있다."
   ]
  },
  {
   "cell_type": "markdown",
   "metadata": {},
   "source": [
    "Outlier인지 여부는 Studentized Residual 로 판단할 수 있다.\n",
    "\n",
    "자기자신을 제외한 데이터로 계산한 External Studentized Residual을 사용하며,\n",
    "자기자신을 제외한 데이터로 여러 번의 계산을 하는 것을 다중 비교로 보아 본페로니 적응 방법을 사용하여 검정할 필요가 있다."
   ]
  },
  {
   "cell_type": "code",
   "execution_count": 71,
   "metadata": {
    "vscode": {
     "languageId": "r"
    }
   },
   "outputs": [],
   "source": [
    "# Studentized Residual 구하기\n",
    "\n",
    "# 자기자신을 포함하지 않은 External Studentized Residual은 rstudent 함수로 구한다.\n",
    "df$StuRes = rstudent(result)\n",
    "\n",
    "# 자기자신을 포함한 Internal Studentized Residual은 rstandard 함수로 구한다.\n",
    "# (비교를 위해 계산해 본다)\n",
    "df$StuResForCompare = rstandard(result)"
   ]
  },
  {
   "cell_type": "code",
   "execution_count": 101,
   "metadata": {
    "vscode": {
     "languageId": "r"
    }
   },
   "outputs": [
    {
     "name": "stdout",
     "output_type": "stream",
     "text": [
      "가장 큰 t 절대값: 2.325376 \n",
      "단측검정 p값:  0.01441446 \n",
      "양측검정 p값:  0.02882892 \n",
      "본페로니 적응 p값: 0.000960964"
     ]
    }
   ],
   "source": [
    "# t_max를 구하기 위해 df$StuRes에서 가장 절대값이 큰 값을 찾고, 이 값으로 p-value를 계산한다.\n",
    "t_max = max(abs(df$StuRes))\n",
    "cat(\"가장 큰 t 절대값:\", t_max, \"\\n\")\n",
    "\n",
    "# t분포 검정\n",
    "p_single = pt(t_max, df=30-4-2, lower.tail = FALSE)\n",
    "cat(\"단측검정 p값: \", p_single, \"\\n\")\n",
    "p_two_tailed = 2*p_single\n",
    "cat(\"양측검정 p값: \", p_two_tailed, \"\\n\")\n",
    "\n",
    "# 30번의 관찰을 한 경우 본페로니 적응을 적용하면 p 값은 다음과 같다.\n",
    "p_final = p_two_tailed / 30\n",
    "cat(\"본페로니 적응 p값:\", p_final)"
   ]
  },
  {
   "cell_type": "code",
   "execution_count": 102,
   "metadata": {
    "vscode": {
     "languageId": "r"
    }
   },
   "outputs": [
    {
     "data": {
      "text/html": [
       "3.48289916130436"
      ],
      "text/latex": [
       "3.48289916130436"
      ],
      "text/markdown": [
       "3.48289916130436"
      ],
      "text/plain": [
       "[1] 3.482899"
      ]
     },
     "metadata": {},
     "output_type": "display_data"
    }
   ],
   "source": [
    "# outlier가 되는 t값은 절대값이 3.483보다 큰 경우라고 할 수 있다.\n",
    "qt(0.000960964, 24, lower.tail = FALSE)\n",
    "\n",
    "# outlier 여부를 판단해서 IsOutlier 컬럼으로 추가한다.\n",
    "outlier = ifelse(abs(df$StuRes) > 3.483, \"Y\", \"N\")\n",
    "df$IsOutlier = outlier"
   ]
  },
  {
   "cell_type": "code",
   "execution_count": 105,
   "metadata": {
    "vscode": {
     "languageId": "r"
    }
   },
   "outputs": [
    {
     "data": {
      "text/html": [
       "2.06389856162803"
      ],
      "text/latex": [
       "2.06389856162803"
      ],
      "text/markdown": [
       "2.06389856162803"
      ],
      "text/plain": [
       "[1] 2.063899"
      ]
     },
     "metadata": {},
     "output_type": "display_data"
    }
   ],
   "source": [
    "# 유의수준 0.05 수준으로 Outlier가 있는지도 살펴본다.\n",
    "qt(0.025, 24, lower.tail=FALSE)\n",
    "\n",
    "# outlier 여부를 판단해서 IsOutlier 컬럼으로 추가한다.\n",
    "outlier_95 = ifelse(abs(df$StuRes) > 2.064, \"Y\", \"N\")\n",
    "df$IsOutlier_95 = outlier_95"
   ]
  },
  {
   "cell_type": "code",
   "execution_count": 106,
   "metadata": {
    "vscode": {
     "languageId": "r"
    }
   },
   "outputs": [
    {
     "data": {
      "text/html": [
       "<table class=\"dataframe\">\n",
       "<caption>A data.frame: 30 × 11</caption>\n",
       "<thead>\n",
       "\t<tr><th scope=col>x1</th><th scope=col>x2</th><th scope=col>x3</th><th scope=col>x4</th><th scope=col>y</th><th scope=col>HatValue</th><th scope=col>IsLeverageHigh</th><th scope=col>StuRes</th><th scope=col>StuResForCompare</th><th scope=col>IsOutlier</th><th scope=col>IsOutlier_95</th></tr>\n",
       "\t<tr><th scope=col>&lt;dbl&gt;</th><th scope=col>&lt;dbl&gt;</th><th scope=col>&lt;dbl&gt;</th><th scope=col>&lt;dbl&gt;</th><th scope=col>&lt;dbl&gt;</th><th scope=col>&lt;dbl&gt;</th><th scope=col>&lt;chr&gt;</th><th scope=col>&lt;dbl&gt;</th><th scope=col>&lt;dbl&gt;</th><th scope=col>&lt;chr&gt;</th><th scope=col>&lt;chr&gt;</th></tr>\n",
       "</thead>\n",
       "<tbody>\n",
       "\t<tr><td>217</td><td>67</td><td>260</td><td>91</td><td>481</td><td>0.24940559</td><td>Y</td><td> 0.8347688</td><td> 0.8398767</td><td>N</td><td>N</td></tr>\n",
       "\t<tr><td>141</td><td>52</td><td>190</td><td>66</td><td>292</td><td>0.12621605</td><td>N</td><td>-0.6434769</td><td>-0.6511529</td><td>N</td><td>N</td></tr>\n",
       "\t<tr><td>152</td><td>58</td><td>203</td><td>68</td><td>338</td><td>0.09037161</td><td>N</td><td> 0.5961034</td><td> 0.6039410</td><td>N</td><td>N</td></tr>\n",
       "\t<tr><td>153</td><td>56</td><td>183</td><td>70</td><td>357</td><td>0.07867432</td><td>N</td><td> 0.5477671</td><td> 0.5556002</td><td>N</td><td>N</td></tr>\n",
       "\t<tr><td>180</td><td>66</td><td>170</td><td>77</td><td>396</td><td>0.09034233</td><td>N</td><td>-0.3076680</td><td>-0.3133949</td><td>N</td><td>N</td></tr>\n",
       "\t<tr><td>193</td><td>71</td><td>178</td><td>82</td><td>429</td><td>0.11042797</td><td>N</td><td>-0.1775854</td><td>-0.1811284</td><td>N</td><td>N</td></tr>\n",
       "\t<tr><td>162</td><td>65</td><td>160</td><td>74</td><td>345</td><td>0.08431676</td><td>N</td><td>-1.1217615</td><td>-1.1160099</td><td>N</td><td>N</td></tr>\n",
       "\t<tr><td>180</td><td>80</td><td>170</td><td>84</td><td>469</td><td>0.22058648</td><td>Y</td><td> 1.8381930</td><td> 1.7565183</td><td>N</td><td>N</td></tr>\n",
       "\t<tr><td>205</td><td>77</td><td>188</td><td>83</td><td>425</td><td>0.14679644</td><td>N</td><td>-0.7412875</td><td>-0.7480580</td><td>N</td><td>N</td></tr>\n",
       "\t<tr><td>168</td><td>74</td><td>170</td><td>79</td><td>358</td><td>0.12857122</td><td>N</td><td>-1.3259496</td><td>-1.3062904</td><td>N</td><td>N</td></tr>\n",
       "\t<tr><td>232</td><td>65</td><td>220</td><td>72</td><td>393</td><td>0.21353297</td><td>Y</td><td>-1.3272900</td><td>-1.3075207</td><td>N</td><td>N</td></tr>\n",
       "\t<tr><td>146</td><td>68</td><td>158</td><td>68</td><td>346</td><td>0.09929043</td><td>N</td><td> 0.5304770</td><td> 0.5382693</td><td>N</td><td>N</td></tr>\n",
       "\t<tr><td>173</td><td>51</td><td>243</td><td>56</td><td>279</td><td>0.29756398</td><td>Y</td><td>-0.2345047</td><td>-0.2390666</td><td>N</td><td>N</td></tr>\n",
       "\t<tr><td>155</td><td>64</td><td>198</td><td>59</td><td>311</td><td>0.16159997</td><td>N</td><td> 0.8120482</td><td> 0.8176367</td><td>N</td><td>N</td></tr>\n",
       "\t<tr><td>212</td><td>66</td><td>220</td><td>77</td><td>401</td><td>0.07042503</td><td>N</td><td>-0.6756303</td><td>-0.6830967</td><td>N</td><td>N</td></tr>\n",
       "\t<tr><td>138</td><td>70</td><td>180</td><td>62</td><td>267</td><td>0.23146500</td><td>Y</td><td>-0.7344577</td><td>-0.7413180</td><td>N</td><td>N</td></tr>\n",
       "\t<tr><td>147</td><td>54</td><td>150</td><td>75</td><td>404</td><td>0.24815163</td><td>Y</td><td> 1.3342612</td><td> 1.3139150</td><td>N</td><td>N</td></tr>\n",
       "\t<tr><td>197</td><td>76</td><td>228</td><td>88</td><td>442</td><td>0.22665324</td><td>Y</td><td> 0.2915908</td><td> 0.2970779</td><td>N</td><td>N</td></tr>\n",
       "\t<tr><td>165</td><td>59</td><td>188</td><td>70</td><td>368</td><td>0.04660222</td><td>N</td><td> 0.5344113</td><td> 0.5422147</td><td>N</td><td>N</td></tr>\n",
       "\t<tr><td>125</td><td>58</td><td>160</td><td>66</td><td>295</td><td>0.11399262</td><td>N</td><td>-0.2241964</td><td>-0.2285803</td><td>N</td><td>N</td></tr>\n",
       "\t<tr><td>161</td><td>52</td><td>190</td><td>69</td><td>391</td><td>0.11933222</td><td>N</td><td> 1.7165448</td><td> 1.6533841</td><td>N</td><td>N</td></tr>\n",
       "\t<tr><td>132</td><td>62</td><td>163</td><td>59</td><td>264</td><td>0.12171025</td><td>N</td><td>-0.5543192</td><td>-0.5621624</td><td>N</td><td>N</td></tr>\n",
       "\t<tr><td>257</td><td>64</td><td>313</td><td>96</td><td>487</td><td>0.51331861</td><td>Y</td><td>-0.9049781</td><td>-0.9082723</td><td>N</td><td>N</td></tr>\n",
       "\t<tr><td>236</td><td>72</td><td>225</td><td>84</td><td>481</td><td>0.14319481</td><td>N</td><td> 0.3348513</td><td> 0.3409606</td><td>N</td><td>N</td></tr>\n",
       "\t<tr><td>149</td><td>57</td><td>173</td><td>68</td><td>374</td><td>0.07214601</td><td>N</td><td> 1.5086721</td><td> 1.4715820</td><td>N</td><td>N</td></tr>\n",
       "\t<tr><td>161</td><td>57</td><td>173</td><td>65</td><td>309</td><td>0.08447846</td><td>N</td><td>-1.0162254</td><td>-1.0155611</td><td>N</td><td>N</td></tr>\n",
       "\t<tr><td>198</td><td>59</td><td>220</td><td>62</td><td>367</td><td>0.16696906</td><td>Y</td><td> 0.7473628</td><td> 0.7540500</td><td>N</td><td>N</td></tr>\n",
       "\t<tr><td>245</td><td>70</td><td>218</td><td>69</td><td>469</td><td>0.38750148</td><td>Y</td><td> 1.8480643</td><td> 1.7647787</td><td>N</td><td>N</td></tr>\n",
       "\t<tr><td>141</td><td>63</td><td>193</td><td>60</td><td>252</td><td>0.16336900</td><td>N</td><td>-1.0205245</td><td>-1.0196791</td><td>N</td><td>N</td></tr>\n",
       "\t<tr><td>177</td><td>53</td><td>183</td><td>75</td><td>338</td><td>0.19299424</td><td>Y</td><td>-2.3253761</td><td>-2.1440509</td><td>N</td><td>Y</td></tr>\n",
       "</tbody>\n",
       "</table>\n"
      ],
      "text/latex": [
       "A data.frame: 30 × 11\n",
       "\\begin{tabular}{lllllllllll}\n",
       " x1 & x2 & x3 & x4 & y & HatValue & IsLeverageHigh & StuRes & StuResForCompare & IsOutlier & IsOutlier\\_95\\\\\n",
       " <dbl> & <dbl> & <dbl> & <dbl> & <dbl> & <dbl> & <chr> & <dbl> & <dbl> & <chr> & <chr>\\\\\n",
       "\\hline\n",
       "\t 217 & 67 & 260 & 91 & 481 & 0.24940559 & Y &  0.8347688 &  0.8398767 & N & N\\\\\n",
       "\t 141 & 52 & 190 & 66 & 292 & 0.12621605 & N & -0.6434769 & -0.6511529 & N & N\\\\\n",
       "\t 152 & 58 & 203 & 68 & 338 & 0.09037161 & N &  0.5961034 &  0.6039410 & N & N\\\\\n",
       "\t 153 & 56 & 183 & 70 & 357 & 0.07867432 & N &  0.5477671 &  0.5556002 & N & N\\\\\n",
       "\t 180 & 66 & 170 & 77 & 396 & 0.09034233 & N & -0.3076680 & -0.3133949 & N & N\\\\\n",
       "\t 193 & 71 & 178 & 82 & 429 & 0.11042797 & N & -0.1775854 & -0.1811284 & N & N\\\\\n",
       "\t 162 & 65 & 160 & 74 & 345 & 0.08431676 & N & -1.1217615 & -1.1160099 & N & N\\\\\n",
       "\t 180 & 80 & 170 & 84 & 469 & 0.22058648 & Y &  1.8381930 &  1.7565183 & N & N\\\\\n",
       "\t 205 & 77 & 188 & 83 & 425 & 0.14679644 & N & -0.7412875 & -0.7480580 & N & N\\\\\n",
       "\t 168 & 74 & 170 & 79 & 358 & 0.12857122 & N & -1.3259496 & -1.3062904 & N & N\\\\\n",
       "\t 232 & 65 & 220 & 72 & 393 & 0.21353297 & Y & -1.3272900 & -1.3075207 & N & N\\\\\n",
       "\t 146 & 68 & 158 & 68 & 346 & 0.09929043 & N &  0.5304770 &  0.5382693 & N & N\\\\\n",
       "\t 173 & 51 & 243 & 56 & 279 & 0.29756398 & Y & -0.2345047 & -0.2390666 & N & N\\\\\n",
       "\t 155 & 64 & 198 & 59 & 311 & 0.16159997 & N &  0.8120482 &  0.8176367 & N & N\\\\\n",
       "\t 212 & 66 & 220 & 77 & 401 & 0.07042503 & N & -0.6756303 & -0.6830967 & N & N\\\\\n",
       "\t 138 & 70 & 180 & 62 & 267 & 0.23146500 & Y & -0.7344577 & -0.7413180 & N & N\\\\\n",
       "\t 147 & 54 & 150 & 75 & 404 & 0.24815163 & Y &  1.3342612 &  1.3139150 & N & N\\\\\n",
       "\t 197 & 76 & 228 & 88 & 442 & 0.22665324 & Y &  0.2915908 &  0.2970779 & N & N\\\\\n",
       "\t 165 & 59 & 188 & 70 & 368 & 0.04660222 & N &  0.5344113 &  0.5422147 & N & N\\\\\n",
       "\t 125 & 58 & 160 & 66 & 295 & 0.11399262 & N & -0.2241964 & -0.2285803 & N & N\\\\\n",
       "\t 161 & 52 & 190 & 69 & 391 & 0.11933222 & N &  1.7165448 &  1.6533841 & N & N\\\\\n",
       "\t 132 & 62 & 163 & 59 & 264 & 0.12171025 & N & -0.5543192 & -0.5621624 & N & N\\\\\n",
       "\t 257 & 64 & 313 & 96 & 487 & 0.51331861 & Y & -0.9049781 & -0.9082723 & N & N\\\\\n",
       "\t 236 & 72 & 225 & 84 & 481 & 0.14319481 & N &  0.3348513 &  0.3409606 & N & N\\\\\n",
       "\t 149 & 57 & 173 & 68 & 374 & 0.07214601 & N &  1.5086721 &  1.4715820 & N & N\\\\\n",
       "\t 161 & 57 & 173 & 65 & 309 & 0.08447846 & N & -1.0162254 & -1.0155611 & N & N\\\\\n",
       "\t 198 & 59 & 220 & 62 & 367 & 0.16696906 & Y &  0.7473628 &  0.7540500 & N & N\\\\\n",
       "\t 245 & 70 & 218 & 69 & 469 & 0.38750148 & Y &  1.8480643 &  1.7647787 & N & N\\\\\n",
       "\t 141 & 63 & 193 & 60 & 252 & 0.16336900 & N & -1.0205245 & -1.0196791 & N & N\\\\\n",
       "\t 177 & 53 & 183 & 75 & 338 & 0.19299424 & Y & -2.3253761 & -2.1440509 & N & Y\\\\\n",
       "\\end{tabular}\n"
      ],
      "text/markdown": [
       "\n",
       "A data.frame: 30 × 11\n",
       "\n",
       "| x1 &lt;dbl&gt; | x2 &lt;dbl&gt; | x3 &lt;dbl&gt; | x4 &lt;dbl&gt; | y &lt;dbl&gt; | HatValue &lt;dbl&gt; | IsLeverageHigh &lt;chr&gt; | StuRes &lt;dbl&gt; | StuResForCompare &lt;dbl&gt; | IsOutlier &lt;chr&gt; | IsOutlier_95 &lt;chr&gt; |\n",
       "|---|---|---|---|---|---|---|---|---|---|---|\n",
       "| 217 | 67 | 260 | 91 | 481 | 0.24940559 | Y |  0.8347688 |  0.8398767 | N | N |\n",
       "| 141 | 52 | 190 | 66 | 292 | 0.12621605 | N | -0.6434769 | -0.6511529 | N | N |\n",
       "| 152 | 58 | 203 | 68 | 338 | 0.09037161 | N |  0.5961034 |  0.6039410 | N | N |\n",
       "| 153 | 56 | 183 | 70 | 357 | 0.07867432 | N |  0.5477671 |  0.5556002 | N | N |\n",
       "| 180 | 66 | 170 | 77 | 396 | 0.09034233 | N | -0.3076680 | -0.3133949 | N | N |\n",
       "| 193 | 71 | 178 | 82 | 429 | 0.11042797 | N | -0.1775854 | -0.1811284 | N | N |\n",
       "| 162 | 65 | 160 | 74 | 345 | 0.08431676 | N | -1.1217615 | -1.1160099 | N | N |\n",
       "| 180 | 80 | 170 | 84 | 469 | 0.22058648 | Y |  1.8381930 |  1.7565183 | N | N |\n",
       "| 205 | 77 | 188 | 83 | 425 | 0.14679644 | N | -0.7412875 | -0.7480580 | N | N |\n",
       "| 168 | 74 | 170 | 79 | 358 | 0.12857122 | N | -1.3259496 | -1.3062904 | N | N |\n",
       "| 232 | 65 | 220 | 72 | 393 | 0.21353297 | Y | -1.3272900 | -1.3075207 | N | N |\n",
       "| 146 | 68 | 158 | 68 | 346 | 0.09929043 | N |  0.5304770 |  0.5382693 | N | N |\n",
       "| 173 | 51 | 243 | 56 | 279 | 0.29756398 | Y | -0.2345047 | -0.2390666 | N | N |\n",
       "| 155 | 64 | 198 | 59 | 311 | 0.16159997 | N |  0.8120482 |  0.8176367 | N | N |\n",
       "| 212 | 66 | 220 | 77 | 401 | 0.07042503 | N | -0.6756303 | -0.6830967 | N | N |\n",
       "| 138 | 70 | 180 | 62 | 267 | 0.23146500 | Y | -0.7344577 | -0.7413180 | N | N |\n",
       "| 147 | 54 | 150 | 75 | 404 | 0.24815163 | Y |  1.3342612 |  1.3139150 | N | N |\n",
       "| 197 | 76 | 228 | 88 | 442 | 0.22665324 | Y |  0.2915908 |  0.2970779 | N | N |\n",
       "| 165 | 59 | 188 | 70 | 368 | 0.04660222 | N |  0.5344113 |  0.5422147 | N | N |\n",
       "| 125 | 58 | 160 | 66 | 295 | 0.11399262 | N | -0.2241964 | -0.2285803 | N | N |\n",
       "| 161 | 52 | 190 | 69 | 391 | 0.11933222 | N |  1.7165448 |  1.6533841 | N | N |\n",
       "| 132 | 62 | 163 | 59 | 264 | 0.12171025 | N | -0.5543192 | -0.5621624 | N | N |\n",
       "| 257 | 64 | 313 | 96 | 487 | 0.51331861 | Y | -0.9049781 | -0.9082723 | N | N |\n",
       "| 236 | 72 | 225 | 84 | 481 | 0.14319481 | N |  0.3348513 |  0.3409606 | N | N |\n",
       "| 149 | 57 | 173 | 68 | 374 | 0.07214601 | N |  1.5086721 |  1.4715820 | N | N |\n",
       "| 161 | 57 | 173 | 65 | 309 | 0.08447846 | N | -1.0162254 | -1.0155611 | N | N |\n",
       "| 198 | 59 | 220 | 62 | 367 | 0.16696906 | Y |  0.7473628 |  0.7540500 | N | N |\n",
       "| 245 | 70 | 218 | 69 | 469 | 0.38750148 | Y |  1.8480643 |  1.7647787 | N | N |\n",
       "| 141 | 63 | 193 | 60 | 252 | 0.16336900 | N | -1.0205245 | -1.0196791 | N | N |\n",
       "| 177 | 53 | 183 | 75 | 338 | 0.19299424 | Y | -2.3253761 | -2.1440509 | N | Y |\n",
       "\n"
      ],
      "text/plain": [
       "   x1  x2 x3  x4 y   HatValue   IsLeverageHigh StuRes     StuResForCompare\n",
       "1  217 67 260 91 481 0.24940559 Y               0.8347688  0.8398767      \n",
       "2  141 52 190 66 292 0.12621605 N              -0.6434769 -0.6511529      \n",
       "3  152 58 203 68 338 0.09037161 N               0.5961034  0.6039410      \n",
       "4  153 56 183 70 357 0.07867432 N               0.5477671  0.5556002      \n",
       "5  180 66 170 77 396 0.09034233 N              -0.3076680 -0.3133949      \n",
       "6  193 71 178 82 429 0.11042797 N              -0.1775854 -0.1811284      \n",
       "7  162 65 160 74 345 0.08431676 N              -1.1217615 -1.1160099      \n",
       "8  180 80 170 84 469 0.22058648 Y               1.8381930  1.7565183      \n",
       "9  205 77 188 83 425 0.14679644 N              -0.7412875 -0.7480580      \n",
       "10 168 74 170 79 358 0.12857122 N              -1.3259496 -1.3062904      \n",
       "11 232 65 220 72 393 0.21353297 Y              -1.3272900 -1.3075207      \n",
       "12 146 68 158 68 346 0.09929043 N               0.5304770  0.5382693      \n",
       "13 173 51 243 56 279 0.29756398 Y              -0.2345047 -0.2390666      \n",
       "14 155 64 198 59 311 0.16159997 N               0.8120482  0.8176367      \n",
       "15 212 66 220 77 401 0.07042503 N              -0.6756303 -0.6830967      \n",
       "16 138 70 180 62 267 0.23146500 Y              -0.7344577 -0.7413180      \n",
       "17 147 54 150 75 404 0.24815163 Y               1.3342612  1.3139150      \n",
       "18 197 76 228 88 442 0.22665324 Y               0.2915908  0.2970779      \n",
       "19 165 59 188 70 368 0.04660222 N               0.5344113  0.5422147      \n",
       "20 125 58 160 66 295 0.11399262 N              -0.2241964 -0.2285803      \n",
       "21 161 52 190 69 391 0.11933222 N               1.7165448  1.6533841      \n",
       "22 132 62 163 59 264 0.12171025 N              -0.5543192 -0.5621624      \n",
       "23 257 64 313 96 487 0.51331861 Y              -0.9049781 -0.9082723      \n",
       "24 236 72 225 84 481 0.14319481 N               0.3348513  0.3409606      \n",
       "25 149 57 173 68 374 0.07214601 N               1.5086721  1.4715820      \n",
       "26 161 57 173 65 309 0.08447846 N              -1.0162254 -1.0155611      \n",
       "27 198 59 220 62 367 0.16696906 Y               0.7473628  0.7540500      \n",
       "28 245 70 218 69 469 0.38750148 Y               1.8480643  1.7647787      \n",
       "29 141 63 193 60 252 0.16336900 N              -1.0205245 -1.0196791      \n",
       "30 177 53 183 75 338 0.19299424 Y              -2.3253761 -2.1440509      \n",
       "   IsOutlier IsOutlier_95\n",
       "1  N         N           \n",
       "2  N         N           \n",
       "3  N         N           \n",
       "4  N         N           \n",
       "5  N         N           \n",
       "6  N         N           \n",
       "7  N         N           \n",
       "8  N         N           \n",
       "9  N         N           \n",
       "10 N         N           \n",
       "11 N         N           \n",
       "12 N         N           \n",
       "13 N         N           \n",
       "14 N         N           \n",
       "15 N         N           \n",
       "16 N         N           \n",
       "17 N         N           \n",
       "18 N         N           \n",
       "19 N         N           \n",
       "20 N         N           \n",
       "21 N         N           \n",
       "22 N         N           \n",
       "23 N         N           \n",
       "24 N         N           \n",
       "25 N         N           \n",
       "26 N         N           \n",
       "27 N         N           \n",
       "28 N         N           \n",
       "29 N         N           \n",
       "30 N         Y           "
      ]
     },
     "metadata": {},
     "output_type": "display_data"
    }
   ],
   "source": [
    "df"
   ]
  },
  {
   "cell_type": "markdown",
   "metadata": {},
   "source": [
    "External Studentized Residual이 본페로니 적응 방법을 적용하여 계산한 t_max의 p_value 값을 충족시키는 값이 없으므로, 결론적으로 Outlier는 없다.\n",
    "\n",
    "다만, alpha = 0.05 수준에서는 30번째 데이터를 Outlier로 볼 수 있다."
   ]
  },
  {
   "cell_type": "markdown",
   "metadata": {},
   "source": [
    "Influential Points 여부는 쿡의 거리를 통해 판단할 수 있다.\n",
    "\n",
    "<img src=\"https://latex.codecogs.com/svg.image?D_i>\\frac{4}{n-k-1}\"> 이면 Influential Points로 판단할 수 있다."
   ]
  },
  {
   "cell_type": "code",
   "execution_count": 123,
   "metadata": {
    "vscode": {
     "languageId": "r"
    }
   },
   "outputs": [
    {
     "data": {
      "text/html": [
       "<style>\n",
       ".list-inline {list-style: none; margin:0; padding: 0}\n",
       ".list-inline>li {display: inline-block}\n",
       ".list-inline>li:not(:last-child)::after {content: \"\\00b7\"; padding: 0 .5ex}\n",
       "</style>\n",
       "<ol class=list-inline><li>8</li><li>23</li><li>28</li><li>30</li></ol>\n"
      ],
      "text/latex": [
       "\\begin{enumerate*}\n",
       "\\item 8\n",
       "\\item 23\n",
       "\\item 28\n",
       "\\item 30\n",
       "\\end{enumerate*}\n"
      ],
      "text/markdown": [
       "1. 8\n",
       "2. 23\n",
       "3. 28\n",
       "4. 30\n",
       "\n",
       "\n"
      ],
      "text/plain": [
       "[1]  8 23 28 30"
      ]
     },
     "metadata": {},
     "output_type": "display_data"
    }
   ],
   "source": [
    "# 쿡의 거리를 계산하여 CookDis 컬럼에 입력한다.\n",
    "df$CookDis = cooks.distance(result)\n",
    "\n",
    "# 쿡의 거리가 4/(30-4-1) = 0.16 보다 크면 IsInfluential 에 \"Y\"로 입력한다.\n",
    "df$IsInfluential = ifelse(df$CookDis > 0.16, \"Y\", \"N\")\n",
    "\n",
    "# IsLeverageHigh 값의 인덱스 확인\n",
    "which(df$IsInfluential == \"Y\")"
   ]
  },
  {
   "cell_type": "markdown",
   "metadata": {},
   "source": [
    "쿡의 거리가 0.16 이상이어서 영향력이 있는 데이터는 \n",
    "8, 23, 28, 30 번째 데이터 이다."
   ]
  },
  {
   "cell_type": "code",
   "execution_count": 111,
   "metadata": {
    "vscode": {
     "languageId": "r"
    }
   },
   "outputs": [
    {
     "data": {
      "text/html": [
       "<table class=\"dataframe\">\n",
       "<caption>A data.frame: 30 × 13</caption>\n",
       "<thead>\n",
       "\t<tr><th scope=col>x1</th><th scope=col>x2</th><th scope=col>x3</th><th scope=col>x4</th><th scope=col>y</th><th scope=col>HatValue</th><th scope=col>IsLeverageHigh</th><th scope=col>StuRes</th><th scope=col>StuResForCompare</th><th scope=col>IsOutlier</th><th scope=col>IsOutlier_95</th><th scope=col>CookDis</th><th scope=col>IsInfluential</th></tr>\n",
       "\t<tr><th scope=col>&lt;dbl&gt;</th><th scope=col>&lt;dbl&gt;</th><th scope=col>&lt;dbl&gt;</th><th scope=col>&lt;dbl&gt;</th><th scope=col>&lt;dbl&gt;</th><th scope=col>&lt;dbl&gt;</th><th scope=col>&lt;chr&gt;</th><th scope=col>&lt;dbl&gt;</th><th scope=col>&lt;dbl&gt;</th><th scope=col>&lt;chr&gt;</th><th scope=col>&lt;chr&gt;</th><th scope=col>&lt;dbl&gt;</th><th scope=col>&lt;chr&gt;</th></tr>\n",
       "</thead>\n",
       "<tbody>\n",
       "\t<tr><td>217</td><td>67</td><td>260</td><td>91</td><td>481</td><td>0.24940559</td><td>Y</td><td> 0.8347688</td><td> 0.8398767</td><td>N</td><td>N</td><td>0.0468772254</td><td>N</td></tr>\n",
       "\t<tr><td>141</td><td>52</td><td>190</td><td>66</td><td>292</td><td>0.12621605</td><td>N</td><td>-0.6434769</td><td>-0.6511529</td><td>N</td><td>N</td><td>0.0122491629</td><td>N</td></tr>\n",
       "\t<tr><td>152</td><td>58</td><td>203</td><td>68</td><td>338</td><td>0.09037161</td><td>N</td><td> 0.5961034</td><td> 0.6039410</td><td>N</td><td>N</td><td>0.0072474802</td><td>N</td></tr>\n",
       "\t<tr><td>153</td><td>56</td><td>183</td><td>70</td><td>357</td><td>0.07867432</td><td>N</td><td> 0.5477671</td><td> 0.5556002</td><td>N</td><td>N</td><td>0.0052719901</td><td>N</td></tr>\n",
       "\t<tr><td>180</td><td>66</td><td>170</td><td>77</td><td>396</td><td>0.09034233</td><td>N</td><td>-0.3076680</td><td>-0.3133949</td><td>N</td><td>N</td><td>0.0019508653</td><td>N</td></tr>\n",
       "\t<tr><td>193</td><td>71</td><td>178</td><td>82</td><td>429</td><td>0.11042797</td><td>N</td><td>-0.1775854</td><td>-0.1811284</td><td>N</td><td>N</td><td>0.0008145187</td><td>N</td></tr>\n",
       "\t<tr><td>162</td><td>65</td><td>160</td><td>74</td><td>345</td><td>0.08431676</td><td>N</td><td>-1.1217615</td><td>-1.1160099</td><td>N</td><td>N</td><td>0.0229369008</td><td>N</td></tr>\n",
       "\t<tr><td>180</td><td>80</td><td>170</td><td>84</td><td>469</td><td>0.22058648</td><td>Y</td><td> 1.8381930</td><td> 1.7565183</td><td>N</td><td>N</td><td>0.1746410414</td><td>Y</td></tr>\n",
       "\t<tr><td>205</td><td>77</td><td>188</td><td>83</td><td>425</td><td>0.14679644</td><td>N</td><td>-0.7412875</td><td>-0.7480580</td><td>N</td><td>N</td><td>0.0192558820</td><td>N</td></tr>\n",
       "\t<tr><td>168</td><td>74</td><td>170</td><td>79</td><td>358</td><td>0.12857122</td><td>N</td><td>-1.3259496</td><td>-1.3062904</td><td>N</td><td>N</td><td>0.0503525350</td><td>N</td></tr>\n",
       "\t<tr><td>232</td><td>65</td><td>220</td><td>72</td><td>393</td><td>0.21353297</td><td>Y</td><td>-1.3272900</td><td>-1.3075207</td><td>N</td><td>N</td><td>0.0928349595</td><td>N</td></tr>\n",
       "\t<tr><td>146</td><td>68</td><td>158</td><td>68</td><td>346</td><td>0.09929043</td><td>N</td><td> 0.5304770</td><td> 0.5382693</td><td>N</td><td>N</td><td>0.0063878086</td><td>N</td></tr>\n",
       "\t<tr><td>173</td><td>51</td><td>243</td><td>56</td><td>279</td><td>0.29756398</td><td>Y</td><td>-0.2345047</td><td>-0.2390666</td><td>N</td><td>N</td><td>0.0048421869</td><td>N</td></tr>\n",
       "\t<tr><td>155</td><td>64</td><td>198</td><td>59</td><td>311</td><td>0.16159997</td><td>N</td><td> 0.8120482</td><td> 0.8176367</td><td>N</td><td>N</td><td>0.0257715587</td><td>N</td></tr>\n",
       "\t<tr><td>212</td><td>66</td><td>220</td><td>77</td><td>401</td><td>0.07042503</td><td>N</td><td>-0.6756303</td><td>-0.6830967</td><td>N</td><td>N</td><td>0.0070702872</td><td>N</td></tr>\n",
       "\t<tr><td>138</td><td>70</td><td>180</td><td>62</td><td>267</td><td>0.23146500</td><td>Y</td><td>-0.7344577</td><td>-0.7413180</td><td>N</td><td>N</td><td>0.0331024993</td><td>N</td></tr>\n",
       "\t<tr><td>147</td><td>54</td><td>150</td><td>75</td><td>404</td><td>0.24815163</td><td>Y</td><td> 1.3342612</td><td> 1.3139150</td><td>N</td><td>N</td><td>0.1139597253</td><td>N</td></tr>\n",
       "\t<tr><td>197</td><td>76</td><td>228</td><td>88</td><td>442</td><td>0.22665324</td><td>Y</td><td> 0.2915908</td><td> 0.2970779</td><td>N</td><td>N</td><td>0.0051731883</td><td>N</td></tr>\n",
       "\t<tr><td>165</td><td>59</td><td>188</td><td>70</td><td>368</td><td>0.04660222</td><td>N</td><td> 0.5344113</td><td> 0.5422147</td><td>N</td><td>N</td><td>0.0028741211</td><td>N</td></tr>\n",
       "\t<tr><td>125</td><td>58</td><td>160</td><td>66</td><td>295</td><td>0.11399262</td><td>N</td><td>-0.2241964</td><td>-0.2285803</td><td>N</td><td>N</td><td>0.0013444571</td><td>N</td></tr>\n",
       "\t<tr><td>161</td><td>52</td><td>190</td><td>69</td><td>391</td><td>0.11933222</td><td>N</td><td> 1.7165448</td><td> 1.6533841</td><td>N</td><td>N</td><td>0.0740837752</td><td>N</td></tr>\n",
       "\t<tr><td>132</td><td>62</td><td>163</td><td>59</td><td>264</td><td>0.12171025</td><td>N</td><td>-0.5543192</td><td>-0.5621624</td><td>N</td><td>N</td><td>0.0087587670</td><td>N</td></tr>\n",
       "\t<tr><td>257</td><td>64</td><td>313</td><td>96</td><td>487</td><td>0.51331861</td><td>Y</td><td>-0.9049781</td><td>-0.9082723</td><td>N</td><td>N</td><td>0.1740221101</td><td>Y</td></tr>\n",
       "\t<tr><td>236</td><td>72</td><td>225</td><td>84</td><td>481</td><td>0.14319481</td><td>N</td><td> 0.3348513</td><td> 0.3409606</td><td>N</td><td>N</td><td>0.0038858284</td><td>N</td></tr>\n",
       "\t<tr><td>149</td><td>57</td><td>173</td><td>68</td><td>374</td><td>0.07214601</td><td>N</td><td> 1.5086721</td><td> 1.4715820</td><td>N</td><td>N</td><td>0.0336768600</td><td>N</td></tr>\n",
       "\t<tr><td>161</td><td>57</td><td>173</td><td>65</td><td>309</td><td>0.08447846</td><td>N</td><td>-1.0162254</td><td>-1.0155611</td><td>N</td><td>N</td><td>0.0190335377</td><td>N</td></tr>\n",
       "\t<tr><td>198</td><td>59</td><td>220</td><td>62</td><td>367</td><td>0.16696906</td><td>Y</td><td> 0.7473628</td><td> 0.7540500</td><td>N</td><td>N</td><td>0.0227931914</td><td>N</td></tr>\n",
       "\t<tr><td>245</td><td>70</td><td>218</td><td>69</td><td>469</td><td>0.38750148</td><td>Y</td><td> 1.8480643</td><td> 1.7647787</td><td>N</td><td>N</td><td>0.3940749436</td><td>Y</td></tr>\n",
       "\t<tr><td>141</td><td>63</td><td>193</td><td>60</td><td>252</td><td>0.16336900</td><td>N</td><td>-1.0205245</td><td>-1.0196791</td><td>N</td><td>N</td><td>0.0406062372</td><td>N</td></tr>\n",
       "\t<tr><td>177</td><td>53</td><td>183</td><td>75</td><td>338</td><td>0.19299424</td><td>Y</td><td>-2.3253761</td><td>-2.1440509</td><td>N</td><td>Y</td><td>0.2198709670</td><td>Y</td></tr>\n",
       "</tbody>\n",
       "</table>\n"
      ],
      "text/latex": [
       "A data.frame: 30 × 13\n",
       "\\begin{tabular}{lllllllllllll}\n",
       " x1 & x2 & x3 & x4 & y & HatValue & IsLeverageHigh & StuRes & StuResForCompare & IsOutlier & IsOutlier\\_95 & CookDis & IsInfluential\\\\\n",
       " <dbl> & <dbl> & <dbl> & <dbl> & <dbl> & <dbl> & <chr> & <dbl> & <dbl> & <chr> & <chr> & <dbl> & <chr>\\\\\n",
       "\\hline\n",
       "\t 217 & 67 & 260 & 91 & 481 & 0.24940559 & Y &  0.8347688 &  0.8398767 & N & N & 0.0468772254 & N\\\\\n",
       "\t 141 & 52 & 190 & 66 & 292 & 0.12621605 & N & -0.6434769 & -0.6511529 & N & N & 0.0122491629 & N\\\\\n",
       "\t 152 & 58 & 203 & 68 & 338 & 0.09037161 & N &  0.5961034 &  0.6039410 & N & N & 0.0072474802 & N\\\\\n",
       "\t 153 & 56 & 183 & 70 & 357 & 0.07867432 & N &  0.5477671 &  0.5556002 & N & N & 0.0052719901 & N\\\\\n",
       "\t 180 & 66 & 170 & 77 & 396 & 0.09034233 & N & -0.3076680 & -0.3133949 & N & N & 0.0019508653 & N\\\\\n",
       "\t 193 & 71 & 178 & 82 & 429 & 0.11042797 & N & -0.1775854 & -0.1811284 & N & N & 0.0008145187 & N\\\\\n",
       "\t 162 & 65 & 160 & 74 & 345 & 0.08431676 & N & -1.1217615 & -1.1160099 & N & N & 0.0229369008 & N\\\\\n",
       "\t 180 & 80 & 170 & 84 & 469 & 0.22058648 & Y &  1.8381930 &  1.7565183 & N & N & 0.1746410414 & Y\\\\\n",
       "\t 205 & 77 & 188 & 83 & 425 & 0.14679644 & N & -0.7412875 & -0.7480580 & N & N & 0.0192558820 & N\\\\\n",
       "\t 168 & 74 & 170 & 79 & 358 & 0.12857122 & N & -1.3259496 & -1.3062904 & N & N & 0.0503525350 & N\\\\\n",
       "\t 232 & 65 & 220 & 72 & 393 & 0.21353297 & Y & -1.3272900 & -1.3075207 & N & N & 0.0928349595 & N\\\\\n",
       "\t 146 & 68 & 158 & 68 & 346 & 0.09929043 & N &  0.5304770 &  0.5382693 & N & N & 0.0063878086 & N\\\\\n",
       "\t 173 & 51 & 243 & 56 & 279 & 0.29756398 & Y & -0.2345047 & -0.2390666 & N & N & 0.0048421869 & N\\\\\n",
       "\t 155 & 64 & 198 & 59 & 311 & 0.16159997 & N &  0.8120482 &  0.8176367 & N & N & 0.0257715587 & N\\\\\n",
       "\t 212 & 66 & 220 & 77 & 401 & 0.07042503 & N & -0.6756303 & -0.6830967 & N & N & 0.0070702872 & N\\\\\n",
       "\t 138 & 70 & 180 & 62 & 267 & 0.23146500 & Y & -0.7344577 & -0.7413180 & N & N & 0.0331024993 & N\\\\\n",
       "\t 147 & 54 & 150 & 75 & 404 & 0.24815163 & Y &  1.3342612 &  1.3139150 & N & N & 0.1139597253 & N\\\\\n",
       "\t 197 & 76 & 228 & 88 & 442 & 0.22665324 & Y &  0.2915908 &  0.2970779 & N & N & 0.0051731883 & N\\\\\n",
       "\t 165 & 59 & 188 & 70 & 368 & 0.04660222 & N &  0.5344113 &  0.5422147 & N & N & 0.0028741211 & N\\\\\n",
       "\t 125 & 58 & 160 & 66 & 295 & 0.11399262 & N & -0.2241964 & -0.2285803 & N & N & 0.0013444571 & N\\\\\n",
       "\t 161 & 52 & 190 & 69 & 391 & 0.11933222 & N &  1.7165448 &  1.6533841 & N & N & 0.0740837752 & N\\\\\n",
       "\t 132 & 62 & 163 & 59 & 264 & 0.12171025 & N & -0.5543192 & -0.5621624 & N & N & 0.0087587670 & N\\\\\n",
       "\t 257 & 64 & 313 & 96 & 487 & 0.51331861 & Y & -0.9049781 & -0.9082723 & N & N & 0.1740221101 & Y\\\\\n",
       "\t 236 & 72 & 225 & 84 & 481 & 0.14319481 & N &  0.3348513 &  0.3409606 & N & N & 0.0038858284 & N\\\\\n",
       "\t 149 & 57 & 173 & 68 & 374 & 0.07214601 & N &  1.5086721 &  1.4715820 & N & N & 0.0336768600 & N\\\\\n",
       "\t 161 & 57 & 173 & 65 & 309 & 0.08447846 & N & -1.0162254 & -1.0155611 & N & N & 0.0190335377 & N\\\\\n",
       "\t 198 & 59 & 220 & 62 & 367 & 0.16696906 & Y &  0.7473628 &  0.7540500 & N & N & 0.0227931914 & N\\\\\n",
       "\t 245 & 70 & 218 & 69 & 469 & 0.38750148 & Y &  1.8480643 &  1.7647787 & N & N & 0.3940749436 & Y\\\\\n",
       "\t 141 & 63 & 193 & 60 & 252 & 0.16336900 & N & -1.0205245 & -1.0196791 & N & N & 0.0406062372 & N\\\\\n",
       "\t 177 & 53 & 183 & 75 & 338 & 0.19299424 & Y & -2.3253761 & -2.1440509 & N & Y & 0.2198709670 & Y\\\\\n",
       "\\end{tabular}\n"
      ],
      "text/markdown": [
       "\n",
       "A data.frame: 30 × 13\n",
       "\n",
       "| x1 &lt;dbl&gt; | x2 &lt;dbl&gt; | x3 &lt;dbl&gt; | x4 &lt;dbl&gt; | y &lt;dbl&gt; | HatValue &lt;dbl&gt; | IsLeverageHigh &lt;chr&gt; | StuRes &lt;dbl&gt; | StuResForCompare &lt;dbl&gt; | IsOutlier &lt;chr&gt; | IsOutlier_95 &lt;chr&gt; | CookDis &lt;dbl&gt; | IsInfluential &lt;chr&gt; |\n",
       "|---|---|---|---|---|---|---|---|---|---|---|---|---|\n",
       "| 217 | 67 | 260 | 91 | 481 | 0.24940559 | Y |  0.8347688 |  0.8398767 | N | N | 0.0468772254 | N |\n",
       "| 141 | 52 | 190 | 66 | 292 | 0.12621605 | N | -0.6434769 | -0.6511529 | N | N | 0.0122491629 | N |\n",
       "| 152 | 58 | 203 | 68 | 338 | 0.09037161 | N |  0.5961034 |  0.6039410 | N | N | 0.0072474802 | N |\n",
       "| 153 | 56 | 183 | 70 | 357 | 0.07867432 | N |  0.5477671 |  0.5556002 | N | N | 0.0052719901 | N |\n",
       "| 180 | 66 | 170 | 77 | 396 | 0.09034233 | N | -0.3076680 | -0.3133949 | N | N | 0.0019508653 | N |\n",
       "| 193 | 71 | 178 | 82 | 429 | 0.11042797 | N | -0.1775854 | -0.1811284 | N | N | 0.0008145187 | N |\n",
       "| 162 | 65 | 160 | 74 | 345 | 0.08431676 | N | -1.1217615 | -1.1160099 | N | N | 0.0229369008 | N |\n",
       "| 180 | 80 | 170 | 84 | 469 | 0.22058648 | Y |  1.8381930 |  1.7565183 | N | N | 0.1746410414 | Y |\n",
       "| 205 | 77 | 188 | 83 | 425 | 0.14679644 | N | -0.7412875 | -0.7480580 | N | N | 0.0192558820 | N |\n",
       "| 168 | 74 | 170 | 79 | 358 | 0.12857122 | N | -1.3259496 | -1.3062904 | N | N | 0.0503525350 | N |\n",
       "| 232 | 65 | 220 | 72 | 393 | 0.21353297 | Y | -1.3272900 | -1.3075207 | N | N | 0.0928349595 | N |\n",
       "| 146 | 68 | 158 | 68 | 346 | 0.09929043 | N |  0.5304770 |  0.5382693 | N | N | 0.0063878086 | N |\n",
       "| 173 | 51 | 243 | 56 | 279 | 0.29756398 | Y | -0.2345047 | -0.2390666 | N | N | 0.0048421869 | N |\n",
       "| 155 | 64 | 198 | 59 | 311 | 0.16159997 | N |  0.8120482 |  0.8176367 | N | N | 0.0257715587 | N |\n",
       "| 212 | 66 | 220 | 77 | 401 | 0.07042503 | N | -0.6756303 | -0.6830967 | N | N | 0.0070702872 | N |\n",
       "| 138 | 70 | 180 | 62 | 267 | 0.23146500 | Y | -0.7344577 | -0.7413180 | N | N | 0.0331024993 | N |\n",
       "| 147 | 54 | 150 | 75 | 404 | 0.24815163 | Y |  1.3342612 |  1.3139150 | N | N | 0.1139597253 | N |\n",
       "| 197 | 76 | 228 | 88 | 442 | 0.22665324 | Y |  0.2915908 |  0.2970779 | N | N | 0.0051731883 | N |\n",
       "| 165 | 59 | 188 | 70 | 368 | 0.04660222 | N |  0.5344113 |  0.5422147 | N | N | 0.0028741211 | N |\n",
       "| 125 | 58 | 160 | 66 | 295 | 0.11399262 | N | -0.2241964 | -0.2285803 | N | N | 0.0013444571 | N |\n",
       "| 161 | 52 | 190 | 69 | 391 | 0.11933222 | N |  1.7165448 |  1.6533841 | N | N | 0.0740837752 | N |\n",
       "| 132 | 62 | 163 | 59 | 264 | 0.12171025 | N | -0.5543192 | -0.5621624 | N | N | 0.0087587670 | N |\n",
       "| 257 | 64 | 313 | 96 | 487 | 0.51331861 | Y | -0.9049781 | -0.9082723 | N | N | 0.1740221101 | Y |\n",
       "| 236 | 72 | 225 | 84 | 481 | 0.14319481 | N |  0.3348513 |  0.3409606 | N | N | 0.0038858284 | N |\n",
       "| 149 | 57 | 173 | 68 | 374 | 0.07214601 | N |  1.5086721 |  1.4715820 | N | N | 0.0336768600 | N |\n",
       "| 161 | 57 | 173 | 65 | 309 | 0.08447846 | N | -1.0162254 | -1.0155611 | N | N | 0.0190335377 | N |\n",
       "| 198 | 59 | 220 | 62 | 367 | 0.16696906 | Y |  0.7473628 |  0.7540500 | N | N | 0.0227931914 | N |\n",
       "| 245 | 70 | 218 | 69 | 469 | 0.38750148 | Y |  1.8480643 |  1.7647787 | N | N | 0.3940749436 | Y |\n",
       "| 141 | 63 | 193 | 60 | 252 | 0.16336900 | N | -1.0205245 | -1.0196791 | N | N | 0.0406062372 | N |\n",
       "| 177 | 53 | 183 | 75 | 338 | 0.19299424 | Y | -2.3253761 | -2.1440509 | N | Y | 0.2198709670 | Y |\n",
       "\n"
      ],
      "text/plain": [
       "   x1  x2 x3  x4 y   HatValue   IsLeverageHigh StuRes     StuResForCompare\n",
       "1  217 67 260 91 481 0.24940559 Y               0.8347688  0.8398767      \n",
       "2  141 52 190 66 292 0.12621605 N              -0.6434769 -0.6511529      \n",
       "3  152 58 203 68 338 0.09037161 N               0.5961034  0.6039410      \n",
       "4  153 56 183 70 357 0.07867432 N               0.5477671  0.5556002      \n",
       "5  180 66 170 77 396 0.09034233 N              -0.3076680 -0.3133949      \n",
       "6  193 71 178 82 429 0.11042797 N              -0.1775854 -0.1811284      \n",
       "7  162 65 160 74 345 0.08431676 N              -1.1217615 -1.1160099      \n",
       "8  180 80 170 84 469 0.22058648 Y               1.8381930  1.7565183      \n",
       "9  205 77 188 83 425 0.14679644 N              -0.7412875 -0.7480580      \n",
       "10 168 74 170 79 358 0.12857122 N              -1.3259496 -1.3062904      \n",
       "11 232 65 220 72 393 0.21353297 Y              -1.3272900 -1.3075207      \n",
       "12 146 68 158 68 346 0.09929043 N               0.5304770  0.5382693      \n",
       "13 173 51 243 56 279 0.29756398 Y              -0.2345047 -0.2390666      \n",
       "14 155 64 198 59 311 0.16159997 N               0.8120482  0.8176367      \n",
       "15 212 66 220 77 401 0.07042503 N              -0.6756303 -0.6830967      \n",
       "16 138 70 180 62 267 0.23146500 Y              -0.7344577 -0.7413180      \n",
       "17 147 54 150 75 404 0.24815163 Y               1.3342612  1.3139150      \n",
       "18 197 76 228 88 442 0.22665324 Y               0.2915908  0.2970779      \n",
       "19 165 59 188 70 368 0.04660222 N               0.5344113  0.5422147      \n",
       "20 125 58 160 66 295 0.11399262 N              -0.2241964 -0.2285803      \n",
       "21 161 52 190 69 391 0.11933222 N               1.7165448  1.6533841      \n",
       "22 132 62 163 59 264 0.12171025 N              -0.5543192 -0.5621624      \n",
       "23 257 64 313 96 487 0.51331861 Y              -0.9049781 -0.9082723      \n",
       "24 236 72 225 84 481 0.14319481 N               0.3348513  0.3409606      \n",
       "25 149 57 173 68 374 0.07214601 N               1.5086721  1.4715820      \n",
       "26 161 57 173 65 309 0.08447846 N              -1.0162254 -1.0155611      \n",
       "27 198 59 220 62 367 0.16696906 Y               0.7473628  0.7540500      \n",
       "28 245 70 218 69 469 0.38750148 Y               1.8480643  1.7647787      \n",
       "29 141 63 193 60 252 0.16336900 N              -1.0205245 -1.0196791      \n",
       "30 177 53 183 75 338 0.19299424 Y              -2.3253761 -2.1440509      \n",
       "   IsOutlier IsOutlier_95 CookDis      IsInfluential\n",
       "1  N         N            0.0468772254 N            \n",
       "2  N         N            0.0122491629 N            \n",
       "3  N         N            0.0072474802 N            \n",
       "4  N         N            0.0052719901 N            \n",
       "5  N         N            0.0019508653 N            \n",
       "6  N         N            0.0008145187 N            \n",
       "7  N         N            0.0229369008 N            \n",
       "8  N         N            0.1746410414 Y            \n",
       "9  N         N            0.0192558820 N            \n",
       "10 N         N            0.0503525350 N            \n",
       "11 N         N            0.0928349595 N            \n",
       "12 N         N            0.0063878086 N            \n",
       "13 N         N            0.0048421869 N            \n",
       "14 N         N            0.0257715587 N            \n",
       "15 N         N            0.0070702872 N            \n",
       "16 N         N            0.0331024993 N            \n",
       "17 N         N            0.1139597253 N            \n",
       "18 N         N            0.0051731883 N            \n",
       "19 N         N            0.0028741211 N            \n",
       "20 N         N            0.0013444571 N            \n",
       "21 N         N            0.0740837752 N            \n",
       "22 N         N            0.0087587670 N            \n",
       "23 N         N            0.1740221101 Y            \n",
       "24 N         N            0.0038858284 N            \n",
       "25 N         N            0.0336768600 N            \n",
       "26 N         N            0.0190335377 N            \n",
       "27 N         N            0.0227931914 N            \n",
       "28 N         N            0.3940749436 Y            \n",
       "29 N         N            0.0406062372 N            \n",
       "30 N         Y            0.2198709670 Y            "
      ]
     },
     "metadata": {},
     "output_type": "display_data"
    }
   ],
   "source": [
    "df"
   ]
  },
  {
   "cell_type": "code",
   "execution_count": 114,
   "metadata": {
    "vscode": {
     "languageId": "r"
    }
   },
   "outputs": [
    {
     "data": {
      "image/png": "[encoded data removed]",
      "text/plain": [
       "plot without title"
      ]
     },
     "metadata": {
      "image/png": {
       "height": 420,
       "width": 420
      }
     },
     "output_type": "display_data"
    }
   ],
   "source": [
    "# Hat Value 그래프\n",
    "plot(df$HatValue, xlab=\"Index\", ylab=\"Hat Values\", col=\"blue\")\n",
    "abline(h=mean(df$HatValue), col=\"red\")\n",
    "abline(h=2*mean(df$HatValue), col=\"red\", lty=2)"
   ]
  },
  {
   "cell_type": "code",
   "execution_count": 119,
   "metadata": {
    "vscode": {
     "languageId": "r"
    }
   },
   "outputs": [
    {
     "data": {
      "image/png": "[encoded data removed]",
      "text/plain": [
       "plot without title"
      ]
     },
     "metadata": {
      "image/png": {
       "height": 420,
       "width": 420
      }
     },
     "output_type": "display_data"
    }
   ],
   "source": [
    "# 잔차 그래프\n",
    "plot(df$StuRes, ylim=c(-4,4), xlab=\"Index\", ylab=\"Studentized Residual\", col=\"blue\")\n",
    "abline(h=3.483, col=\"red\")\n",
    "abline(h=-3.483, col=\"red\")\n",
    "abline(h=2.063, col=\"red\", lty=2)\n",
    "abline(h=-2.063, col=\"red\", lty=2)"
   ]
  },
  {
   "cell_type": "code",
   "execution_count": 121,
   "metadata": {
    "vscode": {
     "languageId": "r"
    }
   },
   "outputs": [
    {
     "data": {
      "image/png": "[encoded data removed]",
      "text/plain": [
       "plot without title"
      ]
     },
     "metadata": {
      "image/png": {
       "height": 420,
       "width": 420
      }
     },
     "output_type": "display_data"
    }
   ],
   "source": [
    "# 영향력 그래프\n",
    "plot(df$CookDis, xlab=\"Index\", ylab=\"Cook's Distance\", col=\"blue\")\n",
    "abline(h=0.16, col=\"red\")"
   ]
  }
 ],
 "metadata": {
  "kernelspec": {
   "display_name": "R",
   "language": "R",
   "name": "ir"
  },
  "language_info": {
   "codemirror_mode": "r",
   "file_extension": ".r",
   "mimetype": "text/x-r-source",
   "name": "R",
   "pygments_lexer": "r",
   "version": "4.3.2"
  }
 },
 "nbformat": 4,
 "nbformat_minor": 2
}
