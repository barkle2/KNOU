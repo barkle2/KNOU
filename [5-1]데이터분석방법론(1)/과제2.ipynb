{
 "cells": [
  {
   "cell_type": "markdown",
   "metadata": {},
   "source": [
    "1번) 다음은 어떤 육상 선수의 100m 달리기 기록을 9번 잰 것이다.\n",
    "\n",
    "11.1  11.3  10.8  10.6  11.4  11.2  11.0  10.5  11.5\n",
    "\n",
    "위의 자료로 볼 때, 이 선수의 평균 기록이 11초라고 말할 수 있는가? 유의수준 α=0.05에서 검정하여라."
   ]
  },
  {
   "cell_type": "code",
   "execution_count": 6,
   "metadata": {
    "vscode": {
     "languageId": "r"
    }
   },
   "outputs": [
    {
     "data": {
      "text/plain": [
       "\n",
       "\tOne Sample t-test\n",
       "\n",
       "data:  record\n",
       "t = 0.38052, df = 8, p-value = 0.7135\n",
       "alternative hypothesis: true mean is not equal to 11\n",
       "95 percent confidence interval:\n",
       " 10.77511 11.31378\n",
       "sample estimates:\n",
       "mean of x \n",
       " 11.04444 \n"
      ]
     },
     "metadata": {},
     "output_type": "display_data"
    }
   ],
   "source": [
    "record = c(11.1, 11.3, 10.8, 10.6, 11.4, 11.2, 11.0, 10.5, 11.5)\n",
    "\n",
    "t.test(record, mu=11, conf.level=0.95)"
   ]
  },
  {
   "cell_type": "markdown",
   "metadata": {},
   "source": [
    "답변: 이 선수의 평균 기록은 95% 확률로 11초라고 할 수 있다.  \n",
    "95% 신뢰구간은 (10.77511 ~ 11.31378) 이며, 표본 평균은 11.04444로 신뢰구간에 속한다."
   ]
  },
  {
   "cell_type": "markdown",
   "metadata": {},
   "source": [
    "2번) 서로 다른 두 개의 낚시대를 사용했을 때, 잡히는 고기의 마리수에 차이가 있는지를 알아보기 위하여 다음과 같은 실험을 하였다. 1년에 16일(시기)을 정하여 4년에 걸쳐 같은 장소에서 두 사람이 서로 다른 낚시대를 사용하여 잡은 고기의 마리수를 관측하였다. 아래의 관측값은 각 시기별의 평균값이다. 두 개의 낚시대에 차이가 있다고 말할 수 있는가?\n",
    "\n",
    "낚시대 A = 6.64  7.89  1.83  0.42  0.85  0.29  0.57  0.63  0.32  0.37  0.00  0.11  4.86  1.80  0.23  0.58\n",
    "낚시대 B = 6.83  8.21  2.17  0.75  1.61  0.75  0.83  0.56  0.76  0.38  0.48  0.52  5.38  2.33  0.91  0.79\n",
    "\n",
    "(a) Two-sample test를 이용하여 유의수준 α=0.01에서 검정하여라.  \n",
    "(b) 공통 분산을 가질 때의 t 검정 방법을 이용하면 어떻게 되는가?"
   ]
  },
  {
   "cell_type": "code",
   "execution_count": 11,
   "metadata": {
    "vscode": {
     "languageId": "r"
    }
   },
   "outputs": [
    {
     "data": {
      "text/plain": [
       "\n",
       "\tWelch Two Sample t-test\n",
       "\n",
       "data:  fish_A and fish_B\n",
       "t = -0.41969, df = 30, p-value = 0.6777\n",
       "alternative hypothesis: true difference in means is not equal to 0\n",
       "99 percent confidence interval:\n",
       " -2.770817  2.037067\n",
       "sample estimates:\n",
       "mean of x mean of y \n",
       " 1.711875  2.078750 \n"
      ]
     },
     "metadata": {},
     "output_type": "display_data"
    }
   ],
   "source": [
    "# 낚시대 A와 B의 관측값\n",
    "fish_A <- c(6.64, 7.89, 1.83, 0.42, 0.85, 0.29, 0.57, 0.63, 0.32, 0.37, 0.00, 0.11, 4.86, 1.80, 0.23, 0.58)\n",
    "fish_B <- c(6.83, 8.21, 2.17, 0.75, 1.61, 0.75, 0.83, 0.56, 0.76, 0.38, 0.48, 0.52, 5.38, 2.33, 0.91, 0.79)\n",
    "\n",
    "# (a) Two-sample test를 이용한 검정(유의수준=0.01)\n",
    "t.test(fish_A, fish_B, alternative = \"two.sided\", conf.level = 0.99)"
   ]
  },
  {
   "cell_type": "markdown",
   "metadata": {},
   "source": [
    "답변: 유의수준 0.01에서 낚시대 A와 B의 평균은 동일하다고 할 수 있다.\n",
    "99% 신뢰구간은 (-2.770817 ~ 2.037067)이며, 평균의 차는 -0.41969로 신뢰구간에 속한다."
   ]
  },
  {
   "cell_type": "code",
   "execution_count": 10,
   "metadata": {
    "vscode": {
     "languageId": "r"
    }
   },
   "outputs": [
    {
     "data": {
      "text/plain": [
       "\n",
       "\tTwo Sample t-test\n",
       "\n",
       "data:  fish_A and fish_B\n",
       "t = -0.41969, df = 30, p-value = 0.6777\n",
       "alternative hypothesis: true difference in means is not equal to 0\n",
       "99 percent confidence interval:\n",
       " -2.770815  2.037065\n",
       "sample estimates:\n",
       "mean of x mean of y \n",
       " 1.711875  2.078750 \n"
      ]
     },
     "metadata": {},
     "output_type": "display_data"
    }
   ],
   "source": [
    "# (b) 공통 분산을 가질 때의 t 검정\n",
    "t.test(fish_A, fish_B, alternative = \"two.sided\", var.equal = T, conf.level = 0.99)"
   ]
  },
  {
   "cell_type": "markdown",
   "metadata": {},
   "source": [
    "답변: 유의수준 0.01에서 낚시대 A와 B의 평균은 동일하다고 할 수 있다.  \n",
    "99% 신뢰구간은 (-2.770815 ~ 2.037065)이며, 평균의 차는 -0.41969로 신뢰구간에 속한다."
   ]
  },
  {
   "cell_type": "markdown",
   "metadata": {},
   "source": [
    "3) 4개 회사 (A1, A2, A3, A4)에서 입하된 전지의 기전력을 비교하기 위하여"
   ]
  }
 ],
 "metadata": {
  "kernelspec": {
   "display_name": "R",
   "language": "R",
   "name": "ir"
  },
  "language_info": {
   "codemirror_mode": "r",
   "file_extension": ".r",
   "mimetype": "text/x-r-source",
   "name": "R",
   "pygments_lexer": "r",
   "version": "4.3.2"
  }
 },
 "nbformat": 4,
 "nbformat_minor": 2
}
