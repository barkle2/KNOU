{
 "cells": [
  {
   "cell_type": "markdown",
   "metadata": {},
   "source": [
    "### 1번\n",
    "\n",
    "다음은 어떤 육상 선수의 100m 달리기 기록을 9번 잰 것이다.\n",
    "\n",
    "11.1  11.3  10.8  10.6  11.4  11.2  11.0  10.5  11.5\n",
    "\n",
    "위의 자료로 볼 때, 이 선수의 평균 기록이 11초라고 말할 수 있는가? 유의수준 α=0.05에서 검정하여라."
   ]
  },
  {
   "cell_type": "code",
   "execution_count": 1,
   "metadata": {
    "vscode": {
     "languageId": "r"
    }
   },
   "outputs": [
    {
     "data": {
      "text/plain": [
       "\n",
       "\tOne Sample t-test\n",
       "\n",
       "data:  record\n",
       "t = 0.38052, df = 8, p-value = 0.7135\n",
       "alternative hypothesis: true mean is not equal to 11\n",
       "95 percent confidence interval:\n",
       " 10.77511 11.31378\n",
       "sample estimates:\n",
       "mean of x \n",
       " 11.04444 \n"
      ]
     },
     "metadata": {},
     "output_type": "display_data"
    }
   ],
   "source": [
    "record = c(11.1, 11.3, 10.8, 10.6, 11.4, 11.2, 11.0, 10.5, 11.5)\n",
    "\n",
    "t.test(record, mu=11, conf.level=0.95)"
   ]
  },
  {
   "cell_type": "markdown",
   "metadata": {},
   "source": [
    "답변: 이 선수의 평균 기록은 95% 확률로 11초라고 할 수 있다.  \n",
    "95% 신뢰구간은 (10.77511 ~ 11.31378) 이며, 표본 평균은 11.04444로 신뢰구간에 속한다."
   ]
  },
  {
   "cell_type": "markdown",
   "metadata": {},
   "source": [
    "### 2번\n",
    "\n",
    "서로 다른 두 개의 낚시대를 사용했을 때, 잡히는 고기의 마리수에 차이가 있는지를 알아보기 위하여 다음과 같은 실험을 하였다. 1년에 16일(시기)을 정하여 4년에 걸쳐 같은 장소에서 두 사람이 서로 다른 낚시대를 사용하여 잡은 고기의 마리수를 관측하였다. 아래의 관측값은 각 시기별의 평균값이다. 두 개의 낚시대에 차이가 있다고 말할 수 있는가?\n",
    "\n",
    "낚시대 A = 6.64  7.89  1.83  0.42  0.85  0.29  0.57  0.63  0.32  0.37  0.00  0.11  4.86  1.80  0.23  0.58\n",
    "낚시대 B = 6.83  8.21  2.17  0.75  1.61  0.75  0.83  0.56  0.76  0.38  0.48  0.52  5.38  2.33  0.91  0.79\n",
    "\n",
    "(a) Two-sample test를 이용하여 유의수준 α=0.01에서 검정하여라.  \n",
    "(b) 공통 분산을 가질 때의 t 검정 방법을 이용하면 어떻게 되는가?"
   ]
  },
  {
   "cell_type": "code",
   "execution_count": 2,
   "metadata": {
    "vscode": {
     "languageId": "r"
    }
   },
   "outputs": [
    {
     "data": {
      "text/plain": [
       "\n",
       "\tWelch Two Sample t-test\n",
       "\n",
       "data:  fish_A and fish_B\n",
       "t = -0.41969, df = 30, p-value = 0.6777\n",
       "alternative hypothesis: true difference in means is not equal to 0\n",
       "99 percent confidence interval:\n",
       " -2.770817  2.037067\n",
       "sample estimates:\n",
       "mean of x mean of y \n",
       " 1.711875  2.078750 \n"
      ]
     },
     "metadata": {},
     "output_type": "display_data"
    }
   ],
   "source": [
    "# 낚시대 A와 B의 관측값\n",
    "fish_A <- c(6.64, 7.89, 1.83, 0.42, 0.85, 0.29, 0.57, 0.63, 0.32, 0.37, 0.00, 0.11, 4.86, 1.80, 0.23, 0.58)\n",
    "fish_B <- c(6.83, 8.21, 2.17, 0.75, 1.61, 0.75, 0.83, 0.56, 0.76, 0.38, 0.48, 0.52, 5.38, 2.33, 0.91, 0.79)\n",
    "\n",
    "# (a) Two-sample test를 이용한 검정(유의수준=0.01)\n",
    "t.test(fish_A, fish_B, alternative = \"two.sided\", conf.level = 0.99)"
   ]
  },
  {
   "cell_type": "markdown",
   "metadata": {},
   "source": [
    "답변: 유의수준 0.01에서 낚시대 A와 B의 평균은 동일하다고 할 수 있다.  \n",
    "99% 신뢰구간은 (-2.770817 ~ 2.037067)이며, 평균의 차는 -0.41969로 신뢰구간에 속한다."
   ]
  },
  {
   "cell_type": "code",
   "execution_count": 3,
   "metadata": {
    "vscode": {
     "languageId": "r"
    }
   },
   "outputs": [
    {
     "data": {
      "text/plain": [
       "\n",
       "\tTwo Sample t-test\n",
       "\n",
       "data:  fish_A and fish_B\n",
       "t = -0.41969, df = 30, p-value = 0.6777\n",
       "alternative hypothesis: true difference in means is not equal to 0\n",
       "99 percent confidence interval:\n",
       " -2.770815  2.037065\n",
       "sample estimates:\n",
       "mean of x mean of y \n",
       " 1.711875  2.078750 \n"
      ]
     },
     "metadata": {},
     "output_type": "display_data"
    }
   ],
   "source": [
    "# (b) 공통 분산을 가질 때의 t 검정\n",
    "t.test(fish_A, fish_B, alternative = \"two.sided\", var.equal = T, conf.level = 0.99)"
   ]
  },
  {
   "cell_type": "markdown",
   "metadata": {},
   "source": [
    "답변: 유의수준 0.01에서 낚시대 A와 B의 평균은 동일하다고 할 수 있다.  \n",
    "99% 신뢰구간은 (-2.770815 ~ 2.037065)이며, 평균의 차는 -0.41969로 신뢰구간에 속한다."
   ]
  },
  {
   "cell_type": "markdown",
   "metadata": {},
   "source": [
    "### 3번\n",
    "\n",
    "4개 회사 (A1, A2, A3, A4)에서 입하된 전지의 기전력을 비교하기 위하여 각 회사로부터 6개씩의 기전력(단위는 Volt)을 측정한 결과 다음의 관측값을 얻었다. 이 관측값에 대하여 one-way analysis of variance의 모형을 적용할 때, 회사간에 기전력의 차이가 있는지 유의수준 5%에서 검정하라.\n",
    "\n",
    "A1 = 1.52, 1.50, 1.52, 1.49, 1.52, 1.53  \n",
    "A2 = 1.55, 1.54, 1.57, 1.56, 1.56, 1.55  \n",
    "A3 = 1.48, 1.47, 1.46, 1.50, 1.48, 1.48  \n",
    "A4 = 1.57, 1.59, 1.60, 1.58, 1.57, 1.59  "
   ]
  },
  {
   "cell_type": "code",
   "execution_count": 18,
   "metadata": {
    "vscode": {
     "languageId": "r"
    }
   },
   "outputs": [
    {
     "data": {
      "text/plain": [
       "\n",
       "\tShapiro-Wilk normality test\n",
       "\n",
       "data:  A1\n",
       "W = 0.86626, p-value = 0.2117\n"
      ]
     },
     "metadata": {},
     "output_type": "display_data"
    },
    {
     "data": {
      "text/plain": [
       "\n",
       "\tShapiro-Wilk normality test\n",
       "\n",
       "data:  A2\n",
       "W = 0.96004, p-value = 0.8201\n"
      ]
     },
     "metadata": {},
     "output_type": "display_data"
    },
    {
     "data": {
      "text/plain": [
       "\n",
       "\tShapiro-Wilk normality test\n",
       "\n",
       "data:  A3\n",
       "W = 0.92121, p-value = 0.5141\n"
      ]
     },
     "metadata": {},
     "output_type": "display_data"
    },
    {
     "data": {
      "text/plain": [
       "\n",
       "\tShapiro-Wilk normality test\n",
       "\n",
       "data:  A4\n",
       "W = 0.9067, p-value = 0.415\n"
      ]
     },
     "metadata": {},
     "output_type": "display_data"
    },
    {
     "data": {
      "text/html": [
       "<table class=\"dataframe\">\n",
       "<caption>A anova: 2 × 5</caption>\n",
       "<thead>\n",
       "\t<tr><th></th><th scope=col>Df</th><th scope=col>Sum Sq</th><th scope=col>Mean Sq</th><th scope=col>F value</th><th scope=col>Pr(&gt;F)</th></tr>\n",
       "\t<tr><th></th><th scope=col>&lt;int&gt;</th><th scope=col>&lt;dbl&gt;</th><th scope=col>&lt;dbl&gt;</th><th scope=col>&lt;dbl&gt;</th><th scope=col>&lt;dbl&gt;</th></tr>\n",
       "</thead>\n",
       "<tbody>\n",
       "\t<tr><th scope=row>q3$corp</th><td> 3</td><td>0.03835</td><td>0.01278333</td><td>77.47475</td><td>3.475136e-11</td></tr>\n",
       "\t<tr><th scope=row>Residuals</th><td>20</td><td>0.00330</td><td>0.00016500</td><td>      NA</td><td>          NA</td></tr>\n",
       "</tbody>\n",
       "</table>\n"
      ],
      "text/latex": [
       "A anova: 2 × 5\n",
       "\\begin{tabular}{r|lllll}\n",
       "  & Df & Sum Sq & Mean Sq & F value & Pr(>F)\\\\\n",
       "  & <int> & <dbl> & <dbl> & <dbl> & <dbl>\\\\\n",
       "\\hline\n",
       "\tq3\\$corp &  3 & 0.03835 & 0.01278333 & 77.47475 & 3.475136e-11\\\\\n",
       "\tResiduals & 20 & 0.00330 & 0.00016500 &       NA &           NA\\\\\n",
       "\\end{tabular}\n"
      ],
      "text/markdown": [
       "\n",
       "A anova: 2 × 5\n",
       "\n",
       "| <!--/--> | Df &lt;int&gt; | Sum Sq &lt;dbl&gt; | Mean Sq &lt;dbl&gt; | F value &lt;dbl&gt; | Pr(&gt;F) &lt;dbl&gt; |\n",
       "|---|---|---|---|---|---|\n",
       "| q3$corp |  3 | 0.03835 | 0.01278333 | 77.47475 | 3.475136e-11 |\n",
       "| Residuals | 20 | 0.00330 | 0.00016500 |       NA |           NA |\n",
       "\n"
      ],
      "text/plain": [
       "          Df Sum Sq  Mean Sq    F value  Pr(>F)      \n",
       "q3$corp    3 0.03835 0.01278333 77.47475 3.475136e-11\n",
       "Residuals 20 0.00330 0.00016500       NA           NA"
      ]
     },
     "metadata": {},
     "output_type": "display_data"
    }
   ],
   "source": [
    "# 데이터 입력\n",
    "A1 <- c(1.52, 1.50, 1.52, 1.49, 1.52, 1.53)\n",
    "A2 <- c(1.55, 1.54, 1.57, 1.56, 1.56, 1.55)\n",
    "A3 <- c(1.48, 1.47, 1.46, 1.50, 1.48, 1.48)\n",
    "A4 <- c(1.57, 1.59, 1.60, 1.58, 1.57, 1.59)\n",
    "\n",
    "# 회사별 데이터가 정규분포인지 확인한다.\n",
    "shapiro.test(A1)\n",
    "shapiro.test(A2)\n",
    "shapiro.test(A3)\n",
    "shapiro.test(A4)\n",
    "\n",
    "# 회사별 데이터를 q3 변수에 입력한다.\n",
    "q3 <- data.frame(voltage = c(A1, A2, A3, A4), corp = rep(c(\"A1\", \"A2\", \"A3\", \"A4\"), each=6))\n",
    "\n",
    "# 회사간에 기전력의 차이가 있는지 검정\n",
    "anova(lm(q3$voltage ~ q3$corp))"
   ]
  },
  {
   "cell_type": "markdown",
   "metadata": {},
   "source": [
    "답변: p-value가 3.475e-11로 매우 작은 값이므로 귀무가설을 기각한다. 즉, 회사간에 기전력의 차이가 있다."
   ]
  },
  {
   "cell_type": "code",
   "execution_count": 48,
   "metadata": {
    "vscode": {
     "languageId": "r"
    }
   },
   "outputs": [
    {
     "data": {
      "text/plain": [
       "\n",
       "\tPairwise comparisons using t tests with pooled SD \n",
       "\n",
       "data:  q3$voltage and q3$corp \n",
       "\n",
       "   A1      A2      A3     \n",
       "A2 0.00010 -       -      \n",
       "A3 0.00079 1.1e-08 -      \n",
       "A4 5.0e-08 0.00642 4.2e-11\n",
       "\n",
       "P value adjustment method: bonferroni "
      ]
     },
     "metadata": {},
     "output_type": "display_data"
    }
   ],
   "source": [
    "pairwise.t.test(q3$voltage, q3$corp, p.adj=\"bonferroni\")"
   ]
  },
  {
   "cell_type": "markdown",
   "metadata": {},
   "source": [
    "참고로, 모든 회사 조합(A1-A2, A1-A3, A1-A4, A2-A3, A2-A4, A3-A4)에서 귀무가설이 기각됨을 알 수 있다."
   ]
  },
  {
   "cell_type": "markdown",
   "metadata": {},
   "source": [
    "### 4번\n",
    "\n",
    "어떤 약품의 불순물을 제거하는 정제공정에서 첨가제의 양(A) 5종류, 처리온도(B) 4종류를 택하여 총 20개 조에 실험을 랜덤한 순서로 행한 후 불순물의 잔류량(g)을 측정한 결과 다음과 같았다. two-way analysis of variance의 모형을 적용하여 A, B인자의 영향을 유의수준 5%에서 검정하라.\n",
    "\n",
    "|인자 A/B|B1|B2|B3|B4|\n",
    "|:-:|:-:|:-:|:-:|:-:|\n",
    "|A1|26|28|31|36|\n",
    "|A2|30|33|27|31|\n",
    "|A3|30|32|28|33|\n",
    "|A4|29|28|32|30|\n",
    "|A5|32|27|31|26|"
   ]
  },
  {
   "cell_type": "code",
   "execution_count": 47,
   "metadata": {
    "vscode": {
     "languageId": "r"
    }
   },
   "outputs": [
    {
     "data": {
      "text/html": [
       "<table class=\"dataframe\">\n",
       "<caption>A data.frame: 5 × 2</caption>\n",
       "<thead>\n",
       "\t<tr><th scope=col>groupA</th><th scope=col>gram</th></tr>\n",
       "\t<tr><th scope=col>&lt;chr&gt;</th><th scope=col>&lt;dbl&gt;</th></tr>\n",
       "</thead>\n",
       "<tbody>\n",
       "\t<tr><td>A1</td><td>30.25</td></tr>\n",
       "\t<tr><td>A2</td><td>30.25</td></tr>\n",
       "\t<tr><td>A3</td><td>30.75</td></tr>\n",
       "\t<tr><td>A4</td><td>29.75</td></tr>\n",
       "\t<tr><td>A5</td><td>29.00</td></tr>\n",
       "</tbody>\n",
       "</table>\n"
      ],
      "text/latex": [
       "A data.frame: 5 × 2\n",
       "\\begin{tabular}{ll}\n",
       " groupA & gram\\\\\n",
       " <chr> & <dbl>\\\\\n",
       "\\hline\n",
       "\t A1 & 30.25\\\\\n",
       "\t A2 & 30.25\\\\\n",
       "\t A3 & 30.75\\\\\n",
       "\t A4 & 29.75\\\\\n",
       "\t A5 & 29.00\\\\\n",
       "\\end{tabular}\n"
      ],
      "text/markdown": [
       "\n",
       "A data.frame: 5 × 2\n",
       "\n",
       "| groupA &lt;chr&gt; | gram &lt;dbl&gt; |\n",
       "|---|---|\n",
       "| A1 | 30.25 |\n",
       "| A2 | 30.25 |\n",
       "| A3 | 30.75 |\n",
       "| A4 | 29.75 |\n",
       "| A5 | 29.00 |\n",
       "\n"
      ],
      "text/plain": [
       "  groupA gram \n",
       "1 A1     30.25\n",
       "2 A2     30.25\n",
       "3 A3     30.75\n",
       "4 A4     29.75\n",
       "5 A5     29.00"
      ]
     },
     "metadata": {},
     "output_type": "display_data"
    },
    {
     "data": {
      "text/html": [
       "<table class=\"dataframe\">\n",
       "<caption>A data.frame: 4 × 2</caption>\n",
       "<thead>\n",
       "\t<tr><th scope=col>groupB</th><th scope=col>gram</th></tr>\n",
       "\t<tr><th scope=col>&lt;chr&gt;</th><th scope=col>&lt;dbl&gt;</th></tr>\n",
       "</thead>\n",
       "<tbody>\n",
       "\t<tr><td>B1</td><td>29.4</td></tr>\n",
       "\t<tr><td>B2</td><td>29.6</td></tr>\n",
       "\t<tr><td>B3</td><td>29.8</td></tr>\n",
       "\t<tr><td>B4</td><td>31.2</td></tr>\n",
       "</tbody>\n",
       "</table>\n"
      ],
      "text/latex": [
       "A data.frame: 4 × 2\n",
       "\\begin{tabular}{ll}\n",
       " groupB & gram\\\\\n",
       " <chr> & <dbl>\\\\\n",
       "\\hline\n",
       "\t B1 & 29.4\\\\\n",
       "\t B2 & 29.6\\\\\n",
       "\t B3 & 29.8\\\\\n",
       "\t B4 & 31.2\\\\\n",
       "\\end{tabular}\n"
      ],
      "text/markdown": [
       "\n",
       "A data.frame: 4 × 2\n",
       "\n",
       "| groupB &lt;chr&gt; | gram &lt;dbl&gt; |\n",
       "|---|---|\n",
       "| B1 | 29.4 |\n",
       "| B2 | 29.6 |\n",
       "| B3 | 29.8 |\n",
       "| B4 | 31.2 |\n",
       "\n"
      ],
      "text/plain": [
       "  groupB gram\n",
       "1 B1     29.4\n",
       "2 B2     29.6\n",
       "3 B3     29.8\n",
       "4 B4     31.2"
      ]
     },
     "metadata": {},
     "output_type": "display_data"
    },
    {
     "data": {
      "text/html": [
       "<table class=\"dataframe\">\n",
       "<caption>A anova: 3 × 5</caption>\n",
       "<thead>\n",
       "\t<tr><th></th><th scope=col>Df</th><th scope=col>Sum Sq</th><th scope=col>Mean Sq</th><th scope=col>F value</th><th scope=col>Pr(&gt;F)</th></tr>\n",
       "\t<tr><th></th><th scope=col>&lt;int&gt;</th><th scope=col>&lt;dbl&gt;</th><th scope=col>&lt;dbl&gt;</th><th scope=col>&lt;dbl&gt;</th><th scope=col>&lt;dbl&gt;</th></tr>\n",
       "</thead>\n",
       "<tbody>\n",
       "\t<tr><th scope=row>groupA</th><td> 4</td><td>  7</td><td>1.750000</td><td>0.1826087</td><td>0.9430008</td></tr>\n",
       "\t<tr><th scope=row>groupB</th><td> 3</td><td> 10</td><td>3.333333</td><td>0.3478261</td><td>0.7914310</td></tr>\n",
       "\t<tr><th scope=row>Residuals</th><td>12</td><td>115</td><td>9.583333</td><td>       NA</td><td>       NA</td></tr>\n",
       "</tbody>\n",
       "</table>\n"
      ],
      "text/latex": [
       "A anova: 3 × 5\n",
       "\\begin{tabular}{r|lllll}\n",
       "  & Df & Sum Sq & Mean Sq & F value & Pr(>F)\\\\\n",
       "  & <int> & <dbl> & <dbl> & <dbl> & <dbl>\\\\\n",
       "\\hline\n",
       "\tgroupA &  4 &   7 & 1.750000 & 0.1826087 & 0.9430008\\\\\n",
       "\tgroupB &  3 &  10 & 3.333333 & 0.3478261 & 0.7914310\\\\\n",
       "\tResiduals & 12 & 115 & 9.583333 &        NA &        NA\\\\\n",
       "\\end{tabular}\n"
      ],
      "text/markdown": [
       "\n",
       "A anova: 3 × 5\n",
       "\n",
       "| <!--/--> | Df &lt;int&gt; | Sum Sq &lt;dbl&gt; | Mean Sq &lt;dbl&gt; | F value &lt;dbl&gt; | Pr(&gt;F) &lt;dbl&gt; |\n",
       "|---|---|---|---|---|---|\n",
       "| groupA |  4 |   7 | 1.750000 | 0.1826087 | 0.9430008 |\n",
       "| groupB |  3 |  10 | 3.333333 | 0.3478261 | 0.7914310 |\n",
       "| Residuals | 12 | 115 | 9.583333 |        NA |        NA |\n",
       "\n"
      ],
      "text/plain": [
       "          Df Sum Sq Mean Sq  F value   Pr(>F)   \n",
       "groupA     4   7    1.750000 0.1826087 0.9430008\n",
       "groupB     3  10    3.333333 0.3478261 0.7914310\n",
       "Residuals 12 115    9.583333        NA        NA"
      ]
     },
     "metadata": {},
     "output_type": "display_data"
    }
   ],
   "source": [
    "gram = c(26, 28, 31, 36,\n",
    "         30, 33, 27, 31,\n",
    "         30, 32, 28, 33,\n",
    "         29, 28, 32, 30,\n",
    "         32, 27, 31, 26)\n",
    "\n",
    "q4 = data.frame(gram = gram, groupA=rep(c(\"A1\", \"A2\", \"A3\", \"A4\", \"A5\"), each=4), groupB=rep(c(\"B1\", \"B2\", \"B3\", \"B4\"), times=5))\n",
    "\n",
    "aggregate(gram~groupA, q4, mean)\n",
    "aggregate(gram~groupB, q4, mean)\n",
    "\n",
    "anova(lm(gram~groupA+groupB, data=q4))"
   ]
  },
  {
   "cell_type": "markdown",
   "metadata": {},
   "source": [
    "답변) 첨가제의 양 A, 처리온도 B 의 p-value가 모두 0.05보다 큰 값이므로 귀무가설을 기각하지 못한다. 즉, 첨가제의 양과 처리온도는 불순물의 잔류량에 영향을 주지 못한다."
   ]
  }
 ],
 "metadata": {
  "kernelspec": {
   "display_name": "R",
   "language": "R",
   "name": "ir"
  },
  "language_info": {
   "codemirror_mode": "r",
   "file_extension": ".r",
   "mimetype": "text/x-r-source",
   "name": "R",
   "pygments_lexer": "r",
   "version": "4.3.2"
  }
 },
 "nbformat": 4,
 "nbformat_minor": 2
}
