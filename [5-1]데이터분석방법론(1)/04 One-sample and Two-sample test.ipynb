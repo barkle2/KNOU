{
 "cells": [
  {
   "cell_type": "markdown",
   "metadata": {},
   "source": [
    "# 04 One-sample and Two-sample test\n",
    "\n",
    "## 01 One-sample test\n",
    "\n",
    "### 1. One-sample t test\n",
    "\n",
    "- <img src=\"https://latex.codecogs.com/svg.image?(x_1,\\cdots,x_n)\\sim&space;N(\\mu,\\sigma^2)\"><br>\n",
    "<img src=\"https://latex.codecogs.com/svg.image?H_0:\\mu=\\mu_0\\;\\;vs\\;\\;H_1:\\mu\\neq\\mu_0\">\n",
    "\n",
    "- 검정통계량 <img src=\"https://latex.codecogs.com/svg.image?t_0=\\frac{\\bar{x}-\\mu_0}{s/\\sqrt{n}}\\sim&space;t(n-1)\">\n",
    "\n",
    "ex) example concerning daily intake in kJ for 11 women(Altman, 1991, p.183). To investigate whether the women's energy intake deviates systematically from a recommended value of 7725kJ.<br>\n",
    "\n",
    "예) 11명의 여성들의 일일 에너지 섭취량에 대한 예제를 살펴보겠습니다(Altman, 1991, p.183). 이 여성들의 에너지 섭취량이 권장값인 7725kJ에서 체계적으로 벗어나는지 조사하기 위해서입니다.\n"
   ]
  },
  {
   "cell_type": "code",
   "execution_count": 2,
   "metadata": {
    "vscode": {
     "languageId": "r"
    }
   },
   "outputs": [
    {
     "data": {
      "text/html": [
       "6753.63636363636"
      ],
      "text/latex": [
       "6753.63636363636"
      ],
      "text/markdown": [
       "6753.63636363636"
      ],
      "text/plain": [
       "[1] 6753.636"
      ]
     },
     "metadata": {},
     "output_type": "display_data"
    },
    {
     "data": {
      "text/html": [
       "1142.12322213737"
      ],
      "text/latex": [
       "1142.12322213737"
      ],
      "text/markdown": [
       "1142.12322213737"
      ],
      "text/plain": [
       "[1] 1142.123"
      ]
     },
     "metadata": {},
     "output_type": "display_data"
    },
    {
     "data": {
      "text/html": [
       "<style>\n",
       ".dl-inline {width: auto; margin:0; padding: 0}\n",
       ".dl-inline>dt, .dl-inline>dd {float: none; width: auto; display: inline-block}\n",
       ".dl-inline>dt::after {content: \":\\0020\"; padding-right: .5ex}\n",
       ".dl-inline>dt:not(:first-of-type) {padding-left: .5ex}\n",
       "</style><dl class=dl-inline><dt>0%</dt><dd>5260</dd><dt>25%</dt><dd>5910</dd><dt>50%</dt><dd>6515</dd><dt>75%</dt><dd>7515</dd><dt>100%</dt><dd>8770</dd></dl>\n"
      ],
      "text/latex": [
       "\\begin{description*}\n",
       "\\item[0\\textbackslash{}\\%] 5260\n",
       "\\item[25\\textbackslash{}\\%] 5910\n",
       "\\item[50\\textbackslash{}\\%] 6515\n",
       "\\item[75\\textbackslash{}\\%] 7515\n",
       "\\item[100\\textbackslash{}\\%] 8770\n",
       "\\end{description*}\n"
      ],
      "text/markdown": [
       "0%\n",
       ":   526025%\n",
       ":   591050%\n",
       ":   651575%\n",
       ":   7515100%\n",
       ":   8770\n",
       "\n"
      ],
      "text/plain": [
       "  0%  25%  50%  75% 100% \n",
       "5260 5910 6515 7515 8770 "
      ]
     },
     "metadata": {},
     "output_type": "display_data"
    }
   ],
   "source": [
    "daily.intake <- c(5260, 5470, 5640, 6180, 6390, 6515, 6805, 7515, 7515, 8230, 8770)\n",
    "mean(daily.intake)\n",
    "sd(daily.intake)\n",
    "quantile(daily.intake)"
   ]
  },
  {
   "cell_type": "code",
   "execution_count": 3,
   "metadata": {
    "vscode": {
     "languageId": "r"
    }
   },
   "outputs": [
    {
     "data": {
      "text/plain": [
       "\n",
       "\tOne Sample t-test\n",
       "\n",
       "data:  daily.intake\n",
       "t = -2.8208, df = 10, p-value = 0.01814\n",
       "alternative hypothesis: true mean is not equal to 7725\n",
       "95 percent confidence interval:\n",
       " 5986.348 7520.925\n",
       "sample estimates:\n",
       "mean of x \n",
       " 6753.636 \n"
      ]
     },
     "metadata": {},
     "output_type": "display_data"
    }
   ],
   "source": [
    "t.test(daily.intake, mu=7725)"
   ]
  },
  {
   "cell_type": "markdown",
   "metadata": {},
   "source": [
    "- You can immediately see that p<0.05 and thus that (using the customary 5% level of significance) data deviate significantly from the hypotheses that the mean is 7725.\n",
    "- Optional arguments\n",
    "  - mu (def=0)\n",
    "  - alternative = \"grater\"(\"g\") or \"less\"(\"l\") (def=two-sided)\n",
    "  - conf.level = 0.99 (def=0.95)"
   ]
  },
  {
   "cell_type": "markdown",
   "metadata": {},
   "source": [
    "### 2. Wilcoxon signed-rank test\n",
    "\n",
    "- The t tests are fairly robust against departures from the normal distribution especially in larger samples, but sometimes you wish to avoid making that sssumption. To this end, the distribution-free methods are convenient.\n",
    "- t 검정은 특히 큰 샘플에서는 정규 분포에서 벗어난 경우에도 상당히 견고합니다. 하지만 때로는 그 가정을 피하고 싶을 수 있습니다. 이를 위해 비모수적인 방법들이 편리합니다.\n",
    "\n",
    "- For the one-sample Wilcoxon test, the procedure is to subtract is to subtract the theoretical <img src=\"https://latex.codecogs.com/svg.image?\\mu_0\"> and rank the differences according to their numerical value, ignoring the sign, and then calculate the sum of the positive or negative ranks.\n",
    "- 단일표본 Wilcoxon 검정에서의 절차는 이론적인 <img src=\"https://latex.codecogs.com/svg.image?\\mu_0\">를 빼고 그 차이를 숫자 값에 따라 순위를 매기되 부호를 무시하고, 그 다음 양수 또는 음수 순위의 합계를 계산하는 것입니다."
   ]
  },
  {
   "cell_type": "code",
   "execution_count": 4,
   "metadata": {
    "vscode": {
     "languageId": "r"
    }
   },
   "outputs": [
    {
     "name": "stderr",
     "output_type": "stream",
     "text": [
      "Warning message in wilcox.test.default(daily.intake, mu = 7725):\n",
      "\"tie가 있어 정확한 p값을 계산할 수 없습니다\"\n"
     ]
    },
    {
     "data": {
      "text/plain": [
       "\n",
       "\tWilcoxon signed rank test with continuity correction\n",
       "\n",
       "data:  daily.intake\n",
       "V = 8, p-value = 0.0293\n",
       "alternative hypothesis: true location is not equal to 7725\n"
      ]
     },
     "metadata": {},
     "output_type": "display_data"
    }
   ],
   "source": [
    "wilcox.test(daily.intake, mu=7725)"
   ]
  },
  {
   "cell_type": "markdown",
   "metadata": {},
   "source": [
    "- The test statistic V is the sum of the positive ranks. In the example, the p-value is computed from the normal approximation because of the tie at 7515.\n",
    "- 검정 통계량 V는 양수 순위의 합계입니다. 예제에서 7515에서의 동률로 인해 정규 근사를 사용하여 p값이 계산됩니다."
   ]
  },
  {
   "cell_type": "markdown",
   "metadata": {},
   "source": [
    "## 02 Two-sample test(Independent samples)\n",
    "\n",
    "### 1. Two-sample test\n",
    "\n",
    "- The two-sample t test is used to test the hypothesis that two samples may be assumed to come from distributions with the same mean <img src=\"https://latex.codecogs.com/svg.image?(\\delta_0=0)\">.\n",
    "- 두 표본 t 검정은 두 표본이 동일한 평균 <img src=\"https://latex.codecogs.com/svg.image?(\\delta_0=0)\">을 가진 분포에서 추출되었을 것으로 가정하는 가설을 검정하는 데 사용됩니다.\n",
    "- Hypothesis for comparing two population means <img src=\"https://latex.codecogs.com/svg.image?(\\mu_1,\\mu_2)\">.\n",
    "\n",
    "- ① <img src=\"https://latex.codecogs.com/svg.image?H_0:\\mu_1-\\mu_2=\\delta_0\"> <br>\n",
    "  &nbsp;&nbsp;&nbsp;&nbsp;&nbsp;<img src=\"https://latex.codecogs.com/svg.image?H_1:\\mu_1-\\mu_2>\\delta_0\">\n",
    "- ② <img src=\"https://latex.codecogs.com/svg.image?H_0:\\mu_1-\\mu_2=\\delta_0\"> <br>\n",
    "  &nbsp;&nbsp;&nbsp;&nbsp;&nbsp;<img src=\"https://latex.codecogs.com/svg.image?H_1:\\mu_1-\\mu_2<\\delta_0\">\n",
    "- ③ <img src=\"https://latex.codecogs.com/svg.image?H_0:\\mu_1-\\mu_2=\\delta_0\"> <br>\n",
    "  &nbsp;&nbsp;&nbsp;&nbsp;&nbsp;<img src=\"https://latex.codecogs.com/svg.image?H_1:\\mu_1-\\mu_2\\neq\\delta_0\">\n",
    "\n",
    "- If the sample size is sufficiently large (usually greater than 30), the following test statistic is used regardless of the population distribution(standard normal distribution).\n",
    "- 표본 크기가 충분히 큰 경우 (일반적으로 30 이상), 모집단 분포에 관계없이 다음 검정 통계량이 사용됩니다(표준 정규분포).\n",
    "  - <img src=\"https://latex.codecogs.com/svg.image?Z=\\frac{(\\bar{X_1}-\\bar{X_2})-\\delta_0}{\\sqrt{\\frac{S_1^2}{n_1}&plus;\\frac{S_2^2}{n_2}}}\">    "
   ]
  },
  {
   "cell_type": "markdown",
   "metadata": {},
   "source": [
    "- If the sample size is small, under the assumption of normal distribution and equal variance we can use the following test statistics.\n",
    "- 표본 크기가 작은 경우, 정규 분포를 가정하고 분산이 동일하다고 가정할 때 다음과 같은 검정 통계량을 사용할 수 있습니다.\n",
    "\n",
    "\n",
    "|<img src=\"https://latex.codecogs.com/svg.image?H_0:\\mu_1-\\mu_2=\\delta_0\"><br><img src=\"https://latex.codecogs.com/svg.image?H_1:\\mu_1-\\mu_2>\\delta_0\">|<img src=\"https://latex.codecogs.com/svg.image?\\frac{(\\bar{X_1}-\\bar{X_2})-\\delta_0}{\\sqrt{\\frac{S_p^2}{n_1}&plus;\\frac{S_p^2}{n_2}}}>t_{n_1+n_2-2,\\alpha} \\Rightarrow reject\\;H_0\">|\n",
    "|:-:|:-:|\n",
    "|<img src=\"https://latex.codecogs.com/svg.image?H_0:\\mu_1-\\mu_2=\\delta_0\"><br><img src=\"https://latex.codecogs.com/svg.image?H_1:\\mu_1-\\mu_2<\\delta_0\">|<img src=\"https://latex.codecogs.com/svg.image?\\frac{(\\bar{X_1}-\\bar{X_2})-\\delta_0}{\\sqrt{\\frac{S_p^2}{n_1}&plus;\\frac{S_p^2}{n_2}}}<-t_{n_1+n_2-2,\\alpha} \\Rightarrow reject\\;H_0\">|\n",
    "|<img src=\"https://latex.codecogs.com/svg.image?H_0:\\mu_1-\\mu_2=\\delta_0\"><br><img src=\"https://latex.codecogs.com/svg.image?H_1:\\mu_1-\\mu_2\\neq\\delta_0\">|<img src=\"https://latex.codecogs.com/svg.image?\\left\\|\\frac{(\\bar{X_1}-\\bar{X_2})-\\delta_0}{\\sqrt{\\frac{S_p^2}{n_1}&plus;\\frac{S_p^2}{n_2}}}\\right\\|>t_{n_1&plus;n_2-2,\\alpha/2}\\Rightarrow&space;reject\\;H_0\">|\n",
    "\n",
    "<br>\n",
    "<img src=\"https://latex.codecogs.com/svg.image?S_p^2=\\frac{(n_1-1)S_1^2&plus;(n_2-1)S_2^2}{n_1&plus;n_2-2}\">\n",
    "\n",
    "- If variances are not equal, we need to modify the degrees of freedom of the t distribution to *Φ*(Satterthwaite approximation)\n",
    "- 분산이 동일하지 않은 경우, t 분포의 자유도를 Satterthwaite 근사치인 *Φ*로 수정해야 합니다.\n",
    "\n",
    "|<img src=\"https://latex.codecogs.com/svg.image?H_0:\\mu_1-\\mu_2=\\delta_0\"><br><img src=\"https://latex.codecogs.com/svg.image?H_1:\\mu_1-\\mu_2>\\delta_0\">|<img src=\"https://latex.codecogs.com/svg.image?\\frac{(\\bar{X_1}-\\bar{X_2})-\\delta_0}{\\sqrt{\\frac{S_1^2}{n_1}&plus;\\frac{S_2^2}{n_2}}}>t_{\\phi,\\alpha} \\Rightarrow reject\\;H_0\">|\n",
    "|:-:|:-:|\n",
    "|<img src=\"https://latex.codecogs.com/svg.image?H_0:\\mu_1-\\mu_2=\\delta_0\"><br><img src=\"https://latex.codecogs.com/svg.image?H_1:\\mu_1-\\mu_2<\\delta_0\">|<img src=\"https://latex.codecogs.com/svg.image?\\frac{(\\bar{X_1}-\\bar{X_2})-\\delta_0}{\\sqrt{\\frac{S_1^2}{n_1}&plus;\\frac{S_2^2}{n_2}}}<-t_{\\phi,\\alpha} \\Rightarrow reject\\;H_0\">|\n",
    "|<img src=\"https://latex.codecogs.com/svg.image?H_0:\\mu_1-\\mu_2=\\delta_0\"><br><img src=\"https://latex.codecogs.com/svg.image?H_1:\\mu_1-\\mu_2\\neq\\delta_0\">|<img src=\"https://latex.codecogs.com/svg.image?\\left\\|\\frac{(\\bar{X_1}-\\bar{X_2})-\\delta_0}{\\sqrt{\\frac{S_1^2}{n_1}&plus;\\frac{S_2^2}{n_2}}}\\right\\|>t_{\\phi,\\alpha/2}\\Rightarrow&space;reject\\;H_0\">|\n",
    "\n",
    "<br>\n",
    "<img src=\"https://latex.codecogs.com/svg.image?\\phi=\\frac{\\left[\\frac{S_1^2}{n_1}&plus;\\frac{S_2^2}{n_2}\\right]^2}{\\frac{(S_1^2/n_1)^2}{n_1-1}&plus;\\frac{(S_2^2/n_2)^2}{n_2-1}}\">\n",
    "\n",
    "\n",
    "\n"
   ]
  },
  {
   "cell_type": "markdown",
   "metadata": {},
   "source": [
    "- The two-sample t test is used to test the hypothesis that two samples may be assumed to come from distributions with the same mean.\n",
    "- 두 표본 t 검정은 두 표본이 동일한 평균을 가진 분포에서 추출되었을 것으로 가정하는 가설을 검정하는 데 사용됩니다."
   ]
  },
  {
   "cell_type": "code",
   "execution_count": 4,
   "metadata": {
    "vscode": {
     "languageId": "r"
    }
   },
   "outputs": [
    {
     "name": "stderr",
     "output_type": "stream",
     "text": [
      "The following objects are masked from energy (pos = 3):\n",
      "\n",
      "    expend, stature\n",
      "\n",
      "\n"
     ]
    },
    {
     "data": {
      "text/html": [
       "<style>\n",
       ".list-inline {list-style: none; margin:0; padding: 0}\n",
       ".list-inline>li {display: inline-block}\n",
       ".list-inline>li:not(:last-child)::after {content: \"\\00b7\"; padding: 0 .5ex}\n",
       "</style>\n",
       "<ol class=list-inline><li>9.21</li><li>7.53</li><li>7.48</li><li>8.08</li><li>8.09</li><li>10.15</li><li>8.4</li><li>10.88</li><li>6.13</li><li>7.9</li><li>11.51</li><li>12.79</li><li>7.05</li><li>11.85</li><li>9.97</li><li>7.48</li><li>8.79</li><li>9.69</li><li>9.68</li><li>7.58</li><li>9.19</li><li>8.11</li></ol>\n"
      ],
      "text/latex": [
       "\\begin{enumerate*}\n",
       "\\item 9.21\n",
       "\\item 7.53\n",
       "\\item 7.48\n",
       "\\item 8.08\n",
       "\\item 8.09\n",
       "\\item 10.15\n",
       "\\item 8.4\n",
       "\\item 10.88\n",
       "\\item 6.13\n",
       "\\item 7.9\n",
       "\\item 11.51\n",
       "\\item 12.79\n",
       "\\item 7.05\n",
       "\\item 11.85\n",
       "\\item 9.97\n",
       "\\item 7.48\n",
       "\\item 8.79\n",
       "\\item 9.69\n",
       "\\item 9.68\n",
       "\\item 7.58\n",
       "\\item 9.19\n",
       "\\item 8.11\n",
       "\\end{enumerate*}\n"
      ],
      "text/markdown": [
       "1. 9.21\n",
       "2. 7.53\n",
       "3. 7.48\n",
       "4. 8.08\n",
       "5. 8.09\n",
       "6. 10.15\n",
       "7. 8.4\n",
       "8. 10.88\n",
       "9. 6.13\n",
       "10. 7.9\n",
       "11. 11.51\n",
       "12. 12.79\n",
       "13. 7.05\n",
       "14. 11.85\n",
       "15. 9.97\n",
       "16. 7.48\n",
       "17. 8.79\n",
       "18. 9.69\n",
       "19. 9.68\n",
       "20. 7.58\n",
       "21. 9.19\n",
       "22. 8.11\n",
       "\n",
       "\n"
      ],
      "text/plain": [
       " [1]  9.21  7.53  7.48  8.08  8.09 10.15  8.40 10.88  6.13  7.90 11.51 12.79\n",
       "[13]  7.05 11.85  9.97  7.48  8.79  9.69  9.68  7.58  9.19  8.11"
      ]
     },
     "metadata": {},
     "output_type": "display_data"
    },
    {
     "data": {
      "text/plain": [
       "\n",
       "\tWelch Two Sample t-test\n",
       "\n",
       "data:  expend by stature\n",
       "t = -3.8555, df = 15.919, p-value = 0.001411\n",
       "alternative hypothesis: true difference in means between group lean and group obese is not equal to 0\n",
       "95 percent confidence interval:\n",
       " -3.459167 -1.004081\n",
       "sample estimates:\n",
       " mean in group lean mean in group obese \n",
       "           8.066154           10.297778 \n"
      ]
     },
     "metadata": {},
     "output_type": "display_data"
    }
   ],
   "source": [
    "library(ISwR)\n",
    "data(energy)\n",
    "attach(energy)\n",
    "\n",
    "t.test(expend~stature)"
   ]
  },
  {
   "cell_type": "markdown",
   "metadata": {},
   "source": [
    "- The confidence interval is for the difference in means and does not contain 0, which is in accordance with the p-value indicating a significant difference at the 5% level.\n",
    "- 신뢰 구간은 평균 차이에 대한 것으로, 0을 포함하지 않으며, 이는 5% 수준에서 유의한 차이를 나타내는 p값과 일치합니다.\n",
    "\n",
    "- It is Welch's variant of the t test. This is the test where you do not assume that the variance is the same in the two groups, which(among other things) results in the fractional degrees of freedom.\n",
    "- 이는 웰치의 t 검정의 변형입니다. 이는 두 그룹의 분산이 동일하다고 가정하지 않는 테스트로, 이로 인해 분수 자유도가 발생합니다.\n"
   ]
  },
  {
   "cell_type": "markdown",
   "metadata": {},
   "source": [
    "- To get the usual(textbook) t test, you must specify that you are willing to assume that the variances are the same. This is done via the optional argument var.equal=T;\n",
    "- 표준(교과서) t 검정을 얻으려면 두 분산이 동일하다고 가정할 것을 명시해야 합니다. 이는 선택적 인자 var.equal=T를 통해 수행됩니다."
   ]
  },
  {
   "cell_type": "code",
   "execution_count": 3,
   "metadata": {
    "vscode": {
     "languageId": "r"
    }
   },
   "outputs": [
    {
     "data": {
      "text/plain": [
       "\n",
       "\tTwo Sample t-test\n",
       "\n",
       "data:  expend by stature\n",
       "t = -3.9456, df = 20, p-value = 0.000799\n",
       "alternative hypothesis: true difference in means between group lean and group obese is not equal to 0\n",
       "95 percent confidence interval:\n",
       " -3.411451 -1.051796\n",
       "sample estimates:\n",
       " mean in group lean mean in group obese \n",
       "           8.066154           10.297778 \n"
      ]
     },
     "metadata": {},
     "output_type": "display_data"
    }
   ],
   "source": [
    "t.test(expend~stature, var.equal=T)"
   ]
  },
  {
   "cell_type": "markdown",
   "metadata": {},
   "source": [
    "- Notice that the degrees of freedom now has become a whole number, namely 13+9-2=20. The p-value has dropped slightly (from 0.14% to 0.08%) and the confidence interval is a litter narrower, but overall the changes are slight.\n",
    "- 주의해야 할 점은 자유도가 이제 정수가 된 것입니다. 즉, 13+9-2=20입니다. p값은 약간 감소했습니다 (0.14%에서 0.08%로), 신뢰 구간은 조금 더 좁아졌지만, 전반적으로 변화는 미미합니다."
   ]
  }
 ],
 "metadata": {
  "kernelspec": {
   "display_name": "R",
   "language": "R",
   "name": "ir"
  },
  "language_info": {
   "codemirror_mode": "r",
   "file_extension": ".r",
   "mimetype": "text/x-r-source",
   "name": "R",
   "pygments_lexer": "r",
   "version": "4.3.2"
  }
 },
 "nbformat": 4,
 "nbformat_minor": 2
}
