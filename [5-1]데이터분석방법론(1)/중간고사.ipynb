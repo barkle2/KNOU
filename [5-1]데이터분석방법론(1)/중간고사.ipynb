{
 "cells": [
  {
   "cell_type": "markdown",
   "metadata": {
    "vscode": {
     "languageId": "r"
    }
   },
   "source": [
    "### 1번\n",
    "\n",
    "R, Python 등의 통계 프로그램을 사용하여 다음 문제를 풀어라\n",
    "\n",
    "(a) 표준정규분포를 따르는 Z에 대하여 P(-2.1<Z<1.8)을 구하여라"
   ]
  },
  {
   "cell_type": "code",
   "execution_count": 18,
   "metadata": {
    "vscode": {
     "languageId": "r"
    }
   },
   "outputs": [
    {
     "data": {
      "text/html": [
       "0.946205260324258"
      ],
      "text/latex": [
       "0.946205260324258"
      ],
      "text/markdown": [
       "0.946205260324258"
      ],
      "text/plain": [
       "[1] 0.9462053"
      ]
     },
     "metadata": {},
     "output_type": "display_data"
    }
   ],
   "source": [
    "pnorm(1.8) - pnorm(-2.1)"
   ]
  },
  {
   "cell_type": "markdown",
   "metadata": {},
   "source": [
    "(b) 표준정규분포를 따르는 Z에 대하여 P(0<Z<k) = 0.45를 만족시키는 k값을 구하여라"
   ]
  },
  {
   "cell_type": "code",
   "execution_count": 17,
   "metadata": {
    "vscode": {
     "languageId": "r"
    }
   },
   "outputs": [
    {
     "data": {
      "text/html": [
       "1.64485362695147"
      ],
      "text/latex": [
       "1.64485362695147"
      ],
      "text/markdown": [
       "1.64485362695147"
      ],
      "text/plain": [
       "[1] 1.644854"
      ]
     },
     "metadata": {},
     "output_type": "display_data"
    }
   ],
   "source": [
    "qnorm(0.5+0.45)"
   ]
  },
  {
   "cell_type": "markdown",
   "metadata": {},
   "source": [
    "(c) 평균 μ=100, 표준편차 σ=15인 정규분포를 따르는 X에 대하여 P(91≤X≤127)을 구하여라"
   ]
  },
  {
   "cell_type": "code",
   "execution_count": 19,
   "metadata": {
    "vscode": {
     "languageId": "r"
    }
   },
   "outputs": [
    {
     "data": {
      "text/html": [
       "0.689816563137001"
      ],
      "text/latex": [
       "0.689816563137001"
      ],
      "text/markdown": [
       "0.689816563137001"
      ],
      "text/plain": [
       "[1] 0.6898166"
      ]
     },
     "metadata": {},
     "output_type": "display_data"
    }
   ],
   "source": [
    "pnorm(127, 100, 15) - pnorm(91, 100, 15)"
   ]
  },
  {
   "cell_type": "markdown",
   "metadata": {},
   "source": [
    "(d) 평균 μ=100, 표준편차 σ=15인 정규분포를 따르는 X에 대하여 P(X>k)=0.025를 만족시키는 k값을 구하여라"
   ]
  },
  {
   "cell_type": "code",
   "execution_count": 26,
   "metadata": {
    "vscode": {
     "languageId": "r"
    }
   },
   "outputs": [
    {
     "data": {
      "text/html": [
       "129.399459768101"
      ],
      "text/latex": [
       "129.399459768101"
      ],
      "text/markdown": [
       "129.399459768101"
      ],
      "text/plain": [
       "[1] 129.3995"
      ]
     },
     "metadata": {},
     "output_type": "display_data"
    }
   ],
   "source": [
    "qnorm(0.025, 100, 15, lower.tail=FALSE)"
   ]
  },
  {
   "cell_type": "markdown",
   "metadata": {},
   "source": [
    "### 2번\n",
    "\n",
    "건강한 사람에게 칼슘을 공급하면 혈압이 낮아지는지를 알아보기 위하여 비교실험을 하였다. 10명에게는 12주동안 칼슘을 공급하고, 11명에게는 칼슘을 공급하지 않은 뒤(심리적 효과를 없애기 위해 음식을 제공하는 사람과 먹는 사람은 칼슘이 들어있는지의 여부를 모르게 하였다) 혈압의 낮아지는 정도를 조사하였다.\n",
    "\n",
    "|그룹|처리|실험대상수|평균|표준편차|\n",
    "|:-:|:-:|:-:|:-:|:-:|\n",
    "|1|칼슘을 공급한 그룹|10|5.000|8.743|\n",
    "|2|칼슘을 공급하지 않은 그룹|11|-0.273|5.901|\n",
    "\n",
    "(a) 공통분산을 가질 때의 t검정 방법을 이용하여 유의수준 α=0.05에서 검정을 하여라. 칼슘을 공급받은 그룹이 혈압이 낮아지는 정도가 더 큰가?"
   ]
  },
  {
   "cell_type": "markdown",
   "metadata": {
    "vscode": {
     "languageId": "r"
    }
   },
   "source": [
    "표본 크기가 작은 경우, 정규분포를 가정하고 분산이 동일하다고 가정할 때 다음과 같은 검정 통계량을 사용할 수 있다.\n",
    "\n",
    "<img src=\"https://latex.codecogs.com/svg.image?H_0:\\mu_1-\\mu_2=\\delta_0\"><br><img src=\"https://latex.codecogs.com/svg.image?H_1:\\mu_1-\\mu_2>\\delta_0\">\n",
    "\n",
    "<img src=\"https://latex.codecogs.com/svg.image?\\frac{(\\bar{X_1}-\\bar{X_2})-\\delta_0}{\\sqrt{\\frac{S_p^2}{n_1}&plus;\\frac{S_p^2}{n_2}}}>t_{n_1+n_2-2,\\alpha} \\Rightarrow reject\\;H_0\">  <br>\n",
    "\n",
    "<img src=\"https://latex.codecogs.com/svg.image?S_p^2=\\frac{(n_1-1)S_1^2&plus;(n_2-1)S_2^2}{n_1&plus;n_2-2}\">"
   ]
  },
  {
   "cell_type": "code",
   "execution_count": 45,
   "metadata": {
    "vscode": {
     "languageId": "r"
    }
   },
   "outputs": [
    {
     "name": "stdout",
     "output_type": "stream",
     "text": [
      "공통분산 Sp: 7.38483 \n"
     ]
    },
    {
     "name": "stdout",
     "output_type": "stream",
     "text": [
      "통계량: 1.634195 \n",
      "자유도: 19, 유의수준: 0.05인 t분포의 값: 1.729133 \n",
      "통계량 1.634195 이 t-분포의 값 1.729133 보다 작기 때문에 귀무가설을 기각하지 않는다.\n",
      "즉, 칼슘을 공급받은 그룹이 혈압이 낮아지는 정도가 더 크다고 볼 수 없다."
     ]
    }
   ],
   "source": [
    "# 기초 데이터\n",
    "x1_bar = 5.0\n",
    "x2_bar = -0.273\n",
    "n1 = 10\n",
    "n2 = 11\n",
    "S1 = 8.743\n",
    "S2 = 5.901\n",
    "\n",
    "# 공통표준편차 Sp를 계산한다.\n",
    "Sp = sqrt( ( (n1-1)*(S1^2) + (n2-1)*(S2^2) ) / (n1+n2-2) )\n",
    "cat(\"공통분산 Sp:\", Sp, \"\\n\")\n",
    "\n",
    "# 통계량 T를 구한다.\n",
    "T_value = (x1_bar - x2_bar) / (Sp * sqrt((1/n1) + (1/n2)))\n",
    "cat(\"통계량:\", T_value, \"\\n\")\n",
    "\n",
    "# 자유도가 19이고, 유의수준이 0.05인 t분포 값을 구한다.\n",
    "test_value = qt(0.05, n1+n2-2, lower.tail=FALSE)\n",
    "cat(\"자유도: 19, 유의수준: 0.05인 t분포의 값:\", test_value, \"\\n\")\n",
    "\n",
    "cat(\"통계량\", T_value, \"이 t-분포의 값\", test_value, \"보다 작기 때문에 귀무가설을 기각하지 않는다.\\n\")\n",
    "cat(\"즉, 칼슘을 공급받은 그룹이 혈압이 낮아지는 정도가 더 크다고 볼 수 없다.\")"
   ]
  },
  {
   "cell_type": "code",
   "execution_count": 118,
   "metadata": {
    "vscode": {
     "languageId": "r"
    }
   },
   "outputs": [
    {
     "data": {
      "image/png": "[encoded data removed]",
      "text/plain": [
       "Plot with title \"Comparison of Two Normal Distributions\""
      ]
     },
     "metadata": {
      "image/png": {
       "height": 420,
       "width": 420
      }
     },
     "output_type": "display_data"
    }
   ],
   "source": [
    "# 참고로 두 분포를 그래프로 그리고 95% 신뢰구간을 표시해보면 상당부분이 겹치는 것을 알 수 있다.\n",
    "\n",
    "# 데이터 생성\n",
    "group1 <- dnorm(seq(-15, 25), mean = 5.000, sd = 8.743)\n",
    "group2 <- dnorm(seq(-15, 25), mean = -0.273, sd = 5.901)\n",
    "\n",
    "# 그래프 그리기\n",
    "plot(seq(-15, 25), group1, type = \"l\", col = \"blue\", lwd = 2, ylim = c(0,0.07), xlab = \"x\", ylab = \"Density\", main = \"Comparison of Two Normal Distributions\")\n",
    "lines(seq(-15, 25), group2, type = \"l\", col = \"red\", lwd = 2)\n",
    "\n",
    "# 세로줄 추가\n",
    "abline(v = 5.000, col = \"blue\", lty = 2)\n",
    "abline(v = -0.273, col = \"red\", lty = 2)\n",
    "\n",
    "# 유의수준 0.05 범위\n",
    "rect(5.000 - 1.96*8.743, 0, 5.000 + 1.96*8.743, max(group1), col = rgb(0, 0, 1, alpha = 0.2), border = NA)  # Group 1\n",
    "rect(-0.273 - 1.96*5.901, 0, -0.273 + 1.96*5.901, max(group2), col = rgb(1, 0, 0, alpha = 0.2), border = NA)  # Group 2"
   ]
  },
  {
   "cell_type": "markdown",
   "metadata": {},
   "source": [
    "(b) 이표본 t검정방법을 이용하여 유의수준 α=0.05에서 검정을 하여라."
   ]
  },
  {
   "cell_type": "code",
   "execution_count": 41,
   "metadata": {
    "vscode": {
     "languageId": "r"
    }
   },
   "outputs": [
    {
     "name": "stdout",
     "output_type": "stream",
     "text": [
      "통계량: 1.603808 \n",
      "새터스웨이트 자유도 Φ: 15.59131 \n",
      "자유도가 15.59131 이고 유의수준이 0.05인 t값: 1.729133 \n",
      "통계량 1.603808 이 t-분포의 값 1.748695 보다 작기 때문에 귀무가설을 기각하지 않는다.\n",
      "즉, 칼슘을 공급받은 그룹이 혈압이 낮아지는 정도가 더 크다고 볼 수 없다."
     ]
    }
   ],
   "source": [
    "# R code\n",
    "x1_bar = 5.0\n",
    "x2_bar = -0.273\n",
    "n1 = 10\n",
    "n2 = 11\n",
    "S1 = 8.743\n",
    "S2 = 5.901\n",
    "\n",
    "# 이표본 t검정방법을 이용하려면 검정통계량 T값과 새터스웨이트 방법을 사용한 자유도를 각각 다음 공식으로 구해야 한다.\n",
    "\n",
    "# 검정통계량 T 값을 구한다.\n",
    "T_value = (x1_bar-x2_bar) / sqrt( (S1^2)/n1 + (S2^2)/n2  )\n",
    "cat(\"통계량:\", T_value, \"\\n\")\n",
    "\n",
    "# 새터스웨이트 방법으로 자유도를 계산한다.\n",
    "pi = (S1^2/n1 + S2^2/n2)^2 / (((S1^2/n1)^2)/(n1-1)+ ((S2^2/n2)^2)/(n2-1))\n",
    "cat(\"새터스웨이트 자유도 Φ:\", pi, \"\\n\")\n",
    "\n",
    "# 자유도가 Φ이고, 유의수준이 0.05인 t분포 값을 구한다.\n",
    "test_value = qt(0.05, pi, lower.tail=FALSE)\n",
    "cat(\"자유도가\", pi, \"이고 유의수준이 0.05인 t분포의 값:\", test_value, \"\\n\")\n",
    "\n",
    "cat(\"통계량\", T_value, \"이 t-분포의 값\", test_value, \"보다 작기 때문에 귀무가설을 기각하지 않는다.\\n\")\n",
    "cat(\"즉, 칼슘을 공급받은 그룹이 혈압이 낮아지는 정도가 더 크다고 볼 수 없다.\")\n"
   ]
  },
  {
   "cell_type": "markdown",
   "metadata": {},
   "source": [
    "(c) 두 그룹의 표준편차가 같은지를 검정하고 싶다. 가설을 세우고 유의수준 α=0.05에서 검정을 하여라."
   ]
  },
  {
   "cell_type": "markdown",
   "metadata": {},
   "source": [
    "표본의 분산비를 나타내는 통계량 F가 자유도가 각각 n1-1, n2-2인 F분포를 따르는 사실을 이용하여 모분산비에 대한 가설검정을 할 수 있다."
   ]
  },
  {
   "cell_type": "code",
   "execution_count": 50,
   "metadata": {
    "vscode": {
     "languageId": "r"
    }
   },
   "outputs": [
    {
     "name": "stdout",
     "output_type": "stream",
     "text": [
      "검정통계량 F: 2.195178 \n"
     ]
    },
    {
     "name": "stdout",
     "output_type": "stream",
     "text": [
      "자유도가 9 10 이고 유의수준이 0.05인 F분포의 값: 3.020383 \n",
      "통계량 2.195178 이 F분포의 값 3.020383 보다 작기 때문에 귀무가설을 기각하지 않는다.\n",
      "즉, 두 그룹의 표준편차는 같다고 볼 수 있다."
     ]
    }
   ],
   "source": [
    "# R code\n",
    "n1 = 10\n",
    "n2 = 11\n",
    "S1 = 8.743\n",
    "S2 = 5.901\n",
    "\n",
    "# 검정통계량 F 값을 구한다.\n",
    "F_value = (S1^2 / S2^2)\n",
    "cat(\"검정통계량 F:\", F_value, \"\\n\")\n",
    "\n",
    "# 자유도가 n1-1, n2-1이고, 유의수준이 0.05인 F분포 값을 구한다.\n",
    "test_value = qf(0.05, n1-1, n2-1, lower.tail=FALSE)\n",
    "cat(\"자유도가\", n1-1, n2-1, \"이고 유의수준이 0.05인 F분포의 값:\", test_value, \"\\n\")\n",
    "\n",
    "cat(\"통계량\", F_value, \"이 F분포의 값\", test_value, \"보다 작기 때문에 귀무가설을 기각하지 않는다.\\n\")\n",
    "cat(\"즉, 두 그룹의 표준편차는 같다고 볼 수 있다.\")"
   ]
  },
  {
   "cell_type": "code",
   "execution_count": 32,
   "metadata": {
    "vscode": {
     "languageId": "r"
    }
   },
   "outputs": [
    {
     "name": "stderr",
     "output_type": "stream",
     "text": [
      "Warning message in log(b0):\n",
      "\"NaN이 생성되었습니다\"\n"
     ]
    },
    {
     "ename": "ERROR",
     "evalue": "Error in numericDeriv(form[[3L]], names(ind), env, central = nDcentral): 모델 평가시에 값이 누락되거나 무한값이 생성되었습니다\n",
     "output_type": "error",
     "traceback": [
      "Error in numericDeriv(form[[3L]], names(ind), env, central = nDcentral): 모델 평가시에 값이 누락되거나 무한값이 생성되었습니다\nTraceback:\n",
      "1. nls(log_y ~ log(b0) + b1 * log_x, start = list(b0 = 1, b1 = 1))",
      "2. (function (newPars) \n . {\n .     setPars(newPars)\n .     resid <<- .swts * (lhs - (rhs <<- getRHS()))\n .     dev <<- sum(resid^2)\n .     if (length(gr <- attr(rhs, \"gradient\")) == 1L) \n .         gr <- c(gr)\n .     QR <<- qr(.swts * gr)\n .     (QR$rank < min(dim(QR$qr)))\n . })(c(-0.782583155288207, 0.952849001915102))",
      "3. getRHS()",
      "4. numericDeriv(form[[3L]], names(ind), env, central = nDcentral)"
     ]
    }
   ],
   "source": [
    "# 데이터\n",
    "x <- c(6.4, 16.1, 42.1, 2.1, 30.7, 32.1, 7.2, 3.4, 20.8, 1.5)\n",
    "y <- c(1.7, 2.7, 4.9, 0.3, 3.9, 4.1, 1.2, 0.5, 3.3, 0.2)\n",
    "\n",
    "# 로그 변환\n",
    "log_y <- log(y)\n",
    "log_x <- log(x)\n",
    "\n",
    "# 비선형 모델 적합\n",
    "model <- nls(log_y ~ log(b0) + b1 * log_x, start = list(b0 = 1, b1 = 1))\n",
    "\n",
    "# 모델 요약 출력\n",
    "summary(model)\n"
   ]
  }
 ],
 "metadata": {
  "kernelspec": {
   "display_name": "R",
   "language": "R",
   "name": "ir"
  },
  "language_info": {
   "codemirror_mode": "r",
   "file_extension": ".r",
   "mimetype": "text/x-r-source",
   "name": "R",
   "pygments_lexer": "r",
   "version": "4.3.2"
  }
 },
 "nbformat": 4,
 "nbformat_minor": 2
}
