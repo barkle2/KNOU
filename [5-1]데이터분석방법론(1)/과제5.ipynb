{
 "cells": [
  {
   "cell_type": "markdown",
   "metadata": {
    "vscode": {
     "languageId": "r"
    }
   },
   "source": [
    "### 1번\n",
    "\n",
    "다음은 미국 해군병원의 업무시간과 관련된 자료이다.\n",
    "\n",
    "x1: average daily patient load  \n",
    "x2: monthly X-ray exposures  \n",
    "x3: monthly occupied bed days  \n",
    "x4: average length of patients' stay in days  \n",
    "y: monthly labor hours"
   ]
  },
  {
   "cell_type": "code",
   "execution_count": 1,
   "metadata": {
    "vscode": {
     "languageId": "r"
    }
   },
   "outputs": [],
   "source": [
    "Hospital = c(1:17)\n",
    "\n",
    "x1 = c(15.57, 44.02, 20.42, 18.74, 49.20, 44.92, 55.48, 59.28, 94.39, 128.08,\n",
    "       96.00, 131.42, 127.21, 252.90, 409.020, 463.70, 510.22)\n",
    "\n",
    "x2 = c(2463, 2048, 3940, 6505, 5723, 11520, 5779, 5969, 8461, 20106,\n",
    "       13313, 10771, 15543, 36194, 34703, 39204, 86533)\n",
    "\n",
    "x3 = c(472.920, 1339.755, 620.258, 568.337, 1497.607, 1365.830, 1687.003, 1639.927, 2872.337, 3655.085,\n",
    "       2912.009, 3921.007, 3865.678, 7684.107, 12446.334, 14098.404, 15524.006)\n",
    "\n",
    "x4 = c(4.45, 6.92, 4.28, 3.90, 5.50, 4.66, 5.62, 5.15, 6.18, 6.15,\n",
    "       5.88, 4.88, 5.50, 7.00, 10.78, 7.05, 6.35)\n",
    "\n",
    "y = c(566.52, 696.82, 1033.15, 1603.62, 1611.37, 1613.27, 1854.17, 2160.55, 2305.58, 3503.93,\n",
    "      3571.89, 3741.40, 4026.52, 10343.81, 11732.17, 15414.94, 18854.45)"
   ]
  },
  {
   "cell_type": "markdown",
   "metadata": {},
   "source": [
    "(1) <img src=\"https://latex.codecogs.com/svg.image?&space;y_i=\\beta_0&plus;\\beta_1&space;x_{1i}&plus;\\beta_2&space;x_{2i}&plus;\\beta_3&space;x_{3i}&plus;\\beta_4&space;x_{4i}&plus;u_i\"> 모형을 적합시키시오.\n",
    "\n",
    "또한, studentized residual을 y축으로 <img src=\"https://latex.codecogs.com/svg.image?\\hat{y}\">을 x축으로 산점도를 그려 모형에 문제가 없는지 살펴보고, F-test를 하시오."
   ]
  },
  {
   "cell_type": "code",
   "execution_count": 2,
   "metadata": {
    "vscode": {
     "languageId": "r"
    }
   },
   "outputs": [
    {
     "data": {
      "text/plain": [
       "\n",
       "Call:\n",
       "lm(formula = y ~ x1 + x2 + x3 + x4, data = df)\n",
       "\n",
       "Residuals:\n",
       "    Min      1Q  Median      3Q     Max \n",
       "-552.14 -385.32  -91.37  295.59 1596.21 \n",
       "\n",
       "Coefficients:\n",
       "              Estimate Std. Error t value Pr(>|t|)  \n",
       "(Intercept) 1576.65595  801.52944   1.967   0.0727 .\n",
       "x1           -53.86104   69.59610  -0.774   0.4540  \n",
       "x2             0.05413    0.02042   2.651   0.0211 *\n",
       "x3             2.74054    2.27892   1.203   0.2523  \n",
       "x4          -317.92068  155.62193  -2.043   0.0637 .\n",
       "---\n",
       "Signif. codes:  0 '***' 0.001 '**' 0.01 '*' 0.05 '.' 0.1 ' ' 1\n",
       "\n",
       "Residual standard error: 623.6 on 12 degrees of freedom\n",
       "Multiple R-squared:  0.9906,\tAdjusted R-squared:  0.9874 \n",
       "F-statistic: 315.1 on 4 and 12 DF,  p-value: 4.889e-12\n"
      ]
     },
     "metadata": {},
     "output_type": "display_data"
    }
   ],
   "source": [
    "# 데이터 프레임 생성\n",
    "df = data.frame(Hospital, x1, x2, x3, x4, y)\n",
    "\n",
    "# 선형 회귀 모형 적합\n",
    "result = lm(y ~ x1+x2+x3+x4, data=df)\n",
    "\n",
    "summary(result)"
   ]
  },
  {
   "cell_type": "markdown",
   "metadata": {},
   "source": [
    "적합된 식은 다음과 같다.\n",
    "\n",
    "<img src=\"https://latex.codecogs.com/svg.image?\\hat{y}=1576.656-53.861\\cdot&space;x_1&plus;0.054\\cdot&space;x_2&plus;2.74\\cdot&space;x_3-317.921\\cdot&space;x_4\">"
   ]
  },
  {
   "cell_type": "code",
   "execution_count": 8,
   "metadata": {
    "vscode": {
     "languageId": "r"
    }
   },
   "outputs": [
    {
     "data": {
      "image/png": "[encoded data removed]",
      "text/plain": [
       "plot without title"
      ]
     },
     "metadata": {
      "image/png": {
       "height": 420,
       "width": 420
      }
     },
     "output_type": "display_data"
    }
   ],
   "source": [
    "library(MASS)\n",
    "\n",
    "fitted_values = fitted(result)\n",
    "stud_res = studres(result)\n",
    "\n",
    "plot(fitted_values, stud_res, xlab=\"Fitted Values\", ylab=\"Studentized Residuals\")\n",
    "abline(h=0, col=\"red\", lty=2)"
   ]
  },
  {
   "cell_type": "markdown",
   "metadata": {},
   "source": [
    "2개 데이터(14, 17)를 제외하면 Studentized Residuals가 -1 ~ 1 범위에 분포하고 있기 때문에 모형에 크게 문제가 있다고 보기 어렵다고 판단된다."
   ]
  },
  {
   "cell_type": "code",
   "execution_count": 4,
   "metadata": {
    "vscode": {
     "languageId": "r"
    }
   },
   "outputs": [
    {
     "data": {
      "text/plain": [
       "\n",
       "Call:\n",
       "lm(formula = y ~ x1 + x2 + x3 + x4, data = df)\n",
       "\n",
       "Residuals:\n",
       "    Min      1Q  Median      3Q     Max \n",
       "-552.14 -385.32  -91.37  295.59 1596.21 \n",
       "\n",
       "Coefficients:\n",
       "              Estimate Std. Error t value Pr(>|t|)  \n",
       "(Intercept) 1576.65595  801.52944   1.967   0.0727 .\n",
       "x1           -53.86104   69.59610  -0.774   0.4540  \n",
       "x2             0.05413    0.02042   2.651   0.0211 *\n",
       "x3             2.74054    2.27892   1.203   0.2523  \n",
       "x4          -317.92068  155.62193  -2.043   0.0637 .\n",
       "---\n",
       "Signif. codes:  0 '***' 0.001 '**' 0.01 '*' 0.05 '.' 0.1 ' ' 1\n",
       "\n",
       "Residual standard error: 623.6 on 12 degrees of freedom\n",
       "Multiple R-squared:  0.9906,\tAdjusted R-squared:  0.9874 \n",
       "F-statistic: 315.1 on 4 and 12 DF,  p-value: 4.889e-12\n"
      ]
     },
     "metadata": {},
     "output_type": "display_data"
    }
   ],
   "source": [
    "summary(result)"
   ]
  },
  {
   "cell_type": "markdown",
   "metadata": {},
   "source": [
    "F-test 결과 F 통계량은 315.1이고, p-value는 0에 매우 가까운 작은 값이다.  \n",
    "따라서, 모든 독립변수의 회귀계수가 0이라는 귀무가설이 기각되었다고 할 수 있다."
   ]
  },
  {
   "cell_type": "markdown",
   "metadata": {},
   "source": [
    "(2) 위의 모형에서 각 독립변수들의 VIF 값을 구하고, multicollinearity가 있는지 판단하시오."
   ]
  },
  {
   "cell_type": "code",
   "execution_count": 6,
   "metadata": {
    "vscode": {
     "languageId": "r"
    }
   },
   "outputs": [
    {
     "name": "stdout",
     "output_type": "stream",
     "text": [
      "         x1          x2          x3          x4 \n",
      "5167.418824    7.767284 5144.837957    2.491100 \n"
     ]
    }
   ],
   "source": [
    "library(car)\n",
    "\n",
    "vif_values = vif(result)\n",
    "print(vif_values)"
   ]
  },
  {
   "cell_type": "markdown",
   "metadata": {},
   "source": [
    "x1, x3 변수의 VIF 값이 매우 크기 때문에 다중공선성이 있다고 판단된다."
   ]
  },
  {
   "cell_type": "markdown",
   "metadata": {},
   "source": [
    "### 2번\n",
    "\n",
    "다음 표는 3개의 독립변수(X1, X2, X3)가 있는, 가능한 모든 회귀식의 결과이다. 다음 물음에 답하라.(단, n=100)\n",
    "\n",
    "|p|Reg.Equation|SSR|SSE|R^2|Cp|\n",
    "|:-:|:-:|:-:|:-:|:-:|:-:|\n",
    "|1|<img src=\"https://latex.codecogs.com/svg.image?\\hat{Y}=f(X_1)\">|4547.3|863.9|0.840||\n",
    "|1|<img src=\"https://latex.codecogs.com/svg.image?\\hat{Y}=f(X_2)\">|2404.3|3006.9|0.444||\n",
    "|1|<img src=\"https://latex.codecogs.com/svg.image?\\hat{Y}=f(X_2)\">|4596.5|814.7|0.849||\n",
    "|2|<img src=\"https://latex.codecogs.com/svg.image?\\hat{Y}=f(X_1, X_2)\">|4627.8|783.4|0.855||\n",
    "|2|<img src=\"https://latex.codecogs.com/svg.image?\\hat{Y}=f(X_1, X_3)\">|5012.7|398.4|0.926||\n",
    "|2|<img src=\"https://latex.codecogs.com/svg.image?\\hat{Y}=f(X_2, X_3)\">|4612.0|799.2|0.852||\n",
    "|3|<img src=\"https://latex.codecogs.com/svg.image?\\hat{Y}=f(X_1, X_2, X_3)\">|5013.6|397.6|0.927||\n"
   ]
  },
  {
   "cell_type": "markdown",
   "metadata": {},
   "source": [
    "(1) 각 Regression equation에서 Cp를 계산하고, Cp 통계량에 근거하여 적절한 모형을 선택하여라."
   ]
  },
  {
   "cell_type": "markdown",
   "metadata": {
    "vscode": {
     "languageId": "r"
    }
   },
   "source": [
    "Mallow의 Cp 통계량은 다음 식으로 나타낼 수 있다.\n",
    "\n",
    "<img src=\"https://latex.codecogs.com/svg.image?C_p=\\frac{RSS_p}{\\hat\\sigma^2}&plus;2p-n\">\n",
    "\n",
    "RSSp 는 Residual Sum of Squares의 약자로 잔차제곱합이며, 첨자 p는 p개의 변수가 포함된 모델임을 의미한다.(문제에서는 SSE(Sum of Squares estimation of Error)로 표기되어 있다.)\n",
    "\n",
    "<img src=\"https://latex.codecogs.com/svg.image?\\hat\\sigma^2\">는 모든 변수가 포함된 모델의 잔차 분산의 불편 추정치 이며, 다음의 식으로 계산한다.\n",
    "\n",
    "<img src=\"https://latex.codecogs.com/svg.image?\\hat\\sigma^2=\\frac{RSS}{n-p}\">"
   ]
  },
  {
   "cell_type": "code",
   "execution_count": 29,
   "metadata": {
    "vscode": {
     "languageId": "r"
    }
   },
   "outputs": [],
   "source": [
    "# 주어진 데이터 입력\n",
    "n = rep(100.0, 7)\n",
    "p = c(1,1,1,2,2,2,3)\n",
    "reg_eq = c(\"Y_hat = f(X1)\", \"Y_hat = f(X2)\", \"Y_hat = f(X3)\",\n",
    "           \"Y_hat = f(X1, X2)\", \"Y_hat = f(X1, X3)\", \"Y_hat = f(X2, X3)\",\n",
    "           \"Y_hat = f(X1, X2, X3)\")\n",
    "SSR = c(4547.3, 2404.3, 4596.5, 4627.8, 5012.7, 4612.0, 5013.6)\n",
    "SSE = c(863.9, 3006.9, 814.7, 783.4, 398.4, 799.2, 397.6)\n",
    "R_sq = c(0.840, 0.444, 0.849, 0.855, 0.926, 0.852, 0.927)\n",
    "\n",
    "# sigma_hat_sq를 계산한다.\n",
    "sigma_hat_sq = 397.6 / (100-3)\n",
    "\n",
    "# 데이터 프레임 생성한다.\n",
    "df = data.frame(n, p, reg_eq, SSR, SSE, R_sq)\n",
    "\n",
    "# Cp 를 계산하여 데이터 프레임에 추가한다.\n",
    "df$Cp = round(df$SSE / sigma_hat_sq + 2 * df$p - df$n, 2)"
   ]
  },
  {
   "cell_type": "code",
   "execution_count": 30,
   "metadata": {
    "vscode": {
     "languageId": "r"
    }
   },
   "outputs": [
    {
     "data": {
      "text/html": [
       "<table class=\"dataframe\">\n",
       "<caption>A data.frame: 7 × 7</caption>\n",
       "<thead>\n",
       "\t<tr><th scope=col>n</th><th scope=col>p</th><th scope=col>reg_eq</th><th scope=col>SSR</th><th scope=col>SSE</th><th scope=col>R_sq</th><th scope=col>Cp</th></tr>\n",
       "\t<tr><th scope=col>&lt;dbl&gt;</th><th scope=col>&lt;dbl&gt;</th><th scope=col>&lt;chr&gt;</th><th scope=col>&lt;dbl&gt;</th><th scope=col>&lt;dbl&gt;</th><th scope=col>&lt;dbl&gt;</th><th scope=col>&lt;dbl&gt;</th></tr>\n",
       "</thead>\n",
       "<tbody>\n",
       "\t<tr><td>100</td><td>1</td><td>Y_hat = f(X1)        </td><td>4547.3</td><td> 863.9</td><td>0.840</td><td>112.76</td></tr>\n",
       "\t<tr><td>100</td><td>1</td><td>Y_hat = f(X2)        </td><td>2404.3</td><td>3006.9</td><td>0.444</td><td>635.57</td></tr>\n",
       "\t<tr><td>100</td><td>1</td><td>Y_hat = f(X3)        </td><td>4596.5</td><td> 814.7</td><td>0.849</td><td>100.76</td></tr>\n",
       "\t<tr><td>100</td><td>2</td><td>Y_hat = f(X1, X2)    </td><td>4627.8</td><td> 783.4</td><td>0.855</td><td> 95.12</td></tr>\n",
       "\t<tr><td>100</td><td>2</td><td>Y_hat = f(X1, X3)    </td><td>5012.7</td><td> 398.4</td><td>0.926</td><td>  1.20</td></tr>\n",
       "\t<tr><td>100</td><td>2</td><td>Y_hat = f(X2, X3)    </td><td>4612.0</td><td> 799.2</td><td>0.852</td><td> 98.98</td></tr>\n",
       "\t<tr><td>100</td><td>3</td><td>Y_hat = f(X1, X2, X3)</td><td>5013.6</td><td> 397.6</td><td>0.927</td><td>  3.00</td></tr>\n",
       "</tbody>\n",
       "</table>\n"
      ],
      "text/latex": [
       "A data.frame: 7 × 7\n",
       "\\begin{tabular}{lllllll}\n",
       " n & p & reg\\_eq & SSR & SSE & R\\_sq & Cp\\\\\n",
       " <dbl> & <dbl> & <chr> & <dbl> & <dbl> & <dbl> & <dbl>\\\\\n",
       "\\hline\n",
       "\t 100 & 1 & Y\\_hat = f(X1)         & 4547.3 &  863.9 & 0.840 & 112.76\\\\\n",
       "\t 100 & 1 & Y\\_hat = f(X2)         & 2404.3 & 3006.9 & 0.444 & 635.57\\\\\n",
       "\t 100 & 1 & Y\\_hat = f(X3)         & 4596.5 &  814.7 & 0.849 & 100.76\\\\\n",
       "\t 100 & 2 & Y\\_hat = f(X1, X2)     & 4627.8 &  783.4 & 0.855 &  95.12\\\\\n",
       "\t 100 & 2 & Y\\_hat = f(X1, X3)     & 5012.7 &  398.4 & 0.926 &   1.20\\\\\n",
       "\t 100 & 2 & Y\\_hat = f(X2, X3)     & 4612.0 &  799.2 & 0.852 &  98.98\\\\\n",
       "\t 100 & 3 & Y\\_hat = f(X1, X2, X3) & 5013.6 &  397.6 & 0.927 &   3.00\\\\\n",
       "\\end{tabular}\n"
      ],
      "text/markdown": [
       "\n",
       "A data.frame: 7 × 7\n",
       "\n",
       "| n &lt;dbl&gt; | p &lt;dbl&gt; | reg_eq &lt;chr&gt; | SSR &lt;dbl&gt; | SSE &lt;dbl&gt; | R_sq &lt;dbl&gt; | Cp &lt;dbl&gt; |\n",
       "|---|---|---|---|---|---|---|\n",
       "| 100 | 1 | Y_hat = f(X1)         | 4547.3 |  863.9 | 0.840 | 112.76 |\n",
       "| 100 | 1 | Y_hat = f(X2)         | 2404.3 | 3006.9 | 0.444 | 635.57 |\n",
       "| 100 | 1 | Y_hat = f(X3)         | 4596.5 |  814.7 | 0.849 | 100.76 |\n",
       "| 100 | 2 | Y_hat = f(X1, X2)     | 4627.8 |  783.4 | 0.855 |  95.12 |\n",
       "| 100 | 2 | Y_hat = f(X1, X3)     | 5012.7 |  398.4 | 0.926 |   1.20 |\n",
       "| 100 | 2 | Y_hat = f(X2, X3)     | 4612.0 |  799.2 | 0.852 |  98.98 |\n",
       "| 100 | 3 | Y_hat = f(X1, X2, X3) | 5013.6 |  397.6 | 0.927 |   3.00 |\n",
       "\n"
      ],
      "text/plain": [
       "  n   p reg_eq                SSR    SSE    R_sq  Cp    \n",
       "1 100 1 Y_hat = f(X1)         4547.3  863.9 0.840 112.76\n",
       "2 100 1 Y_hat = f(X2)         2404.3 3006.9 0.444 635.57\n",
       "3 100 1 Y_hat = f(X3)         4596.5  814.7 0.849 100.76\n",
       "4 100 2 Y_hat = f(X1, X2)     4627.8  783.4 0.855  95.12\n",
       "5 100 2 Y_hat = f(X1, X3)     5012.7  398.4 0.926   1.20\n",
       "6 100 2 Y_hat = f(X2, X3)     4612.0  799.2 0.852  98.98\n",
       "7 100 3 Y_hat = f(X1, X2, X3) 5013.6  397.6 0.927   3.00"
      ]
     },
     "metadata": {},
     "output_type": "display_data"
    }
   ],
   "source": [
    "df"
   ]
  },
  {
   "cell_type": "markdown",
   "metadata": {},
   "source": [
    "우리는 p가 작고, Cp의 값이 p보다 작거나 비슷한 모델을 찾아야 하는데,  \n",
    "X1과 X3 변수를 사용하는  \n",
    "<img src=\"https://latex.codecogs.com/svg.image?\\hat{Y}=f(X_1, X_3)\">  \n",
    "모델이 그 조건을 가장 잘 충족한다."
   ]
  },
  {
   "cell_type": "markdown",
   "metadata": {},
   "source": [
    "(2) BE(Backward Elimination) method를 이용하여 model을 선택하여라."
   ]
  },
  {
   "cell_type": "markdown",
   "metadata": {},
   "source": [
    "후진제거법(Backward Elimination method)를 사용할 때는 모든 독립변수를 포함한 모델부터 분석을 시작한다.\n",
    "\n",
    "<img src=\"https://latex.codecogs.com/svg.image?\\hat{Y}=f(X_1, X_2, X_3)\"> 모델의 SSE는 397.6 이고, R제곱값은 0.927 이다.\n",
    "\n",
    "여기서 각각 X1, X2, X3 변수를 제외했을 때 SSE와 R제곱값이 어떻게 변하는지 살펴보면\n",
    "\n",
    "X1 제거했을 때,\n",
    "<img src=\"https://latex.codecogs.com/svg.image?\\hat{Y}=f(X_2, X_3)\">  \n",
    "SSE는 799.2, R제곱값은 0.852 이다.\n",
    "\n",
    "X2 제거했을 때,\n",
    "<img src=\"https://latex.codecogs.com/svg.image?\\hat{Y}=f(X_1, X_3)\">  \n",
    "SSE는 398.4, R제곱값은 0.926 이다.\n",
    "\n",
    "X3 제거했을 때,\n",
    "<img src=\"https://latex.codecogs.com/svg.image?\\hat{Y}=f(X_1, X_2)\">  \n",
    "SSE는 783.4, R제곱값은 0.855 이다.\n",
    "\n",
    "따라서 독립변수 X1, X2, X3를 모두 선택했을 때와 X2를 제거했을 때를 비교하면 X2를 제거했음에도 불구하고 SSE와 R제곱값이 거의 변동이 없으므로 X2를 제거하는 것이 타당하다.\n",
    "\n",
    "<img src=\"https://latex.codecogs.com/svg.image?\\hat{Y}=f(X_1, X_3)\"> 모델에서 X1 또는 X3를 더 제거해야 할지 여부를 판단해보자.\n",
    "\n",
    "X1 제거했을 때,\n",
    "<img src=\"https://latex.codecogs.com/svg.image?\\hat{Y}=f(X_3)\">  \n",
    "SSE는 814.7, R제곱값은 0.849 이다.\n",
    "\n",
    "X3 제거했을 때,\n",
    "<img src=\"https://latex.codecogs.com/svg.image?\\hat{Y}=f(X_1)\">  \n",
    "SSE는 863.9, R제곱값은 0.840 이다.\n",
    "\n",
    "X1 또는 X3 어떤 변수를 제거하더라도 SSE가 크게 증가하고, R제곱값이 감소한다.  \n",
    "따라서, 더 이상의 변수를 제거하지 않는다.\n",
    "\n",
    "최종적으로 선택한 모델은  \n",
    "<img src=\"https://latex.codecogs.com/svg.image?\\hat{Y}=f(X_1, X_3)\">이다."
   ]
  },
  {
   "cell_type": "markdown",
   "metadata": {},
   "source": [
    "(3) FS(Forward Selection) method를 이용하여 model을 선택하여라."
   ]
  },
  {
   "cell_type": "markdown",
   "metadata": {},
   "source": [
    "전진선택법(Forward Selection Method)을 사용할 때는 단일변수 모델을 선택하는 단계부터 시작한다.\n",
    "\n",
    "X1, X2, X3 중에 어떤 변수를 선택해야 할지 살펴보자.\n",
    "\n",
    "X1을 선택했을 때, <img src=\"https://latex.codecogs.com/svg.image?\\hat{Y}=f(X_1)\">  \n",
    "SSE는 863.9 이고, R제곱값은 0.840 이다.\n",
    "\n",
    "X2를 선택했을 때, <img src=\"https://latex.codecogs.com/svg.image?\\hat{Y}=f(X_2)\">  \n",
    "SSE는 3006.9 이고, R제곱값은 0.444 이다.\n",
    "\n",
    "X3를 선택했을 때, <img src=\"https://latex.codecogs.com/svg.image?\\hat{Y}=f(X_3)\">  \n",
    "SSE는 814.7 이고, R제곱값은 0.849 이다.\n",
    "\n",
    "X1과 X3 중에 하나를 선택할 수 있는 것으로 보이는데, 비율적으로 보아 R제곱값의 차이보다 SSE의 차이가 더 크기 때문에 X3를 선택한다.\n",
    "\n",
    "X3 다음으로 어떤 변수를 선택해야 할지 살펴보자.\n",
    "\n",
    "X1을 선택했을 때, <img src=\"https://latex.codecogs.com/svg.image?\\hat{Y}=f(X_1, X_3)\">  \n",
    "SSE는 398.4 이고, R제곱값은 0.926 이다.\n",
    "\n",
    "X2를 선택했을 때, <img src=\"https://latex.codecogs.com/svg.image?\\hat{Y}=f(X_2, X_3)\">  \n",
    "SSE는 799.2 이고, R제곱값은 0.852 이다.\n",
    "\n",
    "X1을 선택했을 때 SSE도 감소하고, R제곱값도 증가하기 때문에 X1을 선택한다.\n",
    "\n",
    "남은 변수인 X2를 추가해야 하는지 살펴보자.\n",
    "\n",
    "X2까지 선택하면 <img src=\"https://latex.codecogs.com/svg.image?\\hat{Y}=f(X_1, X_2, X_3)\">  \n",
    "SSE는 397.6 이고, R제곱값은 0.927 이다.\n",
    "\n",
    "X2 변수를 추가했음에도 불구하고 SSE, R제곱값에는 크게 변동이 없으므로 X2는 선택하지 않는다.\n",
    "\n",
    "최종적으로 선택한 모델은  \n",
    "<img src=\"https://latex.codecogs.com/svg.image?\\hat{Y}=f(X_1, X_3)\"> 이다."
   ]
  },
  {
   "cell_type": "markdown",
   "metadata": {
    "vscode": {
     "languageId": "r"
    }
   },
   "source": [
    "(4) Stepwise method를 이용하여 model을 선택하여라."
   ]
  },
  {
   "cell_type": "markdown",
   "metadata": {},
   "source": [
    "단계적 회귀방법은 전진선택법과 후진제거법을 결합하여 변수 선택 과정을 진행하는 방법이다.\n",
    "\n",
    "1. 시작은 전진선택법과 같이 단일변수 모델로 시작한다. 전진선택법과 같이 X3를 선택한다.\n",
    "\n",
    "X3를 선택했을 때, <img src=\"https://latex.codecogs.com/svg.image?\\hat{Y}=f(X_3)\">  \n",
    "SSE는 814.7 이고, R제곱값은 0.849 이다.\n",
    "\n",
    "2. 단일변수 모델에서 변수를 추가한다. 마찬가지로 전진선택법을 사용한다.\n",
    "\n",
    "추가되는 변수는 X1이 된다.\n",
    "X1을 선택했을 때, <img src=\"https://latex.codecogs.com/svg.image?\\hat{Y}=f(X_1, X_3)\">  \n",
    "SSE는 398.4 이고, R제곱값은 0.926 이다.\n",
    "\n",
    "3. 다음으로는 후진선택법을 사용하여 선택된 변수 중에서 제거해야 하는 변수가 있는지 확인한다.\n",
    "선택된 X1, X3 중에서 제거해야 하는 변수가 있는지 확인한다.\n",
    "\n",
    "X1 제거했을 때,\n",
    "<img src=\"https://latex.codecogs.com/svg.image?\\hat{Y}=f(X_3)\">  \n",
    "SSE는 814.7, R제곱값은 0.849 이다.\n",
    "\n",
    "X3 제거했을 때,\n",
    "<img src=\"https://latex.codecogs.com/svg.image?\\hat{Y}=f(X_1)\">  \n",
    "SSE는 863.9, R제곱값은 0.840 이다.\n",
    "\n",
    "X1 또는 X3 어떤 변수를 제거하더라도 SSE가 크게 증가하고, R제곱값이 감소한다.  \n",
    "따라서, 더 이상의 변수를 제거하지 않는다.\n",
    "\n",
    "실제 변수 데이터가 있다면 제거할 변수를 선택할 때 X1, X3 변수가 유의성 검정을 통과하는지 살펴볼 수 있다. 하지만, 이 문제에서는 실제 데이터가 없으므로 생략한다.\n",
    "\n",
    "4. 제거할 변수가 없으므로 다시 전진선택법으로 변수를 추가할 지 판단한다.\n",
    "\n",
    "X2까지 선택하면 <img src=\"https://latex.codecogs.com/svg.image?\\hat{Y}=f(X_1, X_2, X_3)\">  \n",
    "SSE는 397.6 이고, R제곱값은 0.927 이다.\n",
    "\n",
    "X2 변수를 추가해도 SSE, R제곱값에는 크게 변동이 없으므로 X2는 추가하지 않는다.\n",
    "\n",
    "5. 전진선택법, 후진제거법을 모두 실행해도 모델에 변화가 없으므로 과정을 종료한다.\n",
    "\n",
    "최종적으로 선택한 모델은  \n",
    "<img src=\"https://latex.codecogs.com/svg.image?\\hat{Y}=f(X_1, X_3)\"> 이다.\n",
    "\n"
   ]
  }
 ],
 "metadata": {
  "kernelspec": {
   "display_name": "R",
   "language": "R",
   "name": "ir"
  },
  "language_info": {
   "codemirror_mode": "r",
   "file_extension": ".r",
   "mimetype": "text/x-r-source",
   "name": "R",
   "pygments_lexer": "r",
   "version": "4.3.2"
  }
 },
 "nbformat": 4,
 "nbformat_minor": 2
}
