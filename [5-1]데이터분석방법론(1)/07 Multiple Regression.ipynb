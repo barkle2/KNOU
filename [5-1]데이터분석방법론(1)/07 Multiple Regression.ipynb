{
 "cells": [
  {
   "cell_type": "markdown",
   "metadata": {},
   "source": [
    "# 07 Multiple Regression\n",
    "\n",
    "## 01 Introduction\n",
    "\n",
    "### 1. Introduction\n",
    "\n",
    "- This lecture discusses the case of regression analysis with multiple predictors. The news is mainly the model search aspect, namely among a set of potential descriptive variables to look for a subset that describes the response sufficiently well.\n",
    "- 이 강의는 다중 예측 변수를 사용한 회귀 분석 사례에 대해 논의합니다. 주로 모델 탐색 측면을 다루며, 즉 응답을 충분히 설명하는 부분 집합을 찾기 위해 잠재적 설명 변수 집합 중에서 선택하는 것입니다.\n",
    "\n",
    "- The basic model for multiple regression analysis is \n",
    "\n",
    "<img src=\"https://latex.codecogs.com/svg.image?y=\\beta_0&plus;\\beta_1&space;x_1&plus;\\cdots&plus;\\beta_k&space;x_k&plus;\\epsilon\">\n",
    "\n",
    "where <img src=\"https://latex.codecogs.com/svg.image?x_1,\\cdots,x_k\"> are explanatory variables(also called predictors) and the parameters <img src=\"https://latex.codecogs.com/svg.image?\\beta_1,\\cdots,\\beta_k\"> can be estimated using the method of least squares.  \n",
    "여기서 <img src='https://latex.codecogs.com/svg.image?x_1,\\cdots,x_k'>는 설명 변수(또는 예측 변수)이며, 파라미터 <img src='https://latex.codecogs.com/svg.image?\\beta_1,\\cdots,\\beta_k'>는 최소 제곱법을 사용하여 추정될 수 있습니다.\n"
   ]
  },
  {
   "cell_type": "markdown",
   "metadata": {},
   "source": [
    "## 02 Model and Estimation\n",
    "\n",
    "### 1. Linear Model\n",
    "\n",
    "- One very general form for the model:  \n",
    "<img src=\"https://latex.codecogs.com/svg.image?Y=f(X_1,X_2,X_3)&plus;\\epsilon\">\n",
    "\n",
    "where f is some unknown function and ε is an error\n",
    "\n",
    "- Since we usually don't have enough data to try to estimate f directly, we usually have to assume that it has some more restricted form, perhaps linear as in  \n",
    "- 보통 우리는 f를 직접 추정하기에 충분한 데이터가 없기 때문에, 보다 제한된 형식을 갖는 것으로 가정해야 합니다. 아마도 선형적인 형태일 것입니다.\n",
    "<img src=\"https://latex.codecogs.com/svg.image?Y=\\beta_0&plus;\\beta_1&space;X_1&plus;\\beta_2&space;X_2&plus;\\beta_3&space;X_3&plus;\\epsilon\">\n",
    "\n",
    "- In a linear model the parameters enter linearly - the predictors do not have to be linear.\n",
    "- 선형 모델에서는 모수(파라미터)가 선형적으로 입력되며, 예측 변수는 선형적일 필요가 없습니다.\n",
    "\n",
    "### 2. Matrix Representation\n",
    "\n",
    "- Given the actual data, we may write:  \n",
    "<img src=\"https://latex.codecogs.com/svg.image?Y=\\beta_0&plus;\\beta_1&space;X_1&plus;\\beta_2&space;X_2&plus;\\beta_3&space;X_3&plus;\\epsilon\">\n",
    "\n",
    "- Let\n",
    "\n",
    "<img src=\"https://latex.codecogs.com/svg.image?Y=\\begin{pmatrix}y_1\\\\y_2\\\\\\vdots\\\\y_n\\end{pmatrix}\">\n",
    "<img src=\"https://latex.codecogs.com/svg.image?X=\\begin{pmatrix}1&x_{11}&x_{12}&x_{13}\\\\1&x_{21}&x_{22}&x_{23}\\\\1&\\cdots&\\cdots&\\cdots\\\\1&x_{n1}&x_{n2}&x_{n3}\\\\\\end{pmatrix}\">\n",
    "<img src=\"https://latex.codecogs.com/svg.image?\\epsilon=\\begin{pmatrix}\\epsilon_1\\\\\\epsilon_2\\\\\\vdots\\\\\\epsilon_n\\end{pmatrix}\"> <br>\n",
    "\n",
    "<img src=\"https://latex.codecogs.com/svg.image?Y=X\\beta&plus;\\epsilon\">\n",
    "\n",
    "### 3. Least squares estimation\n",
    "\n",
    "- Least square estimate of β, called <img src=\"https://latex.codecogs.com/svg.image?\\hat\\beta\"> minimizes SSE\n",
    "\n",
    "<img src=\"https://latex.codecogs.com/svg.image?\\sum{\\epsilon_i^2}=\\epsilon^T\\epsilon=(y-X\\beta)^T(y-X\\beta)\"> <br>\n",
    "\n",
    "편미분값을 0으로 만드는 β 값을 찾으면 된다.\n",
    "\n",
    "<img src=\"https://latex.codecogs.com/svg.image?\\frac{\\partial}{\\partial\\beta}(y-X\\beta)^T(y-X\\beta)\"> <br>\n",
    "<img src=\"https://latex.codecogs.com/svg.image?=-2X^TY&plus;2X^TX\\beta=0\"> <br>\n",
    "\n",
    "- Differentiating with respect to β and setting to zero, we find that <img src=\"https://latex.codecogs.com/svg.image?\\hat{\\beta}\"> satisfies\n",
    "- β에 대해 미분하고 그 결과가 0이 되는 β 값이 <img src=\"https://latex.codecogs.com/svg.image?\\hat{\\beta}\">입니다.\n",
    "\n",
    "<img src=\"https://latex.codecogs.com/svg.image?\\hat{\\beta}=(X^T&space;X)^{-1}X^T&space;Y\">\n",
    "\n",
    "- Predicted values: <img src=\"https://latex.codecogs.com/svg.image?\\hat{y}=X\\hat{\\beta}=X(X^T&space;X)^{-1}X^T&space;y=Hy,\\;\\;\\;H=X(X^T&space;X)^{-1}X^T\">  \n",
    "Residuals: <img src=\"https://latex.codecogs.com/svg.image?\\hat{\\epsilon}=y-X\\hat{\\beta}=y-\\hat{y}=(I-H)y\">  \n",
    "Residual sum of squares: <img src=\"https://latex.codecogs.com/svg.image?\\hat{\\epsilon}^T\\hat{\\epsilon}=y^T(I-H)(I-H)y=y^T(I-H)y\">\n",
    "\n",
    "- Assume the errors are uncorrelated and have equal variance, <img src=\"https://latex.codecogs.com/svg.image?Var(\\epsilon)=I\\sigma^2\">\n",
    "- 오차가 상관되지 않고 동일한 분산을 가졌다고 가정하면, <img src=\"https://latex.codecogs.com/svg.image?Var(\\epsilon)=I\\sigma^2\">\n",
    "\n",
    "### 4. Mean and variance of <img src=\"https://latex.codecogs.com/svg.image?\\hat{\\beta}\">\n",
    "\n",
    "<img src=\"https://latex.codecogs.com/svg.image?\\hat{\\beta}=(X^T&space;X)^{-1}X^T&space;Y\">\n",
    "\n",
    "- Mean <img src=\"https://latex.codecogs.com/svg.image?E\\hat{\\beta}=(X^T&space;X)^{-1}X^T&space;X\\beta=\\beta\"> unbiased\n",
    "- <img src=\"https://latex.codecogs.com/svg.image?Var(\\hat{\\beta})=Var(Ay)=A\\cdot&space;Var(y)A^T\">\n",
    "<img src=\"https://latex.codecogs.com/svg.image?=(X^T&space;X)^{-1}X^T\\sigma^2&space;I&space;X(X^T&space;X)^{-1}=(X^T&space;X)^{-1}\\sigma^2\">\n",
    "\n",
    "- Standard error of <img src=\"https://latex.codecogs.com/svg.image?\\hat{\\beta_i}:\\;\\;se(\\hat{\\beta_i})=\\sqrt{(X^T&space;X)_{ii}^{-1}\\hat{\\sigma}}\">\n",
    "\n",
    "### 5. Estimating <img src=\"https://latex.codecogs.com/svg.image?\\sigma^2\">\n",
    "\n",
    "- ANOVA Table\n",
    "\n",
    "||SS|Df|MS|F-value|\n",
    "|-|-|-|-|-|\n",
    "|Regress|SSR|p|MSR|MSR/MSE|\n",
    "|Error|SSE|n-p-1|MSE||\n",
    "|Total|SST|n-1|||\n",
    "\n",
    "<br>\n",
    "<img src=\"https://latex.codecogs.com/svg.image?\\hat{\\sigma}^2=\\frac{SSE}{n-p-1}:MSE\">  \n",
    "\n",
    "- Coefficient of determination: <img src=\"https://latex.codecogs.com/svg.image?R^2=\\frac{SSR}{SST}\">\n"
   ]
  },
  {
   "cell_type": "markdown",
   "metadata": {},
   "source": [
    "### 6. Example\n",
    "\n",
    "```R\n",
    "result = lm(y~a+b+c+d)\n",
    "summary(result)\n",
    "anova(result)\n",
    "```"
   ]
  },
  {
   "cell_type": "markdown",
   "metadata": {},
   "source": [
    "## 03 Inference: Example\n",
    "\n",
    "### 1. Recall: The model\n",
    "\n",
    "- Model\n",
    "\n",
    "<img src=\"https://latex.codecogs.com/svg.image?y=X\\beta&plus;\\epsilon\">\n",
    "\n",
    "- We assume that the errors are independent and identically normally distributed with mean 0 and variance <img src=\"https://latex.codecogs.com/svg.image?y=\\sigma^2\">, i.e.\n",
    "\n",
    "<img src=\"https://latex.codecogs.com/svg.image?\\epsilon\\sim&space;N(0,\\sigma^2&space;I)\"> <br>\n",
    "<img src=\"https://latex.codecogs.com/svg.image?y\\sim&space;N(X\\beta,\\sigma^2&space;I)\">\n",
    "\n",
    "### 2. Examples\n",
    "\n",
    "- Let's illustrate this test and others using an old economic dataset on 50 different countries. These data are averages over 1960-1970 (to remove business cycle or other short-term fluctuations).\n",
    "- 이 테스트와 다른 테스트를 설명하기 위해 1960년부터 1970년까지 50개 국가에 대한 오래된 경제 데이터를 사용해보겠습니다. 이 데이터는 비즈니스 사이클이나 기타 단기적 변동을 제거하기 위해 1960년부터 1970년까지의 평균입니다.\n",
    "\n",
    "- dpi is per-capita disposable income in U.S. dollars; ddpi is the percent rate of change in per capita disposable income; sr is aggregate personal saving divided by disposable income. The percentage population under 15(pop 15) and over 75(pop 75) are also recorded. The data come from Belsley, Kuh, and Welsch(1980).  \n",
    "- dpi는 1인당 처분가능소득(달러)이고; ddpi는 1인당 처분가능소득의 변화율입니다. sr은 처분가능소득에 대한 종합 개인 저축입니다. 15세 미만 인구 백분율(pop 15)과 75세 이상 인구 백분율(pop 75)도 기록되어 있습니다. 이 데이터는 Belsley, Kuh 및 Welsch(1980)에서 가져온 것입니다.\n",
    "\n",
    "### 3. Estimation and Hypothesis test(추정과 가설 검증)\n",
    "\n",
    "- Method 1: using t-test"
   ]
  },
  {
   "cell_type": "code",
   "execution_count": null,
   "metadata": {
    "vscode": {
     "languageId": "r"
    }
   },
   "outputs": [],
   "source": [
    "result = lm(sr~pop15+pop75+dpi+ddpi)\n",
    "summary(result)\n",
    "# 모든 독립변수에 대한 p-value와 하나의 독립변수에 대한 p-value가 각각 존재"
   ]
  },
  {
   "cell_type": "markdown",
   "metadata": {},
   "source": [
    "- Method 2: general F-testing approach\n",
    "- Method 2: 일반 F-테스트 방법\n",
    "\n",
    "Understand that this test of pop15 is relative to the other predictors in the model. namely pop75, dpi and ddpi. If these other predictors were changed, the result of the test may be different. This means that it is not possible to look at the effect of pop 15 in isolation.\n",
    "\n",
    "이 pop15의 테스트는 모델 내의 다른 예측 변수와 관련이 있음을 이해하십시오. 즉, pop75, dpi 및 ddpi입니다. 다른 예측 변수가 변경되면 이 테스트의 결과가 다를 수 있습니다. 즉, pop 15의 효과를 독립적으로 살펴볼 수 없다는 것을 의미합니다."
   ]
  },
  {
   "cell_type": "code",
   "execution_count": null,
   "metadata": {
    "vscode": {
     "languageId": "r"
    }
   },
   "outputs": [],
   "source": [
    "result2 = lm(sr~pop75+dpi+ddpi)\n",
    "anova(result, result2)"
   ]
  },
  {
   "cell_type": "markdown",
   "metadata": {},
   "source": [
    "### 4. Confidence intervals for prediction(예측에 대한 신뢰구간)\n",
    "\n",
    "- Given a new set of predictors, <img src=\"https://latex.codecogs.com/svg.image?x_0\"> what is the predicted response? Easy-just <img src=\"https://latex.codecogs.com/svg.image?\\hat{y_0}=x_0^T\\beta\">\n",
    "- 새로운 예측 변수 집합 <img src=\"https://latex.codecogs.com/svg.image?x_0\">가 주어졌을 때 예측된 응답은 무엇입니까? 쉽게 말해 <img src=\"https://latex.codecogs.com/svg.image?\\hat{y_0}=x_0^T\\beta\">입니다.\n",
    "\n",
    "- There are two kinds of predictions that can be made for a given <img src=\"https://latex.codecogs.com/svg.image?x_0\">.\n",
    "- 특정 <img src=\"https://latex.codecogs.com/svg.image?x_0\">에 대해 두 가지 유형의 예측이 가능합니다.\n",
    "\n",
    "(1) Suppose a new house comes on the market with characteristic <img src=\"https://latex.codecogs.com/svg.image?x_0\">. Its selling price will be <img src=\"https://latex.codecogs.com/svg.image?x_0^T\\hat{\\beta}+\\epsilon\">. Since <img src=\"https://latex.codecogs.com/svg.image?E\\epsilon=0\">, the predicted price is <img src=\"https://latex.codecogs.com/svg.image?x_0^T\\hat{\\beta}\"> but in assessing the variance of this prediction, we must include the variance of ε.  \n",
    "(1) 새 집이 특징 <img src=\"https://latex.codecogs.com/svg.image?x_0\">을 가진 시장에 나온다고 가정해 보겠습니다. 그 판매 가격은 <img src=\"https://latex.codecogs.com/svg.image?x_0^T\\hat{\\beta}+\\epsilon\">일 것입니다. 여기서 <img src=\"https://latex.codecogs.com/svg.image?E\\epsilon=0\">이므로, 예측된 가격은 <img src=\"https://latex.codecogs.com/svg.image?x_0^T\\hat{\\beta}\">입니다. 그러나 이 예측의 분산을 평가할 때, 우리는 ε의 분산을 포함해야 합니다.\n",
    "\n",
    "(2) Suppose we ask the question = \"What would the house with characteristics <img src=\"https://latex.codecogs.com/svg.image?x_0\">\" sell for on average. This selling price is <img src=\"https://latex.codecogs.com/svg.image?x_0^T\\hat{\\beta}\"> and is again predicted by <img src=\"https://latex.codecogs.com/svg.image?x_0^T\\hat{\\beta}\"> but now only the variance in <img src=\"https://latex.codecogs.com/svg.image?\\hat{\\beta}\"> needs to be taken into account.  \n",
    "(2) 이제 질문을 해 보겠습니다. \"특징 <img src=\"https://latex.codecogs.com/svg.image?x_0\">을 가진 집은 평균적으로 어느 정도에 팔릴까요?\" 이 판매 가격은 <img src=\"https://latex.codecogs.com/svg.image?x_0^T\\hat{\\beta}\">이며, 다시 <img src=\"https://latex.codecogs.com/svg.image?x_0^T\\hat{\\beta}\">에 의해 예측됩니다. 이제 <img src=\"https://latex.codecogs.com/svg.image?\\hat{\\beta}\">의 분산만 고려해야 합니다.\n",
    "\n",
    "- Most times, we will want the first case which is called \"prediction of a future value\" while the second case, called \"prediction of the mean response\" is less common.\n",
    "- 대부분의 경우에는 첫 번째 경우를 원할 것입니다. 이것은 \"미래 값 예측\"이라고 불리며, 두 번째 경우인 \"평균 응답 예측\"은 덜 일반적입니다.\n",
    "\n",
    "- Now \n",
    "<img src=\"https://latex.codecogs.com/svg.image?var(x_0^T\\hat{\\beta})=x_0^T(X^T&space;X)^{-1}x_0\\sigma^2\">\n",
    "\n",
    "- A future observation is predicted to be <img src=\"https://latex.codecogs.com/svg.image?x_0^T\\hat{\\beta}&plus;\\epsilon\"> (where we don't what the future ε will turn out to be).  \n",
    "So, 100(1-α)% confidence interval for a single future response is   \n",
    "<img src=\"https://latex.codecogs.com/svg.image?\\hat{y_0}\\pm&space;t_{\\alpha/2,\\phi}\\hat{\\sigma}\\sqrt{1&plus;x_0^T(X^T&space;X)^{-1}x_0}\">\n",
    "\n",
    "\n",
    "- If on the other hand, you want a confidence interval for the average of the responses for given  \n",
    "<img src=\"https://latex.codecogs.com/svg.image?\\hat{y_0}\\pm&space;t_{\\alpha/2,\\phi}\\hat{\\sigma}\\sqrt{x_0^T(X^T&space;X)^{-1}x_0}\">\n"
   ]
  },
  {
   "cell_type": "markdown",
   "metadata": {},
   "source": [
    "- Suppose we want to predict the number of species(of tortoise) on an island with predictors 0.08, 93, 6.0, 12.0, 0.34(same order as in the dataset).\n",
    "- Do it directly from the formula"
   ]
  },
  {
   "cell_type": "code",
   "execution_count": null,
   "metadata": {
    "vscode": {
     "languageId": "r"
    }
   },
   "outputs": [],
   "source": [
    "x0 <- c(1, 0.08, 93, 6.0, 12.0, 0.34)\n",
    "y0 <- sum(x0*g$coet)\n",
    "y0\n",
    "\n",
    "qt(0.975, 24)\n",
    "\n",
    "x <- cbind(1, gala[,3:7])\n",
    "x <- as.matrix(x)\n",
    "xtxi <- solve(t(x) %*% x)\n",
    "bm <- sqrt(x0 %*% xtxi %*% x0) * 2.064 * 60.98\n",
    "bm\n",
    "\n",
    "c(y0-bm, y0+bm)\n",
    "bm2 <- sqrt(1+ x0 %*% xtxi %*% x0) * 2.064 * 60.98\n",
    "c(y0-bm2, y0+bm2)"
   ]
  },
  {
   "cell_type": "markdown",
   "metadata": {},
   "source": [
    "- There is a more direct method for computing the CI. The function predict() requires that its second argument be a dataframe with variables named in the same way as the original dataset:"
   ]
  },
  {
   "cell_type": "code",
   "execution_count": null,
   "metadata": {
    "vscode": {
     "languageId": "r"
    }
   },
   "outputs": [],
   "source": [
    "new = data.frame(Area=0.08, Elevation=93, Nearest=6.0, Scruz=12, Adjacent=0.34)\n",
    "predict(g, new, interval=\"confidence\")\n",
    "predict(g, new, interval=\"prediction\")"
   ]
  },
  {
   "cell_type": "markdown",
   "metadata": {},
   "source": [
    "### 5. Regression Diagnostics(회귀 진단)\n",
    "\n",
    "- After establishing a regression model and performing estimation and testing of coefficients, it is necessary to review in detail whether the fitted model is stable and whether the assumptions are reasonable.\n",
    "- 회귀 모델을 설정하고 계수의 추정 및 테스트를 수행한 후, 적합된 모델이 안정적인지와 가정이 합리적인지를 자세히 검토해야 합니다.\n",
    "\n",
    "(1) Review whether assumptions are violated through residual analysis  \n",
    "(1) 잔차 분석을 통한 가정 위반 여부 검토\n",
    "\n",
    "(2) Detection of outliers or influential points  \n",
    "(2) 이상치 또는 영향력 있는 점의 감지\n",
    "\n",
    "(3) Review the stability of the model by examining the correlation between independent variables  \n",
    "(3) 독립 변수 간 상관 관계를 검토하여 모델의 안정성 검토"
   ]
  }
 ],
 "metadata": {
  "kernelspec": {
   "display_name": "R",
   "language": "R",
   "name": "ir"
  },
  "language_info": {
   "codemirror_mode": "r",
   "file_extension": ".r",
   "mimetype": "text/x-r-source",
   "name": "R",
   "pygments_lexer": "r",
   "version": "4.3.2"
  }
 },
 "nbformat": 4,
 "nbformat_minor": 2
}
