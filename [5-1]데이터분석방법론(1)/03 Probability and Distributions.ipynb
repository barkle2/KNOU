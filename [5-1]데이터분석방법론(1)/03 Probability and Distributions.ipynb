# 03 Probability and Distributions(확률과 분포)

## 01 Basic Concepts(기본 개념)

### 1. Random Sampling



## 02 Descriptive Statistics and Graphics(기술 통계와 그래프)
