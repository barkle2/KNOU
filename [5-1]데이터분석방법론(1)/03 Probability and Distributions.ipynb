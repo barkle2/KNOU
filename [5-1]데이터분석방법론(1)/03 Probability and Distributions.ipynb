{
 "cells": [
  {
   "cell_type": "markdown",
   "metadata": {},
   "source": [
    "# 03 Probability and Distributions\n",
    "\n",
    "## 01 Basic Concepts"
   ]
  },
  {
   "cell_type": "markdown",
   "metadata": {},
   "source": [
    "### 1. Random Sampling"
   ]
  },
  {
   "cell_type": "code",
   "execution_count": 6,
   "metadata": {
    "vscode": {
     "languageId": "r"
    }
   },
   "outputs": [
    {
     "data": {
      "text/html": [
       "<style>\n",
       ".list-inline {list-style: none; margin:0; padding: 0}\n",
       ".list-inline>li {display: inline-block}\n",
       ".list-inline>li:not(:last-child)::after {content: \"\\00b7\"; padding: 0 .5ex}\n",
       "</style>\n",
       "<ol class=list-inline><li>26</li><li>19</li><li>16</li><li>37</li><li>12</li></ol>\n"
      ],
      "text/latex": [
       "\\begin{enumerate*}\n",
       "\\item 26\n",
       "\\item 19\n",
       "\\item 16\n",
       "\\item 37\n",
       "\\item 12\n",
       "\\end{enumerate*}\n"
      ],
      "text/markdown": [
       "1. 26\n",
       "2. 19\n",
       "3. 16\n",
       "4. 37\n",
       "5. 12\n",
       "\n",
       "\n"
      ],
      "text/plain": [
       "[1] 26 19 16 37 12"
      ]
     },
     "metadata": {},
     "output_type": "display_data"
    }
   ],
   "source": [
    "# sampling without replacement\n",
    "sample(1:40, 5)"
   ]
  },
  {
   "cell_type": "code",
   "execution_count": 11,
   "metadata": {
    "vscode": {
     "languageId": "r"
    }
   },
   "outputs": [
    {
     "data": {
      "text/html": [
       "<style>\n",
       ".list-inline {list-style: none; margin:0; padding: 0}\n",
       ".list-inline>li {display: inline-block}\n",
       ".list-inline>li:not(:last-child)::after {content: \"\\00b7\"; padding: 0 .5ex}\n",
       "</style>\n",
       "<ol class=list-inline><li>'T'</li><li>'H'</li><li>'T'</li><li>'H'</li><li>'T'</li><li>'H'</li><li>'T'</li><li>'H'</li><li>'H'</li><li>'H'</li></ol>\n"
      ],
      "text/latex": [
       "\\begin{enumerate*}\n",
       "\\item 'T'\n",
       "\\item 'H'\n",
       "\\item 'T'\n",
       "\\item 'H'\n",
       "\\item 'T'\n",
       "\\item 'H'\n",
       "\\item 'T'\n",
       "\\item 'H'\n",
       "\\item 'H'\n",
       "\\item 'H'\n",
       "\\end{enumerate*}\n"
      ],
      "text/markdown": [
       "1. 'T'\n",
       "2. 'H'\n",
       "3. 'T'\n",
       "4. 'H'\n",
       "5. 'T'\n",
       "6. 'H'\n",
       "7. 'T'\n",
       "8. 'H'\n",
       "9. 'H'\n",
       "10. 'H'\n",
       "\n",
       "\n"
      ],
      "text/plain": [
       " [1] \"T\" \"H\" \"T\" \"H\" \"T\" \"H\" \"T\" \"H\" \"H\" \"H\""
      ]
     },
     "metadata": {},
     "output_type": "display_data"
    }
   ],
   "source": [
    "# sampling with replacement\n",
    "sample(c('H','T'), 10, replace=T)"
   ]
  },
  {
   "cell_type": "code",
   "execution_count": 14,
   "metadata": {
    "vscode": {
     "languageId": "r"
    }
   },
   "outputs": [
    {
     "data": {
      "text/html": [
       "<style>\n",
       ".list-inline {list-style: none; margin:0; padding: 0}\n",
       ".list-inline>li {display: inline-block}\n",
       ".list-inline>li:not(:last-child)::after {content: \"\\00b7\"; padding: 0 .5ex}\n",
       "</style>\n",
       "<ol class=list-inline><li>'succ'</li><li>'succ'</li><li>'succ'</li><li>'succ'</li><li>'fail'</li><li>'fail'</li><li>'succ'</li><li>'succ'</li><li>'succ'</li><li>'succ'</li></ol>\n"
      ],
      "text/latex": [
       "\\begin{enumerate*}\n",
       "\\item 'succ'\n",
       "\\item 'succ'\n",
       "\\item 'succ'\n",
       "\\item 'succ'\n",
       "\\item 'fail'\n",
       "\\item 'fail'\n",
       "\\item 'succ'\n",
       "\\item 'succ'\n",
       "\\item 'succ'\n",
       "\\item 'succ'\n",
       "\\end{enumerate*}\n"
      ],
      "text/markdown": [
       "1. 'succ'\n",
       "2. 'succ'\n",
       "3. 'succ'\n",
       "4. 'succ'\n",
       "5. 'fail'\n",
       "6. 'fail'\n",
       "7. 'succ'\n",
       "8. 'succ'\n",
       "9. 'succ'\n",
       "10. 'succ'\n",
       "\n",
       "\n"
      ],
      "text/plain": [
       " [1] \"succ\" \"succ\" \"succ\" \"succ\" \"fail\" \"fail\" \"succ\" \"succ\" \"succ\" \"succ\""
      ]
     },
     "metadata": {},
     "output_type": "display_data"
    }
   ],
   "source": [
    "# sampling with prob(*)\n",
    "sample(c('succ', 'fail'), 10, replace=T, prob=c(0.9, 0.1))"
   ]
  },
  {
   "cell_type": "markdown",
   "metadata": {},
   "source": [
    "### 2. Prob. Calculations and Combinatorics\n",
    "\n",
    "순열 및 조합\n",
    "\n",
    "<img src=\"https://latex.codecogs.com/svg.image?_nC_r=\\frac{_nP_r}{r!}=\\frac{n!}{r!(n-r)!}\\;\\;\\;\\begin{pmatrix}n\\\\r\\end{pmatrix}\"> 로도 표현"
   ]
  },
  {
   "cell_type": "markdown",
   "metadata": {},
   "source": [
    "## 02 Descriptive Statistics and Graphics"
   ]
  }
 ],
 "metadata": {
  "kernelspec": {
   "display_name": "R",
   "language": "R",
   "name": "ir"
  },
  "language_info": {
   "codemirror_mode": "r",
   "file_extension": ".r",
   "mimetype": "text/x-r-source",
   "name": "R",
   "pygments_lexer": "r",
   "version": "4.3.2"
  }
 },
 "nbformat": 4,
 "nbformat_minor": 2
}
