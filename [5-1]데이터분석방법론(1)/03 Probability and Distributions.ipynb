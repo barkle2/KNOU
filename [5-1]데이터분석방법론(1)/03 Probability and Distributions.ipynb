{
 "cells": [
  {
   "cell_type": "markdown",
   "metadata": {},
   "source": [
    "# 03 Probability and Distributions\n",
    "\n",
    "## 01 Basic Concepts"
   ]
  },
  {
   "cell_type": "markdown",
   "metadata": {},
   "source": [
    "### 1. Random Sampling(임의 추출)"
   ]
  },
  {
   "cell_type": "code",
   "execution_count": 6,
   "metadata": {
    "vscode": {
     "languageId": "r"
    }
   },
   "outputs": [
    {
     "data": {
      "text/html": [
       "<style>\n",
       ".list-inline {list-style: none; margin:0; padding: 0}\n",
       ".list-inline>li {display: inline-block}\n",
       ".list-inline>li:not(:last-child)::after {content: \"\\00b7\"; padding: 0 .5ex}\n",
       "</style>\n",
       "<ol class=list-inline><li>26</li><li>19</li><li>16</li><li>37</li><li>12</li></ol>\n"
      ],
      "text/latex": [
       "\\begin{enumerate*}\n",
       "\\item 26\n",
       "\\item 19\n",
       "\\item 16\n",
       "\\item 37\n",
       "\\item 12\n",
       "\\end{enumerate*}\n"
      ],
      "text/markdown": [
       "1. 26\n",
       "2. 19\n",
       "3. 16\n",
       "4. 37\n",
       "5. 12\n",
       "\n",
       "\n"
      ],
      "text/plain": [
       "[1] 26 19 16 37 12"
      ]
     },
     "metadata": {},
     "output_type": "display_data"
    }
   ],
   "source": [
    "# sampling without replacement\n",
    "sample(1:40, 5)"
   ]
  },
  {
   "cell_type": "code",
   "execution_count": 11,
   "metadata": {
    "vscode": {
     "languageId": "r"
    }
   },
   "outputs": [
    {
     "data": {
      "text/html": [
       "<style>\n",
       ".list-inline {list-style: none; margin:0; padding: 0}\n",
       ".list-inline>li {display: inline-block}\n",
       ".list-inline>li:not(:last-child)::after {content: \"\\00b7\"; padding: 0 .5ex}\n",
       "</style>\n",
       "<ol class=list-inline><li>'T'</li><li>'H'</li><li>'T'</li><li>'H'</li><li>'T'</li><li>'H'</li><li>'T'</li><li>'H'</li><li>'H'</li><li>'H'</li></ol>\n"
      ],
      "text/latex": [
       "\\begin{enumerate*}\n",
       "\\item 'T'\n",
       "\\item 'H'\n",
       "\\item 'T'\n",
       "\\item 'H'\n",
       "\\item 'T'\n",
       "\\item 'H'\n",
       "\\item 'T'\n",
       "\\item 'H'\n",
       "\\item 'H'\n",
       "\\item 'H'\n",
       "\\end{enumerate*}\n"
      ],
      "text/markdown": [
       "1. 'T'\n",
       "2. 'H'\n",
       "3. 'T'\n",
       "4. 'H'\n",
       "5. 'T'\n",
       "6. 'H'\n",
       "7. 'T'\n",
       "8. 'H'\n",
       "9. 'H'\n",
       "10. 'H'\n",
       "\n",
       "\n"
      ],
      "text/plain": [
       " [1] \"T\" \"H\" \"T\" \"H\" \"T\" \"H\" \"T\" \"H\" \"H\" \"H\""
      ]
     },
     "metadata": {},
     "output_type": "display_data"
    }
   ],
   "source": [
    "# sampling with replacement\n",
    "sample(c('H','T'), 10, replace=T)"
   ]
  },
  {
   "cell_type": "code",
   "execution_count": 14,
   "metadata": {
    "vscode": {
     "languageId": "r"
    }
   },
   "outputs": [
    {
     "data": {
      "text/html": [
       "<style>\n",
       ".list-inline {list-style: none; margin:0; padding: 0}\n",
       ".list-inline>li {display: inline-block}\n",
       ".list-inline>li:not(:last-child)::after {content: \"\\00b7\"; padding: 0 .5ex}\n",
       "</style>\n",
       "<ol class=list-inline><li>'succ'</li><li>'succ'</li><li>'succ'</li><li>'succ'</li><li>'fail'</li><li>'fail'</li><li>'succ'</li><li>'succ'</li><li>'succ'</li><li>'succ'</li></ol>\n"
      ],
      "text/latex": [
       "\\begin{enumerate*}\n",
       "\\item 'succ'\n",
       "\\item 'succ'\n",
       "\\item 'succ'\n",
       "\\item 'succ'\n",
       "\\item 'fail'\n",
       "\\item 'fail'\n",
       "\\item 'succ'\n",
       "\\item 'succ'\n",
       "\\item 'succ'\n",
       "\\item 'succ'\n",
       "\\end{enumerate*}\n"
      ],
      "text/markdown": [
       "1. 'succ'\n",
       "2. 'succ'\n",
       "3. 'succ'\n",
       "4. 'succ'\n",
       "5. 'fail'\n",
       "6. 'fail'\n",
       "7. 'succ'\n",
       "8. 'succ'\n",
       "9. 'succ'\n",
       "10. 'succ'\n",
       "\n",
       "\n"
      ],
      "text/plain": [
       " [1] \"succ\" \"succ\" \"succ\" \"succ\" \"fail\" \"fail\" \"succ\" \"succ\" \"succ\" \"succ\""
      ]
     },
     "metadata": {},
     "output_type": "display_data"
    }
   ],
   "source": [
    "# sampling with prob(*)\n",
    "sample(c('succ', 'fail'), 10, replace=T, prob=c(0.9, 0.1))"
   ]
  },
  {
   "cell_type": "markdown",
   "metadata": {},
   "source": [
    "### 2. Prob. Calculations and Combinatorics\n",
    "\n",
    "순열(Permutation) 및 조합(Combination)\n",
    "\n",
    "<img src=\"https://latex.codecogs.com/svg.image?_nC_r=\\frac{_nP_r}{r!}=\\frac{n!}{r!(n-r)!}\\;\\;\\;\\begin{pmatrix}n\\\\r\\end{pmatrix}\"> 로도 표현"
   ]
  },
  {
   "cell_type": "code",
   "execution_count": 1,
   "metadata": {
    "vscode": {
     "languageId": "r"
    }
   },
   "outputs": [
    {
     "data": {
      "text/html": [
       "1.51973836184363e-06"
      ],
      "text/latex": [
       "1.51973836184363e-06"
      ],
      "text/markdown": [
       "1.51973836184363e-06"
      ],
      "text/plain": [
       "[1] 1.519738e-06"
      ]
     },
     "metadata": {},
     "output_type": "display_data"
    }
   ],
   "source": [
    "# The probability to choose 5 numbers out of 40\n",
    "prod(5:1)/prod(40:36)"
   ]
  },
  {
   "cell_type": "code",
   "execution_count": 2,
   "metadata": {
    "vscode": {
     "languageId": "r"
    }
   },
   "outputs": [
    {
     "data": {
      "text/html": [
       "1.51973836184363e-06"
      ],
      "text/latex": [
       "1.51973836184363e-06"
      ],
      "text/markdown": [
       "1.51973836184363e-06"
      ],
      "text/plain": [
       "[1] 1.519738e-06"
      ]
     },
     "metadata": {},
     "output_type": "display_data"
    }
   ],
   "source": [
    "1/choose(40,5)"
   ]
  },
  {
   "cell_type": "markdown",
   "metadata": {},
   "source": [
    "### 3. Discrete distributions(이산형 분포)\n",
    "\n",
    "binomial distributions(이항분포)\n",
    "\n",
    "*X ~ b(n,p)*\n",
    "\n",
    "<img src=\"https://latex.codecogs.com/svg.image?&space;f(x)=\\binom{n}{x}p^x(1-p)^{n-x}\">"
   ]
  },
  {
   "cell_type": "markdown",
   "metadata": {},
   "source": [
    "### 4. Continuous Distributions(연속형 분포)\n",
    "\n",
    "Normal distributions(정규 분포)\n",
    "\n",
    "<img src=\"https://latex.codecogs.com/svg.image?X\\sim&space;N(\\mu,\\sigma^2)\"> <br>\n",
    "\n",
    "<img src=\"https://latex.codecogs.com/svg.image?f(x)=\\frac{1}{\\sqrt{2\\pi\\sigma}}\\cdot&space;exp(-\\frac{(x-\\mu)^2}{2\\sigma^2})\">\n"
   ]
  },
  {
   "cell_type": "markdown",
   "metadata": {},
   "source": [
    "### 5. The built-in distributions in R\n",
    "\n",
    "- Density or point probability\n",
    "- Comulated probability, distibution function\n",
    "- Quantiles\n",
    "- Pseudo-random numbers\n",
    "\n",
    "※ For the normal distribution, these are named dnorm, pnorm, qnorm, and rnorm(density, probability, quantile, and random respectively)\n",
    "\n",
    "#### Densities"
   ]
  },
  {
   "cell_type": "code",
   "execution_count": 5,
   "metadata": {
    "vscode": {
     "languageId": "r"
    }
   },
   "outputs": [
    {
     "data": {
      "image/png": "[encoded data removed]",
      "text/plain": [
       "Plot with title \"Normal distribution\""
      ]
     },
     "metadata": {
      "image/png": {
       "height": 420,
       "width": 420
      }
     },
     "output_type": "display_data"
    }
   ],
   "source": [
    "# Normal distribution\n",
    "\n",
    "x <- seq(-4, 4, 0.1)\n",
    "plot(x, dnorm(x), type='l')\n",
    "title(\"Normal distribution\")"
   ]
  },
  {
   "cell_type": "code",
   "execution_count": 6,
   "metadata": {
    "vscode": {
     "languageId": "r"
    }
   },
   "outputs": [
    {
     "data": {
      "image/png": "[encoded data removed]",
      "text/plain": [
       "plot without title"
      ]
     },
     "metadata": {
      "image/png": {
       "height": 420,
       "width": 420
      }
     },
     "output_type": "display_data"
    }
   ],
   "source": [
    "# 다른 방법\n",
    "curve(dnorm(x), from=-4, to=4)"
   ]
  },
  {
   "cell_type": "code",
   "execution_count": 7,
   "metadata": {
    "vscode": {
     "languageId": "r"
    }
   },
   "outputs": [
    {
     "data": {
      "image/png": "[encoded data removed]",
      "text/plain": [
       "plot without title"
      ]
     },
     "metadata": {
      "image/png": {
       "height": 420,
       "width": 420
      }
     },
     "output_type": "display_data"
    }
   ],
   "source": [
    "# Binomial distribution\n",
    "x <- 0:50\n",
    "plot(x, dbinom(x, size=50, prob=.33), type='h')"
   ]
  },
  {
   "cell_type": "markdown",
   "metadata": {},
   "source": [
    "#### Cumulative distribution functions\n",
    "\n",
    "- Normal distribution\n",
    "\n",
    "<img src=\"https://latex.codecogs.com/svg.image?X\\sim&space;N(132,13^2)\"> <br>\n",
    "\n",
    "Calcalate Pr(X ≥ 160)"
   ]
  },
  {
   "cell_type": "code",
   "execution_count": 8,
   "metadata": {
    "vscode": {
     "languageId": "r"
    }
   },
   "outputs": [
    {
     "data": {
      "text/html": [
       "0.0156261194284694"
      ],
      "text/latex": [
       "0.0156261194284694"
      ],
      "text/markdown": [
       "0.0156261194284694"
      ],
      "text/plain": [
       "[1] 0.01562612"
      ]
     },
     "metadata": {},
     "output_type": "display_data"
    }
   ],
   "source": [
    "1-pnorm(160, mean=132, sd=13)\n"
   ]
  },
  {
   "cell_type": "markdown",
   "metadata": {},
   "source": [
    "- Binomial distribution\n",
    "\n",
    "Twenty patients are given two treatments each and then asked whether treatment A or B worked better. It turned out that 16 patient liked A better. The question is the whether this can be taken as sufficient evidence that A actually is the better treatment or whether the outcome might as well have happened by chance even if the treatments were equally good.\n",
    "\n",
    "X ~ b(20, 0.5)\n",
    "\n",
    "<img src=\"https://latex.codecogs.com/svg.image?H_0:p=0.5\"><br>\n",
    "<img src=\"https://latex.codecogs.com/svg.image?H_1:p>0.5\"><br>\n",
    "<br>\n",
    "<img src=\"https://latex.codecogs.com/svg.image?p-value=P(X\\geq&space;16|H_0=1-P(X\\leq&space;15)\">\n",
    "\n"
   ]
  },
  {
   "cell_type": "code",
   "execution_count": 9,
   "metadata": {
    "vscode": {
     "languageId": "r"
    }
   },
   "outputs": [
    {
     "data": {
      "text/html": [
       "0.00590896606445312"
      ],
      "text/latex": [
       "0.00590896606445312"
      ],
      "text/markdown": [
       "0.00590896606445312"
      ],
      "text/plain": [
       "[1] 0.005908966"
      ]
     },
     "metadata": {},
     "output_type": "display_data"
    }
   ],
   "source": [
    "1-pbinom(15, size=20, prob=0.5)"
   ]
  },
  {
   "cell_type": "markdown",
   "metadata": {},
   "source": [
    "#### Quantiles(백분위수)\n",
    "\n",
    "- The quantile function is the inverse of the cumulative distribution function. The p-quantile is the value with the property that there is probability p of getting a value less than or equal to it. the median is by definition the 50% quantile.\n",
    "\n",
    "- 95% CI for μ\n",
    "\n",
    "<center>\n",
    "<img src=\"https://latex.codecogs.com/svg.image?\\bar{x}&plus;\\sigma/\\sqrt(n)\\times&space;N_{0.025}\\leq\\mu\\leq\\bar{x}&plus;\\sigma/\\sqrt(n)\\times&space;N_{0.975}\">\n",
    "</center>\n",
    "\n",
    "where <img src=\"https://latex.codecogs.com/svg.image?N_{0.025}\"> is the 2.5% quantile in the normal distribution."
   ]
  },
  {
   "cell_type": "code",
   "execution_count": 13,
   "metadata": {
    "vscode": {
     "languageId": "r"
    }
   },
   "outputs": [
    {
     "data": {
      "text/html": [
       "5.3665631459995"
      ],
      "text/latex": [
       "5.3665631459995"
      ],
      "text/markdown": [
       "5.3665631459995"
      ],
      "text/plain": [
       "[1] 5.366563"
      ]
     },
     "metadata": {},
     "output_type": "display_data"
    },
    {
     "data": {
      "text/html": [
       "72.481729513081"
      ],
      "text/latex": [
       "72.481729513081"
      ],
      "text/markdown": [
       "72.481729513081"
      ],
      "text/plain": [
       "[1] 72.48173"
      ]
     },
     "metadata": {},
     "output_type": "display_data"
    },
    {
     "data": {
      "text/html": [
       "93.518270486919"
      ],
      "text/latex": [
       "93.518270486919"
      ],
      "text/markdown": [
       "93.518270486919"
      ],
      "text/plain": [
       "[1] 93.51827"
      ]
     },
     "metadata": {},
     "output_type": "display_data"
    }
   ],
   "source": [
    "xbar <- 83\n",
    "sigma <- 12\n",
    "n <- 5\n",
    "sem <- sigma/sqrt(n)\n",
    "sem\n",
    "xbar + sem*qnorm(0.025)\n",
    "xbar + sem*qnorm(0.975)"
   ]
  },
  {
   "cell_type": "markdown",
   "metadata": {},
   "source": [
    "#### Random numbers"
   ]
  },
  {
   "cell_type": "code",
   "execution_count": 14,
   "metadata": {
    "vscode": {
     "languageId": "r"
    }
   },
   "outputs": [
    {
     "data": {
      "text/html": [
       "<style>\n",
       ".list-inline {list-style: none; margin:0; padding: 0}\n",
       ".list-inline>li {display: inline-block}\n",
       ".list-inline>li:not(:last-child)::after {content: \"\\00b7\"; padding: 0 .5ex}\n",
       "</style>\n",
       "<ol class=list-inline><li>1.92628950782231</li><li>0.415778594538049</li><li>-0.429089527490275</li><li>0.071204678408767</li><li>0.0398343783739067</li><li>-0.145773195266648</li><li>-1.96245745481854</li><li>1.14221531613504</li><li>0.370013002811551</li><li>-1.39949851290194</li></ol>\n"
      ],
      "text/latex": [
       "\\begin{enumerate*}\n",
       "\\item 1.92628950782231\n",
       "\\item 0.415778594538049\n",
       "\\item -0.429089527490275\n",
       "\\item 0.071204678408767\n",
       "\\item 0.0398343783739067\n",
       "\\item -0.145773195266648\n",
       "\\item -1.96245745481854\n",
       "\\item 1.14221531613504\n",
       "\\item 0.370013002811551\n",
       "\\item -1.39949851290194\n",
       "\\end{enumerate*}\n"
      ],
      "text/markdown": [
       "1. 1.92628950782231\n",
       "2. 0.415778594538049\n",
       "3. -0.429089527490275\n",
       "4. 0.071204678408767\n",
       "5. 0.0398343783739067\n",
       "6. -0.145773195266648\n",
       "7. -1.96245745481854\n",
       "8. 1.14221531613504\n",
       "9. 0.370013002811551\n",
       "10. -1.39949851290194\n",
       "\n",
       "\n"
      ],
      "text/plain": [
       " [1]  1.92628951  0.41577859 -0.42908953  0.07120468  0.03983438 -0.14577320\n",
       " [7] -1.96245745  1.14221532  0.37001300 -1.39949851"
      ]
     },
     "metadata": {},
     "output_type": "display_data"
    },
    {
     "data": {
      "text/html": [
       "<style>\n",
       ".list-inline {list-style: none; margin:0; padding: 0}\n",
       ".list-inline>li {display: inline-block}\n",
       ".list-inline>li:not(:last-child)::after {content: \"\\00b7\"; padding: 0 .5ex}\n",
       "</style>\n",
       "<ol class=list-inline><li>4.26721327482442</li><li>10.1538410137254</li><li>4.83601115311069</li><li>11.6548605211177</li><li>9.9273912128733</li><li>-0.851558195507751</li><li>2.87405139709329</li><li>11.3290139268476</li><li>9.95942990158086</li><li>13.7533120139862</li></ol>\n"
      ],
      "text/latex": [
       "\\begin{enumerate*}\n",
       "\\item 4.26721327482442\n",
       "\\item 10.1538410137254\n",
       "\\item 4.83601115311069\n",
       "\\item 11.6548605211177\n",
       "\\item 9.9273912128733\n",
       "\\item -0.851558195507751\n",
       "\\item 2.87405139709329\n",
       "\\item 11.3290139268476\n",
       "\\item 9.95942990158086\n",
       "\\item 13.7533120139862\n",
       "\\end{enumerate*}\n"
      ],
      "text/markdown": [
       "1. 4.26721327482442\n",
       "2. 10.1538410137254\n",
       "3. 4.83601115311069\n",
       "4. 11.6548605211177\n",
       "5. 9.9273912128733\n",
       "6. -0.851558195507751\n",
       "7. 2.87405139709329\n",
       "8. 11.3290139268476\n",
       "9. 9.95942990158086\n",
       "10. 13.7533120139862\n",
       "\n",
       "\n"
      ],
      "text/plain": [
       " [1]  4.2672133 10.1538410  4.8360112 11.6548605  9.9273912 -0.8515582\n",
       " [7]  2.8740514 11.3290139  9.9594299 13.7533120"
      ]
     },
     "metadata": {},
     "output_type": "display_data"
    },
    {
     "data": {
      "text/html": [
       "<style>\n",
       ".list-inline {list-style: none; margin:0; padding: 0}\n",
       ".list-inline>li {display: inline-block}\n",
       ".list-inline>li:not(:last-child)::after {content: \"\\00b7\"; padding: 0 .5ex}\n",
       "</style>\n",
       "<ol class=list-inline><li>9</li><li>6</li><li>13</li><li>13</li><li>11</li><li>10</li><li>13</li><li>12</li><li>10</li><li>11</li></ol>\n"
      ],
      "text/latex": [
       "\\begin{enumerate*}\n",
       "\\item 9\n",
       "\\item 6\n",
       "\\item 13\n",
       "\\item 13\n",
       "\\item 11\n",
       "\\item 10\n",
       "\\item 13\n",
       "\\item 12\n",
       "\\item 10\n",
       "\\item 11\n",
       "\\end{enumerate*}\n"
      ],
      "text/markdown": [
       "1. 9\n",
       "2. 6\n",
       "3. 13\n",
       "4. 13\n",
       "5. 11\n",
       "6. 10\n",
       "7. 13\n",
       "8. 12\n",
       "9. 10\n",
       "10. 11\n",
       "\n",
       "\n"
      ],
      "text/plain": [
       " [1]  9  6 13 13 11 10 13 12 10 11"
      ]
     },
     "metadata": {},
     "output_type": "display_data"
    }
   ],
   "source": [
    "rnorm(10)\n",
    "rnorm(10, mean=7, sd=5)\n",
    "rbinom(10, size=20, prob=0.5)"
   ]
  },
  {
   "cell_type": "markdown",
   "metadata": {},
   "source": [
    "## 02 Descriptive Statistics and Graphics(기술통계와 그래프)\n",
    "\n",
    "### 1. Summary statistics for a single group\n",
    "\n",
    "#### Calculate the mean, standard deviation, variance, and median"
   ]
  },
  {
   "cell_type": "code",
   "execution_count": 18,
   "metadata": {
    "vscode": {
     "languageId": "r"
    }
   },
   "outputs": [
    {
     "data": {
      "text/html": [
       "0.255601268623865"
      ],
      "text/latex": [
       "0.255601268623865"
      ],
      "text/markdown": [
       "0.255601268623865"
      ],
      "text/plain": [
       "[1] 0.2556013"
      ]
     },
     "metadata": {},
     "output_type": "display_data"
    },
    {
     "data": {
      "text/html": [
       "0.989308486773193"
      ],
      "text/latex": [
       "0.989308486773193"
      ],
      "text/markdown": [
       "0.989308486773193"
      ],
      "text/plain": [
       "[1] 0.9893085"
      ]
     },
     "metadata": {},
     "output_type": "display_data"
    },
    {
     "data": {
      "text/html": [
       "0.978731282001465"
      ],
      "text/latex": [
       "0.978731282001465"
      ],
      "text/markdown": [
       "0.978731282001465"
      ],
      "text/plain": [
       "[1] 0.9787313"
      ]
     },
     "metadata": {},
     "output_type": "display_data"
    },
    {
     "data": {
      "text/html": [
       "0.388135666936077"
      ],
      "text/latex": [
       "0.388135666936077"
      ],
      "text/markdown": [
       "0.388135666936077"
      ],
      "text/plain": [
       "[1] 0.3881357"
      ]
     },
     "metadata": {},
     "output_type": "display_data"
    },
    {
     "data": {
      "text/html": [
       "<style>\n",
       ".dl-inline {width: auto; margin:0; padding: 0}\n",
       ".dl-inline>dt, .dl-inline>dd {float: none; width: auto; display: inline-block}\n",
       ".dl-inline>dt::after {content: \":\\0020\"; padding-right: .5ex}\n",
       ".dl-inline>dt:not(:first-of-type) {padding-left: .5ex}\n",
       "</style><dl class=dl-inline><dt>0%</dt><dd>-2.02851356124606</dd><dt>25%</dt><dd>-0.33979476717228</dd><dt>50%</dt><dd>0.388135666936077</dd><dt>75%</dt><dd>0.784820053230868</dd><dt>100%</dt><dd>3.37546048986808</dd></dl>\n"
      ],
      "text/latex": [
       "\\begin{description*}\n",
       "\\item[0\\textbackslash{}\\%] -2.02851356124606\n",
       "\\item[25\\textbackslash{}\\%] -0.33979476717228\n",
       "\\item[50\\textbackslash{}\\%] 0.388135666936077\n",
       "\\item[75\\textbackslash{}\\%] 0.784820053230868\n",
       "\\item[100\\textbackslash{}\\%] 3.37546048986808\n",
       "\\end{description*}\n"
      ],
      "text/markdown": [
       "0%\n",
       ":   -2.0285135612460625%\n",
       ":   -0.3397947671722850%\n",
       ":   0.38813566693607775%\n",
       ":   0.784820053230868100%\n",
       ":   3.37546048986808\n",
       "\n"
      ],
      "text/plain": [
       "        0%        25%        50%        75%       100% \n",
       "-2.0285136 -0.3397948  0.3881357  0.7848201  3.3754605 "
      ]
     },
     "metadata": {},
     "output_type": "display_data"
    },
    {
     "data": {
      "text/html": [
       "<style>\n",
       ".dl-inline {width: auto; margin:0; padding: 0}\n",
       ".dl-inline>dt, .dl-inline>dd {float: none; width: auto; display: inline-block}\n",
       ".dl-inline>dt::after {content: \":\\0020\"; padding-right: .5ex}\n",
       ".dl-inline>dt:not(:first-of-type) {padding-left: .5ex}\n",
       "</style><dl class=dl-inline><dt>0%</dt><dd>-2.02851356124606</dd><dt>10%</dt><dd>-0.96976972141754</dd><dt>20%</dt><dd>-0.518879251626036</dd><dt>30%</dt><dd>-0.19847648598806</dd><dt>40%</dt><dd>0.221568209626425</dd><dt>50%</dt><dd>0.388135666936077</dd><dt>60%</dt><dd>0.513344276658467</dd><dt>70%</dt><dd>0.705520934727537</dd><dt>80%</dt><dd>0.843469344361487</dd><dt>90%</dt><dd>1.31871138991598</dd><dt>100%</dt><dd>3.37546048986808</dd></dl>\n"
      ],
      "text/latex": [
       "\\begin{description*}\n",
       "\\item[0\\textbackslash{}\\%] -2.02851356124606\n",
       "\\item[10\\textbackslash{}\\%] -0.96976972141754\n",
       "\\item[20\\textbackslash{}\\%] -0.518879251626036\n",
       "\\item[30\\textbackslash{}\\%] -0.19847648598806\n",
       "\\item[40\\textbackslash{}\\%] 0.221568209626425\n",
       "\\item[50\\textbackslash{}\\%] 0.388135666936077\n",
       "\\item[60\\textbackslash{}\\%] 0.513344276658467\n",
       "\\item[70\\textbackslash{}\\%] 0.705520934727537\n",
       "\\item[80\\textbackslash{}\\%] 0.843469344361487\n",
       "\\item[90\\textbackslash{}\\%] 1.31871138991598\n",
       "\\item[100\\textbackslash{}\\%] 3.37546048986808\n",
       "\\end{description*}\n"
      ],
      "text/markdown": [
       "0%\n",
       ":   -2.0285135612460610%\n",
       ":   -0.9697697214175420%\n",
       ":   -0.51887925162603630%\n",
       ":   -0.1984764859880640%\n",
       ":   0.22156820962642550%\n",
       ":   0.38813566693607760%\n",
       ":   0.51334427665846770%\n",
       ":   0.70552093472753780%\n",
       ":   0.84346934436148790%\n",
       ":   1.31871138991598100%\n",
       ":   3.37546048986808\n",
       "\n"
      ],
      "text/plain": [
       "        0%        10%        20%        30%        40%        50%        60% \n",
       "-2.0285136 -0.9697697 -0.5188793 -0.1984765  0.2215682  0.3881357  0.5133443 \n",
       "       70%        80%        90%       100% \n",
       " 0.7055209  0.8434693  1.3187114  3.3754605 "
      ]
     },
     "metadata": {},
     "output_type": "display_data"
    }
   ],
   "source": [
    "x <- rnorm(50)\n",
    "mean(x)\n",
    "sd(x)\n",
    "var(x)\n",
    "median(x)\n",
    "quantile(x)\n",
    "\n",
    "pvec <- seq(0,1,0.1)\n",
    "quantile(x, pvec)"
   ]
  },
  {
   "cell_type": "markdown",
   "metadata": {},
   "source": [
    "- In case there are missing values in data (1)"
   ]
  },
  {
   "cell_type": "code",
   "execution_count": 23,
   "metadata": {
    "vscode": {
     "languageId": "r"
    }
   },
   "outputs": [
    {
     "data": {
      "text/html": [
       "<table class=\"dataframe\">\n",
       "<caption>A data.frame: 6 × 6</caption>\n",
       "<thead>\n",
       "\t<tr><th></th><th scope=col>age</th><th scope=col>menarche</th><th scope=col>sex</th><th scope=col>igf1</th><th scope=col>tanner</th><th scope=col>testvol</th></tr>\n",
       "\t<tr><th></th><th scope=col>&lt;dbl&gt;</th><th scope=col>&lt;int&gt;</th><th scope=col>&lt;dbl&gt;</th><th scope=col>&lt;dbl&gt;</th><th scope=col>&lt;int&gt;</th><th scope=col>&lt;int&gt;</th></tr>\n",
       "</thead>\n",
       "<tbody>\n",
       "\t<tr><th scope=row>1</th><td>  NA</td><td>NA</td><td>NA</td><td> 90</td><td>NA</td><td>NA</td></tr>\n",
       "\t<tr><th scope=row>2</th><td>  NA</td><td>NA</td><td>NA</td><td> 88</td><td>NA</td><td>NA</td></tr>\n",
       "\t<tr><th scope=row>3</th><td>  NA</td><td>NA</td><td>NA</td><td>164</td><td>NA</td><td>NA</td></tr>\n",
       "\t<tr><th scope=row>4</th><td>  NA</td><td>NA</td><td>NA</td><td>166</td><td>NA</td><td>NA</td></tr>\n",
       "\t<tr><th scope=row>5</th><td>  NA</td><td>NA</td><td>NA</td><td>131</td><td>NA</td><td>NA</td></tr>\n",
       "\t<tr><th scope=row>6</th><td>0.17</td><td>NA</td><td> 1</td><td>101</td><td> 1</td><td>NA</td></tr>\n",
       "</tbody>\n",
       "</table>\n"
      ],
      "text/latex": [
       "A data.frame: 6 × 6\n",
       "\\begin{tabular}{r|llllll}\n",
       "  & age & menarche & sex & igf1 & tanner & testvol\\\\\n",
       "  & <dbl> & <int> & <dbl> & <dbl> & <int> & <int>\\\\\n",
       "\\hline\n",
       "\t1 &   NA & NA & NA &  90 & NA & NA\\\\\n",
       "\t2 &   NA & NA & NA &  88 & NA & NA\\\\\n",
       "\t3 &   NA & NA & NA & 164 & NA & NA\\\\\n",
       "\t4 &   NA & NA & NA & 166 & NA & NA\\\\\n",
       "\t5 &   NA & NA & NA & 131 & NA & NA\\\\\n",
       "\t6 & 0.17 & NA &  1 & 101 &  1 & NA\\\\\n",
       "\\end{tabular}\n"
      ],
      "text/markdown": [
       "\n",
       "A data.frame: 6 × 6\n",
       "\n",
       "| <!--/--> | age &lt;dbl&gt; | menarche &lt;int&gt; | sex &lt;dbl&gt; | igf1 &lt;dbl&gt; | tanner &lt;int&gt; | testvol &lt;int&gt; |\n",
       "|---|---|---|---|---|---|---|\n",
       "| 1 |   NA | NA | NA |  90 | NA | NA |\n",
       "| 2 |   NA | NA | NA |  88 | NA | NA |\n",
       "| 3 |   NA | NA | NA | 164 | NA | NA |\n",
       "| 4 |   NA | NA | NA | 166 | NA | NA |\n",
       "| 5 |   NA | NA | NA | 131 | NA | NA |\n",
       "| 6 | 0.17 | NA |  1 | 101 |  1 | NA |\n",
       "\n"
      ],
      "text/plain": [
       "  age  menarche sex igf1 tanner testvol\n",
       "1   NA NA       NA   90  NA     NA     \n",
       "2   NA NA       NA   88  NA     NA     \n",
       "3   NA NA       NA  164  NA     NA     \n",
       "4   NA NA       NA  166  NA     NA     \n",
       "5   NA NA       NA  131  NA     NA     \n",
       "6 0.17 NA        1  101   1     NA     "
      ]
     },
     "metadata": {},
     "output_type": "display_data"
    },
    {
     "name": "stderr",
     "output_type": "stream",
     "text": [
      "The following objects are masked from juul (pos = 3):\n",
      "\n",
      "    age, igf1, menarche, sex, tanner, testvol\n",
      "\n",
      "\n"
     ]
    },
    {
     "data": {
      "text/html": [
       "&lt;NA&gt;"
      ],
      "text/latex": [
       "<NA>"
      ],
      "text/markdown": [
       "&lt;NA&gt;"
      ],
      "text/plain": [
       "[1] NA"
      ]
     },
     "metadata": {},
     "output_type": "display_data"
    },
    {
     "data": {
      "text/html": [
       "340.167976424361"
      ],
      "text/latex": [
       "340.167976424361"
      ],
      "text/markdown": [
       "340.167976424361"
      ],
      "text/plain": [
       "[1] 340.168"
      ]
     },
     "metadata": {},
     "output_type": "display_data"
    },
    {
     "data": {
      "text/html": [
       "1018"
      ],
      "text/latex": [
       "1018"
      ],
      "text/markdown": [
       "1018"
      ],
      "text/plain": [
       "[1] 1018"
      ]
     },
     "metadata": {},
     "output_type": "display_data"
    },
    {
     "data": {
      "text/plain": [
       "   Min. 1st Qu.  Median    Mean 3rd Qu.    Max.    NA's \n",
       "   25.0   202.2   313.5   340.2   462.8   915.0     321 "
      ]
     },
     "metadata": {},
     "output_type": "display_data"
    }
   ],
   "source": [
    "library(ISwR)\n",
    "data(juul)\n",
    "head(juul)\n",
    "attach(juul)\n",
    "mean(igf1)\n",
    "mean(igf1, na.rm=T)\n",
    "sum(!is.na(igf1))\n",
    "summary(igf1)"
   ]
  }
 ],
 "metadata": {
  "kernelspec": {
   "display_name": "R",
   "language": "R",
   "name": "ir"
  },
  "language_info": {
   "codemirror_mode": "r",
   "file_extension": ".r",
   "mimetype": "text/x-r-source",
   "name": "R",
   "pygments_lexer": "r",
   "version": "4.3.2"
  }
 },
 "nbformat": 4,
 "nbformat_minor": 2
}
