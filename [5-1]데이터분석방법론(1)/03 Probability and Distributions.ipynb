{
 "cells": [
  {
   "cell_type": "markdown",
   "metadata": {},
   "source": [
    "# 03 Probability and Distributions\n",
    "\n",
    "## 01 Basic Concepts"
   ]
  },
  {
   "cell_type": "markdown",
   "metadata": {},
   "source": [
    "### 1. Random Sampling(임의 추출)"
   ]
  },
  {
   "cell_type": "code",
   "execution_count": 2,
   "metadata": {
    "vscode": {
     "languageId": "r"
    }
   },
   "outputs": [
    {
     "data": {
      "text/html": [
       "<style>\n",
       ".list-inline {list-style: none; margin:0; padding: 0}\n",
       ".list-inline>li {display: inline-block}\n",
       ".list-inline>li:not(:last-child)::after {content: \"\\00b7\"; padding: 0 .5ex}\n",
       "</style>\n",
       "<ol class=list-inline><li>6</li><li>16</li><li>2</li><li>24</li><li>13</li></ol>\n"
      ],
      "text/latex": [
       "\\begin{enumerate*}\n",
       "\\item 6\n",
       "\\item 16\n",
       "\\item 2\n",
       "\\item 24\n",
       "\\item 13\n",
       "\\end{enumerate*}\n"
      ],
      "text/markdown": [
       "1. 6\n",
       "2. 16\n",
       "3. 2\n",
       "4. 24\n",
       "5. 13\n",
       "\n",
       "\n"
      ],
      "text/plain": [
       "[1]  6 16  2 24 13"
      ]
     },
     "metadata": {},
     "output_type": "display_data"
    }
   ],
   "source": [
    "# sampling without replacement\n",
    "sample(1:40, 5)"
   ]
  },
  {
   "cell_type": "code",
   "execution_count": 3,
   "metadata": {
    "vscode": {
     "languageId": "r"
    }
   },
   "outputs": [
    {
     "data": {
      "text/html": [
       "<style>\n",
       ".list-inline {list-style: none; margin:0; padding: 0}\n",
       ".list-inline>li {display: inline-block}\n",
       ".list-inline>li:not(:last-child)::after {content: \"\\00b7\"; padding: 0 .5ex}\n",
       "</style>\n",
       "<ol class=list-inline><li>'T'</li><li>'H'</li><li>'H'</li><li>'H'</li><li>'T'</li><li>'H'</li><li>'T'</li><li>'T'</li><li>'T'</li><li>'H'</li></ol>\n"
      ],
      "text/latex": [
       "\\begin{enumerate*}\n",
       "\\item 'T'\n",
       "\\item 'H'\n",
       "\\item 'H'\n",
       "\\item 'H'\n",
       "\\item 'T'\n",
       "\\item 'H'\n",
       "\\item 'T'\n",
       "\\item 'T'\n",
       "\\item 'T'\n",
       "\\item 'H'\n",
       "\\end{enumerate*}\n"
      ],
      "text/markdown": [
       "1. 'T'\n",
       "2. 'H'\n",
       "3. 'H'\n",
       "4. 'H'\n",
       "5. 'T'\n",
       "6. 'H'\n",
       "7. 'T'\n",
       "8. 'T'\n",
       "9. 'T'\n",
       "10. 'H'\n",
       "\n",
       "\n"
      ],
      "text/plain": [
       " [1] \"T\" \"H\" \"H\" \"H\" \"T\" \"H\" \"T\" \"T\" \"T\" \"H\""
      ]
     },
     "metadata": {},
     "output_type": "display_data"
    }
   ],
   "source": [
    "# sampling with replacement\n",
    "sample(c('H','T'), 10, replace=T)"
   ]
  },
  {
   "cell_type": "code",
   "execution_count": 4,
   "metadata": {
    "vscode": {
     "languageId": "r"
    }
   },
   "outputs": [
    {
     "data": {
      "text/html": [
       "<style>\n",
       ".list-inline {list-style: none; margin:0; padding: 0}\n",
       ".list-inline>li {display: inline-block}\n",
       ".list-inline>li:not(:last-child)::after {content: \"\\00b7\"; padding: 0 .5ex}\n",
       "</style>\n",
       "<ol class=list-inline><li>'succ'</li><li>'succ'</li><li>'succ'</li><li>'fail'</li><li>'fail'</li><li>'succ'</li><li>'succ'</li><li>'succ'</li><li>'succ'</li><li>'succ'</li></ol>\n"
      ],
      "text/latex": [
       "\\begin{enumerate*}\n",
       "\\item 'succ'\n",
       "\\item 'succ'\n",
       "\\item 'succ'\n",
       "\\item 'fail'\n",
       "\\item 'fail'\n",
       "\\item 'succ'\n",
       "\\item 'succ'\n",
       "\\item 'succ'\n",
       "\\item 'succ'\n",
       "\\item 'succ'\n",
       "\\end{enumerate*}\n"
      ],
      "text/markdown": [
       "1. 'succ'\n",
       "2. 'succ'\n",
       "3. 'succ'\n",
       "4. 'fail'\n",
       "5. 'fail'\n",
       "6. 'succ'\n",
       "7. 'succ'\n",
       "8. 'succ'\n",
       "9. 'succ'\n",
       "10. 'succ'\n",
       "\n",
       "\n"
      ],
      "text/plain": [
       " [1] \"succ\" \"succ\" \"succ\" \"fail\" \"fail\" \"succ\" \"succ\" \"succ\" \"succ\" \"succ\""
      ]
     },
     "metadata": {},
     "output_type": "display_data"
    }
   ],
   "source": [
    "# sampling with prob(*)\n",
    "sample(c('succ', 'fail'), 10, replace=T, prob=c(0.9, 0.1))"
   ]
  },
  {
   "cell_type": "markdown",
   "metadata": {},
   "source": [
    "### 2. Prob. Calculations and Combinatorics\n",
    "\n",
    "순열(Permutation) 및 조합(Combination)\n",
    "\n",
    "<img src=\"https://latex.codecogs.com/svg.image?_nC_r=\\frac{_nP_r}{r!}=\\frac{n!}{r!(n-r)!}\\;\\;\\;\\begin{pmatrix}n\\\\r\\end{pmatrix}\"> 로도 표현"
   ]
  },
  {
   "cell_type": "code",
   "execution_count": 5,
   "metadata": {
    "vscode": {
     "languageId": "r"
    }
   },
   "outputs": [
    {
     "data": {
      "text/html": [
       "1.51973836184363e-06"
      ],
      "text/latex": [
       "1.51973836184363e-06"
      ],
      "text/markdown": [
       "1.51973836184363e-06"
      ],
      "text/plain": [
       "[1] 1.519738e-06"
      ]
     },
     "metadata": {},
     "output_type": "display_data"
    }
   ],
   "source": [
    "# The probability to choose 5 numbers out of 40\n",
    "prod(5:1)/prod(40:36)"
   ]
  },
  {
   "cell_type": "code",
   "execution_count": 6,
   "metadata": {
    "vscode": {
     "languageId": "r"
    }
   },
   "outputs": [
    {
     "data": {
      "text/html": [
       "1.51973836184363e-06"
      ],
      "text/latex": [
       "1.51973836184363e-06"
      ],
      "text/markdown": [
       "1.51973836184363e-06"
      ],
      "text/plain": [
       "[1] 1.519738e-06"
      ]
     },
     "metadata": {},
     "output_type": "display_data"
    }
   ],
   "source": [
    "1/choose(40,5)"
   ]
  },
  {
   "cell_type": "markdown",
   "metadata": {},
   "source": [
    "### 3. Discrete distributions(이산형 분포)\n",
    "\n",
    "binomial distributions(이항분포)\n",
    "\n",
    "*X ~ b(n,p)*\n",
    "\n",
    "<img src=\"https://latex.codecogs.com/svg.image?&space;f(x)=\\binom{n}{x}p^x(1-p)^{n-x}\">"
   ]
  },
  {
   "cell_type": "markdown",
   "metadata": {},
   "source": [
    "### 4. Continuous Distributions(연속형 분포)\n",
    "\n",
    "Normal distributions(정규 분포)\n",
    "\n",
    "<img src=\"https://latex.codecogs.com/svg.image?X\\sim&space;N(\\mu,\\sigma^2)\"> <br>\n",
    "\n",
    "<img src=\"https://latex.codecogs.com/svg.image?f(x)=\\frac{1}{\\sqrt{2\\pi\\sigma}}\\cdot&space;exp(-\\frac{(x-\\mu)^2}{2\\sigma^2})\">\n"
   ]
  },
  {
   "cell_type": "markdown",
   "metadata": {},
   "source": [
    "### 5. The built-in distributions in R\n",
    "\n",
    "- Density or point probability\n",
    "- Comulated probability, distibution function\n",
    "- Quantiles\n",
    "- Pseudo-random numbers\n",
    "\n",
    "※ For the normal distribution, these are named dnorm, pnorm, qnorm, and rnorm(density, probability, quantile, and random respectively)\n",
    "\n",
    "#### Densities"
   ]
  },
  {
   "cell_type": "code",
   "execution_count": 7,
   "metadata": {
    "vscode": {
     "languageId": "r"
    }
   },
   "outputs": [
    {
     "data": {
      "image/png": "[encoded data removed]",
      "text/plain": [
       "Plot with title \"Normal distribution\""
      ]
     },
     "metadata": {
      "image/png": {
       "height": 420,
       "width": 420
      }
     },
     "output_type": "display_data"
    }
   ],
   "source": [
    "# Normal distribution\n",
    "\n",
    "x <- seq(-4, 4, 0.1)\n",
    "plot(x, dnorm(x), type='l')\n",
    "title(\"Normal distribution\")"
   ]
  },
  {
   "cell_type": "code",
   "execution_count": 8,
   "metadata": {
    "vscode": {
     "languageId": "r"
    }
   },
   "outputs": [
    {
     "data": {
      "image/png": "[encoded data removed]",
      "text/plain": [
       "plot without title"
      ]
     },
     "metadata": {
      "image/png": {
       "height": 420,
       "width": 420
      }
     },
     "output_type": "display_data"
    }
   ],
   "source": [
    "# 다른 방법\n",
    "curve(dnorm(x), from=-4, to=4)"
   ]
  },
  {
   "cell_type": "code",
   "execution_count": 9,
   "metadata": {
    "vscode": {
     "languageId": "r"
    }
   },
   "outputs": [
    {
     "data": {
      "image/png": "[encoded data removed]",
      "text/plain": [
       "plot without title"
      ]
     },
     "metadata": {
      "image/png": {
       "height": 420,
       "width": 420
      }
     },
     "output_type": "display_data"
    }
   ],
   "source": [
    "# Binomial distribution\n",
    "x <- 0:50\n",
    "plot(x, dbinom(x, size=50, prob=.33), type='h')"
   ]
  },
  {
   "cell_type": "markdown",
   "metadata": {},
   "source": [
    "#### Cumulative distribution functions\n",
    "\n",
    "- Normal distribution\n",
    "\n",
    "<img src=\"https://latex.codecogs.com/svg.image?X\\sim&space;N(132,13^2)\"> <br>\n",
    "\n",
    "Calcalate Pr(X ≥ 160)"
   ]
  },
  {
   "cell_type": "code",
   "execution_count": 10,
   "metadata": {
    "vscode": {
     "languageId": "r"
    }
   },
   "outputs": [
    {
     "data": {
      "text/html": [
       "0.0156261194284694"
      ],
      "text/latex": [
       "0.0156261194284694"
      ],
      "text/markdown": [
       "0.0156261194284694"
      ],
      "text/plain": [
       "[1] 0.01562612"
      ]
     },
     "metadata": {},
     "output_type": "display_data"
    }
   ],
   "source": [
    "1-pnorm(160, mean=132, sd=13)\n"
   ]
  },
  {
   "cell_type": "markdown",
   "metadata": {},
   "source": [
    "- Binomial distribution\n",
    "\n",
    "Twenty patients are given two treatments each and then asked whether treatment A or B worked better. It turned out that 16 patient liked A better. The question is the whether this can be taken as sufficient evidence that A actually is the better treatment or whether the outcome might as well have happened by chance even if the treatments were equally good.\n",
    "\n",
    "X ~ b(20, 0.5)\n",
    "\n",
    "<img src=\"https://latex.codecogs.com/svg.image?H_0:p=0.5\"><br>\n",
    "<img src=\"https://latex.codecogs.com/svg.image?H_1:p>0.5\"><br>\n",
    "<br>\n",
    "<img src=\"https://latex.codecogs.com/svg.image?p-value=P(X\\geq&space;16|H_0=1-P(X\\leq&space;15)\">\n",
    "\n"
   ]
  },
  {
   "cell_type": "code",
   "execution_count": 11,
   "metadata": {
    "vscode": {
     "languageId": "r"
    }
   },
   "outputs": [
    {
     "data": {
      "text/html": [
       "0.00590896606445312"
      ],
      "text/latex": [
       "0.00590896606445312"
      ],
      "text/markdown": [
       "0.00590896606445312"
      ],
      "text/plain": [
       "[1] 0.005908966"
      ]
     },
     "metadata": {},
     "output_type": "display_data"
    }
   ],
   "source": [
    "1-pbinom(15, size=20, prob=0.5)"
   ]
  },
  {
   "cell_type": "markdown",
   "metadata": {},
   "source": [
    "#### Quantiles(백분위수)\n",
    "\n",
    "- The quantile function is the inverse of the cumulative distribution function. The p-quantile is the value with the property that there is probability p of getting a value less than or equal to it. the median is by definition the 50% quantile.\n",
    "\n",
    "- 95% CI for μ\n",
    "\n",
    "<center>\n",
    "<img src=\"https://latex.codecogs.com/svg.image?\\bar{x}&plus;\\sigma/\\sqrt(n)\\times&space;N_{0.025}\\leq\\mu\\leq\\bar{x}&plus;\\sigma/\\sqrt(n)\\times&space;N_{0.975}\">\n",
    "</center>\n",
    "\n",
    "where <img src=\"https://latex.codecogs.com/svg.image?N_{0.025}\"> is the 2.5% quantile in the normal distribution."
   ]
  },
  {
   "cell_type": "code",
   "execution_count": 12,
   "metadata": {
    "vscode": {
     "languageId": "r"
    }
   },
   "outputs": [
    {
     "data": {
      "text/html": [
       "5.3665631459995"
      ],
      "text/latex": [
       "5.3665631459995"
      ],
      "text/markdown": [
       "5.3665631459995"
      ],
      "text/plain": [
       "[1] 5.366563"
      ]
     },
     "metadata": {},
     "output_type": "display_data"
    },
    {
     "data": {
      "text/html": [
       "72.481729513081"
      ],
      "text/latex": [
       "72.481729513081"
      ],
      "text/markdown": [
       "72.481729513081"
      ],
      "text/plain": [
       "[1] 72.48173"
      ]
     },
     "metadata": {},
     "output_type": "display_data"
    },
    {
     "data": {
      "text/html": [
       "93.518270486919"
      ],
      "text/latex": [
       "93.518270486919"
      ],
      "text/markdown": [
       "93.518270486919"
      ],
      "text/plain": [
       "[1] 93.51827"
      ]
     },
     "metadata": {},
     "output_type": "display_data"
    }
   ],
   "source": [
    "xbar <- 83\n",
    "sigma <- 12\n",
    "n <- 5\n",
    "sem <- sigma/sqrt(n)\n",
    "sem\n",
    "xbar + sem*qnorm(0.025)\n",
    "xbar + sem*qnorm(0.975)"
   ]
  },
  {
   "cell_type": "markdown",
   "metadata": {},
   "source": [
    "#### Random numbers"
   ]
  },
  {
   "cell_type": "code",
   "execution_count": 13,
   "metadata": {
    "vscode": {
     "languageId": "r"
    }
   },
   "outputs": [
    {
     "data": {
      "text/html": [
       "<style>\n",
       ".list-inline {list-style: none; margin:0; padding: 0}\n",
       ".list-inline>li {display: inline-block}\n",
       ".list-inline>li:not(:last-child)::after {content: \"\\00b7\"; padding: 0 .5ex}\n",
       "</style>\n",
       "<ol class=list-inline><li>1.25177987569344</li><li>0.749023961181738</li><li>1.06088350316799</li><li>-0.387246245223192</li><li>0.258363498925237</li><li>-0.476573660983505</li><li>-1.95264623876932</li><li>1.67302796240235</li><li>1.97639275559298</li><li>-0.192834204583413</li></ol>\n"
      ],
      "text/latex": [
       "\\begin{enumerate*}\n",
       "\\item 1.25177987569344\n",
       "\\item 0.749023961181738\n",
       "\\item 1.06088350316799\n",
       "\\item -0.387246245223192\n",
       "\\item 0.258363498925237\n",
       "\\item -0.476573660983505\n",
       "\\item -1.95264623876932\n",
       "\\item 1.67302796240235\n",
       "\\item 1.97639275559298\n",
       "\\item -0.192834204583413\n",
       "\\end{enumerate*}\n"
      ],
      "text/markdown": [
       "1. 1.25177987569344\n",
       "2. 0.749023961181738\n",
       "3. 1.06088350316799\n",
       "4. -0.387246245223192\n",
       "5. 0.258363498925237\n",
       "6. -0.476573660983505\n",
       "7. -1.95264623876932\n",
       "8. 1.67302796240235\n",
       "9. 1.97639275559298\n",
       "10. -0.192834204583413\n",
       "\n",
       "\n"
      ],
      "text/plain": [
       " [1]  1.2517799  0.7490240  1.0608835 -0.3872462  0.2583635 -0.4765737\n",
       " [7] -1.9526462  1.6730280  1.9763928 -0.1928342"
      ]
     },
     "metadata": {},
     "output_type": "display_data"
    },
    {
     "data": {
      "text/html": [
       "<style>\n",
       ".list-inline {list-style: none; margin:0; padding: 0}\n",
       ".list-inline>li {display: inline-block}\n",
       ".list-inline>li:not(:last-child)::after {content: \"\\00b7\"; padding: 0 .5ex}\n",
       "</style>\n",
       "<ol class=list-inline><li>-2.10802324197639</li><li>9.73791068986825</li><li>8.91032811020241</li><li>9.53434692569356</li><li>5.56133606423132</li><li>5.43213723766115</li><li>3.36724426740235</li><li>4.60958234170706</li><li>6.37609556894779</li><li>0.566876343639082</li></ol>\n"
      ],
      "text/latex": [
       "\\begin{enumerate*}\n",
       "\\item -2.10802324197639\n",
       "\\item 9.73791068986825\n",
       "\\item 8.91032811020241\n",
       "\\item 9.53434692569356\n",
       "\\item 5.56133606423132\n",
       "\\item 5.43213723766115\n",
       "\\item 3.36724426740235\n",
       "\\item 4.60958234170706\n",
       "\\item 6.37609556894779\n",
       "\\item 0.566876343639082\n",
       "\\end{enumerate*}\n"
      ],
      "text/markdown": [
       "1. -2.10802324197639\n",
       "2. 9.73791068986825\n",
       "3. 8.91032811020241\n",
       "4. 9.53434692569356\n",
       "5. 5.56133606423132\n",
       "6. 5.43213723766115\n",
       "7. 3.36724426740235\n",
       "8. 4.60958234170706\n",
       "9. 6.37609556894779\n",
       "10. 0.566876343639082\n",
       "\n",
       "\n"
      ],
      "text/plain": [
       " [1] -2.1080232  9.7379107  8.9103281  9.5343469  5.5613361  5.4321372\n",
       " [7]  3.3672443  4.6095823  6.3760956  0.5668763"
      ]
     },
     "metadata": {},
     "output_type": "display_data"
    },
    {
     "data": {
      "text/html": [
       "<style>\n",
       ".list-inline {list-style: none; margin:0; padding: 0}\n",
       ".list-inline>li {display: inline-block}\n",
       ".list-inline>li:not(:last-child)::after {content: \"\\00b7\"; padding: 0 .5ex}\n",
       "</style>\n",
       "<ol class=list-inline><li>6</li><li>9</li><li>8</li><li>11</li><li>9</li><li>7</li><li>10</li><li>10</li><li>6</li><li>11</li></ol>\n"
      ],
      "text/latex": [
       "\\begin{enumerate*}\n",
       "\\item 6\n",
       "\\item 9\n",
       "\\item 8\n",
       "\\item 11\n",
       "\\item 9\n",
       "\\item 7\n",
       "\\item 10\n",
       "\\item 10\n",
       "\\item 6\n",
       "\\item 11\n",
       "\\end{enumerate*}\n"
      ],
      "text/markdown": [
       "1. 6\n",
       "2. 9\n",
       "3. 8\n",
       "4. 11\n",
       "5. 9\n",
       "6. 7\n",
       "7. 10\n",
       "8. 10\n",
       "9. 6\n",
       "10. 11\n",
       "\n",
       "\n"
      ],
      "text/plain": [
       " [1]  6  9  8 11  9  7 10 10  6 11"
      ]
     },
     "metadata": {},
     "output_type": "display_data"
    }
   ],
   "source": [
    "rnorm(10)\n",
    "rnorm(10, mean=7, sd=5)\n",
    "rbinom(10, size=20, prob=0.5)"
   ]
  },
  {
   "cell_type": "markdown",
   "metadata": {},
   "source": [
    "## 02 Descriptive Statistics and Graphics(기술통계와 그래프)\n",
    "\n",
    "### 1. Summary statistics for a single group\n",
    "\n",
    "#### Calculate the mean, standard deviation, variance, and median"
   ]
  },
  {
   "cell_type": "code",
   "execution_count": 14,
   "metadata": {
    "vscode": {
     "languageId": "r"
    }
   },
   "outputs": [
    {
     "data": {
      "text/html": [
       "-0.0710443040709244"
      ],
      "text/latex": [
       "-0.0710443040709244"
      ],
      "text/markdown": [
       "-0.0710443040709244"
      ],
      "text/plain": [
       "[1] -0.0710443"
      ]
     },
     "metadata": {},
     "output_type": "display_data"
    },
    {
     "data": {
      "text/html": [
       "1.04079090568753"
      ],
      "text/latex": [
       "1.04079090568753"
      ],
      "text/markdown": [
       "1.04079090568753"
      ],
      "text/plain": [
       "[1] 1.040791"
      ]
     },
     "metadata": {},
     "output_type": "display_data"
    },
    {
     "data": {
      "text/html": [
       "1.08324570936186"
      ],
      "text/latex": [
       "1.08324570936186"
      ],
      "text/markdown": [
       "1.08324570936186"
      ],
      "text/plain": [
       "[1] 1.083246"
      ]
     },
     "metadata": {},
     "output_type": "display_data"
    },
    {
     "data": {
      "text/html": [
       "0.0139188221458761"
      ],
      "text/latex": [
       "0.0139188221458761"
      ],
      "text/markdown": [
       "0.0139188221458761"
      ],
      "text/plain": [
       "[1] 0.01391882"
      ]
     },
     "metadata": {},
     "output_type": "display_data"
    },
    {
     "data": {
      "text/html": [
       "<style>\n",
       ".dl-inline {width: auto; margin:0; padding: 0}\n",
       ".dl-inline>dt, .dl-inline>dd {float: none; width: auto; display: inline-block}\n",
       ".dl-inline>dt::after {content: \":\\0020\"; padding-right: .5ex}\n",
       ".dl-inline>dt:not(:first-of-type) {padding-left: .5ex}\n",
       "</style><dl class=dl-inline><dt>0%</dt><dd>-2.42832293347166</dd><dt>25%</dt><dd>-0.709642032904817</dd><dt>50%</dt><dd>0.0139188221458761</dd><dt>75%</dt><dd>0.619289489697136</dd><dt>100%</dt><dd>2.10563250424812</dd></dl>\n"
      ],
      "text/latex": [
       "\\begin{description*}\n",
       "\\item[0\\textbackslash{}\\%] -2.42832293347166\n",
       "\\item[25\\textbackslash{}\\%] -0.709642032904817\n",
       "\\item[50\\textbackslash{}\\%] 0.0139188221458761\n",
       "\\item[75\\textbackslash{}\\%] 0.619289489697136\n",
       "\\item[100\\textbackslash{}\\%] 2.10563250424812\n",
       "\\end{description*}\n"
      ],
      "text/markdown": [
       "0%\n",
       ":   -2.4283229334716625%\n",
       ":   -0.70964203290481750%\n",
       ":   0.013918822145876175%\n",
       ":   0.619289489697136100%\n",
       ":   2.10563250424812\n",
       "\n"
      ],
      "text/plain": [
       "         0%         25%         50%         75%        100% \n",
       "-2.42832293 -0.70964203  0.01391882  0.61928949  2.10563250 "
      ]
     },
     "metadata": {},
     "output_type": "display_data"
    },
    {
     "data": {
      "text/html": [
       "<style>\n",
       ".dl-inline {width: auto; margin:0; padding: 0}\n",
       ".dl-inline>dt, .dl-inline>dd {float: none; width: auto; display: inline-block}\n",
       ".dl-inline>dt::after {content: \":\\0020\"; padding-right: .5ex}\n",
       ".dl-inline>dt:not(:first-of-type) {padding-left: .5ex}\n",
       "</style><dl class=dl-inline><dt>0%</dt><dd>-2.42832293347166</dd><dt>10%</dt><dd>-1.64453805221426</dd><dt>20%</dt><dd>-0.925024533477964</dd><dt>30%</dt><dd>-0.51158363703028</dd><dt>40%</dt><dd>-0.31669493521845</dd><dt>50%</dt><dd>0.0139188221458761</dd><dt>60%</dt><dd>0.21906035924609</dd><dt>70%</dt><dd>0.51845289662882</dd><dt>80%</dt><dd>0.814353096142078</dd><dt>90%</dt><dd>1.23368843674523</dd><dt>100%</dt><dd>2.10563250424812</dd></dl>\n"
      ],
      "text/latex": [
       "\\begin{description*}\n",
       "\\item[0\\textbackslash{}\\%] -2.42832293347166\n",
       "\\item[10\\textbackslash{}\\%] -1.64453805221426\n",
       "\\item[20\\textbackslash{}\\%] -0.925024533477964\n",
       "\\item[30\\textbackslash{}\\%] -0.51158363703028\n",
       "\\item[40\\textbackslash{}\\%] -0.31669493521845\n",
       "\\item[50\\textbackslash{}\\%] 0.0139188221458761\n",
       "\\item[60\\textbackslash{}\\%] 0.21906035924609\n",
       "\\item[70\\textbackslash{}\\%] 0.51845289662882\n",
       "\\item[80\\textbackslash{}\\%] 0.814353096142078\n",
       "\\item[90\\textbackslash{}\\%] 1.23368843674523\n",
       "\\item[100\\textbackslash{}\\%] 2.10563250424812\n",
       "\\end{description*}\n"
      ],
      "text/markdown": [
       "0%\n",
       ":   -2.4283229334716610%\n",
       ":   -1.6445380522142620%\n",
       ":   -0.92502453347796430%\n",
       ":   -0.5115836370302840%\n",
       ":   -0.3166949352184550%\n",
       ":   0.013918822145876160%\n",
       ":   0.2190603592460970%\n",
       ":   0.5184528966288280%\n",
       ":   0.81435309614207890%\n",
       ":   1.23368843674523100%\n",
       ":   2.10563250424812\n",
       "\n"
      ],
      "text/plain": [
       "         0%         10%         20%         30%         40%         50% \n",
       "-2.42832293 -1.64453805 -0.92502453 -0.51158364 -0.31669494  0.01391882 \n",
       "        60%         70%         80%         90%        100% \n",
       " 0.21906036  0.51845290  0.81435310  1.23368844  2.10563250 "
      ]
     },
     "metadata": {},
     "output_type": "display_data"
    }
   ],
   "source": [
    "x <- rnorm(50)\n",
    "mean(x)\n",
    "sd(x)\n",
    "var(x)\n",
    "median(x)\n",
    "quantile(x)\n",
    "\n",
    "pvec <- seq(0,1,0.1)\n",
    "quantile(x, pvec)"
   ]
  },
  {
   "cell_type": "markdown",
   "metadata": {},
   "source": [
    "- In case there are missing values in data (1)"
   ]
  },
  {
   "cell_type": "code",
   "execution_count": 15,
   "metadata": {
    "vscode": {
     "languageId": "r"
    }
   },
   "outputs": [
    {
     "name": "stderr",
     "output_type": "stream",
     "text": [
      "Warning message:\n",
      "\"패키지 'ISwR'는 R 버전 4.3.3에서 작성되었습니다\"\n"
     ]
    },
    {
     "data": {
      "text/html": [
       "<table class=\"dataframe\">\n",
       "<caption>A data.frame: 6 × 6</caption>\n",
       "<thead>\n",
       "\t<tr><th></th><th scope=col>age</th><th scope=col>menarche</th><th scope=col>sex</th><th scope=col>igf1</th><th scope=col>tanner</th><th scope=col>testvol</th></tr>\n",
       "\t<tr><th></th><th scope=col>&lt;dbl&gt;</th><th scope=col>&lt;int&gt;</th><th scope=col>&lt;dbl&gt;</th><th scope=col>&lt;dbl&gt;</th><th scope=col>&lt;int&gt;</th><th scope=col>&lt;int&gt;</th></tr>\n",
       "</thead>\n",
       "<tbody>\n",
       "\t<tr><th scope=row>1</th><td>  NA</td><td>NA</td><td>NA</td><td> 90</td><td>NA</td><td>NA</td></tr>\n",
       "\t<tr><th scope=row>2</th><td>  NA</td><td>NA</td><td>NA</td><td> 88</td><td>NA</td><td>NA</td></tr>\n",
       "\t<tr><th scope=row>3</th><td>  NA</td><td>NA</td><td>NA</td><td>164</td><td>NA</td><td>NA</td></tr>\n",
       "\t<tr><th scope=row>4</th><td>  NA</td><td>NA</td><td>NA</td><td>166</td><td>NA</td><td>NA</td></tr>\n",
       "\t<tr><th scope=row>5</th><td>  NA</td><td>NA</td><td>NA</td><td>131</td><td>NA</td><td>NA</td></tr>\n",
       "\t<tr><th scope=row>6</th><td>0.17</td><td>NA</td><td> 1</td><td>101</td><td> 1</td><td>NA</td></tr>\n",
       "</tbody>\n",
       "</table>\n"
      ],
      "text/latex": [
       "A data.frame: 6 × 6\n",
       "\\begin{tabular}{r|llllll}\n",
       "  & age & menarche & sex & igf1 & tanner & testvol\\\\\n",
       "  & <dbl> & <int> & <dbl> & <dbl> & <int> & <int>\\\\\n",
       "\\hline\n",
       "\t1 &   NA & NA & NA &  90 & NA & NA\\\\\n",
       "\t2 &   NA & NA & NA &  88 & NA & NA\\\\\n",
       "\t3 &   NA & NA & NA & 164 & NA & NA\\\\\n",
       "\t4 &   NA & NA & NA & 166 & NA & NA\\\\\n",
       "\t5 &   NA & NA & NA & 131 & NA & NA\\\\\n",
       "\t6 & 0.17 & NA &  1 & 101 &  1 & NA\\\\\n",
       "\\end{tabular}\n"
      ],
      "text/markdown": [
       "\n",
       "A data.frame: 6 × 6\n",
       "\n",
       "| <!--/--> | age &lt;dbl&gt; | menarche &lt;int&gt; | sex &lt;dbl&gt; | igf1 &lt;dbl&gt; | tanner &lt;int&gt; | testvol &lt;int&gt; |\n",
       "|---|---|---|---|---|---|---|\n",
       "| 1 |   NA | NA | NA |  90 | NA | NA |\n",
       "| 2 |   NA | NA | NA |  88 | NA | NA |\n",
       "| 3 |   NA | NA | NA | 164 | NA | NA |\n",
       "| 4 |   NA | NA | NA | 166 | NA | NA |\n",
       "| 5 |   NA | NA | NA | 131 | NA | NA |\n",
       "| 6 | 0.17 | NA |  1 | 101 |  1 | NA |\n",
       "\n"
      ],
      "text/plain": [
       "  age  menarche sex igf1 tanner testvol\n",
       "1   NA NA       NA   90  NA     NA     \n",
       "2   NA NA       NA   88  NA     NA     \n",
       "3   NA NA       NA  164  NA     NA     \n",
       "4   NA NA       NA  166  NA     NA     \n",
       "5   NA NA       NA  131  NA     NA     \n",
       "6 0.17 NA        1  101   1     NA     "
      ]
     },
     "metadata": {},
     "output_type": "display_data"
    },
    {
     "data": {
      "text/html": [
       "&lt;NA&gt;"
      ],
      "text/latex": [
       "<NA>"
      ],
      "text/markdown": [
       "&lt;NA&gt;"
      ],
      "text/plain": [
       "[1] NA"
      ]
     },
     "metadata": {},
     "output_type": "display_data"
    },
    {
     "data": {
      "text/html": [
       "340.167976424361"
      ],
      "text/latex": [
       "340.167976424361"
      ],
      "text/markdown": [
       "340.167976424361"
      ],
      "text/plain": [
       "[1] 340.168"
      ]
     },
     "metadata": {},
     "output_type": "display_data"
    },
    {
     "data": {
      "text/html": [
       "1018"
      ],
      "text/latex": [
       "1018"
      ],
      "text/markdown": [
       "1018"
      ],
      "text/plain": [
       "[1] 1018"
      ]
     },
     "metadata": {},
     "output_type": "display_data"
    },
    {
     "data": {
      "text/plain": [
       "   Min. 1st Qu.  Median    Mean 3rd Qu.    Max.    NA's \n",
       "   25.0   202.2   313.5   340.2   462.8   915.0     321 "
      ]
     },
     "metadata": {},
     "output_type": "display_data"
    }
   ],
   "source": [
    "library(ISwR)\n",
    "data(juul)\n",
    "head(juul)\n",
    "# '앞으로는 juul data를 쓸거야' 선언\n",
    "attach(juul)\n",
    "mean(igf1)\n",
    "# na.rm -> NA를 Remove하고 계산\n",
    "mean(igf1, na.rm=T)\n",
    "sum(!is.na(igf1))\n",
    "summary(igf1)"
   ]
  },
  {
   "cell_type": "markdown",
   "metadata": {},
   "source": [
    "- In case there are missing values in data (2)"
   ]
  },
  {
   "cell_type": "code",
   "execution_count": 16,
   "metadata": {
    "vscode": {
     "languageId": "r"
    }
   },
   "outputs": [
    {
     "data": {
      "text/plain": [
       "      age            menarche          sex             igf1      \n",
       " Min.   : 0.170   Min.   :1.000   Min.   :1.000   Min.   : 25.0  \n",
       " 1st Qu.: 9.053   1st Qu.:1.000   1st Qu.:1.000   1st Qu.:202.2  \n",
       " Median :12.560   Median :1.000   Median :2.000   Median :313.5  \n",
       " Mean   :15.095   Mean   :1.476   Mean   :1.534   Mean   :340.2  \n",
       " 3rd Qu.:16.855   3rd Qu.:2.000   3rd Qu.:2.000   3rd Qu.:462.8  \n",
       " Max.   :83.000   Max.   :2.000   Max.   :2.000   Max.   :915.0  \n",
       " NA's   :5        NA's   :635     NA's   :5       NA's   :321    \n",
       "     tanner        testvol      \n",
       " Min.   :1.00   Min.   : 1.000  \n",
       " 1st Qu.:1.00   1st Qu.: 1.000  \n",
       " Median :2.00   Median : 3.000  \n",
       " Mean   :2.64   Mean   : 7.896  \n",
       " 3rd Qu.:5.00   3rd Qu.:15.000  \n",
       " Max.   :5.00   Max.   :30.000  \n",
       " NA's   :240    NA's   :859     "
      ]
     },
     "metadata": {},
     "output_type": "display_data"
    }
   ],
   "source": [
    "summary(juul)\n",
    "detach(juul)\n",
    "juul$sex <- factor(juul$sex, labels=c('M', 'F'))\n",
    "juul$menarche <- factor(juul$menarche, labels=c('No', 'Yes'))\n",
    "juul$tanner <- factor(juul$tanner, labels=c('I', 'II', 'III', 'IV', 'V'))\n",
    "attach(juul)"
   ]
  },
  {
   "cell_type": "code",
   "execution_count": 17,
   "metadata": {
    "vscode": {
     "languageId": "r"
    }
   },
   "outputs": [
    {
     "data": {
      "text/plain": [
       "      age         menarche     sex           igf1        tanner   \n",
       " Min.   : 0.170   No  :369   M   :621   Min.   : 25.0   I   :515  \n",
       " 1st Qu.: 9.053   Yes :335   F   :713   1st Qu.:202.2   II  :103  \n",
       " Median :12.560   NA's:635   NA's:  5   Median :313.5   III : 72  \n",
       " Mean   :15.095                         Mean   :340.2   IV  : 81  \n",
       " 3rd Qu.:16.855                         3rd Qu.:462.8   V   :328  \n",
       " Max.   :83.000                         Max.   :915.0   NA's:240  \n",
       " NA's   :5                              NA's   :321               \n",
       "    testvol      \n",
       " Min.   : 1.000  \n",
       " 1st Qu.: 1.000  \n",
       " Median : 3.000  \n",
       " Mean   : 7.896  \n",
       " 3rd Qu.:15.000  \n",
       " Max.   :30.000  \n",
       " NA's   :859     "
      ]
     },
     "metadata": {},
     "output_type": "display_data"
    }
   ],
   "source": [
    "summary(juul)\n",
    "\n",
    "# use transform\n",
    "juu2 <- transform(juul,\n",
    "        sex=factor(sex, labels=c('M', 'F')),\n",
    "        menarche=factor(menarche, labels=c('No', 'Yes')),\n",
    "        tanner=factor(tanner, labels=c('I', 'II', 'III', 'IV', 'V')))"
   ]
  },
  {
   "cell_type": "markdown",
   "metadata": {},
   "source": [
    "### 2. Graphics Display of Distributions (분포의 시각화)\n",
    "\n",
    "#### Histograms"
   ]
  },
  {
   "cell_type": "code",
   "execution_count": 18,
   "metadata": {
    "vscode": {
     "languageId": "r"
    }
   },
   "outputs": [
    {
     "data": {
      "image/png": "[encoded data removed]",
      "text/plain": [
       "Plot with title \"Histogram of x\""
      ]
     },
     "metadata": {
      "image/png": {
       "height": 420,
       "width": 420
      }
     },
     "output_type": "display_data"
    }
   ],
   "source": [
    "hist(x)"
   ]
  },
  {
   "cell_type": "markdown",
   "metadata": {},
   "source": [
    "- Histogram using breaks=n\n",
    "\n",
    "ex) Altman(1991): accident rates by age group are given as a count in age groups 0-4, 5-9, 10-15, 16, 17, 18-19, 20-24, 25-59, and 60-79 years of age"
   ]
  },
  {
   "cell_type": "code",
   "execution_count": 19,
   "metadata": {
    "vscode": {
     "languageId": "r"
    }
   },
   "outputs": [
    {
     "data": {
      "image/png": "[encoded data removed]",
      "text/plain": [
       "Plot with title \"Histogram of age.acc\""
      ]
     },
     "metadata": {
      "image/png": {
       "height": 420,
       "width": 420
      }
     },
     "output_type": "display_data"
    }
   ],
   "source": [
    "mid.age <- c(2.5, 7.5, 13, 16.5, 17.5, 19, 22.5, 44.5, 70.5)\n",
    "acc.count <- c(28, 46, 58, 20, 31, 64, 149, 316, 103)\n",
    "age.acc <- rep(mid.age, acc.count)\n",
    "brk <- c(0.5, 10, 16, 17, 18, 20, 25, 60, 80)\n",
    "hist(age.acc, breaks=brk)"
   ]
  },
  {
   "cell_type": "markdown",
   "metadata": {},
   "source": [
    "#### Empirical cumulative distribution(경험적 누적 분포)\n",
    "\n",
    "Definition:\n",
    "\n",
    "<img src=\"https://latex.codecogs.com/svg.image?\\hat{F}_n(x)=\\frac{number\\;of\\;elements\\;in\\;the\\;sample\\leq&space;x}{n}=\\frac{\\sum_{i=1}^{n}I(X,\\leq&space;x)}{n}\">"
   ]
  },
  {
   "cell_type": "code",
   "execution_count": 20,
   "metadata": {
    "vscode": {
     "languageId": "r"
    }
   },
   "outputs": [
    {
     "data": {
      "image/png": "[encoded data removed]",
      "text/plain": [
       "plot without title"
      ]
     },
     "metadata": {
      "image/png": {
       "height": 420,
       "width": 420
      }
     },
     "output_type": "display_data"
    }
   ],
   "source": [
    "n <- length(x)\n",
    "plot(sort(x), (1:n)/n, type='s', ylim=c(0,1))"
   ]
  },
  {
   "cell_type": "markdown",
   "metadata": {},
   "source": [
    "#### Q-Q plots(quantile versus quantile plots) (분위수-분위수 그래프)\n",
    "\n",
    "- One purpose of calculating the empirical cumulative distribution function(c.d.f) is to see whether data can be assumed normally distributed.\n",
    "- 경험적 누적 분포 함수(c.d.f)를 계산하는 한 가지 목적은 데이터가 정규 분포를 따를 수 있는지 확인하는 것입니다.\n",
    "<br><br>\n",
    "- For a better assessment, you might plot the k-th smallest observation against the expected value of the k-th smallest observation out of n in a standard normal distribution.\n",
    "- 더 나은 평가를 위해, 당신은 k번째로 작은 관측값을 표준 정규 분포에서의 n개 관측값 중에서 k번째로 작은 관측값의 예상 값과 비교할 수 있습니다.\n",
    "<br><br>\n",
    "- The point is that in this way you would expect to obtain a straight line if data come from a normal distribution with any mean and standard deviation.\n",
    "- 이 방법을 통해, 데이터가 어떤 평균과 표준 편차를 갖는 정규 분포에서 온다면 기대되는 대로 직선을 얻을 것으로 예상됩니다.\n",
    "\n",
    "⇒ 주어진 데이터가 정규분포를 따른다면 Q-Q plots은 직선형태를 띠게 됩니다."
   ]
  },
  {
   "cell_type": "code",
   "execution_count": 21,
   "metadata": {
    "vscode": {
     "languageId": "r"
    }
   },
   "outputs": [
    {
     "data": {
      "image/png": "[encoded data removed]",
      "text/plain": [
       "Plot with title \"Normal Q-Q Plot\""
      ]
     },
     "metadata": {
      "image/png": {
       "height": 420,
       "width": 420
      }
     },
     "output_type": "display_data"
    }
   ],
   "source": [
    "qqnorm(x)"
   ]
  },
  {
   "cell_type": "markdown",
   "metadata": {},
   "source": [
    "#### Boxplots\n",
    "\n",
    "- A \"boxplot\", or more descriptively a \"box-and-whiskers plot\", is a graphical summary of a distribution."
   ]
  },
  {
   "cell_type": "code",
   "execution_count": 22,
   "metadata": {
    "vscode": {
     "languageId": "r"
    }
   },
   "outputs": [
    {
     "data": {
      "image/png": "[encoded data removed]",
      "text/plain": [
       "plot without title"
      ]
     },
     "metadata": {
      "image/png": {
       "height": 420,
       "width": 420
      }
     },
     "output_type": "display_data"
    }
   ],
   "source": [
    "par(mfrow=c(1,2))\n",
    "boxplot(IgM)\n",
    "boxplot(log(IgM))\n",
    "par(mfrow=c(1,1))"
   ]
  },
  {
   "cell_type": "markdown",
   "metadata": {},
   "source": [
    "### 3. Summary statistics by groups(그룹별 통계 요약)\n",
    "\n",
    "- When dealing with grouped data, you will often want to have various summary statistics computed within groups; for example, a table of means and standard deviations."
   ]
  },
  {
   "cell_type": "code",
   "execution_count": 23,
   "metadata": {
    "vscode": {
     "languageId": "r"
    }
   },
   "outputs": [
    {
     "data": {
      "text/html": [
       "<table class=\"dataframe\">\n",
       "<caption>A data.frame: 3 × 2</caption>\n",
       "<thead>\n",
       "\t<tr><th></th><th scope=col>folate</th><th scope=col>ventilation</th></tr>\n",
       "\t<tr><th></th><th scope=col>&lt;dbl&gt;</th><th scope=col>&lt;fct&gt;</th></tr>\n",
       "</thead>\n",
       "<tbody>\n",
       "\t<tr><th scope=row>1</th><td>243</td><td>N2O+O2,24h</td></tr>\n",
       "\t<tr><th scope=row>2</th><td>251</td><td>N2O+O2,24h</td></tr>\n",
       "\t<tr><th scope=row>3</th><td>275</td><td>N2O+O2,24h</td></tr>\n",
       "</tbody>\n",
       "</table>\n"
      ],
      "text/latex": [
       "A data.frame: 3 × 2\n",
       "\\begin{tabular}{r|ll}\n",
       "  & folate & ventilation\\\\\n",
       "  & <dbl> & <fct>\\\\\n",
       "\\hline\n",
       "\t1 & 243 & N2O+O2,24h\\\\\n",
       "\t2 & 251 & N2O+O2,24h\\\\\n",
       "\t3 & 275 & N2O+O2,24h\\\\\n",
       "\\end{tabular}\n"
      ],
      "text/markdown": [
       "\n",
       "A data.frame: 3 × 2\n",
       "\n",
       "| <!--/--> | folate &lt;dbl&gt; | ventilation &lt;fct&gt; |\n",
       "|---|---|---|\n",
       "| 1 | 243 | N2O+O2,24h |\n",
       "| 2 | 251 | N2O+O2,24h |\n",
       "| 3 | 275 | N2O+O2,24h |\n",
       "\n"
      ],
      "text/plain": [
       "  folate ventilation\n",
       "1 243    N2O+O2,24h \n",
       "2 251    N2O+O2,24h \n",
       "3 275    N2O+O2,24h "
      ]
     },
     "metadata": {},
     "output_type": "display_data"
    },
    {
     "data": {
      "text/html": [
       "<style>\n",
       ".dl-inline {width: auto; margin:0; padding: 0}\n",
       ".dl-inline>dt, .dl-inline>dd {float: none; width: auto; display: inline-block}\n",
       ".dl-inline>dt::after {content: \":\\0020\"; padding-right: .5ex}\n",
       ".dl-inline>dt:not(:first-of-type) {padding-left: .5ex}\n",
       "</style><dl class=dl-inline><dt>N2O+O2,24h</dt><dd>316.625</dd><dt>N2O+O2,op</dt><dd>256.444444444444</dd><dt>O2,24h</dt><dd>278</dd></dl>\n"
      ],
      "text/latex": [
       "\\begin{description*}\n",
       "\\item[N2O+O2,24h] 316.625\n",
       "\\item[N2O+O2,op] 256.444444444444\n",
       "\\item[O2,24h] 278\n",
       "\\end{description*}\n"
      ],
      "text/markdown": [
       "N2O+O2,24h\n",
       ":   316.625N2O+O2,op\n",
       ":   256.444444444444O2,24h\n",
       ":   278\n",
       "\n"
      ],
      "text/plain": [
       "N2O+O2,24h  N2O+O2,op     O2,24h \n",
       "  316.6250   256.4444   278.0000 "
      ]
     },
     "metadata": {},
     "output_type": "display_data"
    },
    {
     "data": {
      "text/html": [
       "<style>\n",
       ".dl-inline {width: auto; margin:0; padding: 0}\n",
       ".dl-inline>dt, .dl-inline>dd {float: none; width: auto; display: inline-block}\n",
       ".dl-inline>dt::after {content: \":\\0020\"; padding-right: .5ex}\n",
       ".dl-inline>dt:not(:first-of-type) {padding-left: .5ex}\n",
       "</style><dl class=dl-inline><dt>N2O+O2,24h</dt><dd>58.7170880457421</dd><dt>N2O+O2,op</dt><dd>37.1217965321963</dd><dt>O2,24h</dt><dd>33.7564808592365</dd></dl>\n"
      ],
      "text/latex": [
       "\\begin{description*}\n",
       "\\item[N2O+O2,24h] 58.7170880457421\n",
       "\\item[N2O+O2,op] 37.1217965321963\n",
       "\\item[O2,24h] 33.7564808592365\n",
       "\\end{description*}\n"
      ],
      "text/markdown": [
       "N2O+O2,24h\n",
       ":   58.7170880457421N2O+O2,op\n",
       ":   37.1217965321963O2,24h\n",
       ":   33.7564808592365\n",
       "\n"
      ],
      "text/plain": [
       "N2O+O2,24h  N2O+O2,op     O2,24h \n",
       "  58.71709   37.12180   33.75648 "
      ]
     },
     "metadata": {},
     "output_type": "display_data"
    },
    {
     "data": {
      "text/html": [
       "<style>\n",
       ".dl-inline {width: auto; margin:0; padding: 0}\n",
       ".dl-inline>dt, .dl-inline>dd {float: none; width: auto; display: inline-block}\n",
       ".dl-inline>dt::after {content: \":\\0020\"; padding-right: .5ex}\n",
       ".dl-inline>dt:not(:first-of-type) {padding-left: .5ex}\n",
       "</style><dl class=dl-inline><dt>N2O+O2,24h</dt><dd>8</dd><dt>N2O+O2,op</dt><dd>9</dd><dt>O2,24h</dt><dd>5</dd></dl>\n"
      ],
      "text/latex": [
       "\\begin{description*}\n",
       "\\item[N2O+O2,24h] 8\n",
       "\\item[N2O+O2,op] 9\n",
       "\\item[O2,24h] 5\n",
       "\\end{description*}\n"
      ],
      "text/markdown": [
       "N2O+O2,24h\n",
       ":   8N2O+O2,op\n",
       ":   9O2,24h\n",
       ":   5\n",
       "\n"
      ],
      "text/plain": [
       "N2O+O2,24h  N2O+O2,op     O2,24h \n",
       "         8          9          5 "
      ]
     },
     "metadata": {},
     "output_type": "display_data"
    }
   ],
   "source": [
    "attach(red.cell.folate)\n",
    "head(red.cell.folate, 3)\n",
    "tapply(folate, ventilation, mean)\n",
    "tapply(folate, ventilation, sd)\n",
    "tapply(folate, ventilation, length)"
   ]
  },
  {
   "cell_type": "code",
   "execution_count": 24,
   "metadata": {
    "vscode": {
     "languageId": "r"
    }
   },
   "outputs": [
    {
     "data": {
      "text/html": [
       "<table class=\"dataframe\">\n",
       "<caption>A matrix: 3 × 3 of type dbl</caption>\n",
       "<thead>\n",
       "\t<tr><th></th><th scope=col>mean</th><th scope=col>std.dev</th><th scope=col>n</th></tr>\n",
       "</thead>\n",
       "<tbody>\n",
       "\t<tr><th scope=row>N2O+O2,24h</th><td>316.6250</td><td>58.71709</td><td>8</td></tr>\n",
       "\t<tr><th scope=row>N2O+O2,op</th><td>256.4444</td><td>37.12180</td><td>9</td></tr>\n",
       "\t<tr><th scope=row>O2,24h</th><td>278.0000</td><td>33.75648</td><td>5</td></tr>\n",
       "</tbody>\n",
       "</table>\n"
      ],
      "text/latex": [
       "A matrix: 3 × 3 of type dbl\n",
       "\\begin{tabular}{r|lll}\n",
       "  & mean & std.dev & n\\\\\n",
       "\\hline\n",
       "\tN2O+O2,24h & 316.6250 & 58.71709 & 8\\\\\n",
       "\tN2O+O2,op & 256.4444 & 37.12180 & 9\\\\\n",
       "\tO2,24h & 278.0000 & 33.75648 & 5\\\\\n",
       "\\end{tabular}\n"
      ],
      "text/markdown": [
       "\n",
       "A matrix: 3 × 3 of type dbl\n",
       "\n",
       "| <!--/--> | mean | std.dev | n |\n",
       "|---|---|---|---|\n",
       "| N2O+O2,24h | 316.6250 | 58.71709 | 8 |\n",
       "| N2O+O2,op | 256.4444 | 37.12180 | 9 |\n",
       "| O2,24h | 278.0000 | 33.75648 | 5 |\n",
       "\n"
      ],
      "text/plain": [
       "           mean     std.dev  n\n",
       "N2O+O2,24h 316.6250 58.71709 8\n",
       "N2O+O2,op  256.4444 37.12180 9\n",
       "O2,24h     278.0000 33.75648 5"
      ]
     },
     "metadata": {},
     "output_type": "display_data"
    }
   ],
   "source": [
    "xbar <- tapply(folate, ventilation, mean)\n",
    "s <- tapply(folate, ventilation, sd)\n",
    "n <- tapply(folate, ventilation, length)\n",
    "cbind(mean=xbar, std.dev=s, n=n)"
   ]
  },
  {
   "cell_type": "markdown",
   "metadata": {},
   "source": [
    "- For the juul data"
   ]
  },
  {
   "cell_type": "code",
   "execution_count": 25,
   "metadata": {
    "vscode": {
     "languageId": "r"
    }
   },
   "outputs": [
    {
     "name": "stderr",
     "output_type": "stream",
     "text": [
      "The following objects are masked from juul (pos = 4):\n",
      "\n",
      "    age, igf1, menarche, sex, tanner, testvol\n",
      "\n",
      "\n"
     ]
    },
    {
     "data": {
      "text/html": [
       "<style>\n",
       ".dl-inline {width: auto; margin:0; padding: 0}\n",
       ".dl-inline>dt, .dl-inline>dd {float: none; width: auto; display: inline-block}\n",
       ".dl-inline>dt::after {content: \":\\0020\"; padding-right: .5ex}\n",
       ".dl-inline>dt:not(:first-of-type) {padding-left: .5ex}\n",
       "</style><dl class=dl-inline><dt>1</dt><dd>&lt;NA&gt;</dd><dt>2</dt><dd>&lt;NA&gt;</dd><dt>3</dt><dd>&lt;NA&gt;</dd><dt>4</dt><dd>&lt;NA&gt;</dd><dt>5</dt><dd>&lt;NA&gt;</dd></dl>\n"
      ],
      "text/latex": [
       "\\begin{description*}\n",
       "\\item[1] <NA>\n",
       "\\item[2] <NA>\n",
       "\\item[3] <NA>\n",
       "\\item[4] <NA>\n",
       "\\item[5] <NA>\n",
       "\\end{description*}\n"
      ],
      "text/markdown": [
       "1\n",
       ":   &lt;NA&gt;2\n",
       ":   &lt;NA&gt;3\n",
       ":   &lt;NA&gt;4\n",
       ":   &lt;NA&gt;5\n",
       ":   &lt;NA&gt;\n",
       "\n"
      ],
      "text/plain": [
       " 1  2  3  4  5 \n",
       "NA NA NA NA NA "
      ]
     },
     "metadata": {},
     "output_type": "display_data"
    },
    {
     "data": {
      "text/html": [
       "<style>\n",
       ".dl-inline {width: auto; margin:0; padding: 0}\n",
       ".dl-inline>dt, .dl-inline>dd {float: none; width: auto; display: inline-block}\n",
       ".dl-inline>dt::after {content: \":\\0020\"; padding-right: .5ex}\n",
       ".dl-inline>dt:not(:first-of-type) {padding-left: .5ex}\n",
       "</style><dl class=dl-inline><dt>1</dt><dd>207.472668810289</dd><dt>2</dt><dd>352.671428571429</dd><dt>3</dt><dd>483.222222222222</dd><dt>4</dt><dd>513.01724137931</dd><dt>5</dt><dd>465.334415584416</dd></dl>\n"
      ],
      "text/latex": [
       "\\begin{description*}\n",
       "\\item[1] 207.472668810289\n",
       "\\item[2] 352.671428571429\n",
       "\\item[3] 483.222222222222\n",
       "\\item[4] 513.01724137931\n",
       "\\item[5] 465.334415584416\n",
       "\\end{description*}\n"
      ],
      "text/markdown": [
       "1\n",
       ":   207.4726688102892\n",
       ":   352.6714285714293\n",
       ":   483.2222222222224\n",
       ":   513.017241379315\n",
       ":   465.334415584416\n",
       "\n"
      ],
      "text/plain": [
       "       1        2        3        4        5 \n",
       "207.4727 352.6714 483.2222 513.0172 465.3344 "
      ]
     },
     "metadata": {},
     "output_type": "display_data"
    }
   ],
   "source": [
    "data(juul)\n",
    "attach(juul)\n",
    "tapply(igf1, tanner, mean)\n",
    "tapply(igf1, tanner, mean, na.rm=T)"
   ]
  },
  {
   "cell_type": "markdown",
   "metadata": {},
   "source": [
    "- The functions aggregate and by are variations on the same topic."
   ]
  },
  {
   "cell_type": "code",
   "execution_count": 26,
   "metadata": {
    "vscode": {
     "languageId": "r"
    }
   },
   "outputs": [
    {
     "data": {
      "text/html": [
       "<table class=\"dataframe\">\n",
       "<caption>A data.frame: 2 × 3</caption>\n",
       "<thead>\n",
       "\t<tr><th scope=col>sex</th><th scope=col>age</th><th scope=col>igf1</th></tr>\n",
       "\t<tr><th scope=col>&lt;dbl&gt;</th><th scope=col>&lt;dbl&gt;</th><th scope=col>&lt;dbl&gt;</th></tr>\n",
       "</thead>\n",
       "<tbody>\n",
       "\t<tr><td>1</td><td>15.38436</td><td>310.8866</td></tr>\n",
       "\t<tr><td>2</td><td>14.84363</td><td>368.1006</td></tr>\n",
       "</tbody>\n",
       "</table>\n"
      ],
      "text/latex": [
       "A data.frame: 2 × 3\n",
       "\\begin{tabular}{lll}\n",
       " sex & age & igf1\\\\\n",
       " <dbl> & <dbl> & <dbl>\\\\\n",
       "\\hline\n",
       "\t 1 & 15.38436 & 310.8866\\\\\n",
       "\t 2 & 14.84363 & 368.1006\\\\\n",
       "\\end{tabular}\n"
      ],
      "text/markdown": [
       "\n",
       "A data.frame: 2 × 3\n",
       "\n",
       "| sex &lt;dbl&gt; | age &lt;dbl&gt; | igf1 &lt;dbl&gt; |\n",
       "|---|---|---|\n",
       "| 1 | 15.38436 | 310.8866 |\n",
       "| 2 | 14.84363 | 368.1006 |\n",
       "\n"
      ],
      "text/plain": [
       "  sex age      igf1    \n",
       "1 1   15.38436 310.8866\n",
       "2 2   14.84363 368.1006"
      ]
     },
     "metadata": {},
     "output_type": "display_data"
    }
   ],
   "source": [
    "aggregate(juul[c('age', 'igf1')], list(sex=juul$sex), mean, na.rm=T)"
   ]
  },
  {
   "cell_type": "code",
   "execution_count": 27,
   "metadata": {
    "vscode": {
     "languageId": "r"
    }
   },
   "outputs": [
    {
     "data": {
      "text/plain": [
       "sex: 1\n",
       "      age           menarche        sex         igf1           tanner     \n",
       " Min.   : 0.17   Min.   : NA   Min.   :1   Min.   : 29.0   Min.   :1.000  \n",
       " 1st Qu.: 8.85   1st Qu.: NA   1st Qu.:1   1st Qu.:176.0   1st Qu.:1.000  \n",
       " Median :12.38   Median : NA   Median :1   Median :280.0   Median :1.000  \n",
       " Mean   :15.38   Mean   :NaN   Mean   :1   Mean   :310.9   Mean   :2.361  \n",
       " 3rd Qu.:16.77   3rd Qu.: NA   3rd Qu.:1   3rd Qu.:430.2   3rd Qu.:4.000  \n",
       " Max.   :83.00   Max.   : NA   Max.   :1   Max.   :915.0   Max.   :5.000  \n",
       "                 NA's   :621               NA's   :145     NA's   :76     \n",
       "    testvol      \n",
       " Min.   : 1.000  \n",
       " 1st Qu.: 1.000  \n",
       " Median : 3.000  \n",
       " Mean   : 7.896  \n",
       " 3rd Qu.:15.000  \n",
       " Max.   :30.000  \n",
       " NA's   :141     \n",
       "------------------------------------------------------------ \n",
       "sex: 2\n",
       "      age           menarche          sex         igf1           tanner     \n",
       " Min.   : 0.25   Min.   :1.000   Min.   :2   Min.   : 25.0   Min.   :1.000  \n",
       " 1st Qu.: 9.30   1st Qu.:1.000   1st Qu.:2   1st Qu.:233.0   1st Qu.:1.000  \n",
       " Median :12.80   Median :1.000   Median :2   Median :352.0   Median :3.000  \n",
       " Mean   :14.84   Mean   :1.476   Mean   :2   Mean   :368.1   Mean   :2.913  \n",
       " 3rd Qu.:16.93   3rd Qu.:2.000   3rd Qu.:2   3rd Qu.:483.0   3rd Qu.:5.000  \n",
       " Max.   :75.12   Max.   :2.000   Max.   :2   Max.   :914.0   Max.   :5.000  \n",
       "                 NA's   :9                   NA's   :176     NA's   :159    \n",
       "    testvol   \n",
       " Min.   : NA  \n",
       " 1st Qu.: NA  \n",
       " Median : NA  \n",
       " Mean   :NaN  \n",
       " 3rd Qu.: NA  \n",
       " Max.   : NA  \n",
       " NA's   :713  "
      ]
     },
     "metadata": {},
     "output_type": "display_data"
    }
   ],
   "source": [
    "by(juul, juul['sex'], summary)"
   ]
  },
  {
   "cell_type": "markdown",
   "metadata": {},
   "source": [
    "### 4. Graphics for grouped data\n",
    "\n",
    "- In dealing with grouped data, it is important to be able not only to create plots for each group but also to compare the plots between groups.\n",
    "- 그룹화된 데이터를 처리할 때는 각 그룹에 대한 그래프를 생성할 뿐만 아니라 그룹간의 그래프를 비교할 수 있는 능력이 중요합니다\n",
    "\n",
    "#### Histograms"
   ]
  },
  {
   "cell_type": "code",
   "execution_count": 28,
   "metadata": {
    "vscode": {
     "languageId": "r"
    }
   },
   "outputs": [
    {
     "data": {
      "image/png": "[encoded data removed]",
      "text/plain": [
       "Plot with title \"Histogram of expend.obese\""
      ]
     },
     "metadata": {
      "image/png": {
       "height": 420,
       "width": 420
      }
     },
     "output_type": "display_data"
    }
   ],
   "source": [
    "attach(energy)\n",
    "expend.lean <- expend[stature=='lean']\n",
    "expend.obese <- expend[stature=='obese']\n",
    "par(mfrow=c(2,1))\n",
    "hist(expend.lean, breaks=10, xlim=c(5,13), ylim=c(0,4), col='white')\n",
    "hist(expend.obese, breaks=10, xlim=c(5,13), ylim=c(0,4), col='gray')"
   ]
  },
  {
   "cell_type": "markdown",
   "metadata": {},
   "source": [
    "#### Parallel boxplots\n",
    "\n",
    "- You might want a set of boxplots from several groups in the same frame."
   ]
  },
  {
   "cell_type": "code",
   "execution_count": 29,
   "metadata": {
    "vscode": {
     "languageId": "r"
    }
   },
   "outputs": [
    {
     "data": {
      "image/png": "[encoded data removed]",
      "text/plain": [
       "plot without title"
      ]
     },
     "metadata": {
      "image/png": {
       "height": 420,
       "width": 420
      }
     },
     "output_type": "display_data"
    },
    {
     "data": {
      "image/png": "[encoded data removed]",
      "text/plain": [
       "plot without title"
      ]
     },
     "metadata": {
      "image/png": {
       "height": 420,
       "width": 420
      }
     },
     "output_type": "display_data"
    }
   ],
   "source": [
    "boxplot(expend ~ stature) # 1\n",
    "boxplot(expend.lean, expend.obese) #2"
   ]
  },
  {
   "cell_type": "markdown",
   "metadata": {},
   "source": [
    "#### Stripcharts(줄기그림)\n",
    "\n",
    "- With groups as small as these, the quartiles will be quite inaccurately determined, and it may therefore be more desirable to plot the raw data.\n",
    "- 이처럼 작은 그룹의 경우 사분위수는 상당히 부정확하게 결정될 수 있으므로, 원시 데이터를 그래픽으로 표시하는 것이 더 바람직할 수 있습니다.\n"
   ]
  },
  {
   "cell_type": "code",
   "execution_count": 30,
   "metadata": {
    "vscode": {
     "languageId": "r"
    }
   },
   "outputs": [
    {
     "data": {
      "image/png": "[encoded data removed]",
      "text/plain": [
       "plot without title"
      ]
     },
     "metadata": {
      "image/png": {
       "height": 420,
       "width": 420
      }
     },
     "output_type": "display_data"
    }
   ],
   "source": [
    "opar <- par(mfrow=c(2,2), mex=0.8, mar=c(3,3,2,1)+.1)\n",
    "stripchart(expend ~ stature)\n",
    "stripchart(expend ~ stature, method='stack')\n",
    "stripchart(expend ~ stature, method='jitter')\n",
    "stripchart(expend ~ stature, method='jitter', jitter=0.03)\n",
    "par(opar)"
   ]
  }
 ],
 "metadata": {
  "kernelspec": {
   "display_name": "R",
   "language": "R",
   "name": "ir"
  },
  "language_info": {
   "codemirror_mode": "r",
   "file_extension": ".r",
   "mimetype": "text/x-r-source",
   "name": "R",
   "pygments_lexer": "r",
   "version": "4.3.2"
  }
 },
 "nbformat": 4,
 "nbformat_minor": 2
}
