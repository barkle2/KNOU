{
 "cells": [
  {
   "cell_type": "markdown",
   "metadata": {},
   "source": [
    "[메이저 리그 야구선수 연봉 데이터] Hitters 데이터는 다음과 같이 ISLR 패키지를 설치한 후 얻을 수 있다. 그런데 이 데이터에는 결측치가 존재하기 때문에 na.omit() 함수를 사용하여 결측치를 제외하기로 한다. 실제 분석에 사용할 데이터는 263명의 야구선수에 대한 20가지의 기록으로 구성되어 있다."
   ]
  },
  {
   "cell_type": "code",
   "execution_count": 2,
   "metadata": {
    "vscode": {
     "languageId": "r"
    }
   },
   "outputs": [
    {
     "name": "stderr",
     "output_type": "stream",
     "text": [
      "Warning message:\n",
      "\"패키지 'ISLR'는 R 버전 4.3.3에서 작성되었습니다\"\n"
     ]
    },
    {
     "data": {
      "text/html": [
       "<style>\n",
       ".list-inline {list-style: none; margin:0; padding: 0}\n",
       ".list-inline>li {display: inline-block}\n",
       ".list-inline>li:not(:last-child)::after {content: \"\\00b7\"; padding: 0 .5ex}\n",
       "</style>\n",
       "<ol class=list-inline><li>263</li><li>20</li></ol>\n"
      ],
      "text/latex": [
       "\\begin{enumerate*}\n",
       "\\item 263\n",
       "\\item 20\n",
       "\\end{enumerate*}\n"
      ],
      "text/markdown": [
       "1. 263\n",
       "2. 20\n",
       "\n",
       "\n"
      ],
      "text/plain": [
       "[1] 263  20"
      ]
     },
     "metadata": {},
     "output_type": "display_data"
    }
   ],
   "source": [
    "library(ISLR)\n",
    "Hitters = na.omit(Hitters)\n",
    "dim(Hitters)"
   ]
  },
  {
   "cell_type": "markdown",
   "metadata": {},
   "source": [
    "Salary를 반응변수로 나머지 19개의 변수를 설명변수로 하는 회귀모형을 가정하고 다음 질문에 답하여라.\n",
    "\n",
    "\n",
    "### 문제 1\n",
    "PRESS(prediction sum of squares), Mallow's Cp, AIC, BIC 기준 최적의 모형을 전진선택법, 후진제거법, 전체탐색법(all subset selection) 방법을 이용하여 찾아보아라. 해당 기준들에 의하여 선택된 모형을 비교하여 보고, 본인의 최적 모형을 적절한 근거와 함께 제시하여라."
   ]
  },
  {
   "cell_type": "code",
   "execution_count": 3,
   "metadata": {
    "vscode": {
     "languageId": "r"
    }
   },
   "outputs": [
    {
     "name": "stderr",
     "output_type": "stream",
     "text": [
      "Warning message:\n",
      "\"패키지 'leaps'는 R 버전 4.3.3에서 작성되었습니다\"\n"
     ]
    }
   ],
   "source": [
    "library(leaps)\n",
    "library(MASS)"
   ]
  },
  {
   "cell_type": "code",
   "execution_count": 4,
   "metadata": {
    "vscode": {
     "languageId": "r"
    }
   },
   "outputs": [
    {
     "name": "stdout",
     "output_type": "stream",
     "text": [
      "1 단계: 변수 CRBI 가 선택되었습니다. \t PRESS는 37203615 입니다. \n",
      "2 단계: 변수 Hits 가 선택되었습니다. \t PRESS는 31968283 입니다. \n",
      "3 단계: 변수 Division 가 선택되었습니다. \t PRESS는 30832958 입니다. \n",
      "4 단계: 변수 PutOuts 가 선택되었습니다. \t PRESS는 29784686 입니다. \n",
      "5 단계: 변수 AtBat 가 선택되었습니다. \t PRESS는 29146016 입니다. \n",
      "6 단계: 변수 Walks 가 선택되었습니다. \t PRESS는 28389013 입니다. \n",
      "7 단계에서 선택된 변수의 PRESS 값이 이전 루프의 값보다 큽니다. 변수 선택을 중단합니다.\n",
      "\n",
      "선택된 변수들: CRBI+Hits+Division+PutOuts+AtBat+Walks \n",
      "최종 선택된 모델의 PRESS 값은 28389013 \n"
     ]
    }
   ],
   "source": [
    "# 1-1. PRESS 기준 전진선택법\n",
    "\n",
    "# PRESS 계산해주는 함수 cal_press 정의\n",
    "cal_press = function(model) {\n",
    "    res = residuals(model)\n",
    "    hat = lm.influence(model)$hat\n",
    "    press = sum((res / (1-hat))^2)\n",
    "    return(press)\n",
    "}\n",
    "\n",
    "# 선택된 변수를 저장하는 변수. 처음에는 전진선택을 하기 전 상태이므로 비어있다.\n",
    "selected_vars = c()\n",
    "# 종속변수\n",
    "response_var = \"Salary\"\n",
    "# 단계별 최적 PRESS 비교를 위한 변수. 최초에는 무한대값을 입력\n",
    "prev_best_press <- Inf\n",
    "\n",
    "for (i in 1:(ncol(Hitters)-1 )) {\n",
    "    # 후보변수는 Hitters 컬럼에서 종속변수와 이미 선택된 변수를 제외한 변수들이다.\n",
    "    available_vars = setdiff(names(Hitters), c(response_var, selected_vars))\n",
    "\n",
    "    # 이번 단계의 최적 PRESS와 그에 따른 독립변수를 저장할 변수\n",
    "    best_press = Inf\n",
    "    best_var = NULL\n",
    "\n",
    "    # 각각의 후보변수에 대해서 적합모델을 구하고, 적합모델로 PRESS를 계산한다.\n",
    "    for (var in available_vars) {\n",
    "        formula = as.formula(paste(response_var, \"~\", paste(c(selected_vars, var), collapse=\"+\")))\n",
    "        model = glm(formula, data=Hitters)\n",
    "        press = cal_press(model)\n",
    "        # cat(\"선택된 변수\", var, \"\\tPress 값:\", press, \"\\n\")\n",
    "        if(press < best_press) {\n",
    "            best_press = press\n",
    "            best_var = var\n",
    "        }\n",
    "    }\n",
    "    # 이전 루프에서의 best_press 값과 비교하여 변수 선택 중단 여부 결정\n",
    "    if (best_press >= prev_best_press) {\n",
    "        cat(i, \"단계에서 선택된 변수의 PRESS 값이 이전 루프의 값보다 큽니다. 변수 선택을 중단합니다.\\n\\n\")\n",
    "        break\n",
    "    }\n",
    "\n",
    "    selected_vars = c(selected_vars, best_var)\n",
    "    cat(i, \"단계: 변수\", best_var,\"가 선택되었습니다. \\t PRESS는\", best_press, \"입니다. \\n\")\n",
    "\n",
    "    # 현재의 best_press 값을 이전 루프에서의 값으로 업데이트\n",
    "    prev_best_press <- best_press\n",
    "}\n",
    "\n",
    "cat(\"선택된 변수들:\", paste(selected_vars, collapse = \"+\"), \"\\n\")\n",
    "cat(\"최종 선택된 모델의 PRESS 값은\", prev_best_press, \"\\n\")"
   ]
  },
  {
   "cell_type": "code",
   "execution_count": 5,
   "metadata": {
    "vscode": {
     "languageId": "r"
    }
   },
   "outputs": [
    {
     "data": {
      "text/plain": [
       "\n",
       "Call:\n",
       "glm(formula = Salary ~ AtBat + Hits + Walks + CRBI + Division + \n",
       "    PutOuts, data = Hitters)\n",
       "\n",
       "Coefficients:\n",
       "              Estimate Std. Error t value Pr(>|t|)    \n",
       "(Intercept)   91.51180   65.00006   1.408 0.160382    \n",
       "AtBat         -1.86859    0.52742  -3.543 0.000470 ***\n",
       "Hits           7.60440    1.66254   4.574 7.46e-06 ***\n",
       "Walks          3.69765    1.21036   3.055 0.002488 ** \n",
       "CRBI           0.64302    0.06443   9.979  < 2e-16 ***\n",
       "DivisionW   -122.95153   39.82029  -3.088 0.002239 ** \n",
       "PutOuts        0.26431    0.07477   3.535 0.000484 ***\n",
       "---\n",
       "Signif. codes:  0 '***' 0.001 '**' 0.01 '*' 0.05 '.' 0.1 ' ' 1\n",
       "\n",
       "(Dispersion parameter for gaussian family taken to be 102323.8)\n",
       "\n",
       "    Null deviance: 53319113  on 262  degrees of freedom\n",
       "Residual deviance: 26194904  on 256  degrees of freedom\n",
       "AIC: 3789.2\n",
       "\n",
       "Number of Fisher Scoring iterations: 2\n"
      ]
     },
     "metadata": {},
     "output_type": "display_data"
    },
    {
     "name": "stdout",
     "output_type": "stream",
     "text": [
      "적합된 모델은 다음과 같다.\n",
      "Salary = 91.512 - 1.869 * AtBat + 7.604 * Hits + 3.698 * Walks + 0.643 * CRBI - 122.952 * DivisionW + 0.264 * PutOuts\n"
     ]
    }
   ],
   "source": [
    "# 최적모델식\n",
    "model = glm(Salary ~ AtBat + Hits + Walks + CRBI + Division + PutOuts, data=Hitters)\n",
    "summary(model)\n",
    "\n",
    "cat(\"적합된 모델은 다음과 같다.\\n\")\n",
    "cat(\"Salary = 91.512 - 1.869 * AtBat + 7.604 * Hits + 3.698 * Walks + 0.643 * CRBI - 122.952 * DivisionW + 0.264 * PutOuts\\n\")"
   ]
  },
  {
   "cell_type": "code",
   "execution_count": 6,
   "metadata": {
    "vscode": {
     "languageId": "r"
    }
   },
   "outputs": [
    {
     "name": "stdout",
     "output_type": "stream",
     "text": [
      "[1] 104.281319  50.723090  38.693127  27.856220  21.613011  14.023870  13.607126\n",
      "[8]   7.624674\n",
      "Cp 값이 가장 작은 것은 8 번째 단계이다.\n",
      "\n",
      "Mallow's Cp 기준으로 선택된 변수들:\n",
      "[1] \"(Intercept)\" \"AtBat\"       \"Hits\"        \"Walks\"       \"CRuns\"      \n",
      "[6] \"CRBI\"        \"CWalks\"      \"DivisionW\"   \"PutOuts\"    \n"
     ]
    }
   ],
   "source": [
    "# 1-2. Mallow's Cp 기준 전진선택법\n",
    "fw = regsubsets(Salary ~ ., data=Hitters, method=\"forward\")\n",
    "\n",
    "# 모델 요약\n",
    "sum_fw = summary(fw)\n",
    "\n",
    "# Mallow's Cp 값들 확인\n",
    "cp_values = sum_fw$cp\n",
    "print(cp_values)\n",
    "\n",
    "# Cp 값이 가장 작은 것은 8번째 단계이다.\n",
    "cat(\"Cp 값이 가장 작은 것은\", which.min(cp_values), \"번째 단계이다.\\n\")\n",
    "\n",
    "# Mallow's Cp 기준으로 최적모델 선택\n",
    "args = sum_fw$which[which.min(cp_values),]\n",
    "\n",
    "# 최적모델의 변수 확인\n",
    "cat(\"\\nMallow's Cp 기준으로 선택된 변수들:\\n\")\n",
    "vars = names(args[args])\n",
    "print(vars)"
   ]
  },
  {
   "cell_type": "code",
   "execution_count": 7,
   "metadata": {
    "vscode": {
     "languageId": "r"
    }
   },
   "outputs": [
    {
     "data": {
      "text/plain": [
       "\n",
       "Call:\n",
       "glm(formula = Salary ~ AtBat + Hits + Walks + CRuns + CRBI + \n",
       "    CWalks + Division + PutOuts, data = Hitters)\n",
       "\n",
       "Coefficients:\n",
       "              Estimate Std. Error t value Pr(>|t|)    \n",
       "(Intercept)  117.15204   65.07016   1.800 0.072985 .  \n",
       "AtBat         -2.03392    0.52282  -3.890 0.000128 ***\n",
       "Hits           6.85491    1.65215   4.149 4.56e-05 ***\n",
       "Walks          6.44066    1.52212   4.231 3.25e-05 ***\n",
       "CRuns          0.70454    0.24869   2.833 0.004981 ** \n",
       "CRBI           0.52732    0.18861   2.796 0.005572 ** \n",
       "CWalks        -0.80661    0.26395  -3.056 0.002483 ** \n",
       "DivisionW   -123.77984   39.28749  -3.151 0.001824 ** \n",
       "PutOuts        0.27539    0.07431   3.706 0.000259 ***\n",
       "---\n",
       "Signif. codes:  0 '***' 0.001 '**' 0.01 '*' 0.05 '.' 0.1 ' ' 1\n",
       "\n",
       "(Dispersion parameter for gaussian family taken to be 99052.1)\n",
       "\n",
       "    Null deviance: 53319113  on 262  degrees of freedom\n",
       "Residual deviance: 25159234  on 254  degrees of freedom\n",
       "AIC: 3782.6\n",
       "\n",
       "Number of Fisher Scoring iterations: 2\n"
      ]
     },
     "metadata": {},
     "output_type": "display_data"
    },
    {
     "name": "stdout",
     "output_type": "stream",
     "text": [
      "적합된 모델은 다음과 같다.\n",
      "Salary = 117.152 - 2.034 * AtBat + 6.855 * Hits + 6.441 * Walks + 0.705 * CRuns + 0.527 * CRBI - 0.807 * CWalks - 123.780 * DisivisonW + 0.275 * Putouts\n"
     ]
    }
   ],
   "source": [
    "# 최적모델식\n",
    "model = glm(Salary ~ AtBat + Hits + Walks + CRuns + CRBI + CWalks + Division + PutOuts, data=Hitters)\n",
    "summary(model)\n",
    "\n",
    "cat(\"적합된 모델은 다음과 같다.\\n\")\n",
    "cat(\"Salary = 117.152 - 2.034 * AtBat + 6.855 * Hits + 6.441 * Walks + 0.705 * CRuns + 0.527 * CRBI - 0.807 * CWalks - 123.780 * DisivisonW + 0.275 * Putouts\\n\")"
   ]
  },
  {
   "cell_type": "code",
   "execution_count": 8,
   "metadata": {
    "vscode": {
     "languageId": "r"
    }
   },
   "outputs": [
    {
     "name": "stdout",
     "output_type": "stream",
     "text": [
      "Start:  AIC=3964.13\n",
      "Salary ~ 1\n",
      "\n",
      "            Df Deviance    AIC\n",
      "+ CRBI       1 36179679 3864.1\n",
      "+ CRuns      1 36437951 3866.0\n",
      "+ CHits      1 37253973 3871.8\n",
      "+ CAtBat     1 38559403 3880.9\n",
      "+ CHmRun     1 38626920 3881.4\n",
      "+ CWalks     1 40526491 3894.0\n",
      "+ RBI        1 42548030 3906.8\n",
      "+ Walks      1 42814280 3908.4\n",
      "+ Hits       1 43058621 3909.9\n",
      "+ Runs       1 43919955 3915.1\n",
      "+ Years      1 44760007 3920.1\n",
      "+ AtBat      1 45009644 3921.6\n",
      "+ HmRun      1 47045145 3933.2\n",
      "+ PutOuts    1 48505013 3941.2\n",
      "+ Division   1 51343011 3956.2\n",
      "<none>         53319113 3964.1\n",
      "+ Assists    1 53284615 3966.0\n",
      "+ League     1 53308237 3966.1\n",
      "+ Errors     1 53317558 3966.1\n",
      "+ NewLeague  1 53318684 3966.1\n",
      "\n",
      "Step:  AIC=3864.14\n",
      "Salary ~ CRBI\n",
      "\n",
      "            Df Deviance    AIC\n",
      "+ Hits       1 30646560 3822.5\n",
      "+ Runs       1 31003147 3825.5\n",
      "+ Walks      1 31979946 3833.7\n",
      "+ AtBat      1 32115095 3834.8\n",
      "+ RBI        1 32871407 3840.9\n",
      "+ PutOuts    1 32912644 3841.2\n",
      "+ Division   1 34445793 3853.2\n",
      "+ Years      1 34512340 3853.7\n",
      "+ HmRun      1 34908092 3856.7\n",
      "+ CRuns      1 35825119 3863.5\n",
      "+ Assists    1 35833659 3863.6\n",
      "<none>         36179679 3864.1\n",
      "+ Errors     1 35985276 3864.7\n",
      "+ CAtBat     1 36087418 3865.5\n",
      "+ CHits      1 36104210 3865.6\n",
      "+ CWalks     1 36127705 3865.8\n",
      "+ NewLeague  1 36161901 3866.0\n",
      "+ League     1 36167855 3866.1\n",
      "+ CHmRun     1 36179165 3866.1\n",
      "\n",
      "Step:  AIC=3822.49\n",
      "Salary ~ CRBI + Hits\n",
      "\n",
      "            Df Deviance    AIC\n",
      "+ PutOuts    1 29249297 3812.2\n",
      "+ Division   1 29367285 3813.3\n",
      "+ AtBat      1 29824793 3817.3\n",
      "+ Walks      1 29864793 3817.7\n",
      "+ Years      1 30391650 3822.3\n",
      "<none>         30646560 3822.5\n",
      "+ League     1 30437680 3822.7\n",
      "+ CRuns      1 30513946 3823.3\n",
      "+ NewLeague  1 30528086 3823.5\n",
      "+ Runs       1 30532362 3823.5\n",
      "+ Errors     1 30546784 3823.6\n",
      "+ CAtBat     1 30563043 3823.8\n",
      "+ Assists    1 30601779 3824.1\n",
      "+ CWalks     1 30622892 3824.3\n",
      "+ CHmRun     1 30641769 3824.4\n",
      "+ CHits      1 30642202 3824.4\n",
      "+ HmRun      1 30644387 3824.5\n",
      "+ RBI        1 30645423 3824.5\n",
      "\n",
      "Step:  AIC=3812.21\n",
      "Salary ~ CRBI + Hits + PutOuts\n",
      "\n",
      "            Df Deviance    AIC\n",
      "+ Division   1 27970852 3802.5\n",
      "+ AtBat      1 28239364 3805.0\n",
      "+ Walks      1 28709807 3809.3\n",
      "+ CRuns      1 28975648 3811.7\n",
      "<none>         29249297 3812.2\n",
      "+ Years      1 29112391 3813.0\n",
      "+ League     1 29126456 3813.1\n",
      "+ Runs       1 29131367 3813.2\n",
      "+ Errors     1 29152053 3813.3\n",
      "+ NewLeague  1 29191458 3813.7\n",
      "+ CHits      1 29214201 3813.9\n",
      "+ RBI        1 29215331 3813.9\n",
      "+ HmRun      1 29218070 3813.9\n",
      "+ CWalks     1 29220725 3814.0\n",
      "+ CAtBat     1 29228779 3814.0\n",
      "+ Assists    1 29247616 3814.2\n",
      "+ CHmRun     1 29247878 3814.2\n",
      "\n",
      "Step:  AIC=3802.46\n",
      "Salary ~ CRBI + Hits + PutOuts + Division\n",
      "\n",
      "            Df Deviance    AIC\n",
      "+ AtBat      1 27149899 3796.6\n",
      "+ Walks      1 27479268 3799.8\n",
      "<none>         27970852 3802.5\n",
      "+ CRuns      1 27777248 3802.6\n",
      "+ Years      1 27804007 3802.9\n",
      "+ League     1 27860224 3803.4\n",
      "+ Errors     1 27889467 3803.7\n",
      "+ Runs       1 27904931 3803.8\n",
      "+ RBI        1 27917133 3804.0\n",
      "+ NewLeague  1 27918577 3804.0\n",
      "+ CHits      1 27936989 3804.1\n",
      "+ HmRun      1 27944462 3804.2\n",
      "+ CAtBat     1 27952101 3804.3\n",
      "+ CWalks     1 27965129 3804.4\n",
      "+ Assists    1 27969816 3804.5\n",
      "+ CHmRun     1 27970687 3804.5\n",
      "\n",
      "Step:  AIC=3796.63\n",
      "Salary ~ CRBI + Hits + PutOuts + Division + AtBat\n",
      "\n",
      "            Df Deviance    AIC\n",
      "+ Walks      1 26194904 3789.2\n",
      "+ Years      1 26896537 3796.2\n",
      "+ Runs       1 26941157 3796.6\n",
      "<none>         27149899 3796.6\n",
      "+ CRuns      1 26964075 3796.8\n",
      "+ League     1 27053913 3797.7\n",
      "+ NewLeague  1 27097206 3798.1\n",
      "+ CHmRun     1 27106726 3798.2\n",
      "+ Assists    1 27121001 3798.3\n",
      "+ CAtBat     1 27128910 3798.4\n",
      "+ CWalks     1 27134301 3798.5\n",
      "+ Errors     1 27143634 3798.6\n",
      "+ CHits      1 27144594 3798.6\n",
      "+ RBI        1 27148663 3798.6\n",
      "+ HmRun      1 27149888 3798.6\n",
      "\n",
      "Step:  AIC=3789.21\n",
      "Salary ~ CRBI + Hits + PutOuts + Division + AtBat + Walks\n",
      "\n",
      "            Df Deviance    AIC\n",
      "+ CWalks     1 25954217 3788.8\n",
      "<none>         26194904 3789.2\n",
      "+ Years      1 26010396 3789.3\n",
      "+ CRuns      1 26084209 3790.1\n",
      "+ League     1 26116930 3790.4\n",
      "+ Assists    1 26119122 3790.4\n",
      "+ NewLeague  1 26153995 3790.8\n",
      "+ CHits      1 26157599 3790.8\n",
      "+ RBI        1 26183176 3791.1\n",
      "+ HmRun      1 26190157 3791.2\n",
      "+ Errors     1 26192177 3791.2\n",
      "+ CAtBat     1 26192274 3791.2\n",
      "+ CHmRun     1 26193961 3791.2\n",
      "+ Runs       1 26194867 3791.2\n",
      "\n",
      "Step:  AIC=3788.78\n",
      "Salary ~ CRBI + Hits + PutOuts + Division + AtBat + Walks + CWalks\n",
      "\n",
      "            Df Deviance    AIC\n",
      "+ CRuns      1 25159234 3782.6\n",
      "+ CHits      1 25680489 3788.0\n",
      "<none>         25954217 3788.8\n",
      "+ Assists    1 25815711 3789.4\n",
      "+ CAtBat     1 25864929 3789.9\n",
      "+ RBI        1 25867276 3789.9\n",
      "+ League     1 25877058 3790.0\n",
      "+ Years      1 25884091 3790.1\n",
      "+ NewLeague  1 25916410 3790.4\n",
      "+ HmRun      1 25920616 3790.4\n",
      "+ CHmRun     1 25945183 3790.7\n",
      "+ Errors     1 25947289 3790.7\n",
      "+ Runs       1 25954135 3790.8\n",
      "\n",
      "Step:  AIC=3782.6\n",
      "Salary ~ CRBI + Hits + PutOuts + Division + AtBat + Walks + CWalks + \n",
      "    CRuns\n",
      "\n",
      "            Df Deviance    AIC\n",
      "+ CAtBat     1 24814051 3781.0\n",
      "+ Years      1 24894165 3781.8\n",
      "<none>         25159234 3782.6\n",
      "+ CHits      1 24986019 3782.8\n",
      "+ Assists    1 25034558 3783.3\n",
      "+ CHmRun     1 25067505 3783.6\n",
      "+ League     1 25086248 3783.8\n",
      "+ NewLeague  1 25133990 3784.3\n",
      "+ Runs       1 25141534 3784.4\n",
      "+ Errors     1 25150703 3784.5\n",
      "+ HmRun      1 25156844 3784.6\n",
      "+ RBI        1 25159234 3784.6\n",
      "\n",
      "Step:  AIC=3780.97\n",
      "Salary ~ CRBI + Hits + PutOuts + Division + AtBat + Walks + CWalks + \n",
      "    CRuns + CAtBat\n",
      "\n",
      "            Df Deviance    AIC\n",
      "+ Assists    1 24500402 3779.6\n",
      "<none>         24814051 3781.0\n",
      "+ Runs       1 24660553 3781.3\n",
      "+ League     1 24668034 3781.4\n",
      "+ NewLeague  1 24736842 3782.1\n",
      "+ Years      1 24766620 3782.5\n",
      "+ CHits      1 24766925 3782.5\n",
      "+ Errors     1 24770126 3782.5\n",
      "+ HmRun      1 24790919 3782.7\n",
      "+ CHmRun     1 24794134 3782.8\n",
      "+ RBI        1 24795024 3782.8\n",
      "\n",
      "Step:  AIC=3779.62\n",
      "Salary ~ CRBI + Hits + PutOuts + Division + AtBat + Walks + CWalks + \n",
      "    CRuns + CAtBat + Assists\n",
      "\n",
      "            Df Deviance    AIC\n",
      "<none>         24500402 3779.6\n",
      "+ League     1 24387345 3780.4\n",
      "+ Runs       1 24424501 3780.8\n",
      "+ NewLeague  1 24435690 3780.9\n",
      "+ CHits      1 24462838 3781.2\n",
      "+ Errors     1 24465138 3781.2\n",
      "+ Years      1 24480519 3781.4\n",
      "+ CHmRun     1 24496046 3781.6\n",
      "+ HmRun      1 24499212 3781.6\n",
      "+ RBI        1 24500043 3781.6\n",
      "선택된 변수들: (Intercept)+CRBI+Hits+PutOuts+DivisionW+AtBat+Walks+CWalks+CRuns+CAtBat+Assists \n"
     ]
    }
   ],
   "source": [
    "# 1-3. AIC 기준 전진선택법\n",
    "\n",
    "# 모든 변수를 포함하는 모델 정의\n",
    "full_model = glm(Salary ~ ., data=Hitters)\n",
    "\n",
    "# 변수 없는 모델 정의\n",
    "null_model = glm(Salary ~ 1, data=Hitters)\n",
    "\n",
    "# stepAIC 함수를 사용하여 전진선택법 실시\n",
    "model = stepAIC(null_model, scope = list(lower=null_model, upper=full_model), direction=\"forward\")\n",
    "\n",
    "selected_vars = names(coef(model))\n",
    "cat(\"선택된 변수들:\", paste(selected_vars, collapse=\"+\"),\"\\n\")"
   ]
  },
  {
   "cell_type": "code",
   "execution_count": 9,
   "metadata": {
    "vscode": {
     "languageId": "r"
    }
   },
   "outputs": [
    {
     "data": {
      "text/plain": [
       "\n",
       "Call:\n",
       "glm(formula = Salary ~ CRBI + Hits + PutOuts + Division + AtBat + \n",
       "    Walks + CWalks + CRuns + CAtBat + Assists, data = Hitters)\n",
       "\n",
       "Coefficients:\n",
       "              Estimate Std. Error t value Pr(>|t|)    \n",
       "(Intercept)  162.53544   66.90784   2.429 0.015830 *  \n",
       "CRBI           0.77431    0.20961   3.694 0.000271 ***\n",
       "Hits           6.91802    1.64665   4.201 3.69e-05 ***\n",
       "PutOuts        0.29737    0.07444   3.995 8.50e-05 ***\n",
       "DivisionW   -112.38006   39.21438  -2.866 0.004511 ** \n",
       "AtBat         -2.16865    0.53630  -4.044 7.00e-05 ***\n",
       "Walks          5.77322    1.58483   3.643 0.000327 ***\n",
       "CWalks        -0.83083    0.26359  -3.152 0.001818 ** \n",
       "CRuns          1.40825    0.39040   3.607 0.000373 ***\n",
       "CAtBat        -0.13008    0.05550  -2.344 0.019858 *  \n",
       "Assists        0.28317    0.15766   1.796 0.073673 .  \n",
       "---\n",
       "Signif. codes:  0 '***' 0.001 '**' 0.01 '*' 0.05 '.' 0.1 ' ' 1\n",
       "\n",
       "(Dispersion parameter for gaussian family taken to be 97223.82)\n",
       "\n",
       "    Null deviance: 53319113  on 262  degrees of freedom\n",
       "Residual deviance: 24500402  on 252  degrees of freedom\n",
       "AIC: 3779.6\n",
       "\n",
       "Number of Fisher Scoring iterations: 2\n"
      ]
     },
     "metadata": {},
     "output_type": "display_data"
    },
    {
     "name": "stdout",
     "output_type": "stream",
     "text": [
      "적합된 모델은 다음과 같다.\n",
      "Salary = 162.535 - 2.169 * AtBat + 6.912 * Hits + 5.773 * Walks - 0.130 * CAtBat + 1.408 * CRuns + 0.774 * CRBI - 0.831 * CWalks - 112.380 * DivisioinW + 0.297 * PutOuts + 0.283 * Assists\n"
     ]
    }
   ],
   "source": [
    "summary(model)\n",
    "\n",
    "cat(\"적합된 모델은 다음과 같다.\\n\")\n",
    "cat(\"Salary = 162.535 - 2.169 * AtBat + 6.912 * Hits + 5.773 * Walks - 0.130 * CAtBat + 1.408 * CRuns + 0.774 * CRBI - 0.831 * CWalks - 112.380 * DivisioinW + 0.297 * PutOuts + 0.283 * Assists\\n\")"
   ]
  },
  {
   "cell_type": "code",
   "execution_count": 10,
   "metadata": {
    "vscode": {
     "languageId": "r"
    }
   },
   "outputs": [
    {
     "name": "stdout",
     "output_type": "stream",
     "text": [
      "Start:  AIC=3967.7\n",
      "Salary ~ 1\n",
      "\n",
      "            Df Deviance    AIC\n",
      "+ CRBI       1 36179679 3871.3\n",
      "+ CRuns      1 36437951 3873.2\n",
      "+ CHits      1 37253973 3879.0\n",
      "+ CAtBat     1 38559403 3888.0\n",
      "+ CHmRun     1 38626920 3888.5\n",
      "+ CWalks     1 40526491 3901.1\n",
      "+ RBI        1 42548030 3913.9\n",
      "+ Walks      1 42814280 3915.6\n",
      "+ Hits       1 43058621 3917.1\n",
      "+ Runs       1 43919955 3922.3\n",
      "+ Years      1 44760007 3927.3\n",
      "+ AtBat      1 45009644 3928.7\n",
      "+ HmRun      1 47045145 3940.4\n",
      "+ PutOuts    1 48505013 3948.4\n",
      "+ Division   1 51343011 3963.3\n",
      "<none>         53319113 3967.7\n",
      "+ Assists    1 53284615 3973.1\n",
      "+ League     1 53308237 3973.2\n",
      "+ Errors     1 53317558 3973.3\n",
      "+ NewLeague  1 53318684 3973.3\n",
      "\n",
      "Step:  AIC=3871.28\n",
      "Salary ~ CRBI\n",
      "\n",
      "            Df Deviance    AIC\n",
      "+ Hits       1 30646560 3833.2\n",
      "+ Runs       1 31003147 3836.2\n",
      "+ Walks      1 31979946 3844.4\n",
      "+ AtBat      1 32115095 3845.5\n",
      "+ RBI        1 32871407 3851.6\n",
      "+ PutOuts    1 32912644 3852.0\n",
      "+ Division   1 34445793 3863.9\n",
      "+ Years      1 34512340 3864.4\n",
      "+ HmRun      1 34908092 3867.4\n",
      "<none>         36179679 3871.3\n",
      "+ CRuns      1 35825119 3874.3\n",
      "+ Assists    1 35833659 3874.3\n",
      "+ Errors     1 35985276 3875.4\n",
      "+ CAtBat     1 36087418 3876.2\n",
      "+ CHits      1 36104210 3876.3\n",
      "+ CWalks     1 36127705 3876.5\n",
      "+ NewLeague  1 36161901 3876.7\n",
      "+ League     1 36167855 3876.8\n",
      "+ CHmRun     1 36179165 3876.9\n",
      "\n",
      "Step:  AIC=3833.2\n",
      "Salary ~ CRBI + Hits\n",
      "\n",
      "            Df Deviance    AIC\n",
      "+ PutOuts    1 29249297 3826.5\n",
      "+ Division   1 29367285 3827.6\n",
      "+ AtBat      1 29824793 3831.6\n",
      "+ Walks      1 29864793 3832.0\n",
      "<none>         30646560 3833.2\n",
      "+ Years      1 30391650 3836.6\n",
      "+ League     1 30437680 3837.0\n",
      "+ CRuns      1 30513946 3837.6\n",
      "+ NewLeague  1 30528086 3837.8\n",
      "+ Runs       1 30532362 3837.8\n",
      "+ Errors     1 30546784 3837.9\n",
      "+ CAtBat     1 30563043 3838.1\n",
      "+ Assists    1 30601779 3838.4\n",
      "+ CWalks     1 30622892 3838.6\n",
      "+ CHmRun     1 30641769 3838.7\n",
      "+ CHits      1 30642202 3838.7\n",
      "+ HmRun      1 30644387 3838.8\n",
      "+ RBI        1 30645423 3838.8\n",
      "\n",
      "Step:  AIC=3826.5\n",
      "Salary ~ CRBI + Hits + PutOuts\n",
      "\n",
      "            Df Deviance    AIC\n",
      "+ Division   1 27970852 3820.3\n",
      "+ AtBat      1 28239364 3822.8\n",
      "<none>         29249297 3826.5\n",
      "+ Walks      1 28709807 3827.2\n",
      "+ CRuns      1 28975648 3829.6\n",
      "+ Years      1 29112391 3830.8\n",
      "+ League     1 29126456 3831.0\n",
      "+ Runs       1 29131367 3831.0\n",
      "+ Errors     1 29152053 3831.2\n",
      "+ NewLeague  1 29191458 3831.6\n",
      "+ CHits      1 29214201 3831.8\n",
      "+ RBI        1 29215331 3831.8\n",
      "+ HmRun      1 29218070 3831.8\n",
      "+ CWalks     1 29220725 3831.8\n",
      "+ CAtBat     1 29228779 3831.9\n",
      "+ Assists    1 29247616 3832.1\n",
      "+ CHmRun     1 29247878 3832.1\n",
      "\n",
      "Step:  AIC=3820.32\n",
      "Salary ~ CRBI + Hits + PutOuts + Division\n",
      "\n",
      "            Df Deviance    AIC\n",
      "+ AtBat      1 27149899 3818.1\n",
      "<none>         27970852 3820.3\n",
      "+ Walks      1 27479268 3821.2\n",
      "+ CRuns      1 27777248 3824.1\n",
      "+ Years      1 27804007 3824.3\n",
      "+ League     1 27860224 3824.9\n",
      "+ Errors     1 27889467 3825.1\n",
      "+ Runs       1 27904931 3825.3\n",
      "+ RBI        1 27917133 3825.4\n",
      "+ NewLeague  1 27918577 3825.4\n",
      "+ CHits      1 27936989 3825.6\n",
      "+ HmRun      1 27944462 3825.6\n",
      "+ CAtBat     1 27952101 3825.7\n",
      "+ CWalks     1 27965129 3825.8\n",
      "+ Assists    1 27969816 3825.9\n",
      "+ CHmRun     1 27970687 3825.9\n",
      "\n",
      "Step:  AIC=3818.06\n",
      "Salary ~ CRBI + Hits + PutOuts + Division + AtBat\n",
      "\n",
      "            Df Deviance    AIC\n",
      "+ Walks      1 26194904 3814.2\n",
      "<none>         27149899 3818.1\n",
      "+ Years      1 26896537 3821.2\n",
      "+ Runs       1 26941157 3821.6\n",
      "+ CRuns      1 26964075 3821.8\n",
      "+ League     1 27053913 3822.7\n",
      "+ NewLeague  1 27097206 3823.1\n",
      "+ CHmRun     1 27106726 3823.2\n",
      "+ Assists    1 27121001 3823.4\n",
      "+ CAtBat     1 27128910 3823.4\n",
      "+ CWalks     1 27134301 3823.5\n",
      "+ Errors     1 27143634 3823.6\n",
      "+ CHits      1 27144594 3823.6\n",
      "+ RBI        1 27148663 3823.6\n",
      "+ HmRun      1 27149888 3823.6\n",
      "\n",
      "Step:  AIC=3814.21\n",
      "Salary ~ CRBI + Hits + PutOuts + Division + AtBat + Walks\n",
      "\n",
      "            Df Deviance    AIC\n",
      "<none>         26194904 3814.2\n",
      "+ CWalks     1 25954217 3817.4\n",
      "+ Years      1 26010396 3817.9\n",
      "+ CRuns      1 26084209 3818.7\n",
      "+ League     1 26116930 3819.0\n",
      "+ Assists    1 26119122 3819.0\n",
      "+ NewLeague  1 26153995 3819.4\n",
      "+ CHits      1 26157599 3819.4\n",
      "+ RBI        1 26183176 3819.7\n",
      "+ HmRun      1 26190157 3819.7\n",
      "+ Errors     1 26192177 3819.8\n",
      "+ CAtBat     1 26192274 3819.8\n",
      "+ CHmRun     1 26193961 3819.8\n",
      "+ Runs       1 26194867 3819.8\n",
      "선택된 변수들: (Intercept)+CRBI+Hits+PutOuts+DivisionW+AtBat+Walks \n"
     ]
    }
   ],
   "source": [
    "# 1-4. BIC 기준 전진선택법\n",
    "\n",
    "n = nrow(Hitters)\n",
    "\n",
    "# stepAIC 함수를 사용하여 전진선택법 실시\n",
    "model = stepAIC(null_model, scope = list(lower=null_model, upper=full_model), direction=\"forward\", k=log(n))\n",
    "\n",
    "selected_vars = names(coef(model))\n",
    "cat(\"선택된 변수들:\", paste(selected_vars, collapse=\"+\"),\"\\n\")"
   ]
  },
  {
   "cell_type": "code",
   "execution_count": 11,
   "metadata": {
    "vscode": {
     "languageId": "r"
    }
   },
   "outputs": [
    {
     "data": {
      "text/plain": [
       "\n",
       "Call:\n",
       "glm(formula = Salary ~ CRBI + Hits + PutOuts + Division + AtBat + \n",
       "    Walks, data = Hitters)\n",
       "\n",
       "Coefficients:\n",
       "              Estimate Std. Error t value Pr(>|t|)    \n",
       "(Intercept)   91.51180   65.00006   1.408 0.160382    \n",
       "CRBI           0.64302    0.06443   9.979  < 2e-16 ***\n",
       "Hits           7.60440    1.66254   4.574 7.46e-06 ***\n",
       "PutOuts        0.26431    0.07477   3.535 0.000484 ***\n",
       "DivisionW   -122.95153   39.82029  -3.088 0.002239 ** \n",
       "AtBat         -1.86859    0.52742  -3.543 0.000470 ***\n",
       "Walks          3.69765    1.21036   3.055 0.002488 ** \n",
       "---\n",
       "Signif. codes:  0 '***' 0.001 '**' 0.01 '*' 0.05 '.' 0.1 ' ' 1\n",
       "\n",
       "(Dispersion parameter for gaussian family taken to be 102323.8)\n",
       "\n",
       "    Null deviance: 53319113  on 262  degrees of freedom\n",
       "Residual deviance: 26194904  on 256  degrees of freedom\n",
       "AIC: 3789.2\n",
       "\n",
       "Number of Fisher Scoring iterations: 2\n"
      ]
     },
     "metadata": {},
     "output_type": "display_data"
    },
    {
     "name": "stdout",
     "output_type": "stream",
     "text": [
      "적합된 모델은 다음과 같다.\n",
      "Salary = 91.512 - 1.869 * AtBat + 7.604 * Hits + 3.698 * Walks + 0.643 * CRBI - 122.952 * DivisionW + 0.264 * PutOuts\n"
     ]
    }
   ],
   "source": [
    "summary(model)\n",
    "\n",
    "cat(\"적합된 모델은 다음과 같다.\\n\")\n",
    "cat(\"Salary = 91.512 - 1.869 * AtBat + 7.604 * Hits + 3.698 * Walks + 0.643 * CRBI - 122.952 * DivisionW + 0.264 * PutOuts\\n\")"
   ]
  },
  {
   "cell_type": "markdown",
   "metadata": {
    "vscode": {
     "languageId": "r"
    }
   },
   "source": [
    "PRESS, Mallow's Cp, AIC, BIC 기준 전진선택법으로 적합한 모델을 비교해 보면 다음과 같다.\n",
    "\n",
    "|변수|PRESS|Mallow's Cp|AIC|BIC|\n",
    "|:-:|:-:|:-:|:-:|:-:|\n",
    "|(Intercept)|91.512|117.152|162.535|91.512|\n",
    "|AtBat|-1.869|-2.034|-2.169|-1.869|\n",
    "|Hits|7.604|6.855|6.912|7.604|\n",
    "|HmRun|-|-|-|-|\n",
    "|Runs|-|-|-|-|\n",
    "|RBI|-|-|-|-|\n",
    "|Walks|3.698|6.441|5.773|3.698|\n",
    "|Years|-|-|-|-|\n",
    "|CAtBat|-|-|-0.130|-|\n",
    "|CHits|-|-|-|-|\n",
    "|CHmRun|-|-|-|-|\n",
    "|CRuns|-|0.705|1.408|-|\n",
    "|CRBI|0.643|0.527|0.774|0.643|\n",
    "|CWalks|-|-0.807|-0.831|-|\n",
    "|LeagueN|-|-|-|-|\n",
    "|DivisionW|-122.952|-123.780|-112.380|-122.952|\n",
    "|PutOuts|0.264|0.275|0.297|0.264|\n",
    "|Assists|-|-|0.283|-|\n",
    "|Errors|-|-|-|-|\n",
    "|NewLeagueN|-|-|-|-|"
   ]
  },
  {
   "cell_type": "code",
   "execution_count": 12,
   "metadata": {
    "vscode": {
     "languageId": "r"
    }
   },
   "outputs": [
    {
     "name": "stdout",
     "output_type": "stream",
     "text": [
      "1 단계: 변수 CHits 가 제거되었습니다. \t PRESS는 30262011 입니다. \n",
      "2 단계: 변수 CHmRun 가 제거되었습니다. \t PRESS는 29659087 입니다. \n",
      "3 단계: 변수 RBI 가 제거되었습니다. \t PRESS는 29320018 입니다. \n",
      "4 단계: 변수 Runs 가 제거되었습니다. \t PRESS는 29056780 입니다. \n",
      "5 단계: 변수 HmRun 가 제거되었습니다. \t PRESS는 28779219 입니다. \n",
      "6 단계: 변수 Years 가 제거되었습니다. \t PRESS는 28556690 입니다. \n",
      "7 단계: 변수 NewLeague 가 제거되었습니다. \t PRESS는 28390405 입니다. \n",
      "8 단계: 변수 Errors 가 제거되었습니다. \t PRESS는 28245131 입니다. \n",
      "9 단계: 변수 League 가 제거되었습니다. \t PRESS는 28143339 입니다. \n",
      "10 단계에서 제거된 변수의 PRESS 값이 이전 루프의 값보다 큽니다. 변수 선택을 중단합니다.\n",
      "\n",
      "선택된 변수들: AtBat+Hits+Walks+CAtBat+CRuns+CRBI+CWalks+Division+PutOuts+Assists \n",
      "최종 선택된 모델의 PRESS 값은 28143339 \n"
     ]
    }
   ],
   "source": [
    "# 2-1. PRESS 기준 후진제거법\n",
    "\n",
    "# 선택된 변수를 저장하는 변수. 처음에는 모든 변수가 선택된 상태이다.\n",
    "selected_vars = setdiff(names(Hitters), \"Salary\")\n",
    "# 종속변수\n",
    "response_var = \"Salary\"\n",
    "# 단계별 최적 PRESS 비교를 위한 변수. 최초에는 무한대값을 입력\n",
    "prev_best_press <- Inf\n",
    "\n",
    "for (i in 1:(length(selected_vars) - 1)) {\n",
    "    # 이번 단계의 최적 PRESS와 그에 따른 독립변수를 저장할 변수\n",
    "    best_press = Inf\n",
    "    worst_var = NULL\n",
    "\n",
    "    # 각각의 후보변수에 대해서 적합모델을 구하고, 적합모델로 PRESS를 계산한다.\n",
    "    for (var in selected_vars) {\n",
    "        remaining_vars = setdiff(selected_vars, var)\n",
    "        formula = as.formula(paste(response_var, \"~\", paste(remaining_vars, collapse = \"+\")))\n",
    "        model = glm(formula, data = Hitters)\n",
    "        press = cal_press(model)\n",
    "        # cat(\"제거된 변수\", var, \"\\tPress 값:\", press, \"\\n\")\n",
    "        if (press < best_press) {\n",
    "            best_press = press\n",
    "            worst_var = var\n",
    "        }\n",
    "    }\n",
    "    # 이전 루프에서의 best_press 값과 비교하여 변수 선택 중단 여부 결정\n",
    "    if (best_press >= prev_best_press) {\n",
    "        cat(i, \"단계에서 제거된 변수의 PRESS 값이 이전 루프의 값보다 큽니다. 변수 선택을 중단합니다.\\n\\n\")\n",
    "        break\n",
    "    }\n",
    "\n",
    "    selected_vars = setdiff(selected_vars, worst_var)\n",
    "    cat(i, \"단계: 변수\", worst_var, \"가 제거되었습니다. \\t PRESS는\", best_press, \"입니다. \\n\")\n",
    "\n",
    "    # 현재의 best_press 값을 이전 루프에서의 값으로 업데이트\n",
    "    prev_best_press <- best_press\n",
    "}\n",
    "\n",
    "cat(\"선택된 변수들:\", paste(selected_vars, collapse = \"+\"), \"\\n\")\n",
    "cat(\"최종 선택된 모델의 PRESS 값은\", prev_best_press, \"\\n\")\n"
   ]
  },
  {
   "cell_type": "code",
   "execution_count": 13,
   "metadata": {
    "vscode": {
     "languageId": "r"
    }
   },
   "outputs": [
    {
     "data": {
      "text/plain": [
       "\n",
       "Call:\n",
       "glm(formula = Salary ~ AtBat + Hits + Walks + CAtBat + CRuns + \n",
       "    CRBI + CWalks + Division + PutOuts + Assists, data = Hitters)\n",
       "\n",
       "Coefficients:\n",
       "              Estimate Std. Error t value Pr(>|t|)    \n",
       "(Intercept)  162.53544   66.90784   2.429 0.015830 *  \n",
       "AtBat         -2.16865    0.53630  -4.044 7.00e-05 ***\n",
       "Hits           6.91802    1.64665   4.201 3.69e-05 ***\n",
       "Walks          5.77322    1.58483   3.643 0.000327 ***\n",
       "CAtBat        -0.13008    0.05550  -2.344 0.019858 *  \n",
       "CRuns          1.40825    0.39040   3.607 0.000373 ***\n",
       "CRBI           0.77431    0.20961   3.694 0.000271 ***\n",
       "CWalks        -0.83083    0.26359  -3.152 0.001818 ** \n",
       "DivisionW   -112.38006   39.21438  -2.866 0.004511 ** \n",
       "PutOuts        0.29737    0.07444   3.995 8.50e-05 ***\n",
       "Assists        0.28317    0.15766   1.796 0.073673 .  \n",
       "---\n",
       "Signif. codes:  0 '***' 0.001 '**' 0.01 '*' 0.05 '.' 0.1 ' ' 1\n",
       "\n",
       "(Dispersion parameter for gaussian family taken to be 97223.82)\n",
       "\n",
       "    Null deviance: 53319113  on 262  degrees of freedom\n",
       "Residual deviance: 24500402  on 252  degrees of freedom\n",
       "AIC: 3779.6\n",
       "\n",
       "Number of Fisher Scoring iterations: 2\n"
      ]
     },
     "metadata": {},
     "output_type": "display_data"
    },
    {
     "name": "stdout",
     "output_type": "stream",
     "text": [
      "적합된 모델은 다음과 같다.\n",
      "Salary = 162.535 - 2.169 * AtBat + 6.918 * Hits + 5.773 * Walks + -0.130 * CAtBat + 1.408 * CRuns + 0.774 * CRBI - 0.831 * CWalks - 112.380 * DivisionW + 0.297 * PutOuts + 0.283 * Assists\n"
     ]
    }
   ],
   "source": [
    "# 최적모델식\n",
    "model = glm(Salary ~ AtBat + Hits + Walks + CAtBat + CRuns + CRBI + CWalks + Division + PutOuts + Assists, data=Hitters)\n",
    "summary(model)\n",
    "\n",
    "cat(\"적합된 모델은 다음과 같다.\\n\")\n",
    "cat(\"Salary = 162.535 - 2.169 * AtBat + 6.918 * Hits + 5.773 * Walks + -0.130 * CAtBat + 1.408 * CRuns + 0.774 * CRBI - 0.831 * CWalks - 112.380 * DivisionW + 0.297 * PutOuts + 0.283 * Assists\\n\")"
   ]
  },
  {
   "cell_type": "code",
   "execution_count": 14,
   "metadata": {
    "vscode": {
     "languageId": "r"
    }
   },
   "outputs": [
    {
     "name": "stdout",
     "output_type": "stream",
     "text": [
      "[1] 106.874632  56.314938  40.279613  32.675465  25.224013  18.835412  13.398979\n",
      "[8]   7.624674\n",
      "Cp 값이 가장 작은 것은 8 번째 단계이다.\n",
      "\n",
      "Mallow's Cp 기준으로 선택된 변수들:\n",
      "[1] \"(Intercept)\" \"AtBat\"       \"Hits\"        \"Walks\"       \"CRuns\"      \n",
      "[6] \"CRBI\"        \"CWalks\"      \"DivisionW\"   \"PutOuts\"    \n"
     ]
    }
   ],
   "source": [
    "# 2-2. Mallow's Cp 기준 후진제거법\n",
    "\n",
    "# 후진제거법을 이용한 Mallow's Cp 기준 모델 선택\n",
    "bw = regsubsets(Salary ~ ., data=Hitters, method=\"backward\")\n",
    "\n",
    "# 모델 요약\n",
    "sum_bw = summary(bw)\n",
    "\n",
    "# Mallow's Cp 값들 확인\n",
    "cp_values = sum_bw$cp\n",
    "print(cp_values)\n",
    "\n",
    "# Cp 값이 가장 작은 것은 어느 단계인지 확인\n",
    "cat(\"Cp 값이 가장 작은 것은\", which.min(cp_values), \"번째 단계이다.\\n\")\n",
    "\n",
    "# Mallow's Cp 기준으로 최적모델 선택\n",
    "args = sum_bw$which[which.min(cp_values),]\n",
    "\n",
    "# 최적모델의 변수 확인\n",
    "cat(\"\\nMallow's Cp 기준으로 선택된 변수들:\\n\")\n",
    "vars = names(args[args])\n",
    "print(vars)\n"
   ]
  },
  {
   "cell_type": "code",
   "execution_count": 15,
   "metadata": {
    "vscode": {
     "languageId": "r"
    }
   },
   "outputs": [
    {
     "data": {
      "text/plain": [
       "\n",
       "Call:\n",
       "glm(formula = Salary ~ AtBat + Hits + Walks + CRuns + CRBI + \n",
       "    CWalks + Division + PutOuts, data = Hitters)\n",
       "\n",
       "Coefficients:\n",
       "              Estimate Std. Error t value Pr(>|t|)    \n",
       "(Intercept)  117.15204   65.07016   1.800 0.072985 .  \n",
       "AtBat         -2.03392    0.52282  -3.890 0.000128 ***\n",
       "Hits           6.85491    1.65215   4.149 4.56e-05 ***\n",
       "Walks          6.44066    1.52212   4.231 3.25e-05 ***\n",
       "CRuns          0.70454    0.24869   2.833 0.004981 ** \n",
       "CRBI           0.52732    0.18861   2.796 0.005572 ** \n",
       "CWalks        -0.80661    0.26395  -3.056 0.002483 ** \n",
       "DivisionW   -123.77984   39.28749  -3.151 0.001824 ** \n",
       "PutOuts        0.27539    0.07431   3.706 0.000259 ***\n",
       "---\n",
       "Signif. codes:  0 '***' 0.001 '**' 0.01 '*' 0.05 '.' 0.1 ' ' 1\n",
       "\n",
       "(Dispersion parameter for gaussian family taken to be 99052.1)\n",
       "\n",
       "    Null deviance: 53319113  on 262  degrees of freedom\n",
       "Residual deviance: 25159234  on 254  degrees of freedom\n",
       "AIC: 3782.6\n",
       "\n",
       "Number of Fisher Scoring iterations: 2\n"
      ]
     },
     "metadata": {},
     "output_type": "display_data"
    },
    {
     "name": "stdout",
     "output_type": "stream",
     "text": [
      "적합된 모델은 다음과 같다.\n",
      "Salary = 117.152 - 2.034 * AtBat + 6.855 * Hits + 6.441 * Walks + 0.705 * CRuns + 0.527 * CRBI - 0.807 * CWalks - 123.780 * DisivisonW + 0.275 * Putouts\n"
     ]
    }
   ],
   "source": [
    "# 최적모델식\n",
    "model = glm(Salary ~ AtBat + Hits + Walks + CRuns + CRBI + CWalks + Division + PutOuts, data=Hitters)\n",
    "summary(model)\n",
    "\n",
    "cat(\"적합된 모델은 다음과 같다.\\n\")\n",
    "cat(\"Salary = 117.152 - 2.034 * AtBat + 6.855 * Hits + 6.441 * Walks + 0.705 * CRuns + 0.527 * CRBI - 0.807 * CWalks - 123.780 * DisivisonW + 0.275 * Putouts\\n\")"
   ]
  },
  {
   "cell_type": "code",
   "execution_count": 16,
   "metadata": {
    "vscode": {
     "languageId": "r"
    }
   },
   "outputs": [
    {
     "name": "stdout",
     "output_type": "stream",
     "text": [
      "Start:  AIC=3794.38\n",
      "Salary ~ AtBat + Hits + HmRun + Runs + RBI + Walks + Years + \n",
      "    CAtBat + CHits + CHmRun + CRuns + CRBI + CWalks + League + \n",
      "    Division + PutOuts + Assists + Errors + NewLeague\n",
      "\n",
      "            Df Deviance    AIC\n",
      "- CHmRun     1 24201837 3792.4\n",
      "- CHits      1 24204629 3792.4\n",
      "- Years      1 24208569 3792.5\n",
      "- NewLeague  1 24210484 3792.5\n",
      "- RBI        1 24216776 3792.6\n",
      "- HmRun      1 24249272 3792.9\n",
      "- Errors     1 24259023 3793.0\n",
      "- League     1 24262821 3793.1\n",
      "- Runs       1 24263990 3793.1\n",
      "- CRBI       1 24336138 3793.9\n",
      "- CAtBat     1 24360564 3794.1\n",
      "<none>         24200700 3794.4\n",
      "- Assists    1 24480963 3795.4\n",
      "- CRuns      1 24574707 3796.4\n",
      "- CWalks     1 24810108 3798.9\n",
      "- Division   1 25035190 3801.3\n",
      "- AtBat      1 25171987 3802.7\n",
      "- Hits       1 25191941 3802.9\n",
      "- Walks      1 25357305 3804.7\n",
      "- PutOuts    1 25520328 3806.3\n",
      "\n",
      "Step:  AIC=3792.4\n",
      "Salary ~ AtBat + Hits + HmRun + Runs + RBI + Walks + Years + \n",
      "    CAtBat + CHits + CRuns + CRBI + CWalks + League + Division + \n",
      "    PutOuts + Assists + Errors + NewLeague\n",
      "\n",
      "            Df Deviance    AIC\n",
      "- Years      1 24209447 3790.5\n",
      "- NewLeague  1 24212106 3790.5\n",
      "- CHits      1 24215840 3790.5\n",
      "- RBI        1 24216793 3790.6\n",
      "- HmRun      1 24254614 3791.0\n",
      "- Errors     1 24261367 3791.0\n",
      "- League     1 24265244 3791.1\n",
      "- Runs       1 24266698 3791.1\n",
      "- CAtBat     1 24376830 3792.3\n",
      "<none>         24201837 3792.4\n",
      "- Assists    1 24487603 3793.5\n",
      "- CRuns      1 24813196 3797.0\n",
      "- CWalks     1 24847464 3797.3\n",
      "- Division   1 25036474 3799.3\n",
      "- CRBI       1 25066057 3799.6\n",
      "- AtBat      1 25172699 3800.7\n",
      "- Hits       1 25227819 3801.3\n",
      "- Walks      1 25369216 3802.8\n",
      "- PutOuts    1 25527110 3804.4\n",
      "\n",
      "Step:  AIC=3790.48\n",
      "Salary ~ AtBat + Hits + HmRun + Runs + RBI + Walks + CAtBat + \n",
      "    CHits + CRuns + CRBI + CWalks + League + Division + PutOuts + \n",
      "    Assists + Errors + NewLeague\n",
      "\n",
      "            Df Deviance    AIC\n",
      "- NewLeague  1 24219377 3788.6\n",
      "- RBI        1 24225436 3788.7\n",
      "- CHits      1 24227738 3788.7\n",
      "- HmRun      1 24263591 3789.1\n",
      "- Errors     1 24266759 3789.1\n",
      "- Runs       1 24272619 3789.2\n",
      "- League     1 24275178 3789.2\n",
      "<none>         24209447 3790.5\n",
      "- CAtBat     1 24475652 3791.4\n",
      "- Assists    1 24502926 3791.6\n",
      "- CRuns      1 24855797 3795.4\n",
      "- CWalks     1 24858716 3795.4\n",
      "- Division   1 25036958 3797.3\n",
      "- CRBI       1 25081568 3797.8\n",
      "- AtBat      1 25178160 3798.8\n",
      "- Hits       1 25227825 3799.3\n",
      "- Walks      1 25373983 3800.8\n",
      "- PutOuts    1 25543972 3802.6\n",
      "\n",
      "Step:  AIC=3788.59\n",
      "Salary ~ AtBat + Hits + HmRun + Runs + RBI + Walks + CAtBat + \n",
      "    CHits + CRuns + CRBI + CWalks + League + Division + PutOuts + \n",
      "    Assists + Errors\n",
      "\n",
      "           Df Deviance    AIC\n",
      "- RBI       1 24235177 3786.8\n",
      "- CHits     1 24235237 3786.8\n",
      "- Errors    1 24273883 3787.2\n",
      "- HmRun     1 24274316 3787.2\n",
      "- Runs      1 24281671 3787.3\n",
      "- League    1 24326856 3787.8\n",
      "<none>        24219377 3788.6\n",
      "- CAtBat    1 24480713 3789.4\n",
      "- Assists   1 24514914 3789.8\n",
      "- CWalks    1 24868237 3793.5\n",
      "- CRuns     1 24880826 3793.7\n",
      "- Division  1 25044049 3795.4\n",
      "- CRBI      1 25099806 3796.0\n",
      "- AtBat     1 25218434 3797.2\n",
      "- Hits      1 25253840 3797.6\n",
      "- Walks     1 25376583 3798.9\n",
      "- PutOuts   1 25554550 3800.7\n",
      "\n",
      "Step:  AIC=3786.76\n",
      "Salary ~ AtBat + Hits + HmRun + Runs + Walks + CAtBat + CHits + \n",
      "    CRuns + CRBI + CWalks + League + Division + PutOuts + Assists + \n",
      "    Errors\n",
      "\n",
      "           Df Deviance    AIC\n",
      "- CHits     1 24248660 3784.9\n",
      "- HmRun     1 24279763 3785.2\n",
      "- Runs      1 24289234 3785.3\n",
      "- Errors    1 24292833 3785.4\n",
      "- League    1 24343821 3785.9\n",
      "<none>        24235177 3786.8\n",
      "- CAtBat    1 24487934 3787.5\n",
      "- Assists   1 24529851 3787.9\n",
      "- CWalks    1 24874868 3791.6\n",
      "- CRuns     1 24928712 3792.2\n",
      "- Division  1 25044161 3793.4\n",
      "- CRBI      1 25129008 3794.3\n",
      "- Hits      1 25270061 3795.8\n",
      "- AtBat     1 25277975 3795.8\n",
      "- Walks     1 25380191 3796.9\n",
      "- PutOuts   1 25575890 3798.9\n",
      "\n",
      "Step:  AIC=3784.9\n",
      "Salary ~ AtBat + Hits + HmRun + Runs + Walks + CAtBat + CRuns + \n",
      "    CRBI + CWalks + League + Division + PutOuts + Assists + Errors\n",
      "\n",
      "           Df Deviance    AIC\n",
      "- HmRun     1 24289148 3783.3\n",
      "- Errors    1 24300590 3783.5\n",
      "- Runs      1 24328003 3783.8\n",
      "- League    1 24363402 3784.1\n",
      "<none>        24248660 3784.9\n",
      "- Assists   1 24532103 3786.0\n",
      "- CAtBat    1 24862016 3789.5\n",
      "- Division  1 25050134 3791.5\n",
      "- CRBI      1 25151908 3792.5\n",
      "- CWalks    1 25260613 3793.7\n",
      "- Walks     1 25494824 3796.1\n",
      "- AtBat     1 25588280 3797.0\n",
      "- CRuns     1 25639469 3797.6\n",
      "- PutOuts   1 25654684 3797.7\n",
      "- Hits      1 25856650 3799.8\n",
      "\n",
      "Step:  AIC=3783.34\n",
      "Salary ~ AtBat + Hits + Runs + Walks + CAtBat + CRuns + CRBI + \n",
      "    CWalks + League + Division + PutOuts + Assists + Errors\n",
      "\n",
      "           Df Deviance    AIC\n",
      "- Errors    1 24333232 3781.8\n",
      "- Runs      1 24338215 3781.9\n",
      "- League    1 24392985 3782.5\n",
      "<none>        24289148 3783.3\n",
      "- Assists   1 24536150 3784.0\n",
      "- CAtBat    1 24941894 3788.3\n",
      "- Division  1 25084791 3789.8\n",
      "- CWalks    1 25272044 3791.8\n",
      "- Walks     1 25494971 3794.1\n",
      "- AtBat     1 25590120 3795.1\n",
      "- CRuns     1 25640348 3795.6\n",
      "- CRBI      1 25642655 3795.6\n",
      "- PutOuts   1 25718154 3796.4\n",
      "- Hits      1 25863288 3797.9\n",
      "\n",
      "Step:  AIC=3781.82\n",
      "Salary ~ AtBat + Hits + Runs + Walks + CAtBat + CRuns + CRBI + \n",
      "    CWalks + League + Division + PutOuts + Assists\n",
      "\n",
      "           Df Deviance    AIC\n",
      "- Runs      1 24387345 3780.4\n",
      "- League    1 24424501 3780.8\n",
      "<none>        24333232 3781.8\n",
      "- Assists   1 24553242 3782.2\n",
      "- CAtBat    1 24983746 3786.8\n",
      "- Division  1 25132687 3788.3\n",
      "- CWalks    1 25304493 3790.1\n",
      "- Walks     1 25572765 3792.9\n",
      "- CRBI      1 25664904 3793.8\n",
      "- CRuns     1 25694302 3794.1\n",
      "- AtBat     1 25711824 3794.3\n",
      "- PutOuts   1 25724892 3794.4\n",
      "- Hits      1 25982523 3797.1\n",
      "\n",
      "Step:  AIC=3780.4\n",
      "Salary ~ AtBat + Hits + Walks + CAtBat + CRuns + CRBI + CWalks + \n",
      "    League + Division + PutOuts + Assists\n",
      "\n",
      "           Df Deviance    AIC\n",
      "- League    1 24500402 3779.6\n",
      "<none>        24387345 3780.4\n",
      "- Assists   1 24668034 3781.4\n",
      "- CAtBat    1 24983967 3784.8\n",
      "- Division  1 25167714 3786.7\n",
      "- CWalks    1 25334032 3788.4\n",
      "- Walks     1 25600342 3791.2\n",
      "- CRuns     1 25721742 3792.4\n",
      "- CRBI      1 25748684 3792.7\n",
      "- PutOuts   1 25842555 3793.6\n",
      "- AtBat     1 25910105 3794.3\n",
      "- Hits      1 26106215 3796.3\n",
      "\n",
      "Step:  AIC=3779.62\n",
      "Salary ~ AtBat + Hits + Walks + CAtBat + CRuns + CRBI + CWalks + \n",
      "    Division + PutOuts + Assists\n",
      "\n",
      "           Df Deviance    AIC\n",
      "<none>        24500402 3779.6\n",
      "- Assists   1 24814051 3781.0\n",
      "- CAtBat    1 25034558 3783.3\n",
      "- Division  1 25298875 3786.1\n",
      "- CWalks    1 25466276 3787.8\n",
      "- CRuns     1 25765484 3790.9\n",
      "- Walks     1 25790569 3791.1\n",
      "- CRBI      1 25827172 3791.5\n",
      "- PutOuts   1 26051925 3793.8\n",
      "- AtBat     1 26090181 3794.2\n",
      "- Hits      1 26216469 3795.4\n",
      "선택된 변수들: (Intercept)+AtBat+Hits+Walks+CAtBat+CRuns+CRBI+CWalks+DivisionW+PutOuts+Assists \n"
     ]
    }
   ],
   "source": [
    "# 2-3. AIC 기준 후진제거법\n",
    "\n",
    "# 모든 변수를 포함하는 모델 정의\n",
    "full_model = glm(Salary ~ ., data=Hitters)\n",
    "\n",
    "# 변수 없는 모델 정의\n",
    "null_model = glm(Salary ~ 1, data=Hitters)\n",
    "\n",
    "# stepAIC 함수를 사용하여 후진제거법 실시\n",
    "model = stepAIC(full_model, scope = list(lower=null_model, upper=full_model), direction=\"backward\")\n",
    "\n",
    "selected_vars = names(coef(model))\n",
    "cat(\"선택된 변수들:\", paste(selected_vars, collapse=\"+\"),\"\\n\")"
   ]
  },
  {
   "cell_type": "code",
   "execution_count": 17,
   "metadata": {
    "vscode": {
     "languageId": "r"
    }
   },
   "outputs": [
    {
     "data": {
      "text/plain": [
       "\n",
       "Call:\n",
       "glm(formula = Salary ~ AtBat + Hits + Walks + CAtBat + CRuns + \n",
       "    CRBI + CWalks + Division + PutOuts + Assists, data = Hitters)\n",
       "\n",
       "Coefficients:\n",
       "              Estimate Std. Error t value Pr(>|t|)    \n",
       "(Intercept)  162.53544   66.90784   2.429 0.015830 *  \n",
       "AtBat         -2.16865    0.53630  -4.044 7.00e-05 ***\n",
       "Hits           6.91802    1.64665   4.201 3.69e-05 ***\n",
       "Walks          5.77322    1.58483   3.643 0.000327 ***\n",
       "CAtBat        -0.13008    0.05550  -2.344 0.019858 *  \n",
       "CRuns          1.40825    0.39040   3.607 0.000373 ***\n",
       "CRBI           0.77431    0.20961   3.694 0.000271 ***\n",
       "CWalks        -0.83083    0.26359  -3.152 0.001818 ** \n",
       "DivisionW   -112.38006   39.21438  -2.866 0.004511 ** \n",
       "PutOuts        0.29737    0.07444   3.995 8.50e-05 ***\n",
       "Assists        0.28317    0.15766   1.796 0.073673 .  \n",
       "---\n",
       "Signif. codes:  0 '***' 0.001 '**' 0.01 '*' 0.05 '.' 0.1 ' ' 1\n",
       "\n",
       "(Dispersion parameter for gaussian family taken to be 97223.82)\n",
       "\n",
       "    Null deviance: 53319113  on 262  degrees of freedom\n",
       "Residual deviance: 24500402  on 252  degrees of freedom\n",
       "AIC: 3779.6\n",
       "\n",
       "Number of Fisher Scoring iterations: 2\n"
      ]
     },
     "metadata": {},
     "output_type": "display_data"
    },
    {
     "name": "stdout",
     "output_type": "stream",
     "text": [
      "적합된 모델은 다음과 같다.\n",
      "Salary = 162.535 - 2.169 * AtBat + 6.912 * Hits + 5.773 * Walks - 0.130 * CAtBat + 1.408 * CRuns + 0.774 * CRBI - 0.831 * CWalks - 112.380 * DivisioinW + 0.297 * PutOuts + 0.283 * Assists\n"
     ]
    }
   ],
   "source": [
    "summary(model)\n",
    "\n",
    "cat(\"적합된 모델은 다음과 같다.\\n\")\n",
    "cat(\"Salary = 162.535 - 2.169 * AtBat + 6.912 * Hits + 5.773 * Walks - 0.130 * CAtBat + 1.408 * CRuns + 0.774 * CRBI - 0.831 * CWalks - 112.380 * DivisioinW + 0.297 * PutOuts + 0.283 * Assists\\n\")"
   ]
  },
  {
   "cell_type": "code",
   "execution_count": 18,
   "metadata": {
    "vscode": {
     "languageId": "r"
    }
   },
   "outputs": [
    {
     "name": "stdout",
     "output_type": "stream",
     "text": [
      "Start:  AIC=3865.83\n",
      "Salary ~ AtBat + Hits + HmRun + Runs + RBI + Walks + Years + \n",
      "    CAtBat + CHits + CHmRun + CRuns + CRBI + CWalks + League + \n",
      "    Division + PutOuts + Assists + Errors + NewLeague\n",
      "\n",
      "            Df Deviance    AIC\n",
      "- CHmRun     1 24201837 3860.3\n",
      "- CHits      1 24204629 3860.3\n",
      "- Years      1 24208569 3860.3\n",
      "- NewLeague  1 24210484 3860.4\n",
      "- RBI        1 24216776 3860.4\n",
      "- HmRun      1 24249272 3860.8\n",
      "- Errors     1 24259023 3860.9\n",
      "- League     1 24262821 3860.9\n",
      "- Runs       1 24263990 3860.9\n",
      "- CRBI       1 24336138 3861.7\n",
      "- CAtBat     1 24360564 3862.0\n",
      "- Assists    1 24480963 3863.3\n",
      "- CRuns      1 24574707 3864.3\n",
      "<none>         24200700 3865.8\n",
      "- CWalks     1 24810108 3866.8\n",
      "- Division   1 25035190 3869.2\n",
      "- AtBat      1 25171987 3870.6\n",
      "- Hits       1 25191941 3870.8\n",
      "- Walks      1 25357305 3872.5\n",
      "- PutOuts    1 25520328 3874.2\n",
      "\n",
      "Step:  AIC=3860.27\n",
      "Salary ~ AtBat + Hits + HmRun + Runs + RBI + Walks + Years + \n",
      "    CAtBat + CHits + CRuns + CRBI + CWalks + League + Division + \n",
      "    PutOuts + Assists + Errors + NewLeague\n",
      "\n",
      "            Df Deviance    AIC\n",
      "- Years      1 24209447 3854.8\n",
      "- NewLeague  1 24212106 3854.8\n",
      "- CHits      1 24215840 3854.8\n",
      "- RBI        1 24216793 3854.9\n",
      "- HmRun      1 24254614 3855.3\n",
      "- Errors     1 24261367 3855.3\n",
      "- League     1 24265244 3855.4\n",
      "- Runs       1 24266698 3855.4\n",
      "- CAtBat     1 24376830 3856.6\n",
      "- Assists    1 24487603 3857.8\n",
      "<none>         24201837 3860.3\n",
      "- CRuns      1 24813196 3861.3\n",
      "- CWalks     1 24847464 3861.6\n",
      "- Division   1 25036474 3863.6\n",
      "- CRBI       1 25066057 3863.9\n",
      "- AtBat      1 25172699 3865.0\n",
      "- Hits       1 25227819 3865.6\n",
      "- Walks      1 25369216 3867.1\n",
      "- PutOuts    1 25527110 3868.7\n",
      "\n",
      "Step:  AIC=3854.78\n",
      "Salary ~ AtBat + Hits + HmRun + Runs + RBI + Walks + CAtBat + \n",
      "    CHits + CRuns + CRBI + CWalks + League + Division + PutOuts + \n",
      "    Assists + Errors + NewLeague\n",
      "\n",
      "            Df Deviance    AIC\n",
      "- NewLeague  1 24219377 3849.3\n",
      "- RBI        1 24225436 3849.4\n",
      "- CHits      1 24227738 3849.4\n",
      "- HmRun      1 24263591 3849.8\n",
      "- Errors     1 24266759 3849.8\n",
      "- Runs       1 24272619 3849.9\n",
      "- League     1 24275178 3849.9\n",
      "- CAtBat     1 24475652 3852.1\n",
      "- Assists    1 24502926 3852.4\n",
      "<none>         24209447 3854.8\n",
      "- CRuns      1 24855797 3856.1\n",
      "- CWalks     1 24858716 3856.2\n",
      "- Division   1 25036958 3858.0\n",
      "- CRBI       1 25081568 3858.5\n",
      "- AtBat      1 25178160 3859.5\n",
      "- Hits       1 25227825 3860.0\n",
      "- Walks      1 25373983 3861.6\n",
      "- PutOuts    1 25543972 3863.3\n",
      "\n",
      "Step:  AIC=3849.31\n",
      "Salary ~ AtBat + Hits + HmRun + Runs + RBI + Walks + CAtBat + \n",
      "    CHits + CRuns + CRBI + CWalks + League + Division + PutOuts + \n",
      "    Assists + Errors\n",
      "\n",
      "           Df Deviance    AIC\n",
      "- RBI       1 24235177 3843.9\n",
      "- CHits     1 24235237 3843.9\n",
      "- Errors    1 24273883 3844.3\n",
      "- HmRun     1 24274316 3844.3\n",
      "- Runs      1 24281671 3844.4\n",
      "- League    1 24326856 3844.9\n",
      "- CAtBat    1 24480713 3846.6\n",
      "- Assists   1 24514914 3846.9\n",
      "<none>        24219377 3849.3\n",
      "- CWalks    1 24868237 3850.7\n",
      "- CRuns     1 24880826 3850.8\n",
      "- Division  1 25044049 3852.5\n",
      "- CRBI      1 25099806 3853.1\n",
      "- AtBat     1 25218434 3854.4\n",
      "- Hits      1 25253840 3854.7\n",
      "- Walks     1 25376583 3856.0\n",
      "- PutOuts   1 25554550 3857.9\n",
      "\n",
      "Step:  AIC=3843.91\n",
      "Salary ~ AtBat + Hits + HmRun + Runs + Walks + CAtBat + CHits + \n",
      "    CRuns + CRBI + CWalks + League + Division + PutOuts + Assists + \n",
      "    Errors\n",
      "\n",
      "           Df Deviance    AIC\n",
      "- CHits     1 24248660 3838.5\n",
      "- HmRun     1 24279763 3838.8\n",
      "- Runs      1 24289234 3838.9\n",
      "- Errors    1 24292833 3839.0\n",
      "- League    1 24343821 3839.5\n",
      "- CAtBat    1 24487934 3841.1\n",
      "- Assists   1 24529851 3841.5\n",
      "<none>        24235177 3843.9\n",
      "- CWalks    1 24874868 3845.2\n",
      "- CRuns     1 24928712 3845.8\n",
      "- Division  1 25044161 3847.0\n",
      "- CRBI      1 25129008 3847.9\n",
      "- Hits      1 25270061 3849.3\n",
      "- AtBat     1 25277975 3849.4\n",
      "- Walks     1 25380191 3850.5\n",
      "- PutOuts   1 25575890 3852.5\n",
      "\n",
      "Step:  AIC=3838.49\n",
      "Salary ~ AtBat + Hits + HmRun + Runs + Walks + CAtBat + CRuns + \n",
      "    CRBI + CWalks + League + Division + PutOuts + Assists + Errors\n",
      "\n",
      "           Df Deviance    AIC\n",
      "- HmRun     1 24289148 3833.4\n",
      "- Errors    1 24300590 3833.5\n",
      "- Runs      1 24328003 3833.8\n",
      "- League    1 24363402 3834.2\n",
      "- Assists   1 24532103 3836.0\n",
      "<none>        24248660 3838.5\n",
      "- CAtBat    1 24862016 3839.5\n",
      "- Division  1 25050134 3841.5\n",
      "- CRBI      1 25151908 3842.5\n",
      "- CWalks    1 25260613 3843.7\n",
      "- Walks     1 25494824 3846.1\n",
      "- AtBat     1 25588280 3847.1\n",
      "- CRuns     1 25639469 3847.6\n",
      "- PutOuts   1 25654684 3847.7\n",
      "- Hits      1 25856650 3849.8\n",
      "\n",
      "Step:  AIC=3833.35\n",
      "Salary ~ AtBat + Hits + Runs + Walks + CAtBat + CRuns + CRBI + \n",
      "    CWalks + League + Division + PutOuts + Assists + Errors\n",
      "\n",
      "           Df Deviance    AIC\n",
      "- Errors    1 24333232 3828.3\n",
      "- Runs      1 24338215 3828.3\n",
      "- League    1 24392985 3828.9\n",
      "- Assists   1 24536150 3830.4\n",
      "<none>        24289148 3833.4\n",
      "- CAtBat    1 24941894 3834.8\n",
      "- Division  1 25084791 3836.3\n",
      "- CWalks    1 25272044 3838.2\n",
      "- Walks     1 25494971 3840.5\n",
      "- AtBat     1 25590120 3841.5\n",
      "- CRuns     1 25640348 3842.0\n",
      "- CRBI      1 25642655 3842.0\n",
      "- PutOuts   1 25718154 3842.8\n",
      "- Hits      1 25863288 3844.3\n",
      "\n",
      "Step:  AIC=3828.26\n",
      "Salary ~ AtBat + Hits + Runs + Walks + CAtBat + CRuns + CRBI + \n",
      "    CWalks + League + Division + PutOuts + Assists\n",
      "\n",
      "           Df Deviance    AIC\n",
      "- Runs      1 24387345 3823.3\n",
      "- League    1 24424501 3823.7\n",
      "- Assists   1 24553242 3825.1\n",
      "<none>        24333232 3828.3\n",
      "- CAtBat    1 24983746 3829.6\n",
      "- Division  1 25132687 3831.2\n",
      "- CWalks    1 25304493 3833.0\n",
      "- Walks     1 25572765 3835.8\n",
      "- CRBI      1 25664904 3836.7\n",
      "- CRuns     1 25694302 3837.0\n",
      "- AtBat     1 25711824 3837.2\n",
      "- PutOuts   1 25724892 3837.3\n",
      "- Hits      1 25982523 3839.9\n",
      "\n",
      "Step:  AIC=3823.27\n",
      "Salary ~ AtBat + Hits + Walks + CAtBat + CRuns + CRBI + CWalks + \n",
      "    League + Division + PutOuts + Assists\n",
      "\n",
      "           Df Deviance    AIC\n",
      "- League    1 24500402 3818.9\n",
      "- Assists   1 24668034 3820.7\n",
      "<none>        24387345 3823.3\n",
      "- CAtBat    1 24983967 3824.1\n",
      "- Division  1 25167714 3826.0\n",
      "- CWalks    1 25334032 3827.7\n",
      "- Walks     1 25600342 3830.5\n",
      "- CRuns     1 25721742 3831.7\n",
      "- CRBI      1 25748684 3832.0\n",
      "- PutOuts   1 25842555 3832.9\n",
      "- AtBat     1 25910105 3833.6\n",
      "- Hits      1 26106215 3835.6\n",
      "\n",
      "Step:  AIC=3818.91\n",
      "Salary ~ AtBat + Hits + Walks + CAtBat + CRuns + CRBI + CWalks + \n",
      "    Division + PutOuts + Assists\n",
      "\n",
      "           Df Deviance    AIC\n",
      "- Assists   1 24814051 3816.7\n",
      "<none>        24500402 3818.9\n",
      "- CAtBat    1 25034558 3819.0\n",
      "- Division  1 25298875 3821.8\n",
      "- CWalks    1 25466276 3823.5\n",
      "- CRuns     1 25765484 3826.6\n",
      "- Walks     1 25790569 3826.8\n",
      "- CRBI      1 25827172 3827.2\n",
      "- PutOuts   1 26051925 3829.5\n",
      "- AtBat     1 26090181 3829.9\n",
      "- Hits      1 26216469 3831.1\n",
      "\n",
      "Step:  AIC=3816.69\n",
      "Salary ~ AtBat + Hits + Walks + CAtBat + CRuns + CRBI + CWalks + \n",
      "    Division + PutOuts\n",
      "\n",
      "           Df Deviance    AIC\n",
      "- CAtBat    1 25159234 3814.7\n",
      "<none>        24814051 3816.7\n",
      "- Division  1 25656777 3819.9\n",
      "- CWalks    1 25671655 3820.1\n",
      "- CRuns     1 25864929 3822.0\n",
      "- CRBI      1 25878269 3822.2\n",
      "- Walks     1 26014504 3823.5\n",
      "- AtBat     1 26160032 3825.0\n",
      "- PutOuts   1 26197233 3825.4\n",
      "- Hits      1 26415433 3827.6\n",
      "\n",
      "Step:  AIC=3814.75\n",
      "Salary ~ AtBat + Hits + Walks + CRuns + CRBI + CWalks + Division + \n",
      "    PutOuts\n",
      "\n",
      "           Df Deviance    AIC\n",
      "<none>        25159234 3814.7\n",
      "- CRBI      1 25933487 3817.1\n",
      "- CRuns     1 25954217 3817.4\n",
      "- CWalks    1 26084209 3818.7\n",
      "- Division  1 26142464 3819.3\n",
      "- PutOuts   1 26519580 3823.0\n",
      "- AtBat     1 26658346 3824.4\n",
      "- Hits      1 26864405 3826.4\n",
      "- Walks     1 26932707 3827.1\n",
      "선택된 변수들: (Intercept)+AtBat+Hits+Walks+CRuns+CRBI+CWalks+DivisionW+PutOuts \n"
     ]
    }
   ],
   "source": [
    "# 2-4. BIC 기준 후진제거법\n",
    "\n",
    "n = nrow(Hitters)\n",
    "\n",
    "# stepAIC 함수를 사용하여 전진선택법 실시\n",
    "model = stepAIC(full_model, scope = list(lower=null_model, upper=full_model), direction=\"backward\", k=log(n))\n",
    "\n",
    "selected_vars = names(coef(model))\n",
    "cat(\"선택된 변수들:\", paste(selected_vars, collapse=\"+\"),\"\\n\")"
   ]
  },
  {
   "cell_type": "code",
   "execution_count": 19,
   "metadata": {
    "vscode": {
     "languageId": "r"
    }
   },
   "outputs": [
    {
     "data": {
      "text/plain": [
       "\n",
       "Call:\n",
       "glm(formula = Salary ~ AtBat + Hits + Walks + CRuns + CRBI + \n",
       "    CWalks + Division + PutOuts, data = Hitters)\n",
       "\n",
       "Coefficients:\n",
       "              Estimate Std. Error t value Pr(>|t|)    \n",
       "(Intercept)  117.15204   65.07016   1.800 0.072985 .  \n",
       "AtBat         -2.03392    0.52282  -3.890 0.000128 ***\n",
       "Hits           6.85491    1.65215   4.149 4.56e-05 ***\n",
       "Walks          6.44066    1.52212   4.231 3.25e-05 ***\n",
       "CRuns          0.70454    0.24869   2.833 0.004981 ** \n",
       "CRBI           0.52732    0.18861   2.796 0.005572 ** \n",
       "CWalks        -0.80661    0.26395  -3.056 0.002483 ** \n",
       "DivisionW   -123.77984   39.28749  -3.151 0.001824 ** \n",
       "PutOuts        0.27539    0.07431   3.706 0.000259 ***\n",
       "---\n",
       "Signif. codes:  0 '***' 0.001 '**' 0.01 '*' 0.05 '.' 0.1 ' ' 1\n",
       "\n",
       "(Dispersion parameter for gaussian family taken to be 99052.1)\n",
       "\n",
       "    Null deviance: 53319113  on 262  degrees of freedom\n",
       "Residual deviance: 25159234  on 254  degrees of freedom\n",
       "AIC: 3782.6\n",
       "\n",
       "Number of Fisher Scoring iterations: 2\n"
      ]
     },
     "metadata": {},
     "output_type": "display_data"
    },
    {
     "name": "stdout",
     "output_type": "stream",
     "text": [
      "적합된 모델은 다음과 같다.\n",
      "Salary = 117.152 - 2.034 * AtBat + 6.855 * Hits + 6.441 * Walks + 0.705 * CRuns + 0.527 * CRBI - 0.807 * CWalks - 123.780 * DivisionW + 0.275 * PutOuts\n"
     ]
    }
   ],
   "source": [
    "summary(model)\n",
    "\n",
    "cat(\"적합된 모델은 다음과 같다.\\n\")\n",
    "cat(\"Salary = 117.152 - 2.034 * AtBat + 6.855 * Hits + 6.441 * Walks + 0.705 * CRuns + 0.527 * CRBI - 0.807 * CWalks - 123.780 * DivisionW + 0.275 * PutOuts\\n\")"
   ]
  },
  {
   "cell_type": "markdown",
   "metadata": {},
   "source": [
    "PRESS, Mallow's Cp, AIC, BIC 기준 후진제거법으로 적합한 모델을 비교해 보면 다음과 같다.\n",
    "\n",
    "|변수|PRESS|Mallow's Cp|AIC|BIC|\n",
    "|:-:|:-:|:-:|:-:|:-:|\n",
    "|(Intercept)|162.535|117.152|162.535|117.152|\n",
    "|AtBat|-2.169|-2.034|-2.169|-2.034|\n",
    "|Hits|6.918|6.855|6.918|6.855|\n",
    "|HmRun|-|-|-|-|\n",
    "|Runs|-|-|-|-|\n",
    "|RBI|-|-|-|-|\n",
    "|Walks|5.773|6.441|5.773|6.441|\n",
    "|Years|-|-|-|-|\n",
    "|CAtBat|-0.130|-|-0.130|-|\n",
    "|CHits|-|-|-|-|\n",
    "|CHmRun|-|-|-|-|\n",
    "|CRuns|1.408|0.705|1.408|0.705|\n",
    "|CRBI|0.774|0.527|0.774|0.527|\n",
    "|CWalks|-0.831|-0.807|-0.831|-0.807|\n",
    "|LeagueN|-|-|-|-|\n",
    "|DivisionW|-112.380|-123.780|-112.380|-123.780|\n",
    "|PutOuts|0.297|0.275|0.297|0.275|\n",
    "|Assists|0.283|-|0.283|-|\n",
    "|Errors|-|-|-|-|\n",
    "|NewLeagueN|-|-|-|-|"
   ]
  },
  {
   "cell_type": "code",
   "execution_count": 20,
   "metadata": {
    "vscode": {
     "languageId": "r"
    }
   },
   "outputs": [
    {
     "name": "stdout",
     "output_type": "stream",
     "text": [
      "선택된 변수들: AtBat+Hits+Walks+CRuns+CRBI+CWalks+Division+PutOuts \n",
      "최종 선택된 모델의 PRESS 값은 28007593 \n"
     ]
    }
   ],
   "source": [
    "# 3-1. PRESS 기준 전체탐색법\n",
    "\n",
    "# 종속변수\n",
    "response_var = \"Salary\"\n",
    "# 독립변수 후보들\n",
    "independent_vars = setdiff(names(Hitters), c(response_var, \"Years\", \"League\", \"Errors\", \"NewLeague\"))\n",
    "\n",
    "# 최적 모델을 저장할 변수들\n",
    "best_model = NULL\n",
    "best_press = Inf\n",
    "best_vars = NULL\n",
    "\n",
    "# 가능한 모든 변수 조합에 대해 탐색\n",
    "for (k in 1:length(independent_vars)) {\n",
    "    combinations = combn(independent_vars, k, simplify = FALSE)\n",
    "    for (vars in combinations) {\n",
    "        formula = as.formula(paste(response_var, \"~\", paste(vars, collapse = \"+\")))\n",
    "        model = glm(formula, data = Hitters)\n",
    "        press = cal_press(model)\n",
    "        if (press < best_press) {\n",
    "            best_press = press\n",
    "            best_model = model\n",
    "            best_vars = vars\n",
    "        }\n",
    "    }\n",
    "}\n",
    "\n",
    "cat(\"선택된 변수들:\", paste(best_vars, collapse = \"+\"), \"\\n\")\n",
    "cat(\"최종 선택된 모델의 PRESS 값은\", best_press, \"\\n\")"
   ]
  },
  {
   "cell_type": "code",
   "execution_count": 21,
   "metadata": {
    "vscode": {
     "languageId": "r"
    }
   },
   "outputs": [
    {
     "data": {
      "text/plain": [
       "\n",
       "Call:\n",
       "glm(formula = Salary ~ AtBat + Hits + Walks + CRuns + CRBI + \n",
       "    CWalks + Division + PutOuts, data = Hitters)\n",
       "\n",
       "Coefficients:\n",
       "              Estimate Std. Error t value Pr(>|t|)    \n",
       "(Intercept)  117.15204   65.07016   1.800 0.072985 .  \n",
       "AtBat         -2.03392    0.52282  -3.890 0.000128 ***\n",
       "Hits           6.85491    1.65215   4.149 4.56e-05 ***\n",
       "Walks          6.44066    1.52212   4.231 3.25e-05 ***\n",
       "CRuns          0.70454    0.24869   2.833 0.004981 ** \n",
       "CRBI           0.52732    0.18861   2.796 0.005572 ** \n",
       "CWalks        -0.80661    0.26395  -3.056 0.002483 ** \n",
       "DivisionW   -123.77984   39.28749  -3.151 0.001824 ** \n",
       "PutOuts        0.27539    0.07431   3.706 0.000259 ***\n",
       "---\n",
       "Signif. codes:  0 '***' 0.001 '**' 0.01 '*' 0.05 '.' 0.1 ' ' 1\n",
       "\n",
       "(Dispersion parameter for gaussian family taken to be 99052.1)\n",
       "\n",
       "    Null deviance: 53319113  on 262  degrees of freedom\n",
       "Residual deviance: 25159234  on 254  degrees of freedom\n",
       "AIC: 3782.6\n",
       "\n",
       "Number of Fisher Scoring iterations: 2\n"
      ]
     },
     "metadata": {},
     "output_type": "display_data"
    },
    {
     "name": "stdout",
     "output_type": "stream",
     "text": [
      "적합된 모델은 다음과 같다.\n",
      "Salary = 117.152 - 20.34 * AtBat + 6.855 * Hits + 6.441 * Walks + 0.705 * CRuns + 0.527 * CRBI - 0.807 * CWalks - 123.780 * DivisionW + 0.275 * PutOuts\n"
     ]
    }
   ],
   "source": [
    "# 최적모델식\n",
    "model = glm(Salary ~ AtBat + Hits + Walks + CRuns + CRBI + CWalks + Division + PutOuts, data=Hitters)\n",
    "summary(model)\n",
    "\n",
    "cat(\"적합된 모델은 다음과 같다.\\n\")\n",
    "cat(\"Salary = 117.152 - 2.034 * AtBat + 6.855 * Hits + 6.441 * Walks + 0.705 * CRuns + 0.527 * CRBI - 0.807 * CWalks - 123.780 * DivisionW + 0.275 * PutOuts\\n\")"
   ]
  },
  {
   "cell_type": "code",
   "execution_count": 22,
   "metadata": {
    "vscode": {
     "languageId": "r"
    }
   },
   "outputs": [
    {
     "name": "stdout",
     "output_type": "stream",
     "text": [
      "[1] 104.281319  50.723090  38.693127  27.856220  21.613011  14.023870  13.128474\n",
      "[8]   7.400719\n",
      "Cp 값이 가장 작은 것은 8 번째 단계이다.\n",
      "\n",
      "Mallow's Cp 기준으로 선택된 변수들:\n",
      "[1] \"(Intercept)\" \"AtBat\"       \"Hits\"        \"Walks\"       \"CHmRun\"     \n",
      "[6] \"CRuns\"       \"CWalks\"      \"DivisionW\"   \"PutOuts\"    \n"
     ]
    }
   ],
   "source": [
    "# 3-2. Mallow's Cp 기준 전체탐색법\n",
    "\n",
    "# 전체탐색법을 실시하여 모든 가능한 조합을 평가\n",
    "total = regsubsets(Salary ~ ., data=Hitters, method=\"exhaustive\")\n",
    "\n",
    "# 모델 요약\n",
    "sum_total = summary(total)\n",
    "\n",
    "# Mallow's Cp 값들 확인\n",
    "cp_values = sum_total$cp\n",
    "print(cp_values)\n",
    "\n",
    "# Cp 값이 가장 작은 것은 어느 단계인지 확인\n",
    "min_cp_index = which.min(cp_values)\n",
    "cat(\"Cp 값이 가장 작은 것은\", min_cp_index, \"번째 단계이다.\\n\")\n",
    "\n",
    "# Mallow's Cp 기준으로 최적모델 선택\n",
    "args = sum_total$which[min_cp_index, ]\n",
    "\n",
    "# 최적모델의 변수 확인\n",
    "cat(\"\\nMallow's Cp 기준으로 선택된 변수들:\\n\")\n",
    "selected_vars = names(args[args])\n",
    "print(selected_vars)"
   ]
  },
  {
   "cell_type": "code",
   "execution_count": 23,
   "metadata": {
    "vscode": {
     "languageId": "r"
    }
   },
   "outputs": [
    {
     "data": {
      "text/plain": [
       "\n",
       "Call:\n",
       "glm(formula = Salary ~ AtBat + Hits + Walks + CHmRun + CRuns + \n",
       "    CWalks + Division + PutOuts, data = Hitters)\n",
       "\n",
       "Coefficients:\n",
       "              Estimate Std. Error t value Pr(>|t|)    \n",
       "(Intercept)  130.96916   65.52184   1.999 0.046689 *  \n",
       "AtBat         -2.17319    0.52677  -4.126 5.02e-05 ***\n",
       "Hits           7.35829    1.66458   4.421 1.46e-05 ***\n",
       "Walks          6.00376    1.51533   3.962 9.66e-05 ***\n",
       "CHmRun         1.23397    0.43495   2.837 0.004920 ** \n",
       "CRuns          0.96513    0.20513   4.705 4.17e-06 ***\n",
       "CWalks        -0.83238    0.26503  -3.141 0.001885 ** \n",
       "DivisionW   -117.96578   39.18081  -3.011 0.002868 ** \n",
       "PutOuts        0.29084    0.07375   3.944 0.000104 ***\n",
       "---\n",
       "Signif. codes:  0 '***' 0.001 '**' 0.01 '*' 0.05 '.' 0.1 ' ' 1\n",
       "\n",
       "(Dispersion parameter for gaussian family taken to be 98964.29)\n",
       "\n",
       "    Null deviance: 53319113  on 262  degrees of freedom\n",
       "Residual deviance: 25136930  on 254  degrees of freedom\n",
       "AIC: 3782.4\n",
       "\n",
       "Number of Fisher Scoring iterations: 2\n"
      ]
     },
     "metadata": {},
     "output_type": "display_data"
    },
    {
     "name": "stdout",
     "output_type": "stream",
     "text": [
      "적합된 모델은 다음과 같다.\n",
      "Salary = 130.969 - 2.173 * AtBat + 7.358 * Hits + 6.004 * Walks + 1.234 * CHmRun + 0.965 * CRuns - 0.832 * CWalks - 117.966 * DisivisonW + 0.291 * Putouts\n"
     ]
    }
   ],
   "source": [
    "# 최적모델식\n",
    "model = glm(Salary ~ AtBat + Hits + Walks + CHmRun + CRuns + CWalks + Division + PutOuts, data=Hitters)\n",
    "summary(model)\n",
    "\n",
    "cat(\"적합된 모델은 다음과 같다.\\n\")\n",
    "cat(\"Salary = 130.969 - 2.173 * AtBat + 7.358 * Hits + 6.004 * Walks + 1.234 * CHmRun + 0.965 * CRuns - 0.832 * CWalks - 117.966 * DisivisonW + 0.291 * Putouts\\n\")"
   ]
  },
  {
   "cell_type": "code",
   "execution_count": 40,
   "metadata": {
    "vscode": {
     "languageId": "r"
    }
   },
   "outputs": [
    {
     "name": "stdout",
     "output_type": "stream",
     "text": [
      "선택된 변수들: AtBat+Hits+HmRun+Years+CHits+CRBI+CWalks+League+PutOuts+Assists+Errors \n"
     ]
    }
   ],
   "source": [
    "# 전체탐색법 실시\n",
    "nvmax_value = ncol(Hitters) - 1\n",
    "total = regsubsets(Salary ~ ., data=Hitters, nvmax=nvmax_value, method=\"exhaustive\")\n",
    "\n",
    "# 모델의 요약 정보 출력\n",
    "sum_total = summary(total)\n",
    "\n",
    "# AIC 값을 저장할 벡터 초기화\n",
    "aic_values = numeric(length = nvmax_value)\n",
    "\n",
    "# 각 모델에 대해 AIC 계산\n",
    "for (i in 1:nvmax_value) {\n",
    "  # 선택된 변수 추출\n",
    "  selected_vars = names(which(sum_total$which[i, ]))\n",
    "  # DivisionW를 Division으로 변경\n",
    "  selected_vars = gsub(\"DivisionW\", \"Division\", selected_vars)\n",
    "  selected_vars = gsub(\"LeagueN\", \"League\", selected_vars)\n",
    "  # 회귀 모델 적합\n",
    "  formula = as.formula(paste(\"Salary ~\", paste(selected_vars[-1], collapse = \"+\")))\n",
    "  model = glm(formula, data = Hitters)\n",
    "  # AIC 값 계산 및 저장\n",
    "  aic_values[i] = AIC(model)\n",
    "}\n",
    "\n",
    "# AIC 값이 가장 작은 모델 선택\n",
    "best_model_index = which.min(aic_values)\n",
    "best_model_vars = names(Hitters)[sum_total$which[best_model_index, ]]\n",
    "\n",
    "# 선택된 변수들 출력\n",
    "cat(\"선택된 변수들:\", paste(best_model_vars, collapse = \"+\"), \"\\n\")"
   ]
  },
  {
   "cell_type": "code",
   "execution_count": 44,
   "metadata": {
    "vscode": {
     "languageId": "r"
    }
   },
   "outputs": [
    {
     "data": {
      "text/plain": [
       "\n",
       "Call:\n",
       "glm(formula = Salary ~ AtBat + Hits + HmRun + Years + CHits + \n",
       "    CRBI + CWalks + League + PutOuts + Assists + Errors, data = Hitters)\n",
       "\n",
       "Coefficients:\n",
       "            Estimate Std. Error t value Pr(>|t|)    \n",
       "(Intercept) 118.4620    90.9960   1.302 0.194166    \n",
       "AtBat        -1.7184     0.5672  -3.029 0.002707 ** \n",
       "Hits          7.6131     1.7773   4.284 2.62e-05 ***\n",
       "HmRun         1.8985     3.6142   0.525 0.599841    \n",
       "Years       -21.1721    11.0916  -1.909 0.057423 .  \n",
       "CHits         0.1206     0.1362   0.885 0.376753    \n",
       "CRBI          0.6414     0.2429   2.641 0.008779 ** \n",
       "CWalks        0.1277     0.1862   0.685 0.493681    \n",
       "LeagueN      38.2506    42.8076   0.894 0.372419    \n",
       "PutOuts       0.2888     0.0792   3.647 0.000323 ***\n",
       "Assists       0.2429     0.2248   1.081 0.280941    \n",
       "Errors       -4.6801     4.5588  -1.027 0.305593    \n",
       "---\n",
       "Signif. codes:  0 '***' 0.001 '**' 0.01 '*' 0.05 '.' 0.1 ' ' 1\n",
       "\n",
       "(Dispersion parameter for gaussian family taken to be 109809.2)\n",
       "\n",
       "    Null deviance: 53319113  on 262  degrees of freedom\n",
       "Residual deviance: 27562120  on 251  degrees of freedom\n",
       "AIC: 3812.6\n",
       "\n",
       "Number of Fisher Scoring iterations: 2\n"
      ]
     },
     "metadata": {},
     "output_type": "display_data"
    },
    {
     "name": "stdout",
     "output_type": "stream",
     "text": [
      "적합된 모델은 다음과 같다.\n",
      "Salary = 118.462 - 1.718 * AtBat + 7.613 * Hits + 1.899 * HmRun - 21.172 * Years + 0.121 * CHits + 0.641 * CRBI + 0.128 * CWalks + 38.251 * League + 0.289 * PutOuts + 0.243 * Assists - 4.680 * Errors\n"
     ]
    }
   ],
   "source": [
    "# 최적모델식\n",
    "model = glm(Salary ~ AtBat + Hits + HmRun + Years + CHits + CRBI + CWalks + League + PutOuts + Assists + Errors, data=Hitters)\n",
    "summary(model)\n",
    "\n",
    "cat(\"적합된 모델은 다음과 같다.\\n\")\n",
    "cat(\"Salary = 118.462 - 1.718 * AtBat + 7.613 * Hits + 1.899 * HmRun - 21.172 * Years + 0.121 * CHits + 0.641 * CRBI + 0.128 * CWalks + 38.251 * League + 0.289 * PutOuts + 0.243 * Assists - 4.680 * Errors\\n\")"
   ]
  },
  {
   "cell_type": "code",
   "execution_count": 48,
   "metadata": {
    "vscode": {
     "languageId": "r"
    }
   },
   "outputs": [
    {
     "data": {
      "text/html": [
       "<style>\n",
       ".list-inline {list-style: none; margin:0; padding: 0}\n",
       ".list-inline>li {display: inline-block}\n",
       ".list-inline>li:not(:last-child)::after {content: \"\\00b7\"; padding: 0 .5ex}\n",
       "</style>\n",
       "<ol class=list-inline><li>3874.85576950277</li><li>3836.77592070397</li><li>3830.07521042227</li><li>3823.89321778181</li><li>3821.63070197436</li><li>3817.78523183038</li><li>3820.44619960748</li><li>3818.08688935381</li><li>3820.25898037535</li><li>3822.48562339887</li><li>3826.84136182685</li><li>3831.82930116443</li><li>3836.92454569871</li><li>3842.05794070937</li><li>3847.48381758457</li><li>3852.88445547324</li><li>3858.34874901272</li><li>3863.83822514333</li><li>3869.39801440073</li></ol>\n"
      ],
      "text/latex": [
       "\\begin{enumerate*}\n",
       "\\item 3874.85576950277\n",
       "\\item 3836.77592070397\n",
       "\\item 3830.07521042227\n",
       "\\item 3823.89321778181\n",
       "\\item 3821.63070197436\n",
       "\\item 3817.78523183038\n",
       "\\item 3820.44619960748\n",
       "\\item 3818.08688935381\n",
       "\\item 3820.25898037535\n",
       "\\item 3822.48562339887\n",
       "\\item 3826.84136182685\n",
       "\\item 3831.82930116443\n",
       "\\item 3836.92454569871\n",
       "\\item 3842.05794070937\n",
       "\\item 3847.48381758457\n",
       "\\item 3852.88445547324\n",
       "\\item 3858.34874901272\n",
       "\\item 3863.83822514333\n",
       "\\item 3869.39801440073\n",
       "\\end{enumerate*}\n"
      ],
      "text/markdown": [
       "1. 3874.85576950277\n",
       "2. 3836.77592070397\n",
       "3. 3830.07521042227\n",
       "4. 3823.89321778181\n",
       "5. 3821.63070197436\n",
       "6. 3817.78523183038\n",
       "7. 3820.44619960748\n",
       "8. 3818.08688935381\n",
       "9. 3820.25898037535\n",
       "10. 3822.48562339887\n",
       "11. 3826.84136182685\n",
       "12. 3831.82930116443\n",
       "13. 3836.92454569871\n",
       "14. 3842.05794070937\n",
       "15. 3847.48381758457\n",
       "16. 3852.88445547324\n",
       "17. 3858.34874901272\n",
       "18. 3863.83822514333\n",
       "19. 3869.39801440073\n",
       "\n",
       "\n"
      ],
      "text/plain": [
       " [1] 3874.856 3836.776 3830.075 3823.893 3821.631 3817.785 3820.446 3818.087\n",
       " [9] 3820.259 3822.486 3826.841 3831.829 3836.925 3842.058 3847.484 3852.884\n",
       "[17] 3858.349 3863.838 3869.398"
      ]
     },
     "metadata": {},
     "output_type": "display_data"
    },
    {
     "data": {
      "text/html": [
       "6"
      ],
      "text/latex": [
       "6"
      ],
      "text/markdown": [
       "6"
      ],
      "text/plain": [
       "[1] 6"
      ]
     },
     "metadata": {},
     "output_type": "display_data"
    },
    {
     "name": "stdout",
     "output_type": "stream",
     "text": [
      "선택된 변수들: AtBat+Hits+HmRun+Years+CWalks+PutOuts+Assists \n"
     ]
    }
   ],
   "source": [
    "# 전체탐색법 실시\n",
    "nvmax_value = ncol(Hitters) - 1\n",
    "total = regsubsets(Salary ~ ., data=Hitters, nvmax=nvmax_value, method=\"exhaustive\")\n",
    "\n",
    "# 모델의 요약 정보 출력\n",
    "sum_total = summary(total)\n",
    "\n",
    "# BIC 값을 저장할 벡터 초기화\n",
    "bic_values = numeric(length = nvmax_value)\n",
    "\n",
    "# 각 모델에 대해 BIC 계산\n",
    "for (i in 1:nvmax_value) {\n",
    "  # 선택된 변수 추출\n",
    "  selected_vars = names(which(sum_total$which[i, ]))\n",
    "  # DivisionW를 Division으로 변경\n",
    "  selected_vars = gsub(\"DivisionW\", \"Division\", selected_vars)\n",
    "  selected_vars = gsub(\"LeagueN\", \"League\", selected_vars)\n",
    "  # 회귀 모델 적합\n",
    "  formula = as.formula(paste(\"Salary ~\", paste(selected_vars[-1], collapse = \"+\")))\n",
    "  model = glm(formula, data = Hitters)\n",
    "  # BIC 값 계산 및 저장\n",
    "  bic_values[i] = AIC(model, k = log(nrow(Hitters)))\n",
    "}\n",
    "\n",
    "bic_values\n",
    "\n",
    "# BIC 값이 가장 작은 모델 선택\n",
    "best_model_index = which.min(bic_values)\n",
    "best_model_index\n",
    "best_model_vars = names(Hitters)[sum_total$which[best_model_index, ]]\n",
    "\n",
    "# 선택된 변수들 출력\n",
    "cat(\"선택된 변수들:\", paste(best_model_vars, collapse = \"+\"), \"\\n\")"
   ]
  },
  {
   "cell_type": "code",
   "execution_count": 47,
   "metadata": {
    "vscode": {
     "languageId": "r"
    }
   },
   "outputs": [
    {
     "data": {
      "text/plain": [
       "\n",
       "Call:\n",
       "glm(formula = Salary ~ AtBat + Hits + HmRun + Years + CWalks + \n",
       "    PutOuts + Assists, data = Hitters)\n",
       "\n",
       "Coefficients:\n",
       "             Estimate Std. Error t value Pr(>|t|)    \n",
       "(Intercept) -21.21274   77.87162  -0.272 0.785530    \n",
       "AtBat        -1.78159    0.58306  -3.056 0.002485 ** \n",
       "Hits          8.49127    1.78231   4.764 3.19e-06 ***\n",
       "HmRun         4.04673    3.30250   1.225 0.221573    \n",
       "Years         7.62578    8.27244   0.922 0.357489    \n",
       "CWalks        0.62751    0.15278   4.107 5.39e-05 ***\n",
       "PutOuts       0.30198    0.08087   3.734 0.000232 ***\n",
       "Assists       0.05699    0.17704   0.322 0.747781    \n",
       "---\n",
       "Signif. codes:  0 '***' 0.001 '**' 0.01 '*' 0.05 '.' 0.1 ' ' 1\n",
       "\n",
       "(Dispersion parameter for gaussian family taken to be 117293.2)\n",
       "\n",
       "    Null deviance: 53319113  on 262  degrees of freedom\n",
       "Residual deviance: 29909768  on 255  degrees of freedom\n",
       "AIC: 3826.1\n",
       "\n",
       "Number of Fisher Scoring iterations: 2\n"
      ]
     },
     "metadata": {},
     "output_type": "display_data"
    },
    {
     "name": "stdout",
     "output_type": "stream",
     "text": [
      "적합된 모델은 다음과 같다.\n",
      "Salary = -21.213 - 1.782 * AtBat + 8.491 * Hits + 4.047 * HmRun + 7.626 * Years + 0.628 * CWalks + 0.302 * PutOuts + 0.057 * Assists\n"
     ]
    }
   ],
   "source": [
    "# 최적모델식\n",
    "model = glm(Salary ~ AtBat + Hits + HmRun + Years + CWalks + PutOuts + Assists, data=Hitters)\n",
    "summary(model)\n",
    "\n",
    "cat(\"적합된 모델은 다음과 같다.\\n\")\n",
    "cat(\"Salary = -21.213 - 1.782 * AtBat + 8.491 * Hits + 4.047 * HmRun + 7.626 * Years + 0.628 * CWalks + 0.302 * PutOuts + 0.057 * Assists\\n\")"
   ]
  },
  {
   "cell_type": "markdown",
   "metadata": {},
   "source": [
    "PRESS, Mallow's Cp, AIC, BIC 기준 전체탐색법으로 적합한 모델을 비교해 보면 다음과 같다.\n",
    "\n",
    "|변수|PRESS|Mallow's Cp|AIC|BIC|\n",
    "|:-:|:-:|:-:|:-:|:-:|\n",
    "|(Intercept)|117.152|130.969|118.462|-21.213|\n",
    "|AtBat|-2.034|-2.173|-1.718|-1.782|\n",
    "|Hits|6.855|7.358|7.613|8.491|\n",
    "|HmRun|-|-|1.899|4.047|\n",
    "|Runs|-|-|-|-|\n",
    "|RBI|-|-|-|-|\n",
    "|Walks|6.441|6.004|-|-|\n",
    "|Years|-|-|-21.172|7.626|\n",
    "|CAtBat|-|-|-|-|\n",
    "|CHits|-|-|0.121|-|\n",
    "|CHmRun|-|1.234|-|-|\n",
    "|CRuns|0.705|0.965|-|-|\n",
    "|CRBI|0.527|-|0.641|-|\n",
    "|CWalks|-0.807|-0.832|0.128|0.628|\n",
    "|LeagueN|-|-|38.251|-|\n",
    "|DivisionW|-123.780|-117.966|-|-|\n",
    "|PutOuts|0.275|0.291|0.289|0.302|\n",
    "|Assists|-|-|0.243|0.057|\n",
    "|Errors|-|-|-4.680|-|\n",
    "|NewLeagueN|-|-|-|-|"
   ]
  },
  {
   "cell_type": "markdown",
   "metadata": {},
   "source": [
    "| 변수 | Fw_Press | Fw_Mallows_Cp | Fw_AIC | Fw_BIC | Bw_Press | Bw_Mallows_Cp | Bw_AIC | Bw_BIC | Ex_Press | Ex_Mallows_Cp | Ex_AIC | Ex_BIC |\n",
    "|:-:|:-:|:-:|:-:|:-:|:-:|:-:|:-:|:-:|:-:|:-:|:-:|:-:|\n",
    "| (Intercept) | 91.512 | 117.152 | 162.535 | 91.512 | 162.535 | 117.152 | 162.535 | 117.152 | 117.152 | 130.969 | 118.462 | -21.213 |\n",
    "| AtBat | -1.869 | -2.034 | -2.169 | -1.869 | -2.169 | -2.034 | -2.169 | -2.034 | -2.034 | -2.173 | -1.718 | -1.782 |\n",
    "| Hits | 7.604 | 6.855 | 6.912 | 7.604 | 6.918 | 6.855 | 6.918 | 6.855 | 6.855 | 7.358 | 7.613 | 8.491 |\n",
    "| HmRun | - | - | - | - | - | - | - | - | - | - | 1.899 | 4.047 |\n",
    "| Runs | - | - | - | - | - | - | - | - | - | - | - | - |\n",
    "| RBI | - | - | - | - | - | - | - | - | - | - | - | - |\n",
    "| Walks | 3.698 | 6.441 | 5.773 | 3.698 | 5.773 | 6.441 | 5.773 | 6.441 | 6.441 | 6.004 | - | - |\n",
    "| Years | - | - | - | - | - | - | - | - | - | - | -21.172 | 7.626 |\n",
    "| CAtBat | - | - | -0.130 | - | -0.130 | - | -0.130 | - | - | - | - | - |\n",
    "| CHits | - | - | - | - | - | - | - | - | - | - | 0.121 | - |\n",
    "| CHmRun | - | - | - | - | - | - | - | - | - | 1.234 | - | - |\n",
    "| CRuns | - | 0.705 | 1.408 | - | 1.408 | 0.705 | 1.408 | 0.705 | 0.705 | 0.965 | - | - |\n",
    "| CRBI | 0.643 | 0.527 | 0.774 | 0.643 | 0.774 | 0.527 | 0.774 | 0.527 | 0.527 | - | 0.641 | - |\n",
    "| CWalks | - | -0.807 | -0.831 | - | -0.831 | -0.807 | -0.831 | -0.807 | -0.807 | -0.832 | 0.128 | 0.628 |\n",
    "| LeagueN | - | - | - | - | - | - | - | - | - | - | 38.251 | - |\n",
    "| DivisionW | -122.952 | -123.780 | -112.380 | -122.952 | -112.380 | -123.780 | -112.380 | -123.780 | -123.780 | -117.966 | - | - |\n",
    "| PutOuts | 0.264 | 0.275 | 0.297 | 0.264 | 0.297 | 0.275 | 0.297 | 0.275 | 0.275 | 0.291 | 0.289 | 0.302 |\n",
    "| Assists | - | - | 0.283 | - | 0.283 | - | 0.283 | - | - | - | 0.243 | 0.057 |\n",
    "| Errors | - | - | - | - | - | - | - | - | - | - | -4.680 | - |\n",
    "| NewLeagueN | - | - | - | - | - | - | - | - | - | - | - | - |\n"
   ]
  },
  {
   "cell_type": "code",
   "execution_count": 49,
   "metadata": {
    "vscode": {
     "languageId": "r"
    }
   },
   "outputs": [
    {
     "data": {
      "text/html": [
       "<table class=\"dataframe\">\n",
       "<caption>A data.frame: 3 × 5</caption>\n",
       "<thead>\n",
       "\t<tr><th scope=col>method</th><th scope=col>PRESS</th><th scope=col>Cp</th><th scope=col>AIC</th><th scope=col>BIC</th></tr>\n",
       "\t<tr><th scope=col>&lt;chr&gt;</th><th scope=col>&lt;dbl&gt;</th><th scope=col>&lt;dbl&gt;</th><th scope=col>&lt;dbl&gt;</th><th scope=col>&lt;dbl&gt;</th></tr>\n",
       "</thead>\n",
       "<tbody>\n",
       "\t<tr><td>forward   </td><td>28389013</td><td>7.624674</td><td>3779.6</td><td>3814.21</td></tr>\n",
       "\t<tr><td>backward  </td><td>28143339</td><td>7.624674</td><td>3779.6</td><td>3814.75</td></tr>\n",
       "\t<tr><td>exhaustive</td><td>28007593</td><td>7.400719</td><td>3812.6</td><td>3817.79</td></tr>\n",
       "</tbody>\n",
       "</table>\n"
      ],
      "text/latex": [
       "A data.frame: 3 × 5\n",
       "\\begin{tabular}{lllll}\n",
       " method & PRESS & Cp & AIC & BIC\\\\\n",
       " <chr> & <dbl> & <dbl> & <dbl> & <dbl>\\\\\n",
       "\\hline\n",
       "\t forward    & 28389013 & 7.624674 & 3779.6 & 3814.21\\\\\n",
       "\t backward   & 28143339 & 7.624674 & 3779.6 & 3814.75\\\\\n",
       "\t exhaustive & 28007593 & 7.400719 & 3812.6 & 3817.79\\\\\n",
       "\\end{tabular}\n"
      ],
      "text/markdown": [
       "\n",
       "A data.frame: 3 × 5\n",
       "\n",
       "| method &lt;chr&gt; | PRESS &lt;dbl&gt; | Cp &lt;dbl&gt; | AIC &lt;dbl&gt; | BIC &lt;dbl&gt; |\n",
       "|---|---|---|---|---|\n",
       "| forward    | 28389013 | 7.624674 | 3779.6 | 3814.21 |\n",
       "| backward   | 28143339 | 7.624674 | 3779.6 | 3814.75 |\n",
       "| exhaustive | 28007593 | 7.400719 | 3812.6 | 3817.79 |\n",
       "\n"
      ],
      "text/plain": [
       "  method     PRESS    Cp       AIC    BIC    \n",
       "1 forward    28389013 7.624674 3779.6 3814.21\n",
       "2 backward   28143339 7.624674 3779.6 3814.75\n",
       "3 exhaustive 28007593 7.400719 3812.6 3817.79"
      ]
     },
     "metadata": {},
     "output_type": "display_data"
    }
   ],
   "source": [
    "method = c(\"forward\", \"backward\", \"exhaustive\")\n",
    "PRESS = c(28389013, 28143339, 28007593)\n",
    "Cp = c(7.624674, 7.624674, 7.400719)\n",
    "AIC = c(3779.6, 3779.6, 3812.6)\n",
    "BIC = c(3814.21, 3814.75, 3817.79)\n",
    "\n",
    "result_value = data.frame(method, PRESS, Cp, AIC, BIC)\n",
    "result_value"
   ]
  },
  {
   "cell_type": "markdown",
   "metadata": {},
   "source": [
    "전체 요약표를 보면 12개의 적합모델에서 절반 이상 선택된 변수는 AtBat, Hits, Walks, CRuns, CRBI, CWalks, Division, PutOuts 이다.\n",
    "\n",
    "이 변수들은 선택한 모델은 Mallow's Cp 기준 전진선택법과 후진제거법, BIC 기준 후진제거법, PRESS 기준 전체탐색법이다.\n",
    "즉, 12개의 적합식 중에 4개 모델이 같은 선택을 하였다.\n",
    "\n",
    "이를 고려하면 변수선택의 결과는\n",
    " Salary ~ AtBat + Hits + Walks + CRuns + CRBI + CWalks + Division + PutOuts 이다.\n",
    "\n",
    "적합된 모델은 다음과 같다.  \n",
    " Salary = 117.152 - 2.034 * AtBat + 6.855 * Hits + 6.441 * Walks + 0.705 * CRuns + 0.527 * CRBI - 0.807 * CWalks - 123.780 * DivisionW + 0.275 * PutOuts"
   ]
  },
  {
   "cell_type": "markdown",
   "metadata": {},
   "source": [
    "2. 1번 문제에서 선택한 모형이 (1)정규성을 따르는지 (2)오차항의 등분산성 가정을 만족하는지 검증해보아라. 또한 (3)이상점(outlier)이나 영향점(influential data)이 있는지 조사하여 보아라."
   ]
  },
  {
   "cell_type": "code",
   "execution_count": 50,
   "metadata": {
    "vscode": {
     "languageId": "r"
    }
   },
   "outputs": [
    {
     "name": "stderr",
     "output_type": "stream",
     "text": [
      "Warning message:\n",
      "\"패키지 'car'는 R 버전 4.3.3에서 작성되었습니다\"\n",
      "필요한 패키지를 로딩중입니다: carData\n",
      "\n",
      "Warning message:\n",
      "\"패키지 'carData'는 R 버전 4.3.3에서 작성되었습니다\"\n",
      "Warning message:\n",
      "\"패키지 'ggplot2'는 R 버전 4.3.3에서 작성되었습니다\"\n"
     ]
    },
    {
     "name": "stdout",
     "output_type": "stream",
     "text": [
      "\n",
      "\tShapiro-Wilk normality test\n",
      "\n",
      "data:  residuals\n",
      "W = 0.91571, p-value = 5.075e-11\n",
      "\n"
     ]
    },
    {
     "data": {
      "image/png": "[encoded data removed]",
      "text/plain": [
       "Plot with title \"Normal Q-Q Plot\""
      ]
     },
     "metadata": {
      "image/png": {
       "height": 420,
       "width": 420
      }
     },
     "output_type": "display_data"
    },
    {
     "data": {
      "image/png": "[encoded data removed]",
      "text/plain": [
       "Plot with title \"Histogram of Residuals\""
      ]
     },
     "metadata": {
      "image/png": {
       "height": 420,
       "width": 420
      }
     },
     "output_type": "display_data"
    },
    {
     "data": {
      "image/png": "[encoded data removed]",
      "text/plain": [
       "plot without title"
      ]
     },
     "metadata": {
      "image/png": {
       "height": 420,
       "width": 420
      }
     },
     "output_type": "display_data"
    },
    {
     "name": "stdout",
     "output_type": "stream",
     "text": [
      "           Test stat Pr(>|Test stat|)    \n",
      "AtBat         3.4243        0.0007190 ***\n",
      "Hits          3.2455        0.0013305 ** \n",
      "Walks         3.6298        0.0003432 ***\n",
      "CRuns        -3.9938        8.527e-05 ***\n",
      "CRBI         -4.0563        6.646e-05 ***\n",
      "CWalks       -4.4741        1.160e-05 ***\n",
      "Division                                 \n",
      "PutOuts      -0.8255        0.4098568    \n",
      "Tukey test    3.2336        0.0012222 ** \n",
      "---\n",
      "Signif. codes:  0 '***' 0.001 '**' 0.01 '*' 0.05 '.' 0.1 ' ' 1\n"
     ]
    },
    {
     "data": {
      "image/png": "[encoded data removed]",
      "text/plain": [
       "plot without title"
      ]
     },
     "metadata": {
      "image/png": {
       "height": 420,
       "width": 420
      }
     },
     "output_type": "display_data"
    }
   ],
   "source": [
    "# 필요한 패키지 로드\n",
    "library(car)  # for residualPlots\n",
    "library(ggplot2)  # for q-q plot\n",
    "\n",
    "\n",
    "# 최종 적합식 모델 생성\n",
    "final_model = lm(Salary ~ AtBat + Hits + Walks + CRuns + CRBI + CWalks + Division + PutOuts, data = Hitters)\n",
    "\n",
    "# 잔차 추출\n",
    "residuals = residuals(final_model)\n",
    "\n",
    "# Q-Q 플롯 생성\n",
    "qqnorm(residuals)\n",
    "qqline(residuals, col = \"red\")\n",
    "\n",
    "# Shapiro-Wilk 테스트\n",
    "shapiro_test = shapiro.test(residuals)\n",
    "print(shapiro_test)\n",
    "\n",
    "# 추가적으로 잔차의 정규성을 위한 히스토그램\n",
    "hist(residuals, breaks = 20, main = \"Histogram of Residuals\", xlab = \"Residuals\", ylab = \"Frequency\")\n",
    "\n",
    "# 추가적으로 잔차의 정규성을 위한 Q-Q 플롯 (ggplot2 사용)\n",
    "ggplot(data.frame(residuals), aes(sample = residuals)) +\n",
    "  stat_qq() +\n",
    "  stat_qq_line(col = \"red\") +\n",
    "  ggtitle(\"Q-Q Plot of Residuals\")\n",
    "\n",
    "# 추가적으로 잔차 플롯 (car 패키지 사용)\n",
    "residualPlots(final_model)\n"
   ]
  },
  {
   "cell_type": "markdown",
   "metadata": {},
   "source": [
    "샤피로-윌크 테스트 결과와 잔차의 Q-Q 플롯 그래프를 보면 정규성을 충족하는 것으로 판단된다."
   ]
  },
  {
   "cell_type": "code",
   "execution_count": 53,
   "metadata": {
    "vscode": {
     "languageId": "r"
    }
   },
   "outputs": [
    {
     "name": "stdout",
     "output_type": "stream",
     "text": [
      "\n",
      "\tstudentized Breusch-Pagan test\n",
      "\n",
      "data:  final_model\n",
      "BP = 12.03, df = 8, p-value = 0.1499\n",
      "\n"
     ]
    },
    {
     "data": {
      "image/png": "[encoded data removed]",
      "text/plain": [
       "Plot with title \"Residuals vs Fitted Values\""
      ]
     },
     "metadata": {
      "image/png": {
       "height": 420,
       "width": 420
      }
     },
     "output_type": "display_data"
    },
    {
     "name": "stdout",
     "output_type": "stream",
     "text": [
      "Non-constant Variance Score Test \n",
      "Variance formula: ~ fitted.values \n",
      "Chisquare = 28.88059, Df = 1, p = 7.6981e-08\n"
     ]
    },
    {
     "data": {
      "image/png": "[encoded data removed]",
      "text/plain": [
       "plot without title"
      ]
     },
     "metadata": {
      "image/png": {
       "height": 420,
       "width": 420
      }
     },
     "output_type": "display_data"
    }
   ],
   "source": [
    "# 필요한 패키지 로드\n",
    "library(lmtest)\n",
    "\n",
    "# 최종 적합식 모델 생성\n",
    "final_model = lm(Salary ~ AtBat + Hits + Walks + CRuns + CRBI + CWalks + Division + PutOuts, data = Hitters)\n",
    "\n",
    "# 잔차 추출\n",
    "residuals = residuals(final_model)\n",
    "fitted_values = fitted(final_model)\n",
    "\n",
    "# 잔차 플롯 생성\n",
    "plot(fitted_values, residuals,\n",
    "     xlab = \"Fitted Values\",\n",
    "     ylab = \"Residuals\",\n",
    "     main = \"Residuals vs Fitted Values\")\n",
    "abline(h = 0, col = \"red\")\n",
    "\n",
    "# Breusch-Pagan 테스트\n",
    "bp_test = bptest(final_model)\n",
    "print(bp_test)\n",
    "\n",
    "# 추가적으로 ggplot2를 사용하여 잔차 플롯 생성\n",
    "ggplot(data.frame(fitted_values, residuals), aes(x = fitted_values, y = residuals)) +\n",
    "  geom_point() +\n",
    "  geom_hline(yintercept = 0, col = \"red\") +\n",
    "  xlab(\"Fitted Values\") +\n",
    "  ylab(\"Residuals\") +\n",
    "  ggtitle(\"Residuals vs Fitted Values\")\n",
    "\n",
    "# 추가적으로 car 패키지의 ncvTest (Non-constant Variance Test) 사용\n",
    "ncv_test = ncvTest(final_model)\n",
    "print(ncv_test)\n"
   ]
  },
  {
   "cell_type": "markdown",
   "metadata": {
    "vscode": {
     "languageId": "r"
    }
   },
   "source": [
    "잔차 플롯과 Breusch-Pagan 테스트, NCV 테스트 결과를 볼 때 오차의 등분산성이 충족되는 것으로 판단된다."
   ]
  },
  {
   "cell_type": "code",
   "execution_count": 54,
   "metadata": {
    "vscode": {
     "languageId": "r"
    }
   },
   "outputs": [
    {
     "data": {
      "image/png": "[encoded data removed]",
      "text/plain": [
       "Plot with title \"\""
      ]
     },
     "metadata": {
      "image/png": {
       "height": 420,
       "width": 420
      }
     },
     "output_type": "display_data"
    },
    {
     "data": {
      "image/png": "[encoded data removed]",
      "text/plain": [
       "Plot with title \"\""
      ]
     },
     "metadata": {
      "image/png": {
       "height": 420,
       "width": 420
      }
     },
     "output_type": "display_data"
    },
    {
     "data": {
      "image/png": "[encoded data removed]",
      "text/plain": [
       "Plot with title \"\""
      ]
     },
     "metadata": {
      "image/png": {
       "height": 420,
       "width": 420
      }
     },
     "output_type": "display_data"
    },
    {
     "name": "stdout",
     "output_type": "stream",
     "text": [
      "Influential Points (Cook's Distance > 4/n): 3 9 21 55 62 63 74 77 84 85 92 127 173 183 189 200 201 220 222 230 241 249 256 258 \n",
      "Outliers (Standardized Residuals > 2): 21 63 77 84 127 173 183 200 201 209 222 230 241 \n"
     ]
    },
    {
     "data": {
      "image/png": "[encoded data removed]",
      "text/plain": [
       "Plot with title \"Leverage vs. Standardized Residuals^2\""
      ]
     },
     "metadata": {
      "image/png": {
       "height": 420,
       "width": 420
      }
     },
     "output_type": "display_data"
    },
    {
     "data": {
      "image/png": "[encoded data removed]",
      "text/plain": [
       "plot without title"
      ]
     },
     "metadata": {
      "image/png": {
       "height": 420,
       "width": 420
      }
     },
     "output_type": "display_data"
    },
    {
     "data": {
      "image/png": "[encoded data removed]",
      "text/plain": [
       "plot without title"
      ]
     },
     "metadata": {
      "image/png": {
       "height": 420,
       "width": 420
      }
     },
     "output_type": "display_data"
    },
    {
     "data": {
      "image/png": "[encoded data removed]",
      "text/plain": [
       "plot without title"
      ]
     },
     "metadata": {
      "image/png": {
       "height": 420,
       "width": 420
      }
     },
     "output_type": "display_data"
    }
   ],
   "source": [
    "# 최종 적합식 모델 생성\n",
    "final_model = lm(Salary ~ AtBat + Hits + Walks + CRuns + CRBI + CWalks + Division + PutOuts, data = Hitters)\n",
    "\n",
    "# 잔차, 표준화 잔차, Cook's 거리, 레버리지 계산\n",
    "residuals = residuals(final_model)\n",
    "standardized_residuals = rstandard(final_model)\n",
    "cooks_distance = cooks.distance(final_model)\n",
    "leverage = hatvalues(final_model)\n",
    "\n",
    "# 잔차 플롯 생성\n",
    "plot(final_model, which = 1)\n",
    "\n",
    "# 표준화 잔차 플롯 생성\n",
    "plot(final_model, which = 2)\n",
    "\n",
    "# Cook's 거리 플롯 생성\n",
    "plot(final_model, which = 4)\n",
    "\n",
    "# 레버리지 vs. 표준화 잔차 제곱\n",
    "plot(leverage, standardized_residuals^2,\n",
    "     xlab = \"Leverage\",\n",
    "     ylab = \"Standardized Residuals^2\",\n",
    "     main = \"Leverage vs. Standardized Residuals^2\")\n",
    "abline(h = 3 * mean(standardized_residuals^2), col = \"red\")\n",
    "abline(v = 2 * mean(leverage), col = \"red\")\n",
    "\n",
    "# 영향점 및 이상점 식별\n",
    "influential_points = which(cooks_distance > 4 / length(cooks_distance))\n",
    "outliers = which(abs(standardized_residuals) > 2)\n",
    "\n",
    "# 결과 출력\n",
    "cat(\"Influential Points (Cook's Distance > 4/n):\", influential_points, \"\\n\")\n",
    "cat(\"Outliers (Standardized Residuals > 2):\", outliers, \"\\n\")\n",
    "\n",
    "# 추가적인 시각화를 위한 ggplot2 사용\n",
    "data_frame = data.frame(Fitted = fitted(final_model), StandardizedResiduals = standardized_residuals, Leverage = leverage, CooksDistance = cooks_distance)\n",
    "\n",
    "ggplot(data_frame, aes(x = Fitted, y = StandardizedResiduals)) +\n",
    "  geom_point() +\n",
    "  geom_hline(yintercept = c(-2, 2), col = \"red\") +\n",
    "  ggtitle(\"Standardized Residuals vs Fitted Values\")\n",
    "\n",
    "ggplot(data_frame, aes(x = Leverage, y = StandardizedResiduals^2)) +\n",
    "  geom_point() +\n",
    "  geom_hline(yintercept = 3 * mean(standardized_residuals^2), col = \"red\") +\n",
    "  geom_vline(xintercept = 2 * mean(leverage), col = \"red\") +\n",
    "  ggtitle(\"Leverage vs Standardized Residuals^2\")\n",
    "\n",
    "ggplot(data_frame, aes(x = 1:length(CooksDistance), y = CooksDistance)) +\n",
    "  geom_bar(stat = \"identity\") +\n",
    "  geom_hline(yintercept = 4 / length(cooks_distance), col = \"red\") +\n",
    "  ggtitle(\"Cook's Distance\")\n"
   ]
  },
  {
   "cell_type": "markdown",
   "metadata": {},
   "source": [
    "3.\n",
    "  - AtBat\n",
    "  - Hits\n",
    "  - Walks\n",
    "  - CAtBat\n",
    "  - CRuns\n",
    "  - CRBi\n",
    "  - CWalks\n",
    "  - League\n",
    "  - Division\n",
    "  - PutOuts\n",
    "  - Assists  \n",
    "를 설명변수로 하는 다중회귀를 적합시킨다고 할 때, 이 모형에 대한 2번 문제의 물음에 답해보아라."
   ]
  },
  {
   "cell_type": "code",
   "execution_count": null,
   "metadata": {
    "vscode": {
     "languageId": "r"
    }
   },
   "outputs": [],
   "source": []
  },
  {
   "cell_type": "code",
   "execution_count": 25,
   "metadata": {
    "vscode": {
     "languageId": "r"
    }
   },
   "outputs": [
    {
     "data": {
      "text/html": [
       "<table class=\"dataframe\">\n",
       "<caption>A data.frame: 263 × 20</caption>\n",
       "<thead>\n",
       "\t<tr><th></th><th scope=col>AtBat</th><th scope=col>Hits</th><th scope=col>HmRun</th><th scope=col>Runs</th><th scope=col>RBI</th><th scope=col>Walks</th><th scope=col>Years</th><th scope=col>CAtBat</th><th scope=col>CHits</th><th scope=col>CHmRun</th><th scope=col>CRuns</th><th scope=col>CRBI</th><th scope=col>CWalks</th><th scope=col>League</th><th scope=col>Division</th><th scope=col>PutOuts</th><th scope=col>Assists</th><th scope=col>Errors</th><th scope=col>Salary</th><th scope=col>NewLeague</th></tr>\n",
       "\t<tr><th></th><th scope=col>&lt;int&gt;</th><th scope=col>&lt;int&gt;</th><th scope=col>&lt;int&gt;</th><th scope=col>&lt;int&gt;</th><th scope=col>&lt;int&gt;</th><th scope=col>&lt;int&gt;</th><th scope=col>&lt;int&gt;</th><th scope=col>&lt;int&gt;</th><th scope=col>&lt;int&gt;</th><th scope=col>&lt;int&gt;</th><th scope=col>&lt;int&gt;</th><th scope=col>&lt;int&gt;</th><th scope=col>&lt;int&gt;</th><th scope=col>&lt;fct&gt;</th><th scope=col>&lt;fct&gt;</th><th scope=col>&lt;int&gt;</th><th scope=col>&lt;int&gt;</th><th scope=col>&lt;int&gt;</th><th scope=col>&lt;dbl&gt;</th><th scope=col>&lt;fct&gt;</th></tr>\n",
       "</thead>\n",
       "<tbody>\n",
       "\t<tr><th scope=row>-Alan Ashby</th><td>315</td><td> 81</td><td> 7</td><td> 24</td><td> 38</td><td>39</td><td>14</td><td>3449</td><td> 835</td><td> 69</td><td> 321</td><td> 414</td><td>375</td><td>N</td><td>W</td><td> 632</td><td> 43</td><td>10</td><td> 475.000</td><td>N</td></tr>\n",
       "\t<tr><th scope=row>-Alvin Davis</th><td>479</td><td>130</td><td>18</td><td> 66</td><td> 72</td><td>76</td><td> 3</td><td>1624</td><td> 457</td><td> 63</td><td> 224</td><td> 266</td><td>263</td><td>A</td><td>W</td><td> 880</td><td> 82</td><td>14</td><td> 480.000</td><td>A</td></tr>\n",
       "\t<tr><th scope=row>-Andre Dawson</th><td>496</td><td>141</td><td>20</td><td> 65</td><td> 78</td><td>37</td><td>11</td><td>5628</td><td>1575</td><td>225</td><td> 828</td><td> 838</td><td>354</td><td>N</td><td>E</td><td> 200</td><td> 11</td><td> 3</td><td> 500.000</td><td>N</td></tr>\n",
       "\t<tr><th scope=row>-Andres Galarraga</th><td>321</td><td> 87</td><td>10</td><td> 39</td><td> 42</td><td>30</td><td> 2</td><td> 396</td><td> 101</td><td> 12</td><td>  48</td><td>  46</td><td> 33</td><td>N</td><td>E</td><td> 805</td><td> 40</td><td> 4</td><td>  91.500</td><td>N</td></tr>\n",
       "\t<tr><th scope=row>-Alfredo Griffin</th><td>594</td><td>169</td><td> 4</td><td> 74</td><td> 51</td><td>35</td><td>11</td><td>4408</td><td>1133</td><td> 19</td><td> 501</td><td> 336</td><td>194</td><td>A</td><td>W</td><td> 282</td><td>421</td><td>25</td><td> 750.000</td><td>A</td></tr>\n",
       "\t<tr><th scope=row>-Al Newman</th><td>185</td><td> 37</td><td> 1</td><td> 23</td><td>  8</td><td>21</td><td> 2</td><td> 214</td><td>  42</td><td>  1</td><td>  30</td><td>   9</td><td> 24</td><td>N</td><td>E</td><td>  76</td><td>127</td><td> 7</td><td>  70.000</td><td>A</td></tr>\n",
       "\t<tr><th scope=row>-Argenis Salazar</th><td>298</td><td> 73</td><td> 0</td><td> 24</td><td> 24</td><td> 7</td><td> 3</td><td> 509</td><td> 108</td><td>  0</td><td>  41</td><td>  37</td><td> 12</td><td>A</td><td>W</td><td> 121</td><td>283</td><td> 9</td><td> 100.000</td><td>A</td></tr>\n",
       "\t<tr><th scope=row>-Andres Thomas</th><td>323</td><td> 81</td><td> 6</td><td> 26</td><td> 32</td><td> 8</td><td> 2</td><td> 341</td><td>  86</td><td>  6</td><td>  32</td><td>  34</td><td>  8</td><td>N</td><td>W</td><td> 143</td><td>290</td><td>19</td><td>  75.000</td><td>N</td></tr>\n",
       "\t<tr><th scope=row>-Andre Thornton</th><td>401</td><td> 92</td><td>17</td><td> 49</td><td> 66</td><td>65</td><td>13</td><td>5206</td><td>1332</td><td>253</td><td> 784</td><td> 890</td><td>866</td><td>A</td><td>E</td><td>   0</td><td>  0</td><td> 0</td><td>1100.000</td><td>A</td></tr>\n",
       "\t<tr><th scope=row>-Alan Trammell</th><td>574</td><td>159</td><td>21</td><td>107</td><td> 75</td><td>59</td><td>10</td><td>4631</td><td>1300</td><td> 90</td><td> 702</td><td> 504</td><td>488</td><td>A</td><td>E</td><td> 238</td><td>445</td><td>22</td><td> 517.143</td><td>A</td></tr>\n",
       "\t<tr><th scope=row>-Alex Trevino</th><td>202</td><td> 53</td><td> 4</td><td> 31</td><td> 26</td><td>27</td><td> 9</td><td>1876</td><td> 467</td><td> 15</td><td> 192</td><td> 186</td><td>161</td><td>N</td><td>W</td><td> 304</td><td> 45</td><td>11</td><td> 512.500</td><td>N</td></tr>\n",
       "\t<tr><th scope=row>-Andy VanSlyke</th><td>418</td><td>113</td><td>13</td><td> 48</td><td> 61</td><td>47</td><td> 4</td><td>1512</td><td> 392</td><td> 41</td><td> 205</td><td> 204</td><td>203</td><td>N</td><td>E</td><td> 211</td><td> 11</td><td> 7</td><td> 550.000</td><td>N</td></tr>\n",
       "\t<tr><th scope=row>-Alan Wiggins</th><td>239</td><td> 60</td><td> 0</td><td> 30</td><td> 11</td><td>22</td><td> 6</td><td>1941</td><td> 510</td><td>  4</td><td> 309</td><td> 103</td><td>207</td><td>A</td><td>E</td><td> 121</td><td>151</td><td> 6</td><td> 700.000</td><td>A</td></tr>\n",
       "\t<tr><th scope=row>-Bill Almon</th><td>196</td><td> 43</td><td> 7</td><td> 29</td><td> 27</td><td>30</td><td>13</td><td>3231</td><td> 825</td><td> 36</td><td> 376</td><td> 290</td><td>238</td><td>N</td><td>E</td><td>  80</td><td> 45</td><td> 8</td><td> 240.000</td><td>N</td></tr>\n",
       "\t<tr><th scope=row>-Buddy Bell</th><td>568</td><td>158</td><td>20</td><td> 89</td><td> 75</td><td>73</td><td>15</td><td>8068</td><td>2273</td><td>177</td><td>1045</td><td> 993</td><td>732</td><td>N</td><td>W</td><td> 105</td><td>290</td><td>10</td><td> 775.000</td><td>N</td></tr>\n",
       "\t<tr><th scope=row>-Buddy Biancalana</th><td>190</td><td> 46</td><td> 2</td><td> 24</td><td>  8</td><td>15</td><td> 5</td><td> 479</td><td> 102</td><td>  5</td><td>  65</td><td>  23</td><td> 39</td><td>A</td><td>W</td><td> 102</td><td>177</td><td>16</td><td> 175.000</td><td>A</td></tr>\n",
       "\t<tr><th scope=row>-Bruce Bochy</th><td>127</td><td> 32</td><td> 8</td><td> 16</td><td> 22</td><td>14</td><td> 8</td><td> 727</td><td> 180</td><td> 24</td><td>  67</td><td>  82</td><td> 56</td><td>N</td><td>W</td><td> 202</td><td> 22</td><td> 2</td><td> 135.000</td><td>N</td></tr>\n",
       "\t<tr><th scope=row>-Barry Bonds</th><td>413</td><td> 92</td><td>16</td><td> 72</td><td> 48</td><td>65</td><td> 1</td><td> 413</td><td>  92</td><td> 16</td><td>  72</td><td>  48</td><td> 65</td><td>N</td><td>E</td><td> 280</td><td>  9</td><td> 5</td><td> 100.000</td><td>N</td></tr>\n",
       "\t<tr><th scope=row>-Bobby Bonilla</th><td>426</td><td>109</td><td> 3</td><td> 55</td><td> 43</td><td>62</td><td> 1</td><td> 426</td><td> 109</td><td>  3</td><td>  55</td><td>  43</td><td> 62</td><td>A</td><td>W</td><td> 361</td><td> 22</td><td> 2</td><td> 115.000</td><td>N</td></tr>\n",
       "\t<tr><th scope=row>-Bob Brenly</th><td>472</td><td>116</td><td>16</td><td> 60</td><td> 62</td><td>74</td><td> 6</td><td>1924</td><td> 489</td><td> 67</td><td> 242</td><td> 251</td><td>240</td><td>N</td><td>W</td><td> 518</td><td> 55</td><td> 3</td><td> 600.000</td><td>N</td></tr>\n",
       "\t<tr><th scope=row>-Bill Buckner</th><td>629</td><td>168</td><td>18</td><td> 73</td><td>102</td><td>40</td><td>18</td><td>8424</td><td>2464</td><td>164</td><td>1008</td><td>1072</td><td>402</td><td>A</td><td>E</td><td>1067</td><td>157</td><td>14</td><td> 776.667</td><td>A</td></tr>\n",
       "\t<tr><th scope=row>-Brett Butler</th><td>587</td><td>163</td><td> 4</td><td> 92</td><td> 51</td><td>70</td><td> 6</td><td>2695</td><td> 747</td><td> 17</td><td> 442</td><td> 198</td><td>317</td><td>A</td><td>E</td><td> 434</td><td>  9</td><td> 3</td><td> 765.000</td><td>A</td></tr>\n",
       "\t<tr><th scope=row>-Bob Dernier</th><td>324</td><td> 73</td><td> 4</td><td> 32</td><td> 18</td><td>22</td><td> 7</td><td>1931</td><td> 491</td><td> 13</td><td> 291</td><td> 108</td><td>180</td><td>N</td><td>E</td><td> 222</td><td>  3</td><td> 3</td><td> 708.333</td><td>N</td></tr>\n",
       "\t<tr><th scope=row>-Bo Diaz</th><td>474</td><td>129</td><td>10</td><td> 50</td><td> 56</td><td>40</td><td>10</td><td>2331</td><td> 604</td><td> 61</td><td> 246</td><td> 327</td><td>166</td><td>N</td><td>W</td><td> 732</td><td> 83</td><td>13</td><td> 750.000</td><td>N</td></tr>\n",
       "\t<tr><th scope=row>-Bill Doran</th><td>550</td><td>152</td><td> 6</td><td> 92</td><td> 37</td><td>81</td><td> 5</td><td>2308</td><td> 633</td><td> 32</td><td> 349</td><td> 182</td><td>308</td><td>N</td><td>W</td><td> 262</td><td>329</td><td>16</td><td> 625.000</td><td>N</td></tr>\n",
       "\t<tr><th scope=row>-Brian Downing</th><td>513</td><td>137</td><td>20</td><td> 90</td><td> 95</td><td>90</td><td>14</td><td>5201</td><td>1382</td><td>166</td><td> 763</td><td> 734</td><td>784</td><td>A</td><td>W</td><td> 267</td><td>  5</td><td> 3</td><td> 900.000</td><td>A</td></tr>\n",
       "\t<tr><th scope=row>-Billy Hatcher</th><td>419</td><td>108</td><td> 6</td><td> 55</td><td> 36</td><td>22</td><td> 3</td><td> 591</td><td> 149</td><td>  8</td><td>  80</td><td>  46</td><td> 31</td><td>N</td><td>W</td><td> 226</td><td>  7</td><td> 4</td><td> 110.000</td><td>N</td></tr>\n",
       "\t<tr><th scope=row>-Brook Jacoby</th><td>583</td><td>168</td><td>17</td><td> 83</td><td> 80</td><td>56</td><td> 5</td><td>1646</td><td> 452</td><td> 44</td><td> 219</td><td> 208</td><td>136</td><td>A</td><td>E</td><td> 109</td><td>292</td><td>25</td><td> 612.500</td><td>A</td></tr>\n",
       "\t<tr><th scope=row>-Bob Kearney</th><td>204</td><td> 49</td><td> 6</td><td> 23</td><td> 25</td><td>12</td><td> 7</td><td>1309</td><td> 308</td><td> 27</td><td> 126</td><td> 132</td><td> 66</td><td>A</td><td>W</td><td> 419</td><td> 46</td><td> 5</td><td> 300.000</td><td>A</td></tr>\n",
       "\t<tr><th scope=row>-Bill Madlock</th><td>379</td><td>106</td><td>10</td><td> 38</td><td> 60</td><td>30</td><td>14</td><td>6207</td><td>1906</td><td>146</td><td> 859</td><td> 803</td><td>571</td><td>N</td><td>W</td><td>  72</td><td>170</td><td>24</td><td> 850.000</td><td>N</td></tr>\n",
       "\t<tr><th scope=row>⋮</th><td>⋮</td><td>⋮</td><td>⋮</td><td>⋮</td><td>⋮</td><td>⋮</td><td>⋮</td><td>⋮</td><td>⋮</td><td>⋮</td><td>⋮</td><td>⋮</td><td>⋮</td><td>⋮</td><td>⋮</td><td>⋮</td><td>⋮</td><td>⋮</td><td>⋮</td><td>⋮</td></tr>\n",
       "\t<tr><th scope=row>-Tony Fernandez</th><td>687</td><td>213</td><td>10</td><td> 91</td><td> 65</td><td> 27</td><td> 4</td><td>1518</td><td> 448</td><td> 15</td><td> 196</td><td> 137</td><td> 89</td><td>A</td><td>E</td><td> 294</td><td>445</td><td>13</td><td> 350.000</td><td>A</td></tr>\n",
       "\t<tr><th scope=row>-Tim Flannery</th><td>368</td><td>103</td><td> 3</td><td> 48</td><td> 28</td><td> 54</td><td> 8</td><td>1897</td><td> 493</td><td>  9</td><td> 207</td><td> 162</td><td>198</td><td>N</td><td>W</td><td> 209</td><td>246</td><td> 3</td><td> 326.667</td><td>N</td></tr>\n",
       "\t<tr><th scope=row>-Tom Foley</th><td>263</td><td> 70</td><td> 1</td><td> 26</td><td> 23</td><td> 30</td><td> 4</td><td> 888</td><td> 220</td><td>  9</td><td>  83</td><td>  82</td><td> 86</td><td>N</td><td>E</td><td>  81</td><td>147</td><td> 4</td><td> 250.000</td><td>N</td></tr>\n",
       "\t<tr><th scope=row>-Tony Gwynn</th><td>642</td><td>211</td><td>14</td><td>107</td><td> 59</td><td> 52</td><td> 5</td><td>2364</td><td> 770</td><td> 27</td><td> 352</td><td> 230</td><td>193</td><td>N</td><td>W</td><td> 337</td><td> 19</td><td> 4</td><td> 740.000</td><td>N</td></tr>\n",
       "\t<tr><th scope=row>-Terry Harper</th><td>265</td><td> 68</td><td> 8</td><td> 26</td><td> 30</td><td> 29</td><td> 7</td><td>1337</td><td> 339</td><td> 32</td><td> 135</td><td> 163</td><td>128</td><td>N</td><td>W</td><td>  92</td><td>  5</td><td> 3</td><td> 425.000</td><td>A</td></tr>\n",
       "\t<tr><th scope=row>-Tommy Herr</th><td>559</td><td>141</td><td> 2</td><td> 48</td><td> 61</td><td> 73</td><td> 8</td><td>3162</td><td> 874</td><td> 16</td><td> 421</td><td> 349</td><td>359</td><td>N</td><td>E</td><td> 352</td><td>414</td><td> 9</td><td> 925.000</td><td>N</td></tr>\n",
       "\t<tr><th scope=row>-Tim Hulett</th><td>520</td><td>120</td><td>17</td><td> 53</td><td> 44</td><td> 21</td><td> 4</td><td> 927</td><td> 227</td><td> 22</td><td> 106</td><td>  80</td><td> 52</td><td>A</td><td>W</td><td>  70</td><td>144</td><td>11</td><td> 185.000</td><td>A</td></tr>\n",
       "\t<tr><th scope=row>-Terry Kennedy</th><td> 19</td><td>  4</td><td> 1</td><td>  2</td><td>  3</td><td>  1</td><td> 1</td><td>  19</td><td>   4</td><td>  1</td><td>   2</td><td>   3</td><td>  1</td><td>N</td><td>W</td><td> 692</td><td> 70</td><td> 8</td><td> 920.000</td><td>A</td></tr>\n",
       "\t<tr><th scope=row>-Tito Landrum</th><td>205</td><td> 43</td><td> 2</td><td> 24</td><td> 17</td><td> 20</td><td> 7</td><td> 854</td><td> 219</td><td> 12</td><td> 105</td><td>  99</td><td> 71</td><td>N</td><td>E</td><td> 131</td><td>  6</td><td> 1</td><td> 286.667</td><td>N</td></tr>\n",
       "\t<tr><th scope=row>-Tim Laudner</th><td>193</td><td> 47</td><td>10</td><td> 21</td><td> 29</td><td> 24</td><td> 6</td><td>1136</td><td> 256</td><td> 42</td><td> 129</td><td> 139</td><td>106</td><td>A</td><td>W</td><td> 299</td><td> 13</td><td> 5</td><td> 245.000</td><td>A</td></tr>\n",
       "\t<tr><th scope=row>-Tom Paciorek</th><td>213</td><td> 61</td><td> 4</td><td> 17</td><td> 22</td><td>  3</td><td>17</td><td>4061</td><td>1145</td><td> 83</td><td> 488</td><td> 491</td><td>244</td><td>A</td><td>W</td><td> 178</td><td> 45</td><td> 4</td><td> 235.000</td><td>A</td></tr>\n",
       "\t<tr><th scope=row>-Tony Pena</th><td>510</td><td>147</td><td>10</td><td> 56</td><td> 52</td><td> 53</td><td> 7</td><td>2872</td><td> 821</td><td> 63</td><td> 307</td><td> 340</td><td>174</td><td>N</td><td>E</td><td> 810</td><td> 99</td><td>18</td><td>1150.000</td><td>N</td></tr>\n",
       "\t<tr><th scope=row>-Terry Pendleton</th><td>578</td><td>138</td><td> 1</td><td> 56</td><td> 59</td><td> 34</td><td> 3</td><td>1399</td><td> 357</td><td>  7</td><td> 149</td><td> 161</td><td> 87</td><td>N</td><td>E</td><td> 133</td><td>371</td><td>20</td><td> 160.000</td><td>N</td></tr>\n",
       "\t<tr><th scope=row>-Tony Phillips</th><td>441</td><td>113</td><td> 5</td><td> 76</td><td> 52</td><td> 76</td><td> 5</td><td>1546</td><td> 397</td><td> 17</td><td> 226</td><td> 149</td><td>191</td><td>A</td><td>W</td><td> 160</td><td>290</td><td>11</td><td> 425.000</td><td>A</td></tr>\n",
       "\t<tr><th scope=row>-Terry Puhl</th><td>172</td><td> 42</td><td> 3</td><td> 17</td><td> 14</td><td> 15</td><td>10</td><td>4086</td><td>1150</td><td> 57</td><td> 579</td><td> 363</td><td>406</td><td>N</td><td>W</td><td>  65</td><td>  0</td><td> 0</td><td> 900.000</td><td>N</td></tr>\n",
       "\t<tr><th scope=row>-Ted Simmons</th><td>127</td><td> 32</td><td> 4</td><td> 14</td><td> 25</td><td> 12</td><td>19</td><td>8396</td><td>2402</td><td>242</td><td>1048</td><td>1348</td><td>819</td><td>N</td><td>W</td><td> 167</td><td> 18</td><td> 6</td><td> 500.000</td><td>N</td></tr>\n",
       "\t<tr><th scope=row>-Tim Teufel</th><td>279</td><td> 69</td><td> 4</td><td> 35</td><td> 31</td><td> 32</td><td> 4</td><td>1359</td><td> 355</td><td> 31</td><td> 180</td><td> 148</td><td>158</td><td>N</td><td>E</td><td> 133</td><td>173</td><td> 9</td><td> 277.500</td><td>N</td></tr>\n",
       "\t<tr><th scope=row>-Tim Wallach</th><td>480</td><td>112</td><td>18</td><td> 50</td><td> 71</td><td> 44</td><td> 7</td><td>3031</td><td> 771</td><td>110</td><td> 338</td><td> 406</td><td>239</td><td>N</td><td>E</td><td>  94</td><td>270</td><td>16</td><td> 750.000</td><td>N</td></tr>\n",
       "\t<tr><th scope=row>-Vince Coleman</th><td>600</td><td>139</td><td> 0</td><td> 94</td><td> 29</td><td> 60</td><td> 2</td><td>1236</td><td> 309</td><td>  1</td><td> 201</td><td>  69</td><td>110</td><td>N</td><td>E</td><td> 300</td><td> 12</td><td> 9</td><td> 160.000</td><td>N</td></tr>\n",
       "\t<tr><th scope=row>-Von Hayes</th><td>610</td><td>186</td><td>19</td><td>107</td><td> 98</td><td> 74</td><td> 6</td><td>2728</td><td> 753</td><td> 69</td><td> 399</td><td> 366</td><td>286</td><td>N</td><td>E</td><td>1182</td><td> 96</td><td>13</td><td>1300.000</td><td>N</td></tr>\n",
       "\t<tr><th scope=row>-Vance Law</th><td>360</td><td> 81</td><td> 5</td><td> 37</td><td> 44</td><td> 37</td><td> 7</td><td>2268</td><td> 566</td><td> 41</td><td> 279</td><td> 257</td><td>246</td><td>N</td><td>E</td><td> 170</td><td>284</td><td> 3</td><td> 525.000</td><td>N</td></tr>\n",
       "\t<tr><th scope=row>-Wally Backman</th><td>387</td><td>124</td><td> 1</td><td> 67</td><td> 27</td><td> 36</td><td> 7</td><td>1775</td><td> 506</td><td>  6</td><td> 272</td><td> 125</td><td>194</td><td>N</td><td>E</td><td> 186</td><td>290</td><td>17</td><td> 550.000</td><td>N</td></tr>\n",
       "\t<tr><th scope=row>-Wade Boggs</th><td>580</td><td>207</td><td> 8</td><td>107</td><td> 71</td><td>105</td><td> 5</td><td>2778</td><td> 978</td><td> 32</td><td> 474</td><td> 322</td><td>417</td><td>A</td><td>E</td><td> 121</td><td>267</td><td>19</td><td>1600.000</td><td>A</td></tr>\n",
       "\t<tr><th scope=row>-Will Clark</th><td>408</td><td>117</td><td>11</td><td> 66</td><td> 41</td><td> 34</td><td> 1</td><td> 408</td><td> 117</td><td> 11</td><td>  66</td><td>  41</td><td> 34</td><td>N</td><td>W</td><td> 942</td><td> 72</td><td>11</td><td> 120.000</td><td>N</td></tr>\n",
       "\t<tr><th scope=row>-Wally Joyner</th><td>593</td><td>172</td><td>22</td><td> 82</td><td>100</td><td> 57</td><td> 1</td><td> 593</td><td> 172</td><td> 22</td><td>  82</td><td> 100</td><td> 57</td><td>A</td><td>W</td><td>1222</td><td>139</td><td>15</td><td> 165.000</td><td>A</td></tr>\n",
       "\t<tr><th scope=row>-Willie McGee</th><td>497</td><td>127</td><td> 7</td><td> 65</td><td> 48</td><td> 37</td><td> 5</td><td>2703</td><td> 806</td><td> 32</td><td> 379</td><td> 311</td><td>138</td><td>N</td><td>E</td><td> 325</td><td>  9</td><td> 3</td><td> 700.000</td><td>N</td></tr>\n",
       "\t<tr><th scope=row>-Willie Randolph</th><td>492</td><td>136</td><td> 5</td><td> 76</td><td> 50</td><td> 94</td><td>12</td><td>5511</td><td>1511</td><td> 39</td><td> 897</td><td> 451</td><td>875</td><td>A</td><td>E</td><td> 313</td><td>381</td><td>20</td><td> 875.000</td><td>A</td></tr>\n",
       "\t<tr><th scope=row>-Wayne Tolleson</th><td>475</td><td>126</td><td> 3</td><td> 61</td><td> 43</td><td> 52</td><td> 6</td><td>1700</td><td> 433</td><td>  7</td><td> 217</td><td>  93</td><td>146</td><td>A</td><td>W</td><td>  37</td><td>113</td><td> 7</td><td> 385.000</td><td>A</td></tr>\n",
       "\t<tr><th scope=row>-Willie Upshaw</th><td>573</td><td>144</td><td> 9</td><td> 85</td><td> 60</td><td> 78</td><td> 8</td><td>3198</td><td> 857</td><td> 97</td><td> 470</td><td> 420</td><td>332</td><td>A</td><td>E</td><td>1314</td><td>131</td><td>12</td><td> 960.000</td><td>A</td></tr>\n",
       "\t<tr><th scope=row>-Willie Wilson</th><td>631</td><td>170</td><td> 9</td><td> 77</td><td> 44</td><td> 31</td><td>11</td><td>4908</td><td>1457</td><td> 30</td><td> 775</td><td> 357</td><td>249</td><td>A</td><td>W</td><td> 408</td><td>  4</td><td> 3</td><td>1000.000</td><td>A</td></tr>\n",
       "</tbody>\n",
       "</table>\n"
      ],
      "text/latex": [
       "A data.frame: 263 × 20\n",
       "\\begin{tabular}{r|llllllllllllllllllll}\n",
       "  & AtBat & Hits & HmRun & Runs & RBI & Walks & Years & CAtBat & CHits & CHmRun & CRuns & CRBI & CWalks & League & Division & PutOuts & Assists & Errors & Salary & NewLeague\\\\\n",
       "  & <int> & <int> & <int> & <int> & <int> & <int> & <int> & <int> & <int> & <int> & <int> & <int> & <int> & <fct> & <fct> & <int> & <int> & <int> & <dbl> & <fct>\\\\\n",
       "\\hline\n",
       "\t-Alan Ashby & 315 &  81 &  7 &  24 &  38 & 39 & 14 & 3449 &  835 &  69 &  321 &  414 & 375 & N & W &  632 &  43 & 10 &  475.000 & N\\\\\n",
       "\t-Alvin Davis & 479 & 130 & 18 &  66 &  72 & 76 &  3 & 1624 &  457 &  63 &  224 &  266 & 263 & A & W &  880 &  82 & 14 &  480.000 & A\\\\\n",
       "\t-Andre Dawson & 496 & 141 & 20 &  65 &  78 & 37 & 11 & 5628 & 1575 & 225 &  828 &  838 & 354 & N & E &  200 &  11 &  3 &  500.000 & N\\\\\n",
       "\t-Andres Galarraga & 321 &  87 & 10 &  39 &  42 & 30 &  2 &  396 &  101 &  12 &   48 &   46 &  33 & N & E &  805 &  40 &  4 &   91.500 & N\\\\\n",
       "\t-Alfredo Griffin & 594 & 169 &  4 &  74 &  51 & 35 & 11 & 4408 & 1133 &  19 &  501 &  336 & 194 & A & W &  282 & 421 & 25 &  750.000 & A\\\\\n",
       "\t-Al Newman & 185 &  37 &  1 &  23 &   8 & 21 &  2 &  214 &   42 &   1 &   30 &    9 &  24 & N & E &   76 & 127 &  7 &   70.000 & A\\\\\n",
       "\t-Argenis Salazar & 298 &  73 &  0 &  24 &  24 &  7 &  3 &  509 &  108 &   0 &   41 &   37 &  12 & A & W &  121 & 283 &  9 &  100.000 & A\\\\\n",
       "\t-Andres Thomas & 323 &  81 &  6 &  26 &  32 &  8 &  2 &  341 &   86 &   6 &   32 &   34 &   8 & N & W &  143 & 290 & 19 &   75.000 & N\\\\\n",
       "\t-Andre Thornton & 401 &  92 & 17 &  49 &  66 & 65 & 13 & 5206 & 1332 & 253 &  784 &  890 & 866 & A & E &    0 &   0 &  0 & 1100.000 & A\\\\\n",
       "\t-Alan Trammell & 574 & 159 & 21 & 107 &  75 & 59 & 10 & 4631 & 1300 &  90 &  702 &  504 & 488 & A & E &  238 & 445 & 22 &  517.143 & A\\\\\n",
       "\t-Alex Trevino & 202 &  53 &  4 &  31 &  26 & 27 &  9 & 1876 &  467 &  15 &  192 &  186 & 161 & N & W &  304 &  45 & 11 &  512.500 & N\\\\\n",
       "\t-Andy VanSlyke & 418 & 113 & 13 &  48 &  61 & 47 &  4 & 1512 &  392 &  41 &  205 &  204 & 203 & N & E &  211 &  11 &  7 &  550.000 & N\\\\\n",
       "\t-Alan Wiggins & 239 &  60 &  0 &  30 &  11 & 22 &  6 & 1941 &  510 &   4 &  309 &  103 & 207 & A & E &  121 & 151 &  6 &  700.000 & A\\\\\n",
       "\t-Bill Almon & 196 &  43 &  7 &  29 &  27 & 30 & 13 & 3231 &  825 &  36 &  376 &  290 & 238 & N & E &   80 &  45 &  8 &  240.000 & N\\\\\n",
       "\t-Buddy Bell & 568 & 158 & 20 &  89 &  75 & 73 & 15 & 8068 & 2273 & 177 & 1045 &  993 & 732 & N & W &  105 & 290 & 10 &  775.000 & N\\\\\n",
       "\t-Buddy Biancalana & 190 &  46 &  2 &  24 &   8 & 15 &  5 &  479 &  102 &   5 &   65 &   23 &  39 & A & W &  102 & 177 & 16 &  175.000 & A\\\\\n",
       "\t-Bruce Bochy & 127 &  32 &  8 &  16 &  22 & 14 &  8 &  727 &  180 &  24 &   67 &   82 &  56 & N & W &  202 &  22 &  2 &  135.000 & N\\\\\n",
       "\t-Barry Bonds & 413 &  92 & 16 &  72 &  48 & 65 &  1 &  413 &   92 &  16 &   72 &   48 &  65 & N & E &  280 &   9 &  5 &  100.000 & N\\\\\n",
       "\t-Bobby Bonilla & 426 & 109 &  3 &  55 &  43 & 62 &  1 &  426 &  109 &   3 &   55 &   43 &  62 & A & W &  361 &  22 &  2 &  115.000 & N\\\\\n",
       "\t-Bob Brenly & 472 & 116 & 16 &  60 &  62 & 74 &  6 & 1924 &  489 &  67 &  242 &  251 & 240 & N & W &  518 &  55 &  3 &  600.000 & N\\\\\n",
       "\t-Bill Buckner & 629 & 168 & 18 &  73 & 102 & 40 & 18 & 8424 & 2464 & 164 & 1008 & 1072 & 402 & A & E & 1067 & 157 & 14 &  776.667 & A\\\\\n",
       "\t-Brett Butler & 587 & 163 &  4 &  92 &  51 & 70 &  6 & 2695 &  747 &  17 &  442 &  198 & 317 & A & E &  434 &   9 &  3 &  765.000 & A\\\\\n",
       "\t-Bob Dernier & 324 &  73 &  4 &  32 &  18 & 22 &  7 & 1931 &  491 &  13 &  291 &  108 & 180 & N & E &  222 &   3 &  3 &  708.333 & N\\\\\n",
       "\t-Bo Diaz & 474 & 129 & 10 &  50 &  56 & 40 & 10 & 2331 &  604 &  61 &  246 &  327 & 166 & N & W &  732 &  83 & 13 &  750.000 & N\\\\\n",
       "\t-Bill Doran & 550 & 152 &  6 &  92 &  37 & 81 &  5 & 2308 &  633 &  32 &  349 &  182 & 308 & N & W &  262 & 329 & 16 &  625.000 & N\\\\\n",
       "\t-Brian Downing & 513 & 137 & 20 &  90 &  95 & 90 & 14 & 5201 & 1382 & 166 &  763 &  734 & 784 & A & W &  267 &   5 &  3 &  900.000 & A\\\\\n",
       "\t-Billy Hatcher & 419 & 108 &  6 &  55 &  36 & 22 &  3 &  591 &  149 &   8 &   80 &   46 &  31 & N & W &  226 &   7 &  4 &  110.000 & N\\\\\n",
       "\t-Brook Jacoby & 583 & 168 & 17 &  83 &  80 & 56 &  5 & 1646 &  452 &  44 &  219 &  208 & 136 & A & E &  109 & 292 & 25 &  612.500 & A\\\\\n",
       "\t-Bob Kearney & 204 &  49 &  6 &  23 &  25 & 12 &  7 & 1309 &  308 &  27 &  126 &  132 &  66 & A & W &  419 &  46 &  5 &  300.000 & A\\\\\n",
       "\t-Bill Madlock & 379 & 106 & 10 &  38 &  60 & 30 & 14 & 6207 & 1906 & 146 &  859 &  803 & 571 & N & W &   72 & 170 & 24 &  850.000 & N\\\\\n",
       "\t⋮ & ⋮ & ⋮ & ⋮ & ⋮ & ⋮ & ⋮ & ⋮ & ⋮ & ⋮ & ⋮ & ⋮ & ⋮ & ⋮ & ⋮ & ⋮ & ⋮ & ⋮ & ⋮ & ⋮ & ⋮\\\\\n",
       "\t-Tony Fernandez & 687 & 213 & 10 &  91 &  65 &  27 &  4 & 1518 &  448 &  15 &  196 &  137 &  89 & A & E &  294 & 445 & 13 &  350.000 & A\\\\\n",
       "\t-Tim Flannery & 368 & 103 &  3 &  48 &  28 &  54 &  8 & 1897 &  493 &   9 &  207 &  162 & 198 & N & W &  209 & 246 &  3 &  326.667 & N\\\\\n",
       "\t-Tom Foley & 263 &  70 &  1 &  26 &  23 &  30 &  4 &  888 &  220 &   9 &   83 &   82 &  86 & N & E &   81 & 147 &  4 &  250.000 & N\\\\\n",
       "\t-Tony Gwynn & 642 & 211 & 14 & 107 &  59 &  52 &  5 & 2364 &  770 &  27 &  352 &  230 & 193 & N & W &  337 &  19 &  4 &  740.000 & N\\\\\n",
       "\t-Terry Harper & 265 &  68 &  8 &  26 &  30 &  29 &  7 & 1337 &  339 &  32 &  135 &  163 & 128 & N & W &   92 &   5 &  3 &  425.000 & A\\\\\n",
       "\t-Tommy Herr & 559 & 141 &  2 &  48 &  61 &  73 &  8 & 3162 &  874 &  16 &  421 &  349 & 359 & N & E &  352 & 414 &  9 &  925.000 & N\\\\\n",
       "\t-Tim Hulett & 520 & 120 & 17 &  53 &  44 &  21 &  4 &  927 &  227 &  22 &  106 &   80 &  52 & A & W &   70 & 144 & 11 &  185.000 & A\\\\\n",
       "\t-Terry Kennedy &  19 &   4 &  1 &   2 &   3 &   1 &  1 &   19 &    4 &   1 &    2 &    3 &   1 & N & W &  692 &  70 &  8 &  920.000 & A\\\\\n",
       "\t-Tito Landrum & 205 &  43 &  2 &  24 &  17 &  20 &  7 &  854 &  219 &  12 &  105 &   99 &  71 & N & E &  131 &   6 &  1 &  286.667 & N\\\\\n",
       "\t-Tim Laudner & 193 &  47 & 10 &  21 &  29 &  24 &  6 & 1136 &  256 &  42 &  129 &  139 & 106 & A & W &  299 &  13 &  5 &  245.000 & A\\\\\n",
       "\t-Tom Paciorek & 213 &  61 &  4 &  17 &  22 &   3 & 17 & 4061 & 1145 &  83 &  488 &  491 & 244 & A & W &  178 &  45 &  4 &  235.000 & A\\\\\n",
       "\t-Tony Pena & 510 & 147 & 10 &  56 &  52 &  53 &  7 & 2872 &  821 &  63 &  307 &  340 & 174 & N & E &  810 &  99 & 18 & 1150.000 & N\\\\\n",
       "\t-Terry Pendleton & 578 & 138 &  1 &  56 &  59 &  34 &  3 & 1399 &  357 &   7 &  149 &  161 &  87 & N & E &  133 & 371 & 20 &  160.000 & N\\\\\n",
       "\t-Tony Phillips & 441 & 113 &  5 &  76 &  52 &  76 &  5 & 1546 &  397 &  17 &  226 &  149 & 191 & A & W &  160 & 290 & 11 &  425.000 & A\\\\\n",
       "\t-Terry Puhl & 172 &  42 &  3 &  17 &  14 &  15 & 10 & 4086 & 1150 &  57 &  579 &  363 & 406 & N & W &   65 &   0 &  0 &  900.000 & N\\\\\n",
       "\t-Ted Simmons & 127 &  32 &  4 &  14 &  25 &  12 & 19 & 8396 & 2402 & 242 & 1048 & 1348 & 819 & N & W &  167 &  18 &  6 &  500.000 & N\\\\\n",
       "\t-Tim Teufel & 279 &  69 &  4 &  35 &  31 &  32 &  4 & 1359 &  355 &  31 &  180 &  148 & 158 & N & E &  133 & 173 &  9 &  277.500 & N\\\\\n",
       "\t-Tim Wallach & 480 & 112 & 18 &  50 &  71 &  44 &  7 & 3031 &  771 & 110 &  338 &  406 & 239 & N & E &   94 & 270 & 16 &  750.000 & N\\\\\n",
       "\t-Vince Coleman & 600 & 139 &  0 &  94 &  29 &  60 &  2 & 1236 &  309 &   1 &  201 &   69 & 110 & N & E &  300 &  12 &  9 &  160.000 & N\\\\\n",
       "\t-Von Hayes & 610 & 186 & 19 & 107 &  98 &  74 &  6 & 2728 &  753 &  69 &  399 &  366 & 286 & N & E & 1182 &  96 & 13 & 1300.000 & N\\\\\n",
       "\t-Vance Law & 360 &  81 &  5 &  37 &  44 &  37 &  7 & 2268 &  566 &  41 &  279 &  257 & 246 & N & E &  170 & 284 &  3 &  525.000 & N\\\\\n",
       "\t-Wally Backman & 387 & 124 &  1 &  67 &  27 &  36 &  7 & 1775 &  506 &   6 &  272 &  125 & 194 & N & E &  186 & 290 & 17 &  550.000 & N\\\\\n",
       "\t-Wade Boggs & 580 & 207 &  8 & 107 &  71 & 105 &  5 & 2778 &  978 &  32 &  474 &  322 & 417 & A & E &  121 & 267 & 19 & 1600.000 & A\\\\\n",
       "\t-Will Clark & 408 & 117 & 11 &  66 &  41 &  34 &  1 &  408 &  117 &  11 &   66 &   41 &  34 & N & W &  942 &  72 & 11 &  120.000 & N\\\\\n",
       "\t-Wally Joyner & 593 & 172 & 22 &  82 & 100 &  57 &  1 &  593 &  172 &  22 &   82 &  100 &  57 & A & W & 1222 & 139 & 15 &  165.000 & A\\\\\n",
       "\t-Willie McGee & 497 & 127 &  7 &  65 &  48 &  37 &  5 & 2703 &  806 &  32 &  379 &  311 & 138 & N & E &  325 &   9 &  3 &  700.000 & N\\\\\n",
       "\t-Willie Randolph & 492 & 136 &  5 &  76 &  50 &  94 & 12 & 5511 & 1511 &  39 &  897 &  451 & 875 & A & E &  313 & 381 & 20 &  875.000 & A\\\\\n",
       "\t-Wayne Tolleson & 475 & 126 &  3 &  61 &  43 &  52 &  6 & 1700 &  433 &   7 &  217 &   93 & 146 & A & W &   37 & 113 &  7 &  385.000 & A\\\\\n",
       "\t-Willie Upshaw & 573 & 144 &  9 &  85 &  60 &  78 &  8 & 3198 &  857 &  97 &  470 &  420 & 332 & A & E & 1314 & 131 & 12 &  960.000 & A\\\\\n",
       "\t-Willie Wilson & 631 & 170 &  9 &  77 &  44 &  31 & 11 & 4908 & 1457 &  30 &  775 &  357 & 249 & A & W &  408 &   4 &  3 & 1000.000 & A\\\\\n",
       "\\end{tabular}\n"
      ],
      "text/markdown": [
       "\n",
       "A data.frame: 263 × 20\n",
       "\n",
       "| <!--/--> | AtBat &lt;int&gt; | Hits &lt;int&gt; | HmRun &lt;int&gt; | Runs &lt;int&gt; | RBI &lt;int&gt; | Walks &lt;int&gt; | Years &lt;int&gt; | CAtBat &lt;int&gt; | CHits &lt;int&gt; | CHmRun &lt;int&gt; | CRuns &lt;int&gt; | CRBI &lt;int&gt; | CWalks &lt;int&gt; | League &lt;fct&gt; | Division &lt;fct&gt; | PutOuts &lt;int&gt; | Assists &lt;int&gt; | Errors &lt;int&gt; | Salary &lt;dbl&gt; | NewLeague &lt;fct&gt; |\n",
       "|---|---|---|---|---|---|---|---|---|---|---|---|---|---|---|---|---|---|---|---|---|\n",
       "| -Alan Ashby | 315 |  81 |  7 |  24 |  38 | 39 | 14 | 3449 |  835 |  69 |  321 |  414 | 375 | N | W |  632 |  43 | 10 |  475.000 | N |\n",
       "| -Alvin Davis | 479 | 130 | 18 |  66 |  72 | 76 |  3 | 1624 |  457 |  63 |  224 |  266 | 263 | A | W |  880 |  82 | 14 |  480.000 | A |\n",
       "| -Andre Dawson | 496 | 141 | 20 |  65 |  78 | 37 | 11 | 5628 | 1575 | 225 |  828 |  838 | 354 | N | E |  200 |  11 |  3 |  500.000 | N |\n",
       "| -Andres Galarraga | 321 |  87 | 10 |  39 |  42 | 30 |  2 |  396 |  101 |  12 |   48 |   46 |  33 | N | E |  805 |  40 |  4 |   91.500 | N |\n",
       "| -Alfredo Griffin | 594 | 169 |  4 |  74 |  51 | 35 | 11 | 4408 | 1133 |  19 |  501 |  336 | 194 | A | W |  282 | 421 | 25 |  750.000 | A |\n",
       "| -Al Newman | 185 |  37 |  1 |  23 |   8 | 21 |  2 |  214 |   42 |   1 |   30 |    9 |  24 | N | E |   76 | 127 |  7 |   70.000 | A |\n",
       "| -Argenis Salazar | 298 |  73 |  0 |  24 |  24 |  7 |  3 |  509 |  108 |   0 |   41 |   37 |  12 | A | W |  121 | 283 |  9 |  100.000 | A |\n",
       "| -Andres Thomas | 323 |  81 |  6 |  26 |  32 |  8 |  2 |  341 |   86 |   6 |   32 |   34 |   8 | N | W |  143 | 290 | 19 |   75.000 | N |\n",
       "| -Andre Thornton | 401 |  92 | 17 |  49 |  66 | 65 | 13 | 5206 | 1332 | 253 |  784 |  890 | 866 | A | E |    0 |   0 |  0 | 1100.000 | A |\n",
       "| -Alan Trammell | 574 | 159 | 21 | 107 |  75 | 59 | 10 | 4631 | 1300 |  90 |  702 |  504 | 488 | A | E |  238 | 445 | 22 |  517.143 | A |\n",
       "| -Alex Trevino | 202 |  53 |  4 |  31 |  26 | 27 |  9 | 1876 |  467 |  15 |  192 |  186 | 161 | N | W |  304 |  45 | 11 |  512.500 | N |\n",
       "| -Andy VanSlyke | 418 | 113 | 13 |  48 |  61 | 47 |  4 | 1512 |  392 |  41 |  205 |  204 | 203 | N | E |  211 |  11 |  7 |  550.000 | N |\n",
       "| -Alan Wiggins | 239 |  60 |  0 |  30 |  11 | 22 |  6 | 1941 |  510 |   4 |  309 |  103 | 207 | A | E |  121 | 151 |  6 |  700.000 | A |\n",
       "| -Bill Almon | 196 |  43 |  7 |  29 |  27 | 30 | 13 | 3231 |  825 |  36 |  376 |  290 | 238 | N | E |   80 |  45 |  8 |  240.000 | N |\n",
       "| -Buddy Bell | 568 | 158 | 20 |  89 |  75 | 73 | 15 | 8068 | 2273 | 177 | 1045 |  993 | 732 | N | W |  105 | 290 | 10 |  775.000 | N |\n",
       "| -Buddy Biancalana | 190 |  46 |  2 |  24 |   8 | 15 |  5 |  479 |  102 |   5 |   65 |   23 |  39 | A | W |  102 | 177 | 16 |  175.000 | A |\n",
       "| -Bruce Bochy | 127 |  32 |  8 |  16 |  22 | 14 |  8 |  727 |  180 |  24 |   67 |   82 |  56 | N | W |  202 |  22 |  2 |  135.000 | N |\n",
       "| -Barry Bonds | 413 |  92 | 16 |  72 |  48 | 65 |  1 |  413 |   92 |  16 |   72 |   48 |  65 | N | E |  280 |   9 |  5 |  100.000 | N |\n",
       "| -Bobby Bonilla | 426 | 109 |  3 |  55 |  43 | 62 |  1 |  426 |  109 |   3 |   55 |   43 |  62 | A | W |  361 |  22 |  2 |  115.000 | N |\n",
       "| -Bob Brenly | 472 | 116 | 16 |  60 |  62 | 74 |  6 | 1924 |  489 |  67 |  242 |  251 | 240 | N | W |  518 |  55 |  3 |  600.000 | N |\n",
       "| -Bill Buckner | 629 | 168 | 18 |  73 | 102 | 40 | 18 | 8424 | 2464 | 164 | 1008 | 1072 | 402 | A | E | 1067 | 157 | 14 |  776.667 | A |\n",
       "| -Brett Butler | 587 | 163 |  4 |  92 |  51 | 70 |  6 | 2695 |  747 |  17 |  442 |  198 | 317 | A | E |  434 |   9 |  3 |  765.000 | A |\n",
       "| -Bob Dernier | 324 |  73 |  4 |  32 |  18 | 22 |  7 | 1931 |  491 |  13 |  291 |  108 | 180 | N | E |  222 |   3 |  3 |  708.333 | N |\n",
       "| -Bo Diaz | 474 | 129 | 10 |  50 |  56 | 40 | 10 | 2331 |  604 |  61 |  246 |  327 | 166 | N | W |  732 |  83 | 13 |  750.000 | N |\n",
       "| -Bill Doran | 550 | 152 |  6 |  92 |  37 | 81 |  5 | 2308 |  633 |  32 |  349 |  182 | 308 | N | W |  262 | 329 | 16 |  625.000 | N |\n",
       "| -Brian Downing | 513 | 137 | 20 |  90 |  95 | 90 | 14 | 5201 | 1382 | 166 |  763 |  734 | 784 | A | W |  267 |   5 |  3 |  900.000 | A |\n",
       "| -Billy Hatcher | 419 | 108 |  6 |  55 |  36 | 22 |  3 |  591 |  149 |   8 |   80 |   46 |  31 | N | W |  226 |   7 |  4 |  110.000 | N |\n",
       "| -Brook Jacoby | 583 | 168 | 17 |  83 |  80 | 56 |  5 | 1646 |  452 |  44 |  219 |  208 | 136 | A | E |  109 | 292 | 25 |  612.500 | A |\n",
       "| -Bob Kearney | 204 |  49 |  6 |  23 |  25 | 12 |  7 | 1309 |  308 |  27 |  126 |  132 |  66 | A | W |  419 |  46 |  5 |  300.000 | A |\n",
       "| -Bill Madlock | 379 | 106 | 10 |  38 |  60 | 30 | 14 | 6207 | 1906 | 146 |  859 |  803 | 571 | N | W |   72 | 170 | 24 |  850.000 | N |\n",
       "| ⋮ | ⋮ | ⋮ | ⋮ | ⋮ | ⋮ | ⋮ | ⋮ | ⋮ | ⋮ | ⋮ | ⋮ | ⋮ | ⋮ | ⋮ | ⋮ | ⋮ | ⋮ | ⋮ | ⋮ | ⋮ |\n",
       "| -Tony Fernandez | 687 | 213 | 10 |  91 |  65 |  27 |  4 | 1518 |  448 |  15 |  196 |  137 |  89 | A | E |  294 | 445 | 13 |  350.000 | A |\n",
       "| -Tim Flannery | 368 | 103 |  3 |  48 |  28 |  54 |  8 | 1897 |  493 |   9 |  207 |  162 | 198 | N | W |  209 | 246 |  3 |  326.667 | N |\n",
       "| -Tom Foley | 263 |  70 |  1 |  26 |  23 |  30 |  4 |  888 |  220 |   9 |   83 |   82 |  86 | N | E |   81 | 147 |  4 |  250.000 | N |\n",
       "| -Tony Gwynn | 642 | 211 | 14 | 107 |  59 |  52 |  5 | 2364 |  770 |  27 |  352 |  230 | 193 | N | W |  337 |  19 |  4 |  740.000 | N |\n",
       "| -Terry Harper | 265 |  68 |  8 |  26 |  30 |  29 |  7 | 1337 |  339 |  32 |  135 |  163 | 128 | N | W |   92 |   5 |  3 |  425.000 | A |\n",
       "| -Tommy Herr | 559 | 141 |  2 |  48 |  61 |  73 |  8 | 3162 |  874 |  16 |  421 |  349 | 359 | N | E |  352 | 414 |  9 |  925.000 | N |\n",
       "| -Tim Hulett | 520 | 120 | 17 |  53 |  44 |  21 |  4 |  927 |  227 |  22 |  106 |   80 |  52 | A | W |   70 | 144 | 11 |  185.000 | A |\n",
       "| -Terry Kennedy |  19 |   4 |  1 |   2 |   3 |   1 |  1 |   19 |    4 |   1 |    2 |    3 |   1 | N | W |  692 |  70 |  8 |  920.000 | A |\n",
       "| -Tito Landrum | 205 |  43 |  2 |  24 |  17 |  20 |  7 |  854 |  219 |  12 |  105 |   99 |  71 | N | E |  131 |   6 |  1 |  286.667 | N |\n",
       "| -Tim Laudner | 193 |  47 | 10 |  21 |  29 |  24 |  6 | 1136 |  256 |  42 |  129 |  139 | 106 | A | W |  299 |  13 |  5 |  245.000 | A |\n",
       "| -Tom Paciorek | 213 |  61 |  4 |  17 |  22 |   3 | 17 | 4061 | 1145 |  83 |  488 |  491 | 244 | A | W |  178 |  45 |  4 |  235.000 | A |\n",
       "| -Tony Pena | 510 | 147 | 10 |  56 |  52 |  53 |  7 | 2872 |  821 |  63 |  307 |  340 | 174 | N | E |  810 |  99 | 18 | 1150.000 | N |\n",
       "| -Terry Pendleton | 578 | 138 |  1 |  56 |  59 |  34 |  3 | 1399 |  357 |   7 |  149 |  161 |  87 | N | E |  133 | 371 | 20 |  160.000 | N |\n",
       "| -Tony Phillips | 441 | 113 |  5 |  76 |  52 |  76 |  5 | 1546 |  397 |  17 |  226 |  149 | 191 | A | W |  160 | 290 | 11 |  425.000 | A |\n",
       "| -Terry Puhl | 172 |  42 |  3 |  17 |  14 |  15 | 10 | 4086 | 1150 |  57 |  579 |  363 | 406 | N | W |   65 |   0 |  0 |  900.000 | N |\n",
       "| -Ted Simmons | 127 |  32 |  4 |  14 |  25 |  12 | 19 | 8396 | 2402 | 242 | 1048 | 1348 | 819 | N | W |  167 |  18 |  6 |  500.000 | N |\n",
       "| -Tim Teufel | 279 |  69 |  4 |  35 |  31 |  32 |  4 | 1359 |  355 |  31 |  180 |  148 | 158 | N | E |  133 | 173 |  9 |  277.500 | N |\n",
       "| -Tim Wallach | 480 | 112 | 18 |  50 |  71 |  44 |  7 | 3031 |  771 | 110 |  338 |  406 | 239 | N | E |   94 | 270 | 16 |  750.000 | N |\n",
       "| -Vince Coleman | 600 | 139 |  0 |  94 |  29 |  60 |  2 | 1236 |  309 |   1 |  201 |   69 | 110 | N | E |  300 |  12 |  9 |  160.000 | N |\n",
       "| -Von Hayes | 610 | 186 | 19 | 107 |  98 |  74 |  6 | 2728 |  753 |  69 |  399 |  366 | 286 | N | E | 1182 |  96 | 13 | 1300.000 | N |\n",
       "| -Vance Law | 360 |  81 |  5 |  37 |  44 |  37 |  7 | 2268 |  566 |  41 |  279 |  257 | 246 | N | E |  170 | 284 |  3 |  525.000 | N |\n",
       "| -Wally Backman | 387 | 124 |  1 |  67 |  27 |  36 |  7 | 1775 |  506 |   6 |  272 |  125 | 194 | N | E |  186 | 290 | 17 |  550.000 | N |\n",
       "| -Wade Boggs | 580 | 207 |  8 | 107 |  71 | 105 |  5 | 2778 |  978 |  32 |  474 |  322 | 417 | A | E |  121 | 267 | 19 | 1600.000 | A |\n",
       "| -Will Clark | 408 | 117 | 11 |  66 |  41 |  34 |  1 |  408 |  117 |  11 |   66 |   41 |  34 | N | W |  942 |  72 | 11 |  120.000 | N |\n",
       "| -Wally Joyner | 593 | 172 | 22 |  82 | 100 |  57 |  1 |  593 |  172 |  22 |   82 |  100 |  57 | A | W | 1222 | 139 | 15 |  165.000 | A |\n",
       "| -Willie McGee | 497 | 127 |  7 |  65 |  48 |  37 |  5 | 2703 |  806 |  32 |  379 |  311 | 138 | N | E |  325 |   9 |  3 |  700.000 | N |\n",
       "| -Willie Randolph | 492 | 136 |  5 |  76 |  50 |  94 | 12 | 5511 | 1511 |  39 |  897 |  451 | 875 | A | E |  313 | 381 | 20 |  875.000 | A |\n",
       "| -Wayne Tolleson | 475 | 126 |  3 |  61 |  43 |  52 |  6 | 1700 |  433 |   7 |  217 |   93 | 146 | A | W |   37 | 113 |  7 |  385.000 | A |\n",
       "| -Willie Upshaw | 573 | 144 |  9 |  85 |  60 |  78 |  8 | 3198 |  857 |  97 |  470 |  420 | 332 | A | E | 1314 | 131 | 12 |  960.000 | A |\n",
       "| -Willie Wilson | 631 | 170 |  9 |  77 |  44 |  31 | 11 | 4908 | 1457 |  30 |  775 |  357 | 249 | A | W |  408 |   4 |  3 | 1000.000 | A |\n",
       "\n"
      ],
      "text/plain": [
       "                  AtBat Hits HmRun Runs RBI Walks Years CAtBat CHits CHmRun\n",
       "-Alan Ashby       315    81   7     24   38 39    14    3449    835   69   \n",
       "-Alvin Davis      479   130  18     66   72 76     3    1624    457   63   \n",
       "-Andre Dawson     496   141  20     65   78 37    11    5628   1575  225   \n",
       "-Andres Galarraga 321    87  10     39   42 30     2     396    101   12   \n",
       "-Alfredo Griffin  594   169   4     74   51 35    11    4408   1133   19   \n",
       "-Al Newman        185    37   1     23    8 21     2     214     42    1   \n",
       "-Argenis Salazar  298    73   0     24   24  7     3     509    108    0   \n",
       "-Andres Thomas    323    81   6     26   32  8     2     341     86    6   \n",
       "-Andre Thornton   401    92  17     49   66 65    13    5206   1332  253   \n",
       "-Alan Trammell    574   159  21    107   75 59    10    4631   1300   90   \n",
       "-Alex Trevino     202    53   4     31   26 27     9    1876    467   15   \n",
       "-Andy VanSlyke    418   113  13     48   61 47     4    1512    392   41   \n",
       "-Alan Wiggins     239    60   0     30   11 22     6    1941    510    4   \n",
       "-Bill Almon       196    43   7     29   27 30    13    3231    825   36   \n",
       "-Buddy Bell       568   158  20     89   75 73    15    8068   2273  177   \n",
       "-Buddy Biancalana 190    46   2     24    8 15     5     479    102    5   \n",
       "-Bruce Bochy      127    32   8     16   22 14     8     727    180   24   \n",
       "-Barry Bonds      413    92  16     72   48 65     1     413     92   16   \n",
       "-Bobby Bonilla    426   109   3     55   43 62     1     426    109    3   \n",
       "-Bob Brenly       472   116  16     60   62 74     6    1924    489   67   \n",
       "-Bill Buckner     629   168  18     73  102 40    18    8424   2464  164   \n",
       "-Brett Butler     587   163   4     92   51 70     6    2695    747   17   \n",
       "-Bob Dernier      324    73   4     32   18 22     7    1931    491   13   \n",
       "-Bo Diaz          474   129  10     50   56 40    10    2331    604   61   \n",
       "-Bill Doran       550   152   6     92   37 81     5    2308    633   32   \n",
       "-Brian Downing    513   137  20     90   95 90    14    5201   1382  166   \n",
       "-Billy Hatcher    419   108   6     55   36 22     3     591    149    8   \n",
       "-Brook Jacoby     583   168  17     83   80 56     5    1646    452   44   \n",
       "-Bob Kearney      204    49   6     23   25 12     7    1309    308   27   \n",
       "-Bill Madlock     379   106  10     38   60 30    14    6207   1906  146   \n",
       "⋮                 ⋮     ⋮    ⋮     ⋮    ⋮   ⋮     ⋮     ⋮      ⋮     ⋮     \n",
       "-Tony Fernandez   687   213  10     91   65  27    4    1518    448   15   \n",
       "-Tim Flannery     368   103   3     48   28  54    8    1897    493    9   \n",
       "-Tom Foley        263    70   1     26   23  30    4     888    220    9   \n",
       "-Tony Gwynn       642   211  14    107   59  52    5    2364    770   27   \n",
       "-Terry Harper     265    68   8     26   30  29    7    1337    339   32   \n",
       "-Tommy Herr       559   141   2     48   61  73    8    3162    874   16   \n",
       "-Tim Hulett       520   120  17     53   44  21    4     927    227   22   \n",
       "-Terry Kennedy     19     4   1      2    3   1    1      19      4    1   \n",
       "-Tito Landrum     205    43   2     24   17  20    7     854    219   12   \n",
       "-Tim Laudner      193    47  10     21   29  24    6    1136    256   42   \n",
       "-Tom Paciorek     213    61   4     17   22   3   17    4061   1145   83   \n",
       "-Tony Pena        510   147  10     56   52  53    7    2872    821   63   \n",
       "-Terry Pendleton  578   138   1     56   59  34    3    1399    357    7   \n",
       "-Tony Phillips    441   113   5     76   52  76    5    1546    397   17   \n",
       "-Terry Puhl       172    42   3     17   14  15   10    4086   1150   57   \n",
       "-Ted Simmons      127    32   4     14   25  12   19    8396   2402  242   \n",
       "-Tim Teufel       279    69   4     35   31  32    4    1359    355   31   \n",
       "-Tim Wallach      480   112  18     50   71  44    7    3031    771  110   \n",
       "-Vince Coleman    600   139   0     94   29  60    2    1236    309    1   \n",
       "-Von Hayes        610   186  19    107   98  74    6    2728    753   69   \n",
       "-Vance Law        360    81   5     37   44  37    7    2268    566   41   \n",
       "-Wally Backman    387   124   1     67   27  36    7    1775    506    6   \n",
       "-Wade Boggs       580   207   8    107   71 105    5    2778    978   32   \n",
       "-Will Clark       408   117  11     66   41  34    1     408    117   11   \n",
       "-Wally Joyner     593   172  22     82  100  57    1     593    172   22   \n",
       "-Willie McGee     497   127   7     65   48  37    5    2703    806   32   \n",
       "-Willie Randolph  492   136   5     76   50  94   12    5511   1511   39   \n",
       "-Wayne Tolleson   475   126   3     61   43  52    6    1700    433    7   \n",
       "-Willie Upshaw    573   144   9     85   60  78    8    3198    857   97   \n",
       "-Willie Wilson    631   170   9     77   44  31   11    4908   1457   30   \n",
       "                  CRuns CRBI CWalks League Division PutOuts Assists Errors\n",
       "-Alan Ashby        321   414 375    N      W         632     43     10    \n",
       "-Alvin Davis       224   266 263    A      W         880     82     14    \n",
       "-Andre Dawson      828   838 354    N      E         200     11      3    \n",
       "-Andres Galarraga   48    46  33    N      E         805     40      4    \n",
       "-Alfredo Griffin   501   336 194    A      W         282    421     25    \n",
       "-Al Newman          30     9  24    N      E          76    127      7    \n",
       "-Argenis Salazar    41    37  12    A      W         121    283      9    \n",
       "-Andres Thomas      32    34   8    N      W         143    290     19    \n",
       "-Andre Thornton    784   890 866    A      E           0      0      0    \n",
       "-Alan Trammell     702   504 488    A      E         238    445     22    \n",
       "-Alex Trevino      192   186 161    N      W         304     45     11    \n",
       "-Andy VanSlyke     205   204 203    N      E         211     11      7    \n",
       "-Alan Wiggins      309   103 207    A      E         121    151      6    \n",
       "-Bill Almon        376   290 238    N      E          80     45      8    \n",
       "-Buddy Bell       1045   993 732    N      W         105    290     10    \n",
       "-Buddy Biancalana   65    23  39    A      W         102    177     16    \n",
       "-Bruce Bochy        67    82  56    N      W         202     22      2    \n",
       "-Barry Bonds        72    48  65    N      E         280      9      5    \n",
       "-Bobby Bonilla      55    43  62    A      W         361     22      2    \n",
       "-Bob Brenly        242   251 240    N      W         518     55      3    \n",
       "-Bill Buckner     1008  1072 402    A      E        1067    157     14    \n",
       "-Brett Butler      442   198 317    A      E         434      9      3    \n",
       "-Bob Dernier       291   108 180    N      E         222      3      3    \n",
       "-Bo Diaz           246   327 166    N      W         732     83     13    \n",
       "-Bill Doran        349   182 308    N      W         262    329     16    \n",
       "-Brian Downing     763   734 784    A      W         267      5      3    \n",
       "-Billy Hatcher      80    46  31    N      W         226      7      4    \n",
       "-Brook Jacoby      219   208 136    A      E         109    292     25    \n",
       "-Bob Kearney       126   132  66    A      W         419     46      5    \n",
       "-Bill Madlock      859   803 571    N      W          72    170     24    \n",
       "⋮                 ⋮     ⋮    ⋮      ⋮      ⋮        ⋮       ⋮       ⋮     \n",
       "-Tony Fernandez    196   137  89    A      E         294    445     13    \n",
       "-Tim Flannery      207   162 198    N      W         209    246      3    \n",
       "-Tom Foley          83    82  86    N      E          81    147      4    \n",
       "-Tony Gwynn        352   230 193    N      W         337     19      4    \n",
       "-Terry Harper      135   163 128    N      W          92      5      3    \n",
       "-Tommy Herr        421   349 359    N      E         352    414      9    \n",
       "-Tim Hulett        106    80  52    A      W          70    144     11    \n",
       "-Terry Kennedy       2     3   1    N      W         692     70      8    \n",
       "-Tito Landrum      105    99  71    N      E         131      6      1    \n",
       "-Tim Laudner       129   139 106    A      W         299     13      5    \n",
       "-Tom Paciorek      488   491 244    A      W         178     45      4    \n",
       "-Tony Pena         307   340 174    N      E         810     99     18    \n",
       "-Terry Pendleton   149   161  87    N      E         133    371     20    \n",
       "-Tony Phillips     226   149 191    A      W         160    290     11    \n",
       "-Terry Puhl        579   363 406    N      W          65      0      0    \n",
       "-Ted Simmons      1048  1348 819    N      W         167     18      6    \n",
       "-Tim Teufel        180   148 158    N      E         133    173      9    \n",
       "-Tim Wallach       338   406 239    N      E          94    270     16    \n",
       "-Vince Coleman     201    69 110    N      E         300     12      9    \n",
       "-Von Hayes         399   366 286    N      E        1182     96     13    \n",
       "-Vance Law         279   257 246    N      E         170    284      3    \n",
       "-Wally Backman     272   125 194    N      E         186    290     17    \n",
       "-Wade Boggs        474   322 417    A      E         121    267     19    \n",
       "-Will Clark         66    41  34    N      W         942     72     11    \n",
       "-Wally Joyner       82   100  57    A      W        1222    139     15    \n",
       "-Willie McGee      379   311 138    N      E         325      9      3    \n",
       "-Willie Randolph   897   451 875    A      E         313    381     20    \n",
       "-Wayne Tolleson    217    93 146    A      W          37    113      7    \n",
       "-Willie Upshaw     470   420 332    A      E        1314    131     12    \n",
       "-Willie Wilson     775   357 249    A      W         408      4      3    \n",
       "                  Salary   NewLeague\n",
       "-Alan Ashby        475.000 N        \n",
       "-Alvin Davis       480.000 A        \n",
       "-Andre Dawson      500.000 N        \n",
       "-Andres Galarraga   91.500 N        \n",
       "-Alfredo Griffin   750.000 A        \n",
       "-Al Newman          70.000 A        \n",
       "-Argenis Salazar   100.000 A        \n",
       "-Andres Thomas      75.000 N        \n",
       "-Andre Thornton   1100.000 A        \n",
       "-Alan Trammell     517.143 A        \n",
       "-Alex Trevino      512.500 N        \n",
       "-Andy VanSlyke     550.000 N        \n",
       "-Alan Wiggins      700.000 A        \n",
       "-Bill Almon        240.000 N        \n",
       "-Buddy Bell        775.000 N        \n",
       "-Buddy Biancalana  175.000 A        \n",
       "-Bruce Bochy       135.000 N        \n",
       "-Barry Bonds       100.000 N        \n",
       "-Bobby Bonilla     115.000 N        \n",
       "-Bob Brenly        600.000 N        \n",
       "-Bill Buckner      776.667 A        \n",
       "-Brett Butler      765.000 A        \n",
       "-Bob Dernier       708.333 N        \n",
       "-Bo Diaz           750.000 N        \n",
       "-Bill Doran        625.000 N        \n",
       "-Brian Downing     900.000 A        \n",
       "-Billy Hatcher     110.000 N        \n",
       "-Brook Jacoby      612.500 A        \n",
       "-Bob Kearney       300.000 A        \n",
       "-Bill Madlock      850.000 N        \n",
       "⋮                 ⋮        ⋮        \n",
       "-Tony Fernandez    350.000 A        \n",
       "-Tim Flannery      326.667 N        \n",
       "-Tom Foley         250.000 N        \n",
       "-Tony Gwynn        740.000 N        \n",
       "-Terry Harper      425.000 A        \n",
       "-Tommy Herr        925.000 N        \n",
       "-Tim Hulett        185.000 A        \n",
       "-Terry Kennedy     920.000 A        \n",
       "-Tito Landrum      286.667 N        \n",
       "-Tim Laudner       245.000 A        \n",
       "-Tom Paciorek      235.000 A        \n",
       "-Tony Pena        1150.000 N        \n",
       "-Terry Pendleton   160.000 N        \n",
       "-Tony Phillips     425.000 A        \n",
       "-Terry Puhl        900.000 N        \n",
       "-Ted Simmons       500.000 N        \n",
       "-Tim Teufel        277.500 N        \n",
       "-Tim Wallach       750.000 N        \n",
       "-Vince Coleman     160.000 N        \n",
       "-Von Hayes        1300.000 N        \n",
       "-Vance Law         525.000 N        \n",
       "-Wally Backman     550.000 N        \n",
       "-Wade Boggs       1600.000 A        \n",
       "-Will Clark        120.000 N        \n",
       "-Wally Joyner      165.000 A        \n",
       "-Willie McGee      700.000 N        \n",
       "-Willie Randolph   875.000 A        \n",
       "-Wayne Tolleson    385.000 A        \n",
       "-Willie Upshaw     960.000 A        \n",
       "-Willie Wilson    1000.000 A        "
      ]
     },
     "metadata": {},
     "output_type": "display_data"
    }
   ],
   "source": [
    "Hitters"
   ]
  }
 ],
 "metadata": {
  "kernelspec": {
   "display_name": "R",
   "language": "R",
   "name": "ir"
  },
  "language_info": {
   "codemirror_mode": "r",
   "file_extension": ".r",
   "mimetype": "text/x-r-source",
   "name": "R",
   "pygments_lexer": "r",
   "version": "4.3.2"
  }
 },
 "nbformat": 4,
 "nbformat_minor": 2
}
