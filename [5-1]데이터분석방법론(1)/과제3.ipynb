{
 "cells": [
  {
   "cell_type": "markdown",
   "metadata": {},
   "source": [
    "### 1번\n",
    "\n",
    "한 화학공정에서 온도와 수율에 관한 실험으로부터 다음과 같은 데이터가 얻어졌다고 하자.\n",
    "\n",
    "xi = [-5, -4, -3, -2, -1, 0, 1,  2,  3,  4,  5]  \n",
    "yi = [ 1,  5,  4,  7, 10, 8, 9, 13, 14, 13, 18]\n",
    "\n",
    "단순 선형 회귀모형  \n",
    "<img src=\"https://latex.codecogs.com/svg.image?y_i=\\beta_0&plus;\\beta_1\\cdot&space;x_i&plus;u_i,\\;\\;i=1,2,\\cdots,11,\\;\\;u_i\\sim&space;iid\\;N(0,\\sigma^2)\">  \n",
    "을 가정하고 다음 물음에 답하여라.\n",
    "\n",
    "(1) 최소제곱법에 의해서 단순 선형 회귀 모형을 적합하여라."
   ]
  },
  {
   "cell_type": "code",
   "execution_count": 69,
   "metadata": {
    "vscode": {
     "languageId": "r"
    }
   },
   "outputs": [
    {
     "name": "stdout",
     "output_type": "stream",
     "text": [
      "beta_0: 9.273 \n",
      "beta_1: 1.436"
     ]
    },
    {
     "data": {
      "image/png": "[encoded data removed]",
      "text/plain": [
       "plot without title"
      ]
     },
     "metadata": {
      "image/png": {
       "height": 420,
       "width": 420
      }
     },
     "output_type": "display_data"
    }
   ],
   "source": [
    "x = c(-5:5)\n",
    "y = c(1,5,4,7,10,8,9,13,14,13,18)\n",
    "\n",
    "x_bar = mean(x)\n",
    "y_bar = mean(y)\n",
    "\n",
    "S_xy = sum((x-x_bar)*(y-y_bar)) \n",
    "S_xx = sum((x-x_bar)^2)\n",
    "\n",
    "beta_1 = S_xy / S_xx\n",
    "beta_0 = y_bar - beta_1 * x_bar\n",
    "\n",
    "cat(\"beta_0:\", round(beta_0, 3), \"\\n\")\n",
    "cat(\"beta_1:\", round(beta_1, 3))\n",
    "\n",
    "# 산점도 그리기\n",
    "plot(x, y)\n",
    "\n",
    "# 적합된 선 그리기\n",
    "abline(result, col = \"red\")"
   ]
  },
  {
   "cell_type": "markdown",
   "metadata": {},
   "source": [
    "적합된 단순 선형 회귀 모형은 다음과 같다.  \n",
    "<img src=\"https://latex.codecogs.com/svg.image?\\hat{y_i}=9.273&plus;1.436\\cdot\\hat{x_i}\">"
   ]
  },
  {
   "cell_type": "markdown",
   "metadata": {},
   "source": [
    "(2) <img src=\"https://latex.codecogs.com/svg.image?H_0:\\beta_1=0\">을 유의수준 α=0.05 하에서 검정하여라."
   ]
  },
  {
   "cell_type": "code",
   "execution_count": 43,
   "metadata": {
    "vscode": {
     "languageId": "r"
    }
   },
   "outputs": [
    {
     "data": {
      "text/html": [
       "<table class=\"dataframe\">\n",
       "<caption>A anova: 2 × 5</caption>\n",
       "<thead>\n",
       "\t<tr><th></th><th scope=col>Df</th><th scope=col>Sum Sq</th><th scope=col>Mean Sq</th><th scope=col>F value</th><th scope=col>Pr(&gt;F)</th></tr>\n",
       "\t<tr><th></th><th scope=col>&lt;int&gt;</th><th scope=col>&lt;dbl&gt;</th><th scope=col>&lt;dbl&gt;</th><th scope=col>&lt;dbl&gt;</th><th scope=col>&lt;dbl&gt;</th></tr>\n",
       "</thead>\n",
       "<tbody>\n",
       "\t<tr><th scope=row>x</th><td>1</td><td>226.94545</td><td>226.945455</td><td>96.17979</td><td>4.206951e-06</td></tr>\n",
       "\t<tr><th scope=row>Residuals</th><td>9</td><td> 21.23636</td><td>  2.359596</td><td>      NA</td><td>          NA</td></tr>\n",
       "</tbody>\n",
       "</table>\n"
      ],
      "text/latex": [
       "A anova: 2 × 5\n",
       "\\begin{tabular}{r|lllll}\n",
       "  & Df & Sum Sq & Mean Sq & F value & Pr(>F)\\\\\n",
       "  & <int> & <dbl> & <dbl> & <dbl> & <dbl>\\\\\n",
       "\\hline\n",
       "\tx & 1 & 226.94545 & 226.945455 & 96.17979 & 4.206951e-06\\\\\n",
       "\tResiduals & 9 &  21.23636 &   2.359596 &       NA &           NA\\\\\n",
       "\\end{tabular}\n"
      ],
      "text/markdown": [
       "\n",
       "A anova: 2 × 5\n",
       "\n",
       "| <!--/--> | Df &lt;int&gt; | Sum Sq &lt;dbl&gt; | Mean Sq &lt;dbl&gt; | F value &lt;dbl&gt; | Pr(&gt;F) &lt;dbl&gt; |\n",
       "|---|---|---|---|---|---|\n",
       "| x | 1 | 226.94545 | 226.945455 | 96.17979 | 4.206951e-06 |\n",
       "| Residuals | 9 |  21.23636 |   2.359596 |       NA |           NA |\n",
       "\n"
      ],
      "text/plain": [
       "          Df Sum Sq    Mean Sq    F value  Pr(>F)      \n",
       "x         1  226.94545 226.945455 96.17979 4.206951e-06\n",
       "Residuals 9   21.23636   2.359596       NA           NA"
      ]
     },
     "metadata": {},
     "output_type": "display_data"
    }
   ],
   "source": [
    "result = lm(y~x)\n",
    "anova(result)\n"
   ]
  },
  {
   "cell_type": "markdown",
   "metadata": {},
   "source": [
    "분산분석 결과 P-value가 0.05보다 작은 값이므로 귀무가설은 기각된다."
   ]
  },
  {
   "cell_type": "markdown",
   "metadata": {},
   "source": [
    "(3) β1 와 x=3에서의 y 값에 대한 신뢰 구간을 구하여라"
   ]
  },
  {
   "cell_type": "code",
   "execution_count": 65,
   "metadata": {
    "vscode": {
     "languageId": "r"
    }
   },
   "outputs": [
    {
     "data": {
      "text/html": [
       "<table class=\"dataframe\">\n",
       "<caption>A matrix: 1 × 3 of type dbl</caption>\n",
       "<thead>\n",
       "\t<tr><th></th><th scope=col>fit</th><th scope=col>lwr</th><th scope=col>upr</th></tr>\n",
       "</thead>\n",
       "<tbody>\n",
       "\t<tr><th scope=row>1</th><td>13.58182</td><td>12.13764</td><td>15.026</td></tr>\n",
       "</tbody>\n",
       "</table>\n"
      ],
      "text/latex": [
       "A matrix: 1 × 3 of type dbl\n",
       "\\begin{tabular}{r|lll}\n",
       "  & fit & lwr & upr\\\\\n",
       "\\hline\n",
       "\t1 & 13.58182 & 12.13764 & 15.026\\\\\n",
       "\\end{tabular}\n"
      ],
      "text/markdown": [
       "\n",
       "A matrix: 1 × 3 of type dbl\n",
       "\n",
       "| <!--/--> | fit | lwr | upr |\n",
       "|---|---|---|---|\n",
       "| 1 | 13.58182 | 12.13764 | 15.026 |\n",
       "\n"
      ],
      "text/plain": [
       "  fit      lwr      upr   \n",
       "1 13.58182 12.13764 15.026"
      ]
     },
     "metadata": {},
     "output_type": "display_data"
    },
    {
     "data": {
      "text/html": [
       "<table class=\"dataframe\">\n",
       "<caption>A matrix: 1 × 3 of type dbl</caption>\n",
       "<thead>\n",
       "\t<tr><th></th><th scope=col>fit</th><th scope=col>lwr</th><th scope=col>upr</th></tr>\n",
       "</thead>\n",
       "<tbody>\n",
       "\t<tr><th scope=row>1</th><td>13.58182</td><td>9.818767</td><td>17.34487</td></tr>\n",
       "</tbody>\n",
       "</table>\n"
      ],
      "text/latex": [
       "A matrix: 1 × 3 of type dbl\n",
       "\\begin{tabular}{r|lll}\n",
       "  & fit & lwr & upr\\\\\n",
       "\\hline\n",
       "\t1 & 13.58182 & 9.818767 & 17.34487\\\\\n",
       "\\end{tabular}\n"
      ],
      "text/markdown": [
       "\n",
       "A matrix: 1 × 3 of type dbl\n",
       "\n",
       "| <!--/--> | fit | lwr | upr |\n",
       "|---|---|---|---|\n",
       "| 1 | 13.58182 | 9.818767 | 17.34487 |\n",
       "\n"
      ],
      "text/plain": [
       "  fit      lwr      upr     \n",
       "1 13.58182 9.818767 17.34487"
      ]
     },
     "metadata": {},
     "output_type": "display_data"
    }
   ],
   "source": [
    "input_data = data.frame(x=3)\n",
    "predict(result, newdata=input_data, int='c') # 신뢰구간\n",
    "predict(result, newdata=input_data, int='p') # 예측구간"
   ]
  },
  {
   "cell_type": "markdown",
   "metadata": {},
   "source": [
    "적합된 단순 선형 회귀모형에서 x=3 일 때의 신뢰 구간은 (12.138 ~ 15.026) 이다."
   ]
  },
  {
   "cell_type": "markdown",
   "metadata": {},
   "source": [
    "### 2번\n",
    "\n",
    "어떤 공정에서 나오는 제품의 강도가 그 공정의 온도와 압력에 대한 영향을 받는가를 조사하기 위하여 다음의 데이터를 얻었다.\n",
    "\n",
    "공정온도 x1 = (195, 179, 205, 204, 201, 184, 210, 209)  \n",
    "공정압력 x2 = (57, 61, 60, 62, 61, 54, 58, 61)  \n",
    "강도 y = (81.4, 122.2, 101.7, 175.5, 150.3, 64.8, 92.1, 113.8)  \n",
    "\n",
    "(A) 선형회귀모형, <img src=\"https://latex.codecogs.com/svg.image?y_i=\\beta_0&plus;\\beta_1&space;x_{1i}&plus;\\beta_2&space;x_{2i}&plus;u_i,\\;\\;i=1,2,\\cdots,8,\\;\\;u_i\\sim^{iid}N(0,\\sigma^2)\">이 성립된다고 가정하고 데이터로부터 회귀계수를 추정하라."
   ]
  },
  {
   "cell_type": "code",
   "execution_count": 71,
   "metadata": {
    "vscode": {
     "languageId": "r"
    }
   },
   "outputs": [
    {
     "data": {
      "text/plain": [
       "\n",
       "Call:\n",
       "lm(formula = y ~ x1 + x2)\n",
       "\n",
       "Coefficients:\n",
       "(Intercept)           x1           x2  \n",
       "  -553.9879      -0.1799      11.8549  \n"
      ]
     },
     "metadata": {},
     "output_type": "display_data"
    }
   ],
   "source": [
    "x1 = c(195, 179, 205, 204, 201, 184, 210, 209)\n",
    "x2 = c(57, 61, 60, 62, 61, 54, 58, 61)\n",
    "y = c(81.4, 122.2, 101.7, 175.5, 150.3, 64.8, 92.1, 113.8)\n",
    "\n",
    "result = lm(y~x1+x2)\n",
    "result"
   ]
  }
 ],
 "metadata": {
  "kernelspec": {
   "display_name": "R",
   "language": "R",
   "name": "ir"
  },
  "language_info": {
   "codemirror_mode": "r",
   "file_extension": ".r",
   "mimetype": "text/x-r-source",
   "name": "R",
   "pygments_lexer": "r",
   "version": "4.3.2"
  }
 },
 "nbformat": 4,
 "nbformat_minor": 2
}
