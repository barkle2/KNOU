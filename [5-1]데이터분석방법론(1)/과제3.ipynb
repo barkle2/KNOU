{
 "cells": [
  {
   "cell_type": "markdown",
   "metadata": {},
   "source": [
    "### 1번\n",
    "\n",
    "한 화학공정에서 온도와 수율에 관한 실험으로부터 다음과 같은 데이터가 얻어졌다고 하자.\n",
    "\n",
    "xi = [-5, -4, -3, -2, -1, 0, 1,  2,  3,  4,  5]  \n",
    "yi = [ 1,  5,  4,  7, 10, 8, 9, 13, 14, 13, 18]\n",
    "\n",
    "단순 선형 회귀모형  \n",
    "<img src=\"https://latex.codecogs.com/svg.image?y_i=\\beta_0&plus;\\beta_1\\cdot&space;x_i&plus;u_i,\\;\\;i=1,2,\\cdots,11,\\;\\;u_i\\sim&space;iid\\;N(0,\\sigma^2)\">  \n",
    "을 가정하고 다음 물음에 답하여라.\n",
    "\n",
    "(1) 최소제곱법에 의해서 단순 선형 회귀 모형을 적합하여라."
   ]
  },
  {
   "cell_type": "code",
   "execution_count": 10,
   "metadata": {
    "vscode": {
     "languageId": "r"
    }
   },
   "outputs": [
    {
     "name": "stdout",
     "output_type": "stream",
     "text": [
      "beta_0: 9.273 \n",
      "beta_1: 1.436"
     ]
    },
    {
     "data": {
      "text/plain": [
       "\n",
       "Call:\n",
       "lm(formula = y ~ x)\n",
       "\n",
       "Residuals:\n",
       "    Min      1Q  Median      3Q     Max \n",
       "-2.0182 -1.1818  0.4182  1.1636  2.1636 \n",
       "\n",
       "Coefficients:\n",
       "            Estimate Std. Error t value Pr(>|t|)    \n",
       "(Intercept)   9.2727     0.4632  20.021 9.00e-09 ***\n",
       "x             1.4364     0.1465   9.807 4.21e-06 ***\n",
       "---\n",
       "Signif. codes:  0 '***' 0.001 '**' 0.01 '*' 0.05 '.' 0.1 ' ' 1\n",
       "\n",
       "Residual standard error: 1.536 on 9 degrees of freedom\n",
       "Multiple R-squared:  0.9144,\tAdjusted R-squared:  0.9049 \n",
       "F-statistic: 96.18 on 1 and 9 DF,  p-value: 4.207e-06\n"
      ]
     },
     "metadata": {},
     "output_type": "display_data"
    },
    {
     "data": {
      "image/png": "[encoded data removed]",
      "text/plain": [
       "plot without title"
      ]
     },
     "metadata": {
      "image/png": {
       "height": 420,
       "width": 420
      }
     },
     "output_type": "display_data"
    }
   ],
   "source": [
    "x = c(-5:5)\n",
    "y = c(1,5,4,7,10,8,9,13,14,13,18)\n",
    "\n",
    "x_bar = mean(x)\n",
    "y_bar = mean(y)\n",
    "\n",
    "S_xy = sum((x-x_bar)*(y-y_bar)) \n",
    "S_xx = sum((x-x_bar)^2)\n",
    "\n",
    "beta_1 = S_xy / S_xx\n",
    "beta_0 = y_bar - beta_1 * x_bar\n",
    "\n",
    "cat(\"beta_0:\", round(beta_0, 3), \"\\n\")\n",
    "cat(\"beta_1:\", round(beta_1, 3))\n",
    "\n",
    "# 산점도 그리기\n",
    "plot(x, y)\n",
    "\n",
    "# lm 함수로 풀 수도 있다.\n",
    "q1.lm = lm(y~x)\n",
    "summary(q1.lm)\n",
    "\n",
    "# 적합된 선 그리기\n",
    "abline(q1.lm, col = \"red\")"
   ]
  },
  {
   "cell_type": "markdown",
   "metadata": {},
   "source": [
    "적합된 단순 선형 회귀 모형은 다음과 같다.  \n",
    "<img src=\"https://latex.codecogs.com/svg.image?\\hat{y_i}=9.273&plus;1.436\\cdot\\hat{x_i}\">"
   ]
  },
  {
   "cell_type": "markdown",
   "metadata": {},
   "source": [
    "(2) <img src=\"https://latex.codecogs.com/svg.image?H_0:\\beta_1=0\">을 유의수준 α=0.05 하에서 검정하여라."
   ]
  },
  {
   "cell_type": "code",
   "execution_count": 11,
   "metadata": {
    "vscode": {
     "languageId": "r"
    }
   },
   "outputs": [
    {
     "data": {
      "text/plain": [
       "\n",
       "Call:\n",
       "lm(formula = y ~ x)\n",
       "\n",
       "Residuals:\n",
       "    Min      1Q  Median      3Q     Max \n",
       "-2.0182 -1.1818  0.4182  1.1636  2.1636 \n",
       "\n",
       "Coefficients:\n",
       "            Estimate Std. Error t value Pr(>|t|)    \n",
       "(Intercept)   9.2727     0.4632  20.021 9.00e-09 ***\n",
       "x             1.4364     0.1465   9.807 4.21e-06 ***\n",
       "---\n",
       "Signif. codes:  0 '***' 0.001 '**' 0.01 '*' 0.05 '.' 0.1 ' ' 1\n",
       "\n",
       "Residual standard error: 1.536 on 9 degrees of freedom\n",
       "Multiple R-squared:  0.9144,\tAdjusted R-squared:  0.9049 \n",
       "F-statistic: 96.18 on 1 and 9 DF,  p-value: 4.207e-06\n"
      ]
     },
     "metadata": {},
     "output_type": "display_data"
    }
   ],
   "source": [
    "summary(q1.lm)"
   ]
  },
  {
   "cell_type": "markdown",
   "metadata": {},
   "source": [
    "분산분석 결과 P-value가 0.05보다 작은 값이므로 귀무가설은 기각된다."
   ]
  },
  {
   "cell_type": "markdown",
   "metadata": {},
   "source": [
    "(3) β1 와 x=3에서의 y 값에 대한 신뢰 구간을 구하여라"
   ]
  },
  {
   "cell_type": "markdown",
   "metadata": {},
   "source": [
    "<img src=\"https://latex.codecogs.com/svg.image?\\hat{\\beta_1}\">은 평균이 β이고, 분산이 <img src=\"https://latex.codecogs.com/svg.image?\\frac{\\sigma^2}{S_{xx}}\">인 정규분포를 따른다.\n",
    "\n",
    "그러므로 (유의수준 0.05)일 때 <img src=\"https://latex.codecogs.com/svg.image?\\hat{\\beta_1}\">의 신뢰구간은 다음과 같이 구할 수 있다."
   ]
  },
  {
   "cell_type": "code",
   "execution_count": 12,
   "metadata": {
    "vscode": {
     "languageId": "r"
    }
   },
   "outputs": [
    {
     "name": "stdout",
     "output_type": "stream",
     "text": [
      "sigma_sq1: 2.359596 \n",
      "sigma_sq2: 2.359596 \n",
      "S_xx: 110 \n",
      "lower_bound: 1.149305 \n",
      "upper_bound: 1.723422 \n"
     ]
    }
   ],
   "source": [
    "# sigma_sq1: 모델에서 직접 sigma^2 값을 구한다.\n",
    "sigma_sq1 = summary(q1.lm)$sigma^2\n",
    "cat(\"sigma_sq1:\", sigma_sq1, \"\\n\")\n",
    "\n",
    "# sigma_sq2: 직접 잔차의 분산을 계산해서 sigma^2 값을 구한다.\n",
    "SS_res = sum((y-(beta_0+beta_1*x))^2)\n",
    "sigma_sq2 = SS_res / 9\n",
    "cat(\"sigma_sq2:\", sigma_sq2, \"\\n\")\n",
    "\n",
    "# 두 값은 동일하다.\n",
    "\n",
    "# S_xx 계산한다.\n",
    "S_xx = sum((x-x_bar)^2)\n",
    "cat(\"S_xx:\", S_xx, \"\\n\")\n",
    "\n",
    "lo_b = qnorm(0.025, mean = beta_1, sd = sqrt(sigma_sq1/S_xx))\n",
    "up_b = qnorm(0.975, mean = beta_1, sd = sqrt(sigma_sq1/S_xx))\n",
    "\n",
    "cat(\"lower_bound:\", lo_b, \"\\n\")\n",
    "cat(\"upper_bound:\", up_b, \"\\n\")"
   ]
  },
  {
   "cell_type": "code",
   "execution_count": 13,
   "metadata": {
    "vscode": {
     "languageId": "r"
    }
   },
   "outputs": [
    {
     "data": {
      "text/html": [
       "<table class=\"dataframe\">\n",
       "<caption>A matrix: 1 × 3 of type dbl</caption>\n",
       "<thead>\n",
       "\t<tr><th></th><th scope=col>fit</th><th scope=col>lwr</th><th scope=col>upr</th></tr>\n",
       "</thead>\n",
       "<tbody>\n",
       "\t<tr><th scope=row>1</th><td>13.58182</td><td>12.13764</td><td>15.026</td></tr>\n",
       "</tbody>\n",
       "</table>\n"
      ],
      "text/latex": [
       "A matrix: 1 × 3 of type dbl\n",
       "\\begin{tabular}{r|lll}\n",
       "  & fit & lwr & upr\\\\\n",
       "\\hline\n",
       "\t1 & 13.58182 & 12.13764 & 15.026\\\\\n",
       "\\end{tabular}\n"
      ],
      "text/markdown": [
       "\n",
       "A matrix: 1 × 3 of type dbl\n",
       "\n",
       "| <!--/--> | fit | lwr | upr |\n",
       "|---|---|---|---|\n",
       "| 1 | 13.58182 | 12.13764 | 15.026 |\n",
       "\n"
      ],
      "text/plain": [
       "  fit      lwr      upr   \n",
       "1 13.58182 12.13764 15.026"
      ]
     },
     "metadata": {},
     "output_type": "display_data"
    },
    {
     "data": {
      "text/html": [
       "<table class=\"dataframe\">\n",
       "<caption>A matrix: 1 × 3 of type dbl</caption>\n",
       "<thead>\n",
       "\t<tr><th></th><th scope=col>fit</th><th scope=col>lwr</th><th scope=col>upr</th></tr>\n",
       "</thead>\n",
       "<tbody>\n",
       "\t<tr><th scope=row>1</th><td>13.58182</td><td>9.818767</td><td>17.34487</td></tr>\n",
       "</tbody>\n",
       "</table>\n"
      ],
      "text/latex": [
       "A matrix: 1 × 3 of type dbl\n",
       "\\begin{tabular}{r|lll}\n",
       "  & fit & lwr & upr\\\\\n",
       "\\hline\n",
       "\t1 & 13.58182 & 9.818767 & 17.34487\\\\\n",
       "\\end{tabular}\n"
      ],
      "text/markdown": [
       "\n",
       "A matrix: 1 × 3 of type dbl\n",
       "\n",
       "| <!--/--> | fit | lwr | upr |\n",
       "|---|---|---|---|\n",
       "| 1 | 13.58182 | 9.818767 | 17.34487 |\n",
       "\n"
      ],
      "text/plain": [
       "  fit      lwr      upr     \n",
       "1 13.58182 9.818767 17.34487"
      ]
     },
     "metadata": {},
     "output_type": "display_data"
    }
   ],
   "source": [
    "input_data = data.frame(x=3)\n",
    "\n",
    "predict(q1.lm, newdata=input_data, int='c') # prediction of the mean response\n",
    "predict(q1.lm, newdata=input_data, int='p') # prediction of a future value"
   ]
  },
  {
   "cell_type": "markdown",
   "metadata": {},
   "source": [
    "<유의수준 0.05를 전제로>\n",
    "\n",
    "β1의 신뢰구간은 (1.149 ~ 1.723) 이다.  `\n",
    "\n",
    "적합된 단순 선형 회귀모형에서 x=3 일 때,  \n",
    "평균응답 예측의 신뢰 구간은 (12.138 ~ 15.026)  \n",
    "미래값 예측의 신뢰구간은 (9.819 ~ 17.345) 이다."
   ]
  },
  {
   "cell_type": "markdown",
   "metadata": {},
   "source": [
    "### 2번\n",
    "\n",
    "어떤 공정에서 나오는 제품의 강도가 그 공정의 온도와 압력에 대한 영향을 받는가를 조사하기 위하여 다음의 데이터를 얻었다.\n",
    "\n",
    "공정온도 x1 = (195, 179, 205, 204, 201, 184, 210, 209)  \n",
    "공정압력 x2 = (57, 61, 60, 62, 61, 54, 58, 61)  \n",
    "강도 y = (81.4, 122.2, 101.7, 175.5, 150.3, 64.8, 92.1, 113.8)  \n",
    "\n",
    "(A) 선형회귀모형, <img src=\"https://latex.codecogs.com/svg.image?y_i=\\beta_0&plus;\\beta_1&space;x_{1i}&plus;\\beta_2&space;x_{2i}&plus;u_i,\\;\\;i=1,2,\\cdots,8,\\;\\;u_i\\sim^{iid}N(0,\\sigma^2)\">이 성립된다고 가정하고 데이터로부터 회귀계수를 추정하라."
   ]
  },
  {
   "cell_type": "code",
   "execution_count": 14,
   "metadata": {
    "vscode": {
     "languageId": "r"
    }
   },
   "outputs": [
    {
     "data": {
      "text/plain": [
       "\n",
       "Call:\n",
       "lm(formula = y ~ x1 + x2)\n",
       "\n",
       "Residuals:\n",
       "      1       2       3       4       5       6       7       8 \n",
       " -5.259 -14.757 -18.724  31.186  17.301  11.727  -3.715 -17.759 \n",
       "\n",
       "Coefficients:\n",
       "             Estimate Std. Error t value Pr(>|t|)  \n",
       "(Intercept) -553.9879   196.7146  -2.816   0.0373 *\n",
       "x1            -0.1799     0.7616  -0.236   0.8226  \n",
       "x2            11.8549     3.2258   3.675   0.0144 *\n",
       "---\n",
       "Signif. codes:  0 '***' 0.001 '**' 0.01 '*' 0.05 '.' 0.1 ' ' 1\n",
       "\n",
       "Residual standard error: 21.61 on 5 degrees of freedom\n",
       "Multiple R-squared:  0.7481,\tAdjusted R-squared:  0.6474 \n",
       "F-statistic: 7.425 on 2 and 5 DF,  p-value: 0.03184\n"
      ]
     },
     "metadata": {},
     "output_type": "display_data"
    }
   ],
   "source": [
    "x1 = c(195, 179, 205, 204, 201, 184, 210, 209)\n",
    "x2 = c(57, 61, 60, 62, 61, 54, 58, 61)\n",
    "y = c(81.4, 122.2, 101.7, 175.5, 150.3, 64.8, 92.1, 113.8)\n",
    "\n",
    "q2.lm = lm(y~x1+x2)\n",
    "summary(q2.lm)"
   ]
  },
  {
   "cell_type": "markdown",
   "metadata": {},
   "source": [
    "회귀계수의 값 및 회귀식은 다음과 같다.\n",
    "\n",
    "<img src=\"https://latex.codecogs.com/svg.image?\\beta_0=-553.988,\\;\\;\\beta_1=-0.180\\;\\;\\beta_2=11.855\"> <br>\n",
    "\n",
    "<img src=\"https://latex.codecogs.com/svg.image?\\hat{y_i}=-553.988-0.180\\cdot\\hat{x_{1i}}&plus;11.855\\cdot\\hat{x_{2i}}\">\n"
   ]
  },
  {
   "cell_type": "markdown",
   "metadata": {},
   "source": [
    "(B) 오차분산이 σ^2=3 이라 하면 Var(b0), Var(b1), Var(b2)와 Cov(b1,b2)는 어떻게 되는가?"
   ]
  },
  {
   "cell_type": "markdown",
   "metadata": {},
   "source": [
    "우선 행렬 계산을 위해 Y, X, XT를 정의하고, beta_hat을 구하여 계산에 오류가 없는지 확인한다."
   ]
  },
  {
   "cell_type": "code",
   "execution_count": 15,
   "metadata": {
    "vscode": {
     "languageId": "r"
    }
   },
   "outputs": [
    {
     "data": {
      "text/html": [
       "<table class=\"dataframe\">\n",
       "<caption>A matrix: 3 × 1 of type dbl</caption>\n",
       "<tbody>\n",
       "\t<tr><th scope=row></th><td>-553.9878686</td></tr>\n",
       "\t<tr><th scope=row>x1</th><td>  -0.1799193</td></tr>\n",
       "\t<tr><th scope=row>x2</th><td>  11.8549259</td></tr>\n",
       "</tbody>\n",
       "</table>\n"
      ],
      "text/latex": [
       "A matrix: 3 × 1 of type dbl\n",
       "\\begin{tabular}{r|l}\n",
       "\t & -553.9878686\\\\\n",
       "\tx1 &   -0.1799193\\\\\n",
       "\tx2 &   11.8549259\\\\\n",
       "\\end{tabular}\n"
      ],
      "text/markdown": [
       "\n",
       "A matrix: 3 × 1 of type dbl\n",
       "\n",
       "| <!----> | -553.9878686 |\n",
       "| x1 |   -0.1799193 |\n",
       "| x2 |   11.8549259 |\n",
       "\n"
      ],
      "text/plain": [
       "   [,1]        \n",
       "   -553.9878686\n",
       "x1   -0.1799193\n",
       "x2   11.8549259"
      ]
     },
     "metadata": {},
     "output_type": "display_data"
    }
   ],
   "source": [
    "Y = matrix(y)\n",
    "X = cbind(1, x1, x2)\n",
    "XT = t(X)\n",
    "\n",
    "beta_hat = solve(XT %*% X) %*% XT %*% Y\n",
    "beta_hat"
   ]
  },
  {
   "cell_type": "markdown",
   "metadata": {
    "vscode": {
     "languageId": "r"
    }
   },
   "source": [
    "lm함수로 추정된 회귀계수 값과 동일하므로 계산에 문제가 없다고 볼 수 있으므로, var_beta_hat를 계산한다."
   ]
  },
  {
   "cell_type": "code",
   "execution_count": 16,
   "metadata": {
    "vscode": {
     "languageId": "r"
    }
   },
   "outputs": [
    {
     "data": {
      "text/html": [
       "<table class=\"dataframe\">\n",
       "<caption>A matrix: 3 × 3 of type dbl</caption>\n",
       "<thead>\n",
       "\t<tr><th></th><th scope=col></th><th scope=col>x1</th><th scope=col>x2</th></tr>\n",
       "</thead>\n",
       "<tbody>\n",
       "\t<tr><th scope=row></th><td>248.6249683</td><td>-0.403796751</td><td>-2.837920471</td></tr>\n",
       "\t<tr><th scope=row>x1</th><td> -0.4037968</td><td> 0.003726798</td><td>-0.005662562</td></tr>\n",
       "\t<tr><th scope=row>x2</th><td> -2.8379205</td><td>-0.005662562</td><td> 0.066856223</td></tr>\n",
       "</tbody>\n",
       "</table>\n"
      ],
      "text/latex": [
       "A matrix: 3 × 3 of type dbl\n",
       "\\begin{tabular}{r|lll}\n",
       "  &  & x1 & x2\\\\\n",
       "\\hline\n",
       "\t & 248.6249683 & -0.403796751 & -2.837920471\\\\\n",
       "\tx1 &  -0.4037968 &  0.003726798 & -0.005662562\\\\\n",
       "\tx2 &  -2.8379205 & -0.005662562 &  0.066856223\\\\\n",
       "\\end{tabular}\n"
      ],
      "text/markdown": [
       "\n",
       "A matrix: 3 × 3 of type dbl\n",
       "\n",
       "| <!--/--> | <!----> | x1 | x2 |\n",
       "|---|---|---|---|\n",
       "| <!----> | 248.6249683 | -0.403796751 | -2.837920471 |\n",
       "| x1 |  -0.4037968 |  0.003726798 | -0.005662562 |\n",
       "| x2 |  -2.8379205 | -0.005662562 |  0.066856223 |\n",
       "\n"
      ],
      "text/plain": [
       "               x1           x2          \n",
       "   248.6249683 -0.403796751 -2.837920471\n",
       "x1  -0.4037968  0.003726798 -0.005662562\n",
       "x2  -2.8379205 -0.005662562  0.066856223"
      ]
     },
     "metadata": {},
     "output_type": "display_data"
    }
   ],
   "source": [
    "sigma_sq=3       # 문제에서 주어짐\n",
    "\n",
    "var_beta_hat = solve(XT %*% X)*sigma_sq\n",
    "var_beta_hat"
   ]
  },
  {
   "cell_type": "markdown",
   "metadata": {},
   "source": [
    "<img src=\"https://latex.codecogs.com/svg.image?Var(\\hat{\\beta_0})=248.625\"> <br>\n",
    "<img src=\"https://latex.codecogs.com/svg.image?Var(\\hat{\\beta_1})=0.00373\"> <br>\n",
    "<img src=\"https://latex.codecogs.com/svg.image?Var(\\hat{\\beta_2})=0.0669\"> <br>\n",
    "<img src=\"https://latex.codecogs.com/svg.image?Cov(\\hat{\\beta_1}, \\hat{\\beta_2})=0.00566\">\n"
   ]
  },
  {
   "cell_type": "markdown",
   "metadata": {},
   "source": [
    "(C) 추정된 회귀계수 b1, b2의 의미는 무엇인가?"
   ]
  },
  {
   "cell_type": "markdown",
   "metadata": {},
   "source": [
    "b1 = -0.180, b2=11.855 인데,\n",
    "이는 공정온도 x1이 1증가할 때마다 강도가 0.180 감소하고, 공정압력 x2가 1증가할 때마다 강도가 11.855 증가한다는 의미이다."
   ]
  },
  {
   "cell_type": "markdown",
   "metadata": {},
   "source": [
    "(D) 분산분석표를 작성하고 가설 H:b1=b2=0를 유의수준 a=0.05에서 검정하여라"
   ]
  },
  {
   "cell_type": "code",
   "execution_count": 17,
   "metadata": {
    "vscode": {
     "languageId": "r"
    }
   },
   "outputs": [
    {
     "data": {
      "text/plain": [
       "\n",
       "Call:\n",
       "lm(formula = y ~ x1 + x2)\n",
       "\n",
       "Residuals:\n",
       "      1       2       3       4       5       6       7       8 \n",
       " -5.259 -14.757 -18.724  31.186  17.301  11.727  -3.715 -17.759 \n",
       "\n",
       "Coefficients:\n",
       "             Estimate Std. Error t value Pr(>|t|)  \n",
       "(Intercept) -553.9879   196.7146  -2.816   0.0373 *\n",
       "x1            -0.1799     0.7616  -0.236   0.8226  \n",
       "x2            11.8549     3.2258   3.675   0.0144 *\n",
       "---\n",
       "Signif. codes:  0 '***' 0.001 '**' 0.01 '*' 0.05 '.' 0.1 ' ' 1\n",
       "\n",
       "Residual standard error: 21.61 on 5 degrees of freedom\n",
       "Multiple R-squared:  0.7481,\tAdjusted R-squared:  0.6474 \n",
       "F-statistic: 7.425 on 2 and 5 DF,  p-value: 0.03184\n"
      ]
     },
     "metadata": {},
     "output_type": "display_data"
    },
    {
     "data": {
      "text/html": [
       "<table class=\"dataframe\">\n",
       "<caption>A anova: 3 × 5</caption>\n",
       "<thead>\n",
       "\t<tr><th></th><th scope=col>Df</th><th scope=col>Sum Sq</th><th scope=col>Mean Sq</th><th scope=col>F value</th><th scope=col>Pr(&gt;F)</th></tr>\n",
       "\t<tr><th></th><th scope=col>&lt;int&gt;</th><th scope=col>&lt;dbl&gt;</th><th scope=col>&lt;dbl&gt;</th><th scope=col>&lt;dbl&gt;</th><th scope=col>&lt;dbl&gt;</th></tr>\n",
       "</thead>\n",
       "<tbody>\n",
       "\t<tr><th scope=row>x1</th><td>1</td><td> 627.5395</td><td> 627.5395</td><td> 1.343975</td><td>0.29868460</td></tr>\n",
       "\t<tr><th scope=row>x2</th><td>1</td><td>6306.3360</td><td>6306.3360</td><td>13.506017</td><td>0.01436746</td></tr>\n",
       "\t<tr><th scope=row>Residuals</th><td>5</td><td>2334.6395</td><td> 466.9279</td><td>       NA</td><td>        NA</td></tr>\n",
       "</tbody>\n",
       "</table>\n"
      ],
      "text/latex": [
       "A anova: 3 × 5\n",
       "\\begin{tabular}{r|lllll}\n",
       "  & Df & Sum Sq & Mean Sq & F value & Pr(>F)\\\\\n",
       "  & <int> & <dbl> & <dbl> & <dbl> & <dbl>\\\\\n",
       "\\hline\n",
       "\tx1 & 1 &  627.5395 &  627.5395 &  1.343975 & 0.29868460\\\\\n",
       "\tx2 & 1 & 6306.3360 & 6306.3360 & 13.506017 & 0.01436746\\\\\n",
       "\tResiduals & 5 & 2334.6395 &  466.9279 &        NA &         NA\\\\\n",
       "\\end{tabular}\n"
      ],
      "text/markdown": [
       "\n",
       "A anova: 3 × 5\n",
       "\n",
       "| <!--/--> | Df &lt;int&gt; | Sum Sq &lt;dbl&gt; | Mean Sq &lt;dbl&gt; | F value &lt;dbl&gt; | Pr(&gt;F) &lt;dbl&gt; |\n",
       "|---|---|---|---|---|---|\n",
       "| x1 | 1 |  627.5395 |  627.5395 |  1.343975 | 0.29868460 |\n",
       "| x2 | 1 | 6306.3360 | 6306.3360 | 13.506017 | 0.01436746 |\n",
       "| Residuals | 5 | 2334.6395 |  466.9279 |        NA |         NA |\n",
       "\n"
      ],
      "text/plain": [
       "          Df Sum Sq    Mean Sq   F value   Pr(>F)    \n",
       "x1        1   627.5395  627.5395  1.343975 0.29868460\n",
       "x2        1  6306.3360 6306.3360 13.506017 0.01436746\n",
       "Residuals 5  2334.6395  466.9279        NA         NA"
      ]
     },
     "metadata": {},
     "output_type": "display_data"
    }
   ],
   "source": [
    "summary(q2.lm)\n",
    "anova(q2.lm)"
   ]
  },
  {
   "cell_type": "markdown",
   "metadata": {},
   "source": [
    "summary 함수로 구한 p-value 가 0.03184로 0.05보다 작기 때문에 귀무가설은 기각된다.  \n",
    "분산분석표로 볼 때 x2 변수의 p-value가 0.0143으로 0.05보다 작기 때문에 역시 귀무가설은 기각됨을 확인할 수 있다."
   ]
  },
  {
   "cell_type": "markdown",
   "metadata": {},
   "source": [
    "(E) 다중상관계수(multiple correlation coeffcient) R의 제곱 R^2과 수정된 R의 제곱(adjusted R-squared) Ra^2를 각각 구하여라"
   ]
  },
  {
   "cell_type": "code",
   "execution_count": 18,
   "metadata": {
    "vscode": {
     "languageId": "r"
    }
   },
   "outputs": [
    {
     "data": {
      "text/plain": [
       "\n",
       "Call:\n",
       "lm(formula = y ~ x1 + x2)\n",
       "\n",
       "Residuals:\n",
       "      1       2       3       4       5       6       7       8 \n",
       " -5.259 -14.757 -18.724  31.186  17.301  11.727  -3.715 -17.759 \n",
       "\n",
       "Coefficients:\n",
       "             Estimate Std. Error t value Pr(>|t|)  \n",
       "(Intercept) -553.9879   196.7146  -2.816   0.0373 *\n",
       "x1            -0.1799     0.7616  -0.236   0.8226  \n",
       "x2            11.8549     3.2258   3.675   0.0144 *\n",
       "---\n",
       "Signif. codes:  0 '***' 0.001 '**' 0.01 '*' 0.05 '.' 0.1 ' ' 1\n",
       "\n",
       "Residual standard error: 21.61 on 5 degrees of freedom\n",
       "Multiple R-squared:  0.7481,\tAdjusted R-squared:  0.6474 \n",
       "F-statistic: 7.425 on 2 and 5 DF,  p-value: 0.03184\n"
      ]
     },
     "metadata": {},
     "output_type": "display_data"
    }
   ],
   "source": [
    "summary(q2.lm)"
   ]
  },
  {
   "cell_type": "markdown",
   "metadata": {},
   "source": [
    "<img src=\"https://latex.codecogs.com/svg.image?R^2=0.7481,\\;\\;\\;adjusted\\;R^2=0.6474\">"
   ]
  }
 ],
 "metadata": {
  "kernelspec": {
   "display_name": "R",
   "language": "R",
   "name": "ir"
  },
  "language_info": {
   "codemirror_mode": "r",
   "file_extension": ".r",
   "mimetype": "text/x-r-source",
   "name": "R",
   "pygments_lexer": "r",
   "version": "4.3.2"
  }
 },
 "nbformat": 4,
 "nbformat_minor": 2
}
