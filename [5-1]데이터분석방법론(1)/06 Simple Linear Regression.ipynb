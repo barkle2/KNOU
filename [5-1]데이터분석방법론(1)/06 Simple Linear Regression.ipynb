{
 "cells": [
  {
   "cell_type": "markdown",
   "metadata": {},
   "source": [
    "# 06 Simple Linear Regression\n",
    "\n",
    "## 01 Introduction\n",
    "\n",
    "### 1. Initial Data Analysis(초기 데이터 분석)\n",
    "\n",
    "- This is a critical step that should always be performed. It looks simple but it is vital.\n",
    "- 항상 수행되어야 하는 중요한 단계입니다. 간단해 보일지도 모르지만 매우 중요합니다.\n",
    "\n",
    "- Numerical summaries - means, sds, five-number summaries, correlations.\n",
    "- 수치 요약 - 평균, 표준 편차, 다섯 숫자 요약, 상관 관계.\n",
    "\n",
    "- Graphical summaries\n",
    "  - One variable - Boxplots, histograms etc.\n",
    "  - Two variables - scatterplots.\n",
    "  - Many variables - interactive graphics.\n",
    "- 그래픽 요약\n",
    "  - 한 변수 - 상자 그림, 히스토그램 등.\n",
    "  - 두 변수 - 산점도.\n",
    "  - 다수의 변수 - 대화형 그래픽.\n",
    "\n",
    "- Look for outliers, data-entry errors and skewed or unusual distributions. Are the data distributed as you expect?\n",
    "- 이상치, 데이터 입력 오류, 비대칭 또는 이상한 분포를 찾아보세요. 데이터가 예상한 대로 분포되어 있나요?\n",
    "\n",
    "- Getting data into a form suitable for analysis by cleaning out mistakes and aberrations is often time consuming. It often takes more time than the data analysis itself.\n",
    "- 데이터를 분석하기 적합한 형태로 가져오기 위해 오류와 이상을 정리하는 작업은 종종 시간이 많이 걸립니다. 때로는 데이터 분석 그 자체보다 더 많은 시간이 소요될 수 있습니다.\n",
    "\n",
    "### 2. When to use Regression Analysis(회귀분석은 언제 사용하는가)\n",
    "\n",
    "- Regression analysis have several possible objectives including\n",
    "- 회귀 분석에는 여러 가지 가능한 목적이 있습니다. 예를 들어,\n",
    "\n",
    "1. Predition of future observations.\n",
    "2. Assessment of the effect of, or relationship between, explanatory variables on the response.\n",
    "3. A general description of data structure.\n",
    "1. 미래 관측치 예측.\n",
    "2. 설명 변수가 반응 변수에 미치는 영향 또는 관계 평가.\n",
    "3. 데이터 구조의 일반적인 설명.\n",
    "\n",
    "- Extensions exist to handle multivariate responses, binary responses(logistic regression analysis) and count responses(poisson regression).\n",
    "- 다변량 반응, 이항 반응(로지스틱 회귀 분석), 및 계수 반응(포아송 회귀 분석)을 처리하기 위한 확장 기능이 존재합니다.\n",
    "\n",
    "### 3. History(역사)\n",
    "\n",
    "## 02 Model and Inderence(모델과 추론)\n",
    "\n",
    "### 1. Relation between two variables(두 변수간의 관계)\n",
    "\n",
    "- We consider situations where you want to describe the relation between two variables using linear regression analysis.\n",
    "- 우리는 선형 회귀 분석을 사용하여 두 변수 간의 관계를 설명하고자 하는 상황을 고려합니다.\n",
    "\n"
   ]
  },
  {
   "cell_type": "markdown",
   "metadata": {},
   "source": [
    "### 2. Model\n",
    "\n",
    "- Linear regression model(최소제곱법)\n",
    "\n",
    "  - <img src=\"https://latex.codecogs.com/svg.image?y_i=\\alpha&plus;\\beta&space;x_i&plus;\\epsilon_i\">\n",
    "  <img src=\"https://latex.codecogs.com/svg.image?,\\epsilon_i\"> are assumed independent and <img src=\"https://latex.codecogs.com/svg.image?N(0,\\sigma^2)\">\n",
    "\n",
    "- The method of least squares: Find the values of α and β that minimize the sum of squared residuals\n",
    "- 최소 제곱법: 제곱 잔차의 합을 최소화하는 α와 β의 값을 찾습니다.\n",
    "\n",
    "  - <img src=\"https://latex.codecogs.com/svg.image?SS_{res}=\\sum(y_i-(\\alpha&plus;\\beta&space;x))^2\">\n",
    "  <img src=\"https://latex.codecogs.com/svg.image?\\hat{\\beta}=\\frac{\\sum(x_i-\\bar{x})(y_i-\\bar{y})}{\\sum(x_i-\\bar{x})^2}=\\frac{S_{xy}}{S_{xx}}\"><br>  \n",
    "  <img src=\"https://latex.codecogs.com/svg.image?\\hat\\alpha=\\bar{y}-\\hat\\beta\\bar{x}\">\n",
    "\n",
    "- The residual variance is estimated as <img src=\"https://latex.codecogs.com/svg.image?\\frac{SS_{res}}{(n-2)}\">\n",
    "- 잔차 분산은 <img src=\"https://latex.codecogs.com/svg.image?\\frac{SS_{res}}{(n-2)}\">로 추정됩니다.\n",
    "\n",
    "- Fitted linear regression model  \n",
    "<img src=\"https://latex.codecogs.com/svg.image?\\hat{y_i}=\\hat\\alpha&plus;\\hat\\beta&space;x_i\">  \n",
    "Residual <img src=\"https://latex.codecogs.com/svg.image?e_i=y_i-\\hat{y_i}\">"
   ]
  },
  {
   "cell_type": "markdown",
   "metadata": {},
   "source": [
    "### 3. Decomposition of the total variation(총 변동의 분해)\n",
    "\n",
    "- The sum of squares(SST), which represents the total variation, can be divided into the variation explained by the regression equation(SSR) and the sum of squares errors(SSE), which is the sum of squares of the unexplained residuals.\n",
    "- 총 변동을 나타내는 제곱합(SST)은 회귀 방정식에 의해 설명되는 변동(SSR)과 설명되지 않은 잔차의 제곱합인 오차 제곱합(SSE)으로 나눌 수 있습니다.\n",
    "\n",
    "<img src=\"https://latex.codecogs.com/svg.image?\\sum_{i=1}^{n}(y_i-\\bar{y})^2=\\sum_{i=1}^{n}(\\hat{y_i}-\\bar{y})^2&plus;\\sum_{i=1}^{n}(y_i-\\hat{y_i})^2\"><br>\n",
    "SST = SSR + SSE<br>\n",
    "n-1 =  1  + n-2"
   ]
  },
  {
   "cell_type": "markdown",
   "metadata": {},
   "source": [
    "### 4. Estimation\n",
    "\n",
    "- Under the assumption of Normal distribution of errors, <img src=\"https://latex.codecogs.com/svg.image?&space;Y_i\\sim&space;N(\\alpha&plus;\\beta&space;x_i,\\sigma^2)\">\n",
    "- Estimation of β  \n",
    "<img src=\"https://latex.codecogs.com/svg.image?\\hat{\\beta}=\\frac{\\sum\\limits_{i=1}^{n}(x_i-\\bar{x})(y_i-\\bar{y})}{\\sum\\limits_{i=1}^{n}(x_i-\\bar{x})^2}\">  \n",
    "<img src=\"https://latex.codecogs.com/svg.image?E(\\hat{\\beta})=\\beta\">  \n",
    "<img src=\"https://latex.codecogs.com/svg.image?Var(\\hat\\beta)=\\frac{\\sigma^2}{\\sum\\limits_{i=1}^{n}(x_i-\\bar{x})^2}\">  \n",
    "<img src=\"https://latex.codecogs.com/svg.image?\\hat{\\beta}\\sim&space;N\\left(\\beta,\\frac{\\sigma^2}{\\sum\\limits_{i=1}^{n}(x_i-\\bar{x})^2}\\right)\">\n",
    "\n",
    "- Estimation of α  \n",
    "<img src=\"https://latex.codecogs.com/svg.image?E(\\hat{\\alpha})=E(\\bar{Y}-\\bar{\\beta}\\bar{x})=\\alpha&plus;\\beta\\bar{x}-\\beta\\bar{x}=\\alpha\">  \n",
    "<img src=\"https://latex.codecogs.com/svg.image?Var(\\hat{\\alpha})=Var(\\bar{Y}-\\bar{\\beta}\\bar{x})=Var(\\bar{Y})&plus;(\\bar{x})^2Var(\\hat{\\beta})-2\\bar{x}Cov(\\bar{Y},\\hat{\\beta})\">  \n",
    "<img src=\"https://latex.codecogs.com/svg.image?=\\frac{\\sigma^2}{n}&plus;\\frac{\\bar{x}^2\\sigma^2}{\\sum\\limits_{i=1}^{n}(x_i-\\bar{x})^2}&plus;0\">  \n",
    "<img src=\"https://latex.codecogs.com/svg.image?\\hat{\\alpha}\\sim&space;N\\left(\\alpha,(\\frac{1}{n}&plus;\\frac{\\bar{x}^2}{\\sum\\limits_{i=1}^{n}(x_i-\\bar{x})^2})\\sigma^2\\right)\">"
   ]
  },
  {
   "cell_type": "markdown",
   "metadata": {},
   "source": [
    "### 5. Hypothesis test\n",
    "\n",
    "- To test the null hypothesis that β=0\n",
    "  - 검정통계량 <img src=\"https://latex.codecogs.com/svg.image?t_0=\\frac{\\hat{\\beta}}{s.e.(\\hat{\\beta})}\\sim&space;t(n-2)\">\n",
    "\n",
    "- 분산분석표(Analysis of Variance Table)\n",
    "\n",
    "|요인|제곱합|자유도|평균제곱|F값|\n",
    "|:-:|:-:|:-:|:-:|:-:|\n",
    "|회귀|SSR|1|MSR|MSR/MSE|\n",
    "|잔차|SSE|n-2|MSE||\n",
    "|합|SST|n-1|||\n",
    "\n",
    "- 결정계수 <img src=\"https://latex.codecogs.com/svg.image?R^2=\\frac{SSR}{SST}\">\n",
    "- 검정: <img src=\"https://latex.codecogs.com/svg.image?H_0:\\beta=0\\;\\;vs\\;\\;H_1:\\beta\\neq&space;0\">\n",
    "- 검정통계량 <img src=\"https://latex.codecogs.com/svg.image?F_0=\\frac{MSR}{MSE}\\sim&space;F(1,n-2)\">"
   ]
  },
  {
   "cell_type": "markdown",
   "metadata": {},
   "source": [
    "### 6. Example of Simple linear regression"
   ]
  },
  {
   "cell_type": "markdown",
   "metadata": {},
   "source": [
    "### 7. Prediction and confidence bands(예측과 신뢰구간)\n",
    "\n",
    "- Fitted lines are often presented with uncertainty bands around them.\n",
    "  There are two kinds of bands, often referred to as the \"narrow\" and \"wide\" limits.\n",
    "- 적합된 선은 종종 주위에 불확실성 밴드와 함께 표시됩니다.\n",
    "  이러한 밴드는 종종 \"좁은\" 및 \"넓은\" 한계로 불리는 두 종류가 있습니다.\n",
    "\n",
    "- The narrow bands, confidence bands, reflect the uncertainty about the line itself, like the SEM expresses the precision with which a mean is known.\n",
    "- 좁은 밴드인 신뢰 밴드는 선 자체에 대한 불확실성을 반영합니다. 평균이 얼마나 정확하게 알려져 있는지를 나타내는 표준오차(SEM)와 유사합니다.\n",
    "\n",
    "- The wide bands, prediction bands, include the uncertainty about future observations.\n",
    "- 넓은 밴드인 예측 밴드는 미래 관측에 대한 불확실성을 포함합니다."
   ]
  },
  {
   "cell_type": "markdown",
   "metadata": {},
   "source": []
  }
 ],
 "metadata": {
  "kernelspec": {
   "display_name": "R",
   "language": "R",
   "name": "ir"
  },
  "language_info": {
   "codemirror_mode": "r",
   "file_extension": ".r",
   "mimetype": "text/x-r-source",
   "name": "R",
   "pygments_lexer": "r",
   "version": "4.3.2"
  }
 },
 "nbformat": 4,
 "nbformat_minor": 2
}
