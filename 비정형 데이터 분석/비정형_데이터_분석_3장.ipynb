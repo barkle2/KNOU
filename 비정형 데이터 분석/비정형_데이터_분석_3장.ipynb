{
  "nbformat": 4,
  "nbformat_minor": 0,
  "metadata": {
    "colab": {
      "name": "비정형 데이터 분석 3장",
      "provenance": [],
      "collapsed_sections": [],
      "authorship_tag": "ABX9TyPGcNdY2fme1253vd7EFc+o",
      "include_colab_link": true
    },
    "kernelspec": {
      "name": "ir",
      "display_name": "R"
    }
  },
  "cells": [
    {
      "cell_type": "markdown",
      "metadata": {
        "id": "view-in-github",
        "colab_type": "text"
      },
      "source": [
        "<a href=\"https://colab.research.google.com/github/barkle2/KNOU/blob/master/%EB%B9%84%EC%A0%95%ED%98%95%20%EB%8D%B0%EC%9D%B4%ED%84%B0%20%EB%B6%84%EC%84%9D/%EB%B9%84%EC%A0%95%ED%98%95_%EB%8D%B0%EC%9D%B4%ED%84%B0_%EB%B6%84%EC%84%9D_3%EC%9E%A5.ipynb\" target=\"_parent\"><img src=\"https://colab.research.google.com/assets/colab-badge.svg\" alt=\"Open In Colab\"/></a>"
      ]
    },
    {
      "cell_type": "markdown",
      "metadata": {
        "id": "_6ARXr31E-XB"
      },
      "source": [
        "# 제3장 텍스트 데이터 불러오기\n",
        "\n",
        "## 4. 텍스트 데이터 수집 사례\n",
        "\n",
        "### 4.1 텍스트 목록 읽어오기\n"
      ]
    },
    {
      "cell_type": "code",
      "metadata": {
        "id": "cmEXwPjZEZTX",
        "outputId": "d45bdd86-4350-4790-b415-be20cb8bff13",
        "colab": {
          "base_uri": "https://localhost:8080/",
          "height": 125
        }
      },
      "source": [
        "install.packages(\"httr\")\n",
        "install.packages(\"XML\")"
      ],
      "execution_count": null,
      "outputs": [
        {
          "output_type": "stream",
          "text": [
            "Installing package into ‘/usr/local/lib/R/site-library’\n",
            "(as ‘lib’ is unspecified)\n",
            "\n",
            "Installing package into ‘/usr/local/lib/R/site-library’\n",
            "(as ‘lib’ is unspecified)\n",
            "\n"
          ],
          "name": "stderr"
        }
      ]
    },
    {
      "cell_type": "code",
      "metadata": {
        "id": "k4cU9z17I4jV"
      },
      "source": [
        "library(httr)\n",
        "library(XML)"
      ],
      "execution_count": null,
      "outputs": []
    },
    {
      "cell_type": "markdown",
      "metadata": {
        "id": "EeKdVsdxNtw4"
      },
      "source": [
        "한국방송통신대출판문화원 사이트(press.knou.ac.kr)에서 정보통계학과 교재 메뉴 선택  \n",
        "※ 정보통계학과 메뉴를 선택하면 1학년 교재를 보여주는데, 4학년 교재 목록을 보려면 xpath 마지막 숫자 1을 4로 수정하여 GET 함수 실행"
      ]
    },
    {
      "cell_type": "code",
      "metadata": {
        "id": "GZonU3UZJW5I"
      },
      "source": [
        "webpage = GET('https://press.knou.ac.kr/goods/textBookList.do?condLscValue=001&condMscValue=003&condSscValue=007&condScyr=4')\n",
        "web = htmlParse(webpage)"
      ],
      "execution_count": null,
      "outputs": []
    },
    {
      "cell_type": "markdown",
      "metadata": {
        "id": "Hk_S8ZZ_KLuS"
      },
      "source": [
        "웹페이지에서 교재명을 선택하여 xpath copy  \n",
        "//*[@id=\"listForm\"]/div/div[3]/div[3]/div[3]/table/tbody/tr[1]/td[2]/div/h5/a  \n",
        "//*[@id=\"listForm\"]/div/div[3]/div[3]/div[3]/table/tbody/tr[2]/td[2]/div/h5/a  \n",
        "//*[@id=\"listForm\"]/div/div[3]/div[3]/div[3]/table/tbody/tr[3]/td[2]/div/h5/a"
      ]
    },
    {
      "cell_type": "code",
      "metadata": {
        "id": "3W7B4IViI-_9",
        "outputId": "e35c57c6-973f-48c4-c34f-a00f0dd29c36",
        "colab": {
          "base_uri": "https://localhost:8080/",
          "height": 68
        }
      },
      "source": [
        "xpathSApply(web, '//*[@id=\"listForm\"]/div/div[3]/div[3]/div[3]/table/tbody/tr[1]/td[2]/div/h5/a', xmlValue)\n",
        "xpathSApply(web, '//*[@id=\"listForm\"]/div/div[3]/div[3]/div[3]/table/tbody/tr[2]/td[2]/div/h5/a', xmlValue)\n",
        "xpathSApply(web, '//*[@id=\"listForm\"]/div/div[3]/div[3]/div[3]/table/tbody/tr[3]/td[2]/div/h5/a', xmlValue)"
      ],
      "execution_count": null,
      "outputs": [
        {
          "output_type": "display_data",
          "data": {
            "text/plain": [
              "[1] \"고급 R 활용\""
            ],
            "text/latex": "'고급 R 활용'",
            "text/markdown": "'고급 R 활용'",
            "text/html": [
              "'고급 R 활용'"
            ]
          },
          "metadata": {
            "tags": []
          }
        },
        {
          "output_type": "display_data",
          "data": {
            "text/plain": [
              "[1] \"딥러닝의통계적이해\""
            ],
            "text/latex": "'딥러닝의통계적이해'",
            "text/markdown": "'딥러닝의통계적이해'",
            "text/html": [
              "'딥러닝의통계적이해'"
            ]
          },
          "metadata": {
            "tags": []
          }
        },
        {
          "output_type": "display_data",
          "data": {
            "text/plain": [
              "[1] \"바이오정보학개론\""
            ],
            "text/latex": "'바이오정보학개론'",
            "text/markdown": "'바이오정보학개론'",
            "text/html": [
              "'바이오정보학개론'"
            ]
          },
          "metadata": {
            "tags": []
          }
        }
      ]
    },
    {
      "cell_type": "markdown",
      "metadata": {
        "id": "xJqSkISzNjnJ"
      },
      "source": [
        "for 문을 이용하여 교재명 6개를 읽는다"
      ]
    },
    {
      "cell_type": "code",
      "metadata": {
        "id": "ws48fbm_KczU",
        "outputId": "e08036f9-cc2e-4028-9093-5209f68b3fac",
        "colab": {
          "base_uri": "https://localhost:8080/",
          "height": 34
        }
      },
      "source": [
        "ls <- rep(\"\", 6)\n",
        "for (i in 1:6) {\n",
        "  sub <- paste0('//*[@id=\"listForm\"]/div/div[3]/div[3]/div[3]/table/tbody/tr[', i, ']/td[2]/div/h5/a')  \n",
        "  ls[i] <- xpathSApply(web, sub, xmlValue)\n",
        "}\n",
        "ls"
      ],
      "execution_count": null,
      "outputs": [
        {
          "output_type": "display_data",
          "data": {
            "text/plain": [
              "[1] \"고급 R 활용\"        \"딥러닝의통계적이해\" \"바이오정보학개론\"  \n",
              "[4] \"비정형데이터분석\"   \"빅데이터의이해\"     \"현대의서양문화\"    "
            ],
            "text/latex": "\\begin{enumerate*}\n\\item '고급 R 활용'\n\\item '딥러닝의통계적이해'\n\\item '바이오정보학개론'\n\\item '비정형데이터분석'\n\\item '빅데이터의이해'\n\\item '현대의서양문화'\n\\end{enumerate*}\n",
            "text/markdown": "1. '고급 R 활용'\n2. '딥러닝의통계적이해'\n3. '바이오정보학개론'\n4. '비정형데이터분석'\n5. '빅데이터의이해'\n6. '현대의서양문화'\n\n\n",
            "text/html": [
              "<style>\n",
              ".list-inline {list-style: none; margin:0; padding: 0}\n",
              ".list-inline>li {display: inline-block}\n",
              ".list-inline>li:not(:last-child)::after {content: \"\\00b7\"; padding: 0 .5ex}\n",
              "</style>\n",
              "<ol class=list-inline><li>'고급 R 활용'</li><li>'딥러닝의통계적이해'</li><li>'바이오정보학개론'</li><li>'비정형데이터분석'</li><li>'빅데이터의이해'</li><li>'현대의서양문화'</li></ol>\n"
            ]
          },
          "metadata": {
            "tags": []
          }
        }
      ]
    },
    {
      "cell_type": "markdown",
      "metadata": {
        "id": "e8NaPquZOI6E"
      },
      "source": [
        "### 4.2 웹문서 읽어오기"
      ]
    },
    {
      "cell_type": "code",
      "metadata": {
        "id": "k2OKkOZ9OL3n",
        "outputId": "c86790d4-da4c-45ab-f787-88bc2c861aee",
        "colab": {
          "base_uri": "https://localhost:8080/",
          "height": 125
        }
      },
      "source": [
        "install.packages(\"rvest\")\n",
        "install.packages(\"dplyr\")"
      ],
      "execution_count": null,
      "outputs": [
        {
          "output_type": "stream",
          "text": [
            "Installing package into ‘/usr/local/lib/R/site-library’\n",
            "(as ‘lib’ is unspecified)\n",
            "\n",
            "Installing package into ‘/usr/local/lib/R/site-library’\n",
            "(as ‘lib’ is unspecified)\n",
            "\n"
          ],
          "name": "stderr"
        }
      ]
    },
    {
      "cell_type": "code",
      "metadata": {
        "id": "uiYXhdsKOmLZ"
      },
      "source": [
        "library(rvest)\n",
        "library(dplyr)"
      ],
      "execution_count": null,
      "outputs": []
    },
    {
      "cell_type": "markdown",
      "metadata": {
        "id": "3Rr8hdvOfBPK"
      },
      "source": [
        "위키피디아에서 \"비정형 데이터\"로 검색하여 exurl을 얻고  \n",
        "크롬에서 F12키로 개발자 모드로 들어가서 필요한 html 노드(.mw-parser-output p)를 찾는다."
      ]
    },
    {
      "cell_type": "code",
      "metadata": {
        "id": "zJzTiI1BdCDQ",
        "outputId": "ca1d11af-444d-4b05-fb59-cae81fd9be04",
        "colab": {
          "base_uri": "https://localhost:8080/",
          "height": 102
        }
      },
      "source": [
        "exurl <- \"https://ko.wikipedia.org/wiki/%EB%B9%84%EC%A0%95%ED%98%95_%EB%8D%B0%EC%9D%B4%ED%84%B0\"\n",
        "html_ex <- read_html(exurl, encoding=\"UTF-8\")\n",
        "html_ex%>%html_nodes(\".mw-parser-output p\")%>%html_text()\n",
        "#h1<-html_nodes(html_ex, \".mw-parser-output p\")\n",
        "#html_text(h1)"
      ],
      "execution_count": null,
      "outputs": [
        {
          "output_type": "display_data",
          "data": {
            "text/plain": [
              "[1] \"비정형 데이터(unstructured data, unstructured information, 비정형 정보), 비구조화 데이터, 비구조적 데이터는 미리 정의된 데이터 모델이 없거나 미리 정의된 방식으로 정리되지 않은 정보를 말한다. 비정형 정보는 일반적으로 텍스트 중심으로 되어 있으나 날짜, 숫자, 사실과 같은 데이터도 포함할 수 있다. 이로써 변칙과 모호함이 발생하므로 데이터베이스의 칸 형식의 폼에 저장되거나 문서에 주석화된(의미적으로 태그된) 데이터에 비해 전통적인 프로그램을 사용하여 이해하는 것을 불가능하게 만든다.\\n\"\n",
              "[2] \"1998년, 메릴린치는 잠재적으로 이용 가능한 모든 비즈니스 정보 중 약 80~90% 정도가 비정형 형식에서 기원한 것으로 보는 경험 법칙을 언급하였다.[1] 이 경험 법칙은 1차 연구나 양적 연구에 근간을 두지 않지만 그럼에도 일부 받아들여지고 있다.[2]\"                                                                                                                                                                                                                                                     \n",
              "[3] \"비즈니스 인텔리전스에 대한 최초의 연구는 수치 데이터가 아닌 비정형 텍스트 형태의 데이터에 초점을 두었다.[1] 1958년 초에 H. P. Luhn 등의 컴퓨터 과학 연구원들은 특히 비정형 텍스트의 추출과 분류에 관심을 가졌다.[1] 그러나 세기가 바뀐 뒤에서야 비로소 기술이 연구적 관심을 따라잡을 수 있게 되었다. 2004년, SAS 인스티튜트는 더 효율적인 분석을 위하여 특이값 분해(SVD)로 초차원적 텍스트 공간을 더 작은 차원으로 줄이기 위해 사용되는 SAS 텍스트 마이너를 개발하였다.[2]\"                      "
            ],
            "text/latex": "\\begin{enumerate*}\n\\item '비정형 데이터(unstructured data, unstructured information, 비정형 정보), 비구조화 데이터, 비구조적 데이터는 미리 정의된 데이터 모델이 없거나 미리 정의된 방식으로 정리되지 않은 정보를 말한다. 비정형 정보는 일반적으로 텍스트 중심으로 되어 있으나 날짜, 숫자, 사실과 같은 데이터도 포함할 수 있다. 이로써 변칙과 모호함이 발생하므로 데이터베이스의 칸 형식의 폼에 저장되거나 문서에 주석화된(의미적으로 태그된) 데이터에 비해 전통적인 프로그램을 사용하여 이해하는 것을 불가능하게 만든다.\\textbackslash{}n'\n\\item '1998년, 메릴린치는 잠재적으로 이용 가능한 모든 비즈니스 정보 중 약 80\\textasciitilde{}90\\% 정도가 비정형 형식에서 기원한 것으로 보는 경험 법칙을 언급하였다.{[}1{]} 이 경험 법칙은 1차 연구나 양적 연구에 근간을 두지 않지만 그럼에도 일부 받아들여지고 있다.{[}2{]}'\n\\item '비즈니스 인텔리전스에 대한 최초의 연구는 수치 데이터가 아닌 비정형 텍스트 형태의 데이터에 초점을 두었다.{[}1{]} 1958년 초에 H. P. Luhn 등의 컴퓨터 과학 연구원들은 특히 비정형 텍스트의 추출과 분류에 관심을 가졌다.{[}1{]} 그러나 세기가 바뀐 뒤에서야 비로소 기술이 연구적 관심을 따라잡을 수 있게 되었다. 2004년, SAS 인스티튜트는 더 효율적인 분석을 위하여 특이값 분해(SVD)로 초차원적 텍스트 공간을 더 작은 차원으로 줄이기 위해 사용되는 SAS 텍스트 마이너를 개발하였다.{[}2{]}'\n\\end{enumerate*}\n",
            "text/markdown": "1. '비정형 데이터(unstructured data, unstructured information, 비정형 정보), 비구조화 데이터, 비구조적 데이터는 미리 정의된 데이터 모델이 없거나 미리 정의된 방식으로 정리되지 않은 정보를 말한다. 비정형 정보는 일반적으로 텍스트 중심으로 되어 있으나 날짜, 숫자, 사실과 같은 데이터도 포함할 수 있다. 이로써 변칙과 모호함이 발생하므로 데이터베이스의 칸 형식의 폼에 저장되거나 문서에 주석화된(의미적으로 태그된) 데이터에 비해 전통적인 프로그램을 사용하여 이해하는 것을 불가능하게 만든다.\\n'\n2. '1998년, 메릴린치는 잠재적으로 이용 가능한 모든 비즈니스 정보 중 약 80~90% 정도가 비정형 형식에서 기원한 것으로 보는 경험 법칙을 언급하였다.[1] 이 경험 법칙은 1차 연구나 양적 연구에 근간을 두지 않지만 그럼에도 일부 받아들여지고 있다.[2]'\n3. '비즈니스 인텔리전스에 대한 최초의 연구는 수치 데이터가 아닌 비정형 텍스트 형태의 데이터에 초점을 두었다.[1] 1958년 초에 H. P. Luhn 등의 컴퓨터 과학 연구원들은 특히 비정형 텍스트의 추출과 분류에 관심을 가졌다.[1] 그러나 세기가 바뀐 뒤에서야 비로소 기술이 연구적 관심을 따라잡을 수 있게 되었다. 2004년, SAS 인스티튜트는 더 효율적인 분석을 위하여 특이값 분해(SVD)로 초차원적 텍스트 공간을 더 작은 차원으로 줄이기 위해 사용되는 SAS 텍스트 마이너를 개발하였다.[2]'\n\n\n",
            "text/html": [
              "<style>\n",
              ".list-inline {list-style: none; margin:0; padding: 0}\n",
              ".list-inline>li {display: inline-block}\n",
              ".list-inline>li:not(:last-child)::after {content: \"\\00b7\"; padding: 0 .5ex}\n",
              "</style>\n",
              "<ol class=list-inline><li>'비정형 데이터(unstructured data, unstructured information, 비정형 정보), 비구조화 데이터, 비구조적 데이터는 미리 정의된 데이터 모델이 없거나 미리 정의된 방식으로 정리되지 않은 정보를 말한다. 비정형 정보는 일반적으로 텍스트 중심으로 되어 있으나 날짜, 숫자, 사실과 같은 데이터도 포함할 수 있다. 이로써 변칙과 모호함이 발생하므로 데이터베이스의 칸 형식의 폼에 저장되거나 문서에 주석화된(의미적으로 태그된) 데이터에 비해 전통적인 프로그램을 사용하여 이해하는 것을 불가능하게 만든다.\\n'</li><li>'1998년, 메릴린치는 잠재적으로 이용 가능한 모든 비즈니스 정보 중 약 80~90% 정도가 비정형 형식에서 기원한 것으로 보는 경험 법칙을 언급하였다.[1] 이 경험 법칙은 1차 연구나 양적 연구에 근간을 두지 않지만 그럼에도 일부 받아들여지고 있다.[2]'</li><li>'비즈니스 인텔리전스에 대한 최초의 연구는 수치 데이터가 아닌 비정형 텍스트 형태의 데이터에 초점을 두었다.[1] 1958년 초에 H. P. Luhn 등의 컴퓨터 과학 연구원들은 특히 비정형 텍스트의 추출과 분류에 관심을 가졌다.[1] 그러나 세기가 바뀐 뒤에서야 비로소 기술이 연구적 관심을 따라잡을 수 있게 되었다. 2004년, SAS 인스티튜트는 더 효율적인 분석을 위하여 특이값 분해(SVD)로 초차원적 텍스트 공간을 더 작은 차원으로 줄이기 위해 사용되는 SAS 텍스트 마이너를 개발하였다.[2]'</li></ol>\n"
            ]
          },
          "metadata": {
            "tags": []
          }
        }
      ]
    },
    {
      "cell_type": "markdown",
      "metadata": {
        "id": "yAxHlbvyf-If"
      },
      "source": [
        "e-나라지표 사이트에서 '국내총생산 및 경제성장률 (GDP)' 지표를 조회하고, URL 복사  \n",
        "크롬 개발자모드에서 표에 접근할 수 있는 class id table_style_2 를 찾아서 html 노드를 찾는다."
      ]
    },
    {
      "cell_type": "code",
      "metadata": {
        "id": "kXiz_f-XgOuL",
        "outputId": "17449ce4-0bf3-4e51-fd18-cf214b6080f7",
        "colab": {
          "base_uri": "https://localhost:8080/",
          "height": 152
        }
      },
      "source": [
        "ex2url <- \"https://www.index.go.kr/potal/main/EachDtlPageDetail.do?idx_cd=2736#quick_02;\"\n",
        "html_ex2 <- read_html(ex2url, encoding=\"UTF-8\")\n",
        "html_ex2%>%html_nodes(\".table_style_2\")%>%html_table()"
      ],
      "execution_count": null,
      "outputs": [
        {
          "output_type": "display_data",
          "data": {
            "text/plain": [
              "[[1]]\n",
              "                                 2018      2019 20192/4 20193/4 20194/4 20201/4\n",
              "1                                                                              \n",
              "2       국내총생산(명목GDP) 1,898,193 1,919,040 479,907 487,177 497,065 458,202\n",
              "3 경제성장률(실질GDP성장률)       2.9       2.0     2.1     2.0     2.3     1.4\n",
              "  20202/4\n",
              "1        \n",
              "2 472,328\n",
              "3    -2.7\n"
            ],
            "text/latex": "\\begin{enumerate}\n\\item A data.frame: 3 × 8\n\\begin{tabular}{llllllll}\n  & 2018 & 2019 & 20192/4 & 20193/4 & 20194/4 & 20201/4 & 20202/4\\\\\n <chr> & <chr> & <chr> & <chr> & <chr> & <chr> & <chr> & <chr>\\\\\n\\hline\n\t                           &           &           &         &         &         &         &        \\\\\n\t 국내총생산(명목GDP)       & 1,898,193 & 1,919,040 & 479,907 & 487,177 & 497,065 & 458,202 & 472,328\\\\\n\t 경제성장률(실질GDP성장률) & 2.9       & 2.0       & 2.1     & 2.0     & 2.3     & 1.4     & -2.7   \\\\\n\\end{tabular}\n\n\\end{enumerate}\n",
            "text/markdown": "1. \nA data.frame: 3 × 8\n\n| <!----> &lt;chr&gt; | 2018 &lt;chr&gt; | 2019 &lt;chr&gt; | 20192/4 &lt;chr&gt; | 20193/4 &lt;chr&gt; | 20194/4 &lt;chr&gt; | 20201/4 &lt;chr&gt; | 20202/4 &lt;chr&gt; |\n|---|---|---|---|---|---|---|---|\n| <!----> | <!----> | <!----> | <!----> | <!----> | <!----> | <!----> | <!----> |\n| 국내총생산(명목GDP)       | 1,898,193 | 1,919,040 | 479,907 | 487,177 | 497,065 | 458,202 | 472,328 |\n| 경제성장률(실질GDP성장률) | 2.9       | 2.0       | 2.1     | 2.0     | 2.3     | 1.4     | -2.7    |\n\n\n\n\n",
            "text/html": [
              "<ol>\n",
              "\t<li><table>\n",
              "<caption>A data.frame: 3 × 8</caption>\n",
              "<thead>\n",
              "\t<tr><th scope=col></th><th scope=col>2018</th><th scope=col>2019</th><th scope=col>20192/4</th><th scope=col>20193/4</th><th scope=col>20194/4</th><th scope=col>20201/4</th><th scope=col>20202/4</th></tr>\n",
              "\t<tr><th scope=col>&lt;chr&gt;</th><th scope=col>&lt;chr&gt;</th><th scope=col>&lt;chr&gt;</th><th scope=col>&lt;chr&gt;</th><th scope=col>&lt;chr&gt;</th><th scope=col>&lt;chr&gt;</th><th scope=col>&lt;chr&gt;</th><th scope=col>&lt;chr&gt;</th></tr>\n",
              "</thead>\n",
              "<tbody>\n",
              "\t<tr><td>                         </td><td>         </td><td>         </td><td>       </td><td>       </td><td>       </td><td>       </td><td>       </td></tr>\n",
              "\t<tr><td>국내총생산(명목GDP)      </td><td>1,898,193</td><td>1,919,040</td><td>479,907</td><td>487,177</td><td>497,065</td><td>458,202</td><td>472,328</td></tr>\n",
              "\t<tr><td>경제성장률(실질GDP성장률)</td><td>2.9      </td><td>2.0      </td><td>2.1    </td><td>2.0    </td><td>2.3    </td><td>1.4    </td><td>-2.7   </td></tr>\n",
              "</tbody>\n",
              "</table>\n",
              "</li>\n",
              "</ol>\n"
            ]
          },
          "metadata": {
            "tags": []
          }
        }
      ]
    }
  ]
}