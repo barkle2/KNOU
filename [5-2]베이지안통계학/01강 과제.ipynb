{
 "cells": [
  {
   "cell_type": "markdown",
   "metadata": {},
   "source": [
    "1. 서로 독립인 관측값들 <img src=\"https://latex.codecogs.com/svg.image?(x_1,x_2,\\cdots,x_n)\">가 평균이 <img src=\"https://latex.codecogs.com/svg.image?\\frac{1}{\\theta}\">인 <img src=\"https://latex.codecogs.com/svg.image?Exp(\\theta),\\theta>0\">일 때, 적절한 사전분포를 제시(이유포함)하고, θ의 사후분포를 구하시오."
   ]
  },
  {
   "cell_type": "markdown",
   "metadata": {},
   "source": [
    "관측값이 지수분포를 따를 때, 적절한 사전분포는 감마분포이다.\n",
    "\n",
    "지수분포의 확률밀도함수는 다음과 같다.\n",
    "<img src=\"https://latex.codecogs.com/svg.image?f(x_i|\\theta)=\\theta&space;e^{-\\theta&space;x_i},\\;\\;\\;x_i\\geq&space;0\">\n",
    "\n",
    "지수분포의 가능도함수는 다음과 같다.\n",
    "<img src=\"https://latex.codecogs.com/svg.image?L(\\theta|x_i)=\\prod_{i=1}^{n}\\theta&space;e^{-\\theta&space;x_i}=\\theta^{n}e^{-\\theta\\sum{x_i}}\">\n",
    "\n",
    "θ의 사전분포가 감마분포라 하면, 확률밀도함수는 다음과 같다.\n",
    "<img src=\"https://latex.codecogs.com/svg.image?f(\\theta|\\alpha,\\beta)=\\frac{\\beta^{\\alpha}}{\\Gamma(\\alpha)}\\theta^{\\alpha-1}e^{-\\beta\\theta},\\;\\;\\;\\alpha,\\beta>0\">\n",
    "\n",
    "베이즈정리를 이용하여 사후분포를 다음과 같이 구할 수 있다.\n",
    "<img src=\"https://latex.codecogs.com/svg.image?\\pi(\\theta|x_i)\\propto\\theta^{\\alpha-1}\\cdot&space;e^{-\\beta\\theta}\\cdot\\theta^{n}e^{-\\theta\\sum&space;x_i}\">\n",
    "&nbsp;&nbsp;&nbsp;&nbsp;&nbsp;&nbsp;&nbsp;&nbsp;&nbsp;&nbsp;&nbsp;&nbsp;&nbsp;<img src=\"https://latex.codecogs.com/svg.image?=\\theta^{\\alpha&plus;n-1}\\cdot&space;e^{-(\\beta&plus;\\sum&space;x_i)\\theta}=Gamma(\\alpha&plus;n,\\beta&plus;\\sum&space;x_i)\">\n",
    "\n",
    "관측값이 지수분포를 따를 때, 사전분포를 감마분포를 선택하면 사전분포와 사후분포가 같은 켤레사전분포가 된다. 사전분포와 사후분포가 다르다면 사전분포와 사후분포의 성질을 이해하기 위해 2개 분포를 이해해야 한다. 켤레사전분포는 사전분포와 사후분포가 같기 때문에 하나의 분포에 대해서 이해하면 사전분포와 사후분포를 모두 이해할 수 있는 장점이 있다."
   ]
  },
  {
   "cell_type": "markdown",
   "metadata": {},
   "source": [
    "2. 지난 10일 동안 7번 비가 왔다. 비가 오는 사건이 과거에 비가 오는 사건들과 서로 독립이라면, 내일과 모레 이틀간 연속적으로 비가 올 확률의 분포를 구하시오. 비가 올 확률의 사전분포는 0과 1사이에서 정의된 균등분포를 사용하시오."
   ]
  },
  {
   "cell_type": "markdown",
   "metadata": {},
   "source": [
    "사전분포는 0과 1사이에서 정의된 균등분포이다.\n",
    "<img src=\"https://latex.codecogs.com/svg.image?\\pi(\\theta)=1,\\;\\;\\;0\\leq\\theta\\leq1\">\n",
    "\n",
    "비가 오는 사건이 독립적이라면 이항분포라 할 수 있다.\n",
    "\n",
    "이항분포의 확률질량함수는 다음과 같다.\n",
    "<img src=\"https://latex.codecogs.com/svg.image?P(X=k|\\theta)=\\binom{n}{k}\\theta^{k}(1-\\theta)^{n-k}\">\n",
    "\n",
    "지난 10일 동안 7번 비가 온 경우 이항분포의 가능도 함수는 다음과 같다.\n",
    "<img src=\"https://latex.codecogs.com/svg.image?f(x|\\theta)=\\binom{10}{7}\\theta^7\\cdot(1-\\theta)^3\">\n",
    "\n",
    "베이즈정리를 이용하면\n",
    "<img src=\"https://latex.codecogs.com/svg.image?\\pi(\\theta|x)\\propto\\pi(\\theta)\\cdot&space;f(x|\\theta\\)\"> 이므로\n",
    "\n",
    "<img src=\"https://latex.codecogs.com/svg.image?\\pi(\\theta|x)\\propto\\theta^7(1-\\theta)^3\"> 와 같이 단순화 할 수 있고, 이는 θ에 대한 Beta(8,4) 분포이다.\n",
    "\n",
    "내일과 모레 이틀간 연속적으로 비가 올 확률은 <img src=\"https://latex.codecogs.com/svg.image?\\theta^2\">이며, \n",
    "베타분포의 성질에 따라 <img src=\"https://latex.codecogs.com/svg.image?E(\\theta^2)=\\frac{\\alpha(\\alpha&plus;1)}{(\\alpha&plus;\\beta)(\\alpha&plus;\\beta&plus;1)}=\\frac{8\\cdot9}{12\\cdot13}=\\frac{6}{13}=0.4615\"> 이다.\n",
    "\n",
    "따라서, 내일과 모레 연속으로 비가 올 확률은 46.15%이다.\n"
   ]
  },
  {
   "cell_type": "markdown",
   "metadata": {},
   "source": [
    "3. 연속인 관측치들을 얻어졌다고 하자. 관측치들이 N(0,1)를 따르는지 Ca(0,1)을 따르는지 다음의 가설\n",
    "<img src=\"https://latex.codecogs.com/svg.image?H_0:x_1,\\cdots,x_n\\sim&space;N(0,1)\\;\\;vs\\;\\;H_1:x_1,\\cdots,x_n\\sim&space;Ca(0,1)\">\n",
    "을 검정하고자 할 때, 각 가설의 사후확률을 구하시오. 이 때, 각 가설의 사전 확률이 1/2로 가정하시오. 참고로, Ca(0,1)는 코시 분포(Cauchy distribution)로 다음과 같은 pdf를 갖는다.\n",
    "<img src=\"https://latex.codecogs.com/svg.image?f(x)=\\frac{1}{\\pi(1&plus;x^2)},\\;\\;\\;-\\infty<x<\\infty\">"
   ]
  },
  {
   "cell_type": "markdown",
   "metadata": {},
   "source": []
  }
 ],
 "metadata": {
  "language_info": {
   "name": "python"
  }
 },
 "nbformat": 4,
 "nbformat_minor": 2
}
