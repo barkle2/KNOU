{
 "cells": [
  {
   "cell_type": "code",
   "execution_count": 1,
   "metadata": {
    "vscode": {
     "languageId": "r"
    }
   },
   "outputs": [
    {
     "data": {
      "text/html": [
       "<table class=\"dataframe\">\n",
       "<caption>A data.frame: 6 × 10</caption>\n",
       "<thead>\n",
       "\t<tr><th></th><th scope=col>seq</th><th scope=col>date</th><th scope=col>bust</th><th scope=col>sleeve</th><th scope=col>height</th><th scope=col>waist</th><th scope=col>crotch</th><th scope=col>head</th><th scope=col>foot</th><th scope=col>weight</th></tr>\n",
       "\t<tr><th></th><th scope=col>&lt;int&gt;</th><th scope=col>&lt;int&gt;</th><th scope=col>&lt;dbl&gt;</th><th scope=col>&lt;dbl&gt;</th><th scope=col>&lt;dbl&gt;</th><th scope=col>&lt;dbl&gt;</th><th scope=col>&lt;dbl&gt;</th><th scope=col>&lt;dbl&gt;</th><th scope=col>&lt;dbl&gt;</th><th scope=col>&lt;dbl&gt;</th></tr>\n",
       "</thead>\n",
       "<tbody>\n",
       "\t<tr><th scope=row>1</th><td>52094</td><td>    2014</td><td> 91.8</td><td>88.5</td><td>177.8</td><td> 84.1</td><td>83.9</td><td>57.8</td><td>27.2</td><td> 78.8</td></tr>\n",
       "\t<tr><th scope=row>2</th><td>57714</td><td>    2014</td><td> 94.7</td><td>86.3</td><td>171.9</td><td> 89.2</td><td>78.6</td><td>58.6</td><td>26.8</td><td> 71.9</td></tr>\n",
       "\t<tr><th scope=row>3</th><td>10741</td><td>20140224</td><td>114.0</td><td>89.4</td><td>179.3</td><td>109.8</td><td>84.8</td><td>60.8</td><td>29.9</td><td>105.9</td></tr>\n",
       "\t<tr><th scope=row>4</th><td> 8843</td><td>    2013</td><td>105.7</td><td>88.1</td><td>177.0</td><td> 94.4</td><td>77.9</td><td>57.6</td><td>28.0</td><td> 81.1</td></tr>\n",
       "\t<tr><th scope=row>5</th><td>19853</td><td>20140414</td><td>100.6</td><td>87.5</td><td>175.7</td><td> 92.6</td><td>76.4</td><td>58.1</td><td>27.8</td><td> 78.8</td></tr>\n",
       "\t<tr><th scope=row>6</th><td>42241</td><td>    2013</td><td>104.2</td><td>88.6</td><td>176.5</td><td> 98.1</td><td>81.7</td><td>60.4</td><td>26.7</td><td> 83.8</td></tr>\n",
       "</tbody>\n",
       "</table>\n"
      ],
      "text/latex": [
       "A data.frame: 6 × 10\n",
       "\\begin{tabular}{r|llllllllll}\n",
       "  & seq & date & bust & sleeve & height & waist & crotch & head & foot & weight\\\\\n",
       "  & <int> & <int> & <dbl> & <dbl> & <dbl> & <dbl> & <dbl> & <dbl> & <dbl> & <dbl>\\\\\n",
       "\\hline\n",
       "\t1 & 52094 &     2014 &  91.8 & 88.5 & 177.8 &  84.1 & 83.9 & 57.8 & 27.2 &  78.8\\\\\n",
       "\t2 & 57714 &     2014 &  94.7 & 86.3 & 171.9 &  89.2 & 78.6 & 58.6 & 26.8 &  71.9\\\\\n",
       "\t3 & 10741 & 20140224 & 114.0 & 89.4 & 179.3 & 109.8 & 84.8 & 60.8 & 29.9 & 105.9\\\\\n",
       "\t4 &  8843 &     2013 & 105.7 & 88.1 & 177.0 &  94.4 & 77.9 & 57.6 & 28.0 &  81.1\\\\\n",
       "\t5 & 19853 & 20140414 & 100.6 & 87.5 & 175.7 &  92.6 & 76.4 & 58.1 & 27.8 &  78.8\\\\\n",
       "\t6 & 42241 &     2013 & 104.2 & 88.6 & 176.5 &  98.1 & 81.7 & 60.4 & 26.7 &  83.8\\\\\n",
       "\\end{tabular}\n"
      ],
      "text/markdown": [
       "\n",
       "A data.frame: 6 × 10\n",
       "\n",
       "| <!--/--> | seq &lt;int&gt; | date &lt;int&gt; | bust &lt;dbl&gt; | sleeve &lt;dbl&gt; | height &lt;dbl&gt; | waist &lt;dbl&gt; | crotch &lt;dbl&gt; | head &lt;dbl&gt; | foot &lt;dbl&gt; | weight &lt;dbl&gt; |\n",
       "|---|---|---|---|---|---|---|---|---|---|---|\n",
       "| 1 | 52094 |     2014 |  91.8 | 88.5 | 177.8 |  84.1 | 83.9 | 57.8 | 27.2 |  78.8 |\n",
       "| 2 | 57714 |     2014 |  94.7 | 86.3 | 171.9 |  89.2 | 78.6 | 58.6 | 26.8 |  71.9 |\n",
       "| 3 | 10741 | 20140224 | 114.0 | 89.4 | 179.3 | 109.8 | 84.8 | 60.8 | 29.9 | 105.9 |\n",
       "| 4 |  8843 |     2013 | 105.7 | 88.1 | 177.0 |  94.4 | 77.9 | 57.6 | 28.0 |  81.1 |\n",
       "| 5 | 19853 | 20140414 | 100.6 | 87.5 | 175.7 |  92.6 | 76.4 | 58.1 | 27.8 |  78.8 |\n",
       "| 6 | 42241 |     2013 | 104.2 | 88.6 | 176.5 |  98.1 | 81.7 | 60.4 | 26.7 |  83.8 |\n",
       "\n"
      ],
      "text/plain": [
       "  seq   date     bust  sleeve height waist crotch head foot weight\n",
       "1 52094     2014  91.8 88.5   177.8   84.1 83.9   57.8 27.2  78.8 \n",
       "2 57714     2014  94.7 86.3   171.9   89.2 78.6   58.6 26.8  71.9 \n",
       "3 10741 20140224 114.0 89.4   179.3  109.8 84.8   60.8 29.9 105.9 \n",
       "4  8843     2013 105.7 88.1   177.0   94.4 77.9   57.6 28.0  81.1 \n",
       "5 19853 20140414 100.6 87.5   175.7   92.6 76.4   58.1 27.8  78.8 \n",
       "6 42241     2013 104.2 88.6   176.5   98.1 81.7   60.4 26.7  83.8 "
      ]
     },
     "metadata": {},
     "output_type": "display_data"
    },
    {
     "name": "stdout",
     "output_type": "stream",
     "text": [
      "'data.frame':\t200 obs. of  10 variables:\n",
      " $ seq   : int  52094 57714 10741 8843 19853 42241 46561 40117 64329 26347 ...\n",
      " $ date  : int  2014 2014 20140224 2013 20140414 2013 2013 2013 2014 2013 ...\n",
      " $ bust  : num  91.8 94.7 114 105.7 100.6 ...\n",
      " $ sleeve: num  88.5 86.3 89.4 88.1 87.5 88.6 83.4 90.6 85 86.6 ...\n",
      " $ height: num  178 172 179 177 176 ...\n",
      " $ waist : num  84.1 89.2 109.8 94.4 92.6 ...\n",
      " $ crotch: num  83.9 78.6 84.8 77.9 76.4 81.7 73.8 85.1 74.5 76.6 ...\n",
      " $ head  : num  57.8 58.6 60.8 57.6 58.1 60.4 56.7 60 56.7 54.3 ...\n",
      " $ foot  : num  27.2 26.8 29.9 28 27.8 26.7 30.8 27.1 26.5 27.9 ...\n",
      " $ weight: num  78.8 71.9 105.9 81.1 78.8 ...\n"
     ]
    }
   ],
   "source": [
    "army = read.csv(\"army-physical.csv\", header=TRUE, sep=\",\")\n",
    "head(army)\n",
    "str(army)"
   ]
  },
  {
   "cell_type": "code",
   "execution_count": 4,
   "metadata": {
    "vscode": {
     "languageId": "r"
    }
   },
   "outputs": [],
   "source": [
    "# 사후분포 파라미터 계산\n",
    "x = army$height\n",
    "n = length(x)\n",
    "xbar = mean(x)\n",
    "xsd = sd(x)\n",
    "\n",
    "mu0 = mean(x)\n",
    "kappa0 = 0.1\n",
    "nu0 = 0.1\n",
    "sigma02 = var(x)\n",
    "\n",
    "nu1 = nu0 + n\n",
    "kappa1 = kappa0 + n\n",
    "mu1 = (kappa0 * mu0 + n * xbar) / kappa1\n",
    "sigma12 = (kappa0 * n * (xbar - mu0)^2 / kappa1 + (n-1) * xsd^2 + nu0 * sigma02) / nu1"
   ]
  },
  {
   "cell_type": "code",
   "execution_count": 6,
   "metadata": {
    "vscode": {
     "languageId": "r"
    }
   },
   "outputs": [],
   "source": [
    "dlct = function(x, location, scale, ... )\n",
    "{\n",
    "    dt((x-location)/scale,...)/scale\n",
    "}\n",
    "\n",
    "theta = seq(from=160, to=190, length=1000)\n",
    "prior.den = dlct(theta, location=mu0, scale=sqrt(sigma02), df=nu0)\n",
    "post.den = dlct(theta, location=mu1, scale=sqrt(sigma12/kappa1), df=nu1)\n"
   ]
  },
  {
   "cell_type": "code",
   "execution_count": 12,
   "metadata": {
    "vscode": {
     "languageId": "r"
    }
   },
   "outputs": [
    {
     "data": {
      "image/png": "[encoded data removed]",
      "text/plain": [
       "plot without title"
      ]
     },
     "metadata": {
      "image/png": {
       "height": 420,
       "width": 420
      }
     },
     "output_type": "display_data"
    },
    {
     "data": {
      "image/png": "[encoded data removed]",
      "text/plain": [
       "plot without title"
      ]
     },
     "metadata": {
      "image/png": {
       "height": 420,
       "width": 420
      }
     },
     "output_type": "display_data"
    }
   ],
   "source": [
    "library(dplyr)\n",
    "library(ggplot2)\n",
    "\n",
    "pp = data.frame(theta=c(theta, theta), density=c(prior.den, post.den),\n",
    "                label=c(rep(\"prior\", length(prior.den)), rep(\"post\", length(post.den))))\n",
    "pp %>% ggplot(aes(x=theta, y=density, color=label)) + geom_line()\n",
    "pp %>% filter(label==\"post\") %>% ggplot(aes(x=theta, y=density)) + geom_line()"
   ]
  }
 ],
 "metadata": {
  "kernelspec": {
   "display_name": "R",
   "language": "R",
   "name": "ir"
  },
  "language_info": {
   "codemirror_mode": "r",
   "file_extension": ".r",
   "mimetype": "text/x-r-source",
   "name": "R",
   "pygments_lexer": "r",
   "version": "4.3.2"
  }
 },
 "nbformat": 4,
 "nbformat_minor": 2
}
