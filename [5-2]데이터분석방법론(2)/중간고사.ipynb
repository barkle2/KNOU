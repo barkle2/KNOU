{
 "cells": [
  {
   "cell_type": "code",
   "execution_count": 1,
   "metadata": {
    "vscode": {
     "languageId": "r"
    }
   },
   "outputs": [
    {
     "data": {
      "text/html": [
       "0.429184549356223"
      ],
      "text/latex": [
       "0.429184549356223"
      ],
      "text/markdown": [
       "0.429184549356223"
      ],
      "text/plain": [
       "[1] 0.4291845"
      ]
     },
     "metadata": {},
     "output_type": "display_data"
    }
   ],
   "source": [
    "1/2.33"
   ]
  },
  {
   "cell_type": "code",
   "execution_count": 2,
   "metadata": {
    "vscode": {
     "languageId": "r"
    }
   },
   "outputs": [
    {
     "data": {
      "text/html": [
       "0.694444444444444"
      ],
      "text/latex": [
       "0.694444444444444"
      ],
      "text/markdown": [
       "0.694444444444444"
      ],
      "text/plain": [
       "[1] 0.6944444"
      ]
     },
     "metadata": {},
     "output_type": "display_data"
    }
   ],
   "source": [
    "1/1.44"
   ]
  },
  {
   "cell_type": "markdown",
   "metadata": {},
   "source": [
    "어느 가상적인 임상실험을 통해서 새로 개발된 치료약 A의 효능을 검증하고자 실험하여 다음과 같은 2X2 분할표 결과를 얻었다.\n",
    "\n",
    "||효과있음|효과없음|전체|\n",
    "|:-:|:-:|:-:|:-:|\n",
    "|치료약 A|30|120|150|\n",
    "|위약|10|140|150|\n",
    "|전체|40|260|300|"
   ]
  },
  {
   "cell_type": "markdown",
   "metadata": {},
   "source": [
    "(1) 위약 대비 치료약 A을 복용할 때 효과가 나타날 오즈비에 대한 근사적 95% 신뢰구간을 구하고, 그 의미를 해석하시오. 두 변수는 서로 독립적이라고 할 수 있는가?"
   ]
  },
  {
   "cell_type": "code",
   "execution_count": 20,
   "metadata": {
    "vscode": {
     "languageId": "r"
    }
   },
   "outputs": [
    {
     "data": {
      "text/html": [
       "0.38575837490523"
      ],
      "text/latex": [
       "0.38575837490523"
      ],
      "text/markdown": [
       "0.38575837490523"
      ],
      "text/plain": [
       "[1] 0.3857584"
      ]
     },
     "metadata": {},
     "output_type": "display_data"
    },
    {
     "data": {
      "text/html": [
       "1.64247289424119"
      ],
      "text/latex": [
       "1.64247289424119"
      ],
      "text/markdown": [
       "1.64247289424119"
      ],
      "text/plain": [
       "[1] 1.642473"
      ]
     },
     "metadata": {},
     "output_type": "display_data"
    },
    {
     "data": {
      "text/html": [
       "7.45826615644661"
      ],
      "text/latex": [
       "7.45826615644661"
      ],
      "text/markdown": [
       "7.45826615644661"
      ],
      "text/plain": [
       "[1] 7.458266"
      ]
     },
     "metadata": {},
     "output_type": "display_data"
    },
    {
     "data": {
      "text/html": [
       "2.74344"
      ],
      "text/latex": [
       "2.74344"
      ],
      "text/markdown": [
       "2.74344"
      ],
      "text/plain": [
       "[1] 2.74344"
      ]
     },
     "metadata": {},
     "output_type": "display_data"
    },
    {
     "data": {
      "text/html": [
       "4.25656"
      ],
      "text/latex": [
       "4.25656"
      ],
      "text/markdown": [
       "4.25656"
      ],
      "text/plain": [
       "[1] 4.25656"
      ]
     },
     "metadata": {},
     "output_type": "display_data"
    },
    {
     "data": {
      "text/html": [
       "1.15603957026802"
      ],
      "text/latex": [
       "1.15603957026802"
      ],
      "text/markdown": [
       "1.15603957026802"
      ],
      "text/plain": [
       "[1] 1.15604"
      ]
     },
     "metadata": {},
     "output_type": "display_data"
    },
    {
     "data": {
      "text/html": [
       "0.633435061181429"
      ],
      "text/latex": [
       "0.633435061181429"
      ],
      "text/markdown": [
       "0.633435061181429"
      ],
      "text/plain": [
       "[1] 0.6334351"
      ]
     },
     "metadata": {},
     "output_type": "display_data"
    },
    {
     "data": {
      "text/html": [
       "2.10966534992171"
      ],
      "text/latex": [
       "2.10966534992171"
      ],
      "text/markdown": [
       "2.10966534992171"
      ],
      "text/plain": [
       "[1] 2.109665"
      ]
     },
     "metadata": {},
     "output_type": "display_data"
    }
   ],
   "source": [
    "sqrt(1/30+1/120+1/10+1/140)\n",
    "\n",
    "exp(log(3.5)-1.96*0.386)\n",
    "exp(log(3.5)+1.96*0.386)\n",
    "\n",
    "3.5-1.96*0.386\n",
    "3.5+1.96*0.386\n",
    "\n",
    "exp(0.1450)\n",
    "\n",
    "exp(log(1.1560) - 1.96 * sqrt(0.0942))\n",
    "exp(log(1.1560) + 1.96 * sqrt(0.0942))\n"
   ]
  },
  {
   "cell_type": "code",
   "execution_count": 12,
   "metadata": {
    "vscode": {
     "languageId": "r"
    }
   },
   "outputs": [
    {
     "data": {
      "text/html": [
       "11.5384615384615"
      ],
      "text/latex": [
       "11.5384615384615"
      ],
      "text/markdown": [
       "11.5384615384615"
      ],
      "text/plain": [
       "[1] 11.53846"
      ]
     },
     "metadata": {},
     "output_type": "display_data"
    },
    {
     "data": {
      "text/html": [
       "3.9258"
      ],
      "text/latex": [
       "3.9258"
      ],
      "text/markdown": [
       "3.9258"
      ],
      "text/plain": [
       "[1] 3.9258"
      ]
     },
     "metadata": {},
     "output_type": "display_data"
    },
    {
     "data": {
      "text/html": [
       "0.980655251786034"
      ],
      "text/latex": [
       "0.980655251786034"
      ],
      "text/markdown": [
       "0.980655251786034"
      ],
      "text/plain": [
       "[1] 0.9806553"
      ]
     },
     "metadata": {},
     "output_type": "display_data"
    }
   ],
   "source": [
    "10+20/13\n",
    "\n",
    "-3.6566+0.7424+0.0988*60+0.0076*120\n",
    "\n",
    "exp(3.9258)/ (1+exp(3.9258))"
   ]
  },
  {
   "cell_type": "code",
   "execution_count": 15,
   "metadata": {
    "vscode": {
     "languageId": "r"
    }
   },
   "outputs": [
    {
     "data": {
      "text/html": [
       "2.2714"
      ],
      "text/latex": [
       "2.2714"
      ],
      "text/markdown": [
       "2.2714"
      ],
      "text/plain": [
       "[1] 2.2714"
      ]
     },
     "metadata": {},
     "output_type": "display_data"
    },
    {
     "data": {
      "text/html": [
       "9.6929614654536"
      ],
      "text/latex": [
       "9.6929614654536"
      ],
      "text/markdown": [
       "9.6929614654536"
      ],
      "text/plain": [
       "[1] 9.692961"
      ]
     },
     "metadata": {},
     "output_type": "display_data"
    },
    {
     "data": {
      "text/html": [
       "3.2594"
      ],
      "text/latex": [
       "3.2594"
      ],
      "text/markdown": [
       "3.2594"
      ],
      "text/plain": [
       "[1] 3.2594"
      ]
     },
     "metadata": {},
     "output_type": "display_data"
    },
    {
     "data": {
      "text/html": [
       "26.0339121082119"
      ],
      "text/latex": [
       "26.0339121082119"
      ],
      "text/markdown": [
       "26.0339121082119"
      ],
      "text/plain": [
       "[1] 26.03391"
      ]
     },
     "metadata": {},
     "output_type": "display_data"
    },
    {
     "data": {
      "text/html": [
       "2.68585577220675"
      ],
      "text/latex": [
       "2.68585577220675"
      ],
      "text/markdown": [
       "2.68585577220675"
      ],
      "text/plain": [
       "[1] 2.685856"
      ]
     },
     "metadata": {},
     "output_type": "display_data"
    }
   ],
   "source": [
    "-3.6566 + 0.0988*60\n",
    "exp(-3.6566 + 0.0988*60)\n",
    "-3.6566 + 0.0988*70\n",
    "exp(-3.6566 + 0.0988*70)\n",
    "\n",
    "26.034 / 9.693"
   ]
  },
  {
   "cell_type": "markdown",
   "metadata": {},
   "source": []
  },
  {
   "cell_type": "markdown",
   "metadata": {},
   "source": [
    "다음은 AIDS 증상을 완화하는 AZT의 효과를 설명하는 연구에서 얻어진 \n",
    "자료이다. 이 연구에서는 AIDS 바이러스가 침투한 후 면역 기능이 저하된 338명의 \n",
    "재향 군인에 대하여, AZT를 즉시 복용하는 그룹과 T 세포의 면역성이 심하게 \n",
    "약화될 때까지 기다리는 그룹으로 랜덤하게 구분하였다. 2×2×2 분할표는 인종과 \n",
    "AZT를 즉시 복용했는지의 여부와, 3년 동안의 연구기간 중에 AIDS 증상이 \n",
    "나타났는지에 대한 여부를 나타내고 있다. 여기서 X=AZT 처리군, Z=인종(백인, \n",
    "흑인), Y=AIDS 증상의 발병 여부(1=예, 0=아니오)라고 하자\n",
    "\n",
    "race azt yes no\n",
    "white yes 14 93\n",
    "white  no 32 81\n",
    "white yes 11 52\n",
    "white yes 12 43"
   ]
  },
  {
   "cell_type": "code",
   "execution_count": 19,
   "metadata": {
    "vscode": {
     "languageId": "r"
    }
   },
   "outputs": [
    {
     "data": {
      "text/html": [
       "1.15603957026802"
      ],
      "text/latex": [
       "1.15603957026802"
      ],
      "text/markdown": [
       "1.15603957026802"
      ],
      "text/plain": [
       "[1] 1.15604"
      ]
     },
     "metadata": {},
     "output_type": "display_data"
    },
    {
     "data": {
      "text/html": [
       "0.554476007541688"
      ],
      "text/latex": [
       "0.554476007541688"
      ],
      "text/markdown": [
       "0.554476007541688"
      ],
      "text/plain": [
       "[1] 0.554476"
      ]
     },
     "metadata": {},
     "output_type": "display_data"
    }
   ],
   "source": []
  },
  {
   "cell_type": "markdown",
   "metadata": {},
   "source": []
  },
  {
   "cell_type": "code",
   "execution_count": null,
   "metadata": {
    "vscode": {
     "languageId": "r"
    }
   },
   "outputs": [],
   "source": []
  },
  {
   "cell_type": "markdown",
   "metadata": {},
   "source": []
  },
  {
   "cell_type": "markdown",
   "metadata": {},
   "source": [
    "whi"
   ]
  }
 ],
 "metadata": {
  "kernelspec": {
   "display_name": "R",
   "language": "R",
   "name": "ir"
  },
  "language_info": {
   "codemirror_mode": "r",
   "file_extension": ".r",
   "mimetype": "text/x-r-source",
   "name": "R",
   "pygments_lexer": "r",
   "version": "4.3.2"
  }
 },
 "nbformat": 4,
 "nbformat_minor": 2
}
