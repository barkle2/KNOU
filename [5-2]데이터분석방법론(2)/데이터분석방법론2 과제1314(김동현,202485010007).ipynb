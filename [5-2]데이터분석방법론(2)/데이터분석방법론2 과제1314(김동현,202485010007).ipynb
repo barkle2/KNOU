{
 "cells": [
  {
   "cell_type": "markdown",
   "metadata": {},
   "source": [
    "### 과제 13"
   ]
  },
  {
   "cell_type": "markdown",
   "metadata": {},
   "source": [
    "#### 1. 상향식 모형(step-up) 구축 전략을 각 단계별로 설명하시오."
   ]
  },
  {
   "cell_type": "markdown",
   "metadata": {},
   "source": [
    "상향식 모형 구축 전략의 단계\n",
    "- (Step1) 변량요인과 상수항만 있는 모형(분산성분모형)에서 시작한다.\n",
    "  - 고정효과는 상수항만 포함핞다.\n",
    "  - 변량요인은 수준에 대한 변량요인만을 포함한다.\n",
    "  - 예를 들어 분석해야 할 자료가 3수준 군집자료(1수준-학생, 2수준-학급, 3수준-학교)라고 하면, 모형은 다음과 같다.  \n",
    "  - $Y_{ijk} = \\beta_0 + u_{j|k} + u_k + \\epsilon_{ijk}$ \n",
    "    - $u_{j_k}$: 3수준이 주어졌을 때 2수준의 변량\n",
    "    - $u_k$: 3수준의 변량\n",
    "    - $\\epsilon_{ijk}$: 1수준의 변량\n",
    "  - Step1 에서는 가능도비 검정을 사용하여 2수준, 3수준 변량효과의 유의성을 검정한다\n",
    "- (Step2) 1수준 공변량을 추가한 모형을 적합하고 검정한다.\n",
    "  - Step2에서는 1수준 공변량을 추가한 모형을 적합한다. 모형은 다음과 같다.\n",
    "  - $Y_{ijk} = \\beta_0 + X_{ijk}\\beta_1 + u_{j|k} + u_k + \\epsilon_{ijk}$ \n",
    "    - $X_{ijk}$ 는 1수준의 공변량 벡터\n",
    "    - $\\beta_1$ 는 미지의 모수벡터\n",
    "  - Step2 에서는 가능도비 검정, F-검정, t-검정 등을 사용하여 $\\beta_1$ 의 유의성을 검정한다.\n",
    "- (Step3) 2수준 공변량을 추가한 모형을 적합하고 검정한다.\n",
    "  - Step3에서는 2수준 공변량을 추가한 모형을 적합한다. 모형은 다음과 같다.\n",
    "  - $Y_{ijk} = \\beta_0 + X_{ijk}\\beta_1 + X_{jk}\\beta_2 + u_{j|k} + u_k + \\epsilon_{ijk}$ \n",
    "    - $X_{jk}$ 는 2수준의 공변량 벡터\n",
    "    - $\\beta_2$ 는 미지의 모수벡터\n",
    "  - Step2와 같이 여러 검정방법을 사용하여 $beta_2$의 유의성을 검정한다."
   ]
  },
  {
   "cell_type": "markdown",
   "metadata": {},
   "source": [
    "- (Step4) 3수준 공변량을 추가한 모형을 적합하고 검정한다.\n",
    "  - Step3에서는 3수준 공변량을 추가한 모형을 적합한다. 모형은 다음과 같다.\n",
    "  - $Y_{ijk} = \\beta_0 + X_{ijk}\\beta_1 + X_{jk}\\beta_2 + X_{k}\\beta_3 + u_{j|k} + u_k + \\epsilon_{ijk}$ \n",
    "    - $X_{k}$ 는 3수준의 공변량 벡터\n",
    "    - $\\beta_3$ 는 미지의 모수벡터\n",
    "  - Step2와 같이 여러 검정방법을 사용하여 $beta_3$의 유의성을 검정한다.\n",
    "\n",
    "- 마지막으로, 각 단계별로 적합한 모형을 비교하여 가장 적절하다고 판단되는 모형을 최종모형으로 결정한다."
   ]
  },
  {
   "cell_type": "markdown",
   "metadata": {},
   "source": [
    "#### 2. 'mathknow' 공변량에 결측치가 없다고 가정하자. 모형4.3(Level 1, Level 2 공변량 포함 모형)에서 Level 2 공변량의 유의성을 검정하는 가설을 설정하고 가능도비 검정 방법을 제시하시오."
   ]
  },
  {
   "cell_type": "markdown",
   "metadata": {},
   "source": [
    "mathknow 자료에 결측치가 없다고 가정하면 가능도비 검정을 사용하여 Level2 공변량의 유의성을 검정할 수 있다.\n",
    "\n",
    "가능도비 검정을 사용하기 위해서는 Level1 공변량이 포함된 모형 4.2와 Level1과 Level2 공변량이 포함된 모형 4.3을 비교해야 한다.\n",
    "(가능도비 검정을 위해 모형을 적합할 때는 REML이 아니라 ML 추정을 사용한다.)\n",
    "\n",
    "- 모형4.2: $Mathgain_{ijk} = \\beta_0 + \\beta_1\\cdot x_{1ijk} + \\beta_2\\cdot x_{2ijk} + \\beta_3\\cdot x_{3ijk} + \\beta_4\\cdot x_{4ijk} + u_{j|k} + u_k + \\epsilon_{ijk}$\n",
    "\n",
    "- 모형4.3: $Mathgain_{ijk} = \\beta_0 + \\beta_1\\cdot x_{1ijk} + \\beta_2\\cdot x_{2ijk} + \\beta_3\\cdot x_{3ijk} + \\beta_4\\cdot x_{4ijk} + \\beta_5\\cdot x_{5jk} + \\beta_6\\cdot x_{6jk} + \\beta_7\\cdot x_{7jk} + u_{j|k} + u_k + \\epsilon_{ijk}$\n",
    "\n",
    "가설은 다음과 같이 설정할 수 있다.  \n",
    "- $H_0: \\beta_5 = \\beta_6 = \\beta_7 = 0 \\;\\;\\; vs.\\;\\;\\; H_1: not H_0$\n",
    "\n",
    "가능도비 검정통계량 LR은 다음과 같다.\n",
    "$LR = -2log(\\dfrac{L_{H_0}}{L_{H_1}})$\n",
    "\n",
    "그리고 검정통계량은 자유도가 3인 카이제곱 분포를 따른다."
   ]
  },
  {
   "cell_type": "markdown",
   "metadata": {},
   "source": [
    "#### 3. 최종분석모형(모형4.2) 적합 결과로부터 '성별', 'mathkind', 'minority'가 수학성취도에 미치는 영향을 해석하시오."
   ]
  },
  {
   "cell_type": "markdown",
   "metadata": {},
   "source": [
    "최종분석모형은 다음과 같다.\n",
    "\n",
    "$Mathgain_{ijk} = 282.790 - 1.251\\cdot sex - 8.262\\cdot minority -0.470\\cdot mathkind + 5.346 \\cdot ses + u_{j|k} + u_k + \\epsilon_{ijk}$\n",
    "\n",
    "mathkind가 수학성취도(mathgain)에 미치는 영향은 다음과 같다.\n",
    "- 다른 공변량(sex, minority, ses)가 동일할 때 mathkind가 1단위 높을수록 수학성취도는 평균적으로 0.470 만큼 낮다. \n",
    "- 즉, 유치원의 수학성적이 높을수록 수학성취도가 낮아진다고 볼 수 있다.\n",
    "- 이 때 낮아지는 수학성취도의 표준편차는 0.022 이다.\n",
    "- p값이 0.00001 보다 작으므로 이러한 영향력은 통계적으로 유의하다.\n",
    "\n",
    "minority가 수학성취도(mathgain)에 미치는 영향은 다음과 같다.\n",
    "- 다른 공변량(sex, mathkind, ses)가 동일할 때 minority가 1단위 높을수록 수학성취도는 평균적으로 8.262 만큼 낮다. \n",
    "- minority=0 이면 소수자가 아니고, minority=1이면 소수자 이므로, 이를 바꿔서 말하면 학생이 소수자일 경우 수학성취도가 평균적으로 8.262 만큼 낮다 고 할 수 있다.\n",
    "- 이 때 낮아지는 수학성취도의 표준편차는 2.340 이다.\n",
    "- p값이 0.0004 이므로 이러한 영향력은 통계적으로 유의하다."
   ]
  },
  {
   "cell_type": "markdown",
   "metadata": {},
   "source": [
    "#### 4. Level 1 공변량을 보정했을 때 '학교 내 상관계수'와 '학급 내 상관계수'를 각각 구하시오. 이들을 분산성분모형에서의 그것들과 비교하시오."
   ]
  },
  {
   "cell_type": "markdown",
   "metadata": {},
   "source": [
    "Level 1 공변량을 보정한 모형은 모형4.2 이다.\n",
    "\n",
    "모형 4.2의 모수 추정치는 다음과 같다.  \n",
    "$\\hat{\\sigma_{sch}}=8.67 \\;\\;\\; \\hat{\\sigma_{sch}^2}=75.17 \\\\ \\hat{\\sigma_{cl}} = 9.12 \\;\\;\\; \\hat{\\sigma_{cl}^2}=83.17 \\\\ \\hat{\\sigma} = 27.10 \\;\\;\\; \\hat{\\sigma^2}=734.41 $\n",
    "\n",
    "학교 내 상관계수 $\\hat{ICC}_{sch}=\\dfrac{\\hat{\\sigma^2}_{sch}}{\\hat{\\sigma^2}_{sch}+\\hat{\\sigma^2}_{cl}+\\hat{\\sigma^2}}=\\dfrac{75.17}{75.17+83.17+734.41}=0.084$  \n",
    "학급 내 상관계수 $\\hat{ICC}_{cl}=\\dfrac{\\hat{\\sigma^2}_{sch}+\\hat{\\sigma^2}_{cl}}{\\hat{\\sigma^2}_{sch}+\\hat{\\sigma^2}_{cl}+\\hat{\\sigma^2}}=\\dfrac{75.17+83.17}{75.17+83.17+734.41}=0.177$\n",
    "\n",
    "분산성분모형의 모수 추정치는 다음과 같다.  \n",
    "$\\hat{\\sigma_{sch}}=8.80 \\;\\;\\; \\hat{\\sigma_{sch}^2}=77.44\\\\ \\hat{\\sigma_{cl}} = 9.96 \\;\\;\\; \\hat{\\sigma_{cl}^2}=99.20 \\\\ \\hat{\\sigma} = 32.07 \\;\\;\\; \\hat{\\sigma^2}=1028.49 $\n",
    "\n",
    "학교 내 상관계수 $\\hat{ICC}_{sch}=\\dfrac{\\hat{\\sigma^2}_{sch}}{\\hat{\\sigma^2}_{sch}+\\hat{\\sigma^2}_{cl}+\\hat{\\sigma^2}}=\\dfrac{77.44}{77.44+99.20+1028.49}=0.064$  \n",
    "학급 내 상관계수 $\\hat{ICC}_{cl}=\\dfrac{\\hat{\\sigma^2}_{sch}+\\hat{\\sigma^2}_{cl}}{\\hat{\\sigma^2}_{sch}+\\hat{\\sigma^2}_{cl}+\\hat{\\sigma^2}}=\\dfrac{77.44+99.20}{77.44+99.20+1028.49}=0.147$\n",
    "\n",
    "상관계수는 각각 수준의 차이가 전체 변동에서 차지하는 비율이라고 볼 수 있다.  \n",
    "모형 4.2의 상관계수가 분산성분모형의 상관계수보다 큰 것은 Level 1 공변량이 추가되면서 학교와 학급의 영향이 더 잘 드러나게 되었다고 해석할 수 있다."
   ]
  },
  {
   "cell_type": "markdown",
   "metadata": {},
   "source": [
    "### 과제 14"
   ]
  },
  {
   "cell_type": "markdown",
   "metadata": {},
   "source": [
    "##### 1. $Y_{ij}$: j번째 개체의 i번째 관측값, $x_{ij}$: 공변량 일 때\n",
    "\n",
    "$Y_{ij}=(\\beta_0 + \\mu_{0j})+(\\beta_1+\\mu_{1j})x_{ij}+\\epsilon_{ij}$\n",
    "\n",
    "이고, 여기서 $U_j=(u_{0j},u_{1j})'\\overset{iid}\\sim N(0,D),\\;\\;\\; D=\\begin{pmatrix} \\sigma_0^2 & \\sigma_{01} \\\\ \\sigma_{01} & \\sigma_1^2 \\\\ \\end{pmatrix}$\n",
    "$\\epsilon_{ij}\\overset{iid}\\sim N(0,\\sigma^2)$ 이며,  \n",
    "$U_j$와 $\\epsilon_{ij}$ 서로 독립이다. 다음을 구하라."
   ]
  },
  {
   "cell_type": "markdown",
   "metadata": {},
   "source": [
    "① $E(Y_{ij})$  \n",
    "$= \\beta_0 + \\beta_1 x_{ij}$  \n",
    "\n",
    "② $E(Y_{ij}|U_{j})$  \n",
    "$= (\\beta_0 + u_{0j})+(\\beta_1+u_{1j})x_{ij}$\n",
    "\n",
    "③ $Var(Y_{ij})$  \n",
    "$=V(u_{0j})+x_{ij}^2 V(u_{1j})+2x_{ij} Cov(u_{0j}, u_{1j}) + V(\\epsilon_{ij}) $  \n",
    "$=\\sigma_{0}^2 + x_{ij}^2 \\sigma_1^2 + 2x_{ij}\\sigma_{01} + \\sigma^2$\n",
    "\n",
    "④ $Cov(Y_{ij}, Y_{i'j})$, 단 $i\\neq i'$  \n",
    "$=Var(u_{0j}) + x_{ij} x_{i'j} Var(u_{1j}) + x_{ij} Cov(u_{0j}, u_{1j}) + x_{i'j} Cov(u_{0j}, u_{1j})$  \n",
    "$=\\sigma_0^2 + x_{ij} x_{i'j} \\sigma_1^2 + (x_{ij}+x_{i'j}) \\sigma_{01}$\n",
    "\n",
    "⑤ $Cov(Y_{ij}, Y_{i'j'})$, 단 $i\\neq i', j\\neq j'$  \n",
    "$u_{0j}, u_{1j}, \\epsilon_{ij}$ 가 독립이므로 서로 다른 군집 j와 j'에 속한 $Y_{ij}$와 $Y_{i'j'}$의 공분산은 0이다."
   ]
  },
  {
   "cell_type": "markdown",
   "metadata": {},
   "source": [
    "#### 2. 최종분석모형(Model3) 적합결과로부터\n",
    "\n",
    "① 아래 각 가설  \n",
    "$H_0: \\beta_i = 0\\;\\;\\; vs.\\;\\;\\; H_1: \\beta_i \\neq 0, \\;\\;\\; i=1,2,\\cdots,6$  \n",
    "에 대하여 유의수준 5%에서 t-검정을 실시하시오."
   ]
  },
  {
   "cell_type": "markdown",
   "metadata": {},
   "source": [
    "최종분석모형인 Model3 는 다음과 같다.\n",
    "\n",
    "$Y_{ij} = \\beta_0 + \\beta_1\\cdot age.2_{ij} + \\beta_2\\cdot (age.2_{ij})^2 + \\beta_3\\cdot sic2_j + \\beta_4\\cdot sic3_j + \\beta_5\\cdot age.2_{ij} \\cdot sic2_j + \\beta_6 \\cdot age.2_{ij} \\cdot sic3_j + u_{1j}\\cdot age.2_{ij} + u_{2j}\\cdot (age.2_{ij})^2 + \\epsilon_{ij}$  \n",
    "$= 8.48 + 2.08\\cdot age.2_{ij} + 0.11\\cdot (age.2_{ij})^2 + 1.36\\cdot sic2_j + 4.99\\cdot sic3_j + 0.57\\cdot age.2_{ij} \\cdot sic2_j + 4.07 \\cdot age.2_{ij} \\cdot sic3_j + u_{1j}\\cdot age.2_{ij} + u_{2j}\\cdot (age.2_{ij})^2 + \\epsilon_{ij}$  \n",
    "\n",
    "여기서, $age.2_{ij}=(age_{ij}-2),\\;\\;\\; sic2_j = \\begin{cases} 1 & sicdegp=2 \\\\ 0 & otherwise \\end{cases} \\;\\;\\; sic3_j = \\begin{cases} 1 & sicdegp=3 \\\\ 0 & otherwise \\end{cases}$\n",
    "\n",
    "$U_j=(u_{1j}, u_{2j})' \\overset{iid}\\sim N(0,D),\\;\\;\\; \\epsilon_{ij}\\overset{iid}\\sim N(0,\\sigma^2)$ 이고 서로 독립,\n",
    "\n",
    "$D=\\begin{pmatrix} \\sigma_0^2 & \\sigma_{01} \\\\ \\sigma_{01} & \\sigma_1^2 \\\\ \\end{pmatrix}$ 는 $U_j$의 2×2 분산·공분산 행렬"
   ]
  },
  {
   "cell_type": "markdown",
   "metadata": {},
   "source": [
    "summary(model3) 명령어를 통해 각 변량계수들에 대한 t-value와 p-value 값을 알 수 있다.\n",
    "\n",
    "$\\beta_1$: t검정통계량=3.079, p값=0.001 → 귀무가설을 기각  \n",
    "$\\beta_2$: t검정통계량=2.548, p값=0.011 → 귀무가설을 기각  \n",
    "$\\beta_3$: t검정통계량=1.481, p값=0.141 → 귀무가설을 기각하지 못함  \n",
    "$\\beta_4$: t검정통계량=4.805, p값=0.000 → 귀무가설을 기각  \n",
    "$\\beta_5$: t검정통계량=0.719, p값=0.472 → 귀무가설을 기각하지 못함  \n",
    "$\\beta_6$: t검정통계량=4.624, p값=0.000 → 귀무가설을 기각  "
   ]
  },
  {
   "cell_type": "markdown",
   "metadata": {},
   "source": [
    "② $\\beta_i,\\;\\;\\; i=1,2,\\cdots,6$ 들의 의미하는 바를 기술하고 이들에 대한 95% 신뢰구간을 제시하시오."
   ]
  },
  {
   "cell_type": "markdown",
   "metadata": {},
   "source": [
    "$\\beta_1 = 2.08$\n",
    "- sicdeg=1인 대상에 대해 age.2 변수가 vsae에 미치는 영향을 나타내는 계수이다.\n",
    "- (age.2) 변수가 1 증가할 때 vsae가 2.08 증가한다는 추정을 나타낸다.(표준편차=0.65)\n",
    "- 95% 신뢰구간: [0.807, 3.355]\n",
    "\n",
    "$\\beta_2 = 0.11$\n",
    "- sicdeg 값과 관계없이 (age.2)^2 변수가 vsae에 미치는 영향을 나타내는 계수이다.\n",
    "- (age.2)^2 변수가 1 증가할 때 vsae가 0.11 증가한다는 추정을 나타낸다.(표준편차=0.04)\n",
    "- 95% 신뢰구간: [0.025, 0.193]\n",
    "\n",
    "$\\beta_3 = 1.36$ \n",
    "- age=2, sicdegp=2인 대상과 age=2, sicdegp=1인 대상의 평균 차이에 대한 추정치이다.\n",
    "- 즉, sicdegp=2인 2세 아이들이 sicdegp=1인 2세 아이들보다 vsae가 1.36 높다는 것을 나타낸다.(표준편차=0.92)\n",
    "- 95% 신뢰구간: [-0.456, 3.185]\n",
    "\n",
    "$\\beta_4 = 4.99$ \n",
    "- age=2, sicdegp=3인 대상과 age=2, sicdegp=1인 대상의 평균 차이에 대한 추정치이다.\n",
    "- 즉, sicdegp=3인 2세 아이들이 sicdegp=1인 2세 아이들보다 vsae가 4.99 높다는 것을 나타낸다.(표준편차=1.04)\n",
    "- 95% 신뢰구간: [2.937, 7.038]\n",
    "\n",
    "$\\beta_5 = 0.57$\n",
    "- sicdegp=2인 대상자에 대해 age.2의 일차항 변수가 미치는 영향과 sicdegp=1인 대상자에 대해 age.2의 일차항 변수가 미치는 영향의 차이를 의미한다.\n",
    "- sicdegp=2인 아이들이 age.2 변수가 1 증가할 때 sicdegp=1인 아이들보다 vsae가 0.57 높다는 것을 나타낸다.(표준편차=0.80)\n",
    "- 95% 신뢰구간: [-0.992, 2.137]\n",
    "\n",
    "$\\beta_6 = 4.07$\n",
    "- sicdegp=3인 대상자에 대해 age.2의 일차항 변수가 미치는 영향과 sicdegp=1인 대상자에 대해 age.2의 일차항 변수가 미치는 영향의 차이를 의미한다.\n",
    "- sicdegp=3인 아이들이 age.2 변수가 1 증가할 때 sicdegp=1인 아이들보다 vsae가 4.07 높다는 것을 나타낸다.(표준편차=0.88)\n",
    "- 95% 신뢰구간: [2.339, 5.797]"
   ]
  }
 ],
 "metadata": {
  "kernelspec": {
   "display_name": "R",
   "language": "R",
   "name": "ir"
  },
  "language_info": {
   "codemirror_mode": "r",
   "file_extension": ".r",
   "mimetype": "text/x-r-source",
   "name": "R",
   "pygments_lexer": "r",
   "version": "4.3.2"
  }
 },
 "nbformat": 4,
 "nbformat_minor": 2
}
