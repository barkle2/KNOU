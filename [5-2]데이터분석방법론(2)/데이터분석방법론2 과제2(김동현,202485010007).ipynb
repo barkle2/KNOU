{
 "cells": [
  {
   "cell_type": "markdown",
   "metadata": {},
   "source": [
    "### 문제1\n",
    "\n",
    "1991년 일반사회조사에서 조사된 다음의 4X4 분할표는 흑인들에 대해서 직업만족도와 수입에 대해서 조사한 결과를 보여준다.\n",
    "\n",
    "|수입|직업만족도<br>매우 불만족|직업만족도<br>약간 만족|직업만족도<br>적절히 만족|직업만족도<br>매우 만족|\n",
    "|:-:|:-:|:-:|:-:|:-:|\n",
    "|<5000|2|4|13|3|\n",
    "|5000 ~ 15000|2|6|22|4|\n",
    "|15000 ~ 25000|0|1|15|8|\n",
    "|>25000|0|3|13|8|\n",
    "\n",
    "a. <img src=\"https://latex.codecogs.com/svg.image?\\chi^2\"> 검정을 이용하여 직업만족도와 수입 간의 독립성검정을 수행하라. 검정 결과를 해석하고 이 자료에 대해서 이 검정이 갖고 있는 문제점을 설명하라. 표준화잔차를 구하라. 어떠한 패턴을 보이고 있는가?"
   ]
  },
  {
   "cell_type": "code",
   "execution_count": 62,
   "metadata": {
    "vscode": {
     "languageId": "r"
    }
   },
   "outputs": [],
   "source": [
    "# 데이터 입력\n",
    "data = matrix(c(2, 4, 13, 3,\n",
    "                2, 6, 22, 4,\n",
    "                0, 1, 15, 8,\n",
    "                0, 3, 13, 8),\n",
    "                nrow=4, byrow=TRUE)\n",
    "\n",
    "colnames(data) = c(\"매우불만족\", \"약간만족\", \"적절히만족\", \"매우만족\")\n",
    "rownames(data) = c(\"<5000\", \"5000~15000\", \"15000~25000\", \">25000\")"
   ]
  },
  {
   "cell_type": "code",
   "execution_count": 20,
   "metadata": {
    "vscode": {
     "languageId": "r"
    }
   },
   "outputs": [
    {
     "name": "stderr",
     "output_type": "stream",
     "text": [
      "Warning message in chisq.test(data):\n",
      "\"Chi-squared approximation may be incorrect\"\n"
     ]
    },
    {
     "data": {
      "text/plain": [
       "\n",
       "\tPearson's Chi-squared test\n",
       "\n",
       "data:  data\n",
       "X-squared = 11.524, df = 9, p-value = 0.2415\n"
      ]
     },
     "metadata": {},
     "output_type": "display_data"
    }
   ],
   "source": [
    "# 카이제곱 검정을 이용하여 직업만족도와 수입 간의 독립성검정 수행\n",
    "result = chisq.test(data)\n",
    "result"
   ]
  },
  {
   "cell_type": "markdown",
   "metadata": {},
   "source": [
    "< 카이제곱 검정 결과 >\n",
    "chisq.test 함수를 통해 카이제곱검정을 실시한 결과,  \n",
    "검정 통계량이 11.524, 자유도는 9, p값은 0.2415 이다.  \n",
    "\n",
    "자유도 df = (I-1)(J-1) 이므로 (4-1)×(4-1) = 9 이다.  \n",
    "p값은 1-pchisq(11.524, df=9) 명령어를 통해 0.2415임을 확인할 수 있다.  "
   ]
  },
  {
   "cell_type": "code",
   "execution_count": 21,
   "metadata": {
    "vscode": {
     "languageId": "r"
    }
   },
   "outputs": [
    {
     "data": {
      "text/html": [
       "0.241492497242428"
      ],
      "text/latex": [
       "0.241492497242428"
      ],
      "text/markdown": [
       "0.241492497242428"
      ],
      "text/plain": [
       "[1] 0.2414925"
      ]
     },
     "metadata": {},
     "output_type": "display_data"
    }
   ],
   "source": [
    "p_value = 1-pchisq(11.524, df=9)\n",
    "p_value"
   ]
  },
  {
   "cell_type": "markdown",
   "metadata": {},
   "source": [
    "< 검정결과에 대한 해석 >\n",
    "\n",
    "귀무가설은 \"수입(독립변수)과 직업만족도(반응변수)는 서로 독립이다\" 이며,  \n",
    "대립가설은 \"수입(독립변수)과 직업만족도(반응변수)는 서로 독립적이지 않다.\" 이다.\n",
    "\n",
    "검정 결과 p값이 0.2415로서 0.05보다 크므로 귀무가설을 기각할 수 없는 것으로 해석할 수 있다.\n",
    "\n",
    "< 이 검정이 갖고 있는 문제점 >\n",
    "\n",
    "다만, 행과 열의 각각 4개씩 존재하는 분할표에서 전체 관측치가 104개라면 평균적으로 하나의 셀에 6.5개의 관측이 존재할 수 있는데, 각 셀마다 관측치 수의 편차가 크다는 점을 고려하면 검정결과가 왜곡될 우려가 있다고 판단된다."
   ]
  },
  {
   "cell_type": "code",
   "execution_count": 22,
   "metadata": {
    "vscode": {
     "languageId": "r"
    }
   },
   "outputs": [
    {
     "data": {
      "text/html": [
       "<table class=\"dataframe\">\n",
       "<caption>A matrix: 4 × 4 of type dbl</caption>\n",
       "<thead>\n",
       "\t<tr><th></th><th scope=col>매우불만족</th><th scope=col>약간만족</th><th scope=col>적절히만족</th><th scope=col>매우만족</th></tr>\n",
       "</thead>\n",
       "<tbody>\n",
       "\t<tr><th scope=row>&lt;5000</th><td> 1.4406207</td><td> 0.7305280</td><td>-0.1606257</td><td>-1.079180</td></tr>\n",
       "\t<tr><th scope=row>5000~15000</th><td> 0.7525419</td><td> 0.8715747</td><td> 0.6005081</td><td>-1.772568</td></tr>\n",
       "\t<tr><th scope=row>15000~25000</th><td>-1.1171392</td><td>-1.5211385</td><td> 0.2198088</td><td> 1.509794</td></tr>\n",
       "\t<tr><th scope=row>&gt;25000</th><td>-1.1171392</td><td>-0.1573592</td><td>-0.7326960</td><td> 1.509794</td></tr>\n",
       "</tbody>\n",
       "</table>\n"
      ],
      "text/latex": [
       "A matrix: 4 × 4 of type dbl\n",
       "\\begin{tabular}{r|llll}\n",
       "  & 매우불만족 & 약간만족 & 적절히만족 & 매우만족\\\\\n",
       "\\hline\n",
       "\t<5000 &  1.4406207 &  0.7305280 & -0.1606257 & -1.079180\\\\\n",
       "\t5000\\textasciitilde{}15000 &  0.7525419 &  0.8715747 &  0.6005081 & -1.772568\\\\\n",
       "\t15000\\textasciitilde{}25000 & -1.1171392 & -1.5211385 &  0.2198088 &  1.509794\\\\\n",
       "\t>25000 & -1.1171392 & -0.1573592 & -0.7326960 &  1.509794\\\\\n",
       "\\end{tabular}\n"
      ],
      "text/markdown": [
       "\n",
       "A matrix: 4 × 4 of type dbl\n",
       "\n",
       "| <!--/--> | 매우불만족 | 약간만족 | 적절히만족 | 매우만족 |\n",
       "|---|---|---|---|---|\n",
       "| &lt;5000 |  1.4406207 |  0.7305280 | -0.1606257 | -1.079180 |\n",
       "| 5000~15000 |  0.7525419 |  0.8715747 |  0.6005081 | -1.772568 |\n",
       "| 15000~25000 | -1.1171392 | -1.5211385 |  0.2198088 |  1.509794 |\n",
       "| &gt;25000 | -1.1171392 | -0.1573592 | -0.7326960 |  1.509794 |\n",
       "\n"
      ],
      "text/plain": [
       "            매우불만족 약간만족   적절히만족 매우만족 \n",
       "<5000        1.4406207  0.7305280 -0.1606257 -1.079180\n",
       "5000~15000   0.7525419  0.8715747  0.6005081 -1.772568\n",
       "15000~25000 -1.1171392 -1.5211385  0.2198088  1.509794\n",
       ">25000      -1.1171392 -0.1573592 -0.7326960  1.509794"
      ]
     },
     "metadata": {},
     "output_type": "display_data"
    }
   ],
   "source": [
    "# 표준화잔차 구하기\n",
    "result$stdres"
   ]
  },
  {
   "cell_type": "markdown",
   "metadata": {},
   "source": [
    "< 표준화잔차의 패턴 >\n",
    "표준화잔차의 패턴을 살펴보면  \n",
    "첫째, 수입이 낮으면 매우불만족, 약간만족이 기대값보다 많이 나타나고, 수입이 높으면 매우불만족, 약간만족이 기대값보다 적게 나타난다.  \n",
    "둘째, 수입이 낮으면 적절히만족, 매우만족이 기대값보다 대체로 적게 나타나고, 수입이 높으면 적절히만족, 매우만족이 기대값보다 대체로 많이 나타난다."
   ]
  },
  {
   "cell_type": "markdown",
   "metadata": {},
   "source": [
    "b. 수입에 대해서는 (3, 10, 20, 35) 점수를 사용하고 직업만족도에 대해서는 (1, 3, 4, 5) 점수를 사용하여 변수들을 질적인 형태로 간주한 후에 검정을 수행하라. 왜 이 검정 결과가 (a)와 다른지 설명하라."
   ]
  },
  {
   "cell_type": "markdown",
   "metadata": {},
   "source": [
    "![SAS 코드](02강%20과제1-2.png)"
   ]
  },
  {
   "cell_type": "markdown",
   "metadata": {},
   "source": [
    "![SAS 결과](02강%20과제1-2_결과.png)"
   ]
  },
  {
   "cell_type": "markdown",
   "metadata": {},
   "source": [
    "< 점수를 반영하여 질적인 형태로 간주한 변수의 검정 결과 >\n",
    "(a)에서 실시한 카이제곱 검정에 따른 p값은 0.2415 였는데, (b)에서 점수를 부여한 Mentel-Haenszel 카이제곱 검정에 따른 p 값은 0.0079이다.\n",
    "즉, Mentel-Haenszel 카이제곱 검정에 따르면 귀무가설을 기각할 수 있으며, 수입과 만족도 사이에는 연관성이 존재한다.\n",
    "\n",
    "< 검정 결과가 a와 다른 이유 >\n",
    "데이터에 점수를 반영하면 데이터는 단순히 범주형이 아니라 순서형 정보를 포함하게 된다.\n",
    "점수를 반영한 데이터는 변수의 순서와 강도를 추가로 반영하게 되며, 이는 검정통계량과 p값에 큰 영향을 미치며, 이에 따라 변수간의 관계에도 영향을 미치는 것으로 보인다."
   ]
  },
  {
   "cell_type": "markdown",
   "metadata": {},
   "source": [
    "### 문제2\n",
    "\n",
    "<표 2.15>은 후두암을 치료하는 데 있어 수술과 방사선 치료를 비교하는 연구 결과이다. R 수행한 결과가 다음과 같다.\n",
    "\n",
    "> \\> fisher.test(matrix(c(21,2,15,3), ncol=2, byrow=TRUE), alternative=\"two.sided\")  \n",
    "p-value = 0.6384  \n",
    "> \\> fisher.test(matrix(c(21,2,15,3), ncol=2, byrow=TRUE), alternative=\"greater\")  \n",
    "p-value = 0.3808  \n",
    "> \\> fisher.test(matrix(c(21,2,15,3), ncol=2, byrow=TRUE), alternative=\"less\")  \n",
    "p-value = 0.8947\n",
    "\n",
    "<표 2.15>\n",
    "\n",
    "||후두암<br>치료됨|후두암<br>치료안됨|\n",
    "|:-:|:-:|:-:|\n",
    "|수술|21|2|\n",
    "|방사선 치료|15|3|"
   ]
  },
  {
   "cell_type": "markdown",
   "metadata": {},
   "source": [
    "a. (i) H_0: θ=1 과 (ii) H_1: θ≠1 를 검정하기 위해 Fisher의 정확검정 p-값을 구하고 그 결과를 해석하라."
   ]
  },
  {
   "cell_type": "code",
   "execution_count": 1,
   "metadata": {
    "vscode": {
     "languageId": "r"
    }
   },
   "outputs": [
    {
     "data": {
      "text/html": [
       "0.638425776423209"
      ],
      "text/latex": [
       "0.638425776423209"
      ],
      "text/markdown": [
       "0.638425776423209"
      ],
      "text/plain": [
       "[1] 0.6384258"
      ]
     },
     "metadata": {},
     "output_type": "display_data"
    }
   ],
   "source": [
    "# 빈도표 정의\n",
    "data_matrix <- matrix(c(21, 2, 15, 3), nrow = 2, byrow = TRUE)\n",
    "# Fisher의 정확검정 수행\n",
    "result <- fisher.test(data_matrix)\n",
    "# 결과 출력\n",
    "result$p.value\n"
   ]
  },
  {
   "cell_type": "markdown",
   "metadata": {},
   "source": [
    "< <img src=\"https://latex.codecogs.com/svg.image?H_0:\\theta=1\\;\\;\\;H_1:\\theta\\neq1\">을 검정하기 위한 Fisher의 정확검정 P-값 >\n",
    "\n",
    "대립가설이 <img src=\"https://latex.codecogs.com/svg.image?H_1:\\theta\\neq1\"> 인 경우\n",
    "귀무가설은 수술과 방사선 치료가 후두암 치료에 같은 효과를 가진다는 것이고,  \n",
    "대립가설은 수술과 방사선 치료가 후두암 치료에 보이는 효과가 다르다는 것이다.\n",
    "\n",
    "주어진 바에 따르면 이 경우 P-값은 0.6384 이며, 귀무가설은 기각할 수 없다."
   ]
  },
  {
   "cell_type": "markdown",
   "metadata": {},
   "source": [
    "b. H_a: θ≠1 검정을 위한 중앙 p-값을 구하고 그 결과를 해석하고 이 값에 대응되는 신뢰구간을 구하라. 이 중앙 p-값이 기존의 p-값에 비해 어떤 장점이 있는지 설명하라."
   ]
  },
  {
   "cell_type": "code",
   "execution_count": 3,
   "metadata": {
    "vscode": {
     "languageId": "r"
    }
   },
   "outputs": [
    {
     "data": {
      "text/plain": [
       "\n",
       "\tCentral Fisher's Exact Test (mid-p version)\n",
       "\n",
       "data:  data_matrix\n",
       "p-value = 0.4862\n",
       "alternative hypothesis: true odds ratio is not equal to 1\n",
       "95 percent confidence interval:\n",
       "  0.2752008 19.1427855\n",
       "sample estimates:\n",
       "odds ratio \n",
       "  2.061731 \n"
      ]
     },
     "metadata": {},
     "output_type": "display_data"
    }
   ],
   "source": [
    "#install.packages('exact2x2')\n",
    "library(exact2x2)\n",
    "\n",
    "exact2x2(data_matrix, tsmethod=\"central\", midp=TRUE)"
   ]
  },
  {
   "cell_type": "markdown",
   "metadata": {},
   "source": [
    "< 중앙 p-값과 그 결과의 해석 >\n",
    "중앙 p-값은 0.4862로 기존 p-값인 0.6384보다 작지만 귀무가설을 기각하기에는 여전히 큰 값이다.  \n",
    "95% 신뢰구간은 [0.275~19.14] 이다.\n",
    "\n",
    "< 중앙 p-값의 장점 >\n",
    "이산확률분포에서 일반적인 Fisher의 정확검정 P-값은 때때로 과도하게 보수적일 수 있다. 다시 말하면 이산형분포에 대해서는 일반적인 P값이 커진다는 뜻이다.\n",
    "중앙 P-값은 (더 극단적인 결과의 확률 + 그 밖에 관측된 결과의 확률의 절반)으로 구한다. 이러한 특징 때문에 중앙 P-값은 기존의 P-값보다 덜 보수적이게 되며, 작은 표본에서 보다 신뢰할 수 있는 검정결과를 제공하고, 극단적인 데이터에 대해 더 균형잡힌 평가를 제공한다."
   ]
  }
 ],
 "metadata": {
  "kernelspec": {
   "display_name": "R",
   "language": "R",
   "name": "ir"
  },
  "language_info": {
   "codemirror_mode": "r",
   "file_extension": ".r",
   "mimetype": "text/x-r-source",
   "name": "R",
   "pygments_lexer": "r",
   "version": "4.3.2"
  }
 },
 "nbformat": 4,
 "nbformat_minor": 2
}
