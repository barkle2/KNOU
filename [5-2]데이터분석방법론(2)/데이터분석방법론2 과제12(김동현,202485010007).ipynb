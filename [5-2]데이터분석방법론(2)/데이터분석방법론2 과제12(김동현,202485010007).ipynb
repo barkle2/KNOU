{
 "cells": [
  {
   "cell_type": "markdown",
   "metadata": {},
   "source": [
    "1. 생쥐의 출생체중 자료분석에서 모형1과 모형3을 제한최대우도 검정법으로 비교하고자 한다. 다음 물음에 답하시오."
   ]
  },
  {
   "cell_type": "markdown",
   "metadata": {},
   "source": [
    "모형1과 모형3에 대해 이해하려면 생쥐의 출생체중 자료를 treatment에 따라 나누어 분석한다는 것을 먼저 알아야 한다.  \n",
    "treatment의 값은 Control, High, Low 로 나누어진다.\n",
    "\n",
    "각각의 treatment 그룹의 오차분산에 대한 가정에 따라 모형1, 모형2, 모형3이 나누어진다."
   ]
  },
  {
   "cell_type": "code",
   "execution_count": 14,
   "metadata": {
    "vscode": {
     "languageId": "r"
    }
   },
   "outputs": [],
   "source": [
    "library(Hmisc)\n",
    "library(nlme)\n",
    "\n",
    "ratpup = read.table(\"rat_pup.dat\", header=TRUE)"
   ]
  },
  {
   "cell_type": "code",
   "execution_count": 15,
   "metadata": {
    "vscode": {
     "languageId": "r"
    }
   },
   "outputs": [
    {
     "data": {
      "text/html": [
       "<table class=\"dataframe\">\n",
       "<caption>A data.frame: 6 × 11</caption>\n",
       "<thead>\n",
       "\t<tr><th></th><th scope=col>treatment</th><th scope=col>sex</th><th scope=col>weight</th><th scope=col>MEAN</th><th scope=col>MEDIAN</th><th scope=col>MIN</th><th scope=col>Q.25.</th><th scope=col>Q.75.</th><th scope=col>MAX</th><th scope=col>SD</th><th scope=col>digits</th></tr>\n",
       "\t<tr><th></th><th scope=col>&lt;labelled&gt;</th><th scope=col>&lt;labelled&gt;</th><th scope=col>&lt;labelled&gt;</th><th scope=col>&lt;labelled&gt;</th><th scope=col>&lt;labelled&gt;</th><th scope=col>&lt;labelled&gt;</th><th scope=col>&lt;labelled&gt;</th><th scope=col>&lt;labelled&gt;</th><th scope=col>&lt;labelled&gt;</th><th scope=col>&lt;labelled&gt;</th><th scope=col>&lt;labelled&gt;</th></tr>\n",
       "</thead>\n",
       "<tbody>\n",
       "\t<tr><th scope=row>1</th><td>Control</td><td>Female</td><td>54</td><td>6.12</td><td>6.18</td><td>3.68</td><td>5.82</td><td>6.45</td><td>7.57</td><td>0.685</td><td>3</td></tr>\n",
       "\t<tr><th scope=row>2</th><td>Control</td><td>Male  </td><td>77</td><td>6.47</td><td>6.41</td><td>4.57</td><td>6.06</td><td>6.94</td><td>8.33</td><td>0.754</td><td>3</td></tr>\n",
       "\t<tr><th scope=row>3</th><td>High   </td><td>Female</td><td>32</td><td>5.85</td><td>5.76</td><td>4.48</td><td>5.41</td><td>6.24</td><td>7.68</td><td>0.600</td><td>3</td></tr>\n",
       "\t<tr><th scope=row>4</th><td>High   </td><td>Male  </td><td>33</td><td>5.92</td><td>5.69</td><td>5.01</td><td>5.36</td><td>6.29</td><td>7.70</td><td>0.691</td><td>3</td></tr>\n",
       "\t<tr><th scope=row>5</th><td>Low    </td><td>Female</td><td>65</td><td>5.84</td><td>5.84</td><td>4.75</td><td>5.60</td><td>6.11</td><td>7.73</td><td>0.450</td><td>3</td></tr>\n",
       "\t<tr><th scope=row>6</th><td>Low    </td><td>Male  </td><td>61</td><td>6.03</td><td>6.00</td><td>5.25</td><td>5.75</td><td>6.24</td><td>7.13</td><td>0.380</td><td>3</td></tr>\n",
       "</tbody>\n",
       "</table>\n"
      ],
      "text/latex": [
       "A data.frame: 6 × 11\n",
       "\\begin{tabular}{r|lllllllllll}\n",
       "  & treatment & sex & weight & MEAN & MEDIAN & MIN & Q.25. & Q.75. & MAX & SD & digits\\\\\n",
       "  & <labelled> & <labelled> & <labelled> & <labelled> & <labelled> & <labelled> & <labelled> & <labelled> & <labelled> & <labelled> & <labelled>\\\\\n",
       "\\hline\n",
       "\t1 & Control & Female & 54 & 6.12 & 6.18 & 3.68 & 5.82 & 6.45 & 7.57 & 0.685 & 3\\\\\n",
       "\t2 & Control & Male   & 77 & 6.47 & 6.41 & 4.57 & 6.06 & 6.94 & 8.33 & 0.754 & 3\\\\\n",
       "\t3 & High    & Female & 32 & 5.85 & 5.76 & 4.48 & 5.41 & 6.24 & 7.68 & 0.600 & 3\\\\\n",
       "\t4 & High    & Male   & 33 & 5.92 & 5.69 & 5.01 & 5.36 & 6.29 & 7.70 & 0.691 & 3\\\\\n",
       "\t5 & Low     & Female & 65 & 5.84 & 5.84 & 4.75 & 5.60 & 6.11 & 7.73 & 0.450 & 3\\\\\n",
       "\t6 & Low     & Male   & 61 & 6.03 & 6.00 & 5.25 & 5.75 & 6.24 & 7.13 & 0.380 & 3\\\\\n",
       "\\end{tabular}\n"
      ],
      "text/markdown": [
       "\n",
       "A data.frame: 6 × 11\n",
       "\n",
       "| <!--/--> | treatment &lt;labelled&gt; | sex &lt;labelled&gt; | weight &lt;labelled&gt; | MEAN &lt;labelled&gt; | MEDIAN &lt;labelled&gt; | MIN &lt;labelled&gt; | Q.25. &lt;labelled&gt; | Q.75. &lt;labelled&gt; | MAX &lt;labelled&gt; | SD &lt;labelled&gt; | digits &lt;labelled&gt; |\n",
       "|---|---|---|---|---|---|---|---|---|---|---|---|\n",
       "| 1 | Control | Female | 54 | 6.12 | 6.18 | 3.68 | 5.82 | 6.45 | 7.57 | 0.685 | 3 |\n",
       "| 2 | Control | Male   | 77 | 6.47 | 6.41 | 4.57 | 6.06 | 6.94 | 8.33 | 0.754 | 3 |\n",
       "| 3 | High    | Female | 32 | 5.85 | 5.76 | 4.48 | 5.41 | 6.24 | 7.68 | 0.600 | 3 |\n",
       "| 4 | High    | Male   | 33 | 5.92 | 5.69 | 5.01 | 5.36 | 6.29 | 7.70 | 0.691 | 3 |\n",
       "| 5 | Low     | Female | 65 | 5.84 | 5.84 | 4.75 | 5.60 | 6.11 | 7.73 | 0.450 | 3 |\n",
       "| 6 | Low     | Male   | 61 | 6.03 | 6.00 | 5.25 | 5.75 | 6.24 | 7.13 | 0.380 | 3 |\n",
       "\n"
      ],
      "text/plain": [
       "  treatment sex    weight MEAN MEDIAN MIN  Q.25. Q.75. MAX  SD    digits\n",
       "1 Control   Female 54     6.12 6.18   3.68 5.82  6.45  7.57 0.685 3     \n",
       "2 Control   Male   77     6.47 6.41   4.57 6.06  6.94  8.33 0.754 3     \n",
       "3 High      Female 32     5.85 5.76   4.48 5.41  6.24  7.68 0.600 3     \n",
       "4 High      Male   33     5.92 5.69   5.01 5.36  6.29  7.70 0.691 3     \n",
       "5 Low       Female 65     5.84 5.84   4.75 5.60  6.11  7.73 0.450 3     \n",
       "6 Low       Male   61     6.03 6.00   5.25 5.75  6.24  7.13 0.380 3     "
      ]
     },
     "metadata": {},
     "output_type": "display_data"
    }
   ],
   "source": [
    "g <- function(x) {c(N=length(x),\n",
    "                    MEAN=mean(x, na.rm=TRUE),\n",
    "                    MEDIAN=median(x, na.rm=TRUE),\n",
    "                    MIN=min(x, na.rm=TRUE),\n",
    "                    Q=quantile(x, probs=c(0.25, 0.75), na.rm=TRUE),\n",
    "                    MAX=max(x, na.rm=TRUE),\n",
    "                    SD=sd(x, na.rm=TRUE), options(digits=3))}\n",
    "\n",
    "summarize(weight, by=llist(treatment, sex), g)"
   ]
  },
  {
   "cell_type": "markdown",
   "metadata": {},
   "source": [
    "① 모형1과 모형3을 기술하시오."
   ]
  },
  {
   "cell_type": "markdown",
   "metadata": {},
   "source": [
    "- 모형1과 모형3은 같은 변량절편모형에 기반한 모형이다.  \n",
    "$Y_{ij}=\\beta_0+\\beta_1\\times Tr1_j+\\beta_2\\times Tr2_j+\\beta_3\\times Sexf_{ij}+\\beta_4\\times Litsize_j+\\beta_5\\times Tr1_j\\times Sexf_{ij}+\\beta_6\\times Tr2_j\\times Sexf_{ij}+\\mu_j+\\epsilon_{ij}$  \n",
    "여기서 $\\mu_j\\sim^{iid} N(0, \\sigma_{litter}^2), \\epsilon \\sim ^{서로독립}정규분포$  \n",
    "$Cov(\\mu_j, \\epsilon_{ij})=0$\n",
    "- 모형1은 treatment 그룹과 관계없이 모두 동일한 오차분산을 가진다고 가정하는 모형이다.  \n",
    "$\\epsilon_{ij}\\sim^{iid}N(0,\\sigma^2)$\n",
    "- 모형3은 treatment 그룹중 (High+Low)군과 Control 군의 오차분산을 다르다고 가정하는 모형이다.  \n",
    "High/Low: $\\epsilon_{ij}\\sim^{iid}N(0,\\sigma_{h/l}^2)$  \n",
    "Control: $\\epsilon_{ij}\\sim^{iid}N(0,\\sigma_{c}^2)$"
   ]
  },
  {
   "cell_type": "markdown",
   "metadata": {},
   "source": [
    "② 모형1과 모형3을 비교하는 가설과 제한가능도비 검정통계량을 기술하고, 검정통계량의 분포를 제시하시오."
   ]
  },
  {
   "cell_type": "markdown",
   "metadata": {},
   "source": [
    "- 모형1과 모형3을 비교하는 가설은 다음과 같다.\n",
    "  - 귀무가설(H0): 모형1이 모형3보다 더 적합하다.\n",
    "    - 즉, treatment 그룹에 관계없이 모든 그룹에서 동일한 오차분산을 가진다는 가정이 참이다.\n",
    "    - $H_0: \\sigma_{h/l}^2=\\sigma_{c}^2$\n",
    "  - 대립가설(H1): 모형3이 모형1보다 더 적합하다.\n",
    "    - 즉, High/Low 그룹과 Control 그룹의 오차분산이 다르다는 가정이 참이다.\n",
    "    - $H_1: \\sigma_{h/l}^2\\neq\\sigma_{c}^2$\n",
    "\n",
    "- 제한가능도비 검정토계량은 두 모형의 최대가능도 추정값을 이용하여 계산한다.  \n",
    "  - $G^2 = -2[log L(\\theta_0)-log L(\\theta_1)$\n",
    "  - 검정통계량 $G^2$는 카이제곱 분포를 따르며, 자유도는 두 모형 간의 자유도의 차이(여기서는 1)로 결정된다."
   ]
  },
  {
   "cell_type": "markdown",
   "metadata": {},
   "source": [
    "③ 제한가능도비 검정통계량의 관측값을 제시하고, 유의확률을 구하고 유의수준 5%에서 검정결과를 기술하시오."
   ]
  },
  {
   "cell_type": "code",
   "execution_count": null,
   "metadata": {
    "vscode": {
     "languageId": "r"
    }
   },
   "outputs": [
    {
     "data": {
      "text/html": [
       "<table class=\"dataframe\">\n",
       "<caption>A anova.lme: 2 × 9</caption>\n",
       "<thead>\n",
       "\t<tr><th></th><th scope=col>call</th><th scope=col>Model</th><th scope=col>df</th><th scope=col>AIC</th><th scope=col>BIC</th><th scope=col>logLik</th><th scope=col>Test</th><th scope=col>L.Ratio</th><th scope=col>p-value</th></tr>\n",
       "\t<tr><th></th><th scope=col>&lt;chr&gt;</th><th scope=col>&lt;int&gt;</th><th scope=col>&lt;dbl&gt;</th><th scope=col>&lt;dbl&gt;</th><th scope=col>&lt;dbl&gt;</th><th scope=col>&lt;dbl&gt;</th><th scope=col>&lt;fct&gt;</th><th scope=col>&lt;dbl&gt;</th><th scope=col>&lt;dbl&gt;</th></tr>\n",
       "</thead>\n",
       "<tbody>\n",
       "\t<tr><th scope=row>model1</th><td>lme.formula(fixed = weight ~ treatment + sex1 + litsize + treatment *     sex1, data = ratpup, random = ~1 | litter, method = \"REML\")                                            </td><td>1</td><td> 9</td><td>419</td><td>453</td><td>-201</td><td>      </td><td>NA</td><td>      NA</td></tr>\n",
       "\t<tr><th scope=row>model3</th><td>lme.formula(fixed = weight ~ treatment + sex1 + litsize + treatment *     sex1, data = ratpup, random = ~1 | litter, weights = varIdent(form = ~1 |     trtgrp), method = \"REML\")</td><td>2</td><td>10</td><td>381</td><td>419</td><td>-181</td><td>1 vs 2</td><td>40</td><td>2.51e-10</td></tr>\n",
       "</tbody>\n",
       "</table>\n"
      ],
      "text/latex": [
       "A anova.lme: 2 × 9\n",
       "\\begin{tabular}{r|lllllllll}\n",
       "  & call & Model & df & AIC & BIC & logLik & Test & L.Ratio & p-value\\\\\n",
       "  & <chr> & <int> & <dbl> & <dbl> & <dbl> & <dbl> & <fct> & <dbl> & <dbl>\\\\\n",
       "\\hline\n",
       "\tmodel1 & lme.formula(fixed = weight \\textasciitilde{} treatment + sex1 + litsize + treatment *     sex1, data = ratpup, random = \\textasciitilde{}1 \\textbar{} litter, method = \"REML\")                                             & 1 &  9 & 419 & 453 & -201 &        & NA &       NA\\\\\n",
       "\tmodel3 & lme.formula(fixed = weight \\textasciitilde{} treatment + sex1 + litsize + treatment *     sex1, data = ratpup, random = \\textasciitilde{}1 \\textbar{} litter, weights = varIdent(form = \\textasciitilde{}1 \\textbar{}     trtgrp), method = \"REML\") & 2 & 10 & 381 & 419 & -181 & 1 vs 2 & 40 & 2.51e-10\\\\\n",
       "\\end{tabular}\n"
      ],
      "text/markdown": [
       "\n",
       "A anova.lme: 2 × 9\n",
       "\n",
       "| <!--/--> | call &lt;chr&gt; | Model &lt;int&gt; | df &lt;dbl&gt; | AIC &lt;dbl&gt; | BIC &lt;dbl&gt; | logLik &lt;dbl&gt; | Test &lt;fct&gt; | L.Ratio &lt;dbl&gt; | p-value &lt;dbl&gt; |\n",
       "|---|---|---|---|---|---|---|---|---|---|\n",
       "| model1 | lme.formula(fixed = weight ~ treatment + sex1 + litsize + treatment *     sex1, data = ratpup, random = ~1 | litter, method = \"REML\")                                             | 1 |  9 | 419 | 453 | -201 | <!----> | NA |       NA |\n",
       "| model3 | lme.formula(fixed = weight ~ treatment + sex1 + litsize + treatment *     sex1, data = ratpup, random = ~1 | litter, weights = varIdent(form = ~1 |     trtgrp), method = \"REML\") | 2 | 10 | 381 | 419 | -181 | 1 vs 2 | 40 | 2.51e-10 |\n",
       "\n"
      ],
      "text/plain": [
       "       call                                                                                                                                                                             \n",
       "model1 lme.formula(fixed = weight ~ treatment + sex1 + litsize + treatment *     sex1, data = ratpup, random = ~1 | litter, method = \"REML\")                                            \n",
       "model3 lme.formula(fixed = weight ~ treatment + sex1 + litsize + treatment *     sex1, data = ratpup, random = ~1 | litter, weights = varIdent(form = ~1 |     trtgrp), method = \"REML\")\n",
       "       Model df AIC BIC logLik Test   L.Ratio p-value \n",
       "model1 1      9 419 453 -201          NA            NA\n",
       "model3 2     10 381 419 -181   1 vs 2 40      2.51e-10"
      ]
     },
     "metadata": {},
     "output_type": "display_data"
    },
    {
     "data": {
      "text/html": [
       "2.5396285074919e-10"
      ],
      "text/latex": [
       "2.5396285074919e-10"
      ],
      "text/markdown": [
       "2.5396285074919e-10"
      ],
      "text/plain": [
       "[1] 2.54e-10"
      ]
     },
     "metadata": {},
     "output_type": "display_data"
    }
   ],
   "source": [
    "# 모형1\n",
    "ratpup$sex1[sex==\"Female\"] <- 1\n",
    "ratpup$sex1[sex==\"Male\"] <- 0\n",
    "\n",
    "model1 = lme(weight ~ treatment + sex1 + litsize + treatment*sex1, random = ~1 | litter, data=ratpup, method=\"REML\")\n",
    "\n",
    "# 모형3\n",
    "ratpup$trtgrp[treatment==\"Control\"] <- 1\n",
    "ratpup$trtgrp[treatment==\"Low\" | treatment==\"High\"] <- 2\n",
    "\n",
    "model3 = lme(weight ~ treatment + sex1 + litsize + treatment*sex1, random = ~1 | litter, data=ratpup, method=\"REML\", weights=varIdent(form = ~1 | trtgrp))\n",
    "\n",
    "# 제한가능도비 검정통계량 값 구하기\n",
    "anova(model1, model3)\n",
    "\n",
    "# 검정통계량 값으로 p값 구하기\n",
    "pvalue = 1-pchisq(40,1)\n",
    "pvalue"
   ]
  },
  {
   "cell_type": "markdown",
   "metadata": {},
   "source": [
    "- 검정통계량 관측값은 40이고, 유의 확률은 2.54e-10 이다.\n",
    "- 유의수준 5%에서 귀무가설을 기각한다.\n",
    "- 즉, treatment 그룹 High/Low 와 Control 그룹의 오차분산을 다르게 가정하는 것이 타당하다."
   ]
  },
  {
   "cell_type": "markdown",
   "metadata": {},
   "source": [
    "2. Model 3.1 에 대하여 다음 물음에 답하시오."
   ]
  },
  {
   "cell_type": "markdown",
   "metadata": {},
   "source": [
    "① Model 3.1 을 기술하시오."
   ]
  },
  {
   "cell_type": "markdown",
   "metadata": {},
   "source": [
    "- 모형3을 ANONA 분석한 결과 treatment:sex1의 교로작용은 유의하지 않기 때문에 제거한 모형이다.\n",
    "- 축소된 모형은 다음과 같다.  \n",
    "$E(Y_{ij})=\\beta_0+\\beta_1\\times Tr1_j +\\beta_2\\times Tr2_j + \\beta_3\\times Sexf_{ij}+\\beta_4\\times Litsize_j$"
   ]
  },
  {
   "cell_type": "markdown",
   "metadata": {},
   "source": [
    "② treatment (용량군)의 유의성을 Type III F-검정을 사용하여 검정하시오. 이 때 귀무가설과 대립가설은 무엇인가?"
   ]
  },
  {
   "cell_type": "code",
   "execution_count": 25,
   "metadata": {
    "vscode": {
     "languageId": "r"
    }
   },
   "outputs": [
    {
     "data": {
      "text/html": [
       "<table class=\"dataframe\">\n",
       "<caption>A anova.lme: 4 × 4</caption>\n",
       "<thead>\n",
       "\t<tr><th></th><th scope=col>numDF</th><th scope=col>denDF</th><th scope=col>F-value</th><th scope=col>p-value</th></tr>\n",
       "\t<tr><th></th><th scope=col>&lt;int&gt;</th><th scope=col>&lt;dbl&gt;</th><th scope=col>&lt;dbl&gt;</th><th scope=col>&lt;dbl&gt;</th></tr>\n",
       "</thead>\n",
       "<tbody>\n",
       "\t<tr><th scope=row>(Intercept)</th><td>1</td><td>294</td><td>9029.1</td><td>0.00e+00</td></tr>\n",
       "\t<tr><th scope=row>sex1</th><td>1</td><td>294</td><td>  63.6</td><td>3.42e-14</td></tr>\n",
       "\t<tr><th scope=row>litsize</th><td>1</td><td> 23</td><td>  33.7</td><td>6.54e-06</td></tr>\n",
       "\t<tr><th scope=row>treatment</th><td>2</td><td> 23</td><td>  11.4</td><td>3.65e-04</td></tr>\n",
       "</tbody>\n",
       "</table>\n"
      ],
      "text/latex": [
       "A anova.lme: 4 × 4\n",
       "\\begin{tabular}{r|llll}\n",
       "  & numDF & denDF & F-value & p-value\\\\\n",
       "  & <int> & <dbl> & <dbl> & <dbl>\\\\\n",
       "\\hline\n",
       "\t(Intercept) & 1 & 294 & 9029.1 & 0.00e+00\\\\\n",
       "\tsex1 & 1 & 294 &   63.6 & 3.42e-14\\\\\n",
       "\tlitsize & 1 &  23 &   33.7 & 6.54e-06\\\\\n",
       "\ttreatment & 2 &  23 &   11.4 & 3.65e-04\\\\\n",
       "\\end{tabular}\n"
      ],
      "text/markdown": [
       "\n",
       "A anova.lme: 4 × 4\n",
       "\n",
       "| <!--/--> | numDF &lt;int&gt; | denDF &lt;dbl&gt; | F-value &lt;dbl&gt; | p-value &lt;dbl&gt; |\n",
       "|---|---|---|---|---|\n",
       "| (Intercept) | 1 | 294 | 9029.1 | 0.00e+00 |\n",
       "| sex1 | 1 | 294 |   63.6 | 3.42e-14 |\n",
       "| litsize | 1 |  23 |   33.7 | 6.54e-06 |\n",
       "| treatment | 2 |  23 |   11.4 | 3.65e-04 |\n",
       "\n"
      ],
      "text/plain": [
       "            numDF denDF F-value p-value \n",
       "(Intercept) 1     294   9029.1  0.00e+00\n",
       "sex1        1     294     63.6  3.42e-14\n",
       "litsize     1      23     33.7  6.54e-06\n",
       "treatment   2      23     11.4  3.65e-04"
      ]
     },
     "metadata": {},
     "output_type": "display_data"
    }
   ],
   "source": [
    "model3.1 = lme(weight ~ sex1 + litsize + treatment, random = ~1 | litter, ratpup, method=\"REML\", weights=varIdent(form=~1|trtgrp))\n",
    "\n",
    "anova(model3.1)"
   ]
  },
  {
   "cell_type": "markdown",
   "metadata": {},
   "source": [
    "treatment 용량군의 p값이 3.65e-04로 매우 작은 값이다. 즉, 귀무가설을 기각한다.  \n",
    "귀무가설과 대립가설은 다음과 같다."
   ]
  },
  {
   "cell_type": "markdown",
   "metadata": {},
   "source": [
    "- 귀무가설(H0): treatment 값이 생쥐의 출생체중에 영향을 미치지 않는다.\n",
    "  - $Y_{ij}=\\beta_0 + \\beta_3\\times Sexf_{ij}+\\beta_4\\times Litsize_j + \\mu_j + \\epsilon_{ij}$\n",
    "\n",
    "- 대립가설(H1): treatment 값이 생쥐의 출생체중에 영향을 미친다.\n",
    "  - $Y_{ij}=\\beta_0 + \\beta_1\\times Tr1_j +\\beta_2\\times Tr2_j + \\beta_3\\times Sexf_{ij}+\\beta_4\\times Litsize_j + \\mu_j + \\epsilon_{ij}$"
   ]
  },
  {
   "cell_type": "markdown",
   "metadata": {},
   "source": [
    "③ sex(성)의 유의성을 Type III F-검정을 사용하여 검정하시오. 이 때 귀무가설과 대립가설은 무엇인가?"
   ]
  },
  {
   "cell_type": "code",
   "execution_count": 26,
   "metadata": {
    "vscode": {
     "languageId": "r"
    }
   },
   "outputs": [
    {
     "data": {
      "text/html": [
       "<table class=\"dataframe\">\n",
       "<caption>A anova.lme: 4 × 4</caption>\n",
       "<thead>\n",
       "\t<tr><th></th><th scope=col>numDF</th><th scope=col>denDF</th><th scope=col>F-value</th><th scope=col>p-value</th></tr>\n",
       "\t<tr><th></th><th scope=col>&lt;int&gt;</th><th scope=col>&lt;dbl&gt;</th><th scope=col>&lt;dbl&gt;</th><th scope=col>&lt;dbl&gt;</th></tr>\n",
       "</thead>\n",
       "<tbody>\n",
       "\t<tr><th scope=row>(Intercept)</th><td>1</td><td>294</td><td>9029.09</td><td>0.00e+00</td></tr>\n",
       "\t<tr><th scope=row>treatment</th><td>2</td><td> 23</td><td>   4.24</td><td>2.71e-02</td></tr>\n",
       "\t<tr><th scope=row>litsize</th><td>1</td><td> 23</td><td>  44.83</td><td>7.88e-07</td></tr>\n",
       "\t<tr><th scope=row>sex1</th><td>1</td><td>294</td><td>  66.72</td><td>9.33e-15</td></tr>\n",
       "</tbody>\n",
       "</table>\n"
      ],
      "text/latex": [
       "A anova.lme: 4 × 4\n",
       "\\begin{tabular}{r|llll}\n",
       "  & numDF & denDF & F-value & p-value\\\\\n",
       "  & <int> & <dbl> & <dbl> & <dbl>\\\\\n",
       "\\hline\n",
       "\t(Intercept) & 1 & 294 & 9029.09 & 0.00e+00\\\\\n",
       "\ttreatment & 2 &  23 &    4.24 & 2.71e-02\\\\\n",
       "\tlitsize & 1 &  23 &   44.83 & 7.88e-07\\\\\n",
       "\tsex1 & 1 & 294 &   66.72 & 9.33e-15\\\\\n",
       "\\end{tabular}\n"
      ],
      "text/markdown": [
       "\n",
       "A anova.lme: 4 × 4\n",
       "\n",
       "| <!--/--> | numDF &lt;int&gt; | denDF &lt;dbl&gt; | F-value &lt;dbl&gt; | p-value &lt;dbl&gt; |\n",
       "|---|---|---|---|---|\n",
       "| (Intercept) | 1 | 294 | 9029.09 | 0.00e+00 |\n",
       "| treatment | 2 |  23 |    4.24 | 2.71e-02 |\n",
       "| litsize | 1 |  23 |   44.83 | 7.88e-07 |\n",
       "| sex1 | 1 | 294 |   66.72 | 9.33e-15 |\n",
       "\n"
      ],
      "text/plain": [
       "            numDF denDF F-value p-value \n",
       "(Intercept) 1     294   9029.09 0.00e+00\n",
       "treatment   2      23      4.24 2.71e-02\n",
       "litsize     1      23     44.83 7.88e-07\n",
       "sex1        1     294     66.72 9.33e-15"
      ]
     },
     "metadata": {},
     "output_type": "display_data"
    }
   ],
   "source": [
    "model3.1 = lme(weight ~ treatment + litsize + sex1, random = ~1 | litter, ratpup, method=\"REML\", weights=varIdent(form=~1|trtgrp))\n",
    "\n",
    "anova(model3.1)"
   ]
  },
  {
   "cell_type": "markdown",
   "metadata": {},
   "source": [
    "sex (성)의 p값이 9.33e-15로 매우 작은 값이다. 즉, 귀무가설을 기각한다.  \n",
    "귀무가설과 대립가설은 다음과 같다."
   ]
  },
  {
   "cell_type": "markdown",
   "metadata": {},
   "source": [
    "- 귀무가설(H0): sex 값이 생쥐의 출생체중에 영향을 미치지 않는다.\n",
    "  - $Y_{ij}=\\beta_0 + \\beta_1\\times Tr1_j +\\beta_2\\times Tr2_j + \\beta_4\\times Litsize_j + \\mu_j + \\epsilon_{ij}$\n",
    "\n",
    "- 대립가설(H1): sex 값이 생쥐의 출생체중에 영향을 미친다.\n",
    "  - $Y_{ij}=\\beta_0 + \\beta_1\\times Tr1_j +\\beta_2\\times Tr2_j + \\beta_3\\times Sexf_{ij}+\\beta_4\\times Litsize_j + \\mu_j + \\epsilon_{ij}$"
   ]
  },
  {
   "cell_type": "markdown",
   "metadata": {},
   "source": [
    "3. 다음 기술이 타당하면 O, 틀리면 X로 표시하시오."
   ]
  },
  {
   "cell_type": "markdown",
   "metadata": {},
   "source": [
    "① 고정효과 모수의 유의성검정을 가능도비 검정법으로 할 때 제한가능도함수를 사용한다.\n",
    " → O"
   ]
  },
  {
   "cell_type": "markdown",
   "metadata": {},
   "source": [
    "② 변량절편모형에서 급내상관계수는 0과 1 사이의 값을 가진다. → O"
   ]
  },
  {
   "cell_type": "markdown",
   "metadata": {},
   "source": [
    "③ 급내상관계수의 값이 클수록 급내 이질성은 증가한다. → O"
   ]
  },
  {
   "cell_type": "markdown",
   "metadata": {},
   "source": [
    "④ 변량효과 $u_j$의 최량선형불편예측량(BLUP)은 $u_j$를 고정효과로 가정하고 추정한 값보다 작게 추정하는 경향이 있다. → X"
   ]
  },
  {
   "cell_type": "markdown",
   "metadata": {},
   "source": [
    "⑤ 변량효과 모형의 오차분포에 대한 진단에는 조건부 잔차보다 주변부 잔차를 사용하는 것이 합리적이다. → O"
   ]
  },
  {
   "cell_type": "markdown",
   "metadata": {},
   "source": [
    "4. R package에서 제공하는 Pearson-type 조건부 잔차를 사용하여 오차분포 가정에 대한 잔차진단을 실시하고 결과를 해석하시오."
   ]
  },
  {
   "cell_type": "code",
   "execution_count": 28,
   "metadata": {
    "vscode": {
     "languageId": "r"
    }
   },
   "outputs": [
    {
     "data": {
      "image/png": "[encoded data removed]",
      "text/plain": [
       "Plot with title \"Pearson-Type Residuals\""
      ]
     },
     "metadata": {
      "image/png": {
       "height": 420,
       "width": 420
      }
     },
     "output_type": "display_data"
    },
    {
     "data": {
      "image/png": "[encoded data removed]",
      "text/plain": [
       "Plot with title \"Histogram of Pearson-Type Residuals\""
      ]
     },
     "metadata": {
      "image/png": {
       "height": 420,
       "width": 420
      }
     },
     "output_type": "display_data"
    }
   ],
   "source": [
    "# 피어슨 잔차 추출\n",
    "pearson_resid = residuals(model3.1, type=\"pearson\")\n",
    "\n",
    "# 잔차 플롯\n",
    "plot(pearson_resid, main = \"Pearson-Type Residuals\", ylab = \"Pearson Residuals\", xlab = \"Index\")\n",
    "\n",
    "# 히스토그램 및 정규성 검사\n",
    "hist(pearson_resid, main = \"Histogram of Pearson-Type Residuals\", xlab = \"Pearson Residuals\", breaks = 20)\n"
   ]
  },
  {
   "cell_type": "markdown",
   "metadata": {},
   "source": [
    "- 잔차플롯\n",
    "  - 잔차가 일정한 패턴없이 무작위로 분포하는 것으로 보인다.\n",
    "  - 즉, 모델이 적합한 것으로 해석할 수 있다.\n",
    "- 히스토그램\n",
    "  - 잔차의 분포가 정규분포와 유사한 것으로 보인다.\n",
    "  - 즉, 오차분포가 정규성을 따른다고 해석할 수 있다."
   ]
  },
  {
   "cell_type": "code",
   "execution_count": 36,
   "metadata": {
    "vscode": {
     "languageId": "r"
    }
   },
   "outputs": [
    {
     "data": {
      "text/plain": [
       "\n",
       "\tShapiro-Wilk normality test\n",
       "\n",
       "data:  pearson_resid\n",
       "W = 0.9, p-value = 2e-09\n"
      ]
     },
     "metadata": {},
     "output_type": "display_data"
    },
    {
     "data": {
      "image/png": "[encoded data removed]",
      "text/plain": [
       "Plot with title \"Normal Q-Q Plot\""
      ]
     },
     "metadata": {
      "image/png": {
       "height": 420,
       "width": 420
      }
     },
     "output_type": "display_data"
    }
   ],
   "source": [
    "# Q-Q plot (정규성 확인)\n",
    "qqnorm(pearson_resid)\n",
    "qqline(pearson_resid, col = \"red\")\n",
    "\n",
    "# Shapiro-Wilk test (정규성 테스트)\n",
    "shapiro.test(pearson_resid)\n"
   ]
  },
  {
   "cell_type": "markdown",
   "metadata": {},
   "source": [
    "- Q-Q 플롯에서 직선을 벗어나는 점들이 존재하는 것으로 보아 일부 값들이 정규분포를 따르지 않는 것으로 보인다.\n",
    "- 샤피로-윌크스 테스트에 따르면 p-value가 0.05보다 작기 때문에 정규분포를 따르지 않는 것으로 보인다."
   ]
  },
  {
   "cell_type": "markdown",
   "metadata": {},
   "source": [
    "- 결과 해석\n",
    "  - Q-Q 플롯은 모든 데이터가 완전히 정규분포를 따르지 않는다면 직선에서 벗어나는 점들이 생기게 된다.\n",
    "  - 샤피로-윌크스 테스트는 통계적으로 데이터가 정규분포를 따르는지 여부를 검정하는 방법인데, 이 방법은 샘플의 크기와 잔차의 분포에 매우 민감하기 때문에 샘플이 커질수록 작은 편차도 통계적으로 유의미하게 나타날 수 있습니다.\n",
    "  - 즉, 잔차의 분포가 약간만 정규분포에서 벗어나면 검정에서 \"정규분포를 따르지 않는다\"고 판단할 수 있습니다.\n",
    "  - 이에 비해 잔차플롯과 히스토그램은 시각적으로 오차분포가 정규분포에 가까운지 확인하는데 유용하지만, 보다 완화된 기준을 적용한다고 볼 수 있습니다.\n",
    "- 즉, model3.1의 경우 잔차의 정규성이 어느 정도 인정되는 수준이라고 볼 수 있습니다."
   ]
  }
 ],
 "metadata": {
  "kernelspec": {
   "display_name": "R",
   "language": "R",
   "name": "ir"
  },
  "language_info": {
   "codemirror_mode": "r",
   "file_extension": ".r",
   "mimetype": "text/x-r-source",
   "name": "R",
   "pygments_lexer": "r",
   "version": "4.3.2"
  }
 },
 "nbformat": 4,
 "nbformat_minor": 2
}
