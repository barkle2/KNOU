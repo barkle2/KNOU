{
 "cells": [
  {
   "cell_type": "markdown",
   "metadata": {},
   "source": [
    "### 문제\n",
    "\n",
    "#### 1. 편두통에 대한 치료효과를 비교실험한 자료로서 새 치료약과 위약을 각각 투여한 두 집단에 대해 진료병원별로 조사한 결과이다. 각 병원의 환자들에게 실제 약과 위약 중 어느 한 가지를 랜덤하게 선택하도록 하였다.\n",
    "\n",
    "|||성공|실패|\n",
    "|:-:|:-:|:-:|:-:|\n",
    "|병원1|집단_약|6|4|\n",
    "|병원1|집단_위약|2|8|\n",
    "|병원2|집단_약|4|3|\n",
    "|병원2|집단_위약|1|5|\n",
    "|병원3|집단_약|5|3|\n",
    "|병원3|집단_위약|3|6|"
   ]
  },
  {
   "cell_type": "markdown",
   "metadata": {},
   "source": [
    "#### (1) 부분분할표의 조건부 오즈비를 구하여라. 이 값이 병원들간에 유사한가?"
   ]
  },
  {
   "cell_type": "markdown",
   "metadata": {},
   "source": [
    "<병원 1의 경우 오즈비>\n",
    "<img src=\"https://latex.codecogs.com/svg.image?&space;Odds1=\\frac{6/4}{2/8}=\\frac{6\\cdot8}{2\\cdot4}=\\frac{48}{8}=6.0\">\n",
    "\n",
    "<병원 2의 경우 오즈비>\n",
    "<img src=\"https://latex.codecogs.com/svg.image?&space;Odds2=\\frac{4/3}{1/5}=\\frac{4\\cdot5}{1\\cdot3}=\\frac{20}{3}=6.67\">\n",
    "\n",
    "<병원 3의 경우 오즈비>\n",
    "<img src=\"https://latex.codecogs.com/svg.image?&space;Odds3=\\frac{5/3}{3/6}=\\frac{5\\cdot6}{3\\cdot3}=\\frac{30}{9}=3.33\">\n",
    "\n",
    "병원1과 병원2의 오즈비는 각각 6.0과 6.67로 유사하지만, 병원 3의 오즈비는 3.33으로 다른 두 병원의 오즈비에 비해 작다고 볼 수 있다."
   ]
  },
  {
   "cell_type": "markdown",
   "metadata": {},
   "source": [
    "#### (2) 집단과 반응간의 조건부독립성 검정에 대한 P-값을 구하여라.  \n",
    "   ==> 코크란-맨틀-핸첼 검정 이용"
   ]
  },
  {
   "cell_type": "code",
   "execution_count": 1,
   "metadata": {
    "vscode": {
     "languageId": "r"
    }
   },
   "outputs": [
    {
     "name": "stdout",
     "output_type": "stream",
     "text": [
      "\n",
      "\tMantel-Haenszel chi-squared test with continuity correction\n",
      "\n",
      "data:  data\n",
      "Mantel-Haenszel X-squared = 5.0879, df = 1, p-value = 0.02409\n",
      "alternative hypothesis: true common odds ratio is not equal to 1\n",
      "95 percent confidence interval:\n",
      "  1.43094 16.88727\n",
      "sample estimates:\n",
      "common odds ratio \n",
      "         4.915757 \n",
      "\n"
     ]
    }
   ],
   "source": [
    "# 데이터 입력\n",
    "data <- array(c(6, 4, 2, 8,\n",
    "                4, 3, 1, 5,\n",
    "                5, 3, 3, 6),\n",
    "              dim = c(2, 2, 3))\n",
    "\n",
    "# 코크란-맨틀-핸첼 검정\n",
    "result <- mantelhaen.test(data)\n",
    "\n",
    "# 결과 출력\n",
    "print(result)"
   ]
  },
  {
   "cell_type": "markdown",
   "metadata": {},
   "source": [
    "코크란-맨텔-핸첼 검정 결과 p값은 0.02409이다.  \n",
    "\n"
   ]
  },
  {
   "cell_type": "markdown",
   "metadata": {},
   "source": [
    "#### (3) 집단과 반응간의 평균 조건부연관성을 추정하고 해석하라."
   ]
  },
  {
   "cell_type": "markdown",
   "metadata": {},
   "source": [
    "Mantel-Haenszel 함수 실행 결과에 따르면 공통 오즈비는 4.916이다.  \n",
    "이것은 약을 복용한 집단의 오즈비가 위약을 복용한 집단의 오즈비보다 4.916배 크다는 의미이다.  \n",
    "\n",
    "95% 유의수준에서 오즈비 신뢰구간은 [1.431 ~ 16.887]이며, 구간에 1이 포함되어 있지 않기 때문에 귀무가설을 기각할 수 있다.  \n",
    "약을 먹은 사람의 오즈비가 위약을 먹은 사람의 오즈비에 비해 더 크다고 할 수 있다."
   ]
  },
  {
   "cell_type": "markdown",
   "metadata": {},
   "source": [
    "#### (4) 세 병원의 오즈비가 모두 같은지를 검정하여라."
   ]
  },
  {
   "cell_type": "markdown",
   "metadata": {},
   "source": [
    "세 병원의 오즈비가 같은지 검정하기 위해 브레슬로-데이 검정을 활용한다."
   ]
  },
  {
   "cell_type": "code",
   "execution_count": 4,
   "metadata": {
    "vscode": {
     "languageId": "r"
    }
   },
   "outputs": [
    {
     "name": "stdout",
     "output_type": "stream",
     "text": [
      "\n",
      "\tBreslow-Day test on Homogeneity of Odds Ratios\n",
      "\n",
      "data:  data\n",
      "X-squared = 0.23691, df = 2, p-value = 0.8883\n",
      "\n"
     ]
    }
   ],
   "source": [
    "library(DescTools)\n",
    "\n",
    "# Breslow-Day 검정 수행 (오즈비의 동질성 검정)\n",
    "breslow_day_result <- BreslowDayTest(data)\n",
    "\n",
    "# 결과 출력\n",
    "print(breslow_day_result)"
   ]
  },
  {
   "cell_type": "markdown",
   "metadata": {},
   "source": [
    "검정결과 p-값은 0.888로 매우 크다. p-값이 세 병원의 오즈비가 동일하다는 귀무가설을 기각하지 못한다.  \n",
    "즉, 세 병원의 오즈비는 같다고 할 수 있다."
   ]
  }
 ],
 "metadata": {
  "kernelspec": {
   "display_name": "R",
   "language": "R",
   "name": "ir"
  },
  "language_info": {
   "codemirror_mode": "r",
   "file_extension": ".r",
   "mimetype": "text/x-r-source",
   "name": "R",
   "pygments_lexer": "r",
   "version": "4.3.2"
  }
 },
 "nbformat": 4,
 "nbformat_minor": 2
}
