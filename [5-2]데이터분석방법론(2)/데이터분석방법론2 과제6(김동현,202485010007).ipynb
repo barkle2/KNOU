{
 "cells": [
  {
   "cell_type": "markdown",
   "metadata": {},
   "source": [
    "### 문제1: 152쪽 문제 4.9\n",
    "\n",
    "참게 자료에 대해 색깔변수만을 예측변수로 사용하여 부수체의 확률에 대한 로지스틱 회귀모형을 적합하라."
   ]
  },
  {
   "cell_type": "code",
   "execution_count": 7,
   "metadata": {
    "vscode": {
     "languageId": "r"
    }
   },
   "outputs": [
    {
     "data": {
      "text/html": [
       "<table class=\"dataframe\">\n",
       "<caption>A data.frame: 6 × 7</caption>\n",
       "<thead>\n",
       "\t<tr><th></th><th scope=col>crab</th><th scope=col>sat</th><th scope=col>y</th><th scope=col>weight</th><th scope=col>width</th><th scope=col>color</th><th scope=col>spine</th></tr>\n",
       "\t<tr><th></th><th scope=col>&lt;int&gt;</th><th scope=col>&lt;int&gt;</th><th scope=col>&lt;int&gt;</th><th scope=col>&lt;dbl&gt;</th><th scope=col>&lt;dbl&gt;</th><th scope=col>&lt;int&gt;</th><th scope=col>&lt;int&gt;</th></tr>\n",
       "</thead>\n",
       "<tbody>\n",
       "\t<tr><th scope=row>1</th><td>1</td><td>8</td><td>1</td><td>3.05</td><td>28.3</td><td>2</td><td>3</td></tr>\n",
       "\t<tr><th scope=row>2</th><td>2</td><td>0</td><td>0</td><td>1.55</td><td>22.5</td><td>3</td><td>3</td></tr>\n",
       "\t<tr><th scope=row>3</th><td>3</td><td>9</td><td>1</td><td>2.30</td><td>26.0</td><td>1</td><td>1</td></tr>\n",
       "\t<tr><th scope=row>4</th><td>4</td><td>0</td><td>0</td><td>2.10</td><td>24.8</td><td>3</td><td>3</td></tr>\n",
       "\t<tr><th scope=row>5</th><td>5</td><td>4</td><td>1</td><td>2.60</td><td>26.0</td><td>3</td><td>3</td></tr>\n",
       "\t<tr><th scope=row>6</th><td>6</td><td>0</td><td>0</td><td>2.10</td><td>23.8</td><td>2</td><td>3</td></tr>\n",
       "</tbody>\n",
       "</table>\n"
      ],
      "text/latex": [
       "A data.frame: 6 × 7\n",
       "\\begin{tabular}{r|lllllll}\n",
       "  & crab & sat & y & weight & width & color & spine\\\\\n",
       "  & <int> & <int> & <int> & <dbl> & <dbl> & <int> & <int>\\\\\n",
       "\\hline\n",
       "\t1 & 1 & 8 & 1 & 3.05 & 28.3 & 2 & 3\\\\\n",
       "\t2 & 2 & 0 & 0 & 1.55 & 22.5 & 3 & 3\\\\\n",
       "\t3 & 3 & 9 & 1 & 2.30 & 26.0 & 1 & 1\\\\\n",
       "\t4 & 4 & 0 & 0 & 2.10 & 24.8 & 3 & 3\\\\\n",
       "\t5 & 5 & 4 & 1 & 2.60 & 26.0 & 3 & 3\\\\\n",
       "\t6 & 6 & 0 & 0 & 2.10 & 23.8 & 2 & 3\\\\\n",
       "\\end{tabular}\n"
      ],
      "text/markdown": [
       "\n",
       "A data.frame: 6 × 7\n",
       "\n",
       "| <!--/--> | crab &lt;int&gt; | sat &lt;int&gt; | y &lt;int&gt; | weight &lt;dbl&gt; | width &lt;dbl&gt; | color &lt;int&gt; | spine &lt;int&gt; |\n",
       "|---|---|---|---|---|---|---|---|\n",
       "| 1 | 1 | 8 | 1 | 3.05 | 28.3 | 2 | 3 |\n",
       "| 2 | 2 | 0 | 0 | 1.55 | 22.5 | 3 | 3 |\n",
       "| 3 | 3 | 9 | 1 | 2.30 | 26.0 | 1 | 1 |\n",
       "| 4 | 4 | 0 | 0 | 2.10 | 24.8 | 3 | 3 |\n",
       "| 5 | 5 | 4 | 1 | 2.60 | 26.0 | 3 | 3 |\n",
       "| 6 | 6 | 0 | 0 | 2.10 | 23.8 | 2 | 3 |\n",
       "\n"
      ],
      "text/plain": [
       "  crab sat y weight width color spine\n",
       "1 1    8   1 3.05   28.3  2     3    \n",
       "2 2    0   0 1.55   22.5  3     3    \n",
       "3 3    9   1 2.30   26.0  1     1    \n",
       "4 4    0   0 2.10   24.8  3     3    \n",
       "5 5    4   1 2.60   26.0  3     3    \n",
       "6 6    0   0 2.10   23.8  2     3    "
      ]
     },
     "metadata": {},
     "output_type": "display_data"
    }
   ],
   "source": [
    "# crab은 연번\n",
    "# sat는 부수체의 수\n",
    "# weight는 무게\n",
    "# width는 등딱지너비\n",
    "# color는 색깔(1=약간밝은색, 2=중간색, 3=약간어두운색, 4=어두운색)\n",
    "# spine은 등뼈의 상태(1=둘다양호함, 2=1개가 휘거나 좋지않음, 3=둘다 휘거나 좋지않음)\n",
    "# y값도 이미 입력되어 있다.\n",
    "\n",
    "crab_data = read.table(\"Crabs.dat.txt\", header=TRUE)\n",
    "head(crab_data)"
   ]
  },
  {
   "cell_type": "markdown",
   "metadata": {},
   "source": [
    "#### a. 색깔변수를 명목형 변수(질적 변수)로 간주하라. 예측식을 구하고 이 식을 이용하여 첫 번째와 네 번째 색깔을 어떻게 비교할 수 있는지 설명하라."
   ]
  },
  {
   "cell_type": "code",
   "execution_count": 8,
   "metadata": {
    "vscode": {
     "languageId": "r"
    }
   },
   "outputs": [
    {
     "data": {
      "text/plain": [
       "\n",
       "Call:\n",
       "glm(formula = y ~ colorf, family = binomial, data = crab_data)\n",
       "\n",
       "Coefficients:\n",
       "            Estimate Std. Error z value Pr(>|z|)  \n",
       "(Intercept)   1.0986     0.6667   1.648   0.0994 .\n",
       "colorf2      -0.1226     0.7053  -0.174   0.8620  \n",
       "colorf3      -0.7309     0.7338  -0.996   0.3192  \n",
       "colorf4      -1.8608     0.8087  -2.301   0.0214 *\n",
       "---\n",
       "Signif. codes:  0 '***' 0.001 '**' 0.01 '*' 0.05 '.' 0.1 ' ' 1\n",
       "\n",
       "(Dispersion parameter for binomial family taken to be 1)\n",
       "\n",
       "    Null deviance: 225.76  on 172  degrees of freedom\n",
       "Residual deviance: 212.06  on 169  degrees of freedom\n",
       "AIC: 220.06\n",
       "\n",
       "Number of Fisher Scoring iterations: 4\n"
      ]
     },
     "metadata": {},
     "output_type": "display_data"
    }
   ],
   "source": [
    "# color 변수를 명목형 변수로 변환\n",
    "crab_data$colorf = as.factor(crab_data$color)\n",
    "\n",
    "# 로지스틱 회귀 모델 추정\n",
    "model1 = glm(y~colorf, family=binomial, data=crab_data)\n",
    "summary(model1)"
   ]
  },
  {
   "cell_type": "markdown",
   "metadata": {},
   "source": [
    "예측식은 다음과 같이 나타낼 수 있다.\n",
    "\n",
    "<img src=\"https://latex.codecogs.com/svg.image?logit[P(Y=1)]=log(\\frac{\\pi}{1-\\pi}) =\\alpha +\\beta_1\\times color2+\\beta_2\\times color3+\\beta_3\\times color4\">\n",
    "\n",
    "여기서 <img src=\"https://latex.codecogs.com/svg.image?\\pi=P(Y=1)\">\n",
    "\n",
    "적합된 로지스틱 회귀모델을 적용하면 회귀식은 다음과 같다.  \n",
    "<img src=\"https://latex.codecogs.com/svg.image?log(\\frac{\\pi}{1-\\pi})=1.0986-0.1226\\times color2-0.7309\\times color3-1.8608\\times color4\">\n",
    "\n",
    "이를 오즈 기준으로 정리하면  \n",
    "<img src=\"https://latex.codecogs.com/svg.image?\\frac{\\pi}{1-\\pi}=e^{1.0986-0.1226\\times color2-0.7309\\times color3-1.8608\\times color4}\"> 이고,\n",
    "\n",
    "이를, <img src=\"https://latex.codecogs.com/svg.image?\\pi\">기준으로 정리하면   \n",
    "<img src=\"https://latex.codecogs.com/svg.image?\\pi=\\frac{e^{1.0986-0.1226\\times color2-0.7309\\times color3-1.8608\\times color4}}{1+e^{1.0986-0.1226\\times color2-0.7309\\times color3-1.8608\\times color4}}\"> 이다."
   ]
  },
  {
   "cell_type": "markdown",
   "metadata": {},
   "source": [
    "참게의 색깔이 첫번째 색깔인 경우에는 color2=color3=color4=0 이다.\n",
    "\n",
    "이 때 부수체가 존재할 오즈는  \n",
    "<img src=\"https://latex.codecogs.com/svg.image?\\frac{\\pi}{1-\\pi}=e^{1.0986}\\approx 3.000\"> 이다.\n",
    "\n",
    "부수체가 존재할 확률은\n",
    "<img src=\"https://latex.codecogs.com/svg.image?\\pi=\\frac{3}{1+3}\\approx 0.75\"> 이다.\n",
    "\n",
    "참게의 색깔이 네번째 색깔인 경우에는 color2=color3=0, color4=1 이다.\n",
    "\n",
    "이 때 부수체가 존재할 오즈는  \n",
    "<img src=\"https://latex.codecogs.com/svg.image?\\frac{\\pi}{1-\\pi}=e^{1.0986-1.8608}\\approx 0.467\"> 이다.\n",
    "\n",
    "부수체가 존재할 확률은\n",
    "<img src=\"https://latex.codecogs.com/svg.image?\\pi=\\frac{0.467}{1+0.467}\\approx 0.318\"> 이다."
   ]
  },
  {
   "cell_type": "markdown",
   "metadata": {},
   "source": [
    "#### b. 모형 (a)에서 색깔변수가 효과가 있는지에 대해 가능도비 검정을 하고 결과를 해석하라."
   ]
  },
  {
   "cell_type": "code",
   "execution_count": 9,
   "metadata": {
    "vscode": {
     "languageId": "r"
    }
   },
   "outputs": [
    {
     "name": "stdout",
     "output_type": "stream",
     "text": [
      "가능도비 검정 통계량: 13.69768 \n",
      "자유도: 3 \n",
      "p-value: 0.003346919 \n"
     ]
    }
   ],
   "source": [
    "# 단순 모델 (색깔 변수 제외)\n",
    "model0 <- glm(y ~ 1, data=crab_data, family=binomial)\n",
    "\n",
    "# 가능도 계산\n",
    "L_1 <- logLik(model1)\n",
    "L_0 <- logLik(model0)\n",
    "\n",
    "# 가능도비 검정 통계량 계산\n",
    "llh = -2 * (L_0 - L_1)\n",
    "\n",
    "# 자유도\n",
    "df <- length(coef(model1)) - 1  # 전체 모델의 계수 수에서 1을 뺀 값\n",
    "\n",
    "# p-value 계산\n",
    "p_value <- pchisq(llh, df, lower.tail=FALSE)\n",
    "\n",
    "# 결과 출력\n",
    "cat(\"가능도비 검정 통계량:\", llh, \"\\n\")\n",
    "cat(\"자유도:\", df, \"\\n\")\n",
    "cat(\"p-value:\", p_value, \"\\n\")\n"
   ]
  },
  {
   "cell_type": "markdown",
   "metadata": {},
   "source": [
    "[결과 해석]\n",
    "가능도비검정 통계량이 13.698, 자유도가 3 이며,\n",
    "이 때의 p-값은 0.0033 으로 0.05보다 작은 값을 가집니다.\n",
    "\n",
    "즉, 색깔변수가 부수체 존재 확률에 유의미한 영향을 미친다고 볼 수 있습니다."
   ]
  },
  {
   "cell_type": "markdown",
   "metadata": {},
   "source": [
    "#### c. 색깔변수를 질적 변수 대신에 양적 변수(점수 1,2,3,4)로 간주하여 예측식을 구하라. 색깔변수의 효과를 해석하고 색깔변수의 효과가 있는지를 검정하라."
   ]
  },
  {
   "cell_type": "code",
   "execution_count": 10,
   "metadata": {
    "vscode": {
     "languageId": "r"
    }
   },
   "outputs": [
    {
     "data": {
      "text/plain": [
       "\n",
       "Call:\n",
       "glm(formula = y ~ color, family = binomial, data = crab_data)\n",
       "\n",
       "Coefficients:\n",
       "            Estimate Std. Error z value Pr(>|z|)    \n",
       "(Intercept)   2.3635     0.5551   4.257 2.07e-05 ***\n",
       "color        -0.7147     0.2095  -3.412 0.000645 ***\n",
       "---\n",
       "Signif. codes:  0 '***' 0.001 '**' 0.01 '*' 0.05 '.' 0.1 ' ' 1\n",
       "\n",
       "(Dispersion parameter for binomial family taken to be 1)\n",
       "\n",
       "    Null deviance: 225.76  on 172  degrees of freedom\n",
       "Residual deviance: 213.30  on 171  degrees of freedom\n",
       "AIC: 217.3\n",
       "\n",
       "Number of Fisher Scoring iterations: 4\n"
      ]
     },
     "metadata": {},
     "output_type": "display_data"
    }
   ],
   "source": [
    "# 질적 변수 대신 양적 변수로 간주하여 예측식 구하기\n",
    "model2 <- glm(y ~ color, data=crab_data, family=binomial)\n",
    "summary(model2)"
   ]
  },
  {
   "cell_type": "markdown",
   "metadata": {},
   "source": [
    "색깔변수를 양적변수로 간주하여 구한 예측식은 다음과 같다.\n",
    "\n",
    "<img src=\"https://latex.codecogs.com/svg.image?logit[P(Y=1)]=log(\\frac{\\pi}{1-\\pi})=2.3635 - 0.7147\\times color\"><br>\n",
    "\n",
    "<img src=\"https://latex.codecogs.com/svg.image?\\frac{\\pi}{1-\\pi}=e^{2.3635 - 0.7147\\times color}\"><br>  \n",
    "\n",
    "<img src=\"https://latex.codecogs.com/svg.image?\\pi=\\frac{e^{2.3635 - 0.7147\\times color}}{1+e^{2.3635 - 0.7147\\times color}}\"><br>"
   ]
  },
  {
   "cell_type": "code",
   "execution_count": 11,
   "metadata": {
    "vscode": {
     "languageId": "r"
    }
   },
   "outputs": [
    {
     "name": "stdout",
     "output_type": "stream",
     "text": [
      "색깔=1 인 경우\n",
      "오즈: 5.200735 \n",
      "확률: 0.8387288 \n",
      "\n",
      "색깔=2 인 경우\n",
      "오즈: 2.544922 \n",
      "확률: 0.7179063 \n",
      "\n",
      "색깔=3 인 경우\n",
      "오즈: 1.245329 \n",
      "확률: 0.554631 \n",
      "\n",
      "색깔=4 인 경우\n",
      "오즈: 0.6093881 \n",
      "확률: 0.3786458 \n"
     ]
    }
   ],
   "source": [
    "# 색깔이 1일 때\n",
    "cat(\"색깔=1 인 경우\\n\")\n",
    "cat(\"오즈:\", exp(2.3635-0.7147), \"\\n\")\n",
    "cat(\"확률:\", exp(2.3635-0.7147) / (1+exp(2.3635-0.7147)), \"\\n\\n\")\n",
    "\n",
    "# 색깔이 2일 때\n",
    "cat(\"색깔=2 인 경우\\n\")\n",
    "cat(\"오즈:\", exp(2.3635-0.7147*2), \"\\n\")\n",
    "cat(\"확률:\", exp(2.3635-0.7147*2) / (1+exp(2.3635-0.7147*2)), \"\\n\\n\")\n",
    "\n",
    "# 색깔이 3일 때\n",
    "cat(\"색깔=3 인 경우\\n\")\n",
    "cat(\"오즈:\", exp(2.3635-0.7147*3), \"\\n\")\n",
    "cat(\"확률:\", exp(2.3635-0.7147*3) / (1+exp(2.3635-0.7147*3)), \"\\n\\n\")\n",
    "\n",
    "# 색깔이 4일 때\n",
    "cat(\"색깔=4 인 경우\\n\")\n",
    "cat(\"오즈:\", exp(2.3635-0.7147*4), \"\\n\")\n",
    "cat(\"확률:\", exp(2.3635-0.7147*4) / (1+exp(2.3635-0.7147*4)), \"\\n\")"
   ]
  },
  {
   "cell_type": "markdown",
   "metadata": {},
   "source": [
    "색깔의 값이 1 증가할 때마다 부수체를 가질 오즈와 확률이 감소한다.\n",
    "\n",
    "그리고 색깔변수에 대한 p값이 0.000645로 매우 작은 값이므로 색깔변수의 값이 부수체를 가지는지 여부에 영향을 준다고 볼 수 있다."
   ]
  },
  {
   "cell_type": "markdown",
   "metadata": {},
   "source": [
    "#### d. 색깔변수를 질적 변수 대신에 양적 변수로 다룰 때 검정력에서의 장점과 모형의 적합결여와 관련되어 잠재적인 단점에 대해 논하라."
   ]
  },
  {
   "cell_type": "markdown",
   "metadata": {},
   "source": [
    "질적 변수 대신에 양적 변수로 다룰 때 검정력에서의 장점\n",
    "\n",
    "1. 양적 변수는 더 많은 정보를 표현할 수 있습니다.\n",
    "- 예를 들어, 질적 변수를 사용할 경우에는 색깔 1(약간 밝은색)과 색깔 4(어두운 색)의 차이가 색깔 1(약간 밝은색)과 색깔 2(중간색)의 차이가 같습니다.  \n",
    "  하지만, 양적 변수를 사용할 때에는 색깔 1(약간 밝은색)과 색깔 2(중간색)의 차이보다 색깔 1(약간 밝은색)과 색깔 4(어두운 색)의 차이가 더 큰 것을 표현할 수 있습니다.\n",
    "2. 양적 변수는 사용하면 더 복잡한 상호작용 효과나 비선형 관계를 모델링할 수 있습니다.\n",
    "- 색깔 1 ~ 색깔 4의 값을 (1,2,3,4)로 입력하지 않고, (1,2,4,8)로 입력하거나 (0.7, 0.4, 0.2, 0.1)로 입력할 수도 있습니다.  \n",
    "- 모형 적합 과정에서 다항 회귀나 비선형 회귀를 사용할 수 있어 데이터에 대한 모형 적합도를 높일 수 있습니다.\n",
    "\n",
    "단점: 모형의 적합결여\n",
    "\n",
    "1. 색깔이 실제로 질적 특성을 가지고 있다면, 이를 양적으로 처리하는 것은 잘못된 가정이 될 수 있습니다.\n",
    "- 색깔에 순서가 없는데도 숫자로 표현한다면 실제로는 존재하지 않는 관계가 있는 것처럼 왜곡이 발생할 수 있습니다.\n",
    "2. 과적합의 위험이 증가합니다.\n",
    "- 양적 변수를 사용하면 더 복잡한 상호작용 효과나 비선형 관계를 모델링할 수 있지만, 이는 과적합의 위험을 증가시킵니다.\n",
    "- 주어진 데이터에 대한 예측을 잘 한다고 해서 앞으로 얻게 될 데이터를 잘 예측하는 것은 아니기 때문입니다.\n",
    "3. 해석의 어려움\n",
    "- 질적 변수를 사용할 때 각 변수의 수준을 정의하기 때문에 해석이 비교적 명확합니다.  \n",
    "하지만, 양적 변수를 사용하면 숫자의 차이가 실제로 어떤 의미인지 나타내는데 어려움을 겪을 수 있습니다."
   ]
  },
  {
   "cell_type": "markdown",
   "metadata": {},
   "source": [
    "#### e. 무게와 색깔변수를 양적 변수로 간주하여 표준화된 계수를 구하고 결과를 해석하라."
   ]
  },
  {
   "cell_type": "code",
   "execution_count": 12,
   "metadata": {
    "vscode": {
     "languageId": "r"
    }
   },
   "outputs": [
    {
     "data": {
      "text/plain": [
       "\n",
       "Call:\n",
       "glm(formula = y ~ weight + color, family = binomial, data = crab_data)\n",
       "\n",
       "Coefficients:\n",
       "            Estimate Std. Error z value Pr(>|z|)    \n",
       "(Intercept)  -2.0316     1.1161  -1.820   0.0687 .  \n",
       "weight        1.6531     0.3825   4.322 1.55e-05 ***\n",
       "color        -0.5142     0.2234  -2.302   0.0213 *  \n",
       "---\n",
       "Signif. codes:  0 '***' 0.001 '**' 0.01 '*' 0.05 '.' 0.1 ' ' 1\n",
       "\n",
       "(Dispersion parameter for binomial family taken to be 1)\n",
       "\n",
       "    Null deviance: 225.76  on 172  degrees of freedom\n",
       "Residual deviance: 190.27  on 170  degrees of freedom\n",
       "AIC: 196.27\n",
       "\n",
       "Number of Fisher Scoring iterations: 4\n"
      ]
     },
     "metadata": {},
     "output_type": "display_data"
    },
    {
     "name": "stdout",
     "output_type": "stream",
     "text": [
      "weight 계수 표준편차: 0.5770252 \n",
      "color 계수 표준편차: 0.8019334 \n",
      "표준화된 weight 계수: 2.864866 \n",
      "표준화된 color 계수: -0.6412004"
     ]
    }
   ],
   "source": [
    "model3 = glm(y ~ weight + color, data=crab_data, family=binomial)\n",
    "summary(model3)\n",
    "\n",
    "# 표준화 계수 구하기\n",
    "# 각 변수의 표준편차 구하기\n",
    "sd_weight = sd(crab_data$weight)\n",
    "sd_color = sd(crab_data$color)\n",
    "\n",
    "\n",
    "cat(\"weight 계수 표준편차:\", sd_weight, \"\\n\")\n",
    "cat(\"color 계수 표준편차:\", sd_color, \"\\n\")\n",
    "\n",
    "cat(\"표준화된 weight 계수:\", 1.6531/sd_weight, \"\\n\")\n",
    "cat(\"표준화된 color 계수:\", -0.5142/sd_color)"
   ]
  },
  {
   "cell_type": "markdown",
   "metadata": {},
   "source": [
    "표준화계수에 따른 해석은 다음과 같다.  \n",
    "\n",
    "weight 변수는 값이 커질수록 부수체를 가질 확률이 높아지고, color 변수는 값이 커질수록 부수체를 가질 확률이 낮아진다.  \n",
    "절대적인 효과의 차이는 약 4.5배이다.  "
   ]
  },
  {
   "cell_type": "markdown",
   "metadata": {},
   "source": [
    "### 문제2: 155쪽 문제 4.14\n",
    "\n",
    "<표 4.8>은 감염을 치료하는 위약과 신약을 비교하기 위해 8개의 센터에서 시행한 임상시험 결과자료이다. 각 센터마다 환자들은 처리그룹에 랜덤하게 배정되었다. 이 책은 웹사이트에 있는 Infection 자료 파일을 이용하여 이 자료를 분석하라. 로지스틱 회귀분석모형으로 처리효과를 추론하고 결과를 해석하라.\n",
    "\n",
    "|센터|처리|성공|실패|\n",
    "|:-:|:-:|:-:|:-:|\n",
    "|1|신약|11|25|\n",
    "|1|대조군|10|27|\n",
    "|2|신약|16|4|\n",
    "|2|대조군|22|10|\n",
    "|3|신약|14|5|\n",
    "|3|대조군|7|12|\n",
    "|4|신약|2|14|\n",
    "|4|대조군|1|16|\n",
    "|5|신약|6|11|\n",
    "|5|대조군|0|12|\n",
    "|6|신약|1|10|\n",
    "|6|대조군|0|10|\n",
    "|7|신약|1|4|\n",
    "|7|대조군|1|8|\n",
    "|8|신약|4|2|\n",
    "|8|대조군|6|1|"
   ]
  },
  {
   "cell_type": "code",
   "execution_count": 13,
   "metadata": {
    "vscode": {
     "languageId": "r"
    }
   },
   "outputs": [
    {
     "data": {
      "text/html": [
       "<table class=\"dataframe\">\n",
       "<caption>A data.frame: 6 × 4</caption>\n",
       "<thead>\n",
       "\t<tr><th></th><th scope=col>center</th><th scope=col>treat</th><th scope=col>y</th><th scope=col>n</th></tr>\n",
       "\t<tr><th></th><th scope=col>&lt;int&gt;</th><th scope=col>&lt;int&gt;</th><th scope=col>&lt;int&gt;</th><th scope=col>&lt;int&gt;</th></tr>\n",
       "</thead>\n",
       "<tbody>\n",
       "\t<tr><th scope=row>1</th><td>1</td><td>1</td><td>11</td><td>36</td></tr>\n",
       "\t<tr><th scope=row>2</th><td>1</td><td>0</td><td>10</td><td>37</td></tr>\n",
       "\t<tr><th scope=row>3</th><td>2</td><td>1</td><td>16</td><td>20</td></tr>\n",
       "\t<tr><th scope=row>4</th><td>2</td><td>0</td><td>22</td><td>32</td></tr>\n",
       "\t<tr><th scope=row>5</th><td>3</td><td>1</td><td>14</td><td>19</td></tr>\n",
       "\t<tr><th scope=row>6</th><td>3</td><td>0</td><td> 7</td><td>19</td></tr>\n",
       "</tbody>\n",
       "</table>\n"
      ],
      "text/latex": [
       "A data.frame: 6 × 4\n",
       "\\begin{tabular}{r|llll}\n",
       "  & center & treat & y & n\\\\\n",
       "  & <int> & <int> & <int> & <int>\\\\\n",
       "\\hline\n",
       "\t1 & 1 & 1 & 11 & 36\\\\\n",
       "\t2 & 1 & 0 & 10 & 37\\\\\n",
       "\t3 & 2 & 1 & 16 & 20\\\\\n",
       "\t4 & 2 & 0 & 22 & 32\\\\\n",
       "\t5 & 3 & 1 & 14 & 19\\\\\n",
       "\t6 & 3 & 0 &  7 & 19\\\\\n",
       "\\end{tabular}\n"
      ],
      "text/markdown": [
       "\n",
       "A data.frame: 6 × 4\n",
       "\n",
       "| <!--/--> | center &lt;int&gt; | treat &lt;int&gt; | y &lt;int&gt; | n &lt;int&gt; |\n",
       "|---|---|---|---|---|\n",
       "| 1 | 1 | 1 | 11 | 36 |\n",
       "| 2 | 1 | 0 | 10 | 37 |\n",
       "| 3 | 2 | 1 | 16 | 20 |\n",
       "| 4 | 2 | 0 | 22 | 32 |\n",
       "| 5 | 3 | 1 | 14 | 19 |\n",
       "| 6 | 3 | 0 |  7 | 19 |\n",
       "\n"
      ],
      "text/plain": [
       "  center treat y  n \n",
       "1 1      1     11 36\n",
       "2 1      0     10 37\n",
       "3 2      1     16 20\n",
       "4 2      0     22 32\n",
       "5 3      1     14 19\n",
       "6 3      0      7 19"
      ]
     },
     "metadata": {},
     "output_type": "display_data"
    }
   ],
   "source": [
    "# center는 연번\n",
    "# treat는 처리(1=신약, 0=대조군)\n",
    "data = read.table(\"Infection.dat.txt\", header=TRUE)\n",
    "head(data)"
   ]
  },
  {
   "cell_type": "code",
   "execution_count": 14,
   "metadata": {
    "vscode": {
     "languageId": "r"
    }
   },
   "outputs": [
    {
     "data": {
      "text/plain": [
       "\n",
       "Call:\n",
       "glm(formula = cbind(y, n - y) ~ treat + factor(center), family = binomial, \n",
       "    data = data)\n",
       "\n",
       "Coefficients:\n",
       "                Estimate Std. Error z value Pr(>|z|)    \n",
       "(Intercept)      -1.3220     0.3165  -4.177 2.95e-05 ***\n",
       "treat             0.7769     0.3067   2.533  0.01130 *  \n",
       "factor(center)2   2.0554     0.4201   4.893 9.94e-07 ***\n",
       "factor(center)3   1.1529     0.4246   2.715  0.00662 ** \n",
       "factor(center)4  -1.4185     0.6636  -2.138  0.03255 *  \n",
       "factor(center)5  -0.5199     0.5338  -0.974  0.33007    \n",
       "factor(center)6  -2.1469     1.0614  -2.023  0.04310 *  \n",
       "factor(center)7  -0.7977     0.8149  -0.979  0.32764    \n",
       "factor(center)8   2.2079     0.7195   3.069  0.00215 ** \n",
       "---\n",
       "Signif. codes:  0 '***' 0.001 '**' 0.01 '*' 0.05 '.' 0.1 ' ' 1\n",
       "\n",
       "(Dispersion parameter for binomial family taken to be 1)\n",
       "\n",
       "    Null deviance: 93.5545  on 15  degrees of freedom\n",
       "Residual deviance:  9.7463  on  7  degrees of freedom\n",
       "AIC: 66.136\n",
       "\n",
       "Number of Fisher Scoring iterations: 4\n"
      ]
     },
     "metadata": {},
     "output_type": "display_data"
    }
   ],
   "source": [
    "# 로지스틱 회귀 모델 생성\n",
    "model4 <- glm(cbind(y, n-y) ~ treat + factor(center), family = binomial, data = data)\n",
    "\n",
    "# 결과 출력\n",
    "summary(model4)\n"
   ]
  },
  {
   "cell_type": "markdown",
   "metadata": {},
   "source": [
    "treat: 처리(1=신약, 0=대조군), center: 센터 구분(1~8까지) 라고 할 때 적합된 예측식은 다음과 같다.\n",
    "\n",
    "<img src=\"https://latex.codecogs.com/svg.image?logit[P(Y=1)]=log(\\frac{\\pi}{1-\\pi})=\\alpha+\\beta_1\\times treat+\\beta_2\\times center2+\\beta_3\\times center3+\\beta_4\\times center4+\\beta_5\\times center5+\\beta_6\\times center6+\\beta_7\\times center7+\\beta_8\\times center8\">\n",
    "\n",
    "적합된 결과를 반영하면\n",
    "\n",
    "<img src=\"https://latex.codecogs.com/svg.image?logit[P(Y=1)]=log(\\frac{\\pi}{1-\\pi})=-1.3220+0.7769\\times treat+2.0554\\times center2+1.1529\\times center3-1.4185\\times center4-0.5199\\times center5-2.1469\\times center6-0.7977\\times center7+2.2079\\times center8\">\n",
    "\n",
    "이를 해석하면\n",
    "[처리] 신약을 투여했을 때가 대조군을 투여했을 때보다 성공할 오즈가 <img src=\"https://latex.codecogs.com/svg.image?e^{0.7769}=2.17\"> 배 더 높다.\n",
    "[센터] 센터1을 기준으로 할 때 센터2, 센터3, 센터8은 센터1보다 성공 오즈가 더 높고, 센터4, 센터5, 센터6, 센터7은 성공 오즈가 더 낮다.\n",
    "\n",
    "그리고, 변수별 p-값을 보면 처리, 센터2, 센터3, 센터4, 센터6, 센터8 변수는 성공 여부에 영향을 미친다고 할 수 있다.\n",
    "\n"
   ]
  }
 ],
 "metadata": {
  "kernelspec": {
   "display_name": "R",
   "language": "R",
   "name": "ir"
  },
  "language_info": {
   "codemirror_mode": "r",
   "file_extension": ".r",
   "mimetype": "text/x-r-source",
   "name": "R",
   "pygments_lexer": "r",
   "version": "4.3.2"
  }
 },
 "nbformat": 4,
 "nbformat_minor": 2
}
