{
 "cells": [
  {
   "cell_type": "markdown",
   "metadata": {},
   "source": [
    "### 문제1: 156쪽 문제 4.19\n",
    "\n",
    "<표 4.10>은 Y=일반적인 마취를 동반하는 외과수술 시 마취가 풀릴 때 목의 통증 여부(1=예, 0=아니오)에 대하여 D=수술시간(단위:분)과 T=기관지를 안전하게 하는 장치종류(0=후두마스크 기관튜브, 1=기관튜브)의 영향을 알아보기 위한 연구 자료이다.\n",
    "\n",
    "<표 4.10> 수술 후 목의 통증에 관한 연습문제 4.16의 자료\n",
    "\n",
    "|환자|D|T|Y|환자|D|T|Y|환자|D|T|Y|\n",
    "|:-:|:-:|:-:|:-:|:-:|:-:|:-:|:-:|:-:|:-:|:-:|:-:|\n",
    "|1|45|0|0|13|50|1|0|25|20|1|0|\n",
    "|2|15|0|0|14|75|1|1|26|45|0|1|\n",
    "|3|40|0|1|15|30|0|0|27|15|1|0|\n",
    "|4|83|1|1|16|25|0|1|28|25|0|1|\n",
    "|5|90|1|1|17|20|1|0|29|15|1|0|\n",
    "|6|25|1|1|18|60|1|1|30|03|0|1|\n",
    "|7|35|0|1|19|70|1|1|31|40|0|1|\n",
    "|8|65|0|1|20|30|0|1|23|15|1|0|\n",
    "|9|95|0|1|21|06|0|1|33|135|1|1|\n",
    "|10|35|0|1|22|61|0|0|34|20|1|0|\n",
    "|11|75|0|1|23|65|0|1|35|40|1|0|\n",
    "|12|45|1|1|24|15|1|0|||||\n",
    "\n",
    "D=수술시간, T=안전장치 종류"
   ]
  },
  {
   "cell_type": "markdown",
   "metadata": {},
   "source": [
    "#### a. 이 예측변수들 간의 교호작용함을 포함하는 모형을 적합하라. (i) T=1 과 (ii) T=0 에 대하여 D의 효과에 대한 예측식을 구하고 해석하라. 교호작용항이 필요한지 추론하라."
   ]
  },
  {
   "cell_type": "markdown",
   "metadata": {},
   "source": [
    "[1] 우선 교호작용을 포함하는 모형을 적합한다."
   ]
  },
  {
   "cell_type": "code",
   "execution_count": 48,
   "metadata": {
    "vscode": {
     "languageId": "r"
    }
   },
   "outputs": [
    {
     "data": {
      "text/plain": [
       "\n",
       "Call:\n",
       "glm(formula = Y ~ D * T, family = binomial, data = neck_data)\n",
       "\n",
       "Coefficients:\n",
       "             Estimate Std. Error z value Pr(>|z|)  \n",
       "(Intercept)  0.956141   1.120702   0.853   0.3936  \n",
       "D            0.007471   0.025035   0.298   0.7654  \n",
       "T           -5.227118   2.295361  -2.277   0.0228 *\n",
       "D:T          0.092687   0.052843   1.754   0.0794 .\n",
       "---\n",
       "Signif. codes:  0 '***' 0.001 '**' 0.01 '*' 0.05 '.' 0.1 ' ' 1\n",
       "\n",
       "(Dispersion parameter for binomial family taken to be 1)\n",
       "\n",
       "    Null deviance: 44.149  on 33  degrees of freedom\n",
       "Residual deviance: 28.921  on 30  degrees of freedom\n",
       "AIC: 36.921\n",
       "\n",
       "Number of Fisher Scoring iterations: 6\n"
      ]
     },
     "metadata": {},
     "output_type": "display_data"
    }
   ],
   "source": [
    "# 데이터 입력\n",
    "neck_data <- data.frame(\n",
    "  D = c(45, 15, 40, 83, 90, 25, 35, 65, 95, 35, 75, 45, 50, 75, 30, 25, 20, 60, 70, 30, 6, 61, 65, 15, 20, 45, 15, 25, 15, 3, 40, 135, 20, 40),\n",
    "  T = c(0, 0, 0, 1, 1, 1, 0, 0, 0, 0, 0, 1, 1, 1, 0, 0, 1, 1, 1, 0, 0, 0, 0, 1, 1, 0, 1, 0, 1, 0, 0, 1, 1, 1),\n",
    "  Y = c(0, 0, 1, 1, 1, 1, 1, 1, 1, 1, 1, 1, 0, 1, 0, 1, 0, 1, 1, 1, 1, 0, 1, 0, 0, 1, 0, 1, 0, 1, 1, 1, 0, 0)\n",
    ")\n",
    "\n",
    "# 교호작용 포함한 로지스틱 회귀 모형 적합\n",
    "model1 <- glm(Y ~ D * T, data = neck_data, family = binomial)\n",
    "\n",
    "# 모형 결과 요약\n",
    "summary(model1)"
   ]
  },
  {
   "cell_type": "markdown",
   "metadata": {},
   "source": [
    "적합된 모형의 예측식은 다음과 같다.  \n",
    "<img src=\"https://latex.codecogs.com/svg.image?logit[P(Y=1)]=log(\\frac{\\pi}{1-\\pi})=0.9561 + 0.0074\\times D - 5.2271\\times T +0.0927 \\times DT\">"
   ]
  },
  {
   "cell_type": "markdown",
   "metadata": {},
   "source": [
    "[2] (i) T=1 과 (ii) T=0 에 대하여 D의 효과에 대한 예측식을 구하고 해석한다."
   ]
  },
  {
   "cell_type": "code",
   "execution_count": 49,
   "metadata": {
    "vscode": {
     "languageId": "r"
    }
   },
   "outputs": [
    {
     "data": {
      "text/plain": [
       "\n",
       "Call:\n",
       "glm(formula = Y ~ D, family = binomial, data = neck_data_T1)\n",
       "\n",
       "Coefficients:\n",
       "            Estimate Std. Error z value Pr(>|z|)  \n",
       "(Intercept) -4.27098    2.00317  -2.132   0.0330 *\n",
       "D            0.10016    0.04654   2.152   0.0314 *\n",
       "---\n",
       "Signif. codes:  0 '***' 0.001 '**' 0.01 '*' 0.05 '.' 0.1 ' ' 1\n",
       "\n",
       "(Dispersion parameter for binomial family taken to be 1)\n",
       "\n",
       "    Null deviance: 22.1807  on 15  degrees of freedom\n",
       "Residual deviance:  9.9431  on 14  degrees of freedom\n",
       "AIC: 13.943\n",
       "\n",
       "Number of Fisher Scoring iterations: 6\n"
      ]
     },
     "metadata": {},
     "output_type": "display_data"
    },
    {
     "data": {
      "text/plain": [
       "\n",
       "Call:\n",
       "glm(formula = Y ~ D, family = binomial, data = neck_data_T0)\n",
       "\n",
       "Coefficients:\n",
       "            Estimate Std. Error z value Pr(>|z|)\n",
       "(Intercept) 0.956141   1.120701   0.853    0.394\n",
       "D           0.007471   0.025035   0.298    0.765\n",
       "\n",
       "(Dispersion parameter for binomial family taken to be 1)\n",
       "\n",
       "    Null deviance: 19.069  on 17  degrees of freedom\n",
       "Residual deviance: 18.978  on 16  degrees of freedom\n",
       "AIC: 22.978\n",
       "\n",
       "Number of Fisher Scoring iterations: 4\n"
      ]
     },
     "metadata": {},
     "output_type": "display_data"
    }
   ],
   "source": [
    "# T=1 인 데이터만 추출해서 D의 효과에 대한 예측식 구하기\n",
    "neck_data_T1 <- subset(neck_data, T == 1)\n",
    "model2 = glm(Y ~ D, data=neck_data_T1, family=binomial)\n",
    "summary(model2)\n",
    "\n",
    "# T=0 인 데이터만 추출해서 D의 효과에 대한 예측식 구하기\n",
    "neck_data_T0 <- subset(neck_data, T == 0)\n",
    "model3 = glm(Y ~ D, data=neck_data_T0, family=binomial)\n",
    "summary(model3)"
   ]
  },
  {
   "cell_type": "markdown",
   "metadata": {},
   "source": [
    "(i) T=1 일 때 적합된 예측식은 다음과 같다.  \n",
    "<img src=\"https://latex.codecogs.com/svg.image?logit[P(Y=1)]=log(\\frac{\\pi}{1-\\pi})=-4.271+0.1002\\times D\">\n",
    "\n",
    "(ii) T=0 일 때 적합된 예측식은 다음과 같다.  \n",
    "<img src=\"https://latex.codecogs.com/svg.image?logit[P(Y=1)]=log(\\frac{\\pi}{1-\\pi})=0.9561+0.0075\\times D\">\n",
    "\n",
    "T=1일 때는 p값이 0.0314로, D가 반응변수 Y에 미치는 영향이 유의한 것으로 나타나고,\n",
    "\n",
    "T=0일 때는 p값이 0.765로, D가 반응변수 Y에 미치는 영향이 유의하지 않은 것으로 나타난다."
   ]
  },
  {
   "cell_type": "markdown",
   "metadata": {},
   "source": [
    "[3] 교호작용항이 필요한지 추론하라."
   ]
  },
  {
   "cell_type": "markdown",
   "metadata": {},
   "source": [
    "T=1 일 때는 D가 반응변수 Y에 미치는 영향이 유의한데, T=0 일 때는 D가 반응변수 Y에 미치는 영향이 유의하지 않은 것으로 나타났다. 즉, D가 T의 값에 따라 Y에 미치는 영향이 달라지는 것이라고 해석할 수 있다.  \n",
    "즉, D와 T 사이의 교호작용이 존재하는 것으로 추론할 수 있다.\n",
    "\n",
    "교호작용의 유의성을 확인하기 위해서는 ANOVA 분석을 통해 D×T 항의 p값을 평가한다."
   ]
  },
  {
   "cell_type": "code",
   "execution_count": 50,
   "metadata": {
    "vscode": {
     "languageId": "r"
    }
   },
   "outputs": [
    {
     "data": {
      "text/html": [
       "<table class=\"dataframe\">\n",
       "<caption>A anova: 4 × 5</caption>\n",
       "<thead>\n",
       "\t<tr><th></th><th scope=col>Df</th><th scope=col>Deviance</th><th scope=col>Resid. Df</th><th scope=col>Resid. Dev</th><th scope=col>Pr(&gt;Chi)</th></tr>\n",
       "\t<tr><th></th><th scope=col>&lt;int&gt;</th><th scope=col>&lt;dbl&gt;</th><th scope=col>&lt;int&gt;</th><th scope=col>&lt;dbl&gt;</th><th scope=col>&lt;dbl&gt;</th></tr>\n",
       "</thead>\n",
       "<tbody>\n",
       "\t<tr><th scope=row>NULL</th><td>NA</td><td>      NA</td><td>33</td><td>44.14889</td><td>         NA</td></tr>\n",
       "\t<tr><th scope=row>D</th><td> 1</td><td>6.683429</td><td>32</td><td>37.46546</td><td>0.009731325</td></tr>\n",
       "\t<tr><th scope=row>T</th><td> 1</td><td>4.396957</td><td>31</td><td>33.06850</td><td>0.036003125</td></tr>\n",
       "\t<tr><th scope=row>D:T</th><td> 1</td><td>4.147174</td><td>30</td><td>28.92133</td><td>0.041704075</td></tr>\n",
       "</tbody>\n",
       "</table>\n"
      ],
      "text/latex": [
       "A anova: 4 × 5\n",
       "\\begin{tabular}{r|lllll}\n",
       "  & Df & Deviance & Resid. Df & Resid. Dev & Pr(>Chi)\\\\\n",
       "  & <int> & <dbl> & <int> & <dbl> & <dbl>\\\\\n",
       "\\hline\n",
       "\tNULL & NA &       NA & 33 & 44.14889 &          NA\\\\\n",
       "\tD &  1 & 6.683429 & 32 & 37.46546 & 0.009731325\\\\\n",
       "\tT &  1 & 4.396957 & 31 & 33.06850 & 0.036003125\\\\\n",
       "\tD:T &  1 & 4.147174 & 30 & 28.92133 & 0.041704075\\\\\n",
       "\\end{tabular}\n"
      ],
      "text/markdown": [
       "\n",
       "A anova: 4 × 5\n",
       "\n",
       "| <!--/--> | Df &lt;int&gt; | Deviance &lt;dbl&gt; | Resid. Df &lt;int&gt; | Resid. Dev &lt;dbl&gt; | Pr(&gt;Chi) &lt;dbl&gt; |\n",
       "|---|---|---|---|---|---|\n",
       "| NULL | NA |       NA | 33 | 44.14889 |          NA |\n",
       "| D |  1 | 6.683429 | 32 | 37.46546 | 0.009731325 |\n",
       "| T |  1 | 4.396957 | 31 | 33.06850 | 0.036003125 |\n",
       "| D:T |  1 | 4.147174 | 30 | 28.92133 | 0.041704075 |\n",
       "\n"
      ],
      "text/plain": [
       "     Df Deviance Resid. Df Resid. Dev Pr(>Chi)   \n",
       "NULL NA       NA 33        44.14889            NA\n",
       "D     1 6.683429 32        37.46546   0.009731325\n",
       "T     1 4.396957 31        33.06850   0.036003125\n",
       "D:T   1 4.147174 30        28.92133   0.041704075"
      ]
     },
     "metadata": {},
     "output_type": "display_data"
    }
   ],
   "source": [
    "# 교호작용항 필요 여부 판단: 교호작용항의 유의성을 통해 판단\n",
    "anova(model1, test = \"Chisq\")"
   ]
  },
  {
   "cell_type": "markdown",
   "metadata": {},
   "source": [
    "교호작용항 D×T 의 p값이 0.0417로 5% 유의수준에서 유의하다. 즉, 교호작용항은 필요하다고 추론할 수 있다."
   ]
  },
  {
   "cell_type": "markdown",
   "metadata": {},
   "source": [
    "#### b. 교호작용이 포함된 모형과 포함되지 않은 두 모형의 예측력을 비교하기 위해 각 모형별로 예측값과 관측값의 상관계수 R을 구하여 비교하라."
   ]
  },
  {
   "cell_type": "code",
   "execution_count": 51,
   "metadata": {
    "vscode": {
     "languageId": "r"
    }
   },
   "outputs": [
    {
     "data": {
      "text/plain": [
       "\n",
       "Call:\n",
       "glm(formula = Y ~ D + T, family = binomial, data = neck_data)\n",
       "\n",
       "Coefficients:\n",
       "            Estimate Std. Error z value Pr(>|z|)  \n",
       "(Intercept) -0.38040    0.85491  -0.445   0.6564  \n",
       "D            0.04727    0.02018   2.342   0.0192 *\n",
       "T           -1.76362    0.89345  -1.974   0.0484 *\n",
       "---\n",
       "Signif. codes:  0 '***' 0.001 '**' 0.01 '*' 0.05 '.' 0.1 ' ' 1\n",
       "\n",
       "(Dispersion parameter for binomial family taken to be 1)\n",
       "\n",
       "    Null deviance: 44.149  on 33  degrees of freedom\n",
       "Residual deviance: 33.069  on 31  degrees of freedom\n",
       "AIC: 39.069\n",
       "\n",
       "Number of Fisher Scoring iterations: 5\n"
      ]
     },
     "metadata": {},
     "output_type": "display_data"
    }
   ],
   "source": [
    "# 교호작용이 포함되지 않은 모형\n",
    "model4 <- glm(Y ~ D+T, data = neck_data, family = binomial)\n",
    "summary(model4)"
   ]
  },
  {
   "cell_type": "markdown",
   "metadata": {},
   "source": [
    "교호작용이 포함되지 않은 모형4 의 예측식은 다음과 같다.  \n",
    "<img src=\"https://latex.codecogs.com/svg.image?logit[P(Y=1)]=log(\\frac{\\pi}{1-\\pi})=-0.3804+0.0473\\times D -1.7636\\times T\">"
   ]
  },
  {
   "cell_type": "code",
   "execution_count": 52,
   "metadata": {
    "vscode": {
     "languageId": "r"
    }
   },
   "outputs": [
    {
     "name": "stdout",
     "output_type": "stream",
     "text": [
      "교호작용이 포함된 모형1의 상관계수: 0.6248084 \n",
      "교호작용이 포함되지 않은 모형4의 상관계수: 0.5645543 \n"
     ]
    }
   ],
   "source": [
    "# 모형1과 모형4의 예측값 계산\n",
    "predict_model1 = predict(model1, type=\"response\")\n",
    "predict_model4 = predict(model4, type=\"response\")\n",
    "\n",
    "# 상관계수 구하기\n",
    "cor_model1 = cor(predict_model1, neck_data$Y)\n",
    "cor_model4 = cor(predict_model4, neck_data$Y)\n",
    "\n",
    "cat(\"교호작용이 포함된 모형1의 상관계수:\", cor_model1, \"\\n\")\n",
    "cat(\"교호작용이 포함되지 않은 모형4의 상관계수:\", cor_model4, \"\\n\")"
   ]
  },
  {
   "cell_type": "markdown",
   "metadata": {},
   "source": [
    "교호작용이 포함된 모형1의 상관계수 0.6248 이 교호작용이 포함되지 않은 모형4의 상관계수 0.5646 보다 크다.  \n",
    "즉,  교호작용이 포함된 모형의 예측력이 더 높다고 판단할 수 있다."
   ]
  },
  {
   "cell_type": "markdown",
   "metadata": {},
   "source": [
    "### 문제2: 202쪽 문제 5.14\n",
    "\n",
    "<표 5.8>는 LogXact7 설명서(Cytel Software, 2005, p.171)에 소개된 비전이 성 골육종에 대한 연구자료이다. 반응변수는 환자가 3년간 질병에 걸리지 않았는지 여부이다.\n",
    "\n",
    "<표 5.8> 연습문제 5.14의 자료\n",
    "|림프구 침윤|성별|골형성 병리|무병기간 여부<br>있음|무병기간 여부<br>없음|\n",
    "|:-:|:-:|:-:|:-:|:-:|\n",
    "|높음|여성|없음|3|0|\n",
    "|높음|여성|있음|2|0|\n",
    "|높음|남성|없음|4|0|\n",
    "|높음|남성|있음|1|0|\n",
    "|낮음|여성|없음|5|0|\n",
    "|낮음|여성|있음|3|2|\n",
    "|낮음|남성|없음|5|4|\n",
    "|낮음|남성|있음|6|11|"
   ]
  },
  {
   "cell_type": "markdown",
   "metadata": {},
   "source": [
    "#### a. 각 예측변수에 대해서 한 개의 예측변수만을 포함하는 로지스틱모형을 적합하면 모든 예측변수는 다 유의한 효과가 있음을 보여라. 세 개의 모든 예측변수를 포함하는 주효과 로지스틱 회귀모형을 적합하라. 림프구 침윤의 효과에 대한 ML 추정값이 무한대인 이유를 설명하라."
   ]
  },
  {
   "cell_type": "code",
   "execution_count": 53,
   "metadata": {
    "vscode": {
     "languageId": "r"
    }
   },
   "outputs": [],
   "source": [
    "# 데이터 생성\n",
    "cancer_data <- data.frame(\n",
    "  lymph = c(\"hi\", \"hi\", \"hi\", \"hi\", \"lo\", \"lo\", \"lo\", \"lo\"),\n",
    "  gender = c(\"f\", \"f\", \"m\", \"m\", \"f\", \"f\", \"m\", \"m\"),\n",
    "  pathology = c(\"n\", \"y\", \"n\", \"y\", \"n\", \"y\", \"n\", \"y\"),\n",
    "  success = c(3, 2, 4, 1, 5, 3, 5, 6),\n",
    "  failure = c(0, 0, 0, 0, 0, 2, 4, 11)\n",
    ")\n",
    "\n",
    "# 반응변수 형성\n",
    "cancer_data$total <- cancer_data$success + cancer_data$failure\n",
    "cancer_data$y <- cbind(cancer_data$success, cancer_data$failure)"
   ]
  },
  {
   "cell_type": "markdown",
   "metadata": {},
   "source": [
    "[1] 한 개의 예측변수만을 포함하는 로지스틱모형을 적합한다."
   ]
  },
  {
   "cell_type": "code",
   "execution_count": 54,
   "metadata": {
    "vscode": {
     "languageId": "r"
    }
   },
   "outputs": [
    {
     "data": {
      "text/plain": [
       "\n",
       "Call:\n",
       "glm(formula = y ~ lymph, family = binomial, data = cancer_data)\n",
       "\n",
       "Coefficients:\n",
       "            Estimate Std. Error z value Pr(>|z|)\n",
       "(Intercept)    20.06    4357.04   0.005    0.996\n",
       "lymphlo       -19.95    4357.04  -0.005    0.996\n",
       "\n",
       "(Dispersion parameter for binomial family taken to be 1)\n",
       "\n",
       "    Null deviance: 19.4327  on 7  degrees of freedom\n",
       "Residual deviance:  8.6256  on 6  degrees of freedom\n",
       "AIC: 20.671\n",
       "\n",
       "Number of Fisher Scoring iterations: 18\n"
      ]
     },
     "metadata": {},
     "output_type": "display_data"
    },
    {
     "data": {
      "text/html": [
       "<table class=\"dataframe\">\n",
       "<caption>A anova: 1 × 3</caption>\n",
       "<thead>\n",
       "\t<tr><th></th><th scope=col>LR Chisq</th><th scope=col>Df</th><th scope=col>Pr(&gt;Chisq)</th></tr>\n",
       "\t<tr><th></th><th scope=col>&lt;dbl&gt;</th><th scope=col>&lt;dbl&gt;</th><th scope=col>&lt;dbl&gt;</th></tr>\n",
       "</thead>\n",
       "<tbody>\n",
       "\t<tr><th scope=row>lymph</th><td>10.80717</td><td>1</td><td>0.001011079</td></tr>\n",
       "</tbody>\n",
       "</table>\n"
      ],
      "text/latex": [
       "A anova: 1 × 3\n",
       "\\begin{tabular}{r|lll}\n",
       "  & LR Chisq & Df & Pr(>Chisq)\\\\\n",
       "  & <dbl> & <dbl> & <dbl>\\\\\n",
       "\\hline\n",
       "\tlymph & 10.80717 & 1 & 0.001011079\\\\\n",
       "\\end{tabular}\n"
      ],
      "text/markdown": [
       "\n",
       "A anova: 1 × 3\n",
       "\n",
       "| <!--/--> | LR Chisq &lt;dbl&gt; | Df &lt;dbl&gt; | Pr(&gt;Chisq) &lt;dbl&gt; |\n",
       "|---|---|---|---|\n",
       "| lymph | 10.80717 | 1 | 0.001011079 |\n",
       "\n"
      ],
      "text/plain": [
       "      LR Chisq Df Pr(>Chisq) \n",
       "lymph 10.80717 1  0.001011079"
      ]
     },
     "metadata": {},
     "output_type": "display_data"
    }
   ],
   "source": [
    "# 1-1. 림프구 침윤만 포함한 로지스틱 회귀 모형\n",
    "model5 <- glm(y ~ lymph, data = cancer_data, family = binomial)\n",
    "summary(model5)\n",
    "Anova(model5)"
   ]
  },
  {
   "cell_type": "code",
   "execution_count": 55,
   "metadata": {
    "vscode": {
     "languageId": "r"
    }
   },
   "outputs": [
    {
     "data": {
      "text/plain": [
       "\n",
       "Call:\n",
       "glm(formula = y ~ gender, family = binomial, data = cancer_data)\n",
       "\n",
       "Coefficients:\n",
       "            Estimate Std. Error z value Pr(>|z|)  \n",
       "(Intercept)   1.8718     0.7595   2.464   0.0137 *\n",
       "genderm      -1.8073     0.8403  -2.151   0.0315 *\n",
       "---\n",
       "Signif. codes:  0 '***' 0.001 '**' 0.01 '*' 0.05 '.' 0.1 ' ' 1\n",
       "\n",
       "(Dispersion parameter for binomial family taken to be 1)\n",
       "\n",
       "    Null deviance: 19.433  on 7  degrees of freedom\n",
       "Residual deviance: 13.553  on 6  degrees of freedom\n",
       "AIC: 25.598\n",
       "\n",
       "Number of Fisher Scoring iterations: 4\n"
      ]
     },
     "metadata": {},
     "output_type": "display_data"
    },
    {
     "data": {
      "text/html": [
       "<table class=\"dataframe\">\n",
       "<caption>A anova: 1 × 3</caption>\n",
       "<thead>\n",
       "\t<tr><th></th><th scope=col>LR Chisq</th><th scope=col>Df</th><th scope=col>Pr(&gt;Chisq)</th></tr>\n",
       "\t<tr><th></th><th scope=col>&lt;dbl&gt;</th><th scope=col>&lt;dbl&gt;</th><th scope=col>&lt;dbl&gt;</th></tr>\n",
       "</thead>\n",
       "<tbody>\n",
       "\t<tr><th scope=row>gender</th><td>5.879501</td><td>1</td><td>0.01531816</td></tr>\n",
       "</tbody>\n",
       "</table>\n"
      ],
      "text/latex": [
       "A anova: 1 × 3\n",
       "\\begin{tabular}{r|lll}\n",
       "  & LR Chisq & Df & Pr(>Chisq)\\\\\n",
       "  & <dbl> & <dbl> & <dbl>\\\\\n",
       "\\hline\n",
       "\tgender & 5.879501 & 1 & 0.01531816\\\\\n",
       "\\end{tabular}\n"
      ],
      "text/markdown": [
       "\n",
       "A anova: 1 × 3\n",
       "\n",
       "| <!--/--> | LR Chisq &lt;dbl&gt; | Df &lt;dbl&gt; | Pr(&gt;Chisq) &lt;dbl&gt; |\n",
       "|---|---|---|---|\n",
       "| gender | 5.879501 | 1 | 0.01531816 |\n",
       "\n"
      ],
      "text/plain": [
       "       LR Chisq Df Pr(>Chisq)\n",
       "gender 5.879501 1  0.01531816"
      ]
     },
     "metadata": {},
     "output_type": "display_data"
    }
   ],
   "source": [
    "# 1-2. 성별만 포함한 로지스틱 회귀 모형\n",
    "model6 <- glm(y ~ gender, data = cancer_data, family = binomial)\n",
    "summary(model6)\n",
    "Anova(model6)"
   ]
  },
  {
   "cell_type": "code",
   "execution_count": 56,
   "metadata": {
    "vscode": {
     "languageId": "r"
    }
   },
   "outputs": [
    {
     "data": {
      "text/plain": [
       "\n",
       "Call:\n",
       "glm(formula = y ~ pathology, family = binomial, data = cancer_data)\n",
       "\n",
       "Coefficients:\n",
       "            Estimate Std. Error z value Pr(>|z|)   \n",
       "(Intercept)   1.4469     0.5557   2.604  0.00922 **\n",
       "pathologyy   -1.5270     0.6849  -2.230  0.02578 * \n",
       "---\n",
       "Signif. codes:  0 '***' 0.001 '**' 0.01 '*' 0.05 '.' 0.1 ' ' 1\n",
       "\n",
       "(Dispersion parameter for binomial family taken to be 1)\n",
       "\n",
       "    Null deviance: 19.433  on 7  degrees of freedom\n",
       "Residual deviance: 13.898  on 6  degrees of freedom\n",
       "AIC: 25.943\n",
       "\n",
       "Number of Fisher Scoring iterations: 4\n"
      ]
     },
     "metadata": {},
     "output_type": "display_data"
    },
    {
     "data": {
      "text/html": [
       "<table class=\"dataframe\">\n",
       "<caption>A anova: 1 × 3</caption>\n",
       "<thead>\n",
       "\t<tr><th></th><th scope=col>LR Chisq</th><th scope=col>Df</th><th scope=col>Pr(&gt;Chisq)</th></tr>\n",
       "\t<tr><th></th><th scope=col>&lt;dbl&gt;</th><th scope=col>&lt;dbl&gt;</th><th scope=col>&lt;dbl&gt;</th></tr>\n",
       "</thead>\n",
       "<tbody>\n",
       "\t<tr><th scope=row>pathology</th><td>5.534914</td><td>1</td><td>0.01864068</td></tr>\n",
       "</tbody>\n",
       "</table>\n"
      ],
      "text/latex": [
       "A anova: 1 × 3\n",
       "\\begin{tabular}{r|lll}\n",
       "  & LR Chisq & Df & Pr(>Chisq)\\\\\n",
       "  & <dbl> & <dbl> & <dbl>\\\\\n",
       "\\hline\n",
       "\tpathology & 5.534914 & 1 & 0.01864068\\\\\n",
       "\\end{tabular}\n"
      ],
      "text/markdown": [
       "\n",
       "A anova: 1 × 3\n",
       "\n",
       "| <!--/--> | LR Chisq &lt;dbl&gt; | Df &lt;dbl&gt; | Pr(&gt;Chisq) &lt;dbl&gt; |\n",
       "|---|---|---|---|\n",
       "| pathology | 5.534914 | 1 | 0.01864068 |\n",
       "\n"
      ],
      "text/plain": [
       "          LR Chisq Df Pr(>Chisq)\n",
       "pathology 5.534914 1  0.01864068"
      ]
     },
     "metadata": {},
     "output_type": "display_data"
    }
   ],
   "source": [
    "# 1-3. 골형성 병리만 포함한 로지스틱 회귀 모형\n",
    "model7 <- glm(y ~ pathology, data = cancer_data, family = binomial)\n",
    "summary(model7)\n",
    "Anova(model7)"
   ]
  },
  {
   "cell_type": "markdown",
   "metadata": {},
   "source": [
    "하나의 예측변수만 사용한 예측모형을 적합하고, Anova 함수를 사용해 각 변수의 p값을 구하면 각각 0.0010, 0.0153, 0.0186 이다. 따라서, 모든 예측변수는 다 유의한 효과가 있다고 볼 수 있다."
   ]
  },
  {
   "cell_type": "markdown",
   "metadata": {},
   "source": [
    "[2] 세 개의 모든 예측변수를 포함하는 주효과 로지스틱 회귀모형 적합"
   ]
  },
  {
   "cell_type": "code",
   "execution_count": 57,
   "metadata": {
    "vscode": {
     "languageId": "r"
    }
   },
   "outputs": [
    {
     "data": {
      "text/plain": [
       "\n",
       "Call:\n",
       "glm(formula = y ~ lymph + gender + pathology, family = binomial, \n",
       "    data = cancer_data)\n",
       "\n",
       "Coefficients:\n",
       "              Estimate Std. Error z value Pr(>|z|)  \n",
       "(Intercept)    23.4920 11084.3781   0.002   0.9983  \n",
       "lymphlo       -21.3842 11084.3781  -0.002   0.9985  \n",
       "genderm        -1.6362     0.9123  -1.794   0.0729 .\n",
       "pathologyy     -1.2204     0.7712  -1.582   0.1135  \n",
       "---\n",
       "Signif. codes:  0 '***' 0.001 '**' 0.01 '*' 0.05 '.' 0.1 ' ' 1\n",
       "\n",
       "(Dispersion parameter for binomial family taken to be 1)\n",
       "\n",
       "    Null deviance: 19.4327  on 7  degrees of freedom\n",
       "Residual deviance:  1.6278  on 4  degrees of freedom\n",
       "AIC: 17.673\n",
       "\n",
       "Number of Fisher Scoring iterations: 20\n"
      ]
     },
     "metadata": {},
     "output_type": "display_data"
    },
    {
     "data": {
      "text/html": [
       "<table class=\"dataframe\">\n",
       "<caption>A anova: 3 × 3</caption>\n",
       "<thead>\n",
       "\t<tr><th></th><th scope=col>LR Chisq</th><th scope=col>Df</th><th scope=col>Pr(&gt;Chisq)</th></tr>\n",
       "\t<tr><th></th><th scope=col>&lt;dbl&gt;</th><th scope=col>&lt;dbl&gt;</th><th scope=col>&lt;dbl&gt;</th></tr>\n",
       "</thead>\n",
       "<tbody>\n",
       "\t<tr><th scope=row>lymph</th><td>6.914923</td><td>1</td><td>0.008547933</td></tr>\n",
       "\t<tr><th scope=row>gender</th><td>3.721050</td><td>1</td><td>0.053730583</td></tr>\n",
       "\t<tr><th scope=row>pathology</th><td>2.636225</td><td>1</td><td>0.104451446</td></tr>\n",
       "</tbody>\n",
       "</table>\n"
      ],
      "text/latex": [
       "A anova: 3 × 3\n",
       "\\begin{tabular}{r|lll}\n",
       "  & LR Chisq & Df & Pr(>Chisq)\\\\\n",
       "  & <dbl> & <dbl> & <dbl>\\\\\n",
       "\\hline\n",
       "\tlymph & 6.914923 & 1 & 0.008547933\\\\\n",
       "\tgender & 3.721050 & 1 & 0.053730583\\\\\n",
       "\tpathology & 2.636225 & 1 & 0.104451446\\\\\n",
       "\\end{tabular}\n"
      ],
      "text/markdown": [
       "\n",
       "A anova: 3 × 3\n",
       "\n",
       "| <!--/--> | LR Chisq &lt;dbl&gt; | Df &lt;dbl&gt; | Pr(&gt;Chisq) &lt;dbl&gt; |\n",
       "|---|---|---|---|\n",
       "| lymph | 6.914923 | 1 | 0.008547933 |\n",
       "| gender | 3.721050 | 1 | 0.053730583 |\n",
       "| pathology | 2.636225 | 1 | 0.104451446 |\n",
       "\n"
      ],
      "text/plain": [
       "          LR Chisq Df Pr(>Chisq) \n",
       "lymph     6.914923 1  0.008547933\n",
       "gender    3.721050 1  0.053730583\n",
       "pathology 2.636225 1  0.104451446"
      ]
     },
     "metadata": {},
     "output_type": "display_data"
    }
   ],
   "source": [
    "# 모든 예측변수를 포함한 로지스틱 회귀 모형 적합\n",
    "model8 <- glm(y ~ lymph + gender + pathology, data = cancer_data, family = binomial)\n",
    "\n",
    "# 모형 요약 출력\n",
    "summary(model8)\n",
    "\n",
    "# ANOVA 검정 (이 경우에는 혼합 모형의 성능 평가를 위해)\n",
    "Anova(model8)"
   ]
  },
  {
   "cell_type": "markdown",
   "metadata": {},
   "source": [
    "세 개의 모든 예측변수를 포함하는 주효과 로지스틱 회귀모형 예측식은 다음과 같다.  \n",
    "<img src=\"https://latex.codecogs.com/svg.image?logit[P(Y=1)]=log(\\frac{\\pi}{1-\\pi})=23.492-21.3842\\times lymph-1.6362\\times gender-1.2204\\times pathology\">\n",
    "\n",
    "Anova 함수로 각 예측변수의 유의성을 검정하면 5% 수준에서 lymph는 유의하고, gender와 pathology는 유의하지 않은 것으로 나타난다."
   ]
  },
  {
   "cell_type": "markdown",
   "metadata": {},
   "source": [
    "[3] 림프구 침윤의 효과에 대한 ML 추정값이 무한대인 이유\n",
    "\n",
    "데이터를 살펴보면 림프구 침윤효과가 높을 때 모든 사례에서 무병기간이 관측된 것으로 나타난다. 즉 완전 분리가 발생했다고 할 수 있는데, 예측변수 값에 따라서 반응변수가 완전히 달라지는 패턴인 경우에는 로지스틱 회귀모형이 추정계수가 무한대로 발산하게 된다.\n",
    "\n",
    "실제로 모형의 요약 데이터를 보면 lymphlo의 추정계수: -21.3842, 표준오차: 11084, p값: 0.9985 로 이러한 결과를 뒷받침하는 것을 확인할 수 있다."
   ]
  },
  {
   "cell_type": "markdown",
   "metadata": {},
   "source": [
    "#### b. Firth의 벌점화 로지스틱 회귀모형이나 베이지안 추론을 사용하여 주효과 모형을 적합시켜 결과를 구하고 해석하라."
   ]
  },
  {
   "cell_type": "code",
   "execution_count": 58,
   "metadata": {
    "vscode": {
     "languageId": "r"
    }
   },
   "outputs": [
    {
     "data": {
      "text/plain": [
       "\n",
       "Call:\n",
       "brglm(formula = y ~ lymph + gender + pathology, family = binomial(link = \"logit\"), \n",
       "    data = cancer_data)\n",
       "\n",
       "\n",
       "Coefficients:\n",
       "            Estimate Std. Error z value Pr(>|z|)   \n",
       "(Intercept)   4.2905     1.6633   2.580  0.00989 **\n",
       "lymphlo      -2.4611     1.5525  -1.585  0.11291   \n",
       "genderm      -1.4153     0.8441  -1.677  0.09361 . \n",
       "pathologyy   -1.1039     0.7316  -1.509  0.13131   \n",
       "---\n",
       "Signif. codes:  0 '***' 0.001 '**' 0.01 '*' 0.05 '.' 0.1 ' ' 1\n",
       "\n",
       "(Dispersion parameter for binomial family taken to be 1)\n",
       "\n",
       "    Null deviance: 15.5847  on 7  degrees of freedom\n",
       "Residual deviance:  2.7125  on 4  degrees of freedom\n",
       "Penalized deviance: 0.53048 \n",
       "AIC:  18.758 \n"
      ]
     },
     "metadata": {},
     "output_type": "display_data"
    }
   ],
   "source": [
    "# 패키지 설치 및 로드\n",
    "library(brglm)\n",
    "\n",
    "# Firth의 벌점화 로지스틱 회귀 모형 적합\n",
    "model_firth <- brglm(y ~ lymph + gender + pathology, data = cancer_data, family = binomial(link = \"logit\"))\n",
    "\n",
    "# 결과 요약\n",
    "summary(model_firth)"
   ]
  },
  {
   "cell_type": "code",
   "execution_count": 59,
   "metadata": {
    "vscode": {
     "languageId": "r"
    }
   },
   "outputs": [
    {
     "name": "stdout",
     "output_type": "stream",
     "text": [
      "\n",
      "SAMPLING FOR MODEL 'binomial' NOW (CHAIN 1).\n",
      "Chain 1: \n",
      "Chain 1: Gradient evaluation took 1.7e-05 seconds\n",
      "Chain 1: 1000 transitions using 10 leapfrog steps per transition would take 0.17 seconds.\n",
      "Chain 1: Adjust your expectations accordingly!\n",
      "Chain 1: \n",
      "Chain 1: \n",
      "Chain 1: Iteration:    1 / 2000 [  0%]  (Warmup)\n",
      "Chain 1: Iteration:  200 / 2000 [ 10%]  (Warmup)\n",
      "Chain 1: Iteration:  400 / 2000 [ 20%]  (Warmup)\n",
      "Chain 1: Iteration:  600 / 2000 [ 30%]  (Warmup)\n",
      "Chain 1: Iteration:  800 / 2000 [ 40%]  (Warmup)\n",
      "Chain 1: Iteration: 1000 / 2000 [ 50%]  (Warmup)\n",
      "Chain 1: Iteration: 1001 / 2000 [ 50%]  (Sampling)\n",
      "Chain 1: Iteration: 1200 / 2000 [ 60%]  (Sampling)\n",
      "Chain 1: Iteration: 1400 / 2000 [ 70%]  (Sampling)\n",
      "Chain 1: Iteration: 1600 / 2000 [ 80%]  (Sampling)\n",
      "Chain 1: Iteration: 1800 / 2000 [ 90%]  (Sampling)\n",
      "Chain 1: Iteration: 2000 / 2000 [100%]  (Sampling)\n",
      "Chain 1: \n",
      "Chain 1:  Elapsed Time: 0.105 seconds (Warm-up)\n",
      "Chain 1:                0.096 seconds (Sampling)\n",
      "Chain 1:                0.201 seconds (Total)\n",
      "Chain 1: \n",
      "\n",
      "SAMPLING FOR MODEL 'binomial' NOW (CHAIN 2).\n",
      "Chain 2: \n",
      "Chain 2: Gradient evaluation took 1e-05 seconds\n",
      "Chain 2: 1000 transitions using 10 leapfrog steps per transition would take 0.1 seconds.\n",
      "Chain 2: Adjust your expectations accordingly!\n",
      "Chain 2: \n",
      "Chain 2: \n",
      "Chain 2: Iteration:    1 / 2000 [  0%]  (Warmup)\n",
      "Chain 2: Iteration:  200 / 2000 [ 10%]  (Warmup)\n",
      "Chain 2: Iteration:  400 / 2000 [ 20%]  (Warmup)\n",
      "Chain 2: Iteration:  600 / 2000 [ 30%]  (Warmup)\n",
      "Chain 2: Iteration:  800 / 2000 [ 40%]  (Warmup)\n",
      "Chain 2: Iteration: 1000 / 2000 [ 50%]  (Warmup)\n",
      "Chain 2: Iteration: 1001 / 2000 [ 50%]  (Sampling)\n",
      "Chain 2: Iteration: 1200 / 2000 [ 60%]  (Sampling)\n",
      "Chain 2: Iteration: 1400 / 2000 [ 70%]  (Sampling)\n",
      "Chain 2: Iteration: 1600 / 2000 [ 80%]  (Sampling)\n",
      "Chain 2: Iteration: 1800 / 2000 [ 90%]  (Sampling)\n",
      "Chain 2: Iteration: 2000 / 2000 [100%]  (Sampling)\n",
      "Chain 2: \n",
      "Chain 2:  Elapsed Time: 0.118 seconds (Warm-up)\n",
      "Chain 2:                0.127 seconds (Sampling)\n",
      "Chain 2:                0.245 seconds (Total)\n",
      "Chain 2: \n",
      "\n",
      "SAMPLING FOR MODEL 'binomial' NOW (CHAIN 3).\n",
      "Chain 3: \n",
      "Chain 3: Gradient evaluation took 1e-05 seconds\n",
      "Chain 3: 1000 transitions using 10 leapfrog steps per transition would take 0.1 seconds.\n",
      "Chain 3: Adjust your expectations accordingly!\n",
      "Chain 3: \n",
      "Chain 3: \n",
      "Chain 3: Iteration:    1 / 2000 [  0%]  (Warmup)\n",
      "Chain 3: Iteration:  200 / 2000 [ 10%]  (Warmup)\n",
      "Chain 3: Iteration:  400 / 2000 [ 20%]  (Warmup)\n",
      "Chain 3: Iteration:  600 / 2000 [ 30%]  (Warmup)\n",
      "Chain 3: Iteration:  800 / 2000 [ 40%]  (Warmup)\n",
      "Chain 3: Iteration: 1000 / 2000 [ 50%]  (Warmup)\n",
      "Chain 3: Iteration: 1001 / 2000 [ 50%]  (Sampling)\n",
      "Chain 3: Iteration: 1200 / 2000 [ 60%]  (Sampling)\n",
      "Chain 3: Iteration: 1400 / 2000 [ 70%]  (Sampling)\n",
      "Chain 3: Iteration: 1600 / 2000 [ 80%]  (Sampling)\n",
      "Chain 3: Iteration: 1800 / 2000 [ 90%]  (Sampling)\n",
      "Chain 3: Iteration: 2000 / 2000 [100%]  (Sampling)\n",
      "Chain 3: \n",
      "Chain 3:  Elapsed Time: 0.132 seconds (Warm-up)\n",
      "Chain 3:                0.135 seconds (Sampling)\n",
      "Chain 3:                0.267 seconds (Total)\n",
      "Chain 3: \n",
      "\n",
      "SAMPLING FOR MODEL 'binomial' NOW (CHAIN 4).\n",
      "Chain 4: \n",
      "Chain 4: Gradient evaluation took 1e-05 seconds\n",
      "Chain 4: 1000 transitions using 10 leapfrog steps per transition would take 0.1 seconds.\n",
      "Chain 4: Adjust your expectations accordingly!\n",
      "Chain 4: \n",
      "Chain 4: \n",
      "Chain 4: Iteration:    1 / 2000 [  0%]  (Warmup)\n",
      "Chain 4: Iteration:  200 / 2000 [ 10%]  (Warmup)\n",
      "Chain 4: Iteration:  400 / 2000 [ 20%]  (Warmup)\n",
      "Chain 4: Iteration:  600 / 2000 [ 30%]  (Warmup)\n",
      "Chain 4: Iteration:  800 / 2000 [ 40%]  (Warmup)\n",
      "Chain 4: Iteration: 1000 / 2000 [ 50%]  (Warmup)\n",
      "Chain 4: Iteration: 1001 / 2000 [ 50%]  (Sampling)\n",
      "Chain 4: Iteration: 1200 / 2000 [ 60%]  (Sampling)\n",
      "Chain 4: Iteration: 1400 / 2000 [ 70%]  (Sampling)\n",
      "Chain 4: Iteration: 1600 / 2000 [ 80%]  (Sampling)\n",
      "Chain 4: Iteration: 1800 / 2000 [ 90%]  (Sampling)\n",
      "Chain 4: Iteration: 2000 / 2000 [100%]  (Sampling)\n",
      "Chain 4: \n",
      "Chain 4:  Elapsed Time: 0.128 seconds (Warm-up)\n",
      "Chain 4:                0.13 seconds (Sampling)\n",
      "Chain 4:                0.258 seconds (Total)\n",
      "Chain 4: \n"
     ]
    },
    {
     "data": {
      "text/plain": [
       "\n",
       "Model Info:\n",
       " function:     stan_glm\n",
       " family:       binomial [logit]\n",
       " formula:      y ~ lymph + gender + pathology\n",
       " algorithm:    sampling\n",
       " sample:       4000 (posterior sample size)\n",
       " priors:       see help('prior_summary')\n",
       " observations: 8\n",
       " predictors:   4\n",
       "\n",
       "Estimates:\n",
       "              mean   sd   10%   50%   90%\n",
       "(Intercept)  7.0    2.7  4.0   6.6  10.6 \n",
       "lymphlo     -4.8    2.6 -8.4  -4.4  -1.8 \n",
       "genderm     -1.7    1.0 -3.0  -1.7  -0.5 \n",
       "pathologyy  -1.3    0.8 -2.3  -1.3  -0.3 \n",
       "\n",
       "Fit Diagnostics:\n",
       "           mean   sd   10%   50%   90%\n",
       "mean_PPD 3.6    0.5  3.0   3.6   4.1  \n",
       "\n",
       "The mean_ppd is the sample average posterior predictive distribution of the outcome variable (for details see help('summary.stanreg')).\n",
       "\n",
       "MCMC diagnostics\n",
       "              mcse Rhat n_eff\n",
       "(Intercept)   0.1  1.0  1027 \n",
       "lymphlo       0.1  1.0  1044 \n",
       "genderm       0.0  1.0  2353 \n",
       "pathologyy    0.0  1.0  2263 \n",
       "mean_PPD      0.0  1.0  3840 \n",
       "log-posterior 0.0  1.0  1187 \n",
       "\n",
       "For each parameter, mcse is Monte Carlo standard error, n_eff is a crude measure of effective sample size, and Rhat is the potential scale reduction factor on split chains (at convergence Rhat=1)."
      ]
     },
     "metadata": {},
     "output_type": "display_data"
    }
   ],
   "source": [
    "# rstanarm 패키지 설치 및 로드\n",
    "library(rstanarm)\n",
    "\n",
    "# 베이지안 로지스틱 회귀 모델 적합\n",
    "model_bayes <- stan_glm(y ~ lymph + gender + pathology, data = cancer_data, family = binomial, prior = normal(0, 10), chains = 4, iter = 2000)\n",
    "\n",
    "# 요약 결과 출력\n",
    "summary(model_bayes)\n"
   ]
  },
  {
   "cell_type": "markdown",
   "metadata": {},
   "source": [
    "적합된 모형은 다음과 같다.\n",
    "\n",
    "Firth의 벌점화 로지스틱 회귀모형\n",
    "<img src=\"https://latex.codecogs.com/svg.image?logit[P(Y=1)]=log(\\frac{\\pi}{1-\\pi})=4.2905-2.4611\\times lymph-1.4153\\times gender-1.1039\\times pathology\">\n",
    "\n",
    "베이지안 로지스틱 회귀모형\n",
    "<img src=\"https://latex.codecogs.com/svg.image?logit[P(Y=1)]=log(\\frac{\\pi}{1-\\pi})=6.7-4.5\\times lymph-1.7\\times gender-1.3\\times pathology\">\n",
    "\n",
    "두 모형 모두 lymph가 '높음'일 때보다 '낮음'일 때, gender가 '여성'일 때보다 '남성'일 때, 골형성 병리가 '없음'일 때보다 '있음'일 때 무병기간이 발견될 오즈가 높다.\n",
    "\n",
    "즉, 림프구 침윤이 높고, 여성이고, 골형성 병리가 없을 때 무병기간이 관측될 오즈가 높다."
   ]
  }
 ],
 "metadata": {
  "kernelspec": {
   "display_name": "R",
   "language": "R",
   "name": "ir"
  },
  "language_info": {
   "codemirror_mode": "r",
   "file_extension": ".r",
   "mimetype": "text/x-r-source",
   "name": "R",
   "pygments_lexer": "r",
   "version": "4.3.2"
  }
 },
 "nbformat": 4,
 "nbformat_minor": 2
}
