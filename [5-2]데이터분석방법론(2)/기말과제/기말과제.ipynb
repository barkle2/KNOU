{
 "cells": [
  {
   "cell_type": "markdown",
   "metadata": {},
   "source": [
    "## 데이터분석방법론(2) 기말과제\n",
    "\n",
    "- 이 과목에서 배운 분석방법론(로지스틱회귀모형, 일반화선형모형, 로그선형모형, 혼합선형모형 등)을 이용하여 실제 데이터를 분석해 그 결과를 발표함"
   ]
  },
  {
   "cell_type": "markdown",
   "metadata": {},
   "source": [
    "### 1. 데이터 찾기\n",
    "\n",
    "#### (1) 관심 데이터: 한국고용정보원 취업현황 자료\n",
    "- 고용노동부에서 운영중인 고용노동데이터 분석시스템(eis.work.go.kr/elds)에서는 다양한 고용노동 관련 데이터를 공개하고 있으며,   \n",
    "그 중에서 취업현황_시군구(월) 자료를 내려받았다.\n",
    "\n",
    "- 이 데이터는 2017년부터 2023년까지 유형별로 매월 취업건수가 몇 명인지 기록되어 있다.\n",
    "  - 컬럼은 마감년월|근무시도|근무시군구|표준산업대분류|산업버전|직종중분류|직종버전|고용형태|거주시도|거주시군구|성별|연령5세단위|학력|취업건수 으로 구분된다."
   ]
  },
  {
   "cell_type": "markdown",
   "metadata": {},
   "source": [
    "#### (2) 데이터 읽기\n",
    "\n",
    "- R을 사용하여 데이터를 분석하기 위해서 저장된 데이터를 dataframe 변수에 입력한다."
   ]
  },
  {
   "cell_type": "code",
   "execution_count": 2,
   "metadata": {
    "vscode": {
     "languageId": "r"
    }
   },
   "outputs": [],
   "source": [
    "# ggplot2 패키지 로드\n",
    "library(ggplot2)"
   ]
  },
  {
   "cell_type": "code",
   "execution_count": 3,
   "metadata": {
    "vscode": {
     "languageId": "r"
    }
   },
   "outputs": [],
   "source": [
    "# 취업건수 파일 이름 리스트 작성\n",
    "file_names <- c(  \n",
    "  \"job_matching_2017.txt\",\n",
    "  \"job_matching_2018.txt\",\n",
    "  \"job_matching_2019.txt\",\n",
    "  \"job_matching_2020.txt\",\n",
    "  \"job_matching_2021.txt\",\n",
    "  \"job_matching_2022.txt\",\n",
    "  \"job_matching_2023.txt\"\n",
    ")\n",
    "\n",
    "# 파일을 하나씩 읽어서 병합\n",
    "jm <- do.call(rbind, lapply(file_names, function(file) {\n",
    "  read.table(file, header = TRUE, sep = \"|\", stringsAsFactors = FALSE)\n",
    "}))"
   ]
  },
  {
   "cell_type": "code",
   "execution_count": 4,
   "metadata": {
    "vscode": {
     "languageId": "r"
    }
   },
   "outputs": [
    {
     "data": {
      "text/html": [
       "<table class=\"dataframe\">\n",
       "<caption>A data.frame: 6 × 14</caption>\n",
       "<thead>\n",
       "\t<tr><th></th><th scope=col>마감년월</th><th scope=col>근무시도</th><th scope=col>근무시군구</th><th scope=col>표준산업대분류</th><th scope=col>산업버전</th><th scope=col>직종중분류</th><th scope=col>직종버전</th><th scope=col>고용형태</th><th scope=col>거주시도</th><th scope=col>거주시군구</th><th scope=col>성별</th><th scope=col>연령5세단위</th><th scope=col>학력</th><th scope=col>취업건수</th></tr>\n",
       "\t<tr><th></th><th scope=col>&lt;int&gt;</th><th scope=col>&lt;chr&gt;</th><th scope=col>&lt;chr&gt;</th><th scope=col>&lt;chr&gt;</th><th scope=col>&lt;chr&gt;</th><th scope=col>&lt;chr&gt;</th><th scope=col>&lt;int&gt;</th><th scope=col>&lt;int&gt;</th><th scope=col>&lt;chr&gt;</th><th scope=col>&lt;chr&gt;</th><th scope=col>&lt;chr&gt;</th><th scope=col>&lt;int&gt;</th><th scope=col>&lt;chr&gt;</th><th scope=col>&lt;int&gt;</th></tr>\n",
       "</thead>\n",
       "<tbody>\n",
       "\t<tr><th scope=row>1</th><td>201712</td><td>26</td><td>26000</td><td>y</td><td>y </td><td>110000</td><td>2007</td><td>10</td><td>26</td><td>26200</td><td>M</td><td>10</td><td>3</td><td>2</td></tr>\n",
       "\t<tr><th scope=row>2</th><td>201712</td><td>26</td><td>26320</td><td>y</td><td>y </td><td>220000</td><td>2007</td><td>99</td><td>26</td><td>26320</td><td>M</td><td>10</td><td>3</td><td>1</td></tr>\n",
       "\t<tr><th scope=row>3</th><td>201712</td><td>41</td><td>41130</td><td>y</td><td>y </td><td>110000</td><td>2007</td><td>10</td><td>41</td><td>41610</td><td>M</td><td>11</td><td>3</td><td>1</td></tr>\n",
       "\t<tr><th scope=row>4</th><td>201712</td><td>42</td><td>42810</td><td>y</td><td>y </td><td>230000</td><td>2007</td><td>20</td><td>42</td><td>42810</td><td>M</td><td> 7</td><td>3</td><td>1</td></tr>\n",
       "\t<tr><th scope=row>5</th><td>201712</td><td>43</td><td>43113</td><td>S</td><td>10</td><td>120000</td><td>2007</td><td>10</td><td>43</td><td>43114</td><td>F</td><td> 3</td><td>5</td><td>1</td></tr>\n",
       "\t<tr><th scope=row>6</th><td>201712</td><td>11</td><td>11380</td><td>y</td><td>y </td><td>110000</td><td>2007</td><td>10</td><td>11</td><td>11380</td><td>F</td><td> 3</td><td>4</td><td>1</td></tr>\n",
       "</tbody>\n",
       "</table>\n"
      ],
      "text/latex": [
       "A data.frame: 6 × 14\n",
       "\\begin{tabular}{r|llllllllllllll}\n",
       "  & 마감년월 & 근무시도 & 근무시군구 & 표준산업대분류 & 산업버전 & 직종중분류 & 직종버전 & 고용형태 & 거주시도 & 거주시군구 & 성별 & 연령5세단위 & 학력 & 취업건수\\\\\n",
       "  & <int> & <chr> & <chr> & <chr> & <chr> & <chr> & <int> & <int> & <chr> & <chr> & <chr> & <int> & <chr> & <int>\\\\\n",
       "\\hline\n",
       "\t1 & 201712 & 26 & 26000 & y & y  & 110000 & 2007 & 10 & 26 & 26200 & M & 10 & 3 & 2\\\\\n",
       "\t2 & 201712 & 26 & 26320 & y & y  & 220000 & 2007 & 99 & 26 & 26320 & M & 10 & 3 & 1\\\\\n",
       "\t3 & 201712 & 41 & 41130 & y & y  & 110000 & 2007 & 10 & 41 & 41610 & M & 11 & 3 & 1\\\\\n",
       "\t4 & 201712 & 42 & 42810 & y & y  & 230000 & 2007 & 20 & 42 & 42810 & M &  7 & 3 & 1\\\\\n",
       "\t5 & 201712 & 43 & 43113 & S & 10 & 120000 & 2007 & 10 & 43 & 43114 & F &  3 & 5 & 1\\\\\n",
       "\t6 & 201712 & 11 & 11380 & y & y  & 110000 & 2007 & 10 & 11 & 11380 & F &  3 & 4 & 1\\\\\n",
       "\\end{tabular}\n"
      ],
      "text/markdown": [
       "\n",
       "A data.frame: 6 × 14\n",
       "\n",
       "| <!--/--> | 마감년월 &lt;int&gt; | 근무시도 &lt;chr&gt; | 근무시군구 &lt;chr&gt; | 표준산업대분류 &lt;chr&gt; | 산업버전 &lt;chr&gt; | 직종중분류 &lt;chr&gt; | 직종버전 &lt;int&gt; | 고용형태 &lt;int&gt; | 거주시도 &lt;chr&gt; | 거주시군구 &lt;chr&gt; | 성별 &lt;chr&gt; | 연령5세단위 &lt;int&gt; | 학력 &lt;chr&gt; | 취업건수 &lt;int&gt; |\n",
       "|---|---|---|---|---|---|---|---|---|---|---|---|---|---|---|\n",
       "| 1 | 201712 | 26 | 26000 | y | y  | 110000 | 2007 | 10 | 26 | 26200 | M | 10 | 3 | 2 |\n",
       "| 2 | 201712 | 26 | 26320 | y | y  | 220000 | 2007 | 99 | 26 | 26320 | M | 10 | 3 | 1 |\n",
       "| 3 | 201712 | 41 | 41130 | y | y  | 110000 | 2007 | 10 | 41 | 41610 | M | 11 | 3 | 1 |\n",
       "| 4 | 201712 | 42 | 42810 | y | y  | 230000 | 2007 | 20 | 42 | 42810 | M |  7 | 3 | 1 |\n",
       "| 5 | 201712 | 43 | 43113 | S | 10 | 120000 | 2007 | 10 | 43 | 43114 | F |  3 | 5 | 1 |\n",
       "| 6 | 201712 | 11 | 11380 | y | y  | 110000 | 2007 | 10 | 11 | 11380 | F |  3 | 4 | 1 |\n",
       "\n"
      ],
      "text/plain": [
       "  마감년월 근무시도 근무시군구 표준산업대분류 산업버전 직종중분류 직종버전\n",
       "1 201712   26       26000      y              y        110000     2007    \n",
       "2 201712   26       26320      y              y        220000     2007    \n",
       "3 201712   41       41130      y              y        110000     2007    \n",
       "4 201712   42       42810      y              y        230000     2007    \n",
       "5 201712   43       43113      S              10       120000     2007    \n",
       "6 201712   11       11380      y              y        110000     2007    \n",
       "  고용형태 거주시도 거주시군구 성별 연령5세단위 학력 취업건수\n",
       "1 10       26       26200      M    10          3    2       \n",
       "2 99       26       26320      M    10          3    1       \n",
       "3 10       41       41610      M    11          3    1       \n",
       "4 20       42       42810      M     7          3    1       \n",
       "5 10       43       43114      F     3          5    1       \n",
       "6 10       11       11380      F     3          4    1       "
      ]
     },
     "metadata": {},
     "output_type": "display_data"
    },
    {
     "data": {
      "text/html": [
       "9412398"
      ],
      "text/latex": [
       "9412398"
      ],
      "text/markdown": [
       "9412398"
      ],
      "text/plain": [
       "[1] 9412398"
      ]
     },
     "metadata": {},
     "output_type": "display_data"
    }
   ],
   "source": [
    "# 취업건수 자료 읽기 결과 확인\n",
    "head(jm)\n",
    "nrow(jm) # 941만줄의 데이터가 존재한다."
   ]
  },
  {
   "cell_type": "markdown",
   "metadata": {},
   "source": [
    "#### (3) 데이터 분석"
   ]
  },
  {
   "cell_type": "code",
   "execution_count": 5,
   "metadata": {
    "vscode": {
     "languageId": "r"
    }
   },
   "outputs": [
    {
     "data": {
      "text/html": [
       "9412398"
      ],
      "text/latex": [
       "9412398"
      ],
      "text/markdown": [
       "9412398"
      ],
      "text/plain": [
       "[1] 9412398"
      ]
     },
     "metadata": {},
     "output_type": "display_data"
    },
    {
     "data": {
      "text/html": [
       "<style>\n",
       ".dl-inline {width: auto; margin:0; padding: 0}\n",
       ".dl-inline>dt, .dl-inline>dd {float: none; width: auto; display: inline-block}\n",
       ".dl-inline>dt::after {content: \":\\0020\"; padding-right: .5ex}\n",
       ".dl-inline>dt:not(:first-of-type) {padding-left: .5ex}\n",
       "</style><dl class=dl-inline><dt>마감년월</dt><dd>84</dd><dt>근무시도</dt><dd>21</dd><dt>근무시군구</dt><dd>303</dd><dt>표준산업대분류</dt><dd>22</dd><dt>산업버전</dt><dd>3</dd><dt>직종중분류</dt><dd>51</dd><dt>직종버전</dt><dd>2</dd><dt>고용형태</dt><dd>6</dd><dt>거주시도</dt><dd>19</dd><dt>거주시군구</dt><dd>280</dd><dt>성별</dt><dd>2</dd><dt>연령5세단위</dt><dd>10</dd><dt>학력</dt><dd>5</dd><dt>취업건수</dt><dd>371</dd></dl>\n"
      ],
      "text/latex": [
       "\\begin{description*}\n",
       "\\item[마감년월] 84\n",
       "\\item[근무시도] 21\n",
       "\\item[근무시군구] 303\n",
       "\\item[표준산업대분류] 22\n",
       "\\item[산업버전] 3\n",
       "\\item[직종중분류] 51\n",
       "\\item[직종버전] 2\n",
       "\\item[고용형태] 6\n",
       "\\item[거주시도] 19\n",
       "\\item[거주시군구] 280\n",
       "\\item[성별] 2\n",
       "\\item[연령5세단위] 10\n",
       "\\item[학력] 5\n",
       "\\item[취업건수] 371\n",
       "\\end{description*}\n"
      ],
      "text/markdown": [
       "마감년월\n",
       ":   84근무시도\n",
       ":   21근무시군구\n",
       ":   303표준산업대분류\n",
       ":   22산업버전\n",
       ":   3직종중분류\n",
       ":   51직종버전\n",
       ":   2고용형태\n",
       ":   6거주시도\n",
       ":   19거주시군구\n",
       ":   280성별\n",
       ":   2연령5세단위\n",
       ":   10학력\n",
       ":   5취업건수\n",
       ":   371\n",
       "\n"
      ],
      "text/plain": [
       "      마감년월       근무시도     근무시군구 표준산업대분류       산업버전 \n",
       "            84             21            303             22              3 \n",
       "    직종중분류       직종버전       고용형태       거주시도     거주시군구 \n",
       "            51              2              6             19            280 \n",
       "          성별    연령5세단위           학력       취업건수 \n",
       "             2             10              5            371 "
      ]
     },
     "metadata": {},
     "output_type": "display_data"
    }
   ],
   "source": [
    "# 전체 데이터 수\n",
    "nrow(jm)\n",
    "\n",
    "# 컬럼별 고유값의 개수\n",
    "sapply(jm, function(x) length(unique(x)))"
   ]
  },
  {
   "cell_type": "code",
   "execution_count": 6,
   "metadata": {
    "vscode": {
     "languageId": "r"
    }
   },
   "outputs": [
    {
     "data": {
      "text/plain": [
       "\n",
       "      1       2       3       4       5       6       7       8       9      10 \n",
       "8533899  586743  130944   53152   24083   12300    8600    8326    6346    4045 \n",
       "     11      12      13      14      15      16      17      18      19      20 \n",
       "   3163    3326    3052    2203    1831    1923    1834    1833    1838    2001 \n",
       "     21      22      23      24      25      26      27      28      29      30 \n",
       "   1914    1628     984     832     751     764     604     580     501     514 \n",
       "     31      32      33      34      35      36      37      38      39      40 \n",
       "    406     368     318     327     365     335     303     351     277     323 \n",
       "     41      42      43      44      45      46      47      48      49      50 \n",
       "    225     254     207     232     201     205     144     176     149     139 "
      ]
     },
     "metadata": {},
     "output_type": "display_data"
    }
   ],
   "source": [
    "# 취업건수 데이터 분포가 어떤지 알아보자\n",
    "head(table(jm$취업건수), 50)"
   ]
  },
  {
   "cell_type": "markdown",
   "metadata": {},
   "source": [
    "전체 데이터는 941만행인데, 데이터가 지나치게 세분화되어 있다고 판단된다. 취업건수=1인 데이터가 너무 많은 것을 보면 이를 확인할 수 있다.  \n",
    "이것은 유형이 너무 세분화되어 있기 때문이므로 분석 필요성이 크지 않은 근무시군구, 거주시군구는 자료에서 제외한다.  \n",
    "근무시군구와 거주시군구를 제외하고 다시 데이터를 만든다."
   ]
  },
  {
   "cell_type": "code",
   "execution_count": 10,
   "metadata": {
    "vscode": {
     "languageId": "r"
    }
   },
   "outputs": [
    {
     "data": {
      "text/html": [
       "1.29674977619943"
      ],
      "text/latex": [
       "1.29674977619943"
      ],
      "text/markdown": [
       "1.29674977619943"
      ],
      "text/plain": [
       "[1] 1.29675"
      ]
     },
     "metadata": {},
     "output_type": "display_data"
    },
    {
     "data": {
      "text/html": [
       "12.6743363234529"
      ],
      "text/latex": [
       "12.6743363234529"
      ],
      "text/markdown": [
       "12.6743363234529"
      ],
      "text/plain": [
       "[1] 12.67434"
      ]
     },
     "metadata": {},
     "output_type": "display_data"
    }
   ],
   "source": [
    "# 포아송 분포의 특징: mean = var\n",
    "mean(jm$취업건수)\n",
    "var(jm$취업건수)"
   ]
  },
  {
   "cell_type": "code",
   "execution_count": 7,
   "metadata": {
    "vscode": {
     "languageId": "r"
    }
   },
   "outputs": [],
   "source": [
    "# 근무시군구, 거주시군구 제외한 데이터 생성\n",
    "jm2 = aggregate(취업건수 ~ 마감년월+근무시도+표준산업대분류+산업버전+직종중분류+직종버전+고용형태+성별+연령5세단위+학력, data=jm, sum)"
   ]
  },
  {
   "cell_type": "code",
   "execution_count": 105,
   "metadata": {
    "vscode": {
     "languageId": "r"
    }
   },
   "outputs": [
    {
     "data": {
      "text/html": [
       "2930428"
      ],
      "text/latex": [
       "2930428"
      ],
      "text/markdown": [
       "2930428"
      ],
      "text/plain": [
       "[1] 2930428"
      ]
     },
     "metadata": {},
     "output_type": "display_data"
    },
    {
     "data": {
      "text/html": [
       "<style>\n",
       ".dl-inline {width: auto; margin:0; padding: 0}\n",
       ".dl-inline>dt, .dl-inline>dd {float: none; width: auto; display: inline-block}\n",
       ".dl-inline>dt::after {content: \":\\0020\"; padding-right: .5ex}\n",
       ".dl-inline>dt:not(:first-of-type) {padding-left: .5ex}\n",
       "</style><dl class=dl-inline><dt>마감년월</dt><dd>84</dd><dt>근무시도</dt><dd>21</dd><dt>표준산업대분류</dt><dd>22</dd><dt>산업버전</dt><dd>3</dd><dt>직종중분류</dt><dd>51</dd><dt>직종버전</dt><dd>2</dd><dt>고용형태</dt><dd>6</dd><dt>성별</dt><dd>2</dd><dt>연령5세단위</dt><dd>10</dd><dt>학력</dt><dd>5</dd><dt>취업건수</dt><dd>851</dd><dt>log_취업건수</dt><dd>848</dd></dl>\n"
      ],
      "text/latex": [
       "\\begin{description*}\n",
       "\\item[마감년월] 84\n",
       "\\item[근무시도] 21\n",
       "\\item[표준산업대분류] 22\n",
       "\\item[산업버전] 3\n",
       "\\item[직종중분류] 51\n",
       "\\item[직종버전] 2\n",
       "\\item[고용형태] 6\n",
       "\\item[성별] 2\n",
       "\\item[연령5세단위] 10\n",
       "\\item[학력] 5\n",
       "\\item[취업건수] 851\n",
       "\\item[log\\textbackslash{}\\_취업건수] 848\n",
       "\\end{description*}\n"
      ],
      "text/markdown": [
       "마감년월\n",
       ":   84근무시도\n",
       ":   21표준산업대분류\n",
       ":   22산업버전\n",
       ":   3직종중분류\n",
       ":   51직종버전\n",
       ":   2고용형태\n",
       ":   6성별\n",
       ":   2연령5세단위\n",
       ":   10학력\n",
       ":   5취업건수\n",
       ":   851log_취업건수\n",
       ":   848\n",
       "\n"
      ],
      "text/plain": [
       "      마감년월       근무시도 표준산업대분류       산업버전     직종중분류 \n",
       "            84             21             22              3             51 \n",
       "      직종버전       고용형태           성별    연령5세단위           학력 \n",
       "             2              6              2             10              5 \n",
       "      취업건수   log_취업건수 \n",
       "           851            848 "
      ]
     },
     "metadata": {},
     "output_type": "display_data"
    }
   ],
   "source": [
    "# 전체 데이터 수\n",
    "nrow(jm2)\n",
    "\n",
    "# 컬럼별 고유값의 개수\n",
    "sapply(jm2, function(x) length(unique(x)))"
   ]
  },
  {
   "cell_type": "code",
   "execution_count": null,
   "metadata": {
    "vscode": {
     "languageId": "r"
    }
   },
   "outputs": [
    {
     "data": {
      "text/plain": [
       "\n",
       "      1       2       3       4       5       6       7       8       9      10 \n",
       "1633026  470577  223822  132452   86972   61533   46223   36052   28371   23388 \n",
       "     11      12      13      14      15      16      17      18      19      20 \n",
       "  18850   15880   13572   11806   10021    8805    7618    6918    6359    5586 \n",
       "     21      22      23      24      25      26      27      28      29      30 \n",
       "   5059    4656    4029    3671    3430    3056    2819    2600    2360    2245 \n",
       "     31      32      33      34      35      36      37      38      39      40 \n",
       "   2012    1885    1678    1698    1540    1382    1339    1317    1228    1150 \n",
       "     41      42      43      44      45      46      47      48      49      50 \n",
       "   1044    1047     943     912     865     848     791     729     680     619 "
      ]
     },
     "metadata": {},
     "output_type": "display_data"
    }
   ],
   "source": [
    "# 취업건수 데이터 분포가 어떤지 알아보자\n",
    "head(table(jm2$취업건수), 50)"
   ]
  },
  {
   "cell_type": "code",
   "execution_count": 11,
   "metadata": {
    "vscode": {
     "languageId": "r"
    }
   },
   "outputs": [
    {
     "data": {
      "text/html": [
       "4.16509977382144"
      ],
      "text/latex": [
       "4.16509977382144"
      ],
      "text/markdown": [
       "4.16509977382144"
      ],
      "text/plain": [
       "[1] 4.1651"
      ]
     },
     "metadata": {},
     "output_type": "display_data"
    },
    {
     "data": {
      "text/html": [
       "307.590810343727"
      ],
      "text/latex": [
       "307.590810343727"
      ],
      "text/markdown": [
       "307.590810343727"
      ],
      "text/plain": [
       "[1] 307.5908"
      ]
     },
     "metadata": {},
     "output_type": "display_data"
    }
   ],
   "source": [
    "# 포아송 분포의 특징: mean = var\n",
    "mean(jm2$취업건수)\n",
    "var(jm2$취업건수)"
   ]
  },
  {
   "cell_type": "markdown",
   "metadata": {},
   "source": [
    "전체 데이터가 293만행이고, 취업건수=1 인 데이터가 163만개로 너무 많다.  \n",
    "어떤 컬럼을 제외해야할지 살펴볼 필요가 있어 보인다."
   ]
  },
  {
   "cell_type": "code",
   "execution_count": 106,
   "metadata": {
    "vscode": {
     "languageId": "r"
    }
   },
   "outputs": [
    {
     "data": {
      "text/plain": [
       "    \n",
       "           A       B       C       D       E       F       G       H       I\n",
       "  09     556      54   14016     179     414    2258    4735    1627    2445\n",
       "  10    5248     399  174560    2096    4779   23778   53387   24762   22916\n",
       "  y        0       0       0       0       0       0       0       0       0\n",
       "    \n",
       "           J       K       L       M       N       O       P       Q       R\n",
       "  09    1204     563    1680    2129    8940    5092    3660    9012     587\n",
       "  10   13163    5624   19427   24295   95948   30845   35158  123089    6666\n",
       "  y        0       0       0       0       0       0       0       0       0\n",
       "    \n",
       "           S       T       U       y\n",
       "  09    3039     878       3  117430\n",
       "  10   27351    7668      28       0\n",
       "  y        0       0       0 2048740"
      ]
     },
     "metadata": {},
     "output_type": "display_data"
    }
   ],
   "source": [
    "# 산업버전과 표준산업대분류 테이블 현황\n",
    "table(jm2$산업버전, jm2$표준산업대분류)"
   ]
  },
  {
   "cell_type": "markdown",
   "metadata": {},
   "source": [
    "293만행의 데이터 중에서 204만행의 표준산업대분류 값이 y로 기록되어 있는데, 이는 표준산업대분류 정보가 존재하지 않는다는 것을 의미한다.\n",
    "따라서 데이터로서의 가치가 낮다고 판단되므로 표준산업대분류 컬럼을 제외하고 jm3 를 생성한다."
   ]
  },
  {
   "cell_type": "code",
   "execution_count": 111,
   "metadata": {
    "vscode": {
     "languageId": "r"
    }
   },
   "outputs": [],
   "source": [
    "# 산업버전, 표준산업대분류 제외한 데이터 생성\n",
    "jm3 = aggregate(취업건수 ~ 마감년월+근무시도+직종중분류+직종버전+고용형태+성별+연령5세단위+학력, data=jm2, sum)"
   ]
  },
  {
   "cell_type": "code",
   "execution_count": 112,
   "metadata": {
    "vscode": {
     "languageId": "r"
    }
   },
   "outputs": [
    {
     "data": {
      "text/html": [
       "2385103"
      ],
      "text/latex": [
       "2385103"
      ],
      "text/markdown": [
       "2385103"
      ],
      "text/plain": [
       "[1] 2385103"
      ]
     },
     "metadata": {},
     "output_type": "display_data"
    },
    {
     "data": {
      "text/html": [
       "<style>\n",
       ".dl-inline {width: auto; margin:0; padding: 0}\n",
       ".dl-inline>dt, .dl-inline>dd {float: none; width: auto; display: inline-block}\n",
       ".dl-inline>dt::after {content: \":\\0020\"; padding-right: .5ex}\n",
       ".dl-inline>dt:not(:first-of-type) {padding-left: .5ex}\n",
       "</style><dl class=dl-inline><dt>마감년월</dt><dd>84</dd><dt>근무시도</dt><dd>21</dd><dt>직종중분류</dt><dd>51</dd><dt>직종버전</dt><dd>2</dd><dt>고용형태</dt><dd>6</dd><dt>성별</dt><dd>2</dd><dt>연령5세단위</dt><dd>10</dd><dt>학력</dt><dd>5</dd><dt>취업건수</dt><dd>963</dd></dl>\n"
      ],
      "text/latex": [
       "\\begin{description*}\n",
       "\\item[마감년월] 84\n",
       "\\item[근무시도] 21\n",
       "\\item[직종중분류] 51\n",
       "\\item[직종버전] 2\n",
       "\\item[고용형태] 6\n",
       "\\item[성별] 2\n",
       "\\item[연령5세단위] 10\n",
       "\\item[학력] 5\n",
       "\\item[취업건수] 963\n",
       "\\end{description*}\n"
      ],
      "text/markdown": [
       "마감년월\n",
       ":   84근무시도\n",
       ":   21직종중분류\n",
       ":   51직종버전\n",
       ":   2고용형태\n",
       ":   6성별\n",
       ":   2연령5세단위\n",
       ":   10학력\n",
       ":   5취업건수\n",
       ":   963\n",
       "\n"
      ],
      "text/plain": [
       "   마감년월    근무시도  직종중분류    직종버전    고용형태        성별 \n",
       "         84          21          51           2           6           2 \n",
       "연령5세단위        학력    취업건수 \n",
       "         10           5         963 "
      ]
     },
     "metadata": {},
     "output_type": "display_data"
    }
   ],
   "source": [
    "# 전체 데이터 수\n",
    "nrow(jm3)\n",
    "\n",
    "# 컬럼별 고유값의 개수\n",
    "sapply(jm3, function(x) length(unique(x)))"
   ]
  },
  {
   "cell_type": "code",
   "execution_count": 113,
   "metadata": {
    "vscode": {
     "languageId": "r"
    }
   },
   "outputs": [
    {
     "data": {
      "text/plain": [
       "\n",
       "      1       2       3       4       5       6       7       8       9      10 \n",
       "1181617  401883  203367  124201   83580   59972   45634   35592   28342   23524 \n",
       "     11      12      13      14      15      16      17      18      19      20 \n",
       "  19197   16682   14046   12284   10659    9300    8056    7199    6402    5740 \n",
       "     21      22      23      24      25      26      27      28      29      30 \n",
       "   5136    4559    4214    3889    3475    3197    2949    2804    2528    2470 \n",
       "     31      32      33      34      35      36      37      38      39      40 \n",
       "   2209    2047    1810    1755    1664    1464    1459    1408    1276    1242 \n",
       "     41      42      43      44      45      46      47      48      49      50 \n",
       "   1075    1115    1039     972     946     904     839     803     743     714 "
      ]
     },
     "metadata": {},
     "output_type": "display_data"
    }
   ],
   "source": [
    "# 취업건수 데이터 분포가 어떤지 알아보자\n",
    "head(table(jm3$취업건수), 50)"
   ]
  },
  {
   "cell_type": "code",
   "execution_count": 114,
   "metadata": {
    "vscode": {
     "languageId": "r"
    }
   },
   "outputs": [
    {
     "data": {
      "text/html": [
       "5.11739954207428"
      ],
      "text/latex": [
       "5.11739954207428"
      ],
      "text/markdown": [
       "5.11739954207428"
      ],
      "text/plain": [
       "[1] 5.1174"
      ]
     },
     "metadata": {},
     "output_type": "display_data"
    },
    {
     "data": {
      "text/html": [
       "520.925924742098"
      ],
      "text/latex": [
       "520.925924742098"
      ],
      "text/markdown": [
       "520.925924742098"
      ],
      "text/plain": [
       "[1] 520.9259"
      ]
     },
     "metadata": {},
     "output_type": "display_data"
    }
   ],
   "source": [
    "# 포아송 분포의 특징: mean = var\n",
    "mean(jm3$취업건수)\n",
    "var(jm3$취업건수)"
   ]
  },
  {
   "cell_type": "markdown",
   "metadata": {},
   "source": [
    "전체 데이터가 238만행이고, 취업건수=1 인 데이터가 118만개로 아직도 너무 많다.  \n",
    "추가로 어떤 컬럼을 제외해야할지 살펴볼 필요가 있어 보인다."
   ]
  },
  {
   "cell_type": "code",
   "execution_count": 118,
   "metadata": {
    "vscode": {
     "languageId": "r"
    }
   },
   "outputs": [
    {
     "data": {
      "text/plain": [
       "      \n",
       "       010000 020000 030000  10000 100000 110000 120000 130000 140000 150000\n",
       "  2007      0      0      0  17761  14726  22290   9475  17160  15886  14098\n",
       "  2018  14439  33687   4716  68761      0   3693  10483  37875  58148  81125\n",
       "      \n",
       "       160000 170000 180000 190000  20000 200000 210000 220000 230000 240000\n",
       "  2007   8044   6531   3846  16278  29685   7185   8486  19459   7810    205\n",
       "  2018      0      0      0      0 157616      0  69472  14551 129305   3611\n",
       "      \n",
       "       250000  30000 300000  40000 410000 420000  50000 510000 520000 530000\n",
       "  2007      0   4612      0  15452      0      0   2764      0      0      0\n",
       "  2018    907  21745 109034      0  62384  17934      0  30874  25464 108754\n",
       "      \n",
       "       540000 550000 560000  60000 610000 620000  70000 700000  80000 810000\n",
       "  2007      0      0      0  20358      0      0  19463      0  11640      0\n",
       "  2018  65313  83821  96351      0  96860  84930      0  69587      0  81370\n",
       "      \n",
       "       820000 830000 840000 850000 860000 870000 880000 890000  90000 900000\n",
       "  2007      0      0      0      0      0      0      0      0  12519      0\n",
       "  2018  44876  91966  16018  34117  18504  46671  36198 105798      0  42411\n",
       "      \n",
       "            y\n",
       "  2007      0\n",
       "  2018      1"
      ]
     },
     "metadata": {},
     "output_type": "display_data"
    }
   ],
   "source": [
    "# 직종버전과 직종중분류류 테이블 현황\n",
    "table(jm3$직종버전, jm3$직종중분류)"
   ]
  },
  {
   "cell_type": "markdown",
   "metadata": {},
   "source": [
    "직종버전이 2007, 2018이 존재하는데, 서로 버전이 맞지 않아 오래된 2007 버전의 직종정보를 제외하기로 한다.  \n",
    "직종이 2007 버전으로 기록된 데이터가 언제까의 데이터인지 확인한다."
   ]
  },
  {
   "cell_type": "code",
   "execution_count": 119,
   "metadata": {
    "vscode": {
     "languageId": "r"
    }
   },
   "outputs": [
    {
     "data": {
      "text/plain": [
       "        \n",
       "          2007  2018\n",
       "  201701 24521     0\n",
       "  201702 25874     0\n",
       "  201703 29790     0\n",
       "  201704 26346     0\n",
       "  201705 24202     0\n",
       "  201706 25023     0\n",
       "  201707 25701     0\n",
       "  201708 25309     0\n",
       "  201709 26914     0\n",
       "  201710 22755     0\n",
       "  201711 26108     0\n",
       "  201712 23190     0\n",
       "  201801     0 28344\n",
       "  201802     0 26446\n",
       "  201803     0 31871\n",
       "  201804     0 29148\n",
       "  201805     0 26767\n",
       "  201806     0 25841\n",
       "  201807     0 27571\n",
       "  201808     0 26659\n",
       "  201809     0 26512\n",
       "  201810     0 26449\n",
       "  201811     0 27293\n",
       "  201812     0 23157\n",
       "  201901     0 27856\n",
       "  201902     0 25023\n",
       "  201903     0 32078\n",
       "  201904     0 28611\n",
       "  201905     0 26820\n",
       "  201906     0 25124\n",
       "  201907     0 27546\n",
       "  201908     0 25065\n",
       "  201909     0 25576\n",
       "  201910     0 26395\n",
       "  201911     0 24917\n",
       "  201912     0 22393\n",
       "  202001     0 26130\n",
       "  202002     0 26922\n",
       "  202003     0 28614\n",
       "  202004     0 26510\n",
       "  202005     0 25237\n",
       "  202006     0 25855\n",
       "  202007     0 27522\n",
       "  202008     0 29482\n",
       "  202009     0 29797\n",
       "  202010     0 27693\n",
       "  202011     0 28097\n",
       "  202012     0 26139\n",
       "  202101     0 29255\n",
       "  202102     0 28498\n",
       "  202103     0 35678\n",
       "  202104     0 32994\n",
       "  202105     0 31524\n",
       "  202106     0 32103\n",
       "  202107     0 33165\n",
       "  202108     0 30889\n",
       "  202109     0 32389\n",
       "  202110     0 31323\n",
       "  202111     0 30302\n",
       "  202112     0 27217\n",
       "  202201     0 32026\n",
       "  202202     0 30463\n",
       "  202203     0 36509\n",
       "  202204     0 32714\n",
       "  202205     0 30023\n",
       "  202206     0 28939\n",
       "  202207     0 30623\n",
       "  202208     0 29386\n",
       "  202209     0 29655\n",
       "  202210     0 28595\n",
       "  202211     0 28659\n",
       "  202212     0 25814\n",
       "  202301     0 30594\n",
       "  202302     0 31979\n",
       "  202303     0 37764\n",
       "  202304     0 33320\n",
       "  202305     0 30711\n",
       "  202306     0 30481\n",
       "  202307     0 30984\n",
       "  202308     0 30261\n",
       "  202309     0 30503\n",
       "  202310     0 28101\n",
       "  202311     0 29107\n",
       "  202312     0 25362"
      ]
     },
     "metadata": {},
     "output_type": "display_data"
    }
   ],
   "source": [
    "table(jm3$마감년월, jm3$직종버전)"
   ]
  },
  {
   "cell_type": "markdown",
   "metadata": {},
   "source": [
    "2018년 이후 데이터는 직업버전이 2018이므로, 2017년 자료를 데이터에서 제외한다."
   ]
  },
  {
   "cell_type": "code",
   "execution_count": 122,
   "metadata": {
    "vscode": {
     "languageId": "r"
    }
   },
   "outputs": [],
   "source": [
    "# 마감년월의 앞 4자리가 2017이 아닌 데이터만 필터링\n",
    "jm4 <- jm3[substr(jm3$마감년월, 1, 4) != \"2017\", ]"
   ]
  },
  {
   "cell_type": "code",
   "execution_count": 123,
   "metadata": {
    "vscode": {
     "languageId": "r"
    }
   },
   "outputs": [
    {
     "data": {
      "text/plain": [
       "      \n",
       "       010000 020000 030000  10000 110000 120000 130000 140000 150000  20000\n",
       "  2018  14439  33687   4716  68761   3693  10483  37875  58148  81125 157616\n",
       "      \n",
       "       210000 220000 230000 240000 250000  30000 300000 410000 420000 510000\n",
       "  2018  69472  14551 129305   3611    907  21745 109034  62384  17934  30874\n",
       "      \n",
       "       520000 530000 540000 550000 560000 610000 620000 700000 810000 820000\n",
       "  2018  25464 108754  65313  83821  96351  96860  84930  69587  81370  44876\n",
       "      \n",
       "       830000 840000 850000 860000 870000 880000 890000 900000      y\n",
       "  2018  91966  16018  34117  18504  46671  36198 105798  42411      1"
      ]
     },
     "metadata": {},
     "output_type": "display_data"
    }
   ],
   "source": [
    "# 직종버전과 직종중분류류 테이블 현황\n",
    "table(jm4$직종버전, jm4$직종중분류)"
   ]
  },
  {
   "cell_type": "code",
   "execution_count": 124,
   "metadata": {
    "vscode": {
     "languageId": "r"
    }
   },
   "outputs": [
    {
     "data": {
      "text/html": [
       "2079370"
      ],
      "text/latex": [
       "2079370"
      ],
      "text/markdown": [
       "2079370"
      ],
      "text/plain": [
       "[1] 2079370"
      ]
     },
     "metadata": {},
     "output_type": "display_data"
    },
    {
     "data": {
      "text/html": [
       "<style>\n",
       ".dl-inline {width: auto; margin:0; padding: 0}\n",
       ".dl-inline>dt, .dl-inline>dd {float: none; width: auto; display: inline-block}\n",
       ".dl-inline>dt::after {content: \":\\0020\"; padding-right: .5ex}\n",
       ".dl-inline>dt:not(:first-of-type) {padding-left: .5ex}\n",
       "</style><dl class=dl-inline><dt>마감년월</dt><dd>72</dd><dt>근무시도</dt><dd>21</dd><dt>직종중분류</dt><dd>39</dd><dt>직종버전</dt><dd>1</dd><dt>고용형태</dt><dd>6</dd><dt>성별</dt><dd>2</dd><dt>연령5세단위</dt><dd>10</dd><dt>학력</dt><dd>5</dd><dt>취업건수</dt><dd>856</dd></dl>\n"
      ],
      "text/latex": [
       "\\begin{description*}\n",
       "\\item[마감년월] 72\n",
       "\\item[근무시도] 21\n",
       "\\item[직종중분류] 39\n",
       "\\item[직종버전] 1\n",
       "\\item[고용형태] 6\n",
       "\\item[성별] 2\n",
       "\\item[연령5세단위] 10\n",
       "\\item[학력] 5\n",
       "\\item[취업건수] 856\n",
       "\\end{description*}\n"
      ],
      "text/markdown": [
       "마감년월\n",
       ":   72근무시도\n",
       ":   21직종중분류\n",
       ":   39직종버전\n",
       ":   1고용형태\n",
       ":   6성별\n",
       ":   2연령5세단위\n",
       ":   10학력\n",
       ":   5취업건수\n",
       ":   856\n",
       "\n"
      ],
      "text/plain": [
       "   마감년월    근무시도  직종중분류    직종버전    고용형태        성별 \n",
       "         72          21          39           1           6           2 \n",
       "연령5세단위        학력    취업건수 \n",
       "         10           5         856 "
      ]
     },
     "metadata": {},
     "output_type": "display_data"
    }
   ],
   "source": [
    "# 전체 데이터 수\n",
    "nrow(jm4)\n",
    "\n",
    "# 컬럼별 고유값의 개수\n",
    "sapply(jm4, function(x) length(unique(x)))"
   ]
  },
  {
   "cell_type": "code",
   "execution_count": 125,
   "metadata": {
    "vscode": {
     "languageId": "r"
    }
   },
   "outputs": [
    {
     "data": {
      "text/plain": [
       "\n",
       "      1       2       3       4       5       6       7       8       9      10 \n",
       "1045109  351334  176724  107148   71846   51393   39115   30440   23994   19951 \n",
       "     11      12      13      14      15      16      17      18      19      20 \n",
       "  16282   14060   11867   10232    8933    7691    6637    5975    5264    4706 \n",
       "     21      22      23      24      25      26      27      28      29      30 \n",
       "   4222    3770    3413    3197    2795    2619    2400    2306    2026    2008 \n",
       "     31      32      33      34      35      36      37      38      39      40 \n",
       "   1794    1647    1443    1402    1366    1171    1197    1137    1021     988 \n",
       "     41      42      43      44      45      46      47      48      49      50 \n",
       "    874     879     830     777     777     748     668     653     587     560 "
      ]
     },
     "metadata": {},
     "output_type": "display_data"
    }
   ],
   "source": [
    "# 취업건수 데이터 분포가 어떤지 알아보자\n",
    "head(table(jm4$취업건수), 50)"
   ]
  },
  {
   "cell_type": "code",
   "execution_count": 156,
   "metadata": {
    "vscode": {
     "languageId": "r"
    }
   },
   "outputs": [],
   "source": [
    "model1 = glm(취업건수~성별+학력+연령5세단위, data=jm4, family= poisson(link=\"log\"))"
   ]
  },
  {
   "cell_type": "code",
   "execution_count": 157,
   "metadata": {
    "vscode": {
     "languageId": "r"
    }
   },
   "outputs": [
    {
     "data": {
      "text/plain": [
       "\n",
       "Call:\n",
       "glm(formula = 취업건수 ~ 성별 + 학력 + 연령5세단위, \n",
       "    family = poisson(link = \"log\"), data = jm4)\n",
       "\n",
       "Coefficients:\n",
       "              Estimate Std. Error z value Pr(>|z|)    \n",
       "(Intercept)  1.6650049  0.0010346  1609.3   <2e-16 ***\n",
       "성별M       -0.4920770  0.0006505  -756.4   <2e-16 ***\n",
       "학력4       -0.4920749  0.0009111  -540.1   <2e-16 ***\n",
       "학력5       -0.3183602  0.0008291  -384.0   <2e-16 ***\n",
       "학력6       -1.2794776  0.0025069  -510.4   <2e-16 ***\n",
       "학력y        1.7073900  0.0009895  1725.5   <2e-16 ***\n",
       "연령5세단위  0.0387158  0.0001274   303.9   <2e-16 ***\n",
       "---\n",
       "Signif. codes:  0 '***' 0.001 '**' 0.01 '*' 0.05 '.' 0.1 ' ' 1\n",
       "\n",
       "(Dispersion parameter for poisson family taken to be 1)\n",
       "\n",
       "    Null deviance: 25929556  on 2079369  degrees of freedom\n",
       "Residual deviance: 21524691  on 2079363  degrees of freedom\n",
       "AIC: 27107779\n",
       "\n",
       "Number of Fisher Scoring iterations: 7\n"
      ]
     },
     "metadata": {},
     "output_type": "display_data"
    }
   ],
   "source": [
    "summary(model1)"
   ]
  },
  {
   "cell_type": "code",
   "execution_count": 129,
   "metadata": {
    "vscode": {
     "languageId": "r"
    }
   },
   "outputs": [],
   "source": [
    "# 근무시도 제외한 데이터 생성\n",
    "jm5 = aggregate(취업건수 ~ 마감년월+직종중분류+직종버전+고용형태+성별+연령5세단위+학력, data=jm4, sum)"
   ]
  },
  {
   "cell_type": "code",
   "execution_count": 130,
   "metadata": {
    "vscode": {
     "languageId": "r"
    }
   },
   "outputs": [
    {
     "data": {
      "text/html": [
       "429927"
      ],
      "text/latex": [
       "429927"
      ],
      "text/markdown": [
       "429927"
      ],
      "text/plain": [
       "[1] 429927"
      ]
     },
     "metadata": {},
     "output_type": "display_data"
    },
    {
     "data": {
      "text/html": [
       "<style>\n",
       ".dl-inline {width: auto; margin:0; padding: 0}\n",
       ".dl-inline>dt, .dl-inline>dd {float: none; width: auto; display: inline-block}\n",
       ".dl-inline>dt::after {content: \":\\0020\"; padding-right: .5ex}\n",
       ".dl-inline>dt:not(:first-of-type) {padding-left: .5ex}\n",
       "</style><dl class=dl-inline><dt>마감년월</dt><dd>72</dd><dt>직종중분류</dt><dd>39</dd><dt>직종버전</dt><dd>1</dd><dt>고용형태</dt><dd>6</dd><dt>성별</dt><dd>2</dd><dt>연령5세단위</dt><dd>10</dd><dt>학력</dt><dd>5</dd><dt>취업건수</dt><dd>1490</dd></dl>\n"
      ],
      "text/latex": [
       "\\begin{description*}\n",
       "\\item[마감년월] 72\n",
       "\\item[직종중분류] 39\n",
       "\\item[직종버전] 1\n",
       "\\item[고용형태] 6\n",
       "\\item[성별] 2\n",
       "\\item[연령5세단위] 10\n",
       "\\item[학력] 5\n",
       "\\item[취업건수] 1490\n",
       "\\end{description*}\n"
      ],
      "text/markdown": [
       "마감년월\n",
       ":   72직종중분류\n",
       ":   39직종버전\n",
       ":   1고용형태\n",
       ":   6성별\n",
       ":   2연령5세단위\n",
       ":   10학력\n",
       ":   5취업건수\n",
       ":   1490\n",
       "\n"
      ],
      "text/plain": [
       "   마감년월  직종중분류    직종버전    고용형태        성별 연령5세단위 \n",
       "         72          39           1           6           2          10 \n",
       "       학력    취업건수 \n",
       "          5        1490 "
      ]
     },
     "metadata": {},
     "output_type": "display_data"
    }
   ],
   "source": [
    "# 전체 데이터 수\n",
    "nrow(jm5)\n",
    "\n",
    "# 컬럼별 고유값의 개수\n",
    "sapply(jm5, function(x) length(unique(x)))"
   ]
  },
  {
   "cell_type": "code",
   "execution_count": 131,
   "metadata": {
    "vscode": {
     "languageId": "r"
    }
   },
   "outputs": [
    {
     "data": {
      "text/plain": [
       "\n",
       "     1      2      3      4      5      6      7      8      9     10     11 \n",
       "113803  56687  35656  25169  19083  15204  12527  10477   8851   7880   6866 \n",
       "    12     13     14     15     16     17     18     19     20     21     22 \n",
       "  6104   5432   4858   4493   4058   3805   3400   3236   3072   2883   2615 \n",
       "    23     24     25     26     27     28     29     30     31     32     33 \n",
       "  2471   2268   2240   2121   1963   1783   1758   1650   1600   1444   1444 \n",
       "    34     35     36     37     38     39     40     41     42     43     44 \n",
       "  1324   1328   1250   1159   1159   1082   1018    971    946    923    876 \n",
       "    45     46     47     48     49     50 \n",
       "   809    799    764    780    761    793 "
      ]
     },
     "metadata": {},
     "output_type": "display_data"
    }
   ],
   "source": [
    "# 취업건수 데이터 분포가 어떤지 알아보자\n",
    "head(table(jm5$취업건수), 50)"
   ]
  },
  {
   "cell_type": "code",
   "execution_count": 133,
   "metadata": {
    "vscode": {
     "languageId": "r"
    }
   },
   "outputs": [
    {
     "data": {
      "text/html": [
       "23.3827231134588"
      ],
      "text/latex": [
       "23.3827231134588"
      ],
      "text/markdown": [
       "23.3827231134588"
      ],
      "text/plain": [
       "[1] 23.38272"
      ]
     },
     "metadata": {},
     "output_type": "display_data"
    },
    {
     "data": {
      "text/html": [
       "1"
      ],
      "text/latex": [
       "1"
      ],
      "text/markdown": [
       "1"
      ],
      "text/plain": [
       "[1] 1"
      ]
     },
     "metadata": {},
     "output_type": "display_data"
    },
    {
     "data": {
      "text/html": [
       "7628"
      ],
      "text/latex": [
       "7628"
      ],
      "text/markdown": [
       "7628"
      ],
      "text/plain": [
       "[1] 7628"
      ]
     },
     "metadata": {},
     "output_type": "display_data"
    },
    {
     "data": {
      "text/html": [
       "15708.6742988113"
      ],
      "text/latex": [
       "15708.6742988113"
      ],
      "text/markdown": [
       "15708.6742988113"
      ],
      "text/plain": [
       "[1] 15708.67"
      ]
     },
     "metadata": {},
     "output_type": "display_data"
    }
   ],
   "source": [
    "mean(jm5$취업건수)\n",
    "min(jm5$취업건수)\n",
    "max(jm5$취업건수)\n",
    "var(jm5$취업건수)"
   ]
  },
  {
   "cell_type": "code",
   "execution_count": 134,
   "metadata": {
    "vscode": {
     "languageId": "r"
    }
   },
   "outputs": [
    {
     "name": "stderr",
     "output_type": "stream",
     "text": [
      "Warning message in ks.test.default(jm5$취업건수, \"ppois\", lambda = mean(jm5$취업건수)):\n",
      "\"ties should not be present for the Kolmogorov-Smirnov test\"\n"
     ]
    },
    {
     "data": {
      "text/plain": [
       "\n",
       "\tAsymptotic one-sample Kolmogorov-Smirnov test\n",
       "\n",
       "data:  jm5$취업건수\n",
       "D = 0.73851, p-value < 2.2e-16\n",
       "alternative hypothesis: two-sided\n"
      ]
     },
     "metadata": {},
     "output_type": "display_data"
    }
   ],
   "source": [
    "ks_poisson <- ks.test(jm5$취업건수, \"ppois\", lambda = mean(jm5$취업건수))\n",
    "ks_poisson"
   ]
  },
  {
   "cell_type": "code",
   "execution_count": 87,
   "metadata": {
    "vscode": {
     "languageId": "r"
    }
   },
   "outputs": [],
   "source": [
    "# log(취업건수) 컬럼을 추가해보자\n",
    "jm2$log_취업건수 = round(log(jm2$취업건수+0.184),3)"
   ]
  },
  {
   "cell_type": "code",
   "execution_count": 102,
   "metadata": {
    "vscode": {
     "languageId": "r"
    }
   },
   "outputs": [
    {
     "data": {
      "text/plain": [
       "\n",
       "  0.169   0.781   1.158   1.431   1.646   1.822   1.972   2.102   2.217   2.321 \n",
       "1633026  470577  223822  132452   86972   61533   46223   36052   28371   23388 \n",
       "  2.414     2.5   2.579   2.652    2.72   2.784   2.844   2.901   2.954   3.005 \n",
       "  18850   15880   13572   11806   10021    8805    7618    6918    6359    5586 \n",
       "  3.053   3.099   3.143   3.186   3.226   3.265   3.303   3.339   3.374   3.407 \n",
       "   5059    4656    4029    3671    3430    3056    2819    2600    2360    2245 \n",
       "   3.44   3.471   3.502   3.532   3.561   3.589   3.616   3.642   3.668   3.693 \n",
       "   2012    1885    1678    1698    1540    1382    1339    1317    1228    1150 \n",
       "  3.718   3.742   3.765   3.788   3.811   3.833   3.854   3.875   3.896   3.916 \n",
       "   1044    1047     943     912     865     848     791     729     680     619 "
      ]
     },
     "metadata": {},
     "output_type": "display_data"
    }
   ],
   "source": [
    "# log_취업건수 데이터 분포가 어떤지 알아보자\n",
    "head(table(jm2$log_취업건수), 50)"
   ]
  },
  {
   "cell_type": "code",
   "execution_count": 89,
   "metadata": {
    "vscode": {
     "languageId": "r"
    }
   },
   "outputs": [
    {
     "data": {
      "text/html": [
       "0.758594640441601"
      ],
      "text/latex": [
       "0.758594640441601"
      ],
      "text/markdown": [
       "0.758594640441601"
      ],
      "text/plain": [
       "[1] 0.7585946"
      ]
     },
     "metadata": {},
     "output_type": "display_data"
    },
    {
     "data": {
      "text/html": [
       "0.758541680555"
      ],
      "text/latex": [
       "0.758541680555"
      ],
      "text/markdown": [
       "0.758541680555"
      ],
      "text/plain": [
       "[1] 0.7585417"
      ]
     },
     "metadata": {},
     "output_type": "display_data"
    }
   ],
   "source": [
    "# 포아송 분포의 특징: mean = var\n",
    "mean(jm2$log_취업건수)\n",
    "var(jm2$log_취업건수)"
   ]
  },
  {
   "cell_type": "code",
   "execution_count": 103,
   "metadata": {
    "vscode": {
     "languageId": "r"
    }
   },
   "outputs": [
    {
     "name": "stderr",
     "output_type": "stream",
     "text": [
      "Warning message in chisq.test(x = observed, p = expected/sum(expected)):\n",
      "\"Chi-squared approximation may be incorrect\"\n"
     ]
    },
    {
     "name": "stdout",
     "output_type": "stream",
     "text": [
      "\n",
      "\tChi-squared test for given probabilities\n",
      "\n",
      "data:  observed\n",
      "X-squared = Inf, df = 838, p-value < 2.2e-16\n",
      "\n"
     ]
    }
   ],
   "source": [
    "# 로그 값 역변환 후 카운트화\n",
    "exp_취업건수 <- round(exp(jm2$log_취업건수))\n",
    "\n",
    "# 빈도 계산\n",
    "observed <- table(exp_취업건수)\n",
    "\n",
    "# 포아송 분포에 따른 예상 빈도 계산\n",
    "lambda <- mean(exp_취업건수)\n",
    "expected <- dpois(as.numeric(names(observed)), lambda) * sum(observed)\n",
    "\n",
    "# Chi-squared 적합도 검정\n",
    "chi_sq_test <- chisq.test(x = observed, p = expected / sum(expected))\n",
    "\n",
    "# 결과 출력\n",
    "print(chi_sq_test)"
   ]
  },
  {
   "cell_type": "code",
   "execution_count": 104,
   "metadata": {
    "vscode": {
     "languageId": "r"
    }
   },
   "outputs": [
    {
     "data": {
      "image/png": "[encoded data removed]",
      "text/plain": [
       "plot without title"
      ]
     },
     "metadata": {
      "image/png": {
       "height": 420,
       "width": 420
      }
     },
     "output_type": "display_data"
    }
   ],
   "source": [
    "# 1. 로그 변환된 취업건수 데이터\n",
    "log_counts <- jm2$log_취업건수\n",
    "\n",
    "# 2. 포아송 분포의 lambda 계산 (로그 변환된 값의 평균)\n",
    "lambda <- mean(log_counts)\n",
    "\n",
    "# 3. 로그 취업건수의 범위 설정\n",
    "x_range <- seq(floor(min(log_counts)), ceiling(max(log_counts)), by = 0.1)\n",
    "\n",
    "# 4. 포아송 분포를 계산 (로그 변환된 값의 확률밀도)\n",
    "poisson_density <- dpois(round(x_range), lambda)\n",
    "\n",
    "# 5. 데이터프레임 생성 (히스토그램과 포아송 분포를 함께 그리기 위해)\n",
    "poisson_df <- data.frame(\n",
    "  x = x_range,\n",
    "  poisson_density = poisson_density\n",
    ")\n",
    "\n",
    "# 6. 히스토그램과 포아송 분포 그래프\n",
    "ggplot() +\n",
    "  geom_histogram(aes(x = log_counts, y = ..density..), \n",
    "                 binwidth = 0.1, fill = \"skyblue\", color = \"black\", alpha = 0.7) +\n",
    "  geom_line(data = poisson_df, aes(x = x, y = poisson_density), \n",
    "            color = \"red\", size = 1) +\n",
    "  labs(title = \"로그 취업건수와 포아송 분포 비교\", \n",
    "       x = \"log(취업건수)\", \n",
    "       y = \"Density\") +\n",
    "  theme_minimal()\n"
   ]
  },
  {
   "cell_type": "code",
   "execution_count": 65,
   "metadata": {
    "vscode": {
     "languageId": "r"
    }
   },
   "outputs": [
    {
     "name": "stderr",
     "output_type": "stream",
     "text": [
      "Warning message:\n",
      "\"\u001b[1m\u001b[22mRemoved 9881 rows containing non-finite outside the scale range (`stat_bin()`).\"\n",
      "Warning message:\n",
      "\"\u001b[1m\u001b[22mRemoved 2 rows containing missing values or values outside the scale range\n",
      "(`geom_bar()`).\"\n"
     ]
    },
    {
     "data": {
      "image/png": "[encoded data removed]",
      "text/plain": [
       "plot without title"
      ]
     },
     "metadata": {
      "image/png": {
       "height": 420,
       "width": 420
      }
     },
     "output_type": "display_data"
    }
   ],
   "source": [
    "# 취업건수에 대한 히스토그램\n",
    "ggplot(jm2, aes(x = 취업건수)) +\n",
    "  geom_histogram(binwidth = 1, fill = \"skyblue\", color = \"black\") +\n",
    "  labs(title = \"취업건수의 히스토그램\", x = \"취업건수\", y = \"빈도\") +\n",
    "  xlim(0, 100) + ylim(0, 1700000) +\n",
    "  theme_minimal()"
   ]
  },
  {
   "cell_type": "code",
   "execution_count": 67,
   "metadata": {
    "vscode": {
     "languageId": "r"
    }
   },
   "outputs": [
    {
     "data": {
      "image/png": "[encoded data removed]",
      "text/plain": [
       "Plot with title \"취업건수의 히스토그램\""
      ]
     },
     "metadata": {
      "image/png": {
       "height": 420,
       "width": 420
      }
     },
     "output_type": "display_data"
    },
    {
     "data": {
      "image/png": "[encoded data removed]",
      "text/plain": [
       "Plot with title \"Q-Q plot for Poisson Distribution\""
      ]
     },
     "metadata": {
      "image/png": {
       "height": 420,
       "width": 420
      }
     },
     "output_type": "display_data"
    }
   ],
   "source": [
    "# 히스토그램\n",
    "hist(jm2$취업건수, breaks = 50, main = \"취업건수의 히스토그램\", xlab = \"취업건수\", col = \"lightblue\", border = \"black\")\n",
    "\n",
    "# Q-Q 플롯 (포아송 분포와 비교)\n",
    "qqplot(qpois(ppoints(length(jm2$취업건수)), lambda = mean_value), jm2$취업건수, \n",
    "       main = \"Q-Q plot for Poisson Distribution\", xlab = \"Theoretical Quantiles\", ylab = \"Sample Quantiles\")\n",
    "abline(0, 1, col = \"red\")  # 이상적인 포아송 분포에 대한 직선 추가\n"
   ]
  },
  {
   "cell_type": "code",
   "execution_count": 68,
   "metadata": {
    "vscode": {
     "languageId": "r"
    }
   },
   "outputs": [
    {
     "name": "stderr",
     "output_type": "stream",
     "text": [
      "Warning message in chisq.test(observed_counts, p = poisson_probs[1:length(observed_counts)], :\n",
      "\"Chi-squared approximation may be incorrect\"\n"
     ]
    },
    {
     "data": {
      "text/plain": [
       "\n",
       "\tChi-squared test for given probabilities\n",
       "\n",
       "data:  observed_counts\n",
       "X-squared = Inf, df = 850, p-value < 2.2e-16\n"
      ]
     },
     "metadata": {},
     "output_type": "display_data"
    }
   ],
   "source": [
    "# 포아송 분포의 기대값 계산\n",
    "lambda_estimate <- mean(jm2$취업건수)\n",
    "poisson_probs <- dpois(0:max(jm2$취업건수), lambda = lambda_estimate)\n",
    "\n",
    "# 관찰 빈도 계산\n",
    "observed_counts <- table(jm2$취업건수)\n",
    "\n",
    "# 카이제곱 적합도 검정\n",
    "chi_square_test <- chisq.test(observed_counts, p = poisson_probs[1:length(observed_counts)], rescale.p = TRUE)\n",
    "chi_square_test\n"
   ]
  },
  {
   "cell_type": "code",
   "execution_count": 69,
   "metadata": {
    "vscode": {
     "languageId": "r"
    }
   },
   "outputs": [
    {
     "name": "stderr",
     "output_type": "stream",
     "text": [
      "Warning message in ks.test.default(jm2$취업건수, \"ppois\", lambda = mean(jm2$취업건수)):\n",
      "\"ties should not be present for the Kolmogorov-Smirnov test\"\n"
     ]
    },
    {
     "data": {
      "text/plain": [
       "\n",
       "\tAsymptotic one-sample Kolmogorov-Smirnov test\n",
       "\n",
       "data:  jm2$취업건수\n",
       "D = 0.50295, p-value < 2.2e-16\n",
       "alternative hypothesis: two-sided\n"
      ]
     },
     "metadata": {},
     "output_type": "display_data"
    }
   ],
   "source": [
    "ks_poisson <- ks.test(jm2$취업건수, \"ppois\", lambda = mean(jm2$취업건수))\n",
    "ks_poisson"
   ]
  },
  {
   "cell_type": "code",
   "execution_count": 70,
   "metadata": {
    "vscode": {
     "languageId": "r"
    }
   },
   "outputs": [
    {
     "name": "stderr",
     "output_type": "stream",
     "text": [
      "Warning message in ks.test.default(jm2$취업건수, \"pexp\", rate = 1/mean(jm2$취업건수)):\n",
      "\"ties should not be present for the Kolmogorov-Smirnov test\"\n"
     ]
    },
    {
     "name": "stdout",
     "output_type": "stream",
     "text": [
      "\n",
      "\tAsymptotic one-sample Kolmogorov-Smirnov test\n",
      "\n",
      "data:  jm2$취업건수\n",
      "D = 0.34382, p-value < 2.2e-16\n",
      "alternative hypothesis: two-sided\n",
      "\n"
     ]
    }
   ],
   "source": [
    "# 지수분포의 누적 분포 함수(CDF)에 대한 K-S 검정\n",
    "ks_test <- ks.test(jm2$취업건수, \"pexp\", rate = 1/mean(jm2$취업건수))\n",
    "\n",
    "# 결과 출력\n",
    "print(ks_test)\n"
   ]
  },
  {
   "cell_type": "code",
   "execution_count": 71,
   "metadata": {
    "vscode": {
     "languageId": "r"
    }
   },
   "outputs": [
    {
     "name": "stderr",
     "output_type": "stream",
     "text": [
      "Warning message in ks.test.default(log_data, \"pnorm\", mean = mean(log_data), sd = sd(log_data)):\n",
      "\"ties should not be present for the Kolmogorov-Smirnov test\"\n"
     ]
    },
    {
     "name": "stdout",
     "output_type": "stream",
     "text": [
      "\n",
      "\tAsymptotic one-sample Kolmogorov-Smirnov test\n",
      "\n",
      "data:  log_data\n",
      "D = 0.31263, p-value < 2.2e-16\n",
      "alternative hypothesis: two-sided\n",
      "\n"
     ]
    }
   ],
   "source": [
    "# 취업건수에 로그 변환을 적용\n",
    "log_data <- log(jm2$취업건수)\n",
    "\n",
    "# 로그 변환된 데이터에 대해 정규분포 적합도를 확인하는 K-S 검정\n",
    "ks_test_lognorm <- ks.test(log_data, \"pnorm\", mean = mean(log_data), sd = sd(log_data))\n",
    "\n",
    "# 결과 출력\n",
    "print(ks_test_lognorm)"
   ]
  },
  {
   "cell_type": "code",
   "execution_count": null,
   "metadata": {
    "vscode": {
     "languageId": "r"
    }
   },
   "outputs": [
    {
     "name": "stderr",
     "output_type": "stream",
     "text": [
      "\n",
      "Attaching package: 'MASS'\n",
      "\n",
      "\n",
      "The following object is masked from 'package:dplyr':\n",
      "\n",
      "    select\n",
      "\n",
      "\n",
      "Warning message in densfun(x, parm[1], parm[2], ...):\n",
      "\"NaNs produced\"\n",
      "Warning message in densfun(x, parm[1], parm[2], ...):\n",
      "\"NaNs produced\"\n",
      "Warning message in densfun(x, parm[1], parm[2], ...):\n",
      "\"NaNs produced\"\n",
      "Warning message in densfun(x, parm[1], parm[2], ...):\n",
      "\"NaNs produced\"\n",
      "Warning message in densfun(x, parm[1], parm[2], ...):\n",
      "\"NaNs produced\"\n",
      "Warning message in densfun(x, parm[1], parm[2], ...):\n",
      "\"NaNs produced\"\n",
      "Warning message in densfun(x, parm[1], parm[2], ...):\n",
      "\"NaNs produced\"\n",
      "Warning message in densfun(x, parm[1], parm[2], ...):\n",
      "\"NaNs produced\"\n",
      "Warning message in densfun(x, parm[1], parm[2], ...):\n",
      "\"NaNs produced\"\n",
      "Warning message in densfun(x, parm[1], parm[2], ...):\n",
      "\"NaNs produced\"\n",
      "Warning message in densfun(x, parm[1], parm[2], ...):\n",
      "\"NaNs produced\"\n",
      "Warning message in densfun(x, parm[1], parm[2], ...):\n",
      "\"NaNs produced\"\n",
      "Warning message in densfun(x, parm[1], parm[2], ...):\n",
      "\"NaNs produced\"\n",
      "Warning message in densfun(x, parm[1], parm[2], ...):\n",
      "\"NaNs produced\"\n",
      "Warning message in densfun(x, parm[1], parm[2], ...):\n",
      "\"NaNs produced\"\n",
      "Warning message in densfun(x, parm[1], parm[2], ...):\n",
      "\"NaNs produced\"\n",
      "Warning message in densfun(x, parm[1], parm[2], ...):\n",
      "\"NaNs produced\"\n",
      "Warning message in densfun(x, parm[1], parm[2], ...):\n",
      "\"NaNs produced\"\n",
      "Warning message in densfun(x, parm[1], parm[2], ...):\n",
      "\"NaNs produced\"\n",
      "Warning message in densfun(x, parm[1], parm[2], ...):\n",
      "\"NaNs produced\"\n",
      "Warning message in densfun(x, parm[1], parm[2], ...):\n",
      "\"NaNs produced\"\n",
      "Warning message in densfun(x, parm[1], parm[2], ...):\n",
      "\"NaNs produced\"\n",
      "Warning message in densfun(x, parm[1], parm[2], ...):\n",
      "\"NaNs produced\"\n",
      "Warning message in densfun(x, parm[1], parm[2], ...):\n",
      "\"NaNs produced\"\n",
      "Warning message in densfun(x, parm[1], parm[2], ...):\n",
      "\"NaNs produced\"\n",
      "Warning message in densfun(x, parm[1], parm[2], ...):\n",
      "\"NaNs produced\"\n",
      "Warning message in densfun(x, parm[1], parm[2], ...):\n",
      "\"NaNs produced\"\n",
      "Warning message in densfun(x, parm[1], parm[2], ...):\n",
      "\"NaNs produced\"\n",
      "Warning message in densfun(x, parm[1], parm[2], ...):\n",
      "\"NaNs produced\"\n",
      "Warning message in densfun(x, parm[1], parm[2], ...):\n",
      "\"NaNs produced\"\n",
      "Warning message in densfun(x, parm[1], parm[2], ...):\n",
      "\"NaNs produced\"\n",
      "Warning message in densfun(x, parm[1], parm[2], ...):\n",
      "\"NaNs produced\"\n",
      "Warning message in densfun(x, parm[1], parm[2], ...):\n",
      "\"NaNs produced\"\n",
      "Warning message in densfun(x, parm[1], parm[2], ...):\n",
      "\"NaNs produced\"\n",
      "Warning message in densfun(x, parm[1], parm[2], ...):\n",
      "\"NaNs produced\"\n",
      "Warning message in densfun(x, parm[1], parm[2], ...):\n",
      "\"NaNs produced\"\n",
      "Warning message in densfun(x, parm[1], parm[2], ...):\n",
      "\"NaNs produced\"\n",
      "Warning message in densfun(x, parm[1], parm[2], ...):\n",
      "\"NaNs produced\"\n",
      "Warning message in densfun(x, parm[1], parm[2], ...):\n",
      "\"NaNs produced\"\n",
      "Warning message in densfun(x, parm[1], parm[2], ...):\n",
      "\"NaNs produced\"\n",
      "Warning message in densfun(x, parm[1], parm[2], ...):\n",
      "\"NaNs produced\"\n",
      "Warning message in densfun(x, parm[1], parm[2], ...):\n",
      "\"NaNs produced\"\n",
      "Warning message in densfun(x, parm[1], parm[2], ...):\n",
      "\"NaNs produced\"\n",
      "Warning message in densfun(x, parm[1], parm[2], ...):\n",
      "\"NaNs produced\"\n",
      "Warning message in densfun(x, parm[1], parm[2], ...):\n",
      "\"NaNs produced\"\n",
      "Warning message in ks.test.default(jm2$취업건수, \"pnbinom\", size = fit_neg_binom$estimate[\"size\"], :\n",
      "\"ties should not be present for the Kolmogorov-Smirnov test\"\n"
     ]
    },
    {
     "name": "stdout",
     "output_type": "stream",
     "text": [
      "\n",
      "\tAsymptotic one-sample Kolmogorov-Smirnov test\n",
      "\n",
      "data:  jm2$취업건수\n",
      "D = 0.39419, p-value < 2.2e-16\n",
      "alternative hypothesis: two-sided\n",
      "\n"
     ]
    },
    {
     "ename": "",
     "evalue": "",
     "output_type": "error",
     "traceback": [
      "\u001b[1;31mThe Kernel crashed while executing code in the current cell or a previous cell. \n",
      "\u001b[1;31mPlease review the code in the cell(s) to identify a possible cause of the failure. \n",
      "\u001b[1;31mClick <a href='https://aka.ms/vscodeJupyterKernelCrash'>here</a> for more info. \n",
      "\u001b[1;31mView Jupyter <a href='command:jupyter.viewOutput'>log</a> for further details."
     ]
    }
   ],
   "source": [
    "# 필요한 라이브러리 로드\n",
    "library(MASS)\n",
    "\n",
    "# 취업건수 데이터에 대한 음이항 분포의 파라미터 추정\n",
    "fit_neg_binom <- fitdistr(jm2$취업건수, \"Negative Binomial\")\n",
    "\n",
    "# 음이항 분포의 CDF에 대해 K-S 검정 수행\n",
    "ks_test_neg_binom <- ks.test(jm2$취업건수, \"pnbinom\", size = fit_neg_binom$estimate[\"size\"], mu = fit_neg_binom$estimate[\"mu\"])\n",
    "\n",
    "# 결과 출력\n",
    "print(ks_test_neg_binom)\n"
   ]
  },
  {
   "cell_type": "code",
   "execution_count": null,
   "metadata": {
    "vscode": {
     "languageId": "r"
    }
   },
   "outputs": [
    {
     "data": {
      "text/plain": [
       "      \n",
       "       201701 201702 201703 201704 201705 201706 201707 201708 201709 201710\n",
       "  2007 119384 128326 161441 133662 115746 125530 133787 127032 140066  99228\n",
       "  2018      0      0      0      0      0      0      0      0      0      0\n",
       "      \n",
       "       201711 201712 201801 201802 201803 201804 201805 201806 201807 201808\n",
       "  2007 129345 103570      0      0      0      0      0      0      0      0\n",
       "  2018      0      0 125744 106093 142834 126826 110779 106591 117664 107301\n",
       "      \n",
       "       201809 201810 201811 201812 201901 201902 201903 201904 201905 201906\n",
       "  2007      0      0      0      0      0      0      0      0      0      0\n",
       "  2018 102832 105428 112352  85610 117148  92860 135583 119079 106249  95111\n",
       "      \n",
       "       201907 201908 201909 201910 201911 201912 202001 202002 202003 202004\n",
       "  2007      0      0      0      0      0      0      0      0      0      0\n",
       "  2018 111423  93156  92302 100767  93753  78413 100846 104143 108401  95155\n",
       "      \n",
       "       202005 202006 202007 202008 202009 202010 202011 202012 202101 202102\n",
       "  2007      0      0      0      0      0      0      0      0      0      0\n",
       "  2018  87277  93210 102161 113584 114867 101408 105635  95544 113354 106818\n",
       "      \n",
       "       202103 202104 202105 202106 202107 202108 202109 202110 202111 202112\n",
       "  2007      0      0      0      0      0      0      0      0      0      0\n",
       "  2018 153909 134987 120817 125483 133567 115048 121351 118155 113075  95079\n",
       "      \n",
       "       202201 202202 202203 202204 202205 202206 202207 202208 202209 202210\n",
       "  2007      0      0      0      0      0      0      0      0      0      0\n",
       "  2018 122782 106638 143208 124291 109043 103457 114020 104065 103843  99150\n",
       "      \n",
       "       202211 202212 202301 202302 202303 202304 202305 202306 202307 202308\n",
       "  2007      0      0      0      0      0      0      0      0      0      0\n",
       "  2018 100576  85740 110197 115761 147996 122164 108667 109234 114569 107292\n",
       "      \n",
       "       202309 202310 202311 202312\n",
       "  2007      0      0      0      0\n",
       "  2018 105898  93849 102195  80874"
      ]
     },
     "metadata": {},
     "output_type": "display_data"
    }
   ],
   "source": [
    "# 산업버전-표준산업대분류 데이터 수\n",
    "table(jm$직종버전, jm$마감년월)\n",
    "\n",
    "# 취업건수에 대한 히스토그램\n",
    "ggplot(jm, aes(x = 취업건수)) +\n",
    "  geom_histogram(binwidth = 1, fill = \"skyblue\", color = \"black\") +\n",
    "  labs(title = \"취업건수의 히스토그램\", x = \"취업건수\", y = \"빈도\") +\n",
    "  xlim(0, 100) + ylim(0, 1500) +\n",
    "  theme_minimal()"
   ]
  },
  {
   "cell_type": "code",
   "execution_count": 25,
   "metadata": {
    "vscode": {
     "languageId": "r"
    }
   },
   "outputs": [],
   "source": [
    "# 근무시군구, 거주시군구 까지는 필요없다고 판단되므로, 자료에서 제외한다.\n",
    "jm2 = aggregate(취업건수 ~ 마감년월+근무시도+표준산업대분류+산업버전+직종중분류+직종버전+고용형태+성별+연령5세단위+학력, data=jm, sum)\n"
   ]
  },
  {
   "cell_type": "code",
   "execution_count": 26,
   "metadata": {
    "vscode": {
     "languageId": "r"
    }
   },
   "outputs": [
    {
     "data": {
      "text/html": [
       "<table class=\"dataframe\">\n",
       "<caption>A data.frame: 6 × 11</caption>\n",
       "<thead>\n",
       "\t<tr><th></th><th scope=col>마감년월</th><th scope=col>근무시도</th><th scope=col>표준산업대분류</th><th scope=col>산업버전</th><th scope=col>직종중분류</th><th scope=col>직종버전</th><th scope=col>고용형태</th><th scope=col>성별</th><th scope=col>연령5세단위</th><th scope=col>학력</th><th scope=col>취업건수</th></tr>\n",
       "\t<tr><th></th><th scope=col>&lt;int&gt;</th><th scope=col>&lt;chr&gt;</th><th scope=col>&lt;chr&gt;</th><th scope=col>&lt;chr&gt;</th><th scope=col>&lt;chr&gt;</th><th scope=col>&lt;int&gt;</th><th scope=col>&lt;int&gt;</th><th scope=col>&lt;chr&gt;</th><th scope=col>&lt;int&gt;</th><th scope=col>&lt;chr&gt;</th><th scope=col>&lt;int&gt;</th></tr>\n",
       "</thead>\n",
       "<tbody>\n",
       "\t<tr><th scope=row>1</th><td>201706</td><td>11</td><td>C</td><td>09</td><td>10000</td><td>2007</td><td>10</td><td>F</td><td>3</td><td>3</td><td>1</td></tr>\n",
       "\t<tr><th scope=row>2</th><td>201706</td><td>26</td><td>C</td><td>09</td><td>10000</td><td>2007</td><td>10</td><td>F</td><td>3</td><td>3</td><td>1</td></tr>\n",
       "\t<tr><th scope=row>3</th><td>201703</td><td>27</td><td>C</td><td>09</td><td>10000</td><td>2007</td><td>10</td><td>F</td><td>3</td><td>3</td><td>2</td></tr>\n",
       "\t<tr><th scope=row>4</th><td>201704</td><td>29</td><td>C</td><td>09</td><td>10000</td><td>2007</td><td>10</td><td>F</td><td>3</td><td>3</td><td>1</td></tr>\n",
       "\t<tr><th scope=row>5</th><td>201702</td><td>41</td><td>C</td><td>09</td><td>10000</td><td>2007</td><td>10</td><td>F</td><td>3</td><td>3</td><td>1</td></tr>\n",
       "\t<tr><th scope=row>6</th><td>201706</td><td>41</td><td>C</td><td>09</td><td>10000</td><td>2007</td><td>10</td><td>F</td><td>3</td><td>3</td><td>1</td></tr>\n",
       "</tbody>\n",
       "</table>\n"
      ],
      "text/latex": [
       "A data.frame: 6 × 11\n",
       "\\begin{tabular}{r|lllllllllll}\n",
       "  & 마감년월 & 근무시도 & 표준산업대분류 & 산업버전 & 직종중분류 & 직종버전 & 고용형태 & 성별 & 연령5세단위 & 학력 & 취업건수\\\\\n",
       "  & <int> & <chr> & <chr> & <chr> & <chr> & <int> & <int> & <chr> & <int> & <chr> & <int>\\\\\n",
       "\\hline\n",
       "\t1 & 201706 & 11 & C & 09 & 10000 & 2007 & 10 & F & 3 & 3 & 1\\\\\n",
       "\t2 & 201706 & 26 & C & 09 & 10000 & 2007 & 10 & F & 3 & 3 & 1\\\\\n",
       "\t3 & 201703 & 27 & C & 09 & 10000 & 2007 & 10 & F & 3 & 3 & 2\\\\\n",
       "\t4 & 201704 & 29 & C & 09 & 10000 & 2007 & 10 & F & 3 & 3 & 1\\\\\n",
       "\t5 & 201702 & 41 & C & 09 & 10000 & 2007 & 10 & F & 3 & 3 & 1\\\\\n",
       "\t6 & 201706 & 41 & C & 09 & 10000 & 2007 & 10 & F & 3 & 3 & 1\\\\\n",
       "\\end{tabular}\n"
      ],
      "text/markdown": [
       "\n",
       "A data.frame: 6 × 11\n",
       "\n",
       "| <!--/--> | 마감년월 &lt;int&gt; | 근무시도 &lt;chr&gt; | 표준산업대분류 &lt;chr&gt; | 산업버전 &lt;chr&gt; | 직종중분류 &lt;chr&gt; | 직종버전 &lt;int&gt; | 고용형태 &lt;int&gt; | 성별 &lt;chr&gt; | 연령5세단위 &lt;int&gt; | 학력 &lt;chr&gt; | 취업건수 &lt;int&gt; |\n",
       "|---|---|---|---|---|---|---|---|---|---|---|---|\n",
       "| 1 | 201706 | 11 | C | 09 | 10000 | 2007 | 10 | F | 3 | 3 | 1 |\n",
       "| 2 | 201706 | 26 | C | 09 | 10000 | 2007 | 10 | F | 3 | 3 | 1 |\n",
       "| 3 | 201703 | 27 | C | 09 | 10000 | 2007 | 10 | F | 3 | 3 | 2 |\n",
       "| 4 | 201704 | 29 | C | 09 | 10000 | 2007 | 10 | F | 3 | 3 | 1 |\n",
       "| 5 | 201702 | 41 | C | 09 | 10000 | 2007 | 10 | F | 3 | 3 | 1 |\n",
       "| 6 | 201706 | 41 | C | 09 | 10000 | 2007 | 10 | F | 3 | 3 | 1 |\n",
       "\n"
      ],
      "text/plain": [
       "  마감년월 근무시도 표준산업대분류 산업버전 직종중분류 직종버전 고용형태 성별\n",
       "1 201706   11       C              09       10000      2007     10       F   \n",
       "2 201706   26       C              09       10000      2007     10       F   \n",
       "3 201703   27       C              09       10000      2007     10       F   \n",
       "4 201704   29       C              09       10000      2007     10       F   \n",
       "5 201702   41       C              09       10000      2007     10       F   \n",
       "6 201706   41       C              09       10000      2007     10       F   \n",
       "  연령5세단위 학력 취업건수\n",
       "1 3           3    1       \n",
       "2 3           3    1       \n",
       "3 3           3    2       \n",
       "4 3           3    1       \n",
       "5 3           3    1       \n",
       "6 3           3    1       "
      ]
     },
     "metadata": {},
     "output_type": "display_data"
    },
    {
     "data": {
      "text/html": [
       "2930428"
      ],
      "text/latex": [
       "2930428"
      ],
      "text/markdown": [
       "2930428"
      ],
      "text/plain": [
       "[1] 2930428"
      ]
     },
     "metadata": {},
     "output_type": "display_data"
    }
   ],
   "source": [
    "head(jm2)\n",
    "nrow(jm2)"
   ]
  },
  {
   "cell_type": "code",
   "execution_count": 21,
   "metadata": {
    "vscode": {
     "languageId": "r"
    }
   },
   "outputs": [],
   "source": [
    "# 근무시군구, 거주시군구 까지는 필요없다고 판단되므로, 자료에서 제외한다.\n",
    "jm3 = aggregate(취업건수 ~ 마감년월+근무시군구, data=jm, sum)"
   ]
  },
  {
   "cell_type": "code",
   "execution_count": 22,
   "metadata": {
    "vscode": {
     "languageId": "r"
    }
   },
   "outputs": [
    {
     "data": {
      "text/html": [
       "<table class=\"dataframe\">\n",
       "<caption>A data.frame: 6 × 3</caption>\n",
       "<thead>\n",
       "\t<tr><th></th><th scope=col>마감년월</th><th scope=col>근무시군구</th><th scope=col>취업건수</th></tr>\n",
       "\t<tr><th></th><th scope=col>&lt;int&gt;</th><th scope=col>&lt;chr&gt;</th><th scope=col>&lt;int&gt;</th></tr>\n",
       "</thead>\n",
       "<tbody>\n",
       "\t<tr><th scope=row>1</th><td>202301</td><td>0</td><td>4517</td></tr>\n",
       "\t<tr><th scope=row>2</th><td>202302</td><td>0</td><td>4602</td></tr>\n",
       "\t<tr><th scope=row>3</th><td>202303</td><td>0</td><td>5991</td></tr>\n",
       "\t<tr><th scope=row>4</th><td>202304</td><td>0</td><td>4917</td></tr>\n",
       "\t<tr><th scope=row>5</th><td>202305</td><td>0</td><td>4359</td></tr>\n",
       "\t<tr><th scope=row>6</th><td>202306</td><td>0</td><td>4484</td></tr>\n",
       "</tbody>\n",
       "</table>\n"
      ],
      "text/latex": [
       "A data.frame: 6 × 3\n",
       "\\begin{tabular}{r|lll}\n",
       "  & 마감년월 & 근무시군구 & 취업건수\\\\\n",
       "  & <int> & <chr> & <int>\\\\\n",
       "\\hline\n",
       "\t1 & 202301 & 0 & 4517\\\\\n",
       "\t2 & 202302 & 0 & 4602\\\\\n",
       "\t3 & 202303 & 0 & 5991\\\\\n",
       "\t4 & 202304 & 0 & 4917\\\\\n",
       "\t5 & 202305 & 0 & 4359\\\\\n",
       "\t6 & 202306 & 0 & 4484\\\\\n",
       "\\end{tabular}\n"
      ],
      "text/markdown": [
       "\n",
       "A data.frame: 6 × 3\n",
       "\n",
       "| <!--/--> | 마감년월 &lt;int&gt; | 근무시군구 &lt;chr&gt; | 취업건수 &lt;int&gt; |\n",
       "|---|---|---|---|\n",
       "| 1 | 202301 | 0 | 4517 |\n",
       "| 2 | 202302 | 0 | 4602 |\n",
       "| 3 | 202303 | 0 | 5991 |\n",
       "| 4 | 202304 | 0 | 4917 |\n",
       "| 5 | 202305 | 0 | 4359 |\n",
       "| 6 | 202306 | 0 | 4484 |\n",
       "\n"
      ],
      "text/plain": [
       "  마감년월 근무시군구 취업건수\n",
       "1 202301   0          4517    \n",
       "2 202302   0          4602    \n",
       "3 202303   0          5991    \n",
       "4 202304   0          4917    \n",
       "5 202305   0          4359    \n",
       "6 202306   0          4484    "
      ]
     },
     "metadata": {},
     "output_type": "display_data"
    },
    {
     "data": {
      "text/html": [
       "23459"
      ],
      "text/latex": [
       "23459"
      ],
      "text/markdown": [
       "23459"
      ],
      "text/plain": [
       "[1] 23459"
      ]
     },
     "metadata": {},
     "output_type": "display_data"
    }
   ],
   "source": [
    "head(jm3)\n",
    "nrow(jm3)"
   ]
  },
  {
   "cell_type": "code",
   "execution_count": 23,
   "metadata": {
    "vscode": {
     "languageId": "r"
    }
   },
   "outputs": [
    {
     "name": "stdout",
     "output_type": "stream",
     "text": [
      "\n",
      "    0 00000 11000 11110 11140 11170 11200 11215 11230 11260 11290 11305 11320 \n",
      "   12    72    84    84    84    84    84    84    84    84    84    84    84 \n",
      "11350 11380 11410 11440 11470 11500 11530 11545 11560 11590 11620 11650 11680 \n",
      "   84    84    84    84    84    84    84    84    84    84    84    84    84 \n",
      "11710 11740 26000 26110 26140 26170 26200 26230 26260 26290 26320 26350 26380 \n",
      "   84    84    84    84    84    84    84    84    84    84    84    84    84 \n",
      "26410 26440 26470 26500 26530 26710 27000 27110 27140 27170 27200 27230 27260 \n",
      "   84    84    84    84    84    84    84    84    84    84    84    84    84 \n",
      "27290 27710 27720 28000 28110 28140 28170 28177 28185 28200 28237 28245 28260 \n",
      "   84    84     7    84    84    84    42    66    84    84    84    84    84 \n",
      "28710 28720 29000 29110 29140 29155 29170 29200 30000 30110 30140 30170 30200 \n",
      "   84    79    84    84    84    84    84    84    84    84    84    84    84 \n",
      "30230 31000 31110 31140 31170 31200 31710 36110 41000 41110 41111 41113 41115 \n",
      "   84    84    84    84    84    84    84    84    84    84    84    84    84 \n",
      "41117 41130 41131 41133 41135 41150 41170 41171 41173 41190 41210 41220 41250 \n",
      "   84    84    84    84    84    84    84    84    84    84    84    84    84 \n",
      "41270 41271 41273 41280 41281 41285 41287 41290 41310 41360 41370 41390 41410 \n",
      "   84    84    84    84    84    84    84    84    84    84    84    84    84 \n",
      "41430 41450 41460 41461 41463 41465 41480 41500 41550 41570 41590 41610 41630 \n",
      "   84    84    84    84    84    84    84    84    84    84    84    84    84 \n",
      "41650 41670 41800 41820 41830 42000 42110 42130 42150 42170 42190 42210 42230 \n",
      "   84    84    84    84    84    77    77    77    77    77    77    77    77 \n",
      "42720 42730 42750 42760 42770 42780 42790 42800 42810 42820 42830 43000 43110 \n",
      "   77    77    77    77    77    77    77    77    77    77    77    84    84 \n",
      "43111 43112 43113 43114 43130 43150 43710 43720 43730 43740 43745 43750 43760 \n",
      "   84    84    84    84    84    84    26    84    84    84    84    84    84 \n",
      "43770 43800 44000 44130 44131 44133 44150 44180 44200 44210 44230 44250 44270 \n",
      "   84    84    84    84    84    84    84    84    84    84    84    84    84 \n",
      "44710 44760 44770 44790 44800 44810 44825 44830 45000 45110 45111 45113 45130 \n",
      "   84    84    84    84    84    84    84     3    84    84    84    84    84 \n",
      "45140 45180 45190 45210 45710 45720 45730 45740 45750 45770 45790 45800 46000 \n",
      "   84    84    84    84    84    84    84    84    84    84    84    84    84 \n",
      "46110 46130 46150 46170 46230 46710 46720 46730 46770 46780 46790 46800 46810 \n",
      "   84    84    84    84    84    84    84    84    84    84    84    84    84 \n",
      "46820 46830 46840 46860 46870 46880 46890 46900 46910 47000 47110 47111 47113 \n",
      "   84    84    84    84    84    84    84    84    84    84    84    84    84 \n",
      "47130 47150 47170 47190 47210 47230 47250 47280 47290 47720 47730 47750 47760 \n",
      "   84    84    84    84    84    84    84    84    84    77    84    84    84 \n",
      "47770 47820 47830 47840 47850 47900 47920 47930 47940 48000 48120 48121 48123 \n",
      "   84    84    84    84    84    84    84    84    82    84    84    84    84 \n",
      "48125 48127 48129 48170 48220 48240 48250 48270 48310 48330 48720 48730 48740 \n",
      "   84    84    84    84    84    84    84    84    84    84    84    84    84 \n",
      "48820 48840 48850 48860 48870 48880 48890 50000 50110 50130 51000 51110 51130 \n",
      "   84    84    84    84    84    84    84    84    84    84     7     7     7 \n",
      "51150 51170 51190 51210 51230 51720 51730 51750 51760 51770 51780 51790 51800 \n",
      "    7     7     7     7     7     7     7     7     7     7     7     7     7 \n",
      "51810 51820 51830 A1000 \n",
      "    7     7     7    61 \n"
     ]
    }
   ],
   "source": [
    "# 근무시도와 근무시군구 별 데이터 갯수 계산\n",
    "data_count <- table(jm3$근무시군구)\n",
    "\n",
    "# 결과 출력\n",
    "print(data_count)"
   ]
  },
  {
   "cell_type": "code",
   "execution_count": 10,
   "metadata": {
    "vscode": {
     "languageId": "r"
    }
   },
   "outputs": [
    {
     "data": {
      "text/plain": [
       "    마감년월        근무시도         표준산업대분류       산업버전        \n",
       " Min.   :201701   Length:3490712     Length:3490712     Length:3490712    \n",
       " 1st Qu.:201810   Class :character   Class :character   Class :character  \n",
       " Median :202008   Mode  :character   Mode  :character   Mode  :character  \n",
       " Mean   :202014                                                           \n",
       " 3rd Qu.:202204                                                           \n",
       " Max.   :202312                                                           \n",
       "  직종중분류           직종버전       고용형태       거주시도        \n",
       " Length:3490712     Min.   :2007   Min.   :10.00   Length:3490712    \n",
       " Class :character   1st Qu.:2018   1st Qu.:10.00   Class :character  \n",
       " Mode  :character   Median :2018   Median :11.00   Mode  :character  \n",
       "                    Mean   :2016   Mean   :36.03                     \n",
       "                    3rd Qu.:2018   3rd Qu.:99.00                     \n",
       "                    Max.   :2018   Max.   :99.00                     \n",
       "     성별            연령5세단위         학력              취업건수       \n",
       " Length:3490712     Min.   : 3.000   Length:3490712     Min.   :   1.000  \n",
       " Class :character   1st Qu.: 4.000   Class :character   1st Qu.:   1.000  \n",
       " Mode  :character   Median : 6.000   Mode  :character   Median :   1.000  \n",
       "                    Mean   : 6.279                      Mean   :   3.497  \n",
       "                    3rd Qu.: 8.000                      3rd Qu.:   2.000  \n",
       "                    Max.   :12.000                      Max.   :1754.000  "
      ]
     },
     "metadata": {},
     "output_type": "display_data"
    }
   ],
   "source": [
    "summary(jm2)"
   ]
  },
  {
   "cell_type": "markdown",
   "metadata": {},
   "source": [
    "#### (3) 가설 수립 및 그에 따른 데이터 병합하기\n",
    "\n",
    "- 데이터를 구성하고 있는 변수는 다음과 같다.\n",
    "  - 독립변수: 마감년월, 근무시도, 근무시군구, 표준산업대분류, 산업버전, 직종중분류, 직종버전, 고용형태, 거주시도, 거주시군구, 성별, 연령5세단위, 학력\n",
    "  - 반응변수: 취업건수\n",
    "\n",
    "- 검증할 가설을 다음과 같이 단계별로 수립하였다.\n",
    "  - (1단계) 성별에 따른 취업건수의 차이가 있는지에 대해 가설을 설정하고, 검증한다.\n",
    "    - 귀무가설(H0): 성별에 따른 취업건수의 차이가 없다.\n",
    "    - 대립가설(H1): 성별에 따른 취업건수의 차이가 있다.\n",
    "  - (2단계) 학력 별로 성별에 따른 취업건수의 차이가 있는지에 대해 가설을 설정하고, 검증한다.\n",
    "    - 귀무가설(H0): 각각의 학력에서 성별에 따른 취업건수의 차이가 없다.\n",
    "    - 대립가설(H1): 각각의 학력에서 성별에 따른 취업건수의 차이가 있다.\n",
    "  - (3단계) 직종중분류 별로 성별에 따른 취업건수의 차이가 있는지에 대해 가설을 설정하고, 검증한다.\n",
    "    - 귀무가설(H0): 각각의 직종중분류에서 성별에 따른 취업건수의 차이가 없다.\n",
    "    - 대립가설(H1): 각각의 직종중분류에서 성별에 따른 취업건수의 차이가 있다.\n",
    "  - (4단계) 표준산업대분류 별로 성별에 따른 취업건수의 차이가 있는지에 대해 가설을 설정하고, 검증한다.\n",
    "    - 귀무가설(H0): 각각의 산업분류에서 성별에 따른 취업건수의 차이가 없다.\n",
    "    - 대립가설(H1): 각각의 산업분류에서 성별에 따른 취업건수의 차이가 있다."
   ]
  },
  {
   "cell_type": "code",
   "execution_count": 5,
   "metadata": {
    "vscode": {
     "languageId": "r"
    }
   },
   "outputs": [
    {
     "data": {
      "text/html": [
       "1.29674977619943"
      ],
      "text/latex": [
       "1.29674977619943"
      ],
      "text/markdown": [
       "1.29674977619943"
      ],
      "text/plain": [
       "[1] 1.29675"
      ]
     },
     "metadata": {},
     "output_type": "display_data"
    },
    {
     "data": {
      "text/html": [
       "12.6743363234529"
      ],
      "text/latex": [
       "12.6743363234529"
      ],
      "text/markdown": [
       "12.6743363234529"
      ],
      "text/plain": [
       "[1] 12.67434"
      ]
     },
     "metadata": {},
     "output_type": "display_data"
    }
   ],
   "source": [
    "mean_value = mean(jm$취업건수)\n",
    "var_value = var(jm$취업건수)\n",
    "\n",
    "mean_value\n",
    "var_value"
   ]
  },
  {
   "cell_type": "code",
   "execution_count": 9,
   "metadata": {
    "vscode": {
     "languageId": "r"
    }
   },
   "outputs": [
    {
     "ename": "",
     "evalue": "",
     "output_type": "error",
     "traceback": [
      "\u001b[1;31mThe Kernel crashed while executing code in the current cell or a previous cell. \n",
      "\u001b[1;31mPlease review the code in the cell(s) to identify a possible cause of the failure. \n",
      "\u001b[1;31mClick <a href='https://aka.ms/vscodeJupyterKernelCrash'>here</a> for more info. \n",
      "\u001b[1;31mView Jupyter <a href='command:jupyter.viewOutput'>log</a> for further details."
     ]
    }
   ],
   "source": [
    "hist(jm$취업건수, breaks = 5, main = \"취업건수의 히스토그램\", xlab = \"취업건수\", col = \"lightblue\", border = \"black\")\n",
    "\n",
    "qqplot(qpois(ppoints(length(jm$취업건수)), lambda = mean_value), jm$취업건수, \n",
    "       main = \"Q-Q plot for Poisson Distribution\", xlab = \"Theoretical Quantiles\", ylab = \"Sample Quantiles\")\n",
    "abline(0, 1, col = \"red\")  # 이상적인 포아송 분포에 대한 직선 추가"
   ]
  },
  {
   "cell_type": "code",
   "execution_count": 49,
   "metadata": {
    "vscode": {
     "languageId": "r"
    }
   },
   "outputs": [
    {
     "data": {
      "text/html": [
       "<table class=\"dataframe\">\n",
       "<caption>A data.frame: 6 × 4</caption>\n",
       "<thead>\n",
       "\t<tr><th></th><th scope=col>마감년월</th><th scope=col>신규구인인원수</th><th scope=col>신규구직인원수</th><th scope=col>취업건수</th></tr>\n",
       "\t<tr><th></th><th scope=col>&lt;int&gt;</th><th scope=col>&lt;int&gt;</th><th scope=col>&lt;int&gt;</th><th scope=col>&lt;int&gt;</th></tr>\n",
       "</thead>\n",
       "<tbody>\n",
       "\t<tr><th scope=row>1</th><td>201701</td><td>224983</td><td>426861</td><td>161230</td></tr>\n",
       "\t<tr><th scope=row>2</th><td>201702</td><td>252792</td><td>382156</td><td>177487</td></tr>\n",
       "\t<tr><th scope=row>3</th><td>201703</td><td>291239</td><td>439622</td><td>232056</td></tr>\n",
       "\t<tr><th scope=row>4</th><td>201704</td><td>227691</td><td>393868</td><td>186073</td></tr>\n",
       "\t<tr><th scope=row>5</th><td>201705</td><td>240140</td><td>389291</td><td>163494</td></tr>\n",
       "\t<tr><th scope=row>6</th><td>201706</td><td>262634</td><td>417662</td><td>179860</td></tr>\n",
       "</tbody>\n",
       "</table>\n"
      ],
      "text/latex": [
       "A data.frame: 6 × 4\n",
       "\\begin{tabular}{r|llll}\n",
       "  & 마감년월 & 신규구인인원수 & 신규구직인원수 & 취업건수\\\\\n",
       "  & <int> & <int> & <int> & <int>\\\\\n",
       "\\hline\n",
       "\t1 & 201701 & 224983 & 426861 & 161230\\\\\n",
       "\t2 & 201702 & 252792 & 382156 & 177487\\\\\n",
       "\t3 & 201703 & 291239 & 439622 & 232056\\\\\n",
       "\t4 & 201704 & 227691 & 393868 & 186073\\\\\n",
       "\t5 & 201705 & 240140 & 389291 & 163494\\\\\n",
       "\t6 & 201706 & 262634 & 417662 & 179860\\\\\n",
       "\\end{tabular}\n"
      ],
      "text/markdown": [
       "\n",
       "A data.frame: 6 × 4\n",
       "\n",
       "| <!--/--> | 마감년월 &lt;int&gt; | 신규구인인원수 &lt;int&gt; | 신규구직인원수 &lt;int&gt; | 취업건수 &lt;int&gt; |\n",
       "|---|---|---|---|---|\n",
       "| 1 | 201701 | 224983 | 426861 | 161230 |\n",
       "| 2 | 201702 | 252792 | 382156 | 177487 |\n",
       "| 3 | 201703 | 291239 | 439622 | 232056 |\n",
       "| 4 | 201704 | 227691 | 393868 | 186073 |\n",
       "| 5 | 201705 | 240140 | 389291 | 163494 |\n",
       "| 6 | 201706 | 262634 | 417662 | 179860 |\n",
       "\n"
      ],
      "text/plain": [
       "  마감년월 신규구인인원수 신규구직인원수 취업건수\n",
       "1 201701   224983         426861         161230  \n",
       "2 201702   252792         382156         177487  \n",
       "3 201703   291239         439622         232056  \n",
       "4 201704   227691         393868         186073  \n",
       "5 201705   240140         389291         163494  \n",
       "6 201706   262634         417662         179860  "
      ]
     },
     "metadata": {},
     "output_type": "display_data"
    }
   ],
   "source": [
    "# rc2, fj2, jm2 데이터셋을 마감년월을 기준으로 병합\n",
    "agg <- merge(rc2, fj2, by = \"마감년월\", all = TRUE)\n",
    "agg <- merge(agg, jm2, by = \"마감년월\", all = TRUE)\n",
    "\n",
    "# 결과 확인\n",
    "head(agg)"
   ]
  },
  {
   "cell_type": "markdown",
   "metadata": {},
   "source": [
    "- 마감년월이 int 6자리 데이터로 입력되어 있는데, 분석을 위해서는 변환이 필요하다 생각되었다.\n",
    "- 201701 -> 1로 201702 -> 2로 ... 202312 -> 84가 되도록 마감년월 컬럼을 변환하였다."
   ]
  },
  {
   "cell_type": "code",
   "execution_count": 50,
   "metadata": {
    "vscode": {
     "languageId": "r"
    }
   },
   "outputs": [
    {
     "data": {
      "text/html": [
       "<table class=\"dataframe\">\n",
       "<caption>A data.frame: 6 × 4</caption>\n",
       "<thead>\n",
       "\t<tr><th></th><th scope=col>마감년월</th><th scope=col>신규구인인원수</th><th scope=col>신규구직인원수</th><th scope=col>취업건수</th></tr>\n",
       "\t<tr><th></th><th scope=col>&lt;int&gt;</th><th scope=col>&lt;int&gt;</th><th scope=col>&lt;int&gt;</th><th scope=col>&lt;int&gt;</th></tr>\n",
       "</thead>\n",
       "<tbody>\n",
       "\t<tr><th scope=row>1</th><td>1</td><td>224983</td><td>426861</td><td>161230</td></tr>\n",
       "\t<tr><th scope=row>2</th><td>2</td><td>252792</td><td>382156</td><td>177487</td></tr>\n",
       "\t<tr><th scope=row>3</th><td>3</td><td>291239</td><td>439622</td><td>232056</td></tr>\n",
       "\t<tr><th scope=row>4</th><td>4</td><td>227691</td><td>393868</td><td>186073</td></tr>\n",
       "\t<tr><th scope=row>5</th><td>5</td><td>240140</td><td>389291</td><td>163494</td></tr>\n",
       "\t<tr><th scope=row>6</th><td>6</td><td>262634</td><td>417662</td><td>179860</td></tr>\n",
       "</tbody>\n",
       "</table>\n"
      ],
      "text/latex": [
       "A data.frame: 6 × 4\n",
       "\\begin{tabular}{r|llll}\n",
       "  & 마감년월 & 신규구인인원수 & 신규구직인원수 & 취업건수\\\\\n",
       "  & <int> & <int> & <int> & <int>\\\\\n",
       "\\hline\n",
       "\t1 & 1 & 224983 & 426861 & 161230\\\\\n",
       "\t2 & 2 & 252792 & 382156 & 177487\\\\\n",
       "\t3 & 3 & 291239 & 439622 & 232056\\\\\n",
       "\t4 & 4 & 227691 & 393868 & 186073\\\\\n",
       "\t5 & 5 & 240140 & 389291 & 163494\\\\\n",
       "\t6 & 6 & 262634 & 417662 & 179860\\\\\n",
       "\\end{tabular}\n"
      ],
      "text/markdown": [
       "\n",
       "A data.frame: 6 × 4\n",
       "\n",
       "| <!--/--> | 마감년월 &lt;int&gt; | 신규구인인원수 &lt;int&gt; | 신규구직인원수 &lt;int&gt; | 취업건수 &lt;int&gt; |\n",
       "|---|---|---|---|---|\n",
       "| 1 | 1 | 224983 | 426861 | 161230 |\n",
       "| 2 | 2 | 252792 | 382156 | 177487 |\n",
       "| 3 | 3 | 291239 | 439622 | 232056 |\n",
       "| 4 | 4 | 227691 | 393868 | 186073 |\n",
       "| 5 | 5 | 240140 | 389291 | 163494 |\n",
       "| 6 | 6 | 262634 | 417662 | 179860 |\n",
       "\n"
      ],
      "text/plain": [
       "  마감년월 신규구인인원수 신규구직인원수 취업건수\n",
       "1 1        224983         426861         161230  \n",
       "2 2        252792         382156         177487  \n",
       "3 3        291239         439622         232056  \n",
       "4 4        227691         393868         186073  \n",
       "5 5        240140         389291         163494  \n",
       "6 6        262634         417662         179860  "
      ]
     },
     "metadata": {},
     "output_type": "display_data"
    }
   ],
   "source": [
    "# 마감년월을 1부터 시작하는 연속된 숫자로 변환\n",
    "agg$마감년월 <- seq_along(agg$마감년월)\n",
    "\n",
    "# 결과 확인\n",
    "head(agg)"
   ]
  },
  {
   "cell_type": "markdown",
   "metadata": {},
   "source": [
    "- 통합된 데이터가 대략 어떤 값을 가지는지 확인할 필요가 있다.\n",
    "- 신규구인인원수는 121563~306400, 신규구직인원수는 277838~605342, 취업건수는 93504~232056 사이의 값을 가진다."
   ]
  },
  {
   "cell_type": "code",
   "execution_count": 51,
   "metadata": {
    "vscode": {
     "languageId": "r"
    }
   },
   "outputs": [
    {
     "data": {
      "text/plain": [
       "    마감년월     신규구인인원수   신규구직인원수      취업건수     \n",
       " Min.   : 1.00   Min.   :121563   Min.   :277838   Min.   : 93504  \n",
       " 1st Qu.:21.75   1st Qu.:182455   1st Qu.:344173   1st Qu.:129242  \n",
       " Median :42.50   Median :225365   Median :378638   Median :141741  \n",
       " Mean   :42.50   Mean   :220412   Mean   :381199   Mean   :145304  \n",
       " 3rd Qu.:63.25   3rd Qu.:250477   3rd Qu.:407366   3rd Qu.:155430  \n",
       " Max.   :84.00   Max.   :306400   Max.   :605342   Max.   :232056  "
      ]
     },
     "metadata": {},
     "output_type": "display_data"
    }
   ],
   "source": [
    "summary(agg)"
   ]
  },
  {
   "cell_type": "markdown",
   "metadata": {},
   "source": [
    "- 연도별로 월별 신규구인인원수, 신규구직인원수, 취업건수가 각각 어느정도 수준인지 파악하기 위해 막대그래프를 그려보았다.\n",
    "- 총 84개월의 데이터를 한 번에 보기는 어렵기 때문에 연도별로 나누어 보았다.\n",
    "- 2017년과 2023년의 그래프를 그렸다."
   ]
  },
  {
   "cell_type": "code",
   "execution_count": 52,
   "metadata": {
    "vscode": {
     "languageId": "r"
    }
   },
   "outputs": [
    {
     "data": {
      "image/png": "[encoded data removed]",
      "text/plain": [
       "plot without title"
      ]
     },
     "metadata": {
      "image/png": {
       "height": 420,
       "width": 420
      }
     },
     "output_type": "display_data"
    },
    {
     "data": {
      "image/png": "[encoded data removed]",
      "text/plain": [
       "plot without title"
      ]
     },
     "metadata": {
      "image/png": {
       "height": 420,
       "width": 420
      }
     },
     "output_type": "display_data"
    }
   ],
   "source": [
    "library(ggplot2)\n",
    "library(reshape2)\n",
    "\n",
    "# 2017년 데이터 필터링\n",
    "agg_2017 <- subset(agg, 마감년월 <= 12)\n",
    "\n",
    "# 데이터 long 형태로 변환\n",
    "agg_2017_long <- melt(agg_2017, id.vars = \"마감년월\", \n",
    "                      measure.vars = c(\"신규구인인원수\", \"신규구직인원수\", \"취업건수\"),\n",
    "                      variable.name = \"변수\", \n",
    "                      value.name = \"값\")\n",
    "\n",
    "# 2017년 그래프 그리기\n",
    "ggplot(agg_2017_long, aes(x = 마감년월, y = 값, fill = 변수)) +\n",
    "  geom_bar(stat = \"identity\", position = \"dodge\") +\n",
    "  scale_x_continuous(breaks = 1:12)\n",
    "\n",
    "# 2023년 데이터 필터링\n",
    "agg_2023 <- subset(agg, 마감년월 >= 73)\n",
    "\n",
    "# 데이터 long 형태로 변환\n",
    "agg_2023_long <- melt(agg_2023, id.vars = \"마감년월\", \n",
    "                      measure.vars = c(\"신규구인인원수\", \"신규구직인원수\", \"취업건수\"),\n",
    "                      variable.name = \"변수\", \n",
    "                      value.name = \"값\")\n",
    "\n",
    "# 2023년 그래프 그리기\n",
    "ggplot(agg_2023_long, aes(x = 마감년월, y = 값, fill = 변수)) +\n",
    "  geom_bar(stat = \"identity\", position = \"dodge\") +\n",
    "  scale_x_continuous(breaks = 73:84)"
   ]
  },
  {
   "cell_type": "markdown",
   "metadata": {},
   "source": [
    "- 분석을 보다 원활하게 하기 위해 컬럼명을 변경하였다."
   ]
  },
  {
   "cell_type": "code",
   "execution_count": 53,
   "metadata": {
    "vscode": {
     "languageId": "r"
    }
   },
   "outputs": [],
   "source": [
    "# 컬럼명 변경\n",
    "names(agg)[names(agg) == \"마감년월\"] <- \"month\"\n",
    "names(agg)[names(agg) == \"신규구인인원수\"] <- \"rc\"\n",
    "names(agg)[names(agg) == \"신규구직인원수\"] <- \"fj\"\n",
    "names(agg)[names(agg) == \"취업건수\"] <- \"jm\""
   ]
  },
  {
   "cell_type": "code",
   "execution_count": 54,
   "metadata": {
    "vscode": {
     "languageId": "r"
    }
   },
   "outputs": [
    {
     "data": {
      "text/html": [
       "<table class=\"dataframe\">\n",
       "<caption>A data.frame: 6 × 4</caption>\n",
       "<thead>\n",
       "\t<tr><th></th><th scope=col>month</th><th scope=col>rc</th><th scope=col>fj</th><th scope=col>jm</th></tr>\n",
       "\t<tr><th></th><th scope=col>&lt;int&gt;</th><th scope=col>&lt;int&gt;</th><th scope=col>&lt;int&gt;</th><th scope=col>&lt;int&gt;</th></tr>\n",
       "</thead>\n",
       "<tbody>\n",
       "\t<tr><th scope=row>1</th><td>1</td><td>224983</td><td>426861</td><td>161230</td></tr>\n",
       "\t<tr><th scope=row>2</th><td>2</td><td>252792</td><td>382156</td><td>177487</td></tr>\n",
       "\t<tr><th scope=row>3</th><td>3</td><td>291239</td><td>439622</td><td>232056</td></tr>\n",
       "\t<tr><th scope=row>4</th><td>4</td><td>227691</td><td>393868</td><td>186073</td></tr>\n",
       "\t<tr><th scope=row>5</th><td>5</td><td>240140</td><td>389291</td><td>163494</td></tr>\n",
       "\t<tr><th scope=row>6</th><td>6</td><td>262634</td><td>417662</td><td>179860</td></tr>\n",
       "</tbody>\n",
       "</table>\n"
      ],
      "text/latex": [
       "A data.frame: 6 × 4\n",
       "\\begin{tabular}{r|llll}\n",
       "  & month & rc & fj & jm\\\\\n",
       "  & <int> & <int> & <int> & <int>\\\\\n",
       "\\hline\n",
       "\t1 & 1 & 224983 & 426861 & 161230\\\\\n",
       "\t2 & 2 & 252792 & 382156 & 177487\\\\\n",
       "\t3 & 3 & 291239 & 439622 & 232056\\\\\n",
       "\t4 & 4 & 227691 & 393868 & 186073\\\\\n",
       "\t5 & 5 & 240140 & 389291 & 163494\\\\\n",
       "\t6 & 6 & 262634 & 417662 & 179860\\\\\n",
       "\\end{tabular}\n"
      ],
      "text/markdown": [
       "\n",
       "A data.frame: 6 × 4\n",
       "\n",
       "| <!--/--> | month &lt;int&gt; | rc &lt;int&gt; | fj &lt;int&gt; | jm &lt;int&gt; |\n",
       "|---|---|---|---|---|\n",
       "| 1 | 1 | 224983 | 426861 | 161230 |\n",
       "| 2 | 2 | 252792 | 382156 | 177487 |\n",
       "| 3 | 3 | 291239 | 439622 | 232056 |\n",
       "| 4 | 4 | 227691 | 393868 | 186073 |\n",
       "| 5 | 5 | 240140 | 389291 | 163494 |\n",
       "| 6 | 6 | 262634 | 417662 | 179860 |\n",
       "\n"
      ],
      "text/plain": [
       "  month rc     fj     jm    \n",
       "1 1     224983 426861 161230\n",
       "2 2     252792 382156 177487\n",
       "3 3     291239 439622 232056\n",
       "4 4     227691 393868 186073\n",
       "5 5     240140 389291 163494\n",
       "6 6     262634 417662 179860"
      ]
     },
     "metadata": {},
     "output_type": "display_data"
    }
   ],
   "source": [
    "head(agg)"
   ]
  },
  {
   "cell_type": "markdown",
   "metadata": {},
   "source": [
    "- 이제 2017년 1월부터 2023년 12월까지의 rc(신규구인인원수), fj(신규구직인원수), jm(취업건수) 데이터를 얻었다.\n",
    "- 시차를 감안하여 검증해야 할 가설을 다시 생각해보면 2017년 7월의 취업건수는 ①해당월, ②해당월+직전월, ③직전3개월, ④직전6개월 의 rc와 fj에 영향을 받을 수 있다는 내용이다.\n",
    "- 따라서, 데이터셋에 해당 기간의 rc와 fj를 추가할 필요가 있다."
   ]
  },
  {
   "cell_type": "code",
   "execution_count": 55,
   "metadata": {
    "vscode": {
     "languageId": "r"
    }
   },
   "outputs": [],
   "source": [
    "# 새로운 컬럼 추가: 신규구인_0to1\n",
    "agg$rc_0to1 <- sapply(agg$month, function(month) {\n",
    "  if (month >= 2) {\n",
    "    sum(agg$rc[agg$month <= month & agg$month >= month-1]/2, na.rm = TRUE)\n",
    "  } else {\n",
    "    NA\n",
    "  }\n",
    "})\n",
    "\n",
    "# 새로운 컬럼 추가: 신규구인_1to3\n",
    "agg$rc_1to3 <- sapply(agg$month, function(month) {\n",
    "  if (month >= 4) {\n",
    "    sum(agg$rc[agg$month <= month-1 & agg$month >= month-3]/3, na.rm = TRUE)\n",
    "  } else {\n",
    "    NA\n",
    "  }\n",
    "})\n",
    "\n",
    "# 새로운 컬럼 추가: 신규구인_1to6\n",
    "agg$rc_1to6 <- sapply(agg$month, function(month) {\n",
    "  if (month >= 7) {\n",
    "    sum(agg$rc[agg$month <= month-1 & agg$month >= month-6]/6, na.rm = TRUE)\n",
    "  } else {\n",
    "    NA\n",
    "  }\n",
    "})\n",
    "\n",
    "# 새로운 컬럼 추가: 신규구직_0to1\n",
    "agg$fj_0to1 <- sapply(agg$month, function(month) {\n",
    "  if (month >= 2) {\n",
    "    sum(agg$fj[agg$month <= month & agg$month >= month-1]/2, na.rm = TRUE)\n",
    "  } else {\n",
    "    NA\n",
    "  }\n",
    "})\n",
    "\n",
    "# 새로운 컬럼 추가: 신규구직_1to3\n",
    "agg$fj_1to3 <- sapply(agg$month, function(month) {\n",
    "  if (month >= 4) {\n",
    "    sum(agg$fj[agg$month <= month-1 & agg$month >= month-3]/3, na.rm = TRUE)\n",
    "  } else {\n",
    "    NA\n",
    "  }\n",
    "})\n",
    "\n",
    "# 새로운 컬럼 추가: 신규구직_1to6\n",
    "agg$fj_1to6 <- sapply(agg$month, function(month) {\n",
    "  if (month >= 7) {\n",
    "    sum(agg$fj[agg$month <= month-1 & agg$month >= month-6]/6, na.rm = TRUE)\n",
    "  } else {\n",
    "    NA\n",
    "  }\n",
    "})\n"
   ]
  },
  {
   "cell_type": "code",
   "execution_count": 56,
   "metadata": {
    "vscode": {
     "languageId": "r"
    }
   },
   "outputs": [
    {
     "data": {
      "text/html": [
       "<table class=\"dataframe\">\n",
       "<caption>A data.frame: 10 × 10</caption>\n",
       "<thead>\n",
       "\t<tr><th></th><th scope=col>month</th><th scope=col>rc</th><th scope=col>fj</th><th scope=col>jm</th><th scope=col>rc_0to1</th><th scope=col>rc_1to3</th><th scope=col>rc_1to6</th><th scope=col>fj_0to1</th><th scope=col>fj_1to3</th><th scope=col>fj_1to6</th></tr>\n",
       "\t<tr><th></th><th scope=col>&lt;int&gt;</th><th scope=col>&lt;int&gt;</th><th scope=col>&lt;int&gt;</th><th scope=col>&lt;int&gt;</th><th scope=col>&lt;dbl&gt;</th><th scope=col>&lt;dbl&gt;</th><th scope=col>&lt;dbl&gt;</th><th scope=col>&lt;dbl&gt;</th><th scope=col>&lt;dbl&gt;</th><th scope=col>&lt;dbl&gt;</th></tr>\n",
       "</thead>\n",
       "<tbody>\n",
       "\t<tr><th scope=row>1</th><td> 1</td><td>224983</td><td>426861</td><td>161230</td><td>      NA</td><td>      NA</td><td>      NA</td><td>      NA</td><td>      NA</td><td>      NA</td></tr>\n",
       "\t<tr><th scope=row>2</th><td> 2</td><td>252792</td><td>382156</td><td>177487</td><td>238887.5</td><td>      NA</td><td>      NA</td><td>404508.5</td><td>      NA</td><td>      NA</td></tr>\n",
       "\t<tr><th scope=row>3</th><td> 3</td><td>291239</td><td>439622</td><td>232056</td><td>272015.5</td><td>      NA</td><td>      NA</td><td>410889.0</td><td>      NA</td><td>      NA</td></tr>\n",
       "\t<tr><th scope=row>4</th><td> 4</td><td>227691</td><td>393868</td><td>186073</td><td>259465.0</td><td>256338.0</td><td>      NA</td><td>416745.0</td><td>416213.0</td><td>      NA</td></tr>\n",
       "\t<tr><th scope=row>5</th><td> 5</td><td>240140</td><td>389291</td><td>163494</td><td>233915.5</td><td>257240.7</td><td>      NA</td><td>391579.5</td><td>405215.3</td><td>      NA</td></tr>\n",
       "\t<tr><th scope=row>6</th><td> 6</td><td>262634</td><td>417662</td><td>179860</td><td>251387.0</td><td>253023.3</td><td>      NA</td><td>403476.5</td><td>407593.7</td><td>      NA</td></tr>\n",
       "\t<tr><th scope=row>7</th><td> 7</td><td>226400</td><td>417453</td><td>193099</td><td>244517.0</td><td>243488.3</td><td>249913.2</td><td>417557.5</td><td>400273.7</td><td>408243.3</td></tr>\n",
       "\t<tr><th scope=row>8</th><td> 8</td><td>246381</td><td>399056</td><td>181303</td><td>236390.5</td><td>243058.0</td><td>250149.3</td><td>408254.5</td><td>408135.3</td><td>406675.3</td></tr>\n",
       "\t<tr><th scope=row>9</th><td> 9</td><td>240530</td><td>406449</td><td>201418</td><td>243455.5</td><td>245138.3</td><td>249080.8</td><td>402752.5</td><td>411390.3</td><td>409492.0</td></tr>\n",
       "\t<tr><th scope=row>10</th><td>10</td><td>206689</td><td>354656</td><td>142960</td><td>223609.5</td><td>237770.3</td><td>240629.3</td><td>380552.5</td><td>407652.7</td><td>403963.2</td></tr>\n",
       "</tbody>\n",
       "</table>\n"
      ],
      "text/latex": [
       "A data.frame: 10 × 10\n",
       "\\begin{tabular}{r|llllllllll}\n",
       "  & month & rc & fj & jm & rc\\_0to1 & rc\\_1to3 & rc\\_1to6 & fj\\_0to1 & fj\\_1to3 & fj\\_1to6\\\\\n",
       "  & <int> & <int> & <int> & <int> & <dbl> & <dbl> & <dbl> & <dbl> & <dbl> & <dbl>\\\\\n",
       "\\hline\n",
       "\t1 &  1 & 224983 & 426861 & 161230 &       NA &       NA &       NA &       NA &       NA &       NA\\\\\n",
       "\t2 &  2 & 252792 & 382156 & 177487 & 238887.5 &       NA &       NA & 404508.5 &       NA &       NA\\\\\n",
       "\t3 &  3 & 291239 & 439622 & 232056 & 272015.5 &       NA &       NA & 410889.0 &       NA &       NA\\\\\n",
       "\t4 &  4 & 227691 & 393868 & 186073 & 259465.0 & 256338.0 &       NA & 416745.0 & 416213.0 &       NA\\\\\n",
       "\t5 &  5 & 240140 & 389291 & 163494 & 233915.5 & 257240.7 &       NA & 391579.5 & 405215.3 &       NA\\\\\n",
       "\t6 &  6 & 262634 & 417662 & 179860 & 251387.0 & 253023.3 &       NA & 403476.5 & 407593.7 &       NA\\\\\n",
       "\t7 &  7 & 226400 & 417453 & 193099 & 244517.0 & 243488.3 & 249913.2 & 417557.5 & 400273.7 & 408243.3\\\\\n",
       "\t8 &  8 & 246381 & 399056 & 181303 & 236390.5 & 243058.0 & 250149.3 & 408254.5 & 408135.3 & 406675.3\\\\\n",
       "\t9 &  9 & 240530 & 406449 & 201418 & 243455.5 & 245138.3 & 249080.8 & 402752.5 & 411390.3 & 409492.0\\\\\n",
       "\t10 & 10 & 206689 & 354656 & 142960 & 223609.5 & 237770.3 & 240629.3 & 380552.5 & 407652.7 & 403963.2\\\\\n",
       "\\end{tabular}\n"
      ],
      "text/markdown": [
       "\n",
       "A data.frame: 10 × 10\n",
       "\n",
       "| <!--/--> | month &lt;int&gt; | rc &lt;int&gt; | fj &lt;int&gt; | jm &lt;int&gt; | rc_0to1 &lt;dbl&gt; | rc_1to3 &lt;dbl&gt; | rc_1to6 &lt;dbl&gt; | fj_0to1 &lt;dbl&gt; | fj_1to3 &lt;dbl&gt; | fj_1to6 &lt;dbl&gt; |\n",
       "|---|---|---|---|---|---|---|---|---|---|---|\n",
       "| 1 |  1 | 224983 | 426861 | 161230 |       NA |       NA |       NA |       NA |       NA |       NA |\n",
       "| 2 |  2 | 252792 | 382156 | 177487 | 238887.5 |       NA |       NA | 404508.5 |       NA |       NA |\n",
       "| 3 |  3 | 291239 | 439622 | 232056 | 272015.5 |       NA |       NA | 410889.0 |       NA |       NA |\n",
       "| 4 |  4 | 227691 | 393868 | 186073 | 259465.0 | 256338.0 |       NA | 416745.0 | 416213.0 |       NA |\n",
       "| 5 |  5 | 240140 | 389291 | 163494 | 233915.5 | 257240.7 |       NA | 391579.5 | 405215.3 |       NA |\n",
       "| 6 |  6 | 262634 | 417662 | 179860 | 251387.0 | 253023.3 |       NA | 403476.5 | 407593.7 |       NA |\n",
       "| 7 |  7 | 226400 | 417453 | 193099 | 244517.0 | 243488.3 | 249913.2 | 417557.5 | 400273.7 | 408243.3 |\n",
       "| 8 |  8 | 246381 | 399056 | 181303 | 236390.5 | 243058.0 | 250149.3 | 408254.5 | 408135.3 | 406675.3 |\n",
       "| 9 |  9 | 240530 | 406449 | 201418 | 243455.5 | 245138.3 | 249080.8 | 402752.5 | 411390.3 | 409492.0 |\n",
       "| 10 | 10 | 206689 | 354656 | 142960 | 223609.5 | 237770.3 | 240629.3 | 380552.5 | 407652.7 | 403963.2 |\n",
       "\n"
      ],
      "text/plain": [
       "   month rc     fj     jm     rc_0to1  rc_1to3  rc_1to6  fj_0to1  fj_1to3 \n",
       "1   1    224983 426861 161230       NA       NA       NA       NA       NA\n",
       "2   2    252792 382156 177487 238887.5       NA       NA 404508.5       NA\n",
       "3   3    291239 439622 232056 272015.5       NA       NA 410889.0       NA\n",
       "4   4    227691 393868 186073 259465.0 256338.0       NA 416745.0 416213.0\n",
       "5   5    240140 389291 163494 233915.5 257240.7       NA 391579.5 405215.3\n",
       "6   6    262634 417662 179860 251387.0 253023.3       NA 403476.5 407593.7\n",
       "7   7    226400 417453 193099 244517.0 243488.3 249913.2 417557.5 400273.7\n",
       "8   8    246381 399056 181303 236390.5 243058.0 250149.3 408254.5 408135.3\n",
       "9   9    240530 406449 201418 243455.5 245138.3 249080.8 402752.5 411390.3\n",
       "10 10    206689 354656 142960 223609.5 237770.3 240629.3 380552.5 407652.7\n",
       "   fj_1to6 \n",
       "1        NA\n",
       "2        NA\n",
       "3        NA\n",
       "4        NA\n",
       "5        NA\n",
       "6        NA\n",
       "7  408243.3\n",
       "8  406675.3\n",
       "9  409492.0\n",
       "10 403963.2"
      ]
     },
     "metadata": {},
     "output_type": "display_data"
    }
   ],
   "source": [
    "# 추가된 컬럼을 확인한다.\n",
    "head(agg, 10)"
   ]
  },
  {
   "cell_type": "markdown",
   "metadata": {},
   "source": [
    "#### (5) 데이터셋 마무리하기\n",
    "- 데이터셋 통합작업은 거의 마무리되었다.\n",
    "- 마지막으로 agg 변수의 데이터를 result 로 복사하고 작업을 끝낸다.\n",
    "- 이때 month 1~6 인 데이터에는 일부 값들이 존재하지 않으므로 month가 7 이상인 데이터만 복사한다.\n",
    "- 나중에 예측값이 결과값과 비슷한지 확인하기 위해 month가 79 이상인 값은 제외한다.\n",
    "- 분석 편의를 위해 컬럼 순서를 조정한다."
   ]
  },
  {
   "cell_type": "code",
   "execution_count": 57,
   "metadata": {
    "vscode": {
     "languageId": "r"
    }
   },
   "outputs": [
    {
     "data": {
      "text/html": [
       "<table class=\"dataframe\">\n",
       "<caption>A data.frame: 6 × 10</caption>\n",
       "<thead>\n",
       "\t<tr><th></th><th scope=col>month</th><th scope=col>jm</th><th scope=col>rc</th><th scope=col>rc_0to1</th><th scope=col>rc_1to3</th><th scope=col>rc_1to6</th><th scope=col>fj</th><th scope=col>fj_0to1</th><th scope=col>fj_1to3</th><th scope=col>fj_1to6</th></tr>\n",
       "\t<tr><th></th><th scope=col>&lt;int&gt;</th><th scope=col>&lt;int&gt;</th><th scope=col>&lt;int&gt;</th><th scope=col>&lt;dbl&gt;</th><th scope=col>&lt;dbl&gt;</th><th scope=col>&lt;dbl&gt;</th><th scope=col>&lt;int&gt;</th><th scope=col>&lt;dbl&gt;</th><th scope=col>&lt;dbl&gt;</th><th scope=col>&lt;dbl&gt;</th></tr>\n",
       "</thead>\n",
       "<tbody>\n",
       "\t<tr><th scope=row>7</th><td> 7</td><td>193099</td><td>226400</td><td>244517.0</td><td>243488.3</td><td>249913.2</td><td>417453</td><td>417557.5</td><td>400273.7</td><td>408243.3</td></tr>\n",
       "\t<tr><th scope=row>8</th><td> 8</td><td>181303</td><td>246381</td><td>236390.5</td><td>243058.0</td><td>250149.3</td><td>399056</td><td>408254.5</td><td>408135.3</td><td>406675.3</td></tr>\n",
       "\t<tr><th scope=row>9</th><td> 9</td><td>201418</td><td>240530</td><td>243455.5</td><td>245138.3</td><td>249080.8</td><td>406449</td><td>402752.5</td><td>411390.3</td><td>409492.0</td></tr>\n",
       "\t<tr><th scope=row>10</th><td>10</td><td>142960</td><td>206689</td><td>223609.5</td><td>237770.3</td><td>240629.3</td><td>354656</td><td>380552.5</td><td>407652.7</td><td>403963.2</td></tr>\n",
       "\t<tr><th scope=row>11</th><td>11</td><td>184554</td><td>225083</td><td>215886.0</td><td>231200.0</td><td>237129.0</td><td>400080</td><td>377368.0</td><td>386720.3</td><td>397427.8</td></tr>\n",
       "\t<tr><th scope=row>12</th><td>12</td><td>149127</td><td>208102</td><td>216592.5</td><td>224100.7</td><td>234619.5</td><td>375863</td><td>387971.5</td><td>387061.7</td><td>399226.0</td></tr>\n",
       "</tbody>\n",
       "</table>\n"
      ],
      "text/latex": [
       "A data.frame: 6 × 10\n",
       "\\begin{tabular}{r|llllllllll}\n",
       "  & month & jm & rc & rc\\_0to1 & rc\\_1to3 & rc\\_1to6 & fj & fj\\_0to1 & fj\\_1to3 & fj\\_1to6\\\\\n",
       "  & <int> & <int> & <int> & <dbl> & <dbl> & <dbl> & <int> & <dbl> & <dbl> & <dbl>\\\\\n",
       "\\hline\n",
       "\t7 &  7 & 193099 & 226400 & 244517.0 & 243488.3 & 249913.2 & 417453 & 417557.5 & 400273.7 & 408243.3\\\\\n",
       "\t8 &  8 & 181303 & 246381 & 236390.5 & 243058.0 & 250149.3 & 399056 & 408254.5 & 408135.3 & 406675.3\\\\\n",
       "\t9 &  9 & 201418 & 240530 & 243455.5 & 245138.3 & 249080.8 & 406449 & 402752.5 & 411390.3 & 409492.0\\\\\n",
       "\t10 & 10 & 142960 & 206689 & 223609.5 & 237770.3 & 240629.3 & 354656 & 380552.5 & 407652.7 & 403963.2\\\\\n",
       "\t11 & 11 & 184554 & 225083 & 215886.0 & 231200.0 & 237129.0 & 400080 & 377368.0 & 386720.3 & 397427.8\\\\\n",
       "\t12 & 12 & 149127 & 208102 & 216592.5 & 224100.7 & 234619.5 & 375863 & 387971.5 & 387061.7 & 399226.0\\\\\n",
       "\\end{tabular}\n"
      ],
      "text/markdown": [
       "\n",
       "A data.frame: 6 × 10\n",
       "\n",
       "| <!--/--> | month &lt;int&gt; | jm &lt;int&gt; | rc &lt;int&gt; | rc_0to1 &lt;dbl&gt; | rc_1to3 &lt;dbl&gt; | rc_1to6 &lt;dbl&gt; | fj &lt;int&gt; | fj_0to1 &lt;dbl&gt; | fj_1to3 &lt;dbl&gt; | fj_1to6 &lt;dbl&gt; |\n",
       "|---|---|---|---|---|---|---|---|---|---|---|\n",
       "| 7 |  7 | 193099 | 226400 | 244517.0 | 243488.3 | 249913.2 | 417453 | 417557.5 | 400273.7 | 408243.3 |\n",
       "| 8 |  8 | 181303 | 246381 | 236390.5 | 243058.0 | 250149.3 | 399056 | 408254.5 | 408135.3 | 406675.3 |\n",
       "| 9 |  9 | 201418 | 240530 | 243455.5 | 245138.3 | 249080.8 | 406449 | 402752.5 | 411390.3 | 409492.0 |\n",
       "| 10 | 10 | 142960 | 206689 | 223609.5 | 237770.3 | 240629.3 | 354656 | 380552.5 | 407652.7 | 403963.2 |\n",
       "| 11 | 11 | 184554 | 225083 | 215886.0 | 231200.0 | 237129.0 | 400080 | 377368.0 | 386720.3 | 397427.8 |\n",
       "| 12 | 12 | 149127 | 208102 | 216592.5 | 224100.7 | 234619.5 | 375863 | 387971.5 | 387061.7 | 399226.0 |\n",
       "\n"
      ],
      "text/plain": [
       "   month jm     rc     rc_0to1  rc_1to3  rc_1to6  fj     fj_0to1  fj_1to3 \n",
       "7   7    193099 226400 244517.0 243488.3 249913.2 417453 417557.5 400273.7\n",
       "8   8    181303 246381 236390.5 243058.0 250149.3 399056 408254.5 408135.3\n",
       "9   9    201418 240530 243455.5 245138.3 249080.8 406449 402752.5 411390.3\n",
       "10 10    142960 206689 223609.5 237770.3 240629.3 354656 380552.5 407652.7\n",
       "11 11    184554 225083 215886.0 231200.0 237129.0 400080 377368.0 386720.3\n",
       "12 12    149127 208102 216592.5 224100.7 234619.5 375863 387971.5 387061.7\n",
       "   fj_1to6 \n",
       "7  408243.3\n",
       "8  406675.3\n",
       "9  409492.0\n",
       "10 403963.2\n",
       "11 397427.8\n",
       "12 399226.0"
      ]
     },
     "metadata": {},
     "output_type": "display_data"
    }
   ],
   "source": [
    "# month가 7~78인 데이터만 복사\n",
    "result = agg[agg$month >= 7 & agg$month <=78, ]\n",
    "\n",
    "# 컬럼 순서 조정\n",
    "result = result[,c(1,4,2,5,6,7,3,8,9,10)]\n",
    "\n",
    "# 결과 확인\n",
    "head(result)"
   ]
  },
  {
   "cell_type": "markdown",
   "metadata": {},
   "source": [
    "### 2. 빈도론적 방법으로 분석하기\n",
    "\n",
    "#### (1) 데이터 탐색\n",
    "\n",
    "- 빈도론적 방법을 사용하든, 베이지안 방법을 사용하든 첫번째로 해야하는 작업은 데이터 탐색이다.\n",
    "- summary, pairs, cor 함수 등을 사용하여 데이터를 탐색한다."
   ]
  },
  {
   "cell_type": "code",
   "execution_count": 58,
   "metadata": {
    "vscode": {
     "languageId": "r"
    }
   },
   "outputs": [
    {
     "data": {
      "text/plain": [
       "     month             jm               rc            rc_0to1      \n",
       " Min.   : 7.00   Min.   :102486   Min.   :121563   Min.   :132603  \n",
       " 1st Qu.:24.75   1st Qu.:129421   1st Qu.:179298   1st Qu.:180144  \n",
       " Median :42.50   Median :141741   Median :209266   Median :213030  \n",
       " Mean   :42.50   Mean   :144052   Mean   :217124   Mean   :217176  \n",
       " 3rd Qu.:60.25   3rd Qu.:151991   3rd Qu.:250021   3rd Qu.:246168  \n",
       " Max.   :78.00   Max.   :202561   Max.   :306400   Max.   :291085  \n",
       "    rc_1to3          rc_1to6             fj            fj_0to1      \n",
       " Min.   :136697   Min.   :154338   Min.   :277838   Min.   :295291  \n",
       " 1st Qu.:179585   1st Qu.:181421   1st Qu.:342265   1st Qu.:351767  \n",
       " Median :212373   Median :213958   Median :376434   Median :377603  \n",
       " Mean   :217018   Mean   :217051   Mean   :380163   Mean   :380364  \n",
       " 3rd Qu.:247804   3rd Qu.:250549   3rd Qu.:407366   3rd Qu.:408064  \n",
       " Max.   :290335   Max.   :287254   Max.   :605342   Max.   :539375  \n",
       "    fj_1to3          fj_1to6      \n",
       " Min.   :309460   Min.   :314179  \n",
       " 1st Qu.:353453   1st Qu.:352601  \n",
       " Median :374641   Median :377386  \n",
       " Mean   :380578   Mean   :379986  \n",
       " 3rd Qu.:408278   3rd Qu.:409775  \n",
       " Max.   :486759   Max.   :458281  "
      ]
     },
     "metadata": {},
     "output_type": "display_data"
    }
   ],
   "source": [
    "summary(result)"
   ]
  },
  {
   "cell_type": "markdown",
   "metadata": {},
   "source": [
    "- 데이터셋 요약결과를 보면\n",
    "  - 취업건수(jm)의 평균은 144052이고, 범위는 102486~202561 이다.\n",
    "  - 신규구인인원수(rc)의 평균은 217124이고, 범위는 121563~306400 이다.\n",
    "  - 신규구직인원수(fj)의 평균은 380163이고, 범위는 277838~605342 이다."
   ]
  },
  {
   "cell_type": "code",
   "execution_count": 60,
   "metadata": {
    "vscode": {
     "languageId": "r"
    }
   },
   "outputs": [
    {
     "data": {
      "text/html": [
       "<table class=\"dataframe\">\n",
       "<caption>A matrix: 9 × 9 of type dbl</caption>\n",
       "<thead>\n",
       "\t<tr><th></th><th scope=col>jm</th><th scope=col>rc</th><th scope=col>rc_0to1</th><th scope=col>rc_1to3</th><th scope=col>rc_1to6</th><th scope=col>fj</th><th scope=col>fj_0to1</th><th scope=col>fj_1to3</th><th scope=col>fj_1to6</th></tr>\n",
       "</thead>\n",
       "<tbody>\n",
       "\t<tr><th scope=row>jm</th><td>1.0000000</td><td>0.2851149</td><td>0.2371438</td><td>0.1823141</td><td>0.1884745</td><td>0.3440267</td><td>0.2832247</td><td>0.4092252</td><td>0.3877816</td></tr>\n",
       "\t<tr><th scope=row>rc</th><td>0.2851149</td><td>1.0000000</td><td>0.9577845</td><td>0.8855745</td><td>0.8636705</td><td>0.3856929</td><td>0.3979663</td><td>0.5069245</td><td>0.6609657</td></tr>\n",
       "\t<tr><th scope=row>rc_0to1</th><td>0.2371438</td><td>0.9577845</td><td>1.0000000</td><td>0.9556007</td><td>0.9283011</td><td>0.3405264</td><td>0.4197884</td><td>0.5189240</td><td>0.6758317</td></tr>\n",
       "\t<tr><th scope=row>rc_1to3</th><td>0.1823141</td><td>0.8855745</td><td>0.9556007</td><td>1.0000000</td><td>0.9792928</td><td>0.2625338</td><td>0.3649996</td><td>0.4615846</td><td>0.6092115</td></tr>\n",
       "\t<tr><th scope=row>rc_1to6</th><td>0.1884745</td><td>0.8636705</td><td>0.9283011</td><td>0.9792928</td><td>1.0000000</td><td>0.2293715</td><td>0.3130252</td><td>0.4008869</td><td>0.5362727</td></tr>\n",
       "\t<tr><th scope=row>fj</th><td>0.3440267</td><td>0.3856929</td><td>0.3405264</td><td>0.2625338</td><td>0.2293715</td><td>1.0000000</td><td>0.8097939</td><td>0.4707790</td><td>0.4350676</td></tr>\n",
       "\t<tr><th scope=row>fj_0to1</th><td>0.2832247</td><td>0.3979663</td><td>0.4197884</td><td>0.3649996</td><td>0.3130252</td><td>0.8097939</td><td>1.0000000</td><td>0.7663822</td><td>0.6467401</td></tr>\n",
       "\t<tr><th scope=row>fj_1to3</th><td>0.4092252</td><td>0.5069245</td><td>0.5189240</td><td>0.4615846</td><td>0.4008869</td><td>0.4707790</td><td>0.7663822</td><td>1.0000000</td><td>0.8791488</td></tr>\n",
       "\t<tr><th scope=row>fj_1to6</th><td>0.3877816</td><td>0.6609657</td><td>0.6758317</td><td>0.6092115</td><td>0.5362727</td><td>0.4350676</td><td>0.6467401</td><td>0.8791488</td><td>1.0000000</td></tr>\n",
       "</tbody>\n",
       "</table>\n"
      ],
      "text/latex": [
       "A matrix: 9 × 9 of type dbl\n",
       "\\begin{tabular}{r|lllllllll}\n",
       "  & jm & rc & rc\\_0to1 & rc\\_1to3 & rc\\_1to6 & fj & fj\\_0to1 & fj\\_1to3 & fj\\_1to6\\\\\n",
       "\\hline\n",
       "\tjm & 1.0000000 & 0.2851149 & 0.2371438 & 0.1823141 & 0.1884745 & 0.3440267 & 0.2832247 & 0.4092252 & 0.3877816\\\\\n",
       "\trc & 0.2851149 & 1.0000000 & 0.9577845 & 0.8855745 & 0.8636705 & 0.3856929 & 0.3979663 & 0.5069245 & 0.6609657\\\\\n",
       "\trc\\_0to1 & 0.2371438 & 0.9577845 & 1.0000000 & 0.9556007 & 0.9283011 & 0.3405264 & 0.4197884 & 0.5189240 & 0.6758317\\\\\n",
       "\trc\\_1to3 & 0.1823141 & 0.8855745 & 0.9556007 & 1.0000000 & 0.9792928 & 0.2625338 & 0.3649996 & 0.4615846 & 0.6092115\\\\\n",
       "\trc\\_1to6 & 0.1884745 & 0.8636705 & 0.9283011 & 0.9792928 & 1.0000000 & 0.2293715 & 0.3130252 & 0.4008869 & 0.5362727\\\\\n",
       "\tfj & 0.3440267 & 0.3856929 & 0.3405264 & 0.2625338 & 0.2293715 & 1.0000000 & 0.8097939 & 0.4707790 & 0.4350676\\\\\n",
       "\tfj\\_0to1 & 0.2832247 & 0.3979663 & 0.4197884 & 0.3649996 & 0.3130252 & 0.8097939 & 1.0000000 & 0.7663822 & 0.6467401\\\\\n",
       "\tfj\\_1to3 & 0.4092252 & 0.5069245 & 0.5189240 & 0.4615846 & 0.4008869 & 0.4707790 & 0.7663822 & 1.0000000 & 0.8791488\\\\\n",
       "\tfj\\_1to6 & 0.3877816 & 0.6609657 & 0.6758317 & 0.6092115 & 0.5362727 & 0.4350676 & 0.6467401 & 0.8791488 & 1.0000000\\\\\n",
       "\\end{tabular}\n"
      ],
      "text/markdown": [
       "\n",
       "A matrix: 9 × 9 of type dbl\n",
       "\n",
       "| <!--/--> | jm | rc | rc_0to1 | rc_1to3 | rc_1to6 | fj | fj_0to1 | fj_1to3 | fj_1to6 |\n",
       "|---|---|---|---|---|---|---|---|---|---|\n",
       "| jm | 1.0000000 | 0.2851149 | 0.2371438 | 0.1823141 | 0.1884745 | 0.3440267 | 0.2832247 | 0.4092252 | 0.3877816 |\n",
       "| rc | 0.2851149 | 1.0000000 | 0.9577845 | 0.8855745 | 0.8636705 | 0.3856929 | 0.3979663 | 0.5069245 | 0.6609657 |\n",
       "| rc_0to1 | 0.2371438 | 0.9577845 | 1.0000000 | 0.9556007 | 0.9283011 | 0.3405264 | 0.4197884 | 0.5189240 | 0.6758317 |\n",
       "| rc_1to3 | 0.1823141 | 0.8855745 | 0.9556007 | 1.0000000 | 0.9792928 | 0.2625338 | 0.3649996 | 0.4615846 | 0.6092115 |\n",
       "| rc_1to6 | 0.1884745 | 0.8636705 | 0.9283011 | 0.9792928 | 1.0000000 | 0.2293715 | 0.3130252 | 0.4008869 | 0.5362727 |\n",
       "| fj | 0.3440267 | 0.3856929 | 0.3405264 | 0.2625338 | 0.2293715 | 1.0000000 | 0.8097939 | 0.4707790 | 0.4350676 |\n",
       "| fj_0to1 | 0.2832247 | 0.3979663 | 0.4197884 | 0.3649996 | 0.3130252 | 0.8097939 | 1.0000000 | 0.7663822 | 0.6467401 |\n",
       "| fj_1to3 | 0.4092252 | 0.5069245 | 0.5189240 | 0.4615846 | 0.4008869 | 0.4707790 | 0.7663822 | 1.0000000 | 0.8791488 |\n",
       "| fj_1to6 | 0.3877816 | 0.6609657 | 0.6758317 | 0.6092115 | 0.5362727 | 0.4350676 | 0.6467401 | 0.8791488 | 1.0000000 |\n",
       "\n"
      ],
      "text/plain": [
       "        jm        rc        rc_0to1   rc_1to3   rc_1to6   fj        fj_0to1  \n",
       "jm      1.0000000 0.2851149 0.2371438 0.1823141 0.1884745 0.3440267 0.2832247\n",
       "rc      0.2851149 1.0000000 0.9577845 0.8855745 0.8636705 0.3856929 0.3979663\n",
       "rc_0to1 0.2371438 0.9577845 1.0000000 0.9556007 0.9283011 0.3405264 0.4197884\n",
       "rc_1to3 0.1823141 0.8855745 0.9556007 1.0000000 0.9792928 0.2625338 0.3649996\n",
       "rc_1to6 0.1884745 0.8636705 0.9283011 0.9792928 1.0000000 0.2293715 0.3130252\n",
       "fj      0.3440267 0.3856929 0.3405264 0.2625338 0.2293715 1.0000000 0.8097939\n",
       "fj_0to1 0.2832247 0.3979663 0.4197884 0.3649996 0.3130252 0.8097939 1.0000000\n",
       "fj_1to3 0.4092252 0.5069245 0.5189240 0.4615846 0.4008869 0.4707790 0.7663822\n",
       "fj_1to6 0.3877816 0.6609657 0.6758317 0.6092115 0.5362727 0.4350676 0.6467401\n",
       "        fj_1to3   fj_1to6  \n",
       "jm      0.4092252 0.3877816\n",
       "rc      0.5069245 0.6609657\n",
       "rc_0to1 0.5189240 0.6758317\n",
       "rc_1to3 0.4615846 0.6092115\n",
       "rc_1to6 0.4008869 0.5362727\n",
       "fj      0.4707790 0.4350676\n",
       "fj_0to1 0.7663822 0.6467401\n",
       "fj_1to3 1.0000000 0.8791488\n",
       "fj_1to6 0.8791488 1.0000000"
      ]
     },
     "metadata": {},
     "output_type": "display_data"
    }
   ],
   "source": [
    "cor(result[,-1])"
   ]
  },
  {
   "cell_type": "markdown",
   "metadata": {},
   "source": [
    "- 변수의 상관계수를 확인해보면\n",
    "  - rc, rc_0to1, rc_1to3, rc_1to6 변수 사이의 상관계수가 모두 0.8 이상으로 나타난다.\n",
    "  - fj, fj_0to1, fj_1to3, fj_1to6 변수 사이에도 비교적 상관관계가 높은(0.8 이상인) 관계가 다수 존재한다.\n",
    "\n",
    "- 이러한 경향은 산점도를 통해 다시 확인할 수 있다."
   ]
  },
  {
   "cell_type": "code",
   "execution_count": 61,
   "metadata": {
    "vscode": {
     "languageId": "r"
    }
   },
   "outputs": [
    {
     "data": {
      "image/png": "[encoded data removed]",
      "text/plain": [
       "plot without title"
      ]
     },
     "metadata": {
      "image/png": {
       "height": 420,
       "width": 420
      }
     },
     "output_type": "display_data"
    }
   ],
   "source": [
    "pairs(result[,-1])"
   ]
  },
  {
   "cell_type": "markdown",
   "metadata": {},
   "source": [
    "#### (2) 다중선형회귀 수행하기\n",
    "\n",
    "- 우선 반응변수와 독립변수 간에 선형관계가 성립한다고 가정한다.\n",
    "  - 여기서 선형관계가 성립한다고 가정한 이유는 구인인원이나 구직인원이 많아질수록 취업건수에 긍정적인 영향을 미친다고 보는 것이 상식적이기 때문이다.\n",
    "- 어떤 변수를 사용해서 모델을 생성할 것인지 결정해야 하는데, 많이 사용하는 방법으로 전진선택법, 후진제거법, 단계적 선택법이 있다.\n",
    "- 그리고 변수를 선택함에 있어 다중공선성 문제도 확인해 봐야 한다.\n",
    "  - 다중공선성을 확인하기 위해서는 car 라이브러리의 VIF 함수를 사용한다."
   ]
  },
  {
   "cell_type": "code",
   "execution_count": 75,
   "metadata": {
    "vscode": {
     "languageId": "r"
    }
   },
   "outputs": [
    {
     "data": {
      "text/plain": [
       "\n",
       "Call:\n",
       "lm(formula = jm ~ rc + rc_0to1 + rc_1to3 + rc_1to6 + fj + fj_0to1 + \n",
       "    fj_1to3 + fj_1to6, data = result)\n",
       "\n",
       "Residuals:\n",
       "   Min     1Q Median     3Q    Max \n",
       "-36052 -11663  -1495   9722  45851 \n",
       "\n",
       "Coefficients:\n",
       "              Estimate Std. Error t value Pr(>|t|)   \n",
       "(Intercept)  4.067e+04  2.808e+04   1.448  0.15248   \n",
       "rc           2.914e-02  2.196e-01   0.133  0.89487   \n",
       "rc_0to1     -9.897e-03  3.472e-01  -0.029  0.97735   \n",
       "rc_1to3     -5.226e-01  3.848e-01  -1.358  0.17920   \n",
       "rc_1to6      4.779e-01  3.142e-01   1.521  0.13319   \n",
       "fj           2.271e-01  8.370e-02   2.713  0.00858 **\n",
       "fj_0to1     -3.290e-01  1.381e-01  -2.383  0.02019 * \n",
       "fj_1to3      3.244e-01  1.481e-01   2.190  0.03220 * \n",
       "fj_1to6      6.375e-02  1.602e-01   0.398  0.69194   \n",
       "---\n",
       "Signif. codes:  0 '***' 0.001 '**' 0.01 '*' 0.05 '.' 0.1 ' ' 1\n",
       "\n",
       "Residual standard error: 19440 on 63 degrees of freedom\n",
       "Multiple R-squared:  0.3144,\tAdjusted R-squared:  0.2274 \n",
       "F-statistic: 3.612 on 8 and 63 DF,  p-value: 0.001638\n"
      ]
     },
     "metadata": {},
     "output_type": "display_data"
    },
    {
     "data": {
      "text/html": [
       "<style>\n",
       ".dl-inline {width: auto; margin:0; padding: 0}\n",
       ".dl-inline>dt, .dl-inline>dd {float: none; width: auto; display: inline-block}\n",
       ".dl-inline>dt::after {content: \":\\0020\"; padding-right: .5ex}\n",
       ".dl-inline>dt:not(:first-of-type) {padding-left: .5ex}\n",
       "</style><dl class=dl-inline><dt>rc</dt><dd>16.7105276278672</dd><dt>rc_0to1</dt><dd>38.423437873614</dd><dt>rc_1to3</dt><dd>45.5935992706239</dd><dt>rc_1to6</dt><dd>29.1951524591654</dd><dt>fj</dt><dd>4.52946234121402</dd><dt>fj_0to1</dt><dd>8.11488952989907</dd><dt>fj_1to3</dt><dd>8.10394069517014</dd><dt>fj_1to6</dt><dd>7.01050789388422</dd></dl>\n"
      ],
      "text/latex": [
       "\\begin{description*}\n",
       "\\item[rc] 16.7105276278672\n",
       "\\item[rc\\textbackslash{}\\_0to1] 38.423437873614\n",
       "\\item[rc\\textbackslash{}\\_1to3] 45.5935992706239\n",
       "\\item[rc\\textbackslash{}\\_1to6] 29.1951524591654\n",
       "\\item[fj] 4.52946234121402\n",
       "\\item[fj\\textbackslash{}\\_0to1] 8.11488952989907\n",
       "\\item[fj\\textbackslash{}\\_1to3] 8.10394069517014\n",
       "\\item[fj\\textbackslash{}\\_1to6] 7.01050789388422\n",
       "\\end{description*}\n"
      ],
      "text/markdown": [
       "rc\n",
       ":   16.7105276278672rc_0to1\n",
       ":   38.423437873614rc_1to3\n",
       ":   45.5935992706239rc_1to6\n",
       ":   29.1951524591654fj\n",
       ":   4.52946234121402fj_0to1\n",
       ":   8.11488952989907fj_1to3\n",
       ":   8.10394069517014fj_1to6\n",
       ":   7.01050789388422\n",
       "\n"
      ],
      "text/plain": [
       "       rc   rc_0to1   rc_1to3   rc_1to6        fj   fj_0to1   fj_1to3   fj_1to6 \n",
       "16.710528 38.423438 45.593599 29.195152  4.529462  8.114890  8.103941  7.010508 "
      ]
     },
     "metadata": {},
     "output_type": "display_data"
    }
   ],
   "source": [
    "# 다중선형회귀 모델 생성\n",
    "model_full = lm(jm ~ rc + rc_0to1 + rc_1to3 + rc_1to6 + fj + fj_0to1 + fj_1to3 + fj_1to6, data=result)\n",
    "\n",
    "summary(model_full)\n",
    "\n",
    "library(car)\n",
    "vif(model_full)"
   ]
  },
  {
   "cell_type": "markdown",
   "metadata": {},
   "source": [
    "- 모든 변수를 포함한 전체 모델을 살펴본 결과 rc 그룹의 변수들은 vif_value 가 매우 높게 나타났다.\n",
    "- 이를 개선하기 위해 vif_value가 높은 rc_1to3, rc_0to1 변수를 제외하고, 다시 모델을 적합한다."
   ]
  },
  {
   "cell_type": "code",
   "execution_count": 78,
   "metadata": {
    "vscode": {
     "languageId": "r"
    }
   },
   "outputs": [
    {
     "data": {
      "text/plain": [
       "\n",
       "Call:\n",
       "lm(formula = jm ~ rc + rc_1to6 + fj + fj_0to1 + fj_1to3 + fj_1to6, \n",
       "    data = result)\n",
       "\n",
       "Residuals:\n",
       "   Min     1Q Median     3Q    Max \n",
       "-30222 -13103  -2580   9625  47948 \n",
       "\n",
       "Coefficients:\n",
       "              Estimate Std. Error t value Pr(>|t|)   \n",
       "(Intercept)  5.529e+04  2.618e+04   2.112  0.03850 * \n",
       "rc          -2.775e-02  1.328e-01  -0.209  0.83510   \n",
       "rc_1to6      2.774e-02  1.235e-01   0.225  0.82288   \n",
       "fj           2.487e-01  8.156e-02   3.049  0.00332 **\n",
       "fj_0to1     -3.681e-01  1.331e-01  -2.766  0.00737 **\n",
       "fj_1to3      3.653e-01  1.445e-01   2.528  0.01392 * \n",
       "fj_1to6     -1.257e-02  1.508e-01  -0.083  0.93382   \n",
       "---\n",
       "Signif. codes:  0 '***' 0.001 '**' 0.01 '*' 0.05 '.' 0.1 ' ' 1\n",
       "\n",
       "Residual standard error: 19510 on 65 degrees of freedom\n",
       "Multiple R-squared:  0.2878,\tAdjusted R-squared:  0.2221 \n",
       "F-statistic: 4.379 on 6 and 65 DF,  p-value: 0.000897\n"
      ]
     },
     "metadata": {},
     "output_type": "display_data"
    },
    {
     "data": {
      "text/html": [
       "<style>\n",
       ".dl-inline {width: auto; margin:0; padding: 0}\n",
       ".dl-inline>dt, .dl-inline>dd {float: none; width: auto; display: inline-block}\n",
       ".dl-inline>dt::after {content: \":\\0020\"; padding-right: .5ex}\n",
       ".dl-inline>dt:not(:first-of-type) {padding-left: .5ex}\n",
       "</style><dl class=dl-inline><dt>rc</dt><dd>6.06782706479689</dd><dt>rc_1to6</dt><dd>4.47681074422448</dd><dt>fj</dt><dd>4.27186712061891</dd><dt>fj_0to1</dt><dd>7.48794317967547</dd><dt>fj_1to3</dt><dd>7.66015118442593</dd><dt>fj_1to6</dt><dd>6.17128664589867</dd></dl>\n"
      ],
      "text/latex": [
       "\\begin{description*}\n",
       "\\item[rc] 6.06782706479689\n",
       "\\item[rc\\textbackslash{}\\_1to6] 4.47681074422448\n",
       "\\item[fj] 4.27186712061891\n",
       "\\item[fj\\textbackslash{}\\_0to1] 7.48794317967547\n",
       "\\item[fj\\textbackslash{}\\_1to3] 7.66015118442593\n",
       "\\item[fj\\textbackslash{}\\_1to6] 6.17128664589867\n",
       "\\end{description*}\n"
      ],
      "text/markdown": [
       "rc\n",
       ":   6.06782706479689rc_1to6\n",
       ":   4.47681074422448fj\n",
       ":   4.27186712061891fj_0to1\n",
       ":   7.48794317967547fj_1to3\n",
       ":   7.66015118442593fj_1to6\n",
       ":   6.17128664589867\n",
       "\n"
      ],
      "text/plain": [
       "      rc  rc_1to6       fj  fj_0to1  fj_1to3  fj_1to6 \n",
       "6.067827 4.476811 4.271867 7.487943 7.660151 6.171287 "
      ]
     },
     "metadata": {},
     "output_type": "display_data"
    }
   ],
   "source": [
    "# 다중선형회귀 모델 생성\n",
    "model_full = lm(jm ~ rc + rc_1to6 + fj + fj_0to1 + fj_1to3 + fj_1to6, data=result)\n",
    "\n",
    "summary(model_full)\n",
    "\n",
    "library(car)\n",
    "vif(model_full)"
   ]
  },
  {
   "cell_type": "markdown",
   "metadata": {},
   "source": [
    "- 다중공선성을 판단하는 기준이 되는 vif_value가 10 이상인 변수는 없는 것으로 나타남\n",
    "- \"jm ~ rc + rc_1to6 + fj + fj_0to1 + fj_1to3 + fj_1to6\" 모델을 model_full 로 하여 전진선택법, 후진제거법, 단계적 선택법을 실행한다."
   ]
  },
  {
   "cell_type": "code",
   "execution_count": 80,
   "metadata": {
    "vscode": {
     "languageId": "r"
    }
   },
   "outputs": [
    {
     "name": "stdout",
     "output_type": "stream",
     "text": [
      "Start:  AIC=1441.59\n",
      "jm ~ 1\n",
      "\n",
      "          Df  Sum of Sq        RSS    AIC\n",
      "+ fj_1to3  1 5816853083 2.8918e+10 1430.4\n",
      "+ fj_1to6  1 5223212663 2.9511e+10 1431.9\n",
      "+ fj       1 4111001816 3.0624e+10 1434.5\n",
      "+ rc       1 2823599253 3.1911e+10 1437.5\n",
      "+ fj_0to1  1 2786285717 3.1948e+10 1437.6\n",
      "+ rc_1to6  1 1233867890 3.3501e+10 1441.0\n",
      "<none>                  3.4735e+10 1441.6\n",
      "\n",
      "Step:  AIC=1430.4\n",
      "jm ~ fj_1to3\n",
      "\n",
      "          Df  Sum of Sq        RSS    AIC\n",
      "+ fj       1 1022516840 2.7895e+10 1429.8\n",
      "<none>                  2.8918e+10 1430.4\n",
      "+ rc       1  281999963 2.8636e+10 1431.7\n",
      "+ fj_1to6  1  120013938 2.8798e+10 1432.1\n",
      "+ fj_0to1  1   77780029 2.8840e+10 1432.2\n",
      "+ rc_1to6  1   24682912 2.8893e+10 1432.3\n",
      "\n",
      "Step:  AIC=1429.8\n",
      "jm ~ fj_1to3 + fj\n",
      "\n",
      "          Df  Sum of Sq        RSS    AIC\n",
      "+ fj_0to1  1 3132467301 2.4763e+10 1423.2\n",
      "<none>                  2.7895e+10 1429.8\n",
      "+ rc       1  116944955 2.7778e+10 1431.5\n",
      "+ fj_1to6  1   87532402 2.7808e+10 1431.6\n",
      "+ rc_1to6  1   11319986 2.7884e+10 1431.8\n",
      "\n",
      "Step:  AIC=1423.23\n",
      "jm ~ fj_1to3 + fj + fj_0to1\n",
      "\n",
      "          Df Sum of Sq        RSS    AIC\n",
      "<none>                 2.4763e+10 1423.2\n",
      "+ fj_1to6  1   6111506 2.4757e+10 1425.2\n",
      "+ rc       1   3836426 2.4759e+10 1425.2\n",
      "+ rc_1to6  1    372970 2.4762e+10 1425.2\n",
      "Start:  AIC=1429.15\n",
      "jm ~ rc + rc_1to6 + fj + fj_0to1 + fj_1to3 + fj_1to6\n",
      "\n",
      "          Df  Sum of Sq        RSS    AIC\n",
      "- fj_1to6  1    2644518 2.4739e+10 1427.2\n",
      "- rc       1   16624445 2.4753e+10 1427.2\n",
      "- rc_1to6  1   19222875 2.4756e+10 1427.2\n",
      "<none>                  2.4737e+10 1429.2\n",
      "- fj_1to3  1 2431733435 2.7169e+10 1433.9\n",
      "- fj_0to1  1 2912267145 2.7649e+10 1435.2\n",
      "- fj       1 3538727873 2.8276e+10 1436.8\n",
      "\n",
      "Step:  AIC=1427.16\n",
      "jm ~ rc + rc_1to6 + fj + fj_0to1 + fj_1to3\n",
      "\n",
      "          Df  Sum of Sq        RSS    AIC\n",
      "- rc_1to6  1   19545132 2.4759e+10 1425.2\n",
      "- rc       1   23008588 2.4762e+10 1425.2\n",
      "<none>                  2.4739e+10 1427.2\n",
      "- fj_0to1  1 2923928285 2.7663e+10 1433.2\n",
      "- fj       1 3536829617 2.8276e+10 1434.8\n",
      "- fj_1to3  1 4810727016 2.9550e+10 1438.0\n",
      "\n",
      "Step:  AIC=1425.22\n",
      "jm ~ rc + fj + fj_0to1 + fj_1to3\n",
      "\n",
      "          Df  Sum of Sq        RSS    AIC\n",
      "- rc       1    3836426 2.4763e+10 1423.2\n",
      "<none>                  2.4759e+10 1425.2\n",
      "- fj_0to1  1 3019358772 2.7778e+10 1431.5\n",
      "- fj       1 3793868999 2.8553e+10 1433.5\n",
      "- fj_1to3  1 4904775177 2.9664e+10 1436.2\n",
      "\n",
      "Step:  AIC=1423.23\n",
      "jm ~ fj + fj_0to1 + fj_1to3\n",
      "\n",
      "          Df  Sum of Sq        RSS    AIC\n",
      "<none>                  2.4763e+10 1423.2\n",
      "- fj_0to1  1 3132467301 2.7895e+10 1429.8\n",
      "- fj       1 4077204112 2.8840e+10 1432.2\n",
      "- fj_1to3  1 5858668592 3.0622e+10 1436.5\n",
      "Start:  AIC=1441.59\n",
      "jm ~ 1\n",
      "\n",
      "          Df  Sum of Sq        RSS    AIC\n",
      "+ fj_1to3  1 5816853083 2.8918e+10 1430.4\n",
      "+ fj_1to6  1 5223212663 2.9511e+10 1431.9\n",
      "+ fj       1 4111001816 3.0624e+10 1434.5\n",
      "+ rc       1 2823599253 3.1911e+10 1437.5\n",
      "+ fj_0to1  1 2786285717 3.1948e+10 1437.6\n",
      "+ rc_1to6  1 1233867890 3.3501e+10 1441.0\n",
      "<none>                  3.4735e+10 1441.6\n",
      "\n",
      "Step:  AIC=1430.4\n",
      "jm ~ fj_1to3\n",
      "\n",
      "          Df  Sum of Sq        RSS    AIC\n",
      "+ fj       1 1022516840 2.7895e+10 1429.8\n",
      "<none>                  2.8918e+10 1430.4\n",
      "+ rc       1  281999963 2.8636e+10 1431.7\n",
      "+ fj_1to6  1  120013938 2.8798e+10 1432.1\n",
      "+ fj_0to1  1   77780029 2.8840e+10 1432.2\n",
      "+ rc_1to6  1   24682912 2.8893e+10 1432.3\n",
      "- fj_1to3  1 5816853083 3.4735e+10 1441.6\n",
      "\n",
      "Step:  AIC=1429.8\n",
      "jm ~ fj_1to3 + fj\n",
      "\n",
      "          Df  Sum of Sq        RSS    AIC\n",
      "+ fj_0to1  1 3132467301 2.4763e+10 1423.2\n",
      "<none>                  2.7895e+10 1429.8\n",
      "- fj       1 1022516840 2.8918e+10 1430.4\n",
      "+ rc       1  116944955 2.7778e+10 1431.5\n",
      "+ fj_1to6  1   87532402 2.7808e+10 1431.6\n",
      "+ rc_1to6  1   11319986 2.7884e+10 1431.8\n",
      "- fj_1to3  1 2728368107 3.0624e+10 1434.5\n",
      "\n",
      "Step:  AIC=1423.23\n",
      "jm ~ fj_1to3 + fj + fj_0to1\n",
      "\n",
      "          Df  Sum of Sq        RSS    AIC\n",
      "<none>                  2.4763e+10 1423.2\n",
      "+ fj_1to6  1    6111506 2.4757e+10 1425.2\n",
      "+ rc       1    3836426 2.4759e+10 1425.2\n",
      "+ rc_1to6  1     372970 2.4762e+10 1425.2\n",
      "- fj_0to1  1 3132467301 2.7895e+10 1429.8\n",
      "- fj       1 4077204112 2.8840e+10 1432.2\n",
      "- fj_1to3  1 5858668592 3.0622e+10 1436.5\n"
     ]
    },
    {
     "data": {
      "text/plain": [
       "\n",
       "Call:\n",
       "lm(formula = jm ~ fj_1to3 + fj + fj_0to1, data = result)\n",
       "\n",
       "Residuals:\n",
       "   Min     1Q Median     3Q    Max \n",
       "-29429 -12610  -3006   9588  48320 \n",
       "\n",
       "Coefficients:\n",
       "              Estimate Std. Error t value Pr(>|t|)    \n",
       "(Intercept)  5.597e+04  2.054e+04   2.724 0.008182 ** \n",
       "fj_1to3      3.475e-01  8.664e-02   4.011 0.000153 ***\n",
       "fj           2.399e-01  7.170e-02   3.346 0.001338 ** \n",
       "fj_0to1     -3.559e-01  1.213e-01  -2.933 0.004573 ** \n",
       "---\n",
       "Signif. codes:  0 '***' 0.001 '**' 0.01 '*' 0.05 '.' 0.1 ' ' 1\n",
       "\n",
       "Residual standard error: 19080 on 68 degrees of freedom\n",
       "Multiple R-squared:  0.2871,\tAdjusted R-squared:  0.2556 \n",
       "F-statistic: 9.128 on 3 and 68 DF,  p-value: 3.714e-05\n"
      ]
     },
     "metadata": {},
     "output_type": "display_data"
    },
    {
     "data": {
      "text/plain": [
       "\n",
       "Call:\n",
       "lm(formula = jm ~ fj + fj_0to1 + fj_1to3, data = result)\n",
       "\n",
       "Residuals:\n",
       "   Min     1Q Median     3Q    Max \n",
       "-29429 -12610  -3006   9588  48320 \n",
       "\n",
       "Coefficients:\n",
       "              Estimate Std. Error t value Pr(>|t|)    \n",
       "(Intercept)  5.597e+04  2.054e+04   2.724 0.008182 ** \n",
       "fj           2.399e-01  7.170e-02   3.346 0.001338 ** \n",
       "fj_0to1     -3.559e-01  1.213e-01  -2.933 0.004573 ** \n",
       "fj_1to3      3.475e-01  8.664e-02   4.011 0.000153 ***\n",
       "---\n",
       "Signif. codes:  0 '***' 0.001 '**' 0.01 '*' 0.05 '.' 0.1 ' ' 1\n",
       "\n",
       "Residual standard error: 19080 on 68 degrees of freedom\n",
       "Multiple R-squared:  0.2871,\tAdjusted R-squared:  0.2556 \n",
       "F-statistic: 9.128 on 3 and 68 DF,  p-value: 3.714e-05\n"
      ]
     },
     "metadata": {},
     "output_type": "display_data"
    },
    {
     "data": {
      "text/plain": [
       "\n",
       "Call:\n",
       "lm(formula = jm ~ fj_1to3 + fj + fj_0to1, data = result)\n",
       "\n",
       "Residuals:\n",
       "   Min     1Q Median     3Q    Max \n",
       "-29429 -12610  -3006   9588  48320 \n",
       "\n",
       "Coefficients:\n",
       "              Estimate Std. Error t value Pr(>|t|)    \n",
       "(Intercept)  5.597e+04  2.054e+04   2.724 0.008182 ** \n",
       "fj_1to3      3.475e-01  8.664e-02   4.011 0.000153 ***\n",
       "fj           2.399e-01  7.170e-02   3.346 0.001338 ** \n",
       "fj_0to1     -3.559e-01  1.213e-01  -2.933 0.004573 ** \n",
       "---\n",
       "Signif. codes:  0 '***' 0.001 '**' 0.01 '*' 0.05 '.' 0.1 ' ' 1\n",
       "\n",
       "Residual standard error: 19080 on 68 degrees of freedom\n",
       "Multiple R-squared:  0.2871,\tAdjusted R-squared:  0.2556 \n",
       "F-statistic: 9.128 on 3 and 68 DF,  p-value: 3.714e-05\n"
      ]
     },
     "metadata": {},
     "output_type": "display_data"
    }
   ],
   "source": [
    "# 전진선택법\n",
    "model_forward = step(lm(jm ~ 1, data=result), scope=formula(model_full), direction=\"forward\")\n",
    "\n",
    "# 후진제거법\n",
    "model_backward = step(model_full, direction=\"backward\")\n",
    "\n",
    "# 단계적 선택법\n",
    "model_both = step(lm(jm ~ 1, data=result), scope=formula(model_full), direction=\"both\")\n",
    "\n",
    "# 모델 요약 출력\n",
    "summary(model_forward)\n",
    "summary(model_backward)\n",
    "summary(model_both)"
   ]
  },
  {
   "cell_type": "markdown",
   "metadata": {},
   "source": [
    "- 어떤 방법을 사용하더라도 적합된 모형은 \"jm ~ fj_1to3 + fj + fj_0to1\" 이다.\n",
    "\n",
    "- fj_0to1은 fj와도 1개월의 수치가 겹치고, fj_1to3과도 1개월의 수치가 겹치기 때문에 \"jm ~ fj + fj_1to3\" 모델도 적합해보았다."
   ]
  },
  {
   "cell_type": "code",
   "execution_count": 81,
   "metadata": {
    "vscode": {
     "languageId": "r"
    }
   },
   "outputs": [
    {
     "data": {
      "text/plain": [
       "\n",
       "Call:\n",
       "lm(formula = jm ~ fj + fj_1to3, data = result)\n",
       "\n",
       "Residuals:\n",
       "   Min     1Q Median     3Q    Max \n",
       "-31514 -12796  -3927  12734  58181 \n",
       "\n",
       "Coefficients:\n",
       "             Estimate Std. Error t value Pr(>|t|)  \n",
       "(Intercept) 5.588e+04  2.165e+04   2.582   0.0120 *\n",
       "fj          7.332e-02  4.610e-02   1.590   0.1163  \n",
       "fj_1to3     1.584e-01  6.099e-02   2.598   0.0115 *\n",
       "---\n",
       "Signif. codes:  0 '***' 0.001 '**' 0.01 '*' 0.05 '.' 0.1 ' ' 1\n",
       "\n",
       "Residual standard error: 20110 on 69 degrees of freedom\n",
       "Multiple R-squared:  0.1969,\tAdjusted R-squared:  0.1736 \n",
       "F-statistic: 8.459 on 2 and 69 DF,  p-value: 0.0005182\n"
      ]
     },
     "metadata": {},
     "output_type": "display_data"
    },
    {
     "data": {
      "text/plain": [
       "\n",
       "Call:\n",
       "lm(formula = jm ~ fj + fj_0to1 + fj_1to3, data = result)\n",
       "\n",
       "Residuals:\n",
       "   Min     1Q Median     3Q    Max \n",
       "-29429 -12610  -3006   9588  48320 \n",
       "\n",
       "Coefficients:\n",
       "              Estimate Std. Error t value Pr(>|t|)    \n",
       "(Intercept)  5.597e+04  2.054e+04   2.724 0.008182 ** \n",
       "fj           2.399e-01  7.170e-02   3.346 0.001338 ** \n",
       "fj_0to1     -3.559e-01  1.213e-01  -2.933 0.004573 ** \n",
       "fj_1to3      3.475e-01  8.664e-02   4.011 0.000153 ***\n",
       "---\n",
       "Signif. codes:  0 '***' 0.001 '**' 0.01 '*' 0.05 '.' 0.1 ' ' 1\n",
       "\n",
       "Residual standard error: 19080 on 68 degrees of freedom\n",
       "Multiple R-squared:  0.2871,\tAdjusted R-squared:  0.2556 \n",
       "F-statistic: 9.128 on 3 and 68 DF,  p-value: 3.714e-05\n"
      ]
     },
     "metadata": {},
     "output_type": "display_data"
    }
   ],
   "source": [
    "# jm ~ fj_1to3 + rc_1to6\" 모델을 적합\n",
    "model1 = lm(jm ~ fj + fj_1to3, data=result)\n",
    "summary(model1)\n",
    "\n",
    "# jm ~ fj_1to3 + rc_1to6\" 모델을 적합\n",
    "model2 = lm(jm ~ fj + fj_0to1 + fj_1to3, data=result)\n",
    "summary(model2)"
   ]
  },
  {
   "cell_type": "markdown",
   "metadata": {},
   "source": [
    "- 예상외로 fj_0to1을 제외한 경우 모델의 설명력이 크게 저하되었다.\n",
    "- fj_0to1의 계수가 -0.3559인 것을 감안하면 취업건수와 구직인원수 사이에 비선형성이 존재하고, fj_0to1 변수를 통해 비선형성에 대한 설명이 이루어지기 때문이라고 예상했다.\n",
    "- 최종 모형은 \"jm ~ fj + fj_0to1 + fj_1to3\" 이다.\n",
    "  - 적합된 결과는 $jm = 55970 + 0.2399\\cdot fj - 0.3559\\cdot fj_{0to1} + 0.3475\\cdot fj_{1to3}$ 이다.\n",
    "  - 취업건수를 예측함에 있어 해당 월의 구직건수(fj)와 1개월 전부터 3개월 전까지의 구직건수(fj_1to3)는 취업건수를 더 크게 예측하게 하고, \\\n",
    "  해당 월의 구직건수와 1개월 전의 구직건수의 합(fj_0to1)은 취업건수를 더 작게 예측하게 한다.\n",
    "\n",
    "- [참고] 적합된 식을 다르게 표현하면 $jm = 55970 + 0.2399\\cdot fj_0 - 0.1780\\cdot (fj_0 + fj_1) + 0.1158\\cdot (fj_1 + fj_2 + fj_3)$ 이고,\n",
    "  - 이를 정리하면 $jm = 55790 + 0.0619\\cdot fj_0 - 0.0622\\cdot fj_1 + 0.1158\\cdot fj_2 + 0.1158\\cdot fj_3$ 이 된다."
   ]
  },
  {
   "cell_type": "markdown",
   "metadata": {},
   "source": [
    "적합된 결과는 $jm = 55970 + 0.2399\\cdot fj - 0.3559\\cdot fj_{0to1} + 0.3475\\cdot fj_{1to3}$ 이다.\n",
    "\n",
    "이 식을 활용하여 agg 변수에서 month가 79이상인 값(즉, 2023년 하반기)의 취업건수를 예측해보고, 실제 값과 비교해본다."
   ]
  },
  {
   "cell_type": "code",
   "execution_count": null,
   "metadata": {
    "vscode": {
     "languageId": "r"
    }
   },
   "outputs": [
    {
     "data": {
      "text/html": [
       "<table class=\"dataframe\">\n",
       "<caption>A data.frame: 6 × 12</caption>\n",
       "<thead>\n",
       "\t<tr><th></th><th scope=col>month</th><th scope=col>rc</th><th scope=col>fj</th><th scope=col>jm</th><th scope=col>rc_0to1</th><th scope=col>rc_1to3</th><th scope=col>rc_1to6</th><th scope=col>fj_0to1</th><th scope=col>fj_1to3</th><th scope=col>fj_1to6</th><th scope=col>predicted_jm</th><th scope=col>diff</th></tr>\n",
       "\t<tr><th></th><th scope=col>&lt;int&gt;</th><th scope=col>&lt;int&gt;</th><th scope=col>&lt;int&gt;</th><th scope=col>&lt;int&gt;</th><th scope=col>&lt;dbl&gt;</th><th scope=col>&lt;dbl&gt;</th><th scope=col>&lt;dbl&gt;</th><th scope=col>&lt;dbl&gt;</th><th scope=col>&lt;dbl&gt;</th><th scope=col>&lt;dbl&gt;</th><th scope=col>&lt;dbl&gt;</th><th scope=col>&lt;dbl&gt;</th></tr>\n",
       "</thead>\n",
       "<tbody>\n",
       "\t<tr><th scope=row>79</th><td>79</td><td>231802</td><td>387359</td><td>140918</td><td>243497.5</td><td>248796.7</td><td>253791.0</td><td>387999.0</td><td>387392.0</td><td>429460.5</td><td>143875.3</td><td> -2957.304</td></tr>\n",
       "\t<tr><th scope=row>80</th><td>80</td><td>250684</td><td>368165</td><td>131946</td><td>241243.0</td><td>249661.0</td><td>251262.8</td><td>377762.0</td><td>390728.7</td><td>407437.8</td><td>144114.5</td><td>-12168.451</td></tr>\n",
       "\t<tr><th scope=row>81</th><td>81</td><td>227271</td><td>336295</td><td>128790</td><td>238977.5</td><td>245893.0</td><td>248064.5</td><td>352230.0</td><td>381387.7</td><td>400031.5</td><td>142411.8</td><td>-13621.808</td></tr>\n",
       "\t<tr><th scope=row>82</th><td>82</td><td>237384</td><td>379926</td><td>113965</td><td>232327.5</td><td>236585.7</td><td>242691.2</td><td>358110.5</td><td>363939.7</td><td>375665.8</td><td>144699.3</td><td>-30734.313</td></tr>\n",
       "\t<tr><th scope=row>83</th><td>83</td><td>238626</td><td>376706</td><td>124458</td><td>238005.0</td><td>238446.3</td><td>244053.7</td><td>378316.0</td><td>361462.0</td><td>376095.3</td><td>135793.9</td><td>-11335.886</td></tr>\n",
       "\t<tr><th scope=row>84</th><td>84</td><td>196386</td><td>351074</td><td> 93504</td><td>217506.0</td><td>234427.0</td><td>240160.0</td><td>363890.0</td><td>364309.0</td><td>372848.3</td><td>135826.0</td><td>-42322.019</td></tr>\n",
       "</tbody>\n",
       "</table>\n"
      ],
      "text/latex": [
       "A data.frame: 6 × 12\n",
       "\\begin{tabular}{r|llllllllllll}\n",
       "  & month & rc & fj & jm & rc\\_0to1 & rc\\_1to3 & rc\\_1to6 & fj\\_0to1 & fj\\_1to3 & fj\\_1to6 & predicted\\_jm & diff\\\\\n",
       "  & <int> & <int> & <int> & <int> & <dbl> & <dbl> & <dbl> & <dbl> & <dbl> & <dbl> & <dbl> & <dbl>\\\\\n",
       "\\hline\n",
       "\t79 & 79 & 231802 & 387359 & 140918 & 243497.5 & 248796.7 & 253791.0 & 387999.0 & 387392.0 & 429460.5 & 143875.3 &  -2957.304\\\\\n",
       "\t80 & 80 & 250684 & 368165 & 131946 & 241243.0 & 249661.0 & 251262.8 & 377762.0 & 390728.7 & 407437.8 & 144114.5 & -12168.451\\\\\n",
       "\t81 & 81 & 227271 & 336295 & 128790 & 238977.5 & 245893.0 & 248064.5 & 352230.0 & 381387.7 & 400031.5 & 142411.8 & -13621.808\\\\\n",
       "\t82 & 82 & 237384 & 379926 & 113965 & 232327.5 & 236585.7 & 242691.2 & 358110.5 & 363939.7 & 375665.8 & 144699.3 & -30734.313\\\\\n",
       "\t83 & 83 & 238626 & 376706 & 124458 & 238005.0 & 238446.3 & 244053.7 & 378316.0 & 361462.0 & 376095.3 & 135793.9 & -11335.886\\\\\n",
       "\t84 & 84 & 196386 & 351074 &  93504 & 217506.0 & 234427.0 & 240160.0 & 363890.0 & 364309.0 & 372848.3 & 135826.0 & -42322.019\\\\\n",
       "\\end{tabular}\n"
      ],
      "text/markdown": [
       "\n",
       "A data.frame: 6 × 12\n",
       "\n",
       "| <!--/--> | month &lt;int&gt; | rc &lt;int&gt; | fj &lt;int&gt; | jm &lt;int&gt; | rc_0to1 &lt;dbl&gt; | rc_1to3 &lt;dbl&gt; | rc_1to6 &lt;dbl&gt; | fj_0to1 &lt;dbl&gt; | fj_1to3 &lt;dbl&gt; | fj_1to6 &lt;dbl&gt; | predicted_jm &lt;dbl&gt; | diff &lt;dbl&gt; |\n",
       "|---|---|---|---|---|---|---|---|---|---|---|---|---|\n",
       "| 79 | 79 | 231802 | 387359 | 140918 | 243497.5 | 248796.7 | 253791.0 | 387999.0 | 387392.0 | 429460.5 | 143875.3 |  -2957.304 |\n",
       "| 80 | 80 | 250684 | 368165 | 131946 | 241243.0 | 249661.0 | 251262.8 | 377762.0 | 390728.7 | 407437.8 | 144114.5 | -12168.451 |\n",
       "| 81 | 81 | 227271 | 336295 | 128790 | 238977.5 | 245893.0 | 248064.5 | 352230.0 | 381387.7 | 400031.5 | 142411.8 | -13621.808 |\n",
       "| 82 | 82 | 237384 | 379926 | 113965 | 232327.5 | 236585.7 | 242691.2 | 358110.5 | 363939.7 | 375665.8 | 144699.3 | -30734.313 |\n",
       "| 83 | 83 | 238626 | 376706 | 124458 | 238005.0 | 238446.3 | 244053.7 | 378316.0 | 361462.0 | 376095.3 | 135793.9 | -11335.886 |\n",
       "| 84 | 84 | 196386 | 351074 |  93504 | 217506.0 | 234427.0 | 240160.0 | 363890.0 | 364309.0 | 372848.3 | 135826.0 | -42322.019 |\n",
       "\n"
      ],
      "text/plain": [
       "   month rc     fj     jm     rc_0to1  rc_1to3  rc_1to6  fj_0to1  fj_1to3 \n",
       "79 79    231802 387359 140918 243497.5 248796.7 253791.0 387999.0 387392.0\n",
       "80 80    250684 368165 131946 241243.0 249661.0 251262.8 377762.0 390728.7\n",
       "81 81    227271 336295 128790 238977.5 245893.0 248064.5 352230.0 381387.7\n",
       "82 82    237384 379926 113965 232327.5 236585.7 242691.2 358110.5 363939.7\n",
       "83 83    238626 376706 124458 238005.0 238446.3 244053.7 378316.0 361462.0\n",
       "84 84    196386 351074  93504 217506.0 234427.0 240160.0 363890.0 364309.0\n",
       "   fj_1to6  predicted_jm diff      \n",
       "79 429460.5 143875.3      -2957.304\n",
       "80 407437.8 144114.5     -12168.451\n",
       "81 400031.5 142411.8     -13621.808\n",
       "82 375665.8 144699.3     -30734.313\n",
       "83 376095.3 135793.9     -11335.886\n",
       "84 372848.3 135826.0     -42322.019"
      ]
     },
     "metadata": {},
     "output_type": "display_data"
    }
   ],
   "source": [
    "test_set = agg[agg$month>=79,]\n",
    "\n",
    "test_set$predicted_jm = 55970 + 0.2399 * test_set$fj - 0.3599 * test_set$fj_0to1 + 0.3475 * test_set$fj_1to3\n",
    "test_set$diff = test_set$jm - test_set$predicted_jm\n",
    "\n",
    "test_set"
   ]
  },
  {
   "cell_type": "markdown",
   "metadata": {},
   "source": [
    "-"
   ]
  },
  {
   "cell_type": "code",
   "execution_count": 71,
   "metadata": {
    "vscode": {
     "languageId": "r"
    }
   },
   "outputs": [
    {
     "data": {
      "text/plain": [
       "\n",
       "Call:\n",
       "lm(formula = jm ~ fj_1to3, data = result)\n",
       "\n",
       "Residuals:\n",
       "   Min     1Q Median     3Q    Max \n",
       "-31747 -13548  -5173  12216  59638 \n",
       "\n",
       "Coefficients:\n",
       "             Estimate Std. Error t value Pr(>|t|)    \n",
       "(Intercept) 6.637e+04  2.084e+04   3.185 0.002162 ** \n",
       "fj_1to3     2.041e-01  5.439e-02   3.752 0.000358 ***\n",
       "---\n",
       "Signif. codes:  0 '***' 0.001 '**' 0.01 '*' 0.05 '.' 0.1 ' ' 1\n",
       "\n",
       "Residual standard error: 20330 on 70 degrees of freedom\n",
       "Multiple R-squared:  0.1675,\tAdjusted R-squared:  0.1556 \n",
       "F-statistic: 14.08 on 1 and 70 DF,  p-value: 0.000358\n"
      ]
     },
     "metadata": {},
     "output_type": "display_data"
    }
   ],
   "source": [
    "# jm ~ fj_1to3\" 모델을 적합\n",
    "model2 = lm(jm ~ fj_1to3, data=result)\n",
    "summary(model2)"
   ]
  },
  {
   "cell_type": "code",
   "execution_count": 20,
   "metadata": {
    "vscode": {
     "languageId": "r"
    }
   },
   "outputs": [],
   "source": [
    "rc2 = aggregate(신규구인인원수 ~ 마감년월 + 표준산업대분류, data=rc, sum, na.rm=TRUE)"
   ]
  },
  {
   "cell_type": "code",
   "execution_count": 21,
   "metadata": {
    "vscode": {
     "languageId": "r"
    }
   },
   "outputs": [
    {
     "data": {
      "text/plain": [
       "    마감년월      표준산업대분류     신규구인인원수  \n",
       " Min.   :201701   Length:1762        Min.   :     1  \n",
       " 1st Qu.:201809   Class :character   1st Qu.:  1571  \n",
       " Median :202006   Mode  :character   Median :  4970  \n",
       " Mean   :202006                      Mean   : 10508  \n",
       " 3rd Qu.:202204                      3rd Qu.: 11118  \n",
       " Max.   :202312                      Max.   :126198  "
      ]
     },
     "metadata": {},
     "output_type": "display_data"
    }
   ],
   "source": [
    "summary(rc2)"
   ]
  },
  {
   "cell_type": "code",
   "execution_count": 22,
   "metadata": {
    "vscode": {
     "languageId": "r"
    }
   },
   "outputs": [
    {
     "data": {
      "text/html": [
       "7074327"
      ],
      "text/latex": [
       "7074327"
      ],
      "text/markdown": [
       "7074327"
      ],
      "text/plain": [
       "[1] 7074327"
      ]
     },
     "metadata": {},
     "output_type": "display_data"
    },
    {
     "data": {
      "text/html": [
       "1762"
      ],
      "text/latex": [
       "1762"
      ],
      "text/markdown": [
       "1762"
      ],
      "text/plain": [
       "[1] 1762"
      ]
     },
     "metadata": {},
     "output_type": "display_data"
    }
   ],
   "source": [
    "nrow(rc)\n",
    "nrow(rc2)"
   ]
  },
  {
   "cell_type": "code",
   "execution_count": 23,
   "metadata": {
    "vscode": {
     "languageId": "r"
    }
   },
   "outputs": [
    {
     "data": {
      "text/html": [
       "<table class=\"dataframe\">\n",
       "<caption>A data.frame: 10 × 3</caption>\n",
       "<thead>\n",
       "\t<tr><th></th><th scope=col>마감년월</th><th scope=col>표준산업대분류</th><th scope=col>신규구인인원수</th></tr>\n",
       "\t<tr><th></th><th scope=col>&lt;int&gt;</th><th scope=col>&lt;chr&gt;</th><th scope=col>&lt;int&gt;</th></tr>\n",
       "</thead>\n",
       "<tbody>\n",
       "\t<tr><th scope=row>231</th><td>202203</td><td>C</td><td>126198</td></tr>\n",
       "\t<tr><th scope=row>237</th><td>202209</td><td>C</td><td>119693</td></tr>\n",
       "\t<tr><th scope=row>171</th><td>201703</td><td>C</td><td>117791</td></tr>\n",
       "\t<tr><th scope=row>234</th><td>202206</td><td>C</td><td>112303</td></tr>\n",
       "\t<tr><th scope=row>233</th><td>202205</td><td>C</td><td>111195</td></tr>\n",
       "\t<tr><th scope=row>239</th><td>202211</td><td>C</td><td>108108</td></tr>\n",
       "\t<tr><th scope=row>232</th><td>202204</td><td>C</td><td>108045</td></tr>\n",
       "\t<tr><th scope=row>235</th><td>202207</td><td>C</td><td>107222</td></tr>\n",
       "\t<tr><th scope=row>174</th><td>201706</td><td>C</td><td>105107</td></tr>\n",
       "\t<tr><th scope=row>236</th><td>202208</td><td>C</td><td>102370</td></tr>\n",
       "</tbody>\n",
       "</table>\n"
      ],
      "text/latex": [
       "A data.frame: 10 × 3\n",
       "\\begin{tabular}{r|lll}\n",
       "  & 마감년월 & 표준산업대분류 & 신규구인인원수\\\\\n",
       "  & <int> & <chr> & <int>\\\\\n",
       "\\hline\n",
       "\t231 & 202203 & C & 126198\\\\\n",
       "\t237 & 202209 & C & 119693\\\\\n",
       "\t171 & 201703 & C & 117791\\\\\n",
       "\t234 & 202206 & C & 112303\\\\\n",
       "\t233 & 202205 & C & 111195\\\\\n",
       "\t239 & 202211 & C & 108108\\\\\n",
       "\t232 & 202204 & C & 108045\\\\\n",
       "\t235 & 202207 & C & 107222\\\\\n",
       "\t174 & 201706 & C & 105107\\\\\n",
       "\t236 & 202208 & C & 102370\\\\\n",
       "\\end{tabular}\n"
      ],
      "text/markdown": [
       "\n",
       "A data.frame: 10 × 3\n",
       "\n",
       "| <!--/--> | 마감년월 &lt;int&gt; | 표준산업대분류 &lt;chr&gt; | 신규구인인원수 &lt;int&gt; |\n",
       "|---|---|---|---|\n",
       "| 231 | 202203 | C | 126198 |\n",
       "| 237 | 202209 | C | 119693 |\n",
       "| 171 | 201703 | C | 117791 |\n",
       "| 234 | 202206 | C | 112303 |\n",
       "| 233 | 202205 | C | 111195 |\n",
       "| 239 | 202211 | C | 108108 |\n",
       "| 232 | 202204 | C | 108045 |\n",
       "| 235 | 202207 | C | 107222 |\n",
       "| 174 | 201706 | C | 105107 |\n",
       "| 236 | 202208 | C | 102370 |\n",
       "\n"
      ],
      "text/plain": [
       "    마감년월 표준산업대분류 신규구인인원수\n",
       "231 202203   C              126198        \n",
       "237 202209   C              119693        \n",
       "171 201703   C              117791        \n",
       "234 202206   C              112303        \n",
       "233 202205   C              111195        \n",
       "239 202211   C              108108        \n",
       "232 202204   C              108045        \n",
       "235 202207   C              107222        \n",
       "174 201706   C              105107        \n",
       "236 202208   C              102370        "
      ]
     },
     "metadata": {},
     "output_type": "display_data"
    }
   ],
   "source": [
    "head(rc2[order(-rc2$신규구인인원수),], 10)"
   ]
  },
  {
   "cell_type": "code",
   "execution_count": 24,
   "metadata": {
    "vscode": {
     "languageId": "r"
    }
   },
   "outputs": [
    {
     "name": "stdout",
     "output_type": "stream",
     "text": [
      "  연도 신규구인인원수\n",
      "1 2017        2852664\n",
      "2 2018        2436823\n",
      "3 2019        2128728\n",
      "4 2020        2045112\n",
      "5 2021        2829040\n",
      "6 2022        3317302\n",
      "7 2023        2904899\n"
     ]
    }
   ],
   "source": [
    "# '마감년월'에서 연도만 추출하여 새로운 '연도' 변수 추가\n",
    "rc$연도 <- substr(as.character(rc$마감년월), 1, 4)\n",
    "\n",
    "# 연도별 신규구인인원수 합계 구하기\n",
    "yearly_recruitment <- aggregate(신규구인인원수 ~ 연도, data = rc, sum)\n",
    "\n",
    "# 결과 출력\n",
    "print(yearly_recruitment)"
   ]
  },
  {
   "cell_type": "code",
   "execution_count": 25,
   "metadata": {
    "vscode": {
     "languageId": "r"
    }
   },
   "outputs": [
    {
     "name": "stdout",
     "output_type": "stream",
     "text": [
      "  연도 신규구인인원수\n",
      "1 2017        2852664\n",
      "2 2018        2436823\n",
      "3 2019        2128728\n",
      "4 2020        2045112\n",
      "5 2021        2829040\n",
      "6 2022        3317302\n",
      "7 2023        2904899\n"
     ]
    }
   ],
   "source": [
    "# '마감년월'에서 연도만 추출하여 새로운 '연도' 변수 추가\n",
    "rc2$연도 <- substr(as.character(rc2$마감년월), 1, 4)\n",
    "\n",
    "# 연도별 신규구인인원수 합계 구하기\n",
    "yearly_recruitment_rc2 <- aggregate(신규구인인원수 ~ 연도, data = rc2, sum)\n",
    "\n",
    "# 결과 출력\n",
    "print(yearly_recruitment_rc2)\n"
   ]
  },
  {
   "cell_type": "code",
   "execution_count": 26,
   "metadata": {
    "vscode": {
     "languageId": "r"
    }
   },
   "outputs": [],
   "source": [
    "# 파일 이름 리스트 작성\n",
    "file_names <- c(  \n",
    "  \"find_job_2017.txt\",\n",
    "  \"find_job_2018.txt\",\n",
    "  \"find_job_2019.txt\",\n",
    "  \"find_job_2020.txt\",\n",
    "  \"find_job_2021.txt\",\n",
    "  \"find_job_2022.txt\",\n",
    "  \"find_job_2023.txt\"\n",
    ")\n",
    "\n",
    "# 파일을 하나씩 읽어서 병합\n",
    "fj <- do.call(rbind, lapply(file_names, function(file) {\n",
    "  read.table(file, header = TRUE, sep = \"|\", stringsAsFactors = FALSE)\n",
    "}))"
   ]
  },
  {
   "cell_type": "code",
   "execution_count": 27,
   "metadata": {
    "vscode": {
     "languageId": "r"
    }
   },
   "outputs": [
    {
     "data": {
      "text/html": [
       "<table class=\"dataframe\">\n",
       "<caption>A data.frame: 6 × 10</caption>\n",
       "<thead>\n",
       "\t<tr><th></th><th scope=col>마감년월</th><th scope=col>직종중분류</th><th scope=col>직종버전</th><th scope=col>고용형태</th><th scope=col>거주시도</th><th scope=col>거주시군구</th><th scope=col>성별</th><th scope=col>연령5세단위</th><th scope=col>학력</th><th scope=col>신규구직인원수</th></tr>\n",
       "\t<tr><th></th><th scope=col>&lt;int&gt;</th><th scope=col>&lt;chr&gt;</th><th scope=col>&lt;int&gt;</th><th scope=col>&lt;int&gt;</th><th scope=col>&lt;chr&gt;</th><th scope=col>&lt;chr&gt;</th><th scope=col>&lt;chr&gt;</th><th scope=col>&lt;int&gt;</th><th scope=col>&lt;chr&gt;</th><th scope=col>&lt;int&gt;</th></tr>\n",
       "</thead>\n",
       "<tbody>\n",
       "\t<tr><th scope=row>1</th><td>201712</td><td>70000 </td><td>2007</td><td>10</td><td>45</td><td>45130</td><td>M</td><td>3</td><td>4</td><td>1</td></tr>\n",
       "\t<tr><th scope=row>2</th><td>201712</td><td>130000</td><td>2007</td><td>10</td><td>48</td><td>48310</td><td>M</td><td>6</td><td>5</td><td>1</td></tr>\n",
       "\t<tr><th scope=row>3</th><td>201712</td><td>40000 </td><td>2007</td><td>10</td><td>45</td><td>45130</td><td>F</td><td>3</td><td>4</td><td>2</td></tr>\n",
       "\t<tr><th scope=row>4</th><td>201712</td><td>60000 </td><td>2007</td><td>10</td><td>45</td><td>45130</td><td>F</td><td>8</td><td>3</td><td>3</td></tr>\n",
       "\t<tr><th scope=row>5</th><td>201712</td><td>150000</td><td>2007</td><td>10</td><td>45</td><td>45130</td><td>M</td><td>4</td><td>3</td><td>2</td></tr>\n",
       "\t<tr><th scope=row>6</th><td>201712</td><td>190000</td><td>2007</td><td>99</td><td>45</td><td>45130</td><td>M</td><td>4</td><td>5</td><td>1</td></tr>\n",
       "</tbody>\n",
       "</table>\n"
      ],
      "text/latex": [
       "A data.frame: 6 × 10\n",
       "\\begin{tabular}{r|llllllllll}\n",
       "  & 마감년월 & 직종중분류 & 직종버전 & 고용형태 & 거주시도 & 거주시군구 & 성별 & 연령5세단위 & 학력 & 신규구직인원수\\\\\n",
       "  & <int> & <chr> & <int> & <int> & <chr> & <chr> & <chr> & <int> & <chr> & <int>\\\\\n",
       "\\hline\n",
       "\t1 & 201712 & 70000  & 2007 & 10 & 45 & 45130 & M & 3 & 4 & 1\\\\\n",
       "\t2 & 201712 & 130000 & 2007 & 10 & 48 & 48310 & M & 6 & 5 & 1\\\\\n",
       "\t3 & 201712 & 40000  & 2007 & 10 & 45 & 45130 & F & 3 & 4 & 2\\\\\n",
       "\t4 & 201712 & 60000  & 2007 & 10 & 45 & 45130 & F & 8 & 3 & 3\\\\\n",
       "\t5 & 201712 & 150000 & 2007 & 10 & 45 & 45130 & M & 4 & 3 & 2\\\\\n",
       "\t6 & 201712 & 190000 & 2007 & 99 & 45 & 45130 & M & 4 & 5 & 1\\\\\n",
       "\\end{tabular}\n"
      ],
      "text/markdown": [
       "\n",
       "A data.frame: 6 × 10\n",
       "\n",
       "| <!--/--> | 마감년월 &lt;int&gt; | 직종중분류 &lt;chr&gt; | 직종버전 &lt;int&gt; | 고용형태 &lt;int&gt; | 거주시도 &lt;chr&gt; | 거주시군구 &lt;chr&gt; | 성별 &lt;chr&gt; | 연령5세단위 &lt;int&gt; | 학력 &lt;chr&gt; | 신규구직인원수 &lt;int&gt; |\n",
       "|---|---|---|---|---|---|---|---|---|---|---|\n",
       "| 1 | 201712 | 70000  | 2007 | 10 | 45 | 45130 | M | 3 | 4 | 1 |\n",
       "| 2 | 201712 | 130000 | 2007 | 10 | 48 | 48310 | M | 6 | 5 | 1 |\n",
       "| 3 | 201712 | 40000  | 2007 | 10 | 45 | 45130 | F | 3 | 4 | 2 |\n",
       "| 4 | 201712 | 60000  | 2007 | 10 | 45 | 45130 | F | 8 | 3 | 3 |\n",
       "| 5 | 201712 | 150000 | 2007 | 10 | 45 | 45130 | M | 4 | 3 | 2 |\n",
       "| 6 | 201712 | 190000 | 2007 | 99 | 45 | 45130 | M | 4 | 5 | 1 |\n",
       "\n"
      ],
      "text/plain": [
       "  마감년월 직종중분류 직종버전 고용형태 거주시도 거주시군구 성별 연령5세단위\n",
       "1 201712   70000      2007     10       45       45130      M    3          \n",
       "2 201712   130000     2007     10       48       48310      M    6          \n",
       "3 201712   40000      2007     10       45       45130      F    3          \n",
       "4 201712   60000      2007     10       45       45130      F    8          \n",
       "5 201712   150000     2007     10       45       45130      M    4          \n",
       "6 201712   190000     2007     99       45       45130      M    4          \n",
       "  학력 신규구직인원수\n",
       "1 4    1             \n",
       "2 5    1             \n",
       "3 4    2             \n",
       "4 3    3             \n",
       "5 3    2             \n",
       "6 5    1             "
      ]
     },
     "metadata": {},
     "output_type": "display_data"
    },
    {
     "data": {
      "text/plain": [
       "    마감년월       직종중분류           직종버전       고용형태    \n",
       " Min.   :201701   Length:24907211    Min.   :2007   Min.   :10.00  \n",
       " 1st Qu.:201811   Class :character   1st Qu.:2018   1st Qu.:10.00  \n",
       " Median :202010   Mode  :character   Median :2018   Median :11.00  \n",
       " Mean   :202019                      Mean   :2016   Mean   :42.89  \n",
       " 3rd Qu.:202205                      3rd Qu.:2018   3rd Qu.:99.00  \n",
       " Max.   :202312                      Max.   :2018   Max.   :99.00  \n",
       "   거주시도          거주시군구            성별            연령5세단위    \n",
       " Length:24907211    Length:24907211    Length:24907211    Min.   : 3.000  \n",
       " Class :character   Class :character   Class :character   1st Qu.: 3.000  \n",
       " Mode  :character   Mode  :character   Mode  :character   Median : 6.000  \n",
       "                                                          Mean   : 6.152  \n",
       "                                                          3rd Qu.: 8.000  \n",
       "                                                          Max.   :12.000  \n",
       "     학력           신규구직인원수    \n",
       " Length:24907211    Min.   :   1.000  \n",
       " Class :character   1st Qu.:   1.000  \n",
       " Mode  :character   Median :   1.000  \n",
       "                    Mean   :   1.286  \n",
       "                    3rd Qu.:   1.000  \n",
       "                    Max.   :1116.000  "
      ]
     },
     "metadata": {},
     "output_type": "display_data"
    }
   ],
   "source": [
    "head(fj)\n",
    "\n",
    "summary(fj)"
   ]
  },
  {
   "cell_type": "code",
   "execution_count": 28,
   "metadata": {
    "vscode": {
     "languageId": "r"
    }
   },
   "outputs": [],
   "source": [
    "fj2 = aggregate(신규구직인원수 ~ 마감년월, data=fj, sum, na.rm=TRUE)"
   ]
  },
  {
   "cell_type": "code",
   "execution_count": 29,
   "metadata": {
    "vscode": {
     "languageId": "r"
    }
   },
   "outputs": [],
   "source": [
    "# 파일 이름 리스트 작성\n",
    "file_names <- c(  \n",
    "  \"job_matching_2017.txt\",\n",
    "  \"job_matching_2018.txt\",\n",
    "  \"job_matching_2019.txt\",\n",
    "  \"job_matching_2020.txt\",\n",
    "  \"job_matching_2021.txt\",\n",
    "  \"job_matching_2022.txt\",\n",
    "  \"job_matching_2023.txt\"\n",
    ")\n",
    "\n",
    "# 파일을 하나씩 읽어서 병합\n",
    "jm <- do.call(rbind, lapply(file_names, function(file) {\n",
    "  read.table(file, header = TRUE, sep = \"|\", stringsAsFactors = FALSE)\n",
    "}))"
   ]
  },
  {
   "cell_type": "code",
   "execution_count": 30,
   "metadata": {
    "vscode": {
     "languageId": "r"
    }
   },
   "outputs": [
    {
     "data": {
      "text/html": [
       "<table class=\"dataframe\">\n",
       "<caption>A data.frame: 6 × 14</caption>\n",
       "<thead>\n",
       "\t<tr><th></th><th scope=col>마감년월</th><th scope=col>근무시도</th><th scope=col>근무시군구</th><th scope=col>표준산업대분류</th><th scope=col>산업버전</th><th scope=col>직종중분류</th><th scope=col>직종버전</th><th scope=col>고용형태</th><th scope=col>거주시도</th><th scope=col>거주시군구</th><th scope=col>성별</th><th scope=col>연령5세단위</th><th scope=col>학력</th><th scope=col>취업건수</th></tr>\n",
       "\t<tr><th></th><th scope=col>&lt;int&gt;</th><th scope=col>&lt;chr&gt;</th><th scope=col>&lt;chr&gt;</th><th scope=col>&lt;chr&gt;</th><th scope=col>&lt;chr&gt;</th><th scope=col>&lt;chr&gt;</th><th scope=col>&lt;int&gt;</th><th scope=col>&lt;int&gt;</th><th scope=col>&lt;chr&gt;</th><th scope=col>&lt;chr&gt;</th><th scope=col>&lt;chr&gt;</th><th scope=col>&lt;int&gt;</th><th scope=col>&lt;chr&gt;</th><th scope=col>&lt;int&gt;</th></tr>\n",
       "</thead>\n",
       "<tbody>\n",
       "\t<tr><th scope=row>1</th><td>201712</td><td>26</td><td>26000</td><td>y</td><td>y </td><td>110000</td><td>2007</td><td>10</td><td>26</td><td>26200</td><td>M</td><td>10</td><td>3</td><td>2</td></tr>\n",
       "\t<tr><th scope=row>2</th><td>201712</td><td>26</td><td>26320</td><td>y</td><td>y </td><td>220000</td><td>2007</td><td>99</td><td>26</td><td>26320</td><td>M</td><td>10</td><td>3</td><td>1</td></tr>\n",
       "\t<tr><th scope=row>3</th><td>201712</td><td>41</td><td>41130</td><td>y</td><td>y </td><td>110000</td><td>2007</td><td>10</td><td>41</td><td>41610</td><td>M</td><td>11</td><td>3</td><td>1</td></tr>\n",
       "\t<tr><th scope=row>4</th><td>201712</td><td>42</td><td>42810</td><td>y</td><td>y </td><td>230000</td><td>2007</td><td>20</td><td>42</td><td>42810</td><td>M</td><td> 7</td><td>3</td><td>1</td></tr>\n",
       "\t<tr><th scope=row>5</th><td>201712</td><td>43</td><td>43113</td><td>S</td><td>10</td><td>120000</td><td>2007</td><td>10</td><td>43</td><td>43114</td><td>F</td><td> 3</td><td>5</td><td>1</td></tr>\n",
       "\t<tr><th scope=row>6</th><td>201712</td><td>11</td><td>11380</td><td>y</td><td>y </td><td>110000</td><td>2007</td><td>10</td><td>11</td><td>11380</td><td>F</td><td> 3</td><td>4</td><td>1</td></tr>\n",
       "</tbody>\n",
       "</table>\n"
      ],
      "text/latex": [
       "A data.frame: 6 × 14\n",
       "\\begin{tabular}{r|llllllllllllll}\n",
       "  & 마감년월 & 근무시도 & 근무시군구 & 표준산업대분류 & 산업버전 & 직종중분류 & 직종버전 & 고용형태 & 거주시도 & 거주시군구 & 성별 & 연령5세단위 & 학력 & 취업건수\\\\\n",
       "  & <int> & <chr> & <chr> & <chr> & <chr> & <chr> & <int> & <int> & <chr> & <chr> & <chr> & <int> & <chr> & <int>\\\\\n",
       "\\hline\n",
       "\t1 & 201712 & 26 & 26000 & y & y  & 110000 & 2007 & 10 & 26 & 26200 & M & 10 & 3 & 2\\\\\n",
       "\t2 & 201712 & 26 & 26320 & y & y  & 220000 & 2007 & 99 & 26 & 26320 & M & 10 & 3 & 1\\\\\n",
       "\t3 & 201712 & 41 & 41130 & y & y  & 110000 & 2007 & 10 & 41 & 41610 & M & 11 & 3 & 1\\\\\n",
       "\t4 & 201712 & 42 & 42810 & y & y  & 230000 & 2007 & 20 & 42 & 42810 & M &  7 & 3 & 1\\\\\n",
       "\t5 & 201712 & 43 & 43113 & S & 10 & 120000 & 2007 & 10 & 43 & 43114 & F &  3 & 5 & 1\\\\\n",
       "\t6 & 201712 & 11 & 11380 & y & y  & 110000 & 2007 & 10 & 11 & 11380 & F &  3 & 4 & 1\\\\\n",
       "\\end{tabular}\n"
      ],
      "text/markdown": [
       "\n",
       "A data.frame: 6 × 14\n",
       "\n",
       "| <!--/--> | 마감년월 &lt;int&gt; | 근무시도 &lt;chr&gt; | 근무시군구 &lt;chr&gt; | 표준산업대분류 &lt;chr&gt; | 산업버전 &lt;chr&gt; | 직종중분류 &lt;chr&gt; | 직종버전 &lt;int&gt; | 고용형태 &lt;int&gt; | 거주시도 &lt;chr&gt; | 거주시군구 &lt;chr&gt; | 성별 &lt;chr&gt; | 연령5세단위 &lt;int&gt; | 학력 &lt;chr&gt; | 취업건수 &lt;int&gt; |\n",
       "|---|---|---|---|---|---|---|---|---|---|---|---|---|---|---|\n",
       "| 1 | 201712 | 26 | 26000 | y | y  | 110000 | 2007 | 10 | 26 | 26200 | M | 10 | 3 | 2 |\n",
       "| 2 | 201712 | 26 | 26320 | y | y  | 220000 | 2007 | 99 | 26 | 26320 | M | 10 | 3 | 1 |\n",
       "| 3 | 201712 | 41 | 41130 | y | y  | 110000 | 2007 | 10 | 41 | 41610 | M | 11 | 3 | 1 |\n",
       "| 4 | 201712 | 42 | 42810 | y | y  | 230000 | 2007 | 20 | 42 | 42810 | M |  7 | 3 | 1 |\n",
       "| 5 | 201712 | 43 | 43113 | S | 10 | 120000 | 2007 | 10 | 43 | 43114 | F |  3 | 5 | 1 |\n",
       "| 6 | 201712 | 11 | 11380 | y | y  | 110000 | 2007 | 10 | 11 | 11380 | F |  3 | 4 | 1 |\n",
       "\n"
      ],
      "text/plain": [
       "  마감년월 근무시도 근무시군구 표준산업대분류 산업버전 직종중분류 직종버전\n",
       "1 201712   26       26000      y              y        110000     2007    \n",
       "2 201712   26       26320      y              y        220000     2007    \n",
       "3 201712   41       41130      y              y        110000     2007    \n",
       "4 201712   42       42810      y              y        230000     2007    \n",
       "5 201712   43       43113      S              10       120000     2007    \n",
       "6 201712   11       11380      y              y        110000     2007    \n",
       "  고용형태 거주시도 거주시군구 성별 연령5세단위 학력 취업건수\n",
       "1 10       26       26200      M    10          3    2       \n",
       "2 99       26       26320      M    10          3    1       \n",
       "3 10       41       41610      M    11          3    1       \n",
       "4 20       42       42810      M     7          3    1       \n",
       "5 10       43       43114      F     3          5    1       \n",
       "6 10       11       11380      F     3          4    1       "
      ]
     },
     "metadata": {},
     "output_type": "display_data"
    },
    {
     "data": {
      "text/plain": [
       "    마감년월        근무시도          근무시군구        표준산업대분류    \n",
       " Min.   :201701   Length:9412398     Length:9412398     Length:9412398    \n",
       " 1st Qu.:201807   Class :character   Class :character   Class :character  \n",
       " Median :202007   Mode  :character   Mode  :character   Mode  :character  \n",
       " Mean   :202002                                                           \n",
       " 3rd Qu.:202203                                                           \n",
       " Max.   :202312                                                           \n",
       "   산업버전          직종중분류           직종버전       고용형태    \n",
       " Length:9412398     Length:9412398     Min.   :2007   Min.   :10.00  \n",
       " Class :character   Class :character   1st Qu.:2018   1st Qu.:10.00  \n",
       " Mode  :character   Mode  :character   Median :2018   Median :10.00  \n",
       "                                       Mean   :2016   Mean   :35.66  \n",
       "                                       3rd Qu.:2018   3rd Qu.:99.00  \n",
       "                                       Max.   :2018   Max.   :99.00  \n",
       "   거주시도          거주시군구            성별            연령5세단위    \n",
       " Length:9412398     Length:9412398     Length:9412398     Min.   : 3.000  \n",
       " Class :character   Class :character   Class :character   1st Qu.: 3.000  \n",
       " Mode  :character   Mode  :character   Mode  :character   Median : 6.000  \n",
       "                                                          Mean   : 6.354  \n",
       "                                                          3rd Qu.: 9.000  \n",
       "                                                          Max.   :12.000  \n",
       "     학력              취업건수       \n",
       " Length:9412398     Min.   :   1.000  \n",
       " Class :character   1st Qu.:   1.000  \n",
       " Mode  :character   Median :   1.000  \n",
       "                    Mean   :   1.297  \n",
       "                    3rd Qu.:   1.000  \n",
       "                    Max.   :1120.000  "
      ]
     },
     "metadata": {},
     "output_type": "display_data"
    }
   ],
   "source": [
    "head(jm)\n",
    "\n",
    "summary(jm)"
   ]
  },
  {
   "cell_type": "code",
   "execution_count": 31,
   "metadata": {
    "vscode": {
     "languageId": "r"
    }
   },
   "outputs": [],
   "source": [
    "jm2 = aggregate(취업건수 ~ 마감년월+표준산업대분류, data=jm, sum, na.rm=TRUE)"
   ]
  },
  {
   "cell_type": "code",
   "execution_count": 32,
   "metadata": {
    "vscode": {
     "languageId": "r"
    }
   },
   "outputs": [
    {
     "data": {
      "text/html": [
       "<table class=\"dataframe\">\n",
       "<caption>A data.frame: 6 × 3</caption>\n",
       "<thead>\n",
       "\t<tr><th></th><th scope=col>마감년월</th><th scope=col>표준산업대분류</th><th scope=col>취업건수</th></tr>\n",
       "\t<tr><th></th><th scope=col>&lt;int&gt;</th><th scope=col>&lt;chr&gt;</th><th scope=col>&lt;int&gt;</th></tr>\n",
       "</thead>\n",
       "<tbody>\n",
       "\t<tr><th scope=row>1</th><td>201701</td><td>A</td><td>376</td></tr>\n",
       "\t<tr><th scope=row>2</th><td>201702</td><td>A</td><td>468</td></tr>\n",
       "\t<tr><th scope=row>3</th><td>201703</td><td>A</td><td>591</td></tr>\n",
       "\t<tr><th scope=row>4</th><td>201704</td><td>A</td><td>460</td></tr>\n",
       "\t<tr><th scope=row>5</th><td>201705</td><td>A</td><td>472</td></tr>\n",
       "\t<tr><th scope=row>6</th><td>201706</td><td>A</td><td>412</td></tr>\n",
       "</tbody>\n",
       "</table>\n"
      ],
      "text/latex": [
       "A data.frame: 6 × 3\n",
       "\\begin{tabular}{r|lll}\n",
       "  & 마감년월 & 표준산업대분류 & 취업건수\\\\\n",
       "  & <int> & <chr> & <int>\\\\\n",
       "\\hline\n",
       "\t1 & 201701 & A & 376\\\\\n",
       "\t2 & 201702 & A & 468\\\\\n",
       "\t3 & 201703 & A & 591\\\\\n",
       "\t4 & 201704 & A & 460\\\\\n",
       "\t5 & 201705 & A & 472\\\\\n",
       "\t6 & 201706 & A & 412\\\\\n",
       "\\end{tabular}\n"
      ],
      "text/markdown": [
       "\n",
       "A data.frame: 6 × 3\n",
       "\n",
       "| <!--/--> | 마감년월 &lt;int&gt; | 표준산업대분류 &lt;chr&gt; | 취업건수 &lt;int&gt; |\n",
       "|---|---|---|---|\n",
       "| 1 | 201701 | A | 376 |\n",
       "| 2 | 201702 | A | 468 |\n",
       "| 3 | 201703 | A | 591 |\n",
       "| 4 | 201704 | A | 460 |\n",
       "| 5 | 201705 | A | 472 |\n",
       "| 6 | 201706 | A | 412 |\n",
       "\n"
      ],
      "text/plain": [
       "  마감년월 표준산업대분류 취업건수\n",
       "1 201701   A              376     \n",
       "2 201702   A              468     \n",
       "3 201703   A              591     \n",
       "4 201704   A              460     \n",
       "5 201705   A              472     \n",
       "6 201706   A              412     "
      ]
     },
     "metadata": {},
     "output_type": "display_data"
    },
    {
     "data": {
      "text/plain": [
       "    마감년월      표준산업대분류        취업건수       \n",
       " Min.   :201701   Length:1783        Min.   :     1.0  \n",
       " 1st Qu.:201809   Class :character   1st Qu.:   169.5  \n",
       " Median :202006   Mode  :character   Median :   563.0  \n",
       " Mean   :202005                      Mean   :  6845.5  \n",
       " 3rd Qu.:202203                      3rd Qu.:  2812.0  \n",
       " Max.   :202312                      Max.   :178210.0  "
      ]
     },
     "metadata": {},
     "output_type": "display_data"
    }
   ],
   "source": [
    "head(jm2)\n",
    "\n",
    "summary(jm2)"
   ]
  },
  {
   "cell_type": "code",
   "execution_count": 33,
   "metadata": {
    "vscode": {
     "languageId": "r"
    }
   },
   "outputs": [],
   "source": [
    "# 마감년월을 연도와 월로 분리하고 새롭게 변환된 값으로 변경\n",
    "convert_month <- function(df) {\n",
    "  # 마감년월을 연도와 월로 분리\n",
    "  year <- floor(df$마감년월 / 100)  # 연도 추출 (2017, 2018, ...)\n",
    "  month <- df$마감년월 %% 100      # 월 추출 (01, 02, ...)\n",
    "  \n",
    "  # 기준 연도를 설정하고, 마감년월을 1부터 시작하도록 변경\n",
    "  base_year <- min(year)  # 가장 작은 연도를 기준으로 설정\n",
    "  df$마감년월 <- (year - base_year) * 12 + month  # (연도 차이 * 12) + 월\n",
    "  \n",
    "  return(df)\n",
    "}\n",
    "\n",
    "# rc2, fj2, jm2 모두 적용\n",
    "rc2 <- convert_month(rc2)\n",
    "fj2 <- convert_month(fj2)\n",
    "jm2 <- convert_month(jm2)"
   ]
  },
  {
   "cell_type": "code",
   "execution_count": 34,
   "metadata": {
    "vscode": {
     "languageId": "r"
    }
   },
   "outputs": [
    {
     "data": {
      "text/html": [
       "<table class=\"dataframe\">\n",
       "<caption>A data.frame: 6 × 4</caption>\n",
       "<thead>\n",
       "\t<tr><th></th><th scope=col>마감년월</th><th scope=col>표준산업대분류</th><th scope=col>신규구인인원수</th><th scope=col>연도</th></tr>\n",
       "\t<tr><th></th><th scope=col>&lt;dbl&gt;</th><th scope=col>&lt;chr&gt;</th><th scope=col>&lt;int&gt;</th><th scope=col>&lt;chr&gt;</th></tr>\n",
       "</thead>\n",
       "<tbody>\n",
       "\t<tr><th scope=row>1</th><td>1</td><td>A</td><td> 7945</td><td>2017</td></tr>\n",
       "\t<tr><th scope=row>2</th><td>2</td><td>A</td><td> 4448</td><td>2017</td></tr>\n",
       "\t<tr><th scope=row>3</th><td>3</td><td>A</td><td>14965</td><td>2017</td></tr>\n",
       "\t<tr><th scope=row>4</th><td>4</td><td>A</td><td> 5669</td><td>2017</td></tr>\n",
       "\t<tr><th scope=row>5</th><td>5</td><td>A</td><td> 3921</td><td>2017</td></tr>\n",
       "\t<tr><th scope=row>6</th><td>6</td><td>A</td><td> 5961</td><td>2017</td></tr>\n",
       "</tbody>\n",
       "</table>\n"
      ],
      "text/latex": [
       "A data.frame: 6 × 4\n",
       "\\begin{tabular}{r|llll}\n",
       "  & 마감년월 & 표준산업대분류 & 신규구인인원수 & 연도\\\\\n",
       "  & <dbl> & <chr> & <int> & <chr>\\\\\n",
       "\\hline\n",
       "\t1 & 1 & A &  7945 & 2017\\\\\n",
       "\t2 & 2 & A &  4448 & 2017\\\\\n",
       "\t3 & 3 & A & 14965 & 2017\\\\\n",
       "\t4 & 4 & A &  5669 & 2017\\\\\n",
       "\t5 & 5 & A &  3921 & 2017\\\\\n",
       "\t6 & 6 & A &  5961 & 2017\\\\\n",
       "\\end{tabular}\n"
      ],
      "text/markdown": [
       "\n",
       "A data.frame: 6 × 4\n",
       "\n",
       "| <!--/--> | 마감년월 &lt;dbl&gt; | 표준산업대분류 &lt;chr&gt; | 신규구인인원수 &lt;int&gt; | 연도 &lt;chr&gt; |\n",
       "|---|---|---|---|---|\n",
       "| 1 | 1 | A |  7945 | 2017 |\n",
       "| 2 | 2 | A |  4448 | 2017 |\n",
       "| 3 | 3 | A | 14965 | 2017 |\n",
       "| 4 | 4 | A |  5669 | 2017 |\n",
       "| 5 | 5 | A |  3921 | 2017 |\n",
       "| 6 | 6 | A |  5961 | 2017 |\n",
       "\n"
      ],
      "text/plain": [
       "  마감년월 표준산업대분류 신규구인인원수 연도\n",
       "1 1        A               7945          2017\n",
       "2 2        A               4448          2017\n",
       "3 3        A              14965          2017\n",
       "4 4        A               5669          2017\n",
       "5 5        A               3921          2017\n",
       "6 6        A               5961          2017"
      ]
     },
     "metadata": {},
     "output_type": "display_data"
    }
   ],
   "source": [
    "head(rc2)"
   ]
  },
  {
   "cell_type": "code",
   "execution_count": 35,
   "metadata": {
    "vscode": {
     "languageId": "r"
    }
   },
   "outputs": [
    {
     "data": {
      "text/html": [
       "<table class=\"dataframe\">\n",
       "<caption>A data.frame: 6 × 18</caption>\n",
       "<thead>\n",
       "\t<tr><th></th><th scope=col>마감년월</th><th scope=col>표준산업대분류</th><th scope=col>취업건수</th><th scope=col>신규구인인원수</th><th scope=col>연도</th><th scope=col>1_개월전_신규구인인원수</th><th scope=col>2_개월전_신규구인인원수</th><th scope=col>3_개월전_신규구인인원수</th><th scope=col>4_개월전_신규구인인원수</th><th scope=col>5_개월전_신규구인인원수</th><th scope=col>6_개월전_신규구인인원수</th><th scope=col>신규구직인원수</th><th scope=col>1_개월전_신규구직인원수</th><th scope=col>2_개월전_신규구직인원수</th><th scope=col>3_개월전_신규구직인원수</th><th scope=col>4_개월전_신규구직인원수</th><th scope=col>5_개월전_신규구직인원수</th><th scope=col>6_개월전_신규구직인원수</th></tr>\n",
       "\t<tr><th></th><th scope=col>&lt;dbl&gt;</th><th scope=col>&lt;chr&gt;</th><th scope=col>&lt;int&gt;</th><th scope=col>&lt;int&gt;</th><th scope=col>&lt;chr&gt;</th><th scope=col>&lt;int&gt;</th><th scope=col>&lt;int&gt;</th><th scope=col>&lt;int&gt;</th><th scope=col>&lt;int&gt;</th><th scope=col>&lt;int&gt;</th><th scope=col>&lt;int&gt;</th><th scope=col>&lt;int&gt;</th><th scope=col>&lt;int&gt;</th><th scope=col>&lt;int&gt;</th><th scope=col>&lt;int&gt;</th><th scope=col>&lt;int&gt;</th><th scope=col>&lt;int&gt;</th><th scope=col>&lt;int&gt;</th></tr>\n",
       "</thead>\n",
       "<tbody>\n",
       "\t<tr><th scope=row>1</th><td>13</td><td>A</td><td> 247</td><td> 9250</td><td>2018</td><td> 9570</td><td> 3934</td><td> 3913</td><td> 6638</td><td> 4266</td><td> 5104</td><td>434846</td><td>375863</td><td>400080</td><td>354656</td><td>406449</td><td>399056</td><td>417453</td></tr>\n",
       "\t<tr><th scope=row>2</th><td>13</td><td>B</td><td>   6</td><td>  173</td><td>2018</td><td>  108</td><td>  153</td><td>  188</td><td>  167</td><td>  177</td><td>  192</td><td>434846</td><td>375863</td><td>400080</td><td>354656</td><td>406449</td><td>399056</td><td>417453</td></tr>\n",
       "\t<tr><th scope=row>3</th><td>13</td><td>C</td><td>5209</td><td>86247</td><td>2018</td><td>68258</td><td>79808</td><td>75990</td><td>92156</td><td>87426</td><td>81378</td><td>434846</td><td>375863</td><td>400080</td><td>354656</td><td>406449</td><td>399056</td><td>417453</td></tr>\n",
       "\t<tr><th scope=row>4</th><td>13</td><td>D</td><td>  22</td><td>  468</td><td>2018</td><td>  376</td><td>  404</td><td>  368</td><td>  375</td><td>  532</td><td>  493</td><td>434846</td><td>375863</td><td>400080</td><td>354656</td><td>406449</td><td>399056</td><td>417453</td></tr>\n",
       "\t<tr><th scope=row>5</th><td>13</td><td>E</td><td>  89</td><td> 1461</td><td>2018</td><td> 1110</td><td> 1274</td><td> 1105</td><td> 1256</td><td> 1394</td><td> 1259</td><td>434846</td><td>375863</td><td>400080</td><td>354656</td><td>406449</td><td>399056</td><td>417453</td></tr>\n",
       "\t<tr><th scope=row>6</th><td>13</td><td>F</td><td> 429</td><td>13404</td><td>2018</td><td>12298</td><td>12735</td><td>11618</td><td>12910</td><td>13446</td><td>14549</td><td>434846</td><td>375863</td><td>400080</td><td>354656</td><td>406449</td><td>399056</td><td>417453</td></tr>\n",
       "</tbody>\n",
       "</table>\n"
      ],
      "text/latex": [
       "A data.frame: 6 × 18\n",
       "\\begin{tabular}{r|llllllllllllllllll}\n",
       "  & 마감년월 & 표준산업대분류 & 취업건수 & 신규구인인원수 & 연도 & 1\\_개월전\\_신규구인인원수 & 2\\_개월전\\_신규구인인원수 & 3\\_개월전\\_신규구인인원수 & 4\\_개월전\\_신규구인인원수 & 5\\_개월전\\_신규구인인원수 & 6\\_개월전\\_신규구인인원수 & 신규구직인원수 & 1\\_개월전\\_신규구직인원수 & 2\\_개월전\\_신규구직인원수 & 3\\_개월전\\_신규구직인원수 & 4\\_개월전\\_신규구직인원수 & 5\\_개월전\\_신규구직인원수 & 6\\_개월전\\_신규구직인원수\\\\\n",
       "  & <dbl> & <chr> & <int> & <int> & <chr> & <int> & <int> & <int> & <int> & <int> & <int> & <int> & <int> & <int> & <int> & <int> & <int> & <int>\\\\\n",
       "\\hline\n",
       "\t1 & 13 & A &  247 &  9250 & 2018 &  9570 &  3934 &  3913 &  6638 &  4266 &  5104 & 434846 & 375863 & 400080 & 354656 & 406449 & 399056 & 417453\\\\\n",
       "\t2 & 13 & B &    6 &   173 & 2018 &   108 &   153 &   188 &   167 &   177 &   192 & 434846 & 375863 & 400080 & 354656 & 406449 & 399056 & 417453\\\\\n",
       "\t3 & 13 & C & 5209 & 86247 & 2018 & 68258 & 79808 & 75990 & 92156 & 87426 & 81378 & 434846 & 375863 & 400080 & 354656 & 406449 & 399056 & 417453\\\\\n",
       "\t4 & 13 & D &   22 &   468 & 2018 &   376 &   404 &   368 &   375 &   532 &   493 & 434846 & 375863 & 400080 & 354656 & 406449 & 399056 & 417453\\\\\n",
       "\t5 & 13 & E &   89 &  1461 & 2018 &  1110 &  1274 &  1105 &  1256 &  1394 &  1259 & 434846 & 375863 & 400080 & 354656 & 406449 & 399056 & 417453\\\\\n",
       "\t6 & 13 & F &  429 & 13404 & 2018 & 12298 & 12735 & 11618 & 12910 & 13446 & 14549 & 434846 & 375863 & 400080 & 354656 & 406449 & 399056 & 417453\\\\\n",
       "\\end{tabular}\n"
      ],
      "text/markdown": [
       "\n",
       "A data.frame: 6 × 18\n",
       "\n",
       "| <!--/--> | 마감년월 &lt;dbl&gt; | 표준산업대분류 &lt;chr&gt; | 취업건수 &lt;int&gt; | 신규구인인원수 &lt;int&gt; | 연도 &lt;chr&gt; | 1_개월전_신규구인인원수 &lt;int&gt; | 2_개월전_신규구인인원수 &lt;int&gt; | 3_개월전_신규구인인원수 &lt;int&gt; | 4_개월전_신규구인인원수 &lt;int&gt; | 5_개월전_신규구인인원수 &lt;int&gt; | 6_개월전_신규구인인원수 &lt;int&gt; | 신규구직인원수 &lt;int&gt; | 1_개월전_신규구직인원수 &lt;int&gt; | 2_개월전_신규구직인원수 &lt;int&gt; | 3_개월전_신규구직인원수 &lt;int&gt; | 4_개월전_신규구직인원수 &lt;int&gt; | 5_개월전_신규구직인원수 &lt;int&gt; | 6_개월전_신규구직인원수 &lt;int&gt; |\n",
       "|---|---|---|---|---|---|---|---|---|---|---|---|---|---|---|---|---|---|---|\n",
       "| 1 | 13 | A |  247 |  9250 | 2018 |  9570 |  3934 |  3913 |  6638 |  4266 |  5104 | 434846 | 375863 | 400080 | 354656 | 406449 | 399056 | 417453 |\n",
       "| 2 | 13 | B |    6 |   173 | 2018 |   108 |   153 |   188 |   167 |   177 |   192 | 434846 | 375863 | 400080 | 354656 | 406449 | 399056 | 417453 |\n",
       "| 3 | 13 | C | 5209 | 86247 | 2018 | 68258 | 79808 | 75990 | 92156 | 87426 | 81378 | 434846 | 375863 | 400080 | 354656 | 406449 | 399056 | 417453 |\n",
       "| 4 | 13 | D |   22 |   468 | 2018 |   376 |   404 |   368 |   375 |   532 |   493 | 434846 | 375863 | 400080 | 354656 | 406449 | 399056 | 417453 |\n",
       "| 5 | 13 | E |   89 |  1461 | 2018 |  1110 |  1274 |  1105 |  1256 |  1394 |  1259 | 434846 | 375863 | 400080 | 354656 | 406449 | 399056 | 417453 |\n",
       "| 6 | 13 | F |  429 | 13404 | 2018 | 12298 | 12735 | 11618 | 12910 | 13446 | 14549 | 434846 | 375863 | 400080 | 354656 | 406449 | 399056 | 417453 |\n",
       "\n"
      ],
      "text/plain": [
       "  마감년월 표준산업대분류 취업건수 신규구인인원수 연도 1_개월전_신규구인인원수\n",
       "1 13       A               247      9250          2018  9570                  \n",
       "2 13       B                 6       173          2018   108                  \n",
       "3 13       C              5209     86247          2018 68258                  \n",
       "4 13       D                22       468          2018   376                  \n",
       "5 13       E                89      1461          2018  1110                  \n",
       "6 13       F               429     13404          2018 12298                  \n",
       "  2_개월전_신규구인인원수 3_개월전_신규구인인원수 4_개월전_신규구인인원수\n",
       "1  3934                    3913                    6638                  \n",
       "2   153                     188                     167                  \n",
       "3 79808                   75990                   92156                  \n",
       "4   404                     368                     375                  \n",
       "5  1274                    1105                    1256                  \n",
       "6 12735                   11618                   12910                  \n",
       "  5_개월전_신규구인인원수 6_개월전_신규구인인원수 신규구직인원수\n",
       "1  4266                    5104                   434846        \n",
       "2   177                     192                   434846        \n",
       "3 87426                   81378                   434846        \n",
       "4   532                     493                   434846        \n",
       "5  1394                    1259                   434846        \n",
       "6 13446                   14549                   434846        \n",
       "  1_개월전_신규구직인원수 2_개월전_신규구직인원수 3_개월전_신규구직인원수\n",
       "1 375863                  400080                  354656                 \n",
       "2 375863                  400080                  354656                 \n",
       "3 375863                  400080                  354656                 \n",
       "4 375863                  400080                  354656                 \n",
       "5 375863                  400080                  354656                 \n",
       "6 375863                  400080                  354656                 \n",
       "  4_개월전_신규구직인원수 5_개월전_신규구직인원수 6_개월전_신규구직인원수\n",
       "1 406449                  399056                  417453                 \n",
       "2 406449                  399056                  417453                 \n",
       "3 406449                  399056                  417453                 \n",
       "4 406449                  399056                  417453                 \n",
       "5 406449                  399056                  417453                 \n",
       "6 406449                  399056                  417453                 "
      ]
     },
     "metadata": {},
     "output_type": "display_data"
    }
   ],
   "source": [
    "# 1. 2018년 이후 자료만 필터링\n",
    "jm2_filtered <- jm2[jm2$마감년월 >= 13, ]  # 201801부터 사용 (마감년월 = 13은 2018년 1월)\n",
    "\n",
    "# 2. 6개월 이전 데이터 생성 함수 (표준산업대분류도 고려)\n",
    "create_lagged_data <- function(df, target_col) {\n",
    "  lagged_data <- data.frame()  # 빈 데이터프레임 생성\n",
    "  \n",
    "  # 각 마감년월에 대해 이전 6개월 데이터를 붙여주기\n",
    "  for(i in 7:nrow(df)) {  # 6개월 이상의 데이터부터 시작\n",
    "    temp_row <- df[i, ]\n",
    "    for(j in 1:6) {\n",
    "      temp_row[[paste(j, \"개월전\", target_col, sep = \"_\")]] <- df[i - j, target_col]\n",
    "    }\n",
    "    lagged_data <- rbind(lagged_data, temp_row)\n",
    "  }\n",
    "  \n",
    "  return(lagged_data)\n",
    "}\n",
    "\n",
    "# 3. rc2와 fj2 데이터에서 신규구인인원수, 신규구직인원수 컬럼을 이전 6개월치로 변환\n",
    "rc2_lagged <- create_lagged_data(rc2, \"신규구인인원수\")\n",
    "fj2_lagged <- create_lagged_data(fj2, \"신규구직인원수\")\n",
    "\n",
    "# 4. 6개월치 데이터를 합치기 (마감년월과 표준산업대분류 기준으로 병합)\n",
    "# `jm2_filtered`는 마감년월 기준으로 이미 필터링된 데이터입니다.\n",
    "result <- merge(jm2_filtered, rc2_lagged, by = c(\"마감년월\", \"표준산업대분류\"), all.x = TRUE)\n",
    "result <- merge(result, fj2_lagged, by = \"마감년월\", all.x = TRUE)\n",
    "\n",
    "# 결과 확인\n",
    "head(result)\n"
   ]
  },
  {
   "cell_type": "code",
   "execution_count": 36,
   "metadata": {
    "vscode": {
     "languageId": "r"
    }
   },
   "outputs": [
    {
     "data": {
      "text/html": [
       "<table class=\"dataframe\">\n",
       "<caption>A data.frame: 1528 × 18</caption>\n",
       "<thead>\n",
       "\t<tr><th scope=col>마감년월</th><th scope=col>표준산업대분류</th><th scope=col>취업건수</th><th scope=col>신규구인인원수</th><th scope=col>연도</th><th scope=col>1_개월전_신규구인인원수</th><th scope=col>2_개월전_신규구인인원수</th><th scope=col>3_개월전_신규구인인원수</th><th scope=col>4_개월전_신규구인인원수</th><th scope=col>5_개월전_신규구인인원수</th><th scope=col>6_개월전_신규구인인원수</th><th scope=col>신규구직인원수</th><th scope=col>1_개월전_신규구직인원수</th><th scope=col>2_개월전_신규구직인원수</th><th scope=col>3_개월전_신규구직인원수</th><th scope=col>4_개월전_신규구직인원수</th><th scope=col>5_개월전_신규구직인원수</th><th scope=col>6_개월전_신규구직인원수</th></tr>\n",
       "\t<tr><th scope=col>&lt;dbl&gt;</th><th scope=col>&lt;chr&gt;</th><th scope=col>&lt;int&gt;</th><th scope=col>&lt;int&gt;</th><th scope=col>&lt;chr&gt;</th><th scope=col>&lt;int&gt;</th><th scope=col>&lt;int&gt;</th><th scope=col>&lt;int&gt;</th><th scope=col>&lt;int&gt;</th><th scope=col>&lt;int&gt;</th><th scope=col>&lt;int&gt;</th><th scope=col>&lt;int&gt;</th><th scope=col>&lt;int&gt;</th><th scope=col>&lt;int&gt;</th><th scope=col>&lt;int&gt;</th><th scope=col>&lt;int&gt;</th><th scope=col>&lt;int&gt;</th><th scope=col>&lt;int&gt;</th></tr>\n",
       "</thead>\n",
       "<tbody>\n",
       "\t<tr><td>13</td><td>A</td><td>   247</td><td> 9250</td><td>2018</td><td> 9570</td><td> 3934</td><td> 3913</td><td> 6638</td><td> 4266</td><td> 5104</td><td>434846</td><td>375863</td><td>400080</td><td>354656</td><td>406449</td><td>399056</td><td>417453</td></tr>\n",
       "\t<tr><td>13</td><td>B</td><td>     6</td><td>  173</td><td>2018</td><td>  108</td><td>  153</td><td>  188</td><td>  167</td><td>  177</td><td>  192</td><td>434846</td><td>375863</td><td>400080</td><td>354656</td><td>406449</td><td>399056</td><td>417453</td></tr>\n",
       "\t<tr><td>13</td><td>C</td><td>  5209</td><td>86247</td><td>2018</td><td>68258</td><td>79808</td><td>75990</td><td>92156</td><td>87426</td><td>81378</td><td>434846</td><td>375863</td><td>400080</td><td>354656</td><td>406449</td><td>399056</td><td>417453</td></tr>\n",
       "\t<tr><td>13</td><td>D</td><td>    22</td><td>  468</td><td>2018</td><td>  376</td><td>  404</td><td>  368</td><td>  375</td><td>  532</td><td>  493</td><td>434846</td><td>375863</td><td>400080</td><td>354656</td><td>406449</td><td>399056</td><td>417453</td></tr>\n",
       "\t<tr><td>13</td><td>E</td><td>    89</td><td> 1461</td><td>2018</td><td> 1110</td><td> 1274</td><td> 1105</td><td> 1256</td><td> 1394</td><td> 1259</td><td>434846</td><td>375863</td><td>400080</td><td>354656</td><td>406449</td><td>399056</td><td>417453</td></tr>\n",
       "\t<tr><td>13</td><td>F</td><td>   429</td><td>13404</td><td>2018</td><td>12298</td><td>12735</td><td>11618</td><td>12910</td><td>13446</td><td>14549</td><td>434846</td><td>375863</td><td>400080</td><td>354656</td><td>406449</td><td>399056</td><td>417453</td></tr>\n",
       "\t<tr><td>13</td><td>G</td><td>  1033</td><td>14873</td><td>2018</td><td>12877</td><td>15774</td><td>15525</td><td>16449</td><td>18213</td><td>16087</td><td>434846</td><td>375863</td><td>400080</td><td>354656</td><td>406449</td><td>399056</td><td>417453</td></tr>\n",
       "\t<tr><td>13</td><td>H</td><td>   466</td><td> 4724</td><td>2018</td><td> 3653</td><td> 4465</td><td> 4661</td><td> 4470</td><td> 5224</td><td> 4488</td><td>434846</td><td>375863</td><td>400080</td><td>354656</td><td>406449</td><td>399056</td><td>417453</td></tr>\n",
       "\t<tr><td>13</td><td>I</td><td>   920</td><td> 4799</td><td>2018</td><td> 4622</td><td> 7358</td><td> 6168</td><td> 7355</td><td> 8373</td><td> 7225</td><td>434846</td><td>375863</td><td>400080</td><td>354656</td><td>406449</td><td>399056</td><td>417453</td></tr>\n",
       "\t<tr><td>13</td><td>J</td><td>   256</td><td> 3659</td><td>2018</td><td> 2868</td><td> 4252</td><td> 3630</td><td> 4807</td><td> 4004</td><td> 3559</td><td>434846</td><td>375863</td><td>400080</td><td>354656</td><td>406449</td><td>399056</td><td>417453</td></tr>\n",
       "\t<tr><td>13</td><td>K</td><td>   119</td><td> 1213</td><td>2018</td><td>  642</td><td>  986</td><td>  675</td><td> 1085</td><td>  919</td><td>  806</td><td>434846</td><td>375863</td><td>400080</td><td>354656</td><td>406449</td><td>399056</td><td>417453</td></tr>\n",
       "\t<tr><td>13</td><td>L</td><td>   697</td><td> 2504</td><td>2018</td><td> 2404</td><td> 2373</td><td> 2149</td><td> 2206</td><td> 2447</td><td> 2199</td><td>434846</td><td>375863</td><td>400080</td><td>354656</td><td>406449</td><td>399056</td><td>417453</td></tr>\n",
       "\t<tr><td>13</td><td>M</td><td>   504</td><td> 5602</td><td>2018</td><td> 5933</td><td> 7001</td><td> 4933</td><td> 6520</td><td> 7165</td><td> 5826</td><td>434846</td><td>375863</td><td>400080</td><td>354656</td><td>406449</td><td>399056</td><td>417453</td></tr>\n",
       "\t<tr><td>13</td><td>N</td><td>  4817</td><td>18657</td><td>2018</td><td>21756</td><td>25499</td><td>23289</td><td>26327</td><td>28519</td><td>25463</td><td>434846</td><td>375863</td><td>400080</td><td>354656</td><td>406449</td><td>399056</td><td>417453</td></tr>\n",
       "\t<tr><td>13</td><td>O</td><td>  3761</td><td>26397</td><td>2018</td><td>11752</td><td> 6128</td><td> 4429</td><td> 5225</td><td> 8033</td><td> 5159</td><td>434846</td><td>375863</td><td>400080</td><td>354656</td><td>406449</td><td>399056</td><td>417453</td></tr>\n",
       "\t<tr><td>13</td><td>P</td><td>   947</td><td> 5274</td><td>2018</td><td> 4654</td><td> 4783</td><td> 4015</td><td> 4510</td><td> 4684</td><td> 4299</td><td>434846</td><td>375863</td><td>400080</td><td>354656</td><td>406449</td><td>399056</td><td>417453</td></tr>\n",
       "\t<tr><td>13</td><td>Q</td><td>  5508</td><td>25977</td><td>2018</td><td>23550</td><td>23161</td><td>23040</td><td>23640</td><td>24957</td><td>23174</td><td>434846</td><td>375863</td><td>400080</td><td>354656</td><td>406449</td><td>399056</td><td>417453</td></tr>\n",
       "\t<tr><td>13</td><td>R</td><td>   211</td><td> 1323</td><td>2018</td><td>  794</td><td> 1169</td><td> 1782</td><td> 1167</td><td> 1998</td><td> 1336</td><td>434846</td><td>375863</td><td>400080</td><td>354656</td><td>406449</td><td>399056</td><td>417453</td></tr>\n",
       "\t<tr><td>13</td><td>S</td><td>  2965</td><td> 6713</td><td>2018</td><td> 6794</td><td> 8492</td><td> 5885</td><td> 7826</td><td> 8545</td><td> 7566</td><td>434846</td><td>375863</td><td>400080</td><td>354656</td><td>406449</td><td>399056</td><td>417453</td></tr>\n",
       "\t<tr><td>13</td><td>T</td><td> 13798</td><td>14297</td><td>2018</td><td>14071</td><td>15325</td><td>13311</td><td>15435</td><td>16051</td><td>16225</td><td>434846</td><td>375863</td><td>400080</td><td>354656</td><td>406449</td><td>399056</td><td>417453</td></tr>\n",
       "\t<tr><td>13</td><td>y</td><td>127314</td><td>   NA</td><td>NA  </td><td>   NA</td><td>   NA</td><td>   NA</td><td>   NA</td><td>   NA</td><td>   NA</td><td>434846</td><td>375863</td><td>400080</td><td>354656</td><td>406449</td><td>399056</td><td>417453</td></tr>\n",
       "\t<tr><td>14</td><td>A</td><td>   229</td><td> 3096</td><td>2018</td><td> 9250</td><td> 9570</td><td> 3934</td><td> 3913</td><td> 6638</td><td> 4266</td><td>314439</td><td>434846</td><td>375863</td><td>400080</td><td>354656</td><td>406449</td><td>399056</td></tr>\n",
       "\t<tr><td>14</td><td>B</td><td>     3</td><td>  122</td><td>2018</td><td>  173</td><td>  108</td><td>  153</td><td>  188</td><td>  167</td><td>  177</td><td>314439</td><td>434846</td><td>375863</td><td>400080</td><td>354656</td><td>406449</td><td>399056</td></tr>\n",
       "\t<tr><td>14</td><td>C</td><td>  4130</td><td>63027</td><td>2018</td><td>86247</td><td>68258</td><td>79808</td><td>75990</td><td>92156</td><td>87426</td><td>314439</td><td>434846</td><td>375863</td><td>400080</td><td>354656</td><td>406449</td><td>399056</td></tr>\n",
       "\t<tr><td>14</td><td>D</td><td>    18</td><td>  482</td><td>2018</td><td>  468</td><td>  376</td><td>  404</td><td>  368</td><td>  375</td><td>  532</td><td>314439</td><td>434846</td><td>375863</td><td>400080</td><td>354656</td><td>406449</td><td>399056</td></tr>\n",
       "\t<tr><td>14</td><td>E</td><td>    62</td><td> 1027</td><td>2018</td><td> 1461</td><td> 1110</td><td> 1274</td><td> 1105</td><td> 1256</td><td> 1394</td><td>314439</td><td>434846</td><td>375863</td><td>400080</td><td>354656</td><td>406449</td><td>399056</td></tr>\n",
       "\t<tr><td>14</td><td>F</td><td>   337</td><td>10402</td><td>2018</td><td>13404</td><td>12298</td><td>12735</td><td>11618</td><td>12910</td><td>13446</td><td>314439</td><td>434846</td><td>375863</td><td>400080</td><td>354656</td><td>406449</td><td>399056</td></tr>\n",
       "\t<tr><td>14</td><td>G</td><td>   898</td><td>12027</td><td>2018</td><td>14873</td><td>12877</td><td>15774</td><td>15525</td><td>16449</td><td>18213</td><td>314439</td><td>434846</td><td>375863</td><td>400080</td><td>354656</td><td>406449</td><td>399056</td></tr>\n",
       "\t<tr><td>14</td><td>H</td><td>   564</td><td> 3286</td><td>2018</td><td> 4724</td><td> 3653</td><td> 4465</td><td> 4661</td><td> 4470</td><td> 5224</td><td>314439</td><td>434846</td><td>375863</td><td>400080</td><td>354656</td><td>406449</td><td>399056</td></tr>\n",
       "\t<tr><td>14</td><td>I</td><td>   565</td><td> 4429</td><td>2018</td><td> 4799</td><td> 4622</td><td> 7358</td><td> 6168</td><td> 7355</td><td> 8373</td><td>314439</td><td>434846</td><td>375863</td><td>400080</td><td>354656</td><td>406449</td><td>399056</td></tr>\n",
       "\t<tr><td>⋮</td><td>⋮</td><td>⋮</td><td>⋮</td><td>⋮</td><td>⋮</td><td>⋮</td><td>⋮</td><td>⋮</td><td>⋮</td><td>⋮</td><td>⋮</td><td>⋮</td><td>⋮</td><td>⋮</td><td>⋮</td><td>⋮</td><td>⋮</td></tr>\n",
       "\t<tr><td>83</td><td>M</td><td>  472</td><td> 6280</td><td>2023</td><td> 6285</td><td> 8219</td><td> 7075</td><td> 6579</td><td> 6854</td><td> 6683</td><td>376706</td><td>379926</td><td>336295</td><td>368165</td><td>387359</td><td>388639</td><td>396188</td></tr>\n",
       "\t<tr><td>83</td><td>N</td><td> 3661</td><td>19775</td><td>2023</td><td>24150</td><td>19684</td><td>24907</td><td>23297</td><td>24985</td><td>23726</td><td>376706</td><td>379926</td><td>336295</td><td>368165</td><td>387359</td><td>388639</td><td>396188</td></tr>\n",
       "\t<tr><td>83</td><td>O</td><td>  591</td><td> 8165</td><td>2023</td><td> 2540</td><td> 2510</td><td> 3052</td><td> 3064</td><td> 2902</td><td> 3012</td><td>376706</td><td>379926</td><td>336295</td><td>368165</td><td>387359</td><td>388639</td><td>396188</td></tr>\n",
       "\t<tr><td>83</td><td>P</td><td>  783</td><td> 4531</td><td>2023</td><td> 4604</td><td> 4198</td><td> 4878</td><td> 4611</td><td> 4876</td><td> 4771</td><td>376706</td><td>379926</td><td>336295</td><td>368165</td><td>387359</td><td>388639</td><td>396188</td></tr>\n",
       "\t<tr><td>83</td><td>Q</td><td> 6627</td><td>47753</td><td>2023</td><td>44651</td><td>37213</td><td>46957</td><td>45580</td><td>45617</td><td>43418</td><td>376706</td><td>379926</td><td>336295</td><td>368165</td><td>387359</td><td>388639</td><td>396188</td></tr>\n",
       "\t<tr><td>83</td><td>R</td><td>   81</td><td> 1213</td><td>2023</td><td> 1217</td><td> 1412</td><td> 1302</td><td> 1432</td><td> 1746</td><td> 1841</td><td>376706</td><td>379926</td><td>336295</td><td>368165</td><td>387359</td><td>388639</td><td>396188</td></tr>\n",
       "\t<tr><td>83</td><td>S</td><td> 1964</td><td> 5057</td><td>2023</td><td> 5340</td><td> 5017</td><td> 6189</td><td> 5683</td><td> 5913</td><td> 6239</td><td>376706</td><td>379926</td><td>336295</td><td>368165</td><td>387359</td><td>388639</td><td>396188</td></tr>\n",
       "\t<tr><td>83</td><td>T</td><td> 9019</td><td> 9110</td><td>2023</td><td> 9114</td><td> 9310</td><td>10388</td><td> 9942</td><td>11696</td><td>10583</td><td>376706</td><td>379926</td><td>336295</td><td>368165</td><td>387359</td><td>388639</td><td>396188</td></tr>\n",
       "\t<tr><td>83</td><td>y</td><td>93055</td><td>   NA</td><td>NA  </td><td>   NA</td><td>   NA</td><td>   NA</td><td>   NA</td><td>   NA</td><td>   NA</td><td>376706</td><td>379926</td><td>336295</td><td>368165</td><td>387359</td><td>388639</td><td>396188</td></tr>\n",
       "\t<tr><td>84</td><td>A</td><td>   20</td><td> 2965</td><td>2023</td><td> 7040</td><td> 3887</td><td> 7819</td><td> 5776</td><td> 3946</td><td> 3757</td><td>351074</td><td>376706</td><td>379926</td><td>336295</td><td>368165</td><td>387359</td><td>388639</td></tr>\n",
       "\t<tr><td>84</td><td>B</td><td>    3</td><td>  131</td><td>2023</td><td>  138</td><td>   96</td><td>  116</td><td>  109</td><td>  107</td><td>  115</td><td>351074</td><td>376706</td><td>379926</td><td>336295</td><td>368165</td><td>387359</td><td>388639</td></tr>\n",
       "\t<tr><td>84</td><td>C</td><td> 2614</td><td>56562</td><td>2023</td><td>82489</td><td>83042</td><td>87248</td><td>86065</td><td>78518</td><td>82077</td><td>351074</td><td>376706</td><td>379926</td><td>336295</td><td>368165</td><td>387359</td><td>388639</td></tr>\n",
       "\t<tr><td>84</td><td>D</td><td>   14</td><td>  384</td><td>2023</td><td>  553</td><td>  436</td><td>  534</td><td>  523</td><td>  493</td><td>  561</td><td>351074</td><td>376706</td><td>379926</td><td>336295</td><td>368165</td><td>387359</td><td>388639</td></tr>\n",
       "\t<tr><td>84</td><td>E</td><td>   58</td><td> 1544</td><td>2023</td><td> 1662</td><td> 1570</td><td> 1258</td><td> 1650</td><td> 1507</td><td> 1680</td><td>351074</td><td>376706</td><td>379926</td><td>336295</td><td>368165</td><td>387359</td><td>388639</td></tr>\n",
       "\t<tr><td>84</td><td>F</td><td>  297</td><td> 9841</td><td>2023</td><td>12901</td><td>11718</td><td>11139</td><td>13737</td><td>13239</td><td>14732</td><td>351074</td><td>376706</td><td>379926</td><td>336295</td><td>368165</td><td>387359</td><td>388639</td></tr>\n",
       "\t<tr><td>84</td><td>G</td><td>  522</td><td> 9919</td><td>2023</td><td>12282</td><td>15735</td><td>12873</td><td>15188</td><td>13192</td><td>26101</td><td>351074</td><td>376706</td><td>379926</td><td>336295</td><td>368165</td><td>387359</td><td>388639</td></tr>\n",
       "\t<tr><td>84</td><td>H</td><td>  287</td><td> 6078</td><td>2023</td><td> 7425</td><td> 8725</td><td> 6288</td><td> 8490</td><td> 7303</td><td> 6941</td><td>351074</td><td>376706</td><td>379926</td><td>336295</td><td>368165</td><td>387359</td><td>388639</td></tr>\n",
       "\t<tr><td>84</td><td>I</td><td>  300</td><td> 4016</td><td>2023</td><td> 6189</td><td> 7835</td><td> 6490</td><td> 7395</td><td> 6477</td><td> 7608</td><td>351074</td><td>376706</td><td>379926</td><td>336295</td><td>368165</td><td>387359</td><td>388639</td></tr>\n",
       "\t<tr><td>84</td><td>J</td><td>  119</td><td> 1956</td><td>2023</td><td> 2419</td><td> 3037</td><td> 2734</td><td> 3203</td><td> 3292</td><td> 3294</td><td>351074</td><td>376706</td><td>379926</td><td>336295</td><td>368165</td><td>387359</td><td>388639</td></tr>\n",
       "\t<tr><td>84</td><td>K</td><td>   53</td><td>  998</td><td>2023</td><td> 1088</td><td> 1028</td><td>  937</td><td> 1210</td><td>  994</td><td> 1155</td><td>351074</td><td>376706</td><td>379926</td><td>336295</td><td>368165</td><td>387359</td><td>388639</td></tr>\n",
       "\t<tr><td>84</td><td>L</td><td>  255</td><td> 3220</td><td>2023</td><td> 2537</td><td> 2355</td><td> 2259</td><td> 2559</td><td> 2528</td><td> 2554</td><td>351074</td><td>376706</td><td>379926</td><td>336295</td><td>368165</td><td>387359</td><td>388639</td></tr>\n",
       "\t<tr><td>84</td><td>M</td><td>  294</td><td> 5809</td><td>2023</td><td> 6280</td><td> 6285</td><td> 8219</td><td> 7075</td><td> 6579</td><td> 6854</td><td>351074</td><td>376706</td><td>379926</td><td>336295</td><td>368165</td><td>387359</td><td>388639</td></tr>\n",
       "\t<tr><td>84</td><td>N</td><td> 2037</td><td>25106</td><td>2023</td><td>19775</td><td>24150</td><td>19684</td><td>24907</td><td>23297</td><td>24985</td><td>351074</td><td>376706</td><td>379926</td><td>336295</td><td>368165</td><td>387359</td><td>388639</td></tr>\n",
       "\t<tr><td>84</td><td>O</td><td>  405</td><td> 6632</td><td>2023</td><td> 8165</td><td> 2540</td><td> 2510</td><td> 3052</td><td> 3064</td><td> 2902</td><td>351074</td><td>376706</td><td>379926</td><td>336295</td><td>368165</td><td>387359</td><td>388639</td></tr>\n",
       "\t<tr><td>84</td><td>P</td><td>  382</td><td> 4321</td><td>2023</td><td> 4531</td><td> 4604</td><td> 4198</td><td> 4878</td><td> 4611</td><td> 4876</td><td>351074</td><td>376706</td><td>379926</td><td>336295</td><td>368165</td><td>387359</td><td>388639</td></tr>\n",
       "\t<tr><td>84</td><td>Q</td><td> 4497</td><td>46137</td><td>2023</td><td>47753</td><td>44651</td><td>37213</td><td>46957</td><td>45580</td><td>45617</td><td>351074</td><td>376706</td><td>379926</td><td>336295</td><td>368165</td><td>387359</td><td>388639</td></tr>\n",
       "\t<tr><td>84</td><td>R</td><td>   39</td><td>  951</td><td>2023</td><td> 1213</td><td> 1217</td><td> 1412</td><td> 1302</td><td> 1432</td><td> 1746</td><td>351074</td><td>376706</td><td>379926</td><td>336295</td><td>368165</td><td>387359</td><td>388639</td></tr>\n",
       "\t<tr><td>84</td><td>S</td><td> 1033</td><td> 4586</td><td>2023</td><td> 5057</td><td> 5340</td><td> 5017</td><td> 6189</td><td> 5683</td><td> 5913</td><td>351074</td><td>376706</td><td>379926</td><td>336295</td><td>368165</td><td>387359</td><td>388639</td></tr>\n",
       "\t<tr><td>84</td><td>T</td><td> 5180</td><td> 5206</td><td>2023</td><td> 9110</td><td> 9114</td><td> 9310</td><td>10388</td><td> 9942</td><td>11696</td><td>351074</td><td>376706</td><td>379926</td><td>336295</td><td>368165</td><td>387359</td><td>388639</td></tr>\n",
       "\t<tr><td>84</td><td>y</td><td>75095</td><td>   NA</td><td>NA  </td><td>   NA</td><td>   NA</td><td>   NA</td><td>   NA</td><td>   NA</td><td>   NA</td><td>351074</td><td>376706</td><td>379926</td><td>336295</td><td>368165</td><td>387359</td><td>388639</td></tr>\n",
       "</tbody>\n",
       "</table>\n"
      ],
      "text/latex": [
       "A data.frame: 1528 × 18\n",
       "\\begin{tabular}{llllllllllllllllll}\n",
       " 마감년월 & 표준산업대분류 & 취업건수 & 신규구인인원수 & 연도 & 1\\_개월전\\_신규구인인원수 & 2\\_개월전\\_신규구인인원수 & 3\\_개월전\\_신규구인인원수 & 4\\_개월전\\_신규구인인원수 & 5\\_개월전\\_신규구인인원수 & 6\\_개월전\\_신규구인인원수 & 신규구직인원수 & 1\\_개월전\\_신규구직인원수 & 2\\_개월전\\_신규구직인원수 & 3\\_개월전\\_신규구직인원수 & 4\\_개월전\\_신규구직인원수 & 5\\_개월전\\_신규구직인원수 & 6\\_개월전\\_신규구직인원수\\\\\n",
       " <dbl> & <chr> & <int> & <int> & <chr> & <int> & <int> & <int> & <int> & <int> & <int> & <int> & <int> & <int> & <int> & <int> & <int> & <int>\\\\\n",
       "\\hline\n",
       "\t 13 & A &    247 &  9250 & 2018 &  9570 &  3934 &  3913 &  6638 &  4266 &  5104 & 434846 & 375863 & 400080 & 354656 & 406449 & 399056 & 417453\\\\\n",
       "\t 13 & B &      6 &   173 & 2018 &   108 &   153 &   188 &   167 &   177 &   192 & 434846 & 375863 & 400080 & 354656 & 406449 & 399056 & 417453\\\\\n",
       "\t 13 & C &   5209 & 86247 & 2018 & 68258 & 79808 & 75990 & 92156 & 87426 & 81378 & 434846 & 375863 & 400080 & 354656 & 406449 & 399056 & 417453\\\\\n",
       "\t 13 & D &     22 &   468 & 2018 &   376 &   404 &   368 &   375 &   532 &   493 & 434846 & 375863 & 400080 & 354656 & 406449 & 399056 & 417453\\\\\n",
       "\t 13 & E &     89 &  1461 & 2018 &  1110 &  1274 &  1105 &  1256 &  1394 &  1259 & 434846 & 375863 & 400080 & 354656 & 406449 & 399056 & 417453\\\\\n",
       "\t 13 & F &    429 & 13404 & 2018 & 12298 & 12735 & 11618 & 12910 & 13446 & 14549 & 434846 & 375863 & 400080 & 354656 & 406449 & 399056 & 417453\\\\\n",
       "\t 13 & G &   1033 & 14873 & 2018 & 12877 & 15774 & 15525 & 16449 & 18213 & 16087 & 434846 & 375863 & 400080 & 354656 & 406449 & 399056 & 417453\\\\\n",
       "\t 13 & H &    466 &  4724 & 2018 &  3653 &  4465 &  4661 &  4470 &  5224 &  4488 & 434846 & 375863 & 400080 & 354656 & 406449 & 399056 & 417453\\\\\n",
       "\t 13 & I &    920 &  4799 & 2018 &  4622 &  7358 &  6168 &  7355 &  8373 &  7225 & 434846 & 375863 & 400080 & 354656 & 406449 & 399056 & 417453\\\\\n",
       "\t 13 & J &    256 &  3659 & 2018 &  2868 &  4252 &  3630 &  4807 &  4004 &  3559 & 434846 & 375863 & 400080 & 354656 & 406449 & 399056 & 417453\\\\\n",
       "\t 13 & K &    119 &  1213 & 2018 &   642 &   986 &   675 &  1085 &   919 &   806 & 434846 & 375863 & 400080 & 354656 & 406449 & 399056 & 417453\\\\\n",
       "\t 13 & L &    697 &  2504 & 2018 &  2404 &  2373 &  2149 &  2206 &  2447 &  2199 & 434846 & 375863 & 400080 & 354656 & 406449 & 399056 & 417453\\\\\n",
       "\t 13 & M &    504 &  5602 & 2018 &  5933 &  7001 &  4933 &  6520 &  7165 &  5826 & 434846 & 375863 & 400080 & 354656 & 406449 & 399056 & 417453\\\\\n",
       "\t 13 & N &   4817 & 18657 & 2018 & 21756 & 25499 & 23289 & 26327 & 28519 & 25463 & 434846 & 375863 & 400080 & 354656 & 406449 & 399056 & 417453\\\\\n",
       "\t 13 & O &   3761 & 26397 & 2018 & 11752 &  6128 &  4429 &  5225 &  8033 &  5159 & 434846 & 375863 & 400080 & 354656 & 406449 & 399056 & 417453\\\\\n",
       "\t 13 & P &    947 &  5274 & 2018 &  4654 &  4783 &  4015 &  4510 &  4684 &  4299 & 434846 & 375863 & 400080 & 354656 & 406449 & 399056 & 417453\\\\\n",
       "\t 13 & Q &   5508 & 25977 & 2018 & 23550 & 23161 & 23040 & 23640 & 24957 & 23174 & 434846 & 375863 & 400080 & 354656 & 406449 & 399056 & 417453\\\\\n",
       "\t 13 & R &    211 &  1323 & 2018 &   794 &  1169 &  1782 &  1167 &  1998 &  1336 & 434846 & 375863 & 400080 & 354656 & 406449 & 399056 & 417453\\\\\n",
       "\t 13 & S &   2965 &  6713 & 2018 &  6794 &  8492 &  5885 &  7826 &  8545 &  7566 & 434846 & 375863 & 400080 & 354656 & 406449 & 399056 & 417453\\\\\n",
       "\t 13 & T &  13798 & 14297 & 2018 & 14071 & 15325 & 13311 & 15435 & 16051 & 16225 & 434846 & 375863 & 400080 & 354656 & 406449 & 399056 & 417453\\\\\n",
       "\t 13 & y & 127314 &    NA & NA   &    NA &    NA &    NA &    NA &    NA &    NA & 434846 & 375863 & 400080 & 354656 & 406449 & 399056 & 417453\\\\\n",
       "\t 14 & A &    229 &  3096 & 2018 &  9250 &  9570 &  3934 &  3913 &  6638 &  4266 & 314439 & 434846 & 375863 & 400080 & 354656 & 406449 & 399056\\\\\n",
       "\t 14 & B &      3 &   122 & 2018 &   173 &   108 &   153 &   188 &   167 &   177 & 314439 & 434846 & 375863 & 400080 & 354656 & 406449 & 399056\\\\\n",
       "\t 14 & C &   4130 & 63027 & 2018 & 86247 & 68258 & 79808 & 75990 & 92156 & 87426 & 314439 & 434846 & 375863 & 400080 & 354656 & 406449 & 399056\\\\\n",
       "\t 14 & D &     18 &   482 & 2018 &   468 &   376 &   404 &   368 &   375 &   532 & 314439 & 434846 & 375863 & 400080 & 354656 & 406449 & 399056\\\\\n",
       "\t 14 & E &     62 &  1027 & 2018 &  1461 &  1110 &  1274 &  1105 &  1256 &  1394 & 314439 & 434846 & 375863 & 400080 & 354656 & 406449 & 399056\\\\\n",
       "\t 14 & F &    337 & 10402 & 2018 & 13404 & 12298 & 12735 & 11618 & 12910 & 13446 & 314439 & 434846 & 375863 & 400080 & 354656 & 406449 & 399056\\\\\n",
       "\t 14 & G &    898 & 12027 & 2018 & 14873 & 12877 & 15774 & 15525 & 16449 & 18213 & 314439 & 434846 & 375863 & 400080 & 354656 & 406449 & 399056\\\\\n",
       "\t 14 & H &    564 &  3286 & 2018 &  4724 &  3653 &  4465 &  4661 &  4470 &  5224 & 314439 & 434846 & 375863 & 400080 & 354656 & 406449 & 399056\\\\\n",
       "\t 14 & I &    565 &  4429 & 2018 &  4799 &  4622 &  7358 &  6168 &  7355 &  8373 & 314439 & 434846 & 375863 & 400080 & 354656 & 406449 & 399056\\\\\n",
       "\t ⋮ & ⋮ & ⋮ & ⋮ & ⋮ & ⋮ & ⋮ & ⋮ & ⋮ & ⋮ & ⋮ & ⋮ & ⋮ & ⋮ & ⋮ & ⋮ & ⋮ & ⋮\\\\\n",
       "\t 83 & M &   472 &  6280 & 2023 &  6285 &  8219 &  7075 &  6579 &  6854 &  6683 & 376706 & 379926 & 336295 & 368165 & 387359 & 388639 & 396188\\\\\n",
       "\t 83 & N &  3661 & 19775 & 2023 & 24150 & 19684 & 24907 & 23297 & 24985 & 23726 & 376706 & 379926 & 336295 & 368165 & 387359 & 388639 & 396188\\\\\n",
       "\t 83 & O &   591 &  8165 & 2023 &  2540 &  2510 &  3052 &  3064 &  2902 &  3012 & 376706 & 379926 & 336295 & 368165 & 387359 & 388639 & 396188\\\\\n",
       "\t 83 & P &   783 &  4531 & 2023 &  4604 &  4198 &  4878 &  4611 &  4876 &  4771 & 376706 & 379926 & 336295 & 368165 & 387359 & 388639 & 396188\\\\\n",
       "\t 83 & Q &  6627 & 47753 & 2023 & 44651 & 37213 & 46957 & 45580 & 45617 & 43418 & 376706 & 379926 & 336295 & 368165 & 387359 & 388639 & 396188\\\\\n",
       "\t 83 & R &    81 &  1213 & 2023 &  1217 &  1412 &  1302 &  1432 &  1746 &  1841 & 376706 & 379926 & 336295 & 368165 & 387359 & 388639 & 396188\\\\\n",
       "\t 83 & S &  1964 &  5057 & 2023 &  5340 &  5017 &  6189 &  5683 &  5913 &  6239 & 376706 & 379926 & 336295 & 368165 & 387359 & 388639 & 396188\\\\\n",
       "\t 83 & T &  9019 &  9110 & 2023 &  9114 &  9310 & 10388 &  9942 & 11696 & 10583 & 376706 & 379926 & 336295 & 368165 & 387359 & 388639 & 396188\\\\\n",
       "\t 83 & y & 93055 &    NA & NA   &    NA &    NA &    NA &    NA &    NA &    NA & 376706 & 379926 & 336295 & 368165 & 387359 & 388639 & 396188\\\\\n",
       "\t 84 & A &    20 &  2965 & 2023 &  7040 &  3887 &  7819 &  5776 &  3946 &  3757 & 351074 & 376706 & 379926 & 336295 & 368165 & 387359 & 388639\\\\\n",
       "\t 84 & B &     3 &   131 & 2023 &   138 &    96 &   116 &   109 &   107 &   115 & 351074 & 376706 & 379926 & 336295 & 368165 & 387359 & 388639\\\\\n",
       "\t 84 & C &  2614 & 56562 & 2023 & 82489 & 83042 & 87248 & 86065 & 78518 & 82077 & 351074 & 376706 & 379926 & 336295 & 368165 & 387359 & 388639\\\\\n",
       "\t 84 & D &    14 &   384 & 2023 &   553 &   436 &   534 &   523 &   493 &   561 & 351074 & 376706 & 379926 & 336295 & 368165 & 387359 & 388639\\\\\n",
       "\t 84 & E &    58 &  1544 & 2023 &  1662 &  1570 &  1258 &  1650 &  1507 &  1680 & 351074 & 376706 & 379926 & 336295 & 368165 & 387359 & 388639\\\\\n",
       "\t 84 & F &   297 &  9841 & 2023 & 12901 & 11718 & 11139 & 13737 & 13239 & 14732 & 351074 & 376706 & 379926 & 336295 & 368165 & 387359 & 388639\\\\\n",
       "\t 84 & G &   522 &  9919 & 2023 & 12282 & 15735 & 12873 & 15188 & 13192 & 26101 & 351074 & 376706 & 379926 & 336295 & 368165 & 387359 & 388639\\\\\n",
       "\t 84 & H &   287 &  6078 & 2023 &  7425 &  8725 &  6288 &  8490 &  7303 &  6941 & 351074 & 376706 & 379926 & 336295 & 368165 & 387359 & 388639\\\\\n",
       "\t 84 & I &   300 &  4016 & 2023 &  6189 &  7835 &  6490 &  7395 &  6477 &  7608 & 351074 & 376706 & 379926 & 336295 & 368165 & 387359 & 388639\\\\\n",
       "\t 84 & J &   119 &  1956 & 2023 &  2419 &  3037 &  2734 &  3203 &  3292 &  3294 & 351074 & 376706 & 379926 & 336295 & 368165 & 387359 & 388639\\\\\n",
       "\t 84 & K &    53 &   998 & 2023 &  1088 &  1028 &   937 &  1210 &   994 &  1155 & 351074 & 376706 & 379926 & 336295 & 368165 & 387359 & 388639\\\\\n",
       "\t 84 & L &   255 &  3220 & 2023 &  2537 &  2355 &  2259 &  2559 &  2528 &  2554 & 351074 & 376706 & 379926 & 336295 & 368165 & 387359 & 388639\\\\\n",
       "\t 84 & M &   294 &  5809 & 2023 &  6280 &  6285 &  8219 &  7075 &  6579 &  6854 & 351074 & 376706 & 379926 & 336295 & 368165 & 387359 & 388639\\\\\n",
       "\t 84 & N &  2037 & 25106 & 2023 & 19775 & 24150 & 19684 & 24907 & 23297 & 24985 & 351074 & 376706 & 379926 & 336295 & 368165 & 387359 & 388639\\\\\n",
       "\t 84 & O &   405 &  6632 & 2023 &  8165 &  2540 &  2510 &  3052 &  3064 &  2902 & 351074 & 376706 & 379926 & 336295 & 368165 & 387359 & 388639\\\\\n",
       "\t 84 & P &   382 &  4321 & 2023 &  4531 &  4604 &  4198 &  4878 &  4611 &  4876 & 351074 & 376706 & 379926 & 336295 & 368165 & 387359 & 388639\\\\\n",
       "\t 84 & Q &  4497 & 46137 & 2023 & 47753 & 44651 & 37213 & 46957 & 45580 & 45617 & 351074 & 376706 & 379926 & 336295 & 368165 & 387359 & 388639\\\\\n",
       "\t 84 & R &    39 &   951 & 2023 &  1213 &  1217 &  1412 &  1302 &  1432 &  1746 & 351074 & 376706 & 379926 & 336295 & 368165 & 387359 & 388639\\\\\n",
       "\t 84 & S &  1033 &  4586 & 2023 &  5057 &  5340 &  5017 &  6189 &  5683 &  5913 & 351074 & 376706 & 379926 & 336295 & 368165 & 387359 & 388639\\\\\n",
       "\t 84 & T &  5180 &  5206 & 2023 &  9110 &  9114 &  9310 & 10388 &  9942 & 11696 & 351074 & 376706 & 379926 & 336295 & 368165 & 387359 & 388639\\\\\n",
       "\t 84 & y & 75095 &    NA & NA   &    NA &    NA &    NA &    NA &    NA &    NA & 351074 & 376706 & 379926 & 336295 & 368165 & 387359 & 388639\\\\\n",
       "\\end{tabular}\n"
      ],
      "text/markdown": [
       "\n",
       "A data.frame: 1528 × 18\n",
       "\n",
       "| 마감년월 &lt;dbl&gt; | 표준산업대분류 &lt;chr&gt; | 취업건수 &lt;int&gt; | 신규구인인원수 &lt;int&gt; | 연도 &lt;chr&gt; | 1_개월전_신규구인인원수 &lt;int&gt; | 2_개월전_신규구인인원수 &lt;int&gt; | 3_개월전_신규구인인원수 &lt;int&gt; | 4_개월전_신규구인인원수 &lt;int&gt; | 5_개월전_신규구인인원수 &lt;int&gt; | 6_개월전_신규구인인원수 &lt;int&gt; | 신규구직인원수 &lt;int&gt; | 1_개월전_신규구직인원수 &lt;int&gt; | 2_개월전_신규구직인원수 &lt;int&gt; | 3_개월전_신규구직인원수 &lt;int&gt; | 4_개월전_신규구직인원수 &lt;int&gt; | 5_개월전_신규구직인원수 &lt;int&gt; | 6_개월전_신규구직인원수 &lt;int&gt; |\n",
       "|---|---|---|---|---|---|---|---|---|---|---|---|---|---|---|---|---|---|\n",
       "| 13 | A |    247 |  9250 | 2018 |  9570 |  3934 |  3913 |  6638 |  4266 |  5104 | 434846 | 375863 | 400080 | 354656 | 406449 | 399056 | 417453 |\n",
       "| 13 | B |      6 |   173 | 2018 |   108 |   153 |   188 |   167 |   177 |   192 | 434846 | 375863 | 400080 | 354656 | 406449 | 399056 | 417453 |\n",
       "| 13 | C |   5209 | 86247 | 2018 | 68258 | 79808 | 75990 | 92156 | 87426 | 81378 | 434846 | 375863 | 400080 | 354656 | 406449 | 399056 | 417453 |\n",
       "| 13 | D |     22 |   468 | 2018 |   376 |   404 |   368 |   375 |   532 |   493 | 434846 | 375863 | 400080 | 354656 | 406449 | 399056 | 417453 |\n",
       "| 13 | E |     89 |  1461 | 2018 |  1110 |  1274 |  1105 |  1256 |  1394 |  1259 | 434846 | 375863 | 400080 | 354656 | 406449 | 399056 | 417453 |\n",
       "| 13 | F |    429 | 13404 | 2018 | 12298 | 12735 | 11618 | 12910 | 13446 | 14549 | 434846 | 375863 | 400080 | 354656 | 406449 | 399056 | 417453 |\n",
       "| 13 | G |   1033 | 14873 | 2018 | 12877 | 15774 | 15525 | 16449 | 18213 | 16087 | 434846 | 375863 | 400080 | 354656 | 406449 | 399056 | 417453 |\n",
       "| 13 | H |    466 |  4724 | 2018 |  3653 |  4465 |  4661 |  4470 |  5224 |  4488 | 434846 | 375863 | 400080 | 354656 | 406449 | 399056 | 417453 |\n",
       "| 13 | I |    920 |  4799 | 2018 |  4622 |  7358 |  6168 |  7355 |  8373 |  7225 | 434846 | 375863 | 400080 | 354656 | 406449 | 399056 | 417453 |\n",
       "| 13 | J |    256 |  3659 | 2018 |  2868 |  4252 |  3630 |  4807 |  4004 |  3559 | 434846 | 375863 | 400080 | 354656 | 406449 | 399056 | 417453 |\n",
       "| 13 | K |    119 |  1213 | 2018 |   642 |   986 |   675 |  1085 |   919 |   806 | 434846 | 375863 | 400080 | 354656 | 406449 | 399056 | 417453 |\n",
       "| 13 | L |    697 |  2504 | 2018 |  2404 |  2373 |  2149 |  2206 |  2447 |  2199 | 434846 | 375863 | 400080 | 354656 | 406449 | 399056 | 417453 |\n",
       "| 13 | M |    504 |  5602 | 2018 |  5933 |  7001 |  4933 |  6520 |  7165 |  5826 | 434846 | 375863 | 400080 | 354656 | 406449 | 399056 | 417453 |\n",
       "| 13 | N |   4817 | 18657 | 2018 | 21756 | 25499 | 23289 | 26327 | 28519 | 25463 | 434846 | 375863 | 400080 | 354656 | 406449 | 399056 | 417453 |\n",
       "| 13 | O |   3761 | 26397 | 2018 | 11752 |  6128 |  4429 |  5225 |  8033 |  5159 | 434846 | 375863 | 400080 | 354656 | 406449 | 399056 | 417453 |\n",
       "| 13 | P |    947 |  5274 | 2018 |  4654 |  4783 |  4015 |  4510 |  4684 |  4299 | 434846 | 375863 | 400080 | 354656 | 406449 | 399056 | 417453 |\n",
       "| 13 | Q |   5508 | 25977 | 2018 | 23550 | 23161 | 23040 | 23640 | 24957 | 23174 | 434846 | 375863 | 400080 | 354656 | 406449 | 399056 | 417453 |\n",
       "| 13 | R |    211 |  1323 | 2018 |   794 |  1169 |  1782 |  1167 |  1998 |  1336 | 434846 | 375863 | 400080 | 354656 | 406449 | 399056 | 417453 |\n",
       "| 13 | S |   2965 |  6713 | 2018 |  6794 |  8492 |  5885 |  7826 |  8545 |  7566 | 434846 | 375863 | 400080 | 354656 | 406449 | 399056 | 417453 |\n",
       "| 13 | T |  13798 | 14297 | 2018 | 14071 | 15325 | 13311 | 15435 | 16051 | 16225 | 434846 | 375863 | 400080 | 354656 | 406449 | 399056 | 417453 |\n",
       "| 13 | y | 127314 |    NA | NA   |    NA |    NA |    NA |    NA |    NA |    NA | 434846 | 375863 | 400080 | 354656 | 406449 | 399056 | 417453 |\n",
       "| 14 | A |    229 |  3096 | 2018 |  9250 |  9570 |  3934 |  3913 |  6638 |  4266 | 314439 | 434846 | 375863 | 400080 | 354656 | 406449 | 399056 |\n",
       "| 14 | B |      3 |   122 | 2018 |   173 |   108 |   153 |   188 |   167 |   177 | 314439 | 434846 | 375863 | 400080 | 354656 | 406449 | 399056 |\n",
       "| 14 | C |   4130 | 63027 | 2018 | 86247 | 68258 | 79808 | 75990 | 92156 | 87426 | 314439 | 434846 | 375863 | 400080 | 354656 | 406449 | 399056 |\n",
       "| 14 | D |     18 |   482 | 2018 |   468 |   376 |   404 |   368 |   375 |   532 | 314439 | 434846 | 375863 | 400080 | 354656 | 406449 | 399056 |\n",
       "| 14 | E |     62 |  1027 | 2018 |  1461 |  1110 |  1274 |  1105 |  1256 |  1394 | 314439 | 434846 | 375863 | 400080 | 354656 | 406449 | 399056 |\n",
       "| 14 | F |    337 | 10402 | 2018 | 13404 | 12298 | 12735 | 11618 | 12910 | 13446 | 314439 | 434846 | 375863 | 400080 | 354656 | 406449 | 399056 |\n",
       "| 14 | G |    898 | 12027 | 2018 | 14873 | 12877 | 15774 | 15525 | 16449 | 18213 | 314439 | 434846 | 375863 | 400080 | 354656 | 406449 | 399056 |\n",
       "| 14 | H |    564 |  3286 | 2018 |  4724 |  3653 |  4465 |  4661 |  4470 |  5224 | 314439 | 434846 | 375863 | 400080 | 354656 | 406449 | 399056 |\n",
       "| 14 | I |    565 |  4429 | 2018 |  4799 |  4622 |  7358 |  6168 |  7355 |  8373 | 314439 | 434846 | 375863 | 400080 | 354656 | 406449 | 399056 |\n",
       "| ⋮ | ⋮ | ⋮ | ⋮ | ⋮ | ⋮ | ⋮ | ⋮ | ⋮ | ⋮ | ⋮ | ⋮ | ⋮ | ⋮ | ⋮ | ⋮ | ⋮ | ⋮ |\n",
       "| 83 | M |   472 |  6280 | 2023 |  6285 |  8219 |  7075 |  6579 |  6854 |  6683 | 376706 | 379926 | 336295 | 368165 | 387359 | 388639 | 396188 |\n",
       "| 83 | N |  3661 | 19775 | 2023 | 24150 | 19684 | 24907 | 23297 | 24985 | 23726 | 376706 | 379926 | 336295 | 368165 | 387359 | 388639 | 396188 |\n",
       "| 83 | O |   591 |  8165 | 2023 |  2540 |  2510 |  3052 |  3064 |  2902 |  3012 | 376706 | 379926 | 336295 | 368165 | 387359 | 388639 | 396188 |\n",
       "| 83 | P |   783 |  4531 | 2023 |  4604 |  4198 |  4878 |  4611 |  4876 |  4771 | 376706 | 379926 | 336295 | 368165 | 387359 | 388639 | 396188 |\n",
       "| 83 | Q |  6627 | 47753 | 2023 | 44651 | 37213 | 46957 | 45580 | 45617 | 43418 | 376706 | 379926 | 336295 | 368165 | 387359 | 388639 | 396188 |\n",
       "| 83 | R |    81 |  1213 | 2023 |  1217 |  1412 |  1302 |  1432 |  1746 |  1841 | 376706 | 379926 | 336295 | 368165 | 387359 | 388639 | 396188 |\n",
       "| 83 | S |  1964 |  5057 | 2023 |  5340 |  5017 |  6189 |  5683 |  5913 |  6239 | 376706 | 379926 | 336295 | 368165 | 387359 | 388639 | 396188 |\n",
       "| 83 | T |  9019 |  9110 | 2023 |  9114 |  9310 | 10388 |  9942 | 11696 | 10583 | 376706 | 379926 | 336295 | 368165 | 387359 | 388639 | 396188 |\n",
       "| 83 | y | 93055 |    NA | NA   |    NA |    NA |    NA |    NA |    NA |    NA | 376706 | 379926 | 336295 | 368165 | 387359 | 388639 | 396188 |\n",
       "| 84 | A |    20 |  2965 | 2023 |  7040 |  3887 |  7819 |  5776 |  3946 |  3757 | 351074 | 376706 | 379926 | 336295 | 368165 | 387359 | 388639 |\n",
       "| 84 | B |     3 |   131 | 2023 |   138 |    96 |   116 |   109 |   107 |   115 | 351074 | 376706 | 379926 | 336295 | 368165 | 387359 | 388639 |\n",
       "| 84 | C |  2614 | 56562 | 2023 | 82489 | 83042 | 87248 | 86065 | 78518 | 82077 | 351074 | 376706 | 379926 | 336295 | 368165 | 387359 | 388639 |\n",
       "| 84 | D |    14 |   384 | 2023 |   553 |   436 |   534 |   523 |   493 |   561 | 351074 | 376706 | 379926 | 336295 | 368165 | 387359 | 388639 |\n",
       "| 84 | E |    58 |  1544 | 2023 |  1662 |  1570 |  1258 |  1650 |  1507 |  1680 | 351074 | 376706 | 379926 | 336295 | 368165 | 387359 | 388639 |\n",
       "| 84 | F |   297 |  9841 | 2023 | 12901 | 11718 | 11139 | 13737 | 13239 | 14732 | 351074 | 376706 | 379926 | 336295 | 368165 | 387359 | 388639 |\n",
       "| 84 | G |   522 |  9919 | 2023 | 12282 | 15735 | 12873 | 15188 | 13192 | 26101 | 351074 | 376706 | 379926 | 336295 | 368165 | 387359 | 388639 |\n",
       "| 84 | H |   287 |  6078 | 2023 |  7425 |  8725 |  6288 |  8490 |  7303 |  6941 | 351074 | 376706 | 379926 | 336295 | 368165 | 387359 | 388639 |\n",
       "| 84 | I |   300 |  4016 | 2023 |  6189 |  7835 |  6490 |  7395 |  6477 |  7608 | 351074 | 376706 | 379926 | 336295 | 368165 | 387359 | 388639 |\n",
       "| 84 | J |   119 |  1956 | 2023 |  2419 |  3037 |  2734 |  3203 |  3292 |  3294 | 351074 | 376706 | 379926 | 336295 | 368165 | 387359 | 388639 |\n",
       "| 84 | K |    53 |   998 | 2023 |  1088 |  1028 |   937 |  1210 |   994 |  1155 | 351074 | 376706 | 379926 | 336295 | 368165 | 387359 | 388639 |\n",
       "| 84 | L |   255 |  3220 | 2023 |  2537 |  2355 |  2259 |  2559 |  2528 |  2554 | 351074 | 376706 | 379926 | 336295 | 368165 | 387359 | 388639 |\n",
       "| 84 | M |   294 |  5809 | 2023 |  6280 |  6285 |  8219 |  7075 |  6579 |  6854 | 351074 | 376706 | 379926 | 336295 | 368165 | 387359 | 388639 |\n",
       "| 84 | N |  2037 | 25106 | 2023 | 19775 | 24150 | 19684 | 24907 | 23297 | 24985 | 351074 | 376706 | 379926 | 336295 | 368165 | 387359 | 388639 |\n",
       "| 84 | O |   405 |  6632 | 2023 |  8165 |  2540 |  2510 |  3052 |  3064 |  2902 | 351074 | 376706 | 379926 | 336295 | 368165 | 387359 | 388639 |\n",
       "| 84 | P |   382 |  4321 | 2023 |  4531 |  4604 |  4198 |  4878 |  4611 |  4876 | 351074 | 376706 | 379926 | 336295 | 368165 | 387359 | 388639 |\n",
       "| 84 | Q |  4497 | 46137 | 2023 | 47753 | 44651 | 37213 | 46957 | 45580 | 45617 | 351074 | 376706 | 379926 | 336295 | 368165 | 387359 | 388639 |\n",
       "| 84 | R |    39 |   951 | 2023 |  1213 |  1217 |  1412 |  1302 |  1432 |  1746 | 351074 | 376706 | 379926 | 336295 | 368165 | 387359 | 388639 |\n",
       "| 84 | S |  1033 |  4586 | 2023 |  5057 |  5340 |  5017 |  6189 |  5683 |  5913 | 351074 | 376706 | 379926 | 336295 | 368165 | 387359 | 388639 |\n",
       "| 84 | T |  5180 |  5206 | 2023 |  9110 |  9114 |  9310 | 10388 |  9942 | 11696 | 351074 | 376706 | 379926 | 336295 | 368165 | 387359 | 388639 |\n",
       "| 84 | y | 75095 |    NA | NA   |    NA |    NA |    NA |    NA |    NA |    NA | 351074 | 376706 | 379926 | 336295 | 368165 | 387359 | 388639 |\n",
       "\n"
      ],
      "text/plain": [
       "     마감년월 표준산업대분류 취업건수 신규구인인원수 연도\n",
       "1    13       A                 247    9250          2018\n",
       "2    13       B                   6     173          2018\n",
       "3    13       C                5209   86247          2018\n",
       "4    13       D                  22     468          2018\n",
       "5    13       E                  89    1461          2018\n",
       "6    13       F                 429   13404          2018\n",
       "7    13       G                1033   14873          2018\n",
       "8    13       H                 466    4724          2018\n",
       "9    13       I                 920    4799          2018\n",
       "10   13       J                 256    3659          2018\n",
       "11   13       K                 119    1213          2018\n",
       "12   13       L                 697    2504          2018\n",
       "13   13       M                 504    5602          2018\n",
       "14   13       N                4817   18657          2018\n",
       "15   13       O                3761   26397          2018\n",
       "16   13       P                 947    5274          2018\n",
       "17   13       Q                5508   25977          2018\n",
       "18   13       R                 211    1323          2018\n",
       "19   13       S                2965    6713          2018\n",
       "20   13       T               13798   14297          2018\n",
       "21   13       y              127314      NA          NA  \n",
       "22   14       A                 229    3096          2018\n",
       "23   14       B                   3     122          2018\n",
       "24   14       C                4130   63027          2018\n",
       "25   14       D                  18     482          2018\n",
       "26   14       E                  62    1027          2018\n",
       "27   14       F                 337   10402          2018\n",
       "28   14       G                 898   12027          2018\n",
       "29   14       H                 564    3286          2018\n",
       "30   14       I                 565    4429          2018\n",
       "⋮    ⋮        ⋮              ⋮        ⋮              ⋮   \n",
       "1499 83       M                472     6280          2023\n",
       "1500 83       N               3661    19775          2023\n",
       "1501 83       O                591     8165          2023\n",
       "1502 83       P                783     4531          2023\n",
       "1503 83       Q               6627    47753          2023\n",
       "1504 83       R                 81     1213          2023\n",
       "1505 83       S               1964     5057          2023\n",
       "1506 83       T               9019     9110          2023\n",
       "1507 83       y              93055       NA          NA  \n",
       "1508 84       A                 20     2965          2023\n",
       "1509 84       B                  3      131          2023\n",
       "1510 84       C               2614    56562          2023\n",
       "1511 84       D                 14      384          2023\n",
       "1512 84       E                 58     1544          2023\n",
       "1513 84       F                297     9841          2023\n",
       "1514 84       G                522     9919          2023\n",
       "1515 84       H                287     6078          2023\n",
       "1516 84       I                300     4016          2023\n",
       "1517 84       J                119     1956          2023\n",
       "1518 84       K                 53      998          2023\n",
       "1519 84       L                255     3220          2023\n",
       "1520 84       M                294     5809          2023\n",
       "1521 84       N               2037    25106          2023\n",
       "1522 84       O                405     6632          2023\n",
       "1523 84       P                382     4321          2023\n",
       "1524 84       Q               4497    46137          2023\n",
       "1525 84       R                 39      951          2023\n",
       "1526 84       S               1033     4586          2023\n",
       "1527 84       T               5180     5206          2023\n",
       "1528 84       y              75095       NA          NA  \n",
       "     1_개월전_신규구인인원수 2_개월전_신규구인인원수 3_개월전_신규구인인원수\n",
       "1     9570                    3934                    3913                  \n",
       "2      108                     153                     188                  \n",
       "3    68258                   79808                   75990                  \n",
       "4      376                     404                     368                  \n",
       "5     1110                    1274                    1105                  \n",
       "6    12298                   12735                   11618                  \n",
       "7    12877                   15774                   15525                  \n",
       "8     3653                    4465                    4661                  \n",
       "9     4622                    7358                    6168                  \n",
       "10    2868                    4252                    3630                  \n",
       "11     642                     986                     675                  \n",
       "12    2404                    2373                    2149                  \n",
       "13    5933                    7001                    4933                  \n",
       "14   21756                   25499                   23289                  \n",
       "15   11752                    6128                    4429                  \n",
       "16    4654                    4783                    4015                  \n",
       "17   23550                   23161                   23040                  \n",
       "18     794                    1169                    1782                  \n",
       "19    6794                    8492                    5885                  \n",
       "20   14071                   15325                   13311                  \n",
       "21      NA                      NA                      NA                  \n",
       "22    9250                    9570                    3934                  \n",
       "23     173                     108                     153                  \n",
       "24   86247                   68258                   79808                  \n",
       "25     468                     376                     404                  \n",
       "26    1461                    1110                    1274                  \n",
       "27   13404                   12298                   12735                  \n",
       "28   14873                   12877                   15774                  \n",
       "29    4724                    3653                    4465                  \n",
       "30    4799                    4622                    7358                  \n",
       "⋮    ⋮                       ⋮                       ⋮                      \n",
       "1499  6285                    8219                    7075                  \n",
       "1500 24150                   19684                   24907                  \n",
       "1501  2540                    2510                    3052                  \n",
       "1502  4604                    4198                    4878                  \n",
       "1503 44651                   37213                   46957                  \n",
       "1504  1217                    1412                    1302                  \n",
       "1505  5340                    5017                    6189                  \n",
       "1506  9114                    9310                   10388                  \n",
       "1507    NA                      NA                      NA                  \n",
       "1508  7040                    3887                    7819                  \n",
       "1509   138                      96                     116                  \n",
       "1510 82489                   83042                   87248                  \n",
       "1511   553                     436                     534                  \n",
       "1512  1662                    1570                    1258                  \n",
       "1513 12901                   11718                   11139                  \n",
       "1514 12282                   15735                   12873                  \n",
       "1515  7425                    8725                    6288                  \n",
       "1516  6189                    7835                    6490                  \n",
       "1517  2419                    3037                    2734                  \n",
       "1518  1088                    1028                     937                  \n",
       "1519  2537                    2355                    2259                  \n",
       "1520  6280                    6285                    8219                  \n",
       "1521 19775                   24150                   19684                  \n",
       "1522  8165                    2540                    2510                  \n",
       "1523  4531                    4604                    4198                  \n",
       "1524 47753                   44651                   37213                  \n",
       "1525  1213                    1217                    1412                  \n",
       "1526  5057                    5340                    5017                  \n",
       "1527  9110                    9114                    9310                  \n",
       "1528    NA                      NA                      NA                  \n",
       "     4_개월전_신규구인인원수 5_개월전_신규구인인원수 6_개월전_신규구인인원수\n",
       "1     6638                    4266                    5104                  \n",
       "2      167                     177                     192                  \n",
       "3    92156                   87426                   81378                  \n",
       "4      375                     532                     493                  \n",
       "5     1256                    1394                    1259                  \n",
       "6    12910                   13446                   14549                  \n",
       "7    16449                   18213                   16087                  \n",
       "8     4470                    5224                    4488                  \n",
       "9     7355                    8373                    7225                  \n",
       "10    4807                    4004                    3559                  \n",
       "11    1085                     919                     806                  \n",
       "12    2206                    2447                    2199                  \n",
       "13    6520                    7165                    5826                  \n",
       "14   26327                   28519                   25463                  \n",
       "15    5225                    8033                    5159                  \n",
       "16    4510                    4684                    4299                  \n",
       "17   23640                   24957                   23174                  \n",
       "18    1167                    1998                    1336                  \n",
       "19    7826                    8545                    7566                  \n",
       "20   15435                   16051                   16225                  \n",
       "21      NA                      NA                      NA                  \n",
       "22    3913                    6638                    4266                  \n",
       "23     188                     167                     177                  \n",
       "24   75990                   92156                   87426                  \n",
       "25     368                     375                     532                  \n",
       "26    1105                    1256                    1394                  \n",
       "27   11618                   12910                   13446                  \n",
       "28   15525                   16449                   18213                  \n",
       "29    4661                    4470                    5224                  \n",
       "30    6168                    7355                    8373                  \n",
       "⋮    ⋮                       ⋮                       ⋮                      \n",
       "1499  6579                    6854                    6683                  \n",
       "1500 23297                   24985                   23726                  \n",
       "1501  3064                    2902                    3012                  \n",
       "1502  4611                    4876                    4771                  \n",
       "1503 45580                   45617                   43418                  \n",
       "1504  1432                    1746                    1841                  \n",
       "1505  5683                    5913                    6239                  \n",
       "1506  9942                   11696                   10583                  \n",
       "1507    NA                      NA                      NA                  \n",
       "1508  5776                    3946                    3757                  \n",
       "1509   109                     107                     115                  \n",
       "1510 86065                   78518                   82077                  \n",
       "1511   523                     493                     561                  \n",
       "1512  1650                    1507                    1680                  \n",
       "1513 13737                   13239                   14732                  \n",
       "1514 15188                   13192                   26101                  \n",
       "1515  8490                    7303                    6941                  \n",
       "1516  7395                    6477                    7608                  \n",
       "1517  3203                    3292                    3294                  \n",
       "1518  1210                     994                    1155                  \n",
       "1519  2559                    2528                    2554                  \n",
       "1520  7075                    6579                    6854                  \n",
       "1521 24907                   23297                   24985                  \n",
       "1522  3052                    3064                    2902                  \n",
       "1523  4878                    4611                    4876                  \n",
       "1524 46957                   45580                   45617                  \n",
       "1525  1302                    1432                    1746                  \n",
       "1526  6189                    5683                    5913                  \n",
       "1527 10388                    9942                   11696                  \n",
       "1528    NA                      NA                      NA                  \n",
       "     신규구직인원수 1_개월전_신규구직인원수 2_개월전_신규구직인원수\n",
       "1    434846         375863                  400080                 \n",
       "2    434846         375863                  400080                 \n",
       "3    434846         375863                  400080                 \n",
       "4    434846         375863                  400080                 \n",
       "5    434846         375863                  400080                 \n",
       "6    434846         375863                  400080                 \n",
       "7    434846         375863                  400080                 \n",
       "8    434846         375863                  400080                 \n",
       "9    434846         375863                  400080                 \n",
       "10   434846         375863                  400080                 \n",
       "11   434846         375863                  400080                 \n",
       "12   434846         375863                  400080                 \n",
       "13   434846         375863                  400080                 \n",
       "14   434846         375863                  400080                 \n",
       "15   434846         375863                  400080                 \n",
       "16   434846         375863                  400080                 \n",
       "17   434846         375863                  400080                 \n",
       "18   434846         375863                  400080                 \n",
       "19   434846         375863                  400080                 \n",
       "20   434846         375863                  400080                 \n",
       "21   434846         375863                  400080                 \n",
       "22   314439         434846                  375863                 \n",
       "23   314439         434846                  375863                 \n",
       "24   314439         434846                  375863                 \n",
       "25   314439         434846                  375863                 \n",
       "26   314439         434846                  375863                 \n",
       "27   314439         434846                  375863                 \n",
       "28   314439         434846                  375863                 \n",
       "29   314439         434846                  375863                 \n",
       "30   314439         434846                  375863                 \n",
       "⋮    ⋮              ⋮                       ⋮                      \n",
       "1499 376706         379926                  336295                 \n",
       "1500 376706         379926                  336295                 \n",
       "1501 376706         379926                  336295                 \n",
       "1502 376706         379926                  336295                 \n",
       "1503 376706         379926                  336295                 \n",
       "1504 376706         379926                  336295                 \n",
       "1505 376706         379926                  336295                 \n",
       "1506 376706         379926                  336295                 \n",
       "1507 376706         379926                  336295                 \n",
       "1508 351074         376706                  379926                 \n",
       "1509 351074         376706                  379926                 \n",
       "1510 351074         376706                  379926                 \n",
       "1511 351074         376706                  379926                 \n",
       "1512 351074         376706                  379926                 \n",
       "1513 351074         376706                  379926                 \n",
       "1514 351074         376706                  379926                 \n",
       "1515 351074         376706                  379926                 \n",
       "1516 351074         376706                  379926                 \n",
       "1517 351074         376706                  379926                 \n",
       "1518 351074         376706                  379926                 \n",
       "1519 351074         376706                  379926                 \n",
       "1520 351074         376706                  379926                 \n",
       "1521 351074         376706                  379926                 \n",
       "1522 351074         376706                  379926                 \n",
       "1523 351074         376706                  379926                 \n",
       "1524 351074         376706                  379926                 \n",
       "1525 351074         376706                  379926                 \n",
       "1526 351074         376706                  379926                 \n",
       "1527 351074         376706                  379926                 \n",
       "1528 351074         376706                  379926                 \n",
       "     3_개월전_신규구직인원수 4_개월전_신규구직인원수 5_개월전_신규구직인원수\n",
       "1    354656                  406449                  399056                 \n",
       "2    354656                  406449                  399056                 \n",
       "3    354656                  406449                  399056                 \n",
       "4    354656                  406449                  399056                 \n",
       "5    354656                  406449                  399056                 \n",
       "6    354656                  406449                  399056                 \n",
       "7    354656                  406449                  399056                 \n",
       "8    354656                  406449                  399056                 \n",
       "9    354656                  406449                  399056                 \n",
       "10   354656                  406449                  399056                 \n",
       "11   354656                  406449                  399056                 \n",
       "12   354656                  406449                  399056                 \n",
       "13   354656                  406449                  399056                 \n",
       "14   354656                  406449                  399056                 \n",
       "15   354656                  406449                  399056                 \n",
       "16   354656                  406449                  399056                 \n",
       "17   354656                  406449                  399056                 \n",
       "18   354656                  406449                  399056                 \n",
       "19   354656                  406449                  399056                 \n",
       "20   354656                  406449                  399056                 \n",
       "21   354656                  406449                  399056                 \n",
       "22   400080                  354656                  406449                 \n",
       "23   400080                  354656                  406449                 \n",
       "24   400080                  354656                  406449                 \n",
       "25   400080                  354656                  406449                 \n",
       "26   400080                  354656                  406449                 \n",
       "27   400080                  354656                  406449                 \n",
       "28   400080                  354656                  406449                 \n",
       "29   400080                  354656                  406449                 \n",
       "30   400080                  354656                  406449                 \n",
       "⋮    ⋮                       ⋮                       ⋮                      \n",
       "1499 368165                  387359                  388639                 \n",
       "1500 368165                  387359                  388639                 \n",
       "1501 368165                  387359                  388639                 \n",
       "1502 368165                  387359                  388639                 \n",
       "1503 368165                  387359                  388639                 \n",
       "1504 368165                  387359                  388639                 \n",
       "1505 368165                  387359                  388639                 \n",
       "1506 368165                  387359                  388639                 \n",
       "1507 368165                  387359                  388639                 \n",
       "1508 336295                  368165                  387359                 \n",
       "1509 336295                  368165                  387359                 \n",
       "1510 336295                  368165                  387359                 \n",
       "1511 336295                  368165                  387359                 \n",
       "1512 336295                  368165                  387359                 \n",
       "1513 336295                  368165                  387359                 \n",
       "1514 336295                  368165                  387359                 \n",
       "1515 336295                  368165                  387359                 \n",
       "1516 336295                  368165                  387359                 \n",
       "1517 336295                  368165                  387359                 \n",
       "1518 336295                  368165                  387359                 \n",
       "1519 336295                  368165                  387359                 \n",
       "1520 336295                  368165                  387359                 \n",
       "1521 336295                  368165                  387359                 \n",
       "1522 336295                  368165                  387359                 \n",
       "1523 336295                  368165                  387359                 \n",
       "1524 336295                  368165                  387359                 \n",
       "1525 336295                  368165                  387359                 \n",
       "1526 336295                  368165                  387359                 \n",
       "1527 336295                  368165                  387359                 \n",
       "1528 336295                  368165                  387359                 \n",
       "     6_개월전_신규구직인원수\n",
       "1    417453                 \n",
       "2    417453                 \n",
       "3    417453                 \n",
       "4    417453                 \n",
       "5    417453                 \n",
       "6    417453                 \n",
       "7    417453                 \n",
       "8    417453                 \n",
       "9    417453                 \n",
       "10   417453                 \n",
       "11   417453                 \n",
       "12   417453                 \n",
       "13   417453                 \n",
       "14   417453                 \n",
       "15   417453                 \n",
       "16   417453                 \n",
       "17   417453                 \n",
       "18   417453                 \n",
       "19   417453                 \n",
       "20   417453                 \n",
       "21   417453                 \n",
       "22   399056                 \n",
       "23   399056                 \n",
       "24   399056                 \n",
       "25   399056                 \n",
       "26   399056                 \n",
       "27   399056                 \n",
       "28   399056                 \n",
       "29   399056                 \n",
       "30   399056                 \n",
       "⋮    ⋮                      \n",
       "1499 396188                 \n",
       "1500 396188                 \n",
       "1501 396188                 \n",
       "1502 396188                 \n",
       "1503 396188                 \n",
       "1504 396188                 \n",
       "1505 396188                 \n",
       "1506 396188                 \n",
       "1507 396188                 \n",
       "1508 388639                 \n",
       "1509 388639                 \n",
       "1510 388639                 \n",
       "1511 388639                 \n",
       "1512 388639                 \n",
       "1513 388639                 \n",
       "1514 388639                 \n",
       "1515 388639                 \n",
       "1516 388639                 \n",
       "1517 388639                 \n",
       "1518 388639                 \n",
       "1519 388639                 \n",
       "1520 388639                 \n",
       "1521 388639                 \n",
       "1522 388639                 \n",
       "1523 388639                 \n",
       "1524 388639                 \n",
       "1525 388639                 \n",
       "1526 388639                 \n",
       "1527 388639                 \n",
       "1528 388639                 "
      ]
     },
     "metadata": {},
     "output_type": "display_data"
    }
   ],
   "source": [
    "result"
   ]
  },
  {
   "cell_type": "code",
   "execution_count": 37,
   "metadata": {
    "vscode": {
     "languageId": "r"
    }
   },
   "outputs": [
    {
     "name": "stdout",
     "output_type": "stream",
     "text": [
      "                           취업건수 신규구인인원수 1_개월전_신규구인인원수\n",
      "취업건수                1.000000000             NA                      NA\n",
      "신규구인인원수                   NA              1                      NA\n",
      "1_개월전_신규구인인원수          NA             NA                       1\n",
      "2_개월전_신규구인인원수          NA             NA                      NA\n",
      "3_개월전_신규구인인원수          NA             NA                      NA\n",
      "4_개월전_신규구인인원수          NA             NA                      NA\n",
      "5_개월전_신규구인인원수          NA             NA                      NA\n",
      "6_개월전_신규구인인원수          NA             NA                      NA\n",
      "신규구직인원수          0.015416310             NA                      NA\n",
      "1_개월전_신규구직인원수 0.005745450             NA                      NA\n",
      "2_개월전_신규구직인원수 0.020296650             NA                      NA\n",
      "3_개월전_신규구직인원수 0.016605483             NA                      NA\n",
      "4_개월전_신규구직인원수 0.008494506             NA                      NA\n",
      "5_개월전_신규구직인원수 0.001212957             NA                      NA\n",
      "6_개월전_신규구직인원수 0.008786191             NA                      NA\n",
      "                        2_개월전_신규구인인원수 3_개월전_신규구인인원수\n",
      "취업건수                                     NA                      NA\n",
      "신규구인인원수                               NA                      NA\n",
      "1_개월전_신규구인인원수                      NA                      NA\n",
      "2_개월전_신규구인인원수                       1                      NA\n",
      "3_개월전_신규구인인원수                      NA                       1\n",
      "4_개월전_신규구인인원수                      NA                      NA\n",
      "5_개월전_신규구인인원수                      NA                      NA\n",
      "6_개월전_신규구인인원수                      NA                      NA\n",
      "신규구직인원수                               NA                      NA\n",
      "1_개월전_신규구직인원수                      NA                      NA\n",
      "2_개월전_신규구직인원수                      NA                      NA\n",
      "3_개월전_신규구직인원수                      NA                      NA\n",
      "4_개월전_신규구직인원수                      NA                      NA\n",
      "5_개월전_신규구직인원수                      NA                      NA\n",
      "6_개월전_신규구직인원수                      NA                      NA\n",
      "                        4_개월전_신규구인인원수 5_개월전_신규구인인원수\n",
      "취업건수                                     NA                      NA\n",
      "신규구인인원수                               NA                      NA\n",
      "1_개월전_신규구인인원수                      NA                      NA\n",
      "2_개월전_신규구인인원수                      NA                      NA\n",
      "3_개월전_신규구인인원수                      NA                      NA\n",
      "4_개월전_신규구인인원수                       1                      NA\n",
      "5_개월전_신규구인인원수                      NA                       1\n",
      "6_개월전_신규구인인원수                      NA                      NA\n",
      "신규구직인원수                               NA                      NA\n",
      "1_개월전_신규구직인원수                      NA                      NA\n",
      "2_개월전_신규구직인원수                      NA                      NA\n",
      "3_개월전_신규구직인원수                      NA                      NA\n",
      "4_개월전_신규구직인원수                      NA                      NA\n",
      "5_개월전_신규구직인원수                      NA                      NA\n",
      "6_개월전_신규구직인원수                      NA                      NA\n",
      "                        6_개월전_신규구인인원수 신규구직인원수\n",
      "취업건수                                     NA     0.01541631\n",
      "신규구인인원수                               NA             NA\n",
      "1_개월전_신규구인인원수                      NA             NA\n",
      "2_개월전_신규구인인원수                      NA             NA\n",
      "3_개월전_신규구인인원수                      NA             NA\n",
      "4_개월전_신규구인인원수                      NA             NA\n",
      "5_개월전_신규구인인원수                      NA             NA\n",
      "6_개월전_신규구인인원수                       1             NA\n",
      "신규구직인원수                               NA     1.00000000\n",
      "1_개월전_신규구직인원수                      NA     0.31674029\n",
      "2_개월전_신규구직인원수                      NA     0.42013986\n",
      "3_개월전_신규구직인원수                      NA     0.32323705\n",
      "4_개월전_신규구직인원수                      NA     0.15598372\n",
      "5_개월전_신규구직인원수                      NA     0.13882690\n",
      "6_개월전_신규구직인원수                      NA     0.28750388\n",
      "                        1_개월전_신규구직인원수 2_개월전_신규구직인원수\n",
      "취업건수                             0.00574545              0.02029665\n",
      "신규구인인원수                               NA                      NA\n",
      "1_개월전_신규구인인원수                      NA                      NA\n",
      "2_개월전_신규구인인원수                      NA                      NA\n",
      "3_개월전_신규구인인원수                      NA                      NA\n",
      "4_개월전_신규구인인원수                      NA                      NA\n",
      "5_개월전_신규구인인원수                      NA                      NA\n",
      "6_개월전_신규구인인원수                      NA                      NA\n",
      "신규구직인원수                       0.31674029              0.42013986\n",
      "1_개월전_신규구직인원수              1.00000000              0.31134777\n",
      "2_개월전_신규구직인원수              0.31134777              1.00000000\n",
      "3_개월전_신규구직인원수              0.42481115              0.30846503\n",
      "4_개월전_신규구직인원수              0.31888181              0.42407165\n",
      "5_개월전_신규구직인원수              0.15702486              0.32075227\n",
      "6_개월전_신규구직인원수              0.14027761              0.15765510\n",
      "                        3_개월전_신규구직인원수 4_개월전_신규구직인원수\n",
      "취업건수                             0.01660548             0.008494506\n",
      "신규구인인원수                               NA                      NA\n",
      "1_개월전_신규구인인원수                      NA                      NA\n",
      "2_개월전_신규구인인원수                      NA                      NA\n",
      "3_개월전_신규구인인원수                      NA                      NA\n",
      "4_개월전_신규구인인원수                      NA                      NA\n",
      "5_개월전_신규구인인원수                      NA                      NA\n",
      "6_개월전_신규구인인원수                      NA                      NA\n",
      "신규구직인원수                       0.32323705             0.155983717\n",
      "1_개월전_신규구직인원수              0.42481115             0.318881810\n",
      "2_개월전_신규구직인원수              0.30846503             0.424071653\n",
      "3_개월전_신규구직인원수              1.00000000             0.306522676\n",
      "4_개월전_신규구직인원수              0.30652268             1.000000000\n",
      "5_개월전_신규구직인원수              0.42472451             0.305734151\n",
      "6_개월전_신규구직인원수              0.31628563             0.427975711\n",
      "                        5_개월전_신규구직인원수 6_개월전_신규구직인원수\n",
      "취업건수                            0.001212957             0.008786191\n",
      "신규구인인원수                               NA                      NA\n",
      "1_개월전_신규구인인원수                      NA                      NA\n",
      "2_개월전_신규구인인원수                      NA                      NA\n",
      "3_개월전_신규구인인원수                      NA                      NA\n",
      "4_개월전_신규구인인원수                      NA                      NA\n",
      "5_개월전_신규구인인원수                      NA                      NA\n",
      "6_개월전_신규구인인원수                      NA                      NA\n",
      "신규구직인원수                      0.138826899             0.287503879\n",
      "1_개월전_신규구직인원수             0.157024864             0.140277608\n",
      "2_개월전_신규구직인원수             0.320752274             0.157655105\n",
      "3_개월전_신규구직인원수             0.424724514             0.316285632\n",
      "4_개월전_신규구직인원수             0.305734151             0.427975711\n",
      "5_개월전_신규구직인원수             1.000000000             0.310819928\n",
      "6_개월전_신규구직인원수             0.310819928             1.000000000\n"
     ]
    }
   ],
   "source": [
    "# 상관 분석\n",
    "cor_result <- cor(result[, c(\"취업건수\", \n",
    "                              \"신규구인인원수\", \n",
    "                              \"1_개월전_신규구인인원수\", \n",
    "                              \"2_개월전_신규구인인원수\", \n",
    "                              \"3_개월전_신규구인인원수\", \n",
    "                              \"4_개월전_신규구인인원수\", \n",
    "                              \"5_개월전_신규구인인원수\", \n",
    "                              \"6_개월전_신규구인인원수\", \n",
    "                              \"신규구직인원수\", \n",
    "                              \"1_개월전_신규구직인원수\", \n",
    "                              \"2_개월전_신규구직인원수\", \n",
    "                              \"3_개월전_신규구직인원수\", \n",
    "                              \"4_개월전_신규구직인원수\", \n",
    "                              \"5_개월전_신규구직인원수\", \n",
    "                              \"6_개월전_신규구직인원수\")])\n",
    "\n",
    "# 상관행렬 출력\n",
    "print(cor_result)"
   ]
  }
 ],
 "metadata": {
  "kernelspec": {
   "display_name": "R",
   "language": "R",
   "name": "ir"
  },
  "language_info": {
   "codemirror_mode": "r",
   "file_extension": ".r",
   "mimetype": "text/x-r-source",
   "name": "R",
   "pygments_lexer": "r",
   "version": "4.3.2"
  }
 },
 "nbformat": 4,
 "nbformat_minor": 2
}
