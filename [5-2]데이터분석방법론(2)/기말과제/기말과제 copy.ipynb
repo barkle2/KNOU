{
 "cells": [
  {
   "cell_type": "markdown",
   "metadata": {},
   "source": [
    "## 데이터분석방법론(2) 기말과제\n",
    "\n",
    "- 이 과목에서 배운 분석방법론(로지스틱회귀모형, 일반화선형모형, 로그선형모형, 혼합선형모형 등)을 이용하여 실제 데이터를 분석해 그 결과를 발표함"
   ]
  },
  {
   "cell_type": "markdown",
   "metadata": {},
   "source": [
    "### 1. 데이터 찾기\n",
    "\n",
    "#### (1) 관심 데이터: 한국고용정보원 취업현황 자료\n",
    "- 고용노동부에서 운영중인 고용노동데이터 분석시스템(eis.work.go.kr/elds)에서는 다양한 고용노동 관련 데이터를 공개하고 있으며,   \n",
    "그 중에서 취업현황_시군구(월) 자료를 내려받았다.\n",
    "\n",
    "- 이 데이터는 2017년부터 2023년까지 유형별로 매월 취업건수가 몇 명인지 기록되어 있다.\n",
    "  - 컬럼은 마감년월|근무시도|근무시군구|표준산업대분류|산업버전|직종중분류|직종버전|고용형태|거주시도|거주시군구|성별|연령5세단위|학력|취업건수 으로 구분된다."
   ]
  },
  {
   "cell_type": "markdown",
   "metadata": {},
   "source": [
    "#### (2) 데이터 읽기\n",
    "\n",
    "- R을 사용하여 데이터를 분석하기 위해서 저장된 데이터를 dataframe 변수에 입력한다."
   ]
  },
  {
   "cell_type": "code",
   "execution_count": 1,
   "metadata": {
    "vscode": {
     "languageId": "r"
    }
   },
   "outputs": [
    {
     "name": "stderr",
     "output_type": "stream",
     "text": [
      "Warning message:\n",
      "\"package 'ggplot2' was built under R version 4.3.3\"\n",
      "Warning message:\n",
      "\"package 'dplyr' was built under R version 4.3.3\"\n",
      "\n",
      "Attaching package: 'dplyr'\n",
      "\n",
      "\n",
      "The following objects are masked from 'package:stats':\n",
      "\n",
      "    filter, lag\n",
      "\n",
      "\n",
      "The following objects are masked from 'package:base':\n",
      "\n",
      "    intersect, setdiff, setequal, union\n",
      "\n",
      "\n"
     ]
    }
   ],
   "source": [
    "# 라이브러리 호출\n",
    "library(ggplot2)\n",
    "library(dplyr)"
   ]
  },
  {
   "cell_type": "code",
   "execution_count": 2,
   "metadata": {
    "vscode": {
     "languageId": "r"
    }
   },
   "outputs": [],
   "source": [
    "# 취업건수 파일 이름 리스트 작성\n",
    "file_names <- c(  \n",
    "  \"job_matching_2017.txt\",\n",
    "  \"job_matching_2018.txt\",\n",
    "  \"job_matching_2019.txt\",\n",
    "  \"job_matching_2020.txt\",\n",
    "  \"job_matching_2021.txt\",\n",
    "  \"job_matching_2022.txt\",\n",
    "  \"job_matching_2023.txt\"\n",
    ")\n",
    "\n",
    "# 파일을 하나씩 읽어서 병합\n",
    "jm <- do.call(rbind, lapply(file_names, function(file) {\n",
    "  read.table(file, header = TRUE, sep = \"|\", stringsAsFactors = FALSE)\n",
    "}))"
   ]
  },
  {
   "cell_type": "code",
   "execution_count": 3,
   "metadata": {
    "vscode": {
     "languageId": "r"
    }
   },
   "outputs": [
    {
     "data": {
      "text/html": [
       "<table class=\"dataframe\">\n",
       "<caption>A data.frame: 6 × 14</caption>\n",
       "<thead>\n",
       "\t<tr><th></th><th scope=col>마감년월</th><th scope=col>근무시도</th><th scope=col>근무시군구</th><th scope=col>표준산업대분류</th><th scope=col>산업버전</th><th scope=col>직종중분류</th><th scope=col>직종버전</th><th scope=col>고용형태</th><th scope=col>거주시도</th><th scope=col>거주시군구</th><th scope=col>성별</th><th scope=col>연령5세단위</th><th scope=col>학력</th><th scope=col>취업건수</th></tr>\n",
       "\t<tr><th></th><th scope=col>&lt;int&gt;</th><th scope=col>&lt;chr&gt;</th><th scope=col>&lt;chr&gt;</th><th scope=col>&lt;chr&gt;</th><th scope=col>&lt;chr&gt;</th><th scope=col>&lt;chr&gt;</th><th scope=col>&lt;int&gt;</th><th scope=col>&lt;int&gt;</th><th scope=col>&lt;chr&gt;</th><th scope=col>&lt;chr&gt;</th><th scope=col>&lt;chr&gt;</th><th scope=col>&lt;int&gt;</th><th scope=col>&lt;chr&gt;</th><th scope=col>&lt;int&gt;</th></tr>\n",
       "</thead>\n",
       "<tbody>\n",
       "\t<tr><th scope=row>1</th><td>201712</td><td>26</td><td>26000</td><td>y</td><td>y </td><td>110000</td><td>2007</td><td>10</td><td>26</td><td>26200</td><td>M</td><td>10</td><td>3</td><td>2</td></tr>\n",
       "\t<tr><th scope=row>2</th><td>201712</td><td>26</td><td>26320</td><td>y</td><td>y </td><td>220000</td><td>2007</td><td>99</td><td>26</td><td>26320</td><td>M</td><td>10</td><td>3</td><td>1</td></tr>\n",
       "\t<tr><th scope=row>3</th><td>201712</td><td>41</td><td>41130</td><td>y</td><td>y </td><td>110000</td><td>2007</td><td>10</td><td>41</td><td>41610</td><td>M</td><td>11</td><td>3</td><td>1</td></tr>\n",
       "\t<tr><th scope=row>4</th><td>201712</td><td>42</td><td>42810</td><td>y</td><td>y </td><td>230000</td><td>2007</td><td>20</td><td>42</td><td>42810</td><td>M</td><td> 7</td><td>3</td><td>1</td></tr>\n",
       "\t<tr><th scope=row>5</th><td>201712</td><td>43</td><td>43113</td><td>S</td><td>10</td><td>120000</td><td>2007</td><td>10</td><td>43</td><td>43114</td><td>F</td><td> 3</td><td>5</td><td>1</td></tr>\n",
       "\t<tr><th scope=row>6</th><td>201712</td><td>11</td><td>11380</td><td>y</td><td>y </td><td>110000</td><td>2007</td><td>10</td><td>11</td><td>11380</td><td>F</td><td> 3</td><td>4</td><td>1</td></tr>\n",
       "</tbody>\n",
       "</table>\n"
      ],
      "text/latex": [
       "A data.frame: 6 × 14\n",
       "\\begin{tabular}{r|llllllllllllll}\n",
       "  & 마감년월 & 근무시도 & 근무시군구 & 표준산업대분류 & 산업버전 & 직종중분류 & 직종버전 & 고용형태 & 거주시도 & 거주시군구 & 성별 & 연령5세단위 & 학력 & 취업건수\\\\\n",
       "  & <int> & <chr> & <chr> & <chr> & <chr> & <chr> & <int> & <int> & <chr> & <chr> & <chr> & <int> & <chr> & <int>\\\\\n",
       "\\hline\n",
       "\t1 & 201712 & 26 & 26000 & y & y  & 110000 & 2007 & 10 & 26 & 26200 & M & 10 & 3 & 2\\\\\n",
       "\t2 & 201712 & 26 & 26320 & y & y  & 220000 & 2007 & 99 & 26 & 26320 & M & 10 & 3 & 1\\\\\n",
       "\t3 & 201712 & 41 & 41130 & y & y  & 110000 & 2007 & 10 & 41 & 41610 & M & 11 & 3 & 1\\\\\n",
       "\t4 & 201712 & 42 & 42810 & y & y  & 230000 & 2007 & 20 & 42 & 42810 & M &  7 & 3 & 1\\\\\n",
       "\t5 & 201712 & 43 & 43113 & S & 10 & 120000 & 2007 & 10 & 43 & 43114 & F &  3 & 5 & 1\\\\\n",
       "\t6 & 201712 & 11 & 11380 & y & y  & 110000 & 2007 & 10 & 11 & 11380 & F &  3 & 4 & 1\\\\\n",
       "\\end{tabular}\n"
      ],
      "text/markdown": [
       "\n",
       "A data.frame: 6 × 14\n",
       "\n",
       "| <!--/--> | 마감년월 &lt;int&gt; | 근무시도 &lt;chr&gt; | 근무시군구 &lt;chr&gt; | 표준산업대분류 &lt;chr&gt; | 산업버전 &lt;chr&gt; | 직종중분류 &lt;chr&gt; | 직종버전 &lt;int&gt; | 고용형태 &lt;int&gt; | 거주시도 &lt;chr&gt; | 거주시군구 &lt;chr&gt; | 성별 &lt;chr&gt; | 연령5세단위 &lt;int&gt; | 학력 &lt;chr&gt; | 취업건수 &lt;int&gt; |\n",
       "|---|---|---|---|---|---|---|---|---|---|---|---|---|---|---|\n",
       "| 1 | 201712 | 26 | 26000 | y | y  | 110000 | 2007 | 10 | 26 | 26200 | M | 10 | 3 | 2 |\n",
       "| 2 | 201712 | 26 | 26320 | y | y  | 220000 | 2007 | 99 | 26 | 26320 | M | 10 | 3 | 1 |\n",
       "| 3 | 201712 | 41 | 41130 | y | y  | 110000 | 2007 | 10 | 41 | 41610 | M | 11 | 3 | 1 |\n",
       "| 4 | 201712 | 42 | 42810 | y | y  | 230000 | 2007 | 20 | 42 | 42810 | M |  7 | 3 | 1 |\n",
       "| 5 | 201712 | 43 | 43113 | S | 10 | 120000 | 2007 | 10 | 43 | 43114 | F |  3 | 5 | 1 |\n",
       "| 6 | 201712 | 11 | 11380 | y | y  | 110000 | 2007 | 10 | 11 | 11380 | F |  3 | 4 | 1 |\n",
       "\n"
      ],
      "text/plain": [
       "  마감년월 근무시도 근무시군구 표준산업대분류 산업버전 직종중분류 직종버전\n",
       "1 201712   26       26000      y              y        110000     2007    \n",
       "2 201712   26       26320      y              y        220000     2007    \n",
       "3 201712   41       41130      y              y        110000     2007    \n",
       "4 201712   42       42810      y              y        230000     2007    \n",
       "5 201712   43       43113      S              10       120000     2007    \n",
       "6 201712   11       11380      y              y        110000     2007    \n",
       "  고용형태 거주시도 거주시군구 성별 연령5세단위 학력 취업건수\n",
       "1 10       26       26200      M    10          3    2       \n",
       "2 99       26       26320      M    10          3    1       \n",
       "3 10       41       41610      M    11          3    1       \n",
       "4 20       42       42810      M     7          3    1       \n",
       "5 10       43       43114      F     3          5    1       \n",
       "6 10       11       11380      F     3          4    1       "
      ]
     },
     "metadata": {},
     "output_type": "display_data"
    },
    {
     "data": {
      "text/html": [
       "9412398"
      ],
      "text/latex": [
       "9412398"
      ],
      "text/markdown": [
       "9412398"
      ],
      "text/plain": [
       "[1] 9412398"
      ]
     },
     "metadata": {},
     "output_type": "display_data"
    }
   ],
   "source": [
    "# 취업건수 자료 읽기 결과 확인\n",
    "head(jm)\n",
    "nrow(jm) # 941만줄의 데이터가 존재한다."
   ]
  },
  {
   "cell_type": "markdown",
   "metadata": {},
   "source": [
    "#### (3) 데이터 전처리\n",
    "\n",
    "분석을 시작하기에 앞서 먼저 데이터를 살펴보고 수정 및 정제 작업을 하는 것이 우선이다.\n",
    "\n",
    "1. 일단 각 컬럼별로 고유값과 count 를 살펴보고, 데이터로서 가치가 얼마나 있는지 판단한다.\n",
    "2. 필요하면 분석에 필요한 형태로 컬럼을 변환한다.\n",
    "\n",
    "##### 0. 중복 데이터 확인\n",
    "\n",
    "aggregate 함수를 사용해서 중복된 데이터행이 있는지 확인한다."
   ]
  },
  {
   "cell_type": "code",
   "execution_count": 4,
   "metadata": {
    "vscode": {
     "languageId": "r"
    }
   },
   "outputs": [],
   "source": [
    "jm1 = aggregate(취업건수 ~ 마감년월+근무시도+근무시군구+표준산업대분류+산업버전+직종중분류+직종버전+고용형태+거주시도+거주시군구+성별+연령5세단위+학력, data=jm, sum)"
   ]
  },
  {
   "cell_type": "code",
   "execution_count": 5,
   "metadata": {
    "vscode": {
     "languageId": "r"
    }
   },
   "outputs": [
    {
     "data": {
      "text/html": [
       "12205525"
      ],
      "text/latex": [
       "12205525"
      ],
      "text/markdown": [
       "12205525"
      ],
      "text/plain": [
       "[1] 12205525"
      ]
     },
     "metadata": {},
     "output_type": "display_data"
    },
    {
     "data": {
      "text/html": [
       "12205525"
      ],
      "text/latex": [
       "12205525"
      ],
      "text/markdown": [
       "12205525"
      ],
      "text/plain": [
       "[1] 12205525"
      ]
     },
     "metadata": {},
     "output_type": "display_data"
    }
   ],
   "source": [
    "sum(jm$취업건수)\n",
    "sum(jm1$취업건수)"
   ]
  },
  {
   "cell_type": "markdown",
   "metadata": {},
   "source": [
    "##### 1. 마감년월 컬럼"
   ]
  },
  {
   "cell_type": "code",
   "execution_count": 6,
   "metadata": {
    "vscode": {
     "languageId": "r"
    }
   },
   "outputs": [
    {
     "name": "stdout",
     "output_type": "stream",
     "text": [
      " int [1:8070639] 201701 201705 201703 201703 201704 201708 201710 201710 201707 201701 ...\n"
     ]
    },
    {
     "data": {
      "text/plain": [
       "   Min. 1st Qu.  Median    Mean 3rd Qu.    Max. \n",
       " 201701  201808  202007  202005  202203  202312 "
      ]
     },
     "metadata": {},
     "output_type": "display_data"
    },
    {
     "data": {
      "text/plain": [
       "\n",
       "201701 201702 201703 201704 201705 201706 201707 201708 201709 201710 201711 \n",
       " 98748 105868 130928 110041  96223 103681 109428 105176 114807  83931 106511 \n",
       "201712 201801 201802 201803 201804 201805 201806 201807 201808 201809 201810 \n",
       " 86782 105277  90471 119355 107122  94434  91176  99710  92611  88993  90710 \n",
       "201811 201812 201901 201902 201903 201904 201905 201906 201907 201908 201909 \n",
       " 95729  74604  99393  80271 114715 101803  91590  82809  95160  81546  80329 \n",
       "201910 201911 201912 202001 202002 202003 202004 202005 202006 202007 202008 \n",
       " 87165  81687  69005  87164  89775  94254  83326  76362  81518  88297  95915 \n",
       "202009 202010 202011 202012 202101 202102 202103 202104 202105 202106 202107 \n",
       " 98224  87549  91264  83612  97699  92105 129782 114864 103983 107735 114048 \n",
       "202108 202109 202110 202111 202112 202201 202202 202203 202204 202205 202206 \n",
       " 99892 104637 102154  98064  83467 105147  92929 122480 107088  94685  90139 \n",
       "202207 202208 202209 202210 202211 202212 202301 202302 202303 202304 202305 \n",
       " 98569  90772  90895  87116  88367  75958  95903 100553 127289 106199  95175 \n",
       "202306 202307 202308 202309 202310 202311 202312 \n",
       " 95402  99543  94087  93500  83141  89913  72310 "
      ]
     },
     "metadata": {},
     "output_type": "display_data"
    }
   ],
   "source": [
    "# 마감년월 정보 확인\n",
    "str(jm1$마감년월)\n",
    "summary(jm1$마감년월)\n",
    "table(jm1$마감년월)"
   ]
  },
  {
   "cell_type": "code",
   "execution_count": 7,
   "metadata": {
    "vscode": {
     "languageId": "r"
    }
   },
   "outputs": [],
   "source": [
    "# \"0000-00\"로 변환한 마감년월2 컬럼 생성\n",
    "jm1$마감년월2 <- format(as.Date(paste0(jm1$마감년월, \"01\"), \"%Y%m%d\"), \"%Y-%m\")"
   ]
  },
  {
   "cell_type": "code",
   "execution_count": 8,
   "metadata": {
    "vscode": {
     "languageId": "r"
    }
   },
   "outputs": [
    {
     "name": "stdout",
     "output_type": "stream",
     "text": [
      " chr [1:8070639] \"2017-01\" \"2017-05\" \"2017-03\" \"2017-03\" \"2017-04\" ...\n"
     ]
    },
    {
     "data": {
      "text/plain": [
       "   Length     Class      Mode \n",
       "  8070639 character character "
      ]
     },
     "metadata": {},
     "output_type": "display_data"
    },
    {
     "data": {
      "text/plain": [
       "\n",
       "2017-01 2017-02 2017-03 2017-04 2017-05 2017-06 2017-07 2017-08 2017-09 2017-10 \n",
       "  98748  105868  130928  110041   96223  103681  109428  105176  114807   83931 \n",
       "2017-11 2017-12 2018-01 2018-02 2018-03 2018-04 2018-05 2018-06 2018-07 2018-08 \n",
       " 106511   86782  105277   90471  119355  107122   94434   91176   99710   92611 \n",
       "2018-09 2018-10 2018-11 2018-12 2019-01 2019-02 2019-03 2019-04 2019-05 2019-06 \n",
       "  88993   90710   95729   74604   99393   80271  114715  101803   91590   82809 \n",
       "2019-07 2019-08 2019-09 2019-10 2019-11 2019-12 2020-01 2020-02 2020-03 2020-04 \n",
       "  95160   81546   80329   87165   81687   69005   87164   89775   94254   83326 \n",
       "2020-05 2020-06 2020-07 2020-08 2020-09 2020-10 2020-11 2020-12 2021-01 2021-02 \n",
       "  76362   81518   88297   95915   98224   87549   91264   83612   97699   92105 \n",
       "2021-03 2021-04 2021-05 2021-06 2021-07 2021-08 2021-09 2021-10 2021-11 2021-12 \n",
       " 129782  114864  103983  107735  114048   99892  104637  102154   98064   83467 \n",
       "2022-01 2022-02 2022-03 2022-04 2022-05 2022-06 2022-07 2022-08 2022-09 2022-10 \n",
       " 105147   92929  122480  107088   94685   90139   98569   90772   90895   87116 \n",
       "2022-11 2022-12 2023-01 2023-02 2023-03 2023-04 2023-05 2023-06 2023-07 2023-08 \n",
       "  88367   75958   95903  100553  127289  106199   95175   95402   99543   94087 \n",
       "2023-09 2023-10 2023-11 2023-12 \n",
       "  93500   83141   89913   72310 "
      ]
     },
     "metadata": {},
     "output_type": "display_data"
    }
   ],
   "source": [
    "# 마감년월2 정보 확인\n",
    "str(jm1$마감년월2)\n",
    "summary(jm1$마감년월2)\n",
    "table(jm1$마감년월2)"
   ]
  },
  {
   "cell_type": "markdown",
   "metadata": {},
   "source": [
    "##### 2. 근무시도 & 근무시군구 / 거주시도 & 거주시군구\n",
    "\n",
    "근무시도와 근무시군구는 취업자가 근무하는 지역을 나타내고, 거주시도와 거주시군구는 취업자가 거주하는 지역을 나타낸다.  \n",
    "시군구까지 분류하면 자료가 너무 잘게 쪼개지므로 시도 까지만 사용하기로 한다."
   ]
  },
  {
   "cell_type": "code",
   "execution_count": 9,
   "metadata": {
    "vscode": {
     "languageId": "r"
    }
   },
   "outputs": [],
   "source": [
    "# 시도 기준으로 취업건수를 합하여 jm2 변수에 저장한다.\n",
    "# 마감년월2가 있으므로 마감년월은 뺀다.\n",
    "jm2 = aggregate(취업건수 ~ 마감년월2+근무시도+표준산업대분류+산업버전+직종중분류+직종버전+고용형태+거주시도+성별+연령5세단위+학력, data=jm1, sum)"
   ]
  },
  {
   "cell_type": "code",
   "execution_count": 10,
   "metadata": {
    "vscode": {
     "languageId": "r"
    }
   },
   "outputs": [
    {
     "data": {
      "text/html": [
       "12205525"
      ],
      "text/latex": [
       "12205525"
      ],
      "text/markdown": [
       "12205525"
      ],
      "text/plain": [
       "[1] 12205525"
      ]
     },
     "metadata": {},
     "output_type": "display_data"
    },
    {
     "data": {
      "text/html": [
       "12205525"
      ],
      "text/latex": [
       "12205525"
      ],
      "text/markdown": [
       "12205525"
      ],
      "text/plain": [
       "[1] 12205525"
      ]
     },
     "metadata": {},
     "output_type": "display_data"
    }
   ],
   "source": [
    "# 취업건수 합이 동일한지 확인\n",
    "sum(jm1$취업건수)\n",
    "sum(jm2$취업건수)"
   ]
  },
  {
   "cell_type": "code",
   "execution_count": 11,
   "metadata": {
    "vscode": {
     "languageId": "r"
    }
   },
   "outputs": [
    {
     "data": {
      "text/html": [
       "<table class=\"dataframe\">\n",
       "<caption>A data.frame: 6 × 12</caption>\n",
       "<thead>\n",
       "\t<tr><th></th><th scope=col>마감년월2</th><th scope=col>근무시도</th><th scope=col>표준산업대분류</th><th scope=col>산업버전</th><th scope=col>직종중분류</th><th scope=col>직종버전</th><th scope=col>고용형태</th><th scope=col>거주시도</th><th scope=col>성별</th><th scope=col>연령5세단위</th><th scope=col>학력</th><th scope=col>취업건수</th></tr>\n",
       "\t<tr><th></th><th scope=col>&lt;chr&gt;</th><th scope=col>&lt;chr&gt;</th><th scope=col>&lt;chr&gt;</th><th scope=col>&lt;chr&gt;</th><th scope=col>&lt;chr&gt;</th><th scope=col>&lt;int&gt;</th><th scope=col>&lt;int&gt;</th><th scope=col>&lt;chr&gt;</th><th scope=col>&lt;chr&gt;</th><th scope=col>&lt;int&gt;</th><th scope=col>&lt;chr&gt;</th><th scope=col>&lt;int&gt;</th></tr>\n",
       "</thead>\n",
       "<tbody>\n",
       "\t<tr><th scope=row>1</th><td>2017-01</td><td>00</td><td>y</td><td>09</td><td>10000</td><td>2007</td><td>10</td><td>11</td><td>F</td><td>3</td><td>3</td><td> 2</td></tr>\n",
       "\t<tr><th scope=row>2</th><td>2017-05</td><td>00</td><td>y</td><td>09</td><td>10000</td><td>2007</td><td>10</td><td>11</td><td>F</td><td>3</td><td>3</td><td> 1</td></tr>\n",
       "\t<tr><th scope=row>3</th><td>2017-01</td><td>11</td><td>y</td><td>09</td><td>10000</td><td>2007</td><td>10</td><td>11</td><td>F</td><td>3</td><td>3</td><td>21</td></tr>\n",
       "\t<tr><th scope=row>4</th><td>2017-02</td><td>11</td><td>y</td><td>09</td><td>10000</td><td>2007</td><td>10</td><td>11</td><td>F</td><td>3</td><td>3</td><td>22</td></tr>\n",
       "\t<tr><th scope=row>5</th><td>2017-03</td><td>11</td><td>y</td><td>09</td><td>10000</td><td>2007</td><td>10</td><td>11</td><td>F</td><td>3</td><td>3</td><td>17</td></tr>\n",
       "\t<tr><th scope=row>6</th><td>2017-04</td><td>11</td><td>y</td><td>09</td><td>10000</td><td>2007</td><td>10</td><td>11</td><td>F</td><td>3</td><td>3</td><td>17</td></tr>\n",
       "</tbody>\n",
       "</table>\n"
      ],
      "text/latex": [
       "A data.frame: 6 × 12\n",
       "\\begin{tabular}{r|llllllllllll}\n",
       "  & 마감년월2 & 근무시도 & 표준산업대분류 & 산업버전 & 직종중분류 & 직종버전 & 고용형태 & 거주시도 & 성별 & 연령5세단위 & 학력 & 취업건수\\\\\n",
       "  & <chr> & <chr> & <chr> & <chr> & <chr> & <int> & <int> & <chr> & <chr> & <int> & <chr> & <int>\\\\\n",
       "\\hline\n",
       "\t1 & 2017-01 & 00 & y & 09 & 10000 & 2007 & 10 & 11 & F & 3 & 3 &  2\\\\\n",
       "\t2 & 2017-05 & 00 & y & 09 & 10000 & 2007 & 10 & 11 & F & 3 & 3 &  1\\\\\n",
       "\t3 & 2017-01 & 11 & y & 09 & 10000 & 2007 & 10 & 11 & F & 3 & 3 & 21\\\\\n",
       "\t4 & 2017-02 & 11 & y & 09 & 10000 & 2007 & 10 & 11 & F & 3 & 3 & 22\\\\\n",
       "\t5 & 2017-03 & 11 & y & 09 & 10000 & 2007 & 10 & 11 & F & 3 & 3 & 17\\\\\n",
       "\t6 & 2017-04 & 11 & y & 09 & 10000 & 2007 & 10 & 11 & F & 3 & 3 & 17\\\\\n",
       "\\end{tabular}\n"
      ],
      "text/markdown": [
       "\n",
       "A data.frame: 6 × 12\n",
       "\n",
       "| <!--/--> | 마감년월2 &lt;chr&gt; | 근무시도 &lt;chr&gt; | 표준산업대분류 &lt;chr&gt; | 산업버전 &lt;chr&gt; | 직종중분류 &lt;chr&gt; | 직종버전 &lt;int&gt; | 고용형태 &lt;int&gt; | 거주시도 &lt;chr&gt; | 성별 &lt;chr&gt; | 연령5세단위 &lt;int&gt; | 학력 &lt;chr&gt; | 취업건수 &lt;int&gt; |\n",
       "|---|---|---|---|---|---|---|---|---|---|---|---|---|\n",
       "| 1 | 2017-01 | 00 | y | 09 | 10000 | 2007 | 10 | 11 | F | 3 | 3 |  2 |\n",
       "| 2 | 2017-05 | 00 | y | 09 | 10000 | 2007 | 10 | 11 | F | 3 | 3 |  1 |\n",
       "| 3 | 2017-01 | 11 | y | 09 | 10000 | 2007 | 10 | 11 | F | 3 | 3 | 21 |\n",
       "| 4 | 2017-02 | 11 | y | 09 | 10000 | 2007 | 10 | 11 | F | 3 | 3 | 22 |\n",
       "| 5 | 2017-03 | 11 | y | 09 | 10000 | 2007 | 10 | 11 | F | 3 | 3 | 17 |\n",
       "| 6 | 2017-04 | 11 | y | 09 | 10000 | 2007 | 10 | 11 | F | 3 | 3 | 17 |\n",
       "\n"
      ],
      "text/plain": [
       "  마감년월2 근무시도 표준산업대분류 산업버전 직종중분류 직종버전 고용형태\n",
       "1 2017-01   00       y              09       10000      2007     10      \n",
       "2 2017-05   00       y              09       10000      2007     10      \n",
       "3 2017-01   11       y              09       10000      2007     10      \n",
       "4 2017-02   11       y              09       10000      2007     10      \n",
       "5 2017-03   11       y              09       10000      2007     10      \n",
       "6 2017-04   11       y              09       10000      2007     10      \n",
       "  거주시도 성별 연령5세단위 학력 취업건수\n",
       "1 11       F    3           3     2      \n",
       "2 11       F    3           3     1      \n",
       "3 11       F    3           3    21      \n",
       "4 11       F    3           3    22      \n",
       "5 11       F    3           3    17      \n",
       "6 11       F    3           3    17      "
      ]
     },
     "metadata": {},
     "output_type": "display_data"
    },
    {
     "data": {
      "text/html": [
       "3490712"
      ],
      "text/latex": [
       "3490712"
      ],
      "text/markdown": [
       "3490712"
      ],
      "text/plain": [
       "[1] 3490712"
      ]
     },
     "metadata": {},
     "output_type": "display_data"
    }
   ],
   "source": [
    "# 변환된 자료 확인\n",
    "head(jm2)\n",
    "nrow(jm2) # 349만줄의 데이터가 존재한다."
   ]
  },
  {
   "cell_type": "code",
   "execution_count": 12,
   "metadata": {
    "vscode": {
     "languageId": "r"
    }
   },
   "outputs": [
    {
     "name": "stdout",
     "output_type": "stream",
     "text": [
      " chr [1:3490712] \"00\" \"00\" \"11\" \"11\" \"11\" \"11\" \"11\" \"26\" \"42\" \"11\" \"11\" ...\n"
     ]
    },
    {
     "data": {
      "text/plain": [
       "   Length     Class      Mode \n",
       "  3490712 character character "
      ]
     },
     "metadata": {},
     "output_type": "display_data"
    },
    {
     "data": {
      "text/plain": [
       "\n",
       "     0     00     11     26     27     28     29     30     31     36     41 \n",
       " 38420 205721 514032 262061 176721 208697 126314 126012 112558  37416 509056 \n",
       "    42     43     44     45     46     47     48     50     51     A1 \n",
       "113417 146205 153444 171669 131170 174885 214388  57436   9792   1298 "
      ]
     },
     "metadata": {},
     "output_type": "display_data"
    },
    {
     "name": "stdout",
     "output_type": "stream",
     "text": [
      " chr [1:3490712] \"11\" \"11\" \"11\" \"11\" \"11\" \"11\" \"11\" \"11\" \"11\" \"11\" \"11\" ...\n"
     ]
    },
    {
     "data": {
      "text/plain": [
       "   Length     Class      Mode \n",
       "  3490712 character character "
      ]
     },
     "metadata": {},
     "output_type": "display_data"
    },
    {
     "data": {
      "text/plain": [
       "\n",
       "    11     26     27     28     29     30     31     36     41     42     43 \n",
       "380882 266406 189131 251131 134046 130983 120236  41445 632409 127298 160043 \n",
       "    44     45     46     47     48     50     51      y \n",
       "170574 192817 154332 208378 259685  59663  11251      2 "
      ]
     },
     "metadata": {},
     "output_type": "display_data"
    }
   ],
   "source": [
    "# 근무시도, 거주시도 정보 확인\n",
    "str(jm2$근무시도)\n",
    "summary(jm2$근무시도)\n",
    "table(jm2$근무시도)\n",
    "\n",
    "str(jm2$거주시도)\n",
    "summary(jm2$거주시도)\n",
    "table(jm2$거주시도)"
   ]
  },
  {
   "cell_type": "code",
   "execution_count": 13,
   "metadata": {
    "vscode": {
     "languageId": "r"
    }
   },
   "outputs": [],
   "source": [
    "# 시도가 코드로 되어 있어 직관적으로 이해하기 어려우므로 코드를 지명으로 변환하여 저장한다.\n",
    "# 시도 코드와 지역명을 매핑한 데이터프레임 생성\n",
    "mapping <- data.frame(\n",
    "  코드 = c(\"0\", \"00\", \"11\", \"26\", \"27\", \"28\", \"29\", \"30\", \"31\", \"36\", \"41\", \"42\", \n",
    "           \"43\", \"44\", \"45\", \"46\", \"47\", \"48\", \"49\", \"50\", \"A1\", \"y\", \"z\", \"51\", \"52\"),\n",
    "  지역명 = c(\"[0,00]지역무관\", \"[0,00]지역무관\", \"[11]서울\", \"[26]부산\", \"[27]대구\", \"[28]인천\", \n",
    "           \"[29]광주\", \"[30]대전\", \"[31]울산\", \"[36]세종\", \"[41]경기\", \"[42,51]강원\", \n",
    "           \"[43]충북\", \"[44]충남\", \"[45,52]전북\", \"[46]전남\", \"[47]경북\", \"[48]경남\", \n",
    "           \"[49,50]제주\", \"[49,50]제주\", \"[A1]재택근무\", \"[y]분류불능\", \"[z]해당없음\", \"[42,51]강원\", \"[45,52]전북\")\n",
    ")\n",
    "\n",
    "# 근무시도 매핑\n",
    "jm2 <- merge(jm2, mapping, by.x = \"근무시도\", by.y = \"코드\", all.x = TRUE)\n",
    "colnames(jm2)[ncol(jm2)] <- \"근무시도명\"\n",
    "\n",
    "# 거주시도 매핑\n",
    "jm2 <- merge(jm2, mapping, by.x = \"거주시도\", by.y = \"코드\", all.x = TRUE)\n",
    "colnames(jm2)[ncol(jm2)] <- \"거주시도명\""
   ]
  },
  {
   "cell_type": "code",
   "execution_count": 14,
   "metadata": {
    "vscode": {
     "languageId": "r"
    }
   },
   "outputs": [
    {
     "name": "stdout",
     "output_type": "stream",
     "text": [
      " chr [1:3490712] \"[11]서울\" \"[11]서울\" \"[11]서울\" \"[41]경기\" ...\n"
     ]
    },
    {
     "data": {
      "text/plain": [
       "   Length     Class      Mode \n",
       "  3490712 character character "
      ]
     },
     "metadata": {},
     "output_type": "display_data"
    },
    {
     "data": {
      "text/plain": [
       "\n",
       "[0,00]지역무관       [11]서울       [26]부산       [27]대구       [28]인천 \n",
       "        244141         514032         262061         176721         208697 \n",
       "      [29]광주       [30]대전       [31]울산       [36]세종       [41]경기 \n",
       "        126314         126012         112558          37416         509056 \n",
       "   [42,51]강원       [43]충북       [44]충남    [45,52]전북       [46]전남 \n",
       "        123209         146205         153444         171669         131170 \n",
       "      [47]경북       [48]경남    [49,50]제주   [A1]재택근무 \n",
       "        174885         214388          57436           1298 "
      ]
     },
     "metadata": {},
     "output_type": "display_data"
    },
    {
     "name": "stdout",
     "output_type": "stream",
     "text": [
      " chr [1:3490712] \"[11]서울\" \"[11]서울\" \"[11]서울\" \"[11]서울\" \"[11]서울\" ...\n"
     ]
    },
    {
     "data": {
      "text/plain": [
       "   Length     Class      Mode \n",
       "  3490712 character character "
      ]
     },
     "metadata": {},
     "output_type": "display_data"
    },
    {
     "data": {
      "text/plain": [
       "\n",
       "   [11]서울    [26]부산    [27]대구    [28]인천    [29]광주    [30]대전 \n",
       "     380882      266406      189131      251131      134046      130983 \n",
       "   [31]울산    [36]세종    [41]경기 [42,51]강원    [43]충북    [44]충남 \n",
       "     120236       41445      632409      138549      160043      170574 \n",
       "[45,52]전북    [46]전남    [47]경북    [48]경남 [49,50]제주 [y]분류불능 \n",
       "     192817      154332      208378      259685       59663           2 "
      ]
     },
     "metadata": {},
     "output_type": "display_data"
    }
   ],
   "source": [
    "# 근무시도, 거주시도 정보 확인\n",
    "str(jm2$근무시도명)\n",
    "summary(jm2$근무시도명)\n",
    "table(jm2$근무시도명)\n",
    "\n",
    "str(jm2$거주시도명)\n",
    "summary(jm2$거주시도명)\n",
    "table(jm2$거주시도명)"
   ]
  },
  {
   "cell_type": "markdown",
   "metadata": {},
   "source": [
    "##### 3. 표준산업대분류 & 산업버전\n",
    "\n",
    "표준산업대분류와 산업버전은 취업자가 취업한 사업장의 산업분류와 해당 산업분류가 몇차 산업분류인지 나타낸다."
   ]
  },
  {
   "cell_type": "code",
   "execution_count": 15,
   "metadata": {
    "vscode": {
     "languageId": "r"
    }
   },
   "outputs": [
    {
     "name": "stdout",
     "output_type": "stream",
     "text": [
      " chr [1:3490712] \"y\" \"y\" \"09\" \"y\" \"y\" \"y\" \"y\" \"10\" \"y\" \"y\" \"10\" \"y\" \"y\" \"y\" ...\n",
      " chr [1:3490712] \"y\" \"y\" \"y\" \"y\" \"y\" \"y\" \"y\" \"P\" \"y\" \"y\" \"C\" \"y\" \"y\" \"y\" ...\n"
     ]
    },
    {
     "data": {
      "text/plain": [
       "   Length     Class      Mode \n",
       "  3490712 character character "
      ]
     },
     "metadata": {},
     "output_type": "display_data"
    },
    {
     "data": {
      "text/plain": [
       "   Length     Class      Mode \n",
       "  3490712 character character "
      ]
     },
     "metadata": {},
     "output_type": "display_data"
    },
    {
     "data": {
      "text/plain": [
       "    \n",
       "           A       B       C       D       E       F       G       H       I\n",
       "  09     559      54   15472     180     424    2311    4935    1687    2622\n",
       "  10    5294     400  190977    2124    4805   24267   55103   26830   24103\n",
       "  y        0       0       0       0       0       0       0       0       0\n",
       "    \n",
       "           J       K       L       M       N       O       P       Q       R\n",
       "  09    1303     584    1733    2226    9588    5213    3801    9484     603\n",
       "  10   14137    5777   20049   25396  102002   31344   36081  128985    7541\n",
       "  y        0       0       0       0       0       0       0       0       0\n",
       "    \n",
       "           S       T       U       y\n",
       "  09    3153    1075       3  152128\n",
       "  10   27984    9680      28       0\n",
       "  y        0       0       0 2528667"
      ]
     },
     "metadata": {},
     "output_type": "display_data"
    }
   ],
   "source": [
    "# 표준산업대분류, 산업버전 정보 확인\n",
    "str(jm2$산업버전)\n",
    "str(jm2$표준산업대분류)\n",
    "summary(jm2$산업버전)\n",
    "summary(jm2$표준산업대분류)\n",
    "table(jm2$산업버전, jm2$표준산업대분류)"
   ]
  },
  {
   "cell_type": "markdown",
   "metadata": {},
   "source": [
    "산업 정보가 빠짐없이 입력되어 있긴 하지만, 대부분의 정보가 산업분류를 알수 없다는 의미의 \"y\"로 입력되어 있다.  \n",
    "즉, 데이터로서의 가치가 크지 않다고 판단되므로 데이터분석에서 제외하기로 한다."
   ]
  },
  {
   "cell_type": "code",
   "execution_count": 16,
   "metadata": {
    "vscode": {
     "languageId": "r"
    }
   },
   "outputs": [],
   "source": [
    "# 표준산업대분류와 산업버전을 제외하고 jm3 변수에 저장한다.\n",
    "# 근무시도명과 거주시도명이 있으므로, 근무시도와 거주시도는 삭제한다.\n",
    "jm3 = aggregate(취업건수 ~ 마감년월2+근무시도명+직종중분류+직종버전+고용형태+거주시도명+성별+연령5세단위+학력, data=jm2, sum)"
   ]
  },
  {
   "cell_type": "code",
   "execution_count": 17,
   "metadata": {
    "vscode": {
     "languageId": "r"
    }
   },
   "outputs": [
    {
     "data": {
      "text/html": [
       "12205525"
      ],
      "text/latex": [
       "12205525"
      ],
      "text/markdown": [
       "12205525"
      ],
      "text/plain": [
       "[1] 12205525"
      ]
     },
     "metadata": {},
     "output_type": "display_data"
    },
    {
     "data": {
      "text/html": [
       "12205525"
      ],
      "text/latex": [
       "12205525"
      ],
      "text/markdown": [
       "12205525"
      ],
      "text/plain": [
       "[1] 12205525"
      ]
     },
     "metadata": {},
     "output_type": "display_data"
    }
   ],
   "source": [
    "sum(jm2$취업건수)\n",
    "sum(jm3$취업건수)"
   ]
  },
  {
   "cell_type": "code",
   "execution_count": 18,
   "metadata": {
    "vscode": {
     "languageId": "r"
    }
   },
   "outputs": [
    {
     "data": {
      "text/html": [
       "<table class=\"dataframe\">\n",
       "<caption>A data.frame: 6 × 10</caption>\n",
       "<thead>\n",
       "\t<tr><th></th><th scope=col>마감년월2</th><th scope=col>근무시도명</th><th scope=col>직종중분류</th><th scope=col>직종버전</th><th scope=col>고용형태</th><th scope=col>거주시도명</th><th scope=col>성별</th><th scope=col>연령5세단위</th><th scope=col>학력</th><th scope=col>취업건수</th></tr>\n",
       "\t<tr><th></th><th scope=col>&lt;chr&gt;</th><th scope=col>&lt;chr&gt;</th><th scope=col>&lt;chr&gt;</th><th scope=col>&lt;int&gt;</th><th scope=col>&lt;int&gt;</th><th scope=col>&lt;chr&gt;</th><th scope=col>&lt;chr&gt;</th><th scope=col>&lt;int&gt;</th><th scope=col>&lt;chr&gt;</th><th scope=col>&lt;int&gt;</th></tr>\n",
       "</thead>\n",
       "<tbody>\n",
       "\t<tr><th scope=row>1</th><td>2017-01</td><td>[0,00]지역무관</td><td>10000</td><td>2007</td><td>10</td><td>[11]서울</td><td>F</td><td>3</td><td>3</td><td>2</td></tr>\n",
       "\t<tr><th scope=row>2</th><td>2017-05</td><td>[0,00]지역무관</td><td>10000</td><td>2007</td><td>10</td><td>[11]서울</td><td>F</td><td>3</td><td>3</td><td>1</td></tr>\n",
       "\t<tr><th scope=row>3</th><td>2017-06</td><td>[0,00]지역무관</td><td>10000</td><td>2007</td><td>10</td><td>[11]서울</td><td>F</td><td>3</td><td>3</td><td>1</td></tr>\n",
       "\t<tr><th scope=row>4</th><td>2017-07</td><td>[0,00]지역무관</td><td>10000</td><td>2007</td><td>10</td><td>[11]서울</td><td>F</td><td>3</td><td>3</td><td>1</td></tr>\n",
       "\t<tr><th scope=row>5</th><td>2017-08</td><td>[0,00]지역무관</td><td>10000</td><td>2007</td><td>10</td><td>[11]서울</td><td>F</td><td>3</td><td>3</td><td>2</td></tr>\n",
       "\t<tr><th scope=row>6</th><td>2017-09</td><td>[0,00]지역무관</td><td>10000</td><td>2007</td><td>10</td><td>[11]서울</td><td>F</td><td>3</td><td>3</td><td>1</td></tr>\n",
       "</tbody>\n",
       "</table>\n"
      ],
      "text/latex": [
       "A data.frame: 6 × 10\n",
       "\\begin{tabular}{r|llllllllll}\n",
       "  & 마감년월2 & 근무시도명 & 직종중분류 & 직종버전 & 고용형태 & 거주시도명 & 성별 & 연령5세단위 & 학력 & 취업건수\\\\\n",
       "  & <chr> & <chr> & <chr> & <int> & <int> & <chr> & <chr> & <int> & <chr> & <int>\\\\\n",
       "\\hline\n",
       "\t1 & 2017-01 & {[}0,00{]}지역무관 & 10000 & 2007 & 10 & {[}11{]}서울 & F & 3 & 3 & 2\\\\\n",
       "\t2 & 2017-05 & {[}0,00{]}지역무관 & 10000 & 2007 & 10 & {[}11{]}서울 & F & 3 & 3 & 1\\\\\n",
       "\t3 & 2017-06 & {[}0,00{]}지역무관 & 10000 & 2007 & 10 & {[}11{]}서울 & F & 3 & 3 & 1\\\\\n",
       "\t4 & 2017-07 & {[}0,00{]}지역무관 & 10000 & 2007 & 10 & {[}11{]}서울 & F & 3 & 3 & 1\\\\\n",
       "\t5 & 2017-08 & {[}0,00{]}지역무관 & 10000 & 2007 & 10 & {[}11{]}서울 & F & 3 & 3 & 2\\\\\n",
       "\t6 & 2017-09 & {[}0,00{]}지역무관 & 10000 & 2007 & 10 & {[}11{]}서울 & F & 3 & 3 & 1\\\\\n",
       "\\end{tabular}\n"
      ],
      "text/markdown": [
       "\n",
       "A data.frame: 6 × 10\n",
       "\n",
       "| <!--/--> | 마감년월2 &lt;chr&gt; | 근무시도명 &lt;chr&gt; | 직종중분류 &lt;chr&gt; | 직종버전 &lt;int&gt; | 고용형태 &lt;int&gt; | 거주시도명 &lt;chr&gt; | 성별 &lt;chr&gt; | 연령5세단위 &lt;int&gt; | 학력 &lt;chr&gt; | 취업건수 &lt;int&gt; |\n",
       "|---|---|---|---|---|---|---|---|---|---|---|\n",
       "| 1 | 2017-01 | [0,00]지역무관 | 10000 | 2007 | 10 | [11]서울 | F | 3 | 3 | 2 |\n",
       "| 2 | 2017-05 | [0,00]지역무관 | 10000 | 2007 | 10 | [11]서울 | F | 3 | 3 | 1 |\n",
       "| 3 | 2017-06 | [0,00]지역무관 | 10000 | 2007 | 10 | [11]서울 | F | 3 | 3 | 1 |\n",
       "| 4 | 2017-07 | [0,00]지역무관 | 10000 | 2007 | 10 | [11]서울 | F | 3 | 3 | 1 |\n",
       "| 5 | 2017-08 | [0,00]지역무관 | 10000 | 2007 | 10 | [11]서울 | F | 3 | 3 | 2 |\n",
       "| 6 | 2017-09 | [0,00]지역무관 | 10000 | 2007 | 10 | [11]서울 | F | 3 | 3 | 1 |\n",
       "\n"
      ],
      "text/plain": [
       "  마감년월2 근무시도명     직종중분류 직종버전 고용형태 거주시도명 성별\n",
       "1 2017-01   [0,00]지역무관 10000      2007     10       [11]서울   F   \n",
       "2 2017-05   [0,00]지역무관 10000      2007     10       [11]서울   F   \n",
       "3 2017-06   [0,00]지역무관 10000      2007     10       [11]서울   F   \n",
       "4 2017-07   [0,00]지역무관 10000      2007     10       [11]서울   F   \n",
       "5 2017-08   [0,00]지역무관 10000      2007     10       [11]서울   F   \n",
       "6 2017-09   [0,00]지역무관 10000      2007     10       [11]서울   F   \n",
       "  연령5세단위 학력 취업건수\n",
       "1 3           3    2       \n",
       "2 3           3    1       \n",
       "3 3           3    1       \n",
       "4 3           3    1       \n",
       "5 3           3    2       \n",
       "6 3           3    1       "
      ]
     },
     "metadata": {},
     "output_type": "display_data"
    },
    {
     "data": {
      "text/html": [
       "2957137"
      ],
      "text/latex": [
       "2957137"
      ],
      "text/markdown": [
       "2957137"
      ],
      "text/plain": [
       "[1] 2957137"
      ]
     },
     "metadata": {},
     "output_type": "display_data"
    }
   ],
   "source": [
    "# 변환된 자료 확인\n",
    "head(jm3)\n",
    "nrow(jm3) # 296만줄의 데이터가 존재한다."
   ]
  },
  {
   "cell_type": "markdown",
   "metadata": {},
   "source": [
    "##### 4. 직종중분류 & 직종버전\n",
    "\n",
    "직종중분류와 직종버전은 취업자가 어떤 직종에서 일하고 있는지, 그리고 그 분류는 몇차 직업분류인지를 알려준다.\n"
   ]
  },
  {
   "cell_type": "code",
   "execution_count": 19,
   "metadata": {
    "vscode": {
     "languageId": "r"
    }
   },
   "outputs": [
    {
     "name": "stdout",
     "output_type": "stream",
     "text": [
      " int [1:2957137] 2007 2007 2007 2007 2007 2007 2007 2007 2007 2007 ...\n",
      " chr [1:2957137] \"10000\" \"10000\" \"10000\" \"10000\" \"10000\" \"10000\" \"10000\" ...\n"
     ]
    },
    {
     "data": {
      "text/plain": [
       "   Min. 1st Qu.  Median    Mean 3rd Qu.    Max. \n",
       "   2007    2018    2018    2017    2018    2018 "
      ]
     },
     "metadata": {},
     "output_type": "display_data"
    },
    {
     "data": {
      "text/plain": [
       "   Length     Class      Mode \n",
       "  2957137 character character "
      ]
     },
     "metadata": {},
     "output_type": "display_data"
    },
    {
     "data": {
      "text/plain": [
       "      \n",
       "       010000 020000 030000  10000 100000 110000 120000 130000 140000 150000\n",
       "  2007      0      0      0  23606  17990  26906  12349  20057  23175  20481\n",
       "  2018  17761  49662   5616  84446      0   4077  12662  58323  79100 116705\n",
       "      \n",
       "       160000 170000 180000 190000  20000 200000 210000 220000 230000 240000\n",
       "  2007  10649   7751   4115  22626  43399  10688   9581  24710   8238    232\n",
       "  2018      0      0      0      0 225597      0  77236  16541 145998   3772\n",
       "      \n",
       "       250000  30000 300000  40000 410000 420000  50000 510000 520000 530000\n",
       "  2007      0   5544      0  18078      0      0   3167      0      0      0\n",
       "  2018    929  25424 137628      0  86654  19475      0  35790  31003 124324\n",
       "      \n",
       "       540000 550000 560000  60000 610000 620000  70000 700000  80000 810000\n",
       "  2007      0      0      0  26350      0      0  22270      0  16225      0\n",
       "  2018  74620  91988 107325      0 114028 113978      0  90551      0 107544\n",
       "      \n",
       "       820000 830000 840000 850000 860000 870000 880000 890000  90000 900000\n",
       "  2007      0      0      0      0      0      0      0      0  17259      0\n",
       "  2018  55241 117766  17173  38108  19318  50870  38810 121196      0  44451\n",
       "      \n",
       "            y\n",
       "  2007      0\n",
       "  2018      1"
      ]
     },
     "metadata": {},
     "output_type": "display_data"
    }
   ],
   "source": [
    "# 직종중분류, 직종버전 정보 확인\n",
    "str(jm3$직종버전)\n",
    "str(jm3$직종중분류)\n",
    "summary(jm3$직종버전)\n",
    "summary(jm3$직종중분류)\n",
    "table(jm3$직종버전, jm3$직종중분류)"
   ]
  },
  {
   "cell_type": "markdown",
   "metadata": {},
   "source": [
    "직종버전은 2007과 2018이 존재하는데, 데이터는 2017부터 2023년까지의 데이터이다.  \n",
    "직종을 기준으로 분류를 하려면 직종버전이 일치해야 하므로 2017년 정보는 데이터에서 제외한다."
   ]
  },
  {
   "cell_type": "code",
   "execution_count": 20,
   "metadata": {
    "vscode": {
     "languageId": "r"
    }
   },
   "outputs": [],
   "source": [
    "# 마감년월2의 앞 4자리가 2017이 아닌 데이터만 필터링\n",
    "jm4 <- jm3[substr(jm3$마감년월2, 1, 4) != \"2017\", ]"
   ]
  },
  {
   "cell_type": "code",
   "execution_count": 21,
   "metadata": {
    "vscode": {
     "languageId": "r"
    }
   },
   "outputs": [
    {
     "data": {
      "text/html": [
       "12205525"
      ],
      "text/latex": [
       "12205525"
      ],
      "text/markdown": [
       "12205525"
      ],
      "text/plain": [
       "[1] 12205525"
      ]
     },
     "metadata": {},
     "output_type": "display_data"
    },
    {
     "data": {
      "text/html": [
       "10052864"
      ],
      "text/latex": [
       "10052864"
      ],
      "text/markdown": [
       "10052864"
      ],
      "text/plain": [
       "[1] 10052864"
      ]
     },
     "metadata": {},
     "output_type": "display_data"
    }
   ],
   "source": [
    "sum(jm3$취업건수)\n",
    "sum(jm4$취업건수)"
   ]
  },
  {
   "cell_type": "code",
   "execution_count": 22,
   "metadata": {
    "vscode": {
     "languageId": "r"
    }
   },
   "outputs": [
    {
     "name": "stdout",
     "output_type": "stream",
     "text": [
      " int [1:2561691] 2018 2018 2018 2018 2018 2018 2018 2018 2018 2018 ...\n",
      " chr [1:2561691] \"010000\" \"010000\" \"010000\" \"010000\" \"010000\" \"010000\" ...\n"
     ]
    },
    {
     "data": {
      "text/plain": [
       "   Min. 1st Qu.  Median    Mean 3rd Qu.    Max. \n",
       "   2018    2018    2018    2018    2018    2018 "
      ]
     },
     "metadata": {},
     "output_type": "display_data"
    },
    {
     "data": {
      "text/plain": [
       "   Length     Class      Mode \n",
       "  2561691 character character "
      ]
     },
     "metadata": {},
     "output_type": "display_data"
    },
    {
     "data": {
      "text/plain": [
       "      \n",
       "       010000 020000 030000  10000 110000 120000 130000 140000 150000  20000\n",
       "  2018  17761  49662   5616  84446   4077  12662  58323  79100 116705 225597\n",
       "      \n",
       "       210000 220000 230000 240000 250000  30000 300000 410000 420000 510000\n",
       "  2018  77236  16541 145998   3772    929  25424 137628  86654  19475  35790\n",
       "      \n",
       "       520000 530000 540000 550000 560000 610000 620000 700000 810000 820000\n",
       "  2018  31003 124324  74620  91988 107325 114028 113978  90551 107544  55241\n",
       "      \n",
       "       830000 840000 850000 860000 870000 880000 890000 900000      y\n",
       "  2018 117766  17173  38108  19318  50870  38810 121196  44451      1"
      ]
     },
     "metadata": {},
     "output_type": "display_data"
    }
   ],
   "source": [
    "# 직종중분류, 직종버전 정보 다시 확인\n",
    "str(jm4$직종버전)\n",
    "str(jm4$직종중분류)\n",
    "summary(jm4$직종버전)\n",
    "summary(jm4$직종중분류)\n",
    "table(jm4$직종버전, jm4$직종중분류)"
   ]
  },
  {
   "cell_type": "markdown",
   "metadata": {},
   "source": [
    "2017년 정보를 제외하니 직종버전은 2018만 남았다. 즉, 직종버전 컬럼은 더 이상 필요없다.  \n",
    "또한 직종중분류도 코드로 표시되어 있어 직관적으로 이해하기 어려우므로 직종중분류명으로 변환한다."
   ]
  },
  {
   "cell_type": "code",
   "execution_count": 23,
   "metadata": {
    "vscode": {
     "languageId": "r"
    }
   },
   "outputs": [],
   "source": [
    "# 직종중분류 매핑 전 \n",
    "# 코드: \"10000\" -> \"010000\", \"20000\" -> \"020000\", \"30000\" -> \"030000\" 으로 변환한다.\n",
    "jm4$직종중분류[jm4$직종중분류 == \"10000\"] <- \"010000\"\n",
    "jm4$직종중분류[jm4$직종중분류 == \"20000\"] <- \"020000\"\n",
    "jm4$직종중분류[jm4$직종중분류 == \"30000\"] <- \"030000\"\n",
    "\n",
    "# 직종중분류 매핑 데이터 생성\n",
    "mapping <- data.frame(\n",
    "  코드 = c(\"010000\", \"020000\", \"030000\", \"110000\", \"120000\", \"130000\", \"140000\", \n",
    "          \"150000\", \"210000\", \"220000\", \"230000\", \"240000\", \"250000\", \"300000\", \n",
    "          \"410000\", \"420000\", \"510000\", \"520000\", \"530000\", \"540000\", \"550000\", \n",
    "          \"560000\", \"610000\", \"620000\", \"700000\", \"810000\", \"820000\", \"830000\", \n",
    "          \"840000\", \"850000\", \"860000\", \"870000\", \"880000\", \"890000\", \"900000\", \"y\"),\n",
    "  직종명 = c(\"[01]관리직(임원·부서장)\", \"[02]경영·행정·사무직\", \"[03]금융·보험직\", \"[11]인문·사회과학 연구직\", \n",
    "            \"[12]자연·생명과학 연구직\", \"[13]정보통신 연구개발직 및 공학기술직\", \"[14]건설·채굴 연구개발직 및 공학기술직\", \n",
    "            \"[15]제조 연구개발직 및 공학기술직\", \"[21]교육직\", \"[22]법률직\", \"[23]사회복지·종교직\", \n",
    "            \"[24]경찰·소방·교도직\", \"[25]군인\", \"[30]보건·의료직\", \"[41]예술·디자인·방송직\", \n",
    "            \"[42]스포츠·레크리에이션직\", \"[51]미용·예식 서비스직\", \"[52]여행·숙박·오락 서비스직\", \n",
    "            \"[53]음식 서비스직\", \"[54]경호·경비직\", \"[55]돌봄 서비스직\", \"[56]청소 및 기타 개인서비스직\", \n",
    "            \"[61]영업·판매직\", \"[62]운전·운송직\", \"[70]건설·채굴직\", \"[81]기계 설치·정비·생산직\", \n",
    "            \"[82]금속·재료 설치·정비·생산직\", \"[83]전기·전자 설치·정비·생산직\", \n",
    "            \"[84]정보통신 설치·정비직\", \"[85]화학·환경 설치·정비·생산직\", \"[86]섬유·의복 생산직\", \n",
    "            \"[87]식품가공·생산직\", \"[88]인쇄·목재·공예 및 기타 설치·정비·생산직\", \n",
    "            \"[89]제조 단순직\", \"[90]농림어업직\", \"[y]분류불능\")\n",
    ")\n",
    "\n",
    "# 직종중분류명 매핑\n",
    "jm4 <- merge(jm4, mapping, by.x = \"직종중분류\", by.y = \"코드\", all.x = TRUE)\n",
    "colnames(jm4)[ncol(jm4)] <- \"직종중분류명\""
   ]
  },
  {
   "cell_type": "code",
   "execution_count": 24,
   "metadata": {
    "vscode": {
     "languageId": "r"
    }
   },
   "outputs": [
    {
     "data": {
      "text/plain": [
       "\n",
       "                       [01]관리직(임원·부서장) \n",
       "                                         102207 \n",
       "                         [02]경영·행정·사무직 \n",
       "                                         275259 \n",
       "                               [03]금융·보험직 \n",
       "                                          31040 \n",
       "                      [11]인문·사회과학 연구직 \n",
       "                                           4077 \n",
       "                      [12]자연·생명과학 연구직 \n",
       "                                          12662 \n",
       "          [13]정보통신 연구개발직 및 공학기술직 \n",
       "                                          58323 \n",
       "        [14]건설·채굴 연구개발직 및 공학기술직 \n",
       "                                          79100 \n",
       "              [15]제조 연구개발직 및 공학기술직 \n",
       "                                         116705 \n",
       "                                     [21]교육직 \n",
       "                                          77236 \n",
       "                                     [22]법률직 \n",
       "                                          16541 \n",
       "                           [23]사회복지·종교직 \n",
       "                                         145998 \n",
       "                         [24]경찰·소방·교도직 \n",
       "                                           3772 \n",
       "                                       [25]군인 \n",
       "                                            929 \n",
       "                               [30]보건·의료직 \n",
       "                                         137628 \n",
       "                       [41]예술·디자인·방송직 \n",
       "                                          86654 \n",
       "                     [42]스포츠·레크리에이션직 \n",
       "                                          19475 \n",
       "                        [51]미용·예식 서비스직 \n",
       "                                          35790 \n",
       "                  [52]여행·숙박·오락 서비스직 \n",
       "                                          31003 \n",
       "                              [53]음식 서비스직 \n",
       "                                         124324 \n",
       "                               [54]경호·경비직 \n",
       "                                          74620 \n",
       "                              [55]돌봄 서비스직 \n",
       "                                          91988 \n",
       "                  [56]청소 및 기타 개인서비스직 \n",
       "                                         107325 \n",
       "                               [61]영업·판매직 \n",
       "                                         114028 \n",
       "                               [62]운전·운송직 \n",
       "                                         113978 \n",
       "                               [70]건설·채굴직 \n",
       "                                          90551 \n",
       "                    [81]기계 설치·정비·생산직 \n",
       "                                         107544 \n",
       "              [82]금속·재료 설치·정비·생산직 \n",
       "                                          55241 \n",
       "              [83]전기·전자 설치·정비·생산직 \n",
       "                                         117766 \n",
       "                      [84]정보통신 설치·정비직 \n",
       "                                          17173 \n",
       "              [85]화학·환경 설치·정비·생산직 \n",
       "                                          38108 \n",
       "                          [86]섬유·의복 생산직 \n",
       "                                          19318 \n",
       "                           [87]식품가공·생산직 \n",
       "                                          50870 \n",
       "[88]인쇄·목재·공예 및 기타 설치·정비·생산직 \n",
       "                                          38810 \n",
       "                                [89]제조 단순직 \n",
       "                                         121196 \n",
       "                                 [90]농림어업직 \n",
       "                                          44451 \n",
       "                                    [y]분류불능 \n",
       "                                              1 "
      ]
     },
     "metadata": {},
     "output_type": "display_data"
    }
   ],
   "source": [
    "# 직종중분류명 확인\n",
    "table(jm4$직종중분류명)"
   ]
  },
  {
   "cell_type": "code",
   "execution_count": 25,
   "metadata": {
    "vscode": {
     "languageId": "r"
    }
   },
   "outputs": [
    {
     "data": {
      "text/html": [
       "<table class=\"dataframe\">\n",
       "<caption>A data.frame: 6 × 11</caption>\n",
       "<thead>\n",
       "\t<tr><th></th><th scope=col>직종중분류</th><th scope=col>마감년월2</th><th scope=col>근무시도명</th><th scope=col>직종버전</th><th scope=col>고용형태</th><th scope=col>거주시도명</th><th scope=col>성별</th><th scope=col>연령5세단위</th><th scope=col>학력</th><th scope=col>취업건수</th><th scope=col>직종중분류명</th></tr>\n",
       "\t<tr><th></th><th scope=col>&lt;chr&gt;</th><th scope=col>&lt;chr&gt;</th><th scope=col>&lt;chr&gt;</th><th scope=col>&lt;int&gt;</th><th scope=col>&lt;int&gt;</th><th scope=col>&lt;chr&gt;</th><th scope=col>&lt;chr&gt;</th><th scope=col>&lt;int&gt;</th><th scope=col>&lt;chr&gt;</th><th scope=col>&lt;int&gt;</th><th scope=col>&lt;chr&gt;</th></tr>\n",
       "</thead>\n",
       "<tbody>\n",
       "\t<tr><th scope=row>1</th><td>010000</td><td>2021-05</td><td>[0,00]지역무관</td><td>2018</td><td>10</td><td>[11]서울</td><td>F</td><td>3</td><td>3</td><td>1</td><td>[01]관리직(임원·부서장)</td></tr>\n",
       "\t<tr><th scope=row>2</th><td>010000</td><td>2021-09</td><td>[0,00]지역무관</td><td>2018</td><td>10</td><td>[11]서울</td><td>F</td><td>3</td><td>3</td><td>2</td><td>[01]관리직(임원·부서장)</td></tr>\n",
       "\t<tr><th scope=row>3</th><td>010000</td><td>2021-01</td><td>[11]서울      </td><td>2018</td><td>10</td><td>[11]서울</td><td>F</td><td>3</td><td>3</td><td>4</td><td>[01]관리직(임원·부서장)</td></tr>\n",
       "\t<tr><th scope=row>4</th><td>010000</td><td>2021-02</td><td>[11]서울      </td><td>2018</td><td>10</td><td>[11]서울</td><td>F</td><td>3</td><td>3</td><td>6</td><td>[01]관리직(임원·부서장)</td></tr>\n",
       "\t<tr><th scope=row>5</th><td>010000</td><td>2021-03</td><td>[11]서울      </td><td>2018</td><td>10</td><td>[11]서울</td><td>F</td><td>3</td><td>3</td><td>7</td><td>[01]관리직(임원·부서장)</td></tr>\n",
       "\t<tr><th scope=row>6</th><td>010000</td><td>2021-04</td><td>[11]서울      </td><td>2018</td><td>10</td><td>[11]서울</td><td>F</td><td>3</td><td>3</td><td>6</td><td>[01]관리직(임원·부서장)</td></tr>\n",
       "</tbody>\n",
       "</table>\n"
      ],
      "text/latex": [
       "A data.frame: 6 × 11\n",
       "\\begin{tabular}{r|lllllllllll}\n",
       "  & 직종중분류 & 마감년월2 & 근무시도명 & 직종버전 & 고용형태 & 거주시도명 & 성별 & 연령5세단위 & 학력 & 취업건수 & 직종중분류명\\\\\n",
       "  & <chr> & <chr> & <chr> & <int> & <int> & <chr> & <chr> & <int> & <chr> & <int> & <chr>\\\\\n",
       "\\hline\n",
       "\t1 & 010000 & 2021-05 & {[}0,00{]}지역무관 & 2018 & 10 & {[}11{]}서울 & F & 3 & 3 & 1 & {[}01{]}관리직(임원·부서장)\\\\\n",
       "\t2 & 010000 & 2021-09 & {[}0,00{]}지역무관 & 2018 & 10 & {[}11{]}서울 & F & 3 & 3 & 2 & {[}01{]}관리직(임원·부서장)\\\\\n",
       "\t3 & 010000 & 2021-01 & {[}11{]}서울       & 2018 & 10 & {[}11{]}서울 & F & 3 & 3 & 4 & {[}01{]}관리직(임원·부서장)\\\\\n",
       "\t4 & 010000 & 2021-02 & {[}11{]}서울       & 2018 & 10 & {[}11{]}서울 & F & 3 & 3 & 6 & {[}01{]}관리직(임원·부서장)\\\\\n",
       "\t5 & 010000 & 2021-03 & {[}11{]}서울       & 2018 & 10 & {[}11{]}서울 & F & 3 & 3 & 7 & {[}01{]}관리직(임원·부서장)\\\\\n",
       "\t6 & 010000 & 2021-04 & {[}11{]}서울       & 2018 & 10 & {[}11{]}서울 & F & 3 & 3 & 6 & {[}01{]}관리직(임원·부서장)\\\\\n",
       "\\end{tabular}\n"
      ],
      "text/markdown": [
       "\n",
       "A data.frame: 6 × 11\n",
       "\n",
       "| <!--/--> | 직종중분류 &lt;chr&gt; | 마감년월2 &lt;chr&gt; | 근무시도명 &lt;chr&gt; | 직종버전 &lt;int&gt; | 고용형태 &lt;int&gt; | 거주시도명 &lt;chr&gt; | 성별 &lt;chr&gt; | 연령5세단위 &lt;int&gt; | 학력 &lt;chr&gt; | 취업건수 &lt;int&gt; | 직종중분류명 &lt;chr&gt; |\n",
       "|---|---|---|---|---|---|---|---|---|---|---|---|\n",
       "| 1 | 010000 | 2021-05 | [0,00]지역무관 | 2018 | 10 | [11]서울 | F | 3 | 3 | 1 | [01]관리직(임원·부서장) |\n",
       "| 2 | 010000 | 2021-09 | [0,00]지역무관 | 2018 | 10 | [11]서울 | F | 3 | 3 | 2 | [01]관리직(임원·부서장) |\n",
       "| 3 | 010000 | 2021-01 | [11]서울       | 2018 | 10 | [11]서울 | F | 3 | 3 | 4 | [01]관리직(임원·부서장) |\n",
       "| 4 | 010000 | 2021-02 | [11]서울       | 2018 | 10 | [11]서울 | F | 3 | 3 | 6 | [01]관리직(임원·부서장) |\n",
       "| 5 | 010000 | 2021-03 | [11]서울       | 2018 | 10 | [11]서울 | F | 3 | 3 | 7 | [01]관리직(임원·부서장) |\n",
       "| 6 | 010000 | 2021-04 | [11]서울       | 2018 | 10 | [11]서울 | F | 3 | 3 | 6 | [01]관리직(임원·부서장) |\n",
       "\n"
      ],
      "text/plain": [
       "  직종중분류 마감년월2 근무시도명     직종버전 고용형태 거주시도명 성별\n",
       "1 010000     2021-05   [0,00]지역무관 2018     10       [11]서울   F   \n",
       "2 010000     2021-09   [0,00]지역무관 2018     10       [11]서울   F   \n",
       "3 010000     2021-01   [11]서울       2018     10       [11]서울   F   \n",
       "4 010000     2021-02   [11]서울       2018     10       [11]서울   F   \n",
       "5 010000     2021-03   [11]서울       2018     10       [11]서울   F   \n",
       "6 010000     2021-04   [11]서울       2018     10       [11]서울   F   \n",
       "  연령5세단위 학력 취업건수 직종중분류명            \n",
       "1 3           3    1        [01]관리직(임원·부서장)\n",
       "2 3           3    2        [01]관리직(임원·부서장)\n",
       "3 3           3    4        [01]관리직(임원·부서장)\n",
       "4 3           3    6        [01]관리직(임원·부서장)\n",
       "5 3           3    7        [01]관리직(임원·부서장)\n",
       "6 3           3    6        [01]관리직(임원·부서장)"
      ]
     },
     "metadata": {},
     "output_type": "display_data"
    }
   ],
   "source": [
    "head(jm4)"
   ]
  },
  {
   "cell_type": "code",
   "execution_count": 26,
   "metadata": {
    "vscode": {
     "languageId": "r"
    }
   },
   "outputs": [],
   "source": [
    "# 직종중분류와 직종버전을 제외하고 jm5 변수에 저장한다.\n",
    "jm5 = aggregate(취업건수 ~ 마감년월2+근무시도명+직종중분류명+고용형태+거주시도명+성별+연령5세단위+학력, data=jm4, sum)"
   ]
  },
  {
   "cell_type": "code",
   "execution_count": 27,
   "metadata": {
    "vscode": {
     "languageId": "r"
    }
   },
   "outputs": [
    {
     "data": {
      "text/html": [
       "10052864"
      ],
      "text/latex": [
       "10052864"
      ],
      "text/markdown": [
       "10052864"
      ],
      "text/plain": [
       "[1] 10052864"
      ]
     },
     "metadata": {},
     "output_type": "display_data"
    },
    {
     "data": {
      "text/html": [
       "10052864"
      ],
      "text/latex": [
       "10052864"
      ],
      "text/markdown": [
       "10052864"
      ],
      "text/plain": [
       "[1] 10052864"
      ]
     },
     "metadata": {},
     "output_type": "display_data"
    }
   ],
   "source": [
    "sum(jm4$취업건수)\n",
    "sum(jm5$취업건수)"
   ]
  },
  {
   "cell_type": "code",
   "execution_count": 28,
   "metadata": {
    "vscode": {
     "languageId": "r"
    }
   },
   "outputs": [
    {
     "data": {
      "text/html": [
       "<table class=\"dataframe\">\n",
       "<caption>A data.frame: 6 × 9</caption>\n",
       "<thead>\n",
       "\t<tr><th></th><th scope=col>마감년월2</th><th scope=col>근무시도명</th><th scope=col>직종중분류명</th><th scope=col>고용형태</th><th scope=col>거주시도명</th><th scope=col>성별</th><th scope=col>연령5세단위</th><th scope=col>학력</th><th scope=col>취업건수</th></tr>\n",
       "\t<tr><th></th><th scope=col>&lt;chr&gt;</th><th scope=col>&lt;chr&gt;</th><th scope=col>&lt;chr&gt;</th><th scope=col>&lt;int&gt;</th><th scope=col>&lt;chr&gt;</th><th scope=col>&lt;chr&gt;</th><th scope=col>&lt;int&gt;</th><th scope=col>&lt;chr&gt;</th><th scope=col>&lt;int&gt;</th></tr>\n",
       "</thead>\n",
       "<tbody>\n",
       "\t<tr><th scope=row>1</th><td>2018-02</td><td>[0,00]지역무관</td><td>[01]관리직(임원·부서장)</td><td>10</td><td>[11]서울</td><td>F</td><td>3</td><td>3</td><td>1</td></tr>\n",
       "\t<tr><th scope=row>2</th><td>2018-04</td><td>[0,00]지역무관</td><td>[01]관리직(임원·부서장)</td><td>10</td><td>[11]서울</td><td>F</td><td>3</td><td>3</td><td>1</td></tr>\n",
       "\t<tr><th scope=row>3</th><td>2018-05</td><td>[0,00]지역무관</td><td>[01]관리직(임원·부서장)</td><td>10</td><td>[11]서울</td><td>F</td><td>3</td><td>3</td><td>1</td></tr>\n",
       "\t<tr><th scope=row>4</th><td>2018-06</td><td>[0,00]지역무관</td><td>[01]관리직(임원·부서장)</td><td>10</td><td>[11]서울</td><td>F</td><td>3</td><td>3</td><td>1</td></tr>\n",
       "\t<tr><th scope=row>5</th><td>2018-07</td><td>[0,00]지역무관</td><td>[01]관리직(임원·부서장)</td><td>10</td><td>[11]서울</td><td>F</td><td>3</td><td>3</td><td>1</td></tr>\n",
       "\t<tr><th scope=row>6</th><td>2018-09</td><td>[0,00]지역무관</td><td>[01]관리직(임원·부서장)</td><td>10</td><td>[11]서울</td><td>F</td><td>3</td><td>3</td><td>1</td></tr>\n",
       "</tbody>\n",
       "</table>\n"
      ],
      "text/latex": [
       "A data.frame: 6 × 9\n",
       "\\begin{tabular}{r|lllllllll}\n",
       "  & 마감년월2 & 근무시도명 & 직종중분류명 & 고용형태 & 거주시도명 & 성별 & 연령5세단위 & 학력 & 취업건수\\\\\n",
       "  & <chr> & <chr> & <chr> & <int> & <chr> & <chr> & <int> & <chr> & <int>\\\\\n",
       "\\hline\n",
       "\t1 & 2018-02 & {[}0,00{]}지역무관 & {[}01{]}관리직(임원·부서장) & 10 & {[}11{]}서울 & F & 3 & 3 & 1\\\\\n",
       "\t2 & 2018-04 & {[}0,00{]}지역무관 & {[}01{]}관리직(임원·부서장) & 10 & {[}11{]}서울 & F & 3 & 3 & 1\\\\\n",
       "\t3 & 2018-05 & {[}0,00{]}지역무관 & {[}01{]}관리직(임원·부서장) & 10 & {[}11{]}서울 & F & 3 & 3 & 1\\\\\n",
       "\t4 & 2018-06 & {[}0,00{]}지역무관 & {[}01{]}관리직(임원·부서장) & 10 & {[}11{]}서울 & F & 3 & 3 & 1\\\\\n",
       "\t5 & 2018-07 & {[}0,00{]}지역무관 & {[}01{]}관리직(임원·부서장) & 10 & {[}11{]}서울 & F & 3 & 3 & 1\\\\\n",
       "\t6 & 2018-09 & {[}0,00{]}지역무관 & {[}01{]}관리직(임원·부서장) & 10 & {[}11{]}서울 & F & 3 & 3 & 1\\\\\n",
       "\\end{tabular}\n"
      ],
      "text/markdown": [
       "\n",
       "A data.frame: 6 × 9\n",
       "\n",
       "| <!--/--> | 마감년월2 &lt;chr&gt; | 근무시도명 &lt;chr&gt; | 직종중분류명 &lt;chr&gt; | 고용형태 &lt;int&gt; | 거주시도명 &lt;chr&gt; | 성별 &lt;chr&gt; | 연령5세단위 &lt;int&gt; | 학력 &lt;chr&gt; | 취업건수 &lt;int&gt; |\n",
       "|---|---|---|---|---|---|---|---|---|---|\n",
       "| 1 | 2018-02 | [0,00]지역무관 | [01]관리직(임원·부서장) | 10 | [11]서울 | F | 3 | 3 | 1 |\n",
       "| 2 | 2018-04 | [0,00]지역무관 | [01]관리직(임원·부서장) | 10 | [11]서울 | F | 3 | 3 | 1 |\n",
       "| 3 | 2018-05 | [0,00]지역무관 | [01]관리직(임원·부서장) | 10 | [11]서울 | F | 3 | 3 | 1 |\n",
       "| 4 | 2018-06 | [0,00]지역무관 | [01]관리직(임원·부서장) | 10 | [11]서울 | F | 3 | 3 | 1 |\n",
       "| 5 | 2018-07 | [0,00]지역무관 | [01]관리직(임원·부서장) | 10 | [11]서울 | F | 3 | 3 | 1 |\n",
       "| 6 | 2018-09 | [0,00]지역무관 | [01]관리직(임원·부서장) | 10 | [11]서울 | F | 3 | 3 | 1 |\n",
       "\n"
      ],
      "text/plain": [
       "  마감년월2 근무시도명     직종중분류명             고용형태 거주시도명 성별\n",
       "1 2018-02   [0,00]지역무관 [01]관리직(임원·부서장) 10       [11]서울   F   \n",
       "2 2018-04   [0,00]지역무관 [01]관리직(임원·부서장) 10       [11]서울   F   \n",
       "3 2018-05   [0,00]지역무관 [01]관리직(임원·부서장) 10       [11]서울   F   \n",
       "4 2018-06   [0,00]지역무관 [01]관리직(임원·부서장) 10       [11]서울   F   \n",
       "5 2018-07   [0,00]지역무관 [01]관리직(임원·부서장) 10       [11]서울   F   \n",
       "6 2018-09   [0,00]지역무관 [01]관리직(임원·부서장) 10       [11]서울   F   \n",
       "  연령5세단위 학력 취업건수\n",
       "1 3           3    1       \n",
       "2 3           3    1       \n",
       "3 3           3    1       \n",
       "4 3           3    1       \n",
       "5 3           3    1       \n",
       "6 3           3    1       "
      ]
     },
     "metadata": {},
     "output_type": "display_data"
    },
    {
     "data": {
      "text/html": [
       "2561691"
      ],
      "text/latex": [
       "2561691"
      ],
      "text/markdown": [
       "2561691"
      ],
      "text/plain": [
       "[1] 2561691"
      ]
     },
     "metadata": {},
     "output_type": "display_data"
    }
   ],
   "source": [
    "# 변환된 자료 확인\n",
    "head(jm5)\n",
    "nrow(jm5)  # 256만줄의 데이터가 존재한다."
   ]
  },
  {
   "cell_type": "markdown",
   "metadata": {},
   "source": [
    "##### 5. 고용형태\n",
    "\n",
    "고용형태는 취업자의 고용형태가 기간의 정함이 있는지, 전일제인지 시간제인지, 아니면 일용직인지 등을 나타낸다."
   ]
  },
  {
   "cell_type": "code",
   "execution_count": 29,
   "metadata": {
    "vscode": {
     "languageId": "r"
    }
   },
   "outputs": [
    {
     "data": {
      "text/plain": [
       "\n",
       "     10      11      20      21      88      99 \n",
       "1086966  214769  333555  110346   44148  771907 "
      ]
     },
     "metadata": {},
     "output_type": "display_data"
    }
   ],
   "source": [
    "# 고용형태 자료 확인인\n",
    "table(jm5$고용형태)"
   ]
  },
  {
   "cell_type": "markdown",
   "metadata": {},
   "source": [
    "그런데, 관계없음을 나타내는 '99' 값이 전체 자료에서 차지하는 비중이 약 30%로 크기 때문에 분석에 적합하지 않다고 판단된다.  \n",
    "그래서 고용형태 컬럼은 삭제하기로 한다."
   ]
  },
  {
   "cell_type": "code",
   "execution_count": 30,
   "metadata": {
    "vscode": {
     "languageId": "r"
    }
   },
   "outputs": [],
   "source": [
    "# 고용형태를 제외하고 jm6 변수에 저장한다.\n",
    "jm6 = aggregate(취업건수 ~ 마감년월2+근무시도명+직종중분류명+거주시도명+성별+연령5세단위+학력, data=jm5, sum)"
   ]
  },
  {
   "cell_type": "code",
   "execution_count": 31,
   "metadata": {
    "vscode": {
     "languageId": "r"
    }
   },
   "outputs": [
    {
     "data": {
      "text/html": [
       "10052864"
      ],
      "text/latex": [
       "10052864"
      ],
      "text/markdown": [
       "10052864"
      ],
      "text/plain": [
       "[1] 10052864"
      ]
     },
     "metadata": {},
     "output_type": "display_data"
    },
    {
     "data": {
      "text/html": [
       "10052864"
      ],
      "text/latex": [
       "10052864"
      ],
      "text/markdown": [
       "10052864"
      ],
      "text/plain": [
       "[1] 10052864"
      ]
     },
     "metadata": {},
     "output_type": "display_data"
    }
   ],
   "source": [
    "sum(jm5$취업건수)\n",
    "sum(jm6$취업건수)"
   ]
  },
  {
   "cell_type": "code",
   "execution_count": 32,
   "metadata": {
    "vscode": {
     "languageId": "r"
    }
   },
   "outputs": [
    {
     "data": {
      "text/html": [
       "<table class=\"dataframe\">\n",
       "<caption>A data.frame: 6 × 8</caption>\n",
       "<thead>\n",
       "\t<tr><th></th><th scope=col>마감년월2</th><th scope=col>근무시도명</th><th scope=col>직종중분류명</th><th scope=col>거주시도명</th><th scope=col>성별</th><th scope=col>연령5세단위</th><th scope=col>학력</th><th scope=col>취업건수</th></tr>\n",
       "\t<tr><th></th><th scope=col>&lt;chr&gt;</th><th scope=col>&lt;chr&gt;</th><th scope=col>&lt;chr&gt;</th><th scope=col>&lt;chr&gt;</th><th scope=col>&lt;chr&gt;</th><th scope=col>&lt;int&gt;</th><th scope=col>&lt;chr&gt;</th><th scope=col>&lt;int&gt;</th></tr>\n",
       "</thead>\n",
       "<tbody>\n",
       "\t<tr><th scope=row>1</th><td>2018-02</td><td>[0,00]지역무관</td><td>[01]관리직(임원·부서장)</td><td>[11]서울</td><td>F</td><td>3</td><td>3</td><td>1</td></tr>\n",
       "\t<tr><th scope=row>2</th><td>2018-04</td><td>[0,00]지역무관</td><td>[01]관리직(임원·부서장)</td><td>[11]서울</td><td>F</td><td>3</td><td>3</td><td>1</td></tr>\n",
       "\t<tr><th scope=row>3</th><td>2018-05</td><td>[0,00]지역무관</td><td>[01]관리직(임원·부서장)</td><td>[11]서울</td><td>F</td><td>3</td><td>3</td><td>1</td></tr>\n",
       "\t<tr><th scope=row>4</th><td>2018-06</td><td>[0,00]지역무관</td><td>[01]관리직(임원·부서장)</td><td>[11]서울</td><td>F</td><td>3</td><td>3</td><td>1</td></tr>\n",
       "\t<tr><th scope=row>5</th><td>2018-07</td><td>[0,00]지역무관</td><td>[01]관리직(임원·부서장)</td><td>[11]서울</td><td>F</td><td>3</td><td>3</td><td>2</td></tr>\n",
       "\t<tr><th scope=row>6</th><td>2018-09</td><td>[0,00]지역무관</td><td>[01]관리직(임원·부서장)</td><td>[11]서울</td><td>F</td><td>3</td><td>3</td><td>1</td></tr>\n",
       "</tbody>\n",
       "</table>\n"
      ],
      "text/latex": [
       "A data.frame: 6 × 8\n",
       "\\begin{tabular}{r|llllllll}\n",
       "  & 마감년월2 & 근무시도명 & 직종중분류명 & 거주시도명 & 성별 & 연령5세단위 & 학력 & 취업건수\\\\\n",
       "  & <chr> & <chr> & <chr> & <chr> & <chr> & <int> & <chr> & <int>\\\\\n",
       "\\hline\n",
       "\t1 & 2018-02 & {[}0,00{]}지역무관 & {[}01{]}관리직(임원·부서장) & {[}11{]}서울 & F & 3 & 3 & 1\\\\\n",
       "\t2 & 2018-04 & {[}0,00{]}지역무관 & {[}01{]}관리직(임원·부서장) & {[}11{]}서울 & F & 3 & 3 & 1\\\\\n",
       "\t3 & 2018-05 & {[}0,00{]}지역무관 & {[}01{]}관리직(임원·부서장) & {[}11{]}서울 & F & 3 & 3 & 1\\\\\n",
       "\t4 & 2018-06 & {[}0,00{]}지역무관 & {[}01{]}관리직(임원·부서장) & {[}11{]}서울 & F & 3 & 3 & 1\\\\\n",
       "\t5 & 2018-07 & {[}0,00{]}지역무관 & {[}01{]}관리직(임원·부서장) & {[}11{]}서울 & F & 3 & 3 & 2\\\\\n",
       "\t6 & 2018-09 & {[}0,00{]}지역무관 & {[}01{]}관리직(임원·부서장) & {[}11{]}서울 & F & 3 & 3 & 1\\\\\n",
       "\\end{tabular}\n"
      ],
      "text/markdown": [
       "\n",
       "A data.frame: 6 × 8\n",
       "\n",
       "| <!--/--> | 마감년월2 &lt;chr&gt; | 근무시도명 &lt;chr&gt; | 직종중분류명 &lt;chr&gt; | 거주시도명 &lt;chr&gt; | 성별 &lt;chr&gt; | 연령5세단위 &lt;int&gt; | 학력 &lt;chr&gt; | 취업건수 &lt;int&gt; |\n",
       "|---|---|---|---|---|---|---|---|---|\n",
       "| 1 | 2018-02 | [0,00]지역무관 | [01]관리직(임원·부서장) | [11]서울 | F | 3 | 3 | 1 |\n",
       "| 2 | 2018-04 | [0,00]지역무관 | [01]관리직(임원·부서장) | [11]서울 | F | 3 | 3 | 1 |\n",
       "| 3 | 2018-05 | [0,00]지역무관 | [01]관리직(임원·부서장) | [11]서울 | F | 3 | 3 | 1 |\n",
       "| 4 | 2018-06 | [0,00]지역무관 | [01]관리직(임원·부서장) | [11]서울 | F | 3 | 3 | 1 |\n",
       "| 5 | 2018-07 | [0,00]지역무관 | [01]관리직(임원·부서장) | [11]서울 | F | 3 | 3 | 2 |\n",
       "| 6 | 2018-09 | [0,00]지역무관 | [01]관리직(임원·부서장) | [11]서울 | F | 3 | 3 | 1 |\n",
       "\n"
      ],
      "text/plain": [
       "  마감년월2 근무시도명     직종중분류명             거주시도명 성별 연령5세단위\n",
       "1 2018-02   [0,00]지역무관 [01]관리직(임원·부서장) [11]서울   F    3          \n",
       "2 2018-04   [0,00]지역무관 [01]관리직(임원·부서장) [11]서울   F    3          \n",
       "3 2018-05   [0,00]지역무관 [01]관리직(임원·부서장) [11]서울   F    3          \n",
       "4 2018-06   [0,00]지역무관 [01]관리직(임원·부서장) [11]서울   F    3          \n",
       "5 2018-07   [0,00]지역무관 [01]관리직(임원·부서장) [11]서울   F    3          \n",
       "6 2018-09   [0,00]지역무관 [01]관리직(임원·부서장) [11]서울   F    3          \n",
       "  학력 취업건수\n",
       "1 3    1       \n",
       "2 3    1       \n",
       "3 3    1       \n",
       "4 3    1       \n",
       "5 3    2       \n",
       "6 3    1       "
      ]
     },
     "metadata": {},
     "output_type": "display_data"
    },
    {
     "data": {
      "text/html": [
       "1545697"
      ],
      "text/latex": [
       "1545697"
      ],
      "text/markdown": [
       "1545697"
      ],
      "text/plain": [
       "[1] 1545697"
      ]
     },
     "metadata": {},
     "output_type": "display_data"
    }
   ],
   "source": [
    "# 변환된 자료 확인\n",
    "head(jm6)\n",
    "nrow(jm6)  # 154만줄의 데이터가 존재한다."
   ]
  },
  {
   "cell_type": "markdown",
   "metadata": {},
   "source": [
    "##### 6. 성별\n",
    "\n",
    "성별은 단순히 F, M 으로 나누어져 있다."
   ]
  },
  {
   "cell_type": "code",
   "execution_count": 33,
   "metadata": {
    "vscode": {
     "languageId": "r"
    }
   },
   "outputs": [
    {
     "data": {
      "text/plain": [
       "\n",
       "     F      M \n",
       "639017 906680 "
      ]
     },
     "metadata": {},
     "output_type": "display_data"
    }
   ],
   "source": [
    "# 성별 확인\n",
    "table(jm6$성별)"
   ]
  },
  {
   "cell_type": "code",
   "execution_count": 34,
   "metadata": {
    "vscode": {
     "languageId": "r"
    }
   },
   "outputs": [],
   "source": [
    "# F->'여', M->'남' 으로 변환한다.\n",
    "jm6$성별[jm6$성별 == \"F\"] <- \"여\"\n",
    "jm6$성별[jm6$성별 == \"M\"] <- \"남\""
   ]
  },
  {
   "cell_type": "markdown",
   "metadata": {},
   "source": [
    "##### 7. 연령5세단위\n",
    "\n",
    "연령5세단위 컬럼은 03->'29세 이하' 이고, 04, 05, 06 순으로 5세씩 끊어서 연령을 그룹핑한 결과이다."
   ]
  },
  {
   "cell_type": "code",
   "execution_count": 35,
   "metadata": {
    "vscode": {
     "languageId": "r"
    }
   },
   "outputs": [
    {
     "data": {
      "text/plain": [
       "\n",
       "     3      4      5      6      7      8      9     10     11     12 \n",
       "346930 186694 167084 166419 166802 160643 144880 135086  71158      1 "
      ]
     },
     "metadata": {},
     "output_type": "display_data"
    }
   ],
   "source": [
    "# 연령5세단위 확인\n",
    "table(jm6$연령5세단위)"
   ]
  },
  {
   "cell_type": "markdown",
   "metadata": {},
   "source": [
    "연령은 10세 단위로 변환하기로 한다."
   ]
  },
  {
   "cell_type": "code",
   "execution_count": 36,
   "metadata": {
    "vscode": {
     "languageId": "r"
    }
   },
   "outputs": [],
   "source": [
    "# 연령 매핑 데이터 생성\n",
    "mapping <- data.frame(\n",
    "  코드 = c(3,4,5,6,7,8,9,10,11,12),\n",
    "  연령 = c(\"29세 이하\", \"30대\", \"30대\", \"40대\", \"40대\", \"50대\", \"50대\", \"60세 이상\", \"60세 이상\", \"무관\")\n",
    ")\n",
    "\n",
    "# 연령령 매핑\n",
    "jm6 <- merge(jm6, mapping, by.x = \"연령5세단위\", by.y = \"코드\", all.x = TRUE)\n",
    "colnames(jm6)[ncol(jm6)] <- \"연령\""
   ]
  },
  {
   "cell_type": "code",
   "execution_count": 37,
   "metadata": {
    "vscode": {
     "languageId": "r"
    }
   },
   "outputs": [
    {
     "data": {
      "text/html": [
       "<table class=\"dataframe\">\n",
       "<caption>A data.frame: 6 × 9</caption>\n",
       "<thead>\n",
       "\t<tr><th></th><th scope=col>연령5세단위</th><th scope=col>마감년월2</th><th scope=col>근무시도명</th><th scope=col>직종중분류명</th><th scope=col>거주시도명</th><th scope=col>성별</th><th scope=col>학력</th><th scope=col>취업건수</th><th scope=col>연령</th></tr>\n",
       "\t<tr><th></th><th scope=col>&lt;int&gt;</th><th scope=col>&lt;chr&gt;</th><th scope=col>&lt;chr&gt;</th><th scope=col>&lt;chr&gt;</th><th scope=col>&lt;chr&gt;</th><th scope=col>&lt;chr&gt;</th><th scope=col>&lt;chr&gt;</th><th scope=col>&lt;int&gt;</th><th scope=col>&lt;chr&gt;</th></tr>\n",
       "</thead>\n",
       "<tbody>\n",
       "\t<tr><th scope=row>1</th><td>3</td><td>2018-02</td><td>[0,00]지역무관</td><td>[01]관리직(임원·부서장)</td><td>[11]서울</td><td>여</td><td>3</td><td>1</td><td>29세 이하</td></tr>\n",
       "\t<tr><th scope=row>2</th><td>3</td><td>2018-04</td><td>[0,00]지역무관</td><td>[01]관리직(임원·부서장)</td><td>[11]서울</td><td>여</td><td>3</td><td>1</td><td>29세 이하</td></tr>\n",
       "\t<tr><th scope=row>3</th><td>3</td><td>2018-05</td><td>[0,00]지역무관</td><td>[01]관리직(임원·부서장)</td><td>[11]서울</td><td>여</td><td>3</td><td>1</td><td>29세 이하</td></tr>\n",
       "\t<tr><th scope=row>4</th><td>3</td><td>2018-06</td><td>[0,00]지역무관</td><td>[01]관리직(임원·부서장)</td><td>[11]서울</td><td>여</td><td>3</td><td>1</td><td>29세 이하</td></tr>\n",
       "\t<tr><th scope=row>5</th><td>3</td><td>2018-07</td><td>[0,00]지역무관</td><td>[01]관리직(임원·부서장)</td><td>[11]서울</td><td>여</td><td>3</td><td>2</td><td>29세 이하</td></tr>\n",
       "\t<tr><th scope=row>6</th><td>3</td><td>2018-09</td><td>[0,00]지역무관</td><td>[01]관리직(임원·부서장)</td><td>[11]서울</td><td>여</td><td>3</td><td>1</td><td>29세 이하</td></tr>\n",
       "</tbody>\n",
       "</table>\n"
      ],
      "text/latex": [
       "A data.frame: 6 × 9\n",
       "\\begin{tabular}{r|lllllllll}\n",
       "  & 연령5세단위 & 마감년월2 & 근무시도명 & 직종중분류명 & 거주시도명 & 성별 & 학력 & 취업건수 & 연령\\\\\n",
       "  & <int> & <chr> & <chr> & <chr> & <chr> & <chr> & <chr> & <int> & <chr>\\\\\n",
       "\\hline\n",
       "\t1 & 3 & 2018-02 & {[}0,00{]}지역무관 & {[}01{]}관리직(임원·부서장) & {[}11{]}서울 & 여 & 3 & 1 & 29세 이하\\\\\n",
       "\t2 & 3 & 2018-04 & {[}0,00{]}지역무관 & {[}01{]}관리직(임원·부서장) & {[}11{]}서울 & 여 & 3 & 1 & 29세 이하\\\\\n",
       "\t3 & 3 & 2018-05 & {[}0,00{]}지역무관 & {[}01{]}관리직(임원·부서장) & {[}11{]}서울 & 여 & 3 & 1 & 29세 이하\\\\\n",
       "\t4 & 3 & 2018-06 & {[}0,00{]}지역무관 & {[}01{]}관리직(임원·부서장) & {[}11{]}서울 & 여 & 3 & 1 & 29세 이하\\\\\n",
       "\t5 & 3 & 2018-07 & {[}0,00{]}지역무관 & {[}01{]}관리직(임원·부서장) & {[}11{]}서울 & 여 & 3 & 2 & 29세 이하\\\\\n",
       "\t6 & 3 & 2018-09 & {[}0,00{]}지역무관 & {[}01{]}관리직(임원·부서장) & {[}11{]}서울 & 여 & 3 & 1 & 29세 이하\\\\\n",
       "\\end{tabular}\n"
      ],
      "text/markdown": [
       "\n",
       "A data.frame: 6 × 9\n",
       "\n",
       "| <!--/--> | 연령5세단위 &lt;int&gt; | 마감년월2 &lt;chr&gt; | 근무시도명 &lt;chr&gt; | 직종중분류명 &lt;chr&gt; | 거주시도명 &lt;chr&gt; | 성별 &lt;chr&gt; | 학력 &lt;chr&gt; | 취업건수 &lt;int&gt; | 연령 &lt;chr&gt; |\n",
       "|---|---|---|---|---|---|---|---|---|---|\n",
       "| 1 | 3 | 2018-02 | [0,00]지역무관 | [01]관리직(임원·부서장) | [11]서울 | 여 | 3 | 1 | 29세 이하 |\n",
       "| 2 | 3 | 2018-04 | [0,00]지역무관 | [01]관리직(임원·부서장) | [11]서울 | 여 | 3 | 1 | 29세 이하 |\n",
       "| 3 | 3 | 2018-05 | [0,00]지역무관 | [01]관리직(임원·부서장) | [11]서울 | 여 | 3 | 1 | 29세 이하 |\n",
       "| 4 | 3 | 2018-06 | [0,00]지역무관 | [01]관리직(임원·부서장) | [11]서울 | 여 | 3 | 1 | 29세 이하 |\n",
       "| 5 | 3 | 2018-07 | [0,00]지역무관 | [01]관리직(임원·부서장) | [11]서울 | 여 | 3 | 2 | 29세 이하 |\n",
       "| 6 | 3 | 2018-09 | [0,00]지역무관 | [01]관리직(임원·부서장) | [11]서울 | 여 | 3 | 1 | 29세 이하 |\n",
       "\n"
      ],
      "text/plain": [
       "  연령5세단위 마감년월2 근무시도명     직종중분류명             거주시도명 성별\n",
       "1 3           2018-02   [0,00]지역무관 [01]관리직(임원·부서장) [11]서울   여  \n",
       "2 3           2018-04   [0,00]지역무관 [01]관리직(임원·부서장) [11]서울   여  \n",
       "3 3           2018-05   [0,00]지역무관 [01]관리직(임원·부서장) [11]서울   여  \n",
       "4 3           2018-06   [0,00]지역무관 [01]관리직(임원·부서장) [11]서울   여  \n",
       "5 3           2018-07   [0,00]지역무관 [01]관리직(임원·부서장) [11]서울   여  \n",
       "6 3           2018-09   [0,00]지역무관 [01]관리직(임원·부서장) [11]서울   여  \n",
       "  학력 취업건수 연령     \n",
       "1 3    1        29세 이하\n",
       "2 3    1        29세 이하\n",
       "3 3    1        29세 이하\n",
       "4 3    1        29세 이하\n",
       "5 3    2        29세 이하\n",
       "6 3    1        29세 이하"
      ]
     },
     "metadata": {},
     "output_type": "display_data"
    },
    {
     "data": {
      "text/html": [
       "1545697"
      ],
      "text/latex": [
       "1545697"
      ],
      "text/markdown": [
       "1545697"
      ],
      "text/plain": [
       "[1] 1545697"
      ]
     },
     "metadata": {},
     "output_type": "display_data"
    }
   ],
   "source": [
    "# 변환된 자료 확인\n",
    "head(jm6)\n",
    "nrow(jm6)  # 154만줄의 데이터가 존재한다."
   ]
  },
  {
   "cell_type": "code",
   "execution_count": 38,
   "metadata": {
    "vscode": {
     "languageId": "r"
    }
   },
   "outputs": [],
   "source": [
    "# 연령5세단위를 제외하고 jm7 변수에 저장한다.\n",
    "jm7 = aggregate(취업건수 ~ 마감년월2+근무시도명+직종중분류명+거주시도명+성별+연령+학력, data=jm6, sum)"
   ]
  },
  {
   "cell_type": "code",
   "execution_count": 39,
   "metadata": {
    "vscode": {
     "languageId": "r"
    }
   },
   "outputs": [
    {
     "data": {
      "text/html": [
       "10052864"
      ],
      "text/latex": [
       "10052864"
      ],
      "text/markdown": [
       "10052864"
      ],
      "text/plain": [
       "[1] 10052864"
      ]
     },
     "metadata": {},
     "output_type": "display_data"
    },
    {
     "data": {
      "text/html": [
       "10052864"
      ],
      "text/latex": [
       "10052864"
      ],
      "text/markdown": [
       "10052864"
      ],
      "text/plain": [
       "[1] 10052864"
      ]
     },
     "metadata": {},
     "output_type": "display_data"
    }
   ],
   "source": [
    "sum(jm6$취업건수)\n",
    "sum(jm7$취업건수)"
   ]
  },
  {
   "cell_type": "code",
   "execution_count": 40,
   "metadata": {
    "vscode": {
     "languageId": "r"
    }
   },
   "outputs": [
    {
     "data": {
      "text/html": [
       "<table class=\"dataframe\">\n",
       "<caption>A data.frame: 6 × 8</caption>\n",
       "<thead>\n",
       "\t<tr><th></th><th scope=col>마감년월2</th><th scope=col>근무시도명</th><th scope=col>직종중분류명</th><th scope=col>거주시도명</th><th scope=col>성별</th><th scope=col>연령</th><th scope=col>학력</th><th scope=col>취업건수</th></tr>\n",
       "\t<tr><th></th><th scope=col>&lt;chr&gt;</th><th scope=col>&lt;chr&gt;</th><th scope=col>&lt;chr&gt;</th><th scope=col>&lt;chr&gt;</th><th scope=col>&lt;chr&gt;</th><th scope=col>&lt;chr&gt;</th><th scope=col>&lt;chr&gt;</th><th scope=col>&lt;int&gt;</th></tr>\n",
       "</thead>\n",
       "<tbody>\n",
       "\t<tr><th scope=row>1</th><td>2018-01</td><td>[0,00]지역무관</td><td>[01]관리직(임원·부서장)</td><td>[11]서울</td><td>남</td><td>29세 이하</td><td>3</td><td>3</td></tr>\n",
       "\t<tr><th scope=row>2</th><td>2018-02</td><td>[0,00]지역무관</td><td>[01]관리직(임원·부서장)</td><td>[11]서울</td><td>남</td><td>29세 이하</td><td>3</td><td>4</td></tr>\n",
       "\t<tr><th scope=row>3</th><td>2018-03</td><td>[0,00]지역무관</td><td>[01]관리직(임원·부서장)</td><td>[11]서울</td><td>남</td><td>29세 이하</td><td>3</td><td>3</td></tr>\n",
       "\t<tr><th scope=row>4</th><td>2018-04</td><td>[0,00]지역무관</td><td>[01]관리직(임원·부서장)</td><td>[11]서울</td><td>남</td><td>29세 이하</td><td>3</td><td>1</td></tr>\n",
       "\t<tr><th scope=row>5</th><td>2018-05</td><td>[0,00]지역무관</td><td>[01]관리직(임원·부서장)</td><td>[11]서울</td><td>남</td><td>29세 이하</td><td>3</td><td>1</td></tr>\n",
       "\t<tr><th scope=row>6</th><td>2018-06</td><td>[0,00]지역무관</td><td>[01]관리직(임원·부서장)</td><td>[11]서울</td><td>남</td><td>29세 이하</td><td>3</td><td>2</td></tr>\n",
       "</tbody>\n",
       "</table>\n"
      ],
      "text/latex": [
       "A data.frame: 6 × 8\n",
       "\\begin{tabular}{r|llllllll}\n",
       "  & 마감년월2 & 근무시도명 & 직종중분류명 & 거주시도명 & 성별 & 연령 & 학력 & 취업건수\\\\\n",
       "  & <chr> & <chr> & <chr> & <chr> & <chr> & <chr> & <chr> & <int>\\\\\n",
       "\\hline\n",
       "\t1 & 2018-01 & {[}0,00{]}지역무관 & {[}01{]}관리직(임원·부서장) & {[}11{]}서울 & 남 & 29세 이하 & 3 & 3\\\\\n",
       "\t2 & 2018-02 & {[}0,00{]}지역무관 & {[}01{]}관리직(임원·부서장) & {[}11{]}서울 & 남 & 29세 이하 & 3 & 4\\\\\n",
       "\t3 & 2018-03 & {[}0,00{]}지역무관 & {[}01{]}관리직(임원·부서장) & {[}11{]}서울 & 남 & 29세 이하 & 3 & 3\\\\\n",
       "\t4 & 2018-04 & {[}0,00{]}지역무관 & {[}01{]}관리직(임원·부서장) & {[}11{]}서울 & 남 & 29세 이하 & 3 & 1\\\\\n",
       "\t5 & 2018-05 & {[}0,00{]}지역무관 & {[}01{]}관리직(임원·부서장) & {[}11{]}서울 & 남 & 29세 이하 & 3 & 1\\\\\n",
       "\t6 & 2018-06 & {[}0,00{]}지역무관 & {[}01{]}관리직(임원·부서장) & {[}11{]}서울 & 남 & 29세 이하 & 3 & 2\\\\\n",
       "\\end{tabular}\n"
      ],
      "text/markdown": [
       "\n",
       "A data.frame: 6 × 8\n",
       "\n",
       "| <!--/--> | 마감년월2 &lt;chr&gt; | 근무시도명 &lt;chr&gt; | 직종중분류명 &lt;chr&gt; | 거주시도명 &lt;chr&gt; | 성별 &lt;chr&gt; | 연령 &lt;chr&gt; | 학력 &lt;chr&gt; | 취업건수 &lt;int&gt; |\n",
       "|---|---|---|---|---|---|---|---|---|\n",
       "| 1 | 2018-01 | [0,00]지역무관 | [01]관리직(임원·부서장) | [11]서울 | 남 | 29세 이하 | 3 | 3 |\n",
       "| 2 | 2018-02 | [0,00]지역무관 | [01]관리직(임원·부서장) | [11]서울 | 남 | 29세 이하 | 3 | 4 |\n",
       "| 3 | 2018-03 | [0,00]지역무관 | [01]관리직(임원·부서장) | [11]서울 | 남 | 29세 이하 | 3 | 3 |\n",
       "| 4 | 2018-04 | [0,00]지역무관 | [01]관리직(임원·부서장) | [11]서울 | 남 | 29세 이하 | 3 | 1 |\n",
       "| 5 | 2018-05 | [0,00]지역무관 | [01]관리직(임원·부서장) | [11]서울 | 남 | 29세 이하 | 3 | 1 |\n",
       "| 6 | 2018-06 | [0,00]지역무관 | [01]관리직(임원·부서장) | [11]서울 | 남 | 29세 이하 | 3 | 2 |\n",
       "\n"
      ],
      "text/plain": [
       "  마감년월2 근무시도명     직종중분류명             거주시도명 성별 연령     \n",
       "1 2018-01   [0,00]지역무관 [01]관리직(임원·부서장) [11]서울   남   29세 이하\n",
       "2 2018-02   [0,00]지역무관 [01]관리직(임원·부서장) [11]서울   남   29세 이하\n",
       "3 2018-03   [0,00]지역무관 [01]관리직(임원·부서장) [11]서울   남   29세 이하\n",
       "4 2018-04   [0,00]지역무관 [01]관리직(임원·부서장) [11]서울   남   29세 이하\n",
       "5 2018-05   [0,00]지역무관 [01]관리직(임원·부서장) [11]서울   남   29세 이하\n",
       "6 2018-06   [0,00]지역무관 [01]관리직(임원·부서장) [11]서울   남   29세 이하\n",
       "  학력 취업건수\n",
       "1 3    3       \n",
       "2 3    4       \n",
       "3 3    3       \n",
       "4 3    1       \n",
       "5 3    1       \n",
       "6 3    2       "
      ]
     },
     "metadata": {},
     "output_type": "display_data"
    },
    {
     "data": {
      "text/html": [
       "1201149"
      ],
      "text/latex": [
       "1201149"
      ],
      "text/markdown": [
       "1201149"
      ],
      "text/plain": [
       "[1] 1201149"
      ]
     },
     "metadata": {},
     "output_type": "display_data"
    }
   ],
   "source": [
    "# 변환된 자료 확인\n",
    "head(jm7)\n",
    "nrow(jm7)  # 120만줄의 데이터가 존재한다."
   ]
  },
  {
   "cell_type": "markdown",
   "metadata": {},
   "source": [
    "##### 8. 학력\n",
    "\n",
    "학력 컬럼은 취업자의 학력 수준을 나타낸다."
   ]
  },
  {
   "cell_type": "code",
   "execution_count": 41,
   "metadata": {
    "vscode": {
     "languageId": "r"
    }
   },
   "outputs": [
    {
     "data": {
      "text/plain": [
       "\n",
       "     3      4      5      6      y \n",
       "427010 295643 362527  81762  34207 "
      ]
     },
     "metadata": {},
     "output_type": "display_data"
    }
   ],
   "source": [
    "table(jm7$학력)"
   ]
  },
  {
   "cell_type": "code",
   "execution_count": 42,
   "metadata": {
    "vscode": {
     "languageId": "r"
    }
   },
   "outputs": [],
   "source": [
    "# 3->'고졸 이하', 4->'전문대졸', 5->'대졸', 6->'대학원졸 이상', y->'분류불능'으로 변환한다.\n",
    "jm7$학력[jm7$학력 == \"3\"] <- \"고졸 이하\"\n",
    "jm7$학력[jm7$학력 == \"4\"] <- \"전문대졸\"\n",
    "jm7$학력[jm7$학력 == \"5\"] <- \"대졸\"\n",
    "jm7$학력[jm7$학력 == \"6\"] <- \"대학원졸 이상\"\n",
    "jm7$학력[jm7$학력 == \"y\"] <- \"분류불능\"\n"
   ]
  },
  {
   "cell_type": "code",
   "execution_count": 43,
   "metadata": {
    "vscode": {
     "languageId": "r"
    }
   },
   "outputs": [
    {
     "data": {
      "text/plain": [
       "\n",
       "    고졸 이하          대졸 대학원졸 이상      분류불능      전문대졸 \n",
       "       427010        362527         81762         34207        295643 "
      ]
     },
     "metadata": {},
     "output_type": "display_data"
    }
   ],
   "source": [
    "# 학력 다시 확인\n",
    "table(jm7$학력)"
   ]
  },
  {
   "cell_type": "markdown",
   "metadata": {},
   "source": [
    "##### 9. 취업건수\n",
    "\n",
    "취업건수는 데이터의 반응변수 이다.\n",
    "해당 마감년월, 근무시도, 직종중분류, 거주시도, 성별, 연령, 학력 에 해당하는 취업자가 몇 명인지를 나타낸다."
   ]
  },
  {
   "cell_type": "code",
   "execution_count": 44,
   "metadata": {
    "vscode": {
     "languageId": "r"
    }
   },
   "outputs": [
    {
     "data": {
      "text/plain": [
       "\n",
       "     1      2      3      4      5      6      7      8      9     10     11 \n",
       "568890 176822  93302  59275  41559  30811  24305  19438  15824  13138  11523 \n",
       "    12     13     14     15     16     17     18     19     20     21     22 \n",
       "  9788   8804   7617   6845   6259   5658   5243   4687   4442   3966   3686 \n",
       "    23     24     25     26     27     28     29     30     31     32     33 \n",
       "  3551   3189   2995   2738   2595   2422   2283   2073   1978   1960   1778 \n",
       "    34     35     36     37     38     39     40     41     42     43     44 \n",
       "  1654   1638   1522   1451   1357   1361   1283   1201   1159   1074   1042 \n",
       "    45     46     47     48     49     50     51     52     53     54     55 \n",
       "  1030    960    908    849    830    756    773    769    724    674    664 \n",
       "    56     57     58     59     60     61     62     63     64     65     66 \n",
       "   613    612    546    546    515    545    488    477    493    470    475 \n",
       "    67     68     69     70     71     72     73     74     75     76     77 \n",
       "   402    421    369    420    385    364    352    349    343    346    316 \n",
       "    78     79     80     81     82     83     84     85     86     87     88 \n",
       "   292    305    308    304    280    286    280    263    258    251    254 \n",
       "    89     90     91     92     93     94     95     96     97     98     99 \n",
       "   223    231    227    220    220    221    215    204    197    195    154 \n",
       "   100    101    102    103    104    105    106    107    108    109    110 \n",
       "   159    177    186    161    160    152    167    159    158    140    128 \n",
       "   111    112    113    114    115    116    117    118    119    120    121 \n",
       "   137    147    129    119    109    109    131     98    121    109    103 \n",
       "   122    123    124    125    126    127    128    129    130    131    132 \n",
       "   109    110    106     96    100    111     84     77     92     87     82 \n",
       "   133    134    135    136    137    138    139    140    141    142    143 \n",
       "    78     92     65     82     72     62     84     83     72     65     67 \n",
       "   144    145    146    147    148    149    150    151    152    153    154 \n",
       "    65     56     64     71     63     68     60     53     67     56     60 \n",
       "   155    156    157    158    159    160    161    162    163    164    165 \n",
       "    54     51     43     52     50     45     51     56     36     36     57 \n",
       "   166    167    168    169    170    171    172    173    174    175    176 \n",
       "    44     38     53     36     51     35     44     31     44     39     24 \n",
       "   177    178    179    180    181    182    183    184    185    186    187 \n",
       "    28     35     48     35     31     50     32     32     31     41     29 \n",
       "   188    189    190    191    192    193    194    195    196    197    198 \n",
       "    25     33     43     33     42     27     27     21     28     33     25 \n",
       "   199    200    201    202    203    204    205    206    207    208    209 \n",
       "    32     24     26     24     24     27     25     25     25     23     26 \n",
       "   210    211    212    213    214    215    216    217    218    219    220 \n",
       "    19     27     28     23     31     14     22     28     20     26     17 \n",
       "   221    222    223    224    225    226    227    228    229    230    231 \n",
       "    29     24     34     25     20     22     27     28     22     26     20 \n",
       "   232    233    234    235    236    237    238    239    240    241    242 \n",
       "    20     24     22     13     21     18     15     15     18     16     21 \n",
       "   243    244    245    246    247    248    249    250    251    252    253 \n",
       "    16     14     10     20     18     16     21     21     15     23     14 \n",
       "   254    255    256    257    258    259    260    261    262    263    264 \n",
       "    11     17     20     16     19     22     14     23     18     23     14 \n",
       "   265    266    267    268    269    270    271    272    273    274    275 \n",
       "    22     16     18     12     14     20     26      6     20     27      9 \n",
       "   276    277    278    279    280    281    282    283    284    285    286 \n",
       "    12     12     17     21     16     17     23     24     19     14     17 \n",
       "   287    288    289    290    291    292    293    294    295    296    297 \n",
       "    16     19     27     14     11     22     10     13     11     14     19 \n",
       "   298    299    300    301    302    303    304    305    306    307    308 \n",
       "    16     17     21     17     18     18     18     16     20     18     14 \n",
       "   309    310    311    312    313    314    315    316    317    318    319 \n",
       "    15     14     12      9     10     15     11     14     19     12     19 \n",
       "   320    321    322    323    324    325    326    327    328    329    330 \n",
       "    14     16     13     11     16      9     14     14     25     13     12 \n",
       "   331    332    333    334    335    336    337    338    339    340    341 \n",
       "    13      6     14     16     14     25     14      8     16     14      9 \n",
       "   342    343    344    345    346    347    348    349    350    351    352 \n",
       "     9     10     12     14     13     18     15     10      7      9     10 \n",
       "   353    354    355    356    357    358    359    360    361    362    363 \n",
       "    13     14     15     12     16      7     10     18     12     11     11 \n",
       "   364    365    366    367    368    369    370    371    372    373    374 \n",
       "     7     22      9      9     10     15     10     10      8     11      6 \n",
       "   375    376    377    378    379    380    381    382    383    384    385 \n",
       "    16     10     13      7      8      8      5     11      8     10     12 \n",
       "   386    387    388    389    390    391    392    393    394    395    396 \n",
       "    12     10      6     10     12      6     10     16     15      5     12 \n",
       "   397    398    399    400    401    402    403    404    405    406    407 \n",
       "     6      5     10      9      9      7      2     13      5     10      6 \n",
       "   408    409    410    411    412    413    414    415    416    417    418 \n",
       "    15      8      7      4      8     10      7     10      9      5     15 \n",
       "   419    420    421    422    423    424    425    426    427    428    429 \n",
       "     6     12     14      5      5     14      8      4      9      7      8 \n",
       "   430    431    432    433    434    435    436    437    438    439    440 \n",
       "     7      6      8      7      7      8     10      2      5      8      9 \n",
       "   441    442    443    444    445    446    447    448    449    450    451 \n",
       "    11      2      8     14     13      7      6      7     16      8      7 \n",
       "   452    453    454    455    456    457    458    459    460    461    462 \n",
       "    10      5      9      4      9      3      6      8      8     13      8 \n",
       "   463    464    465    466    467    468    469    470    471    472    473 \n",
       "     5     11      4      7      7      8      5      5      7     13      4 \n",
       "   474    475    476    477    478    479    480    481    482    483    484 \n",
       "     5      4      5      9      7     10      7      8      4      5      3 \n",
       "   485    486    487    488    489    490    491    492    493    494    495 \n",
       "     6      9      3      1      8      4      6      7      8      4      7 \n",
       "   496    497    498    499    500    501    502    503    504    505    506 \n",
       "     8      6      6      7      4      9      8      3      8      3      4 \n",
       "   507    508    509    510    511    512    513    514    515    516    517 \n",
       "     1      4      5      4      1      6      2      5      4      4      5 \n",
       "   518    519    520    521    522    523    524    525    526    527    528 \n",
       "     8      4      1      1      4      5      3      5      3      5      6 \n",
       "   529    530    531    532    533    534    535    536    537    538    539 \n",
       "     2      5      2      4      1      5      6      5      4      4      1 \n",
       "   540    541    542    543    544    545    546    547    548    549    550 \n",
       "     6      3      4      5      2      4      3      6      5      3      4 \n",
       "   551    552    553    554    555    556    557    558    559    560    561 \n",
       "     6      3      8      4      6      4      2      6      5      1      4 \n",
       "   562    563    564    565    566    567    568    569    570    571    572 \n",
       "     3      4      2      3      3      1      6      4      7      5      6 \n",
       "   573    574    575    576    577    578    579    580    581    582    583 \n",
       "     3      3      8      4      1      6      5      3      2      5      3 \n",
       "   584    585    586    587    588    589    590    591    592    593    594 \n",
       "     5      6      1      3      1      5      3      4      5      7      3 \n",
       "   595    596    597    598    599    600    601    602    603    604    605 \n",
       "     3      2      4      1      7      3      3      4      3      2      7 \n",
       "   606    607    609    610    611    612    613    614    615    616    617 \n",
       "     3      6      3      2      2      1      3      3      2      5      4 \n",
       "   618    619    620    622    623    624    625    626    627    628    629 \n",
       "     5      5      2      4      7      4      2      3      2      1      3 \n",
       "   630    631    632    633    635    636    637    638    639    640    641 \n",
       "     2      2      3      4      3      6      3      1      1      2      3 \n",
       "   642    643    644    645    646    648    649    650    652    654    655 \n",
       "     2      4      2      2      2      4      2      1      1      2      3 \n",
       "   656    657    658    659    660    661    662    663    664    665    666 \n",
       "     1      5      2      3      1      3      4      3      1      1      2 \n",
       "   667    668    669    670    671    672    673    674    675    676    677 \n",
       "     1      1      1      3      1      1      1      2      4      3      3 \n",
       "   678    679    680    681    682    683    684    685    686    687    689 \n",
       "     3      2      2      3      3      3      5      3      1      3      2 \n",
       "   690    691    692    693    694    695    696    697    698    699    702 \n",
       "     1      1      2      2      6      3      3      3      2      2      1 \n",
       "   704    705    706    707    708    709    710    711    712    713    714 \n",
       "     2      3      2      1      6      3      1      1      2      3      4 \n",
       "   716    718    719    720    721    722    723    724    725    727    728 \n",
       "     1      2      2      3      1      2      5      4      1      2      3 \n",
       "   729    730    731    732    733    735    736    737    738    739    740 \n",
       "     6      2      4      3      1      1      1      1      1      3      2 \n",
       "   741    743    744    747    748    750    751    752    754    755    757 \n",
       "     3      2      3      2      2      2      3      3      1      4      3 \n",
       "   758    759    760    762    763    764    765    766    767    768    769 \n",
       "     3      1      1      1      3      2      1      1      1      2      4 \n",
       "   771    772    773    774    775    777    778    780    781    782    783 \n",
       "     4      1      2      2      1      2      1      2      3      3      1 \n",
       "   787    789    790    791    792    793    795    796    797    798    799 \n",
       "     1      1      1      1      4      1      1      1      1      4      4 \n",
       "   800    802    803    804    805    806    808    809    810    811    812 \n",
       "     2      2      1      1      3      2      2      3      2      1      1 \n",
       "   814    815    818    819    821    822    823    824    825    827    828 \n",
       "     1      3      1      2      1      2      2      3      2      3      2 \n",
       "   830    832    833    834    835    838    839    840    841    842    843 \n",
       "     1      1      3      1      1      2      1      3      2      3      2 \n",
       "   844    845    847    848    850    851    852    854    856    857    858 \n",
       "     2      1      1      2      1      2      1      3      1      2      3 \n",
       "   860    861    863    864    865    866    867    868    869    870    871 \n",
       "     1      2      2      2      3      4      4      2      2      2      1 \n",
       "   873    875    876    877    878    879    880    882    884    885    886 \n",
       "     1      2      1      1      1      1      2      2      2      1      3 \n",
       "   887    889    891    892    896    899    900    901    902    904    906 \n",
       "     2      2      4      3      4      1      4      3      2      1      1 \n",
       "   907    908    909    912    914    916    918    919    920    921    922 \n",
       "     1      2      2      2      2      1      1      4      1      3      1 \n",
       "   923    924    925    926    927    929    930    931    932    933    934 \n",
       "     2      1      1      1      2      3      2      1      2      2      1 \n",
       "   935    936    937    940    941    943    944    945    948    949    950 \n",
       "     4      2      1      1      1      2      1      4      1      1      1 \n",
       "   952    954    955    956    957    958    959    960    963    964    965 \n",
       "     1      1      4      1      2      1      1      2      1      1      1 \n",
       "   967    968    969    970    971    972    973    974    975    977    979 \n",
       "     2      1      3      2      1      1      1      1      3      3      3 \n",
       "   980    982    983    985    986    987    988    990    991    992    993 \n",
       "     2      1      1      1      2      1      1      4      2      1      2 \n",
       "   994    995    997    999   1000   1001   1003   1004   1005   1007   1008 \n",
       "     2      3      2      2      3      2      3      1      2      1      1 \n",
       "  1010   1013   1014   1016   1017   1021   1022   1023   1025   1027   1028 \n",
       "     3      2      1      1      2      1      2      1      1      1      1 \n",
       "  1030   1032   1034   1035   1036   1038   1039   1040   1041   1045   1046 \n",
       "     2      1      1      2      1      2      1      1      1      1      2 \n",
       "  1047   1049   1050   1051   1053   1055   1058   1059   1063   1065   1066 \n",
       "     2      1      1      2      1      2      3      2      1      3      4 \n",
       "  1067   1070   1071   1073   1076   1077   1079   1082   1084   1085   1086 \n",
       "     2      1      1      1      2      1      2      2      2      1      1 \n",
       "  1089   1090   1092   1094   1096   1097   1099   1100   1101   1104   1106 \n",
       "     2      1      5      3      1      2      2      1      1      3      1 \n",
       "  1112   1114   1115   1116   1118   1119   1120   1122   1126   1129   1130 \n",
       "     1      1      1      1      2      1      2      1      2      1      1 \n",
       "  1131   1133   1134   1137   1139   1144   1145   1146   1147   1149   1151 \n",
       "     2      2      1      2      1      2      1      1      1      1      2 \n",
       "  1154   1156   1157   1158   1159   1163   1165   1169   1170   1171   1175 \n",
       "     2      1      1      1      1      1      2      2      1      1      2 \n",
       "  1178   1179   1181   1193   1196   1197   1199   1204   1205   1207   1208 \n",
       "     1      1      1      1      1      1      2      2      1      1      2 \n",
       "  1209   1216   1217   1218   1220   1224   1227   1229   1233   1234   1239 \n",
       "     3      1      1      1      2      1      1      1      2      1      1 \n",
       "  1240   1241   1243   1244   1252   1256   1258   1262   1268   1269   1273 \n",
       "     2      1      1      1      1      1      1      1      1      1      1 \n",
       "  1278   1279   1280   1281   1283   1285   1287   1296   1299   1301   1307 \n",
       "     1      1      3      3      1      1      1      1      2      1      1 \n",
       "  1308   1310   1316   1318   1322   1325   1326   1331   1334   1338   1342 \n",
       "     2      1      2      1      2      1      1      1      1      1      1 \n",
       "  1343   1344   1351   1355   1363   1364   1367   1369   1371   1377   1378 \n",
       "     1      1      1      1      1      2      1      1      1      1      2 \n",
       "  1380   1383   1385   1387   1392   1398   1399   1401   1416   1421   1428 \n",
       "     1      2      1      1      1      1      1      1      1      1      1 \n",
       "  1430   1431   1432   1434   1436   1437   1441   1443   1444   1447   1449 \n",
       "     1      1      1      1      2      1      1      1      2      1      1 \n",
       "  1450   1461   1464   1469   1470   1472   1475   1477   1484   1487   1488 \n",
       "     1      1      1      1      1      1      1      1      1      1      1 \n",
       "  1492   1494   1495   1496   1502   1508   1521   1522   1524   1526   1533 \n",
       "     2      1      1      1      1      2      1      1      1      1      1 \n",
       "  1536   1537   1550   1566   1567   1572   1574   1577   1579   1582   1583 \n",
       "     1      2      1      2      1      1      1      1      1      1      1 \n",
       "  1588   1589   1590   1591   1599   1619   1627   1628   1642   1646   1651 \n",
       "     1      1      1      1      1      2      1      1      1      2      1 \n",
       "  1665   1666   1673   1674   1678   1685   1688   1692   1699   1701   1705 \n",
       "     1      1      1      1      1      1      1      1      1      1      2 \n",
       "  1706   1710   1712   1713   1719   1721   1729   1734   1740   1741   1742 \n",
       "     1      1      1      1      1      1      1      3      1      1      1 \n",
       "  1752   1757   1758   1763   1765   1769   1772   1777   1787   1802   1804 \n",
       "     1      1      1      1      1      1      1      1      1      1      1 \n",
       "  1807   1817   1819   1823   1824   1827   1828   1842   1845   1849   1854 \n",
       "     1      1      1      1      1      1      1      1      1      1      1 \n",
       "  1858   1862   1865   1872   1882   1889   1890   1901   1909   1947   1967 \n",
       "     1      1      2      1      1      1      1      1      1      1      1 \n",
       "  1979   1980   1981   1998   1999   2002   2008   2023   2041   2044   2045 \n",
       "     1      1      1      1      1      1      1      1      1      1      1 \n",
       "  2062   2071   2074   2086   2108   2134   2206   2255   2275   2292   2296 \n",
       "     1      1      1      1      1      1      1      1      1      1      1 \n",
       "  2299   2324   2439   2467   2485   2503   2574   2713   2814   2900   4407 \n",
       "     1      1      1      1      1      1      1      1      1      1      1 "
      ]
     },
     "metadata": {},
     "output_type": "display_data"
    }
   ],
   "source": [
    "table(jm7$취업건수)"
   ]
  },
  {
   "cell_type": "code",
   "execution_count": 45,
   "metadata": {
    "vscode": {
     "languageId": "r"
    }
   },
   "outputs": [
    {
     "name": "stdout",
     "output_type": "stream",
     "text": [
      " int [1:1201149] 3 4 3 1 1 2 1 1 2 3 ...\n"
     ]
    },
    {
     "data": {
      "text/plain": [
       "    Min.  1st Qu.   Median     Mean  3rd Qu.     Max. \n",
       "   1.000    1.000    2.000    8.369    5.000 4407.000 "
      ]
     },
     "metadata": {},
     "output_type": "display_data"
    }
   ],
   "source": [
    "str(jm7$취업건수)\n",
    "summary(jm7$취업건수)"
   ]
  },
  {
   "cell_type": "code",
   "execution_count": 46,
   "metadata": {
    "vscode": {
     "languageId": "r"
    }
   },
   "outputs": [
    {
     "data": {
      "text/html": [
       "<table class=\"dataframe\">\n",
       "<caption>A data.frame: 6 × 8</caption>\n",
       "<thead>\n",
       "\t<tr><th></th><th scope=col>마감년월2</th><th scope=col>근무시도명</th><th scope=col>직종중분류명</th><th scope=col>거주시도명</th><th scope=col>성별</th><th scope=col>연령</th><th scope=col>학력</th><th scope=col>취업건수</th></tr>\n",
       "\t<tr><th></th><th scope=col>&lt;chr&gt;</th><th scope=col>&lt;chr&gt;</th><th scope=col>&lt;chr&gt;</th><th scope=col>&lt;chr&gt;</th><th scope=col>&lt;chr&gt;</th><th scope=col>&lt;chr&gt;</th><th scope=col>&lt;chr&gt;</th><th scope=col>&lt;int&gt;</th></tr>\n",
       "</thead>\n",
       "<tbody>\n",
       "\t<tr><th scope=row>1</th><td>2018-01</td><td>[0,00]지역무관</td><td>[01]관리직(임원·부서장)</td><td>[11]서울</td><td>남</td><td>29세 이하</td><td>고졸 이하</td><td>3</td></tr>\n",
       "\t<tr><th scope=row>2</th><td>2018-02</td><td>[0,00]지역무관</td><td>[01]관리직(임원·부서장)</td><td>[11]서울</td><td>남</td><td>29세 이하</td><td>고졸 이하</td><td>4</td></tr>\n",
       "\t<tr><th scope=row>3</th><td>2018-03</td><td>[0,00]지역무관</td><td>[01]관리직(임원·부서장)</td><td>[11]서울</td><td>남</td><td>29세 이하</td><td>고졸 이하</td><td>3</td></tr>\n",
       "\t<tr><th scope=row>4</th><td>2018-04</td><td>[0,00]지역무관</td><td>[01]관리직(임원·부서장)</td><td>[11]서울</td><td>남</td><td>29세 이하</td><td>고졸 이하</td><td>1</td></tr>\n",
       "\t<tr><th scope=row>5</th><td>2018-05</td><td>[0,00]지역무관</td><td>[01]관리직(임원·부서장)</td><td>[11]서울</td><td>남</td><td>29세 이하</td><td>고졸 이하</td><td>1</td></tr>\n",
       "\t<tr><th scope=row>6</th><td>2018-06</td><td>[0,00]지역무관</td><td>[01]관리직(임원·부서장)</td><td>[11]서울</td><td>남</td><td>29세 이하</td><td>고졸 이하</td><td>2</td></tr>\n",
       "</tbody>\n",
       "</table>\n"
      ],
      "text/latex": [
       "A data.frame: 6 × 8\n",
       "\\begin{tabular}{r|llllllll}\n",
       "  & 마감년월2 & 근무시도명 & 직종중분류명 & 거주시도명 & 성별 & 연령 & 학력 & 취업건수\\\\\n",
       "  & <chr> & <chr> & <chr> & <chr> & <chr> & <chr> & <chr> & <int>\\\\\n",
       "\\hline\n",
       "\t1 & 2018-01 & {[}0,00{]}지역무관 & {[}01{]}관리직(임원·부서장) & {[}11{]}서울 & 남 & 29세 이하 & 고졸 이하 & 3\\\\\n",
       "\t2 & 2018-02 & {[}0,00{]}지역무관 & {[}01{]}관리직(임원·부서장) & {[}11{]}서울 & 남 & 29세 이하 & 고졸 이하 & 4\\\\\n",
       "\t3 & 2018-03 & {[}0,00{]}지역무관 & {[}01{]}관리직(임원·부서장) & {[}11{]}서울 & 남 & 29세 이하 & 고졸 이하 & 3\\\\\n",
       "\t4 & 2018-04 & {[}0,00{]}지역무관 & {[}01{]}관리직(임원·부서장) & {[}11{]}서울 & 남 & 29세 이하 & 고졸 이하 & 1\\\\\n",
       "\t5 & 2018-05 & {[}0,00{]}지역무관 & {[}01{]}관리직(임원·부서장) & {[}11{]}서울 & 남 & 29세 이하 & 고졸 이하 & 1\\\\\n",
       "\t6 & 2018-06 & {[}0,00{]}지역무관 & {[}01{]}관리직(임원·부서장) & {[}11{]}서울 & 남 & 29세 이하 & 고졸 이하 & 2\\\\\n",
       "\\end{tabular}\n"
      ],
      "text/markdown": [
       "\n",
       "A data.frame: 6 × 8\n",
       "\n",
       "| <!--/--> | 마감년월2 &lt;chr&gt; | 근무시도명 &lt;chr&gt; | 직종중분류명 &lt;chr&gt; | 거주시도명 &lt;chr&gt; | 성별 &lt;chr&gt; | 연령 &lt;chr&gt; | 학력 &lt;chr&gt; | 취업건수 &lt;int&gt; |\n",
       "|---|---|---|---|---|---|---|---|---|\n",
       "| 1 | 2018-01 | [0,00]지역무관 | [01]관리직(임원·부서장) | [11]서울 | 남 | 29세 이하 | 고졸 이하 | 3 |\n",
       "| 2 | 2018-02 | [0,00]지역무관 | [01]관리직(임원·부서장) | [11]서울 | 남 | 29세 이하 | 고졸 이하 | 4 |\n",
       "| 3 | 2018-03 | [0,00]지역무관 | [01]관리직(임원·부서장) | [11]서울 | 남 | 29세 이하 | 고졸 이하 | 3 |\n",
       "| 4 | 2018-04 | [0,00]지역무관 | [01]관리직(임원·부서장) | [11]서울 | 남 | 29세 이하 | 고졸 이하 | 1 |\n",
       "| 5 | 2018-05 | [0,00]지역무관 | [01]관리직(임원·부서장) | [11]서울 | 남 | 29세 이하 | 고졸 이하 | 1 |\n",
       "| 6 | 2018-06 | [0,00]지역무관 | [01]관리직(임원·부서장) | [11]서울 | 남 | 29세 이하 | 고졸 이하 | 2 |\n",
       "\n"
      ],
      "text/plain": [
       "  마감년월2 근무시도명     직종중분류명             거주시도명 성별 연령     \n",
       "1 2018-01   [0,00]지역무관 [01]관리직(임원·부서장) [11]서울   남   29세 이하\n",
       "2 2018-02   [0,00]지역무관 [01]관리직(임원·부서장) [11]서울   남   29세 이하\n",
       "3 2018-03   [0,00]지역무관 [01]관리직(임원·부서장) [11]서울   남   29세 이하\n",
       "4 2018-04   [0,00]지역무관 [01]관리직(임원·부서장) [11]서울   남   29세 이하\n",
       "5 2018-05   [0,00]지역무관 [01]관리직(임원·부서장) [11]서울   남   29세 이하\n",
       "6 2018-06   [0,00]지역무관 [01]관리직(임원·부서장) [11]서울   남   29세 이하\n",
       "  학력      취업건수\n",
       "1 고졸 이하 3       \n",
       "2 고졸 이하 4       \n",
       "3 고졸 이하 3       \n",
       "4 고졸 이하 1       \n",
       "5 고졸 이하 1       \n",
       "6 고졸 이하 2       "
      ]
     },
     "metadata": {},
     "output_type": "display_data"
    }
   ],
   "source": [
    "# 마지막 확인\n",
    "head(jm7)"
   ]
  },
  {
   "cell_type": "code",
   "execution_count": 47,
   "metadata": {
    "vscode": {
     "languageId": "r"
    }
   },
   "outputs": [
    {
     "data": {
      "text/html": [
       "12205525"
      ],
      "text/latex": [
       "12205525"
      ],
      "text/markdown": [
       "12205525"
      ],
      "text/plain": [
       "[1] 12205525"
      ]
     },
     "metadata": {},
     "output_type": "display_data"
    },
    {
     "data": {
      "text/html": [
       "12205525"
      ],
      "text/latex": [
       "12205525"
      ],
      "text/markdown": [
       "12205525"
      ],
      "text/plain": [
       "[1] 12205525"
      ]
     },
     "metadata": {},
     "output_type": "display_data"
    },
    {
     "data": {
      "text/html": [
       "12205525"
      ],
      "text/latex": [
       "12205525"
      ],
      "text/markdown": [
       "12205525"
      ],
      "text/plain": [
       "[1] 12205525"
      ]
     },
     "metadata": {},
     "output_type": "display_data"
    },
    {
     "data": {
      "text/html": [
       "12205525"
      ],
      "text/latex": [
       "12205525"
      ],
      "text/markdown": [
       "12205525"
      ],
      "text/plain": [
       "[1] 12205525"
      ]
     },
     "metadata": {},
     "output_type": "display_data"
    },
    {
     "data": {
      "text/html": [
       "10052864"
      ],
      "text/latex": [
       "10052864"
      ],
      "text/markdown": [
       "10052864"
      ],
      "text/plain": [
       "[1] 10052864"
      ]
     },
     "metadata": {},
     "output_type": "display_data"
    },
    {
     "data": {
      "text/html": [
       "10052864"
      ],
      "text/latex": [
       "10052864"
      ],
      "text/markdown": [
       "10052864"
      ],
      "text/plain": [
       "[1] 10052864"
      ]
     },
     "metadata": {},
     "output_type": "display_data"
    },
    {
     "data": {
      "text/html": [
       "10052864"
      ],
      "text/latex": [
       "10052864"
      ],
      "text/markdown": [
       "10052864"
      ],
      "text/plain": [
       "[1] 10052864"
      ]
     },
     "metadata": {},
     "output_type": "display_data"
    },
    {
     "data": {
      "text/html": [
       "10052864"
      ],
      "text/latex": [
       "10052864"
      ],
      "text/markdown": [
       "10052864"
      ],
      "text/plain": [
       "[1] 10052864"
      ]
     },
     "metadata": {},
     "output_type": "display_data"
    }
   ],
   "source": [
    "# 데이터 변환 중에 오류는 없는지 확인한다.\n",
    "sum(jm$취업건수)\n",
    "sum(jm1$취업건수)\n",
    "sum(jm2$취업건수)\n",
    "sum(jm3$취업건수)\n",
    "sum(jm4$취업건수) # 2017년 데이터 제외하면서 취업건수 감소소\n",
    "sum(jm5$취업건수)\n",
    "sum(jm6$취업건수)\n",
    "sum(jm7$취업건수)"
   ]
  },
  {
   "cell_type": "markdown",
   "metadata": {},
   "source": [
    "#### (4) 최종 데이터 작성\n",
    "\n",
    "데이터를 그대로 읽은 jm 부터 시작해서, 여러 과정을 거쳐 jm7 까지 데이터를 정리하였다.  \n",
    "jm7을 다시 data로 저장해서 분석을 시작한다."
   ]
  },
  {
   "cell_type": "code",
   "execution_count": 48,
   "metadata": {
    "vscode": {
     "languageId": "r"
    }
   },
   "outputs": [
    {
     "name": "stderr",
     "output_type": "stream",
     "text": [
      "\u001b[1m\u001b[22m`summarise()` has grouped output by '마감년월2', '근무시도명', '직종중분류명',\n",
      "'연령', '학력'. You can override using the `.groups` argument.\n"
     ]
    }
   ],
   "source": [
    "# 성별과 학력별로 취업건수의 합을 계산\n",
    "data1 <- jm7 %>%\n",
    "  group_by(마감년월2, 근무시도명, 직종중분류명, 연령, 학력, 성별) %>%\n",
    "  summarise(총취업건수 = sum(취업건수))"
   ]
  },
  {
   "cell_type": "code",
   "execution_count": 49,
   "metadata": {
    "vscode": {
     "languageId": "r"
    }
   },
   "outputs": [],
   "source": [
    "# 데이터 전처리: 범주형 변환\n",
    "data1$마감년월2 <- as.factor(data1$마감년월2)\n",
    "data1$근무시도명 <- as.factor(data1$근무시도명)\n",
    "data1$직종중분류명 <- as.factor(data1$직종중분류명)\n",
    "data1$성별 <- as.factor(data1$성별)\n",
    "data1$연령 <- as.factor(data1$연령)\n",
    "data1$학력 <- as.factor(data1$학력)"
   ]
  },
  {
   "cell_type": "code",
   "execution_count": 50,
   "metadata": {
    "vscode": {
     "languageId": "r"
    }
   },
   "outputs": [
    {
     "data": {
      "text/html": [
       "<table class=\"dataframe\">\n",
       "<caption>A grouped_df: 6 × 7</caption>\n",
       "<thead>\n",
       "\t<tr><th scope=col>마감년월2</th><th scope=col>근무시도명</th><th scope=col>직종중분류명</th><th scope=col>연령</th><th scope=col>학력</th><th scope=col>성별</th><th scope=col>총취업건수</th></tr>\n",
       "\t<tr><th scope=col>&lt;fct&gt;</th><th scope=col>&lt;fct&gt;</th><th scope=col>&lt;fct&gt;</th><th scope=col>&lt;fct&gt;</th><th scope=col>&lt;fct&gt;</th><th scope=col>&lt;fct&gt;</th><th scope=col>&lt;int&gt;</th></tr>\n",
       "</thead>\n",
       "<tbody>\n",
       "\t<tr><td>2018-01</td><td>[0,00]지역무관</td><td>[01]관리직(임원·부서장)</td><td>29세 이하</td><td>고졸 이하    </td><td>남</td><td>39</td></tr>\n",
       "\t<tr><td>2018-01</td><td>[0,00]지역무관</td><td>[01]관리직(임원·부서장)</td><td>29세 이하</td><td>고졸 이하    </td><td>여</td><td>13</td></tr>\n",
       "\t<tr><td>2018-01</td><td>[0,00]지역무관</td><td>[01]관리직(임원·부서장)</td><td>29세 이하</td><td>대졸         </td><td>남</td><td>77</td></tr>\n",
       "\t<tr><td>2018-01</td><td>[0,00]지역무관</td><td>[01]관리직(임원·부서장)</td><td>29세 이하</td><td>대졸         </td><td>여</td><td>26</td></tr>\n",
       "\t<tr><td>2018-01</td><td>[0,00]지역무관</td><td>[01]관리직(임원·부서장)</td><td>29세 이하</td><td>대학원졸 이상</td><td>남</td><td> 2</td></tr>\n",
       "\t<tr><td>2018-01</td><td>[0,00]지역무관</td><td>[01]관리직(임원·부서장)</td><td>29세 이하</td><td>전문대졸     </td><td>남</td><td>24</td></tr>\n",
       "</tbody>\n",
       "</table>\n"
      ],
      "text/latex": [
       "A grouped\\_df: 6 × 7\n",
       "\\begin{tabular}{lllllll}\n",
       " 마감년월2 & 근무시도명 & 직종중분류명 & 연령 & 학력 & 성별 & 총취업건수\\\\\n",
       " <fct> & <fct> & <fct> & <fct> & <fct> & <fct> & <int>\\\\\n",
       "\\hline\n",
       "\t 2018-01 & {[}0,00{]}지역무관 & {[}01{]}관리직(임원·부서장) & 29세 이하 & 고졸 이하     & 남 & 39\\\\\n",
       "\t 2018-01 & {[}0,00{]}지역무관 & {[}01{]}관리직(임원·부서장) & 29세 이하 & 고졸 이하     & 여 & 13\\\\\n",
       "\t 2018-01 & {[}0,00{]}지역무관 & {[}01{]}관리직(임원·부서장) & 29세 이하 & 대졸          & 남 & 77\\\\\n",
       "\t 2018-01 & {[}0,00{]}지역무관 & {[}01{]}관리직(임원·부서장) & 29세 이하 & 대졸          & 여 & 26\\\\\n",
       "\t 2018-01 & {[}0,00{]}지역무관 & {[}01{]}관리직(임원·부서장) & 29세 이하 & 대학원졸 이상 & 남 &  2\\\\\n",
       "\t 2018-01 & {[}0,00{]}지역무관 & {[}01{]}관리직(임원·부서장) & 29세 이하 & 전문대졸      & 남 & 24\\\\\n",
       "\\end{tabular}\n"
      ],
      "text/markdown": [
       "\n",
       "A grouped_df: 6 × 7\n",
       "\n",
       "| 마감년월2 &lt;fct&gt; | 근무시도명 &lt;fct&gt; | 직종중분류명 &lt;fct&gt; | 연령 &lt;fct&gt; | 학력 &lt;fct&gt; | 성별 &lt;fct&gt; | 총취업건수 &lt;int&gt; |\n",
       "|---|---|---|---|---|---|---|\n",
       "| 2018-01 | [0,00]지역무관 | [01]관리직(임원·부서장) | 29세 이하 | 고졸 이하     | 남 | 39 |\n",
       "| 2018-01 | [0,00]지역무관 | [01]관리직(임원·부서장) | 29세 이하 | 고졸 이하     | 여 | 13 |\n",
       "| 2018-01 | [0,00]지역무관 | [01]관리직(임원·부서장) | 29세 이하 | 대졸          | 남 | 77 |\n",
       "| 2018-01 | [0,00]지역무관 | [01]관리직(임원·부서장) | 29세 이하 | 대졸          | 여 | 26 |\n",
       "| 2018-01 | [0,00]지역무관 | [01]관리직(임원·부서장) | 29세 이하 | 대학원졸 이상 | 남 |  2 |\n",
       "| 2018-01 | [0,00]지역무관 | [01]관리직(임원·부서장) | 29세 이하 | 전문대졸      | 남 | 24 |\n",
       "\n"
      ],
      "text/plain": [
       "  마감년월2 근무시도명     직종중분류명             연령      학력         \n",
       "1 2018-01   [0,00]지역무관 [01]관리직(임원·부서장) 29세 이하 고졸 이하    \n",
       "2 2018-01   [0,00]지역무관 [01]관리직(임원·부서장) 29세 이하 고졸 이하    \n",
       "3 2018-01   [0,00]지역무관 [01]관리직(임원·부서장) 29세 이하 대졸         \n",
       "4 2018-01   [0,00]지역무관 [01]관리직(임원·부서장) 29세 이하 대졸         \n",
       "5 2018-01   [0,00]지역무관 [01]관리직(임원·부서장) 29세 이하 대학원졸 이상\n",
       "6 2018-01   [0,00]지역무관 [01]관리직(임원·부서장) 29세 이하 전문대졸     \n",
       "  성별 총취업건수\n",
       "1 남   39        \n",
       "2 여   13        \n",
       "3 남   77        \n",
       "4 여   26        \n",
       "5 남    2        \n",
       "6 남   24        "
      ]
     },
     "metadata": {},
     "output_type": "display_data"
    }
   ],
   "source": [
    "# 결과 확인\n",
    "head(data1)"
   ]
  },
  {
   "cell_type": "code",
   "execution_count": 58,
   "metadata": {
    "vscode": {
     "languageId": "r"
    }
   },
   "outputs": [
    {
     "name": "stderr",
     "output_type": "stream",
     "text": [
      "\u001b[1m\u001b[22m`summarise()` has grouped output by '마감년월2', '거주시도명', '직종중분류명',\n",
      "'연령', '학력'. You can override using the `.groups` argument.\n"
     ]
    }
   ],
   "source": [
    "# 성별과 학력별로 취업건수의 합을 계산\n",
    "data2 <- jm7 %>%\n",
    "  group_by(마감년월2, 거주시도명, 직종중분류명, 연령, 학력, 성별) %>%\n",
    "  summarise(총취업건수 = sum(취업건수))"
   ]
  },
  {
   "cell_type": "code",
   "execution_count": 59,
   "metadata": {
    "vscode": {
     "languageId": "r"
    }
   },
   "outputs": [],
   "source": [
    "# 데이터 전처리: 범주형 변환\n",
    "data2$마감년월2 <- as.factor(data2$마감년월2)\n",
    "data2$거주시도명 <- as.factor(data2$거주시도명)\n",
    "data2$직종중분류명 <- as.factor(data2$직종중분류명)\n",
    "data2$성별 <- as.factor(data2$성별)\n",
    "data2$연령 <- as.factor(data2$연령)\n",
    "data2$학력 <- as.factor(data2$학력)"
   ]
  },
  {
   "cell_type": "code",
   "execution_count": 60,
   "metadata": {
    "vscode": {
     "languageId": "r"
    }
   },
   "outputs": [
    {
     "data": {
      "text/html": [
       "<table class=\"dataframe\">\n",
       "<caption>A grouped_df: 6 × 7</caption>\n",
       "<thead>\n",
       "\t<tr><th scope=col>마감년월2</th><th scope=col>거주시도명</th><th scope=col>직종중분류명</th><th scope=col>연령</th><th scope=col>학력</th><th scope=col>성별</th><th scope=col>총취업건수</th></tr>\n",
       "\t<tr><th scope=col>&lt;fct&gt;</th><th scope=col>&lt;fct&gt;</th><th scope=col>&lt;fct&gt;</th><th scope=col>&lt;fct&gt;</th><th scope=col>&lt;fct&gt;</th><th scope=col>&lt;fct&gt;</th><th scope=col>&lt;int&gt;</th></tr>\n",
       "</thead>\n",
       "<tbody>\n",
       "\t<tr><td>2018-01</td><td>[11]서울</td><td>[01]관리직(임원·부서장)</td><td>29세 이하</td><td>고졸 이하    </td><td>남</td><td>57</td></tr>\n",
       "\t<tr><td>2018-01</td><td>[11]서울</td><td>[01]관리직(임원·부서장)</td><td>29세 이하</td><td>고졸 이하    </td><td>여</td><td>35</td></tr>\n",
       "\t<tr><td>2018-01</td><td>[11]서울</td><td>[01]관리직(임원·부서장)</td><td>29세 이하</td><td>대졸         </td><td>남</td><td>74</td></tr>\n",
       "\t<tr><td>2018-01</td><td>[11]서울</td><td>[01]관리직(임원·부서장)</td><td>29세 이하</td><td>대졸         </td><td>여</td><td>65</td></tr>\n",
       "\t<tr><td>2018-01</td><td>[11]서울</td><td>[01]관리직(임원·부서장)</td><td>29세 이하</td><td>대학원졸 이상</td><td>남</td><td> 2</td></tr>\n",
       "\t<tr><td>2018-01</td><td>[11]서울</td><td>[01]관리직(임원·부서장)</td><td>29세 이하</td><td>대학원졸 이상</td><td>여</td><td> 5</td></tr>\n",
       "</tbody>\n",
       "</table>\n"
      ],
      "text/latex": [
       "A grouped\\_df: 6 × 7\n",
       "\\begin{tabular}{lllllll}\n",
       " 마감년월2 & 거주시도명 & 직종중분류명 & 연령 & 학력 & 성별 & 총취업건수\\\\\n",
       " <fct> & <fct> & <fct> & <fct> & <fct> & <fct> & <int>\\\\\n",
       "\\hline\n",
       "\t 2018-01 & {[}11{]}서울 & {[}01{]}관리직(임원·부서장) & 29세 이하 & 고졸 이하     & 남 & 57\\\\\n",
       "\t 2018-01 & {[}11{]}서울 & {[}01{]}관리직(임원·부서장) & 29세 이하 & 고졸 이하     & 여 & 35\\\\\n",
       "\t 2018-01 & {[}11{]}서울 & {[}01{]}관리직(임원·부서장) & 29세 이하 & 대졸          & 남 & 74\\\\\n",
       "\t 2018-01 & {[}11{]}서울 & {[}01{]}관리직(임원·부서장) & 29세 이하 & 대졸          & 여 & 65\\\\\n",
       "\t 2018-01 & {[}11{]}서울 & {[}01{]}관리직(임원·부서장) & 29세 이하 & 대학원졸 이상 & 남 &  2\\\\\n",
       "\t 2018-01 & {[}11{]}서울 & {[}01{]}관리직(임원·부서장) & 29세 이하 & 대학원졸 이상 & 여 &  5\\\\\n",
       "\\end{tabular}\n"
      ],
      "text/markdown": [
       "\n",
       "A grouped_df: 6 × 7\n",
       "\n",
       "| 마감년월2 &lt;fct&gt; | 거주시도명 &lt;fct&gt; | 직종중분류명 &lt;fct&gt; | 연령 &lt;fct&gt; | 학력 &lt;fct&gt; | 성별 &lt;fct&gt; | 총취업건수 &lt;int&gt; |\n",
       "|---|---|---|---|---|---|---|\n",
       "| 2018-01 | [11]서울 | [01]관리직(임원·부서장) | 29세 이하 | 고졸 이하     | 남 | 57 |\n",
       "| 2018-01 | [11]서울 | [01]관리직(임원·부서장) | 29세 이하 | 고졸 이하     | 여 | 35 |\n",
       "| 2018-01 | [11]서울 | [01]관리직(임원·부서장) | 29세 이하 | 대졸          | 남 | 74 |\n",
       "| 2018-01 | [11]서울 | [01]관리직(임원·부서장) | 29세 이하 | 대졸          | 여 | 65 |\n",
       "| 2018-01 | [11]서울 | [01]관리직(임원·부서장) | 29세 이하 | 대학원졸 이상 | 남 |  2 |\n",
       "| 2018-01 | [11]서울 | [01]관리직(임원·부서장) | 29세 이하 | 대학원졸 이상 | 여 |  5 |\n",
       "\n"
      ],
      "text/plain": [
       "  마감년월2 거주시도명 직종중분류명             연령      학력          성별\n",
       "1 2018-01   [11]서울   [01]관리직(임원·부서장) 29세 이하 고졸 이하     남  \n",
       "2 2018-01   [11]서울   [01]관리직(임원·부서장) 29세 이하 고졸 이하     여  \n",
       "3 2018-01   [11]서울   [01]관리직(임원·부서장) 29세 이하 대졸          남  \n",
       "4 2018-01   [11]서울   [01]관리직(임원·부서장) 29세 이하 대졸          여  \n",
       "5 2018-01   [11]서울   [01]관리직(임원·부서장) 29세 이하 대학원졸 이상 남  \n",
       "6 2018-01   [11]서울   [01]관리직(임원·부서장) 29세 이하 대학원졸 이상 여  \n",
       "  총취업건수\n",
       "1 57        \n",
       "2 35        \n",
       "3 74        \n",
       "4 65        \n",
       "5  2        \n",
       "6  5        "
      ]
     },
     "metadata": {},
     "output_type": "display_data"
    }
   ],
   "source": [
    "# 결과 확인\n",
    "head(data2)"
   ]
  },
  {
   "cell_type": "markdown",
   "metadata": {},
   "source": [
    "연령, 학력, 성별 변수에 대해서 전진선택법(Forward Selection)을 사용하여 모델을 선택해본다."
   ]
  },
  {
   "cell_type": "code",
   "execution_count": 66,
   "metadata": {
    "vscode": {
     "languageId": "r"
    }
   },
   "outputs": [
    {
     "data": {
      "text/plain": [
       "\n",
       "Call:\n",
       "glm(formula = 총취업건수 ~ 1, family = poisson, data = data2)\n",
       "\n",
       "Coefficients:\n",
       "             Estimate Std. Error z value Pr(>|z|)    \n",
       "(Intercept) 2.5871232  0.0003154    8203   <2e-16 ***\n",
       "---\n",
       "Signif. codes:  0 '***' 0.001 '**' 0.01 '*' 0.05 '.' 0.1 ' ' 1\n",
       "\n",
       "(Dispersion parameter for poisson family taken to be 1)\n",
       "\n",
       "    Null deviance: 30572533  on 756338  degrees of freedom\n",
       "Residual deviance: 30572533  on 756338  degrees of freedom\n",
       "AIC: 33044921\n",
       "\n",
       "Number of Fisher Scoring iterations: 7\n"
      ]
     },
     "metadata": {},
     "output_type": "display_data"
    }
   ],
   "source": [
    "model_null = glm(총취업건수 ~ 1, data=data2, family=poisson)\n",
    "summary(model_null)"
   ]
  },
  {
   "cell_type": "code",
   "execution_count": 62,
   "metadata": {
    "vscode": {
     "languageId": "r"
    }
   },
   "outputs": [
    {
     "data": {
      "text/plain": [
       "\n",
       "Call:\n",
       "glm(formula = 총취업건수 ~ 근무시도명, family = poisson, \n",
       "    data = data1)\n",
       "\n",
       "Coefficients:\n",
       "                        Estimate Std. Error  z value Pr(>|z|)    \n",
       "(Intercept)             2.006047   0.001806 1110.823   <2e-16 ***\n",
       "근무시도명[11]서울      1.251382   0.001955  640.174   <2e-16 ***\n",
       "근무시도명[26]부산      0.684112   0.002128  321.508   <2e-16 ***\n",
       "근무시도명[27]대구      0.146383   0.002411   60.712   <2e-16 ***\n",
       "근무시도명[28]인천      0.439871   0.002247  195.771   <2e-16 ***\n",
       "근무시도명[29]광주      0.004826   0.002604    1.853   0.0638 .  \n",
       "근무시도명[30]대전     -0.305269   0.002825 -108.043   <2e-16 ***\n",
       "근무시도명[31]울산      0.003718   0.002690    1.382   0.1669    \n",
       "근무시도명[36]세종     -0.588856   0.004101 -143.583   <2e-16 ***\n",
       "근무시도명[41]경기      1.471155   0.001924  764.498   <2e-16 ***\n",
       "근무시도명[42,51]강원   0.231367   0.002453   94.335   <2e-16 ***\n",
       "근무시도명[43]충북      0.210780   0.002445   86.191   <2e-16 ***\n",
       "근무시도명[44]충남      0.157614   0.002482   63.512   <2e-16 ***\n",
       "근무시도명[45,52]전북   0.322866   0.002324  138.940   <2e-16 ***\n",
       "근무시도명[46]전남      0.277342   0.002455  112.949   <2e-16 ***\n",
       "근무시도명[47]경북      0.324505   0.002349  138.134   <2e-16 ***\n",
       "근무시도명[48]경남      0.581186   0.002188  265.589   <2e-16 ***\n",
       "근무시도명[49,50]제주  -0.406103   0.003311 -122.664   <2e-16 ***\n",
       "근무시도명[A1]재택근무 -1.870327   0.030056  -62.228   <2e-16 ***\n",
       "---\n",
       "Signif. codes:  0 '***' 0.001 '**' 0.01 '*' 0.05 '.' 0.1 ' ' 1\n",
       "\n",
       "(Dispersion parameter for poisson family taken to be 1)\n",
       "\n",
       "    Null deviance: 30904996  on 776241  degrees of freedom\n",
       "Residual deviance: 27585185  on 776223  degrees of freedom\n",
       "AIC: 30102214\n",
       "\n",
       "Number of Fisher Scoring iterations: 7\n"
      ]
     },
     "metadata": {},
     "output_type": "display_data"
    }
   ],
   "source": [
    "model1_1 = glm(총취업건수 ~ 근무시도명, data=data1, family=poisson)\n",
    "summary(model1_1)"
   ]
  },
  {
   "cell_type": "code",
   "execution_count": 63,
   "metadata": {
    "vscode": {
     "languageId": "r"
    }
   },
   "outputs": [
    {
     "data": {
      "text/plain": [
       "\n",
       "Call:\n",
       "glm(formula = 총취업건수 ~ 거주시도명, family = poisson, \n",
       "    data = data2)\n",
       "\n",
       "Coefficients:\n",
       "                        Estimate Std. Error  z value Pr(>|z|)    \n",
       "(Intercept)            3.0882580  0.0008287 3726.544  < 2e-16 ***\n",
       "거주시도명[26]부산    -0.3939126  0.0013926 -282.863  < 2e-16 ***\n",
       "거주시도명[27]대구    -0.9085251  0.0017700 -513.300  < 2e-16 ***\n",
       "거주시도명[28]인천    -0.5900706  0.0015159 -389.247  < 2e-16 ***\n",
       "거주시도명[29]광주    -1.0649353  0.0020245 -526.029  < 2e-16 ***\n",
       "거주시도명[30]대전    -1.3682237  0.0022913 -597.150  < 2e-16 ***\n",
       "거주시도명[31]울산    -1.0719574  0.0021281 -503.713  < 2e-16 ***\n",
       "거주시도명[36]세종    -1.7555140  0.0037599 -466.907  < 2e-16 ***\n",
       "거주시도명[41]경기     0.4705468  0.0010358  454.281  < 2e-16 ***\n",
       "거주시도명[42,51]강원 -0.8524373  0.0018270 -466.579  < 2e-16 ***\n",
       "거주시도명[43]충북    -0.8658810  0.0018146 -477.167  < 2e-16 ***\n",
       "거주시도명[44]충남    -0.9225637  0.0018559 -497.095  < 2e-16 ***\n",
       "거주시도명[45,52]전북 -0.7392866  0.0016501 -448.017  < 2e-16 ***\n",
       "거주시도명[46]전남    -0.7875809  0.0018067 -435.927  < 2e-16 ***\n",
       "거주시도명[47]경북    -0.7250027  0.0016615 -436.362  < 2e-16 ***\n",
       "거주시도명[48]경남    -0.4546220  0.0014441 -314.823  < 2e-16 ***\n",
       "거주시도명[49,50]제주 -1.4905914  0.0028719 -519.021  < 2e-16 ***\n",
       "거주시도명[y]분류불능 -3.0882580  0.7071073   -4.367 1.26e-05 ***\n",
       "---\n",
       "Signif. codes:  0 '***' 0.001 '**' 0.01 '*' 0.05 '.' 0.1 ' ' 1\n",
       "\n",
       "(Dispersion parameter for poisson family taken to be 1)\n",
       "\n",
       "    Null deviance: 30572533  on 756338  degrees of freedom\n",
       "Residual deviance: 27264506  on 756321  degrees of freedom\n",
       "AIC: 29736928\n",
       "\n",
       "Number of Fisher Scoring iterations: 7\n"
      ]
     },
     "metadata": {},
     "output_type": "display_data"
    }
   ],
   "source": [
    "model1_2 = glm(총취업건수 ~ 거주시도명, data=data2, family=poisson)\n",
    "summary(model1_2)"
   ]
  },
  {
   "cell_type": "code",
   "execution_count": 64,
   "metadata": {
    "vscode": {
     "languageId": "r"
    }
   },
   "outputs": [
    {
     "data": {
      "text/plain": [
       "\n",
       "Call:\n",
       "glm(formula = 총취업건수 ~ 마감년월2, family = poisson, \n",
       "    data = data2)\n",
       "\n",
       "Coefficients:\n",
       "                  Estimate Std. Error  z value Pr(>|z|)    \n",
       "(Intercept)       2.788244   0.002430 1147.314  < 2e-16 ***\n",
       "마감년월22018-02 -0.129118   0.003589  -35.978  < 2e-16 ***\n",
       "마감년월22018-03  0.110999   0.003293   33.709  < 2e-16 ***\n",
       "마감년월22018-04 -0.005246   0.003421   -1.533   0.1252    \n",
       "마감년월22018-05 -0.093775   0.003545  -26.453  < 2e-16 ***\n",
       "마감년월22018-06 -0.098311   0.003588  -27.400  < 2e-16 ***\n",
       "마감년월22018-07 -0.022858   0.003472   -6.584 4.58e-11 ***\n",
       "마감년월22018-08 -0.105381   0.003573  -29.496  < 2e-16 ***\n",
       "마감년월22018-09 -0.181796   0.003653  -49.772  < 2e-16 ***\n",
       "마감년월22018-10 -0.119168   0.003591  -33.183  < 2e-16 ***\n",
       "마감년월22018-11 -0.083876   0.003540  -23.696  < 2e-16 ***\n",
       "마감년월22018-12 -0.270246   0.003827  -70.615  < 2e-16 ***\n",
       "마감년월22019-01 -0.084249   0.003535  -23.836  < 2e-16 ***\n",
       "마감년월22019-02 -0.247765   0.003756  -65.968  < 2e-16 ***\n",
       "마감년월22019-03 -0.022333   0.003397   -6.575 4.86e-11 ***\n",
       "마감년월22019-04 -0.081703   0.003516  -23.239  < 2e-16 ***\n",
       "마감년월22019-05 -0.154553   0.003619  -42.701  < 2e-16 ***\n",
       "마감년월22019-06 -0.242340   0.003748  -64.660  < 2e-16 ***\n",
       "마감년월22019-07 -0.118481   0.003567  -33.219  < 2e-16 ***\n",
       "마감년월22019-08 -0.247198   0.003766  -65.634  < 2e-16 ***\n",
       "마감년월22019-09 -0.271233   0.003775  -71.843  < 2e-16 ***\n",
       "마감년월22019-10 -0.199831   0.003686  -54.212  < 2e-16 ***\n",
       "마감년월22019-11 -0.240014   0.003760  -63.840  < 2e-16 ***\n",
       "마감년월22019-12 -0.348605   0.003958  -88.083  < 2e-16 ***\n",
       "마감년월22020-01 -0.194520   0.003682  -52.829  < 2e-16 ***\n",
       "마감년월22020-02 -0.190577   0.003662  -52.041  < 2e-16 ***\n",
       "마감년월22020-03 -0.223197   0.003654  -61.091  < 2e-16 ***\n",
       "마감년월22020-04 -0.309513   0.003789  -81.684  < 2e-16 ***\n",
       "마감년월22020-05 -0.353411   0.003879  -91.120  < 2e-16 ***\n",
       "마감년월22020-06 -0.282432   0.003783  -74.664  < 2e-16 ***\n",
       "마감년월22020-07 -0.221919   0.003679  -60.314  < 2e-16 ***\n",
       "마감년월22020-08 -0.131901   0.003556  -37.089  < 2e-16 ***\n",
       "마감년월22020-09 -0.156714   0.003568  -43.919  < 2e-16 ***\n",
       "마감년월22020-10 -0.235645   0.003692  -63.817  < 2e-16 ***\n",
       "마감년월22020-11 -0.205172   0.003647  -56.253  < 2e-16 ***\n",
       "마감년월22020-12 -0.276923   0.003764  -73.576  < 2e-16 ***\n",
       "마감년월22021-01 -0.190253   0.003608  -52.734  < 2e-16 ***\n",
       "마감년월22021-02 -0.245051   0.003674  -66.705  < 2e-16 ***\n",
       "마감년월22021-03 -0.006786   0.003339   -2.032   0.0421 *  \n",
       "마감년월22021-04 -0.113410   0.003440  -32.971  < 2e-16 ***\n",
       "마감년월22021-05 -0.215708   0.003551  -60.740  < 2e-16 ***\n",
       "마감년월22021-06 -0.181819   0.003504  -51.889  < 2e-16 ***\n",
       "마감년월22021-07 -0.129216   0.003448  -37.479  < 2e-16 ***\n",
       "마감년월22021-08 -0.247852   0.003596  -68.925  < 2e-16 ***\n",
       "마감년월22021-09 -0.228722   0.003551  -64.413  < 2e-16 ***\n",
       "마감년월22021-10 -0.227503   0.003574  -63.651  < 2e-16 ***\n",
       "마감년월22021-11 -0.234667   0.003607  -65.060  < 2e-16 ***\n",
       "마감년월22021-12 -0.346789   0.003780  -91.748  < 2e-16 ***\n",
       "마감년월22022-01 -0.189349   0.003530  -53.638  < 2e-16 ***\n",
       "마감년월22022-02 -0.314927   0.003673  -85.741  < 2e-16 ***\n",
       "마감년월22022-03 -0.137696   0.003406  -40.422  < 2e-16 ***\n",
       "마감년월22022-04 -0.200731   0.003530  -56.861  < 2e-16 ***\n",
       "마감년월22022-05 -0.266408   0.003646  -73.066  < 2e-16 ***\n",
       "마감년월22022-06 -0.293907   0.003704  -79.344  < 2e-16 ***\n",
       "마감년월22022-07 -0.227565   0.003604  -63.136  < 2e-16 ***\n",
       "마감년월22022-08 -0.288313   0.003692  -78.087  < 2e-16 ***\n",
       "마감년월22022-09 -0.301511   0.003702  -81.456  < 2e-16 ***\n",
       "마감년월22022-10 -0.325532   0.003747  -86.885  < 2e-16 ***\n",
       "마감년월22022-11 -0.295193   0.003719  -79.366  < 2e-16 ***\n",
       "마감년월22022-12 -0.367381   0.003874  -94.826  < 2e-16 ***\n",
       "마감년월22023-01 -0.243291   0.003631  -67.003  < 2e-16 ***\n",
       "마감년월22023-02 -0.245146   0.003589  -68.314  < 2e-16 ***\n",
       "마감년월22023-03 -0.112238   0.003378  -33.224  < 2e-16 ***\n",
       "마감년월22023-04 -0.230277   0.003545  -64.958  < 2e-16 ***\n",
       "마감년월22023-05 -0.279677   0.003647  -76.687  < 2e-16 ***\n",
       "마감년월22023-06 -0.252730   0.003637  -69.483  < 2e-16 ***\n",
       "마감년월22023-07 -0.237779   0.003606  -65.942  < 2e-16 ***\n",
       "마감년월22023-08 -0.280477   0.003672  -76.379  < 2e-16 ***\n",
       "마감년월22023-09 -0.311087   0.003697  -84.137  < 2e-16 ***\n",
       "마감년월22023-10 -0.388662   0.003832 -101.438  < 2e-16 ***\n",
       "마감년월22023-11 -0.313458   0.003734  -83.952  < 2e-16 ***\n",
       "마감년월22023-12 -0.515745   0.004074 -126.582  < 2e-16 ***\n",
       "---\n",
       "Signif. codes:  0 '***' 0.001 '**' 0.01 '*' 0.05 '.' 0.1 ' ' 1\n",
       "\n",
       "(Dispersion parameter for poisson family taken to be 1)\n",
       "\n",
       "    Null deviance: 30572533  on 756338  degrees of freedom\n",
       "Residual deviance: 30459234  on 756267  degrees of freedom\n",
       "AIC: 32931764\n",
       "\n",
       "Number of Fisher Scoring iterations: 7\n"
      ]
     },
     "metadata": {},
     "output_type": "display_data"
    }
   ],
   "source": [
    "model1_3 = glm(총취업건수 ~ 마감년월2, data=data2, family=poisson)\n",
    "summary(model1_3)"
   ]
  },
  {
   "cell_type": "code",
   "execution_count": 65,
   "metadata": {
    "vscode": {
     "languageId": "r"
    }
   },
   "outputs": [
    {
     "data": {
      "text/plain": [
       "\n",
       "Call:\n",
       "glm(formula = 총취업건수 ~ 직종중분류명, family = poisson, \n",
       "    data = data2)\n",
       "\n",
       "Coefficients:\n",
       "                                                             Estimate\n",
       "(Intercept)                                                  1.826376\n",
       "직종중분류명[02]경영·행정·사무직                           1.848297\n",
       "직종중분류명[03]금융·보험직                                -0.700570\n",
       "직종중분류명[11]인문·사회과학 연구직                       -1.403734\n",
       "직종중분류명[12]자연·생명과학 연구직                       -1.198325\n",
       "직종중분류명[13]정보통신 연구개발직 및 공학기술직            0.329520\n",
       "직종중분류명[14]건설·채굴 연구개발직 및 공학기술직         -0.148623\n",
       "직종중분류명[15]제조 연구개발직 및 공학기술직                0.314833\n",
       "직종중분류명[21]교육직                                      -0.176079\n",
       "직종중분류명[22]법률직                                      -1.004038\n",
       "직종중분류명[23]사회복지·종교직                             0.707522\n",
       "직종중분류명[24]경찰·소방·교도직                          -1.467351\n",
       "직종중분류명[25]군인                                        -1.697414\n",
       "직종중분류명[30]보건·의료직                                 0.800134\n",
       "직종중분류명[41]예술·디자인·방송직                         0.505861\n",
       "직종중분류명[42]스포츠·레크리에이션직                      -1.125236\n",
       "직종중분류명[51]미용·예식 서비스직                         -0.365401\n",
       "직종중분류명[52]여행·숙박·오락 서비스직                   -0.740307\n",
       "직종중분류명[53]음식 서비스직                                0.794649\n",
       "직종중분류명[54]경호·경비직                                 0.885630\n",
       "직종중분류명[55]돌봄 서비스직                                1.674191\n",
       "직종중분류명[56]청소 및 기타 개인서비스직                    2.203448\n",
       "직종중분류명[61]영업·판매직                                 0.306290\n",
       "직종중분류명[62]운전·운송직                                 0.980701\n",
       "직종중분류명[70]건설·채굴직                                 0.506517\n",
       "직종중분류명[81]기계 설치·정비·생산직                      0.729721\n",
       "직종중분류명[82]금속·재료 설치·정비·생산직                0.199588\n",
       "직종중분류명[83]전기·전자 설치·정비·생산직                0.625358\n",
       "직종중분류명[84]정보통신 설치·정비직                       -1.009332\n",
       "직종중분류명[85]화학·환경 설치·정비·생산직               -0.533886\n",
       "직종중분류명[86]섬유·의복 생산직                           -0.655885\n",
       "직종중분류명[87]식품가공·생산직                            -0.471451\n",
       "직종중분류명[88]인쇄·목재·공예 및 기타 설치·정비·생산직 -0.412794\n",
       "직종중분류명[89]제조 단순직                                  0.807360\n",
       "직종중분류명[90]농림어업직                                   0.290996\n",
       "직종중분류명[y]분류불능                                     -1.826376\n",
       "                                                            Std. Error  z value\n",
       "(Intercept)                                                   0.002217  823.724\n",
       "직종중분류명[02]경영·행정·사무직                            0.002342  789.353\n",
       "직종중분류명[03]금융·보험직                                  0.005113 -137.024\n",
       "직종중분류명[11]인문·사회과학 연구직                         0.014849  -94.537\n",
       "직종중분류명[12]자연·생명과학 연구직                         0.008346 -143.583\n",
       "직종중분류명[13]정보통신 연구개발직 및 공학기술직             0.003307   99.640\n",
       "직종중분류명[14]건설·채굴 연구개발직 및 공학기술직           0.003501  -42.450\n",
       "직종중분류명[15]제조 연구개발직 및 공학기술직                 0.002926  107.615\n",
       "직종중분류명[21]교육직                                        0.003451  -51.028\n",
       "직종중분류명[22]법률직                                        0.006949 -144.481\n",
       "직종중분류명[23]사회복지·종교직                              0.002654  266.553\n",
       "직종중분류명[24]경찰·소방·교도직                            0.015481  -94.785\n",
       "직종중분류명[25]군인                                          0.032234  -52.659\n",
       "직종중분류명[30]보건·의료직                                  0.002658  301.008\n",
       "직종중분류명[41]예술·디자인·방송직                          0.002936  172.274\n",
       "직종중분류명[42]스포츠·레크리에이션직                        0.006779 -165.997\n",
       "직종중분류명[51]미용·예식 서비스직                           0.004500  -81.201\n",
       "직종중분류명[52]여행·숙박·오락 서비스직                     0.005101 -145.119\n",
       "직종중분류명[53]음식 서비스직                                 0.002668  297.861\n",
       "직종중분류명[54]경호·경비직                                  0.002808  315.446\n",
       "직종중분류명[55]돌봄 서비스직                                 0.002475  676.341\n",
       "직종중분류명[56]청소 및 기타 개인서비스직                     0.002347  938.962\n",
       "직종중분류명[61]영업·판매직                                  0.002922  104.831\n",
       "직종중분류명[62]운전·운송직                                  0.002719  360.638\n",
       "직종중분류명[70]건설·채굴직                                  0.002997  168.991\n",
       "직종중분류명[81]기계 설치·정비·생산직                       0.002807  259.936\n",
       "직종중분류명[82]금속·재료 설치·정비·생산직                 0.003538   56.411\n",
       "직종중분류명[83]전기·전자 설치·정비·생산직                 0.002812  222.412\n",
       "직종중분류명[84]정보통신 설치·정비직                         0.007023 -143.714\n",
       "직종중분류명[85]화학·환경 설치·정비·생산직                 0.004475 -119.292\n",
       "직종중분류명[86]섬유·의복 생산직                             0.005947 -110.296\n",
       "직종중분류명[87]식품가공·생산직                              0.004024 -117.161\n",
       "직종중분류명[88]인쇄·목재·공예 및 기타 설치·정비·생산직   0.004302  -95.944\n",
       "직종중분류명[89]제조 단순직                                   0.002666  302.781\n",
       "직종중분류명[90]농림어업직                                    0.003400   85.578\n",
       "직종중분류명[y]분류불능                                       1.000002   -1.826\n",
       "                                                            Pr(>|z|)    \n",
       "(Intercept)                                                   <2e-16 ***\n",
       "직종중분류명[02]경영·행정·사무직                            <2e-16 ***\n",
       "직종중분류명[03]금융·보험직                                  <2e-16 ***\n",
       "직종중분류명[11]인문·사회과학 연구직                         <2e-16 ***\n",
       "직종중분류명[12]자연·생명과학 연구직                         <2e-16 ***\n",
       "직종중분류명[13]정보통신 연구개발직 및 공학기술직             <2e-16 ***\n",
       "직종중분류명[14]건설·채굴 연구개발직 및 공학기술직           <2e-16 ***\n",
       "직종중분류명[15]제조 연구개발직 및 공학기술직                 <2e-16 ***\n",
       "직종중분류명[21]교육직                                        <2e-16 ***\n",
       "직종중분류명[22]법률직                                        <2e-16 ***\n",
       "직종중분류명[23]사회복지·종교직                              <2e-16 ***\n",
       "직종중분류명[24]경찰·소방·교도직                            <2e-16 ***\n",
       "직종중분류명[25]군인                                          <2e-16 ***\n",
       "직종중분류명[30]보건·의료직                                  <2e-16 ***\n",
       "직종중분류명[41]예술·디자인·방송직                          <2e-16 ***\n",
       "직종중분류명[42]스포츠·레크리에이션직                        <2e-16 ***\n",
       "직종중분류명[51]미용·예식 서비스직                           <2e-16 ***\n",
       "직종중분류명[52]여행·숙박·오락 서비스직                     <2e-16 ***\n",
       "직종중분류명[53]음식 서비스직                                 <2e-16 ***\n",
       "직종중분류명[54]경호·경비직                                  <2e-16 ***\n",
       "직종중분류명[55]돌봄 서비스직                                 <2e-16 ***\n",
       "직종중분류명[56]청소 및 기타 개인서비스직                     <2e-16 ***\n",
       "직종중분류명[61]영업·판매직                                  <2e-16 ***\n",
       "직종중분류명[62]운전·운송직                                  <2e-16 ***\n",
       "직종중분류명[70]건설·채굴직                                  <2e-16 ***\n",
       "직종중분류명[81]기계 설치·정비·생산직                       <2e-16 ***\n",
       "직종중분류명[82]금속·재료 설치·정비·생산직                 <2e-16 ***\n",
       "직종중분류명[83]전기·전자 설치·정비·생산직                 <2e-16 ***\n",
       "직종중분류명[84]정보통신 설치·정비직                         <2e-16 ***\n",
       "직종중분류명[85]화학·환경 설치·정비·생산직                 <2e-16 ***\n",
       "직종중분류명[86]섬유·의복 생산직                             <2e-16 ***\n",
       "직종중분류명[87]식품가공·생산직                              <2e-16 ***\n",
       "직종중분류명[88]인쇄·목재·공예 및 기타 설치·정비·생산직   <2e-16 ***\n",
       "직종중분류명[89]제조 단순직                                   <2e-16 ***\n",
       "직종중분류명[90]농림어업직                                    <2e-16 ***\n",
       "직종중분류명[y]분류불능                                       0.0678 .  \n",
       "---\n",
       "Signif. codes:  0 '***' 0.001 '**' 0.01 '*' 0.05 '.' 0.1 ' ' 1\n",
       "\n",
       "(Dispersion parameter for poisson family taken to be 1)\n",
       "\n",
       "    Null deviance: 30572533  on 756338  degrees of freedom\n",
       "Residual deviance: 23588618  on 756303  degrees of freedom\n",
       "AIC: 26061076\n",
       "\n",
       "Number of Fisher Scoring iterations: 7\n"
      ]
     },
     "metadata": {},
     "output_type": "display_data"
    }
   ],
   "source": [
    "model1_4 = glm(총취업건수 ~ 직종중분류명, data=data2, family=poisson)\n",
    "summary(model1_4)"
   ]
  },
  {
   "cell_type": "code",
   "execution_count": 67,
   "metadata": {
    "vscode": {
     "languageId": "r"
    }
   },
   "outputs": [
    {
     "data": {
      "text/plain": [
       "\n",
       "Call:\n",
       "glm(formula = 총취업건수 ~ 연령, family = poisson, data = data2)\n",
       "\n",
       "Coefficients:\n",
       "                Estimate Std. Error  z value Pr(>|z|)    \n",
       "(Intercept)    2.5292397  0.0006792 3724.052   <2e-16 ***\n",
       "연령30대      -0.3068254  0.0010629 -288.676   <2e-16 ***\n",
       "연령40대      -0.1856975  0.0010295 -180.385   <2e-16 ***\n",
       "연령50대       0.1861138  0.0009531  195.263   <2e-16 ***\n",
       "연령60세 이상  0.5596910  0.0009296  602.079   <2e-16 ***\n",
       "연령무관      -2.5292397  1.0000002   -2.529   0.0114 *  \n",
       "---\n",
       "Signif. codes:  0 '***' 0.001 '**' 0.01 '*' 0.05 '.' 0.1 ' ' 1\n",
       "\n",
       "(Dispersion parameter for poisson family taken to be 1)\n",
       "\n",
       "    Null deviance: 30572533  on 756338  degrees of freedom\n",
       "Residual deviance: 29664248  on 756333  degrees of freedom\n",
       "AIC: 32136646\n",
       "\n",
       "Number of Fisher Scoring iterations: 7\n"
      ]
     },
     "metadata": {},
     "output_type": "display_data"
    }
   ],
   "source": [
    "model1_5 = glm(총취업건수 ~ 연령, data=data2, family=poisson)\n",
    "summary(model1_5)"
   ]
  },
  {
   "cell_type": "code",
   "execution_count": 68,
   "metadata": {
    "vscode": {
     "languageId": "r"
    }
   },
   "outputs": [
    {
     "data": {
      "text/plain": [
       "\n",
       "Call:\n",
       "glm(formula = 총취업건수 ~ 학력, family = poisson, data = data2)\n",
       "\n",
       "Coefficients:\n",
       "                    Estimate Std. Error z value Pr(>|z|)    \n",
       "(Intercept)        2.9317667  0.0004577  6406.1   <2e-16 ***\n",
       "학력대졸          -0.6224502  0.0008231  -756.3   <2e-16 ***\n",
       "학력대학원졸 이상 -2.0110389  0.0025065  -802.3   <2e-16 ***\n",
       "학력분류불능       0.8776112  0.0009799   895.6   <2e-16 ***\n",
       "학력전문대졸      -0.7967835  0.0009041  -881.3   <2e-16 ***\n",
       "---\n",
       "Signif. codes:  0 '***' 0.001 '**' 0.01 '*' 0.05 '.' 0.1 ' ' 1\n",
       "\n",
       "(Dispersion parameter for poisson family taken to be 1)\n",
       "\n",
       "    Null deviance: 30572533  on 756338  degrees of freedom\n",
       "Residual deviance: 27248988  on 756334  degrees of freedom\n",
       "AIC: 29721384\n",
       "\n",
       "Number of Fisher Scoring iterations: 7\n"
      ]
     },
     "metadata": {},
     "output_type": "display_data"
    }
   ],
   "source": [
    "model1_6 = glm(총취업건수 ~ 학력, data=data2, family=poisson)\n",
    "summary(model1_6)"
   ]
  },
  {
   "cell_type": "code",
   "execution_count": 70,
   "metadata": {
    "vscode": {
     "languageId": "r"
    }
   },
   "outputs": [
    {
     "data": {
      "text/plain": [
       "\n",
       "Call:\n",
       "glm(formula = 총취업건수 ~ 성별, family = poisson, data = data2)\n",
       "\n",
       "Coefficients:\n",
       "             Estimate Std. Error z value Pr(>|z|)    \n",
       "(Intercept) 2.2403968  0.0005035    4450   <2e-16 ***\n",
       "성별여      0.6582461  0.0006459    1019   <2e-16 ***\n",
       "---\n",
       "Signif. codes:  0 '***' 0.001 '**' 0.01 '*' 0.05 '.' 0.1 ' ' 1\n",
       "\n",
       "(Dispersion parameter for poisson family taken to be 1)\n",
       "\n",
       "    Null deviance: 30572533  on 756338  degrees of freedom\n",
       "Residual deviance: 29502663  on 756337  degrees of freedom\n",
       "AIC: 31975053\n",
       "\n",
       "Number of Fisher Scoring iterations: 7\n"
      ]
     },
     "metadata": {},
     "output_type": "display_data"
    }
   ],
   "source": [
    "model1_7 = glm(총취업건수 ~ 성별, data=data2, family=poisson)\n",
    "summary(model1_7)"
   ]
  },
  {
   "cell_type": "code",
   "execution_count": 74,
   "metadata": {
    "vscode": {
     "languageId": "r"
    }
   },
   "outputs": [
    {
     "name": "stdout",
     "output_type": "stream",
     "text": [
      "Start:  AIC=33044921\n",
      "총취업건수 ~ 1\n",
      "\n",
      "               Df Deviance      AIC\n",
      "+ 직종중분류명 35 23588618 26061076\n",
      "+ 학력          4 27248988 29721384\n",
      "+ 거주시도명   17 27264506 29736928\n",
      "+ 성별          1 29502663 31975053\n",
      "+ 연령          5 29664248 32136646\n",
      "<none>            30572533 33044921\n",
      "\n",
      "Step:  AIC=26061076\n",
      "총취업건수 ~ 직종중분류명\n",
      "\n",
      "             Df Deviance      AIC\n",
      "+ 거주시도명 17 19670154 22142646\n",
      "+ 학력        4 20910259 23382725\n",
      "+ 성별        1 22796533 25268993\n",
      "+ 연령        5 23103367 25575834\n",
      "<none>          23588618 26061076\n",
      "\n",
      "Step:  AIC=22142646\n",
      "총취업건수 ~ 직종중분류명 + 거주시도명\n",
      "\n",
      "       Df Deviance      AIC\n",
      "+ 학력  4 16762198 19234697\n",
      "+ 성별  1 18896636 21369130\n",
      "+ 연령  5 19222333 21694835\n",
      "<none>    19670154 22142646\n",
      "\n",
      "Step:  AIC=19234697\n",
      "총취업건수 ~ 직종중분류명 + 거주시도명 + 학력\n",
      "\n",
      "       Df Deviance      AIC\n",
      "+ 성별  1 16198554 18671056\n",
      "+ 연령  5 16390111 18862621\n",
      "<none>    16762198 19234697\n",
      "\n",
      "Step:  AIC=18671056\n",
      "총취업건수 ~ 직종중분류명 + 거주시도명 + 학력 + \n",
      "    성별\n",
      "\n",
      "       Df Deviance      AIC\n",
      "+ 연령  5 15783391 18255902\n",
      "<none>    16198554 18671056\n",
      "\n",
      "Step:  AIC=18255902\n",
      "총취업건수 ~ 직종중분류명 + 거주시도명 + 학력 + \n",
      "    성별 + 연령\n",
      "\n"
     ]
    },
    {
     "data": {
      "text/plain": [
       "\n",
       "Call:\n",
       "glm(formula = 총취업건수 ~ 직종중분류명 + 거주시도명 + \n",
       "    학력 + 성별 + 연령, family = poisson, data = data2)\n",
       "\n",
       "Coefficients:\n",
       "                                                              Estimate\n",
       "(Intercept)                                                  2.8077641\n",
       "직종중분류명[02]경영·행정·사무직                           1.8754265\n",
       "직종중분류명[03]금융·보험직                                -0.9420861\n",
       "직종중분류명[11]인문·사회과학 연구직                       -1.1172816\n",
       "직종중분류명[12]자연·생명과학 연구직                       -1.1160246\n",
       "직종중분류명[13]정보통신 연구개발직 및 공학기술직            0.3432200\n",
       "직종중분류명[14]건설·채굴 연구개발직 및 공학기술직         -0.0395573\n",
       "직종중분류명[15]제조 연구개발직 및 공학기술직                0.4696869\n",
       "직종중분류명[21]교육직                                      -0.2521469\n",
       "직종중분류명[22]법률직                                      -1.2740799\n",
       "직종중분류명[23]사회복지·종교직                             0.7003538\n",
       "직종중분류명[24]경찰·소방·교도직                          -1.7967720\n",
       "직종중분류명[25]군인                                        -2.1855054\n",
       "직종중분류명[30]보건·의료직                                 0.7016786\n",
       "직종중분류명[41]예술·디자인·방송직                         0.4588728\n",
       "직종중분류명[42]스포츠·레크리에이션직                      -1.3750536\n",
       "직종중분류명[51]미용·예식 서비스직                         -0.7158411\n",
       "직종중분류명[52]여행·숙박·오락 서비스직                   -1.0290641\n",
       "직종중분류명[53]음식 서비스직                                0.6030716\n",
       "직종중분류명[54]경호·경비직                                 0.7959002\n",
       "직종중분류명[55]돌봄 서비스직                                1.3719393\n",
       "직종중분류명[56]청소 및 기타 개인서비스직                    1.9273736\n",
       "직종중분류명[61]영업·판매직                                 0.1953503\n",
       "직종중분류명[62]운전·운송직                                 0.9567809\n",
       "직종중분류명[70]건설·채굴직                                 0.4142811\n",
       "직종중분류명[81]기계 설치·정비·생산직                      0.6810158\n",
       "직종중분류명[82]금속·재료 설치·정비·생산직                0.1171240\n",
       "직종중분류명[83]전기·전자 설치·정비·생산직                0.5712235\n",
       "직종중분류명[84]정보통신 설치·정비직                       -0.9974765\n",
       "직종중분류명[85]화학·환경 설치·정비·생산직               -0.6822365\n",
       "직종중분류명[86]섬유·의복 생산직                           -1.1666287\n",
       "직종중분류명[87]식품가공·생산직                            -0.6720283\n",
       "직종중분류명[88]인쇄·목재·공예 및 기타 설치·정비·생산직 -0.7002761\n",
       "직종중분류명[89]제조 단순직                                  0.6670429\n",
       "직종중분류명[90]농림어업직                                   0.0531900\n",
       "직종중분류명[y]분류불능                                     -2.2469694\n",
       "거주시도명[26]부산                                          -0.4789293\n",
       "거주시도명[27]대구                                          -1.0224352\n",
       "거주시도명[28]인천                                          -0.6895063\n",
       "거주시도명[29]광주                                          -1.2066168\n",
       "거주시도명[30]대전                                          -1.4904723\n",
       "거주시도명[31]울산                                          -1.2751121\n",
       "거주시도명[36]세종                                          -2.1172601\n",
       "거주시도명[41]경기                                           0.4782458\n",
       "거주시도명[42,51]강원                                       -1.0342388\n",
       "거주시도명[43]충북                                          -1.0351240\n",
       "거주시도명[44]충남                                          -1.0935310\n",
       "거주시도명[45,52]전북                                       -0.9142816\n",
       "거주시도명[46]전남                                          -0.9844482\n",
       "거주시도명[47]경북                                          -0.8536896\n",
       "거주시도명[48]경남                                          -0.5700600\n",
       "거주시도명[49,50]제주                                       -1.7525512\n",
       "거주시도명[y]분류불능                                       -3.8029368\n",
       "학력대졸                                                    -0.6112651\n",
       "학력대학원졸 이상                                           -2.3060563\n",
       "학력분류불능                                                 0.1194820\n",
       "학력전문대졸                                                -0.8488241\n",
       "성별여                                                       0.5153835\n",
       "연령30대                                                    -0.3582693\n",
       "연령40대                                                    -0.3430201\n",
       "연령50대                                                    -0.0818654\n",
       "연령60세 이상                                                0.1858744\n",
       "연령무관                                                    -3.0725296\n",
       "                                                            Std. Error  z value\n",
       "(Intercept)                                                  0.0024754 1134.273\n",
       "직종중분류명[02]경영·행정·사무직                           0.0023450  799.742\n",
       "직종중분류명[03]금융·보험직                                 0.0051154 -184.165\n",
       "직종중분류명[11]인문·사회과학 연구직                        0.0148608  -75.183\n",
       "직종중분류명[12]자연·생명과학 연구직                        0.0083533 -133.602\n",
       "직종중분류명[13]정보통신 연구개발직 및 공학기술직            0.0033130  103.597\n",
       "직종중분류명[14]건설·채굴 연구개발직 및 공학기술직          0.0035037  -11.290\n",
       "직종중분류명[15]제조 연구개발직 및 공학기술직                0.0029274  160.443\n",
       "직종중분류명[21]교육직                                       0.0034539  -73.004\n",
       "직종중분류명[22]법률직                                       0.0069534 -183.232\n",
       "직종중분류명[23]사회복지·종교직                             0.0026571  263.575\n",
       "직종중분류명[24]경찰·소방·교도직                           0.0154865 -116.022\n",
       "직종중분류명[25]군인                                         0.0322379  -67.793\n",
       "직종중분류명[30]보건·의료직                                 0.0026616  263.635\n",
       "직종중분류명[41]예술·디자인·방송직                         0.0029390  156.131\n",
       "직종중분류명[42]스포츠·레크리에이션직                       0.0067808 -202.786\n",
       "직종중분류명[51]미용·예식 서비스직                          0.0045040 -158.933\n",
       "직종중분류명[52]여행·숙박·오락 서비스직                    0.0051033 -201.648\n",
       "직종중분류명[53]음식 서비스직                                0.0026722  225.681\n",
       "직종중분류명[54]경호·경비직                                 0.0028109  283.145\n",
       "직종중분류명[55]돌봄 서비스직                                0.0024853  552.022\n",
       "직종중분류명[56]청소 및 기타 개인서비스직                    0.0023556  818.216\n",
       "직종중분류명[61]영업·판매직                                 0.0029227   66.839\n",
       "직종중분류명[62]운전·운송직                                 0.0027239  351.256\n",
       "직종중분류명[70]건설·채굴직                                 0.0030016  138.019\n",
       "직종중분류명[81]기계 설치·정비·생산직                      0.0028097  242.377\n",
       "직종중분류명[82]금속·재료 설치·정비·생산직                0.0035443   33.046\n",
       "직종중분류명[83]전기·전자 설치·정비·생산직                0.0028130  203.063\n",
       "직종중분류명[84]정보통신 설치·정비직                        0.0070316 -141.855\n",
       "직종중분류명[85]화학·환경 설치·정비·생산직                0.0044777 -152.364\n",
       "직종중분류명[86]섬유·의복 생산직                            0.0059501 -196.067\n",
       "직종중분류명[87]식품가공·생산직                             0.0040253 -166.952\n",
       "직종중분류명[88]인쇄·목재·공예 및 기타 설치·정비·생산직  0.0043044 -162.689\n",
       "직종중분류명[89]제조 단순직                                  0.0026692  249.899\n",
       "직종중분류명[90]농림어업직                                   0.0034030   15.630\n",
       "직종중분류명[y]분류불능                                      1.0000033   -2.247\n",
       "거주시도명[26]부산                                           0.0013945 -343.439\n",
       "거주시도명[27]대구                                           0.0017724 -576.861\n",
       "거주시도명[28]인천                                           0.0015180 -454.230\n",
       "거주시도명[29]광주                                           0.0020280 -594.979\n",
       "거주시도명[30]대전                                           0.0022940 -649.734\n",
       "거주시도명[31]울산                                           0.0021328 -597.854\n",
       "거주시도명[36]세종                                           0.0037620 -562.797\n",
       "거주시도명[41]경기                                           0.0010366  461.346\n",
       "거주시도명[42,51]강원                                        0.0018294 -565.355\n",
       "거주시도명[43]충북                                           0.0018170 -569.685\n",
       "거주시도명[44]충남                                           0.0018587 -588.322\n",
       "거주시도명[45,52]전북                                        0.0016517 -553.544\n",
       "거주시도명[46]전남                                           0.0018100 -543.905\n",
       "거주시도명[47]경북                                           0.0016646 -512.840\n",
       "거주시도명[48]경남                                           0.0014465 -394.088\n",
       "거주시도명[49,50]제주                                        0.0028747 -609.654\n",
       "거주시도명[y]분류불능                                        0.7071087   -5.378\n",
       "학력대졸                                                     0.0008284 -737.860\n",
       "학력대학원졸 이상                                            0.0025233 -913.903\n",
       "학력분류불능                                                 0.0010095  118.358\n",
       "학력전문대졸                                                 0.0009077 -935.162\n",
       "성별여                                                       0.0006698  769.451\n",
       "연령30대                                                     0.0010644 -336.608\n",
       "연령40대                                                     0.0010347 -331.527\n",
       "연령50대                                                     0.0009662  -84.727\n",
       "연령60세 이상                                                0.0009515  195.352\n",
       "연령무관                                                     1.0000023   -3.073\n",
       "                                                            Pr(>|z|)    \n",
       "(Intercept)                                                  < 2e-16 ***\n",
       "직종중분류명[02]경영·행정·사무직                           < 2e-16 ***\n",
       "직종중분류명[03]금융·보험직                                 < 2e-16 ***\n",
       "직종중분류명[11]인문·사회과학 연구직                        < 2e-16 ***\n",
       "직종중분류명[12]자연·생명과학 연구직                        < 2e-16 ***\n",
       "직종중분류명[13]정보통신 연구개발직 및 공학기술직            < 2e-16 ***\n",
       "직종중분류명[14]건설·채굴 연구개발직 및 공학기술직          < 2e-16 ***\n",
       "직종중분류명[15]제조 연구개발직 및 공학기술직                < 2e-16 ***\n",
       "직종중분류명[21]교육직                                       < 2e-16 ***\n",
       "직종중분류명[22]법률직                                       < 2e-16 ***\n",
       "직종중분류명[23]사회복지·종교직                             < 2e-16 ***\n",
       "직종중분류명[24]경찰·소방·교도직                           < 2e-16 ***\n",
       "직종중분류명[25]군인                                         < 2e-16 ***\n",
       "직종중분류명[30]보건·의료직                                 < 2e-16 ***\n",
       "직종중분류명[41]예술·디자인·방송직                         < 2e-16 ***\n",
       "직종중분류명[42]스포츠·레크리에이션직                       < 2e-16 ***\n",
       "직종중분류명[51]미용·예식 서비스직                          < 2e-16 ***\n",
       "직종중분류명[52]여행·숙박·오락 서비스직                    < 2e-16 ***\n",
       "직종중분류명[53]음식 서비스직                                < 2e-16 ***\n",
       "직종중분류명[54]경호·경비직                                 < 2e-16 ***\n",
       "직종중분류명[55]돌봄 서비스직                                < 2e-16 ***\n",
       "직종중분류명[56]청소 및 기타 개인서비스직                    < 2e-16 ***\n",
       "직종중분류명[61]영업·판매직                                 < 2e-16 ***\n",
       "직종중분류명[62]운전·운송직                                 < 2e-16 ***\n",
       "직종중분류명[70]건설·채굴직                                 < 2e-16 ***\n",
       "직종중분류명[81]기계 설치·정비·생산직                      < 2e-16 ***\n",
       "직종중분류명[82]금속·재료 설치·정비·생산직                < 2e-16 ***\n",
       "직종중분류명[83]전기·전자 설치·정비·생산직                < 2e-16 ***\n",
       "직종중분류명[84]정보통신 설치·정비직                        < 2e-16 ***\n",
       "직종중분류명[85]화학·환경 설치·정비·생산직                < 2e-16 ***\n",
       "직종중분류명[86]섬유·의복 생산직                            < 2e-16 ***\n",
       "직종중분류명[87]식품가공·생산직                             < 2e-16 ***\n",
       "직종중분류명[88]인쇄·목재·공예 및 기타 설치·정비·생산직  < 2e-16 ***\n",
       "직종중분류명[89]제조 단순직                                  < 2e-16 ***\n",
       "직종중분류명[90]농림어업직                                   < 2e-16 ***\n",
       "직종중분류명[y]분류불능                                      0.02464 *  \n",
       "거주시도명[26]부산                                           < 2e-16 ***\n",
       "거주시도명[27]대구                                           < 2e-16 ***\n",
       "거주시도명[28]인천                                           < 2e-16 ***\n",
       "거주시도명[29]광주                                           < 2e-16 ***\n",
       "거주시도명[30]대전                                           < 2e-16 ***\n",
       "거주시도명[31]울산                                           < 2e-16 ***\n",
       "거주시도명[36]세종                                           < 2e-16 ***\n",
       "거주시도명[41]경기                                           < 2e-16 ***\n",
       "거주시도명[42,51]강원                                        < 2e-16 ***\n",
       "거주시도명[43]충북                                           < 2e-16 ***\n",
       "거주시도명[44]충남                                           < 2e-16 ***\n",
       "거주시도명[45,52]전북                                        < 2e-16 ***\n",
       "거주시도명[46]전남                                           < 2e-16 ***\n",
       "거주시도명[47]경북                                           < 2e-16 ***\n",
       "거주시도명[48]경남                                           < 2e-16 ***\n",
       "거주시도명[49,50]제주                                        < 2e-16 ***\n",
       "거주시도명[y]분류불능                                       7.53e-08 ***\n",
       "학력대졸                                                     < 2e-16 ***\n",
       "학력대학원졸 이상                                            < 2e-16 ***\n",
       "학력분류불능                                                 < 2e-16 ***\n",
       "학력전문대졸                                                 < 2e-16 ***\n",
       "성별여                                                       < 2e-16 ***\n",
       "연령30대                                                     < 2e-16 ***\n",
       "연령40대                                                     < 2e-16 ***\n",
       "연령50대                                                     < 2e-16 ***\n",
       "연령60세 이상                                                < 2e-16 ***\n",
       "연령무관                                                     0.00212 ** \n",
       "---\n",
       "Signif. codes:  0 '***' 0.001 '**' 0.01 '*' 0.05 '.' 0.1 ' ' 1\n",
       "\n",
       "(Dispersion parameter for poisson family taken to be 1)\n",
       "\n",
       "    Null deviance: 30572533  on 756338  degrees of freedom\n",
       "Residual deviance: 15783391  on 756276  degrees of freedom\n",
       "AIC: 18255902\n",
       "\n",
       "Number of Fisher Scoring iterations: 6\n"
      ]
     },
     "metadata": {},
     "output_type": "display_data"
    }
   ],
   "source": [
    "model_fw = step(model_null, scope = ~ 거주시도명+직종중분류명+연령+학력+성별, direction=\"forward\")\n",
    "summary(model_fw)"
   ]
  },
  {
   "cell_type": "code",
   "execution_count": 52,
   "metadata": {
    "vscode": {
     "languageId": "r"
    }
   },
   "outputs": [
    {
     "name": "stdout",
     "output_type": "stream",
     "text": [
      "Start:  AIC=33421988\n",
      "총취업건수 ~ 1\n",
      "\n",
      "       Df Deviance      AIC\n",
      "+ 학력  4 27627628 30144628\n",
      "+ 성별  1 29785631 32302625\n",
      "+ 연령  5 30008648 32525651\n",
      "<none>    30904996 33421988\n",
      "\n",
      "Step:  AIC=30144628\n",
      "총취업건수 ~ 학력\n",
      "\n",
      "       Df Deviance      AIC\n",
      "+ 성별  1 26755857 29272859\n",
      "+ 연령  5 27004343 29521354\n",
      "<none>    27627628 30144628\n",
      "\n",
      "Step:  AIC=29272859\n",
      "총취업건수 ~ 학력 + 성별\n",
      "\n",
      "       Df Deviance      AIC\n",
      "+ 연령  5 26043834 28560847\n",
      "<none>    26755857 29272859\n",
      "\n",
      "Step:  AIC=28560847\n",
      "총취업건수 ~ 학력 + 성별 + 연령\n",
      "\n"
     ]
    },
    {
     "data": {
      "text/plain": [
       "\n",
       "Call:\n",
       "glm(formula = 총취업건수 ~ 학력 + 성별 + 연령, family = poisson, \n",
       "    data = data1)\n",
       "\n",
       "Coefficients:\n",
       "                    Estimate Std. Error  z value Pr(>|z|)    \n",
       "(Intercept)        2.5225725  0.0008619 2926.710  < 2e-16 ***\n",
       "학력대졸          -0.5368382  0.0008266 -649.482  < 2e-16 ***\n",
       "학력대학원졸 이상 -1.9141804  0.0025075 -763.388  < 2e-16 ***\n",
       "학력분류불능       0.7712435  0.0009900  779.049  < 2e-16 ***\n",
       "학력전문대졸      -0.7138234  0.0009077 -786.391  < 2e-16 ***\n",
       "성별여             0.6297340  0.0006517  966.308  < 2e-16 ***\n",
       "연령30대          -0.2784797  0.0010633 -261.901  < 2e-16 ***\n",
       "연령40대          -0.2317445  0.0010317 -224.623  < 2e-16 ***\n",
       "연령50대           0.0867698  0.0009599   90.394  < 2e-16 ***\n",
       "연령60세 이상      0.4798562  0.0009411  509.880  < 2e-16 ***\n",
       "연령무관          -3.1523064  1.0000003   -3.152  0.00162 ** \n",
       "---\n",
       "Signif. codes:  0 '***' 0.001 '**' 0.01 '*' 0.05 '.' 0.1 ' ' 1\n",
       "\n",
       "(Dispersion parameter for poisson family taken to be 1)\n",
       "\n",
       "    Null deviance: 30904996  on 776241  degrees of freedom\n",
       "Residual deviance: 26043834  on 776231  degrees of freedom\n",
       "AIC: 28560847\n",
       "\n",
       "Number of Fisher Scoring iterations: 7\n"
      ]
     },
     "metadata": {},
     "output_type": "display_data"
    }
   ],
   "source": [
    "# 빈 모델\n",
    "model_null = glm(총취업건수~1, data=data1, family=poisson)\n",
    "\n",
    "# Forward Selection\n",
    "model_fw = step(model_null, scope = ~ 연령+학력+성별, direction=\"forward\")\n",
    "\n",
    "# 결과\n",
    "summary(model_fw)\n",
    "\n",
    ")"
   ]
  },
  {
   "cell_type": "code",
   "execution_count": 53,
   "metadata": {
    "vscode": {
     "languageId": "r"
    }
   },
   "outputs": [
    {
     "data": {
      "text/plain": [
       "\n",
       "Call:\n",
       "glm(formula = 총취업건수 ~ 성별 * 학력 + 연령, family = poisson, \n",
       "    data = data1)\n",
       "\n",
       "Coefficients:\n",
       "                           Estimate Std. Error  z value Pr(>|z|)    \n",
       "(Intercept)               2.6623285  0.0009127 2917.030  < 2e-16 ***\n",
       "성별여                    0.4044268  0.0009219  438.701  < 2e-16 ***\n",
       "학력대졸                 -0.6200618  0.0012136 -510.940  < 2e-16 ***\n",
       "학력대학원졸 이상        -1.9141022  0.0035644 -537.006  < 2e-16 ***\n",
       "학력분류불능             -1.4271181  0.0047498 -300.459  < 2e-16 ***\n",
       "학력전문대졸             -0.8539378  0.0013797 -618.928  < 2e-16 ***\n",
       "연령30대                 -0.2821751  0.0010635 -265.333  < 2e-16 ***\n",
       "연령40대                 -0.2386146  0.0010326 -231.076  < 2e-16 ***\n",
       "연령50대                  0.0723122  0.0009624   75.140  < 2e-16 ***\n",
       "연령60세 이상             0.4669254  0.0009434  494.964  < 2e-16 ***\n",
       "연령무관                 -3.0667553  1.0000004   -3.067  0.00216 ** \n",
       "성별여:학력대졸           0.1345647  0.0016539   81.364  < 2e-16 ***\n",
       "성별여:학력대학원졸 이상 -0.0210013  0.0050167   -4.186 2.84e-05 ***\n",
       "성별여:학력분류불능       2.5730410  0.0048691  528.440  < 2e-16 ***\n",
       "성별여:학력전문대졸       0.2383655  0.0018272  130.452  < 2e-16 ***\n",
       "---\n",
       "Signif. codes:  0 '***' 0.001 '**' 0.01 '*' 0.05 '.' 0.1 ' ' 1\n",
       "\n",
       "(Dispersion parameter for poisson family taken to be 1)\n",
       "\n",
       "    Null deviance: 30904996  on 776241  degrees of freedom\n",
       "Residual deviance: 25447629  on 776227  degrees of freedom\n",
       "AIC: 27964650\n",
       "\n",
       "Number of Fisher Scoring iterations: 7\n"
      ]
     },
     "metadata": {},
     "output_type": "display_data"
    }
   ],
   "source": [
    "# 성별-학력의 상호작용까지 감안한 모델을 적합해본다.\n",
    "model2 = glm(총취업건수 ~ 성별*학력+연령, data=data1, family=poisson)\n",
    "summary(model2)"
   ]
  },
  {
   "cell_type": "code",
   "execution_count": 57,
   "metadata": {
    "vscode": {
     "languageId": "r"
    }
   },
   "outputs": [
    {
     "data": {
      "text/plain": [
       "\n",
       "Call:\n",
       "glm(formula = 총취업건수 ~ 성별 * 직종중분류명, \n",
       "    family = poisson, data = data1)\n",
       "\n",
       "Coefficients: (1 not defined because of singularities)\n",
       "                                                                    Estimate\n",
       "(Intercept)                                                         2.028406\n",
       "성별여                                                             -0.755735\n",
       "직종중분류명[02]경영·행정·사무직                                  1.017650\n",
       "직종중분류명[03]금융·보험직                                       -0.993661\n",
       "직종중분류명[11]인문·사회과학 연구직                              -1.705413\n",
       "직종중분류명[12]자연·생명과학 연구직                              -1.535943\n",
       "직종중분류명[13]정보통신 연구개발직 및 공학기술직                   0.213889\n",
       "직종중분류명[14]건설·채굴 연구개발직 및 공학기술직                -0.219146\n",
       "직종중분류명[15]제조 연구개발직 및 공학기술직                       0.277595\n",
       "직종중분류명[21]교육직                                             -1.152123\n",
       "직종중분류명[22]법률직                                             -1.383985\n",
       "직종중분류명[23]사회복지·종교직                                   -0.722314\n",
       "직종중분류명[24]경찰·소방·교도직                                 -1.645515\n",
       "직종중분류명[25]군인                                               -1.884272\n",
       "직종중분류명[30]보건·의료직                                       -0.711547\n",
       "직종중분류명[41]예술·디자인·방송직                               -0.036085\n",
       "직종중분류명[42]스포츠·레크리에이션직                             -1.245526\n",
       "직종중분류명[51]미용·예식 서비스직                                -1.279036\n",
       "직종중분류명[52]여행·숙박·오락 서비스직                          -1.165041\n",
       "직종중분류명[53]음식 서비스직                                      -0.164615\n",
       "직종중분류명[54]경호·경비직                                        0.839157\n",
       "직종중분류명[55]돌봄 서비스직                                      -0.830881\n",
       "직종중분류명[56]청소 및 기타 개인서비스직                           0.611788\n",
       "직종중분류명[61]영업·판매직                                       -0.071146\n",
       "직종중분류명[62]운전·운송직                                        0.909558\n",
       "직종중분류명[70]건설·채굴직                                        0.431434\n",
       "직종중분류명[81]기계 설치·정비·생산직                             0.709717\n",
       "직종중분류명[82]금속·재료 설치·정비·생산직                       0.105639\n",
       "직종중분류명[83]전기·전자 설치·정비·생산직                       0.477161\n",
       "직종중분류명[84]정보통신 설치·정비직                              -1.218050\n",
       "직종중분류명[85]화학·환경 설치·정비·생산직                      -0.738429\n",
       "직종중분류명[86]섬유·의복 생산직                                  -1.075684\n",
       "직종중분류명[87]식품가공·생산직                                   -0.925587\n",
       "직종중분류명[88]인쇄·목재·공예 및 기타 설치·정비·생산직        -0.675548\n",
       "직종중분류명[89]제조 단순직                                         0.394545\n",
       "직종중분류명[90]농림어업직                                          0.141622\n",
       "직종중분류명[y]분류불능                                            -2.028406\n",
       "성별여:직종중분류명[02]경영·행정·사무직                           1.703750\n",
       "성별여:직종중분류명[03]금융·보험직                                 0.926245\n",
       "성별여:직종중분류명[11]인문·사회과학 연구직                        1.048290\n",
       "성별여:직종중분류명[12]자연·생명과학 연구직                        1.083394\n",
       "성별여:직종중분류명[13]정보통신 연구개발직 및 공학기술직            0.535370\n",
       "성별여:직종중분류명[14]건설·채굴 연구개발직 및 공학기술직         -0.068070\n",
       "성별여:직종중분류명[15]제조 연구개발직 및 공학기술직                0.039592\n",
       "성별여:직종중분류명[21]교육직                                       1.748846\n",
       "성별여:직종중분류명[22]법률직                                       1.090454\n",
       "성별여:직종중분류명[23]사회복지·종교직                             2.324666\n",
       "성별여:직종중분류명[24]경찰·소방·교도직                           0.627240\n",
       "성별여:직종중분류명[25]군인                                         0.681559\n",
       "성별여:직종중분류명[30]보건·의료직                                 2.384896\n",
       "성별여:직종중분류명[41]예술·디자인·방송직                         1.283958\n",
       "성별여:직종중분류명[42]스포츠·레크리에이션직                       0.527696\n",
       "성별여:직종중분류명[51]미용·예식 서비스직                          1.622225\n",
       "성별여:직종중분류명[52]여행·숙박·오락 서비스직                    1.156613\n",
       "성별여:직종중분류명[53]음식 서비스직                                1.781411\n",
       "성별여:직종중분류명[54]경호·경비직                                -1.065307\n",
       "성별여:직종중분류명[55]돌봄 서비스직                                3.409576\n",
       "성별여:직종중분류명[56]청소 및 기타 개인서비스직                    2.634195\n",
       "성별여:직종중분류명[61]영업·판매직                                 1.019696\n",
       "성별여:직종중분류명[62]운전·운송직                                -1.463766\n",
       "성별여:직종중분류명[70]건설·채굴직                                -0.695402\n",
       "성별여:직종중분류명[81]기계 설치·정비·생산직                     -0.353120\n",
       "성별여:직종중분류명[82]금속·재료 설치·정비·생산직               -0.642483\n",
       "성별여:직종중분류명[83]전기·전자 설치·정비·생산직                0.435696\n",
       "성별여:직종중분류명[84]정보통신 설치·정비직                        0.017624\n",
       "성별여:직종중분류명[85]화학·환경 설치·정비·생산직                0.690805\n",
       "성별여:직종중분류명[86]섬유·의복 생산직                            1.119159\n",
       "성별여:직종중분류명[87]식품가공·생산직                             1.160345\n",
       "성별여:직종중분류명[88]인쇄·목재·공예 및 기타 설치·정비·생산직  0.832492\n",
       "성별여:직종중분류명[89]제조 단순직                                  1.098149\n",
       "성별여:직종중분류명[90]농림어업직                                   0.499302\n",
       "성별여:직종중분류명[y]분류불능                                            NA\n",
       "                                                                   Std. Error\n",
       "(Intercept)                                                          0.002537\n",
       "성별여                                                               0.005222\n",
       "직종중분류명[02]경영·행정·사무직                                   0.002909\n",
       "직종중분류명[03]금융·보험직                                         0.007634\n",
       "직종중분류명[11]인문·사회과학 연구직                                0.024114\n",
       "직종중분류명[12]자연·생명과학 연구직                                0.012701\n",
       "직종중분류명[13]정보통신 연구개발직 및 공학기술직                    0.003833\n",
       "직종중분류명[14]건설·채굴 연구개발직 및 공학기술직                  0.003848\n",
       "직종중분류명[15]제조 연구개발직 및 공학기술직                        0.003312\n",
       "직종중분류명[21]교육직                                               0.006987\n",
       "직종중분류명[22]법률직                                               0.011284\n",
       "직종중분류명[23]사회복지·종교직                                     0.004905\n",
       "직종중분류명[24]경찰·소방·교도직                                   0.017631\n",
       "직종중분류명[25]군인                                                 0.036725\n",
       "직종중분류명[30]보건·의료직                                         0.005230\n",
       "직종중분류명[41]예술·디자인·방송직                                 0.004169\n",
       "직종중분류명[42]스포츠·레크리에이션직                               0.008545\n",
       "직종중분류명[51]미용·예식 서비스직                                  0.011035\n",
       "직종중분류명[52]여행·숙박·오락 서비스직                            0.008269\n",
       "직종중분류명[53]음식 서비스직                                        0.004179\n",
       "직종중분류명[54]경호·경비직                                         0.003086\n",
       "직종중분류명[55]돌봄 서비스직                                        0.006494\n",
       "직종중분류명[56]청소 및 기타 개인서비스직                            0.003363\n",
       "직종중분류명[61]영업·판매직                                         0.003834\n",
       "직종중분류명[62]운전·운송직                                         0.002995\n",
       "직종중분류명[70]건설·채굴직                                         0.003278\n",
       "직종중분류명[81]기계 설치·정비·생산직                              0.003132\n",
       "직종중분류명[82]금속·재료 설치·정비·생산직                        0.003802\n",
       "직종중분류명[83]전기·전자 설치·정비·생산직                        0.003239\n",
       "직종중분류명[84]정보통신 설치·정비직                                0.007177\n",
       "직종중분류명[85]화학·환경 설치·정비·생산직                        0.005300\n",
       "직종중분류명[86]섬유·의복 생산직                                    0.009362\n",
       "직종중분류명[87]식품가공·생산직                                     0.005965\n",
       "직종중분류명[88]인쇄·목재·공예 및 기타 설치·정비·생산직          0.005464\n",
       "직종중분류명[89]제조 단순직                                          0.003352\n",
       "직종중분류명[90]농림어업직                                           0.003966\n",
       "직종중분류명[y]분류불능                                              1.000003\n",
       "성별여:직종중분류명[02]경영·행정·사무직                            0.005485\n",
       "성별여:직종중분류명[03]금융·보험직                                  0.010726\n",
       "성별여:직종중분류명[11]인문·사회과학 연구직                         0.030776\n",
       "성별여:직종중분류명[12]자연·생명과학 연구직                         0.017128\n",
       "성별여:직종중분류명[13]정보통신 연구개발직 및 공학기술직             0.007600\n",
       "성별여:직종중분류명[14]건설·채굴 연구개발직 및 공학기술직           0.009751\n",
       "성별여:직종중분류명[15]제조 연구개발직 및 공학기술직                 0.007095\n",
       "성별여:직종중분류명[21]교육직                                        0.008833\n",
       "성별여:직종중분류명[22]법률직                                        0.014691\n",
       "성별여:직종중분류명[23]사회복지·종교직                              0.006879\n",
       "성별여:직종중분류명[24]경찰·소방·교도직                            0.036842\n",
       "성별여:직종중분류명[25]군인                                          0.076642\n",
       "성별여:직종중분류명[30]보건·의료직                                  0.007112\n",
       "성별여:직종중분류명[41]예술·디자인·방송직                          0.006620\n",
       "성별여:직종중분류명[42]스포츠·레크리에이션직                        0.014170\n",
       "성별여:직종중분류명[51]미용·예식 서비스직                           0.012661\n",
       "성별여:직종중분류명[52]여행·숙박·오락 서비스직                     0.011010\n",
       "성별여:직종중분류명[53]음식 서비스직                                 0.006407\n",
       "성별여:직종중분류명[54]경호·경비직                                  0.010249\n",
       "성별여:직종중분류명[55]돌봄 서비스직                                 0.008017\n",
       "성별여:직종중분류명[56]청소 및 기타 개인서비스직                     0.005728\n",
       "성별여:직종중분류명[61]영업·판매직                                  0.006479\n",
       "성별여:직종중분류명[62]운전·운송직                                  0.011912\n",
       "성별여:직종중분류명[70]건설·채굴직                                  0.010160\n",
       "성별여:직종중분류명[81]기계 설치·정비·생산직                       0.007415\n",
       "성별여:직종중분류명[82]금속·재료 설치·정비·생산직                 0.013449\n",
       "성별여:직종중분류명[83]전기·전자 설치·정비·생산직                 0.006533\n",
       "성별여:직종중분류명[84]정보통신 설치·정비직                         0.055701\n",
       "성별여:직종중분류명[85]화학·환경 설치·정비·생산직                 0.009947\n",
       "성별여:직종중분류명[86]섬유·의복 생산직                             0.012538\n",
       "성별여:직종중분류명[87]식품가공·생산직                              0.008649\n",
       "성별여:직종중분류명[88]인쇄·목재·공예 및 기타 설치·정비·생산직   0.009116\n",
       "성별여:직종중분류명[89]제조 단순직                                   0.006009\n",
       "성별여:직종중분류명[90]농림어업직                                    0.007740\n",
       "성별여:직종중분류명[y]분류불능                                             NA\n",
       "                                                                    z value\n",
       "(Intercept)                                                         799.670\n",
       "성별여                                                             -144.718\n",
       "직종중분류명[02]경영·행정·사무직                                  349.861\n",
       "직종중분류명[03]금융·보험직                                       -130.157\n",
       "직종중분류명[11]인문·사회과학 연구직                               -70.723\n",
       "직종중분류명[12]자연·생명과학 연구직                              -120.935\n",
       "직종중분류명[13]정보통신 연구개발직 및 공학기술직                    55.803\n",
       "직종중분류명[14]건설·채굴 연구개발직 및 공학기술직                 -56.943\n",
       "직종중분류명[15]제조 연구개발직 및 공학기술직                        83.819\n",
       "직종중분류명[21]교육직                                             -164.890\n",
       "직종중분류명[22]법률직                                             -122.646\n",
       "직종중분류명[23]사회복지·종교직                                   -147.261\n",
       "직종중분류명[24]경찰·소방·교도직                                  -93.331\n",
       "직종중분류명[25]군인                                                -51.308\n",
       "직종중분류명[30]보건·의료직                                       -136.062\n",
       "직종중분류명[41]예술·디자인·방송직                                 -8.656\n",
       "직종중분류명[42]스포츠·레크리에이션직                             -145.761\n",
       "직종중분류명[51]미용·예식 서비스직                                -115.906\n",
       "직종중분류명[52]여행·숙박·오락 서비스직                          -140.896\n",
       "직종중분류명[53]음식 서비스직                                       -39.387\n",
       "직종중분류명[54]경호·경비직                                        271.928\n",
       "직종중분류명[55]돌봄 서비스직                                      -127.941\n",
       "직종중분류명[56]청소 및 기타 개인서비스직                           181.940\n",
       "직종중분류명[61]영업·판매직                                        -18.559\n",
       "직종중분류명[62]운전·운송직                                        303.710\n",
       "직종중분류명[70]건설·채굴직                                        131.607\n",
       "직종중분류명[81]기계 설치·정비·생산직                             226.589\n",
       "직종중분류명[82]금속·재료 설치·정비·생산직                        27.785\n",
       "직종중분류명[83]전기·전자 설치·정비·생산직                       147.311\n",
       "직종중분류명[84]정보통신 설치·정비직                              -169.725\n",
       "직종중분류명[85]화학·환경 설치·정비·생산직                      -139.316\n",
       "직종중분류명[86]섬유·의복 생산직                                  -114.898\n",
       "직종중분류명[87]식품가공·생산직                                   -155.157\n",
       "직종중분류명[88]인쇄·목재·공예 및 기타 설치·정비·생산직        -123.645\n",
       "직종중분류명[89]제조 단순직                                         117.714\n",
       "직종중분류명[90]농림어업직                                           35.712\n",
       "직종중분류명[y]분류불능                                              -2.028\n",
       "성별여:직종중분류명[02]경영·행정·사무직                           310.627\n",
       "성별여:직종중분류명[03]금융·보험직                                  86.353\n",
       "성별여:직종중분류명[11]인문·사회과학 연구직                         34.062\n",
       "성별여:직종중분류명[12]자연·생명과학 연구직                         63.252\n",
       "성별여:직종중분류명[13]정보통신 연구개발직 및 공학기술직             70.445\n",
       "성별여:직종중분류명[14]건설·채굴 연구개발직 및 공학기술직           -6.981\n",
       "성별여:직종중분류명[15]제조 연구개발직 및 공학기술직                  5.580\n",
       "성별여:직종중분류명[21]교육직                                       197.981\n",
       "성별여:직종중분류명[22]법률직                                        74.227\n",
       "성별여:직종중분류명[23]사회복지·종교직                             337.948\n",
       "성별여:직종중분류명[24]경찰·소방·교도직                            17.025\n",
       "성별여:직종중분류명[25]군인                                           8.893\n",
       "성별여:직종중분류명[30]보건·의료직                                 335.332\n",
       "성별여:직종중분류명[41]예술·디자인·방송직                         193.965\n",
       "성별여:직종중분류명[42]스포츠·레크리에이션직                        37.240\n",
       "성별여:직종중분류명[51]미용·예식 서비스직                          128.130\n",
       "성별여:직종중분류명[52]여행·숙박·오락 서비스직                    105.047\n",
       "성별여:직종중분류명[53]음식 서비스직                                278.027\n",
       "성별여:직종중분류명[54]경호·경비직                                -103.943\n",
       "성별여:직종중분류명[55]돌봄 서비스직                                425.316\n",
       "성별여:직종중분류명[56]청소 및 기타 개인서비스직                    459.841\n",
       "성별여:직종중분류명[61]영업·판매직                                 157.385\n",
       "성별여:직종중분류명[62]운전·운송직                                -122.880\n",
       "성별여:직종중분류명[70]건설·채굴직                                 -68.443\n",
       "성별여:직종중분류명[81]기계 설치·정비·생산직                      -47.625\n",
       "성별여:직종중분류명[82]금속·재료 설치·정비·생산직                -47.772\n",
       "성별여:직종중분류명[83]전기·전자 설치·정비·생산직                 66.688\n",
       "성별여:직종중분류명[84]정보통신 설치·정비직                          0.316\n",
       "성별여:직종중분류명[85]화학·환경 설치·정비·생산직                 69.450\n",
       "성별여:직종중분류명[86]섬유·의복 생산직                             89.265\n",
       "성별여:직종중분류명[87]식품가공·생산직                             134.153\n",
       "성별여:직종중분류명[88]인쇄·목재·공예 및 기타 설치·정비·생산직   91.323\n",
       "성별여:직종중분류명[89]제조 단순직                                  182.741\n",
       "성별여:직종중분류명[90]농림어업직                                    64.510\n",
       "성별여:직종중분류명[y]분류불능                                           NA\n",
       "                                                                   Pr(>|z|)    \n",
       "(Intercept)                                                         < 2e-16 ***\n",
       "성별여                                                              < 2e-16 ***\n",
       "직종중분류명[02]경영·행정·사무직                                  < 2e-16 ***\n",
       "직종중분류명[03]금융·보험직                                        < 2e-16 ***\n",
       "직종중분류명[11]인문·사회과학 연구직                               < 2e-16 ***\n",
       "직종중분류명[12]자연·생명과학 연구직                               < 2e-16 ***\n",
       "직종중분류명[13]정보통신 연구개발직 및 공학기술직                   < 2e-16 ***\n",
       "직종중분류명[14]건설·채굴 연구개발직 및 공학기술직                 < 2e-16 ***\n",
       "직종중분류명[15]제조 연구개발직 및 공학기술직                       < 2e-16 ***\n",
       "직종중분류명[21]교육직                                              < 2e-16 ***\n",
       "직종중분류명[22]법률직                                              < 2e-16 ***\n",
       "직종중분류명[23]사회복지·종교직                                    < 2e-16 ***\n",
       "직종중분류명[24]경찰·소방·교도직                                  < 2e-16 ***\n",
       "직종중분류명[25]군인                                                < 2e-16 ***\n",
       "직종중분류명[30]보건·의료직                                        < 2e-16 ***\n",
       "직종중분류명[41]예술·디자인·방송직                                < 2e-16 ***\n",
       "직종중분류명[42]스포츠·레크리에이션직                              < 2e-16 ***\n",
       "직종중분류명[51]미용·예식 서비스직                                 < 2e-16 ***\n",
       "직종중분류명[52]여행·숙박·오락 서비스직                           < 2e-16 ***\n",
       "직종중분류명[53]음식 서비스직                                       < 2e-16 ***\n",
       "직종중분류명[54]경호·경비직                                        < 2e-16 ***\n",
       "직종중분류명[55]돌봄 서비스직                                       < 2e-16 ***\n",
       "직종중분류명[56]청소 및 기타 개인서비스직                           < 2e-16 ***\n",
       "직종중분류명[61]영업·판매직                                        < 2e-16 ***\n",
       "직종중분류명[62]운전·운송직                                        < 2e-16 ***\n",
       "직종중분류명[70]건설·채굴직                                        < 2e-16 ***\n",
       "직종중분류명[81]기계 설치·정비·생산직                             < 2e-16 ***\n",
       "직종중분류명[82]금속·재료 설치·정비·생산직                       < 2e-16 ***\n",
       "직종중분류명[83]전기·전자 설치·정비·생산직                       < 2e-16 ***\n",
       "직종중분류명[84]정보통신 설치·정비직                               < 2e-16 ***\n",
       "직종중분류명[85]화학·환경 설치·정비·생산직                       < 2e-16 ***\n",
       "직종중분류명[86]섬유·의복 생산직                                   < 2e-16 ***\n",
       "직종중분류명[87]식품가공·생산직                                    < 2e-16 ***\n",
       "직종중분류명[88]인쇄·목재·공예 및 기타 설치·정비·생산직         < 2e-16 ***\n",
       "직종중분류명[89]제조 단순직                                         < 2e-16 ***\n",
       "직종중분류명[90]농림어업직                                          < 2e-16 ***\n",
       "직종중분류명[y]분류불능                                              0.0425 *  \n",
       "성별여:직종중분류명[02]경영·행정·사무직                           < 2e-16 ***\n",
       "성별여:직종중분류명[03]금융·보험직                                 < 2e-16 ***\n",
       "성별여:직종중분류명[11]인문·사회과학 연구직                        < 2e-16 ***\n",
       "성별여:직종중분류명[12]자연·생명과학 연구직                        < 2e-16 ***\n",
       "성별여:직종중분류명[13]정보통신 연구개발직 및 공학기술직            < 2e-16 ***\n",
       "성별여:직종중분류명[14]건설·채굴 연구개발직 및 공학기술직         2.93e-12 ***\n",
       "성별여:직종중분류명[15]제조 연구개발직 및 공학기술직               2.40e-08 ***\n",
       "성별여:직종중분류명[21]교육직                                       < 2e-16 ***\n",
       "성별여:직종중분류명[22]법률직                                       < 2e-16 ***\n",
       "성별여:직종중분류명[23]사회복지·종교직                             < 2e-16 ***\n",
       "성별여:직종중분류명[24]경찰·소방·교도직                           < 2e-16 ***\n",
       "성별여:직종중분류명[25]군인                                         < 2e-16 ***\n",
       "성별여:직종중분류명[30]보건·의료직                                 < 2e-16 ***\n",
       "성별여:직종중분류명[41]예술·디자인·방송직                         < 2e-16 ***\n",
       "성별여:직종중분류명[42]스포츠·레크리에이션직                       < 2e-16 ***\n",
       "성별여:직종중분류명[51]미용·예식 서비스직                          < 2e-16 ***\n",
       "성별여:직종중분류명[52]여행·숙박·오락 서비스직                    < 2e-16 ***\n",
       "성별여:직종중분류명[53]음식 서비스직                                < 2e-16 ***\n",
       "성별여:직종중분류명[54]경호·경비직                                 < 2e-16 ***\n",
       "성별여:직종중분류명[55]돌봄 서비스직                                < 2e-16 ***\n",
       "성별여:직종중분류명[56]청소 및 기타 개인서비스직                    < 2e-16 ***\n",
       "성별여:직종중분류명[61]영업·판매직                                 < 2e-16 ***\n",
       "성별여:직종중분류명[62]운전·운송직                                 < 2e-16 ***\n",
       "성별여:직종중분류명[70]건설·채굴직                                 < 2e-16 ***\n",
       "성별여:직종중분류명[81]기계 설치·정비·생산직                      < 2e-16 ***\n",
       "성별여:직종중분류명[82]금속·재료 설치·정비·생산직                < 2e-16 ***\n",
       "성별여:직종중분류명[83]전기·전자 설치·정비·생산직                < 2e-16 ***\n",
       "성별여:직종중분류명[84]정보통신 설치·정비직                         0.7517    \n",
       "성별여:직종중분류명[85]화학·환경 설치·정비·생산직                < 2e-16 ***\n",
       "성별여:직종중분류명[86]섬유·의복 생산직                            < 2e-16 ***\n",
       "성별여:직종중분류명[87]식품가공·생산직                             < 2e-16 ***\n",
       "성별여:직종중분류명[88]인쇄·목재·공예 및 기타 설치·정비·생산직  < 2e-16 ***\n",
       "성별여:직종중분류명[89]제조 단순직                                  < 2e-16 ***\n",
       "성별여:직종중분류명[90]농림어업직                                   < 2e-16 ***\n",
       "성별여:직종중분류명[y]분류불능                                           NA    \n",
       "---\n",
       "Signif. codes:  0 '***' 0.001 '**' 0.01 '*' 0.05 '.' 0.1 ' ' 1\n",
       "\n",
       "(Dispersion parameter for poisson family taken to be 1)\n",
       "\n",
       "    Null deviance: 30904996  on 776241  degrees of freedom\n",
       "Residual deviance: 21363891  on 776171  degrees of freedom\n",
       "AIC: 23881023\n",
       "\n",
       "Number of Fisher Scoring iterations: 7\n"
      ]
     },
     "metadata": {},
     "output_type": "display_data"
    }
   ],
   "source": [
    "# 성별-직종의 상호작용 모델을 적합해본다.\n",
    "model3 = glm(총취업건수 ~ 성별*직종중분류명, data=data1, family=poisson)\n",
    "summary(model3)"
   ]
  },
  {
   "cell_type": "code",
   "execution_count": 56,
   "metadata": {
    "vscode": {
     "languageId": "r"
    }
   },
   "outputs": [
    {
     "data": {
      "text/plain": [
       "\n",
       "Call:\n",
       "glm(formula = 총취업건수 ~ 마감년월2 + 근무시도명 + \n",
       "    직종중분류명 + 연령 + 학력 + 성별, family = poisson, \n",
       "    data = data1)\n",
       "\n",
       "Coefficients:\n",
       "                                                              Estimate\n",
       "(Intercept)                                                  1.9752640\n",
       "마감년월22018-02                                            -0.1395503\n",
       "마감년월22018-03                                             0.1624267\n",
       "마감년월22018-04                                             0.0001103\n",
       "마감년월22018-05                                            -0.1007520\n",
       "마감년월22018-06                                            -0.1471125\n",
       "마감년월22018-07                                            -0.0315048\n",
       "마감년월22018-08                                            -0.1379615\n",
       "마감년월22018-09                                            -0.2041288\n",
       "마감년월22018-10                                            -0.1452235\n",
       "마감년월22018-11                                            -0.1080531\n",
       "마감년월22018-12                                            -0.3277837\n",
       "마감년월22019-01                                            -0.0930572\n",
       "마감년월22019-02                                            -0.2776842\n",
       "마감년월22019-03                                             0.0324137\n",
       "마감년월22019-04                                            -0.0644868\n",
       "마감년월22019-05                                            -0.1698762\n",
       "마감년월22019-06                                            -0.2752155\n",
       "마감년월22019-07                                            -0.1394824\n",
       "마감년월22019-08                                            -0.2848974\n",
       "마감년월22019-09                                            -0.3020760\n",
       "마감년월22019-10                                            -0.2295040\n",
       "마감년월22019-11                                            -0.2703010\n",
       "마감년월22019-12                                            -0.4000880\n",
       "마감년월22020-01                                            -0.2191917\n",
       "마감년월22020-02                                            -0.1914569\n",
       "마감년월22020-03                                            -0.1785043\n",
       "마감년월22020-04                                            -0.2949673\n",
       "마감년월22020-05                                            -0.3789168\n",
       "마감년월22020-06                                            -0.2944104\n",
       "마감년월22020-07                                            -0.2239178\n",
       "마감년월22020-08                                            -0.1332783\n",
       "마감년월22020-09                                            -0.1482340\n",
       "마감년월22020-10                                            -0.2392915\n",
       "마감년월22020-11                                            -0.2085179\n",
       "마감년월22020-12                                            -0.2713839\n",
       "마감년월22021-01                                            -0.1674943\n",
       "마감년월22021-02                                            -0.2216451\n",
       "마감년월22021-03                                             0.0732729\n",
       "마감년월22021-04                                            -0.1133343\n",
       "마감년월22021-05                                            -0.2607089\n",
       "마감년월22021-06                                            -0.2355253\n",
       "마감년월22021-07                                            -0.1787681\n",
       "마감년월22021-08                                            -0.3031035\n",
       "마감년월22021-09                                            -0.2798866\n",
       "마감년월22021-10                                            -0.2751690\n",
       "마감년월22021-11                                            -0.2949533\n",
       "마감년월22021-12                                            -0.4183371\n",
       "마감년월22022-01                                            -0.2353408\n",
       "마감년월22022-02                                            -0.3795681\n",
       "마감년월22022-03                                            -0.1230661\n",
       "마감년월22022-04                                            -0.2267515\n",
       "마감년월22022-05                                            -0.2979396\n",
       "마감년월22022-06                                            -0.3244645\n",
       "마감년월22022-07                                            -0.2522791\n",
       "마감년월22022-08                                            -0.3203131\n",
       "마감년월22022-09                                            -0.3300326\n",
       "마감년월22022-10                                            -0.3664268\n",
       "마감년월22022-11                                            -0.3277044\n",
       "마감년월22022-12                                            -0.4168418\n",
       "마감년월22023-01                                            -0.2701682\n",
       "마감년월22023-02                                            -0.2554841\n",
       "마감년월22023-03                                            -0.0691784\n",
       "마감년월22023-04                                            -0.2225361\n",
       "마감년월22023-05                                            -0.2966682\n",
       "마감년월22023-06                                            -0.2737337\n",
       "마감년월22023-07                                            -0.2500640\n",
       "마감년월22023-08                                            -0.3093891\n",
       "마감년월22023-09                                            -0.3156566\n",
       "마감년월22023-10                                            -0.4194380\n",
       "마감년월22023-11                                            -0.3247849\n",
       "마감년월22023-12                                            -0.5583974\n",
       "근무시도명[11]서울                                           1.2142720\n",
       "근무시도명[26]부산                                           0.5488415\n",
       "근무시도명[27]대구                                          -0.0174380\n",
       "근무시도명[28]인천                                           0.2833364\n",
       "근무시도명[29]광주                                          -0.1910725\n",
       "근무시도명[30]대전                                          -0.4666457\n",
       "근무시도명[31]울산                                          -0.2596343\n",
       "근무시도명[36]세종                                          -1.0436951\n",
       "근무시도명[41]경기                                           1.3994808\n",
       "근무시도명[42,51]강원                                       -0.0183513\n",
       "근무시도명[43]충북                                          -0.0281779\n",
       "근무시도명[44]충남                                          -0.0861459\n",
       "근무시도명[45,52]전북                                        0.0829098\n",
       "근무시도명[46]전남                                           0.0090846\n",
       "근무시도명[47]경북                                           0.1078910\n",
       "근무시도명[48]경남                                           0.3976043\n",
       "근무시도명[49,50]제주                                       -0.7219703\n",
       "근무시도명[A1]재택근무                                      -2.5193145\n",
       "직종중분류명[02]경영·행정·사무직                           1.8664793\n",
       "직종중분류명[03]금융·보험직                                -0.9124520\n",
       "직종중분류명[11]인문·사회과학 연구직                       -1.0370738\n",
       "직종중분류명[12]자연·생명과학 연구직                       -1.0598100\n",
       "직종중분류명[13]정보통신 연구개발직 및 공학기술직            0.3865850\n",
       "직종중분류명[14]건설·채굴 연구개발직 및 공학기술직         -0.0211796\n",
       "직종중분류명[15]제조 연구개발직 및 공학기술직                0.4716008\n",
       "직종중분류명[21]교육직                                      -0.2596317\n",
       "직종중분류명[22]법률직                                      -1.2365379\n",
       "직종중분류명[23]사회복지·종교직                             0.6999309\n",
       "직종중분류명[24]경찰·소방·교도직                          -1.7486437\n",
       "직종중분류명[25]군인                                        -2.0970604\n",
       "직종중분류명[30]보건·의료직                                 0.7025484\n",
       "직종중분류명[41]예술·디자인·방송직                         0.4625952\n",
       "직종중분류명[42]스포츠·레크리에이션직                      -1.3574153\n",
       "직종중분류명[51]미용·예식 서비스직                         -0.6998990\n",
       "직종중분류명[52]여행·숙박·오락 서비스직                   -0.9907978\n",
       "직종중분류명[53]음식 서비스직                                0.5936475\n",
       "직종중분류명[54]경호·경비직                                 0.8014668\n",
       "직종중분류명[55]돌봄 서비스직                                1.3781549\n",
       "직종중분류명[56]청소 및 기타 개인서비스직                    1.9247941\n",
       "직종중분류명[61]영업·판매직                                 0.1910414\n",
       "직종중분류명[62]운전·운송직                                 0.9693563\n",
       "직종중분류명[70]건설·채굴직                                 0.4144241\n",
       "직종중분류명[81]기계 설치·정비·생산직                      0.6911414\n",
       "직종중분류명[82]금속·재료 설치·정비·생산직                0.1391932\n",
       "직종중분류명[83]전기·전자 설치·정비·생산직                0.5760118\n",
       "직종중분류명[84]정보통신 설치·정비직                       -0.9808946\n",
       "직종중분류명[85]화학·환경 설치·정비·생산직               -0.6491944\n",
       "직종중분류명[86]섬유·의복 생산직                           -1.1445311\n",
       "직종중분류명[87]식품가공·생산직                            -0.6601285\n",
       "직종중분류명[88]인쇄·목재·공예 및 기타 설치·정비·생산직 -0.6962178\n",
       "직종중분류명[89]제조 단순직                                  0.6659052\n",
       "직종중분류명[90]농림어업직                                   0.0610652\n",
       "직종중분류명[y]분류불능                                     -2.5087172\n",
       "연령30대                                                    -0.3587044\n",
       "연령40대                                                    -0.3465749\n",
       "연령50대                                                    -0.0886612\n",
       "연령60세 이상                                                0.1831544\n",
       "연령무관                                                    -2.9313922\n",
       "학력대졸                                                    -0.6007032\n",
       "학력대학원졸 이상                                           -2.2658956\n",
       "학력분류불능                                                 0.1682038\n",
       "학력전문대졸                                                -0.8386013\n",
       "성별여                                                       0.5248907\n",
       "                                                            Std. Error  z value\n",
       "(Intercept)                                                  0.0037905  521.109\n",
       "마감년월22018-02                                             0.0035889  -38.884\n",
       "마감년월22018-03                                             0.0032929   49.326\n",
       "마감년월22018-04                                             0.0034212    0.032\n",
       "마감년월22018-05                                             0.0035451  -28.420\n",
       "마감년월22018-06                                             0.0035882  -40.999\n",
       "마감년월22018-07                                             0.0034718   -9.074\n",
       "마감년월22018-08                                             0.0035731  -38.612\n",
       "마감년월22018-09                                             0.0036528  -55.883\n",
       "마감년월22018-10                                             0.0035915  -40.436\n",
       "마감년월22018-11                                             0.0035400  -30.524\n",
       "마감년월22018-12                                             0.0038273  -85.644\n",
       "마감년월22019-01                                             0.0035346  -26.327\n",
       "마감년월22019-02                                             0.0037560  -73.932\n",
       "마감년월22019-03                                             0.0033967    9.543\n",
       "마감년월22019-04                                             0.0035159  -18.342\n",
       "마감년월22019-05                                             0.0036195  -46.933\n",
       "마감년월22019-06                                             0.0037480  -73.430\n",
       "마감년월22019-07                                             0.0035668  -39.106\n",
       "마감년월22019-08                                             0.0037665  -75.640\n",
       "마감년월22019-09                                             0.0037755  -80.010\n",
       "마감년월22019-10                                             0.0036863  -62.258\n",
       "마감년월22019-11                                             0.0037597  -71.893\n",
       "마감년월22019-12                                             0.0039579 -101.087\n",
       "마감년월22020-01                                             0.0036822  -59.528\n",
       "마감년월22020-02                                             0.0036622  -52.279\n",
       "마감년월22020-03                                             0.0036537  -48.856\n",
       "마감년월22020-04                                             0.0037893  -77.842\n",
       "마감년월22020-05                                             0.0038786  -97.694\n",
       "마감년월22020-06                                             0.0037828  -77.828\n",
       "마감년월22020-07                                             0.0036795  -60.855\n",
       "마감년월22020-08                                             0.0035565  -37.475\n",
       "마감년월22020-09                                             0.0035683  -41.541\n",
       "마감년월22020-10                                             0.0036926  -64.803\n",
       "마감년월22020-11                                             0.0036474  -57.169\n",
       "마감년월22020-12                                             0.0037639  -72.101\n",
       "마감년월22021-01                                             0.0036080  -46.423\n",
       "마감년월22021-02                                             0.0036739  -60.330\n",
       "마감년월22021-03                                             0.0033393   21.943\n",
       "마감년월22021-04                                             0.0034405  -32.941\n",
       "마감년월22021-05                                             0.0035529  -73.378\n",
       "마감년월22021-06                                             0.0035062  -67.175\n",
       "마감년월22021-07                                             0.0034495  -51.824\n",
       "마감년월22021-08                                             0.0035978  -84.247\n",
       "마감년월22021-09                                             0.0035526  -78.784\n",
       "마감년월22021-10                                             0.0035758  -76.954\n",
       "마감년월22021-11                                             0.0036085  -81.738\n",
       "마감년월22021-12                                             0.0037813 -110.633\n",
       "마감년월22022-01                                             0.0035315  -66.641\n",
       "마감년월22022-02                                             0.0036745 -103.297\n",
       "마감년월22022-03                                             0.0034079  -36.112\n",
       "마감년월22022-04                                             0.0035314  -64.211\n",
       "마감년월22022-05                                             0.0036469  -81.697\n",
       "마감년월22022-06                                             0.0037048  -87.579\n",
       "마감년월22022-07                                             0.0036049  -69.983\n",
       "마감년월22022-08                                             0.0036928  -86.740\n",
       "마감년월22022-09                                             0.0037021  -89.147\n",
       "마감년월22022-10                                             0.0037474  -97.782\n",
       "마감년월22022-11                                             0.0037201  -88.091\n",
       "마감년월22022-12                                             0.0038748 -107.577\n",
       "마감년월22023-01                                             0.0036316  -74.395\n",
       "마감년월22023-02                                             0.0035892  -71.181\n",
       "마감년월22023-03                                             0.0033791  -20.473\n",
       "마감년월22023-04                                             0.0035457  -62.762\n",
       "마감년월22023-05                                             0.0036476  -81.331\n",
       "마감년월22023-06                                             0.0036378  -75.247\n",
       "마감년월22023-07                                             0.0036063  -69.342\n",
       "마감년월22023-08                                             0.0036727  -84.239\n",
       "마감년월22023-09                                             0.0036978  -85.364\n",
       "마감년월22023-10                                             0.0038320 -109.455\n",
       "마감년월22023-11                                             0.0037341  -86.977\n",
       "마감년월22023-12                                             0.0040747 -137.039\n",
       "근무시도명[11]서울                                           0.0019613  619.109\n",
       "근무시도명[26]부산                                           0.0021314  257.507\n",
       "근무시도명[27]대구                                           0.0024143   -7.223\n",
       "근무시도명[28]인천                                           0.0022493  125.964\n",
       "근무시도명[29]광주                                           0.0026059  -73.324\n",
       "근무시도명[30]대전                                           0.0028267 -165.083\n",
       "근무시도명[31]울산                                           0.0026924  -96.431\n",
       "근무시도명[36]세종                                           0.0041049 -254.257\n",
       "근무시도명[41]경기                                           0.0019306  724.876\n",
       "근무시도명[42,51]강원                                        0.0024558   -7.472\n",
       "근무시도명[43]충북                                           0.0024490  -11.506\n",
       "근무시도명[44]충남                                           0.0024846  -34.672\n",
       "근무시도명[45,52]전북                                        0.0023287   35.604\n",
       "근무시도명[46]전남                                           0.0024584    3.695\n",
       "근무시도명[47]경북                                           0.0023527   45.857\n",
       "근무시도명[48]경남                                           0.0021920  181.392\n",
       "근무시도명[49,50]제주                                        0.0033141 -217.850\n",
       "근무시도명[A1]재택근무                                       0.0300592  -83.812\n",
       "직종중분류명[02]경영·행정·사무직                           0.0023451  795.904\n",
       "직종중분류명[03]금융·보험직                                 0.0051157 -178.364\n",
       "직종중분류명[11]인문·사회과학 연구직                        0.0148613  -69.783\n",
       "직종중분류명[12]자연·생명과학 연구직                        0.0083536 -126.868\n",
       "직종중분류명[13]정보통신 연구개발직 및 공학기술직            0.0033135  116.670\n",
       "직종중분류명[14]건설·채굴 연구개발직 및 공학기술직          0.0035039   -6.045\n",
       "직종중분류명[15]제조 연구개발직 및 공학기술직                0.0029275  161.094\n",
       "직종중분류명[21]교육직                                       0.0034542  -75.164\n",
       "직종중분류명[22]법률직                                       0.0069536 -177.826\n",
       "직종중분류명[23]사회복지·종교직                             0.0026573  263.400\n",
       "직종중분류명[24]경찰·소방·교도직                           0.0154869 -112.911\n",
       "직종중분류명[25]군인                                         0.0322383  -65.049\n",
       "직종중분류명[30]보건·의료직                                 0.0026618  263.942\n",
       "직종중분류명[41]예술·디자인·방송직                         0.0029392  157.387\n",
       "직종중분류명[42]스포츠·레크리에이션직                       0.0067810 -200.180\n",
       "직종중분류명[51]미용·예식 서비스직                          0.0045044 -155.382\n",
       "직종중분류명[52]여행·숙박·오락 서비스직                    0.0051036 -194.137\n",
       "직종중분류명[53]음식 서비스직                                0.0026727  222.119\n",
       "직종중분류명[54]경호·경비직                                 0.0028112  285.099\n",
       "직종중분류명[55]돌봄 서비스직                                0.0024859  554.381\n",
       "직종중분류명[56]청소 및 기타 개인서비스직                    0.0023562  816.910\n",
       "직종중분류명[61]영업·판매직                                 0.0029228   65.362\n",
       "직종중분류명[62]운전·운송직                                 0.0027243  355.815\n",
       "직종중분류명[70]건설·채굴직                                 0.0030019  138.054\n",
       "직종중분류명[81]기계 설치·정비·생산직                      0.0028100  245.962\n",
       "직종중분류명[82]금속·재료 설치·정비·생산직                0.0035446   39.269\n",
       "직종중분류명[83]전기·전자 설치·정비·생산직                0.0028132  204.757\n",
       "직종중분류명[84]정보통신 설치·정비직                        0.0070317 -139.496\n",
       "직종중분류명[85]화학·환경 설치·정비·생산직                0.0044779 -144.977\n",
       "직종중분류명[86]섬유·의복 생산직                            0.0059505 -192.343\n",
       "직종중분류명[87]식품가공·생산직                             0.0040254 -163.990\n",
       "직종중분류명[88]인쇄·목재·공예 및 기타 설치·정비·생산직  0.0043045 -161.742\n",
       "직종중분류명[89]제조 단순직                                  0.0026696  249.443\n",
       "직종중분류명[90]농림어업직                                   0.0034033   17.943\n",
       "직종중분류명[y]분류불능                                      1.0000059   -2.509\n",
       "연령30대                                                     0.0010645 -336.981\n",
       "연령40대                                                     0.0010350 -334.863\n",
       "연령50대                                                     0.0009670  -91.689\n",
       "연령60세 이상                                                0.0009526  192.260\n",
       "연령무관                                                     1.0000065   -2.931\n",
       "학력대졸                                                     0.0008289 -724.736\n",
       "학력대학원졸 이상                                            0.0025239 -897.785\n",
       "학력분류불능                                                 0.0010182  165.192\n",
       "학력전문대졸                                                 0.0009080 -923.580\n",
       "성별여                                                       0.0006719  781.230\n",
       "                                                            Pr(>|z|)    \n",
       "(Intercept)                                                  < 2e-16 ***\n",
       "마감년월22018-02                                             < 2e-16 ***\n",
       "마감년월22018-03                                             < 2e-16 ***\n",
       "마감년월22018-04                                             0.97428    \n",
       "마감년월22018-05                                             < 2e-16 ***\n",
       "마감년월22018-06                                             < 2e-16 ***\n",
       "마감년월22018-07                                             < 2e-16 ***\n",
       "마감년월22018-08                                             < 2e-16 ***\n",
       "마감년월22018-09                                             < 2e-16 ***\n",
       "마감년월22018-10                                             < 2e-16 ***\n",
       "마감년월22018-11                                             < 2e-16 ***\n",
       "마감년월22018-12                                             < 2e-16 ***\n",
       "마감년월22019-01                                             < 2e-16 ***\n",
       "마감년월22019-02                                             < 2e-16 ***\n",
       "마감년월22019-03                                             < 2e-16 ***\n",
       "마감년월22019-04                                             < 2e-16 ***\n",
       "마감년월22019-05                                             < 2e-16 ***\n",
       "마감년월22019-06                                             < 2e-16 ***\n",
       "마감년월22019-07                                             < 2e-16 ***\n",
       "마감년월22019-08                                             < 2e-16 ***\n",
       "마감년월22019-09                                             < 2e-16 ***\n",
       "마감년월22019-10                                             < 2e-16 ***\n",
       "마감년월22019-11                                             < 2e-16 ***\n",
       "마감년월22019-12                                             < 2e-16 ***\n",
       "마감년월22020-01                                             < 2e-16 ***\n",
       "마감년월22020-02                                             < 2e-16 ***\n",
       "마감년월22020-03                                             < 2e-16 ***\n",
       "마감년월22020-04                                             < 2e-16 ***\n",
       "마감년월22020-05                                             < 2e-16 ***\n",
       "마감년월22020-06                                             < 2e-16 ***\n",
       "마감년월22020-07                                             < 2e-16 ***\n",
       "마감년월22020-08                                             < 2e-16 ***\n",
       "마감년월22020-09                                             < 2e-16 ***\n",
       "마감년월22020-10                                             < 2e-16 ***\n",
       "마감년월22020-11                                             < 2e-16 ***\n",
       "마감년월22020-12                                             < 2e-16 ***\n",
       "마감년월22021-01                                             < 2e-16 ***\n",
       "마감년월22021-02                                             < 2e-16 ***\n",
       "마감년월22021-03                                             < 2e-16 ***\n",
       "마감년월22021-04                                             < 2e-16 ***\n",
       "마감년월22021-05                                             < 2e-16 ***\n",
       "마감년월22021-06                                             < 2e-16 ***\n",
       "마감년월22021-07                                             < 2e-16 ***\n",
       "마감년월22021-08                                             < 2e-16 ***\n",
       "마감년월22021-09                                             < 2e-16 ***\n",
       "마감년월22021-10                                             < 2e-16 ***\n",
       "마감년월22021-11                                             < 2e-16 ***\n",
       "마감년월22021-12                                             < 2e-16 ***\n",
       "마감년월22022-01                                             < 2e-16 ***\n",
       "마감년월22022-02                                             < 2e-16 ***\n",
       "마감년월22022-03                                             < 2e-16 ***\n",
       "마감년월22022-04                                             < 2e-16 ***\n",
       "마감년월22022-05                                             < 2e-16 ***\n",
       "마감년월22022-06                                             < 2e-16 ***\n",
       "마감년월22022-07                                             < 2e-16 ***\n",
       "마감년월22022-08                                             < 2e-16 ***\n",
       "마감년월22022-09                                             < 2e-16 ***\n",
       "마감년월22022-10                                             < 2e-16 ***\n",
       "마감년월22022-11                                             < 2e-16 ***\n",
       "마감년월22022-12                                             < 2e-16 ***\n",
       "마감년월22023-01                                             < 2e-16 ***\n",
       "마감년월22023-02                                             < 2e-16 ***\n",
       "마감년월22023-03                                             < 2e-16 ***\n",
       "마감년월22023-04                                             < 2e-16 ***\n",
       "마감년월22023-05                                             < 2e-16 ***\n",
       "마감년월22023-06                                             < 2e-16 ***\n",
       "마감년월22023-07                                             < 2e-16 ***\n",
       "마감년월22023-08                                             < 2e-16 ***\n",
       "마감년월22023-09                                             < 2e-16 ***\n",
       "마감년월22023-10                                             < 2e-16 ***\n",
       "마감년월22023-11                                             < 2e-16 ***\n",
       "마감년월22023-12                                             < 2e-16 ***\n",
       "근무시도명[11]서울                                           < 2e-16 ***\n",
       "근무시도명[26]부산                                           < 2e-16 ***\n",
       "근무시도명[27]대구                                          5.09e-13 ***\n",
       "근무시도명[28]인천                                           < 2e-16 ***\n",
       "근무시도명[29]광주                                           < 2e-16 ***\n",
       "근무시도명[30]대전                                           < 2e-16 ***\n",
       "근무시도명[31]울산                                           < 2e-16 ***\n",
       "근무시도명[36]세종                                           < 2e-16 ***\n",
       "근무시도명[41]경기                                           < 2e-16 ***\n",
       "근무시도명[42,51]강원                                       7.87e-14 ***\n",
       "근무시도명[43]충북                                           < 2e-16 ***\n",
       "근무시도명[44]충남                                           < 2e-16 ***\n",
       "근무시도명[45,52]전북                                        < 2e-16 ***\n",
       "근무시도명[46]전남                                           0.00022 ***\n",
       "근무시도명[47]경북                                           < 2e-16 ***\n",
       "근무시도명[48]경남                                           < 2e-16 ***\n",
       "근무시도명[49,50]제주                                        < 2e-16 ***\n",
       "근무시도명[A1]재택근무                                       < 2e-16 ***\n",
       "직종중분류명[02]경영·행정·사무직                           < 2e-16 ***\n",
       "직종중분류명[03]금융·보험직                                 < 2e-16 ***\n",
       "직종중분류명[11]인문·사회과학 연구직                        < 2e-16 ***\n",
       "직종중분류명[12]자연·생명과학 연구직                        < 2e-16 ***\n",
       "직종중분류명[13]정보통신 연구개발직 및 공학기술직            < 2e-16 ***\n",
       "직종중분류명[14]건설·채굴 연구개발직 및 공학기술직         1.50e-09 ***\n",
       "직종중분류명[15]제조 연구개발직 및 공학기술직                < 2e-16 ***\n",
       "직종중분류명[21]교육직                                       < 2e-16 ***\n",
       "직종중분류명[22]법률직                                       < 2e-16 ***\n",
       "직종중분류명[23]사회복지·종교직                             < 2e-16 ***\n",
       "직종중분류명[24]경찰·소방·교도직                           < 2e-16 ***\n",
       "직종중분류명[25]군인                                         < 2e-16 ***\n",
       "직종중분류명[30]보건·의료직                                 < 2e-16 ***\n",
       "직종중분류명[41]예술·디자인·방송직                         < 2e-16 ***\n",
       "직종중분류명[42]스포츠·레크리에이션직                       < 2e-16 ***\n",
       "직종중분류명[51]미용·예식 서비스직                          < 2e-16 ***\n",
       "직종중분류명[52]여행·숙박·오락 서비스직                    < 2e-16 ***\n",
       "직종중분류명[53]음식 서비스직                                < 2e-16 ***\n",
       "직종중분류명[54]경호·경비직                                 < 2e-16 ***\n",
       "직종중분류명[55]돌봄 서비스직                                < 2e-16 ***\n",
       "직종중분류명[56]청소 및 기타 개인서비스직                    < 2e-16 ***\n",
       "직종중분류명[61]영업·판매직                                 < 2e-16 ***\n",
       "직종중분류명[62]운전·운송직                                 < 2e-16 ***\n",
       "직종중분류명[70]건설·채굴직                                 < 2e-16 ***\n",
       "직종중분류명[81]기계 설치·정비·생산직                      < 2e-16 ***\n",
       "직종중분류명[82]금속·재료 설치·정비·생산직                < 2e-16 ***\n",
       "직종중분류명[83]전기·전자 설치·정비·생산직                < 2e-16 ***\n",
       "직종중분류명[84]정보통신 설치·정비직                        < 2e-16 ***\n",
       "직종중분류명[85]화학·환경 설치·정비·생산직                < 2e-16 ***\n",
       "직종중분류명[86]섬유·의복 생산직                            < 2e-16 ***\n",
       "직종중분류명[87]식품가공·생산직                             < 2e-16 ***\n",
       "직종중분류명[88]인쇄·목재·공예 및 기타 설치·정비·생산직  < 2e-16 ***\n",
       "직종중분류명[89]제조 단순직                                  < 2e-16 ***\n",
       "직종중분류명[90]농림어업직                                   < 2e-16 ***\n",
       "직종중분류명[y]분류불능                                      0.01212 *  \n",
       "연령30대                                                     < 2e-16 ***\n",
       "연령40대                                                     < 2e-16 ***\n",
       "연령50대                                                     < 2e-16 ***\n",
       "연령60세 이상                                                < 2e-16 ***\n",
       "연령무관                                                     0.00337 ** \n",
       "학력대졸                                                     < 2e-16 ***\n",
       "학력대학원졸 이상                                            < 2e-16 ***\n",
       "학력분류불능                                                 < 2e-16 ***\n",
       "학력전문대졸                                                 < 2e-16 ***\n",
       "성별여                                                       < 2e-16 ***\n",
       "---\n",
       "Signif. codes:  0 '***' 0.001 '**' 0.01 '*' 0.05 '.' 0.1 ' ' 1\n",
       "\n",
       "(Dispersion parameter for poisson family taken to be 1)\n",
       "\n",
       "    Null deviance: 30904996  on 776241  degrees of freedom\n",
       "Residual deviance: 16133378  on 776107  degrees of freedom\n",
       "AIC: 18650638\n",
       "\n",
       "Number of Fisher Scoring iterations: 6\n"
      ]
     },
     "metadata": {},
     "output_type": "display_data"
    }
   ],
   "source": [
    "# 전체 변수를 반영한 모델을 만들어보자.\n",
    "model_full = glm(총취업건수 ~ 마감년월2+근무시도명+직종중분류명+연령+학력+성별, data=data1, family=poisson)\n",
    "\n",
    "# 결과\n",
    "summary(model_full)"
   ]
  },
  {
   "cell_type": "code",
   "execution_count": 52,
   "metadata": {
    "vscode": {
     "languageId": "r"
    }
   },
   "outputs": [
    {
     "name": "stderr",
     "output_type": "stream",
     "text": [
      "Warning message:\n",
      "\"\u001b[1m\u001b[22mRemoved 14043 rows containing non-finite outside the scale range\n",
      "(`stat_bin()`).\"\n",
      "Warning message:\n",
      "\"\u001b[1m\u001b[22mRemoved 4 rows containing missing values or values outside the scale range\n",
      "(`geom_bar()`).\"\n"
     ]
    },
    {
     "data": {
      "image/png": "[encoded data removed]",
      "text/plain": [
       "plot without title"
      ]
     },
     "metadata": {
      "image/png": {
       "height": 420,
       "width": 420
      }
     },
     "output_type": "display_data"
    }
   ],
   "source": [
    "library(ggplot2)\n",
    "ggplot(data1, aes(x=총취업건수)) + \n",
    "    geom_histogram(binwidth=1) + \n",
    "    xlim(0,100) +\n",
    "    facet_wrap(~성별)"
   ]
  }
 ],
 "metadata": {
  "kernelspec": {
   "display_name": "R",
   "language": "R",
   "name": "ir"
  },
  "language_info": {
   "codemirror_mode": "r",
   "file_extension": ".r",
   "mimetype": "text/x-r-source",
   "name": "R",
   "pygments_lexer": "r",
   "version": "4.3.2"
  }
 },
 "nbformat": 4,
 "nbformat_minor": 2
}
