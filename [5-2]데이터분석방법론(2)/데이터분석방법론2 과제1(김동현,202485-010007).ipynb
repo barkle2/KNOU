{
 "cells": [
  {
   "cell_type": "markdown",
   "metadata": {},
   "source": [
    "### 문제 1\n",
    "\n",
    "- 2015년에 미국 플로리다주 고속도로 안전국과 자동차국에 의해 수집된 사고 기록이다. 표본오즈비, 상대위험도와 비율의 차이를 계산하고 해석하시오. 그리고 오즈비와 상대위험도가 근사적으로 같은 이유를 설명하시오. R이나 다른 통계패키지를 이용하여 분석하시오.\n",
    "\n",
    "||치명적 사고<br>예|치명적 사고<br>아니오|\n",
    "|:-:|:-:|:-:|\n",
    "|안전장치<br>사용안함|433|8,049|\n",
    "|안전벨트|570|554,883|"
   ]
  },
  {
   "cell_type": "code",
   "execution_count": 1,
   "metadata": {
    "vscode": {
     "languageId": "r"
    }
   },
   "outputs": [],
   "source": [
    "# install.packages(\"epitools\")\n",
    "library(epitools)"
   ]
  },
  {
   "cell_type": "code",
   "execution_count": 2,
   "metadata": {
    "vscode": {
     "languageId": "r"
    }
   },
   "outputs": [
    {
     "data": {
      "text/html": [
       "<table class=\"dataframe\">\n",
       "<caption>A matrix: 2 × 2 of type dbl</caption>\n",
       "<thead>\n",
       "\t<tr><th></th><th scope=col>치명적 사고: 예</th><th scope=col>치명적 사고: 아니오</th></tr>\n",
       "</thead>\n",
       "<tbody>\n",
       "\t<tr><th scope=row>안전장치 사용안함</th><td>433</td><td>  8049</td></tr>\n",
       "\t<tr><th scope=row>안전벨트 사용</th><td>570</td><td>554883</td></tr>\n",
       "</tbody>\n",
       "</table>\n"
      ],
      "text/latex": [
       "A matrix: 2 × 2 of type dbl\n",
       "\\begin{tabular}{r|ll}\n",
       "  & 치명적 사고: 예 & 치명적 사고: 아니오\\\\\n",
       "\\hline\n",
       "\t안전장치 사용안함 & 433 &   8049\\\\\n",
       "\t안전벨트 사용 & 570 & 554883\\\\\n",
       "\\end{tabular}\n"
      ],
      "text/markdown": [
       "\n",
       "A matrix: 2 × 2 of type dbl\n",
       "\n",
       "| <!--/--> | 치명적 사고: 예 | 치명적 사고: 아니오 |\n",
       "|---|---|---|\n",
       "| 안전장치 사용안함 | 433 |   8049 |\n",
       "| 안전벨트 사용 | 570 | 554883 |\n",
       "\n"
      ],
      "text/plain": [
       "                  치명적 사고: 예 치명적 사고: 아니오\n",
       "안전장치 사용안함 433               8049             \n",
       "안전벨트 사용     570             554883             "
      ]
     },
     "metadata": {},
     "output_type": "display_data"
    }
   ],
   "source": [
    "# 데이터 입력\n",
    "data_matrix = matrix(c(433, 8049, 570, 554883), nrow=2, byrow=TRUE)\n",
    "colnames(data_matrix) = c(\"치명적 사고: 예\", \"치명적 사고: 아니오\")\n",
    "rownames(data_matrix) = c(\"안전장치 사용안함\", \"안전벨트 사용\")\n",
    "\n",
    "data_matrix"
   ]
  },
  {
   "cell_type": "code",
   "execution_count": 3,
   "metadata": {
    "vscode": {
     "languageId": "r"
    }
   },
   "outputs": [
    {
     "data": {
      "text/html": [
       "<table class=\"dataframe\">\n",
       "<caption>A matrix: 2 × 2 of type dbl</caption>\n",
       "<thead>\n",
       "\t<tr><th></th><th scope=col>치명적 사고: 예</th><th scope=col>치명적 사고: 아니오</th></tr>\n",
       "</thead>\n",
       "<tbody>\n",
       "\t<tr><th scope=row>안전장치 사용안함</th><td>0.051049281</td><td>0.9489507</td></tr>\n",
       "\t<tr><th scope=row>안전벨트 사용</th><td>0.001026189</td><td>0.9989738</td></tr>\n",
       "</tbody>\n",
       "</table>\n"
      ],
      "text/latex": [
       "A matrix: 2 × 2 of type dbl\n",
       "\\begin{tabular}{r|ll}\n",
       "  & 치명적 사고: 예 & 치명적 사고: 아니오\\\\\n",
       "\\hline\n",
       "\t안전장치 사용안함 & 0.051049281 & 0.9489507\\\\\n",
       "\t안전벨트 사용 & 0.001026189 & 0.9989738\\\\\n",
       "\\end{tabular}\n"
      ],
      "text/markdown": [
       "\n",
       "A matrix: 2 × 2 of type dbl\n",
       "\n",
       "| <!--/--> | 치명적 사고: 예 | 치명적 사고: 아니오 |\n",
       "|---|---|---|\n",
       "| 안전장치 사용안함 | 0.051049281 | 0.9489507 |\n",
       "| 안전벨트 사용 | 0.001026189 | 0.9989738 |\n",
       "\n"
      ],
      "text/plain": [
       "                  치명적 사고: 예 치명적 사고: 아니오\n",
       "안전장치 사용안함 0.051049281     0.9489507          \n",
       "안전벨트 사용     0.001026189     0.9989738          "
      ]
     },
     "metadata": {},
     "output_type": "display_data"
    },
    {
     "name": "stdout",
     "output_type": "stream",
     "text": [
      "π1: 0.05104928 \n",
      "π2: 0.001026189 \n"
     ]
    }
   ],
   "source": [
    "# 이차원 분할표에서 π1, π2를 계산\n",
    "prop.result = prop.table(data_matrix, margin=1)\n",
    "prop.result\n",
    "\n",
    "pi_1 = prop.result[1,1]\n",
    "pi_2 = prop.result[2,1]\n",
    "\n",
    "cat(\"π1:\", pi_1, \"\\n\")\n",
    "cat(\"π2:\", pi_2, \"\\n\")"
   ]
  },
  {
   "cell_type": "code",
   "execution_count": 4,
   "metadata": {
    "vscode": {
     "languageId": "r"
    }
   },
   "outputs": [
    {
     "data": {
      "text/html": [
       "49.7464494471264"
      ],
      "text/latex": [
       "49.7464494471264"
      ],
      "text/markdown": [
       "49.7464494471264"
      ],
      "text/plain": [
       "[1] 49.74645"
      ]
     },
     "metadata": {},
     "output_type": "display_data"
    }
   ],
   "source": [
    "# 상대위험도 계산\n",
    "risk_ratio = pi_1/pi_2\n",
    "risk_ratio"
   ]
  },
  {
   "cell_type": "code",
   "execution_count": 5,
   "metadata": {
    "vscode": {
     "languageId": "r"
    }
   },
   "outputs": [
    {
     "data": {
      "text/html": [
       "52.3687891925116"
      ],
      "text/latex": [
       "52.3687891925116"
      ],
      "text/markdown": [
       "52.3687891925116"
      ],
      "text/plain": [
       "[1] 52.36879"
      ]
     },
     "metadata": {},
     "output_type": "display_data"
    }
   ],
   "source": [
    "# 오즈비 계산\n",
    "odd1 = pi_1 / (1-pi_1)\n",
    "odd2 = pi_2 / (1-pi_2)\n",
    "odd_ratio = odd1/odd2\n",
    "odd_ratio"
   ]
  },
  {
   "cell_type": "markdown",
   "metadata": {},
   "source": [
    "- 오즈비는 52.369, 상대위험도는 49.746 으로 근사한 값을 가진다.\n",
    "\n",
    "- 오즈비가 52.369라는 것은 안전벨트를 사용하지 않은 그룹에서 치명적 사고가 발생할 오즈가 안전벨트를 사용한 그룹에 비해 52.369배 크다는 것을 의미한다.\n",
    "\n",
    "- 상대위험도가 49.746이라는 것은 안전벨트를 사용하지 않은 그룹에서 치명적 사고가 발생할 확률이 안전벨트를 사용한 그룹에 비해 49.746배 크다는 것을 의미한다.\n",
    "\n",
    "- 오즈비와 상대위험도가 근사한 값을 가지는 이유는 안전벨트 사용여부와 관계없이 치명적 사고가 발생할 확률이 0에 가까운 값이기 때문이다."
   ]
  },
  {
   "cell_type": "markdown",
   "metadata": {},
   "source": [
    "### 문제 2\n",
    "참고문헌에서 제시한 \"오즈비와 상대위험도 관련 자료\" 중 하나의 논문을 읽고 그 내용과 자기 생각을 A4 용지 1매로 작성하시오.\n",
    "\n",
    "별도 첨부 파일로 제출"
   ]
  },
  {
   "cell_type": "markdown",
   "metadata": {},
   "source": [
    "### 문제3\n",
    "두 처리 (A, B)와 반응변수 (사망, 생존) 간의 오즈비가 2.0이라고 하자.\n",
    "\n",
    "(1) \"처리 A의 사망 확률은 처리 B에 비하여 2배이다\"라는 해석이 왜 틀렸는지 설명하고 옳은 해석을 하시오.\n",
    "\n",
    "- \"처리 A의 사망 확률은 처리 B에 비하여 2배이다\"이라는 해석이 틀린 이유는 그 해석이 상대위험도에 대한 해석이며, 오즈비에 대한 해석이 아니기 때문이다.\n",
    "- 오즈비가 2.0일 때의 옳은 해석은 \"처리 A의 오즈값이 처리 B의 오즈값보다 2배 크다\"이다.\n"
   ]
  },
  {
   "cell_type": "markdown",
   "metadata": {},
   "source": [
    "(2) (a)에서의 해석이 근사적으로 맞는 경우는 어느 경우인가?\n",
    "\n",
    "- 처리 A, B의 사망 확률이 0에 가까운 값인 경우에는 오즈비와 상대위험도의 값이 근사한다. 이 경우에는 (a)에서의 해석이 근사적으로 맞다고 할 수 있다."
   ]
  },
  {
   "cell_type": "markdown",
   "metadata": {},
   "source": [
    "(3) 처리 A의 사망 오즈가 0.5일 때 처리 A와 처리 B의 사망 확률을 구하시오.\n",
    "\n",
    "- 처리 A의 사망 오즈가 0.5 이고, 오즈비가 2가 되려면 처리 B의 사망 오즈는 0.25이다.\n",
    "- 처리 B의 사망 오즈가 0.25일 때, 처리 B시 사망확률은 0.2이다.\n",
    "\n",
    "<img src=\"https://latex.codecogs.com/svg.image?\\frac{\\pi_2}{1-\\pi_2}=0.25\"> <br>\n",
    "<img src=\"https://latex.codecogs.com/svg.image?\\Rightarrow\\pi_2=0.2\">\n",
    "\n",
    "- 참고로, 처리 A의 사망 오즈가 0.5라 하면, 처리 A시 사망확률은 1/3 이다."
   ]
  }
 ],
 "metadata": {
  "kernelspec": {
   "display_name": "R",
   "language": "R",
   "name": "ir"
  },
  "language_info": {
   "codemirror_mode": "r",
   "file_extension": ".r",
   "mimetype": "text/x-r-source",
   "name": "R",
   "pygments_lexer": "r",
   "version": "4.3.2"
  }
 },
 "nbformat": 4,
 "nbformat_minor": 2
}
