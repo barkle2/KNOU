{
 "cells": [
  {
   "cell_type": "markdown",
   "metadata": {},
   "source": [
    "### 문제1: 117쪽 문제 3.13\n",
    "\n",
    "<표 3.2>의 참게 예제 자료를 www.stat.ufl.edu/~aa/cat/data 웹사이트에서 다운로드하여 x=무게를 예측변수로 간주하고 Y=부수체의 수를 반응변수로 간주하여 포아송 로그 선형모형을 적합하라."
   ]
  },
  {
   "cell_type": "code",
   "execution_count": 5,
   "metadata": {
    "vscode": {
     "languageId": "r"
    }
   },
   "outputs": [
    {
     "data": {
      "text/html": [
       "<table class=\"dataframe\">\n",
       "<caption>A data.frame: 6 × 7</caption>\n",
       "<thead>\n",
       "\t<tr><th></th><th scope=col>crab</th><th scope=col>sat</th><th scope=col>y</th><th scope=col>weight</th><th scope=col>width</th><th scope=col>color</th><th scope=col>spine</th></tr>\n",
       "\t<tr><th></th><th scope=col>&lt;int&gt;</th><th scope=col>&lt;int&gt;</th><th scope=col>&lt;int&gt;</th><th scope=col>&lt;dbl&gt;</th><th scope=col>&lt;dbl&gt;</th><th scope=col>&lt;int&gt;</th><th scope=col>&lt;int&gt;</th></tr>\n",
       "</thead>\n",
       "<tbody>\n",
       "\t<tr><th scope=row>1</th><td>1</td><td>8</td><td>1</td><td>3.05</td><td>28.3</td><td>2</td><td>3</td></tr>\n",
       "\t<tr><th scope=row>2</th><td>2</td><td>0</td><td>0</td><td>1.55</td><td>22.5</td><td>3</td><td>3</td></tr>\n",
       "\t<tr><th scope=row>3</th><td>3</td><td>9</td><td>1</td><td>2.30</td><td>26.0</td><td>1</td><td>1</td></tr>\n",
       "\t<tr><th scope=row>4</th><td>4</td><td>0</td><td>0</td><td>2.10</td><td>24.8</td><td>3</td><td>3</td></tr>\n",
       "\t<tr><th scope=row>5</th><td>5</td><td>4</td><td>1</td><td>2.60</td><td>26.0</td><td>3</td><td>3</td></tr>\n",
       "\t<tr><th scope=row>6</th><td>6</td><td>0</td><td>0</td><td>2.10</td><td>23.8</td><td>2</td><td>3</td></tr>\n",
       "</tbody>\n",
       "</table>\n"
      ],
      "text/latex": [
       "A data.frame: 6 × 7\n",
       "\\begin{tabular}{r|lllllll}\n",
       "  & crab & sat & y & weight & width & color & spine\\\\\n",
       "  & <int> & <int> & <int> & <dbl> & <dbl> & <int> & <int>\\\\\n",
       "\\hline\n",
       "\t1 & 1 & 8 & 1 & 3.05 & 28.3 & 2 & 3\\\\\n",
       "\t2 & 2 & 0 & 0 & 1.55 & 22.5 & 3 & 3\\\\\n",
       "\t3 & 3 & 9 & 1 & 2.30 & 26.0 & 1 & 1\\\\\n",
       "\t4 & 4 & 0 & 0 & 2.10 & 24.8 & 3 & 3\\\\\n",
       "\t5 & 5 & 4 & 1 & 2.60 & 26.0 & 3 & 3\\\\\n",
       "\t6 & 6 & 0 & 0 & 2.10 & 23.8 & 2 & 3\\\\\n",
       "\\end{tabular}\n"
      ],
      "text/markdown": [
       "\n",
       "A data.frame: 6 × 7\n",
       "\n",
       "| <!--/--> | crab &lt;int&gt; | sat &lt;int&gt; | y &lt;int&gt; | weight &lt;dbl&gt; | width &lt;dbl&gt; | color &lt;int&gt; | spine &lt;int&gt; |\n",
       "|---|---|---|---|---|---|---|---|\n",
       "| 1 | 1 | 8 | 1 | 3.05 | 28.3 | 2 | 3 |\n",
       "| 2 | 2 | 0 | 0 | 1.55 | 22.5 | 3 | 3 |\n",
       "| 3 | 3 | 9 | 1 | 2.30 | 26.0 | 1 | 1 |\n",
       "| 4 | 4 | 0 | 0 | 2.10 | 24.8 | 3 | 3 |\n",
       "| 5 | 5 | 4 | 1 | 2.60 | 26.0 | 3 | 3 |\n",
       "| 6 | 6 | 0 | 0 | 2.10 | 23.8 | 2 | 3 |\n",
       "\n"
      ],
      "text/plain": [
       "  crab sat y weight width color spine\n",
       "1 1    8   1 3.05   28.3  2     3    \n",
       "2 2    0   0 1.55   22.5  3     3    \n",
       "3 3    9   1 2.30   26.0  1     1    \n",
       "4 4    0   0 2.10   24.8  3     3    \n",
       "5 5    4   1 2.60   26.0  3     3    \n",
       "6 6    0   0 2.10   23.8  2     3    "
      ]
     },
     "metadata": {},
     "output_type": "display_data"
    },
    {
     "data": {
      "text/plain": [
       "\n",
       "Call:\n",
       "glm(formula = sat ~ weight, family = poisson(link = \"log\"), data = crab_data)\n",
       "\n",
       "Coefficients:\n",
       "            Estimate Std. Error z value Pr(>|z|)    \n",
       "(Intercept) -0.42841    0.17893  -2.394   0.0167 *  \n",
       "weight       0.58930    0.06502   9.064   <2e-16 ***\n",
       "---\n",
       "Signif. codes:  0 '***' 0.001 '**' 0.01 '*' 0.05 '.' 0.1 ' ' 1\n",
       "\n",
       "(Dispersion parameter for poisson family taken to be 1)\n",
       "\n",
       "    Null deviance: 632.79  on 172  degrees of freedom\n",
       "Residual deviance: 560.87  on 171  degrees of freedom\n",
       "AIC: 920.16\n",
       "\n",
       "Number of Fisher Scoring iterations: 5\n"
      ]
     },
     "metadata": {},
     "output_type": "display_data"
    }
   ],
   "source": [
    "# crab은 연번\n",
    "# sat는 부수체의 수\n",
    "# weight는 무게\n",
    "# width는 등딱지너비\n",
    "# color는 색깔(1=약간밝은색, 2=중간색, 3=약간어두운색, 4=어두운색)\n",
    "# spine은 등뼈의 상태(1=둘다양호함, 2=1개가 휘거나 좋지않음, 3=둘다 휘거나 좋지않음)\n",
    "# y값도 이미 입력되어 있다.\n",
    "\n",
    "crab_data = read.table(\"Crabs.dat.txt\", header=TRUE)\n",
    "head(crab_data)\n",
    "\n",
    "# 포아송 로그 선형모형 적합하기\n",
    "model1 = glm(sat ~ weight, family=poisson(link=\"log\"), data=crab_data)\n",
    "\n",
    "summary(model1)"
   ]
  },
  {
   "cell_type": "markdown",
   "metadata": {},
   "source": [
    "#### a. 예측식을 구하고 암참게의 평균 무게가 2.44 kg일 때 부수체의 평균수를 추정하라."
   ]
  },
  {
   "cell_type": "markdown",
   "metadata": {},
   "source": [
    "포아송 로그 선형모형의 예측식은 다음과 같다.\n",
    "\n",
    "<img src=\"https://latex.codecogs.com/svg.image?log(\\hat{sat})=\\alpha+\\beta\\times weight\">\n",
    "\n",
    "예측식은 다음과 같이 변형할 수 있다.\n",
    "\n",
    "<img src=\"https://latex.codecogs.com/svg.image?\\hat{sat}=exp(\\alpha+\\beta\\times weight)\">\n",
    "\n",
    "모델 요약 결과를 보면 α = -0.428, β = 0.589 이므로 예측식은 다음과 같다.\n",
    "\n",
    "<img src=\"https://latex.codecogs.com/svg.image?\\hat{sat}=exp(-0.428+0.589\\times weight)\">\n",
    "\n",
    "weight = 2.44 이면 \n",
    "exp(-0.428+0.589*2.44) = 2.74\n",
    "\n",
    "weight = 2.44일때 부수체의 평균수 추정값은 2.74개 이다."
   ]
  },
  {
   "cell_type": "code",
   "execution_count": 13,
   "metadata": {
    "vscode": {
     "languageId": "r"
    }
   },
   "outputs": [
    {
     "name": "stdout",
     "output_type": "stream",
     "text": [
      "log(sat): 1.009497 \n",
      "sat: 2.74422"
     ]
    }
   ],
   "source": [
    "# weight=2.44 일때 sat 예측값 구하기\n",
    "input_data = data.frame(weight=2.44)\n",
    "result = predict(model1, newdata=input_data)\n",
    "\n",
    "cat(\"log(sat):\", result, \"\\n\")\n",
    "cat(\"sat:\", exp(result))"
   ]
  },
  {
   "cell_type": "markdown",
   "metadata": {},
   "source": [
    "#### c. <img src=\"https://latex.codecogs.com/svg.image?\\hat\\beta\">를 이용하여 무게의 효과를 설명하라. 모수 <img src=\"https://latex.codecogs.com/svg.image?\\beta\">와 무게가 1 kg 증가할 때마다 발생하는 승법 효과에 대한 95% 신뢰구간을 구하라."
   ]
  },
  {
   "cell_type": "markdown",
   "metadata": {},
   "source": [
    "< 무게가 1증가할 떄의 효과 >\n",
    "\n",
    "<img src=\"https://latex.codecogs.com/svg.image?\\hat{\\beta}\">는 예측변수인 무게가 1 증가할 때 반응변수인 부수체 수가 얼마나 변하는지를 나타냅니다. 여기서는 로그 선형모형이기 때문에 무게가 1 증가할 때 반응변수의 \"로그값\"이 얼마나 변하는지 나타냅니다.\n",
    "\n",
    "실제로 무게가 1kg 증가하면,\n",
    "<img src=\"https://latex.codecogs.com/svg.image?exp(\\hat{\\beta})=exp(0.589)\\approx1.802\">\n",
    "부수체의 수는 80.2% 증가한다고 볼 수 있습니다.\n",
    "\n",
    "< 승법 효과에 대한 95% 신뢰구간 >\n",
    "승법 효과의 신뢰구간은 <img src=\"https://latex.codecogs.com/svg.image?\\hat{\\beta}\">의 표준오차(0.065)를 이용하여 구할 수 있습니다.\n",
    "\n",
    "승법 효과의 95% 신뢰구간\n",
    "\n",
    "[<img src=\"https://latex.codecogs.com/svg.image?\\hat{\\beta}-1.96\\times SE(\\hat{\\beta}),\\hat{\\beta}+1.96\\times SE(\\hat{\\beta})\">]\n",
    "\n",
    "=[<img src=\"https://latex.codecogs.com/svg.image?0.589-1.96\\times 0.065,0.589+1.96\\times 0.065\">]\n",
    "\n",
    "=[0.462, 0.717]\n",
    "\n",
    "로그 선형모형이므로 이 값을 지수 변환하면 [1.587, 2.048] 이다.\n"
   ]
  },
  {
   "cell_type": "code",
   "execution_count": 17,
   "metadata": {
    "vscode": {
     "languageId": "r"
    }
   },
   "outputs": [
    {
     "name": "stdout",
     "output_type": "stream",
     "text": [
      "lo_value: 0.4618719 , hi_value: 0.7167364 \n",
      "exo(lo_value): 1.587042 , exp(hi_value): 2.047739"
     ]
    }
   ],
   "source": [
    "# beta 값과 SE(beta) 값 입력\n",
    "beta = coef(summary(model1))[\"weight\", \"Estimate\"]\n",
    "se_beta = coef(summary(model1))[\"weight\", \"Std. Error\"]\n",
    "\n",
    "# 신뢰구간 계산\n",
    "lo_value = beta - 1.96 * se_beta\n",
    "hi_value = beta + 1.96 * se_beta\n",
    "\n",
    "# 신뢰구간 표시\n",
    "cat(\"lo_value:\", lo_value, \",\", \"hi_value:\", hi_value, \"\\n\")\n",
    "cat(\"exo(lo_value):\", exp(lo_value), \",\", \"exp(hi_value):\", exp(hi_value))"
   ]
  },
  {
   "cell_type": "markdown",
   "metadata": {},
   "source": [
    "#### d. 부수체의 평균수와 무게와의 독립성을 왈드 검정과 가능도비 검정을 하고 결과를 해석하라."
   ]
  },
  {
   "cell_type": "code",
   "execution_count": 18,
   "metadata": {
    "vscode": {
     "languageId": "r"
    }
   },
   "outputs": [
    {
     "data": {
      "text/plain": [
       "\n",
       "Call:\n",
       "glm(formula = sat ~ weight, family = poisson(link = \"log\"), data = crab_data)\n",
       "\n",
       "Coefficients:\n",
       "            Estimate Std. Error z value Pr(>|z|)    \n",
       "(Intercept) -0.42841    0.17893  -2.394   0.0167 *  \n",
       "weight       0.58930    0.06502   9.064   <2e-16 ***\n",
       "---\n",
       "Signif. codes:  0 '***' 0.001 '**' 0.01 '*' 0.05 '.' 0.1 ' ' 1\n",
       "\n",
       "(Dispersion parameter for poisson family taken to be 1)\n",
       "\n",
       "    Null deviance: 632.79  on 172  degrees of freedom\n",
       "Residual deviance: 560.87  on 171  degrees of freedom\n",
       "AIC: 920.16\n",
       "\n",
       "Number of Fisher Scoring iterations: 5\n"
      ]
     },
     "metadata": {},
     "output_type": "display_data"
    }
   ],
   "source": [
    "summary(model1)"
   ]
  },
  {
   "cell_type": "markdown",
   "metadata": {},
   "source": [
    "< 왈드 검정 >\n",
    "왈드 검정의 통계량은 <img src=\"https://latex.codecogs.com/svg.image?z=\\frac{\\hat\\beta}{SE(\\hat\\beta)}\"> 이다.\n",
    "\n",
    "z = 0.589 / 0.0650 = 9.064\n",
    "\n",
    "이고, z는 귀무가설 하에서 표준정규분포를 따른다.\n",
    "이 때 p값은 0에 아주 가까운 값(2e-16)이므로 귀무가설을 기각할 수 있다.\n",
    "즉, 무게는 부수체 수에 유의미한 영향을 미친다.\n",
    "\n",
    "< 가능도비 검정 >\n",
    "가능도비 검정은 β=0 일 때의 로그가능도 함수의 최대값(L0)과 β에 대한 제한조건이 없는 경우의 로그가능도 함수의 최대값(L1)을 비교하여 검정을 실시한다.\n",
    "가능도비 검정의 검정통계량은 <img src=\"https://latex.codecogs.com/svg.image?-2(L_0 - L_1)\"> 이며, 검정통계량은 자유도가 1인 카이제곱분포를 따른다.\n",
    "\n",
    "이 문제에서 검정통계량은 71.925이고, p값은 0에 아주 가까운 값(2.235e-17)이므로 귀무가설을 기각할 수 있다.\n",
    "즉, 무게는 부수체 수에 유의미한 영향을 미친다."
   ]
  },
  {
   "cell_type": "code",
   "execution_count": 25,
   "metadata": {
    "vscode": {
     "languageId": "r"
    }
   },
   "outputs": [
    {
     "name": "stdout",
     "output_type": "stream",
     "text": [
      "l_value: 71.92524 \n",
      "p_value: 0"
     ]
    },
    {
     "data": {
      "text/html": [
       "<table class=\"dataframe\">\n",
       "<caption>A anova: 2 × 5</caption>\n",
       "<thead>\n",
       "\t<tr><th></th><th scope=col>Resid. Df</th><th scope=col>Resid. Dev</th><th scope=col>Df</th><th scope=col>Deviance</th><th scope=col>Pr(&gt;Chi)</th></tr>\n",
       "\t<tr><th></th><th scope=col>&lt;dbl&gt;</th><th scope=col>&lt;dbl&gt;</th><th scope=col>&lt;dbl&gt;</th><th scope=col>&lt;dbl&gt;</th><th scope=col>&lt;dbl&gt;</th></tr>\n",
       "</thead>\n",
       "<tbody>\n",
       "\t<tr><th scope=row>1</th><td>172</td><td>632.7917</td><td>NA</td><td>      NA</td><td>          NA</td></tr>\n",
       "\t<tr><th scope=row>2</th><td>171</td><td>560.8664</td><td> 1</td><td>71.92524</td><td>2.235066e-17</td></tr>\n",
       "</tbody>\n",
       "</table>\n"
      ],
      "text/latex": [
       "A anova: 2 × 5\n",
       "\\begin{tabular}{r|lllll}\n",
       "  & Resid. Df & Resid. Dev & Df & Deviance & Pr(>Chi)\\\\\n",
       "  & <dbl> & <dbl> & <dbl> & <dbl> & <dbl>\\\\\n",
       "\\hline\n",
       "\t1 & 172 & 632.7917 & NA &       NA &           NA\\\\\n",
       "\t2 & 171 & 560.8664 &  1 & 71.92524 & 2.235066e-17\\\\\n",
       "\\end{tabular}\n"
      ],
      "text/markdown": [
       "\n",
       "A anova: 2 × 5\n",
       "\n",
       "| <!--/--> | Resid. Df &lt;dbl&gt; | Resid. Dev &lt;dbl&gt; | Df &lt;dbl&gt; | Deviance &lt;dbl&gt; | Pr(&gt;Chi) &lt;dbl&gt; |\n",
       "|---|---|---|---|---|---|\n",
       "| 1 | 172 | 632.7917 | NA |       NA |           NA |\n",
       "| 2 | 171 | 560.8664 |  1 | 71.92524 | 2.235066e-17 |\n",
       "\n"
      ],
      "text/plain": [
       "  Resid. Df Resid. Dev Df Deviance Pr(>Chi)    \n",
       "1 172       632.7917   NA       NA           NA\n",
       "2 171       560.8664    1 71.92524 2.235066e-17"
      ]
     },
     "metadata": {},
     "output_type": "display_data"
    }
   ],
   "source": [
    "# beta=0인 경우의 모델(단순 모델)\n",
    "model2 = glm(sat~1, family=poisson(link=\"log\"), data=crab_data)\n",
    "\n",
    "# 가능도 계산\n",
    "L_1 = logLik(model1)\n",
    "L_0 = logLik(model2)\n",
    "\n",
    "# 가능도비 검정 통계량\n",
    "l_value = -2 * (L_0 - L_1)\n",
    "\n",
    "# p값 계산\n",
    "p_value = 1-pchisq(l_value, df=1)\n",
    "\n",
    "# 결과\n",
    "cat(\"l_value:\", l_value, \"\\n\")\n",
    "cat(\"p_value:\", p_value)\n",
    "\n",
    "# anova 함수를 이용하여 계산하기\n",
    "lr_test = anova(model2, model1, test=\"LRT\")\n",
    "lr_test"
   ]
  },
  {
   "cell_type": "markdown",
   "metadata": {},
   "source": [
    "### 문제2: 151쪽 문제 4.5\n",
    "\n",
    "1986년의 챌린저호 사고 전에 있었던 23회의 우주선 비행에 대해, <표 4.6>과 이 책의 웹사이트에 있는 Shuttle 자료 파일은 비행시의 기온(˚F)과 열로 인한 문제가 발생했는지의 여부를 나타낸 것이다.\n",
    "\n",
    "<표 4.6> 연습문제 4.5의 우주선에 대한 자료\n",
    "Ft, Temp, TD\n",
    "1,66,0\n",
    "2,70,1\n",
    "3,69,0\n",
    "4,68,0\n",
    "5,67,0\n",
    "6,72,0\n",
    "7,73,0\n",
    "8,70,0\n",
    "9,57,1\n",
    "10,63,1\n",
    "11,70,1\n",
    "12,78,0\n",
    "13,67,0\n",
    "14,53,1\n",
    "15,67,0\n",
    "16,75,0\n",
    "17,70,0\n",
    "18,81,0\n",
    "19,76,0\n",
    "20,79,0\n",
    "21,75,1\n",
    "22,76,0\n",
    "23,58,1\n",
    "\n",
    "주의: Ft=항공기 번호, Temp=기온, TD=열 문제 발생 여부(1=예, 0=아니오)"
   ]
  },
  {
   "cell_type": "code",
   "execution_count": 28,
   "metadata": {
    "vscode": {
     "languageId": "r"
    }
   },
   "outputs": [
    {
     "data": {
      "text/plain": [
       "       Ft            Temp             TD        \n",
       " Min.   : 1.0   Min.   :53.00   Min.   :0.0000  \n",
       " 1st Qu.: 6.5   1st Qu.:67.00   1st Qu.:0.0000  \n",
       " Median :12.0   Median :70.00   Median :0.0000  \n",
       " Mean   :12.0   Mean   :69.57   Mean   :0.3043  \n",
       " 3rd Qu.:17.5   3rd Qu.:75.00   3rd Qu.:1.0000  \n",
       " Max.   :23.0   Max.   :81.00   Max.   :1.0000  "
      ]
     },
     "metadata": {},
     "output_type": "display_data"
    }
   ],
   "source": [
    "# 데이터 프레임 생성\n",
    "fly_data <- data.frame(\n",
    "  Ft = 1:23,\n",
    "  Temp = c(66, 70, 69, 68, 67, 72, 73, 70, 57, 63, 70, 78, 67, 53, 67, 75, 70, 81, 76, 79, 75, 76, 58),\n",
    "  TD = c(0, 1, 0, 0, 0, 0, 0, 0, 1, 1, 1, 0, 0, 1, 0, 0, 0, 0, 0, 0, 1, 0, 1)\n",
    ")\n",
    "\n",
    "# 데이터 확인\n",
    "summary(fly_data)"
   ]
  },
  {
   "cell_type": "markdown",
   "metadata": {},
   "source": [
    "### a. 로지스틱 회귀모형을 이용하여 열 문제가 발생할 확률에 대한 기온의 효과를 모형화하고 적합 결과를 해석하라."
   ]
  },
  {
   "cell_type": "code",
   "execution_count": 29,
   "metadata": {
    "vscode": {
     "languageId": "r"
    }
   },
   "outputs": [
    {
     "data": {
      "text/plain": [
       "\n",
       "Call:\n",
       "glm(formula = TD ~ Temp, family = binomial(link = \"logit\"), data = fly_data)\n",
       "\n",
       "Coefficients:\n",
       "            Estimate Std. Error z value Pr(>|z|)  \n",
       "(Intercept)  15.0429     7.3786   2.039   0.0415 *\n",
       "Temp         -0.2322     0.1082  -2.145   0.0320 *\n",
       "---\n",
       "Signif. codes:  0 '***' 0.001 '**' 0.01 '*' 0.05 '.' 0.1 ' ' 1\n",
       "\n",
       "(Dispersion parameter for binomial family taken to be 1)\n",
       "\n",
       "    Null deviance: 28.267  on 22  degrees of freedom\n",
       "Residual deviance: 20.315  on 21  degrees of freedom\n",
       "AIC: 24.315\n",
       "\n",
       "Number of Fisher Scoring iterations: 5\n"
      ]
     },
     "metadata": {},
     "output_type": "display_data"
    }
   ],
   "source": [
    "# 로지스틱 회귀모형 적합\n",
    "model3 = glm(TD ~ Temp, data=fly_data, family=binomial(link=\"logit\"))\n",
    "\n",
    "# 적합 결과\n",
    "summary(model3)"
   ]
  },
  {
   "cell_type": "markdown",
   "metadata": {},
   "source": [
    "< 로지스틱 회귀모형의 적합식 >\n",
    "\n",
    "<img src=\"https://latex.codecogs.com/svg.image?logit(P)=log(\\frac{P}{1-P})=\\alpha+\\beta\\cdot Temp\">\n",
    "\n",
    "P: 열 문제가 발생(TD=1)할 확률\n",
    "<img src=\"https://latex.codecogs.com/svg.image?\\alpha=15.043\">\n",
    "<img src=\"https://latex.codecogs.com/svg.image?\\beta=-0.232\">\n",
    "\n",
    "수식을 변형하여 P를 구하면 다음과 같다.\n",
    "<img src=\"https://latex.codecogs.com/svg.image?P=\\frac{exp(\\alpha+\\beta\\cdot Temp)}{1+exp(\\alpha+\\beta\\cdot Temp)}\">\n",
    "<img src=\"https://latex.codecogs.com/svg.image?=\\frac{exp(15.043-0.232\\cdot Temp)}{1+exp(15.043-0.232\\cdot Temp)}\">\n",
    "\n",
    "< 기온의 효과 >\n",
    "\n",
    "기온의 회귀계수는 -0.232이다.  \n",
    "이는 기온이 1˚F 증가할 때 열 문제가 발생할 로그 오즈가 약 0.232만큼 감소한다는 의미이다."
   ]
  },
  {
   "cell_type": "markdown",
   "metadata": {},
   "source": [
    "### b. 챌린저호 비행시의 기온인 31˚F에서 열 문제가 발생할 확률을 예측하라."
   ]
  },
  {
   "cell_type": "markdown",
   "metadata": {},
   "source": [
    "Temp = 31을 대입하여 열 문제가 발생할 확률을 직접 계산할 수도 있고,\n",
    "적합된 모델을 활용하여 로그오즈를 구하고, 확률을 계산할 수도 있다."
   ]
  },
  {
   "cell_type": "code",
   "execution_count": 34,
   "metadata": {
    "vscode": {
     "languageId": "r"
    }
   },
   "outputs": [
    {
     "data": {
      "text/html": [
       "0.999610789132986"
      ],
      "text/latex": [
       "0.999610789132986"
      ],
      "text/markdown": [
       "0.999610789132986"
      ],
      "text/plain": [
       "[1] 0.9996108"
      ]
     },
     "metadata": {},
     "output_type": "display_data"
    },
    {
     "data": {
      "text/html": [
       "<strong>1:</strong> 0.999608782884929"
      ],
      "text/latex": [
       "\\textbf{1:} 0.999608782884929"
      ],
      "text/markdown": [
       "**1:** 0.999608782884929"
      ],
      "text/plain": [
       "        1 \n",
       "0.9996088 "
      ]
     },
     "metadata": {},
     "output_type": "display_data"
    }
   ],
   "source": [
    "# Temp=31을 대입하여 직접 계산\n",
    "exp(15.043-0.232*31) / (1+exp(15.043-0.232*31))\n",
    "\n",
    "# 모델을 활용하여 계산하기\n",
    "input_temp = data.frame(Temp=31)\n",
    "log_odds = predict(model3, newdata=input_temp, type=\"link\")\n",
    "prob = exp(log_odds) / (1+exp(log_odds))\n",
    "\n",
    "prob"
   ]
  },
  {
   "cell_type": "markdown",
   "metadata": {},
   "source": [
    "결론적으로 31˚F에서 열 문제가 발생할 확률은 99.961% 이다."
   ]
  },
  {
   "cell_type": "markdown",
   "metadata": {},
   "source": [
    "### c. 기온이 몇 도일 때에 예측확률이 0.50이 되는가? 이 기온값에서 기온이 1도 증가함에 따라 나타나는 예측확률의 변화를 나타내는 선형근사식을 구하라."
   ]
  },
  {
   "cell_type": "markdown",
   "metadata": {},
   "source": [
    "예측확률 P=0.5일 때 \n",
    "<img src=\"https://latex.codecogs.com/svg.image?logit(P)=log(\\frac{P}{1-P})=log(\\frac{0.5}{1-0.5})=0\"> 이 성립한다.\n",
    "\n",
    "<img src=\"https://latex.codecogs.com/svg.image?logit(P)=\\alpha+\\beta\\cdot Temp=0\"> 역시 성립하므로 예측확률 P=0.5인 Temp는 \n",
    "<img src=\"https://latex.codecogs.com/svg.image?Temp=-\\frac{\\alpha}{\\beta}\">이다."
   ]
  },
  {
   "cell_type": "code",
   "execution_count": 37,
   "metadata": {
    "vscode": {
     "languageId": "r"
    }
   },
   "outputs": [
    {
     "data": {
      "text/html": [
       "<strong>(Intercept):</strong> 15.0429016476891"
      ],
      "text/latex": [
       "\\textbf{(Intercept):} 15.0429016476891"
      ],
      "text/markdown": [
       "**(Intercept):** 15.0429016476891"
      ],
      "text/plain": [
       "(Intercept) \n",
       "    15.0429 "
      ]
     },
     "metadata": {},
     "output_type": "display_data"
    },
    {
     "data": {
      "text/html": [
       "<strong>Temp:</strong> -0.232162744218401"
      ],
      "text/latex": [
       "\\textbf{Temp:} -0.232162744218401"
      ],
      "text/markdown": [
       "**Temp:** -0.232162744218401"
      ],
      "text/plain": [
       "      Temp \n",
       "-0.2321627 "
      ]
     },
     "metadata": {},
     "output_type": "display_data"
    },
    {
     "data": {
      "text/html": [
       "<strong>(Intercept):</strong> 64.7946409245488"
      ],
      "text/latex": [
       "\\textbf{(Intercept):} 64.7946409245488"
      ],
      "text/markdown": [
       "**(Intercept):** 64.7946409245488"
      ],
      "text/plain": [
       "(Intercept) \n",
       "   64.79464 "
      ]
     },
     "metadata": {},
     "output_type": "display_data"
    }
   ],
   "source": [
    "alpha = model3$coefficients[1]\n",
    "beta = model3$coefficients[2]\n",
    "alpha\n",
    "beta\n",
    "\n",
    "Temp_05 = - alpha / beta\n",
    "Temp_05"
   ]
  },
  {
   "cell_type": "markdown",
   "metadata": {},
   "source": [
    "예측 확률이 0.5가 되는 기온은 64.795˚F 이다."
   ]
  },
  {
   "cell_type": "markdown",
   "metadata": {},
   "source": [
    "이 기온값에서 기온이 1도 증가함에 따라 나타나는 예측확률의 변화값은 다음과 같이 구할 수 있다."
   ]
  },
  {
   "cell_type": "code",
   "execution_count": 47,
   "metadata": {
    "vscode": {
     "languageId": "r"
    }
   },
   "outputs": [
    {
     "name": "stdout",
     "output_type": "stream",
     "text": [
      "기온이 64.795일 때 확률: 0.5 \n"
     ]
    },
    {
     "name": "stdout",
     "output_type": "stream",
     "text": [
      "기온이 65.795일 때 확률: 0.442 \n",
      "예측 확률의 변화값: -0.058"
     ]
    }
   ],
   "source": [
    "# 모델을 활용하여 계산하기\n",
    "input_temp = data.frame(Temp=64.795)\n",
    "log_odds = predict(model3, newdata=input_temp, type=\"link\")\n",
    "prob1 = exp(log_odds) / (1+exp(log_odds))\n",
    "\n",
    "cat(\"기온이 64.795일 때 확률:\", round(prob1,3), \"\\n\")\n",
    "\n",
    "input_temp = data.frame(Temp=64.795+1)\n",
    "log_odds = predict(model3, newdata=input_temp, type=\"link\")\n",
    "prob2 = exp(log_odds) / (1+exp(log_odds))\n",
    "\n",
    "cat(\"기온이 65.795일 때 확률:\", round(prob2,3), \"\\n\")\n",
    "\n",
    "cat(\"예측 확률의 변화값:\", round(prob2-prob1, 3))"
   ]
  },
  {
   "cell_type": "markdown",
   "metadata": {},
   "source": [
    "즉 64.795˚F에서 기온이 1˚F 상승하면 열 문제가 발생할 예측확률은 5.8% 감소한다.\n",
    "\n",
    "예측확률의 선형 근사식은 다음과 같다.\n",
    "\n",
    "(P-0.5)=-0.058*(Temp-64.795)"
   ]
  },
  {
   "cell_type": "markdown",
   "metadata": {},
   "source": [
    "### d. 열 문제가 발생할 오즈에 대한 기온의 효과를 해석하라."
   ]
  },
  {
   "cell_type": "markdown",
   "metadata": {},
   "source": [
    "열 문제가 발생할 오즈는 다음과 같다.\n",
    "<img src=\"https://latex.codecogs.com/svg.image?Odds=\\frac{P(TD=1)}{P(TD=0)}=\\frac{P}{1-P}\">\n",
    "\n",
    "로지스틱 회귀모델의 식은 다음과 같다.\n",
    "<img src=\"https://latex.codecogs.com/svg.image?logit(P)=log(\\frac{P}{1-P})=log(Odds)=\\alpha+\\beta\\cdot Temp\">\n",
    "\n",
    "<img src=\"https://latex.codecogs.com/svg.image?Odds=exp(\\alpha+\\beta\\cdot Temp)\">\n",
    "\n",
    "기온의 효과는 β값으로 설명할 수 있는데, 기온이 1˚F 증가할 때 열 문제가 발생할 오즈는 exp(-0.232) 배 변화한다는 것이다.\n",
    "\n",
    "exp(-0.232) = 0.793 이므로  \n",
    "기온이 1˚F 증가하면 열 문제가 발생할 오즈가 20.7% 감소하는 효과가 있다. \n"
   ]
  },
  {
   "cell_type": "markdown",
   "metadata": {},
   "source": [
    "### e. 기온의 효과가 없다는 가설에 대하여 가설검정을 하라."
   ]
  },
  {
   "cell_type": "markdown",
   "metadata": {},
   "source": [
    "< 왈드 검정 >\n",
    "왈드 검정의 통계량은 <img src=\"https://latex.codecogs.com/svg.image?z=\\frac{\\hat\\beta}{SE(\\hat\\beta)}\"> 이다.\n",
    "\n",
    "z = -0.232 / 0.108 = -2.145\n",
    "\n",
    "이고, z는 귀무가설 하에서 표준정규분포를 따른다.\n",
    "이 때 p값은 0.032이므로 유의수준 0.05일 때 귀무가설을 기각할 수 있다.\n",
    "즉, 기온은 열 문제 발생에 유의미한 영향을 미친다.\n",
    "\n",
    "< 가능도비 검정 >\n",
    "가능도비 검정은 β=0 일 때의 로그가능도 함수의 최대값(L0)과 β에 대한 제한조건이 없는 경우의 로그가능도 함수의 최대값(L1)을 비교하여 검정을 실시한다.\n",
    "가능도비 검정의 검정통계량은 <img src=\"https://latex.codecogs.com/svg.image?-2(L_0 - L_1)\"> 이며, 검정통계량은 자유도가 1인 카이제곱분포를 따른다.\n",
    "\n",
    "이 문제에서 검정통계량은 7.952이고, p값은 0.0048이므로 귀무가설을 기각할 수 있다.\n",
    "즉, 기온은 열 문제 발생에 유의미한 영향을 미친다."
   ]
  },
  {
   "cell_type": "code",
   "execution_count": 51,
   "metadata": {
    "vscode": {
     "languageId": "r"
    }
   },
   "outputs": [
    {
     "name": "stdout",
     "output_type": "stream",
     "text": [
      "l_value: 7.95196 \n",
      "p_value: 0.004803533"
     ]
    },
    {
     "data": {
      "text/html": [
       "<table class=\"dataframe\">\n",
       "<caption>A anova: 2 × 5</caption>\n",
       "<thead>\n",
       "\t<tr><th></th><th scope=col>Resid. Df</th><th scope=col>Resid. Dev</th><th scope=col>Df</th><th scope=col>Deviance</th><th scope=col>Pr(&gt;Chi)</th></tr>\n",
       "\t<tr><th></th><th scope=col>&lt;dbl&gt;</th><th scope=col>&lt;dbl&gt;</th><th scope=col>&lt;dbl&gt;</th><th scope=col>&lt;dbl&gt;</th><th scope=col>&lt;dbl&gt;</th></tr>\n",
       "</thead>\n",
       "<tbody>\n",
       "\t<tr><th scope=row>1</th><td>22</td><td>28.26715</td><td>NA</td><td>     NA</td><td>         NA</td></tr>\n",
       "\t<tr><th scope=row>2</th><td>21</td><td>20.31519</td><td> 1</td><td>7.95196</td><td>0.004803533</td></tr>\n",
       "</tbody>\n",
       "</table>\n"
      ],
      "text/latex": [
       "A anova: 2 × 5\n",
       "\\begin{tabular}{r|lllll}\n",
       "  & Resid. Df & Resid. Dev & Df & Deviance & Pr(>Chi)\\\\\n",
       "  & <dbl> & <dbl> & <dbl> & <dbl> & <dbl>\\\\\n",
       "\\hline\n",
       "\t1 & 22 & 28.26715 & NA &      NA &          NA\\\\\n",
       "\t2 & 21 & 20.31519 &  1 & 7.95196 & 0.004803533\\\\\n",
       "\\end{tabular}\n"
      ],
      "text/markdown": [
       "\n",
       "A anova: 2 × 5\n",
       "\n",
       "| <!--/--> | Resid. Df &lt;dbl&gt; | Resid. Dev &lt;dbl&gt; | Df &lt;dbl&gt; | Deviance &lt;dbl&gt; | Pr(&gt;Chi) &lt;dbl&gt; |\n",
       "|---|---|---|---|---|---|\n",
       "| 1 | 22 | 28.26715 | NA |      NA |          NA |\n",
       "| 2 | 21 | 20.31519 |  1 | 7.95196 | 0.004803533 |\n",
       "\n"
      ],
      "text/plain": [
       "  Resid. Df Resid. Dev Df Deviance Pr(>Chi)   \n",
       "1 22        28.26715   NA      NA           NA\n",
       "2 21        20.31519    1 7.95196  0.004803533"
      ]
     },
     "metadata": {},
     "output_type": "display_data"
    }
   ],
   "source": [
    "# beta=0인 경우의 모델(단순 모델)\n",
    "model4 = glm(TD ~ 1, data=fly_data, family=binomial(link=\"logit\"))\n",
    "\n",
    "# anova 함수를 이용하여 계산하기\n",
    "lr_test = anova(model4, model3, test=\"LRT\")\n",
    "lr_test"
   ]
  }
 ],
 "metadata": {
  "kernelspec": {
   "display_name": "R",
   "language": "R",
   "name": "ir"
  },
  "language_info": {
   "codemirror_mode": "r",
   "file_extension": ".r",
   "mimetype": "text/x-r-source",
   "name": "R",
   "pygments_lexer": "r",
   "version": "4.3.2"
  }
 },
 "nbformat": 4,
 "nbformat_minor": 2
}
