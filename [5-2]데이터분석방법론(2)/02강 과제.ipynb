{
 "cells": [
  {
   "cell_type": "markdown",
   "metadata": {},
   "source": [
    "### 문제1\n",
    "\n",
    "1991년 일반사회조사에서 조사된 다음의 4X4 분할표는 흑인들에 대해서 직업만족도와 수입에 대해서 조사한 결과를 보여준다.\n",
    "\n",
    "|수입|직업만족도<br>매우 불만족|직업만족도<br>약간 만족|직업만족도<br>적절히 만족|직업만족도<br>매우 만족|\n",
    "|:-:|:-:|:-:|:-:|:-:|\n",
    "|<5000|2|4|13|3|\n",
    "|5000 ~ 15000|2|6|22|4|\n",
    "|15000 ~ 25000|0|1|15|8|\n",
    "|>25000|0|3|13|8|\n",
    "\n",
    "a. <img src=\"https://latex.codecogs.com/svg.image?\\chi^2\"> 검정을 이용하여 직업만족도와 수입 간의 독립성검정을 수행하라. 검정 결과를 해석하고 이 자료에 대해서 이 검정이 갖고 있는 문제점을 설명하라. 표준화잔차를 구하라. 어떠한 패턴을 보이고 있는가?"
   ]
  },
  {
   "cell_type": "code",
   "execution_count": 62,
   "metadata": {
    "vscode": {
     "languageId": "r"
    }
   },
   "outputs": [],
   "source": [
    "# 데이터 입력\n",
    "data = matrix(c(2, 4, 13, 3,\n",
    "                2, 6, 22, 4,\n",
    "                0, 1, 15, 8,\n",
    "                0, 3, 13, 8),\n",
    "                nrow=4, byrow=TRUE)\n",
    "\n",
    "colnames(data) = c(\"매우불만족\", \"약간만족\", \"적절히만족\", \"매우만족\")\n",
    "rownames(data) = c(\"<5000\", \"5000~15000\", \"15000~25000\", \">25000\")"
   ]
  },
  {
   "cell_type": "code",
   "execution_count": 20,
   "metadata": {
    "vscode": {
     "languageId": "r"
    }
   },
   "outputs": [
    {
     "name": "stderr",
     "output_type": "stream",
     "text": [
      "Warning message in chisq.test(data):\n",
      "\"Chi-squared approximation may be incorrect\"\n"
     ]
    },
    {
     "data": {
      "text/plain": [
       "\n",
       "\tPearson's Chi-squared test\n",
       "\n",
       "data:  data\n",
       "X-squared = 11.524, df = 9, p-value = 0.2415\n"
      ]
     },
     "metadata": {},
     "output_type": "display_data"
    }
   ],
   "source": [
    "# 카이제곱 검정을 이용하여 직업만족도와 수입 간의 독립성검정 수행\n",
    "result = chisq.test(data)\n",
    "result"
   ]
  },
  {
   "cell_type": "markdown",
   "metadata": {},
   "source": [
    "< 카이제곱 검정 결과 >\n",
    "chisq.test 함수를 통해 카이제곱검정을 실시한 결과,  \n",
    "검정 통계량이 11.524, 자유도는 9, p값은 0.2415 이다.  \n",
    "\n",
    "자유도 df = (I-1)(J-1) 이므로 (4-1)×(4-1) = 9 이다.  \n",
    "p값은 1-pchisq(11.524, df=9) 명령어를 통해 0.2415임을 확인할 수 있다.  "
   ]
  },
  {
   "cell_type": "code",
   "execution_count": 21,
   "metadata": {
    "vscode": {
     "languageId": "r"
    }
   },
   "outputs": [
    {
     "data": {
      "text/html": [
       "0.241492497242428"
      ],
      "text/latex": [
       "0.241492497242428"
      ],
      "text/markdown": [
       "0.241492497242428"
      ],
      "text/plain": [
       "[1] 0.2414925"
      ]
     },
     "metadata": {},
     "output_type": "display_data"
    }
   ],
   "source": [
    "p_value = 1-pchisq(11.524, df=9)\n",
    "p_value"
   ]
  },
  {
   "cell_type": "markdown",
   "metadata": {},
   "source": [
    "< 검정결과에 대한 해석 >\n",
    "\n",
    "귀무가설은 \"수입(독립변수)과 직업만족도(반응변수)는 서로 독립이다\" 이며,  \n",
    "대립가설은 \"수입(독립변수)과 직업만족도(반응변수)는 서로 독립적이지 않다.\" 이다.\n",
    "\n",
    "검정 결과 p값이 0.2415로서 0.05보다 크므로 귀무가설을 기각할 수 없는 것으로 해석할 수 있다.\n",
    "\n",
    "< 이 검정이 갖고 있는 문제점 >\n",
    "\n",
    "다만, 행과 열의 각각 4개씩 존재하는 분할표에서 전체 관측치가 104개라면 평균적으로 하나의 셀에 6.5개의 관측이 존재할 수 있는데, 각 셀마다 관측치 수의 편차가 크다는 점을 고려하면 검정결과가 왜곡될 우려가 있다고 판단된다."
   ]
  },
  {
   "cell_type": "code",
   "execution_count": 22,
   "metadata": {
    "vscode": {
     "languageId": "r"
    }
   },
   "outputs": [
    {
     "data": {
      "text/html": [
       "<table class=\"dataframe\">\n",
       "<caption>A matrix: 4 × 4 of type dbl</caption>\n",
       "<thead>\n",
       "\t<tr><th></th><th scope=col>매우불만족</th><th scope=col>약간만족</th><th scope=col>적절히만족</th><th scope=col>매우만족</th></tr>\n",
       "</thead>\n",
       "<tbody>\n",
       "\t<tr><th scope=row>&lt;5000</th><td> 1.4406207</td><td> 0.7305280</td><td>-0.1606257</td><td>-1.079180</td></tr>\n",
       "\t<tr><th scope=row>5000~15000</th><td> 0.7525419</td><td> 0.8715747</td><td> 0.6005081</td><td>-1.772568</td></tr>\n",
       "\t<tr><th scope=row>15000~25000</th><td>-1.1171392</td><td>-1.5211385</td><td> 0.2198088</td><td> 1.509794</td></tr>\n",
       "\t<tr><th scope=row>&gt;25000</th><td>-1.1171392</td><td>-0.1573592</td><td>-0.7326960</td><td> 1.509794</td></tr>\n",
       "</tbody>\n",
       "</table>\n"
      ],
      "text/latex": [
       "A matrix: 4 × 4 of type dbl\n",
       "\\begin{tabular}{r|llll}\n",
       "  & 매우불만족 & 약간만족 & 적절히만족 & 매우만족\\\\\n",
       "\\hline\n",
       "\t<5000 &  1.4406207 &  0.7305280 & -0.1606257 & -1.079180\\\\\n",
       "\t5000\\textasciitilde{}15000 &  0.7525419 &  0.8715747 &  0.6005081 & -1.772568\\\\\n",
       "\t15000\\textasciitilde{}25000 & -1.1171392 & -1.5211385 &  0.2198088 &  1.509794\\\\\n",
       "\t>25000 & -1.1171392 & -0.1573592 & -0.7326960 &  1.509794\\\\\n",
       "\\end{tabular}\n"
      ],
      "text/markdown": [
       "\n",
       "A matrix: 4 × 4 of type dbl\n",
       "\n",
       "| <!--/--> | 매우불만족 | 약간만족 | 적절히만족 | 매우만족 |\n",
       "|---|---|---|---|---|\n",
       "| &lt;5000 |  1.4406207 |  0.7305280 | -0.1606257 | -1.079180 |\n",
       "| 5000~15000 |  0.7525419 |  0.8715747 |  0.6005081 | -1.772568 |\n",
       "| 15000~25000 | -1.1171392 | -1.5211385 |  0.2198088 |  1.509794 |\n",
       "| &gt;25000 | -1.1171392 | -0.1573592 | -0.7326960 |  1.509794 |\n",
       "\n"
      ],
      "text/plain": [
       "            매우불만족 약간만족   적절히만족 매우만족 \n",
       "<5000        1.4406207  0.7305280 -0.1606257 -1.079180\n",
       "5000~15000   0.7525419  0.8715747  0.6005081 -1.772568\n",
       "15000~25000 -1.1171392 -1.5211385  0.2198088  1.509794\n",
       ">25000      -1.1171392 -0.1573592 -0.7326960  1.509794"
      ]
     },
     "metadata": {},
     "output_type": "display_data"
    }
   ],
   "source": [
    "# 표준화잔차 구하기\n",
    "result$stdres"
   ]
  },
  {
   "cell_type": "markdown",
   "metadata": {},
   "source": [
    "< 표준화잔차의 패턴 >\n",
    "표준화잔차의 패턴을 살펴보면  \n",
    "첫째, 수입이 낮으면 매우불만족, 약간만족이 기대값보다 많이 나타나고, 수입이 높으면 매우불만족, 약간만족이 기대값보다 적게 나타난다.  \n",
    "둘째, 수입이 낮으면 적절히만족, 매우만족이 기대값보다 대체로 적게 나타나고, 수입이 높으면 적절히만족, 매우만족이 기대값보다 대체로 많이 나타난다."
   ]
  },
  {
   "cell_type": "markdown",
   "metadata": {},
   "source": [
    "b. 수입에 대해서는 (3, 10, 20, 35) 점수를 사용하고 직업만족도에 대해서는 (1, 3, 4, 5) 점수를 사용하여 변수들을 질적인 형태로 간주한 후에 검정을 수행하라. 왜 이 검정 결과가 (a)와 다른지 설명하라."
   ]
  },
  {
   "cell_type": "markdown",
   "metadata": {},
   "source": [
    "![SAS 코드](02강%20과제1-2.png)"
   ]
  },
  {
   "cell_type": "markdown",
   "metadata": {},
   "source": [
    "![SAS 결과](02강%20과제1-2_결과.png)"
   ]
  },
  {
   "cell_type": "markdown",
   "metadata": {},
   "source": [
    "< 점수를 반영하여 질적인 형태로 간주한 변수의 검정 결과 >\n",
    "(a)에서 실시한 카이제곱 검정에 따른 p값은 0.2415 였는데, (b)에서 점수를 부여한 Mentel-Haenszel 카이제곱 검정에 따른 p 값은 0.0079이다.\n",
    "즉, Mentel-Haenszel 카이제곱 검정에 따르면 귀무가설을 기각할 수 있으며, 수입과 만족도 사이에는 연관성이 존재한다.\n",
    "\n",
    "< 검정 결과가 a와 다른 이유 >\n",
    "데이터에 점수를 반영하면 데이터는 단순히 범주형이 아니라 순서형 정보를 포함하게 된다.\n",
    "점수를 반영한 데이터는 변수의 순서와 강도를 추가로 반영하게 되며, 이는 검정통계량과 p값에 큰 영향을 미치며, 이에 따라 변수간의 관계에도 영향을 미치는 것으로 보인다."
   ]
  },
  {
   "cell_type": "code",
   "execution_count": 71,
   "metadata": {
    "vscode": {
     "languageId": "r"
    }
   },
   "outputs": [
    {
     "data": {
      "text/plain": [
       "Call:\n",
       "polr(formula = Y ~ X, data = data, weights = count, Hess = TRUE)\n",
       "\n",
       "Coefficients:\n",
       "      Value Std. Error t value\n",
       "X10 -0.4632     0.4178  -1.109\n",
       "X20  0.9145     0.4632   1.975\n",
       "X35  0.7026     0.4761   1.476\n",
       "\n",
       "Intercepts:\n",
       "    Value   Std. Error t value\n",
       "1|3 -3.6306  0.5312    -6.8352\n",
       "3|4 -1.5871  0.2668    -5.9489\n",
       "4|5  1.5018  0.2621     5.7294\n",
       "\n",
       "Residual Deviance: 312.4581 \n",
       "AIC: 324.4581 "
      ]
     },
     "metadata": {},
     "output_type": "display_data"
    }
   ],
   "source": [
    "library(MASS)\n",
    "\n",
    "# 데이터 입력\n",
    "# X는 독립 변수, Y는 순서형 반응 변수\n",
    "data <- data.frame(\n",
    "  X = factor(c(3, 3, 3, 3, 10, 10, 10, 10, 20, 20, 20, 20, 35, 35, 35, 35)),\n",
    "  Y = factor(c(1, 3, 4, 5, 1, 3, 4, 5, 1, 3, 4, 5, 1, 3, 4, 5), \n",
    "             levels = c(1, 3, 4, 5), ordered = TRUE),\n",
    "  count = c(2, 12, 52, 15, 2, 6, 22, 4, 0, 1, 15, 8, 0, 3, 13, 8)\n",
    ")\n",
    "\n",
    "# 다항 로지스틱 회귀 모델 적합\n",
    "model <- polr(Y ~ X, data = data, weights = count, Hess = TRUE)\n",
    "\n",
    "# 모델 요약\n",
    "summary(model)\n"
   ]
  },
  {
   "cell_type": "code",
   "execution_count": 70,
   "metadata": {
    "vscode": {
     "languageId": "r"
    }
   },
   "outputs": [
    {
     "data": {
      "text/plain": [
       "Call:\n",
       "polr(formula = Y ~ X, data = data, weights = count, Hess = TRUE)\n",
       "\n",
       "Coefficients:\n",
       "      Value Std. Error t value\n",
       "X10 -0.4632     0.4178  -1.109\n",
       "X20  0.9145     0.4632   1.975\n",
       "X35  0.7026     0.4761   1.476\n",
       "\n",
       "Intercepts:\n",
       "    Value   Std. Error t value\n",
       "1|3 -3.6306  0.5312    -6.8352\n",
       "3|4 -1.5871  0.2668    -5.9489\n",
       "4|5  1.5018  0.2621     5.7294\n",
       "\n",
       "Residual Deviance: 312.4581 \n",
       "AIC: 324.4581 "
      ]
     },
     "metadata": {},
     "output_type": "display_data"
    }
   ],
   "source": [
    "# 필요한 패키지 설치 및 로드\n",
    "if (!requireNamespace(\"MASS\", quietly = TRUE)) {\n",
    "  install.packages(\"MASS\")\n",
    "}\n",
    "library(MASS)\n",
    "\n",
    "# 데이터 입력\n",
    "data <- data.frame(\n",
    "  X = factor(c(3, 3, 3, 3, 10, 10, 10, 10, 20, 20, 20, 20, 35, 35, 35, 35)),\n",
    "  Y = factor(c(1, 3, 4, 5, 1, 3, 4, 5, 1, 3, 4, 5, 1, 3, 4, 5)),\n",
    "  count = c(2, 12, 52, 15, 2, 6, 22, 4, 0, 1, 15, 8, 0, 3, 13, 8)\n",
    ")\n",
    "\n",
    "# 각 (X, Y) 조합의 비율을 계산하여 다항 로지스틱 회귀 분석을 위한 데이터 준비\n",
    "# Y를 순서형 반응변수로 설정\n",
    "data$Y <- factor(data$Y, levels = sort(unique(data$Y)))\n",
    "\n",
    "# 다항 로지스틱 회귀 분석 모델 적합\n",
    "model <- polr(Y ~ X, data = data, weights = count, Hess = TRUE)\n",
    "\n",
    "# 모델 요약\n",
    "summary(model)\n"
   ]
  },
  {
   "cell_type": "code",
   "execution_count": 69,
   "metadata": {
    "vscode": {
     "languageId": "r"
    }
   },
   "outputs": [
    {
     "data": {
      "text/plain": [
       "    Y\n",
       "X     1  3  4  5\n",
       "  3   2  4 13  3\n",
       "  10  2  6 22  4\n",
       "  20  0  1 15  8\n",
       "  35  0  3 13  8"
      ]
     },
     "metadata": {},
     "output_type": "display_data"
    },
    {
     "name": "stderr",
     "output_type": "stream",
     "text": [
      "Warning message in chisq.test(table_data):\n",
      "\"Chi-squared approximation may be incorrect\"\n"
     ]
    },
    {
     "name": "stdout",
     "output_type": "stream",
     "text": [
      "\n",
      "\tPearson's Chi-squared test\n",
      "\n",
      "data:  table_data\n",
      "X-squared = 11.524, df = 9, p-value = 0.2415\n",
      "\n"
     ]
    }
   ],
   "source": [
    "library(dplyr)\n",
    "\n",
    "# 데이터 입력\n",
    "data <- data.frame(\n",
    "  X = c(3, 3, 3, 3, 10, 10, 10, 10, 20, 20, 20, 20, 35, 35, 35, 35),\n",
    "  Y = c(1, 3, 4, 5, 1, 3, 4, 5, 1, 3, 4, 5, 1, 3, 4, 5),\n",
    "  count = c(2, 4, 13, 3, 2, 6, 22, 4, 0, 1, 15, 8, 0, 3, 13, 8)\n",
    ")\n",
    "\n",
    "# 교차표 생성\n",
    "table_data <- xtabs(count ~ X + Y, data = data)\n",
    "table_data\n",
    "\n",
    "# 카이제곱 검정 수행\n",
    "chi_sq_test <- chisq.test(table_data)\n",
    "\n",
    "# 결과 출력\n",
    "print(chi_sq_test)\n"
   ]
  },
  {
   "cell_type": "code",
   "execution_count": 63,
   "metadata": {
    "vscode": {
     "languageId": "r"
    }
   },
   "outputs": [
    {
     "data": {
      "text/html": [
       "<table class=\"dataframe\">\n",
       "<caption>A matrix: 4 × 4 of type dbl</caption>\n",
       "<thead>\n",
       "\t<tr><th></th><th scope=col>매우불만족</th><th scope=col>약간만족</th><th scope=col>적절히만족</th><th scope=col>매우만족</th></tr>\n",
       "</thead>\n",
       "<tbody>\n",
       "\t<tr><th scope=row>&lt;5000</th><td>2</td><td>4</td><td>13</td><td>3</td></tr>\n",
       "\t<tr><th scope=row>5000~15000</th><td>2</td><td>6</td><td>22</td><td>4</td></tr>\n",
       "\t<tr><th scope=row>15000~25000</th><td>0</td><td>1</td><td>15</td><td>8</td></tr>\n",
       "\t<tr><th scope=row>&gt;25000</th><td>0</td><td>3</td><td>13</td><td>8</td></tr>\n",
       "</tbody>\n",
       "</table>\n"
      ],
      "text/latex": [
       "A matrix: 4 × 4 of type dbl\n",
       "\\begin{tabular}{r|llll}\n",
       "  & 매우불만족 & 약간만족 & 적절히만족 & 매우만족\\\\\n",
       "\\hline\n",
       "\t<5000 & 2 & 4 & 13 & 3\\\\\n",
       "\t5000\\textasciitilde{}15000 & 2 & 6 & 22 & 4\\\\\n",
       "\t15000\\textasciitilde{}25000 & 0 & 1 & 15 & 8\\\\\n",
       "\t>25000 & 0 & 3 & 13 & 8\\\\\n",
       "\\end{tabular}\n"
      ],
      "text/markdown": [
       "\n",
       "A matrix: 4 × 4 of type dbl\n",
       "\n",
       "| <!--/--> | 매우불만족 | 약간만족 | 적절히만족 | 매우만족 |\n",
       "|---|---|---|---|---|\n",
       "| &lt;5000 | 2 | 4 | 13 | 3 |\n",
       "| 5000~15000 | 2 | 6 | 22 | 4 |\n",
       "| 15000~25000 | 0 | 1 | 15 | 8 |\n",
       "| &gt;25000 | 0 | 3 | 13 | 8 |\n",
       "\n"
      ],
      "text/plain": [
       "            매우불만족 약간만족 적절히만족 매우만족\n",
       "<5000       2          4        13         3       \n",
       "5000~15000  2          6        22         4       \n",
       "15000~25000 0          1        15         8       \n",
       ">25000      0          3        13         8       "
      ]
     },
     "metadata": {},
     "output_type": "display_data"
    },
    {
     "data": {
      "text/html": [
       "<table class=\"dataframe\">\n",
       "<caption>A matrix: 4 × 4 of type dbl</caption>\n",
       "<thead>\n",
       "\t<tr><th></th><th scope=col>매우불만족(1)</th><th scope=col>약간만족(3)</th><th scope=col>적절히만족(4)</th><th scope=col>매우만족(5)</th></tr>\n",
       "</thead>\n",
       "<tbody>\n",
       "\t<tr><th scope=row>&lt;5000(3)</th><td>2</td><td>12</td><td>52</td><td>15</td></tr>\n",
       "\t<tr><th scope=row>5000~15000(10)</th><td>2</td><td>18</td><td>88</td><td>20</td></tr>\n",
       "\t<tr><th scope=row>15000~25000(20)</th><td>0</td><td> 3</td><td>60</td><td>40</td></tr>\n",
       "\t<tr><th scope=row>&gt;25000(35)</th><td>0</td><td> 9</td><td>52</td><td>40</td></tr>\n",
       "</tbody>\n",
       "</table>\n"
      ],
      "text/latex": [
       "A matrix: 4 × 4 of type dbl\n",
       "\\begin{tabular}{r|llll}\n",
       "  & 매우불만족(1) & 약간만족(3) & 적절히만족(4) & 매우만족(5)\\\\\n",
       "\\hline\n",
       "\t<5000(3) & 2 & 12 & 52 & 15\\\\\n",
       "\t5000\\textasciitilde{}15000(10) & 2 & 18 & 88 & 20\\\\\n",
       "\t15000\\textasciitilde{}25000(20) & 0 &  3 & 60 & 40\\\\\n",
       "\t>25000(35) & 0 &  9 & 52 & 40\\\\\n",
       "\\end{tabular}\n"
      ],
      "text/markdown": [
       "\n",
       "A matrix: 4 × 4 of type dbl\n",
       "\n",
       "| <!--/--> | 매우불만족(1) | 약간만족(3) | 적절히만족(4) | 매우만족(5) |\n",
       "|---|---|---|---|---|\n",
       "| &lt;5000(3) | 2 | 12 | 52 | 15 |\n",
       "| 5000~15000(10) | 2 | 18 | 88 | 20 |\n",
       "| 15000~25000(20) | 0 |  3 | 60 | 40 |\n",
       "| &gt;25000(35) | 0 |  9 | 52 | 40 |\n",
       "\n"
      ],
      "text/plain": [
       "                매우불만족(1) 약간만족(3) 적절히만족(4) 매우만족(5)\n",
       "<5000(3)        2             12          52            15         \n",
       "5000~15000(10)  2             18          88            20         \n",
       "15000~25000(20) 0              3          60            40         \n",
       ">25000(35)      0              9          52            40         "
      ]
     },
     "metadata": {},
     "output_type": "display_data"
    }
   ],
   "source": [
    "# 수입과 직업만족도 점수 입력\n",
    "income_point = matrix(c(3, 10, 20, 35,\n",
    "                        3, 10, 20, 35,\n",
    "                        3, 10, 20, 35,\n",
    "                        3, 10, 20, 35), nrow=4, byrow=FALSE)\n",
    "good_point = matrix(c(1, 3, 4, 5,\n",
    "                      1, 3, 4, 5,\n",
    "                      1, 3, 4, 5,\n",
    "                      1, 3, 4, 5), nrow=4, byrow=TRUE)\n",
    "\n",
    "# 점수가 반영된 데이터 생성\n",
    "data2 = data * good_point;\n",
    "\n",
    "# 행열에 이름 부여\n",
    "colnames(data2) = c(\"매우불만족(1)\", \"약간만족(3)\", \"적절히만족(4)\", \"매우만족(5)\")\n",
    "rownames(data2) = c(\"<5000(3)\", \"5000~15000(10)\", \"15000~25000(20)\", \">25000(35)\")\n",
    "\n",
    "# 변환 전후 데이터 비교\n",
    "data\n",
    "data2"
   ]
  },
  {
   "cell_type": "markdown",
   "metadata": {},
   "source": [
    "< 변수들을 질적인 형태로 간주하기 >\n",
    "수입에 대해서는 (3, 10, 20, 35), 직업만족도에 대해서는 (1, 3, 4, 5) 점수를 사용하여 변환한 데이터는 원래 데이터와 상당히 다른 형태를 보인다."
   ]
  },
  {
   "cell_type": "code",
   "execution_count": 64,
   "metadata": {
    "vscode": {
     "languageId": "r"
    }
   },
   "outputs": [
    {
     "name": "stderr",
     "output_type": "stream",
     "text": [
      "Warning message in chisq.test(data2):\n",
      "\"Chi-squared approximation may be incorrect\"\n"
     ]
    },
    {
     "data": {
      "text/plain": [
       "\n",
       "\tPearson's Chi-squared test\n",
       "\n",
       "data:  data2\n",
       "X-squared = 35.342, df = 9, p-value = 5.184e-05\n"
      ]
     },
     "metadata": {},
     "output_type": "display_data"
    }
   ],
   "source": [
    "# 점수가 반영된 데이터로 검정\n",
    "result2 = chisq.test(data2)\n",
    "result2"
   ]
  },
  {
   "cell_type": "markdown",
   "metadata": {},
   "source": [
    "< 검정 결과가 a와 다른 이유 >\n",
    "데이터에 점수를 반영하면 데이터는 단순히 범주형이 아니라 순서형 정보를 포함하게 된다.\n",
    "점수를 반영한 데이터는 변수의 순서와 강도를 추가로 반영하게 되며, 이는 검정통계량과 p값에 큰 영향을 미치며, 이에 따라 변수간의 관계에도 영향을 미친다."
   ]
  },
  {
   "cell_type": "code",
   "execution_count": 46,
   "metadata": {
    "vscode": {
     "languageId": "r"
    }
   },
   "outputs": [
    {
     "data": {
      "text/plain": [
       "      good\n",
       "income  1  3  4  5\n",
       "    3   2  4 13  3\n",
       "    10  2  6 22  4\n",
       "    20  0  1 15  8\n",
       "    35  0  3 13  8"
      ]
     },
     "metadata": {},
     "output_type": "display_data"
    },
    {
     "name": "stderr",
     "output_type": "stream",
     "text": [
      "Warning message in chisq.test(data2_table):\n",
      "\"Chi-squared approximation may be incorrect\"\n"
     ]
    },
    {
     "data": {
      "text/plain": [
       "\n",
       "\tPearson's Chi-squared test\n",
       "\n",
       "data:  data2_table\n",
       "X-squared = 11.524, df = 9, p-value = 0.2415\n"
      ]
     },
     "metadata": {},
     "output_type": "display_data"
    }
   ],
   "source": [
    "# 수입과 직업만족도 점수를 반영하여 데이터 입력\n",
    "data2 = data.frame(income = c(3, 3, 3, 3, 10, 10, 10, 10, 20, 20, 20, 20, 35, 35, 35, 35),\n",
    "                   good = c(1, 3, 4, 5, 1, 3, 4, 5, 1, 3, 4, 5, 1, 3, 4, 5),\n",
    "                   count = c(2, 4, 13, 3, 2, 6, 22, 4, 0, 1, 15, 8, 0, 3, 13, 8))\n",
    "\n",
    "# 교차표 생성\n",
    "data2_table = xtabs(count ~ income + good, data=data2)                   \n",
    "data2_table\n",
    "\n",
    "# 카이제곱 검정 수행\n",
    "result2 = chisq.test(data2_table)\n",
    "result2"
   ]
  },
  {
   "cell_type": "code",
   "execution_count": 30,
   "metadata": {
    "vscode": {
     "languageId": "r"
    }
   },
   "outputs": [
    {
     "data": {
      "text/html": [
       "<style>\n",
       ".list-inline {list-style: none; margin:0; padding: 0}\n",
       ".list-inline>li {display: inline-block}\n",
       ".list-inline>li:not(:last-child)::after {content: \"\\00b7\"; padding: 0 .5ex}\n",
       "</style>\n",
       "<ol class=list-inline><li>2</li><li>2</li><li>0</li><li>0</li><li>4</li><li>6</li><li>1</li><li>3</li><li>13</li><li>22</li><li>15</li><li>13</li><li>3</li><li>4</li><li>8</li><li>8</li></ol>\n"
      ],
      "text/latex": [
       "\\begin{enumerate*}\n",
       "\\item 2\n",
       "\\item 2\n",
       "\\item 0\n",
       "\\item 0\n",
       "\\item 4\n",
       "\\item 6\n",
       "\\item 1\n",
       "\\item 3\n",
       "\\item 13\n",
       "\\item 22\n",
       "\\item 15\n",
       "\\item 13\n",
       "\\item 3\n",
       "\\item 4\n",
       "\\item 8\n",
       "\\item 8\n",
       "\\end{enumerate*}\n"
      ],
      "text/markdown": [
       "1. 2\n",
       "2. 2\n",
       "3. 0\n",
       "4. 0\n",
       "5. 4\n",
       "6. 6\n",
       "7. 1\n",
       "8. 3\n",
       "9. 13\n",
       "10. 22\n",
       "11. 15\n",
       "12. 13\n",
       "13. 3\n",
       "14. 4\n",
       "15. 8\n",
       "16. 8\n",
       "\n",
       "\n"
      ],
      "text/plain": [
       " [1]  2  2  0  0  4  6  1  3 13 22 15 13  3  4  8  8"
      ]
     },
     "metadata": {},
     "output_type": "display_data"
    },
    {
     "data": {
      "text/html": [
       "<table class=\"dataframe\">\n",
       "<caption>A matrix: 1 × 16 of type dbl</caption>\n",
       "<tbody>\n",
       "\t<tr><td>2</td><td>2</td><td>0</td><td>0</td><td>4</td><td>6</td><td>1</td><td>3</td><td>13</td><td>22</td><td>15</td><td>13</td><td>3</td><td>4</td><td>8</td><td>8</td></tr>\n",
       "</tbody>\n",
       "</table>\n"
      ],
      "text/latex": [
       "A matrix: 1 × 16 of type dbl\n",
       "\\begin{tabular}{llllllllllllllll}\n",
       "\t 2 & 2 & 0 & 0 & 4 & 6 & 1 & 3 & 13 & 22 & 15 & 13 & 3 & 4 & 8 & 8\\\\\n",
       "\\end{tabular}\n"
      ],
      "text/markdown": [
       "\n",
       "A matrix: 1 × 16 of type dbl\n",
       "\n",
       "| 2 | 2 | 0 | 0 | 4 | 6 | 1 | 3 | 13 | 22 | 15 | 13 | 3 | 4 | 8 | 8 |\n",
       "\n"
      ],
      "text/plain": [
       "     [,1] [,2] [,3] [,4] [,5] [,6] [,7] [,8] [,9] [,10] [,11] [,12] [,13] [,14]\n",
       "[1,] 2    2    0    0    4    6    1    3    13   22    15    13    3     4    \n",
       "     [,15] [,16]\n",
       "[1,] 8     8    "
      ]
     },
     "metadata": {},
     "output_type": "display_data"
    },
    {
     "data": {
      "text/html": [
       "<table class=\"dataframe\">\n",
       "<caption>A matrix: 4 × 4 of type dbl</caption>\n",
       "<thead>\n",
       "\t<tr><th></th><th scope=col>매우불만족</th><th scope=col>약간만족</th><th scope=col>적절히만족</th><th scope=col>매우만족</th></tr>\n",
       "</thead>\n",
       "<tbody>\n",
       "\t<tr><th scope=row>&lt;5000</th><td>2</td><td>4</td><td>13</td><td>3</td></tr>\n",
       "\t<tr><th scope=row>5000~15000</th><td>2</td><td>6</td><td>22</td><td>4</td></tr>\n",
       "\t<tr><th scope=row>15000~25000</th><td>0</td><td>1</td><td>15</td><td>8</td></tr>\n",
       "\t<tr><th scope=row>&gt;25000</th><td>0</td><td>3</td><td>13</td><td>8</td></tr>\n",
       "</tbody>\n",
       "</table>\n"
      ],
      "text/latex": [
       "A matrix: 4 × 4 of type dbl\n",
       "\\begin{tabular}{r|llll}\n",
       "  & 매우불만족 & 약간만족 & 적절히만족 & 매우만족\\\\\n",
       "\\hline\n",
       "\t<5000 & 2 & 4 & 13 & 3\\\\\n",
       "\t5000\\textasciitilde{}15000 & 2 & 6 & 22 & 4\\\\\n",
       "\t15000\\textasciitilde{}25000 & 0 & 1 & 15 & 8\\\\\n",
       "\t>25000 & 0 & 3 & 13 & 8\\\\\n",
       "\\end{tabular}\n"
      ],
      "text/markdown": [
       "\n",
       "A matrix: 4 × 4 of type dbl\n",
       "\n",
       "| <!--/--> | 매우불만족 | 약간만족 | 적절히만족 | 매우만족 |\n",
       "|---|---|---|---|---|\n",
       "| &lt;5000 | 2 | 4 | 13 | 3 |\n",
       "| 5000~15000 | 2 | 6 | 22 | 4 |\n",
       "| 15000~25000 | 0 | 1 | 15 | 8 |\n",
       "| &gt;25000 | 0 | 3 | 13 | 8 |\n",
       "\n"
      ],
      "text/plain": [
       "            매우불만족 약간만족 적절히만족 매우만족\n",
       "<5000       2          4        13         3       \n",
       "5000~15000  2          6        22         4       \n",
       "15000~25000 0          1        15         8       \n",
       ">25000      0          3        13         8       "
      ]
     },
     "metadata": {},
     "output_type": "display_data"
    },
    {
     "data": {
      "text/html": [
       "<table class=\"dataframe\">\n",
       "<caption>A matrix: 4 × 4 of type dbl</caption>\n",
       "<thead>\n",
       "\t<tr><th></th><th scope=col>매우불만족(1)</th><th scope=col>약간만족(3)</th><th scope=col>적절히만족(4)</th><th scope=col>매우만족(5)</th></tr>\n",
       "</thead>\n",
       "<tbody>\n",
       "\t<tr><th scope=row>&lt;5000(3)</th><td> 6</td><td> 12</td><td>  39</td><td>   9</td></tr>\n",
       "\t<tr><th scope=row>5000~15000(10)</th><td>60</td><td>180</td><td> 660</td><td> 120</td></tr>\n",
       "\t<tr><th scope=row>15000~25000(20)</th><td> 0</td><td> 80</td><td>1200</td><td> 640</td></tr>\n",
       "\t<tr><th scope=row>&gt;25000(35)</th><td> 0</td><td>525</td><td>2275</td><td>1400</td></tr>\n",
       "</tbody>\n",
       "</table>\n"
      ],
      "text/latex": [
       "A matrix: 4 × 4 of type dbl\n",
       "\\begin{tabular}{r|llll}\n",
       "  & 매우불만족(1) & 약간만족(3) & 적절히만족(4) & 매우만족(5)\\\\\n",
       "\\hline\n",
       "\t<5000(3) &  6 &  12 &   39 &    9\\\\\n",
       "\t5000\\textasciitilde{}15000(10) & 60 & 180 &  660 &  120\\\\\n",
       "\t15000\\textasciitilde{}25000(20) &  0 &  80 & 1200 &  640\\\\\n",
       "\t>25000(35) &  0 & 525 & 2275 & 1400\\\\\n",
       "\\end{tabular}\n"
      ],
      "text/markdown": [
       "\n",
       "A matrix: 4 × 4 of type dbl\n",
       "\n",
       "| <!--/--> | 매우불만족(1) | 약간만족(3) | 적절히만족(4) | 매우만족(5) |\n",
       "|---|---|---|---|---|\n",
       "| &lt;5000(3) |  6 |  12 |   39 |    9 |\n",
       "| 5000~15000(10) | 60 | 180 |  660 |  120 |\n",
       "| 15000~25000(20) |  0 |  80 | 1200 |  640 |\n",
       "| &gt;25000(35) |  0 | 525 | 2275 | 1400 |\n",
       "\n"
      ],
      "text/plain": [
       "                매우불만족(1) 약간만족(3) 적절히만족(4) 매우만족(5)\n",
       "<5000(3)         6             12           39             9       \n",
       "5000~15000(10)  60            180          660           120       \n",
       "15000~25000(20)  0             80         1200           640       \n",
       ">25000(35)       0            525         2275          1400       "
      ]
     },
     "metadata": {},
     "output_type": "display_data"
    }
   ],
   "source": [
    "# 점수가 반영된 이차원 분할표\n",
    "point = income_point * good_point\n",
    "data3 = data2 * point\n",
    "data3_matrix = matrix(data3, nrow=4)\n",
    "\n",
    "# 행열에 이름 부여\n",
    "colnames(data3_matrix) = c(\"매우불만족(1)\", \"약간만족(3)\", \"적절히만족(4)\", \"매우만족(5)\")\n",
    "rownames(data3_matrix) = c(\"<5000(3)\", \"5000~15000(10)\", \"15000~25000(20)\", \">25000(35)\")\n",
    "\n",
    "# 비교하기\n",
    "data\n",
    "data3_matrix\n"
   ]
  },
  {
   "cell_type": "code",
   "execution_count": 44,
   "metadata": {
    "vscode": {
     "languageId": "r"
    }
   },
   "outputs": [
    {
     "data": {
      "text/plain": [
       "       alcohol\n",
       "malform     0   0.5   1.5     4     7\n",
       "      1 17066 14464   788   126    37\n",
       "      2    48    38     5     1     1"
      ]
     },
     "metadata": {},
     "output_type": "display_data"
    },
    {
     "name": "stderr",
     "output_type": "stream",
     "text": [
      "Warning message in chisq.test(table_data):\n",
      "\"Chi-squared approximation may be incorrect\"\n"
     ]
    },
    {
     "name": "stdout",
     "output_type": "stream",
     "text": [
      "\n",
      "\tPearson's Chi-squared test\n",
      "\n",
      "data:  table_data\n",
      "X-squared = 12.082, df = 4, p-value = 0.01675\n",
      "\n"
     ]
    }
   ],
   "source": [
    "# 데이터 입력\n",
    "data <- data.frame(\n",
    "  malform = factor(c(1, 1, 1, 1, 1, 2, 2, 2, 2, 2)),\n",
    "  alcohol = factor(c(0, 0.5, 1.5, 4.0, 7.0, 0, 0.5, 1.5, 4.0, 7.0)),\n",
    "  count = c(17066, 14464, 788, 126, 37, 48, 38, 5, 1, 1)\n",
    ")\n",
    "\n",
    "# 교차표 생성\n",
    "table_data <- xtabs(count ~ malform + alcohol, data = data)\n",
    "table_data\n",
    "\n",
    "# 카이제곱 검정 수행\n",
    "chisq_test <- chisq.test(table_data)\n",
    "\n",
    "# 결과 출력\n",
    "print(chisq_test)\n"
   ]
  },
  {
   "cell_type": "code",
   "execution_count": 48,
   "metadata": {
    "vscode": {
     "languageId": "r"
    }
   },
   "outputs": [
    {
     "name": "stderr",
     "output_type": "stream",
     "text": [
      "Warning message in Ops.factor(left, right):\n",
      "\"'*' not meaningful for factors\"\n",
      "Warning message in Ops.factor(left, right):\n",
      "\"'*' not meaningful for factors\"\n"
     ]
    },
    {
     "data": {
      "text/html": [
       "<table class=\"dataframe\">\n",
       "<caption>A matrix: 4 × 4 of type dbl</caption>\n",
       "<tbody>\n",
       "\t<tr><td> 3</td><td>  9</td><td> 12</td><td> 15</td></tr>\n",
       "\t<tr><td>10</td><td> 30</td><td> 40</td><td> 50</td></tr>\n",
       "\t<tr><td>20</td><td> 60</td><td> 80</td><td>100</td></tr>\n",
       "\t<tr><td>35</td><td>105</td><td>140</td><td>175</td></tr>\n",
       "</tbody>\n",
       "</table>\n"
      ],
      "text/latex": [
       "A matrix: 4 × 4 of type dbl\n",
       "\\begin{tabular}{llll}\n",
       "\t  3 &   9 &  12 &  15\\\\\n",
       "\t 10 &  30 &  40 &  50\\\\\n",
       "\t 20 &  60 &  80 & 100\\\\\n",
       "\t 35 & 105 & 140 & 175\\\\\n",
       "\\end{tabular}\n"
      ],
      "text/markdown": [
       "\n",
       "A matrix: 4 × 4 of type dbl\n",
       "\n",
       "|  3 |   9 |  12 |  15 |\n",
       "| 10 |  30 |  40 |  50 |\n",
       "| 20 |  60 |  80 | 100 |\n",
       "| 35 | 105 | 140 | 175 |\n",
       "\n"
      ],
      "text/plain": [
       "     [,1] [,2] [,3] [,4]\n",
       "[1,]  3     9   12   15 \n",
       "[2,] 10    30   40   50 \n",
       "[3,] 20    60   80  100 \n",
       "[4,] 35   105  140  175 "
      ]
     },
     "metadata": {},
     "output_type": "display_data"
    },
    {
     "ename": "ERROR",
     "evalue": "Error in names(x) <- value: 'names' attribute [4] must be the same length as the vector [3]\n",
     "output_type": "error",
     "traceback": [
      "Error in names(x) <- value: 'names' attribute [4] must be the same length as the vector [3]\nTraceback:\n",
      "1. `colnames<-`(`*tmp*`, value = c(\"매우불만족(1)\", \"약간만족(3)\", \n . \"적절히만족(4)\", \"매우만족(5)\"))"
     ]
    }
   ],
   "source": [
    "# 수입과 직업만족도 점수 입력\n",
    "income_point = matrix(c(3, 10, 20, 35,\n",
    "                        3, 10, 20, 35,\n",
    "                        3, 10, 20, 35,\n",
    "                        3, 10, 20, 35), nrow=4, byrow=FALSE)\n",
    "good_point = matrix(c(1, 3, 4, 5,\n",
    "                      1, 3, 4, 5,\n",
    "                      1, 3, 4, 5,\n",
    "                      1, 3, 4, 5), nrow=4, byrow=TRUE)\n",
    "\n",
    "# 점수가 반영된 데이터 생성\n",
    "point = income_point * good_point;\n",
    "data2 = data * point;\n",
    "\n",
    "point\n",
    "\n",
    "# 행열에 이름 부여\n",
    "colnames(data2) = c(\"매우불만족(1)\", \"약간만족(3)\", \"적절히만족(4)\", \"매우만족(5)\")\n",
    "rownames(data2) = c(\"<5000(3)\", \"5000~15000(10)\", \"15000~25000(20)\", \">25000(35)\")\n",
    "\n",
    "# 변환 전후 데이터 비교\n",
    "data\n",
    "data2\n",
    "\n",
    "# 점수가 반영된 데이터로 검정\n",
    "result2 = chisq.test(data2)\n",
    "result2"
   ]
  },
  {
   "cell_type": "code",
   "execution_count": 55,
   "metadata": {
    "vscode": {
     "languageId": "r"
    }
   },
   "outputs": [
    {
     "name": "stderr",
     "output_type": "stream",
     "text": [
      "Warning message in chisq.test(cross_table):\n",
      "\"Chi-squared approximation may be incorrect\"\n"
     ]
    },
    {
     "name": "stdout",
     "output_type": "stream",
     "text": [
      "   Y\n",
      "X    W  X  Y  Z\n",
      "  A  3  5 13  7\n",
      "  B  7  6  7  6\n",
      "  C  6 12  4  7\n",
      "  D  1  6  5  5\n",
      "\n",
      "\tPearson's Chi-squared test\n",
      "\n",
      "data:  cross_table\n",
      "X-squared = 12.367, df = 9, p-value = 0.1934\n",
      "\n"
     ]
    }
   ],
   "source": [
    "# 데이터 생성 (예제 데이터로 무작위 생성)\n",
    "set.seed(123)  # 재현성을 위해 시드 설정\n",
    "n <- 100  # 샘플 크기\n",
    "X <- sample(c(\"A\", \"B\", \"C\", \"D\"), n, replace = TRUE)\n",
    "Y <- sample(c(\"W\", \"X\", \"Y\", \"Z\"), n, replace = TRUE)\n",
    "\n",
    "# 교차표 생성\n",
    "cross_table <- table(X, Y)\n",
    "\n",
    "# 카이제곱 독립성 검정 수행\n",
    "chi_sq_test <- chisq.test(cross_table)\n",
    "\n",
    "# 결과 출력\n",
    "print(cross_table)\n",
    "print(chi_sq_test)\n"
   ]
  },
  {
   "cell_type": "code",
   "execution_count": 59,
   "metadata": {
    "vscode": {
     "languageId": "r"
    }
   },
   "outputs": [
    {
     "name": "stderr",
     "output_type": "stream",
     "text": [
      "Loading required package: nnet\n",
      "\n"
     ]
    },
    {
     "name": "stdout",
     "output_type": "stream",
     "text": [
      "# weights:  12 (6 variable)\n",
      "initial  value 138.629436 \n",
      "iter  10 value 134.531091\n",
      "final  value 134.531081 \n",
      "converged\n"
     ]
    },
    {
     "data": {
      "text/plain": [
       "Call:\n",
       "multinom(formula = Y ~ X, data = data)\n",
       "\n",
       "Coefficients:\n",
       "  (Intercept)           X\n",
       "X -0.02483502  0.03523962\n",
       "Y  0.68720144 -0.01164528\n",
       "Z  0.12330082  0.01775096\n",
       "\n",
       "Std. Errors:\n",
       "  (Intercept)          X\n",
       "X   0.5312258 0.02838539\n",
       "Y   0.5003721 0.02979744\n",
       "Z   0.5313186 0.02938176\n",
       "\n",
       "Residual Deviance: 269.0622 \n",
       "AIC: 281.0622 "
      ]
     },
     "metadata": {},
     "output_type": "display_data"
    }
   ],
   "source": [
    "# 필요한 패키지 설치 및 로드\n",
    "if (!require(nnet)) install.packages(\"nnet\", dependencies = TRUE)\n",
    "library(nnet)\n",
    "\n",
    "# 데이터 생성\n",
    "set.seed(123)  # 재현성을 위해 시드 설정\n",
    "\n",
    "# 독립변수 X의 수치값\n",
    "X_values <- c(3, 10, 20, 35)\n",
    "X <- sample(X_values, 100, replace = TRUE)  # 샘플 크기 100\n",
    "\n",
    "# 반응변수 Y의 수준을 무작위로 생성 (예제용)\n",
    "Y_levels <- c(\"W\", \"X\", \"Y\", \"Z\")\n",
    "Y <- sample(Y_levels, 100, replace = TRUE)\n",
    "\n",
    "# 데이터 프레임 생성\n",
    "data <- data.frame(X = X, Y = factor(Y, levels = Y_levels))\n",
    "\n",
    "# 다중 로지스틱 회귀 분석 수행 (반응변수 Y가 범주형일 경우)\n",
    "model <- multinom(Y ~ X, data = data)\n",
    "\n",
    "# 결과 출력\n",
    "summary(model)\n"
   ]
  },
  {
   "cell_type": "code",
   "execution_count": 72,
   "metadata": {
    "vscode": {
     "languageId": "r"
    }
   },
   "outputs": [
    {
     "name": "stderr",
     "output_type": "stream",
     "text": [
      "Warning message in chisq.test(table_data):\n",
      "\"Chi-squared approximation may be incorrect\"\n"
     ]
    },
    {
     "name": "stdout",
     "output_type": "stream",
     "text": [
      "\n",
      "\tPearson's Chi-squared test\n",
      "\n",
      "data:  table_data\n",
      "X-squared = 12.082, df = 4, p-value = 0.01675\n",
      "\n"
     ]
    },
    {
     "data": {
      "text/plain": [
       "\n",
       "Call:\n",
       "glm(formula = count ~ malform * alcohol, family = poisson(), \n",
       "    data = data)\n",
       "\n",
       "Coefficients:\n",
       "                     Estimate Std. Error  z value Pr(>|z|)    \n",
       "(Intercept)          9.744843   0.007655 1273.036   <2e-16 ***\n",
       "malform2            -5.873642   0.144540  -40.637   <2e-16 ***\n",
       "alcohol0.5          -0.165425   0.011302  -14.637   <2e-16 ***\n",
       "alcohol1.5          -3.075345   0.036437  -84.402   <2e-16 ***\n",
       "alcohol4            -4.908562   0.089415  -54.896   <2e-16 ***\n",
       "alcohol7            -6.133926   0.164577  -37.271   <2e-16 ***\n",
       "malform2:alcohol0.5 -0.068189   0.217432   -0.314   0.7538    \n",
       "malform2:alcohol1.5  0.813582   0.471340    1.726   0.0843 .  \n",
       "malform2:alcohol4    1.037361   1.014307    1.023   0.3064    \n",
       "malform2:alcohol7    2.262725   1.023674    2.210   0.0271 *  \n",
       "---\n",
       "Signif. codes:  0 '***' 0.001 '**' 0.01 '*' 0.05 '.' 0.1 ' ' 1\n",
       "\n",
       "(Dispersion parameter for poisson family taken to be 1)\n",
       "\n",
       "    Null deviance:  9.5424e+04  on 9  degrees of freedom\n",
       "Residual deviance: -1.5508e-12  on 0  degrees of freedom\n",
       "AIC: 82.309\n",
       "\n",
       "Number of Fisher Scoring iterations: 3\n"
      ]
     },
     "metadata": {},
     "output_type": "display_data"
    }
   ],
   "source": [
    "# 데이터 입력\n",
    "data <- data.frame(\n",
    "  malform = factor(c(1, 1, 1, 1, 1, 2, 2, 2, 2, 2)),\n",
    "  alcohol = factor(c(0, 0.5, 1.5, 4.0, 7.0, 0, 0.5, 1.5, 4.0, 7.0)),\n",
    "  count = c(17066, 14464, 788, 126, 37, 48, 38, 5, 1, 1)\n",
    ")\n",
    "\n",
    "# 교차표 생성\n",
    "table_data <- xtabs(count ~ malform + alcohol, data = data)\n",
    "\n",
    "# 카이제곱 검정\n",
    "chi_sq_test <- chisq.test(table_data)\n",
    "print(chi_sq_test)\n",
    "\n",
    "# 선형 회귀 분석\n",
    "model <- glm(count ~ malform * alcohol, data = data, family = poisson())\n",
    "summary(model)\n"
   ]
  },
  {
   "cell_type": "code",
   "execution_count": 76,
   "metadata": {
    "vscode": {
     "languageId": "r"
    }
   },
   "outputs": [
    {
     "name": "stdout",
     "output_type": "stream",
     "text": [
      "\n",
      "\tCochran-Mantel-Haenszel test\n",
      "\n",
      "data:  array_data\n",
      "Cochran-Mantel-Haenszel M^2 = 0, df = 9, p-value = 1\n",
      "\n"
     ]
    }
   ],
   "source": [
    "# 필요한 패키지 로드\n",
    "if (!requireNamespace(\"stats\", quietly = TRUE)) {\n",
    "  install.packages(\"stats\")\n",
    "}\n",
    "library(stats)\n",
    "\n",
    "# 데이터 입력\n",
    "data <- data.frame(\n",
    "  income = factor(c(3, 3, 3, 3, 10, 10, 10, 10, 20, 20, 20, 20, 35, 35, 35, 35)),\n",
    "  good = factor(c(1, 3, 4, 5, 1, 3, 4, 5, 1, 3, 4, 5, 1, 3, 4, 5)),\n",
    "  count = c(2, 4, 13, 3, 2, 6, 22, 4, 0, 1, 15, 8, 0, 3, 13, 8)\n",
    ")\n",
    "\n",
    "# 독립 변수와 반응 변수의 수준을 확인\n",
    "income_levels <- levels(data$income)\n",
    "good_levels <- levels(data$good)\n",
    "\n",
    "# 2x2xK 배열 생성\n",
    "n_levels_income <- length(income_levels)\n",
    "n_levels_good <- length(good_levels)\n",
    "\n",
    "# 2x2 배열을 담을 3차원 배열 생성\n",
    "array_data <- array(0, dim = c(n_levels_good, n_levels_good, n_levels_income),\n",
    "                    dimnames = list(good_levels, good_levels, income_levels))\n",
    "\n",
    "# 배열에 데이터 입력\n",
    "for (inc in income_levels) {\n",
    "  temp <- data[data$income == inc, ]\n",
    "  for (i in 1:n_levels_good) {\n",
    "    for (j in 1:n_levels_good) {\n",
    "      # good_levels의 각 조합에 대한 count 값을 배열에 저장\n",
    "      array_data[i, j, which(income_levels == inc)] <- sum(temp$count[temp$good == good_levels[i]])\n",
    "    }\n",
    "  }\n",
    "}\n",
    "\n",
    "# Mantel-Haenszel 검정 수행\n",
    "mantelhaen_results <- mantelhaen.test(array_data)\n",
    "print(mantelhaen_results)\n"
   ]
  }
 ],
 "metadata": {
  "kernelspec": {
   "display_name": "R",
   "language": "R",
   "name": "ir"
  },
  "language_info": {
   "codemirror_mode": "r",
   "file_extension": ".r",
   "mimetype": "text/x-r-source",
   "name": "R",
   "pygments_lexer": "r",
   "version": "4.3.2"
  }
 },
 "nbformat": 4,
 "nbformat_minor": 2
}
