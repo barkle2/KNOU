{
 "cells": [
  {
   "cell_type": "markdown",
   "metadata": {},
   "source": [
    "### 문제1: 285쪽 문제 7.2\n",
    "\n",
    "<표 2.9>에 있는 자료에서 D=피고인의 인종, V=희생자의 인종, P=사형선고 여부를 나타낸다. <표 7.13>은 로그선형모형(DV, DP, PV)의 적합 결과이다.\n",
    "\n",
    "<표 2.9>\n",
    "|피해자의 인종|피고의 인종|사형선고_예|사형선고_아니오|\"예\"의 비율|\n",
    "|:-:|:-:|:-:|:-:|:-:|\n",
    "|백인|백인|53|414|11.3|\n",
    "|백인|흑인|11|37|22.9|\n",
    "|흑인|백인|0|16|0.0|\n",
    "|흑인|흑인|4|139|2.8|\n",
    "|합|백인|53|430|11.0|\n",
    "|합|흑인|15|176|7.9|\n",
    "\n",
    "<표 7.13> 사형선고에 대한 연습문제 7.2의 출력 결과\n",
    "```r\n",
    "--------------------------------------------------------------\n",
    " Coefficients: # not showing intercept and main effect terms\n",
    "               Estimate   Std. Error   z value   Pr(>|z|)\n",
    "Dwhite:Vwhite   4.59497      0.31353    14.656    < 2e-16\n",
    "Dwhite:Pyes    -0.86780      0.36707    -2.364     0.0181\n",
    "Vwhite:Pyes     2.40444      0.60061     4.003   6.25e-05\n",
    "---\n",
    "Residual deviance:    0.379894  on 1   degrees of freedom\n",
    "--------------------------------------------------------------\n",
    "```"
   ]
  },
  {
   "cell_type": "markdown",
   "metadata": {},
   "source": [
    "#### a. V의 각 수준에서 D와 P 간의 조건부 오즈비를 추정하고 그 의미를 해석하라."
   ]
  },
  {
   "cell_type": "markdown",
   "metadata": {},
   "source": [
    "V의 각 수준에서 D와 P 간의 조건부 오즈비를 추정하려면 V의 각 수준에서 D와 P의 데이터로 2×2 분할표를 그려 오즈비를 계산하면 된다.\n",
    "\n",
    "- V=백인인 경우\n",
    "\n",
    "|피고의 인종|사형선고_예|사형선고_아니오|\n",
    "|:-:|:-:|:-:|\n",
    "|백인|53|414|\n",
    "|흑인|11|37|\n",
    "\n",
    "$오즈_w = \\dfrac{53\\times 37}{414\\times 11} = 0.430$\n",
    "→ 피해자가 백인일 때 피고인이 백인인 경우의 오즈는 피고인이 흑인일 때의 오즈의 약 43% 수준이다. \n",
    "이는 피해자가 백인일 때 백인 피고인이 흑인 피고인에 비해 사형선고를 덜 받는 경향이 있다는 것을 의미한다.\n",
    "\n",
    "- V=흑인인 경우\n",
    "\n",
    "|피고의 인종|사형선고_예|사형선고_아니오|\n",
    "|:-:|:-:|:-:|\n",
    "|백인|0|16|\n",
    "|흑인|4|139|\n",
    "\n",
    "$오즈_b = \\dfrac{0\\times 139}{16\\times 4} = 0$\n",
    "\n",
    "→ 피해자가 흑인일 때 피고인이 백인인 경우에는 사형 선고 사례가 없어 오즈비를 해석하기 어렵다.\n",
    "피해자가 흑인인 경우 백인이 피고인이면 사형선고를 하지 않는 경향이 있기 때문인지, 아니면 피해자가 흑인이고 피고인이 백인인 사례의 수가 적어 우연히 사례가 없는 것인지 판단하기 어렵기 때문이다.\n",
    "\n",
    "빈도값에 0.5를 더하여 오즈비를 다시 계산해보면 오즈비가 0.939 이다.\n",
    "이는 피해자가 흑인일 때 피고인의 인종과 관계없이 사형선고를 받을 가능성이 비슷하다고 볼 수 있는 결과이지만, 이런 해석은 신중해야 한다고 생각한다.\n",
    "\n",
    "|피고의 인종|사형선고_예|사형선고_아니오|\n",
    "|:-:|:-:|:-:|\n",
    "|백인|0.5|16.5|\n",
    "|흑인|4.5|139.5|\n",
    "\n",
    "$오즈_b = \\dfrac{0.5\\times 139.5}{16.5\\times 4.5} = 0.939$"
   ]
  },
  {
   "cell_type": "markdown",
   "metadata": {},
   "source": [
    "#### b. 이 모형에 대한 적합도 검정을 시행하고 결과를 해석하라."
   ]
  },
  {
   "cell_type": "code",
   "execution_count": 14,
   "metadata": {
    "vscode": {
     "languageId": "r"
    }
   },
   "outputs": [
    {
     "data": {
      "text/html": [
       "<table class=\"dataframe\">\n",
       "<caption>A data.frame: 6 × 4</caption>\n",
       "<thead>\n",
       "\t<tr><th></th><th scope=col>D</th><th scope=col>V</th><th scope=col>P</th><th scope=col>count</th></tr>\n",
       "\t<tr><th></th><th scope=col>&lt;chr&gt;</th><th scope=col>&lt;chr&gt;</th><th scope=col>&lt;chr&gt;</th><th scope=col>&lt;int&gt;</th></tr>\n",
       "</thead>\n",
       "<tbody>\n",
       "\t<tr><th scope=row>1</th><td>white</td><td>white</td><td>yes</td><td> 53</td></tr>\n",
       "\t<tr><th scope=row>2</th><td>white</td><td>white</td><td>no </td><td>414</td></tr>\n",
       "\t<tr><th scope=row>3</th><td>black</td><td>white</td><td>yes</td><td> 11</td></tr>\n",
       "\t<tr><th scope=row>4</th><td>black</td><td>white</td><td>no </td><td> 37</td></tr>\n",
       "\t<tr><th scope=row>5</th><td>white</td><td>black</td><td>yes</td><td>  0</td></tr>\n",
       "\t<tr><th scope=row>6</th><td>white</td><td>black</td><td>no </td><td> 16</td></tr>\n",
       "</tbody>\n",
       "</table>\n"
      ],
      "text/latex": [
       "A data.frame: 6 × 4\n",
       "\\begin{tabular}{r|llll}\n",
       "  & D & V & P & count\\\\\n",
       "  & <chr> & <chr> & <chr> & <int>\\\\\n",
       "\\hline\n",
       "\t1 & white & white & yes &  53\\\\\n",
       "\t2 & white & white & no  & 414\\\\\n",
       "\t3 & black & white & yes &  11\\\\\n",
       "\t4 & black & white & no  &  37\\\\\n",
       "\t5 & white & black & yes &   0\\\\\n",
       "\t6 & white & black & no  &  16\\\\\n",
       "\\end{tabular}\n"
      ],
      "text/markdown": [
       "\n",
       "A data.frame: 6 × 4\n",
       "\n",
       "| <!--/--> | D &lt;chr&gt; | V &lt;chr&gt; | P &lt;chr&gt; | count &lt;int&gt; |\n",
       "|---|---|---|---|---|\n",
       "| 1 | white | white | yes |  53 |\n",
       "| 2 | white | white | no  | 414 |\n",
       "| 3 | black | white | yes |  11 |\n",
       "| 4 | black | white | no  |  37 |\n",
       "| 5 | white | black | yes |   0 |\n",
       "| 6 | white | black | no  |  16 |\n",
       "\n"
      ],
      "text/plain": [
       "  D     V     P   count\n",
       "1 white white yes  53  \n",
       "2 white white no  414  \n",
       "3 black white yes  11  \n",
       "4 black white no   37  \n",
       "5 white black yes   0  \n",
       "6 white black no   16  "
      ]
     },
     "metadata": {},
     "output_type": "display_data"
    }
   ],
   "source": [
    "DVP = read.table(\"DeathPenalty.dat\", header=TRUE)\n",
    "head(DVP)"
   ]
  },
  {
   "cell_type": "code",
   "execution_count": 15,
   "metadata": {
    "vscode": {
     "languageId": "r"
    }
   },
   "outputs": [
    {
     "data": {
      "text/plain": [
       "\n",
       "Call:\n",
       "glm(formula = count ~ D + V + P + D:V + D:P + V:P, family = poisson, \n",
       "    data = DVP)\n",
       "\n",
       "Coefficients:\n",
       "              Estimate Std. Error z value Pr(>|z|)    \n",
       "(Intercept)    4.93578    0.08471  58.265  < 2e-16 ***\n",
       "Dwhite        -2.17465    0.26377  -8.245  < 2e-16 ***\n",
       "Vwhite        -1.32980    0.18479  -7.196 6.19e-13 ***\n",
       "Pyes          -3.59610    0.50691  -7.094 1.30e-12 ***\n",
       "Dwhite:Vwhite  4.59497    0.31353  14.656  < 2e-16 ***\n",
       "Dwhite:Pyes   -0.86780    0.36707  -2.364   0.0181 *  \n",
       "Vwhite:Pyes    2.40444    0.60061   4.003 6.25e-05 ***\n",
       "---\n",
       "Signif. codes:  0 '***' 0.001 '**' 0.01 '*' 0.05 '.' 0.1 ' ' 1\n",
       "\n",
       "(Dispersion parameter for poisson family taken to be 1)\n",
       "\n",
       "    Null deviance: 1225.07955  on 7  degrees of freedom\n",
       "Residual deviance:    0.37984  on 1  degrees of freedom\n",
       "AIC: 52.42\n",
       "\n",
       "Number of Fisher Scoring iterations: 3\n"
      ]
     },
     "metadata": {},
     "output_type": "display_data"
    }
   ],
   "source": [
    "fit = glm(count ~ D + V + P + D:V + D:P + V:P, family=poisson, data=DVP)\n",
    "summary(fit)"
   ]
  },
  {
   "cell_type": "markdown",
   "metadata": {},
   "source": [
    "이 모형의 적합도를 검정하기 위해 잔차의 편차를 살펴보면 Null 모형의 편차와 비교하여 매우 작은 값을 나타내고 있고 자유도도 1이다. 이는 모형이 데이터를 잘 설명하고 있다는 의미로 해석할 수 있다.\n",
    "\n",
    "카이제곱 검정을 하면 검정통계량이 1224.7 이고, 자유도가 7-1=6 일 때 p값은 0에 매우 가까운 작은 값으로 나타난다. 이 역시 모형이 충분히 적합되었다는 의미로 해석할 수 있다."
   ]
  },
  {
   "cell_type": "code",
   "execution_count": 16,
   "metadata": {
    "vscode": {
     "languageId": "r"
    }
   },
   "outputs": [
    {
     "data": {
      "text/html": [
       "0"
      ],
      "text/latex": [
       "0"
      ],
      "text/markdown": [
       "0"
      ],
      "text/plain": [
       "[1] 0"
      ]
     },
     "metadata": {},
     "output_type": "display_data"
    }
   ],
   "source": [
    "1-pchisq(1224.7, 6)"
   ]
  },
  {
   "cell_type": "markdown",
   "metadata": {},
   "source": [
    "#### c. 이 책의 웹사이트에 있는 파일 DeathPenalty를 이용하여, 아래 출력 결과를 구하라. P를 반응변수로 취하여 대응되는 로지스틱 모형을 제시하라. 자료를 그룹화한 파일을 만들어 모형을 적합하고 D와 V 효과에 대한 추정값과 로그 선형모형에서의 추정값이 어떻게 관련되는지를 설명하라. 둘 중 어떤 모형이 주어진 자료를 분석하는데 더 적절한지 설명하라."
   ]
  },
  {
   "cell_type": "code",
   "execution_count": 17,
   "metadata": {
    "vscode": {
     "languageId": "r"
    }
   },
   "outputs": [
    {
     "data": {
      "text/html": [
       "<table class=\"dataframe\">\n",
       "<caption>A data.frame: 8 × 4</caption>\n",
       "<thead>\n",
       "\t<tr><th scope=col>D</th><th scope=col>V</th><th scope=col>P</th><th scope=col>count</th></tr>\n",
       "\t<tr><th scope=col>&lt;chr&gt;</th><th scope=col>&lt;chr&gt;</th><th scope=col>&lt;chr&gt;</th><th scope=col>&lt;int&gt;</th></tr>\n",
       "</thead>\n",
       "<tbody>\n",
       "\t<tr><td>white</td><td>white</td><td>yes</td><td> 53</td></tr>\n",
       "\t<tr><td>white</td><td>white</td><td>no </td><td>414</td></tr>\n",
       "\t<tr><td>black</td><td>white</td><td>yes</td><td> 11</td></tr>\n",
       "\t<tr><td>black</td><td>white</td><td>no </td><td> 37</td></tr>\n",
       "\t<tr><td>white</td><td>black</td><td>yes</td><td>  0</td></tr>\n",
       "\t<tr><td>white</td><td>black</td><td>no </td><td> 16</td></tr>\n",
       "\t<tr><td>black</td><td>black</td><td>yes</td><td>  4</td></tr>\n",
       "\t<tr><td>black</td><td>black</td><td>no </td><td>139</td></tr>\n",
       "</tbody>\n",
       "</table>\n"
      ],
      "text/latex": [
       "A data.frame: 8 × 4\n",
       "\\begin{tabular}{llll}\n",
       " D & V & P & count\\\\\n",
       " <chr> & <chr> & <chr> & <int>\\\\\n",
       "\\hline\n",
       "\t white & white & yes &  53\\\\\n",
       "\t white & white & no  & 414\\\\\n",
       "\t black & white & yes &  11\\\\\n",
       "\t black & white & no  &  37\\\\\n",
       "\t white & black & yes &   0\\\\\n",
       "\t white & black & no  &  16\\\\\n",
       "\t black & black & yes &   4\\\\\n",
       "\t black & black & no  & 139\\\\\n",
       "\\end{tabular}\n"
      ],
      "text/markdown": [
       "\n",
       "A data.frame: 8 × 4\n",
       "\n",
       "| D &lt;chr&gt; | V &lt;chr&gt; | P &lt;chr&gt; | count &lt;int&gt; |\n",
       "|---|---|---|---|\n",
       "| white | white | yes |  53 |\n",
       "| white | white | no  | 414 |\n",
       "| black | white | yes |  11 |\n",
       "| black | white | no  |  37 |\n",
       "| white | black | yes |   0 |\n",
       "| white | black | no  |  16 |\n",
       "| black | black | yes |   4 |\n",
       "| black | black | no  | 139 |\n",
       "\n"
      ],
      "text/plain": [
       "  D     V     P   count\n",
       "1 white white yes  53  \n",
       "2 white white no  414  \n",
       "3 black white yes  11  \n",
       "4 black white no   37  \n",
       "5 white black yes   0  \n",
       "6 white black no   16  \n",
       "7 black black yes   4  \n",
       "8 black black no  139  "
      ]
     },
     "metadata": {},
     "output_type": "display_data"
    }
   ],
   "source": [
    "DVP"
   ]
  },
  {
   "cell_type": "code",
   "execution_count": 18,
   "metadata": {
    "vscode": {
     "languageId": "r"
    }
   },
   "outputs": [
    {
     "data": {
      "text/plain": [
       "\n",
       "Call:\n",
       "glm(formula = count ~ D + V + P + D:V + D:P + V:P, family = poisson, \n",
       "    data = DVP)\n",
       "\n",
       "Coefficients:\n",
       "              Estimate Std. Error z value Pr(>|z|)    \n",
       "(Intercept)    4.93578    0.08471  58.265  < 2e-16 ***\n",
       "Dwhite        -2.17465    0.26377  -8.245  < 2e-16 ***\n",
       "Vwhite        -1.32980    0.18479  -7.196 6.19e-13 ***\n",
       "Pyes          -3.59610    0.50691  -7.094 1.30e-12 ***\n",
       "Dwhite:Vwhite  4.59497    0.31353  14.656  < 2e-16 ***\n",
       "Dwhite:Pyes   -0.86780    0.36707  -2.364   0.0181 *  \n",
       "Vwhite:Pyes    2.40444    0.60061   4.003 6.25e-05 ***\n",
       "---\n",
       "Signif. codes:  0 '***' 0.001 '**' 0.01 '*' 0.05 '.' 0.1 ' ' 1\n",
       "\n",
       "(Dispersion parameter for poisson family taken to be 1)\n",
       "\n",
       "    Null deviance: 1225.07955  on 7  degrees of freedom\n",
       "Residual deviance:    0.37984  on 1  degrees of freedom\n",
       "AIC: 52.42\n",
       "\n",
       "Number of Fisher Scoring iterations: 3\n"
      ]
     },
     "metadata": {},
     "output_type": "display_data"
    }
   ],
   "source": [
    "# <표 7.13> 출력결과 구하기\n",
    "# count ~ D + V + P + D:V + D:P + V:P 이고, 포아송 분포를 사용하는 로그 선형모형을 구하면 된다.\n",
    "fit = glm(count ~ D + V + P + D:V + D:P + V:P, family=poisson, data=DVP)\n",
    "summary(fit)"
   ]
  },
  {
   "cell_type": "code",
   "execution_count": 19,
   "metadata": {
    "vscode": {
     "languageId": "r"
    }
   },
   "outputs": [
    {
     "data": {
      "text/html": [
       "<table class=\"dataframe\">\n",
       "<caption>A data.frame: 8 × 5</caption>\n",
       "<thead>\n",
       "\t<tr><th scope=col>D</th><th scope=col>V</th><th scope=col>P</th><th scope=col>count</th><th scope=col>P2</th></tr>\n",
       "\t<tr><th scope=col>&lt;chr&gt;</th><th scope=col>&lt;chr&gt;</th><th scope=col>&lt;chr&gt;</th><th scope=col>&lt;int&gt;</th><th scope=col>&lt;dbl&gt;</th></tr>\n",
       "</thead>\n",
       "<tbody>\n",
       "\t<tr><td>white</td><td>white</td><td>yes</td><td> 53</td><td>1</td></tr>\n",
       "\t<tr><td>white</td><td>white</td><td>no </td><td>414</td><td>0</td></tr>\n",
       "\t<tr><td>black</td><td>white</td><td>yes</td><td> 11</td><td>1</td></tr>\n",
       "\t<tr><td>black</td><td>white</td><td>no </td><td> 37</td><td>0</td></tr>\n",
       "\t<tr><td>white</td><td>black</td><td>yes</td><td>  0</td><td>1</td></tr>\n",
       "\t<tr><td>white</td><td>black</td><td>no </td><td> 16</td><td>0</td></tr>\n",
       "\t<tr><td>black</td><td>black</td><td>yes</td><td>  4</td><td>1</td></tr>\n",
       "\t<tr><td>black</td><td>black</td><td>no </td><td>139</td><td>0</td></tr>\n",
       "</tbody>\n",
       "</table>\n"
      ],
      "text/latex": [
       "A data.frame: 8 × 5\n",
       "\\begin{tabular}{lllll}\n",
       " D & V & P & count & P2\\\\\n",
       " <chr> & <chr> & <chr> & <int> & <dbl>\\\\\n",
       "\\hline\n",
       "\t white & white & yes &  53 & 1\\\\\n",
       "\t white & white & no  & 414 & 0\\\\\n",
       "\t black & white & yes &  11 & 1\\\\\n",
       "\t black & white & no  &  37 & 0\\\\\n",
       "\t white & black & yes &   0 & 1\\\\\n",
       "\t white & black & no  &  16 & 0\\\\\n",
       "\t black & black & yes &   4 & 1\\\\\n",
       "\t black & black & no  & 139 & 0\\\\\n",
       "\\end{tabular}\n"
      ],
      "text/markdown": [
       "\n",
       "A data.frame: 8 × 5\n",
       "\n",
       "| D &lt;chr&gt; | V &lt;chr&gt; | P &lt;chr&gt; | count &lt;int&gt; | P2 &lt;dbl&gt; |\n",
       "|---|---|---|---|---|\n",
       "| white | white | yes |  53 | 1 |\n",
       "| white | white | no  | 414 | 0 |\n",
       "| black | white | yes |  11 | 1 |\n",
       "| black | white | no  |  37 | 0 |\n",
       "| white | black | yes |   0 | 1 |\n",
       "| white | black | no  |  16 | 0 |\n",
       "| black | black | yes |   4 | 1 |\n",
       "| black | black | no  | 139 | 0 |\n",
       "\n"
      ],
      "text/plain": [
       "  D     V     P   count P2\n",
       "1 white white yes  53   1 \n",
       "2 white white no  414   0 \n",
       "3 black white yes  11   1 \n",
       "4 black white no   37   0 \n",
       "5 white black yes   0   1 \n",
       "6 white black no   16   0 \n",
       "7 black black yes   4   1 \n",
       "8 black black no  139   0 "
      ]
     },
     "metadata": {},
     "output_type": "display_data"
    },
    {
     "data": {
      "text/plain": [
       "\n",
       "Call:\n",
       "glm(formula = P2 ~ D + V + D:V, family = binomial, data = DVP, \n",
       "    weights = count)\n",
       "\n",
       "Coefficients:\n",
       "              Estimate Std. Error z value Pr(>|z|)    \n",
       "(Intercept)    -3.5482     0.5071  -6.996 2.63e-12 ***\n",
       "Dwhite        -12.9957   593.2565  -0.022 0.982523    \n",
       "Vwhite          2.3352     0.6125   3.813 0.000137 ***\n",
       "Dwhite:Vwhite  12.1531   593.2567   0.020 0.983656    \n",
       "---\n",
       "Signif. codes:  0 '***' 0.001 '**' 0.01 '*' 0.05 '.' 0.1 ' ' 1\n",
       "\n",
       "(Dispersion parameter for binomial family taken to be 1)\n",
       "\n",
       "    Null deviance: 440.84  on 6  degrees of freedom\n",
       "Residual deviance: 418.58  on 3  degrees of freedom\n",
       "AIC: 426.58\n",
       "\n",
       "Number of Fisher Scoring iterations: 13\n"
      ]
     },
     "metadata": {},
     "output_type": "display_data"
    }
   ],
   "source": [
    "# 반응변수 P를 0과 1로 변환한 P2 생성\n",
    "DVP$P2 <- ifelse(DVP$P == \"yes\", 1, 0)\n",
    "DVP\n",
    "\n",
    "# P를 반응변수로 취하여 대응되는 로지스틱 모형\n",
    "fit2 = glm(P2 ~ D + V + D:V, family=binomial, weights=count, data= DVP)\n",
    "summary(fit2)"
   ]
  },
  {
   "cell_type": "markdown",
   "metadata": {},
   "source": [
    "로지스틱 회귀모형에서 D의 효과에 대한 추정값은 Dwhite: -12.9957 이다.\n",
    "이것은 기본 수준 D=black에 비해 D=white 일 때, 즉 피고인이 백인일 때 사형이 선고될 오즈가 매우 크게 줄어든다는 의미이다.\n",
    "\n",
    "V의 효과에 대한 추정값은 Vwhite: 2.3352 이다.\n",
    "이것은 기본 수준 V=black에 비해 V=white 일 때, 즉 피해자가 백인일 때 사형이 선고될 오즈가 약 10배 증가한다는 의미이다.\n",
    "\n",
    "D와 V의 상호작용 효과를 고려한 추가해석도 가능하다.\n",
    "Dwhite와 Vwhite, 그리고 Dwhite:Vwhite를 동시에 적용하면 오즈비는 다음과 같다.\n",
    "\n",
    "$LogOdds = -12.9957 + 2.3352 + 12.1531 = 1.4926$\n",
    "\n",
    "이것은 D의 단독효과, V의 단독효과, DV의 상호작용 효과를 모두 고려하면 사형이 선고될 오즈는 4.45배 증가한다는 것을 의미한다.\n",
    "\n",
    "로지스틱 회귀모형에서의 Dwhite, Vwhite 추정값은 성공확률(이 문제에서는 사형선고가 이뤄질 확률)에 대한 영향이 어떠한지를 나타내는 반면, 로그 선형모형에서의 Dwhite, Vwhite 추정값은 사형선고에 대한 오즈가 아니라 단순히 빈도에 대한 영향을 나타낸다. 따라서, 사형선고 조건을 감안하려면 Dwhite, Vwhite가 아니라 Dwhite:Pyes, Vwhite:Pyes를 비교하는 것이 보다 적합하다.\n",
    "\n",
    "로지스틱 회귀모형\n",
    "Dwhite = -12.9957\n",
    "Vwhite = 2.3352\n",
    "\n",
    "로그 선형모형\n",
    "Dwhite:Pyes = -0.86780\n",
    "Vwhite:Pyes = 2.40444\n",
    "\n",
    "크기에는 차이가 있지만 두 모형 모두 피고인이 백인일 때 사형선고 경향이 낮아지고, 피해자가 백인일 때 사형선고 경향이 높아진다는 결과를 보인다."
   ]
  },
  {
   "cell_type": "markdown",
   "metadata": {},
   "source": [
    "로그 선형모형은 모든 변수와 상호작용을 포함하여 빈도 데이터를 설명한다. 반응변수 없이 모든 변수의 상대적 효과를 보여주기 때문에 빈도를 예측할 때 적합하다.\n",
    "\n",
    "로지스틱 회귀모형은 어떤 사건에 대한 성공을 정의하고, 주어진 조건 하에서 반응변수에 따라 성공확률이 어떻게 변화할지를 파악하는데 적절하다.\n",
    "\n",
    "따라서, 연구의 목적이 빈도수를 예측하는 것이라면 로그 선형모형이, 성공확률을 예측하는 것이라면 로지스틱 회귀모형이 적합하다고 할 수 있다."
   ]
  },
  {
   "cell_type": "markdown",
   "metadata": {},
   "source": [
    "### 286쪽 문제 7.3\n",
    "\n",
    "<표 7.14>는 플로리다주의 고속도로교통안전국에서 제공된 1988년도의 교통사고 자료이다. 변수들은 안전벨트 착용여부, 사고 당시 차에서 튕겨나갔는지 여부와 사망 여부로 분류되어 있다.\n",
    "\n",
    "<표 7.14>\n",
    "|안전벨트 착용 여부|차에서 튕계나감|사망_예|사망_아니오|\n",
    "|:-:|:-:|:-:|:-:|\n",
    "|예|예|1105|14|\n",
    "|예|아니오|411111|483|\n",
    "|아니오|예|4624|497|\n",
    "|아니오|아니오|157342|1008|"
   ]
  },
  {
   "cell_type": "markdown",
   "metadata": {},
   "source": [
    "#### a. 이 자료에 적합한 로그 선형모형을 찾고 변수들 간의 연관성을 해석하라."
   ]
  },
  {
   "cell_type": "code",
   "execution_count": 20,
   "metadata": {
    "vscode": {
     "languageId": "r"
    }
   },
   "outputs": [
    {
     "data": {
      "text/html": [
       "<table class=\"dataframe\">\n",
       "<caption>A data.frame: 8 × 4</caption>\n",
       "<thead>\n",
       "\t<tr><th scope=col>B</th><th scope=col>E</th><th scope=col>D</th><th scope=col>count</th></tr>\n",
       "\t<tr><th scope=col>&lt;fct&gt;</th><th scope=col>&lt;fct&gt;</th><th scope=col>&lt;fct&gt;</th><th scope=col>&lt;dbl&gt;</th></tr>\n",
       "</thead>\n",
       "<tbody>\n",
       "\t<tr><td>yes</td><td>yes</td><td>yes</td><td>  1105</td></tr>\n",
       "\t<tr><td>yes</td><td>yes</td><td>no </td><td>    14</td></tr>\n",
       "\t<tr><td>yes</td><td>no </td><td>yes</td><td>411111</td></tr>\n",
       "\t<tr><td>yes</td><td>no </td><td>no </td><td>   483</td></tr>\n",
       "\t<tr><td>no </td><td>yes</td><td>yes</td><td>  4624</td></tr>\n",
       "\t<tr><td>no </td><td>yes</td><td>no </td><td>   497</td></tr>\n",
       "\t<tr><td>no </td><td>no </td><td>yes</td><td>157342</td></tr>\n",
       "\t<tr><td>no </td><td>no </td><td>no </td><td>  1008</td></tr>\n",
       "</tbody>\n",
       "</table>\n"
      ],
      "text/latex": [
       "A data.frame: 8 × 4\n",
       "\\begin{tabular}{llll}\n",
       " B & E & D & count\\\\\n",
       " <fct> & <fct> & <fct> & <dbl>\\\\\n",
       "\\hline\n",
       "\t yes & yes & yes &   1105\\\\\n",
       "\t yes & yes & no  &     14\\\\\n",
       "\t yes & no  & yes & 411111\\\\\n",
       "\t yes & no  & no  &    483\\\\\n",
       "\t no  & yes & yes &   4624\\\\\n",
       "\t no  & yes & no  &    497\\\\\n",
       "\t no  & no  & yes & 157342\\\\\n",
       "\t no  & no  & no  &   1008\\\\\n",
       "\\end{tabular}\n"
      ],
      "text/markdown": [
       "\n",
       "A data.frame: 8 × 4\n",
       "\n",
       "| B &lt;fct&gt; | E &lt;fct&gt; | D &lt;fct&gt; | count &lt;dbl&gt; |\n",
       "|---|---|---|---|\n",
       "| yes | yes | yes |   1105 |\n",
       "| yes | yes | no  |     14 |\n",
       "| yes | no  | yes | 411111 |\n",
       "| yes | no  | no  |    483 |\n",
       "| no  | yes | yes |   4624 |\n",
       "| no  | yes | no  |    497 |\n",
       "| no  | no  | yes | 157342 |\n",
       "| no  | no  | no  |   1008 |\n",
       "\n"
      ],
      "text/plain": [
       "  B   E   D   count \n",
       "1 yes yes yes   1105\n",
       "2 yes yes no      14\n",
       "3 yes no  yes 411111\n",
       "4 yes no  no     483\n",
       "5 no  yes yes   4624\n",
       "6 no  yes no     497\n",
       "7 no  no  yes 157342\n",
       "8 no  no  no    1008"
      ]
     },
     "metadata": {},
     "output_type": "display_data"
    }
   ],
   "source": [
    "# 데이터 입력 (각 조건에 해당하는 사고 수를 정확히 반영)\n",
    "data <- data.frame(\n",
    "  B = factor(c(\"yes\", \"yes\", \"yes\", \"yes\", \"no\", \"no\", \"no\", \"no\")),  # 안전벨트 착용 여부\n",
    "  E = factor(c(\"yes\", \"yes\", \"no\", \"no\", \"yes\", \"yes\", \"no\", \"no\")),  # 차에서 튕겨나감 여부\n",
    "  D = factor(c(\"yes\", \"no\", \"yes\", \"no\", \"yes\", \"no\", \"yes\", \"no\")),  # 사망 여부\n",
    "  count = c(1105, 14, 411111, 483, 4624, 497, 157342, 1008)  # 각 조건에 해당하는 사고 수\n",
    ")\n",
    "\n",
    "# 데이터 출력\n",
    "data\n"
   ]
  },
  {
   "cell_type": "code",
   "execution_count": 21,
   "metadata": {
    "vscode": {
     "languageId": "r"
    }
   },
   "outputs": [
    {
     "name": "stdout",
     "output_type": "stream",
     "text": [
      "Model_full - Residual deviance: 2.823075e-11 Degrees of freedom: 0 \n",
      "Model1 - Residual deviance: 2.854022 Degrees of freedom: 1 P-value: 0.09114565 \n",
      "Model2_1 - Residual deviance: 1680.412 Degrees of freedom: 2 P-value: 0 \n",
      "Model2_2 - Residual deviance: 1144.636 Degrees of freedom: 2 P-value: 0 \n",
      "Model2_3 - Residual deviance: 7133.978 Degrees of freedom: 2 P-value: 0 \n",
      "Model3_1 - Residual deviance: 9557.064 Degrees of freedom: 3 P-value: 0 \n",
      "Model3_2 - Residual deviance: 3567.723 Degrees of freedom: 3 P-value: 0 \n",
      "Model3_3 - Residual deviance: 9021.289 Degrees of freedom: 3 P-value: 0 \n",
      "Model4 - Residual deviance: 11444.38 Degrees of freedom: 4 P-value: 0 \n",
      "Model_null - Residual deviance: 1624865 Degrees of freedom: 7 P-value: 0 \n"
     ]
    }
   ],
   "source": [
    "# 모델 full - 포화모형\n",
    "model_full = glm(count ~ B + E + D + B:E + B:D + E:D + B:E:D, family=poisson, data=data)\n",
    "cat(\"Model_full - Residual deviance:\", summary(model_full)$deviance, \"Degrees of freedom:\", summary(model_full)$df[2], \"\\n\")\n",
    "\n",
    "# 모델 1 - 포화모형에서 B:E:D 를 제외한 모형\n",
    "model1 = glm(count ~ B + E + D + B:E + B:D + E:D, family=poisson, data=data)\n",
    "cat(\"Model1 - Residual deviance:\", summary(model1)$deviance, \n",
    "    \"Degrees of freedom:\", summary(model1)$df[2], \n",
    "    \"P-value:\", 1-pchisq(summary(model1)$deviance, summary(model1)$df[2]), \"\\n\")\n",
    "\n",
    "# 모델 2-1 - B, E, D, B:E, B:D 포함한 모형\n",
    "model2_1 = glm(count ~ B + E + D + B:E + B:D, family=poisson, data=data)\n",
    "cat(\"Model2_1 - Residual deviance:\", summary(model2_1)$deviance, \n",
    "    \"Degrees of freedom:\", summary(model2_1)$df[2], \n",
    "    \"P-value:\", 1-pchisq(summary(model2_1)$deviance, summary(model2_1)$df[2]), \"\\n\")\n",
    "\n",
    "# 모델 2-2 - B, E, D, B:E, E:D 포함한 모형\n",
    "model2_2 = glm(count ~ B + E + D + B:E + E:D, family=poisson, data=data)\n",
    "cat(\"Model2_2 - Residual deviance:\", summary(model2_2)$deviance, \n",
    "    \"Degrees of freedom:\", summary(model2_2)$df[2], \n",
    "    \"P-value:\", 1-pchisq(summary(model2_2)$deviance, summary(model2_2)$df[2]), \"\\n\")\n",
    "\n",
    "# 모델 2-3 - B, E, D, B:D, E:D 포함한 모형\n",
    "model2_3 = glm(count ~ B + E + D + B:D + E:D, family=poisson, data=data)\n",
    "cat(\"Model2_3 - Residual deviance:\", summary(model2_3)$deviance, \n",
    "    \"Degrees of freedom:\", summary(model2_3)$df[2], \n",
    "    \"P-value:\", 1-pchisq(summary(model2_3)$deviance, summary(model2_3)$df[2]), \"\\n\")\n",
    "\n",
    "# 모델 3-1 - B, E, D, B:D 포함한 모형\n",
    "model3_1 = glm(count ~ B + E + D + B:D, family=poisson, data=data)\n",
    "cat(\"Model3_1 - Residual deviance:\", summary(model3_1)$deviance, \n",
    "    \"Degrees of freedom:\", summary(model3_1)$df[2], \n",
    "    \"P-value:\", 1-pchisq(summary(model3_1)$deviance, summary(model3_1)$df[2]), \"\\n\")\n",
    "\n",
    "# 모델 3-2 -  - B, E, D, B:E 포함한 모형\n",
    "model3_2 = glm(count ~ B + E + D + B:E, family=poisson, data=data)\n",
    "cat(\"Model3_2 - Residual deviance:\", summary(model3_2)$deviance, \n",
    "    \"Degrees of freedom:\", summary(model3_2)$df[2], \n",
    "    \"P-value:\", 1-pchisq(summary(model3_2)$deviance, summary(model3_2)$df[2]), \"\\n\")\n",
    "\n",
    "# 모델 3-3 - B, E, D, E:D 포함한 모형\n",
    "model3_3 = glm(count ~ B + E + D + E:D, family=poisson, data=data)\n",
    "cat(\"Model3_3 - Residual deviance:\", summary(model3_3)$deviance, \n",
    "    \"Degrees of freedom:\", summary(model3_3)$df[2], \n",
    "    \"P-value:\", 1-pchisq(summary(model3_3)$deviance, summary(model3_3)$df[2]), \"\\n\")\n",
    "\n",
    "# 모델 4 - B, E, D 포함한 모형\n",
    "model4 = glm(count ~ B + E + D, family=poisson, data=data)\n",
    "cat(\"Model4 - Residual deviance:\", summary(model4)$deviance, \n",
    "    \"Degrees of freedom:\", summary(model4)$df[2], \n",
    "    \"P-value:\", 1-pchisq(summary(model4)$deviance, summary(model4)$df[2]), \"\\n\")\n",
    "\n",
    "# 모델 NULL\n",
    "model_null = glm(count ~ 1, family=poisson, data=data)\n",
    "cat(\"Model_null - Residual deviance:\", summary(model_null)$deviance, \n",
    "    \"Degrees of freedom:\", summary(model_null)$df[2], \n",
    "    \"P-value:\", 1-pchisq(summary(model_null)$deviance, summary(model_null)$df[2]), \"\\n\")\n"
   ]
  },
  {
   "cell_type": "markdown",
   "metadata": {},
   "source": [
    "적합한 로그 선형모형은 B + E + D + BE + ED + BD 모형인 Model1이다.\n",
    "잔차편차(Residual deviance)가 2.854로 작고, P-value가 0.091로 귀무가설(포화모형)을 기각하지 못하는 모형이기 때문에 적합한 모형이라고 할 수 있다."
   ]
  },
  {
   "cell_type": "code",
   "execution_count": 22,
   "metadata": {
    "vscode": {
     "languageId": "r"
    }
   },
   "outputs": [
    {
     "data": {
      "text/plain": [
       "\n",
       "Call:\n",
       "glm(formula = count ~ B + E + D + B:E + B:D + E:D, family = poisson, \n",
       "    data = data)\n",
       "\n",
       "Coefficients:\n",
       "            Estimate Std. Error z value Pr(>|z|)    \n",
       "(Intercept)  6.92251    0.03110  222.56   <2e-16 ***\n",
       "Byes        -0.75682    0.05394  -14.03   <2e-16 ***\n",
       "Eyes        -0.72784    0.05345  -13.62   <2e-16 ***\n",
       "Dyes         5.04362    0.03120  161.65   <2e-16 ***\n",
       "Byes:Eyes   -2.39964    0.03334  -71.97   <2e-16 ***\n",
       "Byes:Dyes    1.71732    0.05402   31.79   <2e-16 ***\n",
       "Eyes:Dyes   -2.79779    0.05526  -50.63   <2e-16 ***\n",
       "---\n",
       "Signif. codes:  0 '***' 0.001 '**' 0.01 '*' 0.05 '.' 0.1 ' ' 1\n",
       "\n",
       "(Dispersion parameter for poisson family taken to be 1)\n",
       "\n",
       "    Null deviance: 1.6249e+06  on 7  degrees of freedom\n",
       "Residual deviance: 2.8540e+00  on 1  degrees of freedom\n",
       "AIC: 93.853\n",
       "\n",
       "Number of Fisher Scoring iterations: 3\n"
      ]
     },
     "metadata": {},
     "output_type": "display_data"
    }
   ],
   "source": [
    "model1 = glm(count ~ B + E + D + B:E + B:D + E:D, family=poisson, data=data)\n",
    "summary(model1)"
   ]
  },
  {
   "cell_type": "markdown",
   "metadata": {},
   "source": [
    "변수들 간의 연관성을 해석하면 다음과 같다.\n",
    "\n",
    "Byes:Eyes = -2.39964 인 것은 안전벨트를 매고, 차에서 튕겨나갔다면 그렇지 않은 경우 즉, 안전벨트를 매지 않고, 차에서 튕겨나가지 않은 경우보다 빈도수가 낮은 경향이 있다는 것을 의미한다.\n",
    "→ Byes:Eyes 인 경우는 Bno:Eno 인 경우에 비해 사고가 발생할 오즈가 약 9.1% 이다.\n",
    "\n",
    "Byes:Dyes = 1.71732 인 것은 안전벨트를 매고 사망했다면, 그렇지 않은 경우 즉, 안전벨트를 매지 않고, 사망하지 않은 경우보다 빈도수가 많은 경향이 있다는 것을 의미한다.\n",
    "→ Byes:Dyes 인 경우는 Bno:Dno 인 경우에 비해 사고가 발생할 오즈가 약 5.57배이다.\n",
    "\n",
    "Eyes:Dyes = -2.79779 인 것은 차에서 튕겨나가고 사망했다면, 그렇지 않은 경우 즉, 차에서 튕겨나가지 않고 사망하지 않은 경우보다 빈도수가 적은 경향이 있다는 것을 의미한다.\n",
    "→ Eyes:Dyes 인 경우는 Eno:Dno 인 경우에 비해 사고가 발생할 오즈가 약 6.1% 이다."
   ]
  },
  {
   "cell_type": "markdown",
   "metadata": {},
   "source": [
    "#### b. 표본이 충분히 크기 때문에 모형이 잘 적합되지 않더라도 적합성 검정통계량의 값이 크게 나온다. 위의 (a)에서 적합된 모형에서 비유사성 지수를 계산하고 결과를 해석하라."
   ]
  },
  {
   "cell_type": "code",
   "execution_count": 23,
   "metadata": {
    "vscode": {
     "languageId": "r"
    }
   },
   "outputs": [
    {
     "name": "stdout",
     "output_type": "stream",
     "text": [
      "DI index: 4.790136e-05 \n"
     ]
    },
    {
     "data": {
      "text/html": [
       "<table class=\"dataframe\">\n",
       "<caption>A data.frame: 8 × 5</caption>\n",
       "<thead>\n",
       "\t<tr><th scope=col>B</th><th scope=col>E</th><th scope=col>D</th><th scope=col>count</th><th scope=col>model1_mu_hat</th></tr>\n",
       "\t<tr><th scope=col>&lt;fct&gt;</th><th scope=col>&lt;fct&gt;</th><th scope=col>&lt;fct&gt;</th><th scope=col>&lt;dbl&gt;</th><th scope=col>&lt;dbl&gt;</th></tr>\n",
       "</thead>\n",
       "<tbody>\n",
       "\t<tr><td>yes</td><td>yes</td><td>yes</td><td>  1105</td><td>  1098.1</td></tr>\n",
       "\t<tr><td>yes</td><td>yes</td><td>no </td><td>    14</td><td>    20.9</td></tr>\n",
       "\t<tr><td>yes</td><td>no </td><td>yes</td><td>411111</td><td>411117.9</td></tr>\n",
       "\t<tr><td>yes</td><td>no </td><td>no </td><td>   483</td><td>   476.1</td></tr>\n",
       "\t<tr><td>no </td><td>yes</td><td>yes</td><td>  4624</td><td>  4630.9</td></tr>\n",
       "\t<tr><td>no </td><td>yes</td><td>no </td><td>   497</td><td>   490.1</td></tr>\n",
       "\t<tr><td>no </td><td>no </td><td>yes</td><td>157342</td><td>157335.1</td></tr>\n",
       "\t<tr><td>no </td><td>no </td><td>no </td><td>  1008</td><td>  1014.9</td></tr>\n",
       "</tbody>\n",
       "</table>\n"
      ],
      "text/latex": [
       "A data.frame: 8 × 5\n",
       "\\begin{tabular}{lllll}\n",
       " B & E & D & count & model1\\_mu\\_hat\\\\\n",
       " <fct> & <fct> & <fct> & <dbl> & <dbl>\\\\\n",
       "\\hline\n",
       "\t yes & yes & yes &   1105 &   1098.1\\\\\n",
       "\t yes & yes & no  &     14 &     20.9\\\\\n",
       "\t yes & no  & yes & 411111 & 411117.9\\\\\n",
       "\t yes & no  & no  &    483 &    476.1\\\\\n",
       "\t no  & yes & yes &   4624 &   4630.9\\\\\n",
       "\t no  & yes & no  &    497 &    490.1\\\\\n",
       "\t no  & no  & yes & 157342 & 157335.1\\\\\n",
       "\t no  & no  & no  &   1008 &   1014.9\\\\\n",
       "\\end{tabular}\n"
      ],
      "text/markdown": [
       "\n",
       "A data.frame: 8 × 5\n",
       "\n",
       "| B &lt;fct&gt; | E &lt;fct&gt; | D &lt;fct&gt; | count &lt;dbl&gt; | model1_mu_hat &lt;dbl&gt; |\n",
       "|---|---|---|---|---|\n",
       "| yes | yes | yes |   1105 |   1098.1 |\n",
       "| yes | yes | no  |     14 |     20.9 |\n",
       "| yes | no  | yes | 411111 | 411117.9 |\n",
       "| yes | no  | no  |    483 |    476.1 |\n",
       "| no  | yes | yes |   4624 |   4630.9 |\n",
       "| no  | yes | no  |    497 |    490.1 |\n",
       "| no  | no  | yes | 157342 | 157335.1 |\n",
       "| no  | no  | no  |   1008 |   1014.9 |\n",
       "\n"
      ],
      "text/plain": [
       "  B   E   D   count  model1_mu_hat\n",
       "1 yes yes yes   1105   1098.1     \n",
       "2 yes yes no      14     20.9     \n",
       "3 yes no  yes 411111 411117.9     \n",
       "4 yes no  no     483    476.1     \n",
       "5 no  yes yes   4624   4630.9     \n",
       "6 no  yes no     497    490.1     \n",
       "7 no  no  yes 157342 157335.1     \n",
       "8 no  no  no    1008   1014.9     "
      ]
     },
     "metadata": {},
     "output_type": "display_data"
    }
   ],
   "source": [
    "n_total <- sum(data$count)  # 전체 표본 수\n",
    "\n",
    "# 예측값 계산\n",
    "data$model1_mu_hat <- round(predict(model1, type = \"response\"),1)\n",
    "\n",
    "# 비유사성 지수 계산\n",
    "model1_di <- sum(abs(data$count - data$model1_mu_hat)) / (2 * n_total)\n",
    "cat(\"DI index:\", model1_di, \"\\n\")\n",
    "\n",
    "data"
   ]
  },
  {
   "cell_type": "markdown",
   "metadata": {},
   "source": [
    "비유사성 지수는 실제 빈도수와 적합한 모형이 예측한 빈도수가 얼마나 차이나는지를 보여주는 값이다. 각 셀의 차이를 모두 더하고 (2*전체 빈도수)로 나눠주기 때문에 표본의 크기와 관계없이 실제 값과 모형이 예측한 값이 얼마나 비슷한지 보여준다.\n",
    "\n",
    "적합한 모형의 비유사성 지수는 매우 작은 값이기 때문에 표본의 크기와 관계없이 적합하다고 판단할 수 있다."
   ]
  },
  {
   "cell_type": "markdown",
   "metadata": {},
   "source": [
    "#### c. 동질연관성모형에 대한 베이지안 분석을 시행하고 조건부 오즈비에 대한 사후신뢰구간을 구하고 결과를 해석하라. 이 해석이 빈도론적 추론 결과와 어떻게 다른지 설명하라."
   ]
  },
  {
   "cell_type": "code",
   "execution_count": 24,
   "metadata": {
    "vscode": {
     "languageId": "r"
    }
   },
   "outputs": [
    {
     "data": {
      "text/plain": [
       "\n",
       "Iterations = 1001:1001000\n",
       "Thinning interval = 1 \n",
       "Number of chains = 1 \n",
       "Sample size per chain = 1e+06 \n",
       "\n",
       "1. Empirical mean and standard deviation for each variable,\n",
       "   plus standard error of the mean:\n",
       "\n",
       "               Mean      SD  Naive SE Time-series SE\n",
       "(Intercept)  6.9221 0.03109 3.109e-05      0.0001518\n",
       "Byes        -0.7572 0.05388 5.388e-05      0.0002626\n",
       "Eyes        -0.7284 0.05366 5.366e-05      0.0002627\n",
       "Dyes         5.0441 0.03119 3.119e-05      0.0001523\n",
       "Byes:Eyes   -2.4000 0.03339 3.339e-05      0.0001630\n",
       "Byes:Dyes    1.7177 0.05396 5.396e-05      0.0002629\n",
       "Eyes:Dyes   -2.7973 0.05551 5.551e-05      0.0002717\n",
       "\n",
       "2. Quantiles for each variable:\n",
       "\n",
       "               2.5%     25%     50%     75%   97.5%\n",
       "(Intercept)  6.8605  6.9012  6.9223  6.9431  6.9824\n",
       "Byes        -0.8629 -0.7932 -0.7571 -0.7207 -0.6517\n",
       "Eyes        -0.8340 -0.7647 -0.7282 -0.6920 -0.6239\n",
       "Dyes         4.9836  5.0229  5.0439  5.0650  5.1056\n",
       "Byes:Eyes   -2.4660 -2.4225 -2.3998 -2.3775 -2.3350\n",
       "Byes:Dyes    1.6121  1.6812  1.7176  1.7538  1.8236\n",
       "Eyes:Dyes   -2.9048 -2.8350 -2.7975 -2.7600 -2.6883\n"
      ]
     },
     "metadata": {},
     "output_type": "display_data"
    }
   ],
   "source": [
    "library(MCMCpack)\n",
    "\n",
    "model_Bayes = MCMCpoisson(count ~ B + E + D + B:E + B:D + E:D, b0=0, B0=0.01, mcmc=1000000, data=data)\n",
    "summary(model_Bayes)"
   ]
  },
  {
   "cell_type": "markdown",
   "metadata": {},
   "source": [
    "베이지안 분석(MCMCpoisson 함수)를 이용해서 구한 조건부 오즈비의 평균과 사후 신뢰구간(95%)은 다음과 같다.\n",
    "\n",
    "Byes: 평균 -0.7572  신뢰구간 [-0.8629 ~ -0.6517]\n",
    "Eyes: 평균 -0.7284  신뢰구간 [-0.8340 ~ -0.6239]\n",
    "Dyes: 평균 5.0441  신뢰구간 [4.9836 ~ 5.1056]\n",
    "Byes:Eyes 평균 -2.4000  신뢰구간 [-2.4660 ~ -2.3350]\n",
    "Byes:Dyes 평균 1.7177  신뢰구간 [1.6121 ~ 1.8236]\n",
    "Eyes:Dyes 평균 -2.7973  신뢰구간 [-2.9048 ~ -2.6883]\n",
    "\n",
    "이것은 각 변수들의 조건부 오즈비의 사후분포를 추정한 결과이다.\n",
    "예를 들어 안전벨트를 한 경우 그렇지 않은 경우에 비해 사고수가 exp(-0.7572)=0.469배 적을 것으로 예상한다. 또한 해당 파라미터가 [-0.8629 ~ -0.6517] 범위에 있을 확률이 95% 라는 것을 알려준다.\n",
    "\n",
    "베이지안 분석에 따른 추정량은 로그 선형모형의 추정량과 매우 유사하다.\n",
    "\n",
    "Byes: -0.75682\n",
    "Eyes: -0.72784\n",
    "Dyes: 5.04362\n",
    "Byes:Eyes -2.39964\n",
    "Byes:Dyes 1.71732\n",
    "Eyes:Dyes -2.79779\n",
    "\n",
    "베이지안 분석에서는 불확실성을 반영하는 사후 분포를 기반으로 추정이 이루어지므로 변수의 추정에 대한 불확실성을 전제로 추정이 이루어지며, 신뢰구간도 판단할 수 있다.\n",
    "빈도론적 분석에서는 해당 값에 대한 점추정이 통계적으로 유의한지 아닌지를 판단할 뿐 확률적 구간을 제공하지는 않는다.\n"
   ]
  }
 ],
 "metadata": {
  "kernelspec": {
   "display_name": "R",
   "language": "R",
   "name": "ir"
  },
  "language_info": {
   "codemirror_mode": "r",
   "file_extension": ".r",
   "mimetype": "text/x-r-source",
   "name": "R",
   "pygments_lexer": "r",
   "version": "4.3.2"
  }
 },
 "nbformat": 4,
 "nbformat_minor": 2
}
