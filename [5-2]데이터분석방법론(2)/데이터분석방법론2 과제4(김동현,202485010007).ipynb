{
 "cells": [
  {
   "cell_type": "markdown",
   "metadata": {},
   "source": [
    "### 문제1: 114쪽 문제 3.5\n",
    "\n",
    "웹사이트 www.stat.ufl.edu/~aa/cat/data 로부터 <표 3.2>에 있는 참게 자료를 다운받을 수 있다. 만일 참게가 적어도 한 마리의 부수체를 가지면 y=1이라 하고 그렇지 않으면 y=0이라 하자."
   ]
  },
  {
   "cell_type": "markdown",
   "metadata": {},
   "source": [
    "a. 무게를 예측변수로 이용해서 선형확률모형을 P(Y=1)에 적합하라. 만약 소프트웨어가 이항분포에 대해서 항등연결함수를 사용할 수 없거나 수렴하지 않으면 Y를 정규분포를 따르는 것처럼 간주하여 보통의 최소제곱법을 이용하여 모수를 추정하고 추정값들을 해석하라. 가장 큰 무게값 5.20 kg에 대하여 P(Y=1)을 예측하고 결론을 내려라."
   ]
  },
  {
   "cell_type": "markdown",
   "metadata": {},
   "source": [
    "b. Y를 이항변수로 간주하고 로지스틱 모형을 적합하라. 무게값 5.20 kg에 대하여 P(Y=1) =0.9968 이 됨을 보여라."
   ]
  },
  {
   "cell_type": "markdown",
   "metadata": {},
   "source": [
    "### 문제2: 114쪽 문제 3.6\n",
    "\n",
    "2016년도 일반사회조사에서 18세에서 27세까지를 대상으로 정치성향(1=매우 보수적, 2=보수적, 3=약간 보수적, 4=중간, 5=약간 진보적, 6=진보적, 7=매우 진보적)과 정당(민주당, 공화당)에 대하여 교차분할표를 구한 것이다.\n",
    "\n",
    "||1|2|3|4|5|6|7|\n",
    "|:-:|:-:|:-:|:-:|:-:|:-:|:-:|:-:|\n",
    "|Democrat|5|18|19|25|7|7|2|\n",
    "|Republican|1|3|1|11|10|11|1|\n",
    "\n",
    "지지정당이 민주당일 확률에 미치는 정치성향의 효과를 보기 위해 R을 이용하여 보형을 적합한 결과가 다음과 같다."
   ]
  },
  {
   "cell_type": "code",
   "execution_count": 1,
   "metadata": {
    "vscode": {
     "languageId": "r"
    }
   },
   "outputs": [
    {
     "data": {
      "text/plain": [
       "\n",
       "Call:\n",
       "glm(formula = y/n ~ x, family = binomial(link = logit), weights = n)\n",
       "\n",
       "Coefficients:\n",
       "            Estimate Std. Error z value Pr(>|z|)    \n",
       "(Intercept)   3.1870     0.7002   4.552 5.33e-06 ***\n",
       "x            -0.5901     0.1564  -3.772 0.000162 ***\n",
       "---\n",
       "Signif. codes:  0 '***' 0.001 '**' 0.01 '*' 0.05 '.' 0.1 ' ' 1\n",
       "\n",
       "(Dispersion parameter for binomial family taken to be 1)\n",
       "\n",
       "    Null deviance: 24.7983  on 6  degrees of freedom\n",
       "Residual deviance:  7.7894  on 5  degrees of freedom\n",
       "AIC: 30.516\n",
       "\n",
       "Number of Fisher Scoring iterations: 4\n"
      ]
     },
     "metadata": {},
     "output_type": "display_data"
    }
   ],
   "source": [
    "y <- c(5,18,19,25,7,7,2); n <- c(6,21,20,36,17,18,3)\n",
    "x <- c(1,2,3,4,5,6,7)\n",
    "\n",
    "fit <- glm(y/n ~ x, family=binomial(link=logit), weights=n)\n",
    "summary(fit)"
   ]
  },
  {
   "cell_type": "code",
   "execution_count": 2,
   "metadata": {
    "vscode": {
     "languageId": "r"
    }
   },
   "outputs": [
    {
     "name": "stderr",
     "output_type": "stream",
     "text": [
      "Waiting for profiling to be done...\n",
      "\n"
     ]
    },
    {
     "data": {
      "text/html": [
       "<table class=\"dataframe\">\n",
       "<caption>A matrix: 2 × 2 of type dbl</caption>\n",
       "<thead>\n",
       "\t<tr><th></th><th scope=col>2.5 %</th><th scope=col>97.5 %</th></tr>\n",
       "</thead>\n",
       "<tbody>\n",
       "\t<tr><th scope=row>(Intercept)</th><td> 1.901798</td><td> 4.6648412</td></tr>\n",
       "\t<tr><th scope=row>x</th><td>-0.915875</td><td>-0.2983235</td></tr>\n",
       "</tbody>\n",
       "</table>\n"
      ],
      "text/latex": [
       "A matrix: 2 × 2 of type dbl\n",
       "\\begin{tabular}{r|ll}\n",
       "  & 2.5 \\% & 97.5 \\%\\\\\n",
       "\\hline\n",
       "\t(Intercept) &  1.901798 &  4.6648412\\\\\n",
       "\tx & -0.915875 & -0.2983235\\\\\n",
       "\\end{tabular}\n"
      ],
      "text/markdown": [
       "\n",
       "A matrix: 2 × 2 of type dbl\n",
       "\n",
       "| <!--/--> | 2.5 % | 97.5 % |\n",
       "|---|---|---|\n",
       "| (Intercept) |  1.901798 |  4.6648412 |\n",
       "| x | -0.915875 | -0.2983235 |\n",
       "\n"
      ],
      "text/plain": [
       "            2.5 %     97.5 %    \n",
       "(Intercept)  1.901798  4.6648412\n",
       "x           -0.915875 -0.2983235"
      ]
     },
     "metadata": {},
     "output_type": "display_data"
    }
   ],
   "source": [
    "confint(fit)"
   ]
  },
  {
   "cell_type": "markdown",
   "metadata": {},
   "source": [
    "a. 예측식을 제시하고 정치성향 효과의 방향에 대해서 해석하라."
   ]
  },
  {
   "cell_type": "markdown",
   "metadata": {},
   "source": [
    "b. 정치성향 효과에 대한 95% 왈드 신뢰구간을 구하고 위에 주어진 프로파일 가능도 신뢰구간과 비교하라."
   ]
  },
  {
   "cell_type": "markdown",
   "metadata": {},
   "source": [
    "c. 정치성향 효과에 대한 왈드 검정을 수행하라. 검정통계량값과 P-값을 제시하고 결과를 해석하라."
   ]
  },
  {
   "cell_type": "markdown",
   "metadata": {},
   "source": [
    "d. 가능도비 검정을 수행하고 검정통계량값과 P-값을 제시하고 결과를 해석하라."
   ]
  },
  {
   "cell_type": "markdown",
   "metadata": {},
   "source": [
    "e. R 출력 결과에 있는 Fisher 스코어 알고리즘의 반복수에 대해서 설명하라."
   ]
  },
  {
   "cell_type": "markdown",
   "metadata": {},
   "source": [
    "### 문제3: 117쪽 문제 3.11\n",
    "\n",
    "컴퓨터 칩의 실리콘 기판을 제조하는 데 사용되는 두 공정 과정의 결합율을 분석하기 위해 실험을 하였다. 10개의 기판에 대해 처리 A를 적용하였을 때에 기판에서 관측된 결함 수는 각각 8, 7, 6, 6, 3, 4, 7, 2, 3, 4 이었다. 10개의 기판에 대하여 처리 B를 적용하였을 때에는 결함 수가 9, 9, 8, 14, 8, 13, 11, 5, 7, 6 이었다. 결함 수를 각각 평균 <img src=\"https://latex.codecogs.com/svg.image?\\mu_A\">와 <img src=\"https://latex.codecogs.com/svg.image?\\mu_B\">를 갖는 서로 독립인 포아송 변량이라고 간주하자. 모형 <img src=\"https://latex.codecogs.com/svg.image?log\\mu=\\alpha+\\beta x\">을 고려하자. 여기서 처리 A는 x=0, 처리 B는 x=1로 나타낸다. 그러면 <img src=\"https://latex.codecogs.com/svg.image?\\beta=log\\mu_B-log\\mu_A=log(\\mu_B/\\mu_A)\">이고, <img src=\"https://latex.codecogs.com/svg.image?e^\\beta=\\mu_B/\\mu_A\">가 된다. 이 모형을 적합하고 예측식을 제시하고 <img src=\"https://latex.codecogs.com/svg.image?\\hat\\beta\">값을 해석하라."
   ]
  },
  {
   "cell_type": "markdown",
   "metadata": {},
   "source": [
    "### 문제4: 117쪽 문제 3.12\n",
    "\n",
    "연습문제 3.11을 참조하라.\n",
    "\n",
    "a. <img src=\"https://latex.codecogs.com/svg.image?H_0:\\mu_A=\\mu_B\">에 대한 검정을 <img src=\"https://latex.codecogs.com/svg.image?H_0:\\beta=0\">의 왈드 검정이나 가능도비 검정을 통하여 실시하라."
   ]
  },
  {
   "cell_type": "markdown",
   "metadata": {},
   "source": [
    "b. <img src=\"https://latex.codecogs.com/svg.image?\\mu_B/\\mu_A\">에 대한 95% 신뢰구간을 구하라.(힌트: 우선 <img src=\"https://latex.codecogs.com/svg.image?\\beta=log\\mu_B-log\\mu_A=\\log(\\mu_B/\\mu_A)\">에 대한 신뢰구간을 구하라.)"
   ]
  },
  {
   "cell_type": "markdown",
   "metadata": {},
   "source": []
  }
 ],
 "metadata": {
  "kernelspec": {
   "display_name": "R",
   "language": "R",
   "name": "ir"
  },
  "language_info": {
   "codemirror_mode": "r",
   "file_extension": ".r",
   "mimetype": "text/x-r-source",
   "name": "R",
   "pygments_lexer": "r",
   "version": "4.3.2"
  }
 },
 "nbformat": 4,
 "nbformat_minor": 2
}
