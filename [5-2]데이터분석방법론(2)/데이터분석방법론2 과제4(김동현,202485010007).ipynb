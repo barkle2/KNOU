{
 "cells": [
  {
   "cell_type": "markdown",
   "metadata": {},
   "source": [
    "### 문제1: 114쪽 문제 3.5\n",
    "\n",
    "웹사이트 www.stat.ufl.edu/~aa/cat/data 로부터 <표 3.2>에 있는 참게 자료를 다운받을 수 있다. 만일 참게가 적어도 한 마리의 부수체를 가지면 y=1이라 하고 그렇지 않으면 y=0이라 하자."
   ]
  },
  {
   "cell_type": "code",
   "execution_count": 59,
   "metadata": {
    "vscode": {
     "languageId": "r"
    }
   },
   "outputs": [
    {
     "data": {
      "text/html": [
       "<table class=\"dataframe\">\n",
       "<caption>A data.frame: 6 × 7</caption>\n",
       "<thead>\n",
       "\t<tr><th></th><th scope=col>crab</th><th scope=col>sat</th><th scope=col>y</th><th scope=col>weight</th><th scope=col>width</th><th scope=col>color</th><th scope=col>spine</th></tr>\n",
       "\t<tr><th></th><th scope=col>&lt;int&gt;</th><th scope=col>&lt;int&gt;</th><th scope=col>&lt;int&gt;</th><th scope=col>&lt;dbl&gt;</th><th scope=col>&lt;dbl&gt;</th><th scope=col>&lt;int&gt;</th><th scope=col>&lt;int&gt;</th></tr>\n",
       "</thead>\n",
       "<tbody>\n",
       "\t<tr><th scope=row>1</th><td>1</td><td>8</td><td>1</td><td>3.05</td><td>28.3</td><td>2</td><td>3</td></tr>\n",
       "\t<tr><th scope=row>2</th><td>2</td><td>0</td><td>0</td><td>1.55</td><td>22.5</td><td>3</td><td>3</td></tr>\n",
       "\t<tr><th scope=row>3</th><td>3</td><td>9</td><td>1</td><td>2.30</td><td>26.0</td><td>1</td><td>1</td></tr>\n",
       "\t<tr><th scope=row>4</th><td>4</td><td>0</td><td>0</td><td>2.10</td><td>24.8</td><td>3</td><td>3</td></tr>\n",
       "\t<tr><th scope=row>5</th><td>5</td><td>4</td><td>1</td><td>2.60</td><td>26.0</td><td>3</td><td>3</td></tr>\n",
       "\t<tr><th scope=row>6</th><td>6</td><td>0</td><td>0</td><td>2.10</td><td>23.8</td><td>2</td><td>3</td></tr>\n",
       "</tbody>\n",
       "</table>\n"
      ],
      "text/latex": [
       "A data.frame: 6 × 7\n",
       "\\begin{tabular}{r|lllllll}\n",
       "  & crab & sat & y & weight & width & color & spine\\\\\n",
       "  & <int> & <int> & <int> & <dbl> & <dbl> & <int> & <int>\\\\\n",
       "\\hline\n",
       "\t1 & 1 & 8 & 1 & 3.05 & 28.3 & 2 & 3\\\\\n",
       "\t2 & 2 & 0 & 0 & 1.55 & 22.5 & 3 & 3\\\\\n",
       "\t3 & 3 & 9 & 1 & 2.30 & 26.0 & 1 & 1\\\\\n",
       "\t4 & 4 & 0 & 0 & 2.10 & 24.8 & 3 & 3\\\\\n",
       "\t5 & 5 & 4 & 1 & 2.60 & 26.0 & 3 & 3\\\\\n",
       "\t6 & 6 & 0 & 0 & 2.10 & 23.8 & 2 & 3\\\\\n",
       "\\end{tabular}\n"
      ],
      "text/markdown": [
       "\n",
       "A data.frame: 6 × 7\n",
       "\n",
       "| <!--/--> | crab &lt;int&gt; | sat &lt;int&gt; | y &lt;int&gt; | weight &lt;dbl&gt; | width &lt;dbl&gt; | color &lt;int&gt; | spine &lt;int&gt; |\n",
       "|---|---|---|---|---|---|---|---|\n",
       "| 1 | 1 | 8 | 1 | 3.05 | 28.3 | 2 | 3 |\n",
       "| 2 | 2 | 0 | 0 | 1.55 | 22.5 | 3 | 3 |\n",
       "| 3 | 3 | 9 | 1 | 2.30 | 26.0 | 1 | 1 |\n",
       "| 4 | 4 | 0 | 0 | 2.10 | 24.8 | 3 | 3 |\n",
       "| 5 | 5 | 4 | 1 | 2.60 | 26.0 | 3 | 3 |\n",
       "| 6 | 6 | 0 | 0 | 2.10 | 23.8 | 2 | 3 |\n",
       "\n"
      ],
      "text/plain": [
       "  crab sat y weight width color spine\n",
       "1 1    8   1 3.05   28.3  2     3    \n",
       "2 2    0   0 1.55   22.5  3     3    \n",
       "3 3    9   1 2.30   26.0  1     1    \n",
       "4 4    0   0 2.10   24.8  3     3    \n",
       "5 5    4   1 2.60   26.0  3     3    \n",
       "6 6    0   0 2.10   23.8  2     3    "
      ]
     },
     "metadata": {},
     "output_type": "display_data"
    }
   ],
   "source": [
    "# crab은 연번\n",
    "# sat는 부수체의 수\n",
    "# weight는 무게\n",
    "# width는 등딱지너비\n",
    "# color는 색깔(1=약간밝은색, 2=중간색, 3=약간어두운색, 4=어두운색)\n",
    "# spine은 등뼈의 상태(1=둘다양호함, 2=1개가 휘거나 좋지않음, 3=둘다 휘거나 좋지않음)\n",
    "# y값도 이미 입력되어 있다.\n",
    "\n",
    "crab_data = read.table(\"Crabs.dat.txt\", header=TRUE)\n",
    "head(crab_data)"
   ]
  },
  {
   "cell_type": "code",
   "execution_count": 60,
   "metadata": {
    "vscode": {
     "languageId": "r"
    }
   },
   "outputs": [
    {
     "data": {
      "text/plain": [
       "      crab          sat               y              weight          width     \n",
       " Min.   :  1   Min.   : 0.000   Min.   :0.0000   Min.   :1.200   Min.   :21.0  \n",
       " 1st Qu.: 44   1st Qu.: 0.000   1st Qu.:0.0000   1st Qu.:2.000   1st Qu.:24.9  \n",
       " Median : 87   Median : 2.000   Median :1.0000   Median :2.350   Median :26.1  \n",
       " Mean   : 87   Mean   : 2.919   Mean   :0.6416   Mean   :2.437   Mean   :26.3  \n",
       " 3rd Qu.:130   3rd Qu.: 5.000   3rd Qu.:1.0000   3rd Qu.:2.850   3rd Qu.:27.7  \n",
       " Max.   :173   Max.   :15.000   Max.   :1.0000   Max.   :5.200   Max.   :33.5  \n",
       "     color           spine      \n",
       " Min.   :1.000   Min.   :1.000  \n",
       " 1st Qu.:2.000   1st Qu.:2.000  \n",
       " Median :2.000   Median :3.000  \n",
       " Mean   :2.439   Mean   :2.486  \n",
       " 3rd Qu.:3.000   3rd Qu.:3.000  \n",
       " Max.   :4.000   Max.   :3.000  "
      ]
     },
     "metadata": {},
     "output_type": "display_data"
    }
   ],
   "source": [
    "summary(crab_data)"
   ]
  },
  {
   "cell_type": "markdown",
   "metadata": {},
   "source": [
    "#### a. 무게를 예측변수로 이용해서 선형확률모형을 P(Y=1)에 적합하라. 만약 소프트웨어가 이항분포에 대해서 항등연결함수를 사용할 수 없거나 수렴하지 않으면 Y를 정규분포를 따르는 것처럼 간주하여 보통의 최소제곱법을 이용하여 모수를 추정하고 추정값들을 해석하라. 가장 큰 무게값 5.20 kg에 대하여 P(Y=1)을 예측하고 결론을 내려라."
   ]
  },
  {
   "cell_type": "code",
   "execution_count": 61,
   "metadata": {
    "vscode": {
     "languageId": "r"
    }
   },
   "outputs": [
    {
     "data": {
      "text/plain": [
       "\n",
       "Call:\n",
       "lm(formula = y ~ weight, data = crab_data)\n",
       "\n",
       "Residuals:\n",
       "    Min      1Q  Median      3Q     Max \n",
       "-0.8878 -0.4683  0.1606  0.3704  0.6689 \n",
       "\n",
       "Coefficients:\n",
       "            Estimate Std. Error t value Pr(>|t|)    \n",
       "(Intercept) -0.14487    0.14715  -0.984    0.326    \n",
       "weight       0.32270    0.05876   5.492 1.42e-07 ***\n",
       "---\n",
       "Signif. codes:  0 '***' 0.001 '**' 0.01 '*' 0.05 '.' 0.1 ' ' 1\n",
       "\n",
       "Residual standard error: 0.4447 on 171 degrees of freedom\n",
       "Multiple R-squared:  0.1499,\tAdjusted R-squared:  0.1449 \n",
       "F-statistic: 30.16 on 1 and 171 DF,  p-value: 1.421e-07\n"
      ]
     },
     "metadata": {},
     "output_type": "display_data"
    }
   ],
   "source": [
    "model1 = lm(y~weight, data=crab_data)\n",
    "summary(model1)"
   ]
  },
  {
   "cell_type": "markdown",
   "metadata": {},
   "source": [
    "lm 함수를 이용하면 무게를 예측변수로 이용해서 선형확률모형을 적합할 수 있다.\n",
    "적합된 회귀식은 다음과 같다.\n",
    "<img src=\"https://latex.codecogs.com/svg.image?\\hat{P}(Y=1) = -0.145+0.323\\times weight\">\n",
    "\n",
    "적합된 회귀식에 가장 큰 무게값 5.20을 대입하면 \n",
    "<img src=\"https://latex.codecogs.com/svg.image?\\hat{P}(Y=1) = -0.145+0.323\\times 5.20=1.535\"> 이다.\n",
    "\n",
    "예측확률값이 1보다 크다. 즉, 확률이 0~1에 수렴하지 않기 때문에 Y가 정규분포를 따르는 것처럼 간주하여 보통의 최소제곱법을 이용하여 모수를 추정한다."
   ]
  },
  {
   "cell_type": "code",
   "execution_count": 62,
   "metadata": {
    "vscode": {
     "languageId": "r"
    }
   },
   "outputs": [
    {
     "data": {
      "text/html": [
       "<table class=\"dataframe\">\n",
       "<caption>A matrix: 1 × 3 of type dbl</caption>\n",
       "<thead>\n",
       "\t<tr><th></th><th scope=col>fit</th><th scope=col>lwr</th><th scope=col>upr</th></tr>\n",
       "</thead>\n",
       "<tbody>\n",
       "\t<tr><th scope=row>1</th><td>1.533186</td><td>1.205838</td><td>1.860534</td></tr>\n",
       "</tbody>\n",
       "</table>\n"
      ],
      "text/latex": [
       "A matrix: 1 × 3 of type dbl\n",
       "\\begin{tabular}{r|lll}\n",
       "  & fit & lwr & upr\\\\\n",
       "\\hline\n",
       "\t1 & 1.533186 & 1.205838 & 1.860534\\\\\n",
       "\\end{tabular}\n"
      ],
      "text/markdown": [
       "\n",
       "A matrix: 1 × 3 of type dbl\n",
       "\n",
       "| <!--/--> | fit | lwr | upr |\n",
       "|---|---|---|---|\n",
       "| 1 | 1.533186 | 1.205838 | 1.860534 |\n",
       "\n"
      ],
      "text/plain": [
       "  fit      lwr      upr     \n",
       "1 1.533186 1.205838 1.860534"
      ]
     },
     "metadata": {},
     "output_type": "display_data"
    }
   ],
   "source": [
    "max_input = data.frame(weight=5.20)\n",
    "\n",
    "ci = predict(model1, newdata=max_input, interval = \"confidence\")\n",
    "ci"
   ]
  },
  {
   "cell_type": "markdown",
   "metadata": {},
   "source": [
    "추정된 모수값은 1.533이고, 신뢰구간은 (1.206, 1.861)이다.\n",
    "추정된 모수값이 1보다 클 확률이 매우 높다고 볼 수 있다.\n",
    "따라서 \"무게가 5.20kg인 경우 거의 확실히 부수체가 존재한다\"고 할 수 있다."
   ]
  },
  {
   "cell_type": "markdown",
   "metadata": {},
   "source": [
    "#### b. Y를 이항변수로 간주하고 로지스틱 모형을 적합하라. 무게값 5.20 kg에 대하여 P(Y=1) =0.9968 이 됨을 보여라."
   ]
  },
  {
   "cell_type": "code",
   "execution_count": 63,
   "metadata": {
    "vscode": {
     "languageId": "r"
    }
   },
   "outputs": [
    {
     "data": {
      "text/plain": [
       "\n",
       "Call:\n",
       "glm(formula = y ~ weight, family = binomial, data = crab_data)\n",
       "\n",
       "Coefficients:\n",
       "            Estimate Std. Error z value Pr(>|z|)    \n",
       "(Intercept)  -3.6947     0.8802  -4.198 2.70e-05 ***\n",
       "weight        1.8151     0.3767   4.819 1.45e-06 ***\n",
       "---\n",
       "Signif. codes:  0 '***' 0.001 '**' 0.01 '*' 0.05 '.' 0.1 ' ' 1\n",
       "\n",
       "(Dispersion parameter for binomial family taken to be 1)\n",
       "\n",
       "    Null deviance: 225.76  on 172  degrees of freedom\n",
       "Residual deviance: 195.74  on 171  degrees of freedom\n",
       "AIC: 199.74\n",
       "\n",
       "Number of Fisher Scoring iterations: 4\n"
      ]
     },
     "metadata": {},
     "output_type": "display_data"
    }
   ],
   "source": [
    "model2 = glm(y~weight, data=crab_data, family=binomial)\n",
    "summary(model2)"
   ]
  },
  {
   "cell_type": "code",
   "execution_count": 64,
   "metadata": {
    "vscode": {
     "languageId": "r"
    }
   },
   "outputs": [
    {
     "data": {
      "text/html": [
       "<strong>1:</strong> 0.996808365803433"
      ],
      "text/latex": [
       "\\textbf{1:} 0.996808365803433"
      ],
      "text/markdown": [
       "**1:** 0.996808365803433"
      ],
      "text/plain": [
       "        1 \n",
       "0.9968084 "
      ]
     },
     "metadata": {},
     "output_type": "display_data"
    }
   ],
   "source": [
    "pi_x = predict(model2, newdata=max_input, type=\"response\")\n",
    "pi_x"
   ]
  },
  {
   "cell_type": "markdown",
   "metadata": {},
   "source": [
    "### 문제2: 114쪽 문제 3.6\n",
    "\n",
    "2016년도 일반사회조사에서 18세에서 27세까지를 대상으로 정치성향(1=매우 보수적, 2=보수적, 3=약간 보수적, 4=중간, 5=약간 진보적, 6=진보적, 7=매우 진보적)과 정당(민주당, 공화당)에 대하여 교차분할표를 구한 것이다.\n",
    "\n",
    "||1|2|3|4|5|6|7|\n",
    "|:-:|:-:|:-:|:-:|:-:|:-:|:-:|:-:|\n",
    "|Democrat|5|18|19|25|7|7|2|\n",
    "|Republican|1|3|1|11|10|11|1|\n",
    "\n",
    "지지정당이 민주당일 확률에 미치는 정치성향의 효과를 보기 위해 R을 이용하여 보형을 적합한 결과가 다음과 같다."
   ]
  },
  {
   "cell_type": "code",
   "execution_count": 65,
   "metadata": {
    "vscode": {
     "languageId": "r"
    }
   },
   "outputs": [
    {
     "data": {
      "text/plain": [
       "\n",
       "Call:\n",
       "glm(formula = y/n ~ x, family = binomial(link = logit), weights = n)\n",
       "\n",
       "Coefficients:\n",
       "            Estimate Std. Error z value Pr(>|z|)    \n",
       "(Intercept)   3.1870     0.7002   4.552 5.33e-06 ***\n",
       "x            -0.5901     0.1564  -3.772 0.000162 ***\n",
       "---\n",
       "Signif. codes:  0 '***' 0.001 '**' 0.01 '*' 0.05 '.' 0.1 ' ' 1\n",
       "\n",
       "(Dispersion parameter for binomial family taken to be 1)\n",
       "\n",
       "    Null deviance: 24.7983  on 6  degrees of freedom\n",
       "Residual deviance:  7.7894  on 5  degrees of freedom\n",
       "AIC: 30.516\n",
       "\n",
       "Number of Fisher Scoring iterations: 4\n"
      ]
     },
     "metadata": {},
     "output_type": "display_data"
    }
   ],
   "source": [
    "y <- c(5,18,19,25,7,7,2); n <- c(6,21,20,36,17,18,3)\n",
    "x <- c(1,2,3,4,5,6,7)\n",
    "\n",
    "model3 <- glm(y/n ~ x, family=binomial(link=logit), weights=n)\n",
    "summary(model3)"
   ]
  },
  {
   "cell_type": "code",
   "execution_count": 66,
   "metadata": {
    "vscode": {
     "languageId": "r"
    }
   },
   "outputs": [
    {
     "name": "stderr",
     "output_type": "stream",
     "text": [
      "Waiting for profiling to be done...\n",
      "\n"
     ]
    },
    {
     "data": {
      "text/html": [
       "<table class=\"dataframe\">\n",
       "<caption>A matrix: 2 × 2 of type dbl</caption>\n",
       "<thead>\n",
       "\t<tr><th></th><th scope=col>2.5 %</th><th scope=col>97.5 %</th></tr>\n",
       "</thead>\n",
       "<tbody>\n",
       "\t<tr><th scope=row>(Intercept)</th><td> 1.901798</td><td> 4.6648412</td></tr>\n",
       "\t<tr><th scope=row>x</th><td>-0.915875</td><td>-0.2983235</td></tr>\n",
       "</tbody>\n",
       "</table>\n"
      ],
      "text/latex": [
       "A matrix: 2 × 2 of type dbl\n",
       "\\begin{tabular}{r|ll}\n",
       "  & 2.5 \\% & 97.5 \\%\\\\\n",
       "\\hline\n",
       "\t(Intercept) &  1.901798 &  4.6648412\\\\\n",
       "\tx & -0.915875 & -0.2983235\\\\\n",
       "\\end{tabular}\n"
      ],
      "text/markdown": [
       "\n",
       "A matrix: 2 × 2 of type dbl\n",
       "\n",
       "| <!--/--> | 2.5 % | 97.5 % |\n",
       "|---|---|---|\n",
       "| (Intercept) |  1.901798 |  4.6648412 |\n",
       "| x | -0.915875 | -0.2983235 |\n",
       "\n"
      ],
      "text/plain": [
       "            2.5 %     97.5 %    \n",
       "(Intercept)  1.901798  4.6648412\n",
       "x           -0.915875 -0.2983235"
      ]
     },
     "metadata": {},
     "output_type": "display_data"
    }
   ],
   "source": [
    "confint(model3)"
   ]
  },
  {
   "cell_type": "markdown",
   "metadata": {},
   "source": [
    "#### a. 예측식을 제시하고 정치성향 효과의 방향에 대해서 해석하라."
   ]
  },
  {
   "cell_type": "markdown",
   "metadata": {},
   "source": [
    "주어진 코드를 보면 y는 민주당 지지자 수이고, n은 전체 조사대상자 수이다.\n",
    "즉, π(x) = P(Y=1)은 민주당을 지지할 확률을 의미한다.\n",
    "\n",
    "summary 함수 결과에 따른 예측식은 다음과 같다.\n",
    "\n",
    "<img src=\"https://latex.codecogs.com/svg.image?logit[\\pi(x)]=log\\left[\\frac{\\pi(x)}{1-\\pi(x)} \\right]=3.187-0.590 x\"><br>\n",
    "\n",
    "<img src=\"https://latex.codecogs.com/svg.image?e^{\\hat\\beta}=e^{-0.590}=0.554\">\n",
    "\n",
    "민주당 지지에 대한 오즈는 정치성향이 1증가함에 따라 약 0.45배 감소한다.\n",
    "즉, 정치성향이 진보적일수록 민주당 지지 오즈가 낮아진다."
   ]
  },
  {
   "cell_type": "markdown",
   "metadata": {},
   "source": [
    "#### b. 정치성향 효과에 대한 95% 왈드 신뢰구간을 구하고 위에 주어진 프로파일 가능도 신뢰구간과 비교하라."
   ]
  },
  {
   "cell_type": "code",
   "execution_count": 67,
   "metadata": {
    "vscode": {
     "languageId": "r"
    }
   },
   "outputs": [
    {
     "name": "stdout",
     "output_type": "stream",
     "text": [
      "-0.8966384 -0.2835616"
     ]
    }
   ],
   "source": [
    "# 신뢰구간을 구하기 위한 데이터 입력\n",
    "beta = -0.5901\n",
    "std_error = 0.1564\n",
    "z = qnorm(0.975)\n",
    "\n",
    "# 신뢰구간 계산\n",
    "ci_hi = beta + z * std_error\n",
    "ci_low = beta - z * std_error\n",
    "\n",
    "cat(ci_low, ci_hi)"
   ]
  },
  {
   "cell_type": "markdown",
   "metadata": {},
   "source": [
    "정치성향 효과에 대한 왈드 신뢰구간은 (-0.897, -0.284)이고, 프로파일 가능도 신뢰구간은 (-0.916, -0.298) 이다."
   ]
  },
  {
   "cell_type": "markdown",
   "metadata": {},
   "source": [
    "#### c. 정치성향 효과에 대한 왈드 검정을 수행하라. 검정통계량값과 P-값을 제시하고 결과를 해석하라."
   ]
  },
  {
   "cell_type": "code",
   "execution_count": 68,
   "metadata": {
    "vscode": {
     "languageId": "r"
    }
   },
   "outputs": [
    {
     "name": "stdout",
     "output_type": "stream",
     "text": [
      "wald_value: 14.23566 \n",
      "p-value: 0.0001612847"
     ]
    }
   ],
   "source": [
    "wald_value = (beta/std_error)^2\n",
    "p_value = 1-pchisq(wald_value, df=1)\n",
    "\n",
    "cat(\"wald_value:\", wald_value, \"\\n\")\n",
    "cat(\"p-value:\", p_value)"
   ]
  },
  {
   "cell_type": "markdown",
   "metadata": {},
   "source": [
    "왈드 검정의 검정통계량 값은 14.236이며, 이 값은 정치성향이 민주당 지지에 미치는 영향이 얼마나 큰지 나타낸다. 값이 클수록 영향력이 크다고 해석할 수 있다.\n",
    "\n",
    "P-값은 0.000161로 매우 작은 값이며, 이 값이 작으면 정치성향이 민주당 지지에 영향을 미치지 않는다는 귀무가설을 기각할 수 있는 근거가 된다.\n",
    "\n",
    "즉, 정치성향 효과에 대한 왈드 검정에 따르면 정치성향은 민주당 지지에 유의미한 영향을 주는 것으로 판단된다."
   ]
  },
  {
   "cell_type": "markdown",
   "metadata": {},
   "source": [
    "#### d. 가능도비 검정을 수행하고 검정통계량값과 P-값을 제시하고 결과를 해석하라."
   ]
  },
  {
   "cell_type": "code",
   "execution_count": 69,
   "metadata": {
    "vscode": {
     "languageId": "r"
    }
   },
   "outputs": [
    {
     "name": "stdout",
     "output_type": "stream",
     "text": [
      "l_value: 17.00891 \n",
      "p_value: 3.720474e-05"
     ]
    }
   ],
   "source": [
    "# 단순 모델(β=0 일 때 로그가능도 함수)\n",
    "model4 = glm(y/n ~ 1, family=binomial(link=logit), weights=n)\n",
    "\n",
    "# 가능도 계산\n",
    "L_1 = logLik(model3)\n",
    "L_0 = logLik(model4)\n",
    "\n",
    "# 가능도비 검정 통계량\n",
    "l_value = -2 * (L_0 - L_1)\n",
    "\n",
    "# p값 계산\n",
    "p_value = 1-pchisq(l_value, df=1)\n",
    "\n",
    "# 결과\n",
    "cat(\"l_value:\", l_value, \"\\n\")\n",
    "cat(\"p_value:\", p_value)"
   ]
  },
  {
   "cell_type": "markdown",
   "metadata": {},
   "source": [
    "가능도비 검정의 검정통계량 값은 17.009이며, 이 값이 클수록 β에 대해 아무 제한도 없는 로그가능도 함수의 최대값이 β=0인 제약이 있는 로그가능도 함수의 최대값보다 크다. 즉, 이 값이 클수록 β에 대해 아무 제한도 없는 로그가능도 함수가 데이터에 잘 맞는다는 것을 의미한다.\n",
    "\n",
    "P-값은 매우 작은 값이며, 이는 정치성향이 민주당 지지에 유의미한 영향을 미친다고 해석할 수 있다."
   ]
  },
  {
   "cell_type": "markdown",
   "metadata": {},
   "source": [
    "#### e. R 출력 결과에 있는 Fisher 스코어 알고리즘의 반복수에 대해서 설명하라."
   ]
  },
  {
   "cell_type": "markdown",
   "metadata": {},
   "source": [
    "Number of Fisher Scoring iterations는 4인데, 이 값은 일반화선형모델에서 파라미터를 추정하는 과정에서 로그가능도의 기울기를 이용하여 다음 추정치를 업데이트 하는데 이 과정이 몇번이나 반복되었는지를 나타낸다.\n",
    "\n",
    "모델의 최적화 과정에서 발생하는 반복 수가 적을수록 더 빠르고 효율적인 추정이 이루어졌다고 볼 수 있다."
   ]
  },
  {
   "cell_type": "markdown",
   "metadata": {},
   "source": [
    "### 문제3: 117쪽 문제 3.11\n",
    "\n",
    "컴퓨터 칩의 실리콘 기판을 제조하는 데 사용되는 두 공정 과정의 결합율을 분석하기 위해 실험을 하였다. 10개의 기판에 대해 처리 A를 적용하였을 때에 기판에서 관측된 결함 수는 각각 8, 7, 6, 6, 3, 4, 7, 2, 3, 4 이었다. 10개의 기판에 대하여 처리 B를 적용하였을 때에는 결함 수가 9, 9, 8, 14, 8, 13, 11, 5, 7, 6 이었다. 결함 수를 각각 평균 <img src=\"https://latex.codecogs.com/svg.image?\\mu_A\">와 <img src=\"https://latex.codecogs.com/svg.image?\\mu_B\">를 갖는 서로 독립인 포아송 변량이라고 간주하자. 모형 <img src=\"https://latex.codecogs.com/svg.image?log\\mu=\\alpha+\\beta x\">을 고려하자. 여기서 처리 A는 x=0, 처리 B는 x=1로 나타낸다. 그러면 <img src=\"https://latex.codecogs.com/svg.image?\\beta=log\\mu_B-log\\mu_A=log(\\mu_B/\\mu_A)\">이고, <img src=\"https://latex.codecogs.com/svg.image?e^\\beta=\\mu_B/\\mu_A\">가 된다. 이 모형을 적합하고 예측식을 제시하고 <img src=\"https://latex.codecogs.com/svg.image?\\hat\\beta\">값을 해석하라."
   ]
  },
  {
   "cell_type": "code",
   "execution_count": 70,
   "metadata": {
    "vscode": {
     "languageId": "r"
    }
   },
   "outputs": [
    {
     "data": {
      "text/plain": [
       "\n",
       "Call:\n",
       "glm(formula = defects ~ process, family = poisson(link = \"log\"), \n",
       "    data = data_AB)\n",
       "\n",
       "Coefficients:\n",
       "            Estimate Std. Error z value Pr(>|z|)    \n",
       "(Intercept)   1.6094     0.1414  11.380  < 2e-16 ***\n",
       "process1      0.5878     0.1764   3.332 0.000861 ***\n",
       "---\n",
       "Signif. codes:  0 '***' 0.001 '**' 0.01 '*' 0.05 '.' 0.1 ' ' 1\n",
       "\n",
       "(Dispersion parameter for poisson family taken to be 1)\n",
       "\n",
       "    Null deviance: 27.857  on 19  degrees of freedom\n",
       "Residual deviance: 16.268  on 18  degrees of freedom\n",
       "AIC: 94.349\n",
       "\n",
       "Number of Fisher Scoring iterations: 4\n"
      ]
     },
     "metadata": {},
     "output_type": "display_data"
    }
   ],
   "source": [
    "# 결함 수 데이터\n",
    "data_A <- c(8, 7, 6, 6, 3, 4, 7, 2, 3, 4)\n",
    "data_B <- c(9, 9, 8, 14, 8, 13, 11, 5, 7, 6)\n",
    "\n",
    "# 데이터 프레임 생성\n",
    "data_AB <- data.frame(\n",
    "  defects = c(data_A, data_B),\n",
    "  process = factor(c(rep(0, 10), rep(1, 10)))\n",
    ")\n",
    "\n",
    "# 포아송 회귀 모델 적합\n",
    "model5 <- glm(defects ~ process, data = data_AB, family = poisson(link=\"log\"))\n",
    "\n",
    "# 모델 요약\n",
    "summary(model5)"
   ]
  },
  {
   "cell_type": "markdown",
   "metadata": {},
   "source": [
    "이 모형을 적합한 예측식은 다음과 같다.\n",
    "\n",
    "<img src=\"https://latex.codecogs.com/svg.image?\\hat\\mu=e^{\\hat\\alpha+\\hat\\beta x}=e^{1.609+0.588 x}\"><br>\n",
    "\n",
    "<img src=\"https://latex.codecogs.com/svg.image?\\hat\\beta\"> 값이 0.588인 것은 process 값이 1 커질 때 결함이 발생할 오즈가 <img src=\"https://latex.codecogs.com/svg.image?e^{\\hat\\beta}=e^{0.588}=1.8\">배 증가한다.\n",
    "\n",
    "즉, 처리 B를 적용했을 때 결함이 발생할 오즈가 80% 증가한다는 의미이다."
   ]
  },
  {
   "cell_type": "markdown",
   "metadata": {},
   "source": [
    "### 문제4: 117쪽 문제 3.12\n",
    "\n",
    "연습문제 3.11을 참조하라.\n",
    "\n",
    "#### a. <img src=\"https://latex.codecogs.com/svg.image?H_0:\\mu_A=\\mu_B\">에 대한 검정을 <img src=\"https://latex.codecogs.com/svg.image?H_0:\\beta=0\">의 왈드 검정이나 가능도비 검정을 통하여 실시하라."
   ]
  },
  {
   "cell_type": "code",
   "execution_count": 71,
   "metadata": {
    "vscode": {
     "languageId": "r"
    }
   },
   "outputs": [
    {
     "name": "stdout",
     "output_type": "stream",
     "text": [
      "wald_value: 11.10517 \n",
      "p-value: 0.0008608747"
     ]
    }
   ],
   "source": [
    "# 왈드 검정\n",
    "beta = summary(model5)$coefficients[2,1]\n",
    "std_error = summary(model5)$coefficients[2,2]\n",
    "\n",
    "wald_value = (beta/std_error)^2\n",
    "p_value = 1-pchisq(wald_value, df=1)\n",
    "\n",
    "cat(\"wald_value:\", wald_value, \"\\n\")\n",
    "cat(\"p-value:\", p_value)"
   ]
  },
  {
   "cell_type": "markdown",
   "metadata": {},
   "source": [
    "왈드 검정의 검정통계량 값은 11.105이며, 이 값은 처리방법이 결함에 미치는 영향이 얼마나 큰지 나타낸다. 값이 클수록 영향력이 크다고 해석할 수 있다.\n",
    "\n",
    "P-값은 0.000861로 매우 작은 값이며, 이 값이 작으면 처리방법이 결함에 영향을 미치지 않는다는 귀무가설을 기각할 수 있는 근거가 된다.\n",
    "\n",
    "즉, 처리방법에 대한 왈드 검정에 따르면 처리방법은 결함에 유의미한 영향을 주는 것으로 판단된다."
   ]
  },
  {
   "cell_type": "code",
   "execution_count": 72,
   "metadata": {
    "vscode": {
     "languageId": "r"
    }
   },
   "outputs": [
    {
     "name": "stdout",
     "output_type": "stream",
     "text": [
      "l_value: 11.58937 \n",
      "p_value: 0.0006632976"
     ]
    }
   ],
   "source": [
    "# 단순 모델(β=0 일 때 로그가능도 함수)\n",
    "model6 <- glm(defects ~ 1, data = data_AB, family = poisson(link=\"log\"))\n",
    "\n",
    "# 가능도 계산\n",
    "L_1 = logLik(model5)\n",
    "L_0 = logLik(model6)\n",
    "\n",
    "# 가능도비 검정 통계량\n",
    "l_value = -2 * (L_0 - L_1)\n",
    "\n",
    "# p값 계산\n",
    "p_value = 1-pchisq(l_value, df=1)\n",
    "\n",
    "# 결과\n",
    "cat(\"l_value:\", l_value, \"\\n\")\n",
    "cat(\"p_value:\", p_value)"
   ]
  },
  {
   "cell_type": "markdown",
   "metadata": {},
   "source": [
    "가능도비 검정의 검정통계량 값은 11.589이며, 이 값이 클수록 β에 대해 아무 제한도 없는 로그가능도 함수가 데이터에 잘 맞는다는 것을 의미한다.\n",
    "\n",
    "P-값은 매우 작은 값이며, 이는 처리방법이 결함에 유의미한 영향을 미친다고 해석할 수 있다."
   ]
  },
  {
   "cell_type": "markdown",
   "metadata": {},
   "source": [
    "#### b. <img src=\"https://latex.codecogs.com/svg.image?\\mu_B/\\mu_A\">에 대한 95% 신뢰구간을 구하라.(힌트: 우선 <img src=\"https://latex.codecogs.com/svg.image?\\beta=log\\mu_B-log\\mu_A=\\log(\\mu_B/\\mu_A)\">에 대한 신뢰구간을 구하라.)"
   ]
  },
  {
   "cell_type": "code",
   "execution_count": 73,
   "metadata": {
    "vscode": {
     "languageId": "r"
    }
   },
   "outputs": [
    {
     "name": "stdout",
     "output_type": "stream",
     "text": [
      "0.242082 0.9334913"
     ]
    }
   ],
   "source": [
    "# 신뢰구간을 구하기 위한 데이터 입력\n",
    "beta = summary(model5)$coefficients[2,1]\n",
    "std_error = summary(model5)$coefficients[2,2]\n",
    "z = qnorm(0.975)\n",
    "\n",
    "# 신뢰구간 계산\n",
    "ci_hi = beta + z * std_error\n",
    "ci_low = beta - z * std_error\n",
    "\n",
    "cat(ci_low, ci_hi)"
   ]
  },
  {
   "cell_type": "markdown",
   "metadata": {},
   "source": [
    "<img src=\"https://latex.codecogs.com/svg.image?\\beta=log(\\mu_B/\\mu_A)\">이다.\n",
    "\n",
    "우선 β의 신뢰구간을 구하면 (0.242, 0.933)이다.\n",
    "\n",
    "<img src=\"https://latex.codecogs.com/svg.image?\\beta=log(\\mu_B/\\mu_A)\">이므로 이 값에 지수제곱을 취하면 <img src=\"https://latex.codecogs.com/svg.image?\\mu_B/\\mu_A\">의 신뢰구간을 구할 수 있다."
   ]
  },
  {
   "cell_type": "code",
   "execution_count": 74,
   "metadata": {
    "vscode": {
     "languageId": "r"
    }
   },
   "outputs": [
    {
     "name": "stdout",
     "output_type": "stream",
     "text": [
      "1.273899 2.543373"
     ]
    }
   ],
   "source": [
    "ci2_hi = exp(ci_hi)\n",
    "ci2_low = exp(ci_low)\n",
    "\n",
    "cat(ci2_low, ci2_hi)"
   ]
  },
  {
   "cell_type": "markdown",
   "metadata": {},
   "source": [
    "<img src=\"https://latex.codecogs.com/svg.image?\\mu_B/\\mu_A\">의 신뢰구간은 (1.274, 2.543) 이다."
   ]
  }
 ],
 "metadata": {
  "kernelspec": {
   "display_name": "R",
   "language": "R",
   "name": "ir"
  },
  "language_info": {
   "codemirror_mode": "r",
   "file_extension": ".r",
   "mimetype": "text/x-r-source",
   "name": "R",
   "pygments_lexer": "r",
   "version": "4.3.2"
  }
 },
 "nbformat": 4,
 "nbformat_minor": 2
}
