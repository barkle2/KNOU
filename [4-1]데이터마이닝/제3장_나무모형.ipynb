{
  "nbformat": 4,
  "nbformat_minor": 0,
  "metadata": {
    "colab": {
      "name": "제3장_나무모형.ipynb",
      "provenance": [],
      "authorship_tag": "ABX9TyN+TbiUeL41Ft0Skv0YHxBq",
      "include_colab_link": true
    },
    "kernelspec": {
      "name": "ir",
      "display_name": "R"
    },
    "language_info": {
      "name": "R"
    }
  },
  "cells": [
    {
      "cell_type": "markdown",
      "metadata": {
        "id": "view-in-github",
        "colab_type": "text"
      },
      "source": [
        "<a href=\"https://colab.research.google.com/github/barkle2/KNOU/blob/master/%5B4-1%5D%EB%8D%B0%EC%9D%B4%ED%84%B0%EB%A7%88%EC%9D%B4%EB%8B%9D/%EC%A0%9C3%EC%9E%A5_%EB%82%98%EB%AC%B4%EB%AA%A8%ED%98%95.ipynb\" target=\"_parent\"><img src=\"https://colab.research.google.com/assets/colab-badge.svg\" alt=\"Open In Colab\"/></a>"
      ]
    },
    {
      "cell_type": "code",
      "metadata": {
        "id": "o_O5R5Hhy2P5"
      },
      "source": [
        "library(rpart)"
      ],
      "execution_count": 2,
      "outputs": []
    },
    {
      "cell_type": "code",
      "metadata": {
        "id": "s32Q0fta2BP3"
      },
      "source": [
        "set.seed(1234)"
      ],
      "execution_count": 4,
      "outputs": []
    },
    {
      "cell_type": "code",
      "metadata": {
        "id": "6bgcofpw3Vfe"
      },
      "source": [
        "german = read.table(\"https://raw.githubusercontent.com/barkle2/KNOU/master/%5B4-1%5D%EB%8D%B0%EC%9D%B4%ED%84%B0%EB%A7%88%EC%9D%B4%EB%8B%9D/germandata.txt\", header=T)"
      ],
      "execution_count": 5,
      "outputs": []
    },
    {
      "cell_type": "code",
      "metadata": {
        "colab": {
          "base_uri": "https://localhost:8080/",
          "height": 1000
        },
        "id": "GfC9-Kpu3uM9",
        "outputId": "573b7307-ca4c-4d4f-a310-be8a1baa4279"
      },
      "source": [
        "german"
      ],
      "execution_count": 7,
      "outputs": [
        {
          "output_type": "display_data",
          "data": {
            "text/plain": [
              "     check duration history purpose credit savings employment installment\n",
              "1    A11    6       A34     A43      1169  A65     A75        4          \n",
              "2    A12   48       A32     A43      5951  A61     A73        2          \n",
              "3    A14   12       A34     A46      2096  A61     A74        2          \n",
              "4    A11   42       A32     A42      7882  A61     A74        2          \n",
              "5    A11   24       A33     A40      4870  A61     A73        3          \n",
              "6    A14   36       A32     A46      9055  A65     A73        2          \n",
              "7    A14   24       A32     A42      2835  A63     A75        3          \n",
              "8    A12   36       A32     A41      6948  A61     A73        2          \n",
              "9    A14   12       A32     A43      3059  A64     A74        2          \n",
              "10   A12   30       A34     A40      5234  A61     A71        4          \n",
              "11   A12   12       A32     A40      1295  A61     A72        3          \n",
              "12   A11   48       A32     A49      4308  A61     A72        3          \n",
              "13   A12   12       A32     A43      1567  A61     A73        1          \n",
              "14   A11   24       A34     A40      1199  A61     A75        4          \n",
              "15   A11   15       A32     A40      1403  A61     A73        2          \n",
              "16   A11   24       A32     A43      1282  A62     A73        4          \n",
              "17   A14   24       A34     A43      2424  A65     A75        4          \n",
              "18   A11   30       A30     A49      8072  A65     A72        2          \n",
              "19   A12   24       A32     A41     12579  A61     A75        4          \n",
              "20   A14   24       A32     A43      3430  A63     A75        3          \n",
              "21   A14    9       A34     A40      2134  A61     A73        4          \n",
              "22   A11    6       A32     A43      2647  A63     A73        2          \n",
              "23   A11   10       A34     A40      2241  A61     A72        1          \n",
              "24   A12   12       A34     A41      1804  A62     A72        3          \n",
              "25   A14   10       A34     A42      2069  A65     A73        2          \n",
              "26   A11    6       A32     A42      1374  A61     A73        1          \n",
              "27   A14    6       A30     A43       426  A61     A75        4          \n",
              "28   A13   12       A31     A43       409  A64     A73        3          \n",
              "29   A12    7       A32     A43      2415  A61     A73        3          \n",
              "30   A11   60       A33     A49      6836  A61     A75        3          \n",
              "⋮    ⋮     ⋮        ⋮       ⋮       ⋮      ⋮       ⋮          ⋮          \n",
              "971  A12   15       A32     A45     1514   A62     A73        4          \n",
              "972  A14   24       A32     A40     7393   A61     A73        1          \n",
              "973  A11   24       A31     A40     1193   A61     A71        1          \n",
              "974  A11   60       A32     A49     7297   A61     A75        4          \n",
              "975  A14   30       A34     A43     2831   A61     A73        4          \n",
              "976  A13   24       A32     A43     1258   A63     A73        3          \n",
              "977  A12    6       A32     A43      753   A61     A73        2          \n",
              "978  A12   18       A33     A49     2427   A65     A75        4          \n",
              "979  A14   24       A33     A40     2538   A61     A75        4          \n",
              "980  A12   15       A31     A40     1264   A62     A73        2          \n",
              "981  A12   30       A34     A42     8386   A61     A74        2          \n",
              "982  A14   48       A32     A49     4844   A61     A71        3          \n",
              "983  A13   21       A32     A40     2923   A62     A73        1          \n",
              "984  A11   36       A32     A41     8229   A61     A73        2          \n",
              "985  A14   24       A34     A42     2028   A61     A74        2          \n",
              "986  A11   15       A34     A42     1433   A61     A73        4          \n",
              "987  A13   42       A30     A49     6289   A61     A72        2          \n",
              "988  A14   13       A32     A43     1409   A62     A71        2          \n",
              "989  A11   24       A32     A41     6579   A61     A71        4          \n",
              "990  A12   24       A34     A43     1743   A61     A75        4          \n",
              "991  A14   12       A34     A46     3565   A65     A72        2          \n",
              "992  A14   15       A31     A43     1569   A62     A75        4          \n",
              "993  A11   18       A32     A43     1936   A65     A74        2          \n",
              "994  A11   36       A32     A42     3959   A61     A71        4          \n",
              "995  A14   12       A32     A40     2390   A65     A75        4          \n",
              "996  A14   12       A32     A42     1736   A61     A74        3          \n",
              "997  A11   30       A32     A41     3857   A61     A73        4          \n",
              "998  A14   12       A32     A43      804   A61     A75        4          \n",
              "999  A11   45       A32     A43     1845   A61     A73        4          \n",
              "1000 A12   45       A34     A41     4576   A62     A71        3          \n",
              "     personal debtors ⋯ property age others housing numcredits job  residpeople\n",
              "1    A93      A101    ⋯ A121     67  A143   A152    2          A173 1          \n",
              "2    A92      A101    ⋯ A121     22  A143   A152    1          A173 1          \n",
              "3    A93      A101    ⋯ A121     49  A143   A152    1          A172 2          \n",
              "4    A93      A103    ⋯ A122     45  A143   A153    1          A173 2          \n",
              "5    A93      A101    ⋯ A124     53  A143   A153    2          A173 2          \n",
              "6    A93      A101    ⋯ A124     35  A143   A153    1          A172 2          \n",
              "7    A93      A101    ⋯ A122     53  A143   A152    1          A173 1          \n",
              "8    A93      A101    ⋯ A123     35  A143   A151    1          A174 1          \n",
              "9    A91      A101    ⋯ A121     61  A143   A152    1          A172 1          \n",
              "10   A94      A101    ⋯ A123     28  A143   A152    2          A174 1          \n",
              "11   A92      A101    ⋯ A123     25  A143   A151    1          A173 1          \n",
              "12   A92      A101    ⋯ A122     24  A143   A151    1          A173 1          \n",
              "13   A92      A101    ⋯ A123     22  A143   A152    1          A173 1          \n",
              "14   A93      A101    ⋯ A123     60  A143   A152    2          A172 1          \n",
              "15   A92      A101    ⋯ A123     28  A143   A151    1          A173 1          \n",
              "16   A92      A101    ⋯ A123     32  A143   A152    1          A172 1          \n",
              "17   A93      A101    ⋯ A122     53  A143   A152    2          A173 1          \n",
              "18   A93      A101    ⋯ A123     25  A141   A152    3          A173 1          \n",
              "19   A92      A101    ⋯ A124     44  A143   A153    1          A174 1          \n",
              "20   A93      A101    ⋯ A123     31  A143   A152    1          A173 2          \n",
              "21   A93      A101    ⋯ A123     48  A143   A152    3          A173 1          \n",
              "22   A93      A101    ⋯ A121     44  A143   A151    1          A173 2          \n",
              "23   A93      A101    ⋯ A121     48  A143   A151    2          A172 2          \n",
              "24   A93      A101    ⋯ A122     44  A143   A152    1          A173 1          \n",
              "25   A94      A101    ⋯ A123     26  A143   A152    2          A173 1          \n",
              "26   A93      A101    ⋯ A121     36  A141   A152    1          A172 1          \n",
              "27   A94      A101    ⋯ A123     39  A143   A152    1          A172 1          \n",
              "28   A92      A101    ⋯ A121     42  A143   A151    2          A173 1          \n",
              "29   A93      A103    ⋯ A121     34  A143   A152    1          A173 1          \n",
              "30   A93      A101    ⋯ A124     63  A143   A152    2          A173 1          \n",
              "⋮    ⋮        ⋮       ⋱ ⋮        ⋮   ⋮      ⋮       ⋮          ⋮    ⋮          \n",
              "971  A93      A103    ⋯ A121     22  A143   A152    1          A173 1          \n",
              "972  A93      A101    ⋯ A122     43  A143   A152    1          A172 2          \n",
              "973  A92      A102    ⋯ A124     29  A143   A151    2          A171 1          \n",
              "974  A93      A102    ⋯ A124     36  A143   A151    1          A173 1          \n",
              "975  A92      A101    ⋯ A123     33  A143   A152    1          A173 1          \n",
              "976  A92      A101    ⋯ A123     57  A143   A152    1          A172 1          \n",
              "977  A92      A103    ⋯ A121     64  A143   A152    1          A173 1          \n",
              "978  A93      A101    ⋯ A122     42  A143   A152    2          A173 1          \n",
              "979  A93      A101    ⋯ A123     47  A143   A152    2          A172 2          \n",
              "980  A94      A101    ⋯ A122     25  A143   A151    1          A173 1          \n",
              "981  A93      A101    ⋯ A122     49  A143   A152    1          A173 1          \n",
              "982  A93      A101    ⋯ A123     33  A141   A151    1          A174 1          \n",
              "983  A92      A101    ⋯ A123     28  A141   A152    1          A174 1          \n",
              "984  A93      A101    ⋯ A122     26  A143   A152    1          A173 2          \n",
              "985  A93      A101    ⋯ A122     30  A143   A152    2          A172 1          \n",
              "986  A92      A101    ⋯ A122     25  A143   A151    2          A173 1          \n",
              "987  A91      A101    ⋯ A122     33  A143   A152    2          A173 1          \n",
              "988  A92      A101    ⋯ A121     64  A143   A152    1          A173 1          \n",
              "989  A93      A101    ⋯ A124     29  A143   A153    1          A174 1          \n",
              "990  A93      A101    ⋯ A122     48  A143   A152    2          A172 1          \n",
              "991  A93      A101    ⋯ A122     37  A143   A152    2          A172 2          \n",
              "992  A93      A101    ⋯ A123     34  A141   A152    1          A172 2          \n",
              "993  A94      A101    ⋯ A123     23  A143   A151    2          A172 1          \n",
              "994  A93      A101    ⋯ A122     30  A143   A152    1          A174 1          \n",
              "995  A93      A101    ⋯ A123     50  A143   A152    1          A173 1          \n",
              "996  A92      A101    ⋯ A121     31  A143   A152    1          A172 1          \n",
              "997  A91      A101    ⋯ A122     40  A143   A152    1          A174 1          \n",
              "998  A93      A101    ⋯ A123     38  A143   A152    1          A173 1          \n",
              "999  A93      A101    ⋯ A124     23  A143   A153    1          A173 1          \n",
              "1000 A93      A101    ⋯ A123     27  A143   A152    1          A173 1          \n",
              "     telephone foreign y   \n",
              "1    A192      A201    good\n",
              "2    A191      A201    bad \n",
              "3    A191      A201    good\n",
              "4    A191      A201    good\n",
              "5    A191      A201    bad \n",
              "6    A192      A201    good\n",
              "7    A191      A201    good\n",
              "8    A192      A201    good\n",
              "9    A191      A201    good\n",
              "10   A191      A201    bad \n",
              "11   A191      A201    bad \n",
              "12   A191      A201    bad \n",
              "13   A192      A201    good\n",
              "14   A191      A201    bad \n",
              "15   A191      A201    good\n",
              "16   A191      A201    bad \n",
              "17   A191      A201    good\n",
              "18   A191      A201    good\n",
              "19   A192      A201    bad \n",
              "20   A192      A201    good\n",
              "21   A192      A201    good\n",
              "22   A191      A201    good\n",
              "23   A191      A202    good\n",
              "24   A191      A201    good\n",
              "25   A191      A202    good\n",
              "26   A192      A201    good\n",
              "27   A191      A201    good\n",
              "28   A191      A201    good\n",
              "29   A191      A201    good\n",
              "30   A192      A201    bad \n",
              "⋮    ⋮         ⋮       ⋮   \n",
              "971  A191      A201    good\n",
              "972  A191      A201    good\n",
              "973  A191      A201    bad \n",
              "974  A191      A201    bad \n",
              "975  A192      A201    good\n",
              "976  A191      A201    good\n",
              "977  A191      A201    good\n",
              "978  A191      A201    good\n",
              "979  A191      A201    bad \n",
              "980  A191      A201    bad \n",
              "981  A191      A201    bad \n",
              "982  A192      A201    bad \n",
              "983  A192      A201    good\n",
              "984  A191      A201    bad \n",
              "985  A191      A201    good\n",
              "986  A191      A201    good\n",
              "987  A191      A201    good\n",
              "988  A191      A201    good\n",
              "989  A192      A201    good\n",
              "990  A191      A201    good\n",
              "991  A191      A201    good\n",
              "992  A191      A201    good\n",
              "993  A191      A201    good\n",
              "994  A192      A201    good\n",
              "995  A192      A201    good\n",
              "996  A191      A201    good\n",
              "997  A192      A201    good\n",
              "998  A191      A201    good\n",
              "999  A192      A201    bad \n",
              "1000 A191      A201    good"
            ],
            "text/latex": "A data.frame: 1000 × 21\n\\begin{tabular}{lllllllllllllllllllll}\n check & duration & history & purpose & credit & savings & employment & installment & personal & debtors & ⋯ & property & age & others & housing & numcredits & job & residpeople & telephone & foreign & y\\\\\n <chr> & <int> & <chr> & <chr> & <int> & <chr> & <chr> & <int> & <chr> & <chr> & ⋯ & <chr> & <int> & <chr> & <chr> & <fct> & <chr> & <fct> & <chr> & <chr> & <chr>\\\\\n\\hline\n\t A11 &  6 & A34 & A43 &  1169 & A65 & A75 & 4 & A93 & A101 & ⋯ & A121 & 67 & A143 & A152 & 2 & A173 & 1 & A192 & A201 & good\\\\\n\t A12 & 48 & A32 & A43 &  5951 & A61 & A73 & 2 & A92 & A101 & ⋯ & A121 & 22 & A143 & A152 & 1 & A173 & 1 & A191 & A201 & bad \\\\\n\t A14 & 12 & A34 & A46 &  2096 & A61 & A74 & 2 & A93 & A101 & ⋯ & A121 & 49 & A143 & A152 & 1 & A172 & 2 & A191 & A201 & good\\\\\n\t A11 & 42 & A32 & A42 &  7882 & A61 & A74 & 2 & A93 & A103 & ⋯ & A122 & 45 & A143 & A153 & 1 & A173 & 2 & A191 & A201 & good\\\\\n\t A11 & 24 & A33 & A40 &  4870 & A61 & A73 & 3 & A93 & A101 & ⋯ & A124 & 53 & A143 & A153 & 2 & A173 & 2 & A191 & A201 & bad \\\\\n\t A14 & 36 & A32 & A46 &  9055 & A65 & A73 & 2 & A93 & A101 & ⋯ & A124 & 35 & A143 & A153 & 1 & A172 & 2 & A192 & A201 & good\\\\\n\t A14 & 24 & A32 & A42 &  2835 & A63 & A75 & 3 & A93 & A101 & ⋯ & A122 & 53 & A143 & A152 & 1 & A173 & 1 & A191 & A201 & good\\\\\n\t A12 & 36 & A32 & A41 &  6948 & A61 & A73 & 2 & A93 & A101 & ⋯ & A123 & 35 & A143 & A151 & 1 & A174 & 1 & A192 & A201 & good\\\\\n\t A14 & 12 & A32 & A43 &  3059 & A64 & A74 & 2 & A91 & A101 & ⋯ & A121 & 61 & A143 & A152 & 1 & A172 & 1 & A191 & A201 & good\\\\\n\t A12 & 30 & A34 & A40 &  5234 & A61 & A71 & 4 & A94 & A101 & ⋯ & A123 & 28 & A143 & A152 & 2 & A174 & 1 & A191 & A201 & bad \\\\\n\t A12 & 12 & A32 & A40 &  1295 & A61 & A72 & 3 & A92 & A101 & ⋯ & A123 & 25 & A143 & A151 & 1 & A173 & 1 & A191 & A201 & bad \\\\\n\t A11 & 48 & A32 & A49 &  4308 & A61 & A72 & 3 & A92 & A101 & ⋯ & A122 & 24 & A143 & A151 & 1 & A173 & 1 & A191 & A201 & bad \\\\\n\t A12 & 12 & A32 & A43 &  1567 & A61 & A73 & 1 & A92 & A101 & ⋯ & A123 & 22 & A143 & A152 & 1 & A173 & 1 & A192 & A201 & good\\\\\n\t A11 & 24 & A34 & A40 &  1199 & A61 & A75 & 4 & A93 & A101 & ⋯ & A123 & 60 & A143 & A152 & 2 & A172 & 1 & A191 & A201 & bad \\\\\n\t A11 & 15 & A32 & A40 &  1403 & A61 & A73 & 2 & A92 & A101 & ⋯ & A123 & 28 & A143 & A151 & 1 & A173 & 1 & A191 & A201 & good\\\\\n\t A11 & 24 & A32 & A43 &  1282 & A62 & A73 & 4 & A92 & A101 & ⋯ & A123 & 32 & A143 & A152 & 1 & A172 & 1 & A191 & A201 & bad \\\\\n\t A14 & 24 & A34 & A43 &  2424 & A65 & A75 & 4 & A93 & A101 & ⋯ & A122 & 53 & A143 & A152 & 2 & A173 & 1 & A191 & A201 & good\\\\\n\t A11 & 30 & A30 & A49 &  8072 & A65 & A72 & 2 & A93 & A101 & ⋯ & A123 & 25 & A141 & A152 & 3 & A173 & 1 & A191 & A201 & good\\\\\n\t A12 & 24 & A32 & A41 & 12579 & A61 & A75 & 4 & A92 & A101 & ⋯ & A124 & 44 & A143 & A153 & 1 & A174 & 1 & A192 & A201 & bad \\\\\n\t A14 & 24 & A32 & A43 &  3430 & A63 & A75 & 3 & A93 & A101 & ⋯ & A123 & 31 & A143 & A152 & 1 & A173 & 2 & A192 & A201 & good\\\\\n\t A14 &  9 & A34 & A40 &  2134 & A61 & A73 & 4 & A93 & A101 & ⋯ & A123 & 48 & A143 & A152 & 3 & A173 & 1 & A192 & A201 & good\\\\\n\t A11 &  6 & A32 & A43 &  2647 & A63 & A73 & 2 & A93 & A101 & ⋯ & A121 & 44 & A143 & A151 & 1 & A173 & 2 & A191 & A201 & good\\\\\n\t A11 & 10 & A34 & A40 &  2241 & A61 & A72 & 1 & A93 & A101 & ⋯ & A121 & 48 & A143 & A151 & 2 & A172 & 2 & A191 & A202 & good\\\\\n\t A12 & 12 & A34 & A41 &  1804 & A62 & A72 & 3 & A93 & A101 & ⋯ & A122 & 44 & A143 & A152 & 1 & A173 & 1 & A191 & A201 & good\\\\\n\t A14 & 10 & A34 & A42 &  2069 & A65 & A73 & 2 & A94 & A101 & ⋯ & A123 & 26 & A143 & A152 & 2 & A173 & 1 & A191 & A202 & good\\\\\n\t A11 &  6 & A32 & A42 &  1374 & A61 & A73 & 1 & A93 & A101 & ⋯ & A121 & 36 & A141 & A152 & 1 & A172 & 1 & A192 & A201 & good\\\\\n\t A14 &  6 & A30 & A43 &   426 & A61 & A75 & 4 & A94 & A101 & ⋯ & A123 & 39 & A143 & A152 & 1 & A172 & 1 & A191 & A201 & good\\\\\n\t A13 & 12 & A31 & A43 &   409 & A64 & A73 & 3 & A92 & A101 & ⋯ & A121 & 42 & A143 & A151 & 2 & A173 & 1 & A191 & A201 & good\\\\\n\t A12 &  7 & A32 & A43 &  2415 & A61 & A73 & 3 & A93 & A103 & ⋯ & A121 & 34 & A143 & A152 & 1 & A173 & 1 & A191 & A201 & good\\\\\n\t A11 & 60 & A33 & A49 &  6836 & A61 & A75 & 3 & A93 & A101 & ⋯ & A124 & 63 & A143 & A152 & 2 & A173 & 1 & A192 & A201 & bad \\\\\n\t ⋮ & ⋮ & ⋮ & ⋮ & ⋮ & ⋮ & ⋮ & ⋮ & ⋮ & ⋮ & ⋱ & ⋮ & ⋮ & ⋮ & ⋮ & ⋮ & ⋮ & ⋮ & ⋮ & ⋮ & ⋮\\\\\n\t A12 & 15 & A32 & A45 & 1514 & A62 & A73 & 4 & A93 & A103 & ⋯ & A121 & 22 & A143 & A152 & 1 & A173 & 1 & A191 & A201 & good\\\\\n\t A14 & 24 & A32 & A40 & 7393 & A61 & A73 & 1 & A93 & A101 & ⋯ & A122 & 43 & A143 & A152 & 1 & A172 & 2 & A191 & A201 & good\\\\\n\t A11 & 24 & A31 & A40 & 1193 & A61 & A71 & 1 & A92 & A102 & ⋯ & A124 & 29 & A143 & A151 & 2 & A171 & 1 & A191 & A201 & bad \\\\\n\t A11 & 60 & A32 & A49 & 7297 & A61 & A75 & 4 & A93 & A102 & ⋯ & A124 & 36 & A143 & A151 & 1 & A173 & 1 & A191 & A201 & bad \\\\\n\t A14 & 30 & A34 & A43 & 2831 & A61 & A73 & 4 & A92 & A101 & ⋯ & A123 & 33 & A143 & A152 & 1 & A173 & 1 & A192 & A201 & good\\\\\n\t A13 & 24 & A32 & A43 & 1258 & A63 & A73 & 3 & A92 & A101 & ⋯ & A123 & 57 & A143 & A152 & 1 & A172 & 1 & A191 & A201 & good\\\\\n\t A12 &  6 & A32 & A43 &  753 & A61 & A73 & 2 & A92 & A103 & ⋯ & A121 & 64 & A143 & A152 & 1 & A173 & 1 & A191 & A201 & good\\\\\n\t A12 & 18 & A33 & A49 & 2427 & A65 & A75 & 4 & A93 & A101 & ⋯ & A122 & 42 & A143 & A152 & 2 & A173 & 1 & A191 & A201 & good\\\\\n\t A14 & 24 & A33 & A40 & 2538 & A61 & A75 & 4 & A93 & A101 & ⋯ & A123 & 47 & A143 & A152 & 2 & A172 & 2 & A191 & A201 & bad \\\\\n\t A12 & 15 & A31 & A40 & 1264 & A62 & A73 & 2 & A94 & A101 & ⋯ & A122 & 25 & A143 & A151 & 1 & A173 & 1 & A191 & A201 & bad \\\\\n\t A12 & 30 & A34 & A42 & 8386 & A61 & A74 & 2 & A93 & A101 & ⋯ & A122 & 49 & A143 & A152 & 1 & A173 & 1 & A191 & A201 & bad \\\\\n\t A14 & 48 & A32 & A49 & 4844 & A61 & A71 & 3 & A93 & A101 & ⋯ & A123 & 33 & A141 & A151 & 1 & A174 & 1 & A192 & A201 & bad \\\\\n\t A13 & 21 & A32 & A40 & 2923 & A62 & A73 & 1 & A92 & A101 & ⋯ & A123 & 28 & A141 & A152 & 1 & A174 & 1 & A192 & A201 & good\\\\\n\t A11 & 36 & A32 & A41 & 8229 & A61 & A73 & 2 & A93 & A101 & ⋯ & A122 & 26 & A143 & A152 & 1 & A173 & 2 & A191 & A201 & bad \\\\\n\t A14 & 24 & A34 & A42 & 2028 & A61 & A74 & 2 & A93 & A101 & ⋯ & A122 & 30 & A143 & A152 & 2 & A172 & 1 & A191 & A201 & good\\\\\n\t A11 & 15 & A34 & A42 & 1433 & A61 & A73 & 4 & A92 & A101 & ⋯ & A122 & 25 & A143 & A151 & 2 & A173 & 1 & A191 & A201 & good\\\\\n\t A13 & 42 & A30 & A49 & 6289 & A61 & A72 & 2 & A91 & A101 & ⋯ & A122 & 33 & A143 & A152 & 2 & A173 & 1 & A191 & A201 & good\\\\\n\t A14 & 13 & A32 & A43 & 1409 & A62 & A71 & 2 & A92 & A101 & ⋯ & A121 & 64 & A143 & A152 & 1 & A173 & 1 & A191 & A201 & good\\\\\n\t A11 & 24 & A32 & A41 & 6579 & A61 & A71 & 4 & A93 & A101 & ⋯ & A124 & 29 & A143 & A153 & 1 & A174 & 1 & A192 & A201 & good\\\\\n\t A12 & 24 & A34 & A43 & 1743 & A61 & A75 & 4 & A93 & A101 & ⋯ & A122 & 48 & A143 & A152 & 2 & A172 & 1 & A191 & A201 & good\\\\\n\t A14 & 12 & A34 & A46 & 3565 & A65 & A72 & 2 & A93 & A101 & ⋯ & A122 & 37 & A143 & A152 & 2 & A172 & 2 & A191 & A201 & good\\\\\n\t A14 & 15 & A31 & A43 & 1569 & A62 & A75 & 4 & A93 & A101 & ⋯ & A123 & 34 & A141 & A152 & 1 & A172 & 2 & A191 & A201 & good\\\\\n\t A11 & 18 & A32 & A43 & 1936 & A65 & A74 & 2 & A94 & A101 & ⋯ & A123 & 23 & A143 & A151 & 2 & A172 & 1 & A191 & A201 & good\\\\\n\t A11 & 36 & A32 & A42 & 3959 & A61 & A71 & 4 & A93 & A101 & ⋯ & A122 & 30 & A143 & A152 & 1 & A174 & 1 & A192 & A201 & good\\\\\n\t A14 & 12 & A32 & A40 & 2390 & A65 & A75 & 4 & A93 & A101 & ⋯ & A123 & 50 & A143 & A152 & 1 & A173 & 1 & A192 & A201 & good\\\\\n\t A14 & 12 & A32 & A42 & 1736 & A61 & A74 & 3 & A92 & A101 & ⋯ & A121 & 31 & A143 & A152 & 1 & A172 & 1 & A191 & A201 & good\\\\\n\t A11 & 30 & A32 & A41 & 3857 & A61 & A73 & 4 & A91 & A101 & ⋯ & A122 & 40 & A143 & A152 & 1 & A174 & 1 & A192 & A201 & good\\\\\n\t A14 & 12 & A32 & A43 &  804 & A61 & A75 & 4 & A93 & A101 & ⋯ & A123 & 38 & A143 & A152 & 1 & A173 & 1 & A191 & A201 & good\\\\\n\t A11 & 45 & A32 & A43 & 1845 & A61 & A73 & 4 & A93 & A101 & ⋯ & A124 & 23 & A143 & A153 & 1 & A173 & 1 & A192 & A201 & bad \\\\\n\t A12 & 45 & A34 & A41 & 4576 & A62 & A71 & 3 & A93 & A101 & ⋯ & A123 & 27 & A143 & A152 & 1 & A173 & 1 & A191 & A201 & good\\\\\n\\end{tabular}\n",
            "text/markdown": "\nA data.frame: 1000 × 21\n\n| check &lt;chr&gt; | duration &lt;int&gt; | history &lt;chr&gt; | purpose &lt;chr&gt; | credit &lt;int&gt; | savings &lt;chr&gt; | employment &lt;chr&gt; | installment &lt;int&gt; | personal &lt;chr&gt; | debtors &lt;chr&gt; | ⋯ ⋯ | property &lt;chr&gt; | age &lt;int&gt; | others &lt;chr&gt; | housing &lt;chr&gt; | numcredits &lt;fct&gt; | job &lt;chr&gt; | residpeople &lt;fct&gt; | telephone &lt;chr&gt; | foreign &lt;chr&gt; | y &lt;chr&gt; |\n|---|---|---|---|---|---|---|---|---|---|---|---|---|---|---|---|---|---|---|---|---|\n| A11 |  6 | A34 | A43 |  1169 | A65 | A75 | 4 | A93 | A101 | ⋯ | A121 | 67 | A143 | A152 | 2 | A173 | 1 | A192 | A201 | good |\n| A12 | 48 | A32 | A43 |  5951 | A61 | A73 | 2 | A92 | A101 | ⋯ | A121 | 22 | A143 | A152 | 1 | A173 | 1 | A191 | A201 | bad  |\n| A14 | 12 | A34 | A46 |  2096 | A61 | A74 | 2 | A93 | A101 | ⋯ | A121 | 49 | A143 | A152 | 1 | A172 | 2 | A191 | A201 | good |\n| A11 | 42 | A32 | A42 |  7882 | A61 | A74 | 2 | A93 | A103 | ⋯ | A122 | 45 | A143 | A153 | 1 | A173 | 2 | A191 | A201 | good |\n| A11 | 24 | A33 | A40 |  4870 | A61 | A73 | 3 | A93 | A101 | ⋯ | A124 | 53 | A143 | A153 | 2 | A173 | 2 | A191 | A201 | bad  |\n| A14 | 36 | A32 | A46 |  9055 | A65 | A73 | 2 | A93 | A101 | ⋯ | A124 | 35 | A143 | A153 | 1 | A172 | 2 | A192 | A201 | good |\n| A14 | 24 | A32 | A42 |  2835 | A63 | A75 | 3 | A93 | A101 | ⋯ | A122 | 53 | A143 | A152 | 1 | A173 | 1 | A191 | A201 | good |\n| A12 | 36 | A32 | A41 |  6948 | A61 | A73 | 2 | A93 | A101 | ⋯ | A123 | 35 | A143 | A151 | 1 | A174 | 1 | A192 | A201 | good |\n| A14 | 12 | A32 | A43 |  3059 | A64 | A74 | 2 | A91 | A101 | ⋯ | A121 | 61 | A143 | A152 | 1 | A172 | 1 | A191 | A201 | good |\n| A12 | 30 | A34 | A40 |  5234 | A61 | A71 | 4 | A94 | A101 | ⋯ | A123 | 28 | A143 | A152 | 2 | A174 | 1 | A191 | A201 | bad  |\n| A12 | 12 | A32 | A40 |  1295 | A61 | A72 | 3 | A92 | A101 | ⋯ | A123 | 25 | A143 | A151 | 1 | A173 | 1 | A191 | A201 | bad  |\n| A11 | 48 | A32 | A49 |  4308 | A61 | A72 | 3 | A92 | A101 | ⋯ | A122 | 24 | A143 | A151 | 1 | A173 | 1 | A191 | A201 | bad  |\n| A12 | 12 | A32 | A43 |  1567 | A61 | A73 | 1 | A92 | A101 | ⋯ | A123 | 22 | A143 | A152 | 1 | A173 | 1 | A192 | A201 | good |\n| A11 | 24 | A34 | A40 |  1199 | A61 | A75 | 4 | A93 | A101 | ⋯ | A123 | 60 | A143 | A152 | 2 | A172 | 1 | A191 | A201 | bad  |\n| A11 | 15 | A32 | A40 |  1403 | A61 | A73 | 2 | A92 | A101 | ⋯ | A123 | 28 | A143 | A151 | 1 | A173 | 1 | A191 | A201 | good |\n| A11 | 24 | A32 | A43 |  1282 | A62 | A73 | 4 | A92 | A101 | ⋯ | A123 | 32 | A143 | A152 | 1 | A172 | 1 | A191 | A201 | bad  |\n| A14 | 24 | A34 | A43 |  2424 | A65 | A75 | 4 | A93 | A101 | ⋯ | A122 | 53 | A143 | A152 | 2 | A173 | 1 | A191 | A201 | good |\n| A11 | 30 | A30 | A49 |  8072 | A65 | A72 | 2 | A93 | A101 | ⋯ | A123 | 25 | A141 | A152 | 3 | A173 | 1 | A191 | A201 | good |\n| A12 | 24 | A32 | A41 | 12579 | A61 | A75 | 4 | A92 | A101 | ⋯ | A124 | 44 | A143 | A153 | 1 | A174 | 1 | A192 | A201 | bad  |\n| A14 | 24 | A32 | A43 |  3430 | A63 | A75 | 3 | A93 | A101 | ⋯ | A123 | 31 | A143 | A152 | 1 | A173 | 2 | A192 | A201 | good |\n| A14 |  9 | A34 | A40 |  2134 | A61 | A73 | 4 | A93 | A101 | ⋯ | A123 | 48 | A143 | A152 | 3 | A173 | 1 | A192 | A201 | good |\n| A11 |  6 | A32 | A43 |  2647 | A63 | A73 | 2 | A93 | A101 | ⋯ | A121 | 44 | A143 | A151 | 1 | A173 | 2 | A191 | A201 | good |\n| A11 | 10 | A34 | A40 |  2241 | A61 | A72 | 1 | A93 | A101 | ⋯ | A121 | 48 | A143 | A151 | 2 | A172 | 2 | A191 | A202 | good |\n| A12 | 12 | A34 | A41 |  1804 | A62 | A72 | 3 | A93 | A101 | ⋯ | A122 | 44 | A143 | A152 | 1 | A173 | 1 | A191 | A201 | good |\n| A14 | 10 | A34 | A42 |  2069 | A65 | A73 | 2 | A94 | A101 | ⋯ | A123 | 26 | A143 | A152 | 2 | A173 | 1 | A191 | A202 | good |\n| A11 |  6 | A32 | A42 |  1374 | A61 | A73 | 1 | A93 | A101 | ⋯ | A121 | 36 | A141 | A152 | 1 | A172 | 1 | A192 | A201 | good |\n| A14 |  6 | A30 | A43 |   426 | A61 | A75 | 4 | A94 | A101 | ⋯ | A123 | 39 | A143 | A152 | 1 | A172 | 1 | A191 | A201 | good |\n| A13 | 12 | A31 | A43 |   409 | A64 | A73 | 3 | A92 | A101 | ⋯ | A121 | 42 | A143 | A151 | 2 | A173 | 1 | A191 | A201 | good |\n| A12 |  7 | A32 | A43 |  2415 | A61 | A73 | 3 | A93 | A103 | ⋯ | A121 | 34 | A143 | A152 | 1 | A173 | 1 | A191 | A201 | good |\n| A11 | 60 | A33 | A49 |  6836 | A61 | A75 | 3 | A93 | A101 | ⋯ | A124 | 63 | A143 | A152 | 2 | A173 | 1 | A192 | A201 | bad  |\n| ⋮ | ⋮ | ⋮ | ⋮ | ⋮ | ⋮ | ⋮ | ⋮ | ⋮ | ⋮ | ⋱ | ⋮ | ⋮ | ⋮ | ⋮ | ⋮ | ⋮ | ⋮ | ⋮ | ⋮ | ⋮ |\n| A12 | 15 | A32 | A45 | 1514 | A62 | A73 | 4 | A93 | A103 | ⋯ | A121 | 22 | A143 | A152 | 1 | A173 | 1 | A191 | A201 | good |\n| A14 | 24 | A32 | A40 | 7393 | A61 | A73 | 1 | A93 | A101 | ⋯ | A122 | 43 | A143 | A152 | 1 | A172 | 2 | A191 | A201 | good |\n| A11 | 24 | A31 | A40 | 1193 | A61 | A71 | 1 | A92 | A102 | ⋯ | A124 | 29 | A143 | A151 | 2 | A171 | 1 | A191 | A201 | bad  |\n| A11 | 60 | A32 | A49 | 7297 | A61 | A75 | 4 | A93 | A102 | ⋯ | A124 | 36 | A143 | A151 | 1 | A173 | 1 | A191 | A201 | bad  |\n| A14 | 30 | A34 | A43 | 2831 | A61 | A73 | 4 | A92 | A101 | ⋯ | A123 | 33 | A143 | A152 | 1 | A173 | 1 | A192 | A201 | good |\n| A13 | 24 | A32 | A43 | 1258 | A63 | A73 | 3 | A92 | A101 | ⋯ | A123 | 57 | A143 | A152 | 1 | A172 | 1 | A191 | A201 | good |\n| A12 |  6 | A32 | A43 |  753 | A61 | A73 | 2 | A92 | A103 | ⋯ | A121 | 64 | A143 | A152 | 1 | A173 | 1 | A191 | A201 | good |\n| A12 | 18 | A33 | A49 | 2427 | A65 | A75 | 4 | A93 | A101 | ⋯ | A122 | 42 | A143 | A152 | 2 | A173 | 1 | A191 | A201 | good |\n| A14 | 24 | A33 | A40 | 2538 | A61 | A75 | 4 | A93 | A101 | ⋯ | A123 | 47 | A143 | A152 | 2 | A172 | 2 | A191 | A201 | bad  |\n| A12 | 15 | A31 | A40 | 1264 | A62 | A73 | 2 | A94 | A101 | ⋯ | A122 | 25 | A143 | A151 | 1 | A173 | 1 | A191 | A201 | bad  |\n| A12 | 30 | A34 | A42 | 8386 | A61 | A74 | 2 | A93 | A101 | ⋯ | A122 | 49 | A143 | A152 | 1 | A173 | 1 | A191 | A201 | bad  |\n| A14 | 48 | A32 | A49 | 4844 | A61 | A71 | 3 | A93 | A101 | ⋯ | A123 | 33 | A141 | A151 | 1 | A174 | 1 | A192 | A201 | bad  |\n| A13 | 21 | A32 | A40 | 2923 | A62 | A73 | 1 | A92 | A101 | ⋯ | A123 | 28 | A141 | A152 | 1 | A174 | 1 | A192 | A201 | good |\n| A11 | 36 | A32 | A41 | 8229 | A61 | A73 | 2 | A93 | A101 | ⋯ | A122 | 26 | A143 | A152 | 1 | A173 | 2 | A191 | A201 | bad  |\n| A14 | 24 | A34 | A42 | 2028 | A61 | A74 | 2 | A93 | A101 | ⋯ | A122 | 30 | A143 | A152 | 2 | A172 | 1 | A191 | A201 | good |\n| A11 | 15 | A34 | A42 | 1433 | A61 | A73 | 4 | A92 | A101 | ⋯ | A122 | 25 | A143 | A151 | 2 | A173 | 1 | A191 | A201 | good |\n| A13 | 42 | A30 | A49 | 6289 | A61 | A72 | 2 | A91 | A101 | ⋯ | A122 | 33 | A143 | A152 | 2 | A173 | 1 | A191 | A201 | good |\n| A14 | 13 | A32 | A43 | 1409 | A62 | A71 | 2 | A92 | A101 | ⋯ | A121 | 64 | A143 | A152 | 1 | A173 | 1 | A191 | A201 | good |\n| A11 | 24 | A32 | A41 | 6579 | A61 | A71 | 4 | A93 | A101 | ⋯ | A124 | 29 | A143 | A153 | 1 | A174 | 1 | A192 | A201 | good |\n| A12 | 24 | A34 | A43 | 1743 | A61 | A75 | 4 | A93 | A101 | ⋯ | A122 | 48 | A143 | A152 | 2 | A172 | 1 | A191 | A201 | good |\n| A14 | 12 | A34 | A46 | 3565 | A65 | A72 | 2 | A93 | A101 | ⋯ | A122 | 37 | A143 | A152 | 2 | A172 | 2 | A191 | A201 | good |\n| A14 | 15 | A31 | A43 | 1569 | A62 | A75 | 4 | A93 | A101 | ⋯ | A123 | 34 | A141 | A152 | 1 | A172 | 2 | A191 | A201 | good |\n| A11 | 18 | A32 | A43 | 1936 | A65 | A74 | 2 | A94 | A101 | ⋯ | A123 | 23 | A143 | A151 | 2 | A172 | 1 | A191 | A201 | good |\n| A11 | 36 | A32 | A42 | 3959 | A61 | A71 | 4 | A93 | A101 | ⋯ | A122 | 30 | A143 | A152 | 1 | A174 | 1 | A192 | A201 | good |\n| A14 | 12 | A32 | A40 | 2390 | A65 | A75 | 4 | A93 | A101 | ⋯ | A123 | 50 | A143 | A152 | 1 | A173 | 1 | A192 | A201 | good |\n| A14 | 12 | A32 | A42 | 1736 | A61 | A74 | 3 | A92 | A101 | ⋯ | A121 | 31 | A143 | A152 | 1 | A172 | 1 | A191 | A201 | good |\n| A11 | 30 | A32 | A41 | 3857 | A61 | A73 | 4 | A91 | A101 | ⋯ | A122 | 40 | A143 | A152 | 1 | A174 | 1 | A192 | A201 | good |\n| A14 | 12 | A32 | A43 |  804 | A61 | A75 | 4 | A93 | A101 | ⋯ | A123 | 38 | A143 | A152 | 1 | A173 | 1 | A191 | A201 | good |\n| A11 | 45 | A32 | A43 | 1845 | A61 | A73 | 4 | A93 | A101 | ⋯ | A124 | 23 | A143 | A153 | 1 | A173 | 1 | A192 | A201 | bad  |\n| A12 | 45 | A34 | A41 | 4576 | A62 | A71 | 3 | A93 | A101 | ⋯ | A123 | 27 | A143 | A152 | 1 | A173 | 1 | A191 | A201 | good |\n\n",
            "text/html": [
              "<table class=\"dataframe\">\n",
              "<caption>A data.frame: 1000 × 21</caption>\n",
              "<thead>\n",
              "\t<tr><th scope=col>check</th><th scope=col>duration</th><th scope=col>history</th><th scope=col>purpose</th><th scope=col>credit</th><th scope=col>savings</th><th scope=col>employment</th><th scope=col>installment</th><th scope=col>personal</th><th scope=col>debtors</th><th scope=col>⋯</th><th scope=col>property</th><th scope=col>age</th><th scope=col>others</th><th scope=col>housing</th><th scope=col>numcredits</th><th scope=col>job</th><th scope=col>residpeople</th><th scope=col>telephone</th><th scope=col>foreign</th><th scope=col>y</th></tr>\n",
              "\t<tr><th scope=col>&lt;chr&gt;</th><th scope=col>&lt;int&gt;</th><th scope=col>&lt;chr&gt;</th><th scope=col>&lt;chr&gt;</th><th scope=col>&lt;int&gt;</th><th scope=col>&lt;chr&gt;</th><th scope=col>&lt;chr&gt;</th><th scope=col>&lt;int&gt;</th><th scope=col>&lt;chr&gt;</th><th scope=col>&lt;chr&gt;</th><th scope=col>⋯</th><th scope=col>&lt;chr&gt;</th><th scope=col>&lt;int&gt;</th><th scope=col>&lt;chr&gt;</th><th scope=col>&lt;chr&gt;</th><th scope=col>&lt;fct&gt;</th><th scope=col>&lt;chr&gt;</th><th scope=col>&lt;fct&gt;</th><th scope=col>&lt;chr&gt;</th><th scope=col>&lt;chr&gt;</th><th scope=col>&lt;chr&gt;</th></tr>\n",
              "</thead>\n",
              "<tbody>\n",
              "\t<tr><td>A11</td><td> 6</td><td>A34</td><td>A43</td><td> 1169</td><td>A65</td><td>A75</td><td>4</td><td>A93</td><td>A101</td><td>⋯</td><td>A121</td><td>67</td><td>A143</td><td>A152</td><td>2</td><td>A173</td><td>1</td><td>A192</td><td>A201</td><td>good</td></tr>\n",
              "\t<tr><td>A12</td><td>48</td><td>A32</td><td>A43</td><td> 5951</td><td>A61</td><td>A73</td><td>2</td><td>A92</td><td>A101</td><td>⋯</td><td>A121</td><td>22</td><td>A143</td><td>A152</td><td>1</td><td>A173</td><td>1</td><td>A191</td><td>A201</td><td>bad </td></tr>\n",
              "\t<tr><td>A14</td><td>12</td><td>A34</td><td>A46</td><td> 2096</td><td>A61</td><td>A74</td><td>2</td><td>A93</td><td>A101</td><td>⋯</td><td>A121</td><td>49</td><td>A143</td><td>A152</td><td>1</td><td>A172</td><td>2</td><td>A191</td><td>A201</td><td>good</td></tr>\n",
              "\t<tr><td>A11</td><td>42</td><td>A32</td><td>A42</td><td> 7882</td><td>A61</td><td>A74</td><td>2</td><td>A93</td><td>A103</td><td>⋯</td><td>A122</td><td>45</td><td>A143</td><td>A153</td><td>1</td><td>A173</td><td>2</td><td>A191</td><td>A201</td><td>good</td></tr>\n",
              "\t<tr><td>A11</td><td>24</td><td>A33</td><td>A40</td><td> 4870</td><td>A61</td><td>A73</td><td>3</td><td>A93</td><td>A101</td><td>⋯</td><td>A124</td><td>53</td><td>A143</td><td>A153</td><td>2</td><td>A173</td><td>2</td><td>A191</td><td>A201</td><td>bad </td></tr>\n",
              "\t<tr><td>A14</td><td>36</td><td>A32</td><td>A46</td><td> 9055</td><td>A65</td><td>A73</td><td>2</td><td>A93</td><td>A101</td><td>⋯</td><td>A124</td><td>35</td><td>A143</td><td>A153</td><td>1</td><td>A172</td><td>2</td><td>A192</td><td>A201</td><td>good</td></tr>\n",
              "\t<tr><td>A14</td><td>24</td><td>A32</td><td>A42</td><td> 2835</td><td>A63</td><td>A75</td><td>3</td><td>A93</td><td>A101</td><td>⋯</td><td>A122</td><td>53</td><td>A143</td><td>A152</td><td>1</td><td>A173</td><td>1</td><td>A191</td><td>A201</td><td>good</td></tr>\n",
              "\t<tr><td>A12</td><td>36</td><td>A32</td><td>A41</td><td> 6948</td><td>A61</td><td>A73</td><td>2</td><td>A93</td><td>A101</td><td>⋯</td><td>A123</td><td>35</td><td>A143</td><td>A151</td><td>1</td><td>A174</td><td>1</td><td>A192</td><td>A201</td><td>good</td></tr>\n",
              "\t<tr><td>A14</td><td>12</td><td>A32</td><td>A43</td><td> 3059</td><td>A64</td><td>A74</td><td>2</td><td>A91</td><td>A101</td><td>⋯</td><td>A121</td><td>61</td><td>A143</td><td>A152</td><td>1</td><td>A172</td><td>1</td><td>A191</td><td>A201</td><td>good</td></tr>\n",
              "\t<tr><td>A12</td><td>30</td><td>A34</td><td>A40</td><td> 5234</td><td>A61</td><td>A71</td><td>4</td><td>A94</td><td>A101</td><td>⋯</td><td>A123</td><td>28</td><td>A143</td><td>A152</td><td>2</td><td>A174</td><td>1</td><td>A191</td><td>A201</td><td>bad </td></tr>\n",
              "\t<tr><td>A12</td><td>12</td><td>A32</td><td>A40</td><td> 1295</td><td>A61</td><td>A72</td><td>3</td><td>A92</td><td>A101</td><td>⋯</td><td>A123</td><td>25</td><td>A143</td><td>A151</td><td>1</td><td>A173</td><td>1</td><td>A191</td><td>A201</td><td>bad </td></tr>\n",
              "\t<tr><td>A11</td><td>48</td><td>A32</td><td>A49</td><td> 4308</td><td>A61</td><td>A72</td><td>3</td><td>A92</td><td>A101</td><td>⋯</td><td>A122</td><td>24</td><td>A143</td><td>A151</td><td>1</td><td>A173</td><td>1</td><td>A191</td><td>A201</td><td>bad </td></tr>\n",
              "\t<tr><td>A12</td><td>12</td><td>A32</td><td>A43</td><td> 1567</td><td>A61</td><td>A73</td><td>1</td><td>A92</td><td>A101</td><td>⋯</td><td>A123</td><td>22</td><td>A143</td><td>A152</td><td>1</td><td>A173</td><td>1</td><td>A192</td><td>A201</td><td>good</td></tr>\n",
              "\t<tr><td>A11</td><td>24</td><td>A34</td><td>A40</td><td> 1199</td><td>A61</td><td>A75</td><td>4</td><td>A93</td><td>A101</td><td>⋯</td><td>A123</td><td>60</td><td>A143</td><td>A152</td><td>2</td><td>A172</td><td>1</td><td>A191</td><td>A201</td><td>bad </td></tr>\n",
              "\t<tr><td>A11</td><td>15</td><td>A32</td><td>A40</td><td> 1403</td><td>A61</td><td>A73</td><td>2</td><td>A92</td><td>A101</td><td>⋯</td><td>A123</td><td>28</td><td>A143</td><td>A151</td><td>1</td><td>A173</td><td>1</td><td>A191</td><td>A201</td><td>good</td></tr>\n",
              "\t<tr><td>A11</td><td>24</td><td>A32</td><td>A43</td><td> 1282</td><td>A62</td><td>A73</td><td>4</td><td>A92</td><td>A101</td><td>⋯</td><td>A123</td><td>32</td><td>A143</td><td>A152</td><td>1</td><td>A172</td><td>1</td><td>A191</td><td>A201</td><td>bad </td></tr>\n",
              "\t<tr><td>A14</td><td>24</td><td>A34</td><td>A43</td><td> 2424</td><td>A65</td><td>A75</td><td>4</td><td>A93</td><td>A101</td><td>⋯</td><td>A122</td><td>53</td><td>A143</td><td>A152</td><td>2</td><td>A173</td><td>1</td><td>A191</td><td>A201</td><td>good</td></tr>\n",
              "\t<tr><td>A11</td><td>30</td><td>A30</td><td>A49</td><td> 8072</td><td>A65</td><td>A72</td><td>2</td><td>A93</td><td>A101</td><td>⋯</td><td>A123</td><td>25</td><td>A141</td><td>A152</td><td>3</td><td>A173</td><td>1</td><td>A191</td><td>A201</td><td>good</td></tr>\n",
              "\t<tr><td>A12</td><td>24</td><td>A32</td><td>A41</td><td>12579</td><td>A61</td><td>A75</td><td>4</td><td>A92</td><td>A101</td><td>⋯</td><td>A124</td><td>44</td><td>A143</td><td>A153</td><td>1</td><td>A174</td><td>1</td><td>A192</td><td>A201</td><td>bad </td></tr>\n",
              "\t<tr><td>A14</td><td>24</td><td>A32</td><td>A43</td><td> 3430</td><td>A63</td><td>A75</td><td>3</td><td>A93</td><td>A101</td><td>⋯</td><td>A123</td><td>31</td><td>A143</td><td>A152</td><td>1</td><td>A173</td><td>2</td><td>A192</td><td>A201</td><td>good</td></tr>\n",
              "\t<tr><td>A14</td><td> 9</td><td>A34</td><td>A40</td><td> 2134</td><td>A61</td><td>A73</td><td>4</td><td>A93</td><td>A101</td><td>⋯</td><td>A123</td><td>48</td><td>A143</td><td>A152</td><td>3</td><td>A173</td><td>1</td><td>A192</td><td>A201</td><td>good</td></tr>\n",
              "\t<tr><td>A11</td><td> 6</td><td>A32</td><td>A43</td><td> 2647</td><td>A63</td><td>A73</td><td>2</td><td>A93</td><td>A101</td><td>⋯</td><td>A121</td><td>44</td><td>A143</td><td>A151</td><td>1</td><td>A173</td><td>2</td><td>A191</td><td>A201</td><td>good</td></tr>\n",
              "\t<tr><td>A11</td><td>10</td><td>A34</td><td>A40</td><td> 2241</td><td>A61</td><td>A72</td><td>1</td><td>A93</td><td>A101</td><td>⋯</td><td>A121</td><td>48</td><td>A143</td><td>A151</td><td>2</td><td>A172</td><td>2</td><td>A191</td><td>A202</td><td>good</td></tr>\n",
              "\t<tr><td>A12</td><td>12</td><td>A34</td><td>A41</td><td> 1804</td><td>A62</td><td>A72</td><td>3</td><td>A93</td><td>A101</td><td>⋯</td><td>A122</td><td>44</td><td>A143</td><td>A152</td><td>1</td><td>A173</td><td>1</td><td>A191</td><td>A201</td><td>good</td></tr>\n",
              "\t<tr><td>A14</td><td>10</td><td>A34</td><td>A42</td><td> 2069</td><td>A65</td><td>A73</td><td>2</td><td>A94</td><td>A101</td><td>⋯</td><td>A123</td><td>26</td><td>A143</td><td>A152</td><td>2</td><td>A173</td><td>1</td><td>A191</td><td>A202</td><td>good</td></tr>\n",
              "\t<tr><td>A11</td><td> 6</td><td>A32</td><td>A42</td><td> 1374</td><td>A61</td><td>A73</td><td>1</td><td>A93</td><td>A101</td><td>⋯</td><td>A121</td><td>36</td><td>A141</td><td>A152</td><td>1</td><td>A172</td><td>1</td><td>A192</td><td>A201</td><td>good</td></tr>\n",
              "\t<tr><td>A14</td><td> 6</td><td>A30</td><td>A43</td><td>  426</td><td>A61</td><td>A75</td><td>4</td><td>A94</td><td>A101</td><td>⋯</td><td>A123</td><td>39</td><td>A143</td><td>A152</td><td>1</td><td>A172</td><td>1</td><td>A191</td><td>A201</td><td>good</td></tr>\n",
              "\t<tr><td>A13</td><td>12</td><td>A31</td><td>A43</td><td>  409</td><td>A64</td><td>A73</td><td>3</td><td>A92</td><td>A101</td><td>⋯</td><td>A121</td><td>42</td><td>A143</td><td>A151</td><td>2</td><td>A173</td><td>1</td><td>A191</td><td>A201</td><td>good</td></tr>\n",
              "\t<tr><td>A12</td><td> 7</td><td>A32</td><td>A43</td><td> 2415</td><td>A61</td><td>A73</td><td>3</td><td>A93</td><td>A103</td><td>⋯</td><td>A121</td><td>34</td><td>A143</td><td>A152</td><td>1</td><td>A173</td><td>1</td><td>A191</td><td>A201</td><td>good</td></tr>\n",
              "\t<tr><td>A11</td><td>60</td><td>A33</td><td>A49</td><td> 6836</td><td>A61</td><td>A75</td><td>3</td><td>A93</td><td>A101</td><td>⋯</td><td>A124</td><td>63</td><td>A143</td><td>A152</td><td>2</td><td>A173</td><td>1</td><td>A192</td><td>A201</td><td>bad </td></tr>\n",
              "\t<tr><td>⋮</td><td>⋮</td><td>⋮</td><td>⋮</td><td>⋮</td><td>⋮</td><td>⋮</td><td>⋮</td><td>⋮</td><td>⋮</td><td>⋱</td><td>⋮</td><td>⋮</td><td>⋮</td><td>⋮</td><td>⋮</td><td>⋮</td><td>⋮</td><td>⋮</td><td>⋮</td><td>⋮</td></tr>\n",
              "\t<tr><td>A12</td><td>15</td><td>A32</td><td>A45</td><td>1514</td><td>A62</td><td>A73</td><td>4</td><td>A93</td><td>A103</td><td>⋯</td><td>A121</td><td>22</td><td>A143</td><td>A152</td><td>1</td><td>A173</td><td>1</td><td>A191</td><td>A201</td><td>good</td></tr>\n",
              "\t<tr><td>A14</td><td>24</td><td>A32</td><td>A40</td><td>7393</td><td>A61</td><td>A73</td><td>1</td><td>A93</td><td>A101</td><td>⋯</td><td>A122</td><td>43</td><td>A143</td><td>A152</td><td>1</td><td>A172</td><td>2</td><td>A191</td><td>A201</td><td>good</td></tr>\n",
              "\t<tr><td>A11</td><td>24</td><td>A31</td><td>A40</td><td>1193</td><td>A61</td><td>A71</td><td>1</td><td>A92</td><td>A102</td><td>⋯</td><td>A124</td><td>29</td><td>A143</td><td>A151</td><td>2</td><td>A171</td><td>1</td><td>A191</td><td>A201</td><td>bad </td></tr>\n",
              "\t<tr><td>A11</td><td>60</td><td>A32</td><td>A49</td><td>7297</td><td>A61</td><td>A75</td><td>4</td><td>A93</td><td>A102</td><td>⋯</td><td>A124</td><td>36</td><td>A143</td><td>A151</td><td>1</td><td>A173</td><td>1</td><td>A191</td><td>A201</td><td>bad </td></tr>\n",
              "\t<tr><td>A14</td><td>30</td><td>A34</td><td>A43</td><td>2831</td><td>A61</td><td>A73</td><td>4</td><td>A92</td><td>A101</td><td>⋯</td><td>A123</td><td>33</td><td>A143</td><td>A152</td><td>1</td><td>A173</td><td>1</td><td>A192</td><td>A201</td><td>good</td></tr>\n",
              "\t<tr><td>A13</td><td>24</td><td>A32</td><td>A43</td><td>1258</td><td>A63</td><td>A73</td><td>3</td><td>A92</td><td>A101</td><td>⋯</td><td>A123</td><td>57</td><td>A143</td><td>A152</td><td>1</td><td>A172</td><td>1</td><td>A191</td><td>A201</td><td>good</td></tr>\n",
              "\t<tr><td>A12</td><td> 6</td><td>A32</td><td>A43</td><td> 753</td><td>A61</td><td>A73</td><td>2</td><td>A92</td><td>A103</td><td>⋯</td><td>A121</td><td>64</td><td>A143</td><td>A152</td><td>1</td><td>A173</td><td>1</td><td>A191</td><td>A201</td><td>good</td></tr>\n",
              "\t<tr><td>A12</td><td>18</td><td>A33</td><td>A49</td><td>2427</td><td>A65</td><td>A75</td><td>4</td><td>A93</td><td>A101</td><td>⋯</td><td>A122</td><td>42</td><td>A143</td><td>A152</td><td>2</td><td>A173</td><td>1</td><td>A191</td><td>A201</td><td>good</td></tr>\n",
              "\t<tr><td>A14</td><td>24</td><td>A33</td><td>A40</td><td>2538</td><td>A61</td><td>A75</td><td>4</td><td>A93</td><td>A101</td><td>⋯</td><td>A123</td><td>47</td><td>A143</td><td>A152</td><td>2</td><td>A172</td><td>2</td><td>A191</td><td>A201</td><td>bad </td></tr>\n",
              "\t<tr><td>A12</td><td>15</td><td>A31</td><td>A40</td><td>1264</td><td>A62</td><td>A73</td><td>2</td><td>A94</td><td>A101</td><td>⋯</td><td>A122</td><td>25</td><td>A143</td><td>A151</td><td>1</td><td>A173</td><td>1</td><td>A191</td><td>A201</td><td>bad </td></tr>\n",
              "\t<tr><td>A12</td><td>30</td><td>A34</td><td>A42</td><td>8386</td><td>A61</td><td>A74</td><td>2</td><td>A93</td><td>A101</td><td>⋯</td><td>A122</td><td>49</td><td>A143</td><td>A152</td><td>1</td><td>A173</td><td>1</td><td>A191</td><td>A201</td><td>bad </td></tr>\n",
              "\t<tr><td>A14</td><td>48</td><td>A32</td><td>A49</td><td>4844</td><td>A61</td><td>A71</td><td>3</td><td>A93</td><td>A101</td><td>⋯</td><td>A123</td><td>33</td><td>A141</td><td>A151</td><td>1</td><td>A174</td><td>1</td><td>A192</td><td>A201</td><td>bad </td></tr>\n",
              "\t<tr><td>A13</td><td>21</td><td>A32</td><td>A40</td><td>2923</td><td>A62</td><td>A73</td><td>1</td><td>A92</td><td>A101</td><td>⋯</td><td>A123</td><td>28</td><td>A141</td><td>A152</td><td>1</td><td>A174</td><td>1</td><td>A192</td><td>A201</td><td>good</td></tr>\n",
              "\t<tr><td>A11</td><td>36</td><td>A32</td><td>A41</td><td>8229</td><td>A61</td><td>A73</td><td>2</td><td>A93</td><td>A101</td><td>⋯</td><td>A122</td><td>26</td><td>A143</td><td>A152</td><td>1</td><td>A173</td><td>2</td><td>A191</td><td>A201</td><td>bad </td></tr>\n",
              "\t<tr><td>A14</td><td>24</td><td>A34</td><td>A42</td><td>2028</td><td>A61</td><td>A74</td><td>2</td><td>A93</td><td>A101</td><td>⋯</td><td>A122</td><td>30</td><td>A143</td><td>A152</td><td>2</td><td>A172</td><td>1</td><td>A191</td><td>A201</td><td>good</td></tr>\n",
              "\t<tr><td>A11</td><td>15</td><td>A34</td><td>A42</td><td>1433</td><td>A61</td><td>A73</td><td>4</td><td>A92</td><td>A101</td><td>⋯</td><td>A122</td><td>25</td><td>A143</td><td>A151</td><td>2</td><td>A173</td><td>1</td><td>A191</td><td>A201</td><td>good</td></tr>\n",
              "\t<tr><td>A13</td><td>42</td><td>A30</td><td>A49</td><td>6289</td><td>A61</td><td>A72</td><td>2</td><td>A91</td><td>A101</td><td>⋯</td><td>A122</td><td>33</td><td>A143</td><td>A152</td><td>2</td><td>A173</td><td>1</td><td>A191</td><td>A201</td><td>good</td></tr>\n",
              "\t<tr><td>A14</td><td>13</td><td>A32</td><td>A43</td><td>1409</td><td>A62</td><td>A71</td><td>2</td><td>A92</td><td>A101</td><td>⋯</td><td>A121</td><td>64</td><td>A143</td><td>A152</td><td>1</td><td>A173</td><td>1</td><td>A191</td><td>A201</td><td>good</td></tr>\n",
              "\t<tr><td>A11</td><td>24</td><td>A32</td><td>A41</td><td>6579</td><td>A61</td><td>A71</td><td>4</td><td>A93</td><td>A101</td><td>⋯</td><td>A124</td><td>29</td><td>A143</td><td>A153</td><td>1</td><td>A174</td><td>1</td><td>A192</td><td>A201</td><td>good</td></tr>\n",
              "\t<tr><td>A12</td><td>24</td><td>A34</td><td>A43</td><td>1743</td><td>A61</td><td>A75</td><td>4</td><td>A93</td><td>A101</td><td>⋯</td><td>A122</td><td>48</td><td>A143</td><td>A152</td><td>2</td><td>A172</td><td>1</td><td>A191</td><td>A201</td><td>good</td></tr>\n",
              "\t<tr><td>A14</td><td>12</td><td>A34</td><td>A46</td><td>3565</td><td>A65</td><td>A72</td><td>2</td><td>A93</td><td>A101</td><td>⋯</td><td>A122</td><td>37</td><td>A143</td><td>A152</td><td>2</td><td>A172</td><td>2</td><td>A191</td><td>A201</td><td>good</td></tr>\n",
              "\t<tr><td>A14</td><td>15</td><td>A31</td><td>A43</td><td>1569</td><td>A62</td><td>A75</td><td>4</td><td>A93</td><td>A101</td><td>⋯</td><td>A123</td><td>34</td><td>A141</td><td>A152</td><td>1</td><td>A172</td><td>2</td><td>A191</td><td>A201</td><td>good</td></tr>\n",
              "\t<tr><td>A11</td><td>18</td><td>A32</td><td>A43</td><td>1936</td><td>A65</td><td>A74</td><td>2</td><td>A94</td><td>A101</td><td>⋯</td><td>A123</td><td>23</td><td>A143</td><td>A151</td><td>2</td><td>A172</td><td>1</td><td>A191</td><td>A201</td><td>good</td></tr>\n",
              "\t<tr><td>A11</td><td>36</td><td>A32</td><td>A42</td><td>3959</td><td>A61</td><td>A71</td><td>4</td><td>A93</td><td>A101</td><td>⋯</td><td>A122</td><td>30</td><td>A143</td><td>A152</td><td>1</td><td>A174</td><td>1</td><td>A192</td><td>A201</td><td>good</td></tr>\n",
              "\t<tr><td>A14</td><td>12</td><td>A32</td><td>A40</td><td>2390</td><td>A65</td><td>A75</td><td>4</td><td>A93</td><td>A101</td><td>⋯</td><td>A123</td><td>50</td><td>A143</td><td>A152</td><td>1</td><td>A173</td><td>1</td><td>A192</td><td>A201</td><td>good</td></tr>\n",
              "\t<tr><td>A14</td><td>12</td><td>A32</td><td>A42</td><td>1736</td><td>A61</td><td>A74</td><td>3</td><td>A92</td><td>A101</td><td>⋯</td><td>A121</td><td>31</td><td>A143</td><td>A152</td><td>1</td><td>A172</td><td>1</td><td>A191</td><td>A201</td><td>good</td></tr>\n",
              "\t<tr><td>A11</td><td>30</td><td>A32</td><td>A41</td><td>3857</td><td>A61</td><td>A73</td><td>4</td><td>A91</td><td>A101</td><td>⋯</td><td>A122</td><td>40</td><td>A143</td><td>A152</td><td>1</td><td>A174</td><td>1</td><td>A192</td><td>A201</td><td>good</td></tr>\n",
              "\t<tr><td>A14</td><td>12</td><td>A32</td><td>A43</td><td> 804</td><td>A61</td><td>A75</td><td>4</td><td>A93</td><td>A101</td><td>⋯</td><td>A123</td><td>38</td><td>A143</td><td>A152</td><td>1</td><td>A173</td><td>1</td><td>A191</td><td>A201</td><td>good</td></tr>\n",
              "\t<tr><td>A11</td><td>45</td><td>A32</td><td>A43</td><td>1845</td><td>A61</td><td>A73</td><td>4</td><td>A93</td><td>A101</td><td>⋯</td><td>A124</td><td>23</td><td>A143</td><td>A153</td><td>1</td><td>A173</td><td>1</td><td>A192</td><td>A201</td><td>bad </td></tr>\n",
              "\t<tr><td>A12</td><td>45</td><td>A34</td><td>A41</td><td>4576</td><td>A62</td><td>A71</td><td>3</td><td>A93</td><td>A101</td><td>⋯</td><td>A123</td><td>27</td><td>A143</td><td>A152</td><td>1</td><td>A173</td><td>1</td><td>A191</td><td>A201</td><td>good</td></tr>\n",
              "</tbody>\n",
              "</table>\n"
            ]
          },
          "metadata": {
            "tags": []
          }
        }
      ]
    },
    {
      "cell_type": "code",
      "metadata": {
        "id": "vs7GHZ5W3Zjd"
      },
      "source": [
        "german$numcredits = factor(german$numcredits)\n",
        "german$residence = factor(german$residence)\n",
        "german$residpeople = factor(german$residpeople)"
      ],
      "execution_count": 8,
      "outputs": []
    },
    {
      "cell_type": "code",
      "metadata": {
        "id": "ty5s61br34LN"
      },
      "source": [
        "german$y = factor(german$y)\n",
        "german$y = relevel(german$y, ref=\"bad\")"
      ],
      "execution_count": 14,
      "outputs": []
    },
    {
      "cell_type": "code",
      "metadata": {
        "colab": {
          "base_uri": "https://localhost:8080/",
          "height": 773
        },
        "id": "Dvt51P9p4gXZ",
        "outputId": "8cf24dd0-c49c-43ce-ce0c-318f55609c33"
      },
      "source": [
        "summary(german)"
      ],
      "execution_count": 15,
      "outputs": [
        {
          "output_type": "display_data",
          "data": {
            "text/plain": [
              "    check              duration      history            purpose         \n",
              " Length:1000        Min.   : 4.0   Length:1000        Length:1000       \n",
              " Class :character   1st Qu.:12.0   Class :character   Class :character  \n",
              " Mode  :character   Median :18.0   Mode  :character   Mode  :character  \n",
              "                    Mean   :20.9                                        \n",
              "                    3rd Qu.:24.0                                        \n",
              "                    Max.   :72.0                                        \n",
              "     credit        savings           employment         installment   \n",
              " Min.   :  250   Length:1000        Length:1000        Min.   :1.000  \n",
              " 1st Qu.: 1366   Class :character   Class :character   1st Qu.:2.000  \n",
              " Median : 2320   Mode  :character   Mode  :character   Median :3.000  \n",
              " Mean   : 3271                                         Mean   :2.973  \n",
              " 3rd Qu.: 3972                                         3rd Qu.:4.000  \n",
              " Max.   :18424                                         Max.   :4.000  \n",
              "   personal           debtors          residence   property        \n",
              " Length:1000        Length:1000        1:130     Length:1000       \n",
              " Class :character   Class :character   2:308     Class :character  \n",
              " Mode  :character   Mode  :character   3:149     Mode  :character  \n",
              "                                       4:413                       \n",
              "                                                                   \n",
              "                                                                   \n",
              "      age           others            housing          numcredits\n",
              " Min.   :19.00   Length:1000        Length:1000        1:633     \n",
              " 1st Qu.:27.00   Class :character   Class :character   2:333     \n",
              " Median :33.00   Mode  :character   Mode  :character   3: 28     \n",
              " Mean   :35.55                                         4:  6     \n",
              " 3rd Qu.:42.00                                                   \n",
              " Max.   :75.00                                                   \n",
              "     job            residpeople  telephone           foreign         \n",
              " Length:1000        1:845       Length:1000        Length:1000       \n",
              " Class :character   2:155       Class :character   Class :character  \n",
              " Mode  :character               Mode  :character   Mode  :character  \n",
              "                                                                     \n",
              "                                                                     \n",
              "                                                                     \n",
              "    y      \n",
              " bad :300  \n",
              " good:700  \n",
              "           \n",
              "           \n",
              "           \n",
              "           "
            ]
          },
          "metadata": {
            "tags": []
          }
        }
      ]
    },
    {
      "cell_type": "code",
      "metadata": {
        "id": "EEp2fdtL4rG9"
      },
      "source": [
        "# cutoff\n",
        "threshold = 0.5"
      ],
      "execution_count": 17,
      "outputs": []
    },
    {
      "cell_type": "code",
      "metadata": {
        "id": "Vf6N_JIK4yuA"
      },
      "source": [
        "i = sample(1:nrow(german), round(nrow(german)*0.7))"
      ],
      "execution_count": 19,
      "outputs": []
    },
    {
      "cell_type": "code",
      "metadata": {
        "id": "ySEbusw45QA6"
      },
      "source": [
        "# training data (70%)\n",
        "german.train = german[i,]\n",
        "# test data (70%)\n",
        "german.test = german[-i,]"
      ],
      "execution_count": 21,
      "outputs": []
    },
    {
      "cell_type": "code",
      "metadata": {
        "id": "gXXcLIpU5fVQ"
      },
      "source": [
        "my.control = rpart.control(xval=10, cp=0, minsplit=5)"
      ],
      "execution_count": 22,
      "outputs": []
    },
    {
      "cell_type": "code",
      "metadata": {
        "id": "XsuzNdzk5vUz"
      },
      "source": [
        "fit.tree = rpart(y ~ ., data=german.train, method=\"class\", control=my.control)"
      ],
      "execution_count": 23,
      "outputs": []
    },
    {
      "cell_type": "code",
      "metadata": {
        "colab": {
          "base_uri": "https://localhost:8080/"
        },
        "id": "Q4mklOkX6GnV",
        "outputId": "c43082f6-e7c5-4353-f57e-4b24701696eb"
      },
      "source": [
        "printcp(fit.tree)"
      ],
      "execution_count": 24,
      "outputs": [
        {
          "output_type": "stream",
          "text": [
            "\n",
            "Classification tree:\n",
            "rpart(formula = y ~ ., data = german.train, method = \"class\", \n",
            "    control = my.control)\n",
            "\n",
            "Variables actually used in tree construction:\n",
            " [1] age         check       credit      debtors     duration    employment \n",
            " [7] history     housing     installment job         others      personal   \n",
            "[13] property    purpose     residence   residpeople savings     telephone  \n",
            "\n",
            "Root node error: 214/700 = 0.30571\n",
            "\n",
            "n= 700 \n",
            "\n",
            "          CP nsplit rel error  xerror     xstd\n",
            "1  0.0607477      0   1.00000 1.00000 0.056959\n",
            "2  0.0186916      4   0.73832 0.88318 0.054888\n",
            "3  0.0140187      6   0.70093 0.88318 0.054888\n",
            "4  0.0116822     12   0.61215 0.89720 0.055159\n",
            "5  0.0093458     18   0.53738 0.88318 0.054888\n",
            "6  0.0077882     23   0.49065 0.89252 0.055070\n",
            "7  0.0070093     29   0.44393 0.91121 0.055424\n",
            "8  0.0062305     37   0.38785 0.90187 0.055248\n",
            "9  0.0056075     40   0.36916 0.90187 0.055248\n",
            "10 0.0046729     52   0.27570 0.99533 0.056884\n",
            "11 0.0040053     64   0.21495 0.99533 0.056884\n",
            "12 0.0033378     71   0.18692 1.00467 0.057033\n",
            "13 0.0031153     78   0.16355 1.01402 0.057180\n",
            "14 0.0023364     81   0.15421 1.01402 0.057180\n",
            "15 0.0000000     83   0.14953 1.03271 0.057465\n"
          ],
          "name": "stdout"
        }
      ]
    },
    {
      "cell_type": "code",
      "metadata": {
        "colab": {
          "base_uri": "https://localhost:8080/",
          "height": 34
        },
        "id": "bOJAJeE-6ngF",
        "outputId": "7b955de2-7051-4c9b-f769-5d8c43c90109"
      },
      "source": [
        "# find min xerror\n",
        "ii = which.min(fit.tree$cp[,4])\n",
        "ii"
      ],
      "execution_count": 28,
      "outputs": [
        {
          "output_type": "display_data",
          "data": {
            "text/plain": [
              "2 \n",
              "2 "
            ],
            "text/latex": "\\textbf{2:} 2",
            "text/markdown": "**2:** 2",
            "text/html": [
              "<strong>2:</strong> 2"
            ]
          },
          "metadata": {
            "tags": []
          }
        }
      ]
    },
    {
      "cell_type": "code",
      "metadata": {
        "id": "JgAQvTs57pUF"
      },
      "source": [
        "fit.prun.tree = prune(fit.tree, cp=fit.tree$cp[ii,1])"
      ],
      "execution_count": 29,
      "outputs": []
    },
    {
      "cell_type": "code",
      "metadata": {
        "colab": {
          "base_uri": "https://localhost:8080/",
          "height": 269
        },
        "id": "E19yjteb8FMD",
        "outputId": "538f7418-7e8a-4314-f476-79940e1ef36d"
      },
      "source": [
        "fit.prun.tree"
      ],
      "execution_count": 30,
      "outputs": [
        {
          "output_type": "display_data",
          "data": {
            "text/plain": [
              "n= 700 \n",
              "\n",
              "node), split, n, loss, yval, (yprob)\n",
              "      * denotes terminal node\n",
              "\n",
              " 1) root 700 214 good (0.3057143 0.6942857)  \n",
              "   2) check=A11,A12 379 169 good (0.4459103 0.5540897)  \n",
              "     4) duration>=22.5 172  73 bad (0.5755814 0.4244186)  \n",
              "       8) savings=A61,A62,A63 142  50 bad (0.6478873 0.3521127) *\n",
              "       9) savings=A64,A65 30   7 good (0.2333333 0.7666667) *\n",
              "     5) duration< 22.5 207  70 good (0.3381643 0.6618357)  \n",
              "      10) history=A30,A31 18   2 bad (0.8888889 0.1111111) *\n",
              "      11) history=A32,A33,A34 189  54 good (0.2857143 0.7142857) *\n",
              "   3) check=A13,A14 321  45 good (0.1401869 0.8598131) *"
            ]
          },
          "metadata": {
            "tags": []
          }
        }
      ]
    },
    {
      "cell_type": "code",
      "metadata": {
        "colab": {
          "base_uri": "https://localhost:8080/",
          "height": 437
        },
        "id": "3lG0r9az8RuO",
        "outputId": "ed78e93a-7bda-4604-9cf4-ff01028855cc"
      },
      "source": [
        "plot(fit.prun.tree)\n",
        "text(fit.prun.tree)"
      ],
      "execution_count": 32,
      "outputs": [
        {
          "output_type": "display_data",
          "data": {
            "image/png": "[encoded data removed]",
            "text/plain": [
              "plot without title"
            ]
          },
          "metadata": {
            "tags": [],
            "image/png": {
              "width": 420,
              "height": 420
            }
          }
        }
      ]
    },
    {
      "cell_type": "code",
      "metadata": {
        "id": "4eCfDzuy8eF9"
      },
      "source": [
        "# probabilities\n",
        "p.test.tree = predict(fit.prun.tree, newdata=german.test, type=\"prob\")"
      ],
      "execution_count": 45,
      "outputs": []
    },
    {
      "cell_type": "code",
      "metadata": {
        "id": "UIrhMKXV8m5V"
      },
      "source": [
        "yhat.test.tree = ifelse(p.test.tree > threshold, levels(german$y)[2], levels(german$y)[1])"
      ],
      "execution_count": 46,
      "outputs": []
    },
    {
      "cell_type": "code",
      "metadata": {
        "colab": {
          "base_uri": "https://localhost:8080/",
          "height": 1000
        },
        "id": "Ujt5ihr-80o2",
        "outputId": "ee1be699-722a-41e8-f426-e25d2dfdeb53"
      },
      "source": [
        "yhat.test.tree"
      ],
      "execution_count": 47,
      "outputs": [
        {
          "output_type": "display_data",
          "data": {
            "text/plain": [
              "    bad  good\n",
              "1   bad  good\n",
              "2   good bad \n",
              "3   bad  good\n",
              "7   bad  good\n",
              "10  good bad \n",
              "11  bad  good\n",
              "12  good bad \n",
              "13  bad  good\n",
              "14  good bad \n",
              "17  bad  good\n",
              "18  bad  good\n",
              "19  good bad \n",
              "23  bad  good\n",
              "28  bad  good\n",
              "34  bad  good\n",
              "37  bad  good\n",
              "39  bad  good\n",
              "44  good bad \n",
              "46  bad  good\n",
              "56  bad  good\n",
              "61  bad  good\n",
              "63  good bad \n",
              "67  bad  good\n",
              "69  bad  good\n",
              "74  good bad \n",
              "79  bad  good\n",
              "85  bad  good\n",
              "89  bad  good\n",
              "93  bad  good\n",
              "101 bad  good\n",
              "⋮   ⋮    ⋮   \n",
              "882 bad  good\n",
              "887 bad  good\n",
              "892 bad  good\n",
              "895 bad  good\n",
              "896 bad  good\n",
              "899 bad  good\n",
              "900 bad  good\n",
              "901 bad  good\n",
              "902 bad  good\n",
              "907 bad  good\n",
              "912 good bad \n",
              "914 bad  good\n",
              "918 bad  good\n",
              "920 good bad \n",
              "922 bad  good\n",
              "923 bad  good\n",
              "925 good bad \n",
              "929 bad  good\n",
              "934 bad  good\n",
              "935 bad  good\n",
              "938 bad  good\n",
              "940 bad  good\n",
              "946 good bad \n",
              "948 bad  good\n",
              "957 bad  good\n",
              "966 bad  good\n",
              "968 bad  good\n",
              "971 bad  good\n",
              "984 good bad \n",
              "992 bad  good"
            ],
            "text/latex": "A matrix: 300 × 2 of type chr\n\\begin{tabular}{r|ll}\n  & bad & good\\\\\n\\hline\n\t1 & bad  & good\\\\\n\t2 & good & bad \\\\\n\t3 & bad  & good\\\\\n\t7 & bad  & good\\\\\n\t10 & good & bad \\\\\n\t11 & bad  & good\\\\\n\t12 & good & bad \\\\\n\t13 & bad  & good\\\\\n\t14 & good & bad \\\\\n\t17 & bad  & good\\\\\n\t18 & bad  & good\\\\\n\t19 & good & bad \\\\\n\t23 & bad  & good\\\\\n\t28 & bad  & good\\\\\n\t34 & bad  & good\\\\\n\t37 & bad  & good\\\\\n\t39 & bad  & good\\\\\n\t44 & good & bad \\\\\n\t46 & bad  & good\\\\\n\t56 & bad  & good\\\\\n\t61 & bad  & good\\\\\n\t63 & good & bad \\\\\n\t67 & bad  & good\\\\\n\t69 & bad  & good\\\\\n\t74 & good & bad \\\\\n\t79 & bad  & good\\\\\n\t85 & bad  & good\\\\\n\t89 & bad  & good\\\\\n\t93 & bad  & good\\\\\n\t101 & bad  & good\\\\\n\t⋮ & ⋮ & ⋮\\\\\n\t882 & bad  & good\\\\\n\t887 & bad  & good\\\\\n\t892 & bad  & good\\\\\n\t895 & bad  & good\\\\\n\t896 & bad  & good\\\\\n\t899 & bad  & good\\\\\n\t900 & bad  & good\\\\\n\t901 & bad  & good\\\\\n\t902 & bad  & good\\\\\n\t907 & bad  & good\\\\\n\t912 & good & bad \\\\\n\t914 & bad  & good\\\\\n\t918 & bad  & good\\\\\n\t920 & good & bad \\\\\n\t922 & bad  & good\\\\\n\t923 & bad  & good\\\\\n\t925 & good & bad \\\\\n\t929 & bad  & good\\\\\n\t934 & bad  & good\\\\\n\t935 & bad  & good\\\\\n\t938 & bad  & good\\\\\n\t940 & bad  & good\\\\\n\t946 & good & bad \\\\\n\t948 & bad  & good\\\\\n\t957 & bad  & good\\\\\n\t966 & bad  & good\\\\\n\t968 & bad  & good\\\\\n\t971 & bad  & good\\\\\n\t984 & good & bad \\\\\n\t992 & bad  & good\\\\\n\\end{tabular}\n",
            "text/markdown": "\nA matrix: 300 × 2 of type chr\n\n| <!--/--> | bad | good |\n|---|---|---|\n| 1 | bad  | good |\n| 2 | good | bad  |\n| 3 | bad  | good |\n| 7 | bad  | good |\n| 10 | good | bad  |\n| 11 | bad  | good |\n| 12 | good | bad  |\n| 13 | bad  | good |\n| 14 | good | bad  |\n| 17 | bad  | good |\n| 18 | bad  | good |\n| 19 | good | bad  |\n| 23 | bad  | good |\n| 28 | bad  | good |\n| 34 | bad  | good |\n| 37 | bad  | good |\n| 39 | bad  | good |\n| 44 | good | bad  |\n| 46 | bad  | good |\n| 56 | bad  | good |\n| 61 | bad  | good |\n| 63 | good | bad  |\n| 67 | bad  | good |\n| 69 | bad  | good |\n| 74 | good | bad  |\n| 79 | bad  | good |\n| 85 | bad  | good |\n| 89 | bad  | good |\n| 93 | bad  | good |\n| 101 | bad  | good |\n| ⋮ | ⋮ | ⋮ |\n| 882 | bad  | good |\n| 887 | bad  | good |\n| 892 | bad  | good |\n| 895 | bad  | good |\n| 896 | bad  | good |\n| 899 | bad  | good |\n| 900 | bad  | good |\n| 901 | bad  | good |\n| 902 | bad  | good |\n| 907 | bad  | good |\n| 912 | good | bad  |\n| 914 | bad  | good |\n| 918 | bad  | good |\n| 920 | good | bad  |\n| 922 | bad  | good |\n| 923 | bad  | good |\n| 925 | good | bad  |\n| 929 | bad  | good |\n| 934 | bad  | good |\n| 935 | bad  | good |\n| 938 | bad  | good |\n| 940 | bad  | good |\n| 946 | good | bad  |\n| 948 | bad  | good |\n| 957 | bad  | good |\n| 966 | bad  | good |\n| 968 | bad  | good |\n| 971 | bad  | good |\n| 984 | good | bad  |\n| 992 | bad  | good |\n\n",
            "text/html": [
              "<table class=\"dataframe\">\n",
              "<caption>A matrix: 300 × 2 of type chr</caption>\n",
              "<thead>\n",
              "\t<tr><th></th><th scope=col>bad</th><th scope=col>good</th></tr>\n",
              "</thead>\n",
              "<tbody>\n",
              "\t<tr><th scope=row>1</th><td>bad </td><td>good</td></tr>\n",
              "\t<tr><th scope=row>2</th><td>good</td><td>bad </td></tr>\n",
              "\t<tr><th scope=row>3</th><td>bad </td><td>good</td></tr>\n",
              "\t<tr><th scope=row>7</th><td>bad </td><td>good</td></tr>\n",
              "\t<tr><th scope=row>10</th><td>good</td><td>bad </td></tr>\n",
              "\t<tr><th scope=row>11</th><td>bad </td><td>good</td></tr>\n",
              "\t<tr><th scope=row>12</th><td>good</td><td>bad </td></tr>\n",
              "\t<tr><th scope=row>13</th><td>bad </td><td>good</td></tr>\n",
              "\t<tr><th scope=row>14</th><td>good</td><td>bad </td></tr>\n",
              "\t<tr><th scope=row>17</th><td>bad </td><td>good</td></tr>\n",
              "\t<tr><th scope=row>18</th><td>bad </td><td>good</td></tr>\n",
              "\t<tr><th scope=row>19</th><td>good</td><td>bad </td></tr>\n",
              "\t<tr><th scope=row>23</th><td>bad </td><td>good</td></tr>\n",
              "\t<tr><th scope=row>28</th><td>bad </td><td>good</td></tr>\n",
              "\t<tr><th scope=row>34</th><td>bad </td><td>good</td></tr>\n",
              "\t<tr><th scope=row>37</th><td>bad </td><td>good</td></tr>\n",
              "\t<tr><th scope=row>39</th><td>bad </td><td>good</td></tr>\n",
              "\t<tr><th scope=row>44</th><td>good</td><td>bad </td></tr>\n",
              "\t<tr><th scope=row>46</th><td>bad </td><td>good</td></tr>\n",
              "\t<tr><th scope=row>56</th><td>bad </td><td>good</td></tr>\n",
              "\t<tr><th scope=row>61</th><td>bad </td><td>good</td></tr>\n",
              "\t<tr><th scope=row>63</th><td>good</td><td>bad </td></tr>\n",
              "\t<tr><th scope=row>67</th><td>bad </td><td>good</td></tr>\n",
              "\t<tr><th scope=row>69</th><td>bad </td><td>good</td></tr>\n",
              "\t<tr><th scope=row>74</th><td>good</td><td>bad </td></tr>\n",
              "\t<tr><th scope=row>79</th><td>bad </td><td>good</td></tr>\n",
              "\t<tr><th scope=row>85</th><td>bad </td><td>good</td></tr>\n",
              "\t<tr><th scope=row>89</th><td>bad </td><td>good</td></tr>\n",
              "\t<tr><th scope=row>93</th><td>bad </td><td>good</td></tr>\n",
              "\t<tr><th scope=row>101</th><td>bad </td><td>good</td></tr>\n",
              "\t<tr><th scope=row>⋮</th><td>⋮</td><td>⋮</td></tr>\n",
              "\t<tr><th scope=row>882</th><td>bad </td><td>good</td></tr>\n",
              "\t<tr><th scope=row>887</th><td>bad </td><td>good</td></tr>\n",
              "\t<tr><th scope=row>892</th><td>bad </td><td>good</td></tr>\n",
              "\t<tr><th scope=row>895</th><td>bad </td><td>good</td></tr>\n",
              "\t<tr><th scope=row>896</th><td>bad </td><td>good</td></tr>\n",
              "\t<tr><th scope=row>899</th><td>bad </td><td>good</td></tr>\n",
              "\t<tr><th scope=row>900</th><td>bad </td><td>good</td></tr>\n",
              "\t<tr><th scope=row>901</th><td>bad </td><td>good</td></tr>\n",
              "\t<tr><th scope=row>902</th><td>bad </td><td>good</td></tr>\n",
              "\t<tr><th scope=row>907</th><td>bad </td><td>good</td></tr>\n",
              "\t<tr><th scope=row>912</th><td>good</td><td>bad </td></tr>\n",
              "\t<tr><th scope=row>914</th><td>bad </td><td>good</td></tr>\n",
              "\t<tr><th scope=row>918</th><td>bad </td><td>good</td></tr>\n",
              "\t<tr><th scope=row>920</th><td>good</td><td>bad </td></tr>\n",
              "\t<tr><th scope=row>922</th><td>bad </td><td>good</td></tr>\n",
              "\t<tr><th scope=row>923</th><td>bad </td><td>good</td></tr>\n",
              "\t<tr><th scope=row>925</th><td>good</td><td>bad </td></tr>\n",
              "\t<tr><th scope=row>929</th><td>bad </td><td>good</td></tr>\n",
              "\t<tr><th scope=row>934</th><td>bad </td><td>good</td></tr>\n",
              "\t<tr><th scope=row>935</th><td>bad </td><td>good</td></tr>\n",
              "\t<tr><th scope=row>938</th><td>bad </td><td>good</td></tr>\n",
              "\t<tr><th scope=row>940</th><td>bad </td><td>good</td></tr>\n",
              "\t<tr><th scope=row>946</th><td>good</td><td>bad </td></tr>\n",
              "\t<tr><th scope=row>948</th><td>bad </td><td>good</td></tr>\n",
              "\t<tr><th scope=row>957</th><td>bad </td><td>good</td></tr>\n",
              "\t<tr><th scope=row>966</th><td>bad </td><td>good</td></tr>\n",
              "\t<tr><th scope=row>968</th><td>bad </td><td>good</td></tr>\n",
              "\t<tr><th scope=row>971</th><td>bad </td><td>good</td></tr>\n",
              "\t<tr><th scope=row>984</th><td>good</td><td>bad </td></tr>\n",
              "\t<tr><th scope=row>992</th><td>bad </td><td>good</td></tr>\n",
              "</tbody>\n",
              "</table>\n"
            ]
          },
          "metadata": {
            "tags": []
          }
        }
      ]
    },
    {
      "cell_type": "code",
      "metadata": {
        "colab": {
          "base_uri": "https://localhost:8080/",
          "height": 172
        },
        "id": "V6wneW3W9JE7",
        "outputId": "ecbc8a83-9d3c-402a-dc0f-d502b5217000"
      },
      "source": [
        "tab = table(german.test$y, yhat.test.tree, dnn=c(\"Observed\", \"Predicted\"))\n"
      ],
      "execution_count": 51,
      "outputs": [
        {
          "output_type": "display_data",
          "data": {
            "text/plain": [
              "NULL"
            ]
          },
          "metadata": {
            "tags": []
          }
        },
        {
          "output_type": "error",
          "ename": "ERROR",
          "evalue": "ignored",
          "traceback": [
            "Error in table(german.test$y, yhat.test.tree, dnn = c(\"Observed\", \"Predicted\")): all arguments must have the same length\nTraceback:\n",
            "1. table(german.test$y, yhat.test.tree, dnn = c(\"Observed\", \"Predicted\"))",
            "2. stop(\"all arguments must have the same length\")"
          ]
        }
      ]
    }
  ]
}