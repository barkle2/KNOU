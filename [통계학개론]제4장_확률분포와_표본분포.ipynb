{
  "nbformat": 4,
  "nbformat_minor": 0,
  "metadata": {
    "colab": {
      "name": "제4장 확률분포와 표본분포.ipynb",
      "provenance": [],
      "collapsed_sections": [],
      "authorship_tag": "ABX9TyOP73TkWVDl3b4eTDKxb4fy",
      "include_colab_link": true
    },
    "kernelspec": {
      "name": "ir",
      "display_name": "R"
    }
  },
  "cells": [
    {
      "cell_type": "markdown",
      "metadata": {
        "id": "view-in-github",
        "colab_type": "text"
      },
      "source": [
        "<a href=\"https://colab.research.google.com/github/barkle2/KNOU/blob/master/%5B%ED%86%B5%EA%B3%84%ED%95%99%EA%B0%9C%EB%A1%A0%5D%EC%A0%9C4%EC%9E%A5_%ED%99%95%EB%A5%A0%EB%B6%84%ED%8F%AC%EC%99%80_%ED%91%9C%EB%B3%B8%EB%B6%84%ED%8F%AC.ipynb\" target=\"_parent\"><img src=\"https://colab.research.google.com/assets/colab-badge.svg\" alt=\"Open In Colab\"/></a>"
      ]
    },
    {
      "cell_type": "markdown",
      "metadata": {
        "id": "f0fhyGu01ln_"
      },
      "source": [
        "[예제 4-1] 어느 보험회사의 영업사원이 고객을 만나 그 사람을 보험에 가입하게 할 확률은 과거의 경험으로 보아 20%이다. 오늘 아침 영업사원이 10명의 고객을 만날 예정이다."
      ]
    },
    {
      "cell_type": "code",
      "metadata": {
        "colab": {
          "base_uri": "https://localhost:8080/",
          "height": 437
        },
        "id": "x1a8dyZi2nFb",
        "outputId": "9d8a6148-89df-4dfe-a79a-a9d44fba4fe3"
      },
      "source": [
        "y <- dbinom(0:10, size=10, prob=0.2)\r\n",
        "plot(0:10, y, type='h', ylab='probability', xlab='number of contract', main=c('X ~ B(10, 0.2)'))"
      ],
      "execution_count": 6,
      "outputs": [
        {
          "output_type": "display_data",
          "data": {
            "image/png": "[encoded data removed]",
            "text/plain": [
              "Plot with title “X ~ B(10, 0.2)”"
            ]
          },
          "metadata": {
            "tags": [],
            "image/png": {
              "width": 420,
              "height": 420
            }
          }
        }
      ]
    },
    {
      "cell_type": "markdown",
      "metadata": {
        "id": "vf7eXHTp2JIr"
      },
      "source": [
        "(1) 세 사람이 보험에 가입할 확률은?"
      ]
    },
    {
      "cell_type": "code",
      "metadata": {
        "colab": {
          "base_uri": "https://localhost:8080/",
          "height": 34
        },
        "id": "eteQajS_2LEY",
        "outputId": "7f8783ac-f7fe-47cb-89a3-cbc23c4b3757"
      },
      "source": [
        "# dbinom: 이항분포의 확률값\r\n",
        "dbinom(3, size=10, prob=0.2)"
      ],
      "execution_count": 7,
      "outputs": [
        {
          "output_type": "display_data",
          "data": {
            "text/plain": [
              "[1] 0.2013266"
            ],
            "text/latex": "0.201326592",
            "text/markdown": "0.201326592",
            "text/html": [
              "0.201326592"
            ]
          },
          "metadata": {
            "tags": []
          }
        }
      ]
    },
    {
      "cell_type": "markdown",
      "metadata": {
        "id": "jZpr55WI4I3F"
      },
      "source": [
        "(2) 두 사람 이상이 보험에 가입할 확률은?"
      ]
    },
    {
      "cell_type": "code",
      "metadata": {
        "colab": {
          "base_uri": "https://localhost:8080/",
          "height": 51
        },
        "id": "YXv0y2Kp4LyE",
        "outputId": "800826f2-f994-4bd6-c63d-90d3aacaa33c"
      },
      "source": [
        "# pbinom: 이항분포의 누적확률값\r\n",
        "1-pbinom(1, size=10, prob=0.2)\r\n",
        "# dbinom: 이항분포의 확률값\r\n",
        "1-dbinom(0, size=10, prob=0.2)-dbinom(1, size=10, prob=0.2)"
      ],
      "execution_count": 13,
      "outputs": [
        {
          "output_type": "display_data",
          "data": {
            "text/plain": [
              "[1] 0.6241904"
            ],
            "text/latex": "0.6241903616",
            "text/markdown": "0.6241903616",
            "text/html": [
              "0.6241903616"
            ]
          },
          "metadata": {
            "tags": []
          }
        },
        {
          "output_type": "display_data",
          "data": {
            "text/plain": [
              "[1] 0.6241904"
            ],
            "text/latex": "0.6241903616",
            "text/markdown": "0.6241903616",
            "text/html": [
              "0.6241903616"
            ]
          },
          "metadata": {
            "tags": []
          }
        }
      ]
    },
    {
      "cell_type": "markdown",
      "metadata": {
        "id": "hxiWWuzD5HsR"
      },
      "source": [
        "(3) 평균 몇 사람이 가입하겠는가? 또 그 표준편차는?"
      ]
    },
    {
      "cell_type": "code",
      "metadata": {
        "colab": {
          "base_uri": "https://localhost:8080/",
          "height": 51
        },
        "id": "PAhVbjy45Mzg",
        "outputId": "8905411b-bc1b-430e-e7ea-da6483469cb8"
      },
      "source": [
        "# E(X) = np\r\n",
        "10*0.2\r\n",
        "# Var(X) = np(1-p), SD(X) = sqrt(Var(X))\r\n",
        "sqrt(10*0.2*0.8)"
      ],
      "execution_count": 15,
      "outputs": [
        {
          "output_type": "display_data",
          "data": {
            "text/plain": [
              "[1] 2"
            ],
            "text/latex": "2",
            "text/markdown": "2",
            "text/html": [
              "2"
            ]
          },
          "metadata": {
            "tags": []
          }
        },
        {
          "output_type": "display_data",
          "data": {
            "text/plain": [
              "[1] 1.264911"
            ],
            "text/latex": "1.26491106406735",
            "text/markdown": "1.26491106406735",
            "text/html": [
              "1.26491106406735"
            ]
          },
          "metadata": {
            "tags": []
          }
        }
      ]
    },
    {
      "cell_type": "markdown",
      "metadata": {
        "id": "bwNtr5eI5kYL"
      },
      "source": [
        "[예제 4-2] 한 복권의 당첨률이 30%라고 한다. 복권을 8장 구입했다고 하자."
      ]
    },
    {
      "cell_type": "code",
      "metadata": {
        "colab": {
          "base_uri": "https://localhost:8080/",
          "height": 437
        },
        "id": "s5i6laQ55rrC",
        "outputId": "202dcd64-2f41-40c8-c926-06dce442ec87"
      },
      "source": [
        "y <- dbinom(0:8, size=8, prob=0.3)\r\n",
        "plot(0:8, y, type='h', ylab='probability', xlab='number of win', main=c('X ~ B(8, 0.3)'))"
      ],
      "execution_count": 16,
      "outputs": [
        {
          "output_type": "display_data",
          "data": {
            "image/png": "[encoded data removed]",
            "text/plain": [
              "Plot with title “X ~ B(8, 0.3)”"
            ]
          },
          "metadata": {
            "tags": [],
            "image/png": {
              "width": 420,
              "height": 420
            }
          }
        }
      ]
    },
    {
      "cell_type": "markdown",
      "metadata": {
        "id": "ajBWpSSk5pX3"
      },
      "source": [
        "(1) 4장이 당첨될 확률은?"
      ]
    },
    {
      "cell_type": "code",
      "metadata": {
        "colab": {
          "base_uri": "https://localhost:8080/",
          "height": 34
        },
        "id": "1Ojwi3Xi8-M5",
        "outputId": "4494c281-f028-4ca8-d3f6-11a74e809ae3"
      },
      "source": [
        "# dbinom: 이항분포의 확률값\r\n",
        "dbinom(4, size=8, prob=0.3)"
      ],
      "execution_count": 17,
      "outputs": [
        {
          "output_type": "display_data",
          "data": {
            "text/plain": [
              "[1] 0.1361367"
            ],
            "text/latex": "0.1361367",
            "text/markdown": "0.1361367",
            "text/html": [
              "0.1361367"
            ]
          },
          "metadata": {
            "tags": []
          }
        }
      ]
    },
    {
      "cell_type": "markdown",
      "metadata": {
        "id": "fGtPkYrO9KUK"
      },
      "source": [
        "(2) 3장에서 7장이 당첨될 확률은?"
      ]
    },
    {
      "cell_type": "code",
      "metadata": {
        "colab": {
          "base_uri": "https://localhost:8080/",
          "height": 34
        },
        "id": "A2bKBE6Q9NiQ",
        "outputId": "c5ac007b-d476-4372-b061-423571d3ee7f"
      },
      "source": [
        "# pbinom: 이항분포의 누적확률값\r\n",
        "pbinom(7, size=8, prob=0.3) - pbinom(2, size=8, prob=0.3)"
      ],
      "execution_count": 18,
      "outputs": [
        {
          "output_type": "display_data",
          "data": {
            "text/plain": [
              "[1] 0.4481606"
            ],
            "text/latex": "0.44816058",
            "text/markdown": "0.44816058",
            "text/html": [
              "0.44816058"
            ]
          },
          "metadata": {
            "tags": []
          }
        }
      ]
    },
    {
      "cell_type": "markdown",
      "metadata": {
        "id": "MQF2yYHB9Wfd"
      },
      "source": [
        "(3) 6장 이상이 당첨될 확률은?"
      ]
    },
    {
      "cell_type": "code",
      "metadata": {
        "colab": {
          "base_uri": "https://localhost:8080/",
          "height": 34
        },
        "id": "8nfQSsHD9ZCx",
        "outputId": "028d527e-4224-4b78-bfec-de53ae8f471a"
      },
      "source": [
        "# pbinom: 이항분포의 누적확률값\r\n",
        "1-pbinom(5, size=8, prob=0.3)"
      ],
      "execution_count": 21,
      "outputs": [
        {
          "output_type": "display_data",
          "data": {
            "text/plain": [
              "[1] 0.01129221"
            ],
            "text/latex": "0.0112922099999999",
            "text/markdown": "0.0112922099999999",
            "text/html": [
              "0.0112922099999999"
            ]
          },
          "metadata": {
            "tags": []
          }
        }
      ]
    }
  ]
}