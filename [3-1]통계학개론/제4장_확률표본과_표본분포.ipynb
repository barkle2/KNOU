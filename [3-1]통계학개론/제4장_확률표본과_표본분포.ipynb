{
  "nbformat": 4,
  "nbformat_minor": 0,
  "metadata": {
    "colab": {
      "name": "제4장 확률표본과 표본분포.ipynb",
      "provenance": [],
      "authorship_tag": "ABX9TyNrO6WZe4S87dL7CdE25iuD",
      "include_colab_link": true
    },
    "kernelspec": {
      "name": "python3",
      "display_name": "Python 3"
    }
  },
  "cells": [
    {
      "cell_type": "markdown",
      "metadata": {
        "id": "view-in-github",
        "colab_type": "text"
      },
      "source": [
        "<a href=\"https://colab.research.google.com/github/barkle2/KNOU/blob/master/%5B3-1%5D%ED%86%B5%EA%B3%84%ED%95%99%EA%B0%9C%EB%A1%A0/%EC%A0%9C4%EC%9E%A5_%ED%99%95%EB%A5%A0%ED%91%9C%EB%B3%B8%EA%B3%BC_%ED%91%9C%EB%B3%B8%EB%B6%84%ED%8F%AC.ipynb\" target=\"_parent\"><img src=\"https://colab.research.google.com/assets/colab-badge.svg\" alt=\"Open In Colab\"/></a>"
      ]
    },
    {
      "cell_type": "code",
      "metadata": {
        "id": "WCdRo9-60T08"
      },
      "source": [
        ""
      ],
      "execution_count": null,
      "outputs": []
    }
  ]
}