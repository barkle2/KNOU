{
  "nbformat": 4,
  "nbformat_minor": 0,
  "metadata": {
    "colab": {
      "name": "제6장 통계적 가설검정.ipynb",
      "provenance": [],
      "collapsed_sections": [],
      "authorship_tag": "ABX9TyMQSAGz4FsqzoHSk+UWRyho",
      "include_colab_link": true
    },
    "kernelspec": {
      "name": "ir",
      "display_name": "R"
    }
  },
  "cells": [
    {
      "cell_type": "markdown",
      "metadata": {
        "id": "view-in-github",
        "colab_type": "text"
      },
      "source": [
        "<a href=\"https://colab.research.google.com/github/barkle2/KNOU/blob/master/%5B3-1%5D%ED%86%B5%EA%B3%84%ED%95%99%EA%B0%9C%EB%A1%A0/%EC%A0%9C6%EC%9E%A5_%ED%86%B5%EA%B3%84%EC%A0%81_%EA%B0%80%EC%84%A4%EA%B2%80%EC%A0%95.ipynb\" target=\"_parent\"><img src=\"https://colab.research.google.com/assets/colab-badge.svg\" alt=\"Open In Colab\"/></a>"
      ]
    },
    {
      "cell_type": "markdown",
      "metadata": {
        "id": "_6itpxeakhj5"
      },
      "source": [
        "[예제 6-5] 어느 전구공장에서 기존의 생산방식으로 만들어진 전구의 평균수명은 1,500시간, 표준편차는 200시간으로 알려져 있다. 최근 이 회사에서 새로운 생산방식을 도입하려고 하는데, 이 방식으로 생산된 전구는 평균수명이 1,600시간이라고 한다. 이와 같은 주장을 확인하기 위해 30개의 표본을 랜덤으로 추출하여 표본평균을 구해 보니  <img src=\"https://latex.codecogs.com/svg.latex?\\bar{X}\"/>=1,555시간이었다. 과연 새 방식의 전구수명이 1,600시간이라고 판단하는 것은 타당할까?"
      ]
    },
    {
      "cell_type": "code",
      "metadata": {
        "id": "jAbJ8A21kV7-"
      },
      "source": [
        ""
      ],
      "execution_count": 1,
      "outputs": []
    }
  ]
}