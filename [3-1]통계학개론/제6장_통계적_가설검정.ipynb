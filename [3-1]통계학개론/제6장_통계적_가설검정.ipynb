{
  "nbformat": 4,
  "nbformat_minor": 0,
  "metadata": {
    "colab": {
      "name": "제6장 통계적 가설검정.ipynb",
      "provenance": [],
      "collapsed_sections": [],
      "authorship_tag": "ABX9TyM+A1bcjRXkCIoPr5fYDrj0",
      "include_colab_link": true
    },
    "kernelspec": {
      "name": "ir",
      "display_name": "R"
    }
  },
  "cells": [
    {
      "cell_type": "markdown",
      "metadata": {
        "id": "view-in-github",
        "colab_type": "text"
      },
      "source": [
        "<a href=\"https://colab.research.google.com/github/barkle2/KNOU/blob/master/%5B3-1%5D%ED%86%B5%EA%B3%84%ED%95%99%EA%B0%9C%EB%A1%A0/%EC%A0%9C6%EC%9E%A5_%ED%86%B5%EA%B3%84%EC%A0%81_%EA%B0%80%EC%84%A4%EA%B2%80%EC%A0%95.ipynb\" target=\"_parent\"><img src=\"https://colab.research.google.com/assets/colab-badge.svg\" alt=\"Open In Colab\"/></a>"
      ]
    },
    {
      "cell_type": "markdown",
      "metadata": {
        "id": "_6itpxeakhj5"
      },
      "source": [
        "[예제 6-5] 어느 전구공장에서 기존의 생산방식으로 만들어진 전구의 평균수명은 1,500시간, 표준편차는 200시간으로 알려져 있다. 최근 이 회사에서 새로운 생산방식을 도입하려고 하는데, 이 방식으로 생산된 전구는 평균수명이 1,600시간이라고 한다. 이와 같은 주장을 확인하기 위해 30개의 표본을 랜덤으로 추출하여 표본평균을 구해 보니  <img src=\"https://latex.codecogs.com/svg.latex?\\bar{X}\"/>=1,555시간이었다. 과연 새 방식의 전구수명이 1,600시간이라고 판단하는 것은 타당할까?"
      ]
    },
    {
      "cell_type": "markdown",
      "metadata": {
        "id": "VtkZAGHJmgHH"
      },
      "source": [
        "☞ 기존의 생산방식으로 만들어진 전구의 평균수명의 표본평균 분포는 중심극한정리에 의해 &nbsp;<img src=\"https://latex.codecogs.com/svg.latex?N(1,500,\\frac{200^{2}}{30})\" />을 따름을 알 수 있다.  \r\n",
        " 만약, 전구의 평균수명이 1,500시간보다 길다고 주장하려면 전구의 평균수명이 1,500시간이라는 영가설을 기각할 수 있어야 한다.\r\n",
        "\r\n",
        "1. 통계적 가설을 세운다.  \r\n",
        " H0: μ = 1500 / H1: μ > 1500\r\n",
        "2. 유의수준을 정한다.  \r\n",
        " α = 95%\r\n",
        "3. 영가설하에서 검정통계량이 따르는 분포를 정하고 계산한다.  \r\n",
        " &nbsp;<img src=\"https://latex.codecogs.com/svg.latex?N(1,500,\\frac{200^{2}}{30})\" />\r\n",
        "4. 검정통계량값 또는 유의확률을 구한다.\r\n",
        "5. 검정통계량값을 기각역과 비교하거나, 유의확률을 유의수준과 비교하여 가설검정을 실시한다."
      ]
    },
    {
      "cell_type": "code",
      "metadata": {
        "id": "jAbJ8A21kV7-",
        "colab": {
          "base_uri": "https://localhost:8080/",
          "height": 87
        },
        "outputId": "7b80bd88-5c6b-4827-f8ae-629eedef3a9d"
      },
      "source": [
        "X_bar=1555; mu=1500; sd=200; n=30; alpha=0.05;\r\n",
        "\r\n",
        "# T 값과 t분포 분위수 계산\r\n",
        "T = (X_bar-mu)/(sd/sqrt(n));\r\n",
        "t_alpha = qt(alpha, df=n-1, lower.tail = FALSE);\r\n",
        "# 검정통계량 > 기각역 이면 \"TRUE\", 아니면 \"FALSE\"\r\n",
        "result_1 = ifelse(T > t_alpha, \"TRUE\", \"FALSE\")\r\n",
        "\r\n",
        "# p값 계산하기\r\n",
        "p_value = pt(T, df=n-1, lower.tail = FALSE);\r\n",
        "# p값 < 유의수준 이면 \"TRUE\", 아니면 \"FALSE\"\r\n",
        "result_2 = ifelse(p_value < alpha, \"TRUE\", \"FALSE\")\r\n",
        "\r\n",
        "sprintf(\"T: %.2f, t_alpha: %.2f\", T, t_alpha)\r\n",
        "print(paste(\"T > t_alpha ?:\", result_1))\r\n",
        "sprintf(\"p_value: %.3f, alpha: %.2f\", p_value, alpha)\r\n",
        "print(paste(\"p_value < alpha:\", result_2))"
      ],
      "execution_count": null,
      "outputs": [
        {
          "output_type": "display_data",
          "data": {
            "text/plain": [
              "[1] \"T: 1.51, t_alpha: 1.70\""
            ],
            "text/latex": "'T: 1.51, t\\_alpha: 1.70'",
            "text/markdown": "'T: 1.51, t_alpha: 1.70'",
            "text/html": [
              "'T: 1.51, t_alpha: 1.70'"
            ]
          },
          "metadata": {
            "tags": []
          }
        },
        {
          "output_type": "stream",
          "text": [
            "[1] \"T > t_alpha ?: FALSE\"\n"
          ],
          "name": "stdout"
        },
        {
          "output_type": "display_data",
          "data": {
            "text/plain": [
              "[1] \"p_value: 0.071, alpha: 0.05\""
            ],
            "text/latex": "'p\\_value: 0.071, alpha: 0.05'",
            "text/markdown": "'p_value: 0.071, alpha: 0.05'",
            "text/html": [
              "'p_value: 0.071, alpha: 0.05'"
            ]
          },
          "metadata": {
            "tags": []
          }
        },
        {
          "output_type": "stream",
          "text": [
            "[1] \"p_value < alpha: FALSE\"\n"
          ],
          "name": "stdout"
        }
      ]
    },
    {
      "cell_type": "markdown",
      "metadata": {
        "id": "owGs6OnQlHbW"
      },
      "source": [
        "☞ 검정결과 영가설을 기각하지 못한다. 즉, 기존의 생산방식보다 더 전구수명이 길어졌다고 할 수 없다."
      ]
    },
    {
      "cell_type": "markdown",
      "metadata": {
        "id": "AMv_8FL8laQt"
      },
      "source": [
        "[예제 6-6] 어떤 도시 아파트 한 동에서 10명을 조사하여 한 달 동안 인터넷 쇼핑몰 방문횟수를 조사하여 우리나라 전체 인구의 평균방문횟수인 12회와 차이가 있는지를 검정해 보고자 한다. 표본평균은 12.2, 표준편차는 0.2로 추정되었고 모집단은 정규분포를 따른다."
      ]
    },
    {
      "cell_type": "markdown",
      "metadata": {
        "id": "LAL5suc0pRHf"
      },
      "source": [
        "☞ 대안가설이 &nbsp;<img src=\"https://latex.codecogs.com/svg.latex?\\mu>\\mu_0\" />  또는 &nbsp;<img src=\"https://latex.codecogs.com/svg.latex?\\mu<\\mu_0\" /> 형태가 아니라 &nbsp;<img src=\"https://latex.codecogs.com/svg.latex?\\mu\\neq\\mu_0\" /> 이므로 유의수준을 2로 나누고 p값을 계산한 다음 2배하여야 한다.\r\n",
        "\r\n",
        "|가설|기각역을 이용한 검정|유의확률을 이용한 검정|\r\n",
        "|:---:|:---:|:---:|\r\n",
        "|<img src=\"https://latex.codecogs.com/svg.latex?H_{0}:\\mu=\\mu_{0}\"/></br><img src=\"https://latex.codecogs.com/svg.latex?H_{1}:\\mu\\neq\\mu_{0}\"/>|<img src=\"https://latex.codecogs.com/svg.latex?{\\mid}T{\\mid}>t_{n-1,\\alpha/2}\"/>이면 &nbsp;<img src=\"https://latex.codecogs.com/svg.latex?H_0\"/>를 기각|p값=&nbsp;<img src=\"https://latex.codecogs.com/svg.latex?P({\\mid}T{\\mid}>t_{obs}\\mid{H}_{0})\" />가 α보다 작으면 &nbsp;<img src=\"https://latex.codecogs.com/svg.latex?H_{0}\" />를 기각|\r\n"
      ]
    },
    {
      "cell_type": "code",
      "metadata": {
        "id": "y0PHm3yMlvTo",
        "colab": {
          "base_uri": "https://localhost:8080/",
          "height": 87
        },
        "outputId": "a765423f-24d2-4e3e-d600-c5d64a045c35"
      },
      "source": [
        "X_bar=12.2; mu=12; sd=0.2; n=10; alpha=0.05;\r\n",
        "\r\n",
        "# T 값과 t분포 분위수 계산\r\n",
        "T = (X_bar-mu)/(sd/sqrt(n));\r\n",
        "t_alpha = qt(alpha/2, df=n-1, lower.tail = FALSE);\r\n",
        "# 검정통계량 > 기각역 이면 \"TRUE\", 아니면 \"FALSE\"\r\n",
        "result_1 = ifelse(T > t_alpha, \"TRUE\", \"FALSE\")\r\n",
        "\r\n",
        "# p값 계산하기\r\n",
        "p_value = 2*pt(T, df=n-1, lower.tail = FALSE);\r\n",
        "# p값 < 유의수준 이면 \"TRUE\", 아니면 \"FALSE\"\r\n",
        "result_2 = ifelse(p_value < alpha, \"TRUE\", \"FALSE\")\r\n",
        "\r\n",
        "sprintf(\"T: %.2f, t_alpha: %.2f\", T, t_alpha)\r\n",
        "print(paste(\"T > t_alpha ?\", result_1))\r\n",
        "sprintf(\"p_value: %.3f, alpha: %.2f\", p_value, alpha)\r\n",
        "print(paste(\"p_value < alpha ?\", result_2))"
      ],
      "execution_count": null,
      "outputs": [
        {
          "output_type": "display_data",
          "data": {
            "text/plain": [
              "[1] \"T: 3.16, t_alpha: 2.26\""
            ],
            "text/latex": "'T: 3.16, t\\_alpha: 2.26'",
            "text/markdown": "'T: 3.16, t_alpha: 2.26'",
            "text/html": [
              "'T: 3.16, t_alpha: 2.26'"
            ]
          },
          "metadata": {
            "tags": []
          }
        },
        {
          "output_type": "stream",
          "text": [
            "[1] \"T > t_alpha ? TRUE\"\n"
          ],
          "name": "stdout"
        },
        {
          "output_type": "display_data",
          "data": {
            "text/plain": [
              "[1] \"p_value: 0.012, alpha: 0.05\""
            ],
            "text/latex": "'p\\_value: 0.012, alpha: 0.05'",
            "text/markdown": "'p_value: 0.012, alpha: 0.05'",
            "text/html": [
              "'p_value: 0.012, alpha: 0.05'"
            ]
          },
          "metadata": {
            "tags": []
          }
        },
        {
          "output_type": "stream",
          "text": [
            "[1] \"p_value < alpha ? TRUE\"\n"
          ],
          "name": "stdout"
        }
      ]
    },
    {
      "cell_type": "markdown",
      "metadata": {
        "id": "yLVkjUgOqB6I"
      },
      "source": [
        "☞ 검정결과 영가설을 기각한다. 즉, 유의수준이 5% 일 때, 아파트 주민의 인터넷 쇼핑몰 방문횟수가 모평균과 같지 않다고 할 수 있다."
      ]
    },
    {
      "cell_type": "markdown",
      "metadata": {
        "id": "Hdd0O3evsjmT"
      },
      "source": [
        "[예제 6-7] 어떤 도시 아파트 한 동에서 10명을 조사하여 한 달 동안 인터넷 쇼핑몰 방문횟수를 조사하여 우리나라 전체 인구의 평균방문횟수인 12회보다 큰지를 검정해 보고자 한다. 표본평균은 12.2, 표준편차는 0.2로 추정되었고 모집단은 정규분포를 따른다."
      ]
    },
    {
      "cell_type": "markdown",
      "metadata": {
        "id": "bwl3ftXbav0U"
      },
      "source": [
        "☞ 영가설: μ=12 / 대안가설 μ>12\r\n",
        "\r\n",
        "|가설|기각역을 이용한 검정|유의확률을 이용한 검정|\r\n",
        "|:---:|:---:|:---:|\r\n",
        "|<img src=\"https://latex.codecogs.com/svg.latex?H_{0}:\\mu=\\mu_{0}\"/></br><img src=\"https://latex.codecogs.com/svg.latex?H_{1}:\\mu>\\mu_{0}\"/>|<img src=\"https://latex.codecogs.com/svg.latex?T>t_{n-1,\\alpha}\"/>이면 &nbsp;<img src=\"https://latex.codecogs.com/svg.latex?H_0\"/>를 기각|p값=&nbsp;<img src=\"https://latex.codecogs.com/svg.latex?P(T>t_{obs}\\mid{H}_{0})\" />가 α보다 작으면 &nbsp;<img src=\"https://latex.codecogs.com/svg.latex?H_{0}\" />를 기각|"
      ]
    },
    {
      "cell_type": "code",
      "metadata": {
        "id": "tWFJqbTHs9Xa",
        "colab": {
          "base_uri": "https://localhost:8080/",
          "height": 87
        },
        "outputId": "372fc230-90ec-447a-cfc3-d1c1f581bd08"
      },
      "source": [
        "X_bar=12.2; mu=12; sd=0.2; n=10; alpha=0.05;\r\n",
        "\r\n",
        "# T 값과 t분포 분위수 계산\r\n",
        "T = (X_bar-mu)/(sd/sqrt(n));\r\n",
        "t_alpha = qt(alpha, df=n-1, lower.tail = FALSE);\r\n",
        "# 검정통계량 > 기각역 이면 \"TRUE\", 아니면 \"FALSE\"\r\n",
        "result_1 = ifelse(T > t_alpha, \"TRUE\", \"FALSE\")\r\n",
        "\r\n",
        "# p값 계산하기\r\n",
        "p_value = pt(T, df=n-1, lower.tail = FALSE);\r\n",
        "# p값 < 유의수준 이면 \"TRUE\", 아니면 \"FALSE\"\r\n",
        "result_2 = ifelse(p_value < alpha, \"TRUE\", \"FALSE\")\r\n",
        "\r\n",
        "sprintf(\"T: %.2f, t_alpha: %.2f\", T, t_alpha)\r\n",
        "print(paste(\"T > t_alpha ?\", result_1))\r\n",
        "sprintf(\"p_value: %.3f, alpha: %.2f\", p_value, alpha)\r\n",
        "print(paste(\"p_value < alpha ?\", result_2))"
      ],
      "execution_count": null,
      "outputs": [
        {
          "output_type": "display_data",
          "data": {
            "text/plain": [
              "[1] \"T: 3.16, t_alpha: 1.83\""
            ],
            "text/latex": "'T: 3.16, t\\_alpha: 1.83'",
            "text/markdown": "'T: 3.16, t_alpha: 1.83'",
            "text/html": [
              "'T: 3.16, t_alpha: 1.83'"
            ]
          },
          "metadata": {
            "tags": []
          }
        },
        {
          "output_type": "stream",
          "text": [
            "[1] \"T > t_alpha ? TRUE\"\n"
          ],
          "name": "stdout"
        },
        {
          "output_type": "display_data",
          "data": {
            "text/plain": [
              "[1] \"p_value: 0.006, alpha: 0.05\""
            ],
            "text/latex": "'p\\_value: 0.006, alpha: 0.05'",
            "text/markdown": "'p_value: 0.006, alpha: 0.05'",
            "text/html": [
              "'p_value: 0.006, alpha: 0.05'"
            ]
          },
          "metadata": {
            "tags": []
          }
        },
        {
          "output_type": "stream",
          "text": [
            "[1] \"p_value < alpha ? TRUE\"\n"
          ],
          "name": "stdout"
        }
      ]
    },
    {
      "cell_type": "markdown",
      "metadata": {
        "id": "jZ0zkwzFcGJN"
      },
      "source": [
        "☞ 검정결과 영가설을 기각한다. 즉, 유의수준이 5% 일 때, 아파트 주민의 인터넷 쇼핑몰 방문횟수가 모평균(12)보다 크다고 할 수 있다."
      ]
    },
    {
      "cell_type": "markdown",
      "metadata": {
        "id": "WXwPS0xXajGN"
      },
      "source": [
        "[예제 6-8] 어느 초등학교에서 16명에 대해서 1년 동안 읽은 책 수를 조사했더니 다음과 같았다. 이 결과가 그 학교 전년 평균 읽은 책 수인 11권보다 큰지를 검정해 보고자 한다. 모집단은 정규분포를 따른다고 가정한다."
      ]
    },
    {
      "cell_type": "markdown",
      "metadata": {
        "id": "VWD6a69abYkx"
      },
      "source": [
        "☞ 영가설: μ=11 / 대안가설 μ>11\r\n",
        "\r\n",
        "|가설|기각역을 이용한 검정|유의확률을 이용한 검정|\r\n",
        "|:---:|:---:|:---:|\r\n",
        "|<img src=\"https://latex.codecogs.com/svg.latex?H_{0}:\\mu=\\mu_{0}\"/></br><img src=\"https://latex.codecogs.com/svg.latex?H_{1}:\\mu>\\mu_{0}\"/>|<img src=\"https://latex.codecogs.com/svg.latex?T>t_{n-1,\\alpha}\"/>이면 &nbsp;<img src=\"https://latex.codecogs.com/svg.latex?H_0\"/>를 기각|p값=&nbsp;<img src=\"https://latex.codecogs.com/svg.latex?P(T>t_{obs}\\mid{H}_{0})\" />가 α보다 작으면 &nbsp;<img src=\"https://latex.codecogs.com/svg.latex?H_{0}\" />를 기각|"
      ]
    },
    {
      "cell_type": "code",
      "metadata": {
        "id": "as_mbn3zba5g",
        "colab": {
          "base_uri": "https://localhost:8080/",
          "height": 104
        },
        "outputId": "3651315d-78aa-423e-da66-08224fd4414f"
      },
      "source": [
        "books = c(5, 23, 20, 1, 10, 15, 15, 10, 9, 13, 18, 11, 18, 20, 19, 19)\r\n",
        "\r\n",
        "X_bar = mean(books)\r\n",
        "sprintf(\"Number of books read: %.1f\", X_bar)\r\n",
        "sd = sd(books)\r\n",
        "n = length(books)\r\n",
        "mu = 11\r\n",
        "alpha = 0.05\r\n",
        "\r\n",
        "# T 값과 t분포 분위수 계산\r\n",
        "T = (X_bar-mu)/(sd/sqrt(n));\r\n",
        "t_alpha = qt(alpha, df=n-1, lower.tail = FALSE);\r\n",
        "# 검정통계량 > 기각역 이면 \"TRUE\", 아니면 \"FALSE\"\r\n",
        "result_1 = ifelse(T > t_alpha, \"TRUE\", \"FALSE\")\r\n",
        "\r\n",
        "# p값 계산하기\r\n",
        "p_value = pt(T, df=n-1, lower.tail = FALSE);\r\n",
        "# p값 < 유의수준 이면 \"TRUE\", 아니면 \"FALSE\"\r\n",
        "result_2 = ifelse(p_value < alpha, \"TRUE\", \"FALSE\")\r\n",
        "\r\n",
        "sprintf(\"T: %.2f, t_alpha: %.2f\", T, t_alpha)\r\n",
        "print(paste(\"T > t_alpha ?\", result_1))\r\n",
        "sprintf(\"p_value: %.3f, alpha: %.2f\", p_value, alpha)\r\n",
        "print(paste(\"p_value < alpha ?\", result_2))"
      ],
      "execution_count": null,
      "outputs": [
        {
          "output_type": "display_data",
          "data": {
            "text/plain": [
              "[1] \"Number of books read: 14.1\""
            ],
            "text/latex": "'Number of books read: 14.1'",
            "text/markdown": "'Number of books read: 14.1'",
            "text/html": [
              "'Number of books read: 14.1'"
            ]
          },
          "metadata": {
            "tags": []
          }
        },
        {
          "output_type": "display_data",
          "data": {
            "text/plain": [
              "[1] \"T: 2.06, t_alpha: 1.75\""
            ],
            "text/latex": "'T: 2.06, t\\_alpha: 1.75'",
            "text/markdown": "'T: 2.06, t_alpha: 1.75'",
            "text/html": [
              "'T: 2.06, t_alpha: 1.75'"
            ]
          },
          "metadata": {
            "tags": []
          }
        },
        {
          "output_type": "stream",
          "text": [
            "[1] \"T > t_alpha ? TRUE\"\n"
          ],
          "name": "stdout"
        },
        {
          "output_type": "display_data",
          "data": {
            "text/plain": [
              "[1] \"p_value: 0.029, alpha: 0.05\""
            ],
            "text/latex": "'p\\_value: 0.029, alpha: 0.05'",
            "text/markdown": "'p_value: 0.029, alpha: 0.05'",
            "text/html": [
              "'p_value: 0.029, alpha: 0.05'"
            ]
          },
          "metadata": {
            "tags": []
          }
        },
        {
          "output_type": "stream",
          "text": [
            "[1] \"p_value < alpha ? TRUE\"\n"
          ],
          "name": "stdout"
        }
      ]
    },
    {
      "cell_type": "markdown",
      "metadata": {
        "id": "huHFpQ9GcLPm"
      },
      "source": [
        "☞ 검정결과 영가설을 기각한다. 즉, 유의수준이 5% 일 때, 읽은 책 수가 모평균(11)보다 크다고 할 수 있다."
      ]
    },
    {
      "cell_type": "markdown",
      "metadata": {
        "id": "VqtCqNtacu7N"
      },
      "source": [
        "[예제 6-9] 작년도 대기업의 대졸 신입사원의 월임금은 평균이 160만 원이었다. 금년도 대졸자의 초임을 알아보기 위해 15명을 단순확률 추출하여 성별과 월임금(단위: 만원)을 조사하니 다음과 같다.\r\n",
        "\r\n",
        "|||||||||||||||||\r\n",
        "|---|---|---|---|---|---|---|---|---|---|---|---|---|---|---|---|\r\n",
        "|성별|남|남|여|남|남|여|남|여|남|남|여|여|여|남|남|\r\n",
        "|임금|163|162|157|172|161|165|162|165|158|159|160|161|165|168|170|\r\n",
        "\r\n",
        "이 데이터를 바탕으로 유의수준 5%에서 올해 대기업의 대졸 신입사원 초임이 작년보다 인상되었는지 가설검정하라."
      ]
    },
    {
      "cell_type": "markdown",
      "metadata": {
        "id": "ivzLPlXBfFp5"
      },
      "source": [
        "☞ 영가설: μ=160 / 대안가설 μ>160\r\n",
        "\r\n",
        "|가설|기각역을 이용한 검정|유의확률을 이용한 검정|\r\n",
        "|:---:|:---:|:---:|\r\n",
        "|<img src=\"https://latex.codecogs.com/svg.latex?H_{0}:\\mu=\\mu_{0}\"/></br><img src=\"https://latex.codecogs.com/svg.latex?H_{1}:\\mu>\\mu_{0}\"/>|<img src=\"https://latex.codecogs.com/svg.latex?T>t_{n-1,\\alpha}\"/>이면 &nbsp;<img src=\"https://latex.codecogs.com/svg.latex?H_0\"/>를 기각|p값=&nbsp;<img src=\"https://latex.codecogs.com/svg.latex?P(T>t_{obs}\\mid{H}_{0})\" />가 α보다 작으면 &nbsp;<img src=\"https://latex.codecogs.com/svg.latex?H_{0}\" />를 기각|"
      ]
    },
    {
      "cell_type": "code",
      "metadata": {
        "id": "09qF7RXXfOL1",
        "colab": {
          "base_uri": "https://localhost:8080/",
          "height": 104
        },
        "outputId": "b1ee6547-9b96-4eb9-e478-4949eb403c0c"
      },
      "source": [
        "sex = c('남', '남', '여', '남', '남', '여', '남', '여', '남', '남', '여', '여', '여', '남', '남')\r\n",
        "wage = c(163, 162, 157, 172, 161, 165, 162, 165, 158, 159, 160, 161, 165, 168, 170)\r\n",
        "df = data.frame(sex, wage)\r\n",
        "\r\n",
        "X_bar = mean(df$wage)\r\n",
        "sprintf(\"Average Wage: %.1f\", X_bar)\r\n",
        "sd = sd(df$wage)\r\n",
        "n = length(df$wage)\r\n",
        "mu = 160\r\n",
        "alpha = 0.05\r\n",
        "\r\n",
        "# T 값과 t분포 분위수 계산\r\n",
        "T = (X_bar-mu)/(sd/sqrt(n));\r\n",
        "t_alpha = qt(alpha, df=n-1, lower.tail = FALSE);\r\n",
        "# 검정통계량 > 기각역 이면 \"TRUE\", 아니면 \"FALSE\"\r\n",
        "result_1 = ifelse(T > t_alpha, \"TRUE\", \"FALSE\")\r\n",
        "\r\n",
        "# p값 계산하기\r\n",
        "p_value = pt(T, df=n-1, lower.tail = FALSE);\r\n",
        "# p값 < 유의수준 이면 \"TRUE\", 아니면 \"FALSE\"\r\n",
        "result_2 = ifelse(p_value < alpha, \"TRUE\", \"FALSE\")\r\n",
        "\r\n",
        "sprintf(\"T: %.2f, t_alpha: %.2f\", T, t_alpha)\r\n",
        "print(paste(\"T > t_alpha ?\", result_1))\r\n",
        "sprintf(\"p_value: %.3f, alpha: %.2f\", p_value, alpha)\r\n",
        "print(paste(\"p_value < alpha ?\", result_2))"
      ],
      "execution_count": null,
      "outputs": [
        {
          "output_type": "display_data",
          "data": {
            "text/plain": [
              "[1] \"Average Wage: 163.2\""
            ],
            "text/latex": "'Average Wage: 163.2'",
            "text/markdown": "'Average Wage: 163.2'",
            "text/html": [
              "'Average Wage: 163.2'"
            ]
          },
          "metadata": {
            "tags": []
          }
        },
        {
          "output_type": "display_data",
          "data": {
            "text/plain": [
              "[1] \"T: 2.86, t_alpha: 1.76\""
            ],
            "text/latex": "'T: 2.86, t\\_alpha: 1.76'",
            "text/markdown": "'T: 2.86, t_alpha: 1.76'",
            "text/html": [
              "'T: 2.86, t_alpha: 1.76'"
            ]
          },
          "metadata": {
            "tags": []
          }
        },
        {
          "output_type": "stream",
          "text": [
            "[1] \"T > t_alpha ? TRUE\"\n"
          ],
          "name": "stdout"
        },
        {
          "output_type": "display_data",
          "data": {
            "text/plain": [
              "[1] \"p_value: 0.006, alpha: 0.05\""
            ],
            "text/latex": "'p\\_value: 0.006, alpha: 0.05'",
            "text/markdown": "'p_value: 0.006, alpha: 0.05'",
            "text/html": [
              "'p_value: 0.006, alpha: 0.05'"
            ]
          },
          "metadata": {
            "tags": []
          }
        },
        {
          "output_type": "stream",
          "text": [
            "[1] \"p_value < alpha ? TRUE\"\n"
          ],
          "name": "stdout"
        }
      ]
    },
    {
      "cell_type": "markdown",
      "metadata": {
        "id": "lG3t21XxfpxM"
      },
      "source": [
        "☞ 검정결과 영가설을 기각한다. 즉, 유의수준이 5% 일 때, 대졸 신입사원의 초임이 모평균(160)보다 크다고 할 수 있다."
      ]
    },
    {
      "cell_type": "markdown",
      "metadata": {
        "id": "mt104PbJfuFi"
      },
      "source": [
        "[예제 6-10] 위궤양의 기존 치료제 치료율이 60%라고 한다. 한 제약회사에서 위궤양에 대한 치료율이 70%인 새로운 치료제를 개발했다. 새로 개발된 약의 치료율을 p라 할 때 50명을 조사한 실험의 표본자료를 가지고 새로운 약에 의해 치료율이 향상되었는가를 유의수준 5%에서 검정하시오."
      ]
    },
    {
      "cell_type": "markdown",
      "metadata": {
        "id": "hCUliXyjf8_j"
      },
      "source": [
        "☞ 영가설: p=0.6 / 대안가설 μ>0.6\r\n",
        "\r\n",
        "|가설|기각역을 이용한 검정|유의확률을 이용한 검정|\r\n",
        "|:---:|:---:|:---:|\r\n",
        "|<img src=\"https://latex.codecogs.com/svg.latex?H_{0}:p=p_{0}\"/></br><img src=\"https://latex.codecogs.com/svg.latex?H_{1}:p>p_{0}\"/>|<img src=\"https://latex.codecogs.com/svg.latex?Z>z_{\\alpha}\"/>이면 &nbsp;<img src=\"https://latex.codecogs.com/svg.latex?H_0\"/>를 기각|p값=&nbsp;<img src=\"https://latex.codecogs.com/svg.latex?P({Z}>z_{obs}\\mid{H}_{0})\" />가 α보다 작으면 &nbsp;<img src=\"https://latex.codecogs.com/svg.latex?H_{0}\" />를 기각|"
      ]
    },
    {
      "cell_type": "code",
      "metadata": {
        "id": "zPpIIiLigRIK",
        "colab": {
          "base_uri": "https://localhost:8080/",
          "height": 87
        },
        "outputId": "6b624c5b-3c10-4bcd-e9a9-d15d0d5c6de4"
      },
      "source": [
        "p_hat = 0.7\r\n",
        "p = 0.6\r\n",
        "n = 50\r\n",
        "alpha = 0.05\r\n",
        "\r\n",
        "# Z 값과 정규분포 분위수 계산\r\n",
        "Z = (p_hat-p) / (sqrt( (p*(1-p))/n ))\r\n",
        "z_alpha = qnorm(alpha, lower.tail=FALSE)\r\n",
        "# 검정통계량 > 기각역 이면 \"TRUE\", 아니면 \"FALSE\"\r\n",
        "result_1 = ifelse(Z > z_alpha, \"TRUE\", \"FALSE\")\r\n",
        "\r\n",
        "# p값 계산하기\r\n",
        "p_value = pnorm(Z, lower.tail = FALSE);\r\n",
        "# p값 < 유의수준 이면 \"TRUE\", 아니면 \"FALSE\"\r\n",
        "result_2 = ifelse(p_value < alpha, \"TRUE\", \"FALSE\")\r\n",
        "\r\n",
        "sprintf(\"Z: %.2f, z_alpha: %.2f\", Z, z_alpha)\r\n",
        "print(paste(\"Z > z_alpha ?\", result_1))\r\n",
        "sprintf(\"p_value: %.3f, alpha: %.2f\", p_value, alpha)\r\n",
        "print(paste(\"p_value < alpha ?\", result_2))"
      ],
      "execution_count": null,
      "outputs": [
        {
          "output_type": "display_data",
          "data": {
            "text/plain": [
              "[1] \"Z: 1.44, z_alpha: 1.64\""
            ],
            "text/latex": "'Z: 1.44, z\\_alpha: 1.64'",
            "text/markdown": "'Z: 1.44, z_alpha: 1.64'",
            "text/html": [
              "'Z: 1.44, z_alpha: 1.64'"
            ]
          },
          "metadata": {
            "tags": []
          }
        },
        {
          "output_type": "stream",
          "text": [
            "[1] \"Z > z_alpha ? FALSE\"\n"
          ],
          "name": "stdout"
        },
        {
          "output_type": "display_data",
          "data": {
            "text/plain": [
              "[1] \"p_value: 0.074, alpha: 0.05\""
            ],
            "text/latex": "'p\\_value: 0.074, alpha: 0.05'",
            "text/markdown": "'p_value: 0.074, alpha: 0.05'",
            "text/html": [
              "'p_value: 0.074, alpha: 0.05'"
            ]
          },
          "metadata": {
            "tags": []
          }
        },
        {
          "output_type": "stream",
          "text": [
            "[1] \"p_value < alpha ? FALSE\"\n"
          ],
          "name": "stdout"
        }
      ]
    },
    {
      "cell_type": "markdown",
      "metadata": {
        "id": "QXViVFiQiLqC"
      },
      "source": [
        "☞ 검정결과 영가설을 기각하지 못한다. 즉, 유의수준이 5% 일 때, 새로운 치료제의 치료율이 모평균(0.6)보다 크다고 할 수 없다."
      ]
    },
    {
      "cell_type": "markdown",
      "metadata": {
        "id": "Cd-IGMHLiUjB"
      },
      "source": [
        "[예제 6-11] 한 화장품 용기에 자동으로 크림을 채우는 기계의 정밀도를 살펴보려고 한다. 채워지는 크림 양의 분산이 1g 이하여야 기계가 안정적이라고 할 수 있다. 품질관리 책임자가 생산 완료된 화장품 10병을 임의로 추출하여 양을 측정한 결과 표본분산 &nbsp;<img src=\"https://latex.codecogs.com/svg.latex?S^2=0.16\" /> 이었다.크림 양이 정규분포를 따른 때 이 자동기계의 정밀도의 척도로 크림양의 분산이 1g 이하인가를 유의수준 5%에서 검정하시오."
      ]
    },
    {
      "cell_type": "markdown",
      "metadata": {
        "id": "6__SJujxi26T"
      },
      "source": [
        "☞ 영가설: &nbsp;<img src=\"https://latex.codecogs.com/svg.latex?\\sigma^2=1\" />  / 대안가설:  &nbsp;<img src=\"https://latex.codecogs.com/svg.latex?\\sigma^2<1\" />  \r\n",
        "\r\n",
        "|가설|기각역을 이용한 검정|유의확률을 이용한 검정|\r\n",
        "|:---:|:---:|:---:|\r\n",
        "|<img src=\"https://latex.codecogs.com/svg.latex?H_{0}:\\sigma^{2}=\\sigma_{0}^{2}\"/></br><img src=\"https://latex.codecogs.com/svg.latex?H_{1}:\\sigma^2<\\sigma_{0}^2\"/>|<img src=\"https://latex.codecogs.com/svg.latex?(n-1)S^2/\\sigma_0^2<\\chi^2_{n-1,1-\\alpha}\"/>이면 &nbsp;<img src=\"https://latex.codecogs.com/svg.latex?H_0\"/>를 기각|p값=&nbsp;<img src=\"https://latex.codecogs.com/svg.latex?P(\\chi^2<\\chi^2_{obs}\\mid{H}_{0})\" />가 α보다 작으면 &nbsp;<img src=\"https://latex.codecogs.com/svg.latex?H_{0}\" />를 기각|"
      ]
    },
    {
      "cell_type": "code",
      "metadata": {
        "id": "pTY_rVrPjeV4",
        "colab": {
          "base_uri": "https://localhost:8080/",
          "height": 87
        },
        "outputId": "64a9cf61-f248-47e2-b8e9-41ecc45980c8"
      },
      "source": [
        "n = 10\r\n",
        "S_sq = 0.16\r\n",
        "sigma_sq = 1\r\n",
        "alpha = 0.05\r\n",
        "\r\n",
        "# CHI_SQ 값과 카이제곱분포 분위수 계산\r\n",
        "CHI_SQ = (n-1) * S_sq / sigma_sq\r\n",
        "chi_value = qchisq(alpha, df=n-1, lower.tail=TRUE)\r\n",
        "# 검정통계량 < 기각역 이면 \"TRUE\", 아니면 \"FALSE\"\r\n",
        "result_1 = ifelse(CHI_SQ < chi_value, \"TRUE\", \"FALSE\")\r\n",
        "\r\n",
        "# p값 계산하기\r\n",
        "p_value = pchisq(CHI_SQ, df=n-1, lower.tail = TRUE);\r\n",
        "# p값 < 유의수준 이면 \"TRUE\", 아니면 \"FALSE\"\r\n",
        "result_2 = ifelse(p_value < alpha, \"TRUE\", \"FALSE\")\r\n",
        "\r\n",
        "sprintf(\"CHI_SQ: %.2f, chi_value: %.2f\", CHI_SQ, chi_value)\r\n",
        "print(paste(\"CHI_SQ < chi_value ?\", result_1))\r\n",
        "sprintf(\"p_value: %.3f, alpha: %.2f\", p_value, alpha)\r\n",
        "print(paste(\"p_value < alpha ?\", result_2))"
      ],
      "execution_count": null,
      "outputs": [
        {
          "output_type": "display_data",
          "data": {
            "text/plain": [
              "[1] \"CHI_SQ: 1.44, chi_value: 3.33\""
            ],
            "text/latex": "'CHI\\_SQ: 1.44, chi\\_value: 3.33'",
            "text/markdown": "'CHI_SQ: 1.44, chi_value: 3.33'",
            "text/html": [
              "'CHI_SQ: 1.44, chi_value: 3.33'"
            ]
          },
          "metadata": {
            "tags": []
          }
        },
        {
          "output_type": "stream",
          "text": [
            "[1] \"CHI_SQ < chi_value ? TRUE\"\n"
          ],
          "name": "stdout"
        },
        {
          "output_type": "display_data",
          "data": {
            "text/plain": [
              "[1] \"p_value: 0.002, alpha: 0.05\""
            ],
            "text/latex": "'p\\_value: 0.002, alpha: 0.05'",
            "text/markdown": "'p_value: 0.002, alpha: 0.05'",
            "text/html": [
              "'p_value: 0.002, alpha: 0.05'"
            ]
          },
          "metadata": {
            "tags": []
          }
        },
        {
          "output_type": "stream",
          "text": [
            "[1] \"p_value < alpha ? TRUE\"\n"
          ],
          "name": "stdout"
        }
      ]
    },
    {
      "cell_type": "markdown",
      "metadata": {
        "id": "ZCkp_uiYmwyy"
      },
      "source": [
        "☞ 검정결과 영가설을 기각한다. 즉, 유의수준이 5% 일 때, 새로운 기계의 분산이 모분산(1)보다 작다고 할 수 있다."
      ]
    },
    {
      "cell_type": "markdown",
      "metadata": {
        "id": "zTk0ojuaspWF"
      },
      "source": [
        "[예제 6-12] 다음의 결과가 그 학교 전년도에 읽은 책의 표준편차 4권보다 큰지를 검정하시오. 모집단은 정규분포를 따른다고 가정한다.  \r\n",
        " 5, 23, 20, 1, 10, 15, 15, 10, 9, 13, 18, 11"
      ]
    },
    {
      "cell_type": "markdown",
      "metadata": {
        "id": "OXlOiSZNszLA"
      },
      "source": [
        "☞ 영가설: &nbsp;<img src=\"https://latex.codecogs.com/svg.latex?\\sigma^2=16\" />  / 대안가설:  &nbsp;<img src=\"https://latex.codecogs.com/svg.latex?\\sigma^2>16\" />  \r\n",
        "\r\n",
        "|가설|기각역을 이용한 검정|유의확률을 이용한 검정|\r\n",
        "|:---:|:---:|:---:|\r\n",
        "|<img src=\"https://latex.codecogs.com/svg.latex?H_{0}:\\sigma^{2}=\\sigma_{0}^{2}\"/></br><img src=\"https://latex.codecogs.com/svg.latex?H_{1}:\\sigma^2>\\sigma_{0}^2\"/>|<img src=\"https://latex.codecogs.com/svg.latex?(n-1)S^2/\\sigma_0^2>\\chi^2_{n-1,\\alpha}\"/>이면 &nbsp;<img src=\"https://latex.codecogs.com/svg.latex?H_0\"/>를 기각|p값=&nbsp;<img src=\"https://latex.codecogs.com/svg.latex?P(\\chi^2>\\chi^2_{obs}\\mid{H}_{0})\" />가 α보다 작으면 &nbsp;<img src=\"https://latex.codecogs.com/svg.latex?H_{0}\" />를 기각|"
      ]
    },
    {
      "cell_type": "code",
      "metadata": {
        "id": "VxE5FTwWtOZF",
        "colab": {
          "base_uri": "https://localhost:8080/",
          "height": 87
        },
        "outputId": "2518d081-480d-43f2-f51f-b633d55c0c6e"
      },
      "source": [
        "books = c(5, 23, 20, 1, 10, 15, 15, 10, 9, 13, 18, 11)\r\n",
        "\r\n",
        "n = length(books)\r\n",
        "S_sq = var(books)\r\n",
        "sigma_sq = 16\r\n",
        "alpha = 0.05\r\n",
        "\r\n",
        "# CHI_SQ 값과 카이제곱분포 분위수 계산\r\n",
        "CHI_SQ = (n-1) * S_sq / sigma_sq\r\n",
        "chi_value = qchisq(alpha, df=n-1, lower.tail=TRUE)\r\n",
        "# 검정통계량 > 기각역 이면 \"TRUE\", 아니면 \"FALSE\"\r\n",
        "result_1 = ifelse(CHI_SQ > chi_value, \"TRUE\", \"FALSE\")\r\n",
        "\r\n",
        "# p값 계산하기\r\n",
        "p_value = pchisq(CHI_SQ, df=n-1, lower.tail = FALSE);\r\n",
        "# p값 < 유의수준 이면 \"TRUE\", 아니면 \"FALSE\"\r\n",
        "result_2 = ifelse(p_value < alpha, \"TRUE\", \"FALSE\")\r\n",
        "\r\n",
        "sprintf(\"CHI_SQ: %.2f, chi_value: %.2f\", CHI_SQ, chi_value)\r\n",
        "print(paste(\"CHI_SQ > chi_value ?\", result_1))\r\n",
        "sprintf(\"p_value: %.3f, alpha: %.2f\", p_value, alpha)\r\n",
        "print(paste(\"p_value < alpha ?\", result_2))"
      ],
      "execution_count": null,
      "outputs": [
        {
          "output_type": "display_data",
          "data": {
            "text/plain": [
              "[1] \"CHI_SQ: 26.56, chi_value: 4.57\""
            ],
            "text/latex": "'CHI\\_SQ: 26.56, chi\\_value: 4.57'",
            "text/markdown": "'CHI_SQ: 26.56, chi_value: 4.57'",
            "text/html": [
              "'CHI_SQ: 26.56, chi_value: 4.57'"
            ]
          },
          "metadata": {
            "tags": []
          }
        },
        {
          "output_type": "stream",
          "text": [
            "[1] \"CHI_SQ > chi_value ? TRUE\"\n"
          ],
          "name": "stdout"
        },
        {
          "output_type": "display_data",
          "data": {
            "text/plain": [
              "[1] \"p_value: 0.005, alpha: 0.05\""
            ],
            "text/latex": "'p\\_value: 0.005, alpha: 0.05'",
            "text/markdown": "'p_value: 0.005, alpha: 0.05'",
            "text/html": [
              "'p_value: 0.005, alpha: 0.05'"
            ]
          },
          "metadata": {
            "tags": []
          }
        },
        {
          "output_type": "stream",
          "text": [
            "[1] \"p_value < alpha ? TRUE\"\n"
          ],
          "name": "stdout"
        }
      ]
    },
    {
      "cell_type": "markdown",
      "metadata": {
        "id": "ElVRs9LkuChn"
      },
      "source": [
        "☞ 검정결과 영가설을 기각한다. 즉, 유의수준이 5% 일 때, 읽은 책 수의 편차는 모표준편차(4)보다 크다고 할 수 있다."
      ]
    },
    {
      "cell_type": "markdown",
      "metadata": {
        "id": "p-dL_cMPuRKv"
      },
      "source": [
        "[연습문제 01] 제1종 오류란 어느 것인가?  \r\n",
        "① 귀무가설이 옮은데도 기각하는 판단  \r\n",
        "☞ 제1종 오류는 양치기소년 이야기 중에서 시간순서상 먼저 발생하는 오류이다. 즉, 늑대가 오지 않는 영가설 상황인데, 늑대가 왔다고 믿는 상황이다."
      ]
    },
    {
      "cell_type": "markdown",
      "metadata": {
        "id": "kVgiw7Bcu35m"
      },
      "source": [
        "[연습문제 02] 귀무가설이 사실일 때 이것을 기각하는 제1종 오류를 범할 확률의 최대허용치는?  \r\n",
        "① 유의수준 α"
      ]
    },
    {
      "cell_type": "markdown",
      "metadata": {
        "id": "q2lBtzDDvFYC"
      },
      "source": [
        "[연습문제 03] 통계학에서 주로 실시하는 검정은?  \r\n",
        "③ 제1종 오류의 최댓값을 일정값으로 고정하고, 제2종 오류를 최소로 하는 검정  \r\n",
        "☞ 제1종 오류가 더 중요하기 때문에 판단기준을 제1종 오류에 두고, 제2종 오류는 최대한 줄이려는 선택을 한다."
      ]
    },
    {
      "cell_type": "markdown",
      "metadata": {
        "id": "3y2Krzgavgui"
      },
      "source": [
        "[연습문제 04] 유의확률의 설명으로 틀린 것은?  \r\n",
        "② 주어진 데이터와는 직접적으로 관계가 없다.  \r\n",
        "☞ 주어진 데이터와 직접적으로 관계가 없는 것은 유의수준이다."
      ]
    },
    {
      "cell_type": "markdown",
      "metadata": {
        "id": "TQbzvyppw4Dk"
      },
      "source": [
        "[연습문제 05] 모평균 μ에 대한 95% 신뢰구간이 (-0.001, 1.01)로 나왔다면, 이 유의수준 0.05에서 귀무가설 H0: μ=0 대 대립가설 H1: μ≠0 의 검증 결과는 어떻게 해석할 수 있을까?  \r\n",
        "④ 신뢰구간을 계산할 때 표준정규분포의 임계값을 사용했는지 또는 t분포의 임계값을 사용했는지에 따라 해석이 다르다."
      ]
    },
    {
      "cell_type": "markdown",
      "metadata": {
        "id": "YHjKK7FNxo9p"
      },
      "source": [
        "[연습문제 06] 유의수준 α=0.05의 의미는?  \r\n",
        "① 동일한 검정법을 여러 번 반복해 사용할 때 잘못으로 귀무가설 H0를 기각하게 될 경우가 전체의 5% 이하일 것이라는 뜻이다."
      ]
    },
    {
      "cell_type": "markdown",
      "metadata": {
        "id": "HYy8yFHmx1yN"
      },
      "source": [
        "[연습문제 07] 다음은 통계적 가설검정의 순서를 나열한 것이다. 가장 올바른 순서는?  \r\n",
        "(1) 가설을 설정한다.  \r\n",
        "(2) 유의수준을 결정한다.  \r\n",
        "(4) 검정통계량을 계산한다.  \r\n",
        "(5) 기각역을 구한다.  \r\n",
        "(3) 가설의 채택 여부를 결정한다.  "
      ]
    },
    {
      "cell_type": "markdown",
      "metadata": {
        "id": "cBg66AvRyJn2"
      },
      "source": [
        "[연습문제 08] 한국인의 정상 혈압치는 평균 μ=80mmHg로 알려져 있다. 한 감기약이 혈압을 낮추는 효과가 있다고 하여 이 약을 복용한 25명의 감기 환자를 조사하여 평균 70mmHg, 표준편차 10mmHg를 얻었다. 감기약이 혈압을 낮추는지를 검정하는데 적합한 가설은?  \r\n",
        "② H0: μ=80mmHg, H1: μ<80mmHg"
      ]
    },
    {
      "cell_type": "markdown",
      "metadata": {
        "id": "AuIpKaaM5tYU"
      },
      "source": [
        "[연습문제 09] 모분산을 모르고 표본크기가 작은 경우 가설 H0: μ1 = μ2, H1: μ1 ≠ μ2를 검정하기 위해 적용되는 검정통계량의 분포는?  \r\n",
        "② t분포"
      ]
    },
    {
      "cell_type": "markdown",
      "metadata": {
        "id": "GEvKHydU5586"
      },
      "source": [
        "[연습문제 10] 심장병치료제가 혈압을 낮추는지를 검정하기 위한 자료에서 컴퓨터로 출력된 검정결과 유의확률 p값이 사전에 정한 기준값 0.05보다 작으면 어떻게 결론을 내리는가?  \r\n",
        "③ 귀무가설을 기각하여 심장병치료제가 혈압을 낮추는 유의한 영향이 있다고 결론짓는다."
      ]
    },
    {
      "cell_type": "markdown",
      "metadata": {
        "id": "5d1N-YfC6NVR"
      },
      "source": [
        "[연습문제 11] 다음은 한 도매 식료품회사의 판매부서에서 일하는 고용인 중 10명을 단순확률 추출하여 얻은 키이다.  \r\n",
        "154, 154, 186, 243, 159, 174, 183, 163, 192, 181  \r\n",
        "이 데이터에 근거하여 판매부서에서 일하는 고용인들의 평균키가 160보다 크다고 할 수 있는가? (유의수준 0.05)"
      ]
    },
    {
      "cell_type": "markdown",
      "metadata": {
        "id": "kifT1BGO6kfo"
      },
      "source": [
        "☞ 영가설: μ = 160 / 대안가설: μ > 160  \r\n",
        "\r\n",
        "|가설|기각역을 이용한 검정|유의확률을 이용한 검정|\r\n",
        "|:---:|:---:|:---:|\r\n",
        "|<img src=\"https://latex.codecogs.com/svg.latex?H_{0}:\\mu=\\mu_{0}\"/></br><img src=\"https://latex.codecogs.com/svg.latex?H_{1}:\\mu>\\mu_{0}\"/>|<img src=\"https://latex.codecogs.com/svg.latex?T>t_{n-1,\\alpha}\"/>이면 &nbsp;<img src=\"https://latex.codecogs.com/svg.latex?H_0\"/>를 기각|p값=&nbsp;<img src=\"https://latex.codecogs.com/svg.latex?P(T>t_{obs}\\mid{H}_{0})\" />가 α보다 작으면 &nbsp;<img src=\"https://latex.codecogs.com/svg.latex?H_{0}\" />를 기각|"
      ]
    },
    {
      "cell_type": "code",
      "metadata": {
        "colab": {
          "base_uri": "https://localhost:8080/",
          "height": 104
        },
        "id": "YtMknQ517Cqp",
        "outputId": "6c34ad7e-7f47-4f6a-e2fc-20a3ce2507d7"
      },
      "source": [
        "height = c(154, 154, 186, 243, 159, 174, 183, 163, 192, 181)\r\n",
        "\r\n",
        "X_bar = mean(height)\r\n",
        "sprintf(\"Average Height: %.1f\", X_bar)\r\n",
        "sd = sd(height)\r\n",
        "n = length(height)\r\n",
        "mu = 160\r\n",
        "alpha = 0.05\r\n",
        "\r\n",
        "# T 값과 t분포 분위수 계산\r\n",
        "T = (X_bar-mu)/(sd/sqrt(n));\r\n",
        "t_alpha = qt(alpha, df=n-1, lower.tail = FALSE);\r\n",
        "# 검정통계량 > 기각역 이면 \"TRUE\", 아니면 \"FALSE\"\r\n",
        "result_1 = ifelse(T > t_alpha, \"TRUE\", \"FALSE\")\r\n",
        "\r\n",
        "# p값 계산하기\r\n",
        "p_value = pt(T, df=n-1, lower.tail = FALSE);\r\n",
        "# p값 < 유의수준 이면 \"TRUE\", 아니면 \"FALSE\"\r\n",
        "result_2 = ifelse(p_value < alpha, \"TRUE\", \"FALSE\")\r\n",
        "\r\n",
        "sprintf(\"T: %.2f, t_alpha: %.2f\", T, t_alpha)\r\n",
        "print(paste(\"T > t_alpha ?\", result_1))\r\n",
        "sprintf(\"p_value: %.3f, alpha: %.2f\", p_value, alpha)\r\n",
        "print(paste(\"p_value < alpha ?\", result_2))"
      ],
      "execution_count": 3,
      "outputs": [
        {
          "output_type": "display_data",
          "data": {
            "text/plain": [
              "[1] \"Average Height: 178.9\""
            ],
            "text/latex": "'Average Height: 178.9'",
            "text/markdown": "'Average Height: 178.9'",
            "text/html": [
              "'Average Height: 178.9'"
            ]
          },
          "metadata": {
            "tags": []
          }
        },
        {
          "output_type": "display_data",
          "data": {
            "text/plain": [
              "[1] \"T: 2.27, t_alpha: 1.83\""
            ],
            "text/latex": "'T: 2.27, t\\_alpha: 1.83'",
            "text/markdown": "'T: 2.27, t_alpha: 1.83'",
            "text/html": [
              "'T: 2.27, t_alpha: 1.83'"
            ]
          },
          "metadata": {
            "tags": []
          }
        },
        {
          "output_type": "stream",
          "text": [
            "[1] \"T > t_alpha ? TRUE\"\n"
          ],
          "name": "stdout"
        },
        {
          "output_type": "display_data",
          "data": {
            "text/plain": [
              "[1] \"p_value: 0.025, alpha: 0.05\""
            ],
            "text/latex": "'p\\_value: 0.025, alpha: 0.05'",
            "text/markdown": "'p_value: 0.025, alpha: 0.05'",
            "text/html": [
              "'p_value: 0.025, alpha: 0.05'"
            ]
          },
          "metadata": {
            "tags": []
          }
        },
        {
          "output_type": "stream",
          "text": [
            "[1] \"p_value < alpha ? TRUE\"\n"
          ],
          "name": "stdout"
        }
      ]
    },
    {
      "cell_type": "markdown",
      "metadata": {
        "id": "fhHl0tWL7tSS"
      },
      "source": [
        "☞ 검정결과 영가설을 기각한다. 즉, 유의수준이 5% 일 때, 고용인들의 평균키가 160보다 크다고 할 수 있다."
      ]
    },
    {
      "cell_type": "markdown",
      "metadata": {
        "id": "0zPL4RiU70fo"
      },
      "source": [
        "[연습문제 12] 지붕에 바르는 타르를 만드는 한 회사는 불순물의 비율이 평균 3%가 넘지 않기를 원한다. 타르 30통을 표본추출하여 불순물의 비율이 다음과 같을 때 이 자료에 의해 모평균이 3%보다 작다고 할 수 있는가?  \r\n",
        " 3 3 1 1 0.5 2 2 4 5 4 5 3 1 3 1  \r\n",
        " 4 1 1 4 2 5 3 1 1 1 0.75 1.5 3 3 2"
      ]
    },
    {
      "cell_type": "markdown",
      "metadata": {
        "id": "d1bQcDYk8No1"
      },
      "source": [
        "☞ 영가설: μ=3 / 대안가설 μ<3\r\n",
        "\r\n",
        "|가설|기각역을 이용한 검정|유의확률을 이용한 검정|\r\n",
        "|:---:|:---:|:---:|\r\n",
        "|<img src=\"https://latex.codecogs.com/svg.latex?H_{0}:\\mu=\\mu_{0}\"/></br><img src=\"https://latex.codecogs.com/svg.latex?H_{1}:\\mu<\\mu_{0}\"/>|<img src=\"https://latex.codecogs.com/svg.latex?T<-t_{n-1,\\alpha}\"/>이면 &nbsp;<img src=\"https://latex.codecogs.com/svg.latex?H_0\"/>를 기각|p값=&nbsp;<img src=\"https://latex.codecogs.com/svg.latex?P(T<t_{obs}\\mid{H}_{0})\" />가 α보다 작으면 &nbsp;<img src=\"https://latex.codecogs.com/svg.latex?H_{0}\" />를 기각|"
      ]
    },
    {
      "cell_type": "code",
      "metadata": {
        "colab": {
          "base_uri": "https://localhost:8080/",
          "height": 104
        },
        "id": "EK2DIHMG8r_i",
        "outputId": "92690692-b25f-41b1-dadd-4297864c1b2b"
      },
      "source": [
        "impurities = c(3, 3, 1, 1, 0.5, 2, 2, 4, 5, 4, 5, 3, 1, 3, 1, 4, 1, 1, 4, 2, 5, 3, 1, 1, 1, 0.75, 1.5, 3, 3, 2)\r\n",
        "\r\n",
        "X_bar = mean(impurities)\r\n",
        "sprintf(\"Average: %.1f\", X_bar)\r\n",
        "sd = sd(impurities)\r\n",
        "n = length(impurities)\r\n",
        "mu = 3\r\n",
        "alpha = 0.05\r\n",
        "\r\n",
        "# T 값과 t분포 분위수 계산\r\n",
        "T = (X_bar-mu)/(sd/sqrt(n));\r\n",
        "t_alpha = qt(alpha, df=n-1, lower.tail = FALSE);\r\n",
        "# 검정통계량 < 기각역 이면 \"TRUE\", 아니면 \"FALSE\"\r\n",
        "result_1 = ifelse(T < -t_alpha, \"TRUE\", \"FALSE\")\r\n",
        "\r\n",
        "# p값 계산하기\r\n",
        "p_value = pt(T, df=n-1, lower.tail = TRUE);\r\n",
        "# p값 < 유의수준 이면 \"TRUE\", 아니면 \"FALSE\"\r\n",
        "result_2 = ifelse(p_value < alpha, \"TRUE\", \"FALSE\")\r\n",
        "\r\n",
        "sprintf(\"T: %.2f, -t_alpha: -%.2f\", T, t_alpha)\r\n",
        "print(paste(\"T < -t_alpha ?\", result_1))\r\n",
        "sprintf(\"p_value: %.3f, alpha: %.2f\", p_value, alpha)\r\n",
        "print(paste(\"p_value < alpha ?\", result_2))"
      ],
      "execution_count": 13,
      "outputs": [
        {
          "output_type": "display_data",
          "data": {
            "text/plain": [
              "[1] \"Average: 2.4\""
            ],
            "text/latex": "'Average: 2.4'",
            "text/markdown": "'Average: 2.4'",
            "text/html": [
              "'Average: 2.4'"
            ]
          },
          "metadata": {
            "tags": []
          }
        },
        {
          "output_type": "display_data",
          "data": {
            "text/plain": [
              "[1] \"T: -2.35, -t_alpha: -1.70\""
            ],
            "text/latex": "'T: -2.35, -t\\_alpha: -1.70'",
            "text/markdown": "'T: -2.35, -t_alpha: -1.70'",
            "text/html": [
              "'T: -2.35, -t_alpha: -1.70'"
            ]
          },
          "metadata": {
            "tags": []
          }
        },
        {
          "output_type": "stream",
          "text": [
            "[1] \"T < -t_alpha ? TRUE\"\n"
          ],
          "name": "stdout"
        },
        {
          "output_type": "display_data",
          "data": {
            "text/plain": [
              "[1] \"p_value: 0.013, alpha: 0.05\""
            ],
            "text/latex": "'p\\_value: 0.013, alpha: 0.05'",
            "text/markdown": "'p_value: 0.013, alpha: 0.05'",
            "text/html": [
              "'p_value: 0.013, alpha: 0.05'"
            ]
          },
          "metadata": {
            "tags": []
          }
        },
        {
          "output_type": "stream",
          "text": [
            "[1] \"p_value < alpha ? TRUE\"\n"
          ],
          "name": "stdout"
        }
      ]
    },
    {
      "cell_type": "markdown",
      "metadata": {
        "id": "fkaVf9Ta-Dpi"
      },
      "source": [
        "☞ 검정결과 영가설을 기각한다. 즉, 유의수준이 5% 일 때, 불순물이 3%보다 작게 들어가 있다고 할 수 있다."
      ]
    },
    {
      "cell_type": "markdown",
      "metadata": {
        "id": "-Cf7-2kw-XbT"
      },
      "source": [
        "[연습문제 13]"
      ]
    },
    {
      "cell_type": "code",
      "metadata": {
        "colab": {
          "base_uri": "https://localhost:8080/",
          "height": 215
        },
        "id": "3Mqm6Mbm-Vr-",
        "outputId": "6998663f-1f8b-41f2-d85d-9eae45992738"
      },
      "source": [
        "# Q13\r\n",
        "C6_Q13 <- c(5.2, 5.0, 4.8, 5.3, 5.1, 4.7, 4.9, 4.6, 4.5, 5.2,\r\n",
        "            4.2, 5.4, 4.8, 5.2, 5.1, 5.3, 4.7, 5.6, 5.5, 4.8,\r\n",
        "            5.2, 4.7, 4.8, 5.0, 4.9)\r\n",
        "X_bar=mean(C6_Q13); mu=5; sd=sqrt(var(C6_Q13)); n<-length(C6_Q13); alpha=0.05;\r\n",
        "t.test(C6_Q13, alternative=c(\"two.sided\"), conf.level=0.95)"
      ],
      "execution_count": 14,
      "outputs": [
        {
          "output_type": "display_data",
          "data": {
            "text/plain": [
              "\n",
              "\tOne Sample t-test\n",
              "\n",
              "data:  C6_Q13\n",
              "t = 75.362, df = 24, p-value < 2.2e-16\n",
              "alternative hypothesis: true mean is not equal to 0\n",
              "95 percent confidence interval:\n",
              " 4.843616 5.116384\n",
              "sample estimates:\n",
              "mean of x \n",
              "     4.98 \n"
            ]
          },
          "metadata": {
            "tags": []
          }
        }
      ]
    },
    {
      "cell_type": "markdown",
      "metadata": {
        "id": "jon7aABm-rNd"
      },
      "source": [
        "[연습문제 14]"
      ]
    },
    {
      "cell_type": "code",
      "metadata": {
        "colab": {
          "base_uri": "https://localhost:8080/",
          "height": 34
        },
        "id": "A1bAb4gw-stA",
        "outputId": "a08fa305-17da-426a-a9b0-138ed91ffa63"
      },
      "source": [
        "# Q14\r\n",
        "phat=0.45; p=0.4; n=1000; alpha=0.05;\r\n",
        "\r\n",
        "Z = (phat-p)/(sqrt(p*(1-p)/n));\r\n",
        "z_alpha = qnorm(alpha, lower.tail=FALSE);\r\n",
        "result_1 = Z > z_alpha;\r\n",
        "result_1"
      ],
      "execution_count": 17,
      "outputs": [
        {
          "output_type": "display_data",
          "data": {
            "text/plain": [
              "[1] TRUE"
            ],
            "text/latex": "TRUE",
            "text/markdown": "TRUE",
            "text/html": [
              "TRUE"
            ]
          },
          "metadata": {
            "tags": []
          }
        }
      ]
    },
    {
      "cell_type": "markdown",
      "metadata": {
        "id": "Wn_A8ZXH-xhI"
      },
      "source": [
        "[연습문제 15]"
      ]
    },
    {
      "cell_type": "code",
      "metadata": {
        "colab": {
          "base_uri": "https://localhost:8080/"
        },
        "id": "CmCqDpyu-yvH",
        "outputId": "853c55fe-ce7b-4c54-cd33-9d38c09c8a18"
      },
      "source": [
        "# Q15\r\n",
        "C6_Q15 <- c(226, 228, 226, 225, 232, 228, 227, 229, 225, 230)\r\n",
        "X_bar=mean(C6_Q15); S2=var(C6_Q15); sigma2=1.5^2; n<-length(C6_Q15); alpha=0.05;\r\n",
        "\r\n",
        "# explanation 1\r\n",
        "CHI2 = (n-1)*S2/sigma2;\r\n",
        "chi_alpha = qchisq(0.05, df=n-1, lower.tail=FALSE);\r\n",
        "result_1 = CHI2 > chi_alpha;\r\n",
        "# explanation 2\r\n",
        "p_value = pchisq(CHI2, df=n-1, lower.tail=FALSE);\r\n",
        "result2 = p_value < alpha;"
      ],
      "execution_count": 21,
      "outputs": [
        {
          "output_type": "stream",
          "text": [
            "[1] \"CHI_SQ > CHI_alpha ? TRUE\"\n",
            "[1] \"p_value < alpha ? TRUE\"\n"
          ],
          "name": "stdout"
        }
      ]
    },
    {
      "cell_type": "code",
      "metadata": {
        "id": "vtoapmiB-7oS"
      },
      "source": [
        ""
      ],
      "execution_count": null,
      "outputs": []
    }
  ]
}