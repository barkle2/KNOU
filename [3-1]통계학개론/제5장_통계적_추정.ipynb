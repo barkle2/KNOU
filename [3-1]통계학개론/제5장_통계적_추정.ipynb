{
  "nbformat": 4,
  "nbformat_minor": 0,
  "metadata": {
    "colab": {
      "name": "제5장 통계적 추정.ipynb",
      "provenance": [],
      "collapsed_sections": [],
      "authorship_tag": "ABX9TyObS9Pb4EH3Dh/bhNrvyktF",
      "include_colab_link": true
    },
    "kernelspec": {
      "name": "ir",
      "display_name": "R"
    }
  },
  "cells": [
    {
      "cell_type": "markdown",
      "metadata": {
        "id": "view-in-github",
        "colab_type": "text"
      },
      "source": [
        "<a href=\"https://colab.research.google.com/github/barkle2/KNOU/blob/master/%5B3-1%5D%ED%86%B5%EA%B3%84%ED%95%99%EA%B0%9C%EB%A1%A0/%EC%A0%9C5%EC%9E%A5_%ED%86%B5%EA%B3%84%EC%A0%81_%EC%B6%94%EC%A0%95.ipynb\" target=\"_parent\"><img src=\"https://colab.research.google.com/assets/colab-badge.svg\" alt=\"Open In Colab\"/></a>"
      ]
    },
    {
      "cell_type": "markdown",
      "metadata": {
        "id": "8Eh625nKEn8r"
      },
      "source": [
        "[예제 5-3] 학생들의 통계학 실력을 살펴보기 위해 전체 학생 중 16명을 단순확률추출하여 시험을 실시했다. 시험결과 표본평균이 175점(200점 만점)이었다. 표준편차가 5점으로 추정되었다. 학생들의 통계학 시험점수가 정규분포를 따른다고 가정했다."
      ]
    },
    {
      "cell_type": "markdown",
      "metadata": {
        "id": "eTNqLz3dGWUO"
      },
      "source": [
        "(1) 전체 학생의 통계학 점수의 평균을 점추정하라.  \r\n",
        "☞ 175점  \r\n",
        "표본평균은 모평균의 불평추정량이므로 같은 값을 갖는다."
      ]
    },
    {
      "cell_type": "markdown",
      "metadata": {
        "id": "IJ1SSt-UGvTh"
      },
      "source": [
        "(2) 전체 학생의 통계학 점수의 평균에 대한 95% 신뢰구간을 구하라.  \r\n",
        "  \r\n",
        "문제에서 '표준편차가 5점으로 추정되었다'고 했으므로 모평균을 알지 못하는 상황임을 알 수 있다. 즉, 정규분포 대신 t분포를 이용하여 신뢰구간을 구해야 한다.  \r\n",
        "&nbsp;&nbsp;&nbsp;&nbsp;<img src=\"https://latex.codecogs.com/svg.latex?\\Big[\\bar{X}-t_{n-1,\\alpha/2}\\frac{S}{\\sqrt{n}},\\bar{X}+t_{n-1,\\alpha/2}\\frac{S}{\\sqrt{n}}\\Big]\" />"
      ]
    },
    {
      "cell_type": "code",
      "metadata": {
        "id": "Zn0THJBAHqHT",
        "colab": {
          "base_uri": "https://localhost:8080/",
          "height": 52
        },
        "outputId": "3eb2444b-33c5-491d-ac69-e235f9fd3ce0"
      },
      "source": [
        "S = 5\r\n",
        "n = 16\r\n",
        "alpha = 0.05\r\n",
        "# qt: t분포의 분위수\r\n",
        "qt(alpha/2, n-1, lower.tail = FALSE)\r\n",
        "# 95% 신뢰구간 구하기\r\n",
        "min_value = 175 - qt(alpha/2, n-1, lower.tail = FALSE)*(5/sqrt(n))\r\n",
        "max_value = 175 + qt(alpha/2, n-1, lower.tail = FALSE)*(5/sqrt(n))\r\n",
        "# 출력하기\r\n",
        "res = paste(\"[\",toString(round(min_value,2)),\",\",toString(round(max_value,2)),\"]\")\r\n",
        "print(res)"
      ],
      "execution_count": null,
      "outputs": [
        {
          "output_type": "display_data",
          "data": {
            "text/plain": [
              "[1] 2.13145"
            ],
            "text/latex": "2.13144954555978",
            "text/markdown": "2.13144954555978",
            "text/html": [
              "2.13144954555978"
            ]
          },
          "metadata": {
            "tags": []
          }
        },
        {
          "output_type": "stream",
          "text": [
            "[1] \"[ 172.34 , 177.66 ]\"\n"
          ],
          "name": "stdout"
        }
      ]
    },
    {
      "cell_type": "markdown",
      "metadata": {
        "id": "lgwoenRnLM95"
      },
      "source": [
        "(3) 전체 학생의 통계학 점수의 평균에 대한 99% 신뢰구간을 구하라. 이 구간의 너비가 95% 신뢰구간과 비교해 어떠한가?"
      ]
    },
    {
      "cell_type": "code",
      "metadata": {
        "id": "tDzpke0tLYVz",
        "colab": {
          "base_uri": "https://localhost:8080/",
          "height": 52
        },
        "outputId": "8f36f9bd-7ddc-4e1e-f773-14893f3349e6"
      },
      "source": [
        "S = 5\r\n",
        "n = 16\r\n",
        "alpha = 0.01\r\n",
        "# qt: t분포의 분위수\r\n",
        "qt(alpha/2, n-1, lower.tail = FALSE)\r\n",
        "# 95% 신뢰구간 구하기\r\n",
        "min_value = 175 - qt(alpha/2, n-1, lower.tail = FALSE)*(5/sqrt(n))\r\n",
        "max_value = 175 + qt(alpha/2, n-1, lower.tail = FALSE)*(5/sqrt(n))\r\n",
        "# 출력하기\r\n",
        "res = paste(\"[\",toString(round(min_value,2)),\",\",toString(round(max_value,2)),\"]\")\r\n",
        "print(res)"
      ],
      "execution_count": null,
      "outputs": [
        {
          "output_type": "display_data",
          "data": {
            "text/plain": [
              "[1] 2.946713"
            ],
            "text/latex": "2.94671288347524",
            "text/markdown": "2.94671288347524",
            "text/html": [
              "2.94671288347524"
            ]
          },
          "metadata": {
            "tags": []
          }
        },
        {
          "output_type": "stream",
          "text": [
            "[1] \"[ 171.32 , 178.68 ]\"\n"
          ],
          "name": "stdout"
        }
      ]
    },
    {
      "cell_type": "markdown",
      "metadata": {
        "id": "ACFVpR9oLdVn"
      },
      "source": [
        "☞ 99% 신뢰구간이 95% 신뢰구간보다 더 넓다."
      ]
    },
    {
      "cell_type": "markdown",
      "metadata": {
        "id": "rByp9BoWLiTO"
      },
      "source": [
        "(4) 표본크기가 100명이었을 때 전체 학생의 통계학 점수의 95% 신뢰구간을 구하고, 문제 (2)의 구간 너비와 비교해 구간의 너비가 어떠한가?"
      ]
    },
    {
      "cell_type": "code",
      "metadata": {
        "id": "oeUQcrGELsZ4",
        "colab": {
          "base_uri": "https://localhost:8080/",
          "height": 52
        },
        "outputId": "a768cc06-0d0b-4f5a-f502-872e8ba527fb"
      },
      "source": [
        "S = 5\r\n",
        "n = 100\r\n",
        "alpha = 0.05\r\n",
        "# qt: t분포의 분위수\r\n",
        "qt(alpha/2, n-1, lower.tail = FALSE)\r\n",
        "# 95% 신뢰구간 구하기\r\n",
        "min_value = 175 - qt(alpha/2, n-1, lower.tail = FALSE)*(5/sqrt(n))\r\n",
        "max_value = 175 + qt(alpha/2, n-1, lower.tail = FALSE)*(5/sqrt(n))\r\n",
        "# 출력하기\r\n",
        "res = paste(\"[\",toString(round(min_value,2)),\",\",toString(round(max_value,2)),\"]\")\r\n",
        "print(res)"
      ],
      "execution_count": null,
      "outputs": [
        {
          "output_type": "display_data",
          "data": {
            "text/plain": [
              "[1] 1.984217"
            ],
            "text/latex": "1.98421695158642",
            "text/markdown": "1.98421695158642",
            "text/html": [
              "1.98421695158642"
            ]
          },
          "metadata": {
            "tags": []
          }
        },
        {
          "output_type": "stream",
          "text": [
            "[1] \"[ 174.01 , 175.99 ]\"\n"
          ],
          "name": "stdout"
        }
      ]
    },
    {
      "cell_type": "markdown",
      "metadata": {
        "id": "4dFX36feLw6g"
      },
      "source": [
        "☞ 표본크기가 100명인 경우 신뢰구간의 길이가 줄어든다. 즉, 보다 정확한 추정을 할 수 있다."
      ]
    },
    {
      "cell_type": "markdown",
      "metadata": {
        "id": "P0bGnppuqwMi"
      },
      "source": [
        "[예제 5-4] 대기업의 금년도 대졸자 초임을 알아보기 위하여 15명을 단순확률 추출하여 성별과 월임금(단위:만원)을 조사해 보니 다음과 같았다.\r\n",
        "\r\n",
        "|||||||||||||||||\r\n",
        "|---|---|---|---|---|---|---|---|---|---|---|---|---|---|---|---|\r\n",
        "|성별|남|남|여|남|남|여|남|여|남|남|여|여|여|남|남|\r\n",
        "|임금|163|162|157|172|161|165|162|165|158|159|160|161|165|168|170|"
      ]
    },
    {
      "cell_type": "code",
      "metadata": {
        "id": "EY_-KyaDsA7x"
      },
      "source": [
        "sex = c('남', '남', '여', '남', '남', '여', '남', '여', '남', '남', '여', '여', '여', '남', '남')\r\n",
        "wage = c(163, 162, 157, 172, 161, 165, 162, 165, 158, 159, 160, 161, 165, 168, 170)\r\n",
        "\r\n",
        "df = data.frame(sex, wage)"
      ],
      "execution_count": 16,
      "outputs": []
    },
    {
      "cell_type": "markdown",
      "metadata": {
        "id": "5t98GyCVuNSe"
      },
      "source": [
        "(1) 전체 대졸자 초임의 평균에 대한 95% 신뢰구간을 구하라.\r\n",
        "\r\n",
        "모집단의 분산이나 표준편차 정보가 주어지지 않았다. 즉, 정규분포 대신 t분포를 이용하여 신뢰구간을 구해야 한다.  \r\n",
        "&nbsp;&nbsp;&nbsp;&nbsp;<img src=\"https://latex.codecogs.com/svg.latex?\\Big[\\bar{X}-t_{n-1,\\alpha/2}\\frac{S}{\\sqrt{n}},\\bar{X}+t_{n-1,\\alpha/2}\\frac{S}{\\sqrt{n}}\\Big]\" />"
      ]
    },
    {
      "cell_type": "code",
      "metadata": {
        "id": "KU4DFF_vuQ-j",
        "outputId": "43b27f34-0cbd-4a89-c6d0-9e3dfa22d518",
        "colab": {
          "base_uri": "https://localhost:8080/",
          "height": 102
        }
      },
      "source": [
        "# 점 추정값을 먼저 구한다.\r\n",
        "X_bar = mean(df$wage)\r\n",
        "sprintf(\"X_bar: %.1f\", X_bar)\r\n",
        "\r\n",
        "# 95% 신뢰구간을 계산한다.\r\n",
        "S = sd(df$wage)\r\n",
        "sprintf(\"S: %.2f\", S)\r\n",
        "\r\n",
        "t_value = qt(0.025, 14, lower.tail=FALSE)\r\n",
        "sprintf(\"t_value: %.2f\", t_value)\r\n",
        "\r\n",
        "n= 15\r\n",
        "sprintf(\"n: %d\", n)\r\n",
        "\r\n",
        "min_value = X_bar - t_value * S / sqrt(n)\r\n",
        "max_value = X_bar + t_value * S / sqrt(n)\r\n",
        "sprintf(\"95%% 신뢰구간: [ %.2f , %.2f ]\", min_value, max_value)"
      ],
      "execution_count": 38,
      "outputs": [
        {
          "output_type": "display_data",
          "data": {
            "text/plain": [
              "[1] \"X_bar: 163.2\""
            ],
            "text/latex": "'X\\_bar: 163.2'",
            "text/markdown": "'X_bar: 163.2'",
            "text/html": [
              "'X_bar: 163.2'"
            ]
          },
          "metadata": {
            "tags": []
          }
        },
        {
          "output_type": "display_data",
          "data": {
            "text/plain": [
              "[1] \"S: 4.33\""
            ],
            "text/latex": "'S: 4.33'",
            "text/markdown": "'S: 4.33'",
            "text/html": [
              "'S: 4.33'"
            ]
          },
          "metadata": {
            "tags": []
          }
        },
        {
          "output_type": "display_data",
          "data": {
            "text/plain": [
              "[1] \"t_value: 2.14\""
            ],
            "text/latex": "'t\\_value: 2.14'",
            "text/markdown": "'t_value: 2.14'",
            "text/html": [
              "'t_value: 2.14'"
            ]
          },
          "metadata": {
            "tags": []
          }
        },
        {
          "output_type": "display_data",
          "data": {
            "text/plain": [
              "[1] \"n: 15\""
            ],
            "text/latex": "'n: 15'",
            "text/markdown": "'n: 15'",
            "text/html": [
              "'n: 15'"
            ]
          },
          "metadata": {
            "tags": []
          }
        },
        {
          "output_type": "display_data",
          "data": {
            "text/plain": [
              "[1] \"95% 신뢰구간: [ 160.80 , 165.60 ]\""
            ],
            "text/latex": "'95\\% 신뢰구간: {[} 160.80 , 165.60 {]}'",
            "text/markdown": "'95% 신뢰구간: [ 160.80 , 165.60 ]'",
            "text/html": [
              "'95% 신뢰구간: [ 160.80 , 165.60 ]'"
            ]
          },
          "metadata": {
            "tags": []
          }
        }
      ]
    },
    {
      "cell_type": "markdown",
      "metadata": {
        "id": "dHGG9xxEzBoB"
      },
      "source": [
        "(2) 남녀별로 대졸자 초임의 평균에 대한 95% 신뢰구간을 구하라."
      ]
    },
    {
      "cell_type": "code",
      "metadata": {
        "id": "Q14JggbnzGJN",
        "outputId": "cd6360d7-c4f7-4126-b4f2-01f9afc75dce",
        "colab": {
          "base_uri": "https://localhost:8080/",
          "height": 102
        }
      },
      "source": [
        "# 남성 대졸자 초임의 95% 신뢰구간 구하기\r\n",
        "# 성별이 '남'인 데이터만 추출\r\n",
        "df_men = df[df$sex=='남',]\r\n",
        "\r\n",
        "# 점 추정값을 먼저 구한다.\r\n",
        "X_bar = mean(df_men$wage)\r\n",
        "sprintf(\"X_bar: %.1f\", X_bar)\r\n",
        "\r\n",
        "# 95% 신뢰구간을 계산한다.\r\n",
        "S = sd(df_men$wage)\r\n",
        "sprintf(\"S: %.2f\", S)\r\n",
        "\r\n",
        "n= 9\r\n",
        "sprintf(\"n: %d\", n)\r\n",
        "\r\n",
        "t_value = qt(0.025, n-1, lower.tail=FALSE)\r\n",
        "sprintf(\"t_value: %.2f\", t_value)\r\n",
        "\r\n",
        "min_value = X_bar - t_value * S / sqrt(n)\r\n",
        "max_value = X_bar + t_value * S / sqrt(n)\r\n",
        "sprintf(\"95%% 신뢰구간: [ %.2f , %.2f ]\", min_value, max_value)"
      ],
      "execution_count": 49,
      "outputs": [
        {
          "output_type": "display_data",
          "data": {
            "text/plain": [
              "[1] \"X_bar: 163.9\""
            ],
            "text/latex": "'X\\_bar: 163.9'",
            "text/markdown": "'X_bar: 163.9'",
            "text/html": [
              "'X_bar: 163.9'"
            ]
          },
          "metadata": {
            "tags": []
          }
        },
        {
          "output_type": "display_data",
          "data": {
            "text/plain": [
              "[1] \"S: 4.94\""
            ],
            "text/latex": "'S: 4.94'",
            "text/markdown": "'S: 4.94'",
            "text/html": [
              "'S: 4.94'"
            ]
          },
          "metadata": {
            "tags": []
          }
        },
        {
          "output_type": "display_data",
          "data": {
            "text/plain": [
              "[1] \"n: 9\""
            ],
            "text/latex": "'n: 9'",
            "text/markdown": "'n: 9'",
            "text/html": [
              "'n: 9'"
            ]
          },
          "metadata": {
            "tags": []
          }
        },
        {
          "output_type": "display_data",
          "data": {
            "text/plain": [
              "[1] \"t_value: 2.31\""
            ],
            "text/latex": "'t\\_value: 2.31'",
            "text/markdown": "'t_value: 2.31'",
            "text/html": [
              "'t_value: 2.31'"
            ]
          },
          "metadata": {
            "tags": []
          }
        },
        {
          "output_type": "display_data",
          "data": {
            "text/plain": [
              "[1] \"95% 신뢰구간: [ 160.09 , 167.68 ]\""
            ],
            "text/latex": "'95\\% 신뢰구간: {[} 160.09 , 167.68 {]}'",
            "text/markdown": "'95% 신뢰구간: [ 160.09 , 167.68 ]'",
            "text/html": [
              "'95% 신뢰구간: [ 160.09 , 167.68 ]'"
            ]
          },
          "metadata": {
            "tags": []
          }
        }
      ]
    },
    {
      "cell_type": "code",
      "metadata": {
        "id": "NzoRL8iN0f7a",
        "outputId": "195f0633-1b8b-4e77-ccbe-c870f94a5533",
        "colab": {
          "base_uri": "https://localhost:8080/",
          "height": 102
        }
      },
      "source": [
        "# 여성 대졸자 초임의 95% 신뢰구간 구하기\r\n",
        "# 성별이 '여'인 데이터만 추출\r\n",
        "df_women = df[df$sex=='여',]\r\n",
        "\r\n",
        "# 점 추정값을 먼저 구한다.\r\n",
        "X_bar = mean(df_women$wage)\r\n",
        "sprintf(\"X_bar: %.1f\", X_bar)\r\n",
        "\r\n",
        "# 95% 신뢰구간을 계산한다.\r\n",
        "S = sd(df_women$wage)\r\n",
        "sprintf(\"S: %.2f\", S)\r\n",
        "\r\n",
        "n= 6\r\n",
        "sprintf(\"n: %d\", n)\r\n",
        "\r\n",
        "t_value = qt(0.025, n-1, lower.tail=FALSE)\r\n",
        "sprintf(\"t_value: %.2f\", t_value)\r\n",
        "\r\n",
        "min_value = X_bar - t_value * S / sqrt(n)\r\n",
        "max_value = X_bar + t_value * S / sqrt(n)\r\n",
        "sprintf(\"95%% 신뢰구간: [ %.2f , %.2f ]\", min_value, max_value)"
      ],
      "execution_count": 51,
      "outputs": [
        {
          "output_type": "display_data",
          "data": {
            "text/plain": [
              "[1] \"X_bar: 162.2\""
            ],
            "text/latex": "'X\\_bar: 162.2'",
            "text/markdown": "'X_bar: 162.2'",
            "text/html": [
              "'X_bar: 162.2'"
            ]
          },
          "metadata": {
            "tags": []
          }
        },
        {
          "output_type": "display_data",
          "data": {
            "text/plain": [
              "[1] \"S: 3.37\""
            ],
            "text/latex": "'S: 3.37'",
            "text/markdown": "'S: 3.37'",
            "text/html": [
              "'S: 3.37'"
            ]
          },
          "metadata": {
            "tags": []
          }
        },
        {
          "output_type": "display_data",
          "data": {
            "text/plain": [
              "[1] \"n: 6\""
            ],
            "text/latex": "'n: 6'",
            "text/markdown": "'n: 6'",
            "text/html": [
              "'n: 6'"
            ]
          },
          "metadata": {
            "tags": []
          }
        },
        {
          "output_type": "display_data",
          "data": {
            "text/plain": [
              "[1] \"t_value: 2.57\""
            ],
            "text/latex": "'t\\_value: 2.57'",
            "text/markdown": "'t_value: 2.57'",
            "text/html": [
              "'t_value: 2.57'"
            ]
          },
          "metadata": {
            "tags": []
          }
        },
        {
          "output_type": "display_data",
          "data": {
            "text/plain": [
              "[1] \"95% 신뢰구간: [ 158.63 , 165.70 ]\""
            ],
            "text/latex": "'95\\% 신뢰구간: {[} 158.63 , 165.70 {]}'",
            "text/markdown": "'95% 신뢰구간: [ 158.63 , 165.70 ]'",
            "text/html": [
              "'95% 신뢰구간: [ 158.63 , 165.70 ]'"
            ]
          },
          "metadata": {
            "tags": []
          }
        }
      ]
    },
    {
      "cell_type": "markdown",
      "metadata": {
        "id": "1hlgBA7z1uOn"
      },
      "source": [
        "[예제 5-5] 어느 학교에서 학생 12명을 대상으로 1년 동안 읽은 책 수를 조사했더니 다음과 같았다. 읽은 평균 책 수에 대해 95%의 신뢰구간을 구하라. 모집단은 정규분포를 따른다고 가정한다.  \r\n",
        "13, 18, 1, 10, 15, 15, 10, 5, 23, 20, 9, 11"
      ]
    },
    {
      "cell_type": "code",
      "metadata": {
        "id": "ZKIGUIee1-F6",
        "outputId": "a7130d39-6067-43ec-875d-5df66fe8f426",
        "colab": {
          "base_uri": "https://localhost:8080/",
          "height": 102
        }
      },
      "source": [
        "num_books = c(13, 18, 1, 10, 15, 15, 10, 5, 23, 20, 9, 11)\r\n",
        "\r\n",
        "# 평균을 구한다.\r\n",
        "X_bar = mean(num_books)\r\n",
        "sprintf(\"X_bar: %.1f\", X_bar)\r\n",
        "\r\n",
        "# 95% 신뢰구간을 계산한다.\r\n",
        "S = sd(num_books)\r\n",
        "sprintf(\"S: %.2f\", S)\r\n",
        "\r\n",
        "n= length(num_books)\r\n",
        "sprintf(\"n: %d\", n)\r\n",
        "\r\n",
        "t_value = qt(0.025, n-1, lower.tail=FALSE)\r\n",
        "sprintf(\"t_value: %.2f\", t_value)\r\n",
        "\r\n",
        "min_value = X_bar - t_value * S / sqrt(n)\r\n",
        "max_value = X_bar + t_value * S / sqrt(n)\r\n",
        "sprintf(\"95%% 신뢰구간: [ %.2f , %.2f ]\", min_value, max_value)"
      ],
      "execution_count": 54,
      "outputs": [
        {
          "output_type": "display_data",
          "data": {
            "text/plain": [
              "[1] \"X_bar: 12.5\""
            ],
            "text/latex": "'X\\_bar: 12.5'",
            "text/markdown": "'X_bar: 12.5'",
            "text/html": [
              "'X_bar: 12.5'"
            ]
          },
          "metadata": {
            "tags": []
          }
        },
        {
          "output_type": "display_data",
          "data": {
            "text/plain": [
              "[1] \"S: 6.22\""
            ],
            "text/latex": "'S: 6.22'",
            "text/markdown": "'S: 6.22'",
            "text/html": [
              "'S: 6.22'"
            ]
          },
          "metadata": {
            "tags": []
          }
        },
        {
          "output_type": "display_data",
          "data": {
            "text/plain": [
              "[1] \"n: 12\""
            ],
            "text/latex": "'n: 12'",
            "text/markdown": "'n: 12'",
            "text/html": [
              "'n: 12'"
            ]
          },
          "metadata": {
            "tags": []
          }
        },
        {
          "output_type": "display_data",
          "data": {
            "text/plain": [
              "[1] \"t_value: 2.20\""
            ],
            "text/latex": "'t\\_value: 2.20'",
            "text/markdown": "'t_value: 2.20'",
            "text/html": [
              "'t_value: 2.20'"
            ]
          },
          "metadata": {
            "tags": []
          }
        },
        {
          "output_type": "display_data",
          "data": {
            "text/plain": [
              "[1] \"95% 신뢰구간: [ 8.55 , 16.45 ]\""
            ],
            "text/latex": "'95\\% 신뢰구간: {[} 8.55 , 16.45 {]}'",
            "text/markdown": "'95% 신뢰구간: [ 8.55 , 16.45 ]'",
            "text/html": [
              "'95% 신뢰구간: [ 8.55 , 16.45 ]'"
            ]
          },
          "metadata": {
            "tags": []
          }
        }
      ]
    },
    {
      "cell_type": "markdown",
      "metadata": {
        "id": "3e_9C4ih2hs0"
      },
      "source": [
        "[예제 5-6] 새로운 부동산정책에 찬성하는 사람의 비율을 조사하기 위하여, 우리나라 성인 500명을 임의로 추출하여 조사한 결과, 400명이 찬성한다고 대답했다. 우리나라 성인 중 부동산정책에 찬성하는 사람의 비율의 추정값을 구하고 95% 신뢰구간을 구하라.  \r\n",
        "  \r\n",
        "☞ 표본의 크기가 충분히 큰 경우 모비율의 신뢰구간은 다음과 같다.  \r\n",
        "&nbsp;&nbsp;&nbsp;&nbsp;<img src=\"https://latex.codecogs.com/svg.latex?\\Big[\\hat{p}-z_{\\alpha/2}\\sqrt{\\frac{\\hat{p}(1-\\hat{p})}{n}},\\hat{p}+z_{\\alpha/2}\\sqrt{\\frac{\\hat{p}(1-\\hat{p})}{n}}\\Big]\" />\r\n"
      ]
    },
    {
      "cell_type": "code",
      "metadata": {
        "id": "HF3eit1N2iNq",
        "outputId": "6ca9221f-ad1d-4e8e-d83d-e90213bd3333",
        "colab": {
          "base_uri": "https://localhost:8080/",
          "height": 85
        }
      },
      "source": [
        "p_hat = 400/500\r\n",
        "sprintf(\"p_hat: %.1f\", p_hat)\r\n",
        "\r\n",
        "z_value = qnorm(0.025, lower.tail=FALSE)\r\n",
        "sprintf(\"z_value: %.2f\", z_value)\r\n",
        "\r\n",
        "n = 500\r\n",
        "sprintf(\"n: %d\", n)\r\n",
        "\r\n",
        "min_value = p_hat - z_value * sqrt( p_hat * (1-p_hat) / n )\r\n",
        "max_value = p_hat + z_value * sqrt( p_hat * (1-p_hat) / n )\r\n",
        "sprintf(\"95%% 신뢰구간: [ %.3f , %.3f ]\", min_value, max_value)"
      ],
      "execution_count": 64,
      "outputs": [
        {
          "output_type": "display_data",
          "data": {
            "text/plain": [
              "[1] \"p_hat: 0.8\""
            ],
            "text/latex": "'p\\_hat: 0.8'",
            "text/markdown": "'p_hat: 0.8'",
            "text/html": [
              "'p_hat: 0.8'"
            ]
          },
          "metadata": {
            "tags": []
          }
        },
        {
          "output_type": "display_data",
          "data": {
            "text/plain": [
              "[1] \"z_value: 1.96\""
            ],
            "text/latex": "'z\\_value: 1.96'",
            "text/markdown": "'z_value: 1.96'",
            "text/html": [
              "'z_value: 1.96'"
            ]
          },
          "metadata": {
            "tags": []
          }
        },
        {
          "output_type": "display_data",
          "data": {
            "text/plain": [
              "[1] \"n: 500\""
            ],
            "text/latex": "'n: 500'",
            "text/markdown": "'n: 500'",
            "text/html": [
              "'n: 500'"
            ]
          },
          "metadata": {
            "tags": []
          }
        },
        {
          "output_type": "display_data",
          "data": {
            "text/plain": [
              "[1] \"95% 신뢰구간: [ 0.765 , 0.835 ]\""
            ],
            "text/latex": "'95\\% 신뢰구간: {[} 0.765 , 0.835 {]}'",
            "text/markdown": "'95% 신뢰구간: [ 0.765 , 0.835 ]'",
            "text/html": [
              "'95% 신뢰구간: [ 0.765 , 0.835 ]'"
            ]
          },
          "metadata": {
            "tags": []
          }
        }
      ]
    },
    {
      "cell_type": "markdown",
      "metadata": {
        "id": "RAzMhOUy6kc_"
      },
      "source": [
        "[예제 5-7] 금년도 대졸자 초임을 조사하기 위하여 25명을 단순확률 복원추출하여 조사했더니 표본표준편차가 5만 원이었다. 모분산을 점추정하고 95% 신뢰구간을 구하라. 단 모집단이 정규분포를 한다고 가정한다.\r\n",
        "\r\n",
        "☞ 모집단이 정규분포를 따르는 경우 모분산의 신뢰구간은 다음과 같다.  \r\n",
        "&nbsp;&nbsp;&nbsp;&nbsp;<img src=\"https://latex.codecogs.com/svg.latex?\\Big[\\frac{(n-1)S^2}{\\chi^2_{n-1,\\alpha{/}2}},\\frac{(n-1)S^2}{\\chi^2_{n-1,{1-}\\alpha{/}2}}\\Big]\" />"
      ]
    },
    {
      "cell_type": "code",
      "metadata": {
        "id": "gla3dyUk69qK",
        "outputId": "bde320cc-dc80-4ae6-80a3-8ce5400df113",
        "colab": {
          "base_uri": "https://localhost:8080/",
          "height": 102
        }
      },
      "source": [
        "# 표본의 표준편차는 불편추정량이므로 모분산의 점추정값과 같다.\r\n",
        "# 모분산의 점추정값 = 25\r\n",
        "sigma_sq = 25\r\n",
        "sprintf(\"sigma_sq: %d\", sigma_sq)\r\n",
        "\r\n",
        "# 모분산의 신뢰구간 구하기\r\n",
        "n= 25\r\n",
        "sprintf(\"n: %d\", n)\r\n",
        "\r\n",
        "chi_value_1 = qchisq(0.025, n-1, lower.tail=FALSE)\r\n",
        "sprintf(\"chi_value_1: %.3f\", chi_value_1)\r\n",
        "chi_value_2 = qchisq(0.975, n-1, lower.tail=FALSE)\r\n",
        "sprintf(\"chi_value_2: %.3f\", chi_value_2)\r\n",
        "\r\n",
        "min_value = (n-1)*sigma_sq/chi_value_1\r\n",
        "max_value = (n-1)*sigma_sq/chi_value_2\r\n",
        "sprintf(\"95%% 신뢰구간: [ %.3f , %.3f ]\", min_value, max_value)"
      ],
      "execution_count": 72,
      "outputs": [
        {
          "output_type": "display_data",
          "data": {
            "text/plain": [
              "[1] \"sigma_sq: 25\""
            ],
            "text/latex": "'sigma\\_sq: 25'",
            "text/markdown": "'sigma_sq: 25'",
            "text/html": [
              "'sigma_sq: 25'"
            ]
          },
          "metadata": {
            "tags": []
          }
        },
        {
          "output_type": "display_data",
          "data": {
            "text/plain": [
              "[1] \"n: 25\""
            ],
            "text/latex": "'n: 25'",
            "text/markdown": "'n: 25'",
            "text/html": [
              "'n: 25'"
            ]
          },
          "metadata": {
            "tags": []
          }
        },
        {
          "output_type": "display_data",
          "data": {
            "text/plain": [
              "[1] \"chi_value_1: 39.364\""
            ],
            "text/latex": "'chi\\_value\\_1: 39.364'",
            "text/markdown": "'chi_value_1: 39.364'",
            "text/html": [
              "'chi_value_1: 39.364'"
            ]
          },
          "metadata": {
            "tags": []
          }
        },
        {
          "output_type": "display_data",
          "data": {
            "text/plain": [
              "[1] \"chi_value_2: 12.401\""
            ],
            "text/latex": "'chi\\_value\\_2: 12.401'",
            "text/markdown": "'chi_value_2: 12.401'",
            "text/html": [
              "'chi_value_2: 12.401'"
            ]
          },
          "metadata": {
            "tags": []
          }
        },
        {
          "output_type": "display_data",
          "data": {
            "text/plain": [
              "[1] \"95% 신뢰구간: [ 15.242 , 48.383 ]\""
            ],
            "text/latex": "'95\\% 신뢰구간: {[} 15.242 , 48.383 {]}'",
            "text/markdown": "'95% 신뢰구간: [ 15.242 , 48.383 ]'",
            "text/html": [
              "'95% 신뢰구간: [ 15.242 , 48.383 ]'"
            ]
          },
          "metadata": {
            "tags": []
          }
        }
      ]
    }
  ]
}