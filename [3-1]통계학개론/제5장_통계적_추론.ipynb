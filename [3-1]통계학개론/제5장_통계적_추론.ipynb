{
  "nbformat": 4,
  "nbformat_minor": 0,
  "metadata": {
    "colab": {
      "name": "제5장 통계적 추론.ipynb",
      "provenance": [],
      "collapsed_sections": [],
      "authorship_tag": "ABX9TyOh4HCoKmqWSpgK8+A04AAf",
      "include_colab_link": true
    },
    "kernelspec": {
      "name": "ir",
      "display_name": "R"
    }
  },
  "cells": [
    {
      "cell_type": "markdown",
      "metadata": {
        "id": "view-in-github",
        "colab_type": "text"
      },
      "source": [
        "<a href=\"https://colab.research.google.com/github/barkle2/KNOU/blob/master/%5B3-1%5D%ED%86%B5%EA%B3%84%ED%95%99%EA%B0%9C%EB%A1%A0/%EC%A0%9C5%EC%9E%A5_%ED%86%B5%EA%B3%84%EC%A0%81_%EC%B6%94%EB%A1%A0.ipynb\" target=\"_parent\"><img src=\"https://colab.research.google.com/assets/colab-badge.svg\" alt=\"Open In Colab\"/></a>"
      ]
    },
    {
      "cell_type": "markdown",
      "metadata": {
        "id": "8Eh625nKEn8r"
      },
      "source": [
        "[예제 5-3] 학생들의 통계학 실력을 살펴보기 위해 전체 학생 중 16명을 단순확률추출하여 시험을 실시했다. 시험결과 표본평균이 175점(200점 만점)이었다. 표준편차가 5점으로 추정되었다. 학생들의 통계학 시험점수가 정규분포를 따른다고 가정했다."
      ]
    },
    {
      "cell_type": "markdown",
      "metadata": {
        "id": "eTNqLz3dGWUO"
      },
      "source": [
        "(1) 전체 학생의 통계학 점수의 평균을 점추정하라.  \r\n",
        "☞ 175점  \r\n",
        "표본평균은 모평균의 불평추정량이므로 같은 값을 갖는다."
      ]
    },
    {
      "cell_type": "markdown",
      "metadata": {
        "id": "IJ1SSt-UGvTh"
      },
      "source": [
        "(2) 전체 학생의 통계학 점수의 평균에 대한 95% 신뢰구간을 구하라.  \r\n",
        "  \r\n",
        "문제에서 '표준편차가 5점으로 추정되었다'고 했으므로 모평균을 알지 못하는 상황임을 알 수 있다. 즉, 정규분포 대신 t분포를 이용하여 신뢰구간을 구해야 한다.  \r\n",
        "&nbsp;&nbsp;&nbsp;&nbsp;<img src=\"https://latex.codecogs.com/svg.latex?\\Big[\\bar{X}-t_{n-1,\\alpha/2}\\frac{S}{\\sqrt{n}},\\bar{X}+t_{n-1,\\alpha/2}\\frac{S}{\\sqrt{n}}\\Big]\" />"
      ]
    },
    {
      "cell_type": "code",
      "metadata": {
        "id": "Zn0THJBAHqHT",
        "outputId": "3eb2444b-33c5-491d-ac69-e235f9fd3ce0",
        "colab": {
          "base_uri": "https://localhost:8080/",
          "height": 52
        }
      },
      "source": [
        "S = 5\r\n",
        "n = 16\r\n",
        "alpha = 0.05\r\n",
        "# qt: t분포의 분위수\r\n",
        "qt(alpha/2, n-1, lower.tail = FALSE)\r\n",
        "# 95% 신뢰구간 구하기\r\n",
        "min_value = 175 - qt(alpha/2, n-1, lower.tail = FALSE)*(5/sqrt(n))\r\n",
        "max_value = 175 + qt(alpha/2, n-1, lower.tail = FALSE)*(5/sqrt(n))\r\n",
        "# 출력하기\r\n",
        "res = paste(\"[\",toString(round(min_value,2)),\",\",toString(round(max_value,2)),\"]\")\r\n",
        "print(res)"
      ],
      "execution_count": 29,
      "outputs": [
        {
          "output_type": "display_data",
          "data": {
            "text/plain": [
              "[1] 2.13145"
            ],
            "text/latex": "2.13144954555978",
            "text/markdown": "2.13144954555978",
            "text/html": [
              "2.13144954555978"
            ]
          },
          "metadata": {
            "tags": []
          }
        },
        {
          "output_type": "stream",
          "text": [
            "[1] \"[ 172.34 , 177.66 ]\"\n"
          ],
          "name": "stdout"
        }
      ]
    },
    {
      "cell_type": "markdown",
      "metadata": {
        "id": "lgwoenRnLM95"
      },
      "source": [
        "(3) 전체 학생의 통계학 점수의 평균에 대한 99% 신뢰구간을 구하라. 이 구간의 너비가 95% 신뢰구간과 비교해 어떠한가?"
      ]
    },
    {
      "cell_type": "code",
      "metadata": {
        "id": "tDzpke0tLYVz",
        "outputId": "8f36f9bd-7ddc-4e1e-f773-14893f3349e6",
        "colab": {
          "base_uri": "https://localhost:8080/",
          "height": 52
        }
      },
      "source": [
        "S = 5\r\n",
        "n = 16\r\n",
        "alpha = 0.01\r\n",
        "# qt: t분포의 분위수\r\n",
        "qt(alpha/2, n-1, lower.tail = FALSE)\r\n",
        "# 95% 신뢰구간 구하기\r\n",
        "min_value = 175 - qt(alpha/2, n-1, lower.tail = FALSE)*(5/sqrt(n))\r\n",
        "max_value = 175 + qt(alpha/2, n-1, lower.tail = FALSE)*(5/sqrt(n))\r\n",
        "# 출력하기\r\n",
        "res = paste(\"[\",toString(round(min_value,2)),\",\",toString(round(max_value,2)),\"]\")\r\n",
        "print(res)"
      ],
      "execution_count": 30,
      "outputs": [
        {
          "output_type": "display_data",
          "data": {
            "text/plain": [
              "[1] 2.946713"
            ],
            "text/latex": "2.94671288347524",
            "text/markdown": "2.94671288347524",
            "text/html": [
              "2.94671288347524"
            ]
          },
          "metadata": {
            "tags": []
          }
        },
        {
          "output_type": "stream",
          "text": [
            "[1] \"[ 171.32 , 178.68 ]\"\n"
          ],
          "name": "stdout"
        }
      ]
    },
    {
      "cell_type": "markdown",
      "metadata": {
        "id": "ACFVpR9oLdVn"
      },
      "source": [
        "☞ 99% 신뢰구간이 95% 신뢰구간보다 더 넓다."
      ]
    },
    {
      "cell_type": "markdown",
      "metadata": {
        "id": "rByp9BoWLiTO"
      },
      "source": [
        "(4) 표본크기가 100명이었을 때 전체 학생의 통계학 점수의 95% 신뢰구간을 구하고, 문제 (2)의 구간 너비와 비교해 구간의 너비가 어떠한가?"
      ]
    },
    {
      "cell_type": "code",
      "metadata": {
        "id": "oeUQcrGELsZ4",
        "outputId": "a768cc06-0d0b-4f5a-f502-872e8ba527fb",
        "colab": {
          "base_uri": "https://localhost:8080/",
          "height": 52
        }
      },
      "source": [
        "S = 5\r\n",
        "n = 100\r\n",
        "alpha = 0.05\r\n",
        "# qt: t분포의 분위수\r\n",
        "qt(alpha/2, n-1, lower.tail = FALSE)\r\n",
        "# 95% 신뢰구간 구하기\r\n",
        "min_value = 175 - qt(alpha/2, n-1, lower.tail = FALSE)*(5/sqrt(n))\r\n",
        "max_value = 175 + qt(alpha/2, n-1, lower.tail = FALSE)*(5/sqrt(n))\r\n",
        "# 출력하기\r\n",
        "res = paste(\"[\",toString(round(min_value,2)),\",\",toString(round(max_value,2)),\"]\")\r\n",
        "print(res)"
      ],
      "execution_count": 31,
      "outputs": [
        {
          "output_type": "display_data",
          "data": {
            "text/plain": [
              "[1] 1.984217"
            ],
            "text/latex": "1.98421695158642",
            "text/markdown": "1.98421695158642",
            "text/html": [
              "1.98421695158642"
            ]
          },
          "metadata": {
            "tags": []
          }
        },
        {
          "output_type": "stream",
          "text": [
            "[1] \"[ 174.01 , 175.99 ]\"\n"
          ],
          "name": "stdout"
        }
      ]
    },
    {
      "cell_type": "markdown",
      "metadata": {
        "id": "4dFX36feLw6g"
      },
      "source": [
        "☞ 표본크기가 100명인 경우 신뢰구간의 길이가 줄어든다. 즉, 보다 정확한 추정을 할 수 있다."
      ]
    }
  ]
}