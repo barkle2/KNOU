{
  "nbformat": 4,
  "nbformat_minor": 0,
  "metadata": {
    "colab": {
      "name": "제4장 확률분포와 표본분포.ipynb",
      "provenance": [],
      "collapsed_sections": [],
      "authorship_tag": "ABX9TyMoj3XFfEtI6V5ZOkzV06Ng",
      "include_colab_link": true
    },
    "kernelspec": {
      "name": "ir",
      "display_name": "R"
    }
  },
  "cells": [
    {
      "cell_type": "markdown",
      "metadata": {
        "id": "view-in-github",
        "colab_type": "text"
      },
      "source": [
        "<a href=\"https://colab.research.google.com/github/barkle2/KNOU/blob/master/%5B3-1%5D%ED%86%B5%EA%B3%84%ED%95%99%EA%B0%9C%EB%A1%A0/%EC%A0%9C4%EC%9E%A5_%ED%99%95%EB%A5%A0%EB%B6%84%ED%8F%AC%EC%99%80_%ED%91%9C%EB%B3%B8%EB%B6%84%ED%8F%AC.ipynb\" target=\"_parent\"><img src=\"https://colab.research.google.com/assets/colab-badge.svg\" alt=\"Open In Colab\"/></a>"
      ]
    },
    {
      "cell_type": "markdown",
      "metadata": {
        "id": "f0fhyGu01ln_"
      },
      "source": [
        "[예제 4-1] 어느 보험회사의 영업사원이 고객을 만나 그 사람을 보험에 가입하게 할 확률은 과거의 경험으로 보아 20%이다. 오늘 아침 영업사원이 10명의 고객을 만날 예정이다."
      ]
    },
    {
      "cell_type": "code",
      "metadata": {
        "colab": {
          "base_uri": "https://localhost:8080/",
          "height": 437
        },
        "id": "x1a8dyZi2nFb",
        "outputId": "6cc6473b-7400-43b9-f895-0a34b5c7b692"
      },
      "source": [
        "y <- dbinom(0:10, size=10, prob=0.2)\r\n",
        "plot(0:10, y, type='h', ylab='probability', xlab='number of contract', main=c('X ~ B(10, 0.2)'))"
      ],
      "execution_count": 1,
      "outputs": [
        {
          "output_type": "display_data",
          "data": {
            "image/png": "[encoded data removed]",
            "text/plain": [
              "Plot with title “X ~ B(10, 0.2)”"
            ]
          },
          "metadata": {
            "tags": [],
            "image/png": {
              "width": 420,
              "height": 420
            }
          }
        }
      ]
    },
    {
      "cell_type": "markdown",
      "metadata": {
        "id": "vf7eXHTp2JIr"
      },
      "source": [
        "(1) 세 사람이 보험에 가입할 확률은?"
      ]
    },
    {
      "cell_type": "code",
      "metadata": {
        "colab": {
          "base_uri": "https://localhost:8080/",
          "height": 34
        },
        "id": "eteQajS_2LEY",
        "outputId": "2d419882-e689-40af-c7c8-afea378142b6"
      },
      "source": [
        "# dbinom: 이항분포의 확률값\r\n",
        "dbinom(3, size=10, prob=0.2)"
      ],
      "execution_count": 2,
      "outputs": [
        {
          "output_type": "display_data",
          "data": {
            "text/plain": [
              "[1] 0.2013266"
            ],
            "text/latex": "0.201326592",
            "text/markdown": "0.201326592",
            "text/html": [
              "0.201326592"
            ]
          },
          "metadata": {
            "tags": []
          }
        }
      ]
    },
    {
      "cell_type": "markdown",
      "metadata": {
        "id": "jZpr55WI4I3F"
      },
      "source": [
        "(2) 두 사람 이상이 보험에 가입할 확률은?"
      ]
    },
    {
      "cell_type": "code",
      "metadata": {
        "colab": {
          "base_uri": "https://localhost:8080/",
          "height": 51
        },
        "id": "YXv0y2Kp4LyE",
        "outputId": "6b425189-8d88-4efa-d9c8-34158ffcd748"
      },
      "source": [
        "# pbinom: 이항분포의 누적확률값\r\n",
        "1-pbinom(1, size=10, prob=0.2)\r\n",
        "# dbinom: 이항분포의 확률값\r\n",
        "1-dbinom(0, size=10, prob=0.2)-dbinom(1, size=10, prob=0.2)"
      ],
      "execution_count": 3,
      "outputs": [
        {
          "output_type": "display_data",
          "data": {
            "text/plain": [
              "[1] 0.6241904"
            ],
            "text/latex": "0.6241903616",
            "text/markdown": "0.6241903616",
            "text/html": [
              "0.6241903616"
            ]
          },
          "metadata": {
            "tags": []
          }
        },
        {
          "output_type": "display_data",
          "data": {
            "text/plain": [
              "[1] 0.6241904"
            ],
            "text/latex": "0.6241903616",
            "text/markdown": "0.6241903616",
            "text/html": [
              "0.6241903616"
            ]
          },
          "metadata": {
            "tags": []
          }
        }
      ]
    },
    {
      "cell_type": "markdown",
      "metadata": {
        "id": "hxiWWuzD5HsR"
      },
      "source": [
        "(3) 평균 몇 사람이 가입하겠는가? 또 그 표준편차는?"
      ]
    },
    {
      "cell_type": "code",
      "metadata": {
        "colab": {
          "base_uri": "https://localhost:8080/",
          "height": 51
        },
        "id": "PAhVbjy45Mzg",
        "outputId": "4106ee92-ecf6-4f7b-df2f-809b187cb746"
      },
      "source": [
        "# E(X) = np\r\n",
        "10*0.2\r\n",
        "# Var(X) = np(1-p), SD(X) = sqrt(Var(X))\r\n",
        "sqrt(10*0.2*0.8)"
      ],
      "execution_count": 4,
      "outputs": [
        {
          "output_type": "display_data",
          "data": {
            "text/plain": [
              "[1] 2"
            ],
            "text/latex": "2",
            "text/markdown": "2",
            "text/html": [
              "2"
            ]
          },
          "metadata": {
            "tags": []
          }
        },
        {
          "output_type": "display_data",
          "data": {
            "text/plain": [
              "[1] 1.264911"
            ],
            "text/latex": "1.26491106406735",
            "text/markdown": "1.26491106406735",
            "text/html": [
              "1.26491106406735"
            ]
          },
          "metadata": {
            "tags": []
          }
        }
      ]
    },
    {
      "cell_type": "markdown",
      "metadata": {
        "id": "bwNtr5eI5kYL"
      },
      "source": [
        "[예제 4-2] 한 복권의 당첨률이 30%라고 한다. 복권을 8장 구입했다고 하자."
      ]
    },
    {
      "cell_type": "code",
      "metadata": {
        "colab": {
          "base_uri": "https://localhost:8080/",
          "height": 437
        },
        "id": "s5i6laQ55rrC",
        "outputId": "78b56841-98dc-4638-dd2c-bc077f0f7aeb"
      },
      "source": [
        "y <- dbinom(0:8, size=8, prob=0.3)\r\n",
        "plot(0:8, y, type='h', ylab='probability', xlab='number of win', main=c('X ~ B(8, 0.3)'))"
      ],
      "execution_count": 5,
      "outputs": [
        {
          "output_type": "display_data",
          "data": {
            "image/png": "[encoded data removed]",
            "text/plain": [
              "Plot with title “X ~ B(8, 0.3)”"
            ]
          },
          "metadata": {
            "tags": [],
            "image/png": {
              "width": 420,
              "height": 420
            }
          }
        }
      ]
    },
    {
      "cell_type": "markdown",
      "metadata": {
        "id": "ajBWpSSk5pX3"
      },
      "source": [
        "(1) 4장이 당첨될 확률은?"
      ]
    },
    {
      "cell_type": "code",
      "metadata": {
        "colab": {
          "base_uri": "https://localhost:8080/",
          "height": 34
        },
        "id": "1Ojwi3Xi8-M5",
        "outputId": "1fd55cab-d848-47c9-95a4-e5a476ec4ef8"
      },
      "source": [
        "# dbinom: 이항분포의 확률값\r\n",
        "dbinom(4, size=8, prob=0.3)"
      ],
      "execution_count": 6,
      "outputs": [
        {
          "output_type": "display_data",
          "data": {
            "text/plain": [
              "[1] 0.1361367"
            ],
            "text/latex": "0.1361367",
            "text/markdown": "0.1361367",
            "text/html": [
              "0.1361367"
            ]
          },
          "metadata": {
            "tags": []
          }
        }
      ]
    },
    {
      "cell_type": "markdown",
      "metadata": {
        "id": "fGtPkYrO9KUK"
      },
      "source": [
        "(2) 3장에서 7장이 당첨될 확률은?"
      ]
    },
    {
      "cell_type": "code",
      "metadata": {
        "colab": {
          "base_uri": "https://localhost:8080/",
          "height": 34
        },
        "id": "A2bKBE6Q9NiQ",
        "outputId": "23552bcb-4aa9-469e-d6e1-0f511eb1b9c8"
      },
      "source": [
        "# pbinom: 이항분포의 누적확률값\r\n",
        "pbinom(7, size=8, prob=0.3) - pbinom(2, size=8, prob=0.3)"
      ],
      "execution_count": 7,
      "outputs": [
        {
          "output_type": "display_data",
          "data": {
            "text/plain": [
              "[1] 0.4481606"
            ],
            "text/latex": "0.44816058",
            "text/markdown": "0.44816058",
            "text/html": [
              "0.44816058"
            ]
          },
          "metadata": {
            "tags": []
          }
        }
      ]
    },
    {
      "cell_type": "markdown",
      "metadata": {
        "id": "MQF2yYHB9Wfd"
      },
      "source": [
        "(3) 6장 이상이 당첨될 확률은?"
      ]
    },
    {
      "cell_type": "code",
      "metadata": {
        "colab": {
          "base_uri": "https://localhost:8080/",
          "height": 34
        },
        "id": "8nfQSsHD9ZCx",
        "outputId": "8fc118ea-efd7-4db8-afc0-2dc6d649d913"
      },
      "source": [
        "# pbinom: 이항분포의 누적확률값\r\n",
        "1-pbinom(5, size=8, prob=0.3)"
      ],
      "execution_count": 8,
      "outputs": [
        {
          "output_type": "display_data",
          "data": {
            "text/plain": [
              "[1] 0.01129221"
            ],
            "text/latex": "0.0112922099999999",
            "text/markdown": "0.0112922099999999",
            "text/html": [
              "0.0112922099999999"
            ]
          },
          "metadata": {
            "tags": []
          }
        }
      ]
    },
    {
      "cell_type": "markdown",
      "metadata": {
        "id": "t7AsqJP_-uBi"
      },
      "source": [
        "[예제 4-3] 흰 공 3개와 검은 공 2개가 들어 있는 주머니에서 임의로 2개를 꺼냈을 때 X를 검은 공의 개수인 확률변수로 정의하자. X=0,1,2의 값을 취할 확률은?"
      ]
    },
    {
      "cell_type": "code",
      "metadata": {
        "colab": {
          "base_uri": "https://localhost:8080/",
          "height": 68
        },
        "id": "v_sU_cJU-3Ja",
        "outputId": "ed665fe6-9c03-4247-e66a-02aa460207db"
      },
      "source": [
        "# dhyper: 초기하분포의 확률값\r\n",
        "dhyper(0, 2, 3, 2)\r\n",
        "dhyper(1, 2, 3, 2)\r\n",
        "dhyper(2, 2, 3, 2)"
      ],
      "execution_count": 9,
      "outputs": [
        {
          "output_type": "display_data",
          "data": {
            "text/plain": [
              "[1] 0.3"
            ],
            "text/latex": "0.3",
            "text/markdown": "0.3",
            "text/html": [
              "0.3"
            ]
          },
          "metadata": {
            "tags": []
          }
        },
        {
          "output_type": "display_data",
          "data": {
            "text/plain": [
              "[1] 0.6"
            ],
            "text/latex": "0.6",
            "text/markdown": "0.6",
            "text/html": [
              "0.6"
            ]
          },
          "metadata": {
            "tags": []
          }
        },
        {
          "output_type": "display_data",
          "data": {
            "text/plain": [
              "[1] 0.1"
            ],
            "text/latex": "0.1",
            "text/markdown": "0.1",
            "text/html": [
              "0.1"
            ]
          },
          "metadata": {
            "tags": []
          }
        }
      ]
    },
    {
      "cell_type": "markdown",
      "metadata": {
        "id": "Opv5RgHN_VBx"
      },
      "source": [
        "[예제 4-4] 화재보험회사에서 1,860명의 보험계약자를 보유하고 있는데, 1년에 화재가 발생하여 보험금을 청구하는 확률이 1/600이다. 어느 해에 보험계약자 중 화재보험금을 청구하는 횟수를 확률변수 X로 하여 0, 1, 2, 3인 경우의 확률을 구하여라."
      ]
    },
    {
      "cell_type": "code",
      "metadata": {
        "colab": {
          "base_uri": "https://localhost:8080/",
          "height": 437
        },
        "id": "TjE5J1fcE0oP",
        "outputId": "f71cebb5-c9a9-4825-f38f-2a93763ce14b"
      },
      "source": [
        "n=1860\r\n",
        "p=1/600\r\n",
        "\r\n",
        "y <- dpois(0:10, n*p)\r\n",
        "plot(0:10, y, type='h', ylab='probability', xlab='number of claim', main=c('X ~ Pois(3.1)'))"
      ],
      "execution_count": 10,
      "outputs": [
        {
          "output_type": "display_data",
          "data": {
            "image/png": "[encoded data removed]",
            "text/plain": [
              "Plot with title “X ~ Pois(3.1)”"
            ]
          },
          "metadata": {
            "tags": [],
            "image/png": {
              "width": 420,
              "height": 420
            }
          }
        }
      ]
    },
    {
      "cell_type": "code",
      "metadata": {
        "colab": {
          "base_uri": "https://localhost:8080/",
          "height": 85
        },
        "id": "cK5Srsn1_jKW",
        "outputId": "98ef7516-3091-447f-c1a5-37e08477c3aa"
      },
      "source": [
        "# dpois: 포아송분포의 확률값\r\n",
        "dpois(0, n*p)\r\n",
        "dpois(1, n*p)\r\n",
        "dpois(2, n*p)\r\n",
        "dpois(3, n*p)"
      ],
      "execution_count": 11,
      "outputs": [
        {
          "output_type": "display_data",
          "data": {
            "text/plain": [
              "[1] 0.0450492"
            ],
            "text/latex": "0.0450492023935578",
            "text/markdown": "0.0450492023935578",
            "text/html": [
              "0.0450492023935578"
            ]
          },
          "metadata": {
            "tags": []
          }
        },
        {
          "output_type": "display_data",
          "data": {
            "text/plain": [
              "[1] 0.1396525"
            ],
            "text/latex": "0.139652527420029",
            "text/markdown": "0.139652527420029",
            "text/html": [
              "0.139652527420029"
            ]
          },
          "metadata": {
            "tags": []
          }
        },
        {
          "output_type": "display_data",
          "data": {
            "text/plain": [
              "[1] 0.2164614"
            ],
            "text/latex": "0.216461417501045",
            "text/markdown": "0.216461417501045",
            "text/html": [
              "0.216461417501045"
            ]
          },
          "metadata": {
            "tags": []
          }
        },
        {
          "output_type": "display_data",
          "data": {
            "text/plain": [
              "[1] 0.2236768"
            ],
            "text/latex": "0.223676798084413",
            "text/markdown": "0.223676798084413",
            "text/html": [
              "0.223676798084413"
            ]
          },
          "metadata": {
            "tags": []
          }
        }
      ]
    },
    {
      "cell_type": "markdown",
      "metadata": {
        "id": "lYYCru9sADEl"
      },
      "source": [
        "[예제 4-5] 은행에서 하루 평균 6건의 불량수표를 받게 된다고 할 때, 어떤 특정한 날에 불량수표를 4번 받을 확률은?"
      ]
    },
    {
      "cell_type": "code",
      "metadata": {
        "colab": {
          "base_uri": "https://localhost:8080/",
          "height": 437
        },
        "id": "G4Oz9LH6FWnJ",
        "outputId": "01656258-6768-4ea3-cb62-3a624dceb2c5"
      },
      "source": [
        "y <- dpois(0:20, 6)\r\n",
        "plot(0:20, y, type='h', ylab='probability', xlab='number of bad', main=c('X ~ Pois(6)'))"
      ],
      "execution_count": 12,
      "outputs": [
        {
          "output_type": "display_data",
          "data": {
            "image/png": "[encoded data removed]",
            "text/plain": [
              "Plot with title “X ~ Pois(6)”"
            ]
          },
          "metadata": {
            "tags": [],
            "image/png": {
              "width": 420,
              "height": 420
            }
          }
        }
      ]
    },
    {
      "cell_type": "code",
      "metadata": {
        "colab": {
          "base_uri": "https://localhost:8080/",
          "height": 34
        },
        "id": "ho-BmkJxAIyS",
        "outputId": "626212cb-0e36-4b9e-c379-0ec865c64d13"
      },
      "source": [
        "# dpois: 포아송분포의 확률값\r\n",
        "dpois(4, 6)"
      ],
      "execution_count": 13,
      "outputs": [
        {
          "output_type": "display_data",
          "data": {
            "text/plain": [
              "[1] 0.1338526"
            ],
            "text/latex": "0.133852617539983",
            "text/markdown": "0.133852617539983",
            "text/html": [
              "0.133852617539983"
            ]
          },
          "metadata": {
            "tags": []
          }
        }
      ]
    },
    {
      "cell_type": "markdown",
      "metadata": {
        "id": "NHND48gICCHK"
      },
      "source": [
        "[예제 4-6] Z가 표준정규확률변수일 때 다음의 확률을 구하라."
      ]
    },
    {
      "cell_type": "code",
      "metadata": {
        "colab": {
          "base_uri": "https://localhost:8080/",
          "height": 437
        },
        "id": "5ER_YqUG4hCA",
        "outputId": "d79e85c3-883d-4d11-edb2-6551263d7374"
      },
      "source": [
        "x <- seq(-3, 3, length=200)\r\n",
        "plot(x, dnorm(x, mean=0, sd=1), type='l', main=\"X~N(0,1)\")"
      ],
      "execution_count": 21,
      "outputs": [
        {
          "output_type": "display_data",
          "data": {
            "image/png": "[encoded data removed]",
            "text/plain": [
              "Plot with title “X~N(0,1)”"
            ]
          },
          "metadata": {
            "tags": [],
            "image/png": {
              "width": 420,
              "height": 420
            }
          }
        }
      ]
    },
    {
      "cell_type": "markdown",
      "metadata": {
        "id": "rmADaVqqCGwx"
      },
      "source": [
        "(1) P(Z<1.96)"
      ]
    },
    {
      "cell_type": "code",
      "metadata": {
        "colab": {
          "base_uri": "https://localhost:8080/",
          "height": 34
        },
        "id": "vot_ZN1KCKf6",
        "outputId": "78e5b624-a63f-4b56-c77d-c6dd02852e07"
      },
      "source": [
        "# pnorm: 정규분포의 누적확률값\r\n",
        "pnorm(1.96, mean=0, sd=1)"
      ],
      "execution_count": 14,
      "outputs": [
        {
          "output_type": "display_data",
          "data": {
            "text/plain": [
              "[1] 0.9750021"
            ],
            "text/latex": "0.97500210485178",
            "text/markdown": "0.97500210485178",
            "text/html": [
              "0.97500210485178"
            ]
          },
          "metadata": {
            "tags": []
          }
        }
      ]
    },
    {
      "cell_type": "markdown",
      "metadata": {
        "id": "JGZ81vAcCdYM"
      },
      "source": [
        "(2) P(-1.96<Z<1.96)"
      ]
    },
    {
      "cell_type": "code",
      "metadata": {
        "colab": {
          "base_uri": "https://localhost:8080/",
          "height": 34
        },
        "id": "lKzSSM66Cg8h",
        "outputId": "ed5b376e-6bb1-4fe8-8059-55ee84a25d0e"
      },
      "source": [
        "# pnorm: 정규분포의 누적확률값\r\n",
        "pnorm(1.96, mean=0, sd=1) - pnorm(-1.96, mean=0, sd=1)"
      ],
      "execution_count": 15,
      "outputs": [
        {
          "output_type": "display_data",
          "data": {
            "text/plain": [
              "[1] 0.9500042"
            ],
            "text/latex": "0.950004209703559",
            "text/markdown": "0.950004209703559",
            "text/html": [
              "0.950004209703559"
            ]
          },
          "metadata": {
            "tags": []
          }
        }
      ]
    },
    {
      "cell_type": "markdown",
      "metadata": {
        "id": "v6bauKK5CyEy"
      },
      "source": [
        "(3) P(Z>1.96)"
      ]
    },
    {
      "cell_type": "code",
      "metadata": {
        "colab": {
          "base_uri": "https://localhost:8080/",
          "height": 51
        },
        "id": "wzjmRAbhC1dY",
        "outputId": "f8963a5c-4d19-4a5f-b0e6-aa9820066a31"
      },
      "source": [
        "# pnorm: 정규분포의 누적확률값\r\n",
        "1-pnorm(1.96, mean=0, sd=1)\r\n",
        "pnorm(1.96, mean=0, sd=1, lower.tail=FALSE)"
      ],
      "execution_count": 16,
      "outputs": [
        {
          "output_type": "display_data",
          "data": {
            "text/plain": [
              "[1] 0.0249979"
            ],
            "text/latex": "0.0249978951482204",
            "text/markdown": "0.0249978951482204",
            "text/html": [
              "0.0249978951482204"
            ]
          },
          "metadata": {
            "tags": []
          }
        },
        {
          "output_type": "display_data",
          "data": {
            "text/plain": [
              "[1] 0.0249979"
            ],
            "text/latex": "0.0249978951482204",
            "text/markdown": "0.0249978951482204",
            "text/html": [
              "0.0249978951482204"
            ]
          },
          "metadata": {
            "tags": []
          }
        }
      ]
    },
    {
      "cell_type": "markdown",
      "metadata": {
        "id": "L-nzxuHNDGE0"
      },
      "source": [
        "[예제 4-7] 확률변수 X가 평균이 70, 표준편차가 10인 정규분포를 따를 때 다음의 확률을 구하라."
      ]
    },
    {
      "cell_type": "code",
      "metadata": {
        "colab": {
          "base_uri": "https://localhost:8080/",
          "height": 437
        },
        "id": "FZ3qALHh4soi",
        "outputId": "7dc9ec47-d546-4a46-c86b-3257633805f6"
      },
      "source": [
        "x <- seq(40, 100, length=200)\r\n",
        "plot(x, dnorm(x, mean=70, sd=10), type='l', main=\"X~N(70,10)\")"
      ],
      "execution_count": 22,
      "outputs": [
        {
          "output_type": "display_data",
          "data": {
            "image/png": "[encoded data removed]",
            "text/plain": [
              "Plot with title “X~N(70,10)”"
            ]
          },
          "metadata": {
            "tags": [],
            "image/png": {
              "width": 420,
              "height": 420
            }
          }
        }
      ]
    },
    {
      "cell_type": "markdown",
      "metadata": {
        "id": "UPGWAWpdDNOd"
      },
      "source": [
        "(1) P(X<94.3)"
      ]
    },
    {
      "cell_type": "code",
      "metadata": {
        "colab": {
          "base_uri": "https://localhost:8080/",
          "height": 34
        },
        "id": "0hdGh8N4DPPD",
        "outputId": "b8cce0b4-9b9d-443e-ff9c-41ddf7834301"
      },
      "source": [
        "# pnorm: 정규분포의 누적확률값\r\n",
        "pnorm(94.3, mean=70, sd=10)"
      ],
      "execution_count": 17,
      "outputs": [
        {
          "output_type": "display_data",
          "data": {
            "text/plain": [
              "[1] 0.9924506"
            ],
            "text/latex": "0.992450588583691",
            "text/markdown": "0.992450588583691",
            "text/html": [
              "0.992450588583691"
            ]
          },
          "metadata": {
            "tags": []
          }
        }
      ]
    },
    {
      "cell_type": "markdown",
      "metadata": {
        "id": "zKxQtXDsDW7K"
      },
      "source": [
        "(2) P(X>57.7)"
      ]
    },
    {
      "cell_type": "code",
      "metadata": {
        "colab": {
          "base_uri": "https://localhost:8080/",
          "height": 51
        },
        "id": "7DvY3ivfDZ2O",
        "outputId": "45e635c4-88a1-4bf0-b8e9-41336332b59b"
      },
      "source": [
        "# pnorm: 정규분포의 누적확률값\r\n",
        "1-pnorm(57.7, mean=70, sd=10)\r\n",
        "pnorm(57.7, mean=70, sd=10, lower.tail=FALSE)"
      ],
      "execution_count": 18,
      "outputs": [
        {
          "output_type": "display_data",
          "data": {
            "text/plain": [
              "[1] 0.8906514"
            ],
            "text/latex": "0.890651447574308",
            "text/markdown": "0.890651447574308",
            "text/html": [
              "0.890651447574308"
            ]
          },
          "metadata": {
            "tags": []
          }
        },
        {
          "output_type": "display_data",
          "data": {
            "text/plain": [
              "[1] 0.8906514"
            ],
            "text/latex": "0.890651447574308",
            "text/markdown": "0.890651447574308",
            "text/html": [
              "0.890651447574308"
            ]
          },
          "metadata": {
            "tags": []
          }
        }
      ]
    },
    {
      "cell_type": "markdown",
      "metadata": {
        "id": "IK0SqBEuDk1p"
      },
      "source": [
        "(3) P(57.7<X<94.3)"
      ]
    },
    {
      "cell_type": "code",
      "metadata": {
        "colab": {
          "base_uri": "https://localhost:8080/",
          "height": 34
        },
        "id": "qbUBYvdtDn0S",
        "outputId": "6f67ecae-c470-4a14-b12e-2a1f8ab9d792"
      },
      "source": [
        "# pnorm: 정규분포의 누적확률값\r\n",
        "pnorm(94.3, mean=70, sd=10) - pnorm(57.7, mean=70, sd=10)"
      ],
      "execution_count": 19,
      "outputs": [
        {
          "output_type": "display_data",
          "data": {
            "text/plain": [
              "[1] 0.883102"
            ],
            "text/latex": "0.883102036157999",
            "text/markdown": "0.883102036157999",
            "text/html": [
              "0.883102036157999"
            ]
          },
          "metadata": {
            "tags": []
          }
        }
      ]
    },
    {
      "cell_type": "markdown",
      "metadata": {
        "id": "jkuuSSKOEXFa"
      },
      "source": [
        "[예제 4-8] 한 회사의 건전지 수명은 평균이 110시간, 표준편차가 10인 정규분포를 따른다고 하자."
      ]
    },
    {
      "cell_type": "code",
      "metadata": {
        "colab": {
          "base_uri": "https://localhost:8080/",
          "height": 437
        },
        "id": "rYIz5nKs41_Y",
        "outputId": "2818fb7e-d526-4106-f53d-ed9797312ce0"
      },
      "source": [
        "x <- seq(80, 140, length=200)\r\n",
        "plot(x, dnorm(x, mean=110, sd=10), type='l', main=\"X~N(110,10)\")"
      ],
      "execution_count": 23,
      "outputs": [
        {
          "output_type": "display_data",
          "data": {
            "image/png": "[encoded data removed]",
            "text/plain": [
              "Plot with title “X~N(110,10)”"
            ]
          },
          "metadata": {
            "tags": [],
            "image/png": {
              "width": 420,
              "height": 420
            }
          }
        }
      ]
    },
    {
      "cell_type": "markdown",
      "metadata": {
        "id": "iuJeSJNNEcCU"
      },
      "source": [
        "(1) 건전지 수명이 90시간 이하일 확률은?"
      ]
    },
    {
      "cell_type": "code",
      "metadata": {
        "colab": {
          "base_uri": "https://localhost:8080/",
          "height": 34
        },
        "id": "wIACNdfSEe7h",
        "outputId": "3a5b0906-2444-4a79-f256-1317f89e7b99"
      },
      "source": [
        "# pnorm: 정규분포의 누적확률값\r\n",
        "pnorm(90, mean=110, sd=10)"
      ],
      "execution_count": 20,
      "outputs": [
        {
          "output_type": "display_data",
          "data": {
            "text/plain": [
              "[1] 0.02275013"
            ],
            "text/latex": "0.0227501319481792",
            "text/markdown": "0.0227501319481792",
            "text/html": [
              "0.0227501319481792"
            ]
          },
          "metadata": {
            "tags": []
          }
        }
      ]
    },
    {
      "cell_type": "markdown",
      "metadata": {
        "id": "05kZbwgB4-lg"
      },
      "source": [
        "(2) 건전지 수명이 100시간 이상, 115시간 이하일 확률은?"
      ]
    },
    {
      "cell_type": "code",
      "metadata": {
        "colab": {
          "base_uri": "https://localhost:8080/",
          "height": 34
        },
        "id": "43wiSHt95G1o",
        "outputId": "d88698a5-cc09-4383-d92f-4dc0170ae0d2"
      },
      "source": [
        "# pnorm: 정규분포의 누적확률값\r\n",
        "pnorm(115, mean=110, sd=10) - pnorm(100, mean=110, sd=10)"
      ],
      "execution_count": 24,
      "outputs": [
        {
          "output_type": "display_data",
          "data": {
            "text/plain": [
              "[1] 0.5328072"
            ],
            "text/latex": "0.532807207342556",
            "text/markdown": "0.532807207342556",
            "text/html": [
              "0.532807207342556"
            ]
          },
          "metadata": {
            "tags": []
          }
        }
      ]
    },
    {
      "cell_type": "markdown",
      "metadata": {
        "id": "iwuDQFWX5OpH"
      },
      "source": [
        "(3) 건전지 수명이 120시간 이상일 확률은?"
      ]
    },
    {
      "cell_type": "code",
      "metadata": {
        "colab": {
          "base_uri": "https://localhost:8080/",
          "height": 51
        },
        "id": "aOQYGJTt5Rf4",
        "outputId": "a05904e8-c002-4258-f3eb-6b13cb1405b8"
      },
      "source": [
        "# pnorm: 정규분포의 누적확률값\r\n",
        "1-pnorm(120, mean=110, sd=10)\r\n",
        "pnorm(120, mean=110, sd=10, lower.tail=FALSE)"
      ],
      "execution_count": 25,
      "outputs": [
        {
          "output_type": "display_data",
          "data": {
            "text/plain": [
              "[1] 0.1586553"
            ],
            "text/latex": "0.158655253931457",
            "text/markdown": "0.158655253931457",
            "text/html": [
              "0.158655253931457"
            ]
          },
          "metadata": {
            "tags": []
          }
        },
        {
          "output_type": "display_data",
          "data": {
            "text/plain": [
              "[1] 0.1586553"
            ],
            "text/latex": "0.158655253931457",
            "text/markdown": "0.158655253931457",
            "text/html": [
              "0.158655253931457"
            ]
          },
          "metadata": {
            "tags": []
          }
        }
      ]
    },
    {
      "cell_type": "markdown",
      "metadata": {
        "id": "Yy7qaD1s5aOs"
      },
      "source": [
        "[예제 4-10] 한 공장에서 생산되는 제품의 불량률이 5%라고 한다. 어느 날 제품 100개를 표본추출했을 때, 이 중에"
      ]
    },
    {
      "cell_type": "markdown",
      "metadata": {
        "id": "4xSd056D5od6"
      },
      "source": [
        "(1) 불량품이 2개 이하일 확률은?"
      ]
    }
  ]
}