{
  "cells": [
    {
      "cell_type": "markdown",
      "metadata": {
        "colab_type": "text",
        "id": "view-in-github"
      },
      "source": [
        "<a href=\"https://colab.research.google.com/github/barkle2/KNOU/blob/master/%5B3-1%5D%ED%86%B5%EA%B3%84%ED%95%99%EA%B0%9C%EB%A1%A0/%EC%A0%9C4%EC%9E%A5_%ED%99%95%EB%A5%A0%EB%B6%84%ED%8F%AC%EC%99%80_%ED%91%9C%EB%B3%B8%EB%B6%84%ED%8F%AC.ipynb\" target=\"_parent\"><img src=\"https://colab.research.google.com/assets/colab-badge.svg\" alt=\"Open In Colab\"/></a>"
      ]
    },
    {
      "cell_type": "markdown",
      "metadata": {
        "id": "f0fhyGu01ln_"
      },
      "source": [
        "[예제 4-1] 어느 보험회사의 영업사원이 고객을 만나 그 사람을 보험에 가입하게 할 확률은 과거의 경험으로 보아 20%이다. 오늘 아침 영업사원이 10명의 고객을 만날 예정이다."
      ]
    },
    {
      "cell_type": "code",
      "execution_count": 1,
      "metadata": {
        "colab": {
          "base_uri": "https://localhost:8080/",
          "height": 437
        },
        "id": "x1a8dyZi2nFb",
        "outputId": "940a84bd-156b-455a-ee79-e0e26c2a539d"
      },
      "outputs": [
        {
          "data": {
            "image/png": "[encoded data removed]",
            "text/plain": [
              "Plot with title “X ~ B(10, 0.2)”"
            ]
          },
          "metadata": {
            "image/png": {
              "height": 420,
              "width": 420
            },
            "tags": []
          },
          "output_type": "display_data"
        }
      ],
      "source": [
        "y <- dbinom(0:10, size=10, prob=0.2)\n",
        "plot(0:10, y, type='h', ylab='probability', xlab='number of contract', main=c('X ~ B(10, 0.2)'))"
      ]
    },
    {
      "cell_type": "markdown",
      "metadata": {
        "id": "vf7eXHTp2JIr"
      },
      "source": [
        "(1) 세 사람이 보험에 가입할 확률은?"
      ]
    },
    {
      "cell_type": "code",
      "execution_count": 2,
      "metadata": {
        "colab": {
          "base_uri": "https://localhost:8080/",
          "height": 34
        },
        "id": "eteQajS_2LEY",
        "outputId": "c6d4e892-fb10-4c54-b510-d0cbd8655e5c"
      },
      "outputs": [
        {
          "data": {
            "text/html": [
              "0.201326592"
            ],
            "text/latex": [
              "0.201326592"
            ],
            "text/markdown": [
              "0.201326592"
            ],
            "text/plain": [
              "[1] 0.2013266"
            ]
          },
          "metadata": {
            "tags": []
          },
          "output_type": "display_data"
        }
      ],
      "source": [
        "# dbinom: 이항분포의 확률값\n",
        "dbinom(3, size=10, prob=0.2)"
      ]
    },
    {
      "cell_type": "markdown",
      "metadata": {
        "id": "jZpr55WI4I3F"
      },
      "source": [
        "(2) 두 사람 이상이 보험에 가입할 확률은?"
      ]
    },
    {
      "cell_type": "code",
      "execution_count": 3,
      "metadata": {
        "colab": {
          "base_uri": "https://localhost:8080/",
          "height": 51
        },
        "id": "YXv0y2Kp4LyE",
        "outputId": "65ae15cd-7daf-484f-ac13-17355982dbd0"
      },
      "outputs": [
        {
          "data": {
            "text/html": [
              "0.6241903616"
            ],
            "text/latex": [
              "0.6241903616"
            ],
            "text/markdown": [
              "0.6241903616"
            ],
            "text/plain": [
              "[1] 0.6241904"
            ]
          },
          "metadata": {
            "tags": []
          },
          "output_type": "display_data"
        },
        {
          "data": {
            "text/html": [
              "0.6241903616"
            ],
            "text/latex": [
              "0.6241903616"
            ],
            "text/markdown": [
              "0.6241903616"
            ],
            "text/plain": [
              "[1] 0.6241904"
            ]
          },
          "metadata": {
            "tags": []
          },
          "output_type": "display_data"
        }
      ],
      "source": [
        "# pbinom: 이항분포의 누적확률값\n",
        "1-pbinom(1, size=10, prob=0.2)\n",
        "# dbinom: 이항분포의 확률값\n",
        "1-dbinom(0, size=10, prob=0.2)-dbinom(1, size=10, prob=0.2)"
      ]
    },
    {
      "cell_type": "markdown",
      "metadata": {
        "id": "hxiWWuzD5HsR"
      },
      "source": [
        "(3) 평균 몇 사람이 가입하겠는가? 또 그 표준편차는?"
      ]
    },
    {
      "cell_type": "code",
      "execution_count": 4,
      "metadata": {
        "colab": {
          "base_uri": "https://localhost:8080/",
          "height": 51
        },
        "id": "PAhVbjy45Mzg",
        "outputId": "cd0d8c24-910f-4529-aacf-37b9deb5b027"
      },
      "outputs": [
        {
          "data": {
            "text/html": [
              "2"
            ],
            "text/latex": [
              "2"
            ],
            "text/markdown": [
              "2"
            ],
            "text/plain": [
              "[1] 2"
            ]
          },
          "metadata": {
            "tags": []
          },
          "output_type": "display_data"
        },
        {
          "data": {
            "text/html": [
              "1.26491106406735"
            ],
            "text/latex": [
              "1.26491106406735"
            ],
            "text/markdown": [
              "1.26491106406735"
            ],
            "text/plain": [
              "[1] 1.264911"
            ]
          },
          "metadata": {
            "tags": []
          },
          "output_type": "display_data"
        }
      ],
      "source": [
        "# E(X) = np\n",
        "10*0.2\n",
        "# Var(X) = np(1-p), SD(X) = sqrt(Var(X))\n",
        "sqrt(10*0.2*0.8)"
      ]
    },
    {
      "cell_type": "markdown",
      "metadata": {
        "id": "bwNtr5eI5kYL"
      },
      "source": [
        "[예제 4-2] 한 복권의 당첨률이 30%라고 한다. 복권을 8장 구입했다고 하자."
      ]
    },
    {
      "cell_type": "code",
      "execution_count": 5,
      "metadata": {
        "colab": {
          "base_uri": "https://localhost:8080/",
          "height": 437
        },
        "id": "s5i6laQ55rrC",
        "outputId": "572ab5c1-7dd5-4dac-9d3d-32a0be0384fb"
      },
      "outputs": [
        {
          "data": {
            "image/png": "[encoded data removed]",
            "text/plain": [
              "Plot with title “X ~ B(8, 0.3)”"
            ]
          },
          "metadata": {
            "image/png": {
              "height": 420,
              "width": 420
            },
            "tags": []
          },
          "output_type": "display_data"
        }
      ],
      "source": [
        "y <- dbinom(0:8, size=8, prob=0.3)\n",
        "plot(0:8, y, type='h', ylab='probability', xlab='number of win', main=c('X ~ B(8, 0.3)'))"
      ]
    },
    {
      "cell_type": "markdown",
      "metadata": {
        "id": "ajBWpSSk5pX3"
      },
      "source": [
        "(1) 4장이 당첨될 확률은?"
      ]
    },
    {
      "cell_type": "code",
      "execution_count": 6,
      "metadata": {
        "colab": {
          "base_uri": "https://localhost:8080/",
          "height": 34
        },
        "id": "1Ojwi3Xi8-M5",
        "outputId": "10ea9b54-fcc2-4037-907d-e7f84305d482"
      },
      "outputs": [
        {
          "data": {
            "text/html": [
              "0.1361367"
            ],
            "text/latex": [
              "0.1361367"
            ],
            "text/markdown": [
              "0.1361367"
            ],
            "text/plain": [
              "[1] 0.1361367"
            ]
          },
          "metadata": {
            "tags": []
          },
          "output_type": "display_data"
        }
      ],
      "source": [
        "# dbinom: 이항분포의 확률값\n",
        "dbinom(4, size=8, prob=0.3)"
      ]
    },
    {
      "cell_type": "markdown",
      "metadata": {
        "id": "fGtPkYrO9KUK"
      },
      "source": [
        "(2) 3장에서 7장이 당첨될 확률은?"
      ]
    },
    {
      "cell_type": "code",
      "execution_count": 7,
      "metadata": {
        "colab": {
          "base_uri": "https://localhost:8080/",
          "height": 34
        },
        "id": "A2bKBE6Q9NiQ",
        "outputId": "36898ef0-4c8a-4dbd-be67-f1da23301355"
      },
      "outputs": [
        {
          "data": {
            "text/html": [
              "0.44816058"
            ],
            "text/latex": [
              "0.44816058"
            ],
            "text/markdown": [
              "0.44816058"
            ],
            "text/plain": [
              "[1] 0.4481606"
            ]
          },
          "metadata": {
            "tags": []
          },
          "output_type": "display_data"
        }
      ],
      "source": [
        "# pbinom: 이항분포의 누적확률값\n",
        "pbinom(7, size=8, prob=0.3) - pbinom(2, size=8, prob=0.3)"
      ]
    },
    {
      "cell_type": "markdown",
      "metadata": {
        "id": "MQF2yYHB9Wfd"
      },
      "source": [
        "(3) 6장 이상이 당첨될 확률은?"
      ]
    },
    {
      "cell_type": "code",
      "execution_count": 8,
      "metadata": {
        "colab": {
          "base_uri": "https://localhost:8080/",
          "height": 34
        },
        "id": "8nfQSsHD9ZCx",
        "outputId": "21074dc1-66e8-4991-d0ad-1cc52e8998cc"
      },
      "outputs": [
        {
          "data": {
            "text/html": [
              "0.0112922099999999"
            ],
            "text/latex": [
              "0.0112922099999999"
            ],
            "text/markdown": [
              "0.0112922099999999"
            ],
            "text/plain": [
              "[1] 0.01129221"
            ]
          },
          "metadata": {
            "tags": []
          },
          "output_type": "display_data"
        }
      ],
      "source": [
        "# pbinom: 이항분포의 누적확률값\n",
        "1-pbinom(5, size=8, prob=0.3)"
      ]
    },
    {
      "cell_type": "markdown",
      "metadata": {
        "id": "t7AsqJP_-uBi"
      },
      "source": [
        "[예제 4-3] 흰 공 3개와 검은 공 2개가 들어 있는 주머니에서 임의로 2개를 꺼냈을 때 X를 검은 공의 개수인 확률변수로 정의하자. X=0,1,2의 값을 취할 확률은?"
      ]
    },
    {
      "cell_type": "code",
      "execution_count": 9,
      "metadata": {
        "colab": {
          "base_uri": "https://localhost:8080/",
          "height": 68
        },
        "id": "v_sU_cJU-3Ja",
        "outputId": "f8774e24-415c-4512-9733-22d43b3544b5"
      },
      "outputs": [
        {
          "data": {
            "text/html": [
              "0.3"
            ],
            "text/latex": [
              "0.3"
            ],
            "text/markdown": [
              "0.3"
            ],
            "text/plain": [
              "[1] 0.3"
            ]
          },
          "metadata": {
            "tags": []
          },
          "output_type": "display_data"
        },
        {
          "data": {
            "text/html": [
              "0.6"
            ],
            "text/latex": [
              "0.6"
            ],
            "text/markdown": [
              "0.6"
            ],
            "text/plain": [
              "[1] 0.6"
            ]
          },
          "metadata": {
            "tags": []
          },
          "output_type": "display_data"
        },
        {
          "data": {
            "text/html": [
              "0.1"
            ],
            "text/latex": [
              "0.1"
            ],
            "text/markdown": [
              "0.1"
            ],
            "text/plain": [
              "[1] 0.1"
            ]
          },
          "metadata": {
            "tags": []
          },
          "output_type": "display_data"
        }
      ],
      "source": [
        "# dhyper: 초기하분포의 확률값\n",
        "dhyper(0, 2, 3, 2)\n",
        "dhyper(1, 2, 3, 2)\n",
        "dhyper(2, 2, 3, 2)"
      ]
    },
    {
      "cell_type": "markdown",
      "metadata": {
        "id": "Opv5RgHN_VBx"
      },
      "source": [
        "[예제 4-4] 화재보험회사에서 1,860명의 보험계약자를 보유하고 있는데, 1년에 화재가 발생하여 보험금을 청구하는 확률이 1/600이다. 어느 해에 보험계약자 중 화재보험금을 청구하는 횟수를 확률변수 X로 하여 0, 1, 2, 3인 경우의 확률을 구하여라."
      ]
    },
    {
      "cell_type": "code",
      "execution_count": 10,
      "metadata": {
        "colab": {
          "base_uri": "https://localhost:8080/",
          "height": 437
        },
        "id": "TjE5J1fcE0oP",
        "outputId": "08ee4fb6-6f4d-4c7d-de69-760126a47b81"
      },
      "outputs": [
        {
          "data": {
            "image/png": "[encoded data removed]",
            "text/plain": [
              "Plot with title “X ~ Pois(3.1)”"
            ]
          },
          "metadata": {
            "image/png": {
              "height": 420,
              "width": 420
            },
            "tags": []
          },
          "output_type": "display_data"
        }
      ],
      "source": [
        "n=1860\n",
        "p=1/600\n",
        "\n",
        "y <- dpois(0:10, n*p)\n",
        "plot(0:10, y, type='h', ylab='probability', xlab='number of claim', main=c('X ~ Pois(3.1)'))"
      ]
    },
    {
      "cell_type": "code",
      "execution_count": 11,
      "metadata": {
        "colab": {
          "base_uri": "https://localhost:8080/",
          "height": 85
        },
        "id": "cK5Srsn1_jKW",
        "outputId": "d0c76805-1a8c-4266-8a2d-a30f8c7e985a"
      },
      "outputs": [
        {
          "data": {
            "text/html": [
              "0.0450492023935578"
            ],
            "text/latex": [
              "0.0450492023935578"
            ],
            "text/markdown": [
              "0.0450492023935578"
            ],
            "text/plain": [
              "[1] 0.0450492"
            ]
          },
          "metadata": {
            "tags": []
          },
          "output_type": "display_data"
        },
        {
          "data": {
            "text/html": [
              "0.139652527420029"
            ],
            "text/latex": [
              "0.139652527420029"
            ],
            "text/markdown": [
              "0.139652527420029"
            ],
            "text/plain": [
              "[1] 0.1396525"
            ]
          },
          "metadata": {
            "tags": []
          },
          "output_type": "display_data"
        },
        {
          "data": {
            "text/html": [
              "0.216461417501045"
            ],
            "text/latex": [
              "0.216461417501045"
            ],
            "text/markdown": [
              "0.216461417501045"
            ],
            "text/plain": [
              "[1] 0.2164614"
            ]
          },
          "metadata": {
            "tags": []
          },
          "output_type": "display_data"
        },
        {
          "data": {
            "text/html": [
              "0.223676798084413"
            ],
            "text/latex": [
              "0.223676798084413"
            ],
            "text/markdown": [
              "0.223676798084413"
            ],
            "text/plain": [
              "[1] 0.2236768"
            ]
          },
          "metadata": {
            "tags": []
          },
          "output_type": "display_data"
        }
      ],
      "source": [
        "# dpois: 포아송분포의 확률값\n",
        "dpois(0, n*p)\n",
        "dpois(1, n*p)\n",
        "dpois(2, n*p)\n",
        "dpois(3, n*p)"
      ]
    },
    {
      "cell_type": "markdown",
      "metadata": {
        "id": "lYYCru9sADEl"
      },
      "source": [
        "[예제 4-5] 은행에서 하루 평균 6건의 불량수표를 받게 된다고 할 때, 어떤 특정한 날에 불량수표를 4번 받을 확률은?"
      ]
    },
    {
      "cell_type": "code",
      "execution_count": 12,
      "metadata": {
        "colab": {
          "base_uri": "https://localhost:8080/",
          "height": 437
        },
        "id": "G4Oz9LH6FWnJ",
        "outputId": "11b96945-6373-473d-88d6-98f795b5da25"
      },
      "outputs": [
        {
          "data": {
            "image/png": "[encoded data removed]",
            "text/plain": [
              "Plot with title “X ~ Pois(6)”"
            ]
          },
          "metadata": {
            "image/png": {
              "height": 420,
              "width": 420
            },
            "tags": []
          },
          "output_type": "display_data"
        }
      ],
      "source": [
        "y <- dpois(0:20, 6)\n",
        "plot(0:20, y, type='h', ylab='probability', xlab='number of bad', main=c('X ~ Pois(6)'))"
      ]
    },
    {
      "cell_type": "code",
      "execution_count": 13,
      "metadata": {
        "colab": {
          "base_uri": "https://localhost:8080/",
          "height": 34
        },
        "id": "ho-BmkJxAIyS",
        "outputId": "f19c0ef2-6e3a-4063-9a11-621506d4e3f5"
      },
      "outputs": [
        {
          "data": {
            "text/html": [
              "0.133852617539983"
            ],
            "text/latex": [
              "0.133852617539983"
            ],
            "text/markdown": [
              "0.133852617539983"
            ],
            "text/plain": [
              "[1] 0.1338526"
            ]
          },
          "metadata": {
            "tags": []
          },
          "output_type": "display_data"
        }
      ],
      "source": [
        "# dpois: 포아송분포의 확률값\n",
        "dpois(4, 6)"
      ]
    },
    {
      "cell_type": "markdown",
      "metadata": {
        "id": "NHND48gICCHK"
      },
      "source": [
        "[예제 4-6] Z가 표준정규확률변수일 때 다음의 확률을 구하라."
      ]
    },
    {
      "cell_type": "code",
      "execution_count": 14,
      "metadata": {
        "colab": {
          "base_uri": "https://localhost:8080/",
          "height": 437
        },
        "id": "5ER_YqUG4hCA",
        "outputId": "119dabb0-9dd5-44fc-fc64-f2d9e95bd357"
      },
      "outputs": [
        {
          "data": {
            "image/png": "[encoded data removed]",
            "text/plain": [
              "Plot with title “X~N(0,1)”"
            ]
          },
          "metadata": {
            "image/png": {
              "height": 420,
              "width": 420
            },
            "tags": []
          },
          "output_type": "display_data"
        }
      ],
      "source": [
        "x <- seq(-3, 3, length=200)\n",
        "plot(x, dnorm(x, mean=0, sd=1), xlab='X', ylab='probability', type='l', main=\"X~N(0,1)\")"
      ]
    },
    {
      "cell_type": "markdown",
      "metadata": {
        "id": "rmADaVqqCGwx"
      },
      "source": [
        "(1) P(Z<1.96)"
      ]
    },
    {
      "cell_type": "code",
      "execution_count": 15,
      "metadata": {
        "colab": {
          "base_uri": "https://localhost:8080/",
          "height": 34
        },
        "id": "vot_ZN1KCKf6",
        "outputId": "ae9e233c-3ea0-4a60-a042-d4a718724272"
      },
      "outputs": [
        {
          "data": {
            "text/html": [
              "0.97500210485178"
            ],
            "text/latex": [
              "0.97500210485178"
            ],
            "text/markdown": [
              "0.97500210485178"
            ],
            "text/plain": [
              "[1] 0.9750021"
            ]
          },
          "metadata": {
            "tags": []
          },
          "output_type": "display_data"
        }
      ],
      "source": [
        "# pnorm: 정규분포의 누적확률값\n",
        "pnorm(1.96, mean=0, sd=1)"
      ]
    },
    {
      "cell_type": "markdown",
      "metadata": {
        "id": "JGZ81vAcCdYM"
      },
      "source": [
        "(2) P(-1.96<Z<1.96)"
      ]
    },
    {
      "cell_type": "code",
      "execution_count": 16,
      "metadata": {
        "colab": {
          "base_uri": "https://localhost:8080/",
          "height": 34
        },
        "id": "lKzSSM66Cg8h",
        "outputId": "2681a6e0-0dee-4f49-a0f0-90c7f5fdf333"
      },
      "outputs": [
        {
          "data": {
            "text/html": [
              "0.950004209703559"
            ],
            "text/latex": [
              "0.950004209703559"
            ],
            "text/markdown": [
              "0.950004209703559"
            ],
            "text/plain": [
              "[1] 0.9500042"
            ]
          },
          "metadata": {
            "tags": []
          },
          "output_type": "display_data"
        }
      ],
      "source": [
        "# pnorm: 정규분포의 누적확률값\n",
        "pnorm(1.96, mean=0, sd=1) - pnorm(-1.96, mean=0, sd=1)"
      ]
    },
    {
      "cell_type": "markdown",
      "metadata": {
        "id": "v6bauKK5CyEy"
      },
      "source": [
        "(3) P(Z>1.96)"
      ]
    },
    {
      "cell_type": "code",
      "execution_count": 17,
      "metadata": {
        "colab": {
          "base_uri": "https://localhost:8080/",
          "height": 51
        },
        "id": "wzjmRAbhC1dY",
        "outputId": "727fb034-e893-4fdc-b49f-641c0ff07ce7"
      },
      "outputs": [
        {
          "data": {
            "text/html": [
              "0.0249978951482204"
            ],
            "text/latex": [
              "0.0249978951482204"
            ],
            "text/markdown": [
              "0.0249978951482204"
            ],
            "text/plain": [
              "[1] 0.0249979"
            ]
          },
          "metadata": {
            "tags": []
          },
          "output_type": "display_data"
        },
        {
          "data": {
            "text/html": [
              "0.0249978951482204"
            ],
            "text/latex": [
              "0.0249978951482204"
            ],
            "text/markdown": [
              "0.0249978951482204"
            ],
            "text/plain": [
              "[1] 0.0249979"
            ]
          },
          "metadata": {
            "tags": []
          },
          "output_type": "display_data"
        }
      ],
      "source": [
        "# pnorm: 정규분포의 누적확률값\n",
        "1-pnorm(1.96, mean=0, sd=1)\n",
        "pnorm(1.96, mean=0, sd=1, lower.tail=FALSE)"
      ]
    },
    {
      "cell_type": "markdown",
      "metadata": {
        "id": "L-nzxuHNDGE0"
      },
      "source": [
        "[예제 4-7] 확률변수 X가 평균이 70, 표준편차가 10인 정규분포를 따를 때 다음의 확률을 구하라."
      ]
    },
    {
      "cell_type": "code",
      "execution_count": 18,
      "metadata": {
        "colab": {
          "base_uri": "https://localhost:8080/",
          "height": 437
        },
        "id": "FZ3qALHh4soi",
        "outputId": "0141454e-c723-443a-8bf1-1ec066e01819"
      },
      "outputs": [
        {
          "data": {
            "image/png": "[encoded data removed]",
            "text/plain": [
              "Plot with title “X~N(70,10)”"
            ]
          },
          "metadata": {
            "image/png": {
              "height": 420,
              "width": 420
            },
            "tags": []
          },
          "output_type": "display_data"
        }
      ],
      "source": [
        "x <- seq(40, 100, length=200)\n",
        "plot(x, dnorm(x, mean=70, sd=10), xlab='X', ylab='probability', type='l', main=\"X~N(70,10)\")"
      ]
    },
    {
      "cell_type": "markdown",
      "metadata": {
        "id": "UPGWAWpdDNOd"
      },
      "source": [
        "(1) P(X<94.3)"
      ]
    },
    {
      "cell_type": "code",
      "execution_count": 19,
      "metadata": {
        "colab": {
          "base_uri": "https://localhost:8080/",
          "height": 34
        },
        "id": "0hdGh8N4DPPD",
        "outputId": "f32a48bc-e2fd-44f0-a6d4-f50e0d73a0bc"
      },
      "outputs": [
        {
          "data": {
            "text/html": [
              "0.992450588583691"
            ],
            "text/latex": [
              "0.992450588583691"
            ],
            "text/markdown": [
              "0.992450588583691"
            ],
            "text/plain": [
              "[1] 0.9924506"
            ]
          },
          "metadata": {
            "tags": []
          },
          "output_type": "display_data"
        }
      ],
      "source": [
        "# pnorm: 정규분포의 누적확률값\n",
        "pnorm(94.3, mean=70, sd=10)"
      ]
    },
    {
      "cell_type": "markdown",
      "metadata": {
        "id": "zKxQtXDsDW7K"
      },
      "source": [
        "(2) P(X>57.7)"
      ]
    },
    {
      "cell_type": "code",
      "execution_count": 20,
      "metadata": {
        "colab": {
          "base_uri": "https://localhost:8080/",
          "height": 51
        },
        "id": "7DvY3ivfDZ2O",
        "outputId": "89315f80-3268-4830-d0aa-6aec41f3707f"
      },
      "outputs": [
        {
          "data": {
            "text/html": [
              "0.890651447574308"
            ],
            "text/latex": [
              "0.890651447574308"
            ],
            "text/markdown": [
              "0.890651447574308"
            ],
            "text/plain": [
              "[1] 0.8906514"
            ]
          },
          "metadata": {
            "tags": []
          },
          "output_type": "display_data"
        },
        {
          "data": {
            "text/html": [
              "0.890651447574308"
            ],
            "text/latex": [
              "0.890651447574308"
            ],
            "text/markdown": [
              "0.890651447574308"
            ],
            "text/plain": [
              "[1] 0.8906514"
            ]
          },
          "metadata": {
            "tags": []
          },
          "output_type": "display_data"
        }
      ],
      "source": [
        "# pnorm: 정규분포의 누적확률값\n",
        "1-pnorm(57.7, mean=70, sd=10)\n",
        "pnorm(57.7, mean=70, sd=10, lower.tail=FALSE)"
      ]
    },
    {
      "cell_type": "markdown",
      "metadata": {
        "id": "IK0SqBEuDk1p"
      },
      "source": [
        "(3) P(57.7<X<94.3)"
      ]
    },
    {
      "cell_type": "code",
      "execution_count": 21,
      "metadata": {
        "colab": {
          "base_uri": "https://localhost:8080/",
          "height": 34
        },
        "id": "qbUBYvdtDn0S",
        "outputId": "442a5ad7-de01-43a0-df22-42f42d7e465c"
      },
      "outputs": [
        {
          "data": {
            "text/html": [
              "0.883102036157999"
            ],
            "text/latex": [
              "0.883102036157999"
            ],
            "text/markdown": [
              "0.883102036157999"
            ],
            "text/plain": [
              "[1] 0.883102"
            ]
          },
          "metadata": {
            "tags": []
          },
          "output_type": "display_data"
        }
      ],
      "source": [
        "# pnorm: 정규분포의 누적확률값\n",
        "pnorm(94.3, mean=70, sd=10) - pnorm(57.7, mean=70, sd=10)"
      ]
    },
    {
      "cell_type": "markdown",
      "metadata": {
        "id": "jkuuSSKOEXFa"
      },
      "source": [
        "[예제 4-8] 한 회사의 건전지 수명은 평균이 110시간, 표준편차가 10인 정규분포를 따른다고 하자."
      ]
    },
    {
      "cell_type": "code",
      "execution_count": 22,
      "metadata": {
        "colab": {
          "base_uri": "https://localhost:8080/",
          "height": 437
        },
        "id": "rYIz5nKs41_Y",
        "outputId": "9f9dbf52-672c-4161-8133-4a0c243535eb"
      },
      "outputs": [
        {
          "data": {
            "image/png": "[encoded data removed]",
            "text/plain": [
              "Plot with title “X~N(110,10)”"
            ]
          },
          "metadata": {
            "image/png": {
              "height": 420,
              "width": 420
            },
            "tags": []
          },
          "output_type": "display_data"
        }
      ],
      "source": [
        "x <- seq(80, 140, length=200)\n",
        "plot(x, dnorm(x, mean=110, sd=10), xlab='X', ylab='probability', type='l', main=\"X~N(110,10)\")"
      ]
    },
    {
      "cell_type": "markdown",
      "metadata": {
        "id": "iuJeSJNNEcCU"
      },
      "source": [
        "(1) 건전지 수명이 90시간 이하일 확률은?"
      ]
    },
    {
      "cell_type": "code",
      "execution_count": 23,
      "metadata": {
        "colab": {
          "base_uri": "https://localhost:8080/",
          "height": 34
        },
        "id": "wIACNdfSEe7h",
        "outputId": "a1c9ec2f-147d-4873-993c-ae0e205533bf"
      },
      "outputs": [
        {
          "data": {
            "text/html": [
              "0.0227501319481792"
            ],
            "text/latex": [
              "0.0227501319481792"
            ],
            "text/markdown": [
              "0.0227501319481792"
            ],
            "text/plain": [
              "[1] 0.02275013"
            ]
          },
          "metadata": {
            "tags": []
          },
          "output_type": "display_data"
        }
      ],
      "source": [
        "# pnorm: 정규분포의 누적확률값\n",
        "pnorm(90, mean=110, sd=10)"
      ]
    },
    {
      "cell_type": "markdown",
      "metadata": {
        "id": "05kZbwgB4-lg"
      },
      "source": [
        "(2) 건전지 수명이 100시간 이상, 115시간 이하일 확률은?"
      ]
    },
    {
      "cell_type": "code",
      "execution_count": 24,
      "metadata": {
        "colab": {
          "base_uri": "https://localhost:8080/",
          "height": 34
        },
        "id": "43wiSHt95G1o",
        "outputId": "3432013e-b6aa-4f00-88d5-42aa0f69b3b5"
      },
      "outputs": [
        {
          "data": {
            "text/html": [
              "0.532807207342556"
            ],
            "text/latex": [
              "0.532807207342556"
            ],
            "text/markdown": [
              "0.532807207342556"
            ],
            "text/plain": [
              "[1] 0.5328072"
            ]
          },
          "metadata": {
            "tags": []
          },
          "output_type": "display_data"
        }
      ],
      "source": [
        "# pnorm: 정규분포의 누적확률값\n",
        "pnorm(115, mean=110, sd=10) - pnorm(100, mean=110, sd=10)"
      ]
    },
    {
      "cell_type": "markdown",
      "metadata": {
        "id": "iwuDQFWX5OpH"
      },
      "source": [
        "(3) 건전지 수명이 120시간 이상일 확률은?"
      ]
    },
    {
      "cell_type": "code",
      "execution_count": 25,
      "metadata": {
        "colab": {
          "base_uri": "https://localhost:8080/",
          "height": 51
        },
        "id": "aOQYGJTt5Rf4",
        "outputId": "986d5144-be92-4b40-c6cd-836543441657"
      },
      "outputs": [
        {
          "data": {
            "text/html": [
              "0.158655253931457"
            ],
            "text/latex": [
              "0.158655253931457"
            ],
            "text/markdown": [
              "0.158655253931457"
            ],
            "text/plain": [
              "[1] 0.1586553"
            ]
          },
          "metadata": {
            "tags": []
          },
          "output_type": "display_data"
        },
        {
          "data": {
            "text/html": [
              "0.158655253931457"
            ],
            "text/latex": [
              "0.158655253931457"
            ],
            "text/markdown": [
              "0.158655253931457"
            ],
            "text/plain": [
              "[1] 0.1586553"
            ]
          },
          "metadata": {
            "tags": []
          },
          "output_type": "display_data"
        }
      ],
      "source": [
        "# pnorm: 정규분포의 누적확률값\n",
        "1-pnorm(120, mean=110, sd=10)\n",
        "pnorm(120, mean=110, sd=10, lower.tail=FALSE)"
      ]
    },
    {
      "cell_type": "markdown",
      "metadata": {
        "id": "Yy7qaD1s5aOs"
      },
      "source": [
        "[예제 4-10] 한 공장에서 생산되는 제품의 불량률이 5%라고 한다. 어느 날 제품 100개를 표본추출했을 때, 이 중에"
      ]
    },
    {
      "cell_type": "code",
      "execution_count": 26,
      "metadata": {
        "colab": {
          "base_uri": "https://localhost:8080/",
          "height": 437
        },
        "id": "B2MC-c9ZEaQX",
        "outputId": "5b968941-2690-4b0d-c657-3bb952940f35"
      },
      "outputs": [
        {
          "data": {
            "image/png": "[encoded data removed]",
            "text/plain": [
              "Plot with title “X~N(5, 4.75)”"
            ]
          },
          "metadata": {
            "image/png": {
              "height": 420,
              "width": 420
            },
            "tags": []
          },
          "output_type": "display_data"
        }
      ],
      "source": [
        "n=100\n",
        "p=0.05\n",
        "x <- seq(0, 10, length=11)\n",
        "plot(x, dnorm(x, mean=n*p, sd=sqrt(n*p*(1-p))), xlab='X', ylab='probability', type='h', main=\"X~N(5, 4.75)\")"
      ]
    },
    {
      "cell_type": "markdown",
      "metadata": {
        "id": "4xSd056D5od6"
      },
      "source": [
        "(1) 불량품이 2개 이하일 확률은?"
      ]
    },
    {
      "cell_type": "code",
      "execution_count": 27,
      "metadata": {
        "colab": {
          "base_uri": "https://localhost:8080/",
          "height": 34
        },
        "id": "dkUx3qcWELXp",
        "outputId": "4a84e59a-4580-4772-aa9a-0a2ce4b44873"
      },
      "outputs": [
        {
          "data": {
            "text/html": [
              "0.0843343094439076"
            ],
            "text/latex": [
              "0.0843343094439076"
            ],
            "text/markdown": [
              "0.0843343094439076"
            ],
            "text/plain": [
              "[1] 0.08433431"
            ]
          },
          "metadata": {
            "tags": []
          },
          "output_type": "display_data"
        }
      ],
      "source": [
        "# pnorm: 정규분포의 누적확률값\n",
        "pnorm(2, n*p, sqrt(n*p*(1-p)))"
      ]
    },
    {
      "cell_type": "markdown",
      "metadata": {
        "id": "HwFlmEX6GSsV"
      },
      "source": [
        "(2) 3개에서 7개일 확률은?"
      ]
    },
    {
      "cell_type": "code",
      "execution_count": 28,
      "metadata": {
        "colab": {
          "base_uri": "https://localhost:8080/",
          "height": 34
        },
        "id": "NYHNkeAaGVAW",
        "outputId": "916e3fbb-2287-4868-d4e3-1f4f2e56feaa"
      },
      "outputs": [
        {
          "data": {
            "text/html": [
              "0.641204642113058"
            ],
            "text/latex": [
              "0.641204642113058"
            ],
            "text/markdown": [
              "0.641204642113058"
            ],
            "text/plain": [
              "[1] 0.6412046"
            ]
          },
          "metadata": {
            "tags": []
          },
          "output_type": "display_data"
        }
      ],
      "source": [
        "# pnorm: 정규분포의 누적확률값\n",
        "pnorm(7, n*p, sqrt(n*p*(1-p))) - pnorm(3, n*p, sqrt(n*p*(1-p)))"
      ]
    },
    {
      "cell_type": "markdown",
      "metadata": {
        "id": "-LrFzF06Hnq-"
      },
      "source": [
        "[연습문제 01] 다음 중 정규분포의 특성이 아닌 것은?  \n",
        "☞ ② 봉우리가 좌우 두 개인 분포개형이다.  \n",
        "정규분포는 봉우리가 하나이다."
      ]
    },
    {
      "cell_type": "markdown",
      "metadata": {
        "id": "fE6EOpoCH5a8"
      },
      "source": [
        "[연습문제 02] 취직시험이 있었다. 점수가 450과 500 사이인 사람은 그 직업에 적당하다고 한다. 만일 평균점수가 400이고, 표준편차가 50인 정규분포를 이룬다면 그 직업에 적당하다고 생각되는 점수는 몇 %에 해당되는가?  \n",
        "☞ ④ 약 14%"
      ]
    },
    {
      "cell_type": "code",
      "execution_count": 29,
      "metadata": {
        "colab": {
          "base_uri": "https://localhost:8080/",
          "height": 34
        },
        "id": "iaOg9peSILga",
        "outputId": "c1f2e787-5c75-432e-e03a-04be28cdd3e5"
      },
      "outputs": [
        {
          "data": {
            "text/html": [
              "0.135905121983278"
            ],
            "text/latex": [
              "0.135905121983278"
            ],
            "text/markdown": [
              "0.135905121983278"
            ],
            "text/plain": [
              "[1] 0.1359051"
            ]
          },
          "metadata": {
            "tags": []
          },
          "output_type": "display_data"
        }
      ],
      "source": [
        "# pnorm: 정규분포의 누적확률값\n",
        "pnorm(500, mean=400, sd=50) - pnorm(450, mean=400, sd=50)"
      ]
    },
    {
      "cell_type": "markdown",
      "metadata": {
        "id": "LJk2fB7BIVgz"
      },
      "source": [
        "[연습문제 03] 100원짜리 동전을 2개 던지는 시행을 1,200회 하여 2개 모두 앞면에 나온 횟수를 X라 할 때, 확률 P(285≤X≤315)의 값을 구하면?  \n",
        "☞ ② 0.68"
      ]
    },
    {
      "cell_type": "code",
      "execution_count": 30,
      "metadata": {
        "colab": {
          "base_uri": "https://localhost:8080/",
          "height": 34
        },
        "id": "AV9a3C42Iyv5",
        "outputId": "94880535-860e-4a44-fe4c-fc6acdca6923"
      },
      "outputs": [
        {
          "data": {
            "text/html": [
              "0.682689492137086"
            ],
            "text/latex": [
              "0.682689492137086"
            ],
            "text/markdown": [
              "0.682689492137086"
            ],
            "text/plain": [
              "[1] 0.6826895"
            ]
          },
          "metadata": {
            "tags": []
          },
          "output_type": "display_data"
        }
      ],
      "source": [
        "n=1200\n",
        "p=0.25\n",
        "# pnorm: 정규분포의 누적확률값\n",
        "pnorm(315, mean=n*p, sd=sqrt(n*p*(1-p))) - pnorm(285, mean=n*p, sd=sqrt(n*p*(1-p)))"
      ]
    },
    {
      "cell_type": "markdown",
      "metadata": {
        "id": "EZdsBuoBJP5t"
      },
      "source": [
        "[연습문제 04] 대학의 전산실습실 PC의 수명은 평균이 3.25년, 표준편차가 0.5년의 정규분포를 한다고 알려져 있다. 25대를 조사하여 구한 평균수명이 3년 이하일 확률은?  \n",
        "☞ 0.0098  (교과서에는 ②번 보기의 값이 0.0062이나, R로 계산한 결과는 0.0098임)"
      ]
    },
    {
      "cell_type": "code",
      "execution_count": 31,
      "metadata": {
        "colab": {
          "base_uri": "https://localhost:8080/",
          "height": 34
        },
        "id": "0wfcM02NJgjz",
        "outputId": "9c5784e1-c924-433d-8e41-b1c3c3a3b364"
      },
      "outputs": [
        {
          "data": {
            "text/html": [
              "0.00982708755828938"
            ],
            "text/latex": [
              "0.00982708755828938"
            ],
            "text/markdown": [
              "0.00982708755828938"
            ],
            "text/plain": [
              "[1] 0.009827088"
            ]
          },
          "metadata": {
            "tags": []
          },
          "output_type": "display_data"
        }
      ],
      "source": [
        "T = (3-3.25)/(0.5/sqrt(25))\n",
        "# pt: t분포의 누적확률값\n",
        "pt(T, 24)"
      ]
    },
    {
      "cell_type": "markdown",
      "metadata": {
        "id": "BtmZePxIR1_b"
      },
      "source": [
        "[연습문제 05] 수능성적의 분포는 평균이 250점, 표준편차가 20점인 정규분포를 따른다고 한다. 수능 380인 학생의 표준점수는?  \n",
        "☞ ④ 6.5"
      ]
    },
    {
      "cell_type": "code",
      "execution_count": 32,
      "metadata": {
        "colab": {
          "base_uri": "https://localhost:8080/",
          "height": 34
        },
        "id": "KWV5JE45SAjY",
        "outputId": "71ab6f96-ee83-413b-a822-ceb7847179e1"
      },
      "outputs": [
        {
          "data": {
            "text/html": [
              "6.5"
            ],
            "text/latex": [
              "6.5"
            ],
            "text/markdown": [
              "6.5"
            ],
            "text/plain": [
              "[1] 6.5"
            ]
          },
          "metadata": {
            "tags": []
          },
          "output_type": "display_data"
        }
      ],
      "source": [
        "std_score = (380 - 250) / 20\n",
        "std_score"
      ]
    },
    {
      "cell_type": "markdown",
      "metadata": {
        "id": "k2w9jShyUHu8"
      },
      "source": [
        "[연습문제 06] 고속도로에서 하룻밤 동안 발생하는 교통사고 건수, 하루 동안 정전되는 횟수 등과 같이 희귀한 사건의 수를 확률변수로 할 때 적용되는 분포는?  \n",
        "☞ ④ 포아송분포"
      ]
    },
    {
      "cell_type": "markdown",
      "metadata": {
        "id": "NY0y9QngUZ2U"
      },
      "source": [
        "[연습문제 07] 2개의 검은 공과 2개의 흰 공이 들어 있는 항아리에서 공을 하나씩 꺼낸다. 매번 꺼낸 공의 색깔을 보고 다음 공을 꺼내기 전에 1개의 같은 색을 가진 공을 꺼낸 공과 함께 되돌려 넣는 시행을 한다고 하자. 두 번째 공이 흰 공일 확률을 구하시오.  \n",
        "☞ 0.5\n",
        "\n",
        "\n"
      ]
    },
    {
      "cell_type": "code",
      "execution_count": 33,
      "metadata": {
        "colab": {
          "base_uri": "https://localhost:8080/",
          "height": 34
        },
        "id": "631Su_SjUn-c",
        "outputId": "0d4bf269-b3ec-4619-8bb6-756a7ccd4bc0"
      },
      "outputs": [
        {
          "data": {
            "text/html": [
              "0.5"
            ],
            "text/latex": [
              "0.5"
            ],
            "text/markdown": [
              "0.5"
            ],
            "text/plain": [
              "[1] 0.5"
            ]
          },
          "metadata": {
            "tags": []
          },
          "output_type": "display_data"
        }
      ],
      "source": [
        "# (case1) 첫번째 공이 흰 공 -> 5개 중 3개가 흰 공, 2개가 검은 공 -> 두번째 공도 흰 공\n",
        "p1 = 2/4 * 3/5\n",
        "# 첫번째 공이 검은 공 -> 5개 중 2개가 흰 공, 3개가 검은 공 -> 두번째 공은 흰 공\n",
        "p2 = 2/4 * 2/5\n",
        "p = p1 + p2\n",
        "p"
      ]
    },
    {
      "cell_type": "markdown",
      "metadata": {
        "id": "OMFx-xYuVagU"
      },
      "source": [
        "[연습문제 08] 평균이 76이고 표준편차가 10인 정규분포가 주어졌다."
      ]
    },
    {
      "cell_type": "code",
      "execution_count": 34,
      "metadata": {
        "colab": {
          "base_uri": "https://localhost:8080/",
          "height": 437
        },
        "id": "i5jFohMpV2IB",
        "outputId": "d855eae1-7e70-4f62-ae6e-1769590c6689"
      },
      "outputs": [
        {
          "data": {
            "image/png": "[encoded data removed]",
            "text/plain": [
              "Plot with title “X~N(76,10)”"
            ]
          },
          "metadata": {
            "image/png": {
              "height": 420,
              "width": 420
            },
            "tags": []
          },
          "output_type": "display_data"
        }
      ],
      "source": [
        "x <- seq(56, 96, length=200)\n",
        "plot(x, dnorm(x, mean=76, sd=10), xlab='X', ylab='probability', type='l', main=\"X~N(76,10)\")"
      ]
    },
    {
      "cell_type": "markdown",
      "metadata": {
        "id": "fW3v1VNlWMhC"
      },
      "source": [
        "(1) 관측값이 71과 82 사이에 있을 확률은?"
      ]
    },
    {
      "cell_type": "code",
      "execution_count": 35,
      "metadata": {
        "colab": {
          "base_uri": "https://localhost:8080/",
          "height": 34
        },
        "id": "i-ujCXV-WQKS",
        "outputId": "64f5d14a-bee4-4961-ad96-1588264fa478"
      },
      "outputs": [
        {
          "data": {
            "text/html": [
              "0.41720934352394"
            ],
            "text/latex": [
              "0.41720934352394"
            ],
            "text/markdown": [
              "0.41720934352394"
            ],
            "text/plain": [
              "[1] 0.4172093"
            ]
          },
          "metadata": {
            "tags": []
          },
          "output_type": "display_data"
        }
      ],
      "source": [
        "# pnorm: 정규분포의 누적확률값\n",
        "pnorm(82, mean=76, sd=10) - pnorm(71, mean=76, sd=10)"
      ]
    },
    {
      "cell_type": "markdown",
      "metadata": {
        "id": "R1oDMIz8WamS"
      },
      "source": [
        "(2) 관측값이 75보다 클 확률은?"
      ]
    },
    {
      "cell_type": "code",
      "execution_count": 36,
      "metadata": {
        "colab": {
          "base_uri": "https://localhost:8080/",
          "height": 34
        },
        "id": "JdIQTWcbWduy",
        "outputId": "71f3551e-01be-46c0-f4b7-926b9be8ed13"
      },
      "outputs": [
        {
          "data": {
            "text/html": [
              "0.539827837277029"
            ],
            "text/latex": [
              "0.539827837277029"
            ],
            "text/markdown": [
              "0.539827837277029"
            ],
            "text/plain": [
              "[1] 0.5398278"
            ]
          },
          "metadata": {
            "tags": []
          },
          "output_type": "display_data"
        }
      ],
      "source": [
        "# pnorm: 정규분포의 누적확률값\n",
        "pnorm(75, mean=76, sd=10, lower.tail=FALSE)"
      ]
    },
    {
      "cell_type": "markdown",
      "metadata": {
        "id": "GEwceU6gWiza"
      },
      "source": [
        "(3) 관측값이 78 미만일 확률은?"
      ]
    },
    {
      "cell_type": "code",
      "execution_count": 37,
      "metadata": {
        "colab": {
          "base_uri": "https://localhost:8080/",
          "height": 34
        },
        "id": "Pn-vdU5vWmC5",
        "outputId": "1c1996df-b5a5-42b7-8f59-5624221ec5d9"
      },
      "outputs": [
        {
          "data": {
            "text/html": [
              "0.579259709439103"
            ],
            "text/latex": [
              "0.579259709439103"
            ],
            "text/markdown": [
              "0.579259709439103"
            ],
            "text/plain": [
              "[1] 0.5792597"
            ]
          },
          "metadata": {
            "tags": []
          },
          "output_type": "display_data"
        }
      ],
      "source": [
        "# pnorm: 정규분포의 누적확률값\n",
        "pnorm(78, mean=76, sd=10)"
      ]
    },
    {
      "cell_type": "markdown",
      "metadata": {
        "id": "m03fm5TqWuJJ"
      },
      "source": [
        "[연습문제 09] 큰 관공서에서 결근의 주된 원인은 1/9이 아픈 경우이다. 임의로 고른 4명의 결근자 중 3명이 아파서 결근할 확률을 구하라."
      ]
    },
    {
      "cell_type": "code",
      "execution_count": 38,
      "metadata": {
        "colab": {
          "base_uri": "https://localhost:8080/",
          "height": 34
        },
        "id": "qUed-g8-k7rA",
        "outputId": "69a63d2b-27a3-4385-ef36-6f2177f8a3b3"
      },
      "outputs": [
        {
          "data": {
            "text/html": [
              "0.00487730528882792"
            ],
            "text/latex": [
              "0.00487730528882792"
            ],
            "text/markdown": [
              "0.00487730528882792"
            ],
            "text/plain": [
              "[1] 0.004877305"
            ]
          },
          "metadata": {
            "tags": []
          },
          "output_type": "display_data"
        }
      ],
      "source": [
        "# dbinom: 이항분포의 확률값\n",
        "dbinom(3, 4, 1/9)"
      ]
    },
    {
      "cell_type": "markdown",
      "metadata": {
        "id": "h6Bk5cqCrW-c"
      },
      "source": [
        "[연습문제 10] 프로야구 경기에서 연장전을 할 확률이 0.1이라고 할 때, 다섯 경기에서 적어도 한 경기가 연장전으로 이어질 확률을 이항분포를 적용하여 구하라."
      ]
    },
    {
      "cell_type": "code",
      "execution_count": 39,
      "metadata": {
        "colab": {
          "base_uri": "https://localhost:8080/",
          "height": 51
        },
        "id": "PvJ45YvzreLq",
        "outputId": "95bbd46c-7bb9-402e-fb6c-f78c00e752d2"
      },
      "outputs": [
        {
          "data": {
            "text/html": [
              "0.40951"
            ],
            "text/latex": [
              "0.40951"
            ],
            "text/markdown": [
              "0.40951"
            ],
            "text/plain": [
              "[1] 0.40951"
            ]
          },
          "metadata": {
            "tags": []
          },
          "output_type": "display_data"
        },
        {
          "data": {
            "text/html": [
              "0.40951"
            ],
            "text/latex": [
              "0.40951"
            ],
            "text/markdown": [
              "0.40951"
            ],
            "text/plain": [
              "[1] 0.40951"
            ]
          },
          "metadata": {
            "tags": []
          },
          "output_type": "display_data"
        }
      ],
      "source": [
        "# pbinom: 이항분포의 누적확률값\n",
        "1-pbinom(0, 5, 0.1)\n",
        "pbinom(0, 5, 0.1, lower.tail=FALSE)"
      ]
    },
    {
      "cell_type": "markdown",
      "metadata": {
        "id": "MFlkl6LcSowR"
      },
      "source": [
        "[연습문제 11] 어느 회사에서 휴일 다음날 결근하는 회사원의 수는 평균 2.5명으로 포아송분포를 따른다고 한다."
      ]
    },
    {
      "cell_type": "code",
      "execution_count": 40,
      "metadata": {
        "colab": {
          "base_uri": "https://localhost:8080/",
          "height": 437
        },
        "id": "WyKdwbp1SvzW",
        "outputId": "db288e4d-92ee-40dd-cbea-722bfe164ed5"
      },
      "outputs": [
        {
          "data": {
            "image/png": "[encoded data removed]",
            "text/plain": [
              "Plot with title “X ~ Pois(2.5)”"
            ]
          },
          "metadata": {
            "image/png": {
              "height": 420,
              "width": 420
            },
            "tags": []
          },
          "output_type": "display_data"
        }
      ],
      "source": [
        "y <- dpois(0:10, 2.5)\n",
        "plot(0:10, y, type='h', ylab='probability', xlab='number of absent', main=c('X ~ Pois(2.5)'))"
      ]
    },
    {
      "cell_type": "markdown",
      "metadata": {
        "id": "XkwV5vH2TEhQ"
      },
      "source": [
        "(1) 평균과 분산을 구하라.  \n",
        "☞ 평균 = 분산 = 2.5"
      ]
    },
    {
      "cell_type": "markdown",
      "metadata": {
        "id": "vYxb-P7ETJlA"
      },
      "source": [
        "(2) 어느 휴일 다음 날 5명이 결근할 확률을 구하라."
      ]
    },
    {
      "cell_type": "code",
      "execution_count": 41,
      "metadata": {
        "colab": {
          "base_uri": "https://localhost:8080/",
          "height": 34
        },
        "id": "OE64ugveTN_f",
        "outputId": "b0cbd907-2b32-4ed1-d065-7f262b17dc40"
      },
      "outputs": [
        {
          "data": {
            "text/html": [
              "0.0668009428905426"
            ],
            "text/latex": [
              "0.0668009428905426"
            ],
            "text/markdown": [
              "0.0668009428905426"
            ],
            "text/plain": [
              "[1] 0.06680094"
            ]
          },
          "metadata": {
            "tags": []
          },
          "output_type": "display_data"
        }
      ],
      "source": [
        "# dpois: 포아송분포의 확률값\n",
        "dpois(5, 2.5)"
      ]
    },
    {
      "cell_type": "markdown",
      "metadata": {
        "id": "DFLBM9t6TVsQ"
      },
      "source": [
        "(3) 어느 휴일 다음 날 5명 이상이 결근할 확률을 구하라."
      ]
    },
    {
      "cell_type": "code",
      "execution_count": 42,
      "metadata": {
        "colab": {
          "base_uri": "https://localhost:8080/",
          "height": 51
        },
        "id": "sxz4d5QHTZQR",
        "outputId": "d6ef831a-a6d2-453f-85db-4ab438533e75"
      },
      "outputs": [
        {
          "data": {
            "text/html": [
              "0.108821981085849"
            ],
            "text/latex": [
              "0.108821981085849"
            ],
            "text/markdown": [
              "0.108821981085849"
            ],
            "text/plain": [
              "[1] 0.108822"
            ]
          },
          "metadata": {
            "tags": []
          },
          "output_type": "display_data"
        },
        {
          "data": {
            "text/html": [
              "0.108821981085849"
            ],
            "text/latex": [
              "0.108821981085849"
            ],
            "text/markdown": [
              "0.108821981085849"
            ],
            "text/plain": [
              "[1] 0.108822"
            ]
          },
          "metadata": {
            "tags": []
          },
          "output_type": "display_data"
        }
      ],
      "source": [
        "# ppois: 포아송분포의 누적확률값\n",
        "1-ppois(4, 2.5)\n",
        "ppois(4, 2.5, lower.tail=FALSE)"
      ]
    },
    {
      "cell_type": "markdown",
      "metadata": {
        "id": "896yvfJRTxfw"
      },
      "source": [
        "[연습문제 12] 모평균이 &nbsp;<img src=\"https://latex.codecogs.com/svg.latex?\\mu\" />, 모분산이 &nbsp;<img src=\"https://latex.codecogs.com/svg.latex?\\sigma^2\" />인 임의의 무한모집단에서 추출한 표본크기(n)가 충분히 크면 표본평균은 극한적으로 중심극한정리에 의하여 정규분포로 수렴된다. 이때 정규분포의 형태는?  \n",
        "☞ ① &nbsp;<img src=\"https://latex.codecogs.com/svg.latex?N\\left(\\mu,\\frac{\\sigma^2}{n}\\right)\" />\n"
      ]
    },
    {
      "cell_type": "markdown",
      "metadata": {
        "id": "lKoCd16CV5ZN"
      },
      "source": [
        "[연습문제 13] 12번의 결과를 이용했을 때, 이항분포 B(n, p)를 따르는 X는 n이 충분히 클 때 근사적으로 정규분포의 형태는?  \n",
        "☞ ④ N(np, np(1-p))"
      ]
    },
    {
      "cell_type": "markdown",
      "metadata": {
        "id": "FfkTe3TbWMu3"
      },
      "source": [
        "[연습문제 14] 모분산이 &nbsp;<img src=\"https://latex.codecogs.com/svg.latex?\\sigma^2\" />인 정규모집단에서 추출한 표본크기(n)가 충분히 크면 &nbsp;<img src=\"https://latex.codecogs.com/svg.latex?\\frac{(n-1)S^{2}}{\\sigma^{2}}\" />은 어떤 분포를 따르는가? 단, &nbsp;<img src=\"https://latex.codecogs.com/svg.latex?S^{2}=\\frac{1}{n}\\displaystyle\\sum_{i=1}^{n}(X_{i}-\\bar{X})^{2}\" />  \n",
        "☞ ② 포아송분포"
      ]
    }
  ],
  "metadata": {
    "colab": {
      "authorship_tag": "ABX9TyMLbekJ3TmwJygqh/5eADzl",
      "collapsed_sections": [],
      "include_colab_link": true,
      "name": "제4장 확률분포와 표본분포.ipynb의 사본",
      "provenance": []
    },
    "kernelspec": {
      "display_name": "Python 3",
      "language": "python",
      "name": "python3"
    },
    "language_info": {
      "name": "python",
      "version": "3.12.1"
    }
  },
  "nbformat": 4,
  "nbformat_minor": 0
}
