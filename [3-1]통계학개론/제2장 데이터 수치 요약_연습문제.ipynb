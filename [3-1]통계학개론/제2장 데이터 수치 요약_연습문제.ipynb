{
 "cells": [
  {
   "cell_type": "markdown",
   "id": "2d81dc4e",
   "metadata": {},
   "source": [
    "### 19. 다음은 두 명의 볼링선수가 10회 게임을 하여 그 점수를 기록한 것이다.\n",
    "\n",
    "선수 A: 198, 119, 174, 235, 134, 192, 124, 241, 158, 176\n",
    "선수 B: 196, 159, 162, 178, 188, 169, 173, 183, 177, 152"
   ]
  },
  {
   "cell_type": "markdown",
   "id": "d75c2a52",
   "metadata": {},
   "source": [
    "#### (1) 각 선수의 점수에 대한 평균과 중앙값을 구하라."
   ]
  },
  {
   "cell_type": "code",
   "execution_count": 7,
   "id": "08fdb50f",
   "metadata": {},
   "outputs": [],
   "source": [
    "import pandas as pd\n",
    "\n",
    "# 한글 폰트 설정\n",
    "plt.rcParams['font.family'] = 'Malgun Gothic'\n",
    "plt.rcParams['axes.unicode_minus'] = False"
   ]
  },
  {
   "cell_type": "code",
   "execution_count": 2,
   "id": "3ec83556",
   "metadata": {},
   "outputs": [],
   "source": [
    "# 데이터 입력\n",
    "df_a = pd.DataFrame({'점수': [198, 119, 174, 235, 134, 192, 124, 241, 158, 176]})\n",
    "df_b = pd.DataFrame({'점수': [196, 159, 162, 178, 188, 169, 173, 183, 177, 152]})"
   ]
  },
  {
   "cell_type": "code",
   "execution_count": 3,
   "id": "47d715dd",
   "metadata": {},
   "outputs": [
    {
     "name": "stdout",
     "output_type": "stream",
     "text": [
      "선수 A\n",
      "평균: 175.1\n",
      "중앙값: 175.0\n",
      "\n",
      "선수 B\n",
      "평균: 173.7\n",
      "중앙값: 175.0\n"
     ]
    }
   ],
   "source": [
    "# 평균과 중앙값 출력\n",
    "print(\"선수 A\")\n",
    "print(\"평균:\", df_a['점수'].mean())\n",
    "print(\"중앙값:\", df_a['점수'].median())\n",
    "\n",
    "print(\"\\n선수 B\")\n",
    "print(\"평균:\", df_b['점수'].mean())\n",
    "print(\"중앙값:\", df_b['점수'].median())"
   ]
  },
  {
   "cell_type": "markdown",
   "id": "2c11be87",
   "metadata": {},
   "source": [
    "#### (2) 각 선수의 점수에 대한 표준편차를 구하고, 상자그림을 그려라"
   ]
  },
  {
   "cell_type": "code",
   "execution_count": 5,
   "id": "8e0fed13",
   "metadata": {},
   "outputs": [
    {
     "name": "stdout",
     "output_type": "stream",
     "text": [
      "\n",
      "선수 A\n",
      "표준편차: 42.79524895748748\n",
      "\n",
      "선수 B\n",
      "표준편차: 13.59779393872403\n"
     ]
    }
   ],
   "source": [
    "# 표준편차 구하기\n",
    "print(\"\\n선수 A\")\n",
    "print(\"표준편차:\", df_a['점수'].std())\n",
    "\n",
    "print(\"\\n선수 B\")\n",
    "print(\"표준편차:\", df_b['점수'].std())"
   ]
  },
  {
   "cell_type": "code",
   "execution_count": 9,
   "id": "93d335d8",
   "metadata": {},
   "outputs": [
    {
     "name": "stderr",
     "output_type": "stream",
     "text": [
      "C:\\Users\\barkl\\AppData\\Local\\Temp\\ipykernel_11660\\2242280740.py:3: MatplotlibDeprecationWarning: The 'labels' parameter of boxplot() has been renamed 'tick_labels' since Matplotlib 3.9; support for the old name will be dropped in 3.11.\n",
      "  plt.boxplot([df_a['점수'], df_b['점수']], labels=['선수 A', '선수 B'])\n"
     ]
    },
    {
     "data": {
      "image/png": "[encoded data removed]",
      "text/plain": [
       "<Figure size 640x480 with 1 Axes>"
      ]
     },
     "metadata": {},
     "output_type": "display_data"
    }
   ],
   "source": [
    "# 상자그림 그리기\n",
    "import matplotlib.pyplot as plt\n",
    "plt.boxplot([df_a['점수'], df_b['점수']], labels=['선수 A', '선수 B'])\n",
    "plt.title('볼링 선수 점수 분포')\n",
    "plt.ylabel('점수')\n",
    "plt.show()"
   ]
  },
  {
   "cell_type": "markdown",
   "id": "ac14ee61",
   "metadata": {},
   "source": [
    "#### (3) 누가 더 우수한 선수라고 판단되는가? 그 이유는?\n",
    "\n",
    "평균을 보면 선수 A가 더 우수하지만, 항상 일정한 수준의 점수를 기록한다는 측면에서는 선수 B가 더 우수하다."
   ]
  }
 ],
 "metadata": {
  "kernelspec": {
   "display_name": "Python 3",
   "language": "python",
   "name": "python3"
  },
  "language_info": {
   "codemirror_mode": {
    "name": "ipython",
    "version": 3
   },
   "file_extension": ".py",
   "mimetype": "text/x-python",
   "name": "python",
   "nbconvert_exporter": "python",
   "pygments_lexer": "ipython3",
   "version": "3.13.7"
  }
 },
 "nbformat": 4,
 "nbformat_minor": 5
}
